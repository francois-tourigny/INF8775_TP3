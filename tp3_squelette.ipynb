{
 "cells": [
  {
   "cell_type": "markdown",
   "metadata": {
    "id": "bNG5DI3nlnIA"
   },
   "source": [
    "# INF8775 – Analyse et conception d’algorithmes\n",
    "# TP3 – Automne 2024"
   ]
  },
  {
   "cell_type": "markdown",
   "metadata": {
    "id": "gobfFF2IlnIB"
   },
   "source": [
    "Côté, Gabriel, 2082508\n",
    "\n",
    "Tourigny, François, 2079718"
   ]
  },
  {
   "cell_type": "markdown",
   "metadata": {
    "id": "E9CyGQLAlnIC"
   },
   "source": [
    "Note finale:"
   ]
  },
  {
   "cell_type": "markdown",
   "metadata": {
    "id": "YYmoxM0BlnIC"
   },
   "source": [
    "<u>**Date limite de remise :**</u>  4 décembre 23h59 pour les deux groupes"
   ]
  },
  {
   "cell_type": "markdown",
   "metadata": {
    "id": "5HEd-K_glnID"
   },
   "source": [
    "# Instructions\n",
    "\n",
    "## Rédaction et remise du rapport\n",
    "\n",
    "- Ce notebook constitue à la fois le sujet du TP, votre code et votre rapport. Il contient déjà du code pour faciliter vos mesures et l'affichage de vos résultats, ainsi qu'un squelette pour votre rapport.\n",
    "\n",
    "- Complétez directement le notebook, vous êtes libres de créer des nouvelles cellules de code ou de texte.\n",
    "\n",
    "- Vous pouvez utiliser des fichiers externes pour stocker des exemplaires et des résultats, mais nous devons être capable de comprendre facilement votre démarche et de la reproduire.\n",
    "\n",
    "- <u>**IMPORTANT**</u> Remettez le fichier du notebook sur Moodle avec le nom `MATRICULE1_MATRICULE2.ipynb`\n",
    "\n",
    "- Vous pouvez inclure du code trouvé sur Internet, mais vous devez en mentionner la source, sous peine d'être sanctionnés pour plagiat.\n",
    "\n",
    "## Mise en situation\n",
    "\n",
    "Ce travail pratique se répartit sur deux séances de laboratoire et est une occasion de mettre en application les connaissances vues en cours. Vous devrez développer l'algorithme de votre choix pour essayer de résoudre le plus efficacement possible le problème donné. Une partie de la note sera accordée en fonction des résultats que vous obtiendrez par rapport aux autres équipes.\n",
    "\n",
    "## Description du problème\n",
    "\n",
    "Le problème qu'on vous demande de résoudre cette fois-ci est un peu plus difficile. Vous êtes responsable de la séparation des voteurs d'un pays en circonscriptions. Un des deux candidats principaux, M. T, vient vous voir et vous demande de lui garantir une victoire (pour un montant non négligeable d'argent). Évidemment, vous refusez, mais le problème est intéressant et vous décidez d'essayez de le résoudre. Si ça vous intéresse, ce problème est ce qu'on appelle du *gerrymandering*.\n",
    "\n",
    "Vous aurez comme entrée à votre problème une carte du pays (représentée par une matrice carrée $n \\times n$) qui contient à chaque position le nombre de voteurs pour candidat X (un chiffre entre 0 et 1000). Votre objectif est de créer $n$ circonscriptions de sorte à ce que candidat X gagne l'élection. Quelques spécifications importantes:\n",
    "\n",
    "- La variable $n$ représente un côté de la matrice. Il y a donc, $n^2$ villes.\n",
    "- Chaque position de la matrice représente une ville\n",
    "- Chaque circonscription doit contenir **$n$ villes**. Une solution reste valide si une circonscription ne contient pas exactement $n$ villes, mais il y a une **pénalité** qui y est associée.\n",
    "- Les villes d'une circonscription doivent être proche les unes des autres. On aimerait garder cette **distance à, au plus, $n/2$**. Encore une fois, on permet de briser cette contrainte, mais il y aura une pénalité qui y est associée. (**Distance manhattan**)\n",
    "- Les villes d'une circonscription ne doivent **pas être nécessairement voisines** tant qu'on respecte la distance maximale. Voir l'exemple plus bas.\n",
    "- Le candidat remporte une circonscription si le nombre de voteurs dans cette circonscription est supérieur à $500n$.\n",
    "- Le candidat cherche à remporter le plus de circonscriptions qu'il peut.\n",
    "\n",
    "![alt text](distance_example.png)"
   ]
  },
  {
   "cell_type": "markdown",
   "metadata": {
    "id": "XqG5rRjSlnIE"
   },
   "source": [
    "\n",
    "## Jeu de données\n",
    "\n",
    "La classe Problem existe pour simplifier l'interface des différentes fonctions utilitaires. Elle permet de générer des jeux de données avec la méthode `generate_sample` ci-dessous. Elle génère une matrice carrée de taille $n$ contenant des nombres entre $1$ et $1000$. Vous pouvez utilisez des exemplaires aléatoires pour tester votre code. La compétition sera faite sur les mêmes exemplaires de tailles différentes pour toutes les équipes d'un même groupe."
   ]
  },
  {
   "cell_type": "code",
   "execution_count": 1,
   "metadata": {
    "id": "h9ZlrNOBlnIF"
   },
   "outputs": [],
   "source": [
    "import random\n",
    "from collections.abc import Iterable\n",
    "\n",
    "def generate_city() -> int:\n",
    "    return round(min(1000,max(0,random.normalvariate(450,200))))\n",
    "\n",
    "class Problem():\n",
    "    def __init__(self, size: int, num_samples: int = 5) -> None:\n",
    "        self.size = size\n",
    "        self.num_samples = num_samples\n",
    "\n",
    "    def generate_sample(self) -> list[list[int]]:\n",
    "        \"\"\"Returns a matrix containing values between 0 and 1000. Each value is the number of voters in a given city\"\"\"\n",
    "        return [[generate_city() for _ in range(self.size)] for _ in range(self.size)]\n",
    "\n",
    "    def generate_dataset(self) -> Iterable[list[list[int]]]:\n",
    "        \"\"\"Returns an iterator over as many samples as are described\"\"\"\n",
    "        return (self.generate_sample() for _ in range(self.num_samples))"
   ]
  },
  {
   "cell_type": "markdown",
   "metadata": {
    "id": "XAvab0yKlnIG"
   },
   "source": [
    "# Implantations et expérimentations"
   ]
  },
  {
   "cell_type": "markdown",
   "metadata": {
    "id": "1U7ktXeVlnIG"
   },
   "source": [
    "Ces fonctions auxiliaires vous sont fournies pour vérifier l'exactitude des vos algorithmes, mesurer leurs performance et afficher vos résultats.\n",
    "\n",
    "Il est recommandé de prendre le temps de lire et comprendre le code.\n",
    "\n",
    "Exécutez la cellule ci-dessous pour pouvoir utiliser les fonctions auxiliaires."
   ]
  },
  {
   "cell_type": "code",
   "execution_count": 2,
   "metadata": {
    "id": "7pWvysBtlnIH"
   },
   "outputs": [],
   "source": [
    "import matplotlib.pyplot as plt\n",
    "import time\n",
    "from collections.abc import Callable\n",
    "from math import ceil\n",
    "import math\n",
    "from scipy.stats import linregress\n",
    "import numpy as np\n",
    "from tqdm import trange\n",
    "\n",
    "class InvalidSolution(Exception):\n",
    "    def __init__(self):\n",
    "        super().__init__(\"Invalid solution, verify your code.\")\n",
    "\n",
    "class Measure():\n",
    "    \"\"\"A wrapper to contain information on taken measures\"\"\"\n",
    "    def __init__(self, size: int, mean: int, score:int) -> None:\n",
    "        self.size = size\n",
    "        self.mean_score = score\n",
    "        self.mean = mean\n",
    "\n",
    "def score_solution(original: list[list[int]], solution: list[list[tuple[int,int]]]) -> int:\n",
    "    \"\"\"Returns the score of the current solution. The score function is a penalty that must be minimized.\"\"\"\n",
    "    return votes_score(original, solution) + size_score(solution) + distance_score(solution)\n",
    "\n",
    "def votes_score(original: list[list[int]], solution: list[list[tuple[int,int]]]) -> int:\n",
    "    \"\"\"Calculates the part of the score associated to lost districts. \n",
    "    It is 5 times the square of the number of lost districts.\"\"\"\n",
    "    lost_districts = 0\n",
    "    for district in solution:\n",
    "        sum = 0\n",
    "        for city in district:\n",
    "            sum += original[city[0]][city[1]]\n",
    "        if sum <= 500*len(district):\n",
    "            lost_districts += 1\n",
    "    return 5 * lost_districts**2\n",
    "\n",
    "def size_score(solution: list[list[tuple[int,int]]]) -> int:\n",
    "    \"\"\"Calculates the part of the score associated to districts having the wrong size.\n",
    "    It is the square of the difference between the wanted number of cities and the \n",
    "    current number of cities in a given district.\"\"\"\n",
    "    n = len(solution)\n",
    "    size_penality = 0\n",
    "    for district in solution:\n",
    "        size_penality += (len(district)-n)**2\n",
    "    return size_penality\n",
    "\n",
    "def distance_score(solution: list[list[tuple[int,int]]]) -> int:\n",
    "    \"\"\"Calculates the part of the score associated to the distance between cities in a district.\n",
    "    It is the mean square distance between each city and every other city in its district.\"\"\"\n",
    "    distance_score = 0\n",
    "    n = len(solution)\n",
    "    for district in solution:\n",
    "        for i,city in enumerate(district):\n",
    "            for j in range(i+1, len(district)):\n",
    "                distance_score += (max(0, distance_manhattan(city, district[j])-ceil(n/2)))**2\n",
    "    return distance_score/len(solution)\n",
    "\n",
    "def distance_manhattan(city_a: tuple[int,int], city_b: tuple[int,int]) -> int:\n",
    "    return abs(city_a[0] - city_b[0]) + abs(city_a[1] - city_b[1])\n",
    "\n",
    "def is_valid_solution(original: list[list[int]], solution: list[list[tuple[int,int]]]) -> bool:\n",
    "    \"\"\"Validates solution\"\"\"\n",
    "    n = len(original)\n",
    "\n",
    "    if len(solution) != n:\n",
    "        print(f\"The solution does not contain {n} districts.\")\n",
    "        return False\n",
    "\n",
    "    for district in solution:\n",
    "        if len(district) < 1:\n",
    "            print(\"The solution contains empty districts.\")\n",
    "            return False\n",
    "        for city in district:\n",
    "            if len(city)!=2:\n",
    "                print(\"Solution must contain 2 coordinates per city.\")\n",
    "                return False\n",
    "        for coord in city:\n",
    "            if coord < 0 or coord >=n:\n",
    "                print(f\"City coordinates must below {n} and positive.\")\n",
    "                return False\n",
    "\n",
    "    coord_set = set()\n",
    "    for district in solution:\n",
    "        for city in district:\n",
    "            coord_set.add(city)\n",
    "    if len(coord_set) != n*n:\n",
    "        print(f\"Solution contained {len(coord_set)} different cities while there should be {n*n} cities in the solution.\")\n",
    "        return False\n",
    "\n",
    "    # Solution is valid\n",
    "    return True\n",
    "\n",
    "def make_problems(sizes: list[int], num_samples: int = 5) -> list[Problem]:\n",
    "    \"\"\"Creates problem instances using given sizes and max_numbers\"\"\"\n",
    "    return [Problem(size,num_samples) for size in sizes]\n",
    "\n",
    "def measure(procedure: Callable[[list[list[int]]],list[list[tuple[int,int]]]], sample: list[list[int]], time_scale: int = 1000) -> tuple[int,int]:\n",
    "    \"\"\"Returns a tuple containing the time as well as the score of the solution, in that order.\n",
    "    \n",
    "    Parameters:\n",
    "        time_scale: Controls the level of precision of the time measurements.\n",
    "\n",
    "    Raises:\n",
    "        InvalidSolution: If the procedure returns an invalid solution, raises an exception.\n",
    "    \"\"\"\n",
    "    start: int = time.time() * time_scale\n",
    "    solution: list[int] = procedure(sample)\n",
    "    end: int = time.time() * time_scale\n",
    "    if not is_valid_solution(sample, solution):\n",
    "        raise InvalidSolution()\n",
    "    return (round(end - start), score_solution(sample, solution))\n",
    "\n",
    "def measure_mean(procedure: Callable[[list[list[int]]],list[list[tuple[int,int]]]], prob: Problem, time_scale: int = 1000) -> Measure:\n",
    "    \"\"\"Generates multiple samples with the specified parameters and returns a Measure \n",
    "    instance representing the result as well as the problem.\n",
    "\n",
    "    Raises:\n",
    "        InvalidSolution: If one of the samples results in an invalid solution.\n",
    "    \"\"\"\n",
    "    results = [measure(procedure,sample,time_scale) for sample in prob.generate_dataset()]\n",
    "    mean_time = sum(result[0] for result in results) / prob.num_samples\n",
    "    mean_score = sum(result[1] for result in results) / prob.num_samples\n",
    "    return Measure(prob.size, mean_time, mean_score)\n",
    "\n",
    "def measure_range(procedure: Callable[[list[list[int]]],list[list[tuple[int,int]]]], problems: list[Problem], time_scale: int = 1000) -> list[Measure]:\n",
    "    \"\"\"Measures the mean time taken for each problem in the given list.\n",
    "\n",
    "    Raises:\n",
    "        InvalidSolution: If one of the samples results in an invalid solution.\n",
    "\n",
    "    Returns:\n",
    "        A list of Measure instances containing the specifications\n",
    "        of the problem as well as the mean time and the score.\n",
    "    \"\"\"\n",
    "    return [\n",
    "        measure_mean(procedure, prob, time_scale)\n",
    "        for prob in problems\n",
    "    ]\n",
    "\n",
    "def display_data_as_table(measures: list[Measure]):\n",
    "    \"\"\"Prints a table with the data in the given list of measures\"\"\"\n",
    "    print(\"{: <12} {: <12} {: <12}\".format(\"Taille\", \"Temps moyen\", \"Score moyen\"))\n",
    "    for measure in measures:\n",
    "        print(\"{: <12} {: <12} {: <12}\".format(measure.size, measure.mean, measure.mean_score))\n",
    "\n",
    "### The different tests are below, the names are in french to avoid confusion\n",
    "\n",
    "def test_de_puissance(\n",
    "    data: dict[int,int],\n",
    "    x_label: str,\n",
    "    y_label: str,\n",
    "    title: str = \"Test de puissance\"\n",
    "):\n",
    "    \"\"\"Takes the data and displays it into the corresponding test graph.\n",
    "    It applies no transformations to the data.\n",
    "\n",
    "    Args:\n",
    "        data (dict[int,int]): A dictionnary mapping the x variable to the y variable\n",
    "    \"\"\"\n",
    "    # Log both sets of values\n",
    "    x = list(data.keys())\n",
    "    y = list(data.values())\n",
    "\n",
    "    # Perform the lin regression\n",
    "    m, b, rvalue, _, _ = linregress(x, y)\n",
    "\n",
    "    # Estimate the values of y based on the lin regression results\n",
    "    predicted = [m * iter + b for iter in x]\n",
    "\n",
    "    # Create the line equation\n",
    "    line_eq = f\"y = {m:.2f}x + {b:.2f}\"\n",
    "\n",
    "    # Plot the points\n",
    "    plt.scatter(x, y, label='Mesures')\n",
    "\n",
    "    # Plot the regression line\n",
    "    plt.plot(x, predicted, color=\"red\", label=f'Regression linéaire R²={round(rvalue**2,6)}')\n",
    "\n",
    "    # Add labels and title\n",
    "    plt.xlabel(x_label)\n",
    "    plt.ylabel(y_label)\n",
    "    plt.title(title)\n",
    "\n",
    "    # Add legend\n",
    "    plt.legend(bbox_to_anchor=(0.60, 0), loc='lower left')\n",
    "\n",
    "    # Display the line equation\n",
    "    plt.text(min(x), max(y), line_eq)\n",
    "\n",
    "    # Show the plot\n",
    "    plt.show()\n",
    "\n",
    "def test_de_rapport(\n",
    "    data: dict[int,int],\n",
    "    x_label: str,\n",
    "    y_label: str,\n",
    "    title: str = \"Test de rapport\"\n",
    "):\n",
    "    \"\"\"Takes the data and displays it into the corresponding test graph.\n",
    "    It applies no transformations to the data.\n",
    "\n",
    "    Args:\n",
    "        data (dict[int,int]): A dictionnary mapping the x variable to the y variable\n",
    "    \"\"\"\n",
    "    x = list(data.keys())\n",
    "    y = list(data.values())\n",
    "\n",
    "    plt.plot(x, y, label='Mesures')\n",
    "    plt.scatter(x, y, label='Mesures')\n",
    "\n",
    "    # Add labels and title\n",
    "    plt.xlabel(x_label)\n",
    "    plt.ylabel(y_label)\n",
    "    plt.title(title)\n",
    "    plt.show()\n",
    "\n",
    "def test_de_constantes(\n",
    "    data: dict[int,int],\n",
    "    x_label: str,\n",
    "    y_label: str = \"Temps (ms)\",\n",
    "    title: str = \"Test de constantes\"\n",
    "):\n",
    "    \"\"\"Takes the data and displays it into the corresponding test graph.\n",
    "    It applies no transformations to the data.\n",
    "\n",
    "    Args:\n",
    "        data (dict[int,int]): A dictionnary mapping the x variable to the y variable\n",
    "    \"\"\"\n",
    "    x = list(data.keys())\n",
    "    y = list(data.values())\n",
    "\n",
    "    # Perform linear regression\n",
    "    m, b, rvalue, _, _ = linregress(x, y)\n",
    "\n",
    "    predicted = [m * iter + b for iter in x]\n",
    "\n",
    "    # Create the line equation\n",
    "    line_eq = f\"y = {m:.2E}x + {b:.2E}\"\n",
    "\n",
    "    # Plot the points\n",
    "    plt.scatter(x, y, label='Mesures')\n",
    "\n",
    "    # Plot the regression line\n",
    "    plt.plot(x, predicted, color=\"red\", label=f'Regression linéaire R²={round(rvalue**2,6)}')\n",
    "\n",
    "    # Add labels and title\n",
    "    plt.xlabel(x_label)\n",
    "    plt.ylabel(y_label)\n",
    "    plt.title(title)\n",
    "\n",
    "    # Add legend\n",
    "    plt.legend(bbox_to_anchor=(0.60, 0), loc='lower left')\n",
    "\n",
    "    # Display the line equation\n",
    "    plt.text(min(x), max(y), line_eq)\n",
    "\n",
    "    # Show the plot\n",
    "    plt.show()"
   ]
  },
  {
   "cell_type": "markdown",
   "metadata": {
    "id": "telzEIacsEF6"
   },
   "source": [
    "# Algorithme"
   ]
  },
  {
   "cell_type": "markdown",
   "metadata": {
    "id": "2TXfOnFLuBG2"
   },
   "source": [
    "Votre algorithme sera en partie noté en fonction d'une évaluation relative entre les équipes. 4 points seront donnés aux équipes qui se classeront dans le premier quartile lors de notre évaluation sur un ensemble d'exemplaires. Les équipes se trouvant dans le quartile dont les algorithmes ont le moins bien performé recevront 1 point.\n",
    "\n",
    "**IMPORTANT** Votre algo doit retourner une solution après 3 minutes. Si ce n'est pas le cas, vous serez pénalisé."
   ]
  },
  {
   "cell_type": "code",
   "execution_count": 3,
   "metadata": {},
   "outputs": [],
   "source": [
    "class County():\n",
    "    def __init__(self, row: int, col: int, pos: int, voters: int) -> None:\n",
    "        self.row = row\n",
    "        self.col = col\n",
    "        self.pos = pos\n",
    "        self.voters = voters\n",
    "        self.neighbors = []\n",
    "        self.group = -1\n",
    "\n",
    "    def add_neighbor(self, neighbor):\n",
    "        self.neighbors.append(neighbor)\n",
    "\n",
    "    def get_neighbours(self):\n",
    "        return self.neighbors\n",
    "    \n",
    "    def set_group(self, group: int):\n",
    "        self.group = group\n",
    "    \n",
    "    def get_group(self):\n",
    "        return self.group\n",
    "    \n",
    "    def is_in_group(self):\n",
    "        return self.group != -1\n"
   ]
  },
  {
   "cell_type": "code",
   "execution_count": 4,
   "metadata": {},
   "outputs": [],
   "source": [
    "def get_neighbours_idx(idx, n):\n",
    "    neighbours = []\n",
    "    if idx - n > 0:\n",
    "        neighbours.append(idx-n)\n",
    "    if idx + n < n**2:\n",
    "        neighbours.append(idx+n)\n",
    "    if idx // n == (idx-1) // n:\n",
    "        neighbours.append(idx-1)\n",
    "    if idx // n == (idx+1) // n:\n",
    "        neighbours.append(idx+1)\n",
    "    return neighbours\n",
    "\n",
    "def set_counties(sample) -> list[County]:\n",
    "    n = len(sample)\n",
    "    counties = [County(i, j, i*n+j, county) for i, line in enumerate(sample) for j, county in enumerate(line)]\n",
    "    for county in counties:\n",
    "        for neighbor_idx in get_neighbours_idx(county.pos, n):\n",
    "            county.add_neighbor(counties[neighbor_idx])\n",
    "    return counties\n"
   ]
  },
  {
   "cell_type": "code",
   "execution_count": 5,
   "metadata": {},
   "outputs": [],
   "source": [
    "def distance(county_row, county_col, center_row, center_col, n):\n",
    "    return (abs(center_row - county_row) + abs(center_col - county_col))\n",
    "    \n",
    "def max_to_target(counties: list[County], target: int, n: int):\n",
    "    solution = []\n",
    "    counties_available = counties\n",
    "    groups = []\n",
    "    groups_center = []\n",
    "    center_row = 0\n",
    "    center_col = 0\n",
    "    for group_id in trange(n):\n",
    "        new_group = []\n",
    "        number_items = 0\n",
    "        center_row = 0\n",
    "        center_col = 0\n",
    "        group_neighbors = []\n",
    "        while len(new_group) < n:\n",
    "            selection = None\n",
    "            if len(group_neighbors) == 0:\n",
    "                selection = max(counties_available, key=lambda county: county.voters/n - distance(county.row, county.col, center_row, center_col, n)**2/n)\n",
    "            elif sum(county.voters for county in new_group) < target:\n",
    "                selection = max(group_neighbors, key=lambda county: county.voters/n - distance(county.row, county.col, center_row, center_col, n)**2/n)\n",
    "                #selection = random.choice(group_neighbors)\n",
    "            else:\n",
    "                selection = min(group_neighbors, key=lambda county: county.voters/n + distance(county.row, county.col, center_row, center_col, n)**2/n)\n",
    "\n",
    "            new_group.append(selection)\n",
    "            center_row = (center_row * number_items + selection.row) / (number_items + 1)\n",
    "            center_col = (center_col * number_items + selection.col) / (number_items + 1)\n",
    "            number_items += 1\n",
    "            selection.set_group(group_id)\n",
    "            \n",
    "            group_neighbors.extend([neighbor for neighbor in selection.neighbors if not neighbor.is_in_group() and not neighbor in group_neighbors])\n",
    "            counties_available.remove(selection)\n",
    "            if selection in group_neighbors:\n",
    "                group_neighbors.remove(selection)\n",
    "            \n",
    "        groups.append(new_group)\n",
    "        groups_center.append((center_row, center_col))\n",
    "        solution.append([(county.row, county.col) for county in new_group])\n",
    "    return solution, groups\n",
    "\n"
   ]
  },
  {
   "cell_type": "code",
   "execution_count": 6,
   "metadata": {},
   "outputs": [],
   "source": [
    "\n",
    "def main(sample):\n",
    "    start_time = time.time()\n",
    "    max_time = 60 * 3 - 1\n",
    "    n = len(sample)\n",
    "    target = 500 * n\n",
    "    counties = set_counties(sample)\n",
    "    print('initial solution')\n",
    "    sol, groups = max_to_target(counties, target, n)\n",
    "    if (time.time() - start_time) > max_time:\n",
    "        return sol\n",
    "    print(\"--- %s seconds for solution baseline ---\" % (time.time() - start_time))\n",
    "\n",
    "    #print('vote score: ', votes_score(sample, sol))\n",
    "    #print('size score: ', size_score(sol))\n",
    "    #print('distance score: ', distance_score(sol))\n",
    "    #print('intial score: ',score_solution(sample, sol))\n",
    "    #drawmap_of_discrits(n, sol)\n",
    "    first_iter = True\n",
    "    iter_time = time.time()\n",
    "    time_to_iter = 0\n",
    "    print('improvement')\n",
    "    while(True):\n",
    "        updated = amelioration_locale(groups, target, n, sample, sol)\n",
    "        sol = updated\n",
    "\n",
    "        if (time.time() - start_time) > max_time - time_to_iter:\n",
    "            return sol\n",
    "        if(first_iter):\n",
    "            first_iter = False\n",
    "            time_to_iter = (time.time() - iter_time)\n",
    "\n",
    "    #print(\" ---------------- AFTER UPDATE -----------------\")\n",
    "    #print('vote score: ', votes_score(sample, sol))\n",
    "    #print('size score: ', size_score(sol))\n",
    "    #print('distance score: ', distance_score(sol))\n",
    "    #print('total score: ', score_solution(sample, sol))\n",
    "    #drawmap_of_discrits(n, sol)\n",
    "    return sol\n",
    "\n",
    "\n",
    "def amelioration_locale(divisions, target, n, sample, sol):\n",
    "    #init_score = score_solution(sample, sol)\n",
    "    div_votes = [sum(county.voters for county in div) for div in divisions]\n",
    "    groups_center = [(sum(county.row for county in div)/n, sum(county.col for county in div)/n) for div in divisions]\n",
    "\n",
    "    #selected_div_idx = div_votes.index(max(div for div in div_votes if div < target))\n",
    "    #selected_div_idx = divisions.index(random.choice([div for div in divisions if sum(county.voters for county in div) < target]))\n",
    "    selected_div_idx = divisions.index(random.choice(divisions))\n",
    "    #selected_div_idx = div_votes.index(min(div_votes))\n",
    "\n",
    "    selected_div = divisions[selected_div_idx]\n",
    "    center_swap_group_row = groups_center[selected_div_idx][0]\n",
    "    center_swap_group_col = groups_center[selected_div_idx][1]\n",
    "\n",
    "    modified_selected_div = [county.voters + distance(center_swap_group_row, center_swap_group_col, county.row, county.col, n) for county in selected_div]\n",
    "    county_to_swap_idx = modified_selected_div.index(min(modified_selected_div))\n",
    "    county_to_swap = divisions[selected_div_idx][county_to_swap_idx]\n",
    "    #print('county to swap: ', county_to_swap.pos)\n",
    "    differential_needed = target - county_to_swap.voters\n",
    "    distance_div_swap = distance(center_swap_group_row, center_swap_group_col, county_to_swap.row, county_to_swap.col, n)\n",
    "\n",
    "    swap_scores = {}\n",
    "    for div_idx in range(len(divisions)):\n",
    "        if div_idx == selected_div_idx:\n",
    "            continue\n",
    "\n",
    "        votes_to_spare = div_votes[div_idx] - target\n",
    "        if votes_to_spare <= 0:\n",
    "            votes_to_spare = target\n",
    "        \n",
    "        div_center_row = groups_center[div_idx][0]\n",
    "        div_center_col = groups_center[div_idx][1]\n",
    "        distance_div_swap_new_group = distance(div_center_row, div_center_col, county_to_swap.row, county_to_swap.col, n)\n",
    "\n",
    "        for county_idx, county in enumerate(divisions[div_idx]):\n",
    "            if county.voters - county_to_swap.voters > votes_to_spare:\n",
    "                continue\n",
    "            dist_county_curr_group = distance(div_center_row, div_center_col, county.row, county.col, n)\n",
    "            dist_county_swap_group = distance(center_swap_group_row, center_swap_group_col, county.row, county.col, n)\n",
    "            score_voters =  (county.voters/n - county_to_swap.voters/n) + (0 if county.voters - county_to_swap.voters < differential_needed else target)\n",
    "            score_distance = (dist_county_curr_group + distance_div_swap) - (dist_county_swap_group + distance_div_swap_new_group)\n",
    "            swap_scores[county.pos] = score_voters + n * score_distance\n",
    "\n",
    "    #print(swap_scores)\n",
    "    if len(swap_scores) == 0:\n",
    "        return sol\n",
    "    switch_county_pos = max(swap_scores, key=swap_scores.get)\n",
    "    if swap_scores[switch_county_pos] < 0:\n",
    "        return sol\n",
    "    #print(switch_county_pos)\n",
    "    switch_county_row = switch_county_pos // n\n",
    "    switch_county_col = switch_county_pos % n\n",
    "\n",
    "    div_switch_idx = -1\n",
    "    pos_pair_switch = (switch_county_row, switch_county_col)\n",
    "    for div_idx in range(len(divisions)):\n",
    "        if pos_pair_switch in sol[div_idx]:\n",
    "            div_switch_idx = div_idx\n",
    "    \n",
    "    #update solution\n",
    "    sol[div_switch_idx].remove(pos_pair_switch)\n",
    "    sol[div_switch_idx].append((county_to_swap.row, county_to_swap.col))\n",
    "\n",
    "    sol[selected_div_idx].append(pos_pair_switch)\n",
    "    sol[selected_div_idx].remove((county_to_swap.row, county_to_swap.col))\n",
    "\n",
    "    #update divisions\n",
    "    divisions[selected_div_idx].remove(county_to_swap)\n",
    "    pos_arr = [div.pos for div in divisions[div_switch_idx]]\n",
    "\n",
    "    idx_select = pos_arr.index(switch_county_pos)\n",
    "    switch = divisions[div_switch_idx][idx_select]\n",
    "    divisions[selected_div_idx].append(switch)\n",
    "\n",
    "    divisions[div_switch_idx].append(county_to_swap)\n",
    "    divisions[div_switch_idx].remove(switch)\n",
    "\n",
    "    #print('new score: ',score_solution(sample, sol))\n",
    "    #drawmap_of_discrits(n, sol)\n",
    "    return sol\n",
    "    \n",
    "\n",
    "\n"
   ]
  },
  {
   "cell_type": "code",
   "execution_count": 7,
   "metadata": {},
   "outputs": [
    {
     "name": "stdout",
     "output_type": "stream",
     "text": [
      "initial solution\n"
     ]
    },
    {
     "name": "stderr",
     "output_type": "stream",
     "text": [
      "100%|██████████| 100/100 [00:02<00:00, 47.49it/s]\n"
     ]
    },
    {
     "name": "stdout",
     "output_type": "stream",
     "text": [
      "--- 2.1871838569641113 seconds for solution baseline ---\n",
      "improvement\n",
      "Taille       Temps moyen  Score moyen \n",
      "100          179004.0     15125.0     \n"
     ]
    }
   ],
   "source": [
    "resultats = measure_range(main, make_problems([100], 1) )\n",
    "\n",
    "display_data_as_table(resultats)"
   ]
  },
  {
   "cell_type": "code",
   "execution_count": 8,
   "metadata": {},
   "outputs": [],
   "source": [
    "def drawmap_of_discrits(n, discrits: list[list[tuple[int,int]]]):\n",
    "    colors = [[0 for _ in range(n)] for _ in range(n)]\n",
    "    for i,district in enumerate(discrits):\n",
    "        for city in district:\n",
    "            colors[city[0]][city[1]] = i+1\n",
    "\n",
    "    plt.imshow(colors, cmap='tab20')\n",
    "    plt.show()\n"
   ]
  },
  {
   "cell_type": "markdown",
   "metadata": {
    "id": "oFVvMwGpt_Vu"
   },
   "source": [
    "# Analyse asymptotique\n",
    "\n",
    "Notre algorithme se sépare en 3 grande sections. La première d'entre elle est la création des objets County avoir leur voisinage. La seconde section est la génération d'une séparation initiale et la dernière partie est une amélioration locale.\n",
    "\n",
    "# Création des County\n",
    "Commençons par la création des County. La création se sépare en 2 phases, la première est de créer chaque County qui se fait en temps constant pour les n² éléments donc ceci nous donne theta(n²). La seconde étape de création est de passer par chacun des County créés et placer leur voisins qui sont au nombre maximal de 4 donc nous avons une complexité de theta(4*n²) qui est dans le même ordre de grandeur que theta(n²). Bref, la création des objets County se fait en theta(n² + n²) ce qui veut dire une complexité de theta(n²).\n",
    "\n",
    "# Séparation initiale\n",
    "La deuxième portion de notre algorithme est un algorithme glouton qui fait une répartion des County en n groupes. Dans chacun des n groupes, on fait n fois la recherche d'un prochain élément. Dans cette recherche de prochain élément, nous avons 2 choix qui sont de faire une rechreche parmis les voisins s'il y en a et sinon parmis tout les County qui ne sont pas déjà choisis dans un groupe. Dans le pire des cas, nous avons n² choix pour notre recherche de la valeur maximale. Bien que nous savons que la grande majorité des fois cette recherche est plutôt dans un ordre de grandeur n, le pire cas est n² donc nous mettons n² pour l'analyse théorique. Ce qui nous donne une complexité de theta(n\\*n\\*n²) ceci équivaut à une complexité de theta(n⁴).\n",
    "\n",
    "# Amélioration locale\n",
    "La dernière partie est une amélioration locale. L'amélioration se fait en plusieurs sections successives. La première de ces sections de l'amélioration locale est de calculer le centre du groupe nous avons n appels de la distance pour chacun des n groupes ce qui fait au total n² appels de la distance qui est un calcul en temps constant. Cette première partie de l'amélioration locale est donc en theta(n²\\*1) donc theta(n²).\n",
    "La seconde partie de l'amélioration locale est la sélection d'un County à échanger qui est en theta(n) pour le choix du groupe dans lequel prendre le County à échanger puis de theta(n) pour choisir le County parmis le groupe choisi. Ceci nous theta(n+n) donc theta(n) pour la sélection du County à échanger. Nous devons ensuite sélectionner le County avec lequel le premier chois sera échangé. Pour tous les County qui ne sont pas dans le groupe initial, nous générons un score de préférence pour faire l'échange avec le County choisi initialement. Ce calcul de score est en temps constant pour les au maximum n² County possibles pour faire un échange. Bref, le choix du second County pour l'échange se fait en theta(n²\\*1) ce qui donne theta(n²).\n",
    "Finalement, pour l'amélioration locale, nous avons l'échange des deux éléments qui se fait en temps constant theta(1).\n",
    "Notre section d'amélioration locale se fait donc avec la complexité suivante theta(n²+n²+1) ce qui nous donne theta(n²)\n",
    "La section d'amélioration locale est exécutée tant que du temps est disponible (avec une marge de sureté), mais ultimement le nombre d'exécutions peut être comme indépendant de n.\n",
    "\n",
    "# Algorithme complet\n",
    "Pour notre algorithme complet, nous pouvons additionner la complexité théorique de nos sections, car elle sont exécutées l'une à la suite de l'autre.\n",
    "Nous avons donc theta(n²+n⁴+n²) ce qui nous donne une complexitée finale de theta(n⁴)"
   ]
  },
  {
   "cell_type": "markdown",
   "metadata": {
    "id": "2z6hz2LWt_w-"
   },
   "source": [
    "# Analyse hybride\n",
    "\n",
    "\n",
    "PAS faire le test de constante (pour deux variable et on a pas)\n",
    "Faire le test de puissance (faire en log log comme échelle) On devrait voir la valeur 4x\n",
    "On peut utiliser un test de rapport pour confirmer le test de puissance\n",
    "Faire le test de rapport en dernier si tout fonctionne\n",
    "\n",
    "\n",
    "Expliquer l'utilisation de chacun des graphiques, expliquer en quoi le graphique justifie la complexité et pourquoi ne pas utiliser certain graphiques.\n",
    "\n",
    "Effectuer une analyse hybride de votre algorithme."
   ]
  },
  {
   "cell_type": "code",
   "execution_count": null,
   "metadata": {},
   "outputs": [],
   "source": [
    "# On s'assure de générer toujours les mêmes problèmes pour pouvoir comparer les parties d'algorithme\n",
    "problems = make_problems([x for x in range(11, 61)], 10)"
   ]
  },
  {
   "cell_type": "markdown",
   "metadata": {},
   "source": [
    "### Algorithme greedy"
   ]
  },
  {
   "cell_type": "markdown",
   "metadata": {},
   "source": [
    "#### Isolation de la solution greedy\n",
    "\n",
    "Ici, on réécris notre algorithme sans l'amélioration locale, pour évaluer la complexité de notre solution initiale. Si on se souviens bien, notre hypothèse était une complexité d'au plus theta n^4 "
   ]
  },
  {
   "cell_type": "code",
   "execution_count": 10,
   "metadata": {},
   "outputs": [],
   "source": [
    "# On réécris certaines fonctions pour pouvoir les évaluer individuellement sans contrainte de temps maximum\n",
    "\n",
    "def main_greedy(sample):\n",
    "    start_time = time.time()\n",
    "    n = len(sample)\n",
    "    target = 500 * n\n",
    "    counties = set_counties(sample)\n",
    "    print('initial solution')\n",
    "    sol, groups = max_to_target(counties, target, n)\n",
    "    print(\"--- %s seconds for solution baseline ---\" % (time.time() - start_time))\n",
    "    return sol\n",
    "    "
   ]
  },
  {
   "cell_type": "markdown",
   "metadata": {},
   "source": [
    "#### Génération de moyennes\n",
    "\n",
    "Ici on génère les moyennes de temps et de score pour chaque grandeur de n. On calcule à partir de n = 11 pour éviter le plus possible les problèmes de temps moyen inconsistant quand notre n est très petit. Pour plus de stabilité, nous faisons 10 runs par grandeur de n, pour au total 50 valeurs de n."
   ]
  },
  {
   "cell_type": "code",
   "execution_count": 11,
   "metadata": {},
   "outputs": [
    {
     "name": "stdout",
     "output_type": "stream",
     "text": [
      "initial solution\n"
     ]
    },
    {
     "name": "stderr",
     "output_type": "stream",
     "text": [
      "100%|██████████| 11/11 [00:00<00:00, 10909.75it/s]\n"
     ]
    },
    {
     "name": "stdout",
     "output_type": "stream",
     "text": [
      "--- 0.0028586387634277344 seconds for solution baseline ---\n",
      "initial solution\n"
     ]
    },
    {
     "name": "stderr",
     "output_type": "stream",
     "text": [
      "100%|██████████| 11/11 [00:00<?, ?it/s]\n"
     ]
    },
    {
     "name": "stdout",
     "output_type": "stream",
     "text": [
      "--- 0.0019502639770507812 seconds for solution baseline ---\n",
      "initial solution\n"
     ]
    },
    {
     "name": "stderr",
     "output_type": "stream",
     "text": [
      "100%|██████████| 11/11 [00:00<00:00, 5000.80it/s]\n"
     ]
    },
    {
     "name": "stdout",
     "output_type": "stream",
     "text": [
      "--- 0.005706310272216797 seconds for solution baseline ---\n",
      "initial solution\n"
     ]
    },
    {
     "name": "stderr",
     "output_type": "stream",
     "text": [
      "100%|██████████| 11/11 [00:00<00:00, 3867.99it/s]\n"
     ]
    },
    {
     "name": "stdout",
     "output_type": "stream",
     "text": [
      "--- 0.00413966178894043 seconds for solution baseline ---\n",
      "initial solution\n"
     ]
    },
    {
     "name": "stderr",
     "output_type": "stream",
     "text": [
      "100%|██████████| 11/11 [00:00<00:00, 8786.39it/s]\n"
     ]
    },
    {
     "name": "stdout",
     "output_type": "stream",
     "text": [
      "--- 0.00426936149597168 seconds for solution baseline ---\n",
      "initial solution\n"
     ]
    },
    {
     "name": "stderr",
     "output_type": "stream",
     "text": [
      "100%|██████████| 11/11 [00:00<?, ?it/s]\n"
     ]
    },
    {
     "name": "stdout",
     "output_type": "stream",
     "text": [
      "--- 0.004157543182373047 seconds for solution baseline ---\n",
      "initial solution\n"
     ]
    },
    {
     "name": "stderr",
     "output_type": "stream",
     "text": [
      "100%|██████████| 11/11 [00:00<00:00, 7073.03it/s]\n"
     ]
    },
    {
     "name": "stdout",
     "output_type": "stream",
     "text": [
      "--- 0.0039920806884765625 seconds for solution baseline ---\n",
      "initial solution\n"
     ]
    },
    {
     "name": "stderr",
     "output_type": "stream",
     "text": [
      "100%|██████████| 11/11 [00:00<00:00, 6223.00it/s]\n"
     ]
    },
    {
     "name": "stdout",
     "output_type": "stream",
     "text": [
      "--- 0.003154277801513672 seconds for solution baseline ---\n",
      "initial solution\n"
     ]
    },
    {
     "name": "stderr",
     "output_type": "stream",
     "text": [
      "100%|██████████| 11/11 [00:00<00:00, 6079.50it/s]\n"
     ]
    },
    {
     "name": "stdout",
     "output_type": "stream",
     "text": [
      "--- 0.0018093585968017578 seconds for solution baseline ---\n",
      "initial solution\n"
     ]
    },
    {
     "name": "stderr",
     "output_type": "stream",
     "text": [
      "100%|██████████| 11/11 [00:00<00:00, 9396.61it/s]\n"
     ]
    },
    {
     "name": "stdout",
     "output_type": "stream",
     "text": [
      "--- 0.0032105445861816406 seconds for solution baseline ---\n",
      "initial solution\n"
     ]
    },
    {
     "name": "stderr",
     "output_type": "stream",
     "text": [
      "100%|██████████| 12/12 [00:00<00:00, 9634.70it/s]\n"
     ]
    },
    {
     "name": "stdout",
     "output_type": "stream",
     "text": [
      "--- 0.005892753601074219 seconds for solution baseline ---\n",
      "initial solution\n"
     ]
    },
    {
     "name": "stderr",
     "output_type": "stream",
     "text": [
      "100%|██████████| 12/12 [00:00<?, ?it/s]\n"
     ]
    },
    {
     "name": "stdout",
     "output_type": "stream",
     "text": [
      "--- 0.00450587272644043 seconds for solution baseline ---\n",
      "initial solution\n"
     ]
    },
    {
     "name": "stderr",
     "output_type": "stream",
     "text": [
      "100%|██████████| 12/12 [00:00<00:00, 7642.22it/s]\n"
     ]
    },
    {
     "name": "stdout",
     "output_type": "stream",
     "text": [
      "--- 0.0048482418060302734 seconds for solution baseline ---\n",
      "initial solution\n"
     ]
    },
    {
     "name": "stderr",
     "output_type": "stream",
     "text": [
      "100%|██████████| 12/12 [00:00<00:00, 11867.87it/s]\n"
     ]
    },
    {
     "name": "stdout",
     "output_type": "stream",
     "text": [
      "--- 0.004728794097900391 seconds for solution baseline ---\n",
      "initial solution\n"
     ]
    },
    {
     "name": "stderr",
     "output_type": "stream",
     "text": [
      "100%|██████████| 12/12 [00:00<00:00, 10084.48it/s]\n"
     ]
    },
    {
     "name": "stdout",
     "output_type": "stream",
     "text": [
      "--- 0.004669666290283203 seconds for solution baseline ---\n",
      "initial solution\n"
     ]
    },
    {
     "name": "stderr",
     "output_type": "stream",
     "text": [
      "100%|██████████| 12/12 [00:00<00:00, 4419.32it/s]\n"
     ]
    },
    {
     "name": "stdout",
     "output_type": "stream",
     "text": [
      "--- 0.0027153491973876953 seconds for solution baseline ---\n",
      "initial solution\n"
     ]
    },
    {
     "name": "stderr",
     "output_type": "stream",
     "text": [
      "100%|██████████| 12/12 [00:00<?, ?it/s]\n"
     ]
    },
    {
     "name": "stdout",
     "output_type": "stream",
     "text": [
      "--- 0.005494594573974609 seconds for solution baseline ---\n",
      "initial solution\n"
     ]
    },
    {
     "name": "stderr",
     "output_type": "stream",
     "text": [
      "100%|██████████| 12/12 [00:00<00:00, 2560.49it/s]\n"
     ]
    },
    {
     "name": "stdout",
     "output_type": "stream",
     "text": [
      "--- 0.004686594009399414 seconds for solution baseline ---\n",
      "initial solution\n"
     ]
    },
    {
     "name": "stderr",
     "output_type": "stream",
     "text": [
      "100%|██████████| 12/12 [00:00<00:00, 11870.67it/s]\n"
     ]
    },
    {
     "name": "stdout",
     "output_type": "stream",
     "text": [
      "--- 0.003050088882446289 seconds for solution baseline ---\n",
      "initial solution\n"
     ]
    },
    {
     "name": "stderr",
     "output_type": "stream",
     "text": [
      "100%|██████████| 12/12 [00:00<00:00, 4049.53it/s]\n"
     ]
    },
    {
     "name": "stdout",
     "output_type": "stream",
     "text": [
      "--- 0.0029633045196533203 seconds for solution baseline ---\n",
      "initial solution\n"
     ]
    },
    {
     "name": "stderr",
     "output_type": "stream",
     "text": [
      "100%|██████████| 13/13 [00:00<00:00, 10034.22it/s]\n"
     ]
    },
    {
     "name": "stdout",
     "output_type": "stream",
     "text": [
      "--- 0.004952669143676758 seconds for solution baseline ---\n",
      "initial solution\n"
     ]
    },
    {
     "name": "stderr",
     "output_type": "stream",
     "text": [
      "100%|██████████| 13/13 [00:00<?, ?it/s]\n"
     ]
    },
    {
     "name": "stdout",
     "output_type": "stream",
     "text": [
      "--- 0.0013713836669921875 seconds for solution baseline ---\n",
      "initial solution\n"
     ]
    },
    {
     "name": "stderr",
     "output_type": "stream",
     "text": [
      "100%|██████████| 13/13 [00:00<00:00, 5356.71it/s]\n"
     ]
    },
    {
     "name": "stdout",
     "output_type": "stream",
     "text": [
      "--- 0.0035257339477539062 seconds for solution baseline ---\n",
      "initial solution\n"
     ]
    },
    {
     "name": "stderr",
     "output_type": "stream",
     "text": [
      "100%|██████████| 13/13 [00:00<00:00, 3410.22it/s]\n"
     ]
    },
    {
     "name": "stdout",
     "output_type": "stream",
     "text": [
      "--- 0.003812074661254883 seconds for solution baseline ---\n",
      "initial solution\n"
     ]
    },
    {
     "name": "stderr",
     "output_type": "stream",
     "text": [
      "100%|██████████| 13/13 [00:00<00:00, 6526.15it/s]\n"
     ]
    },
    {
     "name": "stdout",
     "output_type": "stream",
     "text": [
      "--- 0.0019919872283935547 seconds for solution baseline ---\n",
      "initial solution\n"
     ]
    },
    {
     "name": "stderr",
     "output_type": "stream",
     "text": [
      "100%|██████████| 13/13 [00:00<00:00, 6340.96it/s]\n"
     ]
    },
    {
     "name": "stdout",
     "output_type": "stream",
     "text": [
      "--- 0.003422975540161133 seconds for solution baseline ---\n",
      "initial solution\n"
     ]
    },
    {
     "name": "stderr",
     "output_type": "stream",
     "text": [
      "100%|██████████| 13/13 [00:00<00:00, 2290.24it/s]\n"
     ]
    },
    {
     "name": "stdout",
     "output_type": "stream",
     "text": [
      "--- 0.0073528289794921875 seconds for solution baseline ---\n",
      "initial solution\n"
     ]
    },
    {
     "name": "stderr",
     "output_type": "stream",
     "text": [
      "100%|██████████| 13/13 [00:00<00:00, 12187.29it/s]\n"
     ]
    },
    {
     "name": "stdout",
     "output_type": "stream",
     "text": [
      "--- 0.0037043094635009766 seconds for solution baseline ---\n",
      "initial solution\n"
     ]
    },
    {
     "name": "stderr",
     "output_type": "stream",
     "text": [
      "100%|██████████| 13/13 [00:00<00:00, 4531.37it/s]\n"
     ]
    },
    {
     "name": "stdout",
     "output_type": "stream",
     "text": [
      "--- 0.003874540328979492 seconds for solution baseline ---\n",
      "initial solution\n"
     ]
    },
    {
     "name": "stderr",
     "output_type": "stream",
     "text": [
      "100%|██████████| 13/13 [00:00<?, ?it/s]\n"
     ]
    },
    {
     "name": "stdout",
     "output_type": "stream",
     "text": [
      "--- 0.0 seconds for solution baseline ---\n",
      "initial solution\n"
     ]
    },
    {
     "name": "stderr",
     "output_type": "stream",
     "text": [
      "100%|██████████| 14/14 [00:00<00:00, 7806.47it/s]\n"
     ]
    },
    {
     "name": "stdout",
     "output_type": "stream",
     "text": [
      "--- 0.007973432540893555 seconds for solution baseline ---\n",
      "initial solution\n"
     ]
    },
    {
     "name": "stderr",
     "output_type": "stream",
     "text": [
      "100%|██████████| 14/14 [00:00<00:00, 4741.62it/s]\n"
     ]
    },
    {
     "name": "stdout",
     "output_type": "stream",
     "text": [
      "--- 0.004817962646484375 seconds for solution baseline ---\n",
      "initial solution\n"
     ]
    },
    {
     "name": "stderr",
     "output_type": "stream",
     "text": [
      "100%|██████████| 14/14 [00:00<?, ?it/s]\n"
     ]
    },
    {
     "name": "stdout",
     "output_type": "stream",
     "text": [
      "--- 0.0 seconds for solution baseline ---\n",
      "initial solution\n"
     ]
    },
    {
     "name": "stderr",
     "output_type": "stream",
     "text": [
      "100%|██████████| 14/14 [00:00<00:00, 7785.77it/s]\n"
     ]
    },
    {
     "name": "stdout",
     "output_type": "stream",
     "text": [
      "--- 0.0017981529235839844 seconds for solution baseline ---\n",
      "initial solution\n"
     ]
    },
    {
     "name": "stderr",
     "output_type": "stream",
     "text": [
      "100%|██████████| 14/14 [00:00<00:00, 12784.73it/s]\n"
     ]
    },
    {
     "name": "stdout",
     "output_type": "stream",
     "text": [
      "--- 0.006682157516479492 seconds for solution baseline ---\n",
      "initial solution\n"
     ]
    },
    {
     "name": "stderr",
     "output_type": "stream",
     "text": [
      "100%|██████████| 14/14 [00:00<00:00, 6628.32it/s]\n"
     ]
    },
    {
     "name": "stdout",
     "output_type": "stream",
     "text": [
      "--- 0.002112150192260742 seconds for solution baseline ---\n",
      "initial solution\n"
     ]
    },
    {
     "name": "stderr",
     "output_type": "stream",
     "text": [
      "100%|██████████| 14/14 [00:00<00:00, 12403.94it/s]\n"
     ]
    },
    {
     "name": "stdout",
     "output_type": "stream",
     "text": [
      "--- 0.002852201461791992 seconds for solution baseline ---\n",
      "initial solution\n"
     ]
    },
    {
     "name": "stderr",
     "output_type": "stream",
     "text": [
      "100%|██████████| 14/14 [00:00<00:00, 13806.78it/s]\n"
     ]
    },
    {
     "name": "stdout",
     "output_type": "stream",
     "text": [
      "--- 0.007618427276611328 seconds for solution baseline ---\n",
      "initial solution\n"
     ]
    },
    {
     "name": "stderr",
     "output_type": "stream",
     "text": [
      "100%|██████████| 14/14 [00:00<00:00, 6504.24it/s]\n"
     ]
    },
    {
     "name": "stdout",
     "output_type": "stream",
     "text": [
      "--- 0.005042552947998047 seconds for solution baseline ---\n",
      "initial solution\n"
     ]
    },
    {
     "name": "stderr",
     "output_type": "stream",
     "text": [
      "100%|██████████| 14/14 [00:00<00:00, 3632.78it/s]\n"
     ]
    },
    {
     "name": "stdout",
     "output_type": "stream",
     "text": [
      "--- 0.0038537979125976562 seconds for solution baseline ---\n",
      "initial solution\n"
     ]
    },
    {
     "name": "stderr",
     "output_type": "stream",
     "text": [
      "100%|██████████| 15/15 [00:00<?, ?it/s]\n"
     ]
    },
    {
     "name": "stdout",
     "output_type": "stream",
     "text": [
      "--- 0.008541584014892578 seconds for solution baseline ---\n",
      "initial solution\n"
     ]
    },
    {
     "name": "stderr",
     "output_type": "stream",
     "text": [
      "100%|██████████| 15/15 [00:00<00:00, 4150.31it/s]\n"
     ]
    },
    {
     "name": "stdout",
     "output_type": "stream",
     "text": [
      "--- 0.00782632827758789 seconds for solution baseline ---\n",
      "initial solution\n"
     ]
    },
    {
     "name": "stderr",
     "output_type": "stream",
     "text": [
      "100%|██████████| 15/15 [00:00<00:00, 2886.25it/s]\n"
     ]
    },
    {
     "name": "stdout",
     "output_type": "stream",
     "text": [
      "--- 0.0067844390869140625 seconds for solution baseline ---\n",
      "initial solution\n"
     ]
    },
    {
     "name": "stderr",
     "output_type": "stream",
     "text": [
      "100%|██████████| 15/15 [00:00<?, ?it/s]\n"
     ]
    },
    {
     "name": "stdout",
     "output_type": "stream",
     "text": [
      "--- 0.005505084991455078 seconds for solution baseline ---\n",
      "initial solution\n"
     ]
    },
    {
     "name": "stderr",
     "output_type": "stream",
     "text": [
      "100%|██████████| 15/15 [00:00<00:00, 4185.10it/s]\n"
     ]
    },
    {
     "name": "stdout",
     "output_type": "stream",
     "text": [
      "--- 0.003584146499633789 seconds for solution baseline ---\n",
      "initial solution\n"
     ]
    },
    {
     "name": "stderr",
     "output_type": "stream",
     "text": [
      "100%|██████████| 15/15 [00:00<?, ?it/s]\n"
     ]
    },
    {
     "name": "stdout",
     "output_type": "stream",
     "text": [
      "--- 0.0017457008361816406 seconds for solution baseline ---\n",
      "initial solution\n"
     ]
    },
    {
     "name": "stderr",
     "output_type": "stream",
     "text": [
      "100%|██████████| 15/15 [00:00<00:00, 11879.64it/s]\n"
     ]
    },
    {
     "name": "stdout",
     "output_type": "stream",
     "text": [
      "--- 0.007328033447265625 seconds for solution baseline ---\n",
      "initial solution\n"
     ]
    },
    {
     "name": "stderr",
     "output_type": "stream",
     "text": [
      "100%|██████████| 15/15 [00:00<00:00, 4105.89it/s]\n"
     ]
    },
    {
     "name": "stdout",
     "output_type": "stream",
     "text": [
      "--- 0.00466156005859375 seconds for solution baseline ---\n",
      "initial solution\n"
     ]
    },
    {
     "name": "stderr",
     "output_type": "stream",
     "text": [
      "100%|██████████| 15/15 [00:00<?, ?it/s]\n"
     ]
    },
    {
     "name": "stdout",
     "output_type": "stream",
     "text": [
      "--- 0.0 seconds for solution baseline ---\n",
      "initial solution\n"
     ]
    },
    {
     "name": "stderr",
     "output_type": "stream",
     "text": [
      "100%|██████████| 15/15 [00:00<00:00, 8469.92it/s]\n"
     ]
    },
    {
     "name": "stdout",
     "output_type": "stream",
     "text": [
      "--- 0.00473785400390625 seconds for solution baseline ---\n",
      "initial solution\n"
     ]
    },
    {
     "name": "stderr",
     "output_type": "stream",
     "text": [
      "100%|██████████| 16/16 [00:00<?, ?it/s]\n"
     ]
    },
    {
     "name": "stdout",
     "output_type": "stream",
     "text": [
      "--- 0.0030052661895751953 seconds for solution baseline ---\n",
      "initial solution\n"
     ]
    },
    {
     "name": "stderr",
     "output_type": "stream",
     "text": [
      "100%|██████████| 16/16 [00:00<00:00, 1857.99it/s]\n"
     ]
    },
    {
     "name": "stdout",
     "output_type": "stream",
     "text": [
      "--- 0.011170625686645508 seconds for solution baseline ---\n",
      "initial solution\n"
     ]
    },
    {
     "name": "stderr",
     "output_type": "stream",
     "text": [
      "100%|██████████| 16/16 [00:00<00:00, 5783.75it/s]\n"
     ]
    },
    {
     "name": "stdout",
     "output_type": "stream",
     "text": [
      "--- 0.004288434982299805 seconds for solution baseline ---\n",
      "initial solution\n"
     ]
    },
    {
     "name": "stderr",
     "output_type": "stream",
     "text": [
      "100%|██████████| 16/16 [00:00<00:00, 3212.64it/s]\n"
     ]
    },
    {
     "name": "stdout",
     "output_type": "stream",
     "text": [
      "--- 0.007309675216674805 seconds for solution baseline ---\n",
      "initial solution\n"
     ]
    },
    {
     "name": "stderr",
     "output_type": "stream",
     "text": [
      "100%|██████████| 16/16 [00:00<00:00, 4559.03it/s]\n"
     ]
    },
    {
     "name": "stdout",
     "output_type": "stream",
     "text": [
      "--- 0.0067369937896728516 seconds for solution baseline ---\n",
      "initial solution\n"
     ]
    },
    {
     "name": "stderr",
     "output_type": "stream",
     "text": [
      "100%|██████████| 16/16 [00:00<?, ?it/s]\n"
     ]
    },
    {
     "name": "stdout",
     "output_type": "stream",
     "text": [
      "--- 0.008009195327758789 seconds for solution baseline ---\n",
      "initial solution\n"
     ]
    },
    {
     "name": "stderr",
     "output_type": "stream",
     "text": [
      "100%|██████████| 16/16 [00:00<00:00, 13620.63it/s]\n"
     ]
    },
    {
     "name": "stdout",
     "output_type": "stream",
     "text": [
      "--- 0.0028710365295410156 seconds for solution baseline ---\n",
      "initial solution\n"
     ]
    },
    {
     "name": "stderr",
     "output_type": "stream",
     "text": [
      "100%|██████████| 16/16 [00:00<00:00, 8178.02it/s]\n"
     ]
    },
    {
     "name": "stdout",
     "output_type": "stream",
     "text": [
      "--- 0.007082700729370117 seconds for solution baseline ---\n",
      "initial solution\n"
     ]
    },
    {
     "name": "stderr",
     "output_type": "stream",
     "text": [
      "100%|██████████| 16/16 [00:00<00:00, 10590.01it/s]\n"
     ]
    },
    {
     "name": "stdout",
     "output_type": "stream",
     "text": [
      "--- 0.0066356658935546875 seconds for solution baseline ---\n",
      "initial solution\n"
     ]
    },
    {
     "name": "stderr",
     "output_type": "stream",
     "text": [
      "100%|██████████| 16/16 [00:00<00:00, 4338.00it/s]\n"
     ]
    },
    {
     "name": "stdout",
     "output_type": "stream",
     "text": [
      "--- 0.004701375961303711 seconds for solution baseline ---\n",
      "initial solution\n"
     ]
    },
    {
     "name": "stderr",
     "output_type": "stream",
     "text": [
      "100%|██████████| 17/17 [00:00<00:00, 4004.45it/s]\n"
     ]
    },
    {
     "name": "stdout",
     "output_type": "stream",
     "text": [
      "--- 0.0070629119873046875 seconds for solution baseline ---\n",
      "initial solution\n"
     ]
    },
    {
     "name": "stderr",
     "output_type": "stream",
     "text": [
      "100%|██████████| 17/17 [00:00<00:00, 4849.57it/s]\n"
     ]
    },
    {
     "name": "stdout",
     "output_type": "stream",
     "text": [
      "--- 0.006823539733886719 seconds for solution baseline ---\n",
      "initial solution\n"
     ]
    },
    {
     "name": "stderr",
     "output_type": "stream",
     "text": [
      "100%|██████████| 17/17 [00:00<?, ?it/s]\n"
     ]
    },
    {
     "name": "stdout",
     "output_type": "stream",
     "text": [
      "--- 0.0 seconds for solution baseline ---\n",
      "initial solution\n"
     ]
    },
    {
     "name": "stderr",
     "output_type": "stream",
     "text": [
      "100%|██████████| 17/17 [00:00<00:00, 3586.32it/s]\n"
     ]
    },
    {
     "name": "stdout",
     "output_type": "stream",
     "text": [
      "--- 0.0069959163665771484 seconds for solution baseline ---\n",
      "initial solution\n"
     ]
    },
    {
     "name": "stderr",
     "output_type": "stream",
     "text": [
      "100%|██████████| 17/17 [00:00<?, ?it/s]\n"
     ]
    },
    {
     "name": "stdout",
     "output_type": "stream",
     "text": [
      "--- 0.0005047321319580078 seconds for solution baseline ---\n",
      "initial solution\n"
     ]
    },
    {
     "name": "stderr",
     "output_type": "stream",
     "text": [
      "100%|██████████| 17/17 [00:00<00:00, 5313.60it/s]\n"
     ]
    },
    {
     "name": "stdout",
     "output_type": "stream",
     "text": [
      "--- 0.007170915603637695 seconds for solution baseline ---\n",
      "initial solution\n"
     ]
    },
    {
     "name": "stderr",
     "output_type": "stream",
     "text": [
      "100%|██████████| 17/17 [00:00<?, ?it/s]\n"
     ]
    },
    {
     "name": "stdout",
     "output_type": "stream",
     "text": [
      "--- 0.0 seconds for solution baseline ---\n",
      "initial solution\n"
     ]
    },
    {
     "name": "stderr",
     "output_type": "stream",
     "text": [
      "100%|██████████| 17/17 [00:00<00:00, 2333.98it/s]\n"
     ]
    },
    {
     "name": "stdout",
     "output_type": "stream",
     "text": [
      "--- 0.007283687591552734 seconds for solution baseline ---\n",
      "initial solution\n"
     ]
    },
    {
     "name": "stderr",
     "output_type": "stream",
     "text": [
      "100%|██████████| 17/17 [00:00<?, ?it/s]\n"
     ]
    },
    {
     "name": "stdout",
     "output_type": "stream",
     "text": [
      "--- 0.0010142326354980469 seconds for solution baseline ---\n",
      "initial solution\n"
     ]
    },
    {
     "name": "stderr",
     "output_type": "stream",
     "text": [
      "100%|██████████| 17/17 [00:00<00:00, 2094.13it/s]\n"
     ]
    },
    {
     "name": "stdout",
     "output_type": "stream",
     "text": [
      "--- 0.008117914199829102 seconds for solution baseline ---\n",
      "initial solution\n"
     ]
    },
    {
     "name": "stderr",
     "output_type": "stream",
     "text": [
      "100%|██████████| 18/18 [00:00<00:00, 35411.57it/s]\n"
     ]
    },
    {
     "name": "stdout",
     "output_type": "stream",
     "text": [
      "--- 0.00676417350769043 seconds for solution baseline ---\n",
      "initial solution\n"
     ]
    },
    {
     "name": "stderr",
     "output_type": "stream",
     "text": [
      "100%|██████████| 18/18 [00:00<00:00, 2338.47it/s]\n"
     ]
    },
    {
     "name": "stdout",
     "output_type": "stream",
     "text": [
      "--- 0.008227825164794922 seconds for solution baseline ---\n",
      "initial solution\n"
     ]
    },
    {
     "name": "stderr",
     "output_type": "stream",
     "text": [
      "100%|██████████| 18/18 [00:00<00:00, 4291.82it/s]\n"
     ]
    },
    {
     "name": "stdout",
     "output_type": "stream",
     "text": [
      "--- 0.007380485534667969 seconds for solution baseline ---\n",
      "initial solution\n"
     ]
    },
    {
     "name": "stderr",
     "output_type": "stream",
     "text": [
      "100%|██████████| 18/18 [00:00<00:00, 6630.15it/s]\n"
     ]
    },
    {
     "name": "stdout",
     "output_type": "stream",
     "text": [
      "--- 0.006025552749633789 seconds for solution baseline ---\n",
      "initial solution\n"
     ]
    },
    {
     "name": "stderr",
     "output_type": "stream",
     "text": [
      "100%|██████████| 18/18 [00:00<00:00, 11894.99it/s]\n"
     ]
    },
    {
     "name": "stdout",
     "output_type": "stream",
     "text": [
      "--- 0.007638216018676758 seconds for solution baseline ---\n",
      "initial solution\n"
     ]
    },
    {
     "name": "stderr",
     "output_type": "stream",
     "text": [
      "100%|██████████| 18/18 [00:00<00:00, 4779.23it/s]\n"
     ]
    },
    {
     "name": "stdout",
     "output_type": "stream",
     "text": [
      "--- 0.006026744842529297 seconds for solution baseline ---\n",
      "initial solution\n"
     ]
    },
    {
     "name": "stderr",
     "output_type": "stream",
     "text": [
      "100%|██████████| 18/18 [00:00<00:00, 13929.42it/s]\n"
     ]
    },
    {
     "name": "stdout",
     "output_type": "stream",
     "text": [
      "--- 0.0036644935607910156 seconds for solution baseline ---\n",
      "initial solution\n"
     ]
    },
    {
     "name": "stderr",
     "output_type": "stream",
     "text": [
      "100%|██████████| 18/18 [00:00<00:00, 3362.62it/s]\n"
     ]
    },
    {
     "name": "stdout",
     "output_type": "stream",
     "text": [
      "--- 0.009282588958740234 seconds for solution baseline ---\n",
      "initial solution\n"
     ]
    },
    {
     "name": "stderr",
     "output_type": "stream",
     "text": [
      "100%|██████████| 18/18 [00:00<00:00, 4341.68it/s]\n"
     ]
    },
    {
     "name": "stdout",
     "output_type": "stream",
     "text": [
      "--- 0.014172792434692383 seconds for solution baseline ---\n",
      "initial solution\n"
     ]
    },
    {
     "name": "stderr",
     "output_type": "stream",
     "text": [
      "100%|██████████| 18/18 [00:00<00:00, 3180.58it/s]\n"
     ]
    },
    {
     "name": "stdout",
     "output_type": "stream",
     "text": [
      "--- 0.010297298431396484 seconds for solution baseline ---\n",
      "initial solution\n"
     ]
    },
    {
     "name": "stderr",
     "output_type": "stream",
     "text": [
      "100%|██████████| 19/19 [00:00<00:00, 2308.23it/s]\n"
     ]
    },
    {
     "name": "stdout",
     "output_type": "stream",
     "text": [
      "--- 0.009896993637084961 seconds for solution baseline ---\n",
      "initial solution\n"
     ]
    },
    {
     "name": "stderr",
     "output_type": "stream",
     "text": [
      "100%|██████████| 19/19 [00:00<00:00, 2049.21it/s]\n"
     ]
    },
    {
     "name": "stdout",
     "output_type": "stream",
     "text": [
      "--- 0.009271860122680664 seconds for solution baseline ---\n",
      "initial solution\n"
     ]
    },
    {
     "name": "stderr",
     "output_type": "stream",
     "text": [
      "100%|██████████| 19/19 [00:00<00:00, 7835.97it/s]\n"
     ]
    },
    {
     "name": "stdout",
     "output_type": "stream",
     "text": [
      "--- 0.012987375259399414 seconds for solution baseline ---\n",
      "initial solution\n"
     ]
    },
    {
     "name": "stderr",
     "output_type": "stream",
     "text": [
      "100%|██████████| 19/19 [00:00<00:00, 4639.45it/s]\n"
     ]
    },
    {
     "name": "stdout",
     "output_type": "stream",
     "text": [
      "--- 0.011320352554321289 seconds for solution baseline ---\n",
      "initial solution\n"
     ]
    },
    {
     "name": "stderr",
     "output_type": "stream",
     "text": [
      "100%|██████████| 19/19 [00:00<00:00, 3296.45it/s]\n"
     ]
    },
    {
     "name": "stdout",
     "output_type": "stream",
     "text": [
      "--- 0.007520437240600586 seconds for solution baseline ---\n",
      "initial solution\n"
     ]
    },
    {
     "name": "stderr",
     "output_type": "stream",
     "text": [
      "100%|██████████| 19/19 [00:00<00:00, 4227.68it/s]\n"
     ]
    },
    {
     "name": "stdout",
     "output_type": "stream",
     "text": [
      "--- 0.03982090950012207 seconds for solution baseline ---\n",
      "initial solution\n"
     ]
    },
    {
     "name": "stderr",
     "output_type": "stream",
     "text": [
      "100%|██████████| 19/19 [00:00<00:00, 2338.44it/s]\n"
     ]
    },
    {
     "name": "stdout",
     "output_type": "stream",
     "text": [
      "--- 0.009635686874389648 seconds for solution baseline ---\n",
      "initial solution\n"
     ]
    },
    {
     "name": "stderr",
     "output_type": "stream",
     "text": [
      "100%|██████████| 19/19 [00:00<00:00, 1775.74it/s]\n"
     ]
    },
    {
     "name": "stdout",
     "output_type": "stream",
     "text": [
      "--- 0.010699748992919922 seconds for solution baseline ---\n",
      "initial solution\n"
     ]
    },
    {
     "name": "stderr",
     "output_type": "stream",
     "text": [
      "100%|██████████| 19/19 [00:00<00:00, 10348.24it/s]\n"
     ]
    },
    {
     "name": "stdout",
     "output_type": "stream",
     "text": [
      "--- 0.005406856536865234 seconds for solution baseline ---\n",
      "initial solution\n"
     ]
    },
    {
     "name": "stderr",
     "output_type": "stream",
     "text": [
      "100%|██████████| 19/19 [00:00<00:00, 10513.43it/s]\n"
     ]
    },
    {
     "name": "stdout",
     "output_type": "stream",
     "text": [
      "--- 0.010384798049926758 seconds for solution baseline ---\n",
      "initial solution\n"
     ]
    },
    {
     "name": "stderr",
     "output_type": "stream",
     "text": [
      "100%|██████████| 20/20 [00:00<00:00, 5463.82it/s]\n"
     ]
    },
    {
     "name": "stdout",
     "output_type": "stream",
     "text": [
      "--- 0.006798982620239258 seconds for solution baseline ---\n",
      "initial solution\n"
     ]
    },
    {
     "name": "stderr",
     "output_type": "stream",
     "text": [
      "100%|██████████| 20/20 [00:00<00:00, 2480.00it/s]\n"
     ]
    },
    {
     "name": "stdout",
     "output_type": "stream",
     "text": [
      "--- 0.013801097869873047 seconds for solution baseline ---\n",
      "initial solution\n"
     ]
    },
    {
     "name": "stderr",
     "output_type": "stream",
     "text": [
      "100%|██████████| 20/20 [00:00<00:00, 9300.01it/s]\n"
     ]
    },
    {
     "name": "stdout",
     "output_type": "stream",
     "text": [
      "--- 0.0051920413970947266 seconds for solution baseline ---\n",
      "initial solution\n"
     ]
    },
    {
     "name": "stderr",
     "output_type": "stream",
     "text": [
      "100%|██████████| 20/20 [00:00<00:00, 15355.31it/s]\n"
     ]
    },
    {
     "name": "stdout",
     "output_type": "stream",
     "text": [
      "--- 0.0038068294525146484 seconds for solution baseline ---\n",
      "initial solution\n"
     ]
    },
    {
     "name": "stderr",
     "output_type": "stream",
     "text": [
      "100%|██████████| 20/20 [00:00<00:00, 3628.76it/s]\n"
     ]
    },
    {
     "name": "stdout",
     "output_type": "stream",
     "text": [
      "--- 0.010071516036987305 seconds for solution baseline ---\n",
      "initial solution\n"
     ]
    },
    {
     "name": "stderr",
     "output_type": "stream",
     "text": [
      "100%|██████████| 20/20 [00:00<00:00, 19640.85it/s]"
     ]
    },
    {
     "name": "stdout",
     "output_type": "stream",
     "text": [
      "--- 0.004059553146362305 seconds for solution baseline ---\n"
     ]
    },
    {
     "name": "stderr",
     "output_type": "stream",
     "text": [
      "\n"
     ]
    },
    {
     "name": "stdout",
     "output_type": "stream",
     "text": [
      "initial solution\n"
     ]
    },
    {
     "name": "stderr",
     "output_type": "stream",
     "text": [
      "100%|██████████| 20/20 [00:00<00:00, 2860.86it/s]\n"
     ]
    },
    {
     "name": "stdout",
     "output_type": "stream",
     "text": [
      "--- 0.009289264678955078 seconds for solution baseline ---\n",
      "initial solution\n"
     ]
    },
    {
     "name": "stderr",
     "output_type": "stream",
     "text": [
      "100%|██████████| 20/20 [00:00<00:00, 8331.12it/s]\n"
     ]
    },
    {
     "name": "stdout",
     "output_type": "stream",
     "text": [
      "--- 0.005448818206787109 seconds for solution baseline ---\n",
      "initial solution\n"
     ]
    },
    {
     "name": "stderr",
     "output_type": "stream",
     "text": [
      "100%|██████████| 20/20 [00:00<00:00, 2895.02it/s]\n"
     ]
    },
    {
     "name": "stdout",
     "output_type": "stream",
     "text": [
      "--- 0.017352581024169922 seconds for solution baseline ---\n",
      "initial solution\n"
     ]
    },
    {
     "name": "stderr",
     "output_type": "stream",
     "text": [
      "100%|██████████| 20/20 [00:00<00:00, 4563.24it/s]\n"
     ]
    },
    {
     "name": "stdout",
     "output_type": "stream",
     "text": [
      "--- 0.00972437858581543 seconds for solution baseline ---\n",
      "initial solution\n"
     ]
    },
    {
     "name": "stderr",
     "output_type": "stream",
     "text": [
      "100%|██████████| 21/21 [00:00<00:00, 10411.39it/s]\n"
     ]
    },
    {
     "name": "stdout",
     "output_type": "stream",
     "text": [
      "--- 0.006150484085083008 seconds for solution baseline ---\n",
      "initial solution\n"
     ]
    },
    {
     "name": "stderr",
     "output_type": "stream",
     "text": [
      "100%|██████████| 21/21 [00:00<00:00, 3124.86it/s]\n"
     ]
    },
    {
     "name": "stdout",
     "output_type": "stream",
     "text": [
      "--- 0.008362770080566406 seconds for solution baseline ---\n",
      "initial solution\n"
     ]
    },
    {
     "name": "stderr",
     "output_type": "stream",
     "text": [
      "100%|██████████| 21/21 [00:00<00:00, 4028.00it/s]\n"
     ]
    },
    {
     "name": "stdout",
     "output_type": "stream",
     "text": [
      "--- 0.008871316909790039 seconds for solution baseline ---\n",
      "initial solution\n"
     ]
    },
    {
     "name": "stderr",
     "output_type": "stream",
     "text": [
      "100%|██████████| 21/21 [00:00<00:00, 3322.41it/s]\n"
     ]
    },
    {
     "name": "stdout",
     "output_type": "stream",
     "text": [
      "--- 0.009011507034301758 seconds for solution baseline ---\n",
      "initial solution\n"
     ]
    },
    {
     "name": "stderr",
     "output_type": "stream",
     "text": [
      "100%|██████████| 21/21 [00:00<00:00, 2183.88it/s]\n"
     ]
    },
    {
     "name": "stdout",
     "output_type": "stream",
     "text": [
      "--- 0.013906478881835938 seconds for solution baseline ---\n",
      "initial solution\n"
     ]
    },
    {
     "name": "stderr",
     "output_type": "stream",
     "text": [
      "100%|██████████| 21/21 [00:00<00:00, 19757.83it/s]\n"
     ]
    },
    {
     "name": "stdout",
     "output_type": "stream",
     "text": [
      "--- 0.006102800369262695 seconds for solution baseline ---\n",
      "initial solution\n"
     ]
    },
    {
     "name": "stderr",
     "output_type": "stream",
     "text": [
      "100%|██████████| 21/21 [00:00<00:00, 4190.71it/s]\n"
     ]
    },
    {
     "name": "stdout",
     "output_type": "stream",
     "text": [
      "--- 0.0069713592529296875 seconds for solution baseline ---\n",
      "initial solution\n"
     ]
    },
    {
     "name": "stderr",
     "output_type": "stream",
     "text": [
      "100%|██████████| 21/21 [00:00<00:00, 11719.05it/s]\n"
     ]
    },
    {
     "name": "stdout",
     "output_type": "stream",
     "text": [
      "--- 0.011571884155273438 seconds for solution baseline ---\n",
      "initial solution\n"
     ]
    },
    {
     "name": "stderr",
     "output_type": "stream",
     "text": [
      "100%|██████████| 21/21 [00:00<00:00, 2954.83it/s]\n"
     ]
    },
    {
     "name": "stdout",
     "output_type": "stream",
     "text": [
      "--- 0.0071070194244384766 seconds for solution baseline ---\n",
      "initial solution\n"
     ]
    },
    {
     "name": "stderr",
     "output_type": "stream",
     "text": [
      "100%|██████████| 21/21 [00:00<00:00, 12746.80it/s]\n"
     ]
    },
    {
     "name": "stdout",
     "output_type": "stream",
     "text": [
      "--- 0.015943527221679688 seconds for solution baseline ---\n",
      "initial solution\n"
     ]
    },
    {
     "name": "stderr",
     "output_type": "stream",
     "text": [
      "100%|██████████| 22/22 [00:00<00:00, 8748.90it/s]\n"
     ]
    },
    {
     "name": "stdout",
     "output_type": "stream",
     "text": [
      "--- 0.005545616149902344 seconds for solution baseline ---\n",
      "initial solution\n"
     ]
    },
    {
     "name": "stderr",
     "output_type": "stream",
     "text": [
      "100%|██████████| 22/22 [00:00<00:00, 4281.49it/s]\n"
     ]
    },
    {
     "name": "stdout",
     "output_type": "stream",
     "text": [
      "--- 0.008242130279541016 seconds for solution baseline ---\n",
      "initial solution\n"
     ]
    },
    {
     "name": "stderr",
     "output_type": "stream",
     "text": [
      "100%|██████████| 22/22 [00:00<00:00, 21691.28it/s]\n"
     ]
    },
    {
     "name": "stdout",
     "output_type": "stream",
     "text": [
      "--- 0.009327411651611328 seconds for solution baseline ---\n",
      "initial solution\n"
     ]
    },
    {
     "name": "stderr",
     "output_type": "stream",
     "text": [
      "100%|██████████| 22/22 [00:00<00:00, 43546.34it/s]\n"
     ]
    },
    {
     "name": "stdout",
     "output_type": "stream",
     "text": [
      "--- 0.0076863765716552734 seconds for solution baseline ---\n",
      "initial solution\n"
     ]
    },
    {
     "name": "stderr",
     "output_type": "stream",
     "text": [
      "100%|██████████| 22/22 [00:00<00:00, 3750.70it/s]\n"
     ]
    },
    {
     "name": "stdout",
     "output_type": "stream",
     "text": [
      "--- 0.009628534317016602 seconds for solution baseline ---\n",
      "initial solution\n"
     ]
    },
    {
     "name": "stderr",
     "output_type": "stream",
     "text": [
      "100%|██████████| 22/22 [00:00<00:00, 2637.40it/s]\n"
     ]
    },
    {
     "name": "stdout",
     "output_type": "stream",
     "text": [
      "--- 0.008341550827026367 seconds for solution baseline ---\n",
      "initial solution\n"
     ]
    },
    {
     "name": "stderr",
     "output_type": "stream",
     "text": [
      "100%|██████████| 22/22 [00:00<00:00, 4188.40it/s]\n"
     ]
    },
    {
     "name": "stdout",
     "output_type": "stream",
     "text": [
      "--- 0.008880853652954102 seconds for solution baseline ---\n",
      "initial solution\n"
     ]
    },
    {
     "name": "stderr",
     "output_type": "stream",
     "text": [
      "100%|██████████| 22/22 [00:00<00:00, 2396.62it/s]\n"
     ]
    },
    {
     "name": "stdout",
     "output_type": "stream",
     "text": [
      "--- 0.00917959213256836 seconds for solution baseline ---\n",
      "initial solution\n"
     ]
    },
    {
     "name": "stderr",
     "output_type": "stream",
     "text": [
      "100%|██████████| 22/22 [00:00<00:00, 16804.71it/s]\n"
     ]
    },
    {
     "name": "stdout",
     "output_type": "stream",
     "text": [
      "--- 0.014734745025634766 seconds for solution baseline ---\n",
      "initial solution\n"
     ]
    },
    {
     "name": "stderr",
     "output_type": "stream",
     "text": [
      "100%|██████████| 22/22 [00:00<00:00, 3484.17it/s]\n"
     ]
    },
    {
     "name": "stdout",
     "output_type": "stream",
     "text": [
      "--- 0.010987281799316406 seconds for solution baseline ---\n",
      "initial solution\n"
     ]
    },
    {
     "name": "stderr",
     "output_type": "stream",
     "text": [
      "100%|██████████| 23/23 [00:00<00:00, 2251.58it/s]\n"
     ]
    },
    {
     "name": "stdout",
     "output_type": "stream",
     "text": [
      "--- 0.013362884521484375 seconds for solution baseline ---\n",
      "initial solution\n"
     ]
    },
    {
     "name": "stderr",
     "output_type": "stream",
     "text": [
      "100%|██████████| 23/23 [00:00<00:00, 5827.89it/s]\n"
     ]
    },
    {
     "name": "stdout",
     "output_type": "stream",
     "text": [
      "--- 0.013923168182373047 seconds for solution baseline ---\n",
      "initial solution\n"
     ]
    },
    {
     "name": "stderr",
     "output_type": "stream",
     "text": [
      "100%|██████████| 23/23 [00:00<00:00, 7957.52it/s]\n"
     ]
    },
    {
     "name": "stdout",
     "output_type": "stream",
     "text": [
      "--- 0.01310873031616211 seconds for solution baseline ---\n",
      "initial solution\n"
     ]
    },
    {
     "name": "stderr",
     "output_type": "stream",
     "text": [
      "100%|██████████| 23/23 [00:00<00:00, 6529.65it/s]\n"
     ]
    },
    {
     "name": "stdout",
     "output_type": "stream",
     "text": [
      "--- 0.011798858642578125 seconds for solution baseline ---\n",
      "initial solution\n"
     ]
    },
    {
     "name": "stderr",
     "output_type": "stream",
     "text": [
      "100%|██████████| 23/23 [00:00<00:00, 4055.36it/s]\n"
     ]
    },
    {
     "name": "stdout",
     "output_type": "stream",
     "text": [
      "--- 0.010471105575561523 seconds for solution baseline ---\n",
      "initial solution\n"
     ]
    },
    {
     "name": "stderr",
     "output_type": "stream",
     "text": [
      "100%|██████████| 23/23 [00:00<00:00, 3230.93it/s]\n"
     ]
    },
    {
     "name": "stdout",
     "output_type": "stream",
     "text": [
      "--- 0.014311552047729492 seconds for solution baseline ---\n",
      "initial solution\n"
     ]
    },
    {
     "name": "stderr",
     "output_type": "stream",
     "text": [
      "100%|██████████| 23/23 [00:00<00:00, 2794.74it/s]\n"
     ]
    },
    {
     "name": "stdout",
     "output_type": "stream",
     "text": [
      "--- 0.011062145233154297 seconds for solution baseline ---\n",
      "initial solution\n"
     ]
    },
    {
     "name": "stderr",
     "output_type": "stream",
     "text": [
      "100%|██████████| 23/23 [00:00<00:00, 2520.48it/s]\n"
     ]
    },
    {
     "name": "stdout",
     "output_type": "stream",
     "text": [
      "--- 0.011333465576171875 seconds for solution baseline ---\n",
      "initial solution\n"
     ]
    },
    {
     "name": "stderr",
     "output_type": "stream",
     "text": [
      "100%|██████████| 23/23 [00:00<00:00, 3347.64it/s]\n"
     ]
    },
    {
     "name": "stdout",
     "output_type": "stream",
     "text": [
      "--- 0.010052680969238281 seconds for solution baseline ---\n",
      "initial solution\n"
     ]
    },
    {
     "name": "stderr",
     "output_type": "stream",
     "text": [
      "100%|██████████| 23/23 [00:00<00:00, 2713.84it/s]\n"
     ]
    },
    {
     "name": "stdout",
     "output_type": "stream",
     "text": [
      "--- 0.01148080825805664 seconds for solution baseline ---\n",
      "initial solution\n"
     ]
    },
    {
     "name": "stderr",
     "output_type": "stream",
     "text": [
      "100%|██████████| 24/24 [00:00<00:00, 2370.84it/s]"
     ]
    },
    {
     "name": "stdout",
     "output_type": "stream",
     "text": [
      "--- 0.036841392517089844 seconds for solution baseline ---\n",
      "initial solution\n"
     ]
    },
    {
     "name": "stderr",
     "output_type": "stream",
     "text": [
      "\n",
      "100%|██████████| 24/24 [00:00<00:00, 2574.18it/s]\n"
     ]
    },
    {
     "name": "stdout",
     "output_type": "stream",
     "text": [
      "--- 0.01660299301147461 seconds for solution baseline ---\n",
      "initial solution\n"
     ]
    },
    {
     "name": "stderr",
     "output_type": "stream",
     "text": [
      "100%|██████████| 24/24 [00:00<00:00, 2714.03it/s]\n"
     ]
    },
    {
     "name": "stdout",
     "output_type": "stream",
     "text": [
      "--- 0.017106294631958008 seconds for solution baseline ---\n",
      "initial solution\n"
     ]
    },
    {
     "name": "stderr",
     "output_type": "stream",
     "text": [
      "100%|██████████| 24/24 [00:00<00:00, 2486.00it/s]\n"
     ]
    },
    {
     "name": "stdout",
     "output_type": "stream",
     "text": [
      "--- 0.01068258285522461 seconds for solution baseline ---\n",
      "initial solution\n"
     ]
    },
    {
     "name": "stderr",
     "output_type": "stream",
     "text": [
      "100%|██████████| 24/24 [00:00<00:00, 2454.12it/s]\n"
     ]
    },
    {
     "name": "stdout",
     "output_type": "stream",
     "text": [
      "--- 0.00977945327758789 seconds for solution baseline ---\n",
      "initial solution\n"
     ]
    },
    {
     "name": "stderr",
     "output_type": "stream",
     "text": [
      "100%|██████████| 24/24 [00:00<00:00, 2442.39it/s]\n"
     ]
    },
    {
     "name": "stdout",
     "output_type": "stream",
     "text": [
      "--- 0.009826421737670898 seconds for solution baseline ---\n",
      "initial solution\n"
     ]
    },
    {
     "name": "stderr",
     "output_type": "stream",
     "text": [
      "100%|██████████| 24/24 [00:00<00:00, 4338.94it/s]\n"
     ]
    },
    {
     "name": "stdout",
     "output_type": "stream",
     "text": [
      "--- 0.00553131103515625 seconds for solution baseline ---\n",
      "initial solution\n"
     ]
    },
    {
     "name": "stderr",
     "output_type": "stream",
     "text": [
      "100%|██████████| 24/24 [00:00<00:00, 2568.07it/s]\n"
     ]
    },
    {
     "name": "stdout",
     "output_type": "stream",
     "text": [
      "--- 0.0156862735748291 seconds for solution baseline ---\n",
      "initial solution\n"
     ]
    },
    {
     "name": "stderr",
     "output_type": "stream",
     "text": [
      "100%|██████████| 24/24 [00:00<00:00, 2738.84it/s]\n"
     ]
    },
    {
     "name": "stdout",
     "output_type": "stream",
     "text": [
      "--- 0.016475200653076172 seconds for solution baseline ---\n",
      "initial solution\n"
     ]
    },
    {
     "name": "stderr",
     "output_type": "stream",
     "text": [
      "100%|██████████| 24/24 [00:00<00:00, 2642.91it/s]\n"
     ]
    },
    {
     "name": "stdout",
     "output_type": "stream",
     "text": [
      "--- 0.01641082763671875 seconds for solution baseline ---\n",
      "initial solution\n"
     ]
    },
    {
     "name": "stderr",
     "output_type": "stream",
     "text": [
      "100%|██████████| 25/25 [00:00<00:00, 1502.28it/s]\n"
     ]
    },
    {
     "name": "stdout",
     "output_type": "stream",
     "text": [
      "--- 0.01664137840270996 seconds for solution baseline ---\n",
      "initial solution\n"
     ]
    },
    {
     "name": "stderr",
     "output_type": "stream",
     "text": [
      "100%|██████████| 25/25 [00:00<00:00, 2098.24it/s]\n"
     ]
    },
    {
     "name": "stdout",
     "output_type": "stream",
     "text": [
      "--- 0.020560741424560547 seconds for solution baseline ---\n",
      "initial solution\n"
     ]
    },
    {
     "name": "stderr",
     "output_type": "stream",
     "text": [
      "100%|██████████| 25/25 [00:00<00:00, 3026.63it/s]\n"
     ]
    },
    {
     "name": "stdout",
     "output_type": "stream",
     "text": [
      "--- 0.01240682601928711 seconds for solution baseline ---\n",
      "initial solution\n"
     ]
    },
    {
     "name": "stderr",
     "output_type": "stream",
     "text": [
      "100%|██████████| 25/25 [00:00<00:00, 3071.76it/s]\n"
     ]
    },
    {
     "name": "stdout",
     "output_type": "stream",
     "text": [
      "--- 0.012957572937011719 seconds for solution baseline ---\n",
      "initial solution\n"
     ]
    },
    {
     "name": "stderr",
     "output_type": "stream",
     "text": [
      "100%|██████████| 25/25 [00:00<00:00, 2512.58it/s]\n"
     ]
    },
    {
     "name": "stdout",
     "output_type": "stream",
     "text": [
      "--- 0.015599966049194336 seconds for solution baseline ---\n",
      "initial solution\n"
     ]
    },
    {
     "name": "stderr",
     "output_type": "stream",
     "text": [
      "100%|██████████| 25/25 [00:00<00:00, 1395.92it/s]\n"
     ]
    },
    {
     "name": "stdout",
     "output_type": "stream",
     "text": [
      "--- 0.01790928840637207 seconds for solution baseline ---\n",
      "initial solution\n"
     ]
    },
    {
     "name": "stderr",
     "output_type": "stream",
     "text": [
      "100%|██████████| 25/25 [00:00<00:00, 3039.88it/s]\n"
     ]
    },
    {
     "name": "stdout",
     "output_type": "stream",
     "text": [
      "--- 0.016170501708984375 seconds for solution baseline ---\n",
      "initial solution\n"
     ]
    },
    {
     "name": "stderr",
     "output_type": "stream",
     "text": [
      "100%|██████████| 25/25 [00:00<00:00, 2620.78it/s]\n"
     ]
    },
    {
     "name": "stdout",
     "output_type": "stream",
     "text": [
      "--- 0.016693830490112305 seconds for solution baseline ---\n",
      "initial solution\n"
     ]
    },
    {
     "name": "stderr",
     "output_type": "stream",
     "text": [
      "100%|██████████| 25/25 [00:00<00:00, 2062.02it/s]"
     ]
    },
    {
     "name": "stdout",
     "output_type": "stream",
     "text": [
      "--- 0.012124061584472656 seconds for solution baseline ---\n",
      "initial solution\n"
     ]
    },
    {
     "name": "stderr",
     "output_type": "stream",
     "text": [
      "\n",
      "100%|██████████| 25/25 [00:00<00:00, 2515.05it/s]\n"
     ]
    },
    {
     "name": "stdout",
     "output_type": "stream",
     "text": [
      "--- 0.012445688247680664 seconds for solution baseline ---\n",
      "initial solution\n"
     ]
    },
    {
     "name": "stderr",
     "output_type": "stream",
     "text": [
      "100%|██████████| 26/26 [00:00<00:00, 2750.02it/s]\n"
     ]
    },
    {
     "name": "stdout",
     "output_type": "stream",
     "text": [
      "--- 0.016877412796020508 seconds for solution baseline ---\n",
      "initial solution\n"
     ]
    },
    {
     "name": "stderr",
     "output_type": "stream",
     "text": [
      "100%|██████████| 26/26 [00:00<00:00, 2186.46it/s]\n"
     ]
    },
    {
     "name": "stdout",
     "output_type": "stream",
     "text": [
      "--- 0.015896081924438477 seconds for solution baseline ---\n",
      "initial solution\n"
     ]
    },
    {
     "name": "stderr",
     "output_type": "stream",
     "text": [
      "100%|██████████| 26/26 [00:00<00:00, 1828.81it/s]\n"
     ]
    },
    {
     "name": "stdout",
     "output_type": "stream",
     "text": [
      "--- 0.01734638214111328 seconds for solution baseline ---\n",
      "initial solution\n"
     ]
    },
    {
     "name": "stderr",
     "output_type": "stream",
     "text": [
      "100%|██████████| 26/26 [00:00<00:00, 1983.95it/s]\n"
     ]
    },
    {
     "name": "stdout",
     "output_type": "stream",
     "text": [
      "--- 0.01719522476196289 seconds for solution baseline ---\n",
      "initial solution\n"
     ]
    },
    {
     "name": "stderr",
     "output_type": "stream",
     "text": [
      "100%|██████████| 26/26 [00:00<00:00, 1821.57it/s]\n"
     ]
    },
    {
     "name": "stdout",
     "output_type": "stream",
     "text": [
      "--- 0.015598535537719727 seconds for solution baseline ---\n",
      "initial solution\n"
     ]
    },
    {
     "name": "stderr",
     "output_type": "stream",
     "text": [
      "100%|██████████| 26/26 [00:00<00:00, 2282.66it/s]\n"
     ]
    },
    {
     "name": "stdout",
     "output_type": "stream",
     "text": [
      "--- 0.016808748245239258 seconds for solution baseline ---\n",
      "initial solution\n"
     ]
    },
    {
     "name": "stderr",
     "output_type": "stream",
     "text": [
      "100%|██████████| 26/26 [00:00<00:00, 3092.00it/s]\n"
     ]
    },
    {
     "name": "stdout",
     "output_type": "stream",
     "text": [
      "--- 0.010070323944091797 seconds for solution baseline ---\n",
      "initial solution\n"
     ]
    },
    {
     "name": "stderr",
     "output_type": "stream",
     "text": [
      "100%|██████████| 26/26 [00:00<00:00, 2951.74it/s]\n"
     ]
    },
    {
     "name": "stdout",
     "output_type": "stream",
     "text": [
      "--- 0.01653599739074707 seconds for solution baseline ---\n",
      "initial solution\n"
     ]
    },
    {
     "name": "stderr",
     "output_type": "stream",
     "text": [
      "100%|██████████| 26/26 [00:00<00:00, 1483.46it/s]\n"
     ]
    },
    {
     "name": "stdout",
     "output_type": "stream",
     "text": [
      "--- 0.017526626586914062 seconds for solution baseline ---\n",
      "initial solution\n"
     ]
    },
    {
     "name": "stderr",
     "output_type": "stream",
     "text": [
      "100%|██████████| 26/26 [00:00<00:00, 2550.15it/s]\n"
     ]
    },
    {
     "name": "stdout",
     "output_type": "stream",
     "text": [
      "--- 0.020721435546875 seconds for solution baseline ---\n",
      "initial solution\n"
     ]
    },
    {
     "name": "stderr",
     "output_type": "stream",
     "text": [
      "100%|██████████| 27/27 [00:00<00:00, 2082.38it/s]\n"
     ]
    },
    {
     "name": "stdout",
     "output_type": "stream",
     "text": [
      "--- 0.012965917587280273 seconds for solution baseline ---\n",
      "initial solution\n"
     ]
    },
    {
     "name": "stderr",
     "output_type": "stream",
     "text": [
      "100%|██████████| 27/27 [00:00<00:00, 1496.16it/s]\n"
     ]
    },
    {
     "name": "stdout",
     "output_type": "stream",
     "text": [
      "--- 0.026453733444213867 seconds for solution baseline ---\n",
      "initial solution\n"
     ]
    },
    {
     "name": "stderr",
     "output_type": "stream",
     "text": [
      "100%|██████████| 27/27 [00:00<00:00, 1849.40it/s]\n"
     ]
    },
    {
     "name": "stdout",
     "output_type": "stream",
     "text": [
      "--- 0.021840333938598633 seconds for solution baseline ---\n",
      "initial solution\n"
     ]
    },
    {
     "name": "stderr",
     "output_type": "stream",
     "text": [
      "100%|██████████| 27/27 [00:00<00:00, 1126.38it/s]\n"
     ]
    },
    {
     "name": "stdout",
     "output_type": "stream",
     "text": [
      "--- 0.026011228561401367 seconds for solution baseline ---\n",
      "initial solution\n"
     ]
    },
    {
     "name": "stderr",
     "output_type": "stream",
     "text": [
      "100%|██████████| 27/27 [00:00<00:00, 1585.06it/s]\n"
     ]
    },
    {
     "name": "stdout",
     "output_type": "stream",
     "text": [
      "--- 0.018049001693725586 seconds for solution baseline ---\n",
      "initial solution\n"
     ]
    },
    {
     "name": "stderr",
     "output_type": "stream",
     "text": [
      "100%|██████████| 27/27 [00:00<00:00, 1165.66it/s]\n"
     ]
    },
    {
     "name": "stdout",
     "output_type": "stream",
     "text": [
      "--- 0.026895523071289062 seconds for solution baseline ---\n",
      "initial solution\n"
     ]
    },
    {
     "name": "stderr",
     "output_type": "stream",
     "text": [
      "100%|██████████| 27/27 [00:00<00:00, 1561.48it/s]"
     ]
    },
    {
     "name": "stdout",
     "output_type": "stream",
     "text": [
      "--- 0.02229785919189453 seconds for solution baseline ---\n",
      "initial solution\n"
     ]
    },
    {
     "name": "stderr",
     "output_type": "stream",
     "text": [
      "\n",
      "100%|██████████| 27/27 [00:00<00:00, 2831.16it/s]\n"
     ]
    },
    {
     "name": "stdout",
     "output_type": "stream",
     "text": [
      "--- 0.019324541091918945 seconds for solution baseline ---\n",
      "initial solution\n"
     ]
    },
    {
     "name": "stderr",
     "output_type": "stream",
     "text": [
      "100%|██████████| 27/27 [00:00<00:00, 1715.51it/s]\n"
     ]
    },
    {
     "name": "stdout",
     "output_type": "stream",
     "text": [
      "--- 0.019917964935302734 seconds for solution baseline ---\n",
      "initial solution\n"
     ]
    },
    {
     "name": "stderr",
     "output_type": "stream",
     "text": [
      "100%|██████████| 27/27 [00:00<00:00, 4309.54it/s]"
     ]
    },
    {
     "name": "stdout",
     "output_type": "stream",
     "text": [
      "--- 0.022753000259399414 seconds for solution baseline ---\n",
      "initial solution\n"
     ]
    },
    {
     "name": "stderr",
     "output_type": "stream",
     "text": [
      "\n",
      "100%|██████████| 28/28 [00:00<00:00, 1731.52it/s]\n"
     ]
    },
    {
     "name": "stdout",
     "output_type": "stream",
     "text": [
      "--- 0.0210573673248291 seconds for solution baseline ---\n",
      "initial solution\n"
     ]
    },
    {
     "name": "stderr",
     "output_type": "stream",
     "text": [
      "100%|██████████| 28/28 [00:00<00:00, 1921.29it/s]\n"
     ]
    },
    {
     "name": "stdout",
     "output_type": "stream",
     "text": [
      "--- 0.016391992568969727 seconds for solution baseline ---\n",
      "initial solution\n"
     ]
    },
    {
     "name": "stderr",
     "output_type": "stream",
     "text": [
      "100%|██████████| 28/28 [00:00<00:00, 1493.64it/s]\n"
     ]
    },
    {
     "name": "stdout",
     "output_type": "stream",
     "text": [
      "--- 0.023187875747680664 seconds for solution baseline ---\n",
      "initial solution\n"
     ]
    },
    {
     "name": "stderr",
     "output_type": "stream",
     "text": [
      "100%|██████████| 28/28 [00:00<00:00, 1709.02it/s]\n"
     ]
    },
    {
     "name": "stdout",
     "output_type": "stream",
     "text": [
      "--- 0.01925206184387207 seconds for solution baseline ---\n",
      "initial solution\n"
     ]
    },
    {
     "name": "stderr",
     "output_type": "stream",
     "text": [
      "100%|██████████| 28/28 [00:00<00:00, 1553.28it/s]\n"
     ]
    },
    {
     "name": "stdout",
     "output_type": "stream",
     "text": [
      "--- 0.020059585571289062 seconds for solution baseline ---\n",
      "initial solution\n"
     ]
    },
    {
     "name": "stderr",
     "output_type": "stream",
     "text": [
      "100%|██████████| 28/28 [00:00<00:00, 2054.38it/s]\n"
     ]
    },
    {
     "name": "stdout",
     "output_type": "stream",
     "text": [
      "--- 0.019359827041625977 seconds for solution baseline ---\n",
      "initial solution\n"
     ]
    },
    {
     "name": "stderr",
     "output_type": "stream",
     "text": [
      "100%|██████████| 28/28 [00:00<00:00, 1861.83it/s]\n"
     ]
    },
    {
     "name": "stdout",
     "output_type": "stream",
     "text": [
      "--- 0.024075746536254883 seconds for solution baseline ---\n",
      "initial solution\n"
     ]
    },
    {
     "name": "stderr",
     "output_type": "stream",
     "text": [
      "100%|██████████| 28/28 [00:00<00:00, 1884.81it/s]\n"
     ]
    },
    {
     "name": "stdout",
     "output_type": "stream",
     "text": [
      "--- 0.022531747817993164 seconds for solution baseline ---\n",
      "initial solution\n"
     ]
    },
    {
     "name": "stderr",
     "output_type": "stream",
     "text": [
      "100%|██████████| 28/28 [00:00<00:00, 1924.81it/s]\n"
     ]
    },
    {
     "name": "stdout",
     "output_type": "stream",
     "text": [
      "--- 0.01757025718688965 seconds for solution baseline ---\n",
      "initial solution\n"
     ]
    },
    {
     "name": "stderr",
     "output_type": "stream",
     "text": [
      "100%|██████████| 28/28 [00:00<00:00, 1312.61it/s]\n"
     ]
    },
    {
     "name": "stdout",
     "output_type": "stream",
     "text": [
      "--- 0.02795100212097168 seconds for solution baseline ---\n",
      "initial solution\n"
     ]
    },
    {
     "name": "stderr",
     "output_type": "stream",
     "text": [
      "100%|██████████| 29/29 [00:00<00:00, 1741.22it/s]\n"
     ]
    },
    {
     "name": "stdout",
     "output_type": "stream",
     "text": [
      "--- 0.025665283203125 seconds for solution baseline ---\n",
      "initial solution\n"
     ]
    },
    {
     "name": "stderr",
     "output_type": "stream",
     "text": [
      "100%|██████████| 29/29 [00:00<00:00, 1927.07it/s]\n"
     ]
    },
    {
     "name": "stdout",
     "output_type": "stream",
     "text": [
      "--- 0.030030488967895508 seconds for solution baseline ---\n",
      "initial solution\n"
     ]
    },
    {
     "name": "stderr",
     "output_type": "stream",
     "text": [
      "100%|██████████| 29/29 [00:00<00:00, 1758.39it/s]"
     ]
    },
    {
     "name": "stdout",
     "output_type": "stream",
     "text": [
      "--- 0.017512083053588867 seconds for solution baseline ---\n"
     ]
    },
    {
     "name": "stderr",
     "output_type": "stream",
     "text": [
      "\n"
     ]
    },
    {
     "name": "stdout",
     "output_type": "stream",
     "text": [
      "initial solution\n"
     ]
    },
    {
     "name": "stderr",
     "output_type": "stream",
     "text": [
      "100%|██████████| 29/29 [00:00<00:00, 1628.53it/s]\n"
     ]
    },
    {
     "name": "stdout",
     "output_type": "stream",
     "text": [
      "--- 0.020215749740600586 seconds for solution baseline ---\n",
      "initial solution\n"
     ]
    },
    {
     "name": "stderr",
     "output_type": "stream",
     "text": [
      "100%|██████████| 29/29 [00:00<00:00, 1632.27it/s]\n"
     ]
    },
    {
     "name": "stdout",
     "output_type": "stream",
     "text": [
      "--- 0.022213459014892578 seconds for solution baseline ---\n",
      "initial solution\n"
     ]
    },
    {
     "name": "stderr",
     "output_type": "stream",
     "text": [
      "100%|██████████| 29/29 [00:00<00:00, 1644.65it/s]\n"
     ]
    },
    {
     "name": "stdout",
     "output_type": "stream",
     "text": [
      "--- 0.023972749710083008 seconds for solution baseline ---\n",
      "initial solution\n"
     ]
    },
    {
     "name": "stderr",
     "output_type": "stream",
     "text": [
      "100%|██████████| 29/29 [00:00<00:00, 1432.89it/s]\n"
     ]
    },
    {
     "name": "stdout",
     "output_type": "stream",
     "text": [
      "--- 0.023940324783325195 seconds for solution baseline ---\n",
      "initial solution\n"
     ]
    },
    {
     "name": "stderr",
     "output_type": "stream",
     "text": [
      "100%|██████████| 29/29 [00:00<00:00, 1868.69it/s]\n"
     ]
    },
    {
     "name": "stdout",
     "output_type": "stream",
     "text": [
      "--- 0.022071123123168945 seconds for solution baseline ---\n",
      "initial solution\n"
     ]
    },
    {
     "name": "stderr",
     "output_type": "stream",
     "text": [
      "100%|██████████| 29/29 [00:00<00:00, 1461.10it/s]\n"
     ]
    },
    {
     "name": "stdout",
     "output_type": "stream",
     "text": [
      "--- 0.024765968322753906 seconds for solution baseline ---\n",
      "initial solution\n"
     ]
    },
    {
     "name": "stderr",
     "output_type": "stream",
     "text": [
      "100%|██████████| 29/29 [00:00<00:00, 1739.93it/s]\n"
     ]
    },
    {
     "name": "stdout",
     "output_type": "stream",
     "text": [
      "--- 0.029784679412841797 seconds for solution baseline ---\n",
      "initial solution\n"
     ]
    },
    {
     "name": "stderr",
     "output_type": "stream",
     "text": [
      "100%|██████████| 30/30 [00:00<00:00, 1093.21it/s]\n"
     ]
    },
    {
     "name": "stdout",
     "output_type": "stream",
     "text": [
      "--- 0.03894209861755371 seconds for solution baseline ---\n",
      "initial solution\n"
     ]
    },
    {
     "name": "stderr",
     "output_type": "stream",
     "text": [
      "100%|██████████| 30/30 [00:00<00:00, 1412.07it/s]\n"
     ]
    },
    {
     "name": "stdout",
     "output_type": "stream",
     "text": [
      "--- 0.026048898696899414 seconds for solution baseline ---\n",
      "initial solution\n"
     ]
    },
    {
     "name": "stderr",
     "output_type": "stream",
     "text": [
      "100%|██████████| 30/30 [00:00<00:00, 1225.31it/s]\n"
     ]
    },
    {
     "name": "stdout",
     "output_type": "stream",
     "text": [
      "--- 0.024483680725097656 seconds for solution baseline ---\n",
      "initial solution\n"
     ]
    },
    {
     "name": "stderr",
     "output_type": "stream",
     "text": [
      "100%|██████████| 30/30 [00:00<00:00, 1741.43it/s]\n"
     ]
    },
    {
     "name": "stdout",
     "output_type": "stream",
     "text": [
      "--- 0.026708126068115234 seconds for solution baseline ---\n",
      "initial solution\n"
     ]
    },
    {
     "name": "stderr",
     "output_type": "stream",
     "text": [
      "100%|██████████| 30/30 [00:00<00:00, 1868.43it/s]\n"
     ]
    },
    {
     "name": "stdout",
     "output_type": "stream",
     "text": [
      "--- 0.023152589797973633 seconds for solution baseline ---\n",
      "initial solution\n"
     ]
    },
    {
     "name": "stderr",
     "output_type": "stream",
     "text": [
      "100%|██████████| 30/30 [00:00<00:00, 1856.49it/s]\n"
     ]
    },
    {
     "name": "stdout",
     "output_type": "stream",
     "text": [
      "--- 0.02097177505493164 seconds for solution baseline ---\n",
      "initial solution\n"
     ]
    },
    {
     "name": "stderr",
     "output_type": "stream",
     "text": [
      "100%|██████████| 30/30 [00:00<00:00, 542.10it/s]\n"
     ]
    },
    {
     "name": "stdout",
     "output_type": "stream",
     "text": [
      "--- 0.06653213500976562 seconds for solution baseline ---\n",
      "initial solution\n"
     ]
    },
    {
     "name": "stderr",
     "output_type": "stream",
     "text": [
      "100%|██████████| 30/30 [00:00<00:00, 1152.99it/s]\n"
     ]
    },
    {
     "name": "stdout",
     "output_type": "stream",
     "text": [
      "--- 0.02601933479309082 seconds for solution baseline ---\n",
      "initial solution\n"
     ]
    },
    {
     "name": "stderr",
     "output_type": "stream",
     "text": [
      "100%|██████████| 30/30 [00:00<00:00, 1202.63it/s]\n"
     ]
    },
    {
     "name": "stdout",
     "output_type": "stream",
     "text": [
      "--- 0.02494525909423828 seconds for solution baseline ---\n",
      "initial solution\n"
     ]
    },
    {
     "name": "stderr",
     "output_type": "stream",
     "text": [
      "100%|██████████| 30/30 [00:00<00:00, 1850.26it/s]\n"
     ]
    },
    {
     "name": "stdout",
     "output_type": "stream",
     "text": [
      "--- 0.022246599197387695 seconds for solution baseline ---\n",
      "initial solution\n"
     ]
    },
    {
     "name": "stderr",
     "output_type": "stream",
     "text": [
      "100%|██████████| 31/31 [00:00<00:00, 1833.30it/s]\n"
     ]
    },
    {
     "name": "stdout",
     "output_type": "stream",
     "text": [
      "--- 0.024660110473632812 seconds for solution baseline ---\n",
      "initial solution\n"
     ]
    },
    {
     "name": "stderr",
     "output_type": "stream",
     "text": [
      "100%|██████████| 31/31 [00:00<00:00, 1363.10it/s]\n"
     ]
    },
    {
     "name": "stdout",
     "output_type": "stream",
     "text": [
      "--- 0.031395673751831055 seconds for solution baseline ---\n",
      "initial solution\n"
     ]
    },
    {
     "name": "stderr",
     "output_type": "stream",
     "text": [
      "100%|██████████| 31/31 [00:00<00:00, 1246.47it/s]\n"
     ]
    },
    {
     "name": "stdout",
     "output_type": "stream",
     "text": [
      "--- 0.02487015724182129 seconds for solution baseline ---\n",
      "initial solution\n"
     ]
    },
    {
     "name": "stderr",
     "output_type": "stream",
     "text": [
      "100%|██████████| 31/31 [00:00<00:00, 1362.36it/s]\n"
     ]
    },
    {
     "name": "stdout",
     "output_type": "stream",
     "text": [
      "--- 0.029035329818725586 seconds for solution baseline ---\n",
      "initial solution\n"
     ]
    },
    {
     "name": "stderr",
     "output_type": "stream",
     "text": [
      "100%|██████████| 31/31 [00:00<00:00, 1275.04it/s]\n"
     ]
    },
    {
     "name": "stdout",
     "output_type": "stream",
     "text": [
      "--- 0.03234386444091797 seconds for solution baseline ---\n",
      "initial solution\n"
     ]
    },
    {
     "name": "stderr",
     "output_type": "stream",
     "text": [
      "100%|██████████| 31/31 [00:00<00:00, 1056.63it/s]\n"
     ]
    },
    {
     "name": "stdout",
     "output_type": "stream",
     "text": [
      "--- 0.03272414207458496 seconds for solution baseline ---\n",
      "initial solution\n"
     ]
    },
    {
     "name": "stderr",
     "output_type": "stream",
     "text": [
      "100%|██████████| 31/31 [00:00<00:00, 1041.36it/s]\n"
     ]
    },
    {
     "name": "stdout",
     "output_type": "stream",
     "text": [
      "--- 0.0351107120513916 seconds for solution baseline ---\n",
      "initial solution\n"
     ]
    },
    {
     "name": "stderr",
     "output_type": "stream",
     "text": [
      "100%|██████████| 31/31 [00:00<00:00, 1227.33it/s]\n"
     ]
    },
    {
     "name": "stdout",
     "output_type": "stream",
     "text": [
      "--- 0.02962207794189453 seconds for solution baseline ---\n",
      "initial solution\n"
     ]
    },
    {
     "name": "stderr",
     "output_type": "stream",
     "text": [
      "100%|██████████| 31/31 [00:00<00:00, 1837.84it/s]\n"
     ]
    },
    {
     "name": "stdout",
     "output_type": "stream",
     "text": [
      "--- 0.02377939224243164 seconds for solution baseline ---\n",
      "initial solution\n"
     ]
    },
    {
     "name": "stderr",
     "output_type": "stream",
     "text": [
      "100%|██████████| 31/31 [00:00<00:00, 1244.35it/s]\n"
     ]
    },
    {
     "name": "stdout",
     "output_type": "stream",
     "text": [
      "--- 0.024912595748901367 seconds for solution baseline ---\n",
      "initial solution\n"
     ]
    },
    {
     "name": "stderr",
     "output_type": "stream",
     "text": [
      "100%|██████████| 32/32 [00:00<00:00, 1302.88it/s]\n"
     ]
    },
    {
     "name": "stdout",
     "output_type": "stream",
     "text": [
      "--- 0.031435251235961914 seconds for solution baseline ---\n",
      "initial solution\n"
     ]
    },
    {
     "name": "stderr",
     "output_type": "stream",
     "text": [
      "100%|██████████| 32/32 [00:00<00:00, 1248.83it/s]\n"
     ]
    },
    {
     "name": "stdout",
     "output_type": "stream",
     "text": [
      "--- 0.031123638153076172 seconds for solution baseline ---\n",
      "initial solution\n"
     ]
    },
    {
     "name": "stderr",
     "output_type": "stream",
     "text": [
      "100%|██████████| 32/32 [00:00<00:00, 1253.14it/s]"
     ]
    },
    {
     "name": "stdout",
     "output_type": "stream",
     "text": [
      "--- 0.03240013122558594 seconds for solution baseline ---\n"
     ]
    },
    {
     "name": "stderr",
     "output_type": "stream",
     "text": [
      "\n"
     ]
    },
    {
     "name": "stdout",
     "output_type": "stream",
     "text": [
      "initial solution\n"
     ]
    },
    {
     "name": "stderr",
     "output_type": "stream",
     "text": [
      "100%|██████████| 32/32 [00:00<00:00, 1361.59it/s]\n"
     ]
    },
    {
     "name": "stdout",
     "output_type": "stream",
     "text": [
      "--- 0.08449840545654297 seconds for solution baseline ---\n",
      "initial solution\n"
     ]
    },
    {
     "name": "stderr",
     "output_type": "stream",
     "text": [
      "100%|██████████| 32/32 [00:00<00:00, 1513.45it/s]\n"
     ]
    },
    {
     "name": "stdout",
     "output_type": "stream",
     "text": [
      "--- 0.025310516357421875 seconds for solution baseline ---\n",
      "initial solution\n"
     ]
    },
    {
     "name": "stderr",
     "output_type": "stream",
     "text": [
      "100%|██████████| 32/32 [00:00<00:00, 1146.50it/s]\n"
     ]
    },
    {
     "name": "stdout",
     "output_type": "stream",
     "text": [
      "--- 0.03156566619873047 seconds for solution baseline ---\n",
      "initial solution\n"
     ]
    },
    {
     "name": "stderr",
     "output_type": "stream",
     "text": [
      "100%|██████████| 32/32 [00:00<00:00, 1068.08it/s]\n"
     ]
    },
    {
     "name": "stdout",
     "output_type": "stream",
     "text": [
      "--- 0.02996039390563965 seconds for solution baseline ---\n",
      "initial solution\n"
     ]
    },
    {
     "name": "stderr",
     "output_type": "stream",
     "text": [
      "100%|██████████| 32/32 [00:00<00:00, 1008.88it/s]\n"
     ]
    },
    {
     "name": "stdout",
     "output_type": "stream",
     "text": [
      "--- 0.042139530181884766 seconds for solution baseline ---\n",
      "initial solution\n"
     ]
    },
    {
     "name": "stderr",
     "output_type": "stream",
     "text": [
      "100%|██████████| 32/32 [00:00<00:00, 1439.29it/s]\n"
     ]
    },
    {
     "name": "stdout",
     "output_type": "stream",
     "text": [
      "--- 0.02785515785217285 seconds for solution baseline ---\n",
      "initial solution\n"
     ]
    },
    {
     "name": "stderr",
     "output_type": "stream",
     "text": [
      "100%|██████████| 32/32 [00:00<00:00, 1286.98it/s]\n"
     ]
    },
    {
     "name": "stdout",
     "output_type": "stream",
     "text": [
      "--- 0.02714848518371582 seconds for solution baseline ---\n",
      "initial solution\n"
     ]
    },
    {
     "name": "stderr",
     "output_type": "stream",
     "text": [
      "100%|██████████| 33/33 [00:00<00:00, 1048.27it/s]\n"
     ]
    },
    {
     "name": "stdout",
     "output_type": "stream",
     "text": [
      "--- 0.04033017158508301 seconds for solution baseline ---\n",
      "initial solution\n"
     ]
    },
    {
     "name": "stderr",
     "output_type": "stream",
     "text": [
      "100%|██████████| 33/33 [00:00<00:00, 1328.24it/s]\n"
     ]
    },
    {
     "name": "stdout",
     "output_type": "stream",
     "text": [
      "--- 0.028539419174194336 seconds for solution baseline ---\n",
      "initial solution\n"
     ]
    },
    {
     "name": "stderr",
     "output_type": "stream",
     "text": [
      "100%|██████████| 33/33 [00:00<00:00, 1014.33it/s]\n"
     ]
    },
    {
     "name": "stdout",
     "output_type": "stream",
     "text": [
      "--- 0.04069709777832031 seconds for solution baseline ---\n",
      "initial solution\n"
     ]
    },
    {
     "name": "stderr",
     "output_type": "stream",
     "text": [
      "100%|██████████| 33/33 [00:00<00:00, 1140.06it/s]\n"
     ]
    },
    {
     "name": "stdout",
     "output_type": "stream",
     "text": [
      "--- 0.03204631805419922 seconds for solution baseline ---\n",
      "initial solution\n"
     ]
    },
    {
     "name": "stderr",
     "output_type": "stream",
     "text": [
      "100%|██████████| 33/33 [00:00<00:00, 995.19it/s]\n"
     ]
    },
    {
     "name": "stdout",
     "output_type": "stream",
     "text": [
      "--- 0.04059410095214844 seconds for solution baseline ---\n",
      "initial solution\n"
     ]
    },
    {
     "name": "stderr",
     "output_type": "stream",
     "text": [
      "100%|██████████| 33/33 [00:00<00:00, 1302.05it/s]\n"
     ]
    },
    {
     "name": "stdout",
     "output_type": "stream",
     "text": [
      "--- 0.030938386917114258 seconds for solution baseline ---\n",
      "initial solution\n"
     ]
    },
    {
     "name": "stderr",
     "output_type": "stream",
     "text": [
      "100%|██████████| 33/33 [00:00<00:00, 1071.64it/s]\n"
     ]
    },
    {
     "name": "stdout",
     "output_type": "stream",
     "text": [
      "--- 0.032315731048583984 seconds for solution baseline ---\n",
      "initial solution\n"
     ]
    },
    {
     "name": "stderr",
     "output_type": "stream",
     "text": [
      "100%|██████████| 33/33 [00:00<00:00, 859.91it/s]\n"
     ]
    },
    {
     "name": "stdout",
     "output_type": "stream",
     "text": [
      "--- 0.0383763313293457 seconds for solution baseline ---\n",
      "initial solution\n"
     ]
    },
    {
     "name": "stderr",
     "output_type": "stream",
     "text": [
      "100%|██████████| 33/33 [00:00<00:00, 1322.62it/s]\n"
     ]
    },
    {
     "name": "stdout",
     "output_type": "stream",
     "text": [
      "--- 0.05670356750488281 seconds for solution baseline ---\n",
      "initial solution\n"
     ]
    },
    {
     "name": "stderr",
     "output_type": "stream",
     "text": [
      "100%|██████████| 33/33 [00:00<00:00, 1450.48it/s]\n"
     ]
    },
    {
     "name": "stdout",
     "output_type": "stream",
     "text": [
      "--- 0.03244662284851074 seconds for solution baseline ---\n",
      "initial solution\n"
     ]
    },
    {
     "name": "stderr",
     "output_type": "stream",
     "text": [
      "100%|██████████| 34/34 [00:00<00:00, 1016.24it/s]\n"
     ]
    },
    {
     "name": "stdout",
     "output_type": "stream",
     "text": [
      "--- 0.03557395935058594 seconds for solution baseline ---\n",
      "initial solution\n"
     ]
    },
    {
     "name": "stderr",
     "output_type": "stream",
     "text": [
      "100%|██████████| 34/34 [00:00<00:00, 1021.29it/s]\n"
     ]
    },
    {
     "name": "stdout",
     "output_type": "stream",
     "text": [
      "--- 0.039653778076171875 seconds for solution baseline ---\n",
      "initial solution\n"
     ]
    },
    {
     "name": "stderr",
     "output_type": "stream",
     "text": [
      "100%|██████████| 34/34 [00:00<00:00, 1086.39it/s]\n"
     ]
    },
    {
     "name": "stdout",
     "output_type": "stream",
     "text": [
      "--- 0.03288722038269043 seconds for solution baseline ---\n",
      "initial solution\n"
     ]
    },
    {
     "name": "stderr",
     "output_type": "stream",
     "text": [
      "100%|██████████| 34/34 [00:00<00:00, 985.31it/s]"
     ]
    },
    {
     "name": "stdout",
     "output_type": "stream",
     "text": [
      "--- 0.04261326789855957 seconds for solution baseline ---\n",
      "initial solution\n"
     ]
    },
    {
     "name": "stderr",
     "output_type": "stream",
     "text": [
      "\n",
      "100%|██████████| 34/34 [00:00<00:00, 997.44it/s]\n"
     ]
    },
    {
     "name": "stdout",
     "output_type": "stream",
     "text": [
      "--- 0.04548072814941406 seconds for solution baseline ---\n",
      "initial solution\n"
     ]
    },
    {
     "name": "stderr",
     "output_type": "stream",
     "text": [
      "100%|██████████| 34/34 [00:00<00:00, 1098.72it/s]\n"
     ]
    },
    {
     "name": "stdout",
     "output_type": "stream",
     "text": [
      "--- 0.03478527069091797 seconds for solution baseline ---\n",
      "initial solution\n"
     ]
    },
    {
     "name": "stderr",
     "output_type": "stream",
     "text": [
      "100%|██████████| 34/34 [00:00<00:00, 1288.72it/s]\n"
     ]
    },
    {
     "name": "stdout",
     "output_type": "stream",
     "text": [
      "--- 0.03292560577392578 seconds for solution baseline ---\n",
      "initial solution\n"
     ]
    },
    {
     "name": "stderr",
     "output_type": "stream",
     "text": [
      "100%|██████████| 34/34 [00:00<00:00, 1149.91it/s]\n"
     ]
    },
    {
     "name": "stdout",
     "output_type": "stream",
     "text": [
      "--- 0.0340268611907959 seconds for solution baseline ---\n",
      "initial solution\n"
     ]
    },
    {
     "name": "stderr",
     "output_type": "stream",
     "text": [
      "100%|██████████| 34/34 [00:00<00:00, 1139.50it/s]\n"
     ]
    },
    {
     "name": "stdout",
     "output_type": "stream",
     "text": [
      "--- 0.033585548400878906 seconds for solution baseline ---\n",
      "initial solution\n"
     ]
    },
    {
     "name": "stderr",
     "output_type": "stream",
     "text": [
      "100%|██████████| 34/34 [00:00<00:00, 1282.06it/s]\n"
     ]
    },
    {
     "name": "stdout",
     "output_type": "stream",
     "text": [
      "--- 0.033830881118774414 seconds for solution baseline ---\n",
      "initial solution\n"
     ]
    },
    {
     "name": "stderr",
     "output_type": "stream",
     "text": [
      "100%|██████████| 35/35 [00:00<00:00, 1128.25it/s]\n"
     ]
    },
    {
     "name": "stdout",
     "output_type": "stream",
     "text": [
      "--- 0.034728288650512695 seconds for solution baseline ---\n",
      "initial solution\n"
     ]
    },
    {
     "name": "stderr",
     "output_type": "stream",
     "text": [
      "100%|██████████| 35/35 [00:00<00:00, 1208.42it/s]\n"
     ]
    },
    {
     "name": "stdout",
     "output_type": "stream",
     "text": [
      "--- 0.03497576713562012 seconds for solution baseline ---\n",
      "initial solution\n"
     ]
    },
    {
     "name": "stderr",
     "output_type": "stream",
     "text": [
      "100%|██████████| 35/35 [00:00<00:00, 938.07it/s]\n"
     ]
    },
    {
     "name": "stdout",
     "output_type": "stream",
     "text": [
      "--- 0.04234671592712402 seconds for solution baseline ---\n",
      "initial solution\n"
     ]
    },
    {
     "name": "stderr",
     "output_type": "stream",
     "text": [
      "100%|██████████| 35/35 [00:00<00:00, 1097.07it/s]\n"
     ]
    },
    {
     "name": "stdout",
     "output_type": "stream",
     "text": [
      "--- 0.03972458839416504 seconds for solution baseline ---\n",
      "initial solution\n"
     ]
    },
    {
     "name": "stderr",
     "output_type": "stream",
     "text": [
      "100%|██████████| 35/35 [00:00<00:00, 955.90it/s]\n"
     ]
    },
    {
     "name": "stdout",
     "output_type": "stream",
     "text": [
      "--- 0.047260284423828125 seconds for solution baseline ---\n",
      "initial solution\n"
     ]
    },
    {
     "name": "stderr",
     "output_type": "stream",
     "text": [
      "100%|██████████| 35/35 [00:00<00:00, 1217.06it/s]\n"
     ]
    },
    {
     "name": "stdout",
     "output_type": "stream",
     "text": [
      "--- 0.03286290168762207 seconds for solution baseline ---\n",
      "initial solution\n"
     ]
    },
    {
     "name": "stderr",
     "output_type": "stream",
     "text": [
      "100%|██████████| 35/35 [00:00<00:00, 1005.17it/s]\n"
     ]
    },
    {
     "name": "stdout",
     "output_type": "stream",
     "text": [
      "--- 0.04163837432861328 seconds for solution baseline ---\n",
      "initial solution\n"
     ]
    },
    {
     "name": "stderr",
     "output_type": "stream",
     "text": [
      "100%|██████████| 35/35 [00:00<00:00, 1143.84it/s]\n"
     ]
    },
    {
     "name": "stdout",
     "output_type": "stream",
     "text": [
      "--- 0.03383755683898926 seconds for solution baseline ---\n",
      "initial solution\n"
     ]
    },
    {
     "name": "stderr",
     "output_type": "stream",
     "text": [
      "100%|██████████| 35/35 [00:00<00:00, 1042.94it/s]\n"
     ]
    },
    {
     "name": "stdout",
     "output_type": "stream",
     "text": [
      "--- 0.03355884552001953 seconds for solution baseline ---\n",
      "initial solution\n"
     ]
    },
    {
     "name": "stderr",
     "output_type": "stream",
     "text": [
      "100%|██████████| 35/35 [00:00<00:00, 908.63it/s]\n"
     ]
    },
    {
     "name": "stdout",
     "output_type": "stream",
     "text": [
      "--- 0.04491710662841797 seconds for solution baseline ---\n",
      "initial solution\n"
     ]
    },
    {
     "name": "stderr",
     "output_type": "stream",
     "text": [
      "100%|██████████| 36/36 [00:00<00:00, 858.47it/s]\n"
     ]
    },
    {
     "name": "stdout",
     "output_type": "stream",
     "text": [
      "--- 0.04193520545959473 seconds for solution baseline ---\n",
      "initial solution\n"
     ]
    },
    {
     "name": "stderr",
     "output_type": "stream",
     "text": [
      "100%|██████████| 36/36 [00:00<00:00, 929.03it/s]\n"
     ]
    },
    {
     "name": "stdout",
     "output_type": "stream",
     "text": [
      "--- 0.04505181312561035 seconds for solution baseline ---\n",
      "initial solution\n"
     ]
    },
    {
     "name": "stderr",
     "output_type": "stream",
     "text": [
      "100%|██████████| 36/36 [00:00<00:00, 882.47it/s]\n"
     ]
    },
    {
     "name": "stdout",
     "output_type": "stream",
     "text": [
      "--- 0.055521488189697266 seconds for solution baseline ---\n",
      "initial solution\n"
     ]
    },
    {
     "name": "stderr",
     "output_type": "stream",
     "text": [
      "100%|██████████| 36/36 [00:00<00:00, 1137.22it/s]\n"
     ]
    },
    {
     "name": "stdout",
     "output_type": "stream",
     "text": [
      "--- 0.04088950157165527 seconds for solution baseline ---\n",
      "initial solution\n"
     ]
    },
    {
     "name": "stderr",
     "output_type": "stream",
     "text": [
      "100%|██████████| 36/36 [00:00<00:00, 837.85it/s]\n"
     ]
    },
    {
     "name": "stdout",
     "output_type": "stream",
     "text": [
      "--- 0.04964494705200195 seconds for solution baseline ---\n",
      "initial solution\n"
     ]
    },
    {
     "name": "stderr",
     "output_type": "stream",
     "text": [
      "100%|██████████| 36/36 [00:00<00:00, 1045.73it/s]\n"
     ]
    },
    {
     "name": "stdout",
     "output_type": "stream",
     "text": [
      "--- 0.040003299713134766 seconds for solution baseline ---\n",
      "initial solution\n"
     ]
    },
    {
     "name": "stderr",
     "output_type": "stream",
     "text": [
      "100%|██████████| 36/36 [00:00<00:00, 1007.83it/s]\n"
     ]
    },
    {
     "name": "stdout",
     "output_type": "stream",
     "text": [
      "--- 0.04417586326599121 seconds for solution baseline ---\n",
      "initial solution\n"
     ]
    },
    {
     "name": "stderr",
     "output_type": "stream",
     "text": [
      "100%|██████████| 36/36 [00:00<00:00, 899.73it/s]\n"
     ]
    },
    {
     "name": "stdout",
     "output_type": "stream",
     "text": [
      "--- 0.048822879791259766 seconds for solution baseline ---\n",
      "initial solution\n"
     ]
    },
    {
     "name": "stderr",
     "output_type": "stream",
     "text": [
      "100%|██████████| 36/36 [00:00<00:00, 867.66it/s]\n"
     ]
    },
    {
     "name": "stdout",
     "output_type": "stream",
     "text": [
      "--- 0.0510561466217041 seconds for solution baseline ---\n",
      "initial solution\n"
     ]
    },
    {
     "name": "stderr",
     "output_type": "stream",
     "text": [
      "100%|██████████| 36/36 [00:00<00:00, 857.32it/s]\n"
     ]
    },
    {
     "name": "stdout",
     "output_type": "stream",
     "text": [
      "--- 0.04518699645996094 seconds for solution baseline ---\n",
      "initial solution\n"
     ]
    },
    {
     "name": "stderr",
     "output_type": "stream",
     "text": [
      "100%|██████████| 37/37 [00:00<00:00, 846.36it/s]\n"
     ]
    },
    {
     "name": "stdout",
     "output_type": "stream",
     "text": [
      "--- 0.051554203033447266 seconds for solution baseline ---\n",
      "initial solution\n"
     ]
    },
    {
     "name": "stderr",
     "output_type": "stream",
     "text": [
      "100%|██████████| 37/37 [00:00<00:00, 875.21it/s]\n"
     ]
    },
    {
     "name": "stdout",
     "output_type": "stream",
     "text": [
      "--- 0.04227566719055176 seconds for solution baseline ---\n",
      "initial solution\n"
     ]
    },
    {
     "name": "stderr",
     "output_type": "stream",
     "text": [
      "100%|██████████| 37/37 [00:00<00:00, 777.28it/s]\n"
     ]
    },
    {
     "name": "stdout",
     "output_type": "stream",
     "text": [
      "--- 0.04863166809082031 seconds for solution baseline ---\n",
      "initial solution\n"
     ]
    },
    {
     "name": "stderr",
     "output_type": "stream",
     "text": [
      "100%|██████████| 37/37 [00:00<00:00, 806.08it/s]\n"
     ]
    },
    {
     "name": "stdout",
     "output_type": "stream",
     "text": [
      "--- 0.05392122268676758 seconds for solution baseline ---\n",
      "initial solution\n"
     ]
    },
    {
     "name": "stderr",
     "output_type": "stream",
     "text": [
      "100%|██████████| 37/37 [00:00<00:00, 865.29it/s]\n"
     ]
    },
    {
     "name": "stdout",
     "output_type": "stream",
     "text": [
      "--- 0.04904532432556152 seconds for solution baseline ---\n",
      "initial solution\n"
     ]
    },
    {
     "name": "stderr",
     "output_type": "stream",
     "text": [
      "100%|██████████| 37/37 [00:00<00:00, 955.82it/s]\n"
     ]
    },
    {
     "name": "stdout",
     "output_type": "stream",
     "text": [
      "--- 0.04727578163146973 seconds for solution baseline ---\n",
      "initial solution\n"
     ]
    },
    {
     "name": "stderr",
     "output_type": "stream",
     "text": [
      "100%|██████████| 37/37 [00:00<00:00, 884.51it/s]\n"
     ]
    },
    {
     "name": "stdout",
     "output_type": "stream",
     "text": [
      "--- 0.10060834884643555 seconds for solution baseline ---\n",
      "initial solution\n"
     ]
    },
    {
     "name": "stderr",
     "output_type": "stream",
     "text": [
      "100%|██████████| 37/37 [00:00<00:00, 748.78it/s]\n"
     ]
    },
    {
     "name": "stdout",
     "output_type": "stream",
     "text": [
      "--- 0.04941368103027344 seconds for solution baseline ---\n",
      "initial solution\n"
     ]
    },
    {
     "name": "stderr",
     "output_type": "stream",
     "text": [
      "100%|██████████| 37/37 [00:00<00:00, 736.40it/s]\n"
     ]
    },
    {
     "name": "stdout",
     "output_type": "stream",
     "text": [
      "--- 0.05627918243408203 seconds for solution baseline ---\n",
      "initial solution\n"
     ]
    },
    {
     "name": "stderr",
     "output_type": "stream",
     "text": [
      "100%|██████████| 37/37 [00:00<00:00, 748.46it/s]\n"
     ]
    },
    {
     "name": "stdout",
     "output_type": "stream",
     "text": [
      "--- 0.049434661865234375 seconds for solution baseline ---\n",
      "initial solution\n"
     ]
    },
    {
     "name": "stderr",
     "output_type": "stream",
     "text": [
      "100%|██████████| 38/38 [00:00<00:00, 566.86it/s]\n"
     ]
    },
    {
     "name": "stdout",
     "output_type": "stream",
     "text": [
      "--- 0.07660460472106934 seconds for solution baseline ---\n",
      "initial solution\n"
     ]
    },
    {
     "name": "stderr",
     "output_type": "stream",
     "text": [
      "100%|██████████| 38/38 [00:00<00:00, 727.51it/s]\n"
     ]
    },
    {
     "name": "stdout",
     "output_type": "stream",
     "text": [
      "--- 0.056812286376953125 seconds for solution baseline ---\n",
      "initial solution\n"
     ]
    },
    {
     "name": "stderr",
     "output_type": "stream",
     "text": [
      "100%|██████████| 38/38 [00:00<00:00, 721.03it/s]\n"
     ]
    },
    {
     "name": "stdout",
     "output_type": "stream",
     "text": [
      "--- 0.056000471115112305 seconds for solution baseline ---\n",
      "initial solution\n"
     ]
    },
    {
     "name": "stderr",
     "output_type": "stream",
     "text": [
      "100%|██████████| 38/38 [00:00<00:00, 812.40it/s]\n"
     ]
    },
    {
     "name": "stdout",
     "output_type": "stream",
     "text": [
      "--- 0.05514025688171387 seconds for solution baseline ---\n",
      "initial solution\n"
     ]
    },
    {
     "name": "stderr",
     "output_type": "stream",
     "text": [
      "100%|██████████| 38/38 [00:00<00:00, 795.68it/s]\n"
     ]
    },
    {
     "name": "stdout",
     "output_type": "stream",
     "text": [
      "--- 0.049302101135253906 seconds for solution baseline ---\n",
      "initial solution\n"
     ]
    },
    {
     "name": "stderr",
     "output_type": "stream",
     "text": [
      "100%|██████████| 38/38 [00:00<00:00, 809.89it/s]\n"
     ]
    },
    {
     "name": "stdout",
     "output_type": "stream",
     "text": [
      "--- 0.04868888854980469 seconds for solution baseline ---\n",
      "initial solution\n"
     ]
    },
    {
     "name": "stderr",
     "output_type": "stream",
     "text": [
      "100%|██████████| 38/38 [00:00<00:00, 855.44it/s]\n"
     ]
    },
    {
     "name": "stdout",
     "output_type": "stream",
     "text": [
      "--- 0.05122995376586914 seconds for solution baseline ---\n",
      "initial solution\n"
     ]
    },
    {
     "name": "stderr",
     "output_type": "stream",
     "text": [
      "100%|██████████| 38/38 [00:00<00:00, 790.01it/s]\n"
     ]
    },
    {
     "name": "stdout",
     "output_type": "stream",
     "text": [
      "--- 0.052425384521484375 seconds for solution baseline ---\n",
      "initial solution\n"
     ]
    },
    {
     "name": "stderr",
     "output_type": "stream",
     "text": [
      "100%|██████████| 38/38 [00:00<00:00, 759.74it/s]\n"
     ]
    },
    {
     "name": "stdout",
     "output_type": "stream",
     "text": [
      "--- 0.05321145057678223 seconds for solution baseline ---\n",
      "initial solution\n"
     ]
    },
    {
     "name": "stderr",
     "output_type": "stream",
     "text": [
      "100%|██████████| 38/38 [00:00<00:00, 775.24it/s]\n"
     ]
    },
    {
     "name": "stdout",
     "output_type": "stream",
     "text": [
      "--- 0.05788612365722656 seconds for solution baseline ---\n",
      "initial solution\n"
     ]
    },
    {
     "name": "stderr",
     "output_type": "stream",
     "text": [
      "100%|██████████| 39/39 [00:00<00:00, 681.30it/s]\n"
     ]
    },
    {
     "name": "stdout",
     "output_type": "stream",
     "text": [
      "--- 0.06633687019348145 seconds for solution baseline ---\n",
      "initial solution\n"
     ]
    },
    {
     "name": "stderr",
     "output_type": "stream",
     "text": [
      "100%|██████████| 39/39 [00:00<00:00, 787.98it/s]\n"
     ]
    },
    {
     "name": "stdout",
     "output_type": "stream",
     "text": [
      "--- 0.055406808853149414 seconds for solution baseline ---\n",
      "initial solution\n"
     ]
    },
    {
     "name": "stderr",
     "output_type": "stream",
     "text": [
      "100%|██████████| 39/39 [00:00<00:00, 544.52it/s]\n"
     ]
    },
    {
     "name": "stdout",
     "output_type": "stream",
     "text": [
      "--- 0.07499289512634277 seconds for solution baseline ---\n",
      "initial solution\n"
     ]
    },
    {
     "name": "stderr",
     "output_type": "stream",
     "text": [
      "100%|██████████| 39/39 [00:00<00:00, 874.82it/s]\n"
     ]
    },
    {
     "name": "stdout",
     "output_type": "stream",
     "text": [
      "--- 0.05513763427734375 seconds for solution baseline ---\n",
      "initial solution\n"
     ]
    },
    {
     "name": "stderr",
     "output_type": "stream",
     "text": [
      "100%|██████████| 39/39 [00:00<00:00, 724.99it/s]\n"
     ]
    },
    {
     "name": "stdout",
     "output_type": "stream",
     "text": [
      "--- 0.061504364013671875 seconds for solution baseline ---\n",
      "initial solution\n"
     ]
    },
    {
     "name": "stderr",
     "output_type": "stream",
     "text": [
      "100%|██████████| 39/39 [00:00<00:00, 774.67it/s]\n"
     ]
    },
    {
     "name": "stdout",
     "output_type": "stream",
     "text": [
      "--- 0.05735158920288086 seconds for solution baseline ---\n",
      "initial solution\n"
     ]
    },
    {
     "name": "stderr",
     "output_type": "stream",
     "text": [
      "100%|██████████| 39/39 [00:00<00:00, 944.81it/s]\n"
     ]
    },
    {
     "name": "stdout",
     "output_type": "stream",
     "text": [
      "--- 0.05693960189819336 seconds for solution baseline ---\n",
      "initial solution\n"
     ]
    },
    {
     "name": "stderr",
     "output_type": "stream",
     "text": [
      "100%|██████████| 39/39 [00:00<00:00, 678.29it/s]\n"
     ]
    },
    {
     "name": "stdout",
     "output_type": "stream",
     "text": [
      "--- 0.06731724739074707 seconds for solution baseline ---\n",
      "initial solution\n"
     ]
    },
    {
     "name": "stderr",
     "output_type": "stream",
     "text": [
      "100%|██████████| 39/39 [00:00<00:00, 703.30it/s]\n"
     ]
    },
    {
     "name": "stdout",
     "output_type": "stream",
     "text": [
      "--- 0.05651092529296875 seconds for solution baseline ---\n",
      "initial solution\n"
     ]
    },
    {
     "name": "stderr",
     "output_type": "stream",
     "text": [
      "100%|██████████| 39/39 [00:00<00:00, 823.31it/s]\n"
     ]
    },
    {
     "name": "stdout",
     "output_type": "stream",
     "text": [
      "--- 0.051006317138671875 seconds for solution baseline ---\n",
      "initial solution\n"
     ]
    },
    {
     "name": "stderr",
     "output_type": "stream",
     "text": [
      "100%|██████████| 40/40 [00:00<00:00, 718.29it/s]\n"
     ]
    },
    {
     "name": "stdout",
     "output_type": "stream",
     "text": [
      "--- 0.06609010696411133 seconds for solution baseline ---\n",
      "initial solution\n"
     ]
    },
    {
     "name": "stderr",
     "output_type": "stream",
     "text": [
      "100%|██████████| 40/40 [00:00<00:00, 747.47it/s]\n"
     ]
    },
    {
     "name": "stdout",
     "output_type": "stream",
     "text": [
      "--- 0.05894327163696289 seconds for solution baseline ---\n",
      "initial solution\n"
     ]
    },
    {
     "name": "stderr",
     "output_type": "stream",
     "text": [
      "100%|██████████| 40/40 [00:00<00:00, 787.71it/s]\n"
     ]
    },
    {
     "name": "stdout",
     "output_type": "stream",
     "text": [
      "--- 0.06157660484313965 seconds for solution baseline ---\n",
      "initial solution\n"
     ]
    },
    {
     "name": "stderr",
     "output_type": "stream",
     "text": [
      "100%|██████████| 40/40 [00:00<00:00, 718.48it/s]\n"
     ]
    },
    {
     "name": "stdout",
     "output_type": "stream",
     "text": [
      "--- 0.0588078498840332 seconds for solution baseline ---\n",
      "initial solution\n"
     ]
    },
    {
     "name": "stderr",
     "output_type": "stream",
     "text": [
      "100%|██████████| 40/40 [00:00<00:00, 732.24it/s]\n"
     ]
    },
    {
     "name": "stdout",
     "output_type": "stream",
     "text": [
      "--- 0.059648990631103516 seconds for solution baseline ---\n",
      "initial solution\n"
     ]
    },
    {
     "name": "stderr",
     "output_type": "stream",
     "text": [
      "100%|██████████| 40/40 [00:00<00:00, 748.49it/s]\n"
     ]
    },
    {
     "name": "stdout",
     "output_type": "stream",
     "text": [
      "--- 0.06750154495239258 seconds for solution baseline ---\n",
      "initial solution\n"
     ]
    },
    {
     "name": "stderr",
     "output_type": "stream",
     "text": [
      "100%|██████████| 40/40 [00:00<00:00, 677.06it/s]\n"
     ]
    },
    {
     "name": "stdout",
     "output_type": "stream",
     "text": [
      "--- 0.06585097312927246 seconds for solution baseline ---\n",
      "initial solution\n"
     ]
    },
    {
     "name": "stderr",
     "output_type": "stream",
     "text": [
      "100%|██████████| 40/40 [00:00<00:00, 609.00it/s]\n"
     ]
    },
    {
     "name": "stdout",
     "output_type": "stream",
     "text": [
      "--- 0.07137227058410645 seconds for solution baseline ---\n",
      "initial solution\n"
     ]
    },
    {
     "name": "stderr",
     "output_type": "stream",
     "text": [
      "100%|██████████| 40/40 [00:00<00:00, 671.71it/s]\n"
     ]
    },
    {
     "name": "stdout",
     "output_type": "stream",
     "text": [
      "--- 0.059549808502197266 seconds for solution baseline ---\n",
      "initial solution\n"
     ]
    },
    {
     "name": "stderr",
     "output_type": "stream",
     "text": [
      "100%|██████████| 40/40 [00:00<00:00, 756.43it/s]\n"
     ]
    },
    {
     "name": "stdout",
     "output_type": "stream",
     "text": [
      "--- 0.06350588798522949 seconds for solution baseline ---\n",
      "initial solution\n"
     ]
    },
    {
     "name": "stderr",
     "output_type": "stream",
     "text": [
      "100%|██████████| 41/41 [00:00<00:00, 392.71it/s]\n"
     ]
    },
    {
     "name": "stdout",
     "output_type": "stream",
     "text": [
      "--- 0.17159676551818848 seconds for solution baseline ---\n",
      "initial solution\n"
     ]
    },
    {
     "name": "stderr",
     "output_type": "stream",
     "text": [
      "100%|██████████| 41/41 [00:00<00:00, 614.27it/s]\n"
     ]
    },
    {
     "name": "stdout",
     "output_type": "stream",
     "text": [
      "--- 0.06848907470703125 seconds for solution baseline ---\n",
      "initial solution\n"
     ]
    },
    {
     "name": "stderr",
     "output_type": "stream",
     "text": [
      "100%|██████████| 41/41 [00:00<00:00, 647.55it/s]\n"
     ]
    },
    {
     "name": "stdout",
     "output_type": "stream",
     "text": [
      "--- 0.07374262809753418 seconds for solution baseline ---\n",
      "initial solution\n"
     ]
    },
    {
     "name": "stderr",
     "output_type": "stream",
     "text": [
      "100%|██████████| 41/41 [00:00<00:00, 624.63it/s]\n"
     ]
    },
    {
     "name": "stdout",
     "output_type": "stream",
     "text": [
      "--- 0.0718841552734375 seconds for solution baseline ---\n",
      "initial solution\n"
     ]
    },
    {
     "name": "stderr",
     "output_type": "stream",
     "text": [
      "100%|██████████| 41/41 [00:00<00:00, 517.12it/s]"
     ]
    },
    {
     "name": "stdout",
     "output_type": "stream",
     "text": [
      "--- 0.08260202407836914 seconds for solution baseline ---\n",
      "initial solution\n"
     ]
    },
    {
     "name": "stderr",
     "output_type": "stream",
     "text": [
      "\n",
      "100%|██████████| 41/41 [00:00<00:00, 740.00it/s]\n"
     ]
    },
    {
     "name": "stdout",
     "output_type": "stream",
     "text": [
      "--- 0.06451773643493652 seconds for solution baseline ---\n",
      "initial solution\n"
     ]
    },
    {
     "name": "stderr",
     "output_type": "stream",
     "text": [
      "100%|██████████| 41/41 [00:00<00:00, 629.76it/s]\n"
     ]
    },
    {
     "name": "stdout",
     "output_type": "stream",
     "text": [
      "--- 0.06899881362915039 seconds for solution baseline ---\n",
      "initial solution\n"
     ]
    },
    {
     "name": "stderr",
     "output_type": "stream",
     "text": [
      "100%|██████████| 41/41 [00:00<00:00, 607.54it/s]\n"
     ]
    },
    {
     "name": "stdout",
     "output_type": "stream",
     "text": [
      "--- 0.07555317878723145 seconds for solution baseline ---\n",
      "initial solution\n"
     ]
    },
    {
     "name": "stderr",
     "output_type": "stream",
     "text": [
      "100%|██████████| 41/41 [00:00<00:00, 628.12it/s]\n"
     ]
    },
    {
     "name": "stdout",
     "output_type": "stream",
     "text": [
      "--- 0.06794285774230957 seconds for solution baseline ---\n",
      "initial solution\n"
     ]
    },
    {
     "name": "stderr",
     "output_type": "stream",
     "text": [
      "100%|██████████| 41/41 [00:00<00:00, 718.64it/s]\n"
     ]
    },
    {
     "name": "stdout",
     "output_type": "stream",
     "text": [
      "--- 0.06413507461547852 seconds for solution baseline ---\n",
      "initial solution\n"
     ]
    },
    {
     "name": "stderr",
     "output_type": "stream",
     "text": [
      "100%|██████████| 42/42 [00:00<00:00, 660.79it/s]\n"
     ]
    },
    {
     "name": "stdout",
     "output_type": "stream",
     "text": [
      "--- 0.06511807441711426 seconds for solution baseline ---\n",
      "initial solution\n"
     ]
    },
    {
     "name": "stderr",
     "output_type": "stream",
     "text": [
      "100%|██████████| 42/42 [00:00<00:00, 634.88it/s]"
     ]
    },
    {
     "name": "stdout",
     "output_type": "stream",
     "text": [
      "--- 0.07138967514038086 seconds for solution baseline ---\n"
     ]
    },
    {
     "name": "stderr",
     "output_type": "stream",
     "text": [
      "\n"
     ]
    },
    {
     "name": "stdout",
     "output_type": "stream",
     "text": [
      "initial solution\n"
     ]
    },
    {
     "name": "stderr",
     "output_type": "stream",
     "text": [
      "100%|██████████| 42/42 [00:00<00:00, 545.66it/s]"
     ]
    },
    {
     "name": "stdout",
     "output_type": "stream",
     "text": [
      "--- 0.08049440383911133 seconds for solution baseline ---\n",
      "initial solution\n"
     ]
    },
    {
     "name": "stderr",
     "output_type": "stream",
     "text": [
      "\n",
      "100%|██████████| 42/42 [00:00<00:00, 616.10it/s]\n"
     ]
    },
    {
     "name": "stdout",
     "output_type": "stream",
     "text": [
      "--- 0.07657551765441895 seconds for solution baseline ---\n",
      "initial solution\n"
     ]
    },
    {
     "name": "stderr",
     "output_type": "stream",
     "text": [
      "100%|██████████| 42/42 [00:00<00:00, 611.45it/s]\n"
     ]
    },
    {
     "name": "stdout",
     "output_type": "stream",
     "text": [
      "--- 0.07547473907470703 seconds for solution baseline ---\n",
      "initial solution\n"
     ]
    },
    {
     "name": "stderr",
     "output_type": "stream",
     "text": [
      "100%|██████████| 42/42 [00:00<00:00, 621.88it/s]"
     ]
    },
    {
     "name": "stdout",
     "output_type": "stream",
     "text": [
      "--- 0.07525801658630371 seconds for solution baseline ---\n"
     ]
    },
    {
     "name": "stderr",
     "output_type": "stream",
     "text": [
      "\n"
     ]
    },
    {
     "name": "stdout",
     "output_type": "stream",
     "text": [
      "initial solution\n"
     ]
    },
    {
     "name": "stderr",
     "output_type": "stream",
     "text": [
      "100%|██████████| 42/42 [00:00<00:00, 650.22it/s]\n"
     ]
    },
    {
     "name": "stdout",
     "output_type": "stream",
     "text": [
      "--- 0.06974554061889648 seconds for solution baseline ---\n",
      "initial solution\n"
     ]
    },
    {
     "name": "stderr",
     "output_type": "stream",
     "text": [
      "100%|██████████| 42/42 [00:00<00:00, 580.46it/s]"
     ]
    },
    {
     "name": "stdout",
     "output_type": "stream",
     "text": [
      "--- 0.07707977294921875 seconds for solution baseline ---\n"
     ]
    },
    {
     "name": "stderr",
     "output_type": "stream",
     "text": [
      "\n"
     ]
    },
    {
     "name": "stdout",
     "output_type": "stream",
     "text": [
      "initial solution\n"
     ]
    },
    {
     "name": "stderr",
     "output_type": "stream",
     "text": [
      "100%|██████████| 42/42 [00:00<00:00, 560.70it/s]\n"
     ]
    },
    {
     "name": "stdout",
     "output_type": "stream",
     "text": [
      "--- 0.0827176570892334 seconds for solution baseline ---\n",
      "initial solution\n"
     ]
    },
    {
     "name": "stderr",
     "output_type": "stream",
     "text": [
      "100%|██████████| 42/42 [00:00<00:00, 534.95it/s]\n"
     ]
    },
    {
     "name": "stdout",
     "output_type": "stream",
     "text": [
      "--- 0.08415699005126953 seconds for solution baseline ---\n",
      "initial solution\n"
     ]
    },
    {
     "name": "stderr",
     "output_type": "stream",
     "text": [
      "100%|██████████| 43/43 [00:00<00:00, 552.56it/s]\n"
     ]
    },
    {
     "name": "stdout",
     "output_type": "stream",
     "text": [
      "--- 0.08374452590942383 seconds for solution baseline ---\n",
      "initial solution\n"
     ]
    },
    {
     "name": "stderr",
     "output_type": "stream",
     "text": [
      "100%|██████████| 43/43 [00:00<00:00, 601.17it/s]"
     ]
    },
    {
     "name": "stdout",
     "output_type": "stream",
     "text": [
      "--- 0.08162331581115723 seconds for solution baseline ---\n"
     ]
    },
    {
     "name": "stderr",
     "output_type": "stream",
     "text": [
      "\n"
     ]
    },
    {
     "name": "stdout",
     "output_type": "stream",
     "text": [
      "initial solution\n"
     ]
    },
    {
     "name": "stderr",
     "output_type": "stream",
     "text": [
      "100%|██████████| 43/43 [00:00<00:00, 604.88it/s]\n"
     ]
    },
    {
     "name": "stdout",
     "output_type": "stream",
     "text": [
      "--- 0.07956647872924805 seconds for solution baseline ---\n",
      "initial solution\n"
     ]
    },
    {
     "name": "stderr",
     "output_type": "stream",
     "text": [
      "100%|██████████| 43/43 [00:00<00:00, 584.03it/s]\n"
     ]
    },
    {
     "name": "stdout",
     "output_type": "stream",
     "text": [
      "--- 0.07985234260559082 seconds for solution baseline ---\n",
      "initial solution\n"
     ]
    },
    {
     "name": "stderr",
     "output_type": "stream",
     "text": [
      "100%|██████████| 43/43 [00:00<00:00, 600.51it/s]\n"
     ]
    },
    {
     "name": "stdout",
     "output_type": "stream",
     "text": [
      "--- 0.07266545295715332 seconds for solution baseline ---\n",
      "initial solution\n"
     ]
    },
    {
     "name": "stderr",
     "output_type": "stream",
     "text": [
      "100%|██████████| 43/43 [00:00<00:00, 602.73it/s]\n"
     ]
    },
    {
     "name": "stdout",
     "output_type": "stream",
     "text": [
      "--- 0.07564973831176758 seconds for solution baseline ---\n",
      "initial solution\n"
     ]
    },
    {
     "name": "stderr",
     "output_type": "stream",
     "text": [
      "100%|██████████| 43/43 [00:00<00:00, 632.59it/s]\n"
     ]
    },
    {
     "name": "stdout",
     "output_type": "stream",
     "text": [
      "--- 0.13142013549804688 seconds for solution baseline ---\n",
      "initial solution\n"
     ]
    },
    {
     "name": "stderr",
     "output_type": "stream",
     "text": [
      "100%|██████████| 43/43 [00:00<00:00, 559.73it/s]\n"
     ]
    },
    {
     "name": "stdout",
     "output_type": "stream",
     "text": [
      "--- 0.08171534538269043 seconds for solution baseline ---\n",
      "initial solution\n"
     ]
    },
    {
     "name": "stderr",
     "output_type": "stream",
     "text": [
      "100%|██████████| 43/43 [00:00<00:00, 619.67it/s]\n"
     ]
    },
    {
     "name": "stdout",
     "output_type": "stream",
     "text": [
      "--- 0.07516050338745117 seconds for solution baseline ---\n",
      "initial solution\n"
     ]
    },
    {
     "name": "stderr",
     "output_type": "stream",
     "text": [
      "100%|██████████| 43/43 [00:00<00:00, 624.56it/s]"
     ]
    },
    {
     "name": "stdout",
     "output_type": "stream",
     "text": [
      "--- 0.07338762283325195 seconds for solution baseline ---\n"
     ]
    },
    {
     "name": "stderr",
     "output_type": "stream",
     "text": [
      "\n"
     ]
    },
    {
     "name": "stdout",
     "output_type": "stream",
     "text": [
      "initial solution\n"
     ]
    },
    {
     "name": "stderr",
     "output_type": "stream",
     "text": [
      "100%|██████████| 44/44 [00:00<00:00, 581.18it/s]\n"
     ]
    },
    {
     "name": "stdout",
     "output_type": "stream",
     "text": [
      "--- 0.08199453353881836 seconds for solution baseline ---\n",
      "initial solution\n"
     ]
    },
    {
     "name": "stderr",
     "output_type": "stream",
     "text": [
      "100%|██████████| 44/44 [00:00<00:00, 623.42it/s]\n"
     ]
    },
    {
     "name": "stdout",
     "output_type": "stream",
     "text": [
      "--- 0.07497477531433105 seconds for solution baseline ---\n",
      "initial solution\n"
     ]
    },
    {
     "name": "stderr",
     "output_type": "stream",
     "text": [
      "100%|██████████| 44/44 [00:00<00:00, 571.57it/s]\n"
     ]
    },
    {
     "name": "stdout",
     "output_type": "stream",
     "text": [
      "--- 0.08301520347595215 seconds for solution baseline ---\n",
      "initial solution\n"
     ]
    },
    {
     "name": "stderr",
     "output_type": "stream",
     "text": [
      "100%|██████████| 44/44 [00:00<00:00, 580.07it/s]\n"
     ]
    },
    {
     "name": "stdout",
     "output_type": "stream",
     "text": [
      "--- 0.08875679969787598 seconds for solution baseline ---\n",
      "initial solution\n"
     ]
    },
    {
     "name": "stderr",
     "output_type": "stream",
     "text": [
      "100%|██████████| 44/44 [00:00<00:00, 596.52it/s]\n"
     ]
    },
    {
     "name": "stdout",
     "output_type": "stream",
     "text": [
      "--- 0.08417868614196777 seconds for solution baseline ---\n",
      "initial solution\n"
     ]
    },
    {
     "name": "stderr",
     "output_type": "stream",
     "text": [
      "100%|██████████| 44/44 [00:00<00:00, 591.05it/s]\n"
     ]
    },
    {
     "name": "stdout",
     "output_type": "stream",
     "text": [
      "--- 0.08108162879943848 seconds for solution baseline ---\n",
      "initial solution\n"
     ]
    },
    {
     "name": "stderr",
     "output_type": "stream",
     "text": [
      "100%|██████████| 44/44 [00:00<00:00, 436.85it/s]\n"
     ]
    },
    {
     "name": "stdout",
     "output_type": "stream",
     "text": [
      "--- 0.10177874565124512 seconds for solution baseline ---\n",
      "initial solution\n"
     ]
    },
    {
     "name": "stderr",
     "output_type": "stream",
     "text": [
      "100%|██████████| 44/44 [00:00<00:00, 472.20it/s]\n"
     ]
    },
    {
     "name": "stdout",
     "output_type": "stream",
     "text": [
      "--- 0.09938502311706543 seconds for solution baseline ---\n",
      "initial solution\n"
     ]
    },
    {
     "name": "stderr",
     "output_type": "stream",
     "text": [
      "100%|██████████| 44/44 [00:00<00:00, 364.08it/s]\n"
     ]
    },
    {
     "name": "stdout",
     "output_type": "stream",
     "text": [
      "--- 0.1243429183959961 seconds for solution baseline ---\n",
      "initial solution\n"
     ]
    },
    {
     "name": "stderr",
     "output_type": "stream",
     "text": [
      "100%|██████████| 44/44 [00:00<00:00, 561.41it/s]\n"
     ]
    },
    {
     "name": "stdout",
     "output_type": "stream",
     "text": [
      "--- 0.08418488502502441 seconds for solution baseline ---\n",
      "initial solution\n"
     ]
    },
    {
     "name": "stderr",
     "output_type": "stream",
     "text": [
      "100%|██████████| 45/45 [00:00<00:00, 515.93it/s]\n"
     ]
    },
    {
     "name": "stdout",
     "output_type": "stream",
     "text": [
      "--- 0.09286308288574219 seconds for solution baseline ---\n",
      "initial solution\n"
     ]
    },
    {
     "name": "stderr",
     "output_type": "stream",
     "text": [
      "100%|██████████| 45/45 [00:00<00:00, 473.10it/s]\n"
     ]
    },
    {
     "name": "stdout",
     "output_type": "stream",
     "text": [
      "--- 0.10095715522766113 seconds for solution baseline ---\n",
      "initial solution\n"
     ]
    },
    {
     "name": "stderr",
     "output_type": "stream",
     "text": [
      "100%|██████████| 45/45 [00:00<00:00, 495.00it/s]\n"
     ]
    },
    {
     "name": "stdout",
     "output_type": "stream",
     "text": [
      "--- 0.1000204086303711 seconds for solution baseline ---\n",
      "initial solution\n"
     ]
    },
    {
     "name": "stderr",
     "output_type": "stream",
     "text": [
      "100%|██████████| 45/45 [00:00<00:00, 476.12it/s]\n"
     ]
    },
    {
     "name": "stdout",
     "output_type": "stream",
     "text": [
      "--- 0.10219240188598633 seconds for solution baseline ---\n",
      "initial solution\n"
     ]
    },
    {
     "name": "stderr",
     "output_type": "stream",
     "text": [
      "100%|██████████| 45/45 [00:00<00:00, 547.78it/s]\n"
     ]
    },
    {
     "name": "stdout",
     "output_type": "stream",
     "text": [
      "--- 0.09846735000610352 seconds for solution baseline ---\n",
      "initial solution\n"
     ]
    },
    {
     "name": "stderr",
     "output_type": "stream",
     "text": [
      "100%|██████████| 45/45 [00:00<00:00, 476.61it/s]\n"
     ]
    },
    {
     "name": "stdout",
     "output_type": "stream",
     "text": [
      "--- 0.10308098793029785 seconds for solution baseline ---\n",
      "initial solution\n"
     ]
    },
    {
     "name": "stderr",
     "output_type": "stream",
     "text": [
      "100%|██████████| 45/45 [00:00<00:00, 510.73it/s]\n"
     ]
    },
    {
     "name": "stdout",
     "output_type": "stream",
     "text": [
      "--- 0.09736275672912598 seconds for solution baseline ---\n",
      "initial solution\n"
     ]
    },
    {
     "name": "stderr",
     "output_type": "stream",
     "text": [
      "100%|██████████| 45/45 [00:00<00:00, 516.19it/s]\n"
     ]
    },
    {
     "name": "stdout",
     "output_type": "stream",
     "text": [
      "--- 0.09572267532348633 seconds for solution baseline ---\n",
      "initial solution\n"
     ]
    },
    {
     "name": "stderr",
     "output_type": "stream",
     "text": [
      "100%|██████████| 45/45 [00:00<00:00, 494.46it/s]\n"
     ]
    },
    {
     "name": "stdout",
     "output_type": "stream",
     "text": [
      "--- 0.09151172637939453 seconds for solution baseline ---\n",
      "initial solution\n"
     ]
    },
    {
     "name": "stderr",
     "output_type": "stream",
     "text": [
      "100%|██████████| 45/45 [00:00<00:00, 490.59it/s]\n"
     ]
    },
    {
     "name": "stdout",
     "output_type": "stream",
     "text": [
      "--- 0.09327554702758789 seconds for solution baseline ---\n",
      "initial solution\n"
     ]
    },
    {
     "name": "stderr",
     "output_type": "stream",
     "text": [
      "100%|██████████| 46/46 [00:00<00:00, 515.31it/s]\n"
     ]
    },
    {
     "name": "stdout",
     "output_type": "stream",
     "text": [
      "--- 0.15750455856323242 seconds for solution baseline ---\n",
      "initial solution\n"
     ]
    },
    {
     "name": "stderr",
     "output_type": "stream",
     "text": [
      "100%|██████████| 46/46 [00:00<00:00, 467.94it/s]\n"
     ]
    },
    {
     "name": "stdout",
     "output_type": "stream",
     "text": [
      "--- 0.10428023338317871 seconds for solution baseline ---\n",
      "initial solution\n"
     ]
    },
    {
     "name": "stderr",
     "output_type": "stream",
     "text": [
      "100%|██████████| 46/46 [00:00<00:00, 501.93it/s]\n"
     ]
    },
    {
     "name": "stdout",
     "output_type": "stream",
     "text": [
      "--- 0.0982966423034668 seconds for solution baseline ---\n",
      "initial solution\n"
     ]
    },
    {
     "name": "stderr",
     "output_type": "stream",
     "text": [
      "100%|██████████| 46/46 [00:00<00:00, 418.21it/s]\n"
     ]
    },
    {
     "name": "stdout",
     "output_type": "stream",
     "text": [
      "--- 0.11051416397094727 seconds for solution baseline ---\n",
      "initial solution\n"
     ]
    },
    {
     "name": "stderr",
     "output_type": "stream",
     "text": [
      "100%|██████████| 46/46 [00:00<00:00, 462.70it/s]\n"
     ]
    },
    {
     "name": "stdout",
     "output_type": "stream",
     "text": [
      "--- 0.1111905574798584 seconds for solution baseline ---\n",
      "initial solution\n"
     ]
    },
    {
     "name": "stderr",
     "output_type": "stream",
     "text": [
      "100%|██████████| 46/46 [00:00<00:00, 501.02it/s]\n"
     ]
    },
    {
     "name": "stdout",
     "output_type": "stream",
     "text": [
      "--- 0.09945487976074219 seconds for solution baseline ---\n",
      "initial solution\n"
     ]
    },
    {
     "name": "stderr",
     "output_type": "stream",
     "text": [
      "100%|██████████| 46/46 [00:00<00:00, 539.82it/s]\n"
     ]
    },
    {
     "name": "stdout",
     "output_type": "stream",
     "text": [
      "--- 0.09247875213623047 seconds for solution baseline ---\n",
      "initial solution\n"
     ]
    },
    {
     "name": "stderr",
     "output_type": "stream",
     "text": [
      "100%|██████████| 46/46 [00:00<00:00, 508.81it/s]\n"
     ]
    },
    {
     "name": "stdout",
     "output_type": "stream",
     "text": [
      "--- 0.09819889068603516 seconds for solution baseline ---\n",
      "initial solution\n"
     ]
    },
    {
     "name": "stderr",
     "output_type": "stream",
     "text": [
      "100%|██████████| 46/46 [00:00<00:00, 495.57it/s]\n"
     ]
    },
    {
     "name": "stdout",
     "output_type": "stream",
     "text": [
      "--- 0.09945487976074219 seconds for solution baseline ---\n",
      "initial solution\n"
     ]
    },
    {
     "name": "stderr",
     "output_type": "stream",
     "text": [
      "100%|██████████| 46/46 [00:00<00:00, 525.65it/s]\n"
     ]
    },
    {
     "name": "stdout",
     "output_type": "stream",
     "text": [
      "--- 0.09836554527282715 seconds for solution baseline ---\n",
      "initial solution\n"
     ]
    },
    {
     "name": "stderr",
     "output_type": "stream",
     "text": [
      "100%|██████████| 47/47 [00:00<00:00, 466.00it/s]\n"
     ]
    },
    {
     "name": "stdout",
     "output_type": "stream",
     "text": [
      "--- 0.10739374160766602 seconds for solution baseline ---\n",
      "initial solution\n"
     ]
    },
    {
     "name": "stderr",
     "output_type": "stream",
     "text": [
      "100%|██████████| 47/47 [00:00<00:00, 435.13it/s]\n"
     ]
    },
    {
     "name": "stdout",
     "output_type": "stream",
     "text": [
      "--- 0.1163780689239502 seconds for solution baseline ---\n",
      "initial solution\n"
     ]
    },
    {
     "name": "stderr",
     "output_type": "stream",
     "text": [
      "100%|██████████| 47/47 [00:00<00:00, 438.74it/s]\n"
     ]
    },
    {
     "name": "stdout",
     "output_type": "stream",
     "text": [
      "--- 0.10712575912475586 seconds for solution baseline ---\n",
      "initial solution\n"
     ]
    },
    {
     "name": "stderr",
     "output_type": "stream",
     "text": [
      "100%|██████████| 47/47 [00:00<00:00, 473.36it/s]\n"
     ]
    },
    {
     "name": "stdout",
     "output_type": "stream",
     "text": [
      "--- 0.10582995414733887 seconds for solution baseline ---\n",
      "initial solution\n"
     ]
    },
    {
     "name": "stderr",
     "output_type": "stream",
     "text": [
      "100%|██████████| 47/47 [00:00<00:00, 442.21it/s]\n"
     ]
    },
    {
     "name": "stdout",
     "output_type": "stream",
     "text": [
      "--- 0.10628390312194824 seconds for solution baseline ---\n",
      "initial solution\n"
     ]
    },
    {
     "name": "stderr",
     "output_type": "stream",
     "text": [
      "100%|██████████| 47/47 [00:00<00:00, 469.72it/s]\n"
     ]
    },
    {
     "name": "stdout",
     "output_type": "stream",
     "text": [
      "--- 0.10513687133789062 seconds for solution baseline ---\n",
      "initial solution\n"
     ]
    },
    {
     "name": "stderr",
     "output_type": "stream",
     "text": [
      "100%|██████████| 47/47 [00:00<00:00, 411.36it/s]\n"
     ]
    },
    {
     "name": "stdout",
     "output_type": "stream",
     "text": [
      "--- 0.11584329605102539 seconds for solution baseline ---\n",
      "initial solution\n"
     ]
    },
    {
     "name": "stderr",
     "output_type": "stream",
     "text": [
      "100%|██████████| 47/47 [00:00<00:00, 514.99it/s]\n"
     ]
    },
    {
     "name": "stdout",
     "output_type": "stream",
     "text": [
      "--- 0.09959983825683594 seconds for solution baseline ---\n",
      "initial solution\n"
     ]
    },
    {
     "name": "stderr",
     "output_type": "stream",
     "text": [
      "100%|██████████| 47/47 [00:00<00:00, 402.20it/s]\n"
     ]
    },
    {
     "name": "stdout",
     "output_type": "stream",
     "text": [
      "--- 0.11685609817504883 seconds for solution baseline ---\n",
      "initial solution\n"
     ]
    },
    {
     "name": "stderr",
     "output_type": "stream",
     "text": [
      "100%|██████████| 47/47 [00:00<00:00, 460.89it/s]\n"
     ]
    },
    {
     "name": "stdout",
     "output_type": "stream",
     "text": [
      "--- 0.11034035682678223 seconds for solution baseline ---\n",
      "initial solution\n"
     ]
    },
    {
     "name": "stderr",
     "output_type": "stream",
     "text": [
      "100%|██████████| 48/48 [00:00<00:00, 328.55it/s]\n"
     ]
    },
    {
     "name": "stdout",
     "output_type": "stream",
     "text": [
      "--- 0.14609813690185547 seconds for solution baseline ---\n",
      "initial solution\n"
     ]
    },
    {
     "name": "stderr",
     "output_type": "stream",
     "text": [
      "100%|██████████| 48/48 [00:00<00:00, 412.98it/s]\n"
     ]
    },
    {
     "name": "stdout",
     "output_type": "stream",
     "text": [
      "--- 0.18334293365478516 seconds for solution baseline ---\n",
      "initial solution\n"
     ]
    },
    {
     "name": "stderr",
     "output_type": "stream",
     "text": [
      "100%|██████████| 48/48 [00:00<00:00, 419.26it/s]\n"
     ]
    },
    {
     "name": "stdout",
     "output_type": "stream",
     "text": [
      "--- 0.12288999557495117 seconds for solution baseline ---\n",
      "initial solution\n"
     ]
    },
    {
     "name": "stderr",
     "output_type": "stream",
     "text": [
      "100%|██████████| 48/48 [00:00<00:00, 382.73it/s]\n"
     ]
    },
    {
     "name": "stdout",
     "output_type": "stream",
     "text": [
      "--- 0.1336667537689209 seconds for solution baseline ---\n",
      "initial solution\n"
     ]
    },
    {
     "name": "stderr",
     "output_type": "stream",
     "text": [
      "100%|██████████| 48/48 [00:00<00:00, 422.65it/s]\n"
     ]
    },
    {
     "name": "stdout",
     "output_type": "stream",
     "text": [
      "--- 0.1157073974609375 seconds for solution baseline ---\n",
      "initial solution\n"
     ]
    },
    {
     "name": "stderr",
     "output_type": "stream",
     "text": [
      "100%|██████████| 48/48 [00:00<00:00, 425.56it/s]\n"
     ]
    },
    {
     "name": "stdout",
     "output_type": "stream",
     "text": [
      "--- 0.11938738822937012 seconds for solution baseline ---\n",
      "initial solution\n"
     ]
    },
    {
     "name": "stderr",
     "output_type": "stream",
     "text": [
      "100%|██████████| 48/48 [00:00<00:00, 365.29it/s]\n"
     ]
    },
    {
     "name": "stdout",
     "output_type": "stream",
     "text": [
      "--- 0.13957715034484863 seconds for solution baseline ---\n",
      "initial solution\n"
     ]
    },
    {
     "name": "stderr",
     "output_type": "stream",
     "text": [
      "100%|██████████| 48/48 [00:00<00:00, 369.07it/s]\n"
     ]
    },
    {
     "name": "stdout",
     "output_type": "stream",
     "text": [
      "--- 0.13849925994873047 seconds for solution baseline ---\n",
      "initial solution\n"
     ]
    },
    {
     "name": "stderr",
     "output_type": "stream",
     "text": [
      "100%|██████████| 48/48 [00:00<00:00, 429.45it/s]\n"
     ]
    },
    {
     "name": "stdout",
     "output_type": "stream",
     "text": [
      "--- 0.1235811710357666 seconds for solution baseline ---\n",
      "initial solution\n"
     ]
    },
    {
     "name": "stderr",
     "output_type": "stream",
     "text": [
      "100%|██████████| 48/48 [00:00<00:00, 373.48it/s]\n"
     ]
    },
    {
     "name": "stdout",
     "output_type": "stream",
     "text": [
      "--- 0.14061808586120605 seconds for solution baseline ---\n",
      "initial solution\n"
     ]
    },
    {
     "name": "stderr",
     "output_type": "stream",
     "text": [
      "100%|██████████| 49/49 [00:00<00:00, 395.54it/s]\n"
     ]
    },
    {
     "name": "stdout",
     "output_type": "stream",
     "text": [
      "--- 0.13147377967834473 seconds for solution baseline ---\n",
      "initial solution\n"
     ]
    },
    {
     "name": "stderr",
     "output_type": "stream",
     "text": [
      "100%|██████████| 49/49 [00:00<00:00, 275.99it/s]\n"
     ]
    },
    {
     "name": "stdout",
     "output_type": "stream",
     "text": [
      "--- 0.1842033863067627 seconds for solution baseline ---\n",
      "initial solution\n"
     ]
    },
    {
     "name": "stderr",
     "output_type": "stream",
     "text": [
      "100%|██████████| 49/49 [00:00<00:00, 427.53it/s]\n"
     ]
    },
    {
     "name": "stdout",
     "output_type": "stream",
     "text": [
      "--- 0.1205894947052002 seconds for solution baseline ---\n",
      "initial solution\n"
     ]
    },
    {
     "name": "stderr",
     "output_type": "stream",
     "text": [
      "100%|██████████| 49/49 [00:00<00:00, 397.69it/s]\n"
     ]
    },
    {
     "name": "stdout",
     "output_type": "stream",
     "text": [
      "--- 0.1286764144897461 seconds for solution baseline ---\n",
      "initial solution\n"
     ]
    },
    {
     "name": "stderr",
     "output_type": "stream",
     "text": [
      "100%|██████████| 49/49 [00:00<00:00, 434.02it/s]\n"
     ]
    },
    {
     "name": "stdout",
     "output_type": "stream",
     "text": [
      "--- 0.1250152587890625 seconds for solution baseline ---\n",
      "initial solution\n"
     ]
    },
    {
     "name": "stderr",
     "output_type": "stream",
     "text": [
      "100%|██████████| 49/49 [00:00<00:00, 426.12it/s]\n"
     ]
    },
    {
     "name": "stdout",
     "output_type": "stream",
     "text": [
      "--- 0.1226186752319336 seconds for solution baseline ---\n",
      "initial solution\n"
     ]
    },
    {
     "name": "stderr",
     "output_type": "stream",
     "text": [
      "100%|██████████| 49/49 [00:00<00:00, 369.72it/s]"
     ]
    },
    {
     "name": "stdout",
     "output_type": "stream",
     "text": [
      "--- 0.14288020133972168 seconds for solution baseline ---\n"
     ]
    },
    {
     "name": "stderr",
     "output_type": "stream",
     "text": [
      "\n"
     ]
    },
    {
     "name": "stdout",
     "output_type": "stream",
     "text": [
      "initial solution\n"
     ]
    },
    {
     "name": "stderr",
     "output_type": "stream",
     "text": [
      "100%|██████████| 49/49 [00:00<00:00, 392.44it/s]\n"
     ]
    },
    {
     "name": "stdout",
     "output_type": "stream",
     "text": [
      "--- 0.1253643035888672 seconds for solution baseline ---\n",
      "initial solution\n"
     ]
    },
    {
     "name": "stderr",
     "output_type": "stream",
     "text": [
      "100%|██████████| 49/49 [00:00<00:00, 338.65it/s]\n"
     ]
    },
    {
     "name": "stdout",
     "output_type": "stream",
     "text": [
      "--- 0.14469408988952637 seconds for solution baseline ---\n",
      "initial solution\n"
     ]
    },
    {
     "name": "stderr",
     "output_type": "stream",
     "text": [
      "100%|██████████| 49/49 [00:00<00:00, 413.83it/s]\n"
     ]
    },
    {
     "name": "stdout",
     "output_type": "stream",
     "text": [
      "--- 0.19675922393798828 seconds for solution baseline ---\n",
      "initial solution\n"
     ]
    },
    {
     "name": "stderr",
     "output_type": "stream",
     "text": [
      "100%|██████████| 50/50 [00:00<00:00, 393.37it/s]\n"
     ]
    },
    {
     "name": "stdout",
     "output_type": "stream",
     "text": [
      "--- 0.13447308540344238 seconds for solution baseline ---\n",
      "initial solution\n"
     ]
    },
    {
     "name": "stderr",
     "output_type": "stream",
     "text": [
      "100%|██████████| 50/50 [00:00<00:00, 304.66it/s]\n"
     ]
    },
    {
     "name": "stdout",
     "output_type": "stream",
     "text": [
      "--- 0.16927433013916016 seconds for solution baseline ---\n",
      "initial solution\n"
     ]
    },
    {
     "name": "stderr",
     "output_type": "stream",
     "text": [
      "100%|██████████| 50/50 [00:00<00:00, 436.02it/s]\n"
     ]
    },
    {
     "name": "stdout",
     "output_type": "stream",
     "text": [
      "--- 0.12182998657226562 seconds for solution baseline ---\n",
      "initial solution\n"
     ]
    },
    {
     "name": "stderr",
     "output_type": "stream",
     "text": [
      "100%|██████████| 50/50 [00:00<00:00, 377.93it/s]\n"
     ]
    },
    {
     "name": "stdout",
     "output_type": "stream",
     "text": [
      "--- 0.14770293235778809 seconds for solution baseline ---\n",
      "initial solution\n"
     ]
    },
    {
     "name": "stderr",
     "output_type": "stream",
     "text": [
      "100%|██████████| 50/50 [00:00<00:00, 424.62it/s]\n"
     ]
    },
    {
     "name": "stdout",
     "output_type": "stream",
     "text": [
      "--- 0.12346744537353516 seconds for solution baseline ---\n",
      "initial solution\n"
     ]
    },
    {
     "name": "stderr",
     "output_type": "stream",
     "text": [
      "100%|██████████| 50/50 [00:00<00:00, 392.64it/s]\n"
     ]
    },
    {
     "name": "stdout",
     "output_type": "stream",
     "text": [
      "--- 0.13451743125915527 seconds for solution baseline ---\n",
      "initial solution\n"
     ]
    },
    {
     "name": "stderr",
     "output_type": "stream",
     "text": [
      "100%|██████████| 50/50 [00:00<00:00, 371.79it/s]\n"
     ]
    },
    {
     "name": "stdout",
     "output_type": "stream",
     "text": [
      "--- 0.1416149139404297 seconds for solution baseline ---\n",
      "initial solution\n"
     ]
    },
    {
     "name": "stderr",
     "output_type": "stream",
     "text": [
      "100%|██████████| 50/50 [00:00<00:00, 322.68it/s]\n"
     ]
    },
    {
     "name": "stdout",
     "output_type": "stream",
     "text": [
      "--- 0.16122722625732422 seconds for solution baseline ---\n",
      "initial solution\n"
     ]
    },
    {
     "name": "stderr",
     "output_type": "stream",
     "text": [
      "100%|██████████| 50/50 [00:00<00:00, 290.44it/s]\n"
     ]
    },
    {
     "name": "stdout",
     "output_type": "stream",
     "text": [
      "--- 0.1787254810333252 seconds for solution baseline ---\n",
      "initial solution\n"
     ]
    },
    {
     "name": "stderr",
     "output_type": "stream",
     "text": [
      "100%|██████████| 50/50 [00:00<00:00, 331.75it/s]\n"
     ]
    },
    {
     "name": "stdout",
     "output_type": "stream",
     "text": [
      "--- 0.16077017784118652 seconds for solution baseline ---\n",
      "initial solution\n"
     ]
    },
    {
     "name": "stderr",
     "output_type": "stream",
     "text": [
      "100%|██████████| 51/51 [00:00<00:00, 344.49it/s]\n"
     ]
    },
    {
     "name": "stdout",
     "output_type": "stream",
     "text": [
      "--- 0.15155792236328125 seconds for solution baseline ---\n",
      "initial solution\n"
     ]
    },
    {
     "name": "stderr",
     "output_type": "stream",
     "text": [
      "100%|██████████| 51/51 [00:00<00:00, 323.24it/s]\n"
     ]
    },
    {
     "name": "stdout",
     "output_type": "stream",
     "text": [
      "--- 0.16700387001037598 seconds for solution baseline ---\n",
      "initial solution\n"
     ]
    },
    {
     "name": "stderr",
     "output_type": "stream",
     "text": [
      "100%|██████████| 51/51 [00:00<00:00, 351.69it/s]\n"
     ]
    },
    {
     "name": "stdout",
     "output_type": "stream",
     "text": [
      "--- 0.1581439971923828 seconds for solution baseline ---\n",
      "initial solution\n"
     ]
    },
    {
     "name": "stderr",
     "output_type": "stream",
     "text": [
      "100%|██████████| 51/51 [00:00<00:00, 331.78it/s]"
     ]
    },
    {
     "name": "stdout",
     "output_type": "stream",
     "text": [
      "--- 0.16040420532226562 seconds for solution baseline ---\n"
     ]
    },
    {
     "name": "stderr",
     "output_type": "stream",
     "text": [
      "\n"
     ]
    },
    {
     "name": "stdout",
     "output_type": "stream",
     "text": [
      "initial solution\n"
     ]
    },
    {
     "name": "stderr",
     "output_type": "stream",
     "text": [
      "100%|██████████| 51/51 [00:00<00:00, 345.30it/s]"
     ]
    },
    {
     "name": "stdout",
     "output_type": "stream",
     "text": [
      "--- 0.15572786331176758 seconds for solution baseline ---\n"
     ]
    },
    {
     "name": "stderr",
     "output_type": "stream",
     "text": [
      "\n"
     ]
    },
    {
     "name": "stdout",
     "output_type": "stream",
     "text": [
      "initial solution\n"
     ]
    },
    {
     "name": "stderr",
     "output_type": "stream",
     "text": [
      "100%|██████████| 51/51 [00:00<00:00, 367.87it/s]\n"
     ]
    },
    {
     "name": "stdout",
     "output_type": "stream",
     "text": [
      "--- 0.14430952072143555 seconds for solution baseline ---\n",
      "initial solution\n"
     ]
    },
    {
     "name": "stderr",
     "output_type": "stream",
     "text": [
      "100%|██████████| 51/51 [00:00<00:00, 251.91it/s]\n"
     ]
    },
    {
     "name": "stdout",
     "output_type": "stream",
     "text": [
      "--- 0.21800589561462402 seconds for solution baseline ---\n",
      "initial solution\n"
     ]
    },
    {
     "name": "stderr",
     "output_type": "stream",
     "text": [
      "100%|██████████| 51/51 [00:00<00:00, 326.02it/s]\n"
     ]
    },
    {
     "name": "stdout",
     "output_type": "stream",
     "text": [
      "--- 0.16391444206237793 seconds for solution baseline ---\n",
      "initial solution\n"
     ]
    },
    {
     "name": "stderr",
     "output_type": "stream",
     "text": [
      "100%|██████████| 51/51 [00:00<00:00, 362.65it/s]\n"
     ]
    },
    {
     "name": "stdout",
     "output_type": "stream",
     "text": [
      "--- 0.15389728546142578 seconds for solution baseline ---\n",
      "initial solution\n"
     ]
    },
    {
     "name": "stderr",
     "output_type": "stream",
     "text": [
      "100%|██████████| 51/51 [00:00<00:00, 329.83it/s]\n"
     ]
    },
    {
     "name": "stdout",
     "output_type": "stream",
     "text": [
      "--- 0.15664243698120117 seconds for solution baseline ---\n",
      "initial solution\n"
     ]
    },
    {
     "name": "stderr",
     "output_type": "stream",
     "text": [
      "100%|██████████| 52/52 [00:00<00:00, 302.96it/s]\n"
     ]
    },
    {
     "name": "stdout",
     "output_type": "stream",
     "text": [
      "--- 0.17163991928100586 seconds for solution baseline ---\n",
      "initial solution\n"
     ]
    },
    {
     "name": "stderr",
     "output_type": "stream",
     "text": [
      "100%|██████████| 52/52 [00:00<00:00, 355.00it/s]\n"
     ]
    },
    {
     "name": "stdout",
     "output_type": "stream",
     "text": [
      "--- 0.15355992317199707 seconds for solution baseline ---\n",
      "initial solution\n"
     ]
    },
    {
     "name": "stderr",
     "output_type": "stream",
     "text": [
      "100%|██████████| 52/52 [00:00<00:00, 347.85it/s]\n"
     ]
    },
    {
     "name": "stdout",
     "output_type": "stream",
     "text": [
      "--- 0.15676665306091309 seconds for solution baseline ---\n",
      "initial solution\n"
     ]
    },
    {
     "name": "stderr",
     "output_type": "stream",
     "text": [
      "100%|██████████| 52/52 [00:00<00:00, 321.94it/s]\n"
     ]
    },
    {
     "name": "stdout",
     "output_type": "stream",
     "text": [
      "--- 0.16855525970458984 seconds for solution baseline ---\n",
      "initial solution\n"
     ]
    },
    {
     "name": "stderr",
     "output_type": "stream",
     "text": [
      "100%|██████████| 52/52 [00:00<00:00, 365.23it/s]"
     ]
    },
    {
     "name": "stdout",
     "output_type": "stream",
     "text": [
      "--- 0.1545882225036621 seconds for solution baseline ---\n",
      "initial solution\n"
     ]
    },
    {
     "name": "stderr",
     "output_type": "stream",
     "text": [
      "\n",
      "100%|██████████| 52/52 [00:00<00:00, 329.85it/s]\n"
     ]
    },
    {
     "name": "stdout",
     "output_type": "stream",
     "text": [
      "--- 0.1643354892730713 seconds for solution baseline ---\n",
      "initial solution\n"
     ]
    },
    {
     "name": "stderr",
     "output_type": "stream",
     "text": [
      "100%|██████████| 52/52 [00:00<00:00, 316.95it/s]\n"
     ]
    },
    {
     "name": "stdout",
     "output_type": "stream",
     "text": [
      "--- 0.1700754165649414 seconds for solution baseline ---\n",
      "initial solution\n"
     ]
    },
    {
     "name": "stderr",
     "output_type": "stream",
     "text": [
      "100%|██████████| 52/52 [00:00<00:00, 293.84it/s]\n"
     ]
    },
    {
     "name": "stdout",
     "output_type": "stream",
     "text": [
      "--- 0.19389009475708008 seconds for solution baseline ---\n",
      "initial solution\n"
     ]
    },
    {
     "name": "stderr",
     "output_type": "stream",
     "text": [
      "100%|██████████| 52/52 [00:00<00:00, 328.74it/s]\n"
     ]
    },
    {
     "name": "stdout",
     "output_type": "stream",
     "text": [
      "--- 0.1714475154876709 seconds for solution baseline ---\n",
      "initial solution\n"
     ]
    },
    {
     "name": "stderr",
     "output_type": "stream",
     "text": [
      "100%|██████████| 52/52 [00:00<00:00, 355.57it/s]\n"
     ]
    },
    {
     "name": "stdout",
     "output_type": "stream",
     "text": [
      "--- 0.1587681770324707 seconds for solution baseline ---\n",
      "initial solution\n"
     ]
    },
    {
     "name": "stderr",
     "output_type": "stream",
     "text": [
      "100%|██████████| 53/53 [00:00<00:00, 269.12it/s]\n"
     ]
    },
    {
     "name": "stdout",
     "output_type": "stream",
     "text": [
      "--- 0.20913004875183105 seconds for solution baseline ---\n",
      "initial solution\n"
     ]
    },
    {
     "name": "stderr",
     "output_type": "stream",
     "text": [
      "100%|██████████| 53/53 [00:00<00:00, 327.21it/s]\n"
     ]
    },
    {
     "name": "stdout",
     "output_type": "stream",
     "text": [
      "--- 0.17094755172729492 seconds for solution baseline ---\n",
      "initial solution\n"
     ]
    },
    {
     "name": "stderr",
     "output_type": "stream",
     "text": [
      "100%|██████████| 53/53 [00:00<00:00, 347.18it/s]\n"
     ]
    },
    {
     "name": "stdout",
     "output_type": "stream",
     "text": [
      "--- 0.16388249397277832 seconds for solution baseline ---\n",
      "initial solution\n"
     ]
    },
    {
     "name": "stderr",
     "output_type": "stream",
     "text": [
      "100%|██████████| 53/53 [00:00<00:00, 343.49it/s]\n"
     ]
    },
    {
     "name": "stdout",
     "output_type": "stream",
     "text": [
      "--- 0.22143983840942383 seconds for solution baseline ---\n",
      "initial solution\n"
     ]
    },
    {
     "name": "stderr",
     "output_type": "stream",
     "text": [
      "100%|██████████| 53/53 [00:00<00:00, 310.66it/s]\n"
     ]
    },
    {
     "name": "stdout",
     "output_type": "stream",
     "text": [
      "--- 0.17530226707458496 seconds for solution baseline ---\n",
      "initial solution\n"
     ]
    },
    {
     "name": "stderr",
     "output_type": "stream",
     "text": [
      "100%|██████████| 53/53 [00:00<00:00, 357.98it/s]"
     ]
    },
    {
     "name": "stdout",
     "output_type": "stream",
     "text": [
      "--- 0.1566908359527588 seconds for solution baseline ---\n"
     ]
    },
    {
     "name": "stderr",
     "output_type": "stream",
     "text": [
      "\n"
     ]
    },
    {
     "name": "stdout",
     "output_type": "stream",
     "text": [
      "initial solution\n"
     ]
    },
    {
     "name": "stderr",
     "output_type": "stream",
     "text": [
      "100%|██████████| 53/53 [00:00<00:00, 310.91it/s]"
     ]
    },
    {
     "name": "stdout",
     "output_type": "stream",
     "text": [
      "--- 0.1775660514831543 seconds for solution baseline ---\n"
     ]
    },
    {
     "name": "stderr",
     "output_type": "stream",
     "text": [
      "\n"
     ]
    },
    {
     "name": "stdout",
     "output_type": "stream",
     "text": [
      "initial solution\n"
     ]
    },
    {
     "name": "stderr",
     "output_type": "stream",
     "text": [
      "100%|██████████| 53/53 [00:00<00:00, 325.17it/s]"
     ]
    },
    {
     "name": "stdout",
     "output_type": "stream",
     "text": [
      "--- 0.1706864833831787 seconds for solution baseline ---\n"
     ]
    },
    {
     "name": "stderr",
     "output_type": "stream",
     "text": [
      "\n"
     ]
    },
    {
     "name": "stdout",
     "output_type": "stream",
     "text": [
      "initial solution\n"
     ]
    },
    {
     "name": "stderr",
     "output_type": "stream",
     "text": [
      "100%|██████████| 53/53 [00:00<00:00, 322.22it/s]"
     ]
    },
    {
     "name": "stdout",
     "output_type": "stream",
     "text": [
      "--- 0.16752099990844727 seconds for solution baseline ---\n"
     ]
    },
    {
     "name": "stderr",
     "output_type": "stream",
     "text": [
      "\n"
     ]
    },
    {
     "name": "stdout",
     "output_type": "stream",
     "text": [
      "initial solution\n"
     ]
    },
    {
     "name": "stderr",
     "output_type": "stream",
     "text": [
      "100%|██████████| 53/53 [00:00<00:00, 320.19it/s]\n"
     ]
    },
    {
     "name": "stdout",
     "output_type": "stream",
     "text": [
      "--- 0.17155194282531738 seconds for solution baseline ---\n",
      "initial solution\n"
     ]
    },
    {
     "name": "stderr",
     "output_type": "stream",
     "text": [
      "100%|██████████| 54/54 [00:00<00:00, 317.58it/s]\n"
     ]
    },
    {
     "name": "stdout",
     "output_type": "stream",
     "text": [
      "--- 0.18117284774780273 seconds for solution baseline ---\n",
      "initial solution\n"
     ]
    },
    {
     "name": "stderr",
     "output_type": "stream",
     "text": [
      "100%|██████████| 54/54 [00:00<00:00, 295.21it/s]"
     ]
    },
    {
     "name": "stdout",
     "output_type": "stream",
     "text": [
      "--- 0.18878483772277832 seconds for solution baseline ---\n"
     ]
    },
    {
     "name": "stderr",
     "output_type": "stream",
     "text": [
      "\n"
     ]
    },
    {
     "name": "stdout",
     "output_type": "stream",
     "text": [
      "initial solution\n"
     ]
    },
    {
     "name": "stderr",
     "output_type": "stream",
     "text": [
      "100%|██████████| 54/54 [00:00<00:00, 277.49it/s]\n"
     ]
    },
    {
     "name": "stdout",
     "output_type": "stream",
     "text": [
      "--- 0.20709919929504395 seconds for solution baseline ---\n",
      "initial solution\n"
     ]
    },
    {
     "name": "stderr",
     "output_type": "stream",
     "text": [
      "100%|██████████| 54/54 [00:00<00:00, 293.93it/s]\n"
     ]
    },
    {
     "name": "stdout",
     "output_type": "stream",
     "text": [
      "--- 0.19030165672302246 seconds for solution baseline ---\n",
      "initial solution\n"
     ]
    },
    {
     "name": "stderr",
     "output_type": "stream",
     "text": [
      "100%|██████████| 54/54 [00:00<00:00, 339.44it/s]\n"
     ]
    },
    {
     "name": "stdout",
     "output_type": "stream",
     "text": [
      "--- 0.16600751876831055 seconds for solution baseline ---\n",
      "initial solution\n"
     ]
    },
    {
     "name": "stderr",
     "output_type": "stream",
     "text": [
      "100%|██████████| 54/54 [00:00<00:00, 309.05it/s]\n"
     ]
    },
    {
     "name": "stdout",
     "output_type": "stream",
     "text": [
      "--- 0.18070387840270996 seconds for solution baseline ---\n",
      "initial solution\n"
     ]
    },
    {
     "name": "stderr",
     "output_type": "stream",
     "text": [
      "100%|██████████| 54/54 [00:00<00:00, 305.75it/s]\n"
     ]
    },
    {
     "name": "stdout",
     "output_type": "stream",
     "text": [
      "--- 0.1831350326538086 seconds for solution baseline ---\n",
      "initial solution\n"
     ]
    },
    {
     "name": "stderr",
     "output_type": "stream",
     "text": [
      "100%|██████████| 54/54 [00:00<00:00, 313.72it/s]\n"
     ]
    },
    {
     "name": "stdout",
     "output_type": "stream",
     "text": [
      "--- 0.24651384353637695 seconds for solution baseline ---\n",
      "initial solution\n"
     ]
    },
    {
     "name": "stderr",
     "output_type": "stream",
     "text": [
      "100%|██████████| 54/54 [00:00<00:00, 311.39it/s]\n"
     ]
    },
    {
     "name": "stdout",
     "output_type": "stream",
     "text": [
      "--- 0.18168926239013672 seconds for solution baseline ---\n",
      "initial solution\n"
     ]
    },
    {
     "name": "stderr",
     "output_type": "stream",
     "text": [
      "100%|██████████| 54/54 [00:00<00:00, 333.57it/s]"
     ]
    },
    {
     "name": "stdout",
     "output_type": "stream",
     "text": [
      "--- 0.16840648651123047 seconds for solution baseline ---\n",
      "initial solution\n"
     ]
    },
    {
     "name": "stderr",
     "output_type": "stream",
     "text": [
      "\n",
      "100%|██████████| 55/55 [00:00<00:00, 288.76it/s]\n"
     ]
    },
    {
     "name": "stdout",
     "output_type": "stream",
     "text": [
      "--- 0.19756031036376953 seconds for solution baseline ---\n",
      "initial solution\n"
     ]
    },
    {
     "name": "stderr",
     "output_type": "stream",
     "text": [
      "100%|██████████| 55/55 [00:00<00:00, 286.57it/s]\n"
     ]
    },
    {
     "name": "stdout",
     "output_type": "stream",
     "text": [
      "--- 0.19666647911071777 seconds for solution baseline ---\n",
      "initial solution\n"
     ]
    },
    {
     "name": "stderr",
     "output_type": "stream",
     "text": [
      "100%|██████████| 55/55 [00:00<00:00, 315.74it/s]\n"
     ]
    },
    {
     "name": "stdout",
     "output_type": "stream",
     "text": [
      "--- 0.18443799018859863 seconds for solution baseline ---\n",
      "initial solution\n"
     ]
    },
    {
     "name": "stderr",
     "output_type": "stream",
     "text": [
      "100%|██████████| 55/55 [00:00<00:00, 304.29it/s]\n"
     ]
    },
    {
     "name": "stdout",
     "output_type": "stream",
     "text": [
      "--- 0.1863086223602295 seconds for solution baseline ---\n",
      "initial solution\n"
     ]
    },
    {
     "name": "stderr",
     "output_type": "stream",
     "text": [
      "100%|██████████| 55/55 [00:00<00:00, 311.29it/s]\n"
     ]
    },
    {
     "name": "stdout",
     "output_type": "stream",
     "text": [
      "--- 0.17824554443359375 seconds for solution baseline ---\n",
      "initial solution\n"
     ]
    },
    {
     "name": "stderr",
     "output_type": "stream",
     "text": [
      "100%|██████████| 55/55 [00:00<00:00, 282.34it/s]\n"
     ]
    },
    {
     "name": "stdout",
     "output_type": "stream",
     "text": [
      "--- 0.20164227485656738 seconds for solution baseline ---\n",
      "initial solution\n"
     ]
    },
    {
     "name": "stderr",
     "output_type": "stream",
     "text": [
      "100%|██████████| 55/55 [00:00<00:00, 289.66it/s]\n"
     ]
    },
    {
     "name": "stdout",
     "output_type": "stream",
     "text": [
      "--- 0.2003946304321289 seconds for solution baseline ---\n",
      "initial solution\n"
     ]
    },
    {
     "name": "stderr",
     "output_type": "stream",
     "text": [
      "100%|██████████| 55/55 [00:00<00:00, 285.59it/s]\n"
     ]
    },
    {
     "name": "stdout",
     "output_type": "stream",
     "text": [
      "--- 0.20508146286010742 seconds for solution baseline ---\n",
      "initial solution\n"
     ]
    },
    {
     "name": "stderr",
     "output_type": "stream",
     "text": [
      "100%|██████████| 55/55 [00:00<00:00, 237.69it/s]\n"
     ]
    },
    {
     "name": "stdout",
     "output_type": "stream",
     "text": [
      "--- 0.2394101619720459 seconds for solution baseline ---\n",
      "initial solution\n"
     ]
    },
    {
     "name": "stderr",
     "output_type": "stream",
     "text": [
      "100%|██████████| 55/55 [00:00<00:00, 314.93it/s]\n"
     ]
    },
    {
     "name": "stdout",
     "output_type": "stream",
     "text": [
      "--- 0.18449759483337402 seconds for solution baseline ---\n",
      "initial solution\n"
     ]
    },
    {
     "name": "stderr",
     "output_type": "stream",
     "text": [
      "100%|██████████| 56/56 [00:00<00:00, 203.92it/s]\n"
     ]
    },
    {
     "name": "stdout",
     "output_type": "stream",
     "text": [
      "--- 0.2819349765777588 seconds for solution baseline ---\n",
      "initial solution\n"
     ]
    },
    {
     "name": "stderr",
     "output_type": "stream",
     "text": [
      "100%|██████████| 56/56 [00:00<00:00, 276.57it/s]\n"
     ]
    },
    {
     "name": "stdout",
     "output_type": "stream",
     "text": [
      "--- 0.2150287628173828 seconds for solution baseline ---\n",
      "initial solution\n"
     ]
    },
    {
     "name": "stderr",
     "output_type": "stream",
     "text": [
      "100%|██████████| 56/56 [00:00<00:00, 293.04it/s]\n"
     ]
    },
    {
     "name": "stdout",
     "output_type": "stream",
     "text": [
      "--- 0.1990966796875 seconds for solution baseline ---\n",
      "initial solution\n"
     ]
    },
    {
     "name": "stderr",
     "output_type": "stream",
     "text": [
      "100%|██████████| 56/56 [00:00<00:00, 292.36it/s]\n"
     ]
    },
    {
     "name": "stdout",
     "output_type": "stream",
     "text": [
      "--- 0.19960427284240723 seconds for solution baseline ---\n",
      "initial solution\n"
     ]
    },
    {
     "name": "stderr",
     "output_type": "stream",
     "text": [
      "100%|██████████| 56/56 [00:00<00:00, 272.67it/s]\n"
     ]
    },
    {
     "name": "stdout",
     "output_type": "stream",
     "text": [
      "--- 0.2156212329864502 seconds for solution baseline ---\n",
      "initial solution\n"
     ]
    },
    {
     "name": "stderr",
     "output_type": "stream",
     "text": [
      "100%|██████████| 56/56 [00:00<00:00, 237.30it/s]\n"
     ]
    },
    {
     "name": "stdout",
     "output_type": "stream",
     "text": [
      "--- 0.2430877685546875 seconds for solution baseline ---\n",
      "initial solution\n"
     ]
    },
    {
     "name": "stderr",
     "output_type": "stream",
     "text": [
      "100%|██████████| 56/56 [00:00<00:00, 295.35it/s]\n"
     ]
    },
    {
     "name": "stdout",
     "output_type": "stream",
     "text": [
      "--- 0.19794178009033203 seconds for solution baseline ---\n",
      "initial solution\n"
     ]
    },
    {
     "name": "stderr",
     "output_type": "stream",
     "text": [
      "100%|██████████| 56/56 [00:00<00:00, 246.29it/s]\n"
     ]
    },
    {
     "name": "stdout",
     "output_type": "stream",
     "text": [
      "--- 0.23861241340637207 seconds for solution baseline ---\n",
      "initial solution\n"
     ]
    },
    {
     "name": "stderr",
     "output_type": "stream",
     "text": [
      "100%|██████████| 56/56 [00:00<00:00, 268.85it/s]\n"
     ]
    },
    {
     "name": "stdout",
     "output_type": "stream",
     "text": [
      "--- 0.21584510803222656 seconds for solution baseline ---\n",
      "initial solution\n"
     ]
    },
    {
     "name": "stderr",
     "output_type": "stream",
     "text": [
      "100%|██████████| 56/56 [00:00<00:00, 207.74it/s]\n"
     ]
    },
    {
     "name": "stdout",
     "output_type": "stream",
     "text": [
      "--- 0.28044748306274414 seconds for solution baseline ---\n",
      "initial solution\n"
     ]
    },
    {
     "name": "stderr",
     "output_type": "stream",
     "text": [
      "100%|██████████| 57/57 [00:00<00:00, 283.00it/s]\n"
     ]
    },
    {
     "name": "stdout",
     "output_type": "stream",
     "text": [
      "--- 0.2148425579071045 seconds for solution baseline ---\n",
      "initial solution\n"
     ]
    },
    {
     "name": "stderr",
     "output_type": "stream",
     "text": [
      "100%|██████████| 57/57 [00:00<00:00, 247.77it/s]\n"
     ]
    },
    {
     "name": "stdout",
     "output_type": "stream",
     "text": [
      "--- 0.23945140838623047 seconds for solution baseline ---\n",
      "initial solution\n"
     ]
    },
    {
     "name": "stderr",
     "output_type": "stream",
     "text": [
      "100%|██████████| 57/57 [00:00<00:00, 256.73it/s]\n"
     ]
    },
    {
     "name": "stdout",
     "output_type": "stream",
     "text": [
      "--- 0.23013925552368164 seconds for solution baseline ---\n",
      "initial solution\n"
     ]
    },
    {
     "name": "stderr",
     "output_type": "stream",
     "text": [
      "100%|██████████| 57/57 [00:00<00:00, 246.17it/s]\n"
     ]
    },
    {
     "name": "stdout",
     "output_type": "stream",
     "text": [
      "--- 0.3113389015197754 seconds for solution baseline ---\n",
      "initial solution\n"
     ]
    },
    {
     "name": "stderr",
     "output_type": "stream",
     "text": [
      "100%|██████████| 57/57 [00:00<00:00, 258.60it/s]\n"
     ]
    },
    {
     "name": "stdout",
     "output_type": "stream",
     "text": [
      "--- 0.23023629188537598 seconds for solution baseline ---\n",
      "initial solution\n"
     ]
    },
    {
     "name": "stderr",
     "output_type": "stream",
     "text": [
      "100%|██████████| 57/57 [00:00<00:00, 222.12it/s]\n"
     ]
    },
    {
     "name": "stdout",
     "output_type": "stream",
     "text": [
      "--- 0.2660369873046875 seconds for solution baseline ---\n",
      "initial solution\n"
     ]
    },
    {
     "name": "stderr",
     "output_type": "stream",
     "text": [
      "100%|██████████| 57/57 [00:00<00:00, 249.40it/s]\n"
     ]
    },
    {
     "name": "stdout",
     "output_type": "stream",
     "text": [
      "--- 0.24070239067077637 seconds for solution baseline ---\n",
      "initial solution\n"
     ]
    },
    {
     "name": "stderr",
     "output_type": "stream",
     "text": [
      "100%|██████████| 57/57 [00:00<00:00, 262.70it/s]\n"
     ]
    },
    {
     "name": "stdout",
     "output_type": "stream",
     "text": [
      "--- 0.22697997093200684 seconds for solution baseline ---\n",
      "initial solution\n"
     ]
    },
    {
     "name": "stderr",
     "output_type": "stream",
     "text": [
      "100%|██████████| 57/57 [00:00<00:00, 257.12it/s]\n"
     ]
    },
    {
     "name": "stdout",
     "output_type": "stream",
     "text": [
      "--- 0.22878432273864746 seconds for solution baseline ---\n",
      "initial solution\n"
     ]
    },
    {
     "name": "stderr",
     "output_type": "stream",
     "text": [
      "100%|██████████| 57/57 [00:00<00:00, 260.18it/s]\n"
     ]
    },
    {
     "name": "stdout",
     "output_type": "stream",
     "text": [
      "--- 0.2261643409729004 seconds for solution baseline ---\n",
      "initial solution\n"
     ]
    },
    {
     "name": "stderr",
     "output_type": "stream",
     "text": [
      "100%|██████████| 58/58 [00:00<00:00, 249.58it/s]\n"
     ]
    },
    {
     "name": "stdout",
     "output_type": "stream",
     "text": [
      "--- 0.24446821212768555 seconds for solution baseline ---\n",
      "initial solution\n"
     ]
    },
    {
     "name": "stderr",
     "output_type": "stream",
     "text": [
      "100%|██████████| 58/58 [00:00<00:00, 249.23it/s]\n"
     ]
    },
    {
     "name": "stdout",
     "output_type": "stream",
     "text": [
      "--- 0.2490673065185547 seconds for solution baseline ---\n",
      "initial solution\n"
     ]
    },
    {
     "name": "stderr",
     "output_type": "stream",
     "text": [
      "100%|██████████| 58/58 [00:00<00:00, 266.44it/s]\n"
     ]
    },
    {
     "name": "stdout",
     "output_type": "stream",
     "text": [
      "--- 0.22899484634399414 seconds for solution baseline ---\n",
      "initial solution\n"
     ]
    },
    {
     "name": "stderr",
     "output_type": "stream",
     "text": [
      "100%|██████████| 58/58 [00:00<00:00, 225.26it/s]\n"
     ]
    },
    {
     "name": "stdout",
     "output_type": "stream",
     "text": [
      "--- 0.26681089401245117 seconds for solution baseline ---\n",
      "initial solution\n"
     ]
    },
    {
     "name": "stderr",
     "output_type": "stream",
     "text": [
      "100%|██████████| 58/58 [00:00<00:00, 260.86it/s]\n"
     ]
    },
    {
     "name": "stdout",
     "output_type": "stream",
     "text": [
      "--- 0.23603606224060059 seconds for solution baseline ---\n",
      "initial solution\n"
     ]
    },
    {
     "name": "stderr",
     "output_type": "stream",
     "text": [
      "100%|██████████| 58/58 [00:00<00:00, 248.11it/s]\n"
     ]
    },
    {
     "name": "stdout",
     "output_type": "stream",
     "text": [
      "--- 0.3138608932495117 seconds for solution baseline ---\n",
      "initial solution\n"
     ]
    },
    {
     "name": "stderr",
     "output_type": "stream",
     "text": [
      "100%|██████████| 58/58 [00:00<00:00, 222.08it/s]\n"
     ]
    },
    {
     "name": "stdout",
     "output_type": "stream",
     "text": [
      "--- 0.27689433097839355 seconds for solution baseline ---\n",
      "initial solution\n"
     ]
    },
    {
     "name": "stderr",
     "output_type": "stream",
     "text": [
      "100%|██████████| 58/58 [00:00<00:00, 264.67it/s]\n"
     ]
    },
    {
     "name": "stdout",
     "output_type": "stream",
     "text": [
      "--- 0.2313995361328125 seconds for solution baseline ---\n",
      "initial solution\n"
     ]
    },
    {
     "name": "stderr",
     "output_type": "stream",
     "text": [
      "100%|██████████| 58/58 [00:00<00:00, 214.37it/s]\n"
     ]
    },
    {
     "name": "stdout",
     "output_type": "stream",
     "text": [
      "--- 0.27211713790893555 seconds for solution baseline ---\n",
      "initial solution\n"
     ]
    },
    {
     "name": "stderr",
     "output_type": "stream",
     "text": [
      "100%|██████████| 58/58 [00:00<00:00, 247.67it/s]\n"
     ]
    },
    {
     "name": "stdout",
     "output_type": "stream",
     "text": [
      "--- 0.24601340293884277 seconds for solution baseline ---\n",
      "initial solution\n"
     ]
    },
    {
     "name": "stderr",
     "output_type": "stream",
     "text": [
      "100%|██████████| 59/59 [00:00<00:00, 235.81it/s]\n"
     ]
    },
    {
     "name": "stdout",
     "output_type": "stream",
     "text": [
      "--- 0.2611579895019531 seconds for solution baseline ---\n",
      "initial solution\n"
     ]
    },
    {
     "name": "stderr",
     "output_type": "stream",
     "text": [
      "100%|██████████| 59/59 [00:00<00:00, 223.46it/s]\n"
     ]
    },
    {
     "name": "stdout",
     "output_type": "stream",
     "text": [
      "--- 0.2770707607269287 seconds for solution baseline ---\n",
      "initial solution\n"
     ]
    },
    {
     "name": "stderr",
     "output_type": "stream",
     "text": [
      "100%|██████████| 59/59 [00:00<00:00, 219.03it/s]\n"
     ]
    },
    {
     "name": "stdout",
     "output_type": "stream",
     "text": [
      "--- 0.2824745178222656 seconds for solution baseline ---\n",
      "initial solution\n"
     ]
    },
    {
     "name": "stderr",
     "output_type": "stream",
     "text": [
      "100%|██████████| 59/59 [00:00<00:00, 199.62it/s]\n"
     ]
    },
    {
     "name": "stdout",
     "output_type": "stream",
     "text": [
      "--- 0.30218005180358887 seconds for solution baseline ---\n",
      "initial solution\n"
     ]
    },
    {
     "name": "stderr",
     "output_type": "stream",
     "text": [
      "100%|██████████| 59/59 [00:00<00:00, 226.97it/s]\n"
     ]
    },
    {
     "name": "stdout",
     "output_type": "stream",
     "text": [
      "--- 0.2699270248413086 seconds for solution baseline ---\n",
      "initial solution\n"
     ]
    },
    {
     "name": "stderr",
     "output_type": "stream",
     "text": [
      "100%|██████████| 59/59 [00:00<00:00, 224.97it/s]\n"
     ]
    },
    {
     "name": "stdout",
     "output_type": "stream",
     "text": [
      "--- 0.2813541889190674 seconds for solution baseline ---\n",
      "initial solution\n"
     ]
    },
    {
     "name": "stderr",
     "output_type": "stream",
     "text": [
      "100%|██████████| 59/59 [00:00<00:00, 203.20it/s]\n"
     ]
    },
    {
     "name": "stdout",
     "output_type": "stream",
     "text": [
      "--- 0.3681211471557617 seconds for solution baseline ---\n",
      "initial solution\n"
     ]
    },
    {
     "name": "stderr",
     "output_type": "stream",
     "text": [
      "100%|██████████| 59/59 [00:00<00:00, 235.97it/s]\n"
     ]
    },
    {
     "name": "stdout",
     "output_type": "stream",
     "text": [
      "--- 0.2586071491241455 seconds for solution baseline ---\n",
      "initial solution\n"
     ]
    },
    {
     "name": "stderr",
     "output_type": "stream",
     "text": [
      "100%|██████████| 59/59 [00:00<00:00, 227.07it/s]\n"
     ]
    },
    {
     "name": "stdout",
     "output_type": "stream",
     "text": [
      "--- 0.2687845230102539 seconds for solution baseline ---\n",
      "initial solution\n"
     ]
    },
    {
     "name": "stderr",
     "output_type": "stream",
     "text": [
      "100%|██████████| 59/59 [00:00<00:00, 235.56it/s]\n"
     ]
    },
    {
     "name": "stdout",
     "output_type": "stream",
     "text": [
      "--- 0.2626190185546875 seconds for solution baseline ---\n",
      "initial solution\n"
     ]
    },
    {
     "name": "stderr",
     "output_type": "stream",
     "text": [
      "100%|██████████| 60/60 [00:00<00:00, 184.02it/s]\n"
     ]
    },
    {
     "name": "stdout",
     "output_type": "stream",
     "text": [
      "--- 0.33622217178344727 seconds for solution baseline ---\n",
      "initial solution\n"
     ]
    },
    {
     "name": "stderr",
     "output_type": "stream",
     "text": [
      "100%|██████████| 60/60 [00:00<00:00, 217.22it/s]\n"
     ]
    },
    {
     "name": "stdout",
     "output_type": "stream",
     "text": [
      "--- 0.2841806411743164 seconds for solution baseline ---\n",
      "initial solution\n"
     ]
    },
    {
     "name": "stderr",
     "output_type": "stream",
     "text": [
      "100%|██████████| 60/60 [00:00<00:00, 209.20it/s]\n"
     ]
    },
    {
     "name": "stdout",
     "output_type": "stream",
     "text": [
      "--- 0.3003058433532715 seconds for solution baseline ---\n",
      "initial solution\n"
     ]
    },
    {
     "name": "stderr",
     "output_type": "stream",
     "text": [
      "100%|██████████| 60/60 [00:00<00:00, 199.36it/s]\n"
     ]
    },
    {
     "name": "stdout",
     "output_type": "stream",
     "text": [
      "--- 0.3105659484863281 seconds for solution baseline ---\n",
      "initial solution\n"
     ]
    },
    {
     "name": "stderr",
     "output_type": "stream",
     "text": [
      "100%|██████████| 60/60 [00:00<00:00, 218.21it/s]\n"
     ]
    },
    {
     "name": "stdout",
     "output_type": "stream",
     "text": [
      "--- 0.28386974334716797 seconds for solution baseline ---\n",
      "initial solution\n"
     ]
    },
    {
     "name": "stderr",
     "output_type": "stream",
     "text": [
      "100%|██████████| 60/60 [00:00<00:00, 235.87it/s]\n"
     ]
    },
    {
     "name": "stdout",
     "output_type": "stream",
     "text": [
      "--- 0.2650415897369385 seconds for solution baseline ---\n",
      "initial solution\n"
     ]
    },
    {
     "name": "stderr",
     "output_type": "stream",
     "text": [
      "100%|██████████| 60/60 [00:00<00:00, 227.16it/s]\n"
     ]
    },
    {
     "name": "stdout",
     "output_type": "stream",
     "text": [
      "--- 0.27220606803894043 seconds for solution baseline ---\n",
      "initial solution\n"
     ]
    },
    {
     "name": "stderr",
     "output_type": "stream",
     "text": [
      "100%|██████████| 60/60 [00:00<00:00, 223.09it/s]\n"
     ]
    },
    {
     "name": "stdout",
     "output_type": "stream",
     "text": [
      "--- 0.36095118522644043 seconds for solution baseline ---\n",
      "initial solution\n"
     ]
    },
    {
     "name": "stderr",
     "output_type": "stream",
     "text": [
      "100%|██████████| 60/60 [00:00<00:00, 210.50it/s]\n"
     ]
    },
    {
     "name": "stdout",
     "output_type": "stream",
     "text": [
      "--- 0.29732346534729004 seconds for solution baseline ---\n",
      "initial solution\n"
     ]
    },
    {
     "name": "stderr",
     "output_type": "stream",
     "text": [
      "100%|██████████| 60/60 [00:00<00:00, 233.36it/s]\n"
     ]
    },
    {
     "name": "stdout",
     "output_type": "stream",
     "text": [
      "--- 0.2681159973144531 seconds for solution baseline ---\n",
      "Taille       Temps moyen  Score moyen \n",
      "11           3.5          311.47272727272724\n",
      "12           4.5          426.6       \n",
      "13           3.4          560.9846153846154\n",
      "14           4.4          824.257142857143\n",
      "15           5.3          831.2933333333333\n",
      "16           6.2          1210.99375  \n",
      "17           4.5          1399.535294117647\n",
      "18           7.9          1620.8      \n",
      "19           13.0         1869.0157894736844\n",
      "20           8.5          2366.3599999999997\n",
      "21           9.4          2612.195238095238\n",
      "22           9.3          3133.4409090909094\n",
      "23           11.9         3294.8608695652174\n",
      "24           16.4         3608.9291666666663\n",
      "25           15.4         3503.7879999999996\n",
      "26           16.6         4108.630769230769\n",
      "27           21.6         4442.488888888889\n",
      "28           21.1         5679.785714285715\n",
      "29           24.3         5104.631034482759\n",
      "30           30.0         6338.916666666666\n",
      "31           28.9         5563.012903225806\n",
      "32           36.2         7008.365625 \n",
      "33           37.3         6987.733333333333\n",
      "34           36.7         8021.255882352942\n",
      "35           38.7         6658.5199999999995\n",
      "36           46.7         7949.194444444443\n",
      "37           54.8         7413.616216216216\n",
      "38           55.9         9629.38947368421\n",
      "39           60.2         8422.097435897436\n",
      "40           63.5         9215.6125   \n",
      "41           81.1         9295.49268292683\n",
      "42           76.0         10072.885714285714\n",
      "43           83.6         9350.467441860466\n",
      "44           90.3         10336.743181818181\n",
      "45           97.5         10753.646666666667\n",
      "46           106.8        11878.658695652175\n",
      "47           109.9        10122.872340425532\n",
      "48           136.4        12239.9375  \n",
      "49           142.3        10825.091836734693\n",
      "50           147.4        12560.766   \n",
      "51           163.7        11770.358823529412\n",
      "52           166.5        12555.167307692307\n",
      "53           178.6        12302.850943396226\n",
      "54           189.4        12306.198148148147\n",
      "55           197.4        12573.732727272727\n",
      "56           228.9        13341.376785714287\n",
      "57           241.4        12040.059649122808\n",
      "58           256.5        13559.71724137931\n",
      "59           283.3        13358.913559322033\n",
      "60           298.0        14650.62    \n"
     ]
    }
   ],
   "source": [
    "resultats_greedy = measure_range(main_greedy, problems)\n",
    "\n",
    "display_data_as_table(resultats_greedy)\n"
   ]
  },
  {
   "cell_type": "markdown",
   "metadata": {},
   "source": [
    "#### Test de puissance\n",
    "\n",
    "Ici, on utilise un test de puissance car on penses que notre algorithme greedy nous donne une complexité de theta(n^4), alors on essaie de confirmer que c'est bien le cas en regardant la pente de notre tendance sur le graphique log-log"
   ]
  },
  {
   "cell_type": "code",
   "execution_count": null,
   "metadata": {},
   "outputs": [
    {
     "data": {
      "image/png": "[encoded data removed]",
      "text/plain": [
       "<Figure size 640x480 with 1 Axes>"
      ]
     },
     "metadata": {},
     "output_type": "display_data"
    }
   ],
   "source": [
    "def dict_from_measures(measures: list[Measure]) -> dict:\n",
    "    dict = {}\n",
    "    for measure in measures:\n",
    "        dict[np.log(measure.size)] = np.log(measure.mean)\n",
    "    return dict\n",
    "\n",
    "dict_greedy_sol = dict_from_measures(resultats_greedy)\n",
    "\n",
    "test_de_puissance(dict_greedy_sol, \"log de la grandeur de n\", 'temps log moyen pour trouver la solution (ms)', \"Test de puissance pour algorithme glouton\")"
   ]
  },
  {
   "cell_type": "markdown",
   "metadata": {},
   "source": [
    "Comme on peut voir sur le test de puissance, notre échelle log-log pour nos données nous donne une complexité autour de theta n^2.8, ce qui était attendu, mais beaucoup mieux que notre hypothèse de départ. Nous pensions que c'était theta(n^4), mais en pratique notre algorithme greedy performe beaucoup mieux que nous le pensions. "
   ]
  },
  {
   "cell_type": "markdown",
   "metadata": {},
   "source": [
    "### Test de rapport\n",
    "\n",
    "Ici, on fait un test de rapport pour vérifier tout de même si notre hypothèse de départ peut être sensée, même si on sait maintenant que notre vraie complexité pratique est plutôt theta(n^2.8). C'est le dernier test que l'on considère pour cette partie, car on a pas besoin de faire le test de constance étant donné que nous n'avons qu'une variable dans notre algorithme"
   ]
  },
  {
   "cell_type": "code",
   "execution_count": null,
   "metadata": {},
   "outputs": [
    {
     "data": {
      "image/png": "[encoded data removed]",
      "text/plain": [
       "<Figure size 640x480 with 1 Axes>"
      ]
     },
     "metadata": {},
     "output_type": "display_data"
    }
   ],
   "source": [
    "import math\n",
    "def change_to_predict(measures: list[Measure], hypothesis = lambda x: x) -> dict:\n",
    "    new_dict = {}\n",
    "    for key in measures:\n",
    "        new_dict[key.size] = key.mean/hypothesis(key.size)\n",
    "    return new_dict\n",
    "\n",
    "test_de_rapport(change_to_predict(resultats_greedy, lambda x: x**4), \"grandeur de n\", \"temps moyen pour trouver la solution divisé par n^4 (ms)\" , \"Test de rapport sur l'algorithme glouton\")"
   ]
  },
  {
   "cell_type": "markdown",
   "metadata": {},
   "source": [
    "Comme on peut le voir, on converge mais on se rapproche extrèmement de 0, ce qui indique qu'on surestime la valeur de notre complexité. C'est tout à fait normal vu qu'on vient de voir une valeur de theta(n^2.8) en pratique. Par contre, il est tout de même possible avec la différence de vitesse sur nos machines que la vraie complexité varie dépendamment de facteurs qu'on ne peut pas controller."
   ]
  },
  {
   "cell_type": "markdown",
   "metadata": {},
   "source": [
    "### Greedy et Amélioration locale avec un seul passage\n",
    "\n",
    "Ici, on réécris notre algorithme avec amélioration locale, pour évaluer la complexité de notre solution finale. Si on se souviens bien, notre hypothèse était une complexité d'au plus theta n^4 "
   ]
  },
  {
   "cell_type": "code",
   "execution_count": 14,
   "metadata": {},
   "outputs": [],
   "source": [
    "\n",
    "def main_amelioration(sample):\n",
    "    start_time = time.time()\n",
    "    max_time = 60 * 3 - 1\n",
    "    n = len(sample)\n",
    "    target = 500 * n\n",
    "    counties = set_counties(sample)\n",
    "    print('initial solution')\n",
    "    sol, groups = max_to_target(counties, target, n)\n",
    "    if (time.time() - start_time) > max_time:\n",
    "        return sol\n",
    "    print(\"--- %s seconds for solution baseline ---\" % (time.time() - start_time))\n",
    "\n",
    "    first_iter = True\n",
    "    iter_time = time.time()\n",
    "    time_to_iter = 0\n",
    "    updated = amelioration_locale(groups, target, n, sample, sol)\n",
    "    sol = updated\n",
    "    return sol"
   ]
  },
  {
   "cell_type": "markdown",
   "metadata": {},
   "source": [
    "#### Génération de moyennes\n",
    "\n",
    "Ici on génère les moyennes de la même façon"
   ]
  },
  {
   "cell_type": "code",
   "execution_count": 15,
   "metadata": {},
   "outputs": [
    {
     "name": "stdout",
     "output_type": "stream",
     "text": [
      "initial solution\n"
     ]
    },
    {
     "name": "stderr",
     "output_type": "stream",
     "text": [
      "100%|██████████| 11/11 [00:00<00:00, 7301.37it/s]\n"
     ]
    },
    {
     "name": "stdout",
     "output_type": "stream",
     "text": [
      "--- 0.003362894058227539 seconds for solution baseline ---\n",
      "initial solution\n"
     ]
    },
    {
     "name": "stderr",
     "output_type": "stream",
     "text": [
      "100%|██████████| 11/11 [00:00<00:00, 9288.77it/s]\n"
     ]
    },
    {
     "name": "stdout",
     "output_type": "stream",
     "text": [
      "--- 0.0031235218048095703 seconds for solution baseline ---\n",
      "initial solution\n"
     ]
    },
    {
     "name": "stderr",
     "output_type": "stream",
     "text": [
      "100%|██████████| 11/11 [00:00<00:00, 3024.01it/s]\n"
     ]
    },
    {
     "name": "stdout",
     "output_type": "stream",
     "text": [
      "--- 0.003637552261352539 seconds for solution baseline ---\n",
      "initial solution\n"
     ]
    },
    {
     "name": "stderr",
     "output_type": "stream",
     "text": [
      "100%|██████████| 11/11 [00:00<00:00, 7815.91it/s]\n"
     ]
    },
    {
     "name": "stdout",
     "output_type": "stream",
     "text": [
      "--- 0.0032913684844970703 seconds for solution baseline ---\n",
      "initial solution\n"
     ]
    },
    {
     "name": "stderr",
     "output_type": "stream",
     "text": [
      "100%|██████████| 11/11 [00:00<?, ?it/s]\n"
     ]
    },
    {
     "name": "stdout",
     "output_type": "stream",
     "text": [
      "--- 0.003419160842895508 seconds for solution baseline ---\n",
      "initial solution\n"
     ]
    },
    {
     "name": "stderr",
     "output_type": "stream",
     "text": [
      "100%|██████████| 11/11 [00:00<00:00, 8801.48it/s]\n"
     ]
    },
    {
     "name": "stdout",
     "output_type": "stream",
     "text": [
      "--- 0.004509687423706055 seconds for solution baseline ---\n",
      "initial solution\n"
     ]
    },
    {
     "name": "stderr",
     "output_type": "stream",
     "text": [
      "100%|██████████| 11/11 [00:00<00:00, 5125.80it/s]\n"
     ]
    },
    {
     "name": "stdout",
     "output_type": "stream",
     "text": [
      "--- 0.003159761428833008 seconds for solution baseline ---\n",
      "initial solution\n"
     ]
    },
    {
     "name": "stderr",
     "output_type": "stream",
     "text": [
      "100%|██████████| 11/11 [00:00<00:00, 8881.11it/s]\n"
     ]
    },
    {
     "name": "stdout",
     "output_type": "stream",
     "text": [
      "--- 0.003390789031982422 seconds for solution baseline ---\n",
      "initial solution\n"
     ]
    },
    {
     "name": "stderr",
     "output_type": "stream",
     "text": [
      "100%|██████████| 11/11 [00:00<00:00, 7027.78it/s]\n"
     ]
    },
    {
     "name": "stdout",
     "output_type": "stream",
     "text": [
      "--- 0.0038614273071289062 seconds for solution baseline ---\n",
      "initial solution\n"
     ]
    },
    {
     "name": "stderr",
     "output_type": "stream",
     "text": [
      "100%|██████████| 11/11 [00:00<?, ?it/s]\n"
     ]
    },
    {
     "name": "stdout",
     "output_type": "stream",
     "text": [
      "--- 0.004225492477416992 seconds for solution baseline ---\n",
      "initial solution\n"
     ]
    },
    {
     "name": "stderr",
     "output_type": "stream",
     "text": [
      "100%|██████████| 12/12 [00:00<00:00, 10866.07it/s]\n"
     ]
    },
    {
     "name": "stdout",
     "output_type": "stream",
     "text": [
      "--- 0.004874706268310547 seconds for solution baseline ---\n",
      "initial solution\n"
     ]
    },
    {
     "name": "stderr",
     "output_type": "stream",
     "text": [
      "100%|██████████| 12/12 [00:00<00:00, 4067.86it/s]\n"
     ]
    },
    {
     "name": "stdout",
     "output_type": "stream",
     "text": [
      "--- 0.002949953079223633 seconds for solution baseline ---\n",
      "initial solution\n"
     ]
    },
    {
     "name": "stderr",
     "output_type": "stream",
     "text": [
      "100%|██████████| 12/12 [00:00<00:00, 4721.99it/s]\n"
     ]
    },
    {
     "name": "stdout",
     "output_type": "stream",
     "text": [
      "--- 0.0025413036346435547 seconds for solution baseline ---\n",
      "initial solution\n"
     ]
    },
    {
     "name": "stderr",
     "output_type": "stream",
     "text": [
      "100%|██████████| 12/12 [00:00<00:00, 7970.17it/s]\n"
     ]
    },
    {
     "name": "stdout",
     "output_type": "stream",
     "text": [
      "--- 0.0037436485290527344 seconds for solution baseline ---\n",
      "initial solution\n"
     ]
    },
    {
     "name": "stderr",
     "output_type": "stream",
     "text": [
      "100%|██████████| 12/12 [00:00<00:00, 3459.46it/s]\n"
     ]
    },
    {
     "name": "stdout",
     "output_type": "stream",
     "text": [
      "--- 0.003468751907348633 seconds for solution baseline ---\n",
      "initial solution\n"
     ]
    },
    {
     "name": "stderr",
     "output_type": "stream",
     "text": [
      "100%|██████████| 12/12 [00:00<00:00, 11839.95it/s]\n"
     ]
    },
    {
     "name": "stdout",
     "output_type": "stream",
     "text": [
      "--- 0.005226612091064453 seconds for solution baseline ---\n",
      "initial solution\n"
     ]
    },
    {
     "name": "stderr",
     "output_type": "stream",
     "text": [
      "100%|██████████| 12/12 [00:00<?, ?it/s]\n"
     ]
    },
    {
     "name": "stdout",
     "output_type": "stream",
     "text": [
      "--- 0.007013559341430664 seconds for solution baseline ---\n",
      "initial solution\n"
     ]
    },
    {
     "name": "stderr",
     "output_type": "stream",
     "text": [
      "100%|██████████| 12/12 [00:00<?, ?it/s]\n"
     ]
    },
    {
     "name": "stdout",
     "output_type": "stream",
     "text": [
      "--- 0.001436471939086914 seconds for solution baseline ---\n",
      "initial solution\n"
     ]
    },
    {
     "name": "stderr",
     "output_type": "stream",
     "text": [
      "100%|██████████| 12/12 [00:00<00:00, 11842.74it/s]\n"
     ]
    },
    {
     "name": "stdout",
     "output_type": "stream",
     "text": [
      "--- 0.005692481994628906 seconds for solution baseline ---\n",
      "initial solution\n"
     ]
    },
    {
     "name": "stderr",
     "output_type": "stream",
     "text": [
      "100%|██████████| 12/12 [00:00<00:00, 2191.95it/s]\n"
     ]
    },
    {
     "name": "stdout",
     "output_type": "stream",
     "text": [
      "--- 0.007854223251342773 seconds for solution baseline ---\n",
      "initial solution\n"
     ]
    },
    {
     "name": "stderr",
     "output_type": "stream",
     "text": [
      "100%|██████████| 13/13 [00:00<?, ?it/s]\n"
     ]
    },
    {
     "name": "stdout",
     "output_type": "stream",
     "text": [
      "--- 0.0 seconds for solution baseline ---\n",
      "initial solution\n"
     ]
    },
    {
     "name": "stderr",
     "output_type": "stream",
     "text": [
      "100%|██████████| 13/13 [00:00<00:00, 1854.25it/s]\n"
     ]
    },
    {
     "name": "stdout",
     "output_type": "stream",
     "text": [
      "--- 0.016276836395263672 seconds for solution baseline ---\n",
      "initial solution\n"
     ]
    },
    {
     "name": "stderr",
     "output_type": "stream",
     "text": [
      "100%|██████████| 13/13 [00:00<00:00, 1621.98it/s]\n"
     ]
    },
    {
     "name": "stdout",
     "output_type": "stream",
     "text": [
      "--- 0.008014917373657227 seconds for solution baseline ---\n",
      "initial solution\n"
     ]
    },
    {
     "name": "stderr",
     "output_type": "stream",
     "text": [
      "100%|██████████| 13/13 [00:00<00:00, 3031.07it/s]\n"
     ]
    },
    {
     "name": "stdout",
     "output_type": "stream",
     "text": [
      "--- 0.004288911819458008 seconds for solution baseline ---\n",
      "initial solution\n"
     ]
    },
    {
     "name": "stderr",
     "output_type": "stream",
     "text": [
      "100%|██████████| 13/13 [00:00<00:00, 6129.27it/s]\n"
     ]
    },
    {
     "name": "stdout",
     "output_type": "stream",
     "text": [
      "--- 0.0031261444091796875 seconds for solution baseline ---\n",
      "initial solution\n"
     ]
    },
    {
     "name": "stderr",
     "output_type": "stream",
     "text": [
      "100%|██████████| 13/13 [00:00<00:00, 8701.88it/s]\n"
     ]
    },
    {
     "name": "stdout",
     "output_type": "stream",
     "text": [
      "--- 0.004084110260009766 seconds for solution baseline ---\n",
      "initial solution\n"
     ]
    },
    {
     "name": "stderr",
     "output_type": "stream",
     "text": [
      "100%|██████████| 13/13 [00:00<00:00, 9840.45it/s]\n"
     ]
    },
    {
     "name": "stdout",
     "output_type": "stream",
     "text": [
      "--- 0.004052162170410156 seconds for solution baseline ---\n",
      "initial solution\n"
     ]
    },
    {
     "name": "stderr",
     "output_type": "stream",
     "text": [
      "100%|██████████| 13/13 [00:00<?, ?it/s]\n"
     ]
    },
    {
     "name": "stdout",
     "output_type": "stream",
     "text": [
      "--- 0.0 seconds for solution baseline ---\n",
      "initial solution\n"
     ]
    },
    {
     "name": "stderr",
     "output_type": "stream",
     "text": [
      "100%|██████████| 13/13 [00:00<00:00, 12869.00it/s]\n"
     ]
    },
    {
     "name": "stdout",
     "output_type": "stream",
     "text": [
      "--- 0.008182048797607422 seconds for solution baseline ---\n",
      "initial solution\n"
     ]
    },
    {
     "name": "stderr",
     "output_type": "stream",
     "text": [
      "100%|██████████| 13/13 [00:00<?, ?it/s]\n"
     ]
    },
    {
     "name": "stdout",
     "output_type": "stream",
     "text": [
      "--- 0.0029501914978027344 seconds for solution baseline ---\n",
      "initial solution\n"
     ]
    },
    {
     "name": "stderr",
     "output_type": "stream",
     "text": [
      "100%|██████████| 14/14 [00:00<00:00, 5790.38it/s]\n"
     ]
    },
    {
     "name": "stdout",
     "output_type": "stream",
     "text": [
      "--- 0.008385181427001953 seconds for solution baseline ---\n",
      "initial solution\n"
     ]
    },
    {
     "name": "stderr",
     "output_type": "stream",
     "text": [
      "100%|██████████| 14/14 [00:00<?, ?it/s]\n"
     ]
    },
    {
     "name": "stdout",
     "output_type": "stream",
     "text": [
      "--- 0.002269744873046875 seconds for solution baseline ---\n",
      "initial solution\n"
     ]
    },
    {
     "name": "stderr",
     "output_type": "stream",
     "text": [
      "100%|██████████| 14/14 [00:00<00:00, 6196.08it/s]\n"
     ]
    },
    {
     "name": "stdout",
     "output_type": "stream",
     "text": [
      "--- 0.003266572952270508 seconds for solution baseline ---\n",
      "initial solution\n"
     ]
    },
    {
     "name": "stderr",
     "output_type": "stream",
     "text": [
      "100%|██████████| 14/14 [00:00<00:00, 3882.84it/s]\n"
     ]
    },
    {
     "name": "stdout",
     "output_type": "stream",
     "text": [
      "--- 0.0036056041717529297 seconds for solution baseline ---\n",
      "initial solution\n"
     ]
    },
    {
     "name": "stderr",
     "output_type": "stream",
     "text": [
      "100%|██████████| 14/14 [00:00<?, ?it/s]\n"
     ]
    },
    {
     "name": "stdout",
     "output_type": "stream",
     "text": [
      "--- 0.008076190948486328 seconds for solution baseline ---\n",
      "initial solution\n"
     ]
    },
    {
     "name": "stderr",
     "output_type": "stream",
     "text": [
      "100%|██████████| 14/14 [00:00<00:00, 4022.49it/s]\n"
     ]
    },
    {
     "name": "stdout",
     "output_type": "stream",
     "text": [
      "--- 0.0034804344177246094 seconds for solution baseline ---\n",
      "initial solution\n"
     ]
    },
    {
     "name": "stderr",
     "output_type": "stream",
     "text": [
      "100%|██████████| 14/14 [00:00<?, ?it/s]\n"
     ]
    },
    {
     "name": "stdout",
     "output_type": "stream",
     "text": [
      "--- 0.004678964614868164 seconds for solution baseline ---\n",
      "initial solution\n"
     ]
    },
    {
     "name": "stderr",
     "output_type": "stream",
     "text": [
      "100%|██████████| 14/14 [00:00<?, ?it/s]\n"
     ]
    },
    {
     "name": "stdout",
     "output_type": "stream",
     "text": [
      "--- 0.0035228729248046875 seconds for solution baseline ---\n",
      "initial solution\n"
     ]
    },
    {
     "name": "stderr",
     "output_type": "stream",
     "text": [
      "100%|██████████| 14/14 [00:00<00:00, 5094.59it/s]\n"
     ]
    },
    {
     "name": "stdout",
     "output_type": "stream",
     "text": [
      "--- 0.006593465805053711 seconds for solution baseline ---\n",
      "initial solution\n"
     ]
    },
    {
     "name": "stderr",
     "output_type": "stream",
     "text": [
      "100%|██████████| 14/14 [00:00<00:00, 6970.59it/s]\n"
     ]
    },
    {
     "name": "stdout",
     "output_type": "stream",
     "text": [
      "--- 0.0045545101165771484 seconds for solution baseline ---\n",
      "initial solution\n"
     ]
    },
    {
     "name": "stderr",
     "output_type": "stream",
     "text": [
      "100%|██████████| 15/15 [00:00<?, ?it/s]"
     ]
    },
    {
     "name": "stdout",
     "output_type": "stream",
     "text": [
      "--- 0.003231525421142578 seconds for solution baseline ---\n",
      "initial solution\n"
     ]
    },
    {
     "name": "stderr",
     "output_type": "stream",
     "text": [
      "\n",
      "100%|██████████| 15/15 [00:00<00:00, 4328.78it/s]\n"
     ]
    },
    {
     "name": "stdout",
     "output_type": "stream",
     "text": [
      "--- 0.0057942867279052734 seconds for solution baseline ---\n",
      "initial solution\n"
     ]
    },
    {
     "name": "stderr",
     "output_type": "stream",
     "text": [
      "100%|██████████| 15/15 [00:00<00:00, 3606.25it/s]\n"
     ]
    },
    {
     "name": "stdout",
     "output_type": "stream",
     "text": [
      "--- 0.005275726318359375 seconds for solution baseline ---\n",
      "initial solution\n"
     ]
    },
    {
     "name": "stderr",
     "output_type": "stream",
     "text": [
      "100%|██████████| 15/15 [00:00<00:00, 8011.53it/s]\n"
     ]
    },
    {
     "name": "stdout",
     "output_type": "stream",
     "text": [
      "--- 0.006085872650146484 seconds for solution baseline ---\n",
      "initial solution\n"
     ]
    },
    {
     "name": "stderr",
     "output_type": "stream",
     "text": [
      "100%|██████████| 15/15 [00:00<00:00, 3577.13it/s]\n"
     ]
    },
    {
     "name": "stdout",
     "output_type": "stream",
     "text": [
      "--- 0.004193305969238281 seconds for solution baseline ---\n",
      "initial solution\n"
     ]
    },
    {
     "name": "stderr",
     "output_type": "stream",
     "text": [
      "100%|██████████| 15/15 [00:00<00:00, 11420.32it/s]\n"
     ]
    },
    {
     "name": "stdout",
     "output_type": "stream",
     "text": [
      "--- 0.004647493362426758 seconds for solution baseline ---\n",
      "initial solution\n"
     ]
    },
    {
     "name": "stderr",
     "output_type": "stream",
     "text": [
      "100%|██████████| 15/15 [00:00<00:00, 5820.57it/s]\n"
     ]
    },
    {
     "name": "stdout",
     "output_type": "stream",
     "text": [
      "--- 0.009149312973022461 seconds for solution baseline ---\n",
      "initial solution\n"
     ]
    },
    {
     "name": "stderr",
     "output_type": "stream",
     "text": [
      "100%|██████████| 15/15 [00:00<00:00, 5958.38it/s]\n"
     ]
    },
    {
     "name": "stdout",
     "output_type": "stream",
     "text": [
      "--- 0.005825996398925781 seconds for solution baseline ---\n",
      "initial solution\n"
     ]
    },
    {
     "name": "stderr",
     "output_type": "stream",
     "text": [
      "100%|██████████| 15/15 [00:00<00:00, 11899.86it/s]\n"
     ]
    },
    {
     "name": "stdout",
     "output_type": "stream",
     "text": [
      "--- 0.0025577545166015625 seconds for solution baseline ---\n",
      "initial solution\n"
     ]
    },
    {
     "name": "stderr",
     "output_type": "stream",
     "text": [
      "100%|██████████| 15/15 [00:00<00:00, 8616.07it/s]\n"
     ]
    },
    {
     "name": "stdout",
     "output_type": "stream",
     "text": [
      "--- 0.0039594173431396484 seconds for solution baseline ---\n",
      "initial solution\n"
     ]
    },
    {
     "name": "stderr",
     "output_type": "stream",
     "text": [
      "100%|██████████| 16/16 [00:00<00:00, 5847.25it/s]\n"
     ]
    },
    {
     "name": "stdout",
     "output_type": "stream",
     "text": [
      "--- 0.0064890384674072266 seconds for solution baseline ---\n",
      "initial solution\n"
     ]
    },
    {
     "name": "stderr",
     "output_type": "stream",
     "text": [
      "100%|██████████| 16/16 [00:00<00:00, 6328.04it/s]\n"
     ]
    },
    {
     "name": "stdout",
     "output_type": "stream",
     "text": [
      "--- 0.007370471954345703 seconds for solution baseline ---\n",
      "initial solution\n"
     ]
    },
    {
     "name": "stderr",
     "output_type": "stream",
     "text": [
      "100%|██████████| 16/16 [00:00<00:00, 15786.61it/s]\n"
     ]
    },
    {
     "name": "stdout",
     "output_type": "stream",
     "text": [
      "--- 0.0035500526428222656 seconds for solution baseline ---\n",
      "initial solution\n"
     ]
    },
    {
     "name": "stderr",
     "output_type": "stream",
     "text": [
      "100%|██████████| 16/16 [00:00<00:00, 3099.86it/s]\n"
     ]
    },
    {
     "name": "stdout",
     "output_type": "stream",
     "text": [
      "--- 0.0051615238189697266 seconds for solution baseline ---\n",
      "initial solution\n"
     ]
    },
    {
     "name": "stderr",
     "output_type": "stream",
     "text": [
      "100%|██████████| 16/16 [00:00<?, ?it/s]\n"
     ]
    },
    {
     "name": "stdout",
     "output_type": "stream",
     "text": [
      "--- 0.00618743896484375 seconds for solution baseline ---\n",
      "initial solution\n"
     ]
    },
    {
     "name": "stderr",
     "output_type": "stream",
     "text": [
      "100%|██████████| 16/16 [00:00<00:00, 5666.06it/s]\n"
     ]
    },
    {
     "name": "stdout",
     "output_type": "stream",
     "text": [
      "--- 0.005398988723754883 seconds for solution baseline ---\n",
      "initial solution\n"
     ]
    },
    {
     "name": "stderr",
     "output_type": "stream",
     "text": [
      "100%|██████████| 16/16 [00:00<?, ?it/s]\n"
     ]
    },
    {
     "name": "stdout",
     "output_type": "stream",
     "text": [
      "--- 0.002307891845703125 seconds for solution baseline ---\n",
      "initial solution\n"
     ]
    },
    {
     "name": "stderr",
     "output_type": "stream",
     "text": [
      "100%|██████████| 16/16 [00:00<00:00, 5159.84it/s]\n"
     ]
    },
    {
     "name": "stdout",
     "output_type": "stream",
     "text": [
      "--- 0.0054399967193603516 seconds for solution baseline ---\n",
      "initial solution\n"
     ]
    },
    {
     "name": "stderr",
     "output_type": "stream",
     "text": [
      "100%|██████████| 16/16 [00:00<00:00, 4941.38it/s]\n"
     ]
    },
    {
     "name": "stdout",
     "output_type": "stream",
     "text": [
      "--- 0.005344867706298828 seconds for solution baseline ---\n",
      "initial solution\n"
     ]
    },
    {
     "name": "stderr",
     "output_type": "stream",
     "text": [
      "100%|██████████| 16/16 [00:00<00:00, 6348.99it/s]\n"
     ]
    },
    {
     "name": "stdout",
     "output_type": "stream",
     "text": [
      "--- 0.0069806575775146484 seconds for solution baseline ---\n",
      "initial solution\n"
     ]
    },
    {
     "name": "stderr",
     "output_type": "stream",
     "text": [
      "100%|██████████| 17/17 [00:00<00:00, 4366.66it/s]\n"
     ]
    },
    {
     "name": "stdout",
     "output_type": "stream",
     "text": [
      "--- 0.005412101745605469 seconds for solution baseline ---\n",
      "initial solution\n"
     ]
    },
    {
     "name": "stderr",
     "output_type": "stream",
     "text": [
      "100%|██████████| 17/17 [00:00<?, ?it/s]\n"
     ]
    },
    {
     "name": "stdout",
     "output_type": "stream",
     "text": [
      "--- 0.0010137557983398438 seconds for solution baseline ---\n",
      "initial solution\n"
     ]
    },
    {
     "name": "stderr",
     "output_type": "stream",
     "text": [
      "100%|██████████| 17/17 [00:00<00:00, 13194.52it/s]\n"
     ]
    },
    {
     "name": "stdout",
     "output_type": "stream",
     "text": [
      "--- 0.0035848617553710938 seconds for solution baseline ---\n",
      "initial solution\n"
     ]
    },
    {
     "name": "stderr",
     "output_type": "stream",
     "text": [
      "100%|██████████| 17/17 [00:00<00:00, 4299.52it/s]\n"
     ]
    },
    {
     "name": "stdout",
     "output_type": "stream",
     "text": [
      "--- 0.006498098373413086 seconds for solution baseline ---\n",
      "initial solution\n"
     ]
    },
    {
     "name": "stderr",
     "output_type": "stream",
     "text": [
      "100%|██████████| 17/17 [00:00<00:00, 7402.74it/s]\n"
     ]
    },
    {
     "name": "stdout",
     "output_type": "stream",
     "text": [
      "--- 0.005553007125854492 seconds for solution baseline ---\n",
      "initial solution\n"
     ]
    },
    {
     "name": "stderr",
     "output_type": "stream",
     "text": [
      "100%|██████████| 17/17 [00:00<00:00, 3086.58it/s]\n"
     ]
    },
    {
     "name": "stdout",
     "output_type": "stream",
     "text": [
      "--- 0.00684666633605957 seconds for solution baseline ---\n",
      "initial solution\n"
     ]
    },
    {
     "name": "stderr",
     "output_type": "stream",
     "text": [
      "100%|██████████| 17/17 [00:00<00:00, 2639.88it/s]\n"
     ]
    },
    {
     "name": "stdout",
     "output_type": "stream",
     "text": [
      "--- 0.006439685821533203 seconds for solution baseline ---\n",
      "initial solution\n"
     ]
    },
    {
     "name": "stderr",
     "output_type": "stream",
     "text": [
      "100%|██████████| 17/17 [00:00<00:00, 5438.01it/s]\n"
     ]
    },
    {
     "name": "stdout",
     "output_type": "stream",
     "text": [
      "--- 0.006963968276977539 seconds for solution baseline ---\n",
      "initial solution\n"
     ]
    },
    {
     "name": "stderr",
     "output_type": "stream",
     "text": [
      "100%|██████████| 17/17 [00:00<00:00, 4112.77it/s]\n"
     ]
    },
    {
     "name": "stdout",
     "output_type": "stream",
     "text": [
      "--- 0.005147695541381836 seconds for solution baseline ---\n",
      "initial solution\n"
     ]
    },
    {
     "name": "stderr",
     "output_type": "stream",
     "text": [
      "100%|██████████| 17/17 [00:00<00:00, 3998.38it/s]\n"
     ]
    },
    {
     "name": "stdout",
     "output_type": "stream",
     "text": [
      "--- 0.008437871932983398 seconds for solution baseline ---\n",
      "initial solution\n"
     ]
    },
    {
     "name": "stderr",
     "output_type": "stream",
     "text": [
      "100%|██████████| 18/18 [00:00<00:00, 2830.06it/s]\n"
     ]
    },
    {
     "name": "stdout",
     "output_type": "stream",
     "text": [
      "--- 0.007708549499511719 seconds for solution baseline ---\n",
      "initial solution\n"
     ]
    },
    {
     "name": "stderr",
     "output_type": "stream",
     "text": [
      "100%|██████████| 18/18 [00:00<00:00, 3601.46it/s]\n"
     ]
    },
    {
     "name": "stdout",
     "output_type": "stream",
     "text": [
      "--- 0.007617473602294922 seconds for solution baseline ---\n",
      "initial solution\n"
     ]
    },
    {
     "name": "stderr",
     "output_type": "stream",
     "text": [
      "100%|██████████| 18/18 [00:00<00:00, 6559.86it/s]\n"
     ]
    },
    {
     "name": "stdout",
     "output_type": "stream",
     "text": [
      "--- 0.007581472396850586 seconds for solution baseline ---\n",
      "initial solution\n"
     ]
    },
    {
     "name": "stderr",
     "output_type": "stream",
     "text": [
      "100%|██████████| 18/18 [00:00<?, ?it/s]\n"
     ]
    },
    {
     "name": "stdout",
     "output_type": "stream",
     "text": [
      "--- 0.005099773406982422 seconds for solution baseline ---\n",
      "initial solution\n"
     ]
    },
    {
     "name": "stderr",
     "output_type": "stream",
     "text": [
      "100%|██████████| 18/18 [00:00<00:00, 16008.79it/s]\n"
     ]
    },
    {
     "name": "stdout",
     "output_type": "stream",
     "text": [
      "--- 0.007312774658203125 seconds for solution baseline ---\n",
      "initial solution\n"
     ]
    },
    {
     "name": "stderr",
     "output_type": "stream",
     "text": [
      "100%|██████████| 18/18 [00:00<00:00, 4646.28it/s]\n"
     ]
    },
    {
     "name": "stdout",
     "output_type": "stream",
     "text": [
      "--- 0.007573127746582031 seconds for solution baseline ---\n",
      "initial solution\n"
     ]
    },
    {
     "name": "stderr",
     "output_type": "stream",
     "text": [
      "100%|██████████| 18/18 [00:00<00:00, 2122.09it/s]\n"
     ]
    },
    {
     "name": "stdout",
     "output_type": "stream",
     "text": [
      "--- 0.008482217788696289 seconds for solution baseline ---\n",
      "initial solution\n"
     ]
    },
    {
     "name": "stderr",
     "output_type": "stream",
     "text": [
      "100%|██████████| 18/18 [00:00<00:00, 17651.97it/s]\n"
     ]
    },
    {
     "name": "stdout",
     "output_type": "stream",
     "text": [
      "--- 0.006752490997314453 seconds for solution baseline ---\n",
      "initial solution\n"
     ]
    },
    {
     "name": "stderr",
     "output_type": "stream",
     "text": [
      "100%|██████████| 18/18 [00:00<?, ?it/s]"
     ]
    },
    {
     "name": "stdout",
     "output_type": "stream",
     "text": [
      "--- 0.002011537551879883 seconds for solution baseline ---\n",
      "initial solution\n"
     ]
    },
    {
     "name": "stderr",
     "output_type": "stream",
     "text": [
      "\n",
      "100%|██████████| 18/18 [00:00<00:00, 5552.92it/s]\n"
     ]
    },
    {
     "name": "stdout",
     "output_type": "stream",
     "text": [
      "--- 0.005621671676635742 seconds for solution baseline ---\n",
      "initial solution\n"
     ]
    },
    {
     "name": "stderr",
     "output_type": "stream",
     "text": [
      "100%|██████████| 19/19 [00:00<00:00, 4605.13it/s]\n"
     ]
    },
    {
     "name": "stdout",
     "output_type": "stream",
     "text": [
      "--- 0.010432243347167969 seconds for solution baseline ---\n",
      "initial solution\n"
     ]
    },
    {
     "name": "stderr",
     "output_type": "stream",
     "text": [
      "100%|██████████| 19/19 [00:00<00:00, 3021.03it/s]\n"
     ]
    },
    {
     "name": "stdout",
     "output_type": "stream",
     "text": [
      "--- 0.009494304656982422 seconds for solution baseline ---\n",
      "initial solution\n"
     ]
    },
    {
     "name": "stderr",
     "output_type": "stream",
     "text": [
      "100%|██████████| 19/19 [00:00<00:00, 4029.31it/s]\n"
     ]
    },
    {
     "name": "stdout",
     "output_type": "stream",
     "text": [
      "--- 0.009700536727905273 seconds for solution baseline ---\n",
      "initial solution\n"
     ]
    },
    {
     "name": "stderr",
     "output_type": "stream",
     "text": [
      "100%|██████████| 19/19 [00:00<00:00, 4600.34it/s]\n"
     ]
    },
    {
     "name": "stdout",
     "output_type": "stream",
     "text": [
      "--- 0.007489919662475586 seconds for solution baseline ---\n",
      "initial solution\n"
     ]
    },
    {
     "name": "stderr",
     "output_type": "stream",
     "text": [
      "100%|██████████| 19/19 [00:00<00:00, 3612.17it/s]\n"
     ]
    },
    {
     "name": "stdout",
     "output_type": "stream",
     "text": [
      "--- 0.009306192398071289 seconds for solution baseline ---\n",
      "initial solution\n"
     ]
    },
    {
     "name": "stderr",
     "output_type": "stream",
     "text": [
      "100%|██████████| 19/19 [00:00<00:00, 3942.21it/s]\n"
     ]
    },
    {
     "name": "stdout",
     "output_type": "stream",
     "text": [
      "--- 0.008359432220458984 seconds for solution baseline ---\n",
      "initial solution\n"
     ]
    },
    {
     "name": "stderr",
     "output_type": "stream",
     "text": [
      "100%|██████████| 19/19 [00:00<00:00, 3437.66it/s]\n"
     ]
    },
    {
     "name": "stdout",
     "output_type": "stream",
     "text": [
      "--- 0.009424448013305664 seconds for solution baseline ---\n",
      "initial solution\n"
     ]
    },
    {
     "name": "stderr",
     "output_type": "stream",
     "text": [
      "100%|██████████| 19/19 [00:00<?, ?it/s]\n"
     ]
    },
    {
     "name": "stdout",
     "output_type": "stream",
     "text": [
      "--- 0.011483192443847656 seconds for solution baseline ---\n",
      "initial solution\n"
     ]
    },
    {
     "name": "stderr",
     "output_type": "stream",
     "text": [
      "100%|██████████| 19/19 [00:00<00:00, 1856.75it/s]\n"
     ]
    },
    {
     "name": "stdout",
     "output_type": "stream",
     "text": [
      "--- 0.011399984359741211 seconds for solution baseline ---\n",
      "initial solution\n"
     ]
    },
    {
     "name": "stderr",
     "output_type": "stream",
     "text": [
      "100%|██████████| 19/19 [00:00<00:00, 4038.50it/s]\n"
     ]
    },
    {
     "name": "stdout",
     "output_type": "stream",
     "text": [
      "--- 0.008155345916748047 seconds for solution baseline ---\n",
      "initial solution\n"
     ]
    },
    {
     "name": "stderr",
     "output_type": "stream",
     "text": [
      "100%|██████████| 20/20 [00:00<00:00, 5581.61it/s]\n"
     ]
    },
    {
     "name": "stdout",
     "output_type": "stream",
     "text": [
      "--- 0.008427619934082031 seconds for solution baseline ---\n",
      "initial solution\n"
     ]
    },
    {
     "name": "stderr",
     "output_type": "stream",
     "text": [
      "100%|██████████| 20/20 [00:00<00:00, 1330.85it/s]"
     ]
    },
    {
     "name": "stdout",
     "output_type": "stream",
     "text": [
      "--- 0.026250362396240234 seconds for solution baseline ---\n"
     ]
    },
    {
     "name": "stderr",
     "output_type": "stream",
     "text": [
      "\n"
     ]
    },
    {
     "name": "stdout",
     "output_type": "stream",
     "text": [
      "initial solution\n"
     ]
    },
    {
     "name": "stderr",
     "output_type": "stream",
     "text": [
      "100%|██████████| 20/20 [00:00<00:00, 3628.45it/s]\n"
     ]
    },
    {
     "name": "stdout",
     "output_type": "stream",
     "text": [
      "--- 0.00821065902709961 seconds for solution baseline ---\n",
      "initial solution\n"
     ]
    },
    {
     "name": "stderr",
     "output_type": "stream",
     "text": [
      "100%|██████████| 20/20 [00:00<00:00, 3953.72it/s]"
     ]
    },
    {
     "name": "stdout",
     "output_type": "stream",
     "text": [
      "--- 0.009270191192626953 seconds for solution baseline ---\n",
      "initial solution\n"
     ]
    },
    {
     "name": "stderr",
     "output_type": "stream",
     "text": [
      "\n",
      "100%|██████████| 20/20 [00:00<00:00, 16565.18it/s]\n"
     ]
    },
    {
     "name": "stdout",
     "output_type": "stream",
     "text": [
      "--- 0.0063021183013916016 seconds for solution baseline ---\n",
      "initial solution\n"
     ]
    },
    {
     "name": "stderr",
     "output_type": "stream",
     "text": [
      "100%|██████████| 20/20 [00:00<00:00, 4722.25it/s]\n"
     ]
    },
    {
     "name": "stdout",
     "output_type": "stream",
     "text": [
      "--- 0.013511896133422852 seconds for solution baseline ---\n",
      "initial solution\n"
     ]
    },
    {
     "name": "stderr",
     "output_type": "stream",
     "text": [
      "100%|██████████| 20/20 [00:00<00:00, 3779.67it/s]\n"
     ]
    },
    {
     "name": "stdout",
     "output_type": "stream",
     "text": [
      "--- 0.008373022079467773 seconds for solution baseline ---\n",
      "initial solution\n"
     ]
    },
    {
     "name": "stderr",
     "output_type": "stream",
     "text": [
      "100%|██████████| 20/20 [00:00<00:00, 3254.80it/s]\n"
     ]
    },
    {
     "name": "stdout",
     "output_type": "stream",
     "text": [
      "--- 0.008357524871826172 seconds for solution baseline ---\n",
      "initial solution\n"
     ]
    },
    {
     "name": "stderr",
     "output_type": "stream",
     "text": [
      "100%|██████████| 20/20 [00:00<00:00, 1891.75it/s]\n"
     ]
    },
    {
     "name": "stdout",
     "output_type": "stream",
     "text": [
      "--- 0.011578083038330078 seconds for solution baseline ---\n",
      "initial solution\n"
     ]
    },
    {
     "name": "stderr",
     "output_type": "stream",
     "text": [
      "100%|██████████| 20/20 [00:00<?, ?it/s]\n"
     ]
    },
    {
     "name": "stdout",
     "output_type": "stream",
     "text": [
      "--- 0.0036563873291015625 seconds for solution baseline ---\n",
      "initial solution\n"
     ]
    },
    {
     "name": "stderr",
     "output_type": "stream",
     "text": [
      "100%|██████████| 21/21 [00:00<00:00, 5787.53it/s]\n"
     ]
    },
    {
     "name": "stdout",
     "output_type": "stream",
     "text": [
      "--- 0.007643938064575195 seconds for solution baseline ---\n",
      "initial solution\n"
     ]
    },
    {
     "name": "stderr",
     "output_type": "stream",
     "text": [
      "100%|██████████| 21/21 [00:00<00:00, 2794.52it/s]\n"
     ]
    },
    {
     "name": "stdout",
     "output_type": "stream",
     "text": [
      "--- 0.011278152465820312 seconds for solution baseline ---\n",
      "initial solution\n"
     ]
    },
    {
     "name": "stderr",
     "output_type": "stream",
     "text": [
      "100%|██████████| 21/21 [00:00<?, ?it/s]\n"
     ]
    },
    {
     "name": "stdout",
     "output_type": "stream",
     "text": [
      "--- 0.012232780456542969 seconds for solution baseline ---\n",
      "initial solution\n"
     ]
    },
    {
     "name": "stderr",
     "output_type": "stream",
     "text": [
      "100%|██████████| 21/21 [00:00<00:00, 4736.01it/s]\n"
     ]
    },
    {
     "name": "stdout",
     "output_type": "stream",
     "text": [
      "--- 0.009798526763916016 seconds for solution baseline ---\n",
      "initial solution\n"
     ]
    },
    {
     "name": "stderr",
     "output_type": "stream",
     "text": [
      "100%|██████████| 21/21 [00:00<00:00, 2940.13it/s]\n"
     ]
    },
    {
     "name": "stdout",
     "output_type": "stream",
     "text": [
      "--- 0.010109424591064453 seconds for solution baseline ---\n",
      "initial solution\n"
     ]
    },
    {
     "name": "stderr",
     "output_type": "stream",
     "text": [
      "100%|██████████| 21/21 [00:00<?, ?it/s]"
     ]
    },
    {
     "name": "stdout",
     "output_type": "stream",
     "text": [
      "--- 0.013046026229858398 seconds for solution baseline ---\n",
      "initial solution\n"
     ]
    },
    {
     "name": "stderr",
     "output_type": "stream",
     "text": [
      "\n",
      "100%|██████████| 21/21 [00:00<00:00, 2655.74it/s]\n"
     ]
    },
    {
     "name": "stdout",
     "output_type": "stream",
     "text": [
      "--- 0.007907390594482422 seconds for solution baseline ---\n",
      "initial solution\n"
     ]
    },
    {
     "name": "stderr",
     "output_type": "stream",
     "text": [
      "100%|██████████| 21/21 [00:00<00:00, 2671.37it/s]\n"
     ]
    },
    {
     "name": "stdout",
     "output_type": "stream",
     "text": [
      "--- 0.01295614242553711 seconds for solution baseline ---\n",
      "initial solution\n"
     ]
    },
    {
     "name": "stderr",
     "output_type": "stream",
     "text": [
      "100%|██████████| 21/21 [00:00<00:00, 6180.21it/s]\n"
     ]
    },
    {
     "name": "stdout",
     "output_type": "stream",
     "text": [
      "--- 0.006476879119873047 seconds for solution baseline ---\n",
      "initial solution\n"
     ]
    },
    {
     "name": "stderr",
     "output_type": "stream",
     "text": [
      "100%|██████████| 21/21 [00:00<00:00, 1540.41it/s]\n"
     ]
    },
    {
     "name": "stdout",
     "output_type": "stream",
     "text": [
      "--- 0.013632774353027344 seconds for solution baseline ---\n",
      "initial solution\n"
     ]
    },
    {
     "name": "stderr",
     "output_type": "stream",
     "text": [
      "100%|██████████| 22/22 [00:00<00:00, 2569.47it/s]\n"
     ]
    },
    {
     "name": "stdout",
     "output_type": "stream",
     "text": [
      "--- 0.01287221908569336 seconds for solution baseline ---\n",
      "initial solution\n"
     ]
    },
    {
     "name": "stderr",
     "output_type": "stream",
     "text": [
      "100%|██████████| 22/22 [00:00<00:00, 2463.35it/s]\n"
     ]
    },
    {
     "name": "stdout",
     "output_type": "stream",
     "text": [
      "--- 0.015430927276611328 seconds for solution baseline ---\n",
      "initial solution\n"
     ]
    },
    {
     "name": "stderr",
     "output_type": "stream",
     "text": [
      "100%|██████████| 22/22 [00:00<00:00, 2886.83it/s]\n"
     ]
    },
    {
     "name": "stdout",
     "output_type": "stream",
     "text": [
      "--- 0.007620811462402344 seconds for solution baseline ---\n",
      "initial solution\n"
     ]
    },
    {
     "name": "stderr",
     "output_type": "stream",
     "text": [
      "100%|██████████| 22/22 [00:00<00:00, 3014.92it/s]\n"
     ]
    },
    {
     "name": "stdout",
     "output_type": "stream",
     "text": [
      "--- 0.009979486465454102 seconds for solution baseline ---\n",
      "initial solution\n"
     ]
    },
    {
     "name": "stderr",
     "output_type": "stream",
     "text": [
      "100%|██████████| 22/22 [00:00<00:00, 2837.56it/s]\n"
     ]
    },
    {
     "name": "stdout",
     "output_type": "stream",
     "text": [
      "--- 0.013426780700683594 seconds for solution baseline ---\n",
      "initial solution\n"
     ]
    },
    {
     "name": "stderr",
     "output_type": "stream",
     "text": [
      "100%|██████████| 22/22 [00:00<00:00, 3106.26it/s]\n"
     ]
    },
    {
     "name": "stdout",
     "output_type": "stream",
     "text": [
      "--- 0.014254331588745117 seconds for solution baseline ---\n",
      "initial solution\n"
     ]
    },
    {
     "name": "stderr",
     "output_type": "stream",
     "text": [
      "100%|██████████| 22/22 [00:00<00:00, 2709.74it/s]\n"
     ]
    },
    {
     "name": "stdout",
     "output_type": "stream",
     "text": [
      "--- 0.012901067733764648 seconds for solution baseline ---\n",
      "initial solution\n"
     ]
    },
    {
     "name": "stderr",
     "output_type": "stream",
     "text": [
      "100%|██████████| 22/22 [00:00<00:00, 2202.47it/s]\n"
     ]
    },
    {
     "name": "stdout",
     "output_type": "stream",
     "text": [
      "--- 0.009988784790039062 seconds for solution baseline ---\n",
      "initial solution\n"
     ]
    },
    {
     "name": "stderr",
     "output_type": "stream",
     "text": [
      "100%|██████████| 22/22 [00:00<00:00, 2877.47it/s]\n"
     ]
    },
    {
     "name": "stdout",
     "output_type": "stream",
     "text": [
      "--- 0.013053417205810547 seconds for solution baseline ---\n",
      "initial solution\n"
     ]
    },
    {
     "name": "stderr",
     "output_type": "stream",
     "text": [
      "100%|██████████| 22/22 [00:00<00:00, 3578.34it/s]\n"
     ]
    },
    {
     "name": "stdout",
     "output_type": "stream",
     "text": [
      "--- 0.012367725372314453 seconds for solution baseline ---\n",
      "initial solution\n"
     ]
    },
    {
     "name": "stderr",
     "output_type": "stream",
     "text": [
      "100%|██████████| 23/23 [00:00<00:00, 2260.07it/s]\n"
     ]
    },
    {
     "name": "stdout",
     "output_type": "stream",
     "text": [
      "--- 0.01351475715637207 seconds for solution baseline ---\n",
      "initial solution\n"
     ]
    },
    {
     "name": "stderr",
     "output_type": "stream",
     "text": [
      "100%|██████████| 23/23 [00:00<00:00, 3519.48it/s]\n"
     ]
    },
    {
     "name": "stdout",
     "output_type": "stream",
     "text": [
      "--- 0.009234189987182617 seconds for solution baseline ---\n",
      "initial solution\n"
     ]
    },
    {
     "name": "stderr",
     "output_type": "stream",
     "text": [
      "100%|██████████| 23/23 [00:00<00:00, 3969.59it/s]\n"
     ]
    },
    {
     "name": "stdout",
     "output_type": "stream",
     "text": [
      "--- 0.00873112678527832 seconds for solution baseline ---\n",
      "initial solution\n"
     ]
    },
    {
     "name": "stderr",
     "output_type": "stream",
     "text": [
      "100%|██████████| 23/23 [00:00<00:00, 2764.31it/s]\n"
     ]
    },
    {
     "name": "stdout",
     "output_type": "stream",
     "text": [
      "--- 0.012029886245727539 seconds for solution baseline ---\n",
      "initial solution\n"
     ]
    },
    {
     "name": "stderr",
     "output_type": "stream",
     "text": [
      "100%|██████████| 23/23 [00:00<00:00, 2654.99it/s]\n"
     ]
    },
    {
     "name": "stdout",
     "output_type": "stream",
     "text": [
      "--- 0.012383460998535156 seconds for solution baseline ---\n",
      "initial solution\n"
     ]
    },
    {
     "name": "stderr",
     "output_type": "stream",
     "text": [
      "100%|██████████| 23/23 [00:00<00:00, 3410.85it/s]\n"
     ]
    },
    {
     "name": "stdout",
     "output_type": "stream",
     "text": [
      "--- 0.01363682746887207 seconds for solution baseline ---\n",
      "initial solution\n"
     ]
    },
    {
     "name": "stderr",
     "output_type": "stream",
     "text": [
      "100%|██████████| 23/23 [00:00<00:00, 2808.25it/s]\n"
     ]
    },
    {
     "name": "stdout",
     "output_type": "stream",
     "text": [
      "--- 0.012703180313110352 seconds for solution baseline ---\n",
      "initial solution\n"
     ]
    },
    {
     "name": "stderr",
     "output_type": "stream",
     "text": [
      "100%|██████████| 23/23 [00:00<00:00, 2535.32it/s]\n"
     ]
    },
    {
     "name": "stdout",
     "output_type": "stream",
     "text": [
      "--- 0.010101556777954102 seconds for solution baseline ---\n",
      "initial solution\n"
     ]
    },
    {
     "name": "stderr",
     "output_type": "stream",
     "text": [
      "100%|██████████| 23/23 [00:00<00:00, 5923.79it/s]\n"
     ]
    },
    {
     "name": "stdout",
     "output_type": "stream",
     "text": [
      "--- 0.008811235427856445 seconds for solution baseline ---\n",
      "initial solution\n"
     ]
    },
    {
     "name": "stderr",
     "output_type": "stream",
     "text": [
      "100%|██████████| 23/23 [00:00<00:00, 2087.08it/s]\n"
     ]
    },
    {
     "name": "stdout",
     "output_type": "stream",
     "text": [
      "--- 0.015503406524658203 seconds for solution baseline ---\n",
      "initial solution\n"
     ]
    },
    {
     "name": "stderr",
     "output_type": "stream",
     "text": [
      "100%|██████████| 24/24 [00:00<00:00, 2802.20it/s]\n"
     ]
    },
    {
     "name": "stdout",
     "output_type": "stream",
     "text": [
      "--- 0.01307988166809082 seconds for solution baseline ---\n",
      "initial solution\n"
     ]
    },
    {
     "name": "stderr",
     "output_type": "stream",
     "text": [
      "100%|██████████| 24/24 [00:00<00:00, 2388.10it/s]\n"
     ]
    },
    {
     "name": "stdout",
     "output_type": "stream",
     "text": [
      "--- 0.011756181716918945 seconds for solution baseline ---\n",
      "initial solution\n"
     ]
    },
    {
     "name": "stderr",
     "output_type": "stream",
     "text": [
      "100%|██████████| 24/24 [00:00<00:00, 2216.33it/s]\n"
     ]
    },
    {
     "name": "stdout",
     "output_type": "stream",
     "text": [
      "--- 0.01467275619506836 seconds for solution baseline ---\n",
      "initial solution\n"
     ]
    },
    {
     "name": "stderr",
     "output_type": "stream",
     "text": [
      "100%|██████████| 24/24 [00:00<00:00, 1953.56it/s]\n"
     ]
    },
    {
     "name": "stdout",
     "output_type": "stream",
     "text": [
      "--- 0.017158031463623047 seconds for solution baseline ---\n",
      "initial solution\n"
     ]
    },
    {
     "name": "stderr",
     "output_type": "stream",
     "text": [
      "100%|██████████| 24/24 [00:00<00:00, 1947.48it/s]\n"
     ]
    },
    {
     "name": "stdout",
     "output_type": "stream",
     "text": [
      "--- 0.012323617935180664 seconds for solution baseline ---\n",
      "initial solution\n"
     ]
    },
    {
     "name": "stderr",
     "output_type": "stream",
     "text": [
      "100%|██████████| 24/24 [00:00<00:00, 2483.37it/s]\n"
     ]
    },
    {
     "name": "stdout",
     "output_type": "stream",
     "text": [
      "--- 0.01820850372314453 seconds for solution baseline ---\n",
      "initial solution\n"
     ]
    },
    {
     "name": "stderr",
     "output_type": "stream",
     "text": [
      "100%|██████████| 24/24 [00:00<00:00, 2664.39it/s]\n"
     ]
    },
    {
     "name": "stdout",
     "output_type": "stream",
     "text": [
      "--- 0.01173853874206543 seconds for solution baseline ---\n",
      "initial solution\n"
     ]
    },
    {
     "name": "stderr",
     "output_type": "stream",
     "text": [
      "100%|██████████| 24/24 [00:00<00:00, 2005.44it/s]\n"
     ]
    },
    {
     "name": "stdout",
     "output_type": "stream",
     "text": [
      "--- 0.017849445343017578 seconds for solution baseline ---\n",
      "initial solution\n"
     ]
    },
    {
     "name": "stderr",
     "output_type": "stream",
     "text": [
      "100%|██████████| 24/24 [00:00<00:00, 2055.36it/s]\n"
     ]
    },
    {
     "name": "stdout",
     "output_type": "stream",
     "text": [
      "--- 0.015491485595703125 seconds for solution baseline ---\n",
      "initial solution\n"
     ]
    },
    {
     "name": "stderr",
     "output_type": "stream",
     "text": [
      "100%|██████████| 24/24 [00:00<00:00, 1544.01it/s]\n"
     ]
    },
    {
     "name": "stdout",
     "output_type": "stream",
     "text": [
      "--- 0.016114234924316406 seconds for solution baseline ---\n",
      "initial solution\n"
     ]
    },
    {
     "name": "stderr",
     "output_type": "stream",
     "text": [
      "100%|██████████| 25/25 [00:00<00:00, 2714.90it/s]\n"
     ]
    },
    {
     "name": "stdout",
     "output_type": "stream",
     "text": [
      "--- 0.01344156265258789 seconds for solution baseline ---\n",
      "initial solution\n"
     ]
    },
    {
     "name": "stderr",
     "output_type": "stream",
     "text": [
      "100%|██████████| 25/25 [00:00<00:00, 4126.79it/s]\n"
     ]
    },
    {
     "name": "stdout",
     "output_type": "stream",
     "text": [
      "--- 0.00832819938659668 seconds for solution baseline ---\n",
      "initial solution\n"
     ]
    },
    {
     "name": "stderr",
     "output_type": "stream",
     "text": [
      "100%|██████████| 25/25 [00:00<00:00, 2562.19it/s]\n"
     ]
    },
    {
     "name": "stdout",
     "output_type": "stream",
     "text": [
      "--- 0.0133819580078125 seconds for solution baseline ---\n",
      "initial solution\n"
     ]
    },
    {
     "name": "stderr",
     "output_type": "stream",
     "text": [
      "100%|██████████| 25/25 [00:00<00:00, 1686.49it/s]\n"
     ]
    },
    {
     "name": "stdout",
     "output_type": "stream",
     "text": [
      "--- 0.014823675155639648 seconds for solution baseline ---\n",
      "initial solution\n"
     ]
    },
    {
     "name": "stderr",
     "output_type": "stream",
     "text": [
      "100%|██████████| 25/25 [00:00<00:00, 3886.35it/s]\n"
     ]
    },
    {
     "name": "stdout",
     "output_type": "stream",
     "text": [
      "--- 0.0104827880859375 seconds for solution baseline ---\n",
      "initial solution\n"
     ]
    },
    {
     "name": "stderr",
     "output_type": "stream",
     "text": [
      "100%|██████████| 25/25 [00:00<00:00, 2332.14it/s]\n"
     ]
    },
    {
     "name": "stdout",
     "output_type": "stream",
     "text": [
      "--- 0.012451648712158203 seconds for solution baseline ---\n",
      "initial solution\n"
     ]
    },
    {
     "name": "stderr",
     "output_type": "stream",
     "text": [
      "100%|██████████| 25/25 [00:00<00:00, 2222.93it/s]\n"
     ]
    },
    {
     "name": "stdout",
     "output_type": "stream",
     "text": [
      "--- 0.013751029968261719 seconds for solution baseline ---\n",
      "initial solution\n"
     ]
    },
    {
     "name": "stderr",
     "output_type": "stream",
     "text": [
      "100%|██████████| 25/25 [00:00<00:00, 4526.16it/s]\n"
     ]
    },
    {
     "name": "stdout",
     "output_type": "stream",
     "text": [
      "--- 0.008029937744140625 seconds for solution baseline ---\n",
      "initial solution\n"
     ]
    },
    {
     "name": "stderr",
     "output_type": "stream",
     "text": [
      "100%|██████████| 25/25 [00:00<00:00, 1621.55it/s]\n"
     ]
    },
    {
     "name": "stdout",
     "output_type": "stream",
     "text": [
      "--- 0.015417337417602539 seconds for solution baseline ---\n",
      "initial solution\n"
     ]
    },
    {
     "name": "stderr",
     "output_type": "stream",
     "text": [
      "100%|██████████| 25/25 [00:00<00:00, 3150.67it/s]\n"
     ]
    },
    {
     "name": "stdout",
     "output_type": "stream",
     "text": [
      "--- 0.015245199203491211 seconds for solution baseline ---\n",
      "initial solution\n"
     ]
    },
    {
     "name": "stderr",
     "output_type": "stream",
     "text": [
      "100%|██████████| 26/26 [00:00<00:00, 2318.08it/s]\n"
     ]
    },
    {
     "name": "stdout",
     "output_type": "stream",
     "text": [
      "--- 0.07921719551086426 seconds for solution baseline ---\n",
      "initial solution\n"
     ]
    },
    {
     "name": "stderr",
     "output_type": "stream",
     "text": [
      "100%|██████████| 26/26 [00:00<00:00, 1814.87it/s]\n"
     ]
    },
    {
     "name": "stdout",
     "output_type": "stream",
     "text": [
      "--- 0.016402482986450195 seconds for solution baseline ---\n",
      "initial solution\n"
     ]
    },
    {
     "name": "stderr",
     "output_type": "stream",
     "text": [
      "100%|██████████| 26/26 [00:00<00:00, 1755.08it/s]\n"
     ]
    },
    {
     "name": "stdout",
     "output_type": "stream",
     "text": [
      "--- 0.024443626403808594 seconds for solution baseline ---\n",
      "initial solution\n"
     ]
    },
    {
     "name": "stderr",
     "output_type": "stream",
     "text": [
      "100%|██████████| 26/26 [00:00<00:00, 2415.38it/s]\n"
     ]
    },
    {
     "name": "stdout",
     "output_type": "stream",
     "text": [
      "--- 0.01363682746887207 seconds for solution baseline ---\n",
      "initial solution\n"
     ]
    },
    {
     "name": "stderr",
     "output_type": "stream",
     "text": [
      "100%|██████████| 26/26 [00:00<00:00, 2118.34it/s]\n"
     ]
    },
    {
     "name": "stdout",
     "output_type": "stream",
     "text": [
      "--- 0.019231319427490234 seconds for solution baseline ---\n",
      "initial solution\n"
     ]
    },
    {
     "name": "stderr",
     "output_type": "stream",
     "text": [
      "100%|██████████| 26/26 [00:00<00:00, 1610.48it/s]\n"
     ]
    },
    {
     "name": "stdout",
     "output_type": "stream",
     "text": [
      "--- 0.021057844161987305 seconds for solution baseline ---\n",
      "initial solution\n"
     ]
    },
    {
     "name": "stderr",
     "output_type": "stream",
     "text": [
      "100%|██████████| 26/26 [00:00<00:00, 2143.61it/s]\n"
     ]
    },
    {
     "name": "stdout",
     "output_type": "stream",
     "text": [
      "--- 0.017687082290649414 seconds for solution baseline ---\n",
      "initial solution\n"
     ]
    },
    {
     "name": "stderr",
     "output_type": "stream",
     "text": [
      "100%|██████████| 26/26 [00:00<00:00, 1219.70it/s]\n"
     ]
    },
    {
     "name": "stdout",
     "output_type": "stream",
     "text": [
      "--- 0.02500462532043457 seconds for solution baseline ---\n",
      "initial solution\n"
     ]
    },
    {
     "name": "stderr",
     "output_type": "stream",
     "text": [
      "100%|██████████| 26/26 [00:00<00:00, 1647.16it/s]\n"
     ]
    },
    {
     "name": "stdout",
     "output_type": "stream",
     "text": [
      "--- 0.01853322982788086 seconds for solution baseline ---\n",
      "initial solution\n"
     ]
    },
    {
     "name": "stderr",
     "output_type": "stream",
     "text": [
      "100%|██████████| 26/26 [00:00<00:00, 1715.35it/s]\n"
     ]
    },
    {
     "name": "stdout",
     "output_type": "stream",
     "text": [
      "--- 0.017770051956176758 seconds for solution baseline ---\n",
      "initial solution\n"
     ]
    },
    {
     "name": "stderr",
     "output_type": "stream",
     "text": [
      "100%|██████████| 27/27 [00:00<00:00, 1828.91it/s]\n"
     ]
    },
    {
     "name": "stdout",
     "output_type": "stream",
     "text": [
      "--- 0.01656651496887207 seconds for solution baseline ---\n",
      "initial solution\n"
     ]
    },
    {
     "name": "stderr",
     "output_type": "stream",
     "text": [
      "100%|██████████| 27/27 [00:00<00:00, 3226.20it/s]\n"
     ]
    },
    {
     "name": "stdout",
     "output_type": "stream",
     "text": [
      "--- 0.014122486114501953 seconds for solution baseline ---\n",
      "initial solution\n"
     ]
    },
    {
     "name": "stderr",
     "output_type": "stream",
     "text": [
      "100%|██████████| 27/27 [00:00<00:00, 4860.56it/s]"
     ]
    },
    {
     "name": "stdout",
     "output_type": "stream",
     "text": [
      "--- 0.024303913116455078 seconds for solution baseline ---\n",
      "initial solution\n"
     ]
    },
    {
     "name": "stderr",
     "output_type": "stream",
     "text": [
      "\n",
      "100%|██████████| 27/27 [00:00<00:00, 3005.31it/s]\n"
     ]
    },
    {
     "name": "stdout",
     "output_type": "stream",
     "text": [
      "--- 0.01865553855895996 seconds for solution baseline ---\n",
      "initial solution\n"
     ]
    },
    {
     "name": "stderr",
     "output_type": "stream",
     "text": [
      "100%|██████████| 27/27 [00:00<00:00, 1904.03it/s]\n"
     ]
    },
    {
     "name": "stdout",
     "output_type": "stream",
     "text": [
      "--- 0.022583484649658203 seconds for solution baseline ---\n",
      "initial solution\n"
     ]
    },
    {
     "name": "stderr",
     "output_type": "stream",
     "text": [
      "100%|██████████| 27/27 [00:00<00:00, 1782.53it/s]\n"
     ]
    },
    {
     "name": "stdout",
     "output_type": "stream",
     "text": [
      "--- 0.01901721954345703 seconds for solution baseline ---\n",
      "initial solution\n"
     ]
    },
    {
     "name": "stderr",
     "output_type": "stream",
     "text": [
      "100%|██████████| 27/27 [00:00<00:00, 2973.75it/s]\n"
     ]
    },
    {
     "name": "stdout",
     "output_type": "stream",
     "text": [
      "--- 0.01252889633178711 seconds for solution baseline ---\n",
      "initial solution\n"
     ]
    },
    {
     "name": "stderr",
     "output_type": "stream",
     "text": [
      "100%|██████████| 27/27 [00:00<00:00, 2747.23it/s]\n"
     ]
    },
    {
     "name": "stdout",
     "output_type": "stream",
     "text": [
      "--- 0.01702117919921875 seconds for solution baseline ---\n",
      "initial solution\n"
     ]
    },
    {
     "name": "stderr",
     "output_type": "stream",
     "text": [
      "100%|██████████| 27/27 [00:00<00:00, 2243.03it/s]"
     ]
    },
    {
     "name": "stdout",
     "output_type": "stream",
     "text": [
      "--- 0.018682241439819336 seconds for solution baseline ---\n"
     ]
    },
    {
     "name": "stderr",
     "output_type": "stream",
     "text": [
      "\n"
     ]
    },
    {
     "name": "stdout",
     "output_type": "stream",
     "text": [
      "initial solution\n"
     ]
    },
    {
     "name": "stderr",
     "output_type": "stream",
     "text": [
      "100%|██████████| 27/27 [00:00<00:00, 2158.92it/s]\n"
     ]
    },
    {
     "name": "stdout",
     "output_type": "stream",
     "text": [
      "--- 0.018033981323242188 seconds for solution baseline ---\n",
      "initial solution\n"
     ]
    },
    {
     "name": "stderr",
     "output_type": "stream",
     "text": [
      "100%|██████████| 28/28 [00:00<00:00, 3295.10it/s]\n"
     ]
    },
    {
     "name": "stdout",
     "output_type": "stream",
     "text": [
      "--- 0.02518010139465332 seconds for solution baseline ---\n",
      "initial solution\n"
     ]
    },
    {
     "name": "stderr",
     "output_type": "stream",
     "text": [
      "100%|██████████| 28/28 [00:00<00:00, 2307.60it/s]\n"
     ]
    },
    {
     "name": "stdout",
     "output_type": "stream",
     "text": [
      "--- 0.016283035278320312 seconds for solution baseline ---\n",
      "initial solution\n"
     ]
    },
    {
     "name": "stderr",
     "output_type": "stream",
     "text": [
      "100%|██████████| 28/28 [00:00<00:00, 2096.40it/s]\n"
     ]
    },
    {
     "name": "stdout",
     "output_type": "stream",
     "text": [
      "--- 0.02104973793029785 seconds for solution baseline ---\n",
      "initial solution\n"
     ]
    },
    {
     "name": "stderr",
     "output_type": "stream",
     "text": [
      "100%|██████████| 28/28 [00:00<00:00, 1684.39it/s]\n"
     ]
    },
    {
     "name": "stdout",
     "output_type": "stream",
     "text": [
      "--- 0.026858806610107422 seconds for solution baseline ---\n",
      "initial solution\n"
     ]
    },
    {
     "name": "stderr",
     "output_type": "stream",
     "text": [
      "100%|██████████| 28/28 [00:00<00:00, 2393.96it/s]\n"
     ]
    },
    {
     "name": "stdout",
     "output_type": "stream",
     "text": [
      "--- 0.015880584716796875 seconds for solution baseline ---\n",
      "initial solution\n"
     ]
    },
    {
     "name": "stderr",
     "output_type": "stream",
     "text": [
      "100%|██████████| 28/28 [00:00<00:00, 1488.66it/s]\n"
     ]
    },
    {
     "name": "stdout",
     "output_type": "stream",
     "text": [
      "--- 0.023971080780029297 seconds for solution baseline ---\n",
      "initial solution\n"
     ]
    },
    {
     "name": "stderr",
     "output_type": "stream",
     "text": [
      "100%|██████████| 28/28 [00:00<00:00, 1724.66it/s]\n"
     ]
    },
    {
     "name": "stdout",
     "output_type": "stream",
     "text": [
      "--- 0.022114992141723633 seconds for solution baseline ---\n",
      "initial solution\n"
     ]
    },
    {
     "name": "stderr",
     "output_type": "stream",
     "text": [
      "100%|██████████| 28/28 [00:00<00:00, 2300.50it/s]\n"
     ]
    },
    {
     "name": "stdout",
     "output_type": "stream",
     "text": [
      "--- 0.016593456268310547 seconds for solution baseline ---\n",
      "initial solution\n"
     ]
    },
    {
     "name": "stderr",
     "output_type": "stream",
     "text": [
      "100%|██████████| 28/28 [00:00<00:00, 1786.44it/s]\n"
     ]
    },
    {
     "name": "stdout",
     "output_type": "stream",
     "text": [
      "--- 0.02496027946472168 seconds for solution baseline ---\n",
      "initial solution\n"
     ]
    },
    {
     "name": "stderr",
     "output_type": "stream",
     "text": [
      "100%|██████████| 28/28 [00:00<00:00, 1756.86it/s]\n"
     ]
    },
    {
     "name": "stdout",
     "output_type": "stream",
     "text": [
      "--- 0.019153594970703125 seconds for solution baseline ---\n",
      "initial solution\n"
     ]
    },
    {
     "name": "stderr",
     "output_type": "stream",
     "text": [
      "100%|██████████| 29/29 [00:00<00:00, 1182.85it/s]\n"
     ]
    },
    {
     "name": "stdout",
     "output_type": "stream",
     "text": [
      "--- 0.02505326271057129 seconds for solution baseline ---\n",
      "initial solution\n"
     ]
    },
    {
     "name": "stderr",
     "output_type": "stream",
     "text": [
      "100%|██████████| 29/29 [00:00<00:00, 1217.10it/s]\n"
     ]
    },
    {
     "name": "stdout",
     "output_type": "stream",
     "text": [
      "--- 0.023827075958251953 seconds for solution baseline ---\n",
      "initial solution\n"
     ]
    },
    {
     "name": "stderr",
     "output_type": "stream",
     "text": [
      "100%|██████████| 29/29 [00:00<00:00, 1568.81it/s]\n"
     ]
    },
    {
     "name": "stdout",
     "output_type": "stream",
     "text": [
      "--- 0.03181958198547363 seconds for solution baseline ---\n",
      "initial solution\n"
     ]
    },
    {
     "name": "stderr",
     "output_type": "stream",
     "text": [
      "100%|██████████| 29/29 [00:00<00:00, 907.32it/s]"
     ]
    },
    {
     "name": "stdout",
     "output_type": "stream",
     "text": [
      "--- 0.04113340377807617 seconds for solution baseline ---\n",
      "initial solution\n"
     ]
    },
    {
     "name": "stderr",
     "output_type": "stream",
     "text": [
      "\n",
      "100%|██████████| 29/29 [00:00<00:00, 1751.96it/s]\n"
     ]
    },
    {
     "name": "stdout",
     "output_type": "stream",
     "text": [
      "--- 0.023653030395507812 seconds for solution baseline ---\n",
      "initial solution\n"
     ]
    },
    {
     "name": "stderr",
     "output_type": "stream",
     "text": [
      "100%|██████████| 29/29 [00:00<00:00, 1760.40it/s]\n"
     ]
    },
    {
     "name": "stdout",
     "output_type": "stream",
     "text": [
      "--- 0.021013259887695312 seconds for solution baseline ---\n",
      "initial solution\n"
     ]
    },
    {
     "name": "stderr",
     "output_type": "stream",
     "text": [
      "100%|██████████| 29/29 [00:00<00:00, 1735.58it/s]\n"
     ]
    },
    {
     "name": "stdout",
     "output_type": "stream",
     "text": [
      "--- 0.020992517471313477 seconds for solution baseline ---\n",
      "initial solution\n"
     ]
    },
    {
     "name": "stderr",
     "output_type": "stream",
     "text": [
      "100%|██████████| 29/29 [00:00<00:00, 1781.78it/s]\n"
     ]
    },
    {
     "name": "stdout",
     "output_type": "stream",
     "text": [
      "--- 0.023946762084960938 seconds for solution baseline ---\n",
      "initial solution\n"
     ]
    },
    {
     "name": "stderr",
     "output_type": "stream",
     "text": [
      "100%|██████████| 29/29 [00:00<00:00, 1626.07it/s]\n"
     ]
    },
    {
     "name": "stdout",
     "output_type": "stream",
     "text": [
      "--- 0.0209805965423584 seconds for solution baseline ---\n",
      "initial solution\n"
     ]
    },
    {
     "name": "stderr",
     "output_type": "stream",
     "text": [
      "100%|██████████| 29/29 [00:00<00:00, 1662.65it/s]"
     ]
    },
    {
     "name": "stdout",
     "output_type": "stream",
     "text": [
      "--- 0.025111675262451172 seconds for solution baseline ---\n"
     ]
    },
    {
     "name": "stderr",
     "output_type": "stream",
     "text": [
      "\n"
     ]
    },
    {
     "name": "stdout",
     "output_type": "stream",
     "text": [
      "initial solution\n"
     ]
    },
    {
     "name": "stderr",
     "output_type": "stream",
     "text": [
      "100%|██████████| 30/30 [00:00<00:00, 1717.83it/s]\n"
     ]
    },
    {
     "name": "stdout",
     "output_type": "stream",
     "text": [
      "--- 0.021671533584594727 seconds for solution baseline ---\n",
      "initial solution\n"
     ]
    },
    {
     "name": "stderr",
     "output_type": "stream",
     "text": [
      "100%|██████████| 30/30 [00:00<00:00, 1661.35it/s]\n"
     ]
    },
    {
     "name": "stdout",
     "output_type": "stream",
     "text": [
      "--- 0.024991989135742188 seconds for solution baseline ---\n",
      "initial solution\n"
     ]
    },
    {
     "name": "stderr",
     "output_type": "stream",
     "text": [
      "100%|██████████| 30/30 [00:00<00:00, 1899.16it/s]\n"
     ]
    },
    {
     "name": "stdout",
     "output_type": "stream",
     "text": [
      "--- 0.018998146057128906 seconds for solution baseline ---\n",
      "initial solution\n"
     ]
    },
    {
     "name": "stderr",
     "output_type": "stream",
     "text": [
      "100%|██████████| 30/30 [00:00<00:00, 1844.41it/s]\n"
     ]
    },
    {
     "name": "stdout",
     "output_type": "stream",
     "text": [
      "--- 0.02447199821472168 seconds for solution baseline ---\n",
      "initial solution\n"
     ]
    },
    {
     "name": "stderr",
     "output_type": "stream",
     "text": [
      "100%|██████████| 30/30 [00:00<00:00, 1288.65it/s]\n"
     ]
    },
    {
     "name": "stdout",
     "output_type": "stream",
     "text": [
      "--- 0.027548551559448242 seconds for solution baseline ---\n",
      "initial solution\n"
     ]
    },
    {
     "name": "stderr",
     "output_type": "stream",
     "text": [
      "100%|██████████| 30/30 [00:00<00:00, 1142.55it/s]\n"
     ]
    },
    {
     "name": "stdout",
     "output_type": "stream",
     "text": [
      "--- 0.026257038116455078 seconds for solution baseline ---\n",
      "initial solution\n"
     ]
    },
    {
     "name": "stderr",
     "output_type": "stream",
     "text": [
      "100%|██████████| 30/30 [00:00<00:00, 1580.17it/s]\n"
     ]
    },
    {
     "name": "stdout",
     "output_type": "stream",
     "text": [
      "--- 0.02271580696105957 seconds for solution baseline ---\n",
      "initial solution\n"
     ]
    },
    {
     "name": "stderr",
     "output_type": "stream",
     "text": [
      "100%|██████████| 30/30 [00:00<00:00, 1615.56it/s]\n"
     ]
    },
    {
     "name": "stdout",
     "output_type": "stream",
     "text": [
      "--- 0.023082256317138672 seconds for solution baseline ---\n",
      "initial solution\n"
     ]
    },
    {
     "name": "stderr",
     "output_type": "stream",
     "text": [
      "100%|██████████| 30/30 [00:00<00:00, 1476.49it/s]\n"
     ]
    },
    {
     "name": "stdout",
     "output_type": "stream",
     "text": [
      "--- 0.031682729721069336 seconds for solution baseline ---\n",
      "initial solution\n"
     ]
    },
    {
     "name": "stderr",
     "output_type": "stream",
     "text": [
      "100%|██████████| 30/30 [00:00<00:00, 1763.65it/s]\n"
     ]
    },
    {
     "name": "stdout",
     "output_type": "stream",
     "text": [
      "--- 0.028949260711669922 seconds for solution baseline ---\n",
      "initial solution\n"
     ]
    },
    {
     "name": "stderr",
     "output_type": "stream",
     "text": [
      "100%|██████████| 31/31 [00:00<00:00, 1218.00it/s]\n"
     ]
    },
    {
     "name": "stdout",
     "output_type": "stream",
     "text": [
      "--- 0.03506612777709961 seconds for solution baseline ---\n",
      "initial solution\n"
     ]
    },
    {
     "name": "stderr",
     "output_type": "stream",
     "text": [
      "100%|██████████| 31/31 [00:00<00:00, 870.21it/s]\n"
     ]
    },
    {
     "name": "stdout",
     "output_type": "stream",
     "text": [
      "--- 0.04061388969421387 seconds for solution baseline ---\n",
      "initial solution\n"
     ]
    },
    {
     "name": "stderr",
     "output_type": "stream",
     "text": [
      "100%|██████████| 31/31 [00:00<00:00, 930.14it/s]\n"
     ]
    },
    {
     "name": "stdout",
     "output_type": "stream",
     "text": [
      "--- 0.03934741020202637 seconds for solution baseline ---\n",
      "initial solution\n"
     ]
    },
    {
     "name": "stderr",
     "output_type": "stream",
     "text": [
      "100%|██████████| 31/31 [00:00<00:00, 1530.88it/s]\n"
     ]
    },
    {
     "name": "stdout",
     "output_type": "stream",
     "text": [
      "--- 0.02575993537902832 seconds for solution baseline ---\n",
      "initial solution\n"
     ]
    },
    {
     "name": "stderr",
     "output_type": "stream",
     "text": [
      "100%|██████████| 31/31 [00:00<00:00, 1384.44it/s]\n"
     ]
    },
    {
     "name": "stdout",
     "output_type": "stream",
     "text": [
      "--- 0.03479886054992676 seconds for solution baseline ---\n",
      "initial solution\n"
     ]
    },
    {
     "name": "stderr",
     "output_type": "stream",
     "text": [
      "100%|██████████| 31/31 [00:00<00:00, 1106.01it/s]\n"
     ]
    },
    {
     "name": "stdout",
     "output_type": "stream",
     "text": [
      "--- 0.031867265701293945 seconds for solution baseline ---\n",
      "initial solution\n"
     ]
    },
    {
     "name": "stderr",
     "output_type": "stream",
     "text": [
      "100%|██████████| 31/31 [00:00<00:00, 996.91it/s]\n"
     ]
    },
    {
     "name": "stdout",
     "output_type": "stream",
     "text": [
      "--- 0.038184404373168945 seconds for solution baseline ---\n",
      "initial solution\n"
     ]
    },
    {
     "name": "stderr",
     "output_type": "stream",
     "text": [
      "100%|██████████| 31/31 [00:00<00:00, 901.69it/s]\n"
     ]
    },
    {
     "name": "stdout",
     "output_type": "stream",
     "text": [
      "--- 0.043657541275024414 seconds for solution baseline ---\n",
      "initial solution\n"
     ]
    },
    {
     "name": "stderr",
     "output_type": "stream",
     "text": [
      "100%|██████████| 31/31 [00:00<00:00, 1300.92it/s]\n"
     ]
    },
    {
     "name": "stdout",
     "output_type": "stream",
     "text": [
      "--- 0.025341510772705078 seconds for solution baseline ---\n",
      "initial solution\n"
     ]
    },
    {
     "name": "stderr",
     "output_type": "stream",
     "text": [
      "100%|██████████| 31/31 [00:00<00:00, 1355.63it/s]\n"
     ]
    },
    {
     "name": "stdout",
     "output_type": "stream",
     "text": [
      "--- 0.02388453483581543 seconds for solution baseline ---\n",
      "initial solution\n"
     ]
    },
    {
     "name": "stderr",
     "output_type": "stream",
     "text": [
      "100%|██████████| 32/32 [00:00<00:00, 1377.88it/s]"
     ]
    },
    {
     "name": "stdout",
     "output_type": "stream",
     "text": [
      "--- 0.030261754989624023 seconds for solution baseline ---\n"
     ]
    },
    {
     "name": "stderr",
     "output_type": "stream",
     "text": [
      "\n"
     ]
    },
    {
     "name": "stdout",
     "output_type": "stream",
     "text": [
      "initial solution\n"
     ]
    },
    {
     "name": "stderr",
     "output_type": "stream",
     "text": [
      "100%|██████████| 32/32 [00:00<00:00, 1377.54it/s]\n"
     ]
    },
    {
     "name": "stdout",
     "output_type": "stream",
     "text": [
      "--- 0.033661603927612305 seconds for solution baseline ---\n",
      "initial solution\n"
     ]
    },
    {
     "name": "stderr",
     "output_type": "stream",
     "text": [
      "100%|██████████| 32/32 [00:00<00:00, 1666.47it/s]\n"
     ]
    },
    {
     "name": "stdout",
     "output_type": "stream",
     "text": [
      "--- 0.03141379356384277 seconds for solution baseline ---\n",
      "initial solution\n"
     ]
    },
    {
     "name": "stderr",
     "output_type": "stream",
     "text": [
      "100%|██████████| 32/32 [00:00<00:00, 1332.90it/s]\n"
     ]
    },
    {
     "name": "stdout",
     "output_type": "stream",
     "text": [
      "--- 0.030951738357543945 seconds for solution baseline ---\n",
      "initial solution\n"
     ]
    },
    {
     "name": "stderr",
     "output_type": "stream",
     "text": [
      "100%|██████████| 32/32 [00:00<00:00, 1423.11it/s]\n"
     ]
    },
    {
     "name": "stdout",
     "output_type": "stream",
     "text": [
      "--- 0.025353431701660156 seconds for solution baseline ---\n",
      "initial solution\n"
     ]
    },
    {
     "name": "stderr",
     "output_type": "stream",
     "text": [
      "100%|██████████| 32/32 [00:00<00:00, 1491.66it/s]\n"
     ]
    },
    {
     "name": "stdout",
     "output_type": "stream",
     "text": [
      "--- 0.02504563331604004 seconds for solution baseline ---\n",
      "initial solution\n"
     ]
    },
    {
     "name": "stderr",
     "output_type": "stream",
     "text": [
      "100%|██████████| 32/32 [00:00<00:00, 1417.13it/s]\n"
     ]
    },
    {
     "name": "stdout",
     "output_type": "stream",
     "text": [
      "--- 0.032495975494384766 seconds for solution baseline ---\n",
      "initial solution\n"
     ]
    },
    {
     "name": "stderr",
     "output_type": "stream",
     "text": [
      "100%|██████████| 32/32 [00:00<00:00, 1650.27it/s]\n"
     ]
    },
    {
     "name": "stdout",
     "output_type": "stream",
     "text": [
      "--- 0.02295994758605957 seconds for solution baseline ---\n",
      "initial solution\n"
     ]
    },
    {
     "name": "stderr",
     "output_type": "stream",
     "text": [
      "100%|██████████| 32/32 [00:00<00:00, 1528.40it/s]\n"
     ]
    },
    {
     "name": "stdout",
     "output_type": "stream",
     "text": [
      "--- 0.02554488182067871 seconds for solution baseline ---\n",
      "initial solution\n"
     ]
    },
    {
     "name": "stderr",
     "output_type": "stream",
     "text": [
      "100%|██████████| 32/32 [00:00<00:00, 1506.39it/s]\n"
     ]
    },
    {
     "name": "stdout",
     "output_type": "stream",
     "text": [
      "--- 0.024884462356567383 seconds for solution baseline ---\n",
      "initial solution\n"
     ]
    },
    {
     "name": "stderr",
     "output_type": "stream",
     "text": [
      "100%|██████████| 33/33 [00:00<00:00, 1144.84it/s]\n"
     ]
    },
    {
     "name": "stdout",
     "output_type": "stream",
     "text": [
      "--- 0.04050278663635254 seconds for solution baseline ---\n",
      "initial solution\n"
     ]
    },
    {
     "name": "stderr",
     "output_type": "stream",
     "text": [
      "100%|██████████| 33/33 [00:00<00:00, 1176.51it/s]\n"
     ]
    },
    {
     "name": "stdout",
     "output_type": "stream",
     "text": [
      "--- 0.03245711326599121 seconds for solution baseline ---\n",
      "initial solution\n"
     ]
    },
    {
     "name": "stderr",
     "output_type": "stream",
     "text": [
      "100%|██████████| 33/33 [00:00<00:00, 1291.84it/s]\n"
     ]
    },
    {
     "name": "stdout",
     "output_type": "stream",
     "text": [
      "--- 0.0317840576171875 seconds for solution baseline ---\n",
      "initial solution\n"
     ]
    },
    {
     "name": "stderr",
     "output_type": "stream",
     "text": [
      "100%|██████████| 33/33 [00:00<00:00, 1610.32it/s]\n"
     ]
    },
    {
     "name": "stdout",
     "output_type": "stream",
     "text": [
      "--- 0.030690670013427734 seconds for solution baseline ---\n",
      "initial solution\n"
     ]
    },
    {
     "name": "stderr",
     "output_type": "stream",
     "text": [
      "100%|██████████| 33/33 [00:00<00:00, 1310.29it/s]\n"
     ]
    },
    {
     "name": "stdout",
     "output_type": "stream",
     "text": [
      "--- 0.030457258224487305 seconds for solution baseline ---\n",
      "initial solution\n"
     ]
    },
    {
     "name": "stderr",
     "output_type": "stream",
     "text": [
      "100%|██████████| 33/33 [00:00<00:00, 1114.64it/s]\n"
     ]
    },
    {
     "name": "stdout",
     "output_type": "stream",
     "text": [
      "--- 0.038016319274902344 seconds for solution baseline ---\n",
      "initial solution\n"
     ]
    },
    {
     "name": "stderr",
     "output_type": "stream",
     "text": [
      "100%|██████████| 33/33 [00:00<00:00, 738.24it/s]\n"
     ]
    },
    {
     "name": "stdout",
     "output_type": "stream",
     "text": [
      "--- 0.048188209533691406 seconds for solution baseline ---\n",
      "initial solution\n"
     ]
    },
    {
     "name": "stderr",
     "output_type": "stream",
     "text": [
      "100%|██████████| 33/33 [00:00<00:00, 1060.11it/s]\n"
     ]
    },
    {
     "name": "stdout",
     "output_type": "stream",
     "text": [
      "--- 0.032643795013427734 seconds for solution baseline ---\n",
      "initial solution\n"
     ]
    },
    {
     "name": "stderr",
     "output_type": "stream",
     "text": [
      "100%|██████████| 33/33 [00:00<00:00, 995.30it/s]\n"
     ]
    },
    {
     "name": "stdout",
     "output_type": "stream",
     "text": [
      "--- 0.040180206298828125 seconds for solution baseline ---\n",
      "initial solution\n"
     ]
    },
    {
     "name": "stderr",
     "output_type": "stream",
     "text": [
      "100%|██████████| 33/33 [00:00<00:00, 1046.11it/s]\n"
     ]
    },
    {
     "name": "stdout",
     "output_type": "stream",
     "text": [
      "--- 0.031545400619506836 seconds for solution baseline ---\n",
      "initial solution\n"
     ]
    },
    {
     "name": "stderr",
     "output_type": "stream",
     "text": [
      "100%|██████████| 34/34 [00:00<00:00, 1197.21it/s]\n"
     ]
    },
    {
     "name": "stdout",
     "output_type": "stream",
     "text": [
      "--- 0.03397178649902344 seconds for solution baseline ---\n",
      "initial solution\n"
     ]
    },
    {
     "name": "stderr",
     "output_type": "stream",
     "text": [
      "100%|██████████| 34/34 [00:00<00:00, 1112.12it/s]\n"
     ]
    },
    {
     "name": "stdout",
     "output_type": "stream",
     "text": [
      "--- 0.04203033447265625 seconds for solution baseline ---\n",
      "initial solution\n"
     ]
    },
    {
     "name": "stderr",
     "output_type": "stream",
     "text": [
      "100%|██████████| 34/34 [00:00<00:00, 1075.60it/s]\n"
     ]
    },
    {
     "name": "stdout",
     "output_type": "stream",
     "text": [
      "--- 0.03807353973388672 seconds for solution baseline ---\n",
      "initial solution\n"
     ]
    },
    {
     "name": "stderr",
     "output_type": "stream",
     "text": [
      "100%|██████████| 34/34 [00:00<00:00, 1035.43it/s]\n"
     ]
    },
    {
     "name": "stdout",
     "output_type": "stream",
     "text": [
      "--- 0.040120601654052734 seconds for solution baseline ---\n",
      "initial solution\n"
     ]
    },
    {
     "name": "stderr",
     "output_type": "stream",
     "text": [
      "100%|██████████| 34/34 [00:00<00:00, 1000.09it/s]\n"
     ]
    },
    {
     "name": "stdout",
     "output_type": "stream",
     "text": [
      "--- 0.03952741622924805 seconds for solution baseline ---\n",
      "initial solution\n"
     ]
    },
    {
     "name": "stderr",
     "output_type": "stream",
     "text": [
      "100%|██████████| 34/34 [00:00<00:00, 985.80it/s]\n"
     ]
    },
    {
     "name": "stdout",
     "output_type": "stream",
     "text": [
      "--- 0.03448963165283203 seconds for solution baseline ---\n",
      "initial solution\n"
     ]
    },
    {
     "name": "stderr",
     "output_type": "stream",
     "text": [
      "100%|██████████| 34/34 [00:00<00:00, 1109.35it/s]\n"
     ]
    },
    {
     "name": "stdout",
     "output_type": "stream",
     "text": [
      "--- 0.03484511375427246 seconds for solution baseline ---\n",
      "initial solution\n"
     ]
    },
    {
     "name": "stderr",
     "output_type": "stream",
     "text": [
      "100%|██████████| 34/34 [00:00<00:00, 995.56it/s]"
     ]
    },
    {
     "name": "stdout",
     "output_type": "stream",
     "text": [
      "--- 0.03619050979614258 seconds for solution baseline ---\n",
      "initial solution\n"
     ]
    },
    {
     "name": "stderr",
     "output_type": "stream",
     "text": [
      "\n",
      "100%|██████████| 34/34 [00:00<00:00, 1079.17it/s]\n"
     ]
    },
    {
     "name": "stdout",
     "output_type": "stream",
     "text": [
      "--- 0.039801597595214844 seconds for solution baseline ---\n",
      "initial solution\n"
     ]
    },
    {
     "name": "stderr",
     "output_type": "stream",
     "text": [
      "100%|██████████| 34/34 [00:00<00:00, 691.96it/s]\n"
     ]
    },
    {
     "name": "stdout",
     "output_type": "stream",
     "text": [
      "--- 0.11420559883117676 seconds for solution baseline ---\n",
      "initial solution\n"
     ]
    },
    {
     "name": "stderr",
     "output_type": "stream",
     "text": [
      "100%|██████████| 35/35 [00:00<00:00, 886.19it/s]\n"
     ]
    },
    {
     "name": "stdout",
     "output_type": "stream",
     "text": [
      "--- 0.04356741905212402 seconds for solution baseline ---\n",
      "initial solution\n"
     ]
    },
    {
     "name": "stderr",
     "output_type": "stream",
     "text": [
      "100%|██████████| 35/35 [00:00<00:00, 1057.63it/s]\n"
     ]
    },
    {
     "name": "stdout",
     "output_type": "stream",
     "text": [
      "--- 0.04235363006591797 seconds for solution baseline ---\n",
      "initial solution\n"
     ]
    },
    {
     "name": "stderr",
     "output_type": "stream",
     "text": [
      "100%|██████████| 35/35 [00:00<00:00, 967.02it/s]\n"
     ]
    },
    {
     "name": "stdout",
     "output_type": "stream",
     "text": [
      "--- 0.03922319412231445 seconds for solution baseline ---\n",
      "initial solution\n"
     ]
    },
    {
     "name": "stderr",
     "output_type": "stream",
     "text": [
      "100%|██████████| 35/35 [00:00<00:00, 895.52it/s]\n"
     ]
    },
    {
     "name": "stdout",
     "output_type": "stream",
     "text": [
      "--- 0.04051494598388672 seconds for solution baseline ---\n",
      "initial solution\n"
     ]
    },
    {
     "name": "stderr",
     "output_type": "stream",
     "text": [
      "100%|██████████| 35/35 [00:00<00:00, 1031.46it/s]\n"
     ]
    },
    {
     "name": "stdout",
     "output_type": "stream",
     "text": [
      "--- 0.03683018684387207 seconds for solution baseline ---\n",
      "initial solution\n"
     ]
    },
    {
     "name": "stderr",
     "output_type": "stream",
     "text": [
      "100%|██████████| 35/35 [00:00<00:00, 866.32it/s]\n"
     ]
    },
    {
     "name": "stdout",
     "output_type": "stream",
     "text": [
      "--- 0.04867982864379883 seconds for solution baseline ---\n",
      "initial solution\n"
     ]
    },
    {
     "name": "stderr",
     "output_type": "stream",
     "text": [
      "100%|██████████| 35/35 [00:00<00:00, 1086.99it/s]\n"
     ]
    },
    {
     "name": "stdout",
     "output_type": "stream",
     "text": [
      "--- 0.04812908172607422 seconds for solution baseline ---\n",
      "initial solution\n"
     ]
    },
    {
     "name": "stderr",
     "output_type": "stream",
     "text": [
      "100%|██████████| 35/35 [00:00<00:00, 749.96it/s]\n"
     ]
    },
    {
     "name": "stdout",
     "output_type": "stream",
     "text": [
      "--- 0.04779195785522461 seconds for solution baseline ---\n",
      "initial solution\n"
     ]
    },
    {
     "name": "stderr",
     "output_type": "stream",
     "text": [
      "100%|██████████| 35/35 [00:00<00:00, 828.68it/s]\n"
     ]
    },
    {
     "name": "stdout",
     "output_type": "stream",
     "text": [
      "--- 0.052602291107177734 seconds for solution baseline ---\n",
      "initial solution\n"
     ]
    },
    {
     "name": "stderr",
     "output_type": "stream",
     "text": [
      "100%|██████████| 35/35 [00:00<00:00, 1096.03it/s]\n"
     ]
    },
    {
     "name": "stdout",
     "output_type": "stream",
     "text": [
      "--- 0.0335230827331543 seconds for solution baseline ---\n",
      "initial solution\n"
     ]
    },
    {
     "name": "stderr",
     "output_type": "stream",
     "text": [
      "100%|██████████| 36/36 [00:00<00:00, 858.25it/s]\n"
     ]
    },
    {
     "name": "stdout",
     "output_type": "stream",
     "text": [
      "--- 0.0479738712310791 seconds for solution baseline ---\n",
      "initial solution\n"
     ]
    },
    {
     "name": "stderr",
     "output_type": "stream",
     "text": [
      "100%|██████████| 36/36 [00:00<00:00, 870.81it/s]\n"
     ]
    },
    {
     "name": "stdout",
     "output_type": "stream",
     "text": [
      "--- 0.051796674728393555 seconds for solution baseline ---\n",
      "initial solution\n"
     ]
    },
    {
     "name": "stderr",
     "output_type": "stream",
     "text": [
      "100%|██████████| 36/36 [00:00<00:00, 872.63it/s]\n"
     ]
    },
    {
     "name": "stdout",
     "output_type": "stream",
     "text": [
      "--- 0.04284548759460449 seconds for solution baseline ---\n",
      "initial solution\n"
     ]
    },
    {
     "name": "stderr",
     "output_type": "stream",
     "text": [
      "100%|██████████| 36/36 [00:00<00:00, 903.71it/s]"
     ]
    },
    {
     "name": "stdout",
     "output_type": "stream",
     "text": [
      "--- 0.05129814147949219 seconds for solution baseline ---\n"
     ]
    },
    {
     "name": "stderr",
     "output_type": "stream",
     "text": [
      "\n"
     ]
    },
    {
     "name": "stdout",
     "output_type": "stream",
     "text": [
      "initial solution\n"
     ]
    },
    {
     "name": "stderr",
     "output_type": "stream",
     "text": [
      "100%|██████████| 36/36 [00:00<00:00, 939.46it/s]\n"
     ]
    },
    {
     "name": "stdout",
     "output_type": "stream",
     "text": [
      "--- 0.04107546806335449 seconds for solution baseline ---\n",
      "initial solution\n"
     ]
    },
    {
     "name": "stderr",
     "output_type": "stream",
     "text": [
      "100%|██████████| 36/36 [00:00<00:00, 1052.78it/s]\n"
     ]
    },
    {
     "name": "stdout",
     "output_type": "stream",
     "text": [
      "--- 0.04137372970581055 seconds for solution baseline ---\n",
      "initial solution\n"
     ]
    },
    {
     "name": "stderr",
     "output_type": "stream",
     "text": [
      "100%|██████████| 36/36 [00:00<00:00, 1122.51it/s]\n"
     ]
    },
    {
     "name": "stdout",
     "output_type": "stream",
     "text": [
      "--- 0.04134106636047363 seconds for solution baseline ---\n",
      "initial solution\n"
     ]
    },
    {
     "name": "stderr",
     "output_type": "stream",
     "text": [
      "100%|██████████| 36/36 [00:00<00:00, 929.05it/s]\n"
     ]
    },
    {
     "name": "stdout",
     "output_type": "stream",
     "text": [
      "--- 0.043961286544799805 seconds for solution baseline ---\n",
      "initial solution\n"
     ]
    },
    {
     "name": "stderr",
     "output_type": "stream",
     "text": [
      "100%|██████████| 36/36 [00:00<00:00, 927.97it/s]\n"
     ]
    },
    {
     "name": "stdout",
     "output_type": "stream",
     "text": [
      "--- 0.03998684883117676 seconds for solution baseline ---\n",
      "initial solution\n"
     ]
    },
    {
     "name": "stderr",
     "output_type": "stream",
     "text": [
      "100%|██████████| 36/36 [00:00<00:00, 799.03it/s]\n"
     ]
    },
    {
     "name": "stdout",
     "output_type": "stream",
     "text": [
      "--- 0.05599665641784668 seconds for solution baseline ---\n",
      "initial solution\n"
     ]
    },
    {
     "name": "stderr",
     "output_type": "stream",
     "text": [
      "100%|██████████| 37/37 [00:00<00:00, 902.33it/s]\n"
     ]
    },
    {
     "name": "stdout",
     "output_type": "stream",
     "text": [
      "--- 0.049083709716796875 seconds for solution baseline ---\n",
      "initial solution\n"
     ]
    },
    {
     "name": "stderr",
     "output_type": "stream",
     "text": [
      "100%|██████████| 37/37 [00:00<00:00, 951.81it/s]\n"
     ]
    },
    {
     "name": "stdout",
     "output_type": "stream",
     "text": [
      "--- 0.03887343406677246 seconds for solution baseline ---\n",
      "initial solution\n"
     ]
    },
    {
     "name": "stderr",
     "output_type": "stream",
     "text": [
      "100%|██████████| 37/37 [00:00<00:00, 1160.08it/s]\n"
     ]
    },
    {
     "name": "stdout",
     "output_type": "stream",
     "text": [
      "--- 0.04949522018432617 seconds for solution baseline ---\n",
      "initial solution\n"
     ]
    },
    {
     "name": "stderr",
     "output_type": "stream",
     "text": [
      "100%|██████████| 37/37 [00:00<00:00, 909.22it/s]\n"
     ]
    },
    {
     "name": "stdout",
     "output_type": "stream",
     "text": [
      "--- 0.04952216148376465 seconds for solution baseline ---\n",
      "initial solution\n"
     ]
    },
    {
     "name": "stderr",
     "output_type": "stream",
     "text": [
      "100%|██████████| 37/37 [00:00<00:00, 864.85it/s]\n"
     ]
    },
    {
     "name": "stdout",
     "output_type": "stream",
     "text": [
      "--- 0.04677915573120117 seconds for solution baseline ---\n",
      "initial solution\n"
     ]
    },
    {
     "name": "stderr",
     "output_type": "stream",
     "text": [
      "100%|██████████| 37/37 [00:00<00:00, 555.27it/s]\n"
     ]
    },
    {
     "name": "stdout",
     "output_type": "stream",
     "text": [
      "--- 0.07459044456481934 seconds for solution baseline ---\n",
      "initial solution\n"
     ]
    },
    {
     "name": "stderr",
     "output_type": "stream",
     "text": [
      "100%|██████████| 37/37 [00:00<00:00, 799.55it/s]\n"
     ]
    },
    {
     "name": "stdout",
     "output_type": "stream",
     "text": [
      "--- 0.05052065849304199 seconds for solution baseline ---\n",
      "initial solution\n"
     ]
    },
    {
     "name": "stderr",
     "output_type": "stream",
     "text": [
      "100%|██████████| 37/37 [00:00<00:00, 485.14it/s]\n"
     ]
    },
    {
     "name": "stdout",
     "output_type": "stream",
     "text": [
      "--- 0.0773320198059082 seconds for solution baseline ---\n",
      "initial solution\n"
     ]
    },
    {
     "name": "stderr",
     "output_type": "stream",
     "text": [
      "100%|██████████| 37/37 [00:00<00:00, 852.68it/s]"
     ]
    },
    {
     "name": "stdout",
     "output_type": "stream",
     "text": [
      "--- 0.051635026931762695 seconds for solution baseline ---\n"
     ]
    },
    {
     "name": "stderr",
     "output_type": "stream",
     "text": [
      "\n"
     ]
    },
    {
     "name": "stdout",
     "output_type": "stream",
     "text": [
      "initial solution\n"
     ]
    },
    {
     "name": "stderr",
     "output_type": "stream",
     "text": [
      "100%|██████████| 37/37 [00:00<00:00, 856.04it/s]\n"
     ]
    },
    {
     "name": "stdout",
     "output_type": "stream",
     "text": [
      "--- 0.04671216011047363 seconds for solution baseline ---\n",
      "initial solution\n"
     ]
    },
    {
     "name": "stderr",
     "output_type": "stream",
     "text": [
      "100%|██████████| 38/38 [00:00<00:00, 931.74it/s]\n"
     ]
    },
    {
     "name": "stdout",
     "output_type": "stream",
     "text": [
      "--- 0.04855942726135254 seconds for solution baseline ---\n",
      "initial solution\n"
     ]
    },
    {
     "name": "stderr",
     "output_type": "stream",
     "text": [
      "100%|██████████| 38/38 [00:00<00:00, 796.76it/s]\n"
     ]
    },
    {
     "name": "stdout",
     "output_type": "stream",
     "text": [
      "--- 0.059181928634643555 seconds for solution baseline ---\n",
      "initial solution\n"
     ]
    },
    {
     "name": "stderr",
     "output_type": "stream",
     "text": [
      "100%|██████████| 38/38 [00:00<00:00, 859.21it/s]\n"
     ]
    },
    {
     "name": "stdout",
     "output_type": "stream",
     "text": [
      "--- 0.049612998962402344 seconds for solution baseline ---\n",
      "initial solution\n"
     ]
    },
    {
     "name": "stderr",
     "output_type": "stream",
     "text": [
      "100%|██████████| 38/38 [00:00<00:00, 876.85it/s]\n"
     ]
    },
    {
     "name": "stdout",
     "output_type": "stream",
     "text": [
      "--- 0.04883241653442383 seconds for solution baseline ---\n",
      "initial solution\n"
     ]
    },
    {
     "name": "stderr",
     "output_type": "stream",
     "text": [
      "100%|██████████| 38/38 [00:00<00:00, 874.39it/s]\n"
     ]
    },
    {
     "name": "stdout",
     "output_type": "stream",
     "text": [
      "--- 0.05024099349975586 seconds for solution baseline ---\n",
      "initial solution\n"
     ]
    },
    {
     "name": "stderr",
     "output_type": "stream",
     "text": [
      "100%|██████████| 38/38 [00:00<00:00, 732.79it/s]\n"
     ]
    },
    {
     "name": "stdout",
     "output_type": "stream",
     "text": [
      "--- 0.062306880950927734 seconds for solution baseline ---\n",
      "initial solution\n"
     ]
    },
    {
     "name": "stderr",
     "output_type": "stream",
     "text": [
      "100%|██████████| 38/38 [00:00<00:00, 876.63it/s]\n"
     ]
    },
    {
     "name": "stdout",
     "output_type": "stream",
     "text": [
      "--- 0.05366325378417969 seconds for solution baseline ---\n",
      "initial solution\n"
     ]
    },
    {
     "name": "stderr",
     "output_type": "stream",
     "text": [
      "100%|██████████| 38/38 [00:00<00:00, 705.39it/s]\n"
     ]
    },
    {
     "name": "stdout",
     "output_type": "stream",
     "text": [
      "--- 0.05489087104797363 seconds for solution baseline ---\n",
      "initial solution\n"
     ]
    },
    {
     "name": "stderr",
     "output_type": "stream",
     "text": [
      "100%|██████████| 38/38 [00:00<00:00, 771.60it/s]\n"
     ]
    },
    {
     "name": "stdout",
     "output_type": "stream",
     "text": [
      "--- 0.05471038818359375 seconds for solution baseline ---\n",
      "initial solution\n"
     ]
    },
    {
     "name": "stderr",
     "output_type": "stream",
     "text": [
      "100%|██████████| 38/38 [00:00<00:00, 876.31it/s]\n"
     ]
    },
    {
     "name": "stdout",
     "output_type": "stream",
     "text": [
      "--- 0.048207998275756836 seconds for solution baseline ---\n",
      "initial solution\n"
     ]
    },
    {
     "name": "stderr",
     "output_type": "stream",
     "text": [
      "100%|██████████| 39/39 [00:00<00:00, 667.35it/s]\n"
     ]
    },
    {
     "name": "stdout",
     "output_type": "stream",
     "text": [
      "--- 0.06296777725219727 seconds for solution baseline ---\n",
      "initial solution\n"
     ]
    },
    {
     "name": "stderr",
     "output_type": "stream",
     "text": [
      "100%|██████████| 39/39 [00:00<00:00, 799.73it/s]\n"
     ]
    },
    {
     "name": "stdout",
     "output_type": "stream",
     "text": [
      "--- 0.05137300491333008 seconds for solution baseline ---\n",
      "initial solution\n"
     ]
    },
    {
     "name": "stderr",
     "output_type": "stream",
     "text": [
      "100%|██████████| 39/39 [00:00<00:00, 598.32it/s]\n"
     ]
    },
    {
     "name": "stdout",
     "output_type": "stream",
     "text": [
      "--- 0.07404422760009766 seconds for solution baseline ---\n",
      "initial solution\n"
     ]
    },
    {
     "name": "stderr",
     "output_type": "stream",
     "text": [
      "100%|██████████| 39/39 [00:00<00:00, 374.36it/s]\n"
     ]
    },
    {
     "name": "stdout",
     "output_type": "stream",
     "text": [
      "--- 0.17182064056396484 seconds for solution baseline ---\n",
      "initial solution\n"
     ]
    },
    {
     "name": "stderr",
     "output_type": "stream",
     "text": [
      "100%|██████████| 39/39 [00:00<00:00, 708.73it/s]\n"
     ]
    },
    {
     "name": "stdout",
     "output_type": "stream",
     "text": [
      "--- 0.06526613235473633 seconds for solution baseline ---\n",
      "initial solution\n"
     ]
    },
    {
     "name": "stderr",
     "output_type": "stream",
     "text": [
      "100%|██████████| 39/39 [00:00<00:00, 744.30it/s]\n"
     ]
    },
    {
     "name": "stdout",
     "output_type": "stream",
     "text": [
      "--- 0.05847311019897461 seconds for solution baseline ---\n",
      "initial solution\n"
     ]
    },
    {
     "name": "stderr",
     "output_type": "stream",
     "text": [
      "100%|██████████| 39/39 [00:00<00:00, 762.58it/s]\n"
     ]
    },
    {
     "name": "stdout",
     "output_type": "stream",
     "text": [
      "--- 0.05567669868469238 seconds for solution baseline ---\n",
      "initial solution\n"
     ]
    },
    {
     "name": "stderr",
     "output_type": "stream",
     "text": [
      "100%|██████████| 39/39 [00:00<00:00, 768.72it/s]\n"
     ]
    },
    {
     "name": "stdout",
     "output_type": "stream",
     "text": [
      "--- 0.05873370170593262 seconds for solution baseline ---\n",
      "initial solution\n"
     ]
    },
    {
     "name": "stderr",
     "output_type": "stream",
     "text": [
      "100%|██████████| 39/39 [00:00<00:00, 750.84it/s]\n"
     ]
    },
    {
     "name": "stdout",
     "output_type": "stream",
     "text": [
      "--- 0.05824899673461914 seconds for solution baseline ---\n",
      "initial solution\n"
     ]
    },
    {
     "name": "stderr",
     "output_type": "stream",
     "text": [
      "100%|██████████| 39/39 [00:00<00:00, 690.35it/s]\n"
     ]
    },
    {
     "name": "stdout",
     "output_type": "stream",
     "text": [
      "--- 0.06537604331970215 seconds for solution baseline ---\n",
      "initial solution\n"
     ]
    },
    {
     "name": "stderr",
     "output_type": "stream",
     "text": [
      "100%|██████████| 40/40 [00:00<00:00, 622.70it/s]"
     ]
    },
    {
     "name": "stdout",
     "output_type": "stream",
     "text": [
      "--- 0.07177424430847168 seconds for solution baseline ---\n",
      "initial solution\n"
     ]
    },
    {
     "name": "stderr",
     "output_type": "stream",
     "text": [
      "\n",
      "100%|██████████| 40/40 [00:00<00:00, 660.17it/s]\n"
     ]
    },
    {
     "name": "stdout",
     "output_type": "stream",
     "text": [
      "--- 0.06059002876281738 seconds for solution baseline ---\n",
      "initial solution\n"
     ]
    },
    {
     "name": "stderr",
     "output_type": "stream",
     "text": [
      "100%|██████████| 40/40 [00:00<00:00, 829.52it/s]\n"
     ]
    },
    {
     "name": "stdout",
     "output_type": "stream",
     "text": [
      "--- 0.05544543266296387 seconds for solution baseline ---\n",
      "initial solution\n"
     ]
    },
    {
     "name": "stderr",
     "output_type": "stream",
     "text": [
      "100%|██████████| 40/40 [00:00<00:00, 695.54it/s]\n"
     ]
    },
    {
     "name": "stdout",
     "output_type": "stream",
     "text": [
      "--- 0.06402826309204102 seconds for solution baseline ---\n",
      "initial solution\n"
     ]
    },
    {
     "name": "stderr",
     "output_type": "stream",
     "text": [
      "100%|██████████| 40/40 [00:00<00:00, 384.24it/s]\n"
     ]
    },
    {
     "name": "stdout",
     "output_type": "stream",
     "text": [
      "--- 0.11412501335144043 seconds for solution baseline ---\n",
      "initial solution\n"
     ]
    },
    {
     "name": "stderr",
     "output_type": "stream",
     "text": [
      "100%|██████████| 40/40 [00:00<00:00, 615.08it/s]\n"
     ]
    },
    {
     "name": "stdout",
     "output_type": "stream",
     "text": [
      "--- 0.07588481903076172 seconds for solution baseline ---\n",
      "initial solution\n"
     ]
    },
    {
     "name": "stderr",
     "output_type": "stream",
     "text": [
      "100%|██████████| 40/40 [00:00<00:00, 619.22it/s]\n"
     ]
    },
    {
     "name": "stdout",
     "output_type": "stream",
     "text": [
      "--- 0.0672605037689209 seconds for solution baseline ---\n",
      "initial solution\n"
     ]
    },
    {
     "name": "stderr",
     "output_type": "stream",
     "text": [
      "100%|██████████| 40/40 [00:00<00:00, 648.70it/s]\n"
     ]
    },
    {
     "name": "stdout",
     "output_type": "stream",
     "text": [
      "--- 0.06688284873962402 seconds for solution baseline ---\n",
      "initial solution\n"
     ]
    },
    {
     "name": "stderr",
     "output_type": "stream",
     "text": [
      "100%|██████████| 40/40 [00:00<00:00, 671.28it/s]\n"
     ]
    },
    {
     "name": "stdout",
     "output_type": "stream",
     "text": [
      "--- 0.06529998779296875 seconds for solution baseline ---\n",
      "initial solution\n"
     ]
    },
    {
     "name": "stderr",
     "output_type": "stream",
     "text": [
      "100%|██████████| 40/40 [00:00<00:00, 669.33it/s]\n"
     ]
    },
    {
     "name": "stdout",
     "output_type": "stream",
     "text": [
      "--- 0.06656956672668457 seconds for solution baseline ---\n",
      "initial solution\n"
     ]
    },
    {
     "name": "stderr",
     "output_type": "stream",
     "text": [
      "100%|██████████| 41/41 [00:00<00:00, 601.50it/s]\n"
     ]
    },
    {
     "name": "stdout",
     "output_type": "stream",
     "text": [
      "--- 0.07301759719848633 seconds for solution baseline ---\n",
      "initial solution\n"
     ]
    },
    {
     "name": "stderr",
     "output_type": "stream",
     "text": [
      "100%|██████████| 41/41 [00:00<00:00, 607.28it/s]\n"
     ]
    },
    {
     "name": "stdout",
     "output_type": "stream",
     "text": [
      "--- 0.07340812683105469 seconds for solution baseline ---\n",
      "initial solution\n"
     ]
    },
    {
     "name": "stderr",
     "output_type": "stream",
     "text": [
      "100%|██████████| 41/41 [00:00<00:00, 687.34it/s]\n"
     ]
    },
    {
     "name": "stdout",
     "output_type": "stream",
     "text": [
      "--- 0.06384515762329102 seconds for solution baseline ---\n",
      "initial solution\n"
     ]
    },
    {
     "name": "stderr",
     "output_type": "stream",
     "text": [
      "100%|██████████| 41/41 [00:00<00:00, 346.56it/s]\n"
     ]
    },
    {
     "name": "stdout",
     "output_type": "stream",
     "text": [
      "--- 0.12029385566711426 seconds for solution baseline ---\n",
      "initial solution\n"
     ]
    },
    {
     "name": "stderr",
     "output_type": "stream",
     "text": [
      "100%|██████████| 41/41 [00:00<00:00, 676.59it/s]\n"
     ]
    },
    {
     "name": "stdout",
     "output_type": "stream",
     "text": [
      "--- 0.06728672981262207 seconds for solution baseline ---\n",
      "initial solution\n"
     ]
    },
    {
     "name": "stderr",
     "output_type": "stream",
     "text": [
      "100%|██████████| 41/41 [00:00<00:00, 706.90it/s]\n"
     ]
    },
    {
     "name": "stdout",
     "output_type": "stream",
     "text": [
      "--- 0.06418919563293457 seconds for solution baseline ---\n",
      "initial solution\n"
     ]
    },
    {
     "name": "stderr",
     "output_type": "stream",
     "text": [
      "100%|██████████| 41/41 [00:00<00:00, 708.52it/s]\n"
     ]
    },
    {
     "name": "stdout",
     "output_type": "stream",
     "text": [
      "--- 0.0633077621459961 seconds for solution baseline ---\n",
      "initial solution\n"
     ]
    },
    {
     "name": "stderr",
     "output_type": "stream",
     "text": [
      "100%|██████████| 41/41 [00:00<00:00, 629.02it/s]\n"
     ]
    },
    {
     "name": "stdout",
     "output_type": "stream",
     "text": [
      "--- 0.06712818145751953 seconds for solution baseline ---\n",
      "initial solution\n"
     ]
    },
    {
     "name": "stderr",
     "output_type": "stream",
     "text": [
      "100%|██████████| 41/41 [00:00<00:00, 514.23it/s]\n"
     ]
    },
    {
     "name": "stdout",
     "output_type": "stream",
     "text": [
      "--- 0.08812308311462402 seconds for solution baseline ---\n",
      "initial solution\n"
     ]
    },
    {
     "name": "stderr",
     "output_type": "stream",
     "text": [
      "100%|██████████| 41/41 [00:00<00:00, 627.57it/s]\n"
     ]
    },
    {
     "name": "stdout",
     "output_type": "stream",
     "text": [
      "--- 0.07782173156738281 seconds for solution baseline ---\n",
      "initial solution\n"
     ]
    },
    {
     "name": "stderr",
     "output_type": "stream",
     "text": [
      "100%|██████████| 42/42 [00:00<00:00, 636.44it/s]\n"
     ]
    },
    {
     "name": "stdout",
     "output_type": "stream",
     "text": [
      "--- 0.07454657554626465 seconds for solution baseline ---\n",
      "initial solution\n"
     ]
    },
    {
     "name": "stderr",
     "output_type": "stream",
     "text": [
      "100%|██████████| 42/42 [00:00<00:00, 572.15it/s]\n"
     ]
    },
    {
     "name": "stdout",
     "output_type": "stream",
     "text": [
      "--- 0.15610003471374512 seconds for solution baseline ---\n",
      "initial solution\n"
     ]
    },
    {
     "name": "stderr",
     "output_type": "stream",
     "text": [
      "100%|██████████| 42/42 [00:00<00:00, 633.08it/s]\n"
     ]
    },
    {
     "name": "stdout",
     "output_type": "stream",
     "text": [
      "--- 0.06904721260070801 seconds for solution baseline ---\n",
      "initial solution\n"
     ]
    },
    {
     "name": "stderr",
     "output_type": "stream",
     "text": [
      "100%|██████████| 42/42 [00:00<00:00, 565.82it/s]\n"
     ]
    },
    {
     "name": "stdout",
     "output_type": "stream",
     "text": [
      "--- 0.08241415023803711 seconds for solution baseline ---\n",
      "initial solution\n"
     ]
    },
    {
     "name": "stderr",
     "output_type": "stream",
     "text": [
      "100%|██████████| 42/42 [00:00<00:00, 622.37it/s]\n"
     ]
    },
    {
     "name": "stdout",
     "output_type": "stream",
     "text": [
      "--- 0.07129955291748047 seconds for solution baseline ---\n",
      "initial solution\n"
     ]
    },
    {
     "name": "stderr",
     "output_type": "stream",
     "text": [
      "100%|██████████| 42/42 [00:00<00:00, 698.61it/s]\n"
     ]
    },
    {
     "name": "stdout",
     "output_type": "stream",
     "text": [
      "--- 0.06512594223022461 seconds for solution baseline ---\n",
      "initial solution\n"
     ]
    },
    {
     "name": "stderr",
     "output_type": "stream",
     "text": [
      "100%|██████████| 42/42 [00:00<00:00, 621.99it/s]\n"
     ]
    },
    {
     "name": "stdout",
     "output_type": "stream",
     "text": [
      "--- 0.07393908500671387 seconds for solution baseline ---\n",
      "initial solution\n"
     ]
    },
    {
     "name": "stderr",
     "output_type": "stream",
     "text": [
      "100%|██████████| 42/42 [00:00<00:00, 498.29it/s]\n"
     ]
    },
    {
     "name": "stdout",
     "output_type": "stream",
     "text": [
      "--- 0.09840726852416992 seconds for solution baseline ---\n",
      "initial solution\n"
     ]
    },
    {
     "name": "stderr",
     "output_type": "stream",
     "text": [
      "100%|██████████| 42/42 [00:00<00:00, 684.18it/s]\n"
     ]
    },
    {
     "name": "stdout",
     "output_type": "stream",
     "text": [
      "--- 0.06764578819274902 seconds for solution baseline ---\n",
      "initial solution\n"
     ]
    },
    {
     "name": "stderr",
     "output_type": "stream",
     "text": [
      "100%|██████████| 42/42 [00:00<00:00, 634.50it/s]\n"
     ]
    },
    {
     "name": "stdout",
     "output_type": "stream",
     "text": [
      "--- 0.06619429588317871 seconds for solution baseline ---\n",
      "initial solution\n"
     ]
    },
    {
     "name": "stderr",
     "output_type": "stream",
     "text": [
      "100%|██████████| 43/43 [00:00<00:00, 511.35it/s]\n"
     ]
    },
    {
     "name": "stdout",
     "output_type": "stream",
     "text": [
      "--- 0.08875632286071777 seconds for solution baseline ---\n",
      "initial solution\n"
     ]
    },
    {
     "name": "stderr",
     "output_type": "stream",
     "text": [
      "100%|██████████| 43/43 [00:00<00:00, 523.04it/s]\n"
     ]
    },
    {
     "name": "stdout",
     "output_type": "stream",
     "text": [
      "--- 0.09606409072875977 seconds for solution baseline ---\n",
      "initial solution\n"
     ]
    },
    {
     "name": "stderr",
     "output_type": "stream",
     "text": [
      "100%|██████████| 43/43 [00:00<00:00, 586.43it/s]\n"
     ]
    },
    {
     "name": "stdout",
     "output_type": "stream",
     "text": [
      "--- 0.08123064041137695 seconds for solution baseline ---\n",
      "initial solution\n"
     ]
    },
    {
     "name": "stderr",
     "output_type": "stream",
     "text": [
      "100%|██████████| 43/43 [00:00<00:00, 630.84it/s]\n"
     ]
    },
    {
     "name": "stdout",
     "output_type": "stream",
     "text": [
      "--- 0.0696711540222168 seconds for solution baseline ---\n",
      "initial solution\n"
     ]
    },
    {
     "name": "stderr",
     "output_type": "stream",
     "text": [
      "100%|██████████| 43/43 [00:00<00:00, 411.80it/s]\n"
     ]
    },
    {
     "name": "stdout",
     "output_type": "stream",
     "text": [
      "--- 0.10926008224487305 seconds for solution baseline ---\n",
      "initial solution\n"
     ]
    },
    {
     "name": "stderr",
     "output_type": "stream",
     "text": [
      "100%|██████████| 43/43 [00:00<00:00, 648.47it/s]\n"
     ]
    },
    {
     "name": "stdout",
     "output_type": "stream",
     "text": [
      "--- 0.07441306114196777 seconds for solution baseline ---\n",
      "initial solution\n"
     ]
    },
    {
     "name": "stderr",
     "output_type": "stream",
     "text": [
      "100%|██████████| 43/43 [00:00<00:00, 559.20it/s]\n"
     ]
    },
    {
     "name": "stdout",
     "output_type": "stream",
     "text": [
      "--- 0.08071351051330566 seconds for solution baseline ---\n",
      "initial solution\n"
     ]
    },
    {
     "name": "stderr",
     "output_type": "stream",
     "text": [
      "100%|██████████| 43/43 [00:00<00:00, 594.40it/s]\n"
     ]
    },
    {
     "name": "stdout",
     "output_type": "stream",
     "text": [
      "--- 0.08366250991821289 seconds for solution baseline ---\n",
      "initial solution\n"
     ]
    },
    {
     "name": "stderr",
     "output_type": "stream",
     "text": [
      "100%|██████████| 43/43 [00:00<00:00, 571.00it/s]\n"
     ]
    },
    {
     "name": "stdout",
     "output_type": "stream",
     "text": [
      "--- 0.08169269561767578 seconds for solution baseline ---\n",
      "initial solution\n"
     ]
    },
    {
     "name": "stderr",
     "output_type": "stream",
     "text": [
      "100%|██████████| 43/43 [00:00<00:00, 444.41it/s]\n"
     ]
    },
    {
     "name": "stdout",
     "output_type": "stream",
     "text": [
      "--- 0.10945725440979004 seconds for solution baseline ---\n",
      "initial solution\n"
     ]
    },
    {
     "name": "stderr",
     "output_type": "stream",
     "text": [
      "100%|██████████| 44/44 [00:00<00:00, 509.93it/s]\n"
     ]
    },
    {
     "name": "stdout",
     "output_type": "stream",
     "text": [
      "--- 0.09743261337280273 seconds for solution baseline ---\n",
      "initial solution\n"
     ]
    },
    {
     "name": "stderr",
     "output_type": "stream",
     "text": [
      "100%|██████████| 44/44 [00:00<00:00, 535.57it/s]\n"
     ]
    },
    {
     "name": "stdout",
     "output_type": "stream",
     "text": [
      "--- 0.08435559272766113 seconds for solution baseline ---\n",
      "initial solution\n"
     ]
    },
    {
     "name": "stderr",
     "output_type": "stream",
     "text": [
      "100%|██████████| 44/44 [00:00<00:00, 517.54it/s]\n"
     ]
    },
    {
     "name": "stdout",
     "output_type": "stream",
     "text": [
      "--- 0.09790253639221191 seconds for solution baseline ---\n",
      "initial solution\n"
     ]
    },
    {
     "name": "stderr",
     "output_type": "stream",
     "text": [
      "100%|██████████| 44/44 [00:00<00:00, 302.52it/s]\n"
     ]
    },
    {
     "name": "stdout",
     "output_type": "stream",
     "text": [
      "--- 0.15423798561096191 seconds for solution baseline ---\n",
      "initial solution\n"
     ]
    },
    {
     "name": "stderr",
     "output_type": "stream",
     "text": [
      "100%|██████████| 44/44 [00:00<00:00, 529.66it/s]\n"
     ]
    },
    {
     "name": "stdout",
     "output_type": "stream",
     "text": [
      "--- 0.10001516342163086 seconds for solution baseline ---\n",
      "initial solution\n"
     ]
    },
    {
     "name": "stderr",
     "output_type": "stream",
     "text": [
      "100%|██████████| 44/44 [00:00<00:00, 539.14it/s]\n"
     ]
    },
    {
     "name": "stdout",
     "output_type": "stream",
     "text": [
      "--- 0.0902097225189209 seconds for solution baseline ---\n",
      "initial solution\n"
     ]
    },
    {
     "name": "stderr",
     "output_type": "stream",
     "text": [
      "100%|██████████| 44/44 [00:00<00:00, 519.23it/s]\n"
     ]
    },
    {
     "name": "stdout",
     "output_type": "stream",
     "text": [
      "--- 0.09000062942504883 seconds for solution baseline ---\n",
      "initial solution\n"
     ]
    },
    {
     "name": "stderr",
     "output_type": "stream",
     "text": [
      "100%|██████████| 44/44 [00:00<00:00, 584.40it/s]\n"
     ]
    },
    {
     "name": "stdout",
     "output_type": "stream",
     "text": [
      "--- 0.1431119441986084 seconds for solution baseline ---\n",
      "initial solution\n"
     ]
    },
    {
     "name": "stderr",
     "output_type": "stream",
     "text": [
      "100%|██████████| 44/44 [00:00<00:00, 487.32it/s]\n"
     ]
    },
    {
     "name": "stdout",
     "output_type": "stream",
     "text": [
      "--- 0.09599947929382324 seconds for solution baseline ---\n",
      "initial solution\n"
     ]
    },
    {
     "name": "stderr",
     "output_type": "stream",
     "text": [
      "100%|██████████| 44/44 [00:00<00:00, 537.65it/s]\n"
     ]
    },
    {
     "name": "stdout",
     "output_type": "stream",
     "text": [
      "--- 0.08183717727661133 seconds for solution baseline ---\n",
      "initial solution\n"
     ]
    },
    {
     "name": "stderr",
     "output_type": "stream",
     "text": [
      "100%|██████████| 45/45 [00:00<00:00, 425.59it/s]\n"
     ]
    },
    {
     "name": "stdout",
     "output_type": "stream",
     "text": [
      "--- 0.11420106887817383 seconds for solution baseline ---\n",
      "initial solution\n"
     ]
    },
    {
     "name": "stderr",
     "output_type": "stream",
     "text": [
      "100%|██████████| 45/45 [00:00<00:00, 475.65it/s]\n"
     ]
    },
    {
     "name": "stdout",
     "output_type": "stream",
     "text": [
      "--- 0.1018228530883789 seconds for solution baseline ---\n",
      "initial solution\n"
     ]
    },
    {
     "name": "stderr",
     "output_type": "stream",
     "text": [
      "100%|██████████| 45/45 [00:00<00:00, 442.40it/s]\n"
     ]
    },
    {
     "name": "stdout",
     "output_type": "stream",
     "text": [
      "--- 0.10972452163696289 seconds for solution baseline ---\n",
      "initial solution\n"
     ]
    },
    {
     "name": "stderr",
     "output_type": "stream",
     "text": [
      "100%|██████████| 45/45 [00:00<00:00, 344.81it/s]\n"
     ]
    },
    {
     "name": "stdout",
     "output_type": "stream",
     "text": [
      "--- 0.13524341583251953 seconds for solution baseline ---\n",
      "initial solution\n"
     ]
    },
    {
     "name": "stderr",
     "output_type": "stream",
     "text": [
      "100%|██████████| 45/45 [00:00<00:00, 458.48it/s]\n"
     ]
    },
    {
     "name": "stdout",
     "output_type": "stream",
     "text": [
      "--- 0.10638713836669922 seconds for solution baseline ---\n",
      "initial solution\n"
     ]
    },
    {
     "name": "stderr",
     "output_type": "stream",
     "text": [
      "100%|██████████| 45/45 [00:00<00:00, 553.80it/s]\n"
     ]
    },
    {
     "name": "stdout",
     "output_type": "stream",
     "text": [
      "--- 0.08978390693664551 seconds for solution baseline ---\n",
      "initial solution\n"
     ]
    },
    {
     "name": "stderr",
     "output_type": "stream",
     "text": [
      "100%|██████████| 45/45 [00:00<00:00, 490.31it/s]\n"
     ]
    },
    {
     "name": "stdout",
     "output_type": "stream",
     "text": [
      "--- 0.10086655616760254 seconds for solution baseline ---\n",
      "initial solution\n"
     ]
    },
    {
     "name": "stderr",
     "output_type": "stream",
     "text": [
      "100%|██████████| 45/45 [00:00<00:00, 467.27it/s]\n"
     ]
    },
    {
     "name": "stdout",
     "output_type": "stream",
     "text": [
      "--- 0.0992422103881836 seconds for solution baseline ---\n",
      "initial solution\n"
     ]
    },
    {
     "name": "stderr",
     "output_type": "stream",
     "text": [
      "100%|██████████| 45/45 [00:00<00:00, 509.02it/s]\n"
     ]
    },
    {
     "name": "stdout",
     "output_type": "stream",
     "text": [
      "--- 0.09804534912109375 seconds for solution baseline ---\n",
      "initial solution\n"
     ]
    },
    {
     "name": "stderr",
     "output_type": "stream",
     "text": [
      "100%|██████████| 45/45 [00:00<00:00, 542.39it/s]\n"
     ]
    },
    {
     "name": "stdout",
     "output_type": "stream",
     "text": [
      "--- 0.09671258926391602 seconds for solution baseline ---\n",
      "initial solution\n"
     ]
    },
    {
     "name": "stderr",
     "output_type": "stream",
     "text": [
      "100%|██████████| 46/46 [00:00<00:00, 349.81it/s]\n"
     ]
    },
    {
     "name": "stdout",
     "output_type": "stream",
     "text": [
      "--- 0.13203787803649902 seconds for solution baseline ---\n",
      "initial solution\n"
     ]
    },
    {
     "name": "stderr",
     "output_type": "stream",
     "text": [
      "100%|██████████| 46/46 [00:00<00:00, 449.90it/s]\n"
     ]
    },
    {
     "name": "stdout",
     "output_type": "stream",
     "text": [
      "--- 0.10989093780517578 seconds for solution baseline ---\n",
      "initial solution\n"
     ]
    },
    {
     "name": "stderr",
     "output_type": "stream",
     "text": [
      "100%|██████████| 46/46 [00:00<00:00, 498.23it/s]\n"
     ]
    },
    {
     "name": "stdout",
     "output_type": "stream",
     "text": [
      "--- 0.09858846664428711 seconds for solution baseline ---\n",
      "initial solution\n"
     ]
    },
    {
     "name": "stderr",
     "output_type": "stream",
     "text": [
      "100%|██████████| 46/46 [00:00<00:00, 480.58it/s]\n"
     ]
    },
    {
     "name": "stdout",
     "output_type": "stream",
     "text": [
      "--- 0.10463118553161621 seconds for solution baseline ---\n",
      "initial solution\n"
     ]
    },
    {
     "name": "stderr",
     "output_type": "stream",
     "text": [
      "100%|██████████| 46/46 [00:00<00:00, 488.59it/s]\n"
     ]
    },
    {
     "name": "stdout",
     "output_type": "stream",
     "text": [
      "--- 0.09996771812438965 seconds for solution baseline ---\n",
      "initial solution\n"
     ]
    },
    {
     "name": "stderr",
     "output_type": "stream",
     "text": [
      "100%|██████████| 46/46 [00:00<00:00, 399.24it/s]\n"
     ]
    },
    {
     "name": "stdout",
     "output_type": "stream",
     "text": [
      "--- 0.12460494041442871 seconds for solution baseline ---\n",
      "initial solution\n"
     ]
    },
    {
     "name": "stderr",
     "output_type": "stream",
     "text": [
      "100%|██████████| 46/46 [00:00<00:00, 525.90it/s]\n"
     ]
    },
    {
     "name": "stdout",
     "output_type": "stream",
     "text": [
      "--- 0.10015082359313965 seconds for solution baseline ---\n",
      "initial solution\n"
     ]
    },
    {
     "name": "stderr",
     "output_type": "stream",
     "text": [
      "100%|██████████| 46/46 [00:00<00:00, 479.49it/s]\n"
     ]
    },
    {
     "name": "stdout",
     "output_type": "stream",
     "text": [
      "--- 0.10527157783508301 seconds for solution baseline ---\n",
      "initial solution\n"
     ]
    },
    {
     "name": "stderr",
     "output_type": "stream",
     "text": [
      "100%|██████████| 46/46 [00:00<00:00, 305.92it/s]"
     ]
    },
    {
     "name": "stdout",
     "output_type": "stream",
     "text": [
      "--- 0.1562654972076416 seconds for solution baseline ---\n"
     ]
    },
    {
     "name": "stderr",
     "output_type": "stream",
     "text": [
      "\n"
     ]
    },
    {
     "name": "stdout",
     "output_type": "stream",
     "text": [
      "initial solution\n"
     ]
    },
    {
     "name": "stderr",
     "output_type": "stream",
     "text": [
      "100%|██████████| 46/46 [00:00<00:00, 504.05it/s]\n"
     ]
    },
    {
     "name": "stdout",
     "output_type": "stream",
     "text": [
      "--- 0.17017745971679688 seconds for solution baseline ---\n",
      "initial solution\n"
     ]
    },
    {
     "name": "stderr",
     "output_type": "stream",
     "text": [
      "100%|██████████| 47/47 [00:00<00:00, 410.48it/s]\n"
     ]
    },
    {
     "name": "stdout",
     "output_type": "stream",
     "text": [
      "--- 0.11636209487915039 seconds for solution baseline ---\n",
      "initial solution\n"
     ]
    },
    {
     "name": "stderr",
     "output_type": "stream",
     "text": [
      "100%|██████████| 47/47 [00:00<00:00, 423.21it/s]\n"
     ]
    },
    {
     "name": "stdout",
     "output_type": "stream",
     "text": [
      "--- 0.11586952209472656 seconds for solution baseline ---\n",
      "initial solution\n"
     ]
    },
    {
     "name": "stderr",
     "output_type": "stream",
     "text": [
      "100%|██████████| 47/47 [00:00<00:00, 444.25it/s]\n"
     ]
    },
    {
     "name": "stdout",
     "output_type": "stream",
     "text": [
      "--- 0.1194462776184082 seconds for solution baseline ---\n",
      "initial solution\n"
     ]
    },
    {
     "name": "stderr",
     "output_type": "stream",
     "text": [
      "100%|██████████| 47/47 [00:00<00:00, 452.93it/s]\n"
     ]
    },
    {
     "name": "stdout",
     "output_type": "stream",
     "text": [
      "--- 0.1098332405090332 seconds for solution baseline ---\n",
      "initial solution\n"
     ]
    },
    {
     "name": "stderr",
     "output_type": "stream",
     "text": [
      "100%|██████████| 47/47 [00:00<00:00, 432.65it/s]\n"
     ]
    },
    {
     "name": "stdout",
     "output_type": "stream",
     "text": [
      "--- 0.11664056777954102 seconds for solution baseline ---\n",
      "initial solution\n"
     ]
    },
    {
     "name": "stderr",
     "output_type": "stream",
     "text": [
      "100%|██████████| 47/47 [00:00<00:00, 448.08it/s]\n"
     ]
    },
    {
     "name": "stdout",
     "output_type": "stream",
     "text": [
      "--- 0.11295056343078613 seconds for solution baseline ---\n",
      "initial solution\n"
     ]
    },
    {
     "name": "stderr",
     "output_type": "stream",
     "text": [
      "100%|██████████| 47/47 [00:00<00:00, 423.61it/s]\n"
     ]
    },
    {
     "name": "stdout",
     "output_type": "stream",
     "text": [
      "--- 0.1218268871307373 seconds for solution baseline ---\n",
      "initial solution\n"
     ]
    },
    {
     "name": "stderr",
     "output_type": "stream",
     "text": [
      "100%|██████████| 47/47 [00:00<00:00, 444.96it/s]\n"
     ]
    },
    {
     "name": "stdout",
     "output_type": "stream",
     "text": [
      "--- 0.1143639087677002 seconds for solution baseline ---\n",
      "initial solution\n"
     ]
    },
    {
     "name": "stderr",
     "output_type": "stream",
     "text": [
      "100%|██████████| 47/47 [00:00<00:00, 419.58it/s]\n"
     ]
    },
    {
     "name": "stdout",
     "output_type": "stream",
     "text": [
      "--- 0.1185922622680664 seconds for solution baseline ---\n",
      "initial solution\n"
     ]
    },
    {
     "name": "stderr",
     "output_type": "stream",
     "text": [
      "100%|██████████| 47/47 [00:00<00:00, 477.92it/s]\n"
     ]
    },
    {
     "name": "stdout",
     "output_type": "stream",
     "text": [
      "--- 0.1060945987701416 seconds for solution baseline ---\n",
      "initial solution\n"
     ]
    },
    {
     "name": "stderr",
     "output_type": "stream",
     "text": [
      "100%|██████████| 48/48 [00:00<00:00, 340.73it/s]\n"
     ]
    },
    {
     "name": "stdout",
     "output_type": "stream",
     "text": [
      "--- 0.1434648036956787 seconds for solution baseline ---\n",
      "initial solution\n"
     ]
    },
    {
     "name": "stderr",
     "output_type": "stream",
     "text": [
      "100%|██████████| 48/48 [00:00<00:00, 477.02it/s]\n"
     ]
    },
    {
     "name": "stdout",
     "output_type": "stream",
     "text": [
      "--- 0.11064505577087402 seconds for solution baseline ---\n",
      "initial solution\n"
     ]
    },
    {
     "name": "stderr",
     "output_type": "stream",
     "text": [
      "100%|██████████| 48/48 [00:00<00:00, 444.99it/s]\n"
     ]
    },
    {
     "name": "stdout",
     "output_type": "stream",
     "text": [
      "--- 0.11590719223022461 seconds for solution baseline ---\n",
      "initial solution\n"
     ]
    },
    {
     "name": "stderr",
     "output_type": "stream",
     "text": [
      "100%|██████████| 48/48 [00:00<00:00, 374.28it/s]\n"
     ]
    },
    {
     "name": "stdout",
     "output_type": "stream",
     "text": [
      "--- 0.13536739349365234 seconds for solution baseline ---\n",
      "initial solution\n"
     ]
    },
    {
     "name": "stderr",
     "output_type": "stream",
     "text": [
      "100%|██████████| 48/48 [00:00<00:00, 419.68it/s]\n"
     ]
    },
    {
     "name": "stdout",
     "output_type": "stream",
     "text": [
      "--- 0.11947941780090332 seconds for solution baseline ---\n",
      "initial solution\n"
     ]
    },
    {
     "name": "stderr",
     "output_type": "stream",
     "text": [
      "100%|██████████| 48/48 [00:00<00:00, 346.74it/s]\n"
     ]
    },
    {
     "name": "stdout",
     "output_type": "stream",
     "text": [
      "--- 0.14442682266235352 seconds for solution baseline ---\n",
      "initial solution\n"
     ]
    },
    {
     "name": "stderr",
     "output_type": "stream",
     "text": [
      "100%|██████████| 48/48 [00:00<00:00, 456.28it/s]\n"
     ]
    },
    {
     "name": "stdout",
     "output_type": "stream",
     "text": [
      "--- 0.12151002883911133 seconds for solution baseline ---\n",
      "initial solution\n"
     ]
    },
    {
     "name": "stderr",
     "output_type": "stream",
     "text": [
      "100%|██████████| 48/48 [00:00<00:00, 437.33it/s]\n"
     ]
    },
    {
     "name": "stdout",
     "output_type": "stream",
     "text": [
      "--- 0.11777448654174805 seconds for solution baseline ---\n",
      "initial solution\n"
     ]
    },
    {
     "name": "stderr",
     "output_type": "stream",
     "text": [
      "100%|██████████| 48/48 [00:00<00:00, 430.68it/s]\n"
     ]
    },
    {
     "name": "stdout",
     "output_type": "stream",
     "text": [
      "--- 0.11459159851074219 seconds for solution baseline ---\n",
      "initial solution\n"
     ]
    },
    {
     "name": "stderr",
     "output_type": "stream",
     "text": [
      "100%|██████████| 48/48 [00:00<00:00, 428.77it/s]\n"
     ]
    },
    {
     "name": "stdout",
     "output_type": "stream",
     "text": [
      "--- 0.196458101272583 seconds for solution baseline ---\n",
      "initial solution\n"
     ]
    },
    {
     "name": "stderr",
     "output_type": "stream",
     "text": [
      "100%|██████████| 49/49 [00:00<00:00, 390.79it/s]\n"
     ]
    },
    {
     "name": "stdout",
     "output_type": "stream",
     "text": [
      "--- 0.13222002983093262 seconds for solution baseline ---\n",
      "initial solution\n"
     ]
    },
    {
     "name": "stderr",
     "output_type": "stream",
     "text": [
      "100%|██████████| 49/49 [00:00<00:00, 376.59it/s]\n"
     ]
    },
    {
     "name": "stdout",
     "output_type": "stream",
     "text": [
      "--- 0.13163256645202637 seconds for solution baseline ---\n",
      "initial solution\n"
     ]
    },
    {
     "name": "stderr",
     "output_type": "stream",
     "text": [
      "100%|██████████| 49/49 [00:00<00:00, 400.08it/s]\n"
     ]
    },
    {
     "name": "stdout",
     "output_type": "stream",
     "text": [
      "--- 0.13344860076904297 seconds for solution baseline ---\n",
      "initial solution\n"
     ]
    },
    {
     "name": "stderr",
     "output_type": "stream",
     "text": [
      "100%|██████████| 49/49 [00:00<00:00, 413.63it/s]\n"
     ]
    },
    {
     "name": "stdout",
     "output_type": "stream",
     "text": [
      "--- 0.1254260540008545 seconds for solution baseline ---\n",
      "initial solution\n"
     ]
    },
    {
     "name": "stderr",
     "output_type": "stream",
     "text": [
      "100%|██████████| 49/49 [00:00<00:00, 400.41it/s]\n"
     ]
    },
    {
     "name": "stdout",
     "output_type": "stream",
     "text": [
      "--- 0.1320939064025879 seconds for solution baseline ---\n",
      "initial solution\n"
     ]
    },
    {
     "name": "stderr",
     "output_type": "stream",
     "text": [
      "100%|██████████| 49/49 [00:00<00:00, 380.65it/s]\n"
     ]
    },
    {
     "name": "stdout",
     "output_type": "stream",
     "text": [
      "--- 0.13716673851013184 seconds for solution baseline ---\n",
      "initial solution\n"
     ]
    },
    {
     "name": "stderr",
     "output_type": "stream",
     "text": [
      "100%|██████████| 49/49 [00:00<00:00, 309.25it/s]"
     ]
    },
    {
     "name": "stdout",
     "output_type": "stream",
     "text": [
      "--- 0.16564106941223145 seconds for solution baseline ---\n",
      "initial solution\n"
     ]
    },
    {
     "name": "stderr",
     "output_type": "stream",
     "text": [
      "\n",
      "100%|██████████| 49/49 [00:00<00:00, 394.39it/s]\n"
     ]
    },
    {
     "name": "stdout",
     "output_type": "stream",
     "text": [
      "--- 0.13394951820373535 seconds for solution baseline ---\n",
      "initial solution\n"
     ]
    },
    {
     "name": "stderr",
     "output_type": "stream",
     "text": [
      "100%|██████████| 49/49 [00:00<00:00, 360.03it/s]\n"
     ]
    },
    {
     "name": "stdout",
     "output_type": "stream",
     "text": [
      "--- 0.14511561393737793 seconds for solution baseline ---\n",
      "initial solution\n"
     ]
    },
    {
     "name": "stderr",
     "output_type": "stream",
     "text": [
      "100%|██████████| 49/49 [00:00<00:00, 373.28it/s]\n"
     ]
    },
    {
     "name": "stdout",
     "output_type": "stream",
     "text": [
      "--- 0.13744640350341797 seconds for solution baseline ---\n",
      "initial solution\n"
     ]
    },
    {
     "name": "stderr",
     "output_type": "stream",
     "text": [
      "100%|██████████| 50/50 [00:00<00:00, 355.39it/s]\n"
     ]
    },
    {
     "name": "stdout",
     "output_type": "stream",
     "text": [
      "--- 0.1486968994140625 seconds for solution baseline ---\n",
      "initial solution\n"
     ]
    },
    {
     "name": "stderr",
     "output_type": "stream",
     "text": [
      "100%|██████████| 50/50 [00:00<00:00, 338.12it/s]\n"
     ]
    },
    {
     "name": "stdout",
     "output_type": "stream",
     "text": [
      "--- 0.15821409225463867 seconds for solution baseline ---\n",
      "initial solution\n"
     ]
    },
    {
     "name": "stderr",
     "output_type": "stream",
     "text": [
      "100%|██████████| 50/50 [00:00<00:00, 363.29it/s]"
     ]
    },
    {
     "name": "stdout",
     "output_type": "stream",
     "text": [
      "--- 0.14498257637023926 seconds for solution baseline ---\n",
      "initial solution\n"
     ]
    },
    {
     "name": "stderr",
     "output_type": "stream",
     "text": [
      "\n",
      "100%|██████████| 50/50 [00:00<00:00, 392.22it/s]\n"
     ]
    },
    {
     "name": "stdout",
     "output_type": "stream",
     "text": [
      "--- 0.1312720775604248 seconds for solution baseline ---\n",
      "initial solution\n"
     ]
    },
    {
     "name": "stderr",
     "output_type": "stream",
     "text": [
      "100%|██████████| 50/50 [00:00<00:00, 375.44it/s]\n"
     ]
    },
    {
     "name": "stdout",
     "output_type": "stream",
     "text": [
      "--- 0.1380612850189209 seconds for solution baseline ---\n",
      "initial solution\n"
     ]
    },
    {
     "name": "stderr",
     "output_type": "stream",
     "text": [
      "100%|██████████| 50/50 [00:00<00:00, 397.31it/s]\n"
     ]
    },
    {
     "name": "stdout",
     "output_type": "stream",
     "text": [
      "--- 0.13489794731140137 seconds for solution baseline ---\n",
      "initial solution\n"
     ]
    },
    {
     "name": "stderr",
     "output_type": "stream",
     "text": [
      "100%|██████████| 50/50 [00:00<00:00, 429.67it/s]\n"
     ]
    },
    {
     "name": "stdout",
     "output_type": "stream",
     "text": [
      "--- 0.12311959266662598 seconds for solution baseline ---\n",
      "initial solution\n"
     ]
    },
    {
     "name": "stderr",
     "output_type": "stream",
     "text": [
      "100%|██████████| 50/50 [00:00<00:00, 380.25it/s]\n"
     ]
    },
    {
     "name": "stdout",
     "output_type": "stream",
     "text": [
      "--- 0.20585036277770996 seconds for solution baseline ---\n",
      "initial solution\n"
     ]
    },
    {
     "name": "stderr",
     "output_type": "stream",
     "text": [
      "100%|██████████| 50/50 [00:00<00:00, 383.42it/s]\n"
     ]
    },
    {
     "name": "stdout",
     "output_type": "stream",
     "text": [
      "--- 0.14268994331359863 seconds for solution baseline ---\n",
      "initial solution\n"
     ]
    },
    {
     "name": "stderr",
     "output_type": "stream",
     "text": [
      "100%|██████████| 50/50 [00:00<00:00, 379.03it/s]\n"
     ]
    },
    {
     "name": "stdout",
     "output_type": "stream",
     "text": [
      "--- 0.1391162872314453 seconds for solution baseline ---\n",
      "initial solution\n"
     ]
    },
    {
     "name": "stderr",
     "output_type": "stream",
     "text": [
      "100%|██████████| 51/51 [00:00<00:00, 299.64it/s]\n"
     ]
    },
    {
     "name": "stdout",
     "output_type": "stream",
     "text": [
      "--- 0.17939329147338867 seconds for solution baseline ---\n",
      "initial solution\n"
     ]
    },
    {
     "name": "stderr",
     "output_type": "stream",
     "text": [
      "100%|██████████| 51/51 [00:00<00:00, 392.56it/s]\n"
     ]
    },
    {
     "name": "stdout",
     "output_type": "stream",
     "text": [
      "--- 0.13642239570617676 seconds for solution baseline ---\n",
      "initial solution\n"
     ]
    },
    {
     "name": "stderr",
     "output_type": "stream",
     "text": [
      "100%|██████████| 51/51 [00:00<00:00, 350.24it/s]\n"
     ]
    },
    {
     "name": "stdout",
     "output_type": "stream",
     "text": [
      "--- 0.15819478034973145 seconds for solution baseline ---\n",
      "initial solution\n"
     ]
    },
    {
     "name": "stderr",
     "output_type": "stream",
     "text": [
      "100%|██████████| 51/51 [00:00<00:00, 343.97it/s]\n"
     ]
    },
    {
     "name": "stdout",
     "output_type": "stream",
     "text": [
      "--- 0.15736842155456543 seconds for solution baseline ---\n",
      "initial solution\n"
     ]
    },
    {
     "name": "stderr",
     "output_type": "stream",
     "text": [
      "100%|██████████| 51/51 [00:00<00:00, 354.17it/s]"
     ]
    },
    {
     "name": "stdout",
     "output_type": "stream",
     "text": [
      "--- 0.15621376037597656 seconds for solution baseline ---\n",
      "initial solution\n"
     ]
    },
    {
     "name": "stderr",
     "output_type": "stream",
     "text": [
      "\n",
      "100%|██████████| 51/51 [00:00<00:00, 392.60it/s]"
     ]
    },
    {
     "name": "stdout",
     "output_type": "stream",
     "text": [
      "--- 0.14484906196594238 seconds for solution baseline ---\n"
     ]
    },
    {
     "name": "stderr",
     "output_type": "stream",
     "text": [
      "\n"
     ]
    },
    {
     "name": "stdout",
     "output_type": "stream",
     "text": [
      "initial solution\n"
     ]
    },
    {
     "name": "stderr",
     "output_type": "stream",
     "text": [
      "100%|██████████| 51/51 [00:00<00:00, 368.88it/s]"
     ]
    },
    {
     "name": "stdout",
     "output_type": "stream",
     "text": [
      "--- 0.14633965492248535 seconds for solution baseline ---\n"
     ]
    },
    {
     "name": "stderr",
     "output_type": "stream",
     "text": [
      "\n"
     ]
    },
    {
     "name": "stdout",
     "output_type": "stream",
     "text": [
      "initial solution\n"
     ]
    },
    {
     "name": "stderr",
     "output_type": "stream",
     "text": [
      "100%|██████████| 51/51 [00:00<00:00, 360.86it/s]"
     ]
    },
    {
     "name": "stdout",
     "output_type": "stream",
     "text": [
      "--- 0.14858126640319824 seconds for solution baseline ---\n"
     ]
    },
    {
     "name": "stderr",
     "output_type": "stream",
     "text": [
      "\n"
     ]
    },
    {
     "name": "stdout",
     "output_type": "stream",
     "text": [
      "initial solution\n"
     ]
    },
    {
     "name": "stderr",
     "output_type": "stream",
     "text": [
      "100%|██████████| 51/51 [00:00<00:00, 360.87it/s]"
     ]
    },
    {
     "name": "stdout",
     "output_type": "stream",
     "text": [
      "--- 0.15211796760559082 seconds for solution baseline ---\n"
     ]
    },
    {
     "name": "stderr",
     "output_type": "stream",
     "text": [
      "\n"
     ]
    },
    {
     "name": "stdout",
     "output_type": "stream",
     "text": [
      "initial solution\n"
     ]
    },
    {
     "name": "stderr",
     "output_type": "stream",
     "text": [
      "100%|██████████| 51/51 [00:00<00:00, 325.34it/s]\n"
     ]
    },
    {
     "name": "stdout",
     "output_type": "stream",
     "text": [
      "--- 0.1633312702178955 seconds for solution baseline ---\n",
      "initial solution\n"
     ]
    },
    {
     "name": "stderr",
     "output_type": "stream",
     "text": [
      "100%|██████████| 52/52 [00:00<00:00, 284.58it/s]\n"
     ]
    },
    {
     "name": "stdout",
     "output_type": "stream",
     "text": [
      "--- 0.19579672813415527 seconds for solution baseline ---\n",
      "initial solution\n"
     ]
    },
    {
     "name": "stderr",
     "output_type": "stream",
     "text": [
      "100%|██████████| 52/52 [00:00<00:00, 353.94it/s]\n"
     ]
    },
    {
     "name": "stdout",
     "output_type": "stream",
     "text": [
      "--- 0.15565752983093262 seconds for solution baseline ---\n",
      "initial solution\n"
     ]
    },
    {
     "name": "stderr",
     "output_type": "stream",
     "text": [
      "100%|██████████| 52/52 [00:00<00:00, 342.46it/s]\n"
     ]
    },
    {
     "name": "stdout",
     "output_type": "stream",
     "text": [
      "--- 0.15861868858337402 seconds for solution baseline ---\n",
      "initial solution\n"
     ]
    },
    {
     "name": "stderr",
     "output_type": "stream",
     "text": [
      "100%|██████████| 52/52 [00:00<00:00, 346.84it/s]\n"
     ]
    },
    {
     "name": "stdout",
     "output_type": "stream",
     "text": [
      "--- 0.22285723686218262 seconds for solution baseline ---\n",
      "initial solution\n"
     ]
    },
    {
     "name": "stderr",
     "output_type": "stream",
     "text": [
      "100%|██████████| 52/52 [00:00<00:00, 346.26it/s]\n"
     ]
    },
    {
     "name": "stdout",
     "output_type": "stream",
     "text": [
      "--- 0.15683722496032715 seconds for solution baseline ---\n",
      "initial solution\n"
     ]
    },
    {
     "name": "stderr",
     "output_type": "stream",
     "text": [
      "100%|██████████| 52/52 [00:00<00:00, 333.45it/s]\n"
     ]
    },
    {
     "name": "stdout",
     "output_type": "stream",
     "text": [
      "--- 0.16453123092651367 seconds for solution baseline ---\n",
      "initial solution\n"
     ]
    },
    {
     "name": "stderr",
     "output_type": "stream",
     "text": [
      "100%|██████████| 52/52 [00:00<00:00, 318.64it/s]\n"
     ]
    },
    {
     "name": "stdout",
     "output_type": "stream",
     "text": [
      "--- 0.168259859085083 seconds for solution baseline ---\n",
      "initial solution\n"
     ]
    },
    {
     "name": "stderr",
     "output_type": "stream",
     "text": [
      "100%|██████████| 52/52 [00:00<00:00, 335.58it/s]\n"
     ]
    },
    {
     "name": "stdout",
     "output_type": "stream",
     "text": [
      "--- 0.1636343002319336 seconds for solution baseline ---\n",
      "initial solution\n"
     ]
    },
    {
     "name": "stderr",
     "output_type": "stream",
     "text": [
      "100%|██████████| 52/52 [00:00<00:00, 354.45it/s]\n"
     ]
    },
    {
     "name": "stdout",
     "output_type": "stream",
     "text": [
      "--- 0.1548750400543213 seconds for solution baseline ---\n",
      "initial solution\n"
     ]
    },
    {
     "name": "stderr",
     "output_type": "stream",
     "text": [
      "100%|██████████| 52/52 [00:00<00:00, 347.98it/s]\n"
     ]
    },
    {
     "name": "stdout",
     "output_type": "stream",
     "text": [
      "--- 0.15682172775268555 seconds for solution baseline ---\n",
      "initial solution\n"
     ]
    },
    {
     "name": "stderr",
     "output_type": "stream",
     "text": [
      "100%|██████████| 53/53 [00:00<00:00, 294.23it/s]\n"
     ]
    },
    {
     "name": "stdout",
     "output_type": "stream",
     "text": [
      "--- 0.18942737579345703 seconds for solution baseline ---\n",
      "initial solution\n"
     ]
    },
    {
     "name": "stderr",
     "output_type": "stream",
     "text": [
      "100%|██████████| 53/53 [00:00<00:00, 300.13it/s]\n"
     ]
    },
    {
     "name": "stdout",
     "output_type": "stream",
     "text": [
      "--- 0.1817936897277832 seconds for solution baseline ---\n",
      "initial solution\n"
     ]
    },
    {
     "name": "stderr",
     "output_type": "stream",
     "text": [
      "100%|██████████| 53/53 [00:00<00:00, 317.07it/s]\n"
     ]
    },
    {
     "name": "stdout",
     "output_type": "stream",
     "text": [
      "--- 0.17702221870422363 seconds for solution baseline ---\n",
      "initial solution\n"
     ]
    },
    {
     "name": "stderr",
     "output_type": "stream",
     "text": [
      "100%|██████████| 53/53 [00:00<00:00, 337.33it/s]\n"
     ]
    },
    {
     "name": "stdout",
     "output_type": "stream",
     "text": [
      "--- 0.16668128967285156 seconds for solution baseline ---\n",
      "initial solution\n"
     ]
    },
    {
     "name": "stderr",
     "output_type": "stream",
     "text": [
      "100%|██████████| 53/53 [00:00<00:00, 264.17it/s]\n"
     ]
    },
    {
     "name": "stdout",
     "output_type": "stream",
     "text": [
      "--- 0.20810890197753906 seconds for solution baseline ---\n",
      "initial solution\n"
     ]
    },
    {
     "name": "stderr",
     "output_type": "stream",
     "text": [
      "100%|██████████| 53/53 [00:00<00:00, 319.34it/s]\n"
     ]
    },
    {
     "name": "stdout",
     "output_type": "stream",
     "text": [
      "--- 0.1659684181213379 seconds for solution baseline ---\n",
      "initial solution\n"
     ]
    },
    {
     "name": "stderr",
     "output_type": "stream",
     "text": [
      "100%|██████████| 53/53 [00:00<00:00, 326.56it/s]"
     ]
    },
    {
     "name": "stdout",
     "output_type": "stream",
     "text": [
      "--- 0.17141366004943848 seconds for solution baseline ---\n",
      "initial solution\n"
     ]
    },
    {
     "name": "stderr",
     "output_type": "stream",
     "text": [
      "\n",
      "100%|██████████| 53/53 [00:00<00:00, 310.12it/s]\n"
     ]
    },
    {
     "name": "stdout",
     "output_type": "stream",
     "text": [
      "--- 0.18119215965270996 seconds for solution baseline ---\n",
      "initial solution\n"
     ]
    },
    {
     "name": "stderr",
     "output_type": "stream",
     "text": [
      "100%|██████████| 53/53 [00:00<00:00, 228.56it/s]\n"
     ]
    },
    {
     "name": "stdout",
     "output_type": "stream",
     "text": [
      "--- 0.2344212532043457 seconds for solution baseline ---\n",
      "initial solution\n"
     ]
    },
    {
     "name": "stderr",
     "output_type": "stream",
     "text": [
      "100%|██████████| 53/53 [00:00<00:00, 336.08it/s]\n"
     ]
    },
    {
     "name": "stdout",
     "output_type": "stream",
     "text": [
      "--- 0.17199039459228516 seconds for solution baseline ---\n",
      "initial solution\n"
     ]
    },
    {
     "name": "stderr",
     "output_type": "stream",
     "text": [
      "100%|██████████| 54/54 [00:00<00:00, 287.12it/s]\n"
     ]
    },
    {
     "name": "stdout",
     "output_type": "stream",
     "text": [
      "--- 0.20111393928527832 seconds for solution baseline ---\n",
      "initial solution\n"
     ]
    },
    {
     "name": "stderr",
     "output_type": "stream",
     "text": [
      "100%|██████████| 54/54 [00:00<00:00, 299.80it/s]\n"
     ]
    },
    {
     "name": "stdout",
     "output_type": "stream",
     "text": [
      "--- 0.1880021095275879 seconds for solution baseline ---\n",
      "initial solution\n"
     ]
    },
    {
     "name": "stderr",
     "output_type": "stream",
     "text": [
      "100%|██████████| 54/54 [00:00<00:00, 299.79it/s]\n"
     ]
    },
    {
     "name": "stdout",
     "output_type": "stream",
     "text": [
      "--- 0.1820673942565918 seconds for solution baseline ---\n",
      "initial solution\n"
     ]
    },
    {
     "name": "stderr",
     "output_type": "stream",
     "text": [
      "100%|██████████| 54/54 [00:00<00:00, 311.61it/s]\n"
     ]
    },
    {
     "name": "stdout",
     "output_type": "stream",
     "text": [
      "--- 0.17874765396118164 seconds for solution baseline ---\n",
      "initial solution\n"
     ]
    },
    {
     "name": "stderr",
     "output_type": "stream",
     "text": [
      "100%|██████████| 54/54 [00:00<00:00, 309.80it/s]\n"
     ]
    },
    {
     "name": "stdout",
     "output_type": "stream",
     "text": [
      "--- 0.18192338943481445 seconds for solution baseline ---\n",
      "initial solution\n"
     ]
    },
    {
     "name": "stderr",
     "output_type": "stream",
     "text": [
      "100%|██████████| 54/54 [00:00<00:00, 301.43it/s]\n"
     ]
    },
    {
     "name": "stdout",
     "output_type": "stream",
     "text": [
      "--- 0.18965458869934082 seconds for solution baseline ---\n",
      "initial solution\n"
     ]
    },
    {
     "name": "stderr",
     "output_type": "stream",
     "text": [
      "100%|██████████| 54/54 [00:00<00:00, 290.98it/s]\n"
     ]
    },
    {
     "name": "stdout",
     "output_type": "stream",
     "text": [
      "--- 0.19716501235961914 seconds for solution baseline ---\n",
      "initial solution\n"
     ]
    },
    {
     "name": "stderr",
     "output_type": "stream",
     "text": [
      "100%|██████████| 54/54 [00:00<00:00, 300.31it/s]\n"
     ]
    },
    {
     "name": "stdout",
     "output_type": "stream",
     "text": [
      "--- 0.18935656547546387 seconds for solution baseline ---\n",
      "initial solution\n"
     ]
    },
    {
     "name": "stderr",
     "output_type": "stream",
     "text": [
      "100%|██████████| 54/54 [00:00<00:00, 303.56it/s]\n"
     ]
    },
    {
     "name": "stdout",
     "output_type": "stream",
     "text": [
      "--- 0.18408632278442383 seconds for solution baseline ---\n",
      "initial solution\n"
     ]
    },
    {
     "name": "stderr",
     "output_type": "stream",
     "text": [
      "100%|██████████| 54/54 [00:00<00:00, 268.06it/s]\n"
     ]
    },
    {
     "name": "stdout",
     "output_type": "stream",
     "text": [
      "--- 0.22075366973876953 seconds for solution baseline ---\n",
      "initial solution\n"
     ]
    },
    {
     "name": "stderr",
     "output_type": "stream",
     "text": [
      "100%|██████████| 55/55 [00:00<00:00, 299.12it/s]\n"
     ]
    },
    {
     "name": "stdout",
     "output_type": "stream",
     "text": [
      "--- 0.1902625560760498 seconds for solution baseline ---\n",
      "initial solution\n"
     ]
    },
    {
     "name": "stderr",
     "output_type": "stream",
     "text": [
      "100%|██████████| 55/55 [00:00<00:00, 308.48it/s]\n"
     ]
    },
    {
     "name": "stdout",
     "output_type": "stream",
     "text": [
      "--- 0.17829108238220215 seconds for solution baseline ---\n",
      "initial solution\n"
     ]
    },
    {
     "name": "stderr",
     "output_type": "stream",
     "text": [
      "100%|██████████| 55/55 [00:00<00:00, 256.67it/s]\n"
     ]
    },
    {
     "name": "stdout",
     "output_type": "stream",
     "text": [
      "--- 0.2235112190246582 seconds for solution baseline ---\n",
      "initial solution\n"
     ]
    },
    {
     "name": "stderr",
     "output_type": "stream",
     "text": [
      "100%|██████████| 55/55 [00:00<00:00, 280.68it/s]\n"
     ]
    },
    {
     "name": "stdout",
     "output_type": "stream",
     "text": [
      "--- 0.2962310314178467 seconds for solution baseline ---\n",
      "initial solution\n"
     ]
    },
    {
     "name": "stderr",
     "output_type": "stream",
     "text": [
      "100%|██████████| 55/55 [00:00<00:00, 302.20it/s]\n"
     ]
    },
    {
     "name": "stdout",
     "output_type": "stream",
     "text": [
      "--- 0.18886876106262207 seconds for solution baseline ---\n",
      "initial solution\n"
     ]
    },
    {
     "name": "stderr",
     "output_type": "stream",
     "text": [
      "100%|██████████| 55/55 [00:00<00:00, 272.96it/s]\n"
     ]
    },
    {
     "name": "stdout",
     "output_type": "stream",
     "text": [
      "--- 0.21277427673339844 seconds for solution baseline ---\n",
      "initial solution\n"
     ]
    },
    {
     "name": "stderr",
     "output_type": "stream",
     "text": [
      "100%|██████████| 55/55 [00:00<00:00, 259.26it/s]\n"
     ]
    },
    {
     "name": "stdout",
     "output_type": "stream",
     "text": [
      "--- 0.22224092483520508 seconds for solution baseline ---\n",
      "initial solution\n"
     ]
    },
    {
     "name": "stderr",
     "output_type": "stream",
     "text": [
      "100%|██████████| 55/55 [00:00<00:00, 298.68it/s]\n"
     ]
    },
    {
     "name": "stdout",
     "output_type": "stream",
     "text": [
      "--- 0.19083857536315918 seconds for solution baseline ---\n",
      "initial solution\n"
     ]
    },
    {
     "name": "stderr",
     "output_type": "stream",
     "text": [
      "100%|██████████| 55/55 [00:00<00:00, 281.41it/s]\n"
     ]
    },
    {
     "name": "stdout",
     "output_type": "stream",
     "text": [
      "--- 0.20607614517211914 seconds for solution baseline ---\n",
      "initial solution\n"
     ]
    },
    {
     "name": "stderr",
     "output_type": "stream",
     "text": [
      "100%|██████████| 55/55 [00:00<00:00, 282.21it/s]\n"
     ]
    },
    {
     "name": "stdout",
     "output_type": "stream",
     "text": [
      "--- 0.203779935836792 seconds for solution baseline ---\n",
      "initial solution\n"
     ]
    },
    {
     "name": "stderr",
     "output_type": "stream",
     "text": [
      "100%|██████████| 56/56 [00:00<00:00, 309.27it/s]\n"
     ]
    },
    {
     "name": "stdout",
     "output_type": "stream",
     "text": [
      "--- 0.19625639915466309 seconds for solution baseline ---\n",
      "initial solution\n"
     ]
    },
    {
     "name": "stderr",
     "output_type": "stream",
     "text": [
      "100%|██████████| 56/56 [00:00<00:00, 279.92it/s]\n"
     ]
    },
    {
     "name": "stdout",
     "output_type": "stream",
     "text": [
      "--- 0.2070751190185547 seconds for solution baseline ---\n",
      "initial solution\n"
     ]
    },
    {
     "name": "stderr",
     "output_type": "stream",
     "text": [
      "100%|██████████| 56/56 [00:00<00:00, 269.51it/s]\n"
     ]
    },
    {
     "name": "stdout",
     "output_type": "stream",
     "text": [
      "--- 0.21230673789978027 seconds for solution baseline ---\n",
      "initial solution\n"
     ]
    },
    {
     "name": "stderr",
     "output_type": "stream",
     "text": [
      "100%|██████████| 56/56 [00:00<00:00, 266.64it/s]\n"
     ]
    },
    {
     "name": "stdout",
     "output_type": "stream",
     "text": [
      "--- 0.21775174140930176 seconds for solution baseline ---\n",
      "initial solution\n"
     ]
    },
    {
     "name": "stderr",
     "output_type": "stream",
     "text": [
      "100%|██████████| 56/56 [00:00<00:00, 272.44it/s]\n"
     ]
    },
    {
     "name": "stdout",
     "output_type": "stream",
     "text": [
      "--- 0.213148832321167 seconds for solution baseline ---\n",
      "initial solution\n"
     ]
    },
    {
     "name": "stderr",
     "output_type": "stream",
     "text": [
      "100%|██████████| 56/56 [00:00<00:00, 206.41it/s]\n"
     ]
    },
    {
     "name": "stdout",
     "output_type": "stream",
     "text": [
      "--- 0.2793159484863281 seconds for solution baseline ---\n",
      "initial solution\n"
     ]
    },
    {
     "name": "stderr",
     "output_type": "stream",
     "text": [
      "100%|██████████| 56/56 [00:00<00:00, 243.51it/s]\n"
     ]
    },
    {
     "name": "stdout",
     "output_type": "stream",
     "text": [
      "--- 0.31516075134277344 seconds for solution baseline ---\n",
      "initial solution\n"
     ]
    },
    {
     "name": "stderr",
     "output_type": "stream",
     "text": [
      "100%|██████████| 56/56 [00:00<00:00, 251.92it/s]\n"
     ]
    },
    {
     "name": "stdout",
     "output_type": "stream",
     "text": [
      "--- 0.2385108470916748 seconds for solution baseline ---\n",
      "initial solution\n"
     ]
    },
    {
     "name": "stderr",
     "output_type": "stream",
     "text": [
      "100%|██████████| 56/56 [00:00<00:00, 288.33it/s]\n"
     ]
    },
    {
     "name": "stdout",
     "output_type": "stream",
     "text": [
      "--- 0.2033219337463379 seconds for solution baseline ---\n",
      "initial solution\n"
     ]
    },
    {
     "name": "stderr",
     "output_type": "stream",
     "text": [
      "100%|██████████| 56/56 [00:00<00:00, 276.06it/s]\n"
     ]
    },
    {
     "name": "stdout",
     "output_type": "stream",
     "text": [
      "--- 0.2124476432800293 seconds for solution baseline ---\n",
      "initial solution\n"
     ]
    },
    {
     "name": "stderr",
     "output_type": "stream",
     "text": [
      "100%|██████████| 57/57 [00:00<00:00, 264.37it/s]\n"
     ]
    },
    {
     "name": "stdout",
     "output_type": "stream",
     "text": [
      "--- 0.22891592979431152 seconds for solution baseline ---\n",
      "initial solution\n"
     ]
    },
    {
     "name": "stderr",
     "output_type": "stream",
     "text": [
      "100%|██████████| 57/57 [00:00<00:00, 233.85it/s]\n"
     ]
    },
    {
     "name": "stdout",
     "output_type": "stream",
     "text": [
      "--- 0.25031208992004395 seconds for solution baseline ---\n",
      "initial solution\n"
     ]
    },
    {
     "name": "stderr",
     "output_type": "stream",
     "text": [
      "100%|██████████| 57/57 [00:00<00:00, 238.76it/s]\n"
     ]
    },
    {
     "name": "stdout",
     "output_type": "stream",
     "text": [
      "--- 0.24640130996704102 seconds for solution baseline ---\n",
      "initial solution\n"
     ]
    },
    {
     "name": "stderr",
     "output_type": "stream",
     "text": [
      "100%|██████████| 57/57 [00:00<00:00, 252.23it/s]\n"
     ]
    },
    {
     "name": "stdout",
     "output_type": "stream",
     "text": [
      "--- 0.23180460929870605 seconds for solution baseline ---\n",
      "initial solution\n"
     ]
    },
    {
     "name": "stderr",
     "output_type": "stream",
     "text": [
      "100%|██████████| 57/57 [00:00<00:00, 263.52it/s]\n"
     ]
    },
    {
     "name": "stdout",
     "output_type": "stream",
     "text": [
      "--- 0.2203991413116455 seconds for solution baseline ---\n",
      "initial solution\n"
     ]
    },
    {
     "name": "stderr",
     "output_type": "stream",
     "text": [
      "100%|██████████| 57/57 [00:00<00:00, 258.02it/s]\n"
     ]
    },
    {
     "name": "stdout",
     "output_type": "stream",
     "text": [
      "--- 0.22734737396240234 seconds for solution baseline ---\n",
      "initial solution\n"
     ]
    },
    {
     "name": "stderr",
     "output_type": "stream",
     "text": [
      "100%|██████████| 57/57 [00:00<00:00, 259.36it/s]\n"
     ]
    },
    {
     "name": "stdout",
     "output_type": "stream",
     "text": [
      "--- 0.22522211074829102 seconds for solution baseline ---\n",
      "initial solution\n"
     ]
    },
    {
     "name": "stderr",
     "output_type": "stream",
     "text": [
      "100%|██████████| 57/57 [00:00<00:00, 266.31it/s]\n"
     ]
    },
    {
     "name": "stdout",
     "output_type": "stream",
     "text": [
      "--- 0.22483420372009277 seconds for solution baseline ---\n",
      "initial solution\n"
     ]
    },
    {
     "name": "stderr",
     "output_type": "stream",
     "text": [
      "100%|██████████| 57/57 [00:00<00:00, 261.73it/s]\n"
     ]
    },
    {
     "name": "stdout",
     "output_type": "stream",
     "text": [
      "--- 0.3003120422363281 seconds for solution baseline ---\n",
      "initial solution\n"
     ]
    },
    {
     "name": "stderr",
     "output_type": "stream",
     "text": [
      "100%|██████████| 57/57 [00:00<00:00, 234.75it/s]\n"
     ]
    },
    {
     "name": "stdout",
     "output_type": "stream",
     "text": [
      "--- 0.2509610652923584 seconds for solution baseline ---\n",
      "initial solution\n"
     ]
    },
    {
     "name": "stderr",
     "output_type": "stream",
     "text": [
      "100%|██████████| 58/58 [00:00<00:00, 222.80it/s]\n"
     ]
    },
    {
     "name": "stdout",
     "output_type": "stream",
     "text": [
      "--- 0.27022337913513184 seconds for solution baseline ---\n",
      "initial solution\n"
     ]
    },
    {
     "name": "stderr",
     "output_type": "stream",
     "text": [
      "100%|██████████| 58/58 [00:00<00:00, 243.43it/s]\n"
     ]
    },
    {
     "name": "stdout",
     "output_type": "stream",
     "text": [
      "--- 0.24610447883605957 seconds for solution baseline ---\n",
      "initial solution\n"
     ]
    },
    {
     "name": "stderr",
     "output_type": "stream",
     "text": [
      "100%|██████████| 58/58 [00:00<00:00, 220.15it/s]\n"
     ]
    },
    {
     "name": "stdout",
     "output_type": "stream",
     "text": [
      "--- 0.2756211757659912 seconds for solution baseline ---\n",
      "initial solution\n"
     ]
    },
    {
     "name": "stderr",
     "output_type": "stream",
     "text": [
      "100%|██████████| 58/58 [00:00<00:00, 229.54it/s]\n"
     ]
    },
    {
     "name": "stdout",
     "output_type": "stream",
     "text": [
      "--- 0.2619631290435791 seconds for solution baseline ---\n",
      "initial solution\n"
     ]
    },
    {
     "name": "stderr",
     "output_type": "stream",
     "text": [
      "100%|██████████| 58/58 [00:00<00:00, 232.01it/s]\n"
     ]
    },
    {
     "name": "stdout",
     "output_type": "stream",
     "text": [
      "--- 0.26158690452575684 seconds for solution baseline ---\n",
      "initial solution\n"
     ]
    },
    {
     "name": "stderr",
     "output_type": "stream",
     "text": [
      "100%|██████████| 58/58 [00:00<00:00, 260.98it/s]\n"
     ]
    },
    {
     "name": "stdout",
     "output_type": "stream",
     "text": [
      "--- 0.22833728790283203 seconds for solution baseline ---\n",
      "initial solution\n"
     ]
    },
    {
     "name": "stderr",
     "output_type": "stream",
     "text": [
      "100%|██████████| 58/58 [00:00<00:00, 245.16it/s]\n"
     ]
    },
    {
     "name": "stdout",
     "output_type": "stream",
     "text": [
      "--- 0.2472667694091797 seconds for solution baseline ---\n",
      "initial solution\n"
     ]
    },
    {
     "name": "stderr",
     "output_type": "stream",
     "text": [
      "100%|██████████| 58/58 [00:00<00:00, 239.22it/s]\n"
     ]
    },
    {
     "name": "stdout",
     "output_type": "stream",
     "text": [
      "--- 0.24959468841552734 seconds for solution baseline ---\n",
      "initial solution\n"
     ]
    },
    {
     "name": "stderr",
     "output_type": "stream",
     "text": [
      "100%|██████████| 58/58 [00:00<00:00, 207.90it/s]\n"
     ]
    },
    {
     "name": "stdout",
     "output_type": "stream",
     "text": [
      "--- 0.2889580726623535 seconds for solution baseline ---\n",
      "initial solution\n"
     ]
    },
    {
     "name": "stderr",
     "output_type": "stream",
     "text": [
      "100%|██████████| 58/58 [00:00<00:00, 228.05it/s]\n"
     ]
    },
    {
     "name": "stdout",
     "output_type": "stream",
     "text": [
      "--- 0.26511621475219727 seconds for solution baseline ---\n",
      "initial solution\n"
     ]
    },
    {
     "name": "stderr",
     "output_type": "stream",
     "text": [
      "100%|██████████| 59/59 [00:00<00:00, 241.07it/s]\n"
     ]
    },
    {
     "name": "stdout",
     "output_type": "stream",
     "text": [
      "--- 0.3354036808013916 seconds for solution baseline ---\n",
      "initial solution\n"
     ]
    },
    {
     "name": "stderr",
     "output_type": "stream",
     "text": [
      "100%|██████████| 59/59 [00:00<00:00, 245.25it/s]\n"
     ]
    },
    {
     "name": "stdout",
     "output_type": "stream",
     "text": [
      "--- 0.24890470504760742 seconds for solution baseline ---\n",
      "initial solution\n"
     ]
    },
    {
     "name": "stderr",
     "output_type": "stream",
     "text": [
      "100%|██████████| 59/59 [00:00<00:00, 228.27it/s]\n"
     ]
    },
    {
     "name": "stdout",
     "output_type": "stream",
     "text": [
      "--- 0.26511073112487793 seconds for solution baseline ---\n",
      "initial solution\n"
     ]
    },
    {
     "name": "stderr",
     "output_type": "stream",
     "text": [
      "100%|██████████| 59/59 [00:00<00:00, 198.90it/s]\n"
     ]
    },
    {
     "name": "stdout",
     "output_type": "stream",
     "text": [
      "--- 0.3062455654144287 seconds for solution baseline ---\n",
      "initial solution\n"
     ]
    },
    {
     "name": "stderr",
     "output_type": "stream",
     "text": [
      "100%|██████████| 59/59 [00:00<00:00, 254.69it/s]\n"
     ]
    },
    {
     "name": "stdout",
     "output_type": "stream",
     "text": [
      "--- 0.23998332023620605 seconds for solution baseline ---\n",
      "initial solution\n"
     ]
    },
    {
     "name": "stderr",
     "output_type": "stream",
     "text": [
      "100%|██████████| 59/59 [00:00<00:00, 225.50it/s]\n"
     ]
    },
    {
     "name": "stdout",
     "output_type": "stream",
     "text": [
      "--- 0.27723073959350586 seconds for solution baseline ---\n",
      "initial solution\n"
     ]
    },
    {
     "name": "stderr",
     "output_type": "stream",
     "text": [
      "100%|██████████| 59/59 [00:00<00:00, 241.83it/s]\n"
     ]
    },
    {
     "name": "stdout",
     "output_type": "stream",
     "text": [
      "--- 0.2535533905029297 seconds for solution baseline ---\n",
      "initial solution\n"
     ]
    },
    {
     "name": "stderr",
     "output_type": "stream",
     "text": [
      "100%|██████████| 59/59 [00:00<00:00, 209.20it/s]\n"
     ]
    },
    {
     "name": "stdout",
     "output_type": "stream",
     "text": [
      "--- 0.28987860679626465 seconds for solution baseline ---\n",
      "initial solution\n"
     ]
    },
    {
     "name": "stderr",
     "output_type": "stream",
     "text": [
      "100%|██████████| 59/59 [00:00<00:00, 211.83it/s]\n"
     ]
    },
    {
     "name": "stdout",
     "output_type": "stream",
     "text": [
      "--- 0.2856743335723877 seconds for solution baseline ---\n",
      "initial solution\n"
     ]
    },
    {
     "name": "stderr",
     "output_type": "stream",
     "text": [
      "100%|██████████| 59/59 [00:00<00:00, 247.18it/s]\n"
     ]
    },
    {
     "name": "stdout",
     "output_type": "stream",
     "text": [
      "--- 0.25357484817504883 seconds for solution baseline ---\n",
      "initial solution\n"
     ]
    },
    {
     "name": "stderr",
     "output_type": "stream",
     "text": [
      "100%|██████████| 60/60 [00:00<00:00, 228.06it/s]\n"
     ]
    },
    {
     "name": "stdout",
     "output_type": "stream",
     "text": [
      "--- 0.2688918113708496 seconds for solution baseline ---\n",
      "initial solution\n"
     ]
    },
    {
     "name": "stderr",
     "output_type": "stream",
     "text": [
      "100%|██████████| 60/60 [00:00<00:00, 228.19it/s]\n"
     ]
    },
    {
     "name": "stdout",
     "output_type": "stream",
     "text": [
      "--- 0.3540611267089844 seconds for solution baseline ---\n",
      "initial solution\n"
     ]
    },
    {
     "name": "stderr",
     "output_type": "stream",
     "text": [
      "100%|██████████| 60/60 [00:00<00:00, 219.57it/s]\n"
     ]
    },
    {
     "name": "stdout",
     "output_type": "stream",
     "text": [
      "--- 0.28362584114074707 seconds for solution baseline ---\n",
      "initial solution\n"
     ]
    },
    {
     "name": "stderr",
     "output_type": "stream",
     "text": [
      "100%|██████████| 60/60 [00:00<00:00, 214.80it/s]\n"
     ]
    },
    {
     "name": "stdout",
     "output_type": "stream",
     "text": [
      "--- 0.2853400707244873 seconds for solution baseline ---\n",
      "initial solution\n"
     ]
    },
    {
     "name": "stderr",
     "output_type": "stream",
     "text": [
      "100%|██████████| 60/60 [00:00<00:00, 218.62it/s]\n"
     ]
    },
    {
     "name": "stdout",
     "output_type": "stream",
     "text": [
      "--- 0.2877237796783447 seconds for solution baseline ---\n",
      "initial solution\n"
     ]
    },
    {
     "name": "stderr",
     "output_type": "stream",
     "text": [
      "100%|██████████| 60/60 [00:00<00:00, 217.10it/s]\n"
     ]
    },
    {
     "name": "stdout",
     "output_type": "stream",
     "text": [
      "--- 0.2790515422821045 seconds for solution baseline ---\n",
      "initial solution\n"
     ]
    },
    {
     "name": "stderr",
     "output_type": "stream",
     "text": [
      "100%|██████████| 60/60 [00:00<00:00, 225.36it/s]\n"
     ]
    },
    {
     "name": "stdout",
     "output_type": "stream",
     "text": [
      "--- 0.28234195709228516 seconds for solution baseline ---\n",
      "initial solution\n"
     ]
    },
    {
     "name": "stderr",
     "output_type": "stream",
     "text": [
      "100%|██████████| 60/60 [00:00<00:00, 197.49it/s]\n"
     ]
    },
    {
     "name": "stdout",
     "output_type": "stream",
     "text": [
      "--- 0.31272339820861816 seconds for solution baseline ---\n",
      "initial solution\n"
     ]
    },
    {
     "name": "stderr",
     "output_type": "stream",
     "text": [
      "100%|██████████| 60/60 [00:00<00:00, 233.51it/s]\n"
     ]
    },
    {
     "name": "stdout",
     "output_type": "stream",
     "text": [
      "--- 0.2656846046447754 seconds for solution baseline ---\n",
      "initial solution\n"
     ]
    },
    {
     "name": "stderr",
     "output_type": "stream",
     "text": [
      "100%|██████████| 60/60 [00:00<00:00, 224.35it/s]\n"
     ]
    },
    {
     "name": "stdout",
     "output_type": "stream",
     "text": [
      "--- 0.27725720405578613 seconds for solution baseline ---\n",
      "Taille       Temps moyen  Score moyen \n",
      "11           3.7          272.54545454545456\n",
      "12           4.5          449.2333333333334\n",
      "13           5.6          558.2384615384615\n",
      "14           4.9          797.6928571428572\n",
      "15           5.8          813.9733333333334\n",
      "16           5.3          1172.525    \n",
      "17           5.8          1373.7470588235294\n",
      "18           7.2          1565.35     \n",
      "19           10.3         2068.415789473684\n",
      "20           11.2         2223.32     \n",
      "21           12.2         2402.3952380952383\n",
      "22           12.8         2849.5272727272727\n",
      "23           13.4         3307.317391304348\n",
      "24           15.7         3803.775    \n",
      "25           14.4         3239.472    \n",
      "26           26.1         4221.3115384615385\n",
      "27           19.6         4389.451851851852\n",
      "28           23.1         5024.746428571429\n",
      "29           27.4         4999.520689655173\n",
      "30           27.7         5962.333333333334\n",
      "31           36.7         6065.974193548387\n",
      "32           31.5         6094.246875 \n",
      "33           37.3         6180.660606060606\n",
      "34           46.1         7246.2029411764715\n",
      "35           45.1         6926.077142857143\n",
      "36           47.8         8351.627777777778\n",
      "37           55.8         8602.456756756757\n",
      "38           55.3         8890.821052631578\n",
      "39           74.1         8794.589743589744\n",
      "40           73.1         9730.377499999999\n",
      "41           78.3         8610.846341463413\n",
      "42           85.5         11020.119047619048\n",
      "43           90.8         10797.30465116279\n",
      "44           106.8        9958.554545454546\n",
      "45           109.0        10733.788888888888\n",
      "46           122.6        10858.139130434782\n",
      "47           118.8        10752.308510638297\n",
      "48           134.3        11708.44375 \n",
      "49           140.3        10968.971428571429\n",
      "50           150.7        12038.083999999999\n",
      "51           156.6        11787.9     \n",
      "52           175.1        12517.036538461538\n",
      "53           188.2        12108.209433962264\n",
      "54           196.3        13495.43148148148\n",
      "55           215.5        12466.083636363637\n",
      "56           233.2        13382.148214285717\n",
      "57           243.6        12370.078947368422\n",
      "58           262.4        15053.73275862069\n",
      "59           278.5        13017.757627118644\n",
      "60           293.3        14411.598333333333\n"
     ]
    }
   ],
   "source": [
    "resultats_am_locale = measure_range(main_amelioration, problems)\n",
    "\n",
    "display_data_as_table(resultats_am_locale)"
   ]
  },
  {
   "cell_type": "code",
   "execution_count": 16,
   "metadata": {},
   "outputs": [
    {
     "data": {
      "image/png": "[encoded data removed]",
      "text/plain": [
       "<Figure size 640x480 with 1 Axes>"
      ]
     },
     "metadata": {},
     "output_type": "display_data"
    }
   ],
   "source": [
    "dict_am_locale = dict_from_measures(resultats_am_locale)\n",
    "\n",
    "test_de_puissance(dict_am_locale, \"nombre d'éléments dans la liste\", 'temps moyen de tri (ms)', \"Test de puissance Merge sort nombre d'éléments\")"
   ]
  },
  {
   "cell_type": "code",
   "execution_count": 17,
   "metadata": {},
   "outputs": [
    {
     "data": {
      "image/png": "[encoded data removed]",
      "text/plain": [
       "<Figure size 640x480 with 1 Axes>"
      ]
     },
     "metadata": {},
     "output_type": "display_data"
    }
   ],
   "source": [
    "test_de_rapport(change_to_predict(resultats_am_locale, lambda x: x**4), \"rapport entre n log(n) et les augmentations de temps\", \"nombre d'items à balancer dans les deux listes combinées\" , \"Test de rapport sur l'algorithme glouton\")"
   ]
  },
  {
   "cell_type": "markdown",
   "metadata": {},
   "source": [
    "### Amélioration locale\n",
    "\n",
    "Ceci était un essaie qui ne fonctionne pas de calculer indépendamment l'amélioration locale"
   ]
  },
  {
   "cell_type": "code",
   "execution_count": null,
   "metadata": {},
   "outputs": [],
   "source": [
    "# def main_preparation(sample):\n",
    "#     start_time = time.time()\n",
    "#     n = len(sample)\n",
    "#     target = 500 * n\n",
    "#     counties = set_counties(sample)\n",
    "#     sol, groups = max_to_target(counties, target, n)\n",
    "#     return (sol, groups, sample, n, target, counties)\n",
    "    "
   ]
  },
  {
   "cell_type": "code",
   "execution_count": null,
   "metadata": {},
   "outputs": [
    {
     "name": "stderr",
     "output_type": "stream",
     "text": [
      "100%|██████████| 11/11 [00:00<?, ?it/s]\n",
      "100%|██████████| 11/11 [00:00<?, ?it/s]\n",
      "100%|██████████| 11/11 [00:00<?, ?it/s]\n",
      "100%|██████████| 11/11 [00:00<00:00, 8816.61it/s]\n",
      "100%|██████████| 11/11 [00:00<?, ?it/s]\n",
      "100%|██████████| 11/11 [00:00<?, ?it/s]\n",
      "100%|██████████| 11/11 [00:00<?, ?it/s]\n",
      "100%|██████████| 11/11 [00:00<?, ?it/s]\n",
      "100%|██████████| 11/11 [00:00<00:00, 6270.36it/s]\n",
      "100%|██████████| 11/11 [00:00<?, ?it/s]\n",
      "100%|██████████| 12/12 [00:00<?, ?it/s]\n",
      "100%|██████████| 12/12 [00:00<00:00, 7961.35it/s]\n",
      "100%|██████████| 12/12 [00:00<00:00, 8226.81it/s]\n",
      "100%|██████████| 12/12 [00:00<00:00, 9225.01it/s]\n",
      "100%|██████████| 12/12 [00:00<?, ?it/s]\n",
      "100%|██████████| 12/12 [00:00<00:00, 2395.83it/s]\n",
      "100%|██████████| 12/12 [00:00<00:00, 4677.66it/s]\n",
      "100%|██████████| 12/12 [00:00<00:00, 11826.05it/s]\n",
      "100%|██████████| 12/12 [00:00<00:00, 6579.30it/s]\n",
      "100%|██████████| 12/12 [00:00<00:00, 5135.88it/s]\n",
      "100%|██████████| 13/13 [00:00<00:00, 2142.31it/s]\n",
      "100%|██████████| 13/13 [00:00<?, ?it/s]\n",
      "100%|██████████| 13/13 [00:00<00:00, 1588.98it/s]\n",
      "100%|██████████| 13/13 [00:00<00:00, 4680.34it/s]\n",
      "100%|██████████| 13/13 [00:00<00:00, 9293.67it/s]\n",
      "100%|██████████| 13/13 [00:00<00:00, 4909.15it/s]\n",
      "100%|██████████| 13/13 [00:00<00:00, 4930.91it/s]\n",
      "100%|██████████| 13/13 [00:00<?, ?it/s]\n",
      "100%|██████████| 13/13 [00:00<00:00, 9904.81it/s]\n",
      "100%|██████████| 13/13 [00:00<?, ?it/s]\n",
      "100%|██████████| 14/14 [00:00<00:00, 4565.05it/s]\n",
      "100%|██████████| 14/14 [00:00<00:00, 3495.88it/s]\n",
      "100%|██████████| 14/14 [00:00<00:00, 4693.12it/s]\n",
      "100%|██████████| 14/14 [00:00<00:00, 5183.64it/s]\n",
      "100%|██████████| 14/14 [00:00<?, ?it/s]\n",
      "100%|██████████| 14/14 [00:00<00:00, 11751.10it/s]\n",
      "100%|██████████| 14/14 [00:00<?, ?it/s]\n",
      "100%|██████████| 14/14 [00:00<00:00, 3956.09it/s]\n",
      "100%|██████████| 14/14 [00:00<00:00, 5782.40it/s]\n",
      "100%|██████████| 14/14 [00:00<00:00, 13852.38it/s]\n"
     ]
    }
   ],
   "source": [
    "# problems = make_problems([x for x in range(11, 15)], 10)\n",
    "# resultats_initials = {\"solutions_initiales\": [],\n",
    "#                        \"groupes\": [],\n",
    "#                        \"samples\": [],\n",
    "#                        \"ns\": [],\n",
    "#                        \"targets\": [], \n",
    "#                        \"counties\": []}\n",
    "# for prob in problems:\n",
    "#     solutions_initiales, groupes, samples, ns, targets, counties = [], [], [], [], [], []\n",
    "#     sols = [main_preparation(sample) for sample in prob.generate_dataset()]\n",
    "#     for sol in sols:\n",
    "#         solutions_initiales.append(sol[0])\n",
    "#         groupes.append(sol[1])\n",
    "#         samples.append(sol[2])\n",
    "#         ns.append(sol[3])\n",
    "#         targets.append(sol[4])\n",
    "#         counties.append(sol[5])\n",
    "    \n",
    "#     resultats_initials[\"solutions_initiales\"].append(solutions_initiales)\n",
    "#     resultats_initials[\"groupes\"].append(groupes)\n",
    "#     resultats_initials[\"samples\"].append(samples)\n",
    "#     resultats_initials[\"ns\"].append(ns)\n",
    "#     resultats_initials[\"targets\"].append(targets)\n",
    "#     resultats_initials[\"counties\"].append(counties)\n",
    "\n"
   ]
  },
  {
   "cell_type": "code",
   "execution_count": null,
   "metadata": {},
   "outputs": [],
   "source": [
    "\n",
    "# def main_amelioration(sample, resultats_initials):\n",
    "#     start_time = time.time()\n",
    "#     max_time = 60 * 3 - 1\n",
    "#     n = len(sample)\n",
    "#     target = resultats_initials\n",
    "#     counties = resultats_initials[\"counties\"]\n",
    "#     print('initial solution')\n",
    "#     sol, groups = max_to_target(counties, target, n)\n",
    "#     if (time.time() - start_time) > max_time:\n",
    "#         return sol\n",
    "#     print(\"--- %s seconds for solution baseline ---\" % (time.time() - start_time))\n",
    "\n",
    "#     first_iter = True\n",
    "#     iter_time = time.time()\n",
    "#     time_to_iter = 0\n",
    "#     print('improvement')\n",
    "#     while(True):\n",
    "#         updated = amelioration_locale(groups, target, n, sample, sol)\n",
    "#         sol = updated"
   ]
  },
  {
   "cell_type": "code",
   "execution_count": null,
   "metadata": {},
   "outputs": [
    {
     "name": "stdout",
     "output_type": "stream",
     "text": [
      "[[[[<__main__.County object at 0x00000281101177A0>, <__main__.County object at 0x0000028110117140>, <__main__.County object at 0x0000028110116750>, <__main__.County object at 0x0000028110156D50>, <__main__.County object at 0x0000028110157F50>, <__main__.County object at 0x0000028110146660>, <__main__.County object at 0x0000028110147AD0>, <__main__.County object at 0x0000028110114140>, <__main__.County object at 0x0000028110116F00>, <__main__.County object at 0x0000028110116210>, <__main__.County object at 0x0000028110117110>], [<__main__.County object at 0x000002811010D340>, <__main__.County object at 0x000002811010CE60>, <__main__.County object at 0x00000281101A8C20>, <__main__.County object at 0x0000028110145550>, <__main__.County object at 0x0000028110147530>, <__main__.County object at 0x0000028110145EB0>, <__main__.County object at 0x0000028110147B90>, <__main__.County object at 0x0000028110116810>, <__main__.County object at 0x00000281101150D0>, <__main__.County object at 0x00000281100252B0>, <__main__.County object at 0x0000028110145F10>], [<__main__.County object at 0x0000028110147A70>, <__main__.County object at 0x0000028110146AB0>, <__main__.County object at 0x0000028110145670>, <__main__.County object at 0x00000281101AB350>, <__main__.County object at 0x000002811010D220>, <__main__.County object at 0x000002811010CB90>, <__main__.County object at 0x000002811010D430>, <__main__.County object at 0x000002811010D3D0>, <__main__.County object at 0x000002811010CF50>, <__main__.County object at 0x000002811010CEC0>, <__main__.County object at 0x0000028110147380>], [<__main__.County object at 0x000002811010DB80>, <__main__.County object at 0x000002811010E0C0>, <__main__.County object at 0x000002811010E120>, <__main__.County object at 0x000002811010DCA0>, <__main__.County object at 0x000002811010D6D0>, <__main__.County object at 0x000002811010D0A0>, <__main__.County object at 0x000002811010D3A0>, <__main__.County object at 0x000002811010D670>, <__main__.County object at 0x000002811010D370>, <__main__.County object at 0x000002811010C320>, <__main__.County object at 0x000002811010ED80>], [<__main__.County object at 0x000002811010CB00>, <__main__.County object at 0x000002811010D700>, <__main__.County object at 0x000002811010D0D0>, <__main__.County object at 0x000002811010E270>, <__main__.County object at 0x000002811010E2D0>, <__main__.County object at 0x000002811010E030>, <__main__.County object at 0x000002811010E210>, <__main__.County object at 0x000002811010DBB0>, <__main__.County object at 0x000002811010DA90>, <__main__.County object at 0x000002811010E060>, <__main__.County object at 0x000002811010C5F0>], [<__main__.County object at 0x00000281101472F0>, <__main__.County object at 0x00000281101F69C0>, <__main__.County object at 0x000002811010DCD0>, <__main__.County object at 0x0000028110145CD0>, <__main__.County object at 0x00000281101459D0>, <__main__.County object at 0x0000028110155FA0>, <__main__.County object at 0x0000028110146C00>, <__main__.County object at 0x000002811010D8B0>, <__main__.County object at 0x000002811010D1F0>, <__main__.County object at 0x000002811010CA10>, <__main__.County object at 0x000002811010D250>], [<__main__.County object at 0x000002811010C6E0>, <__main__.County object at 0x000002811010F230>, <__main__.County object at 0x00000281101ABA10>, <__main__.County object at 0x00000281101AB140>, <__main__.County object at 0x0000028110145940>, <__main__.County object at 0x000002811010D9D0>, <__main__.County object at 0x000002811010D4F0>, <__main__.County object at 0x000002811010DDC0>, <__main__.County object at 0x000002811010DFD0>, <__main__.County object at 0x000002811010E1B0>, <__main__.County object at 0x000002811010DEE0>], [<__main__.County object at 0x000002817E2C6E40>, <__main__.County object at 0x000002817E2C7E00>, <__main__.County object at 0x00000281101148F0>, <__main__.County object at 0x000002817FBC4B60>, <__main__.County object at 0x000002817FD9DAF0>, <__main__.County object at 0x0000028110157E30>, <__main__.County object at 0x000002814C4754F0>, <__main__.County object at 0x0000028110114C20>, <__main__.County object at 0x000002814C477080>, <__main__.County object at 0x000002814C476420>, <__main__.County object at 0x000002814C477F50>], [<__main__.County object at 0x000002814C477E60>, <__main__.County object at 0x000002814C477E30>, <__main__.County object at 0x000002811010D820>, <__main__.County object at 0x000002811010D5B0>, <__main__.County object at 0x000002811010D850>, <__main__.County object at 0x000002811010CC80>, <__main__.County object at 0x000002811010DD00>, <__main__.County object at 0x000002811010DEB0>, <__main__.County object at 0x000002811010D280>, <__main__.County object at 0x000002811010D7C0>, <__main__.County object at 0x00000281101A95E0>], [<__main__.County object at 0x0000028110144F80>, <__main__.County object at 0x00000281101A90D0>, <__main__.County object at 0x0000028110145C70>, <__main__.County object at 0x000002811010D460>, <__main__.County object at 0x000002811010F920>, <__main__.County object at 0x000002811010D610>, <__main__.County object at 0x000002811010D190>, <__main__.County object at 0x000002811010DD60>, <__main__.County object at 0x000002811010DC70>, <__main__.County object at 0x000002811010E180>, <__main__.County object at 0x000002811010D760>], [<__main__.County object at 0x0000028110114830>, <__main__.County object at 0x000002811010DF10>, <__main__.County object at 0x000002811010D550>, <__main__.County object at 0x000002811010D970>, <__main__.County object at 0x000002811010D9A0>, <__main__.County object at 0x000002811010DAC0>, <__main__.County object at 0x0000028110145DF0>, <__main__.County object at 0x0000028110145E80>, <__main__.County object at 0x0000028110154A70>, <__main__.County object at 0x0000028110116240>, <__main__.County object at 0x000002817FBC5DC0>]], [[<__main__.County object at 0x000002811010C1D0>, <__main__.County object at 0x000002811010F680>, <__main__.County object at 0x000002811010F440>, <__main__.County object at 0x000002811010F470>, <__main__.County object at 0x000002811010FE00>, <__main__.County object at 0x000002811010FB60>, <__main__.County object at 0x000002811010FB00>, <__main__.County object at 0x000002811010F500>, <__main__.County object at 0x000002811010FD40>, <__main__.County object at 0x000002811010F740>, <__main__.County object at 0x000002811010E8A0>], [<__main__.County object at 0x0000028110116ED0>, <__main__.County object at 0x000002811010E5D0>, <__main__.County object at 0x000002811010E4E0>, <__main__.County object at 0x000002814C476480>, <__main__.County object at 0x000002811010E510>, <__main__.County object at 0x000002811010E630>, <__main__.County object at 0x000002811010E900>, <__main__.County object at 0x000002811010E3F0>, <__main__.County object at 0x000002811010EE10>, <__main__.County object at 0x000002811010EBA0>, <__main__.County object at 0x000002811010E7E0>], [<__main__.County object at 0x000002811010FD10>, <__main__.County object at 0x000002811010ED20>, <__main__.County object at 0x000002811010DB20>, <__main__.County object at 0x000002811010E7B0>, <__main__.County object at 0x000002811010E840>, <__main__.County object at 0x000002811010F890>, <__main__.County object at 0x000002811010E570>, <__main__.County object at 0x000002811010C0E0>, <__main__.County object at 0x000002811010FBF0>, <__main__.County object at 0x000002811010E3C0>, <__main__.County object at 0x000002811010FEC0>], [<__main__.County object at 0x000002817FE618E0>, <__main__.County object at 0x000002817FE61910>, <__main__.County object at 0x000002817FE61700>, <__main__.County object at 0x000002811010C080>, <__main__.County object at 0x000002811010FDD0>, <__main__.County object at 0x000002817FE61940>, <__main__.County object at 0x000002817FE60590>, <__main__.County object at 0x000002817FE614C0>, <__main__.County object at 0x000002817FE61280>, <__main__.County object at 0x000002811010C1A0>, <__main__.County object at 0x000002817FE618B0>], [<__main__.County object at 0x000002811010E6C0>, <__main__.County object at 0x000002811010DA00>, <__main__.County object at 0x000002811010DA60>, <__main__.County object at 0x000002811010E600>, <__main__.County object at 0x000002811010E6F0>, <__main__.County object at 0x000002811010DC10>, <__main__.County object at 0x000002811010EC00>, <__main__.County object at 0x00000281101478F0>, <__main__.County object at 0x0000028110146BA0>, <__main__.County object at 0x000002811010E660>, <__main__.County object at 0x00000281101452E0>], [<__main__.County object at 0x000002811010E390>, <__main__.County object at 0x000002811010F5F0>, <__main__.County object at 0x000002811010F710>, <__main__.County object at 0x000002811010E4B0>, <__main__.County object at 0x000002811010ECF0>, <__main__.County object at 0x000002811010FAA0>, <__main__.County object at 0x000002811010FA10>, <__main__.County object at 0x000002811010F860>, <__main__.County object at 0x000002811010FD70>, <__main__.County object at 0x000002811010F7A0>, <__main__.County object at 0x000002811010FA70>], [<__main__.County object at 0x000002817FE61880>, <__main__.County object at 0x000002817FE616A0>, <__main__.County object at 0x000002817FE613A0>, <__main__.County object at 0x000002817FE616D0>, <__main__.County object at 0x000002817FE61850>, <__main__.County object at 0x000002817FE61310>, <__main__.County object at 0x000002811010F410>, <__main__.County object at 0x000002811010FF50>, <__main__.County object at 0x00000281100E4350>, <__main__.County object at 0x000002811010F530>, <__main__.County object at 0x000002811010EFC0>], [<__main__.County object at 0x000002811010D5E0>, <__main__.County object at 0x00000281101A8F20>, <__main__.County object at 0x0000028110147110>, <__main__.County object at 0x000002811010CCE0>, <__main__.County object at 0x00000281100E7170>, <__main__.County object at 0x000002817FE61760>, <__main__.County object at 0x000002817FE61730>, <__main__.County object at 0x000002817FE617F0>, <__main__.County object at 0x000002811010F8C0>, <__main__.County object at 0x000002811010FEF0>, <__main__.County object at 0x000002811010FFE0>], [<__main__.County object at 0x000002811010DE20>, <__main__.County object at 0x000002811010EA50>, <__main__.County object at 0x000002811010E8D0>, <__main__.County object at 0x000002811010DE50>, <__main__.County object at 0x000002811010EC60>, <__main__.County object at 0x000002811010DE80>, <__main__.County object at 0x000002811010F6E0>, <__main__.County object at 0x000002811010FBC0>, <__main__.County object at 0x000002811010F560>, <__main__.County object at 0x000002811010F620>, <__main__.County object at 0x000002811010FC50>], [<__main__.County object at 0x000002811010F830>, <__main__.County object at 0x000002811010FCB0>, <__main__.County object at 0x00000281100E6150>, <__main__.County object at 0x00000281100E70E0>, <__main__.County object at 0x000002811010FF80>, <__main__.County object at 0x00000281100E4770>, <__main__.County object at 0x000002817FE61520>, <__main__.County object at 0x000002817FE61A00>, <__main__.County object at 0x000002811010FE30>, <__main__.County object at 0x000002811010EDE0>, <__main__.County object at 0x000002811010E750>], [<__main__.County object at 0x000002811010ECC0>, <__main__.County object at 0x000002811010F8F0>, <__main__.County object at 0x000002811010F770>, <__main__.County object at 0x000002811010EF00>, <__main__.County object at 0x000002811010FF20>, <__main__.County object at 0x00000281100E60C0>, <__main__.County object at 0x000002811010F590>, <__main__.County object at 0x000002817FE61820>, <__main__.County object at 0x000002817FE61400>, <__main__.County object at 0x000002817FE61490>, <__main__.County object at 0x0000028110154590>]], [[<__main__.County object at 0x00000281102CA450>, <__main__.County object at 0x00000281102CBE00>, <__main__.County object at 0x00000281107EBB30>, <__main__.County object at 0x000002817FDEA900>, <__main__.County object at 0x000002817FDE8380>, <__main__.County object at 0x000002817FCB3F20>, <__main__.County object at 0x000002817FCB27E0>, <__main__.County object at 0x0000028110562000>, <__main__.County object at 0x00000281101C5700>, <__main__.County object at 0x000002817FCB0260>, <__main__.County object at 0x00000281107EA930>], [<__main__.County object at 0x000002817FC88D70>, <__main__.County object at 0x000002817FC8A8D0>, <__main__.County object at 0x000002817FD1A840>, <__main__.County object at 0x000002817FD1B410>, <__main__.County object at 0x00000281107695B0>, <__main__.County object at 0x000002817FC88530>, <__main__.County object at 0x000002817FC8A9C0>, <__main__.County object at 0x000002817FC8AE10>, <__main__.County object at 0x000002817FC8BA70>, <__main__.County object at 0x000002811032AC00>, <__main__.County object at 0x000002817FC89FA0>], [<__main__.County object at 0x000002817FE61D30>, <__main__.County object at 0x00000281101C6C90>, <__main__.County object at 0x0000028110560D10>, <__main__.County object at 0x000002817FE63D40>, <__main__.County object at 0x000002817FE61DC0>, <__main__.County object at 0x00000281101FF080>, <__main__.County object at 0x000002817FE619A0>, <__main__.County object at 0x000002817FE61550>, <__main__.County object at 0x00000281101FC440>, <__main__.County object at 0x0000028110443170>, <__main__.County object at 0x000002817FFA2930>], [<__main__.County object at 0x000002817FE61A60>, <__main__.County object at 0x00000281101A9C10>, <__main__.County object at 0x000002817FE61AC0>, <__main__.County object at 0x000002811010EA20>, <__main__.County object at 0x00000281101C6CC0>, <__main__.County object at 0x00000281105630E0>, <__main__.County object at 0x00000281101C76B0>, <__main__.County object at 0x0000028110561100>, <__main__.County object at 0x000002817FCB33E0>, <__main__.County object at 0x000002817FE61AF0>, <__main__.County object at 0x000002811053C4D0>], [<__main__.County object at 0x000002811032A780>, <__main__.County object at 0x000002817FDE94C0>, <__main__.County object at 0x000002817FDE8590>, <__main__.County object at 0x000002817FDEA7B0>, <__main__.County object at 0x000002811032A6C0>, <__main__.County object at 0x00000281104420C0>, <__main__.County object at 0x000002817FDF9A60>, <__main__.County object at 0x0000028110443770>, <__main__.County object at 0x0000028110442A20>, <__main__.County object at 0x0000028110442060>, <__main__.County object at 0x00000281107E9D30>], [<__main__.County object at 0x000002817FE619D0>, <__main__.County object at 0x000002817FE61A30>, <__main__.County object at 0x0000028110147B60>, <__main__.County object at 0x000002817FE61B20>, <__main__.County object at 0x000002817FE61D90>, <__main__.County object at 0x00000281101C78F0>, <__main__.County object at 0x000002817FE62D50>, <__main__.County object at 0x000002817FE61D60>, <__main__.County object at 0x0000028110561B50>, <__main__.County object at 0x000002817FCB3470>, <__main__.County object at 0x0000028110561700>], [<__main__.County object at 0x000002817FD1A5A0>, <__main__.County object at 0x000002817FD1B5C0>, <__main__.County object at 0x000002811076B410>, <__main__.County object at 0x000002817FD18BC0>, <__main__.County object at 0x000002817FD1A420>, <__main__.County object at 0x000002817FD1ACC0>, <__main__.County object at 0x000002817FD187D0>, <__main__.County object at 0x000002817FD1B290>, <__main__.County object at 0x000002817FC88A40>, <__main__.County object at 0x00000281102C9CD0>, <__main__.County object at 0x000002817FD189E0>], [<__main__.County object at 0x00000281107E9DC0>, <__main__.County object at 0x00000281102CB050>, <__main__.County object at 0x000002817FC89820>, <__main__.County object at 0x00000281107E9070>, <__main__.County object at 0x000002811053F740>, <__main__.County object at 0x000002817FC8B020>, <__main__.County object at 0x000002817FC8AD20>, <__main__.County object at 0x000002817FD18C20>, <__main__.County object at 0x000002817FC897C0>, <__main__.County object at 0x00000281105FD880>, <__main__.County object at 0x00000281105FD790>], [<__main__.County object at 0x00000281101C4140>, <__main__.County object at 0x0000028110562FF0>, <__main__.County object at 0x0000028110562A20>, <__main__.County object at 0x00000281101C7980>, <__main__.County object at 0x000002811053E4E0>, <__main__.County object at 0x0000028110442B10>, <__main__.County object at 0x00000281107EA3C0>, <__main__.County object at 0x000002811032A120>, <__main__.County object at 0x00000281107EB830>, <__main__.County object at 0x000002817FCB1B50>, <__main__.County object at 0x000002811032A810>], [<__main__.County object at 0x000002817FE61970>, <__main__.County object at 0x000002817FCB12B0>, <__main__.County object at 0x0000028110563500>, <__main__.County object at 0x000002817FCB05F0>, <__main__.County object at 0x00000281101FEA80>, <__main__.County object at 0x00000281107E9880>, <__main__.County object at 0x000002811032AA50>, <__main__.County object at 0x000002817FC89010>, <__main__.County object at 0x000002817FC89C40>, <__main__.County object at 0x000002817FD1B320>, <__main__.County object at 0x000002811076B740>], [<__main__.County object at 0x000002817FD18D40>, <__main__.County object at 0x000002817FC8B380>, <__main__.County object at 0x000002817FC8B560>, <__main__.County object at 0x000002817FDF9E50>, <__main__.County object at 0x00000281107EAB10>, <__main__.County object at 0x000002811076B590>, <__main__.County object at 0x000002817FD191F0>, <__main__.County object at 0x000002811076A3C0>, <__main__.County object at 0x000002817FD1A870>, <__main__.County object at 0x000002817FE61D00>, <__main__.County object at 0x00000281101C62A0>]], [[<__main__.County object at 0x000002811017CDD0>, <__main__.County object at 0x000002811052F0B0>, <__main__.County object at 0x000002811017CF20>, <__main__.County object at 0x000002811017CB30>, <__main__.County object at 0x000002817FC6EC30>, <__main__.County object at 0x000002811052FB90>, <__main__.County object at 0x000002811052E030>, <__main__.County object at 0x000002811052FD40>, <__main__.County object at 0x000002811052D100>, <__main__.County object at 0x000002811002D970>, <__main__.County object at 0x000002811052DB20>], [<__main__.County object at 0x000002817FF74650>, <__main__.County object at 0x000002817FF75640>, <__main__.County object at 0x000002817FF76930>, <__main__.County object at 0x000002817FE238F0>, <__main__.County object at 0x000002817FE20440>, <__main__.County object at 0x000002817FE20BF0>, <__main__.County object at 0x000002817FA0B4D0>, <__main__.County object at 0x000002817FF76330>, <__main__.County object at 0x000002817FF74320>, <__main__.County object at 0x000002811052C680>, <__main__.County object at 0x0000028110308200>], [<__main__.County object at 0x000002811017C9E0>, <__main__.County object at 0x000002811017CA10>, <__main__.County object at 0x000002811052EE10>, <__main__.County object at 0x000002811052E330>, <__main__.County object at 0x000002811052D640>, <__main__.County object at 0x000002811052FAD0>, <__main__.County object at 0x000002817FE22330>, <__main__.County object at 0x000002817FE21190>, <__main__.County object at 0x000002811017D0D0>, <__main__.County object at 0x000002811017CA40>, <__main__.County object at 0x000002811017CFE0>], [<__main__.County object at 0x00000281105FD5B0>, <__main__.County object at 0x00000281105FD670>, <__main__.County object at 0x00000281105FF5F0>, <__main__.County object at 0x00000281105FD6A0>, <__main__.County object at 0x0000028110154D70>, <__main__.County object at 0x000002817FF74200>, <__main__.County object at 0x00000281101768D0>, <__main__.County object at 0x000002817FE20F20>, <__main__.County object at 0x000002817FE201A0>, <__main__.County object at 0x000002817FE23950>, <__main__.County object at 0x000002811052F290>], [<__main__.County object at 0x0000028110309CA0>, <__main__.County object at 0x000002817FF77CE0>, <__main__.County object at 0x000002817FE214F0>, <__main__.County object at 0x000002817FF75610>, <__main__.County object at 0x000002817FF74EC0>, <__main__.County object at 0x000002811000DAC0>, <__main__.County object at 0x000002817FF76210>, <__main__.County object at 0x0000028110176750>, <__main__.County object at 0x00000281101757F0>, <__main__.County object at 0x000002817FE22BD0>, <__main__.County object at 0x0000028110176300>], [<__main__.County object at 0x000002811017C9B0>, <__main__.County object at 0x000002811017D430>, <__main__.County object at 0x000002811002D850>, <__main__.County object at 0x000002811052EF00>, <__main__.County object at 0x000002811017D0A0>, <__main__.County object at 0x000002811017CC50>, <__main__.County object at 0x000002811017D370>, <__main__.County object at 0x000002817FC6C110>, <__main__.County object at 0x000002817FF62210>, <__main__.County object at 0x000002811017D040>, <__main__.County object at 0x000002811017D130>], [<__main__.County object at 0x000002811000E870>, <__main__.County object at 0x0000028110157E60>, <__main__.County object at 0x000002817FF76ED0>, <__main__.County object at 0x000002811000E6F0>, <__main__.County object at 0x000002817FF75B80>, <__main__.County object at 0x000002817FF61B80>, <__main__.County object at 0x000002817FC6E090>, <__main__.County object at 0x000002817FC6E390>, <__main__.County object at 0x00000281101BE1E0>, <__main__.County object at 0x000002817FC6CA70>, <__main__.County object at 0x000002817FC6E000>], [<__main__.County object at 0x000002817FC6D5E0>, <__main__.County object at 0x000002817FC6E030>, <__main__.County object at 0x000002817FF61550>, <__main__.County object at 0x00000281101BFAD0>, <__main__.County object at 0x00000281101BDA90>, <__main__.County object at 0x000002817FF61790>, <__main__.County object at 0x000002817FC6EAB0>, <__main__.County object at 0x000002811017C980>, <__main__.County object at 0x000002817FC6E0F0>, <__main__.County object at 0x000002817FF76270>, <__main__.County object at 0x000002817FF77140>], [<__main__.County object at 0x000002811052CF50>, <__main__.County object at 0x000002817FE23290>, <__main__.County object at 0x000002811052C590>, <__main__.County object at 0x000002811052F830>, <__main__.County object at 0x000002811052D040>, <__main__.County object at 0x000002811052FC20>, <__main__.County object at 0x000002811002DFD0>, <__main__.County object at 0x000002811002C5C0>, <__main__.County object at 0x000002811052EF90>, <__main__.County object at 0x000002811052E510>, <__main__.County object at 0x000002811052D070>], [<__main__.County object at 0x000002817FE224E0>, <__main__.County object at 0x000002817FE23BF0>, <__main__.County object at 0x000002817FE200E0>, <__main__.County object at 0x000002817FE20470>, <__main__.County object at 0x000002811052E870>, <__main__.County object at 0x000002817FE21E20>, <__main__.County object at 0x0000028110309700>, <__main__.County object at 0x000002811017CDA0>, <__main__.County object at 0x000002817FF626F0>, <__main__.County object at 0x000002817FF62750>, <__main__.County object at 0x000002817FF61D90>], [<__main__.County object at 0x000002811052FB30>, <__main__.County object at 0x000002817FC6DD30>, <__main__.County object at 0x000002817FC6F530>, <__main__.County object at 0x000002811017CC80>, <__main__.County object at 0x000002817FF60EF0>, <__main__.County object at 0x000002817FC6ED50>, <__main__.County object at 0x000002817FAE6390>, <__main__.County object at 0x000002817FF639E0>, <__main__.County object at 0x000002817FC6F3E0>, <__main__.County object at 0x00000281101BEFC0>, <__main__.County object at 0x000002811052EE40>]], [[<__main__.County object at 0x000002817FC78950>, <__main__.County object at 0x000002817FC78980>, <__main__.County object at 0x000002817FC78770>, <__main__.County object at 0x000002817FC78B90>, <__main__.County object at 0x000002817FC787A0>, <__main__.County object at 0x000002817FC78590>, <__main__.County object at 0x000002817FC785C0>, <__main__.County object at 0x000002817FC783B0>, <__main__.County object at 0x000002817FC785F0>, <__main__.County object at 0x000002817FC78800>, <__main__.County object at 0x000002817FC787D0>], [<__main__.County object at 0x000002817FC78A70>, <__main__.County object at 0x000002817FC78A40>, <__main__.County object at 0x000002817FC78C50>, <__main__.County object at 0x000002817FC78C20>, <__main__.County object at 0x000002817FC78A10>, <__main__.County object at 0x000002817FC78860>, <__main__.County object at 0x000002817FC78AA0>, <__main__.County object at 0x000002817FC78CB0>, <__main__.County object at 0x000002817FC78EC0>, <__main__.County object at 0x000002817FC78CE0>, <__main__.County object at 0x000002817FC78C80>], [<__main__.County object at 0x000002817FC782F0>, <__main__.County object at 0x000002817FC47E90>, <__main__.County object at 0x000002817FF61160>, <__main__.County object at 0x000002817FC782C0>, <__main__.County object at 0x000002817FC78290>, <__main__.County object at 0x000002817FC78260>, <__main__.County object at 0x000002817FC784A0>, <__main__.County object at 0x000002817FC786B0>, <__main__.County object at 0x000002817FC784D0>, <__main__.County object at 0x000002817FC78680>, <__main__.County object at 0x000002817FC78650>], [<__main__.County object at 0x000002817FC78530>, <__main__.County object at 0x000002817FC78320>, <__main__.County object at 0x000002817FC78740>, <__main__.County object at 0x000002817FC467B0>, <__main__.County object at 0x00000281100628A0>, <__main__.County object at 0x0000028110063AA0>, <__main__.County object at 0x000002817FF62480>, <__main__.County object at 0x000002817FC78380>, <__main__.County object at 0x0000028110178440>, <__main__.County object at 0x0000028110178950>, <__main__.County object at 0x0000028110179580>], [<__main__.County object at 0x000002817FC78410>, <__main__.County object at 0x000002817FC78440>, <__main__.County object at 0x000002817FC78170>, <__main__.County object at 0x000002811010EB10>, <__main__.County object at 0x000002811000F620>, <__main__.County object at 0x000002817FC78470>, <__main__.County object at 0x000002817FF63C80>, <__main__.County object at 0x000002811032A030>, <__main__.County object at 0x000002817FC78620>, <__main__.County object at 0x0000028110579730>, <__main__.County object at 0x000002817FC78830>], [<__main__.County object at 0x000002817FF62600>, <__main__.County object at 0x00000281100632F0>, <__main__.County object at 0x000002817FF63650>, <__main__.County object at 0x000002817FF630E0>, <__main__.County object at 0x000002817FF60F80>, <__main__.County object at 0x000002817FC78200>, <__main__.County object at 0x000002817FC78230>, <__main__.County object at 0x000002817FF61A30>, <__main__.County object at 0x000002817FF60CE0>, <__main__.County object at 0x000002817FF63350>, <__main__.County object at 0x000002817FC783E0>], [<__main__.County object at 0x000002817FC78DD0>, <__main__.County object at 0x000002817FC78E00>, <__main__.County object at 0x000002817FC79010>, <__main__.County object at 0x000002817FC79040>, <__main__.County object at 0x000002817FC78DA0>, <__main__.County object at 0x000002817FC78FB0>, <__main__.County object at 0x000002817FC78FE0>, <__main__.County object at 0x000002817FC791F0>, <__main__.County object at 0x000002817FC79220>, <__main__.County object at 0x000002817FC791C0>, <__main__.County object at 0x000002817FC78D70>], [<__main__.County object at 0x000002817FC78F20>, <__main__.County object at 0x000002817FC78F50>, <__main__.County object at 0x000002817FC79160>, <__main__.County object at 0x000002817FC79370>, <__main__.County object at 0x000002817FC78D40>, <__main__.County object at 0x000002817FC79130>, <__main__.County object at 0x000002817FC79100>, <__main__.County object at 0x000002817FC790D0>, <__main__.County object at 0x000002817FC792E0>, <__main__.County object at 0x000002817FC790A0>, <__main__.County object at 0x000002817FC78EF0>], [<__main__.County object at 0x000002817FF60560>, <__main__.County object at 0x000002817FC47230>, <__main__.County object at 0x000002817FF60A10>, <__main__.County object at 0x000002817FC78710>, <__main__.County object at 0x000002817FC786E0>, <__main__.County object at 0x000002817FC78500>, <__main__.County object at 0x000002817FC78920>, <__main__.County object at 0x000002817FC788F0>, <__main__.County object at 0x000002817FC788C0>, <__main__.County object at 0x000002817FC78890>, <__main__.County object at 0x000002817FC78AD0>], [<__main__.County object at 0x000002817FC79280>, <__main__.County object at 0x000002817FC79070>, <__main__.County object at 0x000002817FC78E60>, <__main__.County object at 0x000002817FC78E90>, <__main__.County object at 0x000002817FC78E30>, <__main__.County object at 0x000002817FC79250>, <__main__.County object at 0x000002817FC792B0>, <__main__.County object at 0x000002817FC78B60>, <__main__.County object at 0x000002817FC78BC0>, <__main__.County object at 0x000002817FC78BF0>, <__main__.County object at 0x000002817FC789E0>], [<__main__.County object at 0x000002817FC78560>, <__main__.County object at 0x000002817FC78350>, <__main__.County object at 0x000002817FC79190>, <__main__.County object at 0x000002817FC78F80>, <__main__.County object at 0x000002817FC78B30>, <__main__.County object at 0x000002817FC78B00>, <__main__.County object at 0x000002817FC78D10>, <__main__.County object at 0x000002817FC79310>, <__main__.County object at 0x000002817FC79340>, <__main__.County object at 0x000002817FC789B0>, <__main__.County object at 0x000002817FF62630>]], [[<__main__.County object at 0x000002817FC79400>, <__main__.County object at 0x000002817FC795E0>, <__main__.County object at 0x000002817FC79610>, <__main__.County object at 0x000002817FC793D0>, <__main__.County object at 0x000002817FC79B50>, <__main__.County object at 0x000002817FC79AF0>, <__main__.County object at 0x000002817FC799D0>, <__main__.County object at 0x000002817FC79BB0>, <__main__.County object at 0x000002817FC79DC0>, <__main__.County object at 0x000002817FC79B80>, <__main__.County object at 0x000002817FC79A60>], [<__main__.County object at 0x00000281101C4D70>, <__main__.County object at 0x000002817FC793A0>, <__main__.County object at 0x000002817FC79670>, <__main__.County object at 0x000002817FC795B0>, <__main__.County object at 0x000002817FC79A90>, <__main__.County object at 0x000002817FC796D0>, <__main__.County object at 0x000002817FC79A00>, <__main__.County object at 0x000002817FC799A0>, <__main__.County object at 0x000002817FC794C0>, <__main__.County object at 0x000002817FC794F0>, <__main__.County object at 0x000002817FC79910>], [<__main__.County object at 0x000002817FC7A780>, <__main__.County object at 0x000002817FC7A7B0>, <__main__.County object at 0x000002817FC7A7E0>, <__main__.County object at 0x000002817FC7A9F0>, <__main__.County object at 0x000002817FC7AA20>, <__main__.County object at 0x000002817FC7AC00>, <__main__.County object at 0x000002817FC7A570>, <__main__.County object at 0x000002817FC7A360>, <__main__.County object at 0x000002817FC7A150>, <__main__.County object at 0x000002817FC7A330>, <__main__.County object at 0x000002817FC7A5D0>], [<__main__.County object at 0x000002817FC79E80>, <__main__.County object at 0x000002817FC7A090>, <__main__.County object at 0x000002817FC7A2A0>, <__main__.County object at 0x000002817FC79EB0>, <__main__.County object at 0x000002817FC79EE0>, <__main__.County object at 0x000002817FC7A0F0>, <__main__.County object at 0x000002817FC79F10>, <__main__.County object at 0x000002817FC7A2D0>, <__main__.County object at 0x000002817FC7A4E0>, <__main__.County object at 0x000002817FC7A510>, <__main__.County object at 0x000002817FC7A6F0>], [<__main__.County object at 0x000002817FC79A30>, <__main__.County object at 0x000002817FC79520>, <__main__.County object at 0x000002817FC79460>, <__main__.County object at 0x000002817FC79430>, <__main__.County object at 0x000002817FC79640>, <__main__.County object at 0x000002817FC796A0>, <__main__.County object at 0x000002817FC79C10>, <__main__.County object at 0x000002817FC79BE0>, <__main__.County object at 0x000002817FC79DF0>, <__main__.County object at 0x000002817FC7A000>, <__main__.County object at 0x000002817FC7A210>], [<__main__.County object at 0x000002817FC7A1B0>, <__main__.County object at 0x000002817FC7A1E0>, <__main__.County object at 0x000002817FC7A3C0>, <__main__.County object at 0x000002817FC79FD0>, <__main__.County object at 0x000002817FC7A180>, <__main__.County object at 0x000002817FC79F70>, <__main__.County object at 0x000002817FC79F40>, <__main__.County object at 0x000002817FC79D30>, <__main__.County object at 0x000002817FC79FA0>, <__main__.County object at 0x000002817FC79D90>, <__main__.County object at 0x000002817FC79D60>], [<__main__.County object at 0x000002817FC7A6C0>, <__main__.County object at 0x000002817FC7A8D0>, <__main__.County object at 0x000002817FC7A690>, <__main__.County object at 0x000002817FC7A480>, <__main__.County object at 0x000002817FC7A8A0>, <__main__.County object at 0x000002817FC7AAB0>, <__main__.County object at 0x000002817FC7AAE0>, <__main__.County object at 0x000002817FC7AB10>, <__main__.County object at 0x000002817FC7A270>, <__main__.County object at 0x000002817FC7A060>, <__main__.County object at 0x000002817FC79E50>], [<__main__.County object at 0x000002817FC7A960>, <__main__.County object at 0x000002817FC7AB70>, <__main__.County object at 0x000002817FC7ABA0>, <__main__.County object at 0x000002817FC7A930>, <__main__.County object at 0x000002817FC7A750>, <__main__.County object at 0x000002817FC7A540>, <__main__.County object at 0x000002817FC7A720>, <__main__.County object at 0x000002817FC7ABD0>, <__main__.County object at 0x000002817FC7A9C0>, <__main__.County object at 0x000002817FC7A990>, <__main__.County object at 0x000002817FC7AB40>], [<__main__.County object at 0x000002817FC79C40>, <__main__.County object at 0x000002817FC79C70>, <__main__.County object at 0x000002817FC79CA0>, <__main__.County object at 0x000002817FC79CD0>, <__main__.County object at 0x000002817FC79D00>, <__main__.County object at 0x000002817FC7AC90>, <__main__.County object at 0x000002817FC7AA80>, <__main__.County object at 0x000002817FC7A870>, <__main__.County object at 0x000002817FC7A840>, <__main__.County object at 0x000002817FC7A810>, <__main__.County object at 0x000002817FC7A600>], [<__main__.County object at 0x000002817FC7A300>, <__main__.County object at 0x000002817FC7A420>, <__main__.County object at 0x000002817FC7A450>, <__main__.County object at 0x000002817FC7A240>, <__main__.County object at 0x000002817FC7A030>, <__main__.County object at 0x000002817FC7A3F0>, <__main__.County object at 0x000002817FC7A630>, <__main__.County object at 0x000002817FC7A660>, <__main__.County object at 0x000002817FC79E20>, <__main__.County object at 0x000002817FC7AC60>, <__main__.County object at 0x000002817FC7AC30>], [<__main__.County object at 0x00000281101465D0>, <__main__.County object at 0x000002817FE61BB0>, <__main__.County object at 0x000002817FC79B20>, <__main__.County object at 0x000002817FC79490>, <__main__.County object at 0x000002817FC7A0C0>, <__main__.County object at 0x000002817FC7A4B0>, <__main__.County object at 0x000002817FC7A900>, <__main__.County object at 0x000002817FC7A5A0>, <__main__.County object at 0x000002817FC7A390>, <__main__.County object at 0x000002817FC7A120>, <__main__.County object at 0x000002817FC7AA50>]], [[<__main__.County object at 0x000002817FC7B380>, <__main__.County object at 0x000002817FC7B500>, <__main__.County object at 0x000002817FC7B710>, <__main__.County object at 0x000002817FC7B530>, <__main__.County object at 0x000002817FC7B560>, <__main__.County object at 0x000002817FC7B590>, <__main__.County object at 0x000002817FC7B410>, <__main__.County object at 0x000002817FC7B5C0>, <__main__.County object at 0x000002817FC7B5F0>, <__main__.County object at 0x000002817FC7B3B0>, <__main__.County object at 0x000002817FC7B920>], [<__main__.County object at 0x000002817FC7B230>, <__main__.County object at 0x000002817FC7B260>, <__main__.County object at 0x000002817FC79550>, <__main__.County object at 0x000002817FC7AEA0>, <__main__.County object at 0x000002817FC7AD50>, <__main__.County object at 0x000002817FC7B200>, <__main__.County object at 0x000002817FC7B1D0>, <__main__.County object at 0x000002817FC7B110>, <__main__.County object at 0x000002817FC7AF90>, <__main__.County object at 0x000002817FC7B020>, <__main__.County object at 0x000002817FC7AD80>], [<__main__.County object at 0x000002817FC7AF00>, <__main__.County object at 0x000002817FC7B320>, <__main__.County object at 0x000002817FC7B140>, <__main__.County object at 0x000002817FC7AED0>, <__main__.County object at 0x000002817FC7ADB0>, <__main__.County object at 0x000002817FC7B4D0>, <__main__.County object at 0x000002817FC7B0B0>, <__main__.County object at 0x000002817FC7B350>, <__main__.County object at 0x000002817FC7B6B0>, <__main__.County object at 0x000002817FC7B8C0>, <__main__.County object at 0x000002817FC7BAD0>], [<__main__.County object at 0x000002817FC7B800>, <__main__.County object at 0x000002817FC7B830>, <__main__.County object at 0x000002817FC7BA40>, <__main__.County object at 0x000002817FC7B620>, <__main__.County object at 0x000002817FC7BC50>, <__main__.County object at 0x000002817FC7BE60>, <__main__.County object at 0x000002817FC7BE90>, <__main__.County object at 0x000002817FC7C0B0>, <__main__.County object at 0x000002817FC7C080>, <__main__.County object at 0x000002817FC79580>, <__main__.County object at 0x000002817FC7BEC0>], [<__main__.County object at 0x000002817FC7ACC0>, <__main__.County object at 0x000002817FC7ACF0>, <__main__.County object at 0x000002817FC7AD20>, <__main__.County object at 0x000002817FC7AF30>, <__main__.County object at 0x000002817FC7AF60>, <__main__.County object at 0x000002817FC7AE70>, <__main__.County object at 0x000002817FC7AFF0>, <__main__.County object at 0x000002817FC89940>, <__main__.County object at 0x00000281105A9850>, <__main__.County object at 0x000002817FC7AFC0>, <__main__.County object at 0x000002817FC7ADE0>], [<__main__.County object at 0x000002817FC7BF80>, <__main__.County object at 0x000002817FC7C1D0>, <__main__.County object at 0x000002817FC7BFB0>, <__main__.County object at 0x000002817FC7BFE0>, <__main__.County object at 0x000002817FC7C1A0>, <__main__.County object at 0x000002817FC7BDD0>, <__main__.County object at 0x000002817FC7BBC0>, <__main__.County object at 0x000002817FC7BE00>, <__main__.County object at 0x000002817FC7B9B0>, <__main__.County object at 0x000002817FC7BBF0>, <__main__.County object at 0x000002817FC7BD70>], [<__main__.County object at 0x000002817FC7BB00>, <__main__.County object at 0x000002817FC7B8F0>, <__main__.County object at 0x000002817FC7BD10>, <__main__.County object at 0x000002817FC7BCE0>, <__main__.County object at 0x000002817FC7BD40>, <__main__.County object at 0x000002817FC7BF20>, <__main__.County object at 0x000002817FC7BF50>, <__main__.County object at 0x000002817FC7C170>, <__main__.County object at 0x000002817FC7C140>, <__main__.County object at 0x000002817FC7BEF0>, <__main__.County object at 0x000002817FC7BB30>], [<__main__.County object at 0x000002817FC7BB60>, <__main__.County object at 0x000002817FC7BB90>, <__main__.County object at 0x000002817FC7BDA0>, <__main__.County object at 0x000002817FC7B980>, <__main__.County object at 0x000002817FC7B950>, <__main__.County object at 0x000002817FC7B740>, <__main__.County object at 0x000002817FC7B770>, <__main__.County object at 0x000002817FC7B7A0>, <__main__.County object at 0x000002817FC7B7D0>, <__main__.County object at 0x000002817FC7B9E0>, <__main__.County object at 0x000002817FC7BA10>], [<__main__.County object at 0x000002817FC7C260>, <__main__.County object at 0x000002817FC7C290>, <__main__.County object at 0x000002817FC7C2C0>, <__main__.County object at 0x000002817FC7C050>, <__main__.County object at 0x000002817FC7C2F0>, <__main__.County object at 0x000002817FC7C320>, <__main__.County object at 0x000002817FC7C0E0>, <__main__.County object at 0x000002817FC7C110>, <__main__.County object at 0x000002817FC7C230>, <__main__.County object at 0x000002817FC7C200>, <__main__.County object at 0x000002817FC7BAA0>], [<__main__.County object at 0x000002817FC7AE10>, <__main__.County object at 0x000002817FC7AE40>, <__main__.County object at 0x000002817FC79AC0>, <__main__.County object at 0x000002817FC7B2F0>, <__main__.County object at 0x000002817FC7B2C0>, <__main__.County object at 0x000002817FC7B470>, <__main__.County object at 0x000002817FC7B650>, <__main__.County object at 0x000002817FC7B860>, <__main__.County object at 0x000002817FC7B890>, <__main__.County object at 0x000002817FC7BA70>, <__main__.County object at 0x000002817FC7BC80>], [<__main__.County object at 0x000002817FC7B170>, <__main__.County object at 0x000002817FC7B290>, <__main__.County object at 0x000002817FC7B080>, <__main__.County object at 0x000002817FC7BCB0>, <__main__.County object at 0x000002817FC7BE30>, <__main__.County object at 0x000002817FC7BC20>, <__main__.County object at 0x000002817FC7B440>, <__main__.County object at 0x000002817FC7B680>, <__main__.County object at 0x000002817FC7B4A0>, <__main__.County object at 0x000002817FC7B3E0>, <__main__.County object at 0x000002817FC7B6E0>]], [[<__main__.County object at 0x000002817FC7CA70>, <__main__.County object at 0x000002817FC7C9B0>, <__main__.County object at 0x000002817FC7C680>, <__main__.County object at 0x000002817FC7C650>, <__main__.County object at 0x000002817FC7C710>, <__main__.County object at 0x000002817FC7CA10>, <__main__.County object at 0x000002817FC7C980>, <__main__.County object at 0x000002817FC7C620>, <__main__.County object at 0x000002817FC7C6E0>, <__main__.County object at 0x000002817FC7C350>, <__main__.County object at 0x000002817FC7CAA0>], [<__main__.County object at 0x000002817FC7C440>, <__main__.County object at 0x000002817FC798E0>, <__main__.County object at 0x000002811006C5F0>, <__main__.County object at 0x000002817FBF98B0>, <__main__.County object at 0x000002817FC7C4A0>, <__main__.County object at 0x000002817FC7C8C0>, <__main__.County object at 0x000002817FC7C5C0>, <__main__.County object at 0x000002817FC7CB30>, <__main__.County object at 0x000002817FC7CB60>, <__main__.County object at 0x000002817FC7CB90>, <__main__.County object at 0x000002817FC7CD70>], [<__main__.County object at 0x000002817FC7D6D0>, <__main__.County object at 0x000002817FC7D4C0>, <__main__.County object at 0x000002817FC7D700>, <__main__.County object at 0x000002817FC7D910>, <__main__.County object at 0x000002817FC7D490>, <__main__.County object at 0x000002817FC7D460>, <__main__.County object at 0x000002817FC7D670>, <__main__.County object at 0x000002817FC7D640>, <__main__.County object at 0x000002817FC7D280>, <__main__.County object at 0x000002817FC7D6A0>, <__main__.County object at 0x000002817FC7D430>], [<__main__.County object at 0x000002817FC7C950>, <__main__.County object at 0x000002817FC7C800>, <__main__.County object at 0x000002817FC7C410>, <__main__.County object at 0x000002817FC7C9E0>, <__main__.County object at 0x000002817FC7CAD0>, <__main__.County object at 0x000002817FC7C4D0>, <__main__.County object at 0x000002817FC7CCE0>, <__main__.County object at 0x000002817FC7CD10>, <__main__.County object at 0x000002817FC7CCB0>, <__main__.County object at 0x000002817FC7CC80>, <__main__.County object at 0x000002817FC7CEC0>], [<__main__.County object at 0x000002817FC7DAF0>, <__main__.County object at 0x000002817FC7DAC0>, <__main__.County object at 0x000002817FC7DA90>, <__main__.County object at 0x000002817FC7D8E0>, <__main__.County object at 0x000002817FC7DB20>, <__main__.County object at 0x000002817FC7DB50>, <__main__.County object at 0x000002817FC7D940>, <__main__.County object at 0x000002817FC7D730>, <__main__.County object at 0x000002817FC7D760>, <__main__.County object at 0x000002817FC7D970>, <__main__.County object at 0x000002817FC7D880>], [<__main__.County object at 0x000002817FC7D1F0>, <__main__.County object at 0x000002817FC7D400>, <__main__.County object at 0x000002817FC7D1C0>, <__main__.County object at 0x000002817FC7D220>, <__main__.County object at 0x000002817FC7D010>, <__main__.County object at 0x000002817FC7D250>, <__main__.County object at 0x000002817FC7CFE0>, <__main__.County object at 0x000002817FC7CFB0>, <__main__.County object at 0x000002817FC7D3D0>, <__main__.County object at 0x000002817FC7D190>, <__main__.County object at 0x000002817FC7D160>], [<__main__.County object at 0x000002817FC7CE60>, <__main__.County object at 0x000002817FC7CE30>, <__main__.County object at 0x000002817FC7CC20>, <__main__.County object at 0x000002817FC7CBF0>, <__main__.County object at 0x000002817FC7CBC0>, <__main__.County object at 0x000002817FC7CC50>, <__main__.County object at 0x000002817FC7CE00>, <__main__.County object at 0x000002817FC7D070>, <__main__.County object at 0x000002817FC7D0A0>, <__main__.County object at 0x000002817FC7D2B0>, <__main__.County object at 0x000002817FC7D0D0>], [<__main__.County object at 0x000002817FC7D5B0>, <__main__.County object at 0x000002817FC7D7C0>, <__main__.County object at 0x000002817FC7D790>, <__main__.County object at 0x000002817FC7D580>, <__main__.County object at 0x000002817FC7D370>, <__main__.County object at 0x000002817FC7D5E0>, <__main__.County object at 0x000002817FC7D610>, <__main__.County object at 0x000002817FC7D820>, <__main__.County object at 0x000002817FC7DA30>, <__main__.County object at 0x000002817FC7D850>, <__main__.County object at 0x000002817FC7DA00>], [<__main__.County object at 0x000002817FC7D550>, <__main__.County object at 0x000002817FC7D340>, <__main__.County object at 0x000002817FC7D310>, <__main__.County object at 0x000002817FC7D100>, <__main__.County object at 0x000002817FC7D520>, <__main__.County object at 0x000002817FC7D4F0>, <__main__.County object at 0x000002817FC7D130>, <__main__.County object at 0x000002817FC7CF20>, <__main__.County object at 0x000002817FC7CEF0>, <__main__.County object at 0x000002817FC7D2E0>, <__main__.County object at 0x000002817FC7DB80>], [<__main__.County object at 0x000002817FC7C6B0>, <__main__.County object at 0x000002817FC7C3E0>, <__main__.County object at 0x000002817FC7C3B0>, <__main__.County object at 0x000002817FC7C380>, <__main__.County object at 0x000002817FC7C740>, <__main__.County object at 0x000002817FC7D8B0>, <__main__.County object at 0x000002817FC7C7D0>, <__main__.County object at 0x000002817FC7CF50>, <__main__.County object at 0x000002817FC7CD40>, <__main__.County object at 0x000002817FC7CF80>, <__main__.County object at 0x000002817FC7DA60>], [<__main__.County object at 0x000002817FC7CDA0>, <__main__.County object at 0x000002817FC7CDD0>, <__main__.County object at 0x000002817FC7D9A0>, <__main__.County object at 0x000002817FC7D9D0>, <__main__.County object at 0x000002817FC7D7F0>, <__main__.County object at 0x000002817FC7D3A0>, <__main__.County object at 0x000002817FC7D040>, <__main__.County object at 0x000002817FC7CA40>, <__main__.County object at 0x000002817FC7CB00>, <__main__.County object at 0x000002817FC7CE90>, <__main__.County object at 0x000002817FC7C470>]], [[<__main__.County object at 0x00000281101C4830>, <__main__.County object at 0x000002817FC7DD00>, <__main__.County object at 0x000002817FC7DCD0>, <__main__.County object at 0x000002817FC7DCA0>, <__main__.County object at 0x000002811000DF70>, <__main__.County object at 0x000002817FC7DBB0>, <__main__.County object at 0x000002817FC7DFD0>, <__main__.County object at 0x000002817FC7E180>, <__main__.County object at 0x000002817FC7E1B0>, <__main__.County object at 0x000002817FC7E390>, <__main__.County object at 0x00000281101A9460>], [<__main__.County object at 0x000002817FC7C500>, <__main__.County object at 0x000002817FC7C530>, <__main__.County object at 0x000002817FC7EC00>, <__main__.County object at 0x000002817FC7E9F0>, <__main__.County object at 0x000002817FC7E9C0>, <__main__.County object at 0x000002817FC7EDB0>, <__main__.County object at 0x000002817FC7ED80>, <__main__.County object at 0x000002817FC7E7B0>, <__main__.County object at 0x000002817FC7E7E0>, <__main__.County object at 0x000002817FC7EF90>, <__main__.County object at 0x000002817FC7EE10>], [<__main__.County object at 0x000002817FC7E810>, <__main__.County object at 0x000002817FC7E840>, <__main__.County object at 0x000002817FC7EA20>, <__main__.County object at 0x000002817FC7EA50>, <__main__.County object at 0x000002817FC7EA80>, <__main__.County object at 0x000002817FC7EAB0>, <__main__.County object at 0x000002817FC7EC60>, <__main__.County object at 0x000002817FC7EAE0>, <__main__.County object at 0x000002817FC7E8D0>, <__main__.County object at 0x000002817FC7E900>, <__main__.County object at 0x000002817FC7E630>], [<__main__.County object at 0x000002817FC7DEE0>, <__main__.County object at 0x000002817FC7DE50>, <__main__.County object at 0x000002817FC7DD60>, <__main__.County object at 0x000002817FC7DE20>, <__main__.County object at 0x000002817FC7E000>, <__main__.County object at 0x000002817FC7E270>, <__main__.County object at 0x000002817FC7DF10>, <__main__.County object at 0x000002817FC7E090>, <__main__.County object at 0x000002817FC7E0C0>, <__main__.County object at 0x000002817FC7DBE0>, <__main__.County object at 0x000002817FC7E240>], [<__main__.County object at 0x000002817FC7E6F0>, <__main__.County object at 0x000002817FC7E4E0>, <__main__.County object at 0x000002817FC7E510>, <__main__.County object at 0x000002817FC7E300>, <__main__.County object at 0x000002817FC7E540>, <__main__.County object at 0x000002817FC7E750>, <__main__.County object at 0x000002817FC7E960>, <__main__.County object at 0x000002817FC7E930>, <__main__.County object at 0x000002817FC7E570>, <__main__.County object at 0x000002817FC7EB40>, <__main__.County object at 0x000002817FC7E4B0>], [<__main__.County object at 0x000002817FC7E1E0>, <__main__.County object at 0x000002817FC7E3F0>, <__main__.County object at 0x000002817FC7E210>, <__main__.County object at 0x000002817FC7DDC0>, <__main__.County object at 0x000002817FC7DEB0>, <__main__.County object at 0x000002817FC7E420>, <__main__.County object at 0x000002817FC7DDF0>, <__main__.County object at 0x000002817FC7C860>, <__main__.County object at 0x000002817FC7E3C0>, <__main__.County object at 0x000002817FC7E5D0>, <__main__.County object at 0x000002817FC7E5A0>], [<__main__.County object at 0x000002817FC7E660>, <__main__.County object at 0x000002817FC7E690>, <__main__.County object at 0x000002817FC7E480>, <__main__.County object at 0x000002817FC7E8A0>, <__main__.County object at 0x000002817FC7E6C0>, <__main__.County object at 0x000002817FC7E870>, <__main__.County object at 0x000002817FC7E450>, <__main__.County object at 0x000002817FC7EF00>, <__main__.County object at 0x000002817FC7ECF0>, <__main__.County object at 0x000002817FC7ED20>, <__main__.County object at 0x000002817FC7EB70>], [<__main__.County object at 0x000002817FC7EFF0>, <__main__.County object at 0x000002817FC7EFC0>, <__main__.County object at 0x000002817FC7EDE0>, <__main__.County object at 0x000002817FC7F020>, <__main__.County object at 0x000002817FC7F050>, <__main__.County object at 0x000002817FC7EE40>, <__main__.County object at 0x000002817FC7EC30>, <__main__.County object at 0x000002817FC7F080>, <__main__.County object at 0x000002817FC7F0B0>, <__main__.County object at 0x000002817FC7F0E0>, <__main__.County object at 0x000002817FC7F110>], [<__main__.County object at 0x000002817FC7E150>, <__main__.County object at 0x000002817FC7E060>, <__main__.County object at 0x000002817FC7E120>, <__main__.County object at 0x000002817FC7E330>, <__main__.County object at 0x000002817FC7E0F0>, <__main__.County object at 0x000002817FC7DD30>, <__main__.County object at 0x000002817FC7DC70>, <__main__.County object at 0x000002817FC7E360>, <__main__.County object at 0x000002817FC7DD90>, <__main__.County object at 0x000002817FC7DC40>, <__main__.County object at 0x000002817FC7DE80>], [<__main__.County object at 0x000002817FC7EB10>, <__main__.County object at 0x000002817FC7ECC0>, <__main__.County object at 0x000002817FC7EC90>, <__main__.County object at 0x000002817FC7EED0>, <__main__.County object at 0x000002817FC7EEA0>, <__main__.County object at 0x000002817FC7EE70>, <__main__.County object at 0x000002817FC7F140>, <__main__.County object at 0x000002817FC7F170>, <__main__.County object at 0x000002817FC7EF60>, <__main__.County object at 0x000002817FC7EF30>, <__main__.County object at 0x000002817FC7ED50>], [<__main__.County object at 0x000002817FC7EBD0>, <__main__.County object at 0x000002817FC7E780>, <__main__.County object at 0x000002817FC7E990>, <__main__.County object at 0x000002817FC7EBA0>, <__main__.County object at 0x000002817FC7E720>, <__main__.County object at 0x000002817FC7E2A0>, <__main__.County object at 0x000002817FC7E2D0>, <__main__.County object at 0x000002817FC7C770>, <__main__.County object at 0x000002817FC7DC10>, <__main__.County object at 0x000002817FC7E600>, <__main__.County object at 0x000002817FC7E030>]], [[<__main__.County object at 0x000002817FC7FF80>, <__main__.County object at 0x000002817FC5C1D0>, <__main__.County object at 0x000002817FC5C3E0>, <__main__.County object at 0x000002817FC5C3B0>, <__main__.County object at 0x000002817FC5C380>, <__main__.County object at 0x000002817FC5C170>, <__main__.County object at 0x000002817FC7FF20>, <__main__.County object at 0x000002817FC5C140>, <__main__.County object at 0x000002817FC5C1A0>, <__main__.County object at 0x000002817FC7FFB0>, <__main__.County object at 0x000002817FC5C200>], [<__main__.County object at 0x000002817FC7F710>, <__main__.County object at 0x000002817FC7C890>, <__main__.County object at 0x000002817FC7F6E0>, <__main__.County object at 0x000002817FC7F8F0>, <__main__.County object at 0x000002817FC7F320>, <__main__.County object at 0x000002817FC7F4D0>, <__main__.County object at 0x000002817FC7F770>, <__main__.County object at 0x000002817FC7F8C0>, <__main__.County object at 0x000002817FC7FAD0>, <__main__.County object at 0x000002817FC7F2F0>, <__main__.County object at 0x000002817FC7F2C0>], [<__main__.County object at 0x000002817FC5C440>, <__main__.County object at 0x000002817FC5C230>, <__main__.County object at 0x000002817FC5C650>, <__main__.County object at 0x000002817FC5C860>, <__main__.County object at 0x000002817FC5C830>, <__main__.County object at 0x000002817FC5C800>, <__main__.County object at 0x000002817FC5C5F0>, <__main__.County object at 0x000002817FC5C680>, <__main__.County object at 0x000002817FC5C5C0>, <__main__.County object at 0x000002817FC5C260>, <__main__.County object at 0x000002817FC5C050>], [<__main__.County object at 0x000002817FC7F470>, <__main__.County object at 0x000002817FC7F380>, <__main__.County object at 0x000002817FC7F200>, <__main__.County object at 0x000002817FC7F440>, <__main__.County object at 0x000002817FC7F7A0>, <__main__.County object at 0x000002817FC7F9B0>, <__main__.County object at 0x000002817FC7FBC0>, <__main__.County object at 0x000002817FC7FDD0>, <__main__.County object at 0x000002817FC7FE00>, <__main__.County object at 0x000002817FC7FBF0>, <__main__.County object at 0x000002817FC7FFE0>], [<__main__.County object at 0x000002817FC7FC80>, <__main__.County object at 0x000002817FC7FA70>, <__main__.County object at 0x000002817FC7FE90>, <__main__.County object at 0x000002817FC5C0E0>, <__main__.County object at 0x000002817FC5C110>, <__main__.County object at 0x000002817FC7FCB0>, <__main__.County object at 0x000002817FC7FA40>, <__main__.County object at 0x000002817FC7FE60>, <__main__.County object at 0x000002817FC7FE30>, <__main__.County object at 0x000002817FC7FAA0>, <__main__.County object at 0x000002817FC7F830>], [<__main__.County object at 0x00000281101AA060>, <__main__.County object at 0x000002811006C920>, <__main__.County object at 0x00000281101AA3C0>, <__main__.County object at 0x000002817FC7F1A0>, <__main__.County object at 0x000002817FC7F290>, <__main__.County object at 0x000002817FC7F410>, <__main__.County object at 0x000002817FC7F1D0>, <__main__.County object at 0x000002814C475F40>, <__main__.County object at 0x000002817FC5C4D0>, <__main__.County object at 0x000002817FC5C2C0>, <__main__.County object at 0x000002817FC5C6E0>], [<__main__.County object at 0x000002817FC7F920>, <__main__.County object at 0x000002817FC7F950>, <__main__.County object at 0x000002817FC7F980>, <__main__.County object at 0x000002817FC7FB90>, <__main__.County object at 0x000002817FC7FB30>, <__main__.County object at 0x000002817FC7FD40>, <__main__.County object at 0x000002817FC7FD70>, <__main__.County object at 0x000002817FC7FB00>, <__main__.County object at 0x000002817FC7FDA0>, <__main__.County object at 0x000002817FC7FF50>, <__main__.County object at 0x000002817FC7FD10>], [<__main__.County object at 0x000002817FC7F260>, <__main__.County object at 0x000002817FC7F650>, <__main__.County object at 0x000002817FC7F230>, <__main__.County object at 0x000002817FC7F890>, <__main__.County object at 0x000002817FC7F860>, <__main__.County object at 0x000002817FC7F740>, <__main__.County object at 0x000002817FC7F620>, <__main__.County object at 0x000002817FC7F3B0>, <__main__.County object at 0x000002817FC7F800>, <__main__.County object at 0x000002817FC7FA10>, <__main__.County object at 0x000002817FC7F9E0>], [<__main__.County object at 0x000002817FC5C8C0>, <__main__.County object at 0x000002817FC5C8F0>, <__main__.County object at 0x000002817FC5C890>, <__main__.County object at 0x000002817FC5C920>, <__main__.County object at 0x000002817FC5C710>, <__main__.County object at 0x000002817FC5C740>, <__main__.County object at 0x000002817FC5C530>, <__main__.County object at 0x000002817FC5C950>, <__main__.County object at 0x000002817FC5C320>, <__main__.County object at 0x000002817FC5C2F0>, <__main__.County object at 0x000002817FC5C500>], [<__main__.County object at 0x000002817FC7FCE0>, <__main__.County object at 0x000002817FC7FEF0>, <__main__.County object at 0x000002817FC5C080>, <__main__.County object at 0x000002817FC5C0B0>, <__main__.County object at 0x000002817FC5C290>, <__main__.County object at 0x000002817FC5C4A0>, <__main__.County object at 0x000002817FC5C470>, <__main__.County object at 0x000002817FC5C6B0>, <__main__.County object at 0x000002817FC5C560>, <__main__.County object at 0x000002817FC5C590>, <__main__.County object at 0x000002817FC5C7A0>], [<__main__.County object at 0x000002817FC5C350>, <__main__.County object at 0x000002817FC5C7D0>, <__main__.County object at 0x000002817FC5C410>, <__main__.County object at 0x000002817FC5C620>, <__main__.County object at 0x000002817FC7FC20>, <__main__.County object at 0x000002817FC7FC50>, <__main__.County object at 0x000002817FC7F7D0>, <__main__.County object at 0x000002817FC7FEC0>, <__main__.County object at 0x000002817FC7FB60>, <__main__.County object at 0x000002817FC7F3E0>, <__main__.County object at 0x000002817FC5C770>]]], [[[<__main__.County object at 0x000002817FC5CF80>, <__main__.County object at 0x000002817FC5CEF0>, <__main__.County object at 0x000002817FC5D010>, <__main__.County object at 0x000002817FC5CA40>, <__main__.County object at 0x000002817FC5CA10>, <__main__.County object at 0x000002817FC5D040>, <__main__.County object at 0x000002817FC5CB60>, <__main__.County object at 0x000002817FC5CB90>, <__main__.County object at 0x000002817FC5CCE0>, <__main__.County object at 0x000002817FC5C9E0>, <__main__.County object at 0x000002817FC5CB00>, <__main__.County object at 0x000002817FC5CFB0>], [<__main__.County object at 0x000002817FC5D820>, <__main__.County object at 0x000002817FC5D7F0>, <__main__.County object at 0x000002817FC5D5E0>, <__main__.County object at 0x000002817FC5D3A0>, <__main__.County object at 0x000002817FC5D610>, <__main__.County object at 0x000002817FC5D160>, <__main__.County object at 0x000002817FC5CD70>, <__main__.County object at 0x000002817FC5CBC0>, <__main__.County object at 0x000002817FC5D190>, <__main__.County object at 0x000002817FC5D1C0>, <__main__.County object at 0x000002817FC5D400>, <__main__.County object at 0x000002817FC5DA60>], [<__main__.County object at 0x000002817FC5CA70>, <__main__.County object at 0x000002817FC5CE30>, <__main__.County object at 0x000002817FC5D100>, <__main__.County object at 0x000002817FC5D0D0>, <__main__.County object at 0x000002817FC5D340>, <__main__.County object at 0x000002817FC5D0A0>, <__main__.County object at 0x000002817FC5CEC0>, <__main__.County object at 0x000002817FC5D070>, <__main__.County object at 0x000002817FC5D2B0>, <__main__.County object at 0x000002817FC5D580>, <__main__.County object at 0x000002817FC5CE00>, <__main__.County object at 0x000002817FC5D550>], [<__main__.County object at 0x000002817FC5CC20>, <__main__.County object at 0x000002817FC5CC50>, <__main__.County object at 0x000002817FC5C9B0>, <__main__.County object at 0x000002817FC5CD10>, <__main__.County object at 0x000002817FC5CBF0>, <__main__.County object at 0x000002817FC5CCB0>, <__main__.County object at 0x000002817FC5C980>, <__main__.County object at 0x000002817FC7F500>, <__main__.County object at 0x000002817FC5CF20>, <__main__.County object at 0x000002817FC5E270>, <__main__.County object at 0x000002817FC5E240>, <__main__.County object at 0x000002817FC5E210>], [<__main__.County object at 0x000002817FC5D1F0>, <__main__.County object at 0x000002817FC5D430>, <__main__.County object at 0x000002817FC5D670>, <__main__.County object at 0x000002817FC5D460>, <__main__.County object at 0x000002817FC5D640>, <__main__.County object at 0x000002817FC5D880>, <__main__.County object at 0x000002817FC5DAC0>, <__main__.County object at 0x000002817FC5DD00>, <__main__.County object at 0x000002817FC5DF40>, <__main__.County object at 0x000002817FC5DCD0>, <__main__.County object at 0x000002817FC5DD30>, <__main__.County object at 0x000002817FC5DF70>], [<__main__.County object at 0x000002817FC5DD90>, <__main__.County object at 0x000002817FC5DB50>, <__main__.County object at 0x000002817FC5D910>, <__main__.County object at 0x000002817FC5D8E0>, <__main__.County object at 0x000002817FC5DB80>, <__main__.County object at 0x000002817FC5DBB0>, <__main__.County object at 0x000002817FC5DDF0>, <__main__.County object at 0x000002817FC5D970>, <__main__.County object at 0x000002817FC5D9A0>, <__main__.County object at 0x000002817FC5DBE0>, <__main__.County object at 0x000002817FC5DC10>, <__main__.County object at 0x000002817FC5D6D0>], [<__main__.County object at 0x000002817FC5E1E0>, <__main__.County object at 0x000002817FC5E1B0>, <__main__.County object at 0x000002817FC5E3C0>, <__main__.County object at 0x000002817FC5E3F0>, <__main__.County object at 0x000002811052DC40>, <__main__.County object at 0x000002817FC7F350>, <__main__.County object at 0x000002817FC5E390>, <__main__.County object at 0x000002817FC5E360>, <__main__.County object at 0x000002817FC5E330>, <__main__.County object at 0x000002817FC5E120>, <__main__.County object at 0x000002817FC5E0F0>, <__main__.County object at 0x000002817FC5DEB0>], [<__main__.County object at 0x000002817FC5DC70>, <__main__.County object at 0x000002817FC5DA30>, <__main__.County object at 0x000002817FC5DCA0>, <__main__.County object at 0x000002817FC5DEE0>, <__main__.County object at 0x000002817FC5DF10>, <__main__.County object at 0x000002817FC5E150>, <__main__.County object at 0x000002817FC5E180>, <__main__.County object at 0x000002817FC5E4B0>, <__main__.County object at 0x000002817FC5E2D0>, <__main__.County object at 0x000002817FC5E480>, <__main__.County object at 0x000002817FC5E450>, <__main__.County object at 0x000002817FC5E300>], [<__main__.County object at 0x000002817FC5D700>, <__main__.County object at 0x000002817FC5D730>, <__main__.County object at 0x000002817FC5D4C0>, <__main__.County object at 0x000002817FC5D4F0>, <__main__.County object at 0x000002817FC5D520>, <__main__.County object at 0x000002817FC5D490>, <__main__.County object at 0x000002817FC5D250>, <__main__.County object at 0x000002817FC5D220>, <__main__.County object at 0x000002817FC5CFE0>, <__main__.County object at 0x000002817FC5D280>, <__main__.County object at 0x000002817FC5D940>, <__main__.County object at 0x000002817FC5D760>], [<__main__.County object at 0x000002817FC5D370>, <__main__.County object at 0x000002817FC5D130>, <__main__.County object at 0x000002817FC5D5B0>, <__main__.County object at 0x000002817FC5DE50>, <__main__.County object at 0x000002817FC5E090>, <__main__.County object at 0x000002817FC5E060>, <__main__.County object at 0x000002817FC5E030>, <__main__.County object at 0x000002817FC5E000>, <__main__.County object at 0x000002817FC5DDC0>, <__main__.County object at 0x000002817FC5E0C0>, <__main__.County object at 0x000002817FC5DE80>, <__main__.County object at 0x000002817FC5DC40>], [<__main__.County object at 0x000002817FC5D850>, <__main__.County object at 0x000002817FC5DA90>, <__main__.County object at 0x000002817FC5D790>, <__main__.County object at 0x000002817FC5D9D0>, <__main__.County object at 0x000002817FC5DA00>, <__main__.County object at 0x000002817FC5D7C0>, <__main__.County object at 0x000002817FC5DB20>, <__main__.County object at 0x000002817FC5DD60>, <__main__.County object at 0x000002817FC5DFA0>, <__main__.County object at 0x000002817FC5DFD0>, <__main__.County object at 0x000002817FC5DAF0>, <__main__.County object at 0x000002817FC5D8B0>], [<__main__.County object at 0x000002817FC5D3D0>, <__main__.County object at 0x000002817FC5D310>, <__main__.County object at 0x000002817FC5D2E0>, <__main__.County object at 0x000002817FC5E420>, <__main__.County object at 0x000002817FC5DE20>, <__main__.County object at 0x000002817FC5CAD0>, <__main__.County object at 0x000002817FC5CAA0>, <__main__.County object at 0x000002817FC5CD40>, <__main__.County object at 0x000002817FC5CC80>, <__main__.County object at 0x000002817FC5D6A0>, <__main__.County object at 0x000002817FC5E4E0>, <__main__.County object at 0x000002817FC5E2A0>]], [[<__main__.County object at 0x000002817FC5E8D0>, <__main__.County object at 0x000002817FC5E510>, <__main__.County object at 0x000002817FC5E540>, <__main__.County object at 0x000002817FC5E570>, <__main__.County object at 0x000002817FC5E8A0>, <__main__.County object at 0x000002817FC5E840>, <__main__.County object at 0x000002817FC5E720>, <__main__.County object at 0x000002817FC5E5A0>, <__main__.County object at 0x000002817FC5EA50>, <__main__.County object at 0x000002817FC5EA80>, <__main__.County object at 0x000002817FC5E750>, <__main__.County object at 0x000002817FC7F680>], [<__main__.County object at 0x000002817FC5EDE0>, <__main__.County object at 0x000002817FC5EBA0>, <__main__.County object at 0x000002817FC5E990>, <__main__.County object at 0x000002817FC5E780>, <__main__.County object at 0x000002817FC5CF50>, <__main__.County object at 0x000002817FC5EC00>, <__main__.County object at 0x000002817FC5EC30>, <__main__.County object at 0x000002817FC5EE70>, <__main__.County object at 0x000002817FC5EE40>, <__main__.County object at 0x000002817FC5F080>, <__main__.County object at 0x000002817FC5F020>, <__main__.County object at 0x000002817FC5EEA0>], [<__main__.County object at 0x000002817FC5F260>, <__main__.County object at 0x000002817FC5F290>, <__main__.County object at 0x000002817FC5F2C0>, <__main__.County object at 0x000002817FC5F500>, <__main__.County object at 0x000002817FC5F740>, <__main__.County object at 0x000002817FC5F710>, <__main__.County object at 0x000002817FC5F6E0>, <__main__.County object at 0x000002817FC5F980>, <__main__.County object at 0x000002817FC5F9B0>, <__main__.County object at 0x000002817FC5F530>, <__main__.County object at 0x000002817FC5FBF0>, <__main__.County object at 0x000002817FC5F4A0>], [<__main__.County object at 0x000002817FC5EF60>, <__main__.County object at 0x000002817FC5EF90>, <__main__.County object at 0x000002817FC5F1D0>, <__main__.County object at 0x000002817FC5F410>, <__main__.County object at 0x000002817FC5F3E0>, <__main__.County object at 0x000002817FC5F620>, <__main__.County object at 0x000002817FC5F440>, <__main__.County object at 0x000002817FC5F5F0>, <__main__.County object at 0x000002817FC5F830>, <__main__.County object at 0x000002817FC5F800>, <__main__.County object at 0x000002817FC5F1A0>, <__main__.County object at 0x000002817FC5EFC0>], [<__main__.County object at 0x000002817FC5ECF0>, <__main__.County object at 0x000002817FC5EF30>, <__main__.County object at 0x000002817FC5ECC0>, <__main__.County object at 0x000002817FC5EC90>, <__main__.County object at 0x000002817FC5EC60>, <__main__.County object at 0x000002817FC5E9C0>, <__main__.County object at 0x000002817FC5EAB0>, <__main__.County object at 0x000002817FC5EAE0>, <__main__.County object at 0x000002817FC5EA20>, <__main__.County object at 0x000002817FC5E5D0>, <__main__.County object at 0x000002817FC5E690>, <__main__.County object at 0x000002817FC5E660>], [<__main__.County object at 0x000002817FC5CE60>, <__main__.County object at 0x000002817FC5E930>, <__main__.County object at 0x000002817FC5E630>, <__main__.County object at 0x000002817FC5EB70>, <__main__.County object at 0x000002817FC5EDB0>, <__main__.County object at 0x000002817FC5ED80>, <__main__.County object at 0x000002817FC5EB40>, <__main__.County object at 0x000002817FC5EB10>, <__main__.County object at 0x000002817FC5E900>, <__main__.County object at 0x000002817FC5ED50>, <__main__.County object at 0x000002817FC5EFF0>, <__main__.County object at 0x000002817FC5F230>], [<__main__.County object at 0x000002817FC5FE00>, <__main__.County object at 0x000002817FC5FE30>, <__main__.County object at 0x000002817FC5FE60>, <__main__.County object at 0x000002817FC5FE90>, <__main__.County object at 0x000002817FC5FEC0>, <__main__.County object at 0x000002817FC5FEF0>, <__main__.County object at 0x000002817FC5FF20>, <__main__.County object at 0x000002817FC5FF50>, <__main__.County object at 0x000002817FC5FF80>, <__main__.County object at 0x000002817FC5FBC0>, <__main__.County object at 0x000002817FC5FCB0>, <__main__.County object at 0x000002817FC5FCE0>], [<__main__.County object at 0x000002817FC5FA40>, <__main__.County object at 0x000002817FC5FC80>, <__main__.County object at 0x000002817FC5FC50>, <__main__.County object at 0x000002817FC5FA70>, <__main__.County object at 0x000002817FC5FC20>, <__main__.County object at 0x000002817FC5F9E0>, <__main__.County object at 0x000002817FC5F7A0>, <__main__.County object at 0x000002817FC5F560>, <__main__.County object at 0x000002817FC5F590>, <__main__.County object at 0x000002817FC5F7D0>, <__main__.County object at 0x000002817FC5F5C0>, <__main__.County object at 0x000002817FC5F320>], [<__main__.County object at 0x000002817FC5F140>, <__main__.County object at 0x000002817FC5F110>, <__main__.County object at 0x000002817FC5F0E0>, <__main__.County object at 0x000002817FC5F0B0>, <__main__.County object at 0x000002817FC5F2F0>, <__main__.County object at 0x000002817FC5F170>, <__main__.County object at 0x000002817FC5EED0>, <__main__.County object at 0x000002817FC5F350>, <__main__.County object at 0x000002817FC5F380>, <__main__.County object at 0x000002817FC5F3B0>, <__main__.County object at 0x000002817FC5EF00>, <__main__.County object at 0x000002817FC5FD40>], [<__main__.County object at 0x000002817FC5E870>, <__main__.County object at 0x000002817FC5E600>, <__main__.County object at 0x000002817FC7F4A0>, <__main__.County object at 0x000002817FC5FDD0>, <__main__.County object at 0x000002817FC5FB90>, <__main__.County object at 0x000002817FC5FB60>, <__main__.County object at 0x000002817FC5FDA0>, <__main__.County object at 0x000002817FC5F950>, <__main__.County object at 0x000002817FC5F920>, <__main__.County object at 0x000002817FC5FB00>, <__main__.County object at 0x000002817FC5FB30>, <__main__.County object at 0x000002817FC5F8F0>], [<__main__.County object at 0x000002817FC5E7B0>, <__main__.County object at 0x000002817FC5E7E0>, <__main__.County object at 0x000002817FC5E810>, <__main__.County object at 0x000002817FC5EBD0>, <__main__.County object at 0x000002817FC5EE10>, <__main__.County object at 0x000002817FC5F050>, <__main__.County object at 0x000002817FC5FD10>, <__main__.County object at 0x000002817FC5FAD0>, <__main__.County object at 0x000002817FC5F890>, <__main__.County object at 0x000002817FC5F650>, <__main__.County object at 0x000002817FC5F680>, <__main__.County object at 0x000002817FC5FAA0>], [<__main__.County object at 0x000002817FC5E9F0>, <__main__.County object at 0x000002817FC5F200>, <__main__.County object at 0x000002817FC5FD70>, <__main__.County object at 0x000002817FC5FFB0>, <__main__.County object at 0x000002817FC5F470>, <__main__.County object at 0x000002817FC5F6B0>, <__main__.County object at 0x000002817FC5ED20>, <__main__.County object at 0x000002817FC5F860>, <__main__.County object at 0x000002817FC5F4D0>, <__main__.County object at 0x000002817FC5F8C0>, <__main__.County object at 0x000002817FC5F770>, <__main__.County object at 0x000002817FC5FA10>]], [[<__main__.County object at 0x000002817FC10110>, <__main__.County object at 0x000002817FC10290>, <__main__.County object at 0x000002817FC5FFE0>, <__main__.County object at 0x000002817FC10140>, <__main__.County object at 0x000002817FC102F0>, <__main__.County object at 0x00000281101AA360>, <__main__.County object at 0x000002817FC10050>, <__main__.County object at 0x000002817FC10080>, <__main__.County object at 0x000002817FC102C0>, <__main__.County object at 0x000002817FC10680>, <__main__.County object at 0x000002817FC10620>, <__main__.County object at 0x000002817FC10410>], [<__main__.County object at 0x000002817FC11010>, <__main__.County object at 0x000002817FC11250>, <__main__.County object at 0x000002817FC10FE0>, <__main__.County object at 0x000002817FC10FB0>, <__main__.County object at 0x000002817FC10F80>, <__main__.County object at 0x000002817FC111C0>, <__main__.County object at 0x000002817FC11400>, <__main__.County object at 0x000002817FC11430>, <__main__.County object at 0x000002817FC11460>, <__main__.County object at 0x000002817FC11220>, <__main__.County object at 0x000002817FC113D0>, <__main__.County object at 0x000002817FC116A0>], [<__main__.County object at 0x000002817FC10800>, <__main__.County object at 0x000002817FC10830>, <__main__.County object at 0x000002817FC10320>, <__main__.County object at 0x000002817FC101D0>, <__main__.County object at 0x000002817FC10860>, <__main__.County object at 0x000002817FC105F0>, <__main__.County object at 0x000002817FC100E0>, <__main__.County object at 0x000002817FC101A0>, <__main__.County object at 0x000002817FC10A40>, <__main__.County object at 0x000002817FC10A10>, <__main__.County object at 0x000002817FC10C50>, <__main__.County object at 0x000002817FC109E0>], [<__main__.County object at 0x000002817FC116D0>, <__main__.County object at 0x000002817FC11700>, <__main__.County object at 0x000002817FC11940>, <__main__.County object at 0x000002817FC11B80>, <__main__.County object at 0x000002817FC11730>, <__main__.County object at 0x000002817FC11490>, <__main__.County object at 0x000002817FC11970>, <__main__.County object at 0x000002817FC11B50>, <__main__.County object at 0x000002817FC119A0>, <__main__.County object at 0x000002817FC5E6C0>, <__main__.County object at 0x000002817FC11B20>, <__main__.County object at 0x000002817FC114C0>], [<__main__.County object at 0x000002817FC108F0>, <__main__.County object at 0x000002817FC10920>, <__main__.County object at 0x000002817FC10B60>, <__main__.County object at 0x000002817FC10B90>, <__main__.County object at 0x000002817FC10DA0>, <__main__.County object at 0x000002817FC108C0>, <__main__.County object at 0x000002817FC10890>, <__main__.County object at 0x000002817FC10AD0>, <__main__.County object at 0x000002817FC10D70>, <__main__.County object at 0x000002817FC10950>, <__main__.County object at 0x000002817FC10980>, <__main__.County object at 0x000002817FC10D10>], [<__main__.County object at 0x000002817FC10EC0>, <__main__.County object at 0x000002817FC10E90>, <__main__.County object at 0x000002817FC11100>, <__main__.County object at 0x000002817FC110D0>, <__main__.County object at 0x000002817FC11130>, <__main__.County object at 0x000002817FC11370>, <__main__.County object at 0x000002817FC11160>, <__main__.County object at 0x000002817FC115B0>, <__main__.County object at 0x000002817FC11580>, <__main__.County object at 0x000002817FC11550>, <__main__.County object at 0x000002817FC11790>, <__main__.County object at 0x000002817FC113A0>], [<__main__.County object at 0x000002817FC5E6F0>, <__main__.County object at 0x000002817FC119D0>, <__main__.County object at 0x000002817FC11A00>, <__main__.County object at 0x000002817FC117C0>, <__main__.County object at 0x000002817FC117F0>, <__main__.County object at 0x000002817FC11A30>, <__main__.County object at 0x000002817FC11C10>, <__main__.County object at 0x000002817FC11A60>, <__main__.County object at 0x000002817FC11C40>, <__main__.County object at 0x000002817FC11BE0>, <__main__.County object at 0x000002817FC11820>, <__main__.County object at 0x000002817FC115E0>], [<__main__.County object at 0x000002817FC11190>, <__main__.County object at 0x000002817FC10F50>, <__main__.County object at 0x000002817FC112E0>, <__main__.County object at 0x000002817FC112B0>, <__main__.County object at 0x000002817FC11070>, <__main__.County object at 0x000002817FC11280>, <__main__.County object at 0x000002817FC11310>, <__main__.County object at 0x000002817FC110A0>, <__main__.County object at 0x000002817FC10E60>, <__main__.County object at 0x000002817FC11040>, <__main__.County object at 0x000002817FC10E00>, <__main__.County object at 0x000002817FC10DD0>], [<__main__.County object at 0x000002817FC11670>, <__main__.County object at 0x000002817FC11640>, <__main__.County object at 0x000002817FC11880>, <__main__.County object at 0x000002817FC11AC0>, <__main__.County object at 0x000002817FC11A90>, <__main__.County object at 0x000002817FC11610>, <__main__.County object at 0x000002817FC11AF0>, <__main__.County object at 0x000002817FC11850>, <__main__.County object at 0x000002817FC118B0>, <__main__.County object at 0x000002817FC118E0>, <__main__.County object at 0x000002817FC11910>, <__main__.County object at 0x000002817FC111F0>], [<__main__.County object at 0x000002817FC10770>, <__main__.County object at 0x000002817FC107A0>, <__main__.County object at 0x000002817FC10740>, <__main__.County object at 0x000002817FC109B0>, <__main__.County object at 0x000002817FC10BF0>, <__main__.County object at 0x000002817FC10710>, <__main__.County object at 0x000002817FC10C20>, <__main__.County object at 0x000002817FC10200>, <__main__.County object at 0x000002817FC10BC0>, <__main__.County object at 0x000002817FC106E0>, <__main__.County object at 0x000002817FC106B0>, <__main__.County object at 0x000002817FC10500>], [<__main__.County object at 0x000002817FC10CB0>, <__main__.County object at 0x000002817FC10CE0>, <__main__.County object at 0x000002817FC10EF0>, <__main__.County object at 0x000002817FC10F20>, <__main__.County object at 0x000002817FC10AA0>, <__main__.County object at 0x000002817FC10C80>, <__main__.County object at 0x000002817FC10A70>, <__main__.County object at 0x000002817FC11760>, <__main__.County object at 0x000002817FC11520>, <__main__.County object at 0x000002817FC114F0>, <__main__.County object at 0x000002817FC100B0>, <__main__.County object at 0x000002817FC10260>], [<__main__.County object at 0x000002817FC10D40>, <__main__.County object at 0x000002817FC10B00>, <__main__.County object at 0x000002817FC10B30>, <__main__.County object at 0x000002817FC11BB0>, <__main__.County object at 0x000002817FC11340>, <__main__.County object at 0x000002817FC10590>, <__main__.County object at 0x000002817FC7C7A0>, <__main__.County object at 0x000002817FC10170>, <__main__.County object at 0x000002817FC107D0>, <__main__.County object at 0x000002817FC10230>, <__main__.County object at 0x000002817FC5CDD0>, <__main__.County object at 0x000002817FC10E30>]], [[<__main__.County object at 0x000002817FC12510>, <__main__.County object at 0x000002817FC122D0>, <__main__.County object at 0x000002817FC12750>, <__main__.County object at 0x000002817FC12540>, <__main__.County object at 0x000002817FC12570>, <__main__.County object at 0x000002817FC125A0>, <__main__.County object at 0x000002817FC125D0>, <__main__.County object at 0x000002817FC12360>, <__main__.County object at 0x000002817FC11EB0>, <__main__.County object at 0x000002817FC127B0>, <__main__.County object at 0x000002817FC11D60>, <__main__.County object at 0x000002817FC122A0>], [<__main__.County object at 0x000002817FC103E0>, <__main__.County object at 0x000002817FC11D00>, <__main__.County object at 0x000002817FC11DC0>, <__main__.County object at 0x000002817FC12030>, <__main__.County object at 0x000002817FC12180>, <__main__.County object at 0x000002817FC11E80>, <__main__.County object at 0x000002817FC12270>, <__main__.County object at 0x000002817FC12240>, <__main__.County object at 0x000002817FC12210>, <__main__.County object at 0x000002817FC121E0>, <__main__.County object at 0x000002817FC12420>, <__main__.County object at 0x000002817FC12660>], [<__main__.County object at 0x000002817FC11CA0>, <__main__.County object at 0x000002817FC11CD0>, <__main__.County object at 0x000002817FC11C70>, <__main__.County object at 0x000002817FC5E960>, <__main__.County object at 0x000002817FC11FD0>, <__main__.County object at 0x000002817FC11FA0>, <__main__.County object at 0x000002817FC10350>, <__main__.County object at 0x000002817FC123C0>, <__main__.County object at 0x000002817FC12000>, <__main__.County object at 0x000002817FC121B0>, <__main__.County object at 0x000002817FC123F0>, <__main__.County object at 0x000002817FC12630>], [<__main__.County object at 0x000002817FC12A80>, <__main__.County object at 0x000002817FC12AB0>, <__main__.County object at 0x000002817FC12870>, <__main__.County object at 0x000002817FC12AE0>, <__main__.County object at 0x000002817FC12CF0>, <__main__.County object at 0x000002817FC12F30>, <__main__.County object at 0x000002817FC12F60>, <__main__.County object at 0x000002817FC131A0>, <__main__.County object at 0x000002817FC133E0>, <__main__.County object at 0x000002817FC12F00>, <__main__.County object at 0x000002817FC13140>, <__main__.County object at 0x000002817FC131D0>], [<__main__.County object at 0x000002817FC129F0>, <__main__.County object at 0x000002817FC129C0>, <__main__.County object at 0x000002817FC12C00>, <__main__.County object at 0x000002817FC12C30>, <__main__.County object at 0x000002817FC12C60>, <__main__.County object at 0x000002817FC12E70>, <__main__.County object at 0x000002817FC130B0>, <__main__.County object at 0x000002817FC130E0>, <__main__.County object at 0x000002817FC13110>, <__main__.County object at 0x000002817FC13080>, <__main__.County object at 0x000002817FC132F0>, <__main__.County object at 0x000002817FC12A20>], [<__main__.County object at 0x000002817FC126C0>, <__main__.County object at 0x000002817FC126F0>, <__main__.County object at 0x000002817FC12930>, <__main__.County object at 0x000002817FC12900>, <__main__.County object at 0x000002817FC128D0>, <__main__.County object at 0x000002817FC12B40>, <__main__.County object at 0x000002817FC12D80>, <__main__.County object at 0x000002817FC12DB0>, <__main__.County object at 0x000002817FC12D50>, <__main__.County object at 0x000002817FC12FC0>, <__main__.County object at 0x000002817FC124B0>, <__main__.County object at 0x000002817FC12D20>], [<__main__.County object at 0x000002817FC13440>, <__main__.County object at 0x000002817FC13470>, <__main__.County object at 0x000002817FC13230>, <__main__.County object at 0x000002817FC13260>, <__main__.County object at 0x000002817FC13290>, <__main__.County object at 0x000002817FC13050>, <__main__.County object at 0x000002817FC132C0>, <__main__.County object at 0x000002817FC13500>, <__main__.County object at 0x000002817FC13530>, <__main__.County object at 0x000002817FC13770>, <__main__.County object at 0x000002817FC13560>, <__main__.County object at 0x000002817FC13680>], [<__main__.County object at 0x000002817FC13650>, <__main__.County object at 0x000002817FC13410>, <__main__.County object at 0x000002817FC13620>, <__main__.County object at 0x000002817FC135F0>, <__main__.County object at 0x000002817FC135C0>, <__main__.County object at 0x000002817FC133B0>, <__main__.County object at 0x000002817FC13380>, <__main__.County object at 0x000002817FC13170>, <__main__.County object at 0x000002817FC136E0>, <__main__.County object at 0x000002817FC13710>, <__main__.County object at 0x000002817FC136B0>, <__main__.County object at 0x000002817FC13740>], [<__main__.County object at 0x000002817FC12450>, <__main__.County object at 0x000002817FC12480>, <__main__.County object at 0x000002817FC12690>, <__main__.County object at 0x000002817FC127E0>, <__main__.County object at 0x000002817FC12810>, <__main__.County object at 0x000002817FC12A50>, <__main__.County object at 0x000002817FC12C90>, <__main__.County object at 0x000002817FC12ED0>, <__main__.County object at 0x000002817FC12EA0>, <__main__.County object at 0x000002817FC13320>, <__main__.County object at 0x000002817FC13350>, <__main__.County object at 0x000002817FC13590>], [<__main__.County object at 0x000002817FC11F10>, <__main__.County object at 0x000002817FC11F40>, <__main__.County object at 0x000002817FC11E50>, <__main__.County object at 0x000002817FC12390>, <__main__.County object at 0x000002817FC11EE0>, <__main__.County object at 0x000002817FC11D30>, <__main__.County object at 0x000002817FC12E10>, <__main__.County object at 0x000002817FC12DE0>, <__main__.County object at 0x000002817FC12BA0>, <__main__.County object at 0x000002817FC12960>, <__main__.County object at 0x000002817FC12990>, <__main__.County object at 0x000002817FC12BD0>], [<__main__.County object at 0x000002817FC12600>, <__main__.County object at 0x000002817FC12840>, <__main__.County object at 0x000002817FC12F90>, <__main__.County object at 0x000002817FC137D0>, <__main__.County object at 0x000002817FC137A0>, <__main__.County object at 0x000002817FC13200>, <__main__.County object at 0x000002817FC124E0>, <__main__.County object at 0x000002817FC12720>, <__main__.County object at 0x000002817FC12780>, <__main__.County object at 0x000002817FC12CC0>, <__main__.County object at 0x000002817FC12E40>, <__main__.County object at 0x000002817FC128A0>], [<__main__.County object at 0x000002817FC11D90>, <__main__.County object at 0x000002817FC12090>, <__main__.County object at 0x000002817FC12330>, <__main__.County object at 0x000002817FC12300>, <__main__.County object at 0x000002817FC10650>, <__main__.County object at 0x000002817FC13020>, <__main__.County object at 0x000002817FC12FF0>, <__main__.County object at 0x000002817FC134A0>, <__main__.County object at 0x000002817FC134D0>, <__main__.County object at 0x000002817FC12B10>, <__main__.County object at 0x000002817FC12B70>, <__main__.County object at 0x000002817FC11F70>]], [[<__main__.County object at 0x000002817FBEC1A0>, <__main__.County object at 0x000002817FBEC3E0>, <__main__.County object at 0x000002817FC13E90>, <__main__.County object at 0x000002817FC13F50>, <__main__.County object at 0x000002817FC138F0>, <__main__.County object at 0x000002817FC13BC0>, <__main__.County object at 0x0000028110147290>, <__main__.County object at 0x0000028110145F70>, <__main__.County object at 0x000002817FC13C20>, <__main__.County object at 0x000002817FE204D0>, <__main__.County object at 0x000002817FBEC410>, <__main__.County object at 0x000002817FC13FB0>], [<__main__.County object at 0x000002817FBEC500>, <__main__.County object at 0x000002817FBEC4D0>, <__main__.County object at 0x000002817FBEC740>, <__main__.County object at 0x000002817FBEC2C0>, <__main__.County object at 0x000002817FBEC290>, <__main__.County object at 0x000002817FBEC080>, <__main__.County object at 0x000002817FC13DD0>, <__main__.County object at 0x000002817FC13F20>, <__main__.County object at 0x000002817FC13C50>, <__main__.County object at 0x000002817FBEC0B0>, <__main__.County object at 0x000002817FC13BF0>, <__main__.County object at 0x000002817FBEC2F0>], [<__main__.County object at 0x000002817FBECAD0>, <__main__.County object at 0x000002817FBECD10>, <__main__.County object at 0x000002817FBECF50>, <__main__.County object at 0x000002817FBED190>, <__main__.County object at 0x000002817FBECD40>, <__main__.County object at 0x000002817FBECF80>, <__main__.County object at 0x000002817FBECFB0>, <__main__.County object at 0x000002817FBECFE0>, <__main__.County object at 0x000002817FBED220>, <__main__.County object at 0x000002817FBED1F0>, <__main__.County object at 0x000002817FBED430>, <__main__.County object at 0x000002817FBECD70>], [<__main__.County object at 0x000002817FBEC950>, <__main__.County object at 0x000002817FBECB90>, <__main__.County object at 0x000002817FBECDD0>, <__main__.County object at 0x000002817FBECB60>, <__main__.County object at 0x000002817FBECB30>, <__main__.County object at 0x000002817FBEC920>, <__main__.County object at 0x000002817FBECB00>, <__main__.County object at 0x000002817FBEC8C0>, <__main__.County object at 0x000002817FBEC6E0>, <__main__.County object at 0x000002817FBEC4A0>, <__main__.County object at 0x000002817FBEC6B0>, <__main__.County object at 0x000002817FBEC260>], [<__main__.County object at 0x000002817FBEC3B0>, <__main__.County object at 0x000002817FBEC380>, <__main__.County object at 0x000002817FBEC350>, <__main__.County object at 0x000002817FBEC320>, <__main__.County object at 0x000002817FBEC5C0>, <__main__.County object at 0x000002817FBEC590>, <__main__.County object at 0x000002817FBEC7D0>, <__main__.County object at 0x000002817FBEC140>, <__main__.County object at 0x000002817FC13AD0>, <__main__.County object at 0x000002817FC13B00>, <__main__.County object at 0x000002817FBEC170>, <__main__.County object at 0x000002817FBEC7A0>], [<__main__.County object at 0x000002817FC13980>, <__main__.County object at 0x000002817FC13950>, <__main__.County object at 0x000002817FC138C0>, <__main__.County object at 0x000002817FC13890>, <__main__.County object at 0x000002817FC13B90>, <__main__.County object at 0x000002817FC13E60>, <__main__.County object at 0x000002817FBEC110>, <__main__.County object at 0x000002817FBEC0E0>, <__main__.County object at 0x000002817FBEC830>, <__main__.County object at 0x000002817FBEC800>, <__main__.County object at 0x000002817FBEC5F0>, <__main__.County object at 0x000002817FBECA40>], [<__main__.County object at 0x000002817FC13800>, <__main__.County object at 0x000002817FC13830>, <__main__.County object at 0x000002817FC13B30>, <__main__.County object at 0x000002817FC13860>, <__main__.County object at 0x000002817FC13FE0>, <__main__.County object at 0x000002817FBEC050>, <__main__.County object at 0x000002817FC13B60>, <__main__.County object at 0x000002817FBEC440>, <__main__.County object at 0x000002817FBEC200>, <__main__.County object at 0x000002817FC13F80>, <__main__.County object at 0x000002817FBEC1D0>, <__main__.County object at 0x000002817FBEC470>], [<__main__.County object at 0x000002817FC13920>, <__main__.County object at 0x000002817FBECE30>, <__main__.County object at 0x000002817FBECBF0>, <__main__.County object at 0x000002817FBECE60>, <__main__.County object at 0x000002817FBED0A0>, <__main__.County object at 0x000002817FBED0D0>, <__main__.County object at 0x000002817FBED100>, <__main__.County object at 0x000002817FBED310>, <__main__.County object at 0x000002817FBED550>, <__main__.County object at 0x000002817FBED130>, <__main__.County object at 0x000002817FBED370>, <__main__.County object at 0x000002817FBECC20>], [<__main__.County object at 0x000002817FBEC620>, <__main__.County object at 0x000002817FBEC860>, <__main__.County object at 0x000002817FBECAA0>, <__main__.County object at 0x000002817FBECCE0>, <__main__.County object at 0x000002817FBECF20>, <__main__.County object at 0x000002817FBED160>, <__main__.County object at 0x000002817FBEC890>, <__main__.County object at 0x000002817FBEC650>, <__main__.County object at 0x000002817FBEC680>, <__main__.County object at 0x000002817FBED3A0>, <__main__.County object at 0x000002817FBED3D0>, <__main__.County object at 0x000002817FBED400>], [<__main__.County object at 0x000002817FBED490>, <__main__.County object at 0x000002817FBED4C0>, <__main__.County object at 0x000002817FBED460>, <__main__.County object at 0x000002817FBED280>, <__main__.County object at 0x000002817FBED2B0>, <__main__.County object at 0x000002817FBED040>, <__main__.County object at 0x000002817FBED4F0>, <__main__.County object at 0x000002817FBED250>, <__main__.County object at 0x000002817FBECE00>, <__main__.County object at 0x000002817FBED2E0>, <__main__.County object at 0x000002817FBED070>, <__main__.County object at 0x000002817FBED010>], [<__main__.County object at 0x000002817FBEC560>, <__main__.County object at 0x000002817FBEC530>, <__main__.County object at 0x000002817FBEC770>, <__main__.County object at 0x000002817FBEC9B0>, <__main__.County object at 0x000002817FBEC9E0>, <__main__.County object at 0x000002817FBECA10>, <__main__.County object at 0x000002817FBEC980>, <__main__.County object at 0x000002817FBECC50>, <__main__.County object at 0x000002817FBECE90>, <__main__.County object at 0x000002817FBECEC0>, <__main__.County object at 0x000002817FBECC80>, <__main__.County object at 0x000002817FBECCB0>], [<__main__.County object at 0x000002817FBED1C0>, <__main__.County object at 0x000002817FBEC8F0>, <__main__.County object at 0x000002817FBECDA0>, <__main__.County object at 0x000002817FBED340>, <__main__.County object at 0x000002817FC11DF0>, <__main__.County object at 0x000002817FC11E20>, <__main__.County object at 0x000002817FBEC710>, <__main__.County object at 0x000002817FBEC230>, <__main__.County object at 0x000002817FBECBC0>, <__main__.County object at 0x000002817FBED520>, <__main__.County object at 0x000002817FBECA70>, <__main__.County object at 0x000002817FBECEF0>]], [[<__main__.County object at 0x000002817FBEE510>, <__main__.County object at 0x000002817FBEE540>, <__main__.County object at 0x000002817FBEE300>, <__main__.County object at 0x000002817FBEE330>, <__main__.County object at 0x000002817FBEE0F0>, <__main__.County object at 0x000002817FBEE120>, <__main__.County object at 0x000002817FBEDEE0>, <__main__.County object at 0x000002817FBEE360>, <__main__.County object at 0x000002817FBEE5A0>, <__main__.County object at 0x000002817FBEE780>, <__main__.County object at 0x000002817FBEE9C0>, <__main__.County object at 0x000002817FBEE990>], [<__main__.County object at 0x000002817FBEDD00>, <__main__.County object at 0x000002817FBEDCD0>, <__main__.County object at 0x000002817FBED850>, <__main__.County object at 0x000002817FBED7F0>, <__main__.County object at 0x000002817FBED640>, <__main__.County object at 0x0000028110155A60>, <__main__.County object at 0x000002811000C2F0>, <__main__.County object at 0x000002817FBED580>, <__main__.County object at 0x000002817FBEDD30>, <__main__.County object at 0x000002817FBEDD60>, <__main__.County object at 0x000002817FBEDC70>, <__main__.County object at 0x000002817FBEDF10>], [<__main__.County object at 0x000002817FBEE900>, <__main__.County object at 0x000002817FBEE930>, <__main__.County object at 0x000002817FBEE6C0>, <__main__.County object at 0x000002817FBEE690>, <__main__.County object at 0x000002817FBEE960>, <__main__.County object at 0x000002817FBEE8D0>, <__main__.County object at 0x000002817FBEE8A0>, <__main__.County object at 0x000002817FBEEB10>, <__main__.County object at 0x000002817FBEE480>, <__main__.County object at 0x000002817FBEE4B0>, <__main__.County object at 0x000002817FBEE270>, <__main__.County object at 0x000002817FBEE240>], [<__main__.County object at 0x000002817FBEE210>, <__main__.County object at 0x000002817FBEE450>, <__main__.County object at 0x000002817FBEE420>, <__main__.County object at 0x000002817FBEE660>, <__main__.County object at 0x000002817FBEE630>, <__main__.County object at 0x000002817FBEE3F0>, <__main__.County object at 0x000002817FBEE3C0>, <__main__.County object at 0x000002817FBEE180>, <__main__.County object at 0x000002817FBEE870>, <__main__.County object at 0x000002817FBEE600>, <__main__.County object at 0x000002817FBEE1E0>, <__main__.County object at 0x000002817FBEDFA0>], [<__main__.County object at 0x000002817FBEDD90>, <__main__.County object at 0x000002817FBEDB50>, <__main__.County object at 0x000002817FBEDDC0>, <__main__.County object at 0x000002817FBEDDF0>, <__main__.County object at 0x000002817FBEDC10>, <__main__.County object at 0x000002817FBEDE20>, <__main__.County object at 0x000002817FBEE030>, <__main__.County object at 0x000002817FBEE000>, <__main__.County object at 0x000002817FBEE060>, <__main__.County object at 0x000002817FBEDBE0>, <__main__.County object at 0x000002817FBED6D0>, <__main__.County object at 0x000002817FBEDFD0>], [<__main__.County object at 0x000002817FBEE9F0>, <__main__.County object at 0x000002817FBEEC30>, <__main__.County object at 0x000002817FBEEC00>, <__main__.County object at 0x000002817FBEEBD0>, <__main__.County object at 0x000002817FBEEC60>, <__main__.County object at 0x000002817FBEEEA0>, <__main__.County object at 0x000002817FBEEED0>, <__main__.County object at 0x000002817FBEEE40>, <__main__.County object at 0x000002817FBEEE70>, <__main__.County object at 0x000002817FBEF080>, <__main__.County object at 0x000002817FBEF050>, <__main__.County object at 0x000002817FBEF0B0>], [<__main__.County object at 0x000002817FBED820>, <__main__.County object at 0x000002817FBED7C0>, <__main__.County object at 0x000002817FBED5E0>, <__main__.County object at 0x000002817FBED5B0>, <__main__.County object at 0x000002817FBED790>, <__main__.County object at 0x000002817FBED610>, <__main__.County object at 0x000002817FBED760>, <__main__.County object at 0x000002817FBEDCA0>, <__main__.County object at 0x000002817FBEE4E0>, <__main__.County object at 0x000002817FBEE720>, <__main__.County object at 0x000002817FBEE6F0>, <__main__.County object at 0x000002817FBEE2A0>], [<__main__.County object at 0x000002817FBEECC0>, <__main__.County object at 0x000002817FBEECF0>, <__main__.County object at 0x000002817FBEEF30>, <__main__.County object at 0x000002817FBEF170>, <__main__.County object at 0x000002817FBEEF60>, <__main__.County object at 0x000002817FBEEF90>, <__main__.County object at 0x000002817FBEEFC0>, <__main__.County object at 0x000002817FBEED80>, <__main__.County object at 0x000002817FBEEDB0>, <__main__.County object at 0x000002817FBEF200>, <__main__.County object at 0x000002817FBEEF00>, <__main__.County object at 0x000002817FBEEA80>], [<__main__.County object at 0x000002817FBED6A0>, <__main__.County object at 0x000002817FBED670>, <__main__.County object at 0x00000281101171A0>, <__main__.County object at 0x00000281102B3EC0>, <__main__.County object at 0x000002817FBEDAF0>, <__main__.County object at 0x000002817FBEDE80>, <__main__.County object at 0x000002817FBEDE50>, <__main__.County object at 0x000002817FBEE090>, <__main__.County object at 0x000002817FBEE0C0>, <__main__.County object at 0x000002817FBEDBB0>, <__main__.County object at 0x000002817FBEDC40>, <__main__.County object at 0x000002817FBEDB80>], [<__main__.County object at 0x000002817FBEDF70>, <__main__.County object at 0x000002817FBEDF40>, <__main__.County object at 0x000002817FBEE1B0>, <__main__.County object at 0x000002817FBEF020>, <__main__.County object at 0x000002817FBEEDE0>, <__main__.County object at 0x000002817FBEF260>, <__main__.County object at 0x000002817FBEEFF0>, <__main__.County object at 0x000002817FBEF230>, <__main__.County object at 0x000002817FBEEBA0>, <__main__.County object at 0x000002817FBEEB70>, <__main__.County object at 0x000002817FBEEB40>, <__main__.County object at 0x000002817FBEEAE0>], [<__main__.County object at 0x000002817FBEE810>, <__main__.County object at 0x000002817FBEE840>, <__main__.County object at 0x000002817FBEE7E0>, <__main__.County object at 0x000002817FBEE7B0>, <__main__.County object at 0x000002817FBEEA20>, <__main__.County object at 0x000002817FBEEA50>, <__main__.County object at 0x000002817FBEEC90>, <__main__.County object at 0x000002817FBEE5D0>, <__main__.County object at 0x000002817FBEE390>, <__main__.County object at 0x000002817FBEE570>, <__main__.County object at 0x000002817FBEE150>, <__main__.County object at 0x000002817FBEF1D0>], [<__main__.County object at 0x000002817FBEDEB0>, <__main__.County object at 0x000002817FBEEAB0>, <__main__.County object at 0x000002817FBEED50>, <__main__.County object at 0x000002817FBEED20>, <__main__.County object at 0x000002817FBEF1A0>, <__main__.County object at 0x000002817FBEF0E0>, <__main__.County object at 0x000002817FBEF110>, <__main__.County object at 0x000002817FBEF140>, <__main__.County object at 0x000002817FBEEE10>, <__main__.County object at 0x000002817FBEE750>, <__main__.County object at 0x000002817FBEE2D0>, <__main__.County object at 0x000002816CC6F770>]], [[<__main__.County object at 0x000002817FC20500>, <__main__.County object at 0x000002817FC20530>, <__main__.County object at 0x000002817FC202C0>, <__main__.County object at 0x000002817FC200E0>, <__main__.County object at 0x000002817FBEFE60>, <__main__.County object at 0x000002817FBEFE90>, <__main__.County object at 0x000002817FBEFEC0>, <__main__.County object at 0x000002817FC20140>, <__main__.County object at 0x000002817FC20170>, <__main__.County object at 0x000002817FBEFC80>, <__main__.County object at 0x000002817FC20110>, <__main__.County object at 0x000002817FC20770>], [<__main__.County object at 0x000002817FBEF2C0>, <__main__.County object at 0x000002817FBEF2F0>, <__main__.County object at 0x000002817FBEF590>, <__main__.County object at 0x000002817FBEF440>, <__main__.County object at 0x000002817FBEF4D0>, <__main__.County object at 0x000002817FBEF5C0>, <__main__.County object at 0x000002817FBEF530>, <__main__.County object at 0x000002817FBEF800>, <__main__.County object at 0x000002817FBEF830>, <__main__.County object at 0x000002817FBEF320>, <__main__.County object at 0x000002817FBEF740>, <__main__.County object at 0x000002817FBEFA70>], [<__main__.County object at 0x000002817FBEFCE0>, <__main__.County object at 0x000002817FBEFCB0>, <__main__.County object at 0x000002817FBEFAA0>, <__main__.County object at 0x000002817FBEFEF0>, <__main__.County object at 0x000002817FBEFF20>, <__main__.County object at 0x000002817FC201A0>, <__main__.County object at 0x000002817FC201D0>, <__main__.County object at 0x000002817FC20200>, <__main__.County object at 0x000002817FC20380>, <__main__.County object at 0x000002817FC205C0>, <__main__.County object at 0x000002817FC203E0>, <__main__.County object at 0x000002817FBEF860>], [<__main__.County object at 0x000002817FBEDA90>, <__main__.County object at 0x000002817FBEF9B0>, <__main__.County object at 0x000002817FBEF980>, <__main__.County object at 0x000002817FBEF950>, <__main__.County object at 0x000002817FBEF920>, <__main__.County object at 0x000002817FBEFB60>, <__main__.County object at 0x000002817FBEFDA0>, <__main__.County object at 0x000002817FBEFD70>, <__main__.County object at 0x000002817FBEFFE0>, <__main__.County object at 0x000002817FBEFBC0>, <__main__.County object at 0x000002817FBEFE00>, <__main__.County object at 0x000002817FBEF470>], [<__main__.County object at 0x000002817FC20440>, <__main__.County object at 0x000002817FC20470>, <__main__.County object at 0x000002817FC204A0>, <__main__.County object at 0x000002817FC20260>, <__main__.County object at 0x000002817FC20680>, <__main__.County object at 0x000002817FC208C0>, <__main__.County object at 0x000002817FC208F0>, <__main__.County object at 0x000002817FC20890>, <__main__.County object at 0x000002817FC20B30>, <__main__.County object at 0x000002817FC20B60>, <__main__.County object at 0x000002817FC20AD0>, <__main__.County object at 0x000002817FC20920>], [<__main__.County object at 0x000002817FBEF8C0>, <__main__.County object at 0x000002817FBEF8F0>, <__main__.County object at 0x000002817FBEDB20>, <__main__.County object at 0x000002817FBEF710>, <__main__.County object at 0x000002817FBEF350>, <__main__.County object at 0x000002817FBEFB30>, <__main__.County object at 0x000002817FBEFB00>, <__main__.County object at 0x000002817FBEFAD0>, <__main__.County object at 0x000002817FBEFD40>, <__main__.County object at 0x000002817FBEFF80>, <__main__.County object at 0x000002817FBEFFB0>, <__main__.County object at 0x000002817FBEFD10>], [<__main__.County object at 0x000002817FC209B0>, <__main__.County object at 0x000002817FC209E0>, <__main__.County object at 0x000002817FC20A10>, <__main__.County object at 0x000002817FC207A0>, <__main__.County object at 0x000002817FC20C20>, <__main__.County object at 0x000002817FC20C50>, <__main__.County object at 0x000002817FC20C80>, <__main__.County object at 0x000002817FC20CB0>, <__main__.County object at 0x000002817FC20A70>, <__main__.County object at 0x000002817FC20CE0>, <__main__.County object at 0x000002817FC20830>, <__main__.County object at 0x000002817FC20BF0>], [<__main__.County object at 0x0000028110155940>, <__main__.County object at 0x000002817FBEF290>, <__main__.County object at 0x000002817FBEF560>, <__main__.County object at 0x000002817FBEF7A0>, <__main__.County object at 0x000002817FBEF9E0>, <__main__.County object at 0x000002817FBEFC20>, <__main__.County object at 0x000002817FBEFC50>, <__main__.County object at 0x000002817FBEFA10>, <__main__.County object at 0x000002817FBEF7D0>, <__main__.County object at 0x000002817FBEFA40>, <__main__.County object at 0x000002817FC20350>, <__main__.County object at 0x000002817FC20590>], [<__main__.County object at 0x000002817FC205F0>, <__main__.County object at 0x000002817FC203B0>, <__main__.County object at 0x000002817FC20620>, <__main__.County object at 0x000002817FC20650>, <__main__.County object at 0x000002817FC20860>, <__main__.County object at 0x000002817FC20410>, <__main__.County object at 0x000002817FC20230>, <__main__.County object at 0x000002817FBED700>, <__main__.County object at 0x000002817FBED730>, <__main__.County object at 0x000002817FC20AA0>, <__main__.County object at 0x000002817FC20050>, <__main__.County object at 0x000002817FC20080>], [<__main__.County object at 0x000002817FC200B0>, <__main__.County object at 0x000002817FBEFE30>, <__main__.County object at 0x000002817FBEFBF0>, <__main__.County object at 0x000002817FC20290>, <__main__.County object at 0x000002817FC204D0>, <__main__.County object at 0x000002817FC20710>, <__main__.County object at 0x000002817FC20950>, <__main__.County object at 0x000002817FC206E0>, <__main__.County object at 0x000002817FC20B90>, <__main__.County object at 0x000002817FC206B0>, <__main__.County object at 0x000002817FC20DD0>, <__main__.County object at 0x000002817FC20DA0>], [<__main__.County object at 0x000002817FC20BC0>, <__main__.County object at 0x000002817FC20980>, <__main__.County object at 0x000002817FC20740>, <__main__.County object at 0x000002817FC20B00>, <__main__.County object at 0x000002817FC20D40>, <__main__.County object at 0x000002817FC20D70>, <__main__.County object at 0x000002817FC20D10>, <__main__.County object at 0x000002817FC20800>, <__main__.County object at 0x000002817FC20A40>, <__main__.County object at 0x000002817FC207D0>, <__main__.County object at 0x000002817FC20560>, <__main__.County object at 0x000002817FC20320>], [<__main__.County object at 0x000002817FBEF3E0>, <__main__.County object at 0x000002817FBEF4A0>, <__main__.County object at 0x000002817FBEF410>, <__main__.County object at 0x000002817FBEF3B0>, <__main__.County object at 0x000002817FBEF380>, <__main__.County object at 0x000002817FBEFB90>, <__main__.County object at 0x000002817FBEFDD0>, <__main__.County object at 0x000002817FBEFF50>, <__main__.County object at 0x000002817FBED9D0>, <__main__.County object at 0x000002817FBEF890>, <__main__.County object at 0x000002817FBEF500>, <__main__.County object at 0x000002817FC202F0>]], [[<__main__.County object at 0x000002817FC211C0>, <__main__.County object at 0x00000281101A9010>, <__main__.County object at 0x000002817FC20EF0>, <__main__.County object at 0x000002817FC6D8B0>, <__main__.County object at 0x000002817FC210D0>, <__main__.County object at 0x000002817FC21550>, <__main__.County object at 0x000002817FC21790>, <__main__.County object at 0x000002817FC217C0>, <__main__.County object at 0x000002817FC21A00>, <__main__.County object at 0x000002817FC217F0>, <__main__.County object at 0x000002817FC21220>, <__main__.County object at 0x000002817FC21040>], [<__main__.County object at 0x000002817FC21EE0>, <__main__.County object at 0x000002817FC21F10>, <__main__.County object at 0x000002817FC21F40>, <__main__.County object at 0x000002817FC22180>, <__main__.County object at 0x000002817FC21F70>, <__main__.County object at 0x000002817FC21FA0>, <__main__.County object at 0x000002817FC221E0>, <__main__.County object at 0x000002817FC22210>, <__main__.County object at 0x000002817FC22240>, <__main__.County object at 0x000002817FC21CD0>, <__main__.County object at 0x000002817FC221B0>, <__main__.County object at 0x000002817FC21D60>], [<__main__.County object at 0x000002817FC21880>, <__main__.County object at 0x000002817FC218B0>, <__main__.County object at 0x000002817FC21640>, <__main__.County object at 0x000002817FC21400>, <__main__.County object at 0x000002817FC210A0>, <__main__.County object at 0x000002817FC21190>, <__main__.County object at 0x000002817FC20E90>, <__main__.County object at 0x000002817FC21070>, <__main__.County object at 0x000002817FC21160>, <__main__.County object at 0x000002817FC21610>, <__main__.County object at 0x000002817FC213D0>, <__main__.County object at 0x000002817FC21850>], [<__main__.County object at 0x000002817FC213A0>, <__main__.County object at 0x000002817FC215E0>, <__main__.County object at 0x000002817FC21250>, <__main__.County object at 0x000002817FC215B0>, <__main__.County object at 0x000002817FC21820>, <__main__.County object at 0x000002817FC21A60>, <__main__.County object at 0x000002817FC21A90>, <__main__.County object at 0x000002817FC21580>, <__main__.County object at 0x000002817FC21100>, <__main__.County object at 0x000002817FC21A30>, <__main__.County object at 0x000002817FC21C70>, <__main__.County object at 0x000002817FC21EB0>], [<__main__.County object at 0x000002817FC21C40>, <__main__.County object at 0x000002817FC21C10>, <__main__.County object at 0x000002817FC219D0>, <__main__.County object at 0x000002817FC21E50>, <__main__.County object at 0x000002817FC21E20>, <__main__.County object at 0x000002817FC22060>, <__main__.County object at 0x000002817FC22090>, <__main__.County object at 0x000002817FC222D0>, <__main__.County object at 0x000002817FC21E80>, <__main__.County object at 0x000002817FC22300>, <__main__.County object at 0x000002817FC22330>, <__main__.County object at 0x000002817FC22570>], [<__main__.County object at 0x000002817FC20F80>, <__main__.County object at 0x000002817FC20EC0>, <__main__.County object at 0x000002817FC21370>, <__main__.County object at 0x000002817FC21280>, <__main__.County object at 0x000002817FC21310>, <__main__.County object at 0x000002817FC212E0>, <__main__.County object at 0x000002817FC214C0>, <__main__.County object at 0x000002817FC21490>, <__main__.County object at 0x000002817FC216D0>, <__main__.County object at 0x000002817FC216A0>, <__main__.County object at 0x000002817FC218E0>, <__main__.County object at 0x000002817FC21670>], [<__main__.County object at 0x000002817FC22750>, <__main__.County object at 0x000002817FC22720>, <__main__.County object at 0x000002817FC22780>, <__main__.County object at 0x000002817FC227B0>, <__main__.County object at 0x000002817FC227E0>, <__main__.County object at 0x000002817FC225A0>, <__main__.County object at 0x000002817FC22360>, <__main__.County object at 0x000002817FC22390>, <__main__.County object at 0x000002817FC223C0>, <__main__.County object at 0x000002817FC22600>, <__main__.County object at 0x000002817FC223F0>, <__main__.County object at 0x000002817FC22420>], [<__main__.County object at 0x000002817FC20E30>, <__main__.County object at 0x000002817FC20E60>, <__main__.County object at 0x000002817FC20E00>, <__main__.County object at 0x000002817FC211F0>, <__main__.County object at 0x000002817FC21130>, <__main__.County object at 0x000002817FC22480>, <__main__.County object at 0x000002817FC22450>, <__main__.County object at 0x000002817FC22690>, <__main__.County object at 0x000002817FC22660>, <__main__.County object at 0x000002817FC228D0>, <__main__.County object at 0x000002817FC22630>, <__main__.County object at 0x000002817FC22870>], [<__main__.County object at 0x000002817FC21520>, <__main__.County object at 0x000002817FC21760>, <__main__.County object at 0x000002817FC219A0>, <__main__.County object at 0x000002817FC21BE0>, <__main__.County object at 0x000002817FC21B20>, <__main__.County object at 0x000002817FC21AF0>, <__main__.County object at 0x000002817FC21AC0>, <__main__.County object at 0x000002817FC21B50>, <__main__.County object at 0x000002817FC21910>, <__main__.County object at 0x000002817FC21940>, <__main__.County object at 0x000002817FC21970>, <__main__.County object at 0x000002817FC21BB0>], [<__main__.County object at 0x000002817FC21430>, <__main__.County object at 0x000002817FC21340>, <__main__.County object at 0x000002817FC21460>, <__main__.County object at 0x000002817FC22270>, <__main__.County object at 0x000002817FC224B0>, <__main__.County object at 0x000002817FC226F0>, <__main__.County object at 0x000002817FC22930>, <__main__.County object at 0x000002817FC22900>, <__main__.County object at 0x000002817FC22030>, <__main__.County object at 0x000002817FC21DF0>, <__main__.County object at 0x000002817FC21DC0>, <__main__.County object at 0x000002817FC21B80>], [<__main__.County object at 0x000002817FC20F20>, <__main__.County object at 0x000002817FC20F50>, <__main__.County object at 0x000002817FC214F0>, <__main__.County object at 0x000002817FC21730>, <__main__.County object at 0x000002817FC21700>, <__main__.County object at 0x000002817FC21CA0>, <__main__.County object at 0x000002817FC22840>, <__main__.County object at 0x000002817FC22810>, <__main__.County object at 0x000002817FC225D0>, <__main__.County object at 0x000002817FC22120>, <__main__.County object at 0x000002817FC22150>, <__main__.County object at 0x000002817FC220F0>], [<__main__.County object at 0x000002817FC224E0>, <__main__.County object at 0x000002817FC222A0>, <__main__.County object at 0x000002817FC22510>, <__main__.County object at 0x000002817FC22540>, <__main__.County object at 0x000002817FC220C0>, <__main__.County object at 0x000002817FC228A0>, <__main__.County object at 0x000002817FC21D00>, <__main__.County object at 0x000002817FC21D30>, <__main__.County object at 0x000002817FC226C0>, <__main__.County object at 0x000002817FC21D90>, <__main__.County object at 0x000002817FC21FD0>, <__main__.County object at 0x000002817FC22000>]], [[<__main__.County object at 0x000002817FC232F0>, <__main__.County object at 0x000002817FC23530>, <__main__.County object at 0x000002817FC230B0>, <__main__.County object at 0x000002817FC23080>, <__main__.County object at 0x000002817FC23050>, <__main__.County object at 0x000002817FC232C0>, <__main__.County object at 0x000002817FC23560>, <__main__.County object at 0x000002817FC23590>, <__main__.County object at 0x000002817FC237D0>, <__main__.County object at 0x000002817FC23800>, <__main__.County object at 0x000002817FC23500>, <__main__.County object at 0x000002817FC234D0>], [<__main__.County object at 0x000002817FC22ED0>, <__main__.County object at 0x000002817FC22F00>, <__main__.County object at 0x000002817FC23140>, <__main__.County object at 0x000002817FC212B0>, <__main__.County object at 0x000002817FC229F0>, <__main__.County object at 0x000002817FC22CC0>, <__main__.County object at 0x000002817FC22B70>, <__main__.County object at 0x000002817FC23110>, <__main__.County object at 0x000002817FC23350>, <__main__.County object at 0x000002817FC23320>, <__main__.County object at 0x000002817FC22EA0>, <__main__.County object at 0x000002817FC22BD0>], [<__main__.County object at 0x000002817FC22C00>, <__main__.County object at 0x000002817FC22A80>, <__main__.County object at 0x000002817FC22A50>, <__main__.County object at 0x000002817FC7DFA0>, <__main__.County object at 0x000002817FC7F6B0>, <__main__.County object at 0x000002817FBEF5F0>, <__main__.County object at 0x000002817FF10FB0>, <__main__.County object at 0x000002817FC22FC0>, <__main__.County object at 0x000002817FC22FF0>, <__main__.County object at 0x000002817FC22F90>, <__main__.County object at 0x000002817FC22960>, <__main__.County object at 0x000002817FC23200>], [<__main__.County object at 0x000002817FC22C90>, <__main__.County object at 0x000002817FC22BA0>, <__main__.County object at 0x000002817FC229C0>, <__main__.County object at 0x000002817FC22990>, <__main__.County object at 0x000002817FC22E70>, <__main__.County object at 0x000002817FC22E40>, <__main__.County object at 0x000002817FC22E10>, <__main__.County object at 0x000002817FC22DB0>, <__main__.County object at 0x000002817FC22CF0>, <__main__.County object at 0x000002817FC22C30>, <__main__.County object at 0x000002817FC22D50>, <__main__.County object at 0x000002817FC23020>], [<__main__.County object at 0x000002817FC23440>, <__main__.County object at 0x000002817FC23470>, <__main__.County object at 0x000002817FC23410>, <__main__.County object at 0x000002817FC23650>, <__main__.County object at 0x000002817FC23890>, <__main__.County object at 0x000002817FC238C0>, <__main__.County object at 0x000002817FC23B00>, <__main__.County object at 0x000002817FC23B30>, <__main__.County object at 0x000002817FC23D70>, <__main__.County object at 0x000002817FC23DA0>, <__main__.County object at 0x000002817FC23DD0>, <__main__.County object at 0x000002817FC23B90>], [<__main__.County object at 0x000002817FC235F0>, <__main__.County object at 0x000002817FC23830>, <__main__.County object at 0x000002817FC23620>, <__main__.County object at 0x000002817FC233E0>, <__main__.County object at 0x000002817FC233B0>, <__main__.County object at 0x000002817FC23860>, <__main__.County object at 0x000002817FC23AA0>, <__main__.County object at 0x000002817FC23CE0>, <__main__.County object at 0x000002817FC23F20>, <__main__.County object at 0x000002817FC23CB0>, <__main__.County object at 0x000002817FC23170>, <__main__.County object at 0x000002817FC23380>], [<__main__.County object at 0x000002817FC23260>, <__main__.County object at 0x000002817FC23230>, <__main__.County object at 0x000002817FC234A0>, <__main__.County object at 0x000002817FC23290>, <__main__.County object at 0x000002817FC236E0>, <__main__.County object at 0x000002817FC23920>, <__main__.County object at 0x000002817FC23950>, <__main__.County object at 0x000002817FC238F0>, <__main__.County object at 0x000002817FC23980>, <__main__.County object at 0x000002817FC23BC0>, <__main__.County object at 0x000002817FC23BF0>, <__main__.County object at 0x000002817FC23E30>], [<__main__.County object at 0x000002811043C140>, <__main__.County object at 0x000002811043C110>, <__main__.County object at 0x000002811043C380>, <__main__.County object at 0x000002811043C3B0>, <__main__.County object at 0x000002811043C170>, <__main__.County object at 0x000002811043C0E0>, <__main__.County object at 0x000002817FC23E60>, <__main__.County object at 0x000002817FC23C20>, <__main__.County object at 0x000002817FC23E90>, <__main__.County object at 0x000002817FC23EC0>, <__main__.County object at 0x000002817FC23C80>, <__main__.County object at 0x000002811043C320>], [<__main__.County object at 0x000002811043C260>, <__main__.County object at 0x000002811043C290>, <__main__.County object at 0x000002811043C2C0>, <__main__.County object at 0x000002811043C2F0>, <__main__.County object at 0x000002817FC23FE0>, <__main__.County object at 0x000002817FC23FB0>, <__main__.County object at 0x000002817FC23F80>, <__main__.County object at 0x000002817FC23D40>, <__main__.County object at 0x000002811043C230>, <__main__.County object at 0x000002817FC23D10>, <__main__.County object at 0x000002811043C0B0>, <__main__.County object at 0x000002811043C200>], [<__main__.County object at 0x000002817FC23A10>, <__main__.County object at 0x000002817FC23A40>, <__main__.County object at 0x000002817FC239E0>, <__main__.County object at 0x000002817FC23A70>, <__main__.County object at 0x000002817FC239B0>, <__main__.County object at 0x000002817FC23C50>, <__main__.County object at 0x000002817FC237A0>, <__main__.County object at 0x000002817FC23770>, <__main__.County object at 0x000002817FC23740>, <__main__.County object at 0x000002817FC23710>, <__main__.County object at 0x000002817FC23E00>, <__main__.County object at 0x000002811043C080>], [<__main__.County object at 0x000002817FC22D80>, <__main__.County object at 0x000002817FC22AB0>, <__main__.County object at 0x000002817FC23680>, <__main__.County object at 0x000002817FC236B0>, <__main__.County object at 0x000002817FC235C0>, <__main__.County object at 0x000002817FC230E0>, <__main__.County object at 0x000002817FC22AE0>, <__main__.County object at 0x000002817FC22A20>, <__main__.County object at 0x000002817FC20FE0>, <__main__.County object at 0x000002817FC22F60>, <__main__.County object at 0x000002817FC22F30>, <__main__.County object at 0x000002817FC231A0>], [<__main__.County object at 0x000002817FC22C60>, <__main__.County object at 0x000002817FC23EF0>, <__main__.County object at 0x000002811043C3E0>, <__main__.County object at 0x000002811043C1A0>, <__main__.County object at 0x000002811043C350>, <__main__.County object at 0x000002817FC23B60>, <__main__.County object at 0x000002811043C1D0>, <__main__.County object at 0x000002817FC23F50>, <__main__.County object at 0x000002811043C050>, <__main__.County object at 0x000002817FC23AD0>, <__main__.County object at 0x000002817FC231D0>, <__main__.County object at 0x000002817FC22D20>]], [[<__main__.County object at 0x000002811043D5E0>, <__main__.County object at 0x000002811043D820>, <__main__.County object at 0x000002811043D850>, <__main__.County object at 0x000002811043DA60>, <__main__.County object at 0x000002811043DA30>, <__main__.County object at 0x000002811043DC70>, <__main__.County object at 0x000002811043DA90>, <__main__.County object at 0x000002811043D7F0>, <__main__.County object at 0x000002811043D3A0>, <__main__.County object at 0x000002811043D3D0>, <__main__.County object at 0x000002811043D190>, <__main__.County object at 0x000002811043D5B0>], [<__main__.County object at 0x0000028110147620>, <__main__.County object at 0x000002817FC7C5F0>, <__main__.County object at 0x000002811043C500>, <__main__.County object at 0x000002811043C920>, <__main__.County object at 0x000002811043C710>, <__main__.County object at 0x000002811043C650>, <__main__.County object at 0x000002811043C950>, <__main__.County object at 0x000002811043CA40>, <__main__.County object at 0x000002811043CBF0>, <__main__.County object at 0x000002817FC7C830>, <__main__.County object at 0x000002811043C530>, <__main__.County object at 0x000002811043CC50>], [<__main__.County object at 0x000002811043CCE0>, <__main__.County object at 0x000002811043CDA0>, <__main__.County object at 0x000002811043CD70>, <__main__.County object at 0x000002811043CAA0>, <__main__.County object at 0x000002811043CAD0>, <__main__.County object at 0x000002811043CDD0>, <__main__.County object at 0x000002811043CE00>, <__main__.County object at 0x000002811043D010>, <__main__.County object at 0x000002811043CCB0>, <__main__.County object at 0x000002811043CFB0>, <__main__.County object at 0x000002811043CF80>, <__main__.County object at 0x000002811043D250>], [<__main__.County object at 0x000002811043C6E0>, <__main__.County object at 0x000002811043CA10>, <__main__.County object at 0x000002811043C9B0>, <__main__.County object at 0x000002811043C980>, <__main__.County object at 0x000002811043C860>, <__main__.County object at 0x000002811043C620>, <__main__.County object at 0x000002811043C590>, <__main__.County object at 0x000002811043C560>, <__main__.County object at 0x000002811043CBC0>, <__main__.County object at 0x000002811043CB30>, <__main__.County object at 0x00000281107FC3B0>, <__main__.County object at 0x000002811043C9E0>], [<__main__.County object at 0x000002811043D2E0>, <__main__.County object at 0x000002811043D0A0>, <__main__.County object at 0x000002811043D0D0>, <__main__.County object at 0x000002811043D100>, <__main__.County object at 0x000002811043D2B0>, <__main__.County object at 0x000002811043D520>, <__main__.County object at 0x000002811043D550>, <__main__.County object at 0x000002811043D790>, <__main__.County object at 0x000002811043D580>, <__main__.County object at 0x000002811043CE60>, <__main__.County object at 0x000002811043CE90>, <__main__.County object at 0x000002811043D760>], [<__main__.County object at 0x000002811043C470>, <__main__.County object at 0x000002811043C440>, <__main__.County object at 0x000002811043C410>, <__main__.County object at 0x000002811043C680>, <__main__.County object at 0x000002811043CA70>, <__main__.County object at 0x000002811043C740>, <__main__.County object at 0x000002811043C770>, <__main__.County object at 0x000002811043C6B0>, <__main__.County object at 0x000002811043D6D0>, <__main__.County object at 0x000002811043D490>, <__main__.County object at 0x000002811043D460>, <__main__.County object at 0x000002811043D910>], [<__main__.County object at 0x000002811043CF20>, <__main__.County object at 0x000002811043CEF0>, <__main__.County object at 0x000002811043D130>, <__main__.County object at 0x000002811043CF50>, <__main__.County object at 0x000002811043CD10>, <__main__.County object at 0x000002811043CD40>, <__main__.County object at 0x000002811043C5C0>, <__main__.County object at 0x000002811043CC20>, <__main__.County object at 0x000002816E0F0710>, <__main__.County object at 0x000002811043D160>, <__main__.County object at 0x000002811043CC80>, <__main__.County object at 0x000002811043D370>], [<__main__.County object at 0x000002811043D1F0>, <__main__.County object at 0x000002811043D430>, <__main__.County object at 0x000002811043D670>, <__main__.County object at 0x000002811043D1C0>, <__main__.County object at 0x000002811043D8B0>, <__main__.County object at 0x000002811043DAF0>, <__main__.County object at 0x000002811043D8E0>, <__main__.County object at 0x000002811043DD30>, <__main__.County object at 0x000002811043DD60>, <__main__.County object at 0x000002811043DAC0>, <__main__.County object at 0x000002811043D6A0>, <__main__.County object at 0x000002811043DD00>], [<__main__.County object at 0x0000028110146B40>, <__main__.County object at 0x00000281101545F0>, <__main__.County object at 0x00000281107FC170>, <__main__.County object at 0x000002811043CB60>, <__main__.County object at 0x0000028110147AA0>, <__main__.County object at 0x000002811043CE30>, <__main__.County object at 0x000002811043D070>, <__main__.County object at 0x0000028110147A40>, <__main__.County object at 0x000002811043CB90>, <__main__.County object at 0x000002811043CB00>, <__main__.County object at 0x000002811043D040>, <__main__.County object at 0x000002811043D280>], [<__main__.County object at 0x000002811043DDC0>, <__main__.County object at 0x000002811043DB80>, <__main__.County object at 0x000002811043D940>, <__main__.County object at 0x000002811043D700>, <__main__.County object at 0x000002811043D730>, <__main__.County object at 0x000002811043D4F0>, <__main__.County object at 0x000002811043DB50>, <__main__.County object at 0x000002811043D4C0>, <__main__.County object at 0x000002811043DBB0>, <__main__.County object at 0x000002811043DBE0>, <__main__.County object at 0x000002811043D9A0>, <__main__.County object at 0x000002811043DD90>], [<__main__.County object at 0x000002811043C4D0>, <__main__.County object at 0x000002811043C4A0>, <__main__.County object at 0x000002811043DE80>, <__main__.County object at 0x000002811043DE50>, <__main__.County object at 0x000002811043DE20>, <__main__.County object at 0x000002811043DC10>, <__main__.County object at 0x000002811043D9D0>, <__main__.County object at 0x000002811043DC40>, <__main__.County object at 0x000002811043DA00>, <__main__.County object at 0x000002811043D7C0>, <__main__.County object at 0x000002811043DDF0>, <__main__.County object at 0x000002811043D340>], [<__main__.County object at 0x000002811043CFE0>, <__main__.County object at 0x000002811043D220>, <__main__.County object at 0x000002811043D310>, <__main__.County object at 0x000002811043CEC0>, <__main__.County object at 0x000002811043D970>, <__main__.County object at 0x000002811043DB20>, <__main__.County object at 0x000002811043D880>, <__main__.County object at 0x000002811043D640>, <__main__.County object at 0x000002811043D400>, <__main__.County object at 0x000002811043D610>, <__main__.County object at 0x000002811043DCD0>, <__main__.County object at 0x000002811043DCA0>]]], [[[<__main__.County object at 0x000002811043EDB0>, <__main__.County object at 0x000002811043EB40>, <__main__.County object at 0x000002811043ED80>, <__main__.County object at 0x000002811043EFF0>, <__main__.County object at 0x000002811043EB70>, <__main__.County object at 0x000002811043E900>, <__main__.County object at 0x000002811043EBA0>, <__main__.County object at 0x000002811043EE10>, <__main__.County object at 0x000002811043F080>, <__main__.County object at 0x000002811043F050>, <__main__.County object at 0x000002811043F2C0>, <__main__.County object at 0x000002811043E690>, <__main__.County object at 0x000002811043F260>], [<__main__.County object at 0x000002811010D730>, <__main__.County object at 0x000002811010D790>, <__main__.County object at 0x000002811010C830>, <__main__.County object at 0x000002811010D7F0>, <__main__.County object at 0x000002811010D880>, <__main__.County object at 0x000002811010C950>, <__main__.County object at 0x000002811043F7D0>, <__main__.County object at 0x000002811043F800>, <__main__.County object at 0x000002811043F830>, <__main__.County object at 0x000002811043F860>, <__main__.County object at 0x000002811010CDA0>, <__main__.County object at 0x000002811010CC20>, <__main__.County object at 0x000002811043F560>], [<__main__.County object at 0x000002811043F500>, <__main__.County object at 0x000002811043F290>, <__main__.County object at 0x000002811043F4D0>, <__main__.County object at 0x000002811043F740>, <__main__.County object at 0x000002811043F770>, <__main__.County object at 0x000002811043F7A0>, <__main__.County object at 0x000002811043F530>, <__main__.County object at 0x000002817FC78050>, <__main__.County object at 0x000002811043F020>, <__main__.County object at 0x000002811010E0F0>, <__main__.County object at 0x000002811010E090>, <__main__.County object at 0x000002811010D490>, <__main__.County object at 0x000002811010D640>], [<__main__.County object at 0x000002811043E120>, <__main__.County object at 0x000002811043E150>, <__main__.County object at 0x000002811043E2A0>, <__main__.County object at 0x000002811043E240>, <__main__.County object at 0x000002811043E210>, <__main__.County object at 0x000002811043DEE0>, <__main__.County object at 0x000002811043DEB0>, <__main__.County object at 0x000002811010E300>, <__main__.County object at 0x000002811018C7D0>, <__main__.County object at 0x000002811043E270>, <__main__.County object at 0x000002811043E360>, <__main__.County object at 0x000002811043E1E0>, <__main__.County object at 0x000002811043E1B0>], [<__main__.County object at 0x000002811043E6C0>, <__main__.County object at 0x000002811043E390>, <__main__.County object at 0x000002811043E930>, <__main__.County object at 0x000002811043E960>, <__main__.County object at 0x000002811043E990>, <__main__.County object at 0x000002811043E9C0>, <__main__.County object at 0x000002811043E750>, <__main__.County object at 0x000002811043EC00>, <__main__.County object at 0x000002811043E780>, <__main__.County object at 0x000002811043E510>, <__main__.County object at 0x000002811043E540>, <__main__.County object at 0x000002811043E570>, <__main__.County object at 0x000002811043EC30>], [<__main__.County object at 0x000002811043EED0>, <__main__.County object at 0x000002811043F140>, <__main__.County object at 0x000002811043EC60>, <__main__.County object at 0x000002811043EF00>, <__main__.County object at 0x000002811043F3B0>, <__main__.County object at 0x000002811043EF30>, <__main__.County object at 0x000002811043EF60>, <__main__.County object at 0x000002811043ECF0>, <__main__.County object at 0x000002811043ED20>, <__main__.County object at 0x000002811043EAB0>, <__main__.County object at 0x000002811043ED50>, <__main__.County object at 0x000002811043EFC0>, <__main__.County object at 0x000002811043F230>], [<__main__.County object at 0x000002811043DF70>, <__main__.County object at 0x000002811043E030>, <__main__.County object at 0x000002811043E000>, <__main__.County object at 0x000002811043DFD0>, <__main__.County object at 0x000002811043E3F0>, <__main__.County object at 0x000002811043E5D0>, <__main__.County object at 0x000002811043E3C0>, <__main__.County object at 0x000002811043E0C0>, <__main__.County object at 0x000002811043DFA0>, <__main__.County object at 0x000002811043C890>, <__main__.County object at 0x000002811043C8C0>, <__main__.County object at 0x000002811043E450>, <__main__.County object at 0x000002811043E420>], [<__main__.County object at 0x000002811043F440>, <__main__.County object at 0x000002811043F470>, <__main__.County object at 0x000002811043F6E0>, <__main__.County object at 0x000002811043F6B0>, <__main__.County object at 0x000002811043F920>, <__main__.County object at 0x000002811043F200>, <__main__.County object at 0x000002811043F8F0>, <__main__.County object at 0x000002811043F8C0>, <__main__.County object at 0x000002811010CF80>, <__main__.County object at 0x000002811010CEF0>, <__main__.County object at 0x000002811010DFA0>, <__main__.County object at 0x000002811010CE90>, <__main__.County object at 0x000002811010E000>], [<__main__.County object at 0x000002811043E660>, <__main__.County object at 0x000002811043E180>, <__main__.County object at 0x000002811043E2D0>, <__main__.County object at 0x000002811043E8D0>, <__main__.County object at 0x000002811043E8A0>, <__main__.County object at 0x000002811043EB10>, <__main__.County object at 0x000002811043E630>, <__main__.County object at 0x000002811043EA20>, <__main__.County object at 0x000002811043E7B0>, <__main__.County object at 0x000002811043E7E0>, <__main__.County object at 0x000002811043E810>, <__main__.County object at 0x000002811043EA50>, <__main__.County object at 0x000002811043E5A0>], [<__main__.County object at 0x000002811010D040>, <__main__.County object at 0x000002811010CFE0>, <__main__.County object at 0x000002811010DD90>, <__main__.County object at 0x000002811010CE30>, <__main__.County object at 0x000002811010E1E0>, <__main__.County object at 0x000002811010D6A0>, <__main__.County object at 0x000002811043F980>, <__main__.County object at 0x000002811043F950>, <__main__.County object at 0x000002811043F710>, <__main__.County object at 0x000002811043F4A0>, <__main__.County object at 0x000002811010E150>, <__main__.County object at 0x000002811043F5F0>, <__main__.County object at 0x000002811043F5C0>], [<__main__.County object at 0x000002811043E870>, <__main__.County object at 0x000002811043EAE0>, <__main__.County object at 0x000002811043E600>, <__main__.County object at 0x000002811043E840>, <__main__.County object at 0x000002811043EF90>, <__main__.County object at 0x000002811043F410>, <__main__.County object at 0x000002811043F1A0>, <__main__.County object at 0x000002811043F1D0>, <__main__.County object at 0x000002811043F170>, <__main__.County object at 0x000002811043F3E0>, <__main__.County object at 0x000002811043F650>, <__main__.County object at 0x000002811043F620>, <__main__.County object at 0x000002811043F680>], [<__main__.County object at 0x000002811043EBD0>, <__main__.County object at 0x000002811043EE40>, <__main__.County object at 0x000002811043F0B0>, <__main__.County object at 0x000002811043F0E0>, <__main__.County object at 0x000002811043EE70>, <__main__.County object at 0x000002811043EEA0>, <__main__.County object at 0x000002811043F350>, <__main__.County object at 0x000002811043F380>, <__main__.County object at 0x000002811043F320>, <__main__.County object at 0x000002811043F590>, <__main__.County object at 0x000002811043F2F0>, <__main__.County object at 0x000002811043F110>, <__main__.County object at 0x000002811043E6F0>], [<__main__.County object at 0x000002811043E480>, <__main__.County object at 0x000002811043E4B0>, <__main__.County object at 0x000002811043E720>, <__main__.County object at 0x000002811043E4E0>, <__main__.County object at 0x000002811043DF40>, <__main__.County object at 0x000002811043DF10>, <__main__.County object at 0x000002811043EC90>, <__main__.County object at 0x000002811043ECC0>, <__main__.County object at 0x000002811010C4A0>, <__main__.County object at 0x000002811043E9F0>, <__main__.County object at 0x000002811043F890>, <__main__.County object at 0x000002811043EA80>, <__main__.County object at 0x000002811043EDE0>]], [[<__main__.County object at 0x000002811010F980>, <__main__.County object at 0x000002811010EC90>, <__main__.County object at 0x000002811010D580>, <__main__.County object at 0x000002811010DC40>, <__main__.County object at 0x000002811010E930>, <__main__.County object at 0x000002811010FB90>, <__main__.County object at 0x000002811010FB30>, <__main__.County object at 0x000002811010F3B0>, <__main__.County object at 0x00000281101A9A90>, <__main__.County object at 0x00000281101A9E80>, <__main__.County object at 0x00000281101AB770>, <__main__.County object at 0x000002811010F6B0>, <__main__.County object at 0x000002811010D130>], [<__main__.County object at 0x00000281101AB710>, <__main__.County object at 0x00000281101ABDA0>, <__main__.County object at 0x00000281101A82C0>, <__main__.County object at 0x00000281101A8170>, <__main__.County object at 0x00000281101A8EF0>, <__main__.County object at 0x00000281101A8DD0>, <__main__.County object at 0x00000281101A8EC0>, <__main__.County object at 0x00000281101A8E90>, <__main__.County object at 0x00000281101A9190>, <__main__.County object at 0x00000281101A8D70>, <__main__.County object at 0x00000281101A8DA0>, <__main__.County object at 0x00000281101AA6F0>, <__main__.County object at 0x00000281101AB920>], [<__main__.County object at 0x00000281101AAC00>, <__main__.County object at 0x00000281101AAD50>, <__main__.County object at 0x00000281101AB7D0>, <__main__.County object at 0x00000281101AB860>, <__main__.County object at 0x00000281101AB020>, <__main__.County object at 0x00000281101A9340>, <__main__.County object at 0x00000281101ABDD0>, <__main__.County object at 0x00000281101A93A0>, <__main__.County object at 0x00000281101A8080>, <__main__.County object at 0x00000281101A9280>, <__main__.County object at 0x00000281101A9100>, <__main__.County object at 0x00000281101AADE0>, <__main__.County object at 0x00000281101ABBC0>], [<__main__.County object at 0x00000281101AA5A0>, <__main__.County object at 0x00000281101AA750>, <__main__.County object at 0x00000281101AA7B0>, <__main__.County object at 0x00000281101AB1A0>, <__main__.County object at 0x00000281101A94F0>, <__main__.County object at 0x00000281101ABF80>, <__main__.County object at 0x00000281101AAF30>, <__main__.County object at 0x00000281101AA4B0>, <__main__.County object at 0x000002811010F350>, <__main__.County object at 0x000002811010CD10>, <__main__.County object at 0x000002811010C980>, <__main__.County object at 0x00000281101AA600>, <__main__.County object at 0x000002811010CCB0>], [<__main__.County object at 0x000002811010C110>, <__main__.County object at 0x000002811010C8C0>, <__main__.County object at 0x000002811010CBC0>, <__main__.County object at 0x000002811010C170>, <__main__.County object at 0x000002811010F3E0>, <__main__.County object at 0x000002811010F0E0>, <__main__.County object at 0x000002811010D2E0>, <__main__.County object at 0x000002811010D8E0>, <__main__.County object at 0x000002811010FE60>, <__main__.County object at 0x000002811010DDF0>, <__main__.County object at 0x000002811010EC30>, <__main__.County object at 0x000002811010E720>, <__main__.County object at 0x000002811010F260>], [<__main__.County object at 0x000002811010C4D0>, <__main__.County object at 0x000002811010F2C0>, <__main__.County object at 0x000002811010F320>, <__main__.County object at 0x000002811010C500>, <__main__.County object at 0x00000281101A9D90>, <__main__.County object at 0x00000281101A9E20>, <__main__.County object at 0x000002811010C890>, <__main__.County object at 0x000002811010C8F0>, <__main__.County object at 0x000002811010C440>, <__main__.County object at 0x000002811010E240>, <__main__.County object at 0x00000281101AAE70>, <__main__.County object at 0x00000281101AAED0>, <__main__.County object at 0x00000281101ABD70>], [<__main__.County object at 0x00000281101A9220>, <__main__.County object at 0x00000281101A8140>, <__main__.County object at 0x00000281101A8260>, <__main__.County object at 0x00000281101A8AD0>, <__main__.County object at 0x00000281101A8D10>, <__main__.County object at 0x00000281101A8E60>, <__main__.County object at 0x00000281101A8AA0>, <__main__.County object at 0x00000281101A8B00>, <__main__.County object at 0x00000281101A8B30>, <__main__.County object at 0x00000281101A85F0>, <__main__.County object at 0x00000281101A8890>, <__main__.County object at 0x00000281101A8860>, <__main__.County object at 0x00000281101A88C0>], [<__main__.County object at 0x00000281101A89B0>, <__main__.County object at 0x00000281101A8980>, <__main__.County object at 0x00000281101A8110>, <__main__.County object at 0x00000281101A8950>, <__main__.County object at 0x00000281101A8440>, <__main__.County object at 0x00000281101A81D0>, <__main__.County object at 0x00000281101A8E00>, <__main__.County object at 0x00000281101A8920>, <__main__.County object at 0x00000281101A80E0>, <__main__.County object at 0x00000281101A8230>, <__main__.County object at 0x00000281101A91C0>, <__main__.County object at 0x00000281101A84A0>, <__main__.County object at 0x00000281101A8200>], [<__main__.County object at 0x00000281101AA510>, <__main__.County object at 0x00000281101AAFC0>, <__main__.County object at 0x00000281101A8530>, <__main__.County object at 0x00000281101A8560>, <__main__.County object at 0x00000281101A8500>, <__main__.County object at 0x00000281101A84D0>, <__main__.County object at 0x00000281101A89E0>, <__main__.County object at 0x00000281101A80B0>, <__main__.County object at 0x00000281101A8290>, <__main__.County object at 0x00000281101A8350>, <__main__.County object at 0x00000281101A81A0>, <__main__.County object at 0x00000281101A8D40>, <__main__.County object at 0x00000281101A8A10>], [<__main__.County object at 0x00000281101AB6E0>, <__main__.County object at 0x00000281101AA660>, <__main__.County object at 0x00000281101AB470>, <__main__.County object at 0x00000281101A97C0>, <__main__.County object at 0x00000281101A8FE0>, <__main__.County object at 0x000002811010C3E0>, <__main__.County object at 0x000002811010D100>, <__main__.County object at 0x000002811010F650>, <__main__.County object at 0x000002811010EA80>, <__main__.County object at 0x000002811010F800>, <__main__.County object at 0x000002811010C260>, <__main__.County object at 0x000002811010EBD0>, <__main__.County object at 0x000002811010FFB0>], [<__main__.County object at 0x000002811010F950>, <__main__.County object at 0x00000281101A8050>, <__main__.County object at 0x00000281101A9A60>, <__main__.County object at 0x00000281101ABAD0>, <__main__.County object at 0x00000281101AB080>, <__main__.County object at 0x00000281101A9DF0>, <__main__.County object at 0x00000281101A9C40>, <__main__.County object at 0x00000281101A9CD0>, <__main__.County object at 0x000002811010C140>, <__main__.County object at 0x00000281101A9D30>, <__main__.County object at 0x000002811010FAD0>, <__main__.County object at 0x000002811010E5A0>, <__main__.County object at 0x000002811010EB40>], [<__main__.County object at 0x000002811010DAF0>, <__main__.County object at 0x000002811010FDA0>, <__main__.County object at 0x00000281101A8470>, <__main__.County object at 0x00000281101A88F0>, <__main__.County object at 0x00000281101A8B60>, <__main__.County object at 0x00000281101A8620>, <__main__.County object at 0x00000281101A8380>, <__main__.County object at 0x00000281101A8410>, <__main__.County object at 0x00000281101ABBF0>, <__main__.County object at 0x00000281101A8E30>, <__main__.County object at 0x00000281101A9130>, <__main__.County object at 0x00000281101A9160>, <__main__.County object at 0x00000281101A91F0>], [<__main__.County object at 0x000002811010FC80>, <__main__.County object at 0x000002811010C920>, <__main__.County object at 0x00000281101AA240>, <__main__.County object at 0x00000281101A9250>, <__main__.County object at 0x00000281101A8590>, <__main__.County object at 0x00000281101A85C0>, <__main__.County object at 0x00000281101A8830>, <__main__.County object at 0x000002811010EAE0>, <__main__.County object at 0x000002811010FA40>, <__main__.County object at 0x000002811010E9F0>, <__main__.County object at 0x000002811010D160>, <__main__.County object at 0x00000281101A8A40>, <__main__.County object at 0x00000281101A8A70>]], [[<__main__.County object at 0x00000281101AB200>, <__main__.County object at 0x00000281101ABC80>, <__main__.County object at 0x00000281101ABB60>, <__main__.County object at 0x00000281101ABE30>, <__main__.County object at 0x00000281101ABC50>, <__main__.County object at 0x00000281101AA450>, <__main__.County object at 0x00000281101AB410>, <__main__.County object at 0x00000281101AB3B0>, <__main__.County object at 0x00000281101AA930>, <__main__.County object at 0x00000281101AAAE0>, <__main__.County object at 0x00000281101AAB70>, <__main__.County object at 0x00000281101AAB40>, <__main__.County object at 0x00000281101AAF00>], [<__main__.County object at 0x00000281101AA480>, <__main__.County object at 0x00000281101A94C0>, <__main__.County object at 0x00000281101AB530>, <__main__.County object at 0x00000281101A8CE0>, <__main__.County object at 0x00000281101AB380>, <__main__.County object at 0x00000281101AB230>, <__main__.County object at 0x00000281101AA8D0>, <__main__.County object at 0x00000281101AB9E0>, <__main__.County object at 0x00000281101AA8A0>, <__main__.County object at 0x00000281101A9B50>, <__main__.County object at 0x00000281101AB290>, <__main__.County object at 0x00000281101A97F0>, <__main__.County object at 0x00000281101AB830>], [<__main__.County object at 0x00000281101AABA0>, <__main__.County object at 0x00000281101AB8F0>, <__main__.County object at 0x00000281101AAE40>, <__main__.County object at 0x00000281101AB950>, <__main__.County object at 0x00000281101AAB10>, <__main__.County object at 0x00000281101AB3E0>, <__main__.County object at 0x00000281101AA5D0>, <__main__.County object at 0x00000281101AA1B0>, <__main__.County object at 0x00000281101AA420>, <__main__.County object at 0x00000281101A9850>, <__main__.County object at 0x00000281101AA630>, <__main__.County object at 0x00000281101AA840>, <__main__.County object at 0x00000281101AB500>], [<__main__.County object at 0x00000281101A8F80>, <__main__.County object at 0x00000281101A9AF0>, <__main__.County object at 0x00000281101A9760>, <__main__.County object at 0x00000281101A9E50>, <__main__.County object at 0x00000281101AA210>, <__main__.County object at 0x00000281101AA390>, <__main__.County object at 0x00000281101AA690>, <__main__.County object at 0x00000281101A99D0>, <__main__.County object at 0x000002811010FC20>, <__main__.County object at 0x00000281101A8710>, <__main__.County object at 0x000002811010F170>, <__main__.County object at 0x000002811010F200>, <__main__.County object at 0x00000281101AA2A0>], [<__main__.County object at 0x00000281101ABB00>, <__main__.County object at 0x00000281101ABFE0>, <__main__.County object at 0x00000281101AAC90>, <__main__.County object at 0x00000281101AA150>, <__main__.County object at 0x00000281101A98B0>, <__main__.County object at 0x00000281101A9520>, <__main__.County object at 0x00000281101A8CB0>, <__main__.County object at 0x00000281101AB560>, <__main__.County object at 0x00000281101AB2C0>, <__main__.County object at 0x00000281101A8C80>, <__main__.County object at 0x00000281101ABE00>, <__main__.County object at 0x00000281101A96A0>, <__main__.County object at 0x00000281101ABE60>], [<__main__.County object at 0x00000281101A9F10>, <__main__.County object at 0x00000281101AA000>, <__main__.County object at 0x00000281101AB0B0>, <__main__.County object at 0x00000281101AB050>, <__main__.County object at 0x00000281101AA330>, <__main__.County object at 0x00000281101AB2F0>, <__main__.County object at 0x00000281101AAC60>, <__main__.County object at 0x00000281101ABCB0>, <__main__.County object at 0x00000281101AB980>, <__main__.County object at 0x00000281101ABD10>, <__main__.County object at 0x00000281101ABC20>, <__main__.County object at 0x00000281101AB800>, <__main__.County object at 0x00000281101AB110>], [<__main__.County object at 0x00000281101A9A00>, <__main__.County object at 0x00000281101A8740>, <__main__.County object at 0x00000281101AA0C0>, <__main__.County object at 0x00000281101A8770>, <__main__.County object at 0x00000281101A9EB0>, <__main__.County object at 0x00000281101A87A0>, <__main__.County object at 0x00000281101A87D0>, <__main__.County object at 0x00000281101A9BE0>, <__main__.County object at 0x00000281101A9D60>, <__main__.County object at 0x00000281101A98E0>, <__main__.County object at 0x00000281101AA270>, <__main__.County object at 0x00000281101A9A30>, <__main__.County object at 0x00000281101A9D00>], [<__main__.County object at 0x00000281101AA6C0>, <__main__.County object at 0x00000281101AA0F0>, <__main__.County object at 0x00000281101A9FD0>, <__main__.County object at 0x00000281101A9CA0>, <__main__.County object at 0x00000281101AAF60>, <__main__.County object at 0x00000281101AB4A0>, <__main__.County object at 0x00000281101AB5C0>, <__main__.County object at 0x00000281101AA720>, <__main__.County object at 0x00000281101A9730>, <__main__.County object at 0x00000281101AAA80>, <__main__.County object at 0x00000281101ABB90>, <__main__.County object at 0x00000281101ABA70>, <__main__.County object at 0x00000281101AAC30>], [<__main__.County object at 0x00000281101AB680>, <__main__.County object at 0x00000281101AAEA0>, <__main__.County object at 0x00000281101AB0E0>, <__main__.County object at 0x00000281101AA990>, <__main__.County object at 0x00000281101A9AC0>, <__main__.County object at 0x00000281101AB260>, <__main__.County object at 0x00000281101AA9C0>, <__main__.County object at 0x00000281101ABB30>, <__main__.County object at 0x00000281101AA180>, <__main__.County object at 0x00000281101ABA40>, <__main__.County object at 0x0000028110114170>, <__main__.County object at 0x0000028110114350>, <__main__.County object at 0x00000281101AB320>], [<__main__.County object at 0x00000281101A9F40>, <__main__.County object at 0x00000281101AA900>, <__main__.County object at 0x00000281101AAA20>, <__main__.County object at 0x00000281101AB440>, <__main__.County object at 0x00000281101AB650>, <__main__.County object at 0x00000281101AAF90>, <__main__.County object at 0x00000281101AA780>, <__main__.County object at 0x00000281101A9C70>, <__main__.County object at 0x00000281101A86E0>, <__main__.County object at 0x00000281101AA7E0>, <__main__.County object at 0x00000281101AB1D0>, <__main__.County object at 0x00000281101AB4D0>, <__main__.County object at 0x00000281101AAFF0>], [<__main__.County object at 0x00000281101ABCE0>, <__main__.County object at 0x00000281101165A0>, <__main__.County object at 0x0000028110114AD0>, <__main__.County object at 0x00000281101AA870>, <__main__.County object at 0x00000281101A9B80>, <__main__.County object at 0x00000281101A9B20>, <__main__.County object at 0x00000281101A9400>, <__main__.County object at 0x00000281101A9970>, <__main__.County object at 0x00000281101AB740>, <__main__.County object at 0x00000281101AB7A0>, <__main__.County object at 0x00000281101AB9B0>, <__main__.County object at 0x00000281101ABD40>, <__main__.County object at 0x00000281101AA4E0>], [<__main__.County object at 0x00000281101A99A0>, <__main__.County object at 0x00000281101A9EE0>, <__main__.County object at 0x00000281101A8800>, <__main__.County object at 0x00000281101AAD80>, <__main__.County object at 0x00000281101AAE10>, <__main__.County object at 0x00000281101AA9F0>, <__main__.County object at 0x00000281101AA810>, <__main__.County object at 0x00000281101AA540>, <__main__.County object at 0x00000281101AA1E0>, <__main__.County object at 0x00000281101ABFB0>, <__main__.County object at 0x00000281101ABE90>, <__main__.County object at 0x00000281101AACC0>, <__main__.County object at 0x00000281101A9F70>], [<__main__.County object at 0x000002817FC7F5C0>, <__main__.County object at 0x00000281101A8680>, <__main__.County object at 0x00000281101A86B0>, <__main__.County object at 0x00000281101ABAA0>, <__main__.County object at 0x00000281101AABD0>, <__main__.County object at 0x0000028110114440>, <__main__.County object at 0x00000281101143B0>, <__main__.County object at 0x00000281101AAA50>, <__main__.County object at 0x00000281101AB170>, <__main__.County object at 0x00000281101AB890>, <__main__.County object at 0x00000281101AA570>, <__main__.County object at 0x00000281101AAAB0>, <__main__.County object at 0x00000281101AA2D0>]], [[<__main__.County object at 0x0000028110117A40>, <__main__.County object at 0x00000281101160C0>, <__main__.County object at 0x0000028110116060>, <__main__.County object at 0x0000028110117BF0>, <__main__.County object at 0x0000028110117B30>, <__main__.County object at 0x00000281101A9820>, <__main__.County object at 0x0000028110114FE0>, <__main__.County object at 0x00000281101170E0>, <__main__.County object at 0x0000028110117D40>, <__main__.County object at 0x0000028110115910>, <__main__.County object at 0x0000028110115EE0>, <__main__.County object at 0x0000028110115010>, <__main__.County object at 0x0000028110115A90>], [<__main__.County object at 0x00000281101141A0>, <__main__.County object at 0x00000281101173E0>, <__main__.County object at 0x0000028110117770>, <__main__.County object at 0x0000028110116DE0>, <__main__.County object at 0x0000028110116D80>, <__main__.County object at 0x0000028110116540>, <__main__.County object at 0x00000281101163C0>, <__main__.County object at 0x0000028110116C90>, <__main__.County object at 0x0000028110115190>, <__main__.County object at 0x0000028110115BB0>, <__main__.County object at 0x0000028110117950>, <__main__.County object at 0x0000028110117F20>, <__main__.County object at 0x0000028110115D60>], [<__main__.County object at 0x0000028110115130>, <__main__.County object at 0x0000028110115970>, <__main__.County object at 0x0000028110115460>, <__main__.County object at 0x0000028110115C40>, <__main__.County object at 0x0000028110117440>, <__main__.County object at 0x00000281101154C0>, <__main__.County object at 0x0000028110115160>, <__main__.County object at 0x0000028110114DA0>, <__main__.County object at 0x00000281101146B0>, <__main__.County object at 0x0000028110114A70>, <__main__.County object at 0x0000028110115A30>, <__main__.County object at 0x0000028110116A80>, <__main__.County object at 0x00000281101153D0>], [<__main__.County object at 0x00000281101156A0>, <__main__.County object at 0x0000028110115DF0>, <__main__.County object at 0x00000281101153A0>, <__main__.County object at 0x0000028110115610>, <__main__.County object at 0x0000028110114410>, <__main__.County object at 0x0000028110114BC0>, <__main__.County object at 0x0000028110114560>, <__main__.County object at 0x0000028110114380>, <__main__.County object at 0x0000028110116C00>, <__main__.County object at 0x00000281101151C0>, <__main__.County object at 0x0000028110117740>, <__main__.County object at 0x0000028110117890>, <__main__.County object at 0x0000028110117EC0>], [<__main__.County object at 0x0000028110117710>, <__main__.County object at 0x00000281101162D0>, <__main__.County object at 0x0000028110117DD0>, <__main__.County object at 0x0000028110117500>, <__main__.County object at 0x0000028110117260>, <__main__.County object at 0x00000281101144D0>, <__main__.County object at 0x0000028110114680>, <__main__.County object at 0x0000028110114E00>, <__main__.County object at 0x00000281101172C0>, <__main__.County object at 0x0000028110117650>, <__main__.County object at 0x0000028110117830>, <__main__.County object at 0x0000028110116690>, <__main__.County object at 0x00000281101155E0>], [<__main__.County object at 0x0000028110116A50>, <__main__.County object at 0x00000281101174D0>, <__main__.County object at 0x0000028110114AA0>, <__main__.County object at 0x00000281101171D0>, <__main__.County object at 0x0000028110117E60>, <__main__.County object at 0x0000028110117CE0>, <__main__.County object at 0x0000028110116360>, <__main__.County object at 0x0000028110116F30>, <__main__.County object at 0x0000028110116FF0>, <__main__.County object at 0x00000281101166F0>, <__main__.County object at 0x0000028110114D40>, <__main__.County object at 0x0000028110116510>, <__main__.County object at 0x0000028110114F20>], [<__main__.County object at 0x0000028110114470>, <__main__.County object at 0x0000028110117170>, <__main__.County object at 0x0000028110116AB0>, <__main__.County object at 0x0000028110115B80>, <__main__.County object at 0x00000281101163F0>, <__main__.County object at 0x0000028110115880>, <__main__.County object at 0x0000028110117C50>, <__main__.County object at 0x0000028110117A10>, <__main__.County object at 0x0000028110117860>, <__main__.County object at 0x0000028110114950>, <__main__.County object at 0x0000028110115670>, <__main__.County object at 0x0000028110116450>, <__main__.County object at 0x0000028110115070>], [<__main__.County object at 0x0000028110115E50>, <__main__.County object at 0x0000028110114050>, <__main__.County object at 0x0000028110116FC0>, <__main__.County object at 0x0000028110117290>, <__main__.County object at 0x0000028110114710>, <__main__.County object at 0x0000028110114EF0>, <__main__.County object at 0x0000028110114530>, <__main__.County object at 0x0000028110116990>, <__main__.County object at 0x0000028110114DD0>, <__main__.County object at 0x0000028110114320>, <__main__.County object at 0x0000028110114080>, <__main__.County object at 0x00000281101169F0>, <__main__.County object at 0x0000028110114E30>], [<__main__.County object at 0x0000028110115A60>, <__main__.County object at 0x0000028110116870>, <__main__.County object at 0x00000281101167E0>, <__main__.County object at 0x0000028110116120>, <__main__.County object at 0x00000281101166C0>, <__main__.County object at 0x0000028110114980>, <__main__.County object at 0x0000028110114740>, <__main__.County object at 0x0000028110115C10>, <__main__.County object at 0x0000028110117410>, <__main__.County object at 0x0000028110115040>, <__main__.County object at 0x00000281101160F0>, <__main__.County object at 0x0000028110115310>, <__main__.County object at 0x0000028110114D70>], [<__main__.County object at 0x0000028110117D10>, <__main__.County object at 0x00000281101176B0>, <__main__.County object at 0x0000028110116600>, <__main__.County object at 0x0000028110116570>, <__main__.County object at 0x0000028110114A40>, <__main__.County object at 0x00000281101141D0>, <__main__.County object at 0x0000028110115D30>, <__main__.County object at 0x0000028110115D00>, <__main__.County object at 0x0000028110116150>, <__main__.County object at 0x00000281101146E0>, <__main__.County object at 0x0000028110115280>, <__main__.County object at 0x00000281101158B0>, <__main__.County object at 0x0000028110115850>], [<__main__.County object at 0x000002811010DA30>, <__main__.County object at 0x00000281101144A0>, <__main__.County object at 0x0000028110114500>, <__main__.County object at 0x0000028110115AF0>, <__main__.County object at 0x00000281101148C0>, <__main__.County object at 0x0000028110115AC0>, <__main__.County object at 0x0000028110117E00>, <__main__.County object at 0x0000028110116180>, <__main__.County object at 0x00000281101147D0>, <__main__.County object at 0x0000028110117350>, <__main__.County object at 0x0000028110114F50>, <__main__.County object at 0x00000281101149E0>, <__main__.County object at 0x0000028110117320>], [<__main__.County object at 0x0000028110114C80>, <__main__.County object at 0x00000281101179E0>, <__main__.County object at 0x00000281101168A0>, <__main__.County object at 0x0000028110114E90>, <__main__.County object at 0x0000028110117BC0>, <__main__.County object at 0x0000028110117560>, <__main__.County object at 0x00000281101172F0>, <__main__.County object at 0x0000028110115760>, <__main__.County object at 0x0000028110115F40>, <__main__.County object at 0x00000281101168D0>, <__main__.County object at 0x00000281101152B0>, <__main__.County object at 0x00000281101147A0>, <__main__.County object at 0x00000281101149B0>], [<__main__.County object at 0x0000028110116B10>, <__main__.County object at 0x0000028110117230>, <__main__.County object at 0x0000028110117470>, <__main__.County object at 0x0000028110116AE0>, <__main__.County object at 0x0000028110114230>, <__main__.County object at 0x0000028110117590>, <__main__.County object at 0x0000028110116930>, <__main__.County object at 0x0000028110116A20>, <__main__.County object at 0x0000028110114290>, <__main__.County object at 0x0000028110114800>, <__main__.County object at 0x00000281101167B0>, <__main__.County object at 0x00000281101145C0>, <__main__.County object at 0x0000028110116F90>]], [[<__main__.County object at 0x0000028110155640>, <__main__.County object at 0x0000028110154D10>, <__main__.County object at 0x0000028110154260>, <__main__.County object at 0x0000028110156900>, <__main__.County object at 0x0000028110157560>, <__main__.County object at 0x0000028110155C70>, <__main__.County object at 0x0000028110156420>, <__main__.County object at 0x0000028110157530>, <__main__.County object at 0x0000028110154860>, <__main__.County object at 0x0000028110156570>, <__main__.County object at 0x0000028110154200>, <__main__.County object at 0x0000028110157D40>, <__main__.County object at 0x0000028110155760>], [<__main__.County object at 0x0000028110154B30>, <__main__.County object at 0x0000028110114EC0>, <__main__.County object at 0x0000028110114D10>, <__main__.County object at 0x00000281101157F0>, <__main__.County object at 0x0000028110154F50>, <__main__.County object at 0x0000028110154FE0>, <__main__.County object at 0x0000028110156510>, <__main__.County object at 0x0000028110155190>, <__main__.County object at 0x0000028110156DB0>, <__main__.County object at 0x0000028110116420>, <__main__.County object at 0x0000028110116480>, <__main__.County object at 0x0000028110115550>, <__main__.County object at 0x0000028110154830>], [<__main__.County object at 0x000002817FBED8E0>, <__main__.County object at 0x0000028110115FD0>, <__main__.County object at 0x0000028110114200>, <__main__.County object at 0x00000281101564B0>, <__main__.County object at 0x0000028110156B70>, <__main__.County object at 0x00000281101552E0>, <__main__.County object at 0x00000281101560C0>, <__main__.County object at 0x0000028110155E20>, <__main__.County object at 0x0000028110155490>, <__main__.County object at 0x00000281101552B0>, <__main__.County object at 0x0000028110156990>, <__main__.County object at 0x00000281101563C0>, <__main__.County object at 0x0000028110154500>], [<__main__.County object at 0x00000281101542F0>, <__main__.County object at 0x0000028110117F50>, <__main__.County object at 0x0000028110115CA0>, <__main__.County object at 0x00000281101162A0>, <__main__.County object at 0x00000281101173B0>, <__main__.County object at 0x0000028110116330>, <__main__.County object at 0x00000281101551C0>, <__main__.County object at 0x00000281101563F0>, <__main__.County object at 0x0000028110156600>, <__main__.County object at 0x00000281101553A0>, <__main__.County object at 0x0000028110155250>, <__main__.County object at 0x00000281101554F0>, <__main__.County object at 0x00000281101556D0>], [<__main__.County object at 0x00000281101562D0>, <__main__.County object at 0x0000028110155220>, <__main__.County object at 0x0000028110156C30>, <__main__.County object at 0x00000281101566C0>, <__main__.County object at 0x0000028110156780>, <__main__.County object at 0x0000028110155070>, <__main__.County object at 0x0000028110155100>, <__main__.County object at 0x0000028110154140>, <__main__.County object at 0x0000028110156F30>, <__main__.County object at 0x0000028110156FF0>, <__main__.County object at 0x0000028110116BA0>, <__main__.County object at 0x0000028110114890>, <__main__.County object at 0x00000281101576B0>], [<__main__.County object at 0x00000281101561E0>, <__main__.County object at 0x0000028110155010>, <__main__.County object at 0x0000028110157650>, <__main__.County object at 0x0000028110154DA0>, <__main__.County object at 0x0000028110155460>, <__main__.County object at 0x0000028110157EF0>, <__main__.County object at 0x0000028110157770>, <__main__.County object at 0x0000028110156E40>, <__main__.County object at 0x0000028110156390>, <__main__.County object at 0x0000028110157710>, <__main__.County object at 0x0000028110157500>, <__main__.County object at 0x0000028110154C50>, <__main__.County object at 0x00000281101547A0>], [<__main__.County object at 0x0000028110115940>, <__main__.County object at 0x00000281101169C0>, <__main__.County object at 0x0000028110116780>, <__main__.County object at 0x0000028110155AF0>, <__main__.County object at 0x0000028110155970>, <__main__.County object at 0x00000281101548C0>, <__main__.County object at 0x0000028110154530>, <__main__.County object at 0x0000028110155B50>, <__main__.County object at 0x0000028110114B30>, <__main__.County object at 0x0000028110156360>, <__main__.County object at 0x0000028110116300>, <__main__.County object at 0x0000028110117B00>, <__main__.County object at 0x0000028110116630>], [<__main__.County object at 0x00000281101577D0>, <__main__.County object at 0x0000028110155DC0>, <__main__.County object at 0x0000028110155C40>, <__main__.County object at 0x00000281101562A0>, <__main__.County object at 0x00000281101565A0>, <__main__.County object at 0x0000028110154DD0>, <__main__.County object at 0x0000028110155A90>, <__main__.County object at 0x00000281101553D0>, <__main__.County object at 0x00000281101574A0>, <__main__.County object at 0x00000281101568A0>, <__main__.County object at 0x0000028110157FB0>, <__main__.County object at 0x0000028110156810>, <__main__.County object at 0x0000028110155AC0>], [<__main__.County object at 0x0000028110157FE0>, <__main__.County object at 0x0000028110155550>, <__main__.County object at 0x00000281101549E0>, <__main__.County object at 0x0000028110156EA0>, <__main__.County object at 0x0000028110154920>, <__main__.County object at 0x0000028110155D30>, <__main__.County object at 0x00000281101546E0>, <__main__.County object at 0x0000028110154680>, <__main__.County object at 0x0000028110156E70>, <__main__.County object at 0x00000281101567B0>, <__main__.County object at 0x0000028110154890>, <__main__.County object at 0x0000028110157E00>, <__main__.County object at 0x0000028110156480>], [<__main__.County object at 0x00000281101576E0>, <__main__.County object at 0x0000028110156090>, <__main__.County object at 0x0000028110157800>, <__main__.County object at 0x0000028110157740>, <__main__.County object at 0x0000028110157E90>, <__main__.County object at 0x0000028110157590>, <__main__.County object at 0x0000028110157680>, <__main__.County object at 0x00000281101575C0>, <__main__.County object at 0x0000028110156F60>, <__main__.County object at 0x0000028110155310>, <__main__.County object at 0x0000028110155CA0>, <__main__.County object at 0x0000028110156B10>, <__main__.County object at 0x0000028110154230>], [<__main__.County object at 0x0000028110155A00>, <__main__.County object at 0x0000028110157DA0>, <__main__.County object at 0x0000028110154980>, <__main__.County object at 0x00000281101575F0>, <__main__.County object at 0x0000028110156BD0>, <__main__.County object at 0x00000281101574D0>, <__main__.County object at 0x00000281101561B0>, <__main__.County object at 0x0000028110157290>, <__main__.County object at 0x0000028110157260>, <__main__.County object at 0x0000028110156AB0>, <__main__.County object at 0x0000028110155EB0>, <__main__.County object at 0x0000028110156D80>, <__main__.County object at 0x0000028110157620>], [<__main__.County object at 0x0000028110154BC0>, <__main__.County object at 0x0000028110156ED0>, <__main__.County object at 0x0000028110154CB0>, <__main__.County object at 0x0000028110154EC0>, <__main__.County object at 0x0000028110156F00>, <__main__.County object at 0x0000028110155280>, <__main__.County object at 0x0000028110156C90>, <__main__.County object at 0x0000028110155F10>, <__main__.County object at 0x0000028110155820>, <__main__.County object at 0x0000028110154B90>, <__main__.County object at 0x00000281101543E0>, <__main__.County object at 0x00000281101565D0>, <__main__.County object at 0x0000028110156BA0>], [<__main__.County object at 0x00000281101542C0>, <__main__.County object at 0x0000028110155FD0>, <__main__.County object at 0x00000281101560F0>, <__main__.County object at 0x0000028110156F90>, <__main__.County object at 0x0000028110155DF0>, <__main__.County object at 0x00000281101572C0>, <__main__.County object at 0x0000028110155EE0>, <__main__.County object at 0x0000028110157DD0>, <__main__.County object at 0x00000281101548F0>, <__main__.County object at 0x0000028110157EC0>, <__main__.County object at 0x0000028110155790>, <__main__.County object at 0x00000281101557C0>, <__main__.County object at 0x00000281101541D0>]], [[<__main__.County object at 0x0000028110156120>, <__main__.County object at 0x0000028110156A50>, <__main__.County object at 0x00000281101578F0>, <__main__.County object at 0x00000281101578C0>, <__main__.County object at 0x0000028110157920>, <__main__.County object at 0x0000028110154FB0>, <__main__.County object at 0x0000028110155730>, <__main__.County object at 0x0000028110157380>, <__main__.County object at 0x0000028110154EF0>, <__main__.County object at 0x0000028110157410>, <__main__.County object at 0x0000028110157B90>, <__main__.County object at 0x0000028110157440>, <__main__.County object at 0x0000028110157B60>], [<__main__.County object at 0x00000281101454F0>, <__main__.County object at 0x0000028110147500>, <__main__.County object at 0x0000028110146450>, <__main__.County object at 0x0000028110147C80>, <__main__.County object at 0x00000281101460F0>, <__main__.County object at 0x0000028110146C90>, <__main__.County object at 0x0000028110145250>, <__main__.County object at 0x0000028110146ED0>, <__main__.County object at 0x00000281101451C0>, <__main__.County object at 0x0000028110155F40>, <__main__.County object at 0x00000281101568D0>, <__main__.County object at 0x0000028110154290>, <__main__.County object at 0x0000028110157170>], [<__main__.County object at 0x00000281101471A0>, <__main__.County object at 0x0000028110145460>, <__main__.County object at 0x0000028110147C20>, <__main__.County object at 0x00000281101545C0>, <__main__.County object at 0x00000281101462D0>, <__main__.County object at 0x0000028110145E50>, <__main__.County object at 0x0000028110146420>, <__main__.County object at 0x0000028110147D10>, <__main__.County object at 0x0000028110147E00>, <__main__.County object at 0x0000028110147BC0>, <__main__.County object at 0x0000028110157020>, <__main__.County object at 0x0000028110146150>, <__main__.County object at 0x0000028110146A50>], [<__main__.County object at 0x0000028110146870>, <__main__.County object at 0x0000028110145D30>, <__main__.County object at 0x0000028110146B70>, <__main__.County object at 0x0000028110145B50>, <__main__.County object at 0x00000281101477D0>, <__main__.County object at 0x0000028110144440>, <__main__.County object at 0x0000028110144470>, <__main__.County object at 0x00000281101475C0>, <__main__.County object at 0x0000028110144F20>, <__main__.County object at 0x00000281101469C0>, <__main__.County object at 0x0000028110147E60>, <__main__.County object at 0x0000028110147F80>, <__main__.County object at 0x0000028110157470>], [<__main__.County object at 0x00000281101559A0>, <__main__.County object at 0x00000281101572F0>, <__main__.County object at 0x0000028110157A40>, <__main__.County object at 0x00000281101546B0>, <__main__.County object at 0x0000028110157CB0>, <__main__.County object at 0x0000028110157CE0>, <__main__.County object at 0x00000281101557F0>, <__main__.County object at 0x00000281101570E0>, <__main__.County object at 0x0000028110145220>, <__main__.County object at 0x0000028110146BD0>, <__main__.County object at 0x00000281101468A0>, <__main__.County object at 0x0000028110156300>, <__main__.County object at 0x00000281101544A0>], [<__main__.County object at 0x00000281101464B0>, <__main__.County object at 0x0000028110146DE0>, <__main__.County object at 0x0000028110145070>, <__main__.County object at 0x0000028110147890>, <__main__.County object at 0x0000028110147800>, <__main__.County object at 0x00000281101474D0>, <__main__.County object at 0x0000028110147920>, <__main__.County object at 0x0000028110146D50>, <__main__.County object at 0x00000281101463C0>, <__main__.County object at 0x0000028110146210>, <__main__.County object at 0x0000028110146240>, <__main__.County object at 0x0000028110147CE0>, <__main__.County object at 0x0000028110146330>], [<__main__.County object at 0x0000028110157B30>, <__main__.County object at 0x0000028110157B00>, <__main__.County object at 0x0000028110154560>, <__main__.County object at 0x0000028110157860>, <__main__.County object at 0x00000281101570B0>, <__main__.County object at 0x0000028110157890>, <__main__.County object at 0x00000281101550D0>, <__main__.County object at 0x0000028110157830>, <__main__.County object at 0x00000281101579E0>, <__main__.County object at 0x0000028110155610>, <__main__.County object at 0x0000028110157350>, <__main__.County object at 0x0000028110157320>, <__main__.County object at 0x0000028110157A70>], [<__main__.County object at 0x0000028110157110>, <__main__.County object at 0x0000028110156870>, <__main__.County object at 0x0000028110145310>, <__main__.County object at 0x0000028110157230>, <__main__.County object at 0x0000028110157C50>, <__main__.County object at 0x0000028110157200>, <__main__.County object at 0x00000281101540E0>, <__main__.County object at 0x0000028110156690>, <__main__.County object at 0x0000028110145160>, <__main__.County object at 0x0000028110157C20>, <__main__.County object at 0x0000028110145430>, <__main__.County object at 0x0000028110157BF0>, <__main__.County object at 0x00000281101541A0>], [<__main__.County object at 0x00000281101571D0>, <__main__.County object at 0x0000028110157BC0>, <__main__.County object at 0x00000281101571A0>, <__main__.County object at 0x0000028110157080>, <__main__.County object at 0x0000028110144410>, <__main__.County object at 0x0000028110144F50>, <__main__.County object at 0x00000281101465A0>, <__main__.County object at 0x0000028110144EF0>, <__main__.County object at 0x0000028110145A60>, <__main__.County object at 0x00000281101476B0>, <__main__.County object at 0x0000028110147020>, <__main__.County object at 0x0000028110147EF0>, <__main__.County object at 0x0000028110147BF0>], [<__main__.County object at 0x000002817FBED940>, <__main__.County object at 0x0000028110155910>, <__main__.County object at 0x0000028110157950>, <__main__.County object at 0x0000028110155C10>, <__main__.County object at 0x00000281101573B0>, <__main__.County object at 0x00000281101573E0>, <__main__.County object at 0x0000028110154320>, <__main__.County object at 0x00000281101463F0>, <__main__.County object at 0x0000028110147E90>, <__main__.County object at 0x00000281101464E0>, <__main__.County object at 0x0000028110146570>, <__main__.County object at 0x0000028110147950>, <__main__.County object at 0x0000028110147CB0>], [<__main__.County object at 0x0000028110154620>, <__main__.County object at 0x0000028110157AD0>, <__main__.County object at 0x0000028110144380>, <__main__.County object at 0x00000281101468D0>, <__main__.County object at 0x0000028110144EC0>, <__main__.County object at 0x0000028110145280>, <__main__.County object at 0x0000028110147590>, <__main__.County object at 0x00000281101475F0>, <__main__.County object at 0x0000028110147F20>, <__main__.County object at 0x0000028110146F00>, <__main__.County object at 0x0000028110147710>, <__main__.County object at 0x00000281101443B0>, <__main__.County object at 0x0000028110147830>], [<__main__.County object at 0x0000028110157C80>, <__main__.County object at 0x0000028110154710>, <__main__.County object at 0x0000028110156E10>, <__main__.County object at 0x0000028110156750>, <__main__.County object at 0x0000028110157050>, <__main__.County object at 0x00000281101461B0>, <__main__.County object at 0x0000028110147A10>, <__main__.County object at 0x0000028110146360>, <__main__.County object at 0x00000281101453A0>, <__main__.County object at 0x0000028110146480>, <__main__.County object at 0x0000028110146540>, <__main__.County object at 0x00000281101479B0>, <__main__.County object at 0x0000028110147FE0>], [<__main__.County object at 0x0000028110147980>, <__main__.County object at 0x00000281101470B0>, <__main__.County object at 0x00000281101477A0>, <__main__.County object at 0x0000028110146030>, <__main__.County object at 0x0000028110146B10>, <__main__.County object at 0x0000028110147E30>, <__main__.County object at 0x00000281101443E0>, <__main__.County object at 0x0000028110146270>, <__main__.County object at 0x0000028110145040>, <__main__.County object at 0x0000028110156720>, <__main__.County object at 0x0000028110146600>, <__main__.County object at 0x0000028110146390>, <__main__.County object at 0x0000028110147C50>]], [[<__main__.County object at 0x000002811007A750>, <__main__.County object at 0x000002811007B0B0>, <__main__.County object at 0x0000028110078D10>, <__main__.County object at 0x000002811007A390>, <__main__.County object at 0x00000281100792B0>, <__main__.County object at 0x0000028110079280>, <__main__.County object at 0x000002811007B170>, <__main__.County object at 0x000002811007B1A0>, <__main__.County object at 0x000002811007BC20>, <__main__.County object at 0x0000028110078C50>, <__main__.County object at 0x000002811007B0E0>, <__main__.County object at 0x000002811007BBF0>, <__main__.County object at 0x0000028110078CB0>], [<__main__.County object at 0x00000281100797C0>, <__main__.County object at 0x0000028110079340>, <__main__.County object at 0x0000028110078D70>, <__main__.County object at 0x000002811007AFF0>, <__main__.County object at 0x0000028110078D40>, <__main__.County object at 0x000002811007A6C0>, <__main__.County object at 0x000002811007A510>, <__main__.County object at 0x000002811007A450>, <__main__.County object at 0x000002811007BB00>, <__main__.County object at 0x00000281101445F0>, <__main__.County object at 0x00000281101445C0>, <__main__.County object at 0x0000028110144560>, <__main__.County object at 0x0000028110144530>], [<__main__.County object at 0x0000028110144A70>, <__main__.County object at 0x0000028110144AA0>, <__main__.County object at 0x0000028110144AD0>, <__main__.County object at 0x0000028110144D10>, <__main__.County object at 0x00000281101442F0>, <__main__.County object at 0x0000028110144800>, <__main__.County object at 0x00000281101447D0>, <__main__.County object at 0x0000028110144B90>, <__main__.County object at 0x0000028110144890>, <__main__.County object at 0x00000281101447A0>, <__main__.County object at 0x0000028110144A10>, <__main__.County object at 0x0000028110144770>, <__main__.County object at 0x0000028110144230>], [<__main__.County object at 0x000002811007A690>, <__main__.County object at 0x000002811007B140>, <__main__.County object at 0x000002811007BC80>, <__main__.County object at 0x000002811007BC50>, <__main__.County object at 0x0000028110078140>, <__main__.County object at 0x0000028110078C80>, <__main__.County object at 0x000002811007BB30>, <__main__.County object at 0x000002811007A3F0>, <__main__.County object at 0x0000028110078110>, <__main__.County object at 0x000002811007BB60>, <__main__.County object at 0x00000281100792E0>, <__main__.County object at 0x000002811007B230>, <__main__.County object at 0x000002811007BBC0>], [<__main__.County object at 0x0000028110144E00>, <__main__.County object at 0x0000028110144D70>, <__main__.County object at 0x0000028110144260>, <__main__.County object at 0x0000028110144080>, <__main__.County object at 0x0000028110144050>, <__main__.County object at 0x0000028110144950>, <__main__.County object at 0x0000028110144980>, <__main__.County object at 0x0000028110144920>, <__main__.County object at 0x0000028110144E30>, <__main__.County object at 0x0000028110144DD0>, <__main__.County object at 0x0000028110144B60>, <__main__.County object at 0x0000028110144710>, <__main__.County object at 0x0000028110144110>], [<__main__.County object at 0x0000028110144350>, <__main__.County object at 0x0000028110144D40>, <__main__.County object at 0x0000028110144E60>, <__main__.County object at 0x00000281101441D0>, <__main__.County object at 0x0000028110144200>, <__main__.County object at 0x0000028110144E90>, <__main__.County object at 0x000002811010CBF0>, <__main__.County object at 0x0000028110144CE0>, <__main__.County object at 0x0000028110157AA0>, <__main__.County object at 0x0000028110157D10>, <__main__.County object at 0x0000028110144A40>, <__main__.County object at 0x0000028110144320>, <__main__.County object at 0x0000028110144B00>], [<__main__.County object at 0x00000281100781A0>, <__main__.County object at 0x0000028110079700>, <__main__.County object at 0x000002811007A7B0>, <__main__.County object at 0x000002811007B1D0>, <__main__.County object at 0x000002811007BCE0>, <__main__.County object at 0x0000028110078170>, <__main__.County object at 0x0000028110078260>, <__main__.County object at 0x0000028110079CA0>, <__main__.County object at 0x0000028110078CE0>, <__main__.County object at 0x000002811007A330>, <__main__.County object at 0x00000281100782F0>, <__main__.County object at 0x00000281100781D0>, <__main__.County object at 0x0000028110079D60>], [<__main__.County object at 0x000002811007A780>, <__main__.County object at 0x000002811007A600>, <__main__.County object at 0x000002811007A810>, <__main__.County object at 0x000002811007B320>, <__main__.County object at 0x000002811007B200>, <__main__.County object at 0x00000281100780E0>, <__main__.County object at 0x0000028110078080>, <__main__.County object at 0x0000028110078350>, <__main__.County object at 0x00000281100780B0>, <__main__.County object at 0x000002811007A120>, <__main__.County object at 0x000002811007A0C0>, <__main__.County object at 0x000002811007BD40>, <__main__.County object at 0x000002811007B2F0>], [<__main__.County object at 0x00000281100796A0>, <__main__.County object at 0x000002811007A5D0>, <__main__.County object at 0x000002811007B260>, <__main__.County object at 0x000002811007A3C0>, <__main__.County object at 0x000002811007A5A0>, <__main__.County object at 0x000002811007B290>, <__main__.County object at 0x000002811007B2C0>, <__main__.County object at 0x0000028110078050>, <__main__.County object at 0x0000028110079790>, <__main__.County object at 0x0000028110079250>, <__main__.County object at 0x0000028110079640>, <__main__.County object at 0x000002811007A630>, <__main__.County object at 0x000002811007A090>], [<__main__.County object at 0x000002811007A4B0>, <__main__.County object at 0x0000028110144650>, <__main__.County object at 0x0000028110078320>, <__main__.County object at 0x0000028110079D00>, <__main__.County object at 0x0000028110079CD0>, <__main__.County object at 0x000002811007A720>, <__main__.County object at 0x000002811007A540>, <__main__.County object at 0x0000028110144680>, <__main__.County object at 0x00000281101446B0>, <__main__.County object at 0x00000281101448F0>, <__main__.County object at 0x00000281101446E0>, <__main__.County object at 0x0000028110079310>, <__main__.County object at 0x00000281101444A0>], [<__main__.County object at 0x0000028110078290>, <__main__.County object at 0x000002811007B080>, <__main__.County object at 0x0000028110078230>, <__main__.County object at 0x0000028110079760>, <__main__.County object at 0x000002811007A360>, <__main__.County object at 0x00000281101444D0>, <__main__.County object at 0x0000028110144740>, <__main__.County object at 0x000002811007A420>, <__main__.County object at 0x000002811007B050>, <__main__.County object at 0x0000028110144500>, <__main__.County object at 0x00000281101449B0>, <__main__.County object at 0x00000281101449E0>, <__main__.County object at 0x0000028110078410>], [<__main__.County object at 0x00000281101442C0>, <__main__.County object at 0x000002811007BCB0>, <__main__.County object at 0x0000028110079C70>, <__main__.County object at 0x000002811007B110>, <__main__.County object at 0x000002811007BD10>, <__main__.County object at 0x000002811007B020>, <__main__.County object at 0x000002811007A7E0>, <__main__.County object at 0x0000028110079D30>, <__main__.County object at 0x00000281100783E0>, <__main__.County object at 0x00000281100783B0>, <__main__.County object at 0x0000028110078380>, <__main__.County object at 0x000002811007BB90>, <__main__.County object at 0x0000028110079220>], [<__main__.County object at 0x0000028110144860>, <__main__.County object at 0x0000028110144830>, <__main__.County object at 0x000002811007A6F0>, <__main__.County object at 0x0000028110079730>, <__main__.County object at 0x0000028110144620>, <__main__.County object at 0x000002811007AFC0>, <__main__.County object at 0x0000028110144590>, <__main__.County object at 0x00000281100782C0>, <__main__.County object at 0x000002811007A660>, <__main__.County object at 0x0000028110078200>, <__main__.County object at 0x0000028110144B30>, <__main__.County object at 0x00000281101448C0>, <__main__.County object at 0x0000028110078440>]], [[<__main__.County object at 0x0000028110078980>, <__main__.County object at 0x0000028110078BF0>, <__main__.County object at 0x0000028110078C20>, <__main__.County object at 0x0000028110078EC0>, <__main__.County object at 0x0000028110079A30>, <__main__.County object at 0x0000028110078FE0>, <__main__.County object at 0x0000028110079B50>, <__main__.County object at 0x0000028110079130>, <__main__.County object at 0x0000028110079B80>, <__main__.County object at 0x0000028110079160>, <__main__.County object at 0x00000281100793D0>, <__main__.County object at 0x00000281100798E0>, <__main__.County object at 0x00000281100789B0>], [<__main__.County object at 0x000002811010F5C0>, <__main__.County object at 0x0000028110078560>, <__main__.County object at 0x00000281101440B0>, <__main__.County object at 0x00000281101A8650>, <__main__.County object at 0x0000028110078860>, <__main__.County object at 0x0000028110078470>, <__main__.County object at 0x0000028110078770>, <__main__.County object at 0x00000281100784A0>, <__main__.County object at 0x00000281100784D0>, <__main__.County object at 0x00000281100786B0>, <__main__.County object at 0x0000028110078830>, <__main__.County object at 0x00000281100787D0>, <__main__.County object at 0x0000028110078680>], [<__main__.County object at 0x0000028110079190>, <__main__.County object at 0x0000028110079400>, <__main__.County object at 0x0000028110079E20>, <__main__.County object at 0x0000028110079F70>, <__main__.County object at 0x0000028110079550>, <__main__.County object at 0x0000028110079FA0>, <__main__.County object at 0x000002811007BF80>, <__main__.County object at 0x0000028110079580>, <__main__.County object at 0x0000028110079430>, <__main__.County object at 0x000002811007BAA0>, <__main__.County object at 0x0000028110079A90>, <__main__.County object at 0x0000028110079BE0>, <__main__.County object at 0x0000028110079070>], [<__main__.County object at 0x0000028110078E60>, <__main__.County object at 0x0000028110079880>, <__main__.County object at 0x0000028110078F80>, <__main__.County object at 0x00000281100799D0>, <__main__.County object at 0x00000281100790D0>, <__main__.County object at 0x0000028110079B20>, <__main__.County object at 0x0000028110079D90>, <__main__.County object at 0x00000281100798B0>, <__main__.County object at 0x0000028110078E90>, <__main__.County object at 0x0000028110079A00>, <__main__.County object at 0x0000028110078BC0>, <__main__.County object at 0x0000028110078B90>, <__main__.County object at 0x0000028110078950>], [<__main__.County object at 0x0000028110079EB0>, <__main__.County object at 0x0000028110079460>, <__main__.County object at 0x00000281100795B0>, <__main__.County object at 0x000002811007A000>, <__main__.County object at 0x0000028110079FD0>, <__main__.County object at 0x000002811007BF20>, <__main__.County object at 0x00000281100795E0>, <__main__.County object at 0x0000028110079EE0>, <__main__.County object at 0x000002811007BE90>, <__main__.County object at 0x000002811007BE60>, <__main__.County object at 0x00000281100794C0>, <__main__.County object at 0x00000281100791F0>, <__main__.County object at 0x0000028110079F10>], [<__main__.County object at 0x0000028110078890>, <__main__.County object at 0x00000281100788F0>, <__main__.County object at 0x0000028110078AA0>, <__main__.County object at 0x0000028110078E00>, <__main__.County object at 0x0000028110078A70>, <__main__.County object at 0x0000028110078A40>, <__main__.County object at 0x0000028110078650>, <__main__.County object at 0x0000028110078A10>, <__main__.County object at 0x00000281100797F0>, <__main__.County object at 0x0000028110078EF0>, <__main__.County object at 0x0000028110079940>, <__main__.County object at 0x0000028110078500>, <__main__.County object at 0x0000028110078DA0>], [<__main__.County object at 0x000002811007B740>, <__main__.County object at 0x000002811007B710>, <__main__.County object at 0x000002811007B9B0>, <__main__.County object at 0x000002811007B770>, <__main__.County object at 0x000002811007B7A0>, <__main__.County object at 0x000002811007BA10>, <__main__.County object at 0x000002811007BA40>, <__main__.County object at 0x000002811007BEF0>, <__main__.County object at 0x000002811007BEC0>, <__main__.County object at 0x000002811007B980>, <__main__.County object at 0x000002811007B950>, <__main__.County object at 0x000002811007B920>, <__main__.County object at 0x000002811007B6B0>], [<__main__.County object at 0x0000028110079F40>, <__main__.County object at 0x00000281100794F0>, <__main__.County object at 0x000002811007A060>, <__main__.County object at 0x0000028110079610>, <__main__.County object at 0x000002811007A030>, <__main__.County object at 0x000002811007BE30>, <__main__.County object at 0x0000028110079DF0>, <__main__.County object at 0x00000281100793A0>, <__main__.County object at 0x0000028110079DC0>, <__main__.County object at 0x0000028110079370>, <__main__.County object at 0x000002811007BE00>, <__main__.County object at 0x000002811007BDD0>, <__main__.County object at 0x000002811007B8F0>], [<__main__.County object at 0x0000028110078E30>, <__main__.County object at 0x0000028110079850>, <__main__.County object at 0x0000028110078F50>, <__main__.County object at 0x0000028110079AC0>, <__main__.County object at 0x0000028110079970>, <__main__.County object at 0x0000028110078F20>, <__main__.County object at 0x0000028110079820>, <__main__.County object at 0x0000028110078AD0>, <__main__.County object at 0x00000281100790A0>, <__main__.County object at 0x0000028110078DD0>, <__main__.County object at 0x00000281100799A0>, <__main__.County object at 0x00000281100791C0>, <__main__.County object at 0x0000028110078B00>], [<__main__.County object at 0x000002811007B650>, <__main__.County object at 0x000002811007B680>, <__main__.County object at 0x000002811007B8C0>, <__main__.County object at 0x000002811007B620>, <__main__.County object at 0x000002811007B5F0>, <__main__.County object at 0x000002811007B860>, <__main__.County object at 0x000002811007B830>, <__main__.County object at 0x000002811007BAD0>, <__main__.County object at 0x000002811007B800>, <__main__.County object at 0x000002811007BD70>, <__main__.County object at 0x000002811007B890>, <__main__.County object at 0x000002811007B5C0>, <__main__.County object at 0x000002811007BA70>], [<__main__.County object at 0x00000281100788C0>, <__main__.County object at 0x0000028110078800>, <__main__.County object at 0x0000028110078920>, <__main__.County object at 0x0000028110078B60>, <__main__.County object at 0x0000028110078B30>, <__main__.County object at 0x0000028110078740>, <__main__.County object at 0x00000281100789E0>, <__main__.County object at 0x00000281100786E0>, <__main__.County object at 0x0000028110079A60>, <__main__.County object at 0x0000028110079010>, <__main__.County object at 0x0000028110079910>, <__main__.County object at 0x0000028110079040>, <__main__.County object at 0x0000028110079BB0>], [<__main__.County object at 0x0000028110078590>, <__main__.County object at 0x00000281100785C0>, <__main__.County object at 0x00000281100785F0>, <__main__.County object at 0x0000028110078710>, <__main__.County object at 0x0000028110078530>, <__main__.County object at 0x0000028110078620>, <__main__.County object at 0x0000028110079E80>, <__main__.County object at 0x0000028110079C10>, <__main__.County object at 0x000002811007BFE0>, <__main__.County object at 0x000002811007BFB0>, <__main__.County object at 0x000002811007A0F0>, <__main__.County object at 0x000002811007BDA0>, <__main__.County object at 0x0000028110079520>], [<__main__.County object at 0x00000281100787A0>, <__main__.County object at 0x0000028110078FB0>, <__main__.County object at 0x0000028110079100>, <__main__.County object at 0x000002811007B590>, <__main__.County object at 0x000002811007BF50>, <__main__.County object at 0x0000028110079E50>, <__main__.County object at 0x00000281100796D0>, <__main__.County object at 0x000002811007B6E0>, <__main__.County object at 0x0000028110079490>, <__main__.County object at 0x0000028110079AF0>, <__main__.County object at 0x0000028110079C40>, <__main__.County object at 0x000002811007B9E0>, <__main__.County object at 0x000002811007B7D0>]], [[<__main__.County object at 0x000002811007AF90>, <__main__.County object at 0x000002811007B470>, <__main__.County object at 0x000002811007B440>, <__main__.County object at 0x000002817FBED9A0>, <__main__.County object at 0x000002817FC22DE0>, <__main__.County object at 0x000002811007B560>, <__main__.County object at 0x000002811007B380>, <__main__.County object at 0x000002811007AA80>, <__main__.County object at 0x000002811007AAB0>, <__main__.County object at 0x000002811007ABA0>, <__main__.County object at 0x000002811007AB10>, <__main__.County object at 0x000002817FC5CDA0>, <__main__.County object at 0x000002811007A840>], [<__main__.County object at 0x00000281103E7DA0>, <__main__.County object at 0x00000281103E6A20>, <__main__.County object at 0x00000281103E6B10>, <__main__.County object at 0x00000281103E43B0>, <__main__.County object at 0x00000281103E6ED0>, <__main__.County object at 0x00000281103E4740>, <__main__.County object at 0x00000281103E6870>, <__main__.County object at 0x00000281103E6C30>, <__main__.County object at 0x000002811007A270>, <__main__.County object at 0x00000281103E7710>, <__main__.County object at 0x00000281103E4E00>, <__main__.County object at 0x000002811007A2A0>, <__main__.County object at 0x00000281103E4710>], [<__main__.County object at 0x000002811007A8A0>, <__main__.County object at 0x000002811007A150>, <__main__.County object at 0x0000028110079670>, <__main__.County object at 0x00000281103E49E0>, <__main__.County object at 0x000002811007A870>, <__main__.County object at 0x000002811007AAE0>, <__main__.County object at 0x000002811007A300>, <__main__.County object at 0x00000281103E41A0>, <__main__.County object at 0x00000281103E4FE0>, <__main__.County object at 0x00000281103E7A70>, <__main__.County object at 0x00000281103E5850>, <__main__.County object at 0x00000281103E5970>, <__main__.County object at 0x00000281103E4620>], [<__main__.County object at 0x00000281103E4E30>, <__main__.County object at 0x00000281103E6630>, <__main__.County object at 0x00000281103E7FE0>, <__main__.County object at 0x00000281103E6DB0>, <__main__.County object at 0x00000281103E7590>, <__main__.County object at 0x00000281103E54F0>, <__main__.County object at 0x00000281103E48F0>, <__main__.County object at 0x00000281103E4A70>, <__main__.County object at 0x00000281103E5760>, <__main__.County object at 0x00000281103E7560>, <__main__.County object at 0x00000281103E6150>, <__main__.County object at 0x00000281103E4980>, <__main__.County object at 0x00000281103E5B80>], [<__main__.County object at 0x000002811007A2D0>, <__main__.County object at 0x00000281103E7860>, <__main__.County object at 0x00000281103E75C0>, <__main__.County object at 0x00000281103E4170>, <__main__.County object at 0x00000281103E5F40>, <__main__.County object at 0x00000281103E7530>, <__main__.County object at 0x00000281103E7110>, <__main__.County object at 0x00000281103E4050>, <__main__.County object at 0x00000281103E5B20>, <__main__.County object at 0x00000281103E6D50>, <__main__.County object at 0x00000281103E73B0>, <__main__.County object at 0x00000281103E5700>, <__main__.County object at 0x00000281103E4440>], [<__main__.County object at 0x00000281103E5220>, <__main__.County object at 0x00000281103E4110>, <__main__.County object at 0x00000281103E5BB0>, <__main__.County object at 0x00000281103E7AD0>, <__main__.County object at 0x00000281103E6A50>, <__main__.County object at 0x00000281103E7CB0>, <__main__.County object at 0x00000281103E7650>, <__main__.County object at 0x000002811007A180>, <__main__.County object at 0x000002811007A8D0>, <__main__.County object at 0x000002811007AB40>, <__main__.County object at 0x00000281103E7EC0>, <__main__.County object at 0x00000281103E4080>, <__main__.County object at 0x00000281103E6360>], [<__main__.County object at 0x000002811007B3E0>, <__main__.County object at 0x000002811007AC30>, <__main__.County object at 0x000002811007B3B0>, <__main__.County object at 0x000002811007A960>, <__main__.County object at 0x000002811007A990>, <__main__.County object at 0x000002811007A9C0>, <__main__.County object at 0x000002811007AC00>, <__main__.County object at 0x000002811007A480>, <__main__.County object at 0x000002811007A4E0>, <__main__.County object at 0x000002811007A1B0>, <__main__.County object at 0x00000281103E57F0>, <__main__.County object at 0x00000281103E6720>, <__main__.County object at 0x00000281103E5490>], [<__main__.County object at 0x000002811007AA20>, <__main__.County object at 0x000002811007AC90>, <__main__.County object at 0x000002811007ACF0>, <__main__.County object at 0x000002811007AF60>, <__main__.County object at 0x000002811007A9F0>, <__main__.County object at 0x000002811007B350>, <__main__.County object at 0x000002811007AA50>, <__main__.County object at 0x000002811007B4D0>, <__main__.County object at 0x000002811007AC60>, <__main__.County object at 0x000002811007B4A0>, <__main__.County object at 0x000002811007B500>, <__main__.County object at 0x000002811007B530>, <__main__.County object at 0x00000281103E7890>], [<__main__.County object at 0x00000281103E4830>, <__main__.County object at 0x00000281103E55B0>, <__main__.County object at 0x00000281103E5460>, <__main__.County object at 0x00000281103E6240>, <__main__.County object at 0x00000281103E7D40>, <__main__.County object at 0x00000281103E5AF0>, <__main__.County object at 0x00000281103E69F0>, <__main__.County object at 0x00000281103E75F0>, <__main__.County object at 0x00000281103E72C0>, <__main__.County object at 0x00000281103E79B0>, <__main__.County object at 0x00000281103E66C0>, <__main__.County object at 0x00000281103E56A0>, <__main__.County object at 0x00000281103E4380>], [<__main__.County object at 0x00000281103E5F10>, <__main__.County object at 0x00000281103E54C0>, <__main__.County object at 0x00000281103E4F20>, <__main__.County object at 0x00000281103E5C10>, <__main__.County object at 0x00000281103E4590>, <__main__.County object at 0x00000281103E40B0>, <__main__.County object at 0x00000281103E68A0>, <__main__.County object at 0x00000281103E6330>, <__main__.County object at 0x00000281103E4AA0>, <__main__.County object at 0x00000281103E73E0>, <__main__.County object at 0x00000281103E5EE0>, <__main__.County object at 0x00000281103E6C00>, <__main__.County object at 0x00000281103E5A30>], [<__main__.County object at 0x0000028110114B00>, <__main__.County object at 0x00000281103E5100>, <__main__.County object at 0x00000281103E61B0>, <__main__.County object at 0x00000281103E4D70>, <__main__.County object at 0x00000281103E4410>, <__main__.County object at 0x00000281103E5730>, <__main__.County object at 0x00000281103E7140>, <__main__.County object at 0x00000281103E79E0>, <__main__.County object at 0x00000281103E7680>, <__main__.County object at 0x00000281103E4650>, <__main__.County object at 0x00000281103E64E0>, <__main__.County object at 0x00000281103E6F60>, <__main__.County object at 0x00000281103E5310>], [<__main__.County object at 0x00000281103E7620>, <__main__.County object at 0x00000281103E5A90>, <__main__.County object at 0x00000281103E5D00>, <__main__.County object at 0x00000281103E6DE0>, <__main__.County object at 0x00000281103E5910>, <__main__.County object at 0x00000281103E4F50>, <__main__.County object at 0x00000281103E4E90>, <__main__.County object at 0x00000281103E7DD0>, <__main__.County object at 0x00000281103E46E0>, <__main__.County object at 0x00000281103E4680>, <__main__.County object at 0x00000281103E51F0>, <__main__.County object at 0x000002811007A900>, <__main__.County object at 0x000002811007ABD0>], [<__main__.County object at 0x000002811007AF30>, <__main__.County object at 0x000002811007A240>, <__main__.County object at 0x000002811007A1E0>, <__main__.County object at 0x000002811007A210>, <__main__.County object at 0x000002811007A930>, <__main__.County object at 0x000002811007B410>, <__main__.County object at 0x00000281103E6810>, <__main__.County object at 0x00000281103E7E90>, <__main__.County object at 0x00000281103E7D70>, <__main__.County object at 0x00000281103E7440>, <__main__.County object at 0x00000281103E7E30>, <__main__.County object at 0x00000281103E6C60>, <__main__.County object at 0x00000281103E48C0>]], [[<__main__.County object at 0x00000281103E62A0>, <__main__.County object at 0x00000281103E72F0>, <__main__.County object at 0x00000281103E4350>, <__main__.County object at 0x00000281103E6180>, <__main__.County object at 0x00000281103E60C0>, <__main__.County object at 0x00000281103E7EF0>, <__main__.County object at 0x00000281103E5DF0>, <__main__.County object at 0x00000281103E76B0>, <__main__.County object at 0x00000281103E4800>, <__main__.County object at 0x00000281103E4770>, <__main__.County object at 0x00000281103E7770>, <__main__.County object at 0x00000281103E6FC0>, <__main__.County object at 0x00000281103E4FB0>], [<__main__.County object at 0x00000281103E4EF0>, <__main__.County object at 0x00000281103E5010>, <__main__.County object at 0x00000281103E4E60>, <__main__.County object at 0x00000281103E7800>, <__main__.County object at 0x00000281103E62D0>, <__main__.County object at 0x00000281103E63C0>, <__main__.County object at 0x00000281103E6CF0>, <__main__.County object at 0x00000281103E7920>, <__main__.County object at 0x00000281103E5640>, <__main__.County object at 0x00000281103E5E80>, <__main__.County object at 0x00000281103E74D0>, <__main__.County object at 0x00000281103E7A10>, <__main__.County object at 0x00000281103E7B00>], [<__main__.County object at 0x00000281103E4D40>, <__main__.County object at 0x00000281103E5940>, <__main__.County object at 0x00000281103E6D20>, <__main__.County object at 0x00000281103E53A0>, <__main__.County object at 0x00000281103E49B0>, <__main__.County object at 0x00000281103E5C70>, <__main__.County object at 0x00000281103E42F0>, <__main__.County object at 0x00000281103E4AD0>, <__main__.County object at 0x00000281103E7B90>, <__main__.County object at 0x00000281103E6960>, <__main__.County object at 0x0000028110154650>, <__main__.County object at 0x00000281103E4C20>, <__main__.County object at 0x00000281103E7470>], [<__main__.County object at 0x00000281103E6F30>, <__main__.County object at 0x00000281103E5F70>, <__main__.County object at 0x00000281103E4560>, <__main__.County object at 0x00000281103E6420>, <__main__.County object at 0x00000281103E7080>, <__main__.County object at 0x00000281103E4B90>, <__main__.County object at 0x00000281103E4CE0>, <__main__.County object at 0x00000281103E6CC0>, <__main__.County object at 0x00000281103E69C0>, <__main__.County object at 0x00000281103E6B70>, <__main__.County object at 0x00000281103E71A0>, <__main__.County object at 0x00000281103E4860>, <__main__.County object at 0x00000281103E63F0>], [<__main__.County object at 0x00000281103E5070>, <__main__.County object at 0x00000281103E5160>, <__main__.County object at 0x00000281103E77A0>, <__main__.County object at 0x00000281103E6510>, <__main__.County object at 0x00000281103E65A0>, <__main__.County object at 0x00000281103E5CA0>, <__main__.County object at 0x00000281103E6540>, <__main__.County object at 0x00000281103E7A40>, <__main__.County object at 0x00000281103E7CE0>, <__main__.County object at 0x00000281103E5250>, <__main__.County object at 0x00000281103E5670>, <__main__.County object at 0x00000281103E78C0>, <__main__.County object at 0x00000281103E5340>], [<__main__.County object at 0x00000281103E6660>, <__main__.County object at 0x00000281103E51C0>, <__main__.County object at 0x00000281103E4EC0>, <__main__.County object at 0x00000281103E5790>, <__main__.County object at 0x00000281103E61E0>, <__main__.County object at 0x00000281103E6450>, <__main__.County object at 0x00000281103E4B30>, <__main__.County object at 0x00000281103E6090>, <__main__.County object at 0x00000281103E4530>, <__main__.County object at 0x00000281103E78F0>, <__main__.County object at 0x00000281103E6E40>, <__main__.County object at 0x00000281103E4470>, <__main__.County object at 0x00000281103E4D10>], [<__main__.County object at 0x00000281103E6570>, <__main__.County object at 0x00000281103E5A00>, <__main__.County object at 0x00000281103E4320>, <__main__.County object at 0x00000281103E6690>, <__main__.County object at 0x00000281103E42C0>, <__main__.County object at 0x00000281103E5280>, <__main__.County object at 0x00000281103E7020>, <__main__.County object at 0x00000281103E5880>, <__main__.County object at 0x00000281103E6600>, <__main__.County object at 0x00000281103E7230>, <__main__.County object at 0x00000281103E5430>, <__main__.County object at 0x00000281103E5190>, <__main__.County object at 0x00000281103E5520>], [<__main__.County object at 0x00000281103E5550>, <__main__.County object at 0x00000281103E59D0>, <__main__.County object at 0x00000281103E7260>, <__main__.County object at 0x00000281103E7500>, <__main__.County object at 0x00000281103E7E00>, <__main__.County object at 0x00000281103E7170>, <__main__.County object at 0x00000281103E67E0>, <__main__.County object at 0x00000281103E5820>, <__main__.County object at 0x00000281103E7380>, <__main__.County object at 0x00000281103E40E0>, <__main__.County object at 0x00000281103E60F0>, <__main__.County object at 0x00000281103E6300>, <__main__.County object at 0x00000281103E4F80>], [<__main__.County object at 0x00000281103E68D0>, <__main__.County object at 0x00000281103E5D60>, <__main__.County object at 0x00000281103E5D90>, <__main__.County object at 0x00000281103E4140>, <__main__.County object at 0x00000281103E7200>, <__main__.County object at 0x00000281103E7B30>, <__main__.County object at 0x00000281103E6030>, <__main__.County object at 0x00000281103E7050>, <__main__.County object at 0x00000281103E4200>, <__main__.County object at 0x00000281103E4DD0>, <__main__.County object at 0x00000281103E7D10>, <__main__.County object at 0x00000281103E6E10>, <__main__.County object at 0x00000281103E4920>], [<__main__.County object at 0x00000281103E4890>, <__main__.County object at 0x00000281103E6A80>, <__main__.County object at 0x00000281103E6C90>, <__main__.County object at 0x00000281103E5610>, <__main__.County object at 0x00000281103E7F20>, <__main__.County object at 0x00000281103E6AE0>, <__main__.County object at 0x00000281103E7830>, <__main__.County object at 0x00000281103E77D0>, <__main__.County object at 0x00000281103E5FD0>, <__main__.County object at 0x00000281103E6390>, <__main__.County object at 0x000002811007AED0>, <__main__.County object at 0x00000281103E7F50>, <__main__.County object at 0x00000281103E6750>], [<__main__.County object at 0x00000281103E64B0>, <__main__.County object at 0x00000281103E7290>, <__main__.County object at 0x00000281103E7E60>, <__main__.County object at 0x00000281103E7410>, <__main__.County object at 0x00000281103E6FF0>, <__main__.County object at 0x00000281103E6000>, <__main__.County object at 0x00000281103E5D30>, <__main__.County object at 0x00000281103E4A10>, <__main__.County object at 0x00000281103E4B00>, <__main__.County object at 0x00000281103E5B50>, <__main__.County object at 0x00000281103E5040>, <__main__.County object at 0x00000281103E41D0>, <__main__.County object at 0x00000281103E7320>], [<__main__.County object at 0x00000281103E46B0>, <__main__.County object at 0x00000281103E7F80>, <__main__.County object at 0x00000281103E7C50>, <__main__.County object at 0x00000281103E4290>, <__main__.County object at 0x00000281103E4CB0>, <__main__.County object at 0x00000281103E74A0>, <__main__.County object at 0x00000281103E6780>, <__main__.County object at 0x00000281103E6BA0>, <__main__.County object at 0x00000281103E4BC0>, <__main__.County object at 0x00000281103E44D0>, <__main__.County object at 0x00000281103E45F0>, <__main__.County object at 0x00000281103E6120>, <__main__.County object at 0x00000281103E7C20>], [<__main__.County object at 0x0000028110115E20>, <__main__.County object at 0x00000281103E7B60>, <__main__.County object at 0x00000281103E70B0>, <__main__.County object at 0x00000281103E4260>, <__main__.County object at 0x00000281103E7350>, <__main__.County object at 0x00000281103E5BE0>, <__main__.County object at 0x00000281103E4BF0>, <__main__.County object at 0x00000281103E5FA0>, <__main__.County object at 0x00000281103E47D0>, <__main__.County object at 0x00000281103E6480>, <__main__.County object at 0x00000281103E50D0>, <__main__.County object at 0x00000281103E5C40>, <__main__.County object at 0x00000281103E57C0>]]], [[[<__main__.County object at 0x00000281103E6D80>, <__main__.County object at 0x00000281103E7740>, <__main__.County object at 0x00000281103E5EB0>, <__main__.County object at 0x00000281103E6AB0>, <__main__.County object at 0x000002817FD58B90>, <__main__.County object at 0x000002817FD596A0>, <__main__.County object at 0x000002817FD58B30>, <__main__.County object at 0x000002817FD5AF90>, <__main__.County object at 0x000002817FD5BB60>, <__main__.County object at 0x000002817FD5B020>, <__main__.County object at 0x000002817FD5BB90>, <__main__.County object at 0x000002817FD5AFF0>, <__main__.County object at 0x000002817FD5A480>, <__main__.County object at 0x000002817FD59970>], [<__main__.County object at 0x000002817FD5AD50>, <__main__.County object at 0x000002817FD58D70>, <__main__.County object at 0x000002817FD58E90>, <__main__.County object at 0x000002817FD5BBF0>, <__main__.County object at 0x000002817FD5A360>, <__main__.County object at 0x000002817FD58C80>, <__main__.County object at 0x000002817FD5ACF0>, <__main__.County object at 0x000002817FD596D0>, <__main__.County object at 0x000002817FD58DA0>, <__main__.County object at 0x000002817FD5B950>, <__main__.County object at 0x000002817FD59670>, <__main__.County object at 0x000002817FD58CB0>, <__main__.County object at 0x000002817FD59A00>, <__main__.County object at 0x000002817FD5A2A0>], [<__main__.County object at 0x000002817FD59700>, <__main__.County object at 0x00000281103E67B0>, <__main__.County object at 0x00000281103E53D0>, <__main__.County object at 0x00000281103E58B0>, <__main__.County object at 0x00000281103E5130>, <__main__.County object at 0x00000281103E5580>, <__main__.County object at 0x00000281103E5AC0>, <__main__.County object at 0x00000281103E4B60>, <__main__.County object at 0x000002811010C7A0>, <__main__.County object at 0x000002817FD5BB00>, <__main__.County object at 0x0000028110156660>, <__main__.County object at 0x000002817FD58B60>, <__main__.County object at 0x00000281103E4DA0>, <__main__.County object at 0x00000281103E6F00>], [<__main__.County object at 0x00000281103E70E0>, <__main__.County object at 0x00000281103E4500>, <__main__.County object at 0x00000281103E4C80>, <__main__.County object at 0x00000281103E6270>, <__main__.County object at 0x00000281103E5E50>, <__main__.County object at 0x00000281103E7BF0>, <__main__.County object at 0x00000281103E44A0>, <__main__.County object at 0x00000281103E43E0>, <__main__.County object at 0x000002817FD59760>, <__main__.County object at 0x000002817FD5BB30>, <__main__.County object at 0x000002817FD5BAA0>, <__main__.County object at 0x000002817FD5A510>, <__main__.County object at 0x000002817FD5B050>, <__main__.County object at 0x000002817FD5ADE0>], [<__main__.County object at 0x000002817FD58E30>, <__main__.County object at 0x000002817FD58EC0>, <__main__.County object at 0x000002817FD58380>, <__main__.County object at 0x000002817FD58EF0>, <__main__.County object at 0x000002817FD5A5D0>, <__main__.County object at 0x000002817FD5B170>, <__main__.County object at 0x000002817FD5B1A0>, <__main__.County object at 0x000002817FD59B50>, <__main__.County object at 0x000002817FD59A30>, <__main__.County object at 0x000002817FD583B0>, <__main__.County object at 0x000002817FD58F20>, <__main__.County object at 0x000002817FD58410>, <__main__.County object at 0x000002817FD58F80>, <__main__.County object at 0x000002817FD5A6C0>], [<__main__.County object at 0x000002817FD5AE70>, <__main__.County object at 0x000002817FD5A330>, <__main__.County object at 0x000002817FD5AD80>, <__main__.County object at 0x000002817FD5B8F0>, <__main__.County object at 0x000002817FD5ADB0>, <__main__.County object at 0x000002817FD5B230>, <__main__.County object at 0x000002817FD5A300>, <__main__.County object at 0x000002817FD5A240>, <__main__.County object at 0x000002817FD5A1B0>, <__main__.County object at 0x000002817FD5AF30>, <__main__.County object at 0x000002817FD5A660>, <__main__.County object at 0x000002817FD5A420>, <__main__.County object at 0x000002817FD59850>, <__main__.County object at 0x000002817FD5A3F0>], [<__main__.County object at 0x000002817FD5A450>, <__main__.County object at 0x000002817FD5AF60>, <__main__.County object at 0x000002817FD5B980>, <__main__.County object at 0x000002817FD5A210>, <__main__.County object at 0x000002817FD5BAD0>, <__main__.County object at 0x000002817FD5AE10>, <__main__.County object at 0x000002817FD5A4E0>, <__main__.County object at 0x000002817FD5B800>, <__main__.County object at 0x000002817FD5BC20>, <__main__.County object at 0x000002817FD5A2D0>, <__main__.County object at 0x000002817FD5B0E0>, <__main__.County object at 0x000002817FD5BC50>, <__main__.County object at 0x000002817FD599A0>, <__main__.County object at 0x000002817FD5B920>], [<__main__.County object at 0x000002817FD59790>, <__main__.County object at 0x000002817FD5BD10>, <__main__.County object at 0x000002817FD5A600>, <__main__.County object at 0x000002817FD5BCB0>, <__main__.County object at 0x000002817FD59AC0>, <__main__.County object at 0x000002817FD58FB0>, <__main__.County object at 0x000002817FD58F50>, <__main__.County object at 0x000002817FD586E0>, <__main__.County object at 0x000002817FD5B200>, <__main__.County object at 0x000002817FD597F0>, <__main__.County object at 0x000002817FD598B0>, <__main__.County object at 0x000002817FD597C0>, <__main__.County object at 0x000002817FD58CE0>, <__main__.County object at 0x000002817FD5BD40>], [<__main__.County object at 0x00000281103E71D0>, <__main__.County object at 0x00000281103E52E0>, <__main__.County object at 0x00000281103E55E0>, <__main__.County object at 0x00000281103E76E0>, <__main__.County object at 0x00000281103E50A0>, <__main__.County object at 0x00000281103E7950>, <__main__.County object at 0x00000281103E52B0>, <__main__.County object at 0x00000281103E56D0>, <__main__.County object at 0x00000281103E7FB0>, <__main__.County object at 0x000002817FD58230>, <__main__.County object at 0x000002817FD58C20>, <__main__.County object at 0x00000281103E4C50>, <__main__.County object at 0x00000281103E7980>, <__main__.County object at 0x00000281103E45C0>], [<__main__.County object at 0x000002817FD5A390>, <__main__.County object at 0x000002817FD58D10>, <__main__.County object at 0x000002817FD59910>, <__main__.County object at 0x000002817FD59940>, <__main__.County object at 0x000002817FD5BC80>, <__main__.County object at 0x000002817FD5B860>, <__main__.County object at 0x000002817FD5AF00>, <__main__.County object at 0x000002817FD5A630>, <__main__.County object at 0x000002817FD58FE0>, <__main__.County object at 0x000002817FD58500>, <__main__.County object at 0x000002817FD5A570>, <__main__.County object at 0x000002817FD5AD20>, <__main__.County object at 0x000002817FD58680>, <__main__.County object at 0x000002817FD5A540>], [<__main__.County object at 0x000002817FD5B830>, <__main__.County object at 0x000002817FD5A1E0>, <__main__.County object at 0x00000281103E58E0>, <__main__.County object at 0x000002817FD59820>, <__main__.County object at 0x000002817FD5B7D0>, <__main__.County object at 0x000002817FD5BD70>, <__main__.County object at 0x000002817FD59AF0>, <__main__.County object at 0x000002817FD58E60>, <__main__.County object at 0x000002817FD58E00>, <__main__.County object at 0x000002817FD58440>, <__main__.County object at 0x000002817FD59B20>, <__main__.County object at 0x000002817FD583E0>, <__main__.County object at 0x000002817FD5A5A0>, <__main__.County object at 0x000002817FD5B8C0>], [<__main__.County object at 0x00000281103E6B40>, <__main__.County object at 0x00000281103E5CD0>, <__main__.County object at 0x00000281103E7BC0>, <__main__.County object at 0x000002817FD58BC0>, <__main__.County object at 0x00000281103E5DC0>, <__main__.County object at 0x00000281103E6060>, <__main__.County object at 0x000002817FD59730>, <__main__.County object at 0x000002817FD5BA40>, <__main__.County object at 0x000002817FD599D0>, <__main__.County object at 0x000002817FD58BF0>, <__main__.County object at 0x00000281103E6930>, <__main__.County object at 0x000002817FD5BA70>, <__main__.County object at 0x000002817FD5BA10>, <__main__.County object at 0x000002817FD5AFC0>], [<__main__.County object at 0x000002817FD598E0>, <__main__.County object at 0x000002817FD5AED0>, <__main__.County object at 0x000002817FD5AEA0>, <__main__.County object at 0x000002817FD58DD0>, <__main__.County object at 0x000002817FD58D40>, <__main__.County object at 0x000002817FD59880>, <__main__.County object at 0x000002817FD5A3C0>, <__main__.County object at 0x000002817FD5B9B0>, <__main__.County object at 0x000002817FD5AE40>, <__main__.County object at 0x000002817FD5A4B0>, <__main__.County object at 0x000002817FD5B890>, <__main__.County object at 0x00000281103E6BD0>, <__main__.County object at 0x000002817FD5B110>, <__main__.County object at 0x000002817FD5B1D0>], [<__main__.County object at 0x00000281103E6990>, <__main__.County object at 0x00000281103E6900>, <__main__.County object at 0x00000281103E5A60>, <__main__.County object at 0x00000281103E65D0>, <__main__.County object at 0x000002817FD5B9E0>, <__main__.County object at 0x000002817FD5A270>, <__main__.County object at 0x00000281103E5400>, <__main__.County object at 0x000002817FD5A690>, <__main__.County object at 0x000002817FD59A90>, <__main__.County object at 0x000002817FD5B140>, <__main__.County object at 0x000002817FD58C50>, <__main__.County object at 0x00000281103E6EA0>, <__main__.County object at 0x00000281103E66F0>, <__main__.County object at 0x000002817FD59A60>]], [[<__main__.County object at 0x000002817FD58470>, <__main__.County object at 0x000002817FD58830>, <__main__.County object at 0x000002817FD58800>, <__main__.County object at 0x000002817FD5AC90>, <__main__.County object at 0x000002817FD5B7A0>, <__main__.County object at 0x000002817FD58530>, <__main__.County object at 0x000002817FD589B0>, <__main__.County object at 0x000002817FD591F0>, <__main__.County object at 0x000002817FD59490>, <__main__.County object at 0x000002817FD594C0>, <__main__.County object at 0x000002817FD594F0>, <__main__.County object at 0x000002817FD59520>, <__main__.County object at 0x000002817FD58A10>, <__main__.County object at 0x000002817FD59550>], [<__main__.County object at 0x000002817FD59BE0>, <__main__.County object at 0x000002817FD59C10>, <__main__.County object at 0x000002817FD59C40>, <__main__.County object at 0x000002817FD59EE0>, <__main__.County object at 0x000002817FD59F10>, <__main__.County object at 0x000002817FD5A720>, <__main__.County object at 0x000002817FD5A150>, <__main__.County object at 0x000002817FD5A9C0>, <__main__.County object at 0x000002817FD5A9F0>, <__main__.County object at 0x000002817FD59400>, <__main__.County object at 0x000002817FD5A750>, <__main__.County object at 0x000002817FD59F40>, <__main__.County object at 0x000002817FD59CA0>, <__main__.County object at 0x000002817FD59E80>], [<__main__.County object at 0x000002817FD58B00>, <__main__.County object at 0x000002817FD585F0>, <__main__.County object at 0x000002817FD59B80>, <__main__.County object at 0x000002817FD5B770>, <__main__.County object at 0x000002817FD5ACC0>, <__main__.County object at 0x000002817FD59070>, <__main__.County object at 0x000002817FD59010>, <__main__.County object at 0x000002817FD58620>, <__main__.County object at 0x000002817FD58590>, <__main__.County object at 0x000002817FD58890>, <__main__.County object at 0x000002817FD590D0>, <__main__.County object at 0x000002817FD59040>, <__main__.County object at 0x000002817FD587D0>, <__main__.County object at 0x000002817FD58770>], [<__main__.County object at 0x0000028110115D90>, <__main__.County object at 0x0000028110114BF0>, <__main__.County object at 0x000002817FD584D0>, <__main__.County object at 0x000002817FD59280>, <__main__.County object at 0x000002817FD58A40>, <__main__.County object at 0x000002817FD592B0>, <__main__.County object at 0x000002817FD585C0>, <__main__.County object at 0x000002817FD59250>, <__main__.County object at 0x000002817FD5BCE0>, <__main__.County object at 0x000002817FD592E0>, <__main__.County object at 0x000002817FD59580>, <__main__.County object at 0x000002817FD595B0>, <__main__.County object at 0x000002817FD58AA0>, <__main__.County object at 0x000002817FD58740>], [<__main__.County object at 0x000002817FD5B2F0>, <__main__.County object at 0x000002817FD5AA50>, <__main__.County object at 0x000002817FD5B320>, <__main__.County object at 0x000002817FD5B5C0>, <__main__.County object at 0x000002817FD5BE30>, <__main__.County object at 0x000002817FD58170>, <__main__.County object at 0x000002817FD58140>, <__main__.County object at 0x000002817FD58110>, <__main__.County object at 0x000002817FD5BE90>, <__main__.County object at 0x000002817FD5BEC0>, <__main__.County object at 0x000002817FD580E0>, <__main__.County object at 0x000002817FD580B0>, <__main__.County object at 0x000002817FD58080>, <__main__.County object at 0x000002817FD581A0>], [<__main__.County object at 0x000002817FD5A090>, <__main__.County object at 0x000002817FD5A8D0>, <__main__.County object at 0x000002817FD5AB70>, <__main__.County object at 0x000002817FD5B410>, <__main__.County object at 0x000002817FD5ABA0>, <__main__.County object at 0x000002817FD5ABD0>, <__main__.County object at 0x000002817FD5A8A0>, <__main__.County object at 0x000002817FD5A870>, <__main__.County object at 0x000002817FD5A900>, <__main__.County object at 0x000002817FD5B440>, <__main__.County object at 0x000002817FD5BBC0>, <__main__.County object at 0x000002817FD5BF50>, <__main__.County object at 0x000002817FD5A0C0>, <__main__.County object at 0x000002817FD5A930>], [<__main__.County object at 0x000002817FD59D90>, <__main__.County object at 0x000002817FD5A030>, <__main__.County object at 0x000002817FD59DC0>, <__main__.County object at 0x000002817FD59DF0>, <__main__.County object at 0x000002817FD59E20>, <__main__.County object at 0x000002817FD5A060>, <__main__.County object at 0x000002817FD595E0>, <__main__.County object at 0x000002817FD59340>, <__main__.County object at 0x000002817FD590A0>, <__main__.County object at 0x000002817FD59610>, <__main__.County object at 0x000002817FD59370>, <__main__.County object at 0x000002817FD593A0>, <__main__.County object at 0x000002817FD593D0>, <__main__.County object at 0x000002817FD58860>], [<__main__.County object at 0x000002817FD588F0>, <__main__.County object at 0x000002817FD588C0>, <__main__.County object at 0x000002817FD58560>, <__main__.County object at 0x000002817FD5B0B0>, <__main__.County object at 0x000002817FD5A6F0>, <__main__.County object at 0x000002817FD58920>, <__main__.County object at 0x000002817FD58950>, <__main__.County object at 0x000002817FD5A180>, <__main__.County object at 0x000002817FD586B0>, <__main__.County object at 0x000002817FD59190>, <__main__.County object at 0x000002817FD591C0>, <__main__.County object at 0x000002817FD5AC60>, <__main__.County object at 0x000002817FD59160>, <__main__.County object at 0x000002817FD584A0>], [<__main__.County object at 0x000002817FD59CD0>, <__main__.County object at 0x000002817FD59F70>, <__main__.County object at 0x000002817FD59FA0>, <__main__.County object at 0x000002817FD59FD0>, <__main__.County object at 0x000002817FD59D30>, <__main__.County object at 0x000002817FD5A810>, <__main__.County object at 0x000002817FD5A840>, <__main__.County object at 0x000002817FD5A000>, <__main__.County object at 0x000002817FD59D00>, <__main__.County object at 0x000002817FD5A7E0>, <__main__.County object at 0x000002817FD5AA80>, <__main__.County object at 0x000002817FD5A7B0>, <__main__.County object at 0x000002817FD5AAB0>, <__main__.County object at 0x000002817FD5B350>], [<__main__.County object at 0x000002817FD5B380>, <__main__.County object at 0x000002817FD5B3B0>, <__main__.County object at 0x000002817FD5AB10>, <__main__.County object at 0x000002817FD5AB40>, <__main__.County object at 0x000002817FD5B3E0>, <__main__.County object at 0x000002817FD5B680>, <__main__.County object at 0x000002817FD5B080>, <__main__.County object at 0x000002817FD5BF20>, <__main__.County object at 0x000002817FD5BEF0>, <__main__.County object at 0x000002817FD5B650>, <__main__.County object at 0x000002817FD5B620>, <__main__.County object at 0x000002817FD5B5F0>, <__main__.County object at 0x000002817FD5BE60>, <__main__.County object at 0x000002817FD5AAE0>], [<__main__.County object at 0x000002817FD589E0>, <__main__.County object at 0x000002817FD59220>, <__main__.County object at 0x000002817FD5B4D0>, <__main__.County object at 0x000002817FD5AC30>, <__main__.County object at 0x000002817FD5B710>, <__main__.County object at 0x000002817FD5B260>, <__main__.County object at 0x000002817FD5B500>, <__main__.County object at 0x000002817FD5B530>, <__main__.County object at 0x000002817FD5BDA0>, <__main__.County object at 0x000002817FD5BDD0>, <__main__.County object at 0x000002817FD5B290>, <__main__.County object at 0x000002817FD5B2C0>, <__main__.County object at 0x000002817FD5B740>, <__main__.County object at 0x000002817FD581D0>], [<__main__.County object at 0x000002817FD587A0>, <__main__.County object at 0x000002817FD5BFB0>, <__main__.County object at 0x000002817FD58290>, <__main__.County object at 0x000002817FD5BFE0>, <__main__.County object at 0x000002817FD58320>, <__main__.County object at 0x0000028110249D00>, <__main__.County object at 0x000002811024BEF0>, <__main__.County object at 0x000002811024B3B0>, <__main__.County object at 0x000002817FD58260>, <__main__.County object at 0x000002817FD582F0>, <__main__.County object at 0x000002817FD58050>, <__main__.County object at 0x000002817FD5B6E0>, <__main__.County object at 0x000002817FD5B6B0>, <__main__.County object at 0x000002817FD5B470>], [<__main__.County object at 0x000002817FD58A70>, <__main__.County object at 0x000002817FD5A960>, <__main__.County object at 0x000002817FD5AC00>, <__main__.County object at 0x000002817FD5A120>, <__main__.County object at 0x000002817FD5B4A0>, <__main__.County object at 0x000002817FD5A990>, <__main__.County object at 0x000002817FD5A0F0>, <__main__.County object at 0x000002817FD59E50>, <__main__.County object at 0x000002817FD59C70>, <__main__.County object at 0x000002817FD59430>, <__main__.County object at 0x000002817FD59460>, <__main__.County object at 0x000002817FD5B560>, <__main__.County object at 0x000002817FD59EB0>, <__main__.County object at 0x000002817FD5AA20>], [<__main__.County object at 0x000002817FD5BE00>, <__main__.County object at 0x000002817FD5B590>, <__main__.County object at 0x000002817FD5BF80>, <__main__.County object at 0x000002817FD58200>, <__main__.County object at 0x000002817FD59310>, <__main__.County object at 0x000002817FD58AD0>, <__main__.County object at 0x000002817FD59100>, <__main__.County object at 0x000002817FD59130>, <__main__.County object at 0x000002817FD58650>, <__main__.County object at 0x000002817FD59640>, <__main__.County object at 0x000002817FD59BB0>, <__main__.County object at 0x000002817FD5A780>, <__main__.County object at 0x000002817FD59D60>, <__main__.County object at 0x000002817FD58980>]], [[<__main__.County object at 0x000002811024B140>, <__main__.County object at 0x000002811024BE00>, <__main__.County object at 0x000002811024A840>, <__main__.County object at 0x000002811024BA40>, <__main__.County object at 0x000002811024AED0>, <__main__.County object at 0x000002811024AF30>, <__main__.County object at 0x000002811024A6F0>, <__main__.County object at 0x0000028110249AC0>, <__main__.County object at 0x000002811024B1A0>, <__main__.County object at 0x000002811024B2C0>, <__main__.County object at 0x000002811024B9B0>, <__main__.County object at 0x00000281102482F0>, <__main__.County object at 0x0000028110248D40>, <__main__.County object at 0x0000028110249C70>], [<__main__.County object at 0x00000281102496A0>, <__main__.County object at 0x0000028110249B20>, <__main__.County object at 0x00000281102492E0>, <__main__.County object at 0x0000028110249820>, <__main__.County object at 0x000002811024A3F0>, <__main__.County object at 0x000002811024A870>, <__main__.County object at 0x0000028110248B30>, <__main__.County object at 0x0000028110248B90>, <__main__.County object at 0x000002811024B110>, <__main__.County object at 0x0000028110248710>, <__main__.County object at 0x000002811024A600>, <__main__.County object at 0x000002811024BCB0>, <__main__.County object at 0x000002811024A390>, <__main__.County object at 0x000002811024B170>], [<__main__.County object at 0x000002811024A6C0>, <__main__.County object at 0x0000028110249880>, <__main__.County object at 0x000002811024A9C0>, <__main__.County object at 0x00000281102498B0>, <__main__.County object at 0x000002811024A660>, <__main__.County object at 0x000002811024B1D0>, <__main__.County object at 0x0000028110248050>, <__main__.County object at 0x00000281102486B0>, <__main__.County object at 0x00000281102482C0>, <__main__.County object at 0x000002811024B9E0>, <__main__.County object at 0x00000281102497C0>, <__main__.County object at 0x000002811024B230>, <__main__.County object at 0x000002811024A690>, <__main__.County object at 0x00000281102496D0>], [<__main__.County object at 0x000002811024A990>, <__main__.County object at 0x0000028110249070>, <__main__.County object at 0x000002811024A8A0>, <__main__.County object at 0x0000028110249D90>, <__main__.County object at 0x000002811024A780>, <__main__.County object at 0x000002811024B2F0>, <__main__.County object at 0x0000028110249940>, <__main__.County object at 0x000002811024A7B0>, <__main__.County object at 0x000002811024A930>, <__main__.County object at 0x0000028110248140>, <__main__.County object at 0x000002811024A810>, <__main__.County object at 0x0000028110249C10>, <__main__.County object at 0x000002811024A5D0>, <__main__.County object at 0x000002811024BC50>], [<__main__.County object at 0x000002811024BA70>, <__main__.County object at 0x0000028110248CE0>, <__main__.County object at 0x0000028110248830>, <__main__.County object at 0x0000028110249280>, <__main__.County object at 0x000002811024B020>, <__main__.County object at 0x000002811024A4E0>, <__main__.County object at 0x000002811024B0B0>, <__main__.County object at 0x000002811024A570>, <__main__.County object at 0x000002811024A540>, <__main__.County object at 0x0000028110249A00>, <__main__.County object at 0x0000028110249760>, <__main__.County object at 0x00000281102497F0>, <__main__.County object at 0x000002811024BAA0>, <__main__.County object at 0x0000028110248800>], [<__main__.County object at 0x000002811024AF90>, <__main__.County object at 0x0000028110249A30>, <__main__.County object at 0x000002811024A4B0>, <__main__.County object at 0x000002811024BA10>, <__main__.County object at 0x000002811024BB90>, <__main__.County object at 0x0000028110249220>, <__main__.County object at 0x00000281102492B0>, <__main__.County object at 0x0000028110248290>, <__main__.County object at 0x0000028110248C80>, <__main__.County object at 0x0000028110248230>, <__main__.County object at 0x00000281102487D0>, <__main__.County object at 0x00000281102487A0>, <__main__.County object at 0x0000028110249A90>, <__main__.County object at 0x000002811024BBF0>], [<__main__.County object at 0x000002811024BD70>, <__main__.County object at 0x0000028110249100>, <__main__.County object at 0x000002811024A720>, <__main__.County object at 0x000002811024BDD0>, <__main__.County object at 0x0000028110249D60>, <__main__.County object at 0x000002811024A750>, <__main__.County object at 0x0000028110249640>, <__main__.County object at 0x00000281102491C0>, <__main__.County object at 0x0000028110249160>, <__main__.County object at 0x0000028110248B60>, <__main__.County object at 0x00000281102480B0>, <__main__.County object at 0x00000281102480E0>, <__main__.County object at 0x0000028110249CD0>, <__main__.County object at 0x000002811024B290>], [<__main__.County object at 0x00000281102491F0>, <__main__.County object at 0x0000028110248200>, <__main__.County object at 0x0000028110248C50>, <__main__.County object at 0x000002811024A900>, <__main__.County object at 0x000002811024B410>, <__main__.County object at 0x000002811024BF50>, <__main__.County object at 0x000002811024BF80>, <__main__.County object at 0x000002811024B320>, <__main__.County object at 0x0000028110249910>, <__main__.County object at 0x000002811024BEC0>, <__main__.County object at 0x0000028110249040>, <__main__.County object at 0x000002811024BE60>, <__main__.County object at 0x00000281102490A0>, <__main__.County object at 0x0000028110249DC0>], [<__main__.County object at 0x0000028110249190>, <__main__.County object at 0x0000028110249130>, <__main__.County object at 0x0000028110248680>, <__main__.County object at 0x000002811024BD10>, <__main__.County object at 0x0000028110249970>, <__main__.County object at 0x0000028110249E20>, <__main__.County object at 0x0000028110249DF0>, <__main__.County object at 0x0000028110249EB0>, <__main__.County object at 0x000002811024BF20>, <__main__.County object at 0x00000281102481D0>, <__main__.County object at 0x0000028110248080>, <__main__.County object at 0x00000281102486E0>, <__main__.County object at 0x000002811024B350>, <__main__.County object at 0x0000028110249B50>], [<__main__.County object at 0x00000281102485F0>, <__main__.County object at 0x000002817FC105C0>, <__main__.County object at 0x0000028110248BC0>, <__main__.County object at 0x0000028110249E50>, <__main__.County object at 0x0000028110248890>, <__main__.County object at 0x000002811024B200>, <__main__.County object at 0x000002811024A630>, <__main__.County object at 0x000002811024A360>, <__main__.County object at 0x0000028110249A60>, <__main__.County object at 0x00000281102499D0>, <__main__.County object at 0x00000281102499A0>, <__main__.County object at 0x000002811024A510>, <__main__.County object at 0x000002811024A330>, <__main__.County object at 0x0000028110249250>], [<__main__.County object at 0x000002811024B380>, <__main__.County object at 0x0000028110248260>, <__main__.County object at 0x0000028110249790>, <__main__.County object at 0x0000028110249D30>, <__main__.County object at 0x000002811024BCE0>, <__main__.County object at 0x000002811024BD40>, <__main__.County object at 0x0000028110249C40>, <__main__.County object at 0x0000028110248860>, <__main__.County object at 0x0000028110249BB0>, <__main__.County object at 0x000002811024A3C0>, <__main__.County object at 0x0000028110248CB0>, <__main__.County object at 0x0000028110248C20>, <__main__.County object at 0x000002811024AF00>, <__main__.County object at 0x0000028110248D10>], [<__main__.County object at 0x0000028110248110>, <__main__.County object at 0x00000281102481A0>, <__main__.County object at 0x000002811024A420>, <__main__.County object at 0x000002811024A450>, <__main__.County object at 0x000002811024AFC0>, <__main__.County object at 0x000002811024A480>, <__main__.County object at 0x000002811024AFF0>, <__main__.County object at 0x000002811024AE70>, <__main__.County object at 0x0000028110248650>, <__main__.County object at 0x000002811024BC20>, <__main__.County object at 0x00000281102498E0>, <__main__.County object at 0x000002811024B050>, <__main__.County object at 0x000002811024BB00>, <__main__.County object at 0x0000028110249850>], [<__main__.County object at 0x0000028110249E80>, <__main__.County object at 0x000002811024BDA0>, <__main__.County object at 0x000002811024B260>, <__main__.County object at 0x0000028110248170>, <__main__.County object at 0x000002811024BBC0>, <__main__.County object at 0x000002811024A5A0>, <__main__.County object at 0x0000028110248770>, <__main__.County object at 0x000002811024BB30>, <__main__.County object at 0x0000028110248BF0>, <__main__.County object at 0x000002811024AF60>, <__main__.County object at 0x000002811024BAD0>, <__main__.County object at 0x000002811024B080>, <__main__.County object at 0x0000028110249580>, <__main__.County object at 0x0000028110249010>], [<__main__.County object at 0x000002811024A7E0>, <__main__.County object at 0x0000028110249AF0>, <__main__.County object at 0x0000028110249BE0>, <__main__.County object at 0x0000028110248740>, <__main__.County object at 0x0000028110249B80>, <__main__.County object at 0x00000281102490D0>, <__main__.County object at 0x000002811024BC80>, <__main__.County object at 0x000002811024AEA0>, <__main__.County object at 0x000002811024A8D0>, <__main__.County object at 0x0000028110249CA0>, <__main__.County object at 0x000002811024B440>, <__main__.County object at 0x000002811024B3E0>, <__main__.County object at 0x000002811024BB60>, <__main__.County object at 0x000002811024B0E0>]], [[<__main__.County object at 0x000002811024B7D0>, <__main__.County object at 0x000002811024B800>, <__main__.County object at 0x000002811024B830>, <__main__.County object at 0x000002811024B530>, <__main__.County object at 0x0000028110248AA0>, <__main__.County object at 0x00000281102493A0>, <__main__.County object at 0x00000281102484D0>, <__main__.County object at 0x0000028110248410>, <__main__.County object at 0x0000028110248440>, <__main__.County object at 0x0000028110248F50>, <__main__.County object at 0x0000028110248500>, <__main__.County object at 0x00000281102493D0>, <__main__.County object at 0x000002811024B560>, <__main__.County object at 0x0000028110249520>], [<__main__.County object at 0x00000281102483E0>, <__main__.County object at 0x0000028110248DD0>, <__main__.County object at 0x0000028110248530>, <__main__.County object at 0x0000028110248FB0>, <__main__.County object at 0x0000028110248560>, <__main__.County object at 0x0000028110248FE0>, <__main__.County object at 0x0000028110249430>, <__main__.County object at 0x0000028110249310>, <__main__.County object at 0x0000028110249460>, <__main__.County object at 0x000002811024B950>, <__main__.County object at 0x000002811024B980>, <__main__.County object at 0x000002811024B6E0>, <__main__.County object at 0x000002811024AD80>, <__main__.County object at 0x0000028110248A10>], [<__main__.County object at 0x0000028110249FD0>, <__main__.County object at 0x000002811030B8C0>, <__main__.County object at 0x0000028110308E00>, <__main__.County object at 0x000002811030ADE0>, <__main__.County object at 0x0000028110249F70>, <__main__.County object at 0x0000028110308D10>, <__main__.County object at 0x00000281103099A0>, <__main__.County object at 0x000002811030A600>, <__main__.County object at 0x0000028110308320>, <__main__.County object at 0x000002811024A210>, <__main__.County object at 0x000002811024A1E0>, <__main__.County object at 0x00000281103095E0>, <__main__.County object at 0x000002811024A270>, <__main__.County object at 0x0000028110308650>], [<__main__.County object at 0x000002811024B4A0>, <__main__.County object at 0x0000028110248E60>, <__main__.County object at 0x000002811024B470>, <__main__.County object at 0x000002811024BE30>, <__main__.County object at 0x0000028110248E00>, <__main__.County object at 0x00000281102483B0>, <__main__.County object at 0x000002811024B500>, <__main__.County object at 0x0000028110249EE0>, <__main__.County object at 0x000002811024A9F0>, <__main__.County object at 0x0000028110248F20>, <__main__.County object at 0x0000028110248920>, <__main__.County object at 0x0000028110249370>, <__main__.County object at 0x00000281102494C0>, <__main__.County object at 0x00000281102488F0>], [<__main__.County object at 0x0000028110249670>, <__main__.County object at 0x000002811024BFE0>, <__main__.County object at 0x000002811024B740>, <__main__.County object at 0x000002811024ADE0>, <__main__.County object at 0x000002811024AE10>, <__main__.County object at 0x000002811024AB70>, <__main__.County object at 0x000002811024ADB0>, <__main__.County object at 0x000002811024ABA0>, <__main__.County object at 0x000002811024A1B0>, <__main__.County object at 0x0000028110249730>, <__main__.County object at 0x0000028110249700>, <__main__.County object at 0x000002811024ABD0>, <__main__.County object at 0x000002811024AC00>, <__main__.County object at 0x000002811024A240>], [<__main__.County object at 0x000002811030B320>, <__main__.County object at 0x000002811030A8D0>, <__main__.County object at 0x000002811030A240>, <__main__.County object at 0x000002811030BCB0>, <__main__.County object at 0x000002811030A570>, <__main__.County object at 0x0000028110308500>, <__main__.County object at 0x0000028110308290>, <__main__.County object at 0x00000281103086B0>, <__main__.County object at 0x000002811030BDA0>, <__main__.County object at 0x000002811030B8F0>, <__main__.County object at 0x000002811030A1E0>, <__main__.County object at 0x000002811030A180>, <__main__.County object at 0x0000028110308A70>, <__main__.County object at 0x0000028110309FA0>], [<__main__.County object at 0x0000028110248A40>, <__main__.County object at 0x000002811024B8C0>, <__main__.County object at 0x000002811024B620>, <__main__.County object at 0x000002811024B8F0>, <__main__.County object at 0x0000028110249490>, <__main__.County object at 0x000002811024B650>, <__main__.County object at 0x000002811024B5F0>, <__main__.County object at 0x000002811024ACF0>, <__main__.County object at 0x000002811024AA50>, <__main__.County object at 0x000002811024AD20>, <__main__.County object at 0x000002811024AD50>, <__main__.County object at 0x000002811024AA80>, <__main__.County object at 0x000002811024A0C0>, <__main__.County object at 0x000002811030B3B0>], [<__main__.County object at 0x00000281103E6840>, <__main__.County object at 0x00000281103E7AA0>, <__main__.County object at 0x000002811007AF00>, <__main__.County object at 0x0000028110248E30>, <__main__.County object at 0x0000028110248590>, <__main__.County object at 0x000002811024BFB0>, <__main__.County object at 0x000002811024B4D0>, <__main__.County object at 0x0000028110248380>, <__main__.County object at 0x0000028110248470>, <__main__.County object at 0x0000028110248DA0>, <__main__.County object at 0x0000028110248EC0>, <__main__.County object at 0x0000028110248E90>, <__main__.County object at 0x0000028110308B90>, <__main__.County object at 0x000002811030A6F0>], [<__main__.County object at 0x000002811024A120>, <__main__.County object at 0x000002811024A0F0>, <__main__.County object at 0x00000281102494F0>, <__main__.County object at 0x0000028110309FD0>, <__main__.County object at 0x000002811030ABA0>, <__main__.County object at 0x000002811024A150>, <__main__.County object at 0x0000028110309190>, <__main__.County object at 0x000002811030A210>, <__main__.County object at 0x0000028110309010>, <__main__.County object at 0x000002811030B620>, <__main__.County object at 0x000002811030AF60>, <__main__.County object at 0x000002811030BEF0>, <__main__.County object at 0x0000028110308980>, <__main__.County object at 0x000002811030A3C0>], [<__main__.County object at 0x0000028110248950>, <__main__.County object at 0x0000028110249550>, <__main__.County object at 0x0000028110248AD0>, <__main__.County object at 0x0000028110248B00>, <__main__.County object at 0x0000028110249400>, <__main__.County object at 0x000002811024B770>, <__main__.County object at 0x000002811024B7A0>, <__main__.County object at 0x000002811024AE40>, <__main__.County object at 0x0000028110248980>, <__main__.County object at 0x0000028110248F80>, <__main__.County object at 0x00000281102489B0>, <__main__.County object at 0x000002811030B110>, <__main__.County object at 0x000002811024A000>, <__main__.County object at 0x000002811024A030>], [<__main__.County object at 0x000002811024B590>, <__main__.County object at 0x000002811024AC30>, <__main__.County object at 0x000002811030B740>, <__main__.County object at 0x000002811030B050>, <__main__.County object at 0x000002811030B980>, <__main__.County object at 0x000002811030B4A0>, <__main__.County object at 0x000002811030BDD0>, <__main__.County object at 0x0000028110308DD0>, <__main__.County object at 0x000002811030A840>, <__main__.County object at 0x000002811030B3E0>, <__main__.County object at 0x0000028110309850>, <__main__.County object at 0x000002811030B860>, <__main__.County object at 0x0000028110309610>, <__main__.County object at 0x0000028110308440>], [<__main__.County object at 0x0000028110249FA0>, <__main__.County object at 0x000002811024A060>, <__main__.County object at 0x000002811024A090>, <__main__.County object at 0x0000028110309D60>, <__main__.County object at 0x000002811024A300>, <__main__.County object at 0x000002811024A2D0>, <__main__.County object at 0x000002811024AC90>, <__main__.County object at 0x000002811024AC60>, <__main__.County object at 0x000002811024B5C0>, <__main__.County object at 0x000002811024ACC0>, <__main__.County object at 0x000002811024B860>, <__main__.County object at 0x000002811024B890>, <__main__.County object at 0x0000028110248A70>, <__main__.County object at 0x000002811024A2A0>], [<__main__.County object at 0x000002811024AA20>, <__main__.County object at 0x0000028110249340>, <__main__.County object at 0x00000281102488C0>, <__main__.County object at 0x0000028110308E30>, <__main__.County object at 0x0000028110308890>, <__main__.County object at 0x000002811030BAD0>, <__main__.County object at 0x000002811024AAB0>, <__main__.County object at 0x000002811024AAE0>, <__main__.County object at 0x000002811024AB10>, <__main__.County object at 0x000002811024AB40>, <__main__.County object at 0x000002811024A180>, <__main__.County object at 0x00000281102495E0>, <__main__.County object at 0x000002811030BF80>, <__main__.County object at 0x000002811030B440>], [<__main__.County object at 0x000002811024B920>, <__main__.County object at 0x000002811024B680>, <__main__.County object at 0x000002811024B6B0>, <__main__.County object at 0x0000028110249610>, <__main__.County object at 0x0000028110309A30>, <__main__.County object at 0x000002811030B950>, <__main__.County object at 0x0000028110249F40>, <__main__.County object at 0x000002811030ABD0>, <__main__.County object at 0x000002811030B290>, <__main__.County object at 0x0000028110309910>, <__main__.County object at 0x000002811024B710>, <__main__.County object at 0x00000281102489E0>, <__main__.County object at 0x00000281102484A0>, <__main__.County object at 0x0000028110309BE0>]], [[<__main__.County object at 0x000002811030BD10>, <__main__.County object at 0x000002811030AE70>, <__main__.County object at 0x0000028110309AF0>, <__main__.County object at 0x00000281103088C0>, <__main__.County object at 0x000002811030B830>, <__main__.County object at 0x0000028110308CB0>, <__main__.County object at 0x0000028110309E80>, <__main__.County object at 0x00000281103085C0>, <__main__.County object at 0x0000028110309F40>, <__main__.County object at 0x0000028110309F70>, <__main__.County object at 0x000002811030A0C0>, <__main__.County object at 0x000002811030A870>, <__main__.County object at 0x0000028110309370>, <__main__.County object at 0x000002811030A720>], [<__main__.County object at 0x0000028110308140>, <__main__.County object at 0x0000028110308710>, <__main__.County object at 0x0000028110308C20>, <__main__.County object at 0x000002811030A090>, <__main__.County object at 0x000002811030BA40>, <__main__.County object at 0x000002811030B380>, <__main__.County object at 0x0000028110309580>, <__main__.County object at 0x000002811030A810>, <__main__.County object at 0x00000281103081A0>, <__main__.County object at 0x00000281103090D0>, <__main__.County object at 0x0000028110309250>, <__main__.County object at 0x000002811030B6E0>, <__main__.County object at 0x0000028110309E20>, <__main__.County object at 0x00000281103098B0>], [<__main__.County object at 0x000002811030ACF0>, <__main__.County object at 0x0000028110308620>, <__main__.County object at 0x000002811030A3F0>, <__main__.County object at 0x000002811030B560>, <__main__.County object at 0x0000028110308F50>, <__main__.County object at 0x000002811030B710>, <__main__.County object at 0x0000028110308920>, <__main__.County object at 0x00000281103094C0>, <__main__.County object at 0x00000281103085F0>, <__main__.County object at 0x0000028110309F10>, <__main__.County object at 0x000002811030A480>, <__main__.County object at 0x0000028110308380>, <__main__.County object at 0x000002811030B350>, <__main__.County object at 0x0000028110309D90>], [<__main__.County object at 0x000002811030B140>, <__main__.County object at 0x0000028110308410>, <__main__.County object at 0x000002811030B6B0>, <__main__.County object at 0x000002811030B770>, <__main__.County object at 0x000002811030B800>, <__main__.County object at 0x000002811030B9E0>, <__main__.County object at 0x000002811030ACC0>, <__main__.County object at 0x000002811030B7A0>, <__main__.County object at 0x000002811030B2F0>, <__main__.County object at 0x000002811030B5F0>, <__main__.County object at 0x0000028110308AD0>, <__main__.County object at 0x000002811030BC20>, <__main__.County object at 0x000002811030A750>, <__main__.County object at 0x000002811030B0B0>], [<__main__.County object at 0x0000028110309640>, <__main__.County object at 0x0000028110309670>, <__main__.County object at 0x0000028110309EB0>, <__main__.County object at 0x00000281103089B0>, <__main__.County object at 0x000002811030BE60>, <__main__.County object at 0x0000028110308260>, <__main__.County object at 0x000002811030A450>, <__main__.County object at 0x0000028110308680>, <__main__.County object at 0x0000028110309310>, <__main__.County object at 0x00000281103091F0>, <__main__.County object at 0x0000028110308740>, <__main__.County object at 0x0000028110308AA0>, <__main__.County object at 0x00000281103082F0>, <__main__.County object at 0x00000281103083B0>], [<__main__.County object at 0x00000281103080E0>, <__main__.County object at 0x00000281103098E0>, <__main__.County object at 0x00000281103089E0>, <__main__.County object at 0x0000028110308BF0>, <__main__.County object at 0x000002811030A510>, <__main__.County object at 0x0000028110309880>, <__main__.County object at 0x000002811030BE90>, <__main__.County object at 0x0000028110308110>, <__main__.County object at 0x0000028110309970>, <__main__.County object at 0x0000028110309B50>, <__main__.County object at 0x0000028110308B30>, <__main__.County object at 0x0000028110309550>, <__main__.County object at 0x0000028110308530>, <__main__.County object at 0x0000028110308E90>], [<__main__.County object at 0x0000028110309A00>, <__main__.County object at 0x000002811030AE10>, <__main__.County object at 0x0000028110308EC0>, <__main__.County object at 0x00000281103093D0>, <__main__.County object at 0x0000028110309D30>, <__main__.County object at 0x000002811030A990>, <__main__.County object at 0x000002811030BC50>, <__main__.County object at 0x000002811030AAB0>, <__main__.County object at 0x000002811030B410>, <__main__.County object at 0x0000028110308E60>, <__main__.County object at 0x0000028110309B20>, <__main__.County object at 0x000002811030B170>, <__main__.County object at 0x000002811030BB30>, <__main__.County object at 0x0000028110308CE0>], [<__main__.County object at 0x0000028110308DA0>, <__main__.County object at 0x00000281103087A0>, <__main__.County object at 0x000002811030B7D0>, <__main__.County object at 0x000002811030A630>, <__main__.County object at 0x000002811030BA10>, <__main__.County object at 0x0000028110308800>, <__main__.County object at 0x000002811030B0E0>, <__main__.County object at 0x000002811030A420>, <__main__.County object at 0x000002811030AFC0>, <__main__.County object at 0x000002811030AEA0>, <__main__.County object at 0x00000281103081D0>, <__main__.County object at 0x000002811030AC00>, <__main__.County object at 0x0000028110308C50>, <__main__.County object at 0x000002811030A4B0>], [<__main__.County object at 0x0000028110309520>, <__main__.County object at 0x000002811030A5A0>, <__main__.County object at 0x0000028110309D00>, <__main__.County object at 0x0000028110308560>, <__main__.County object at 0x0000028110308950>, <__main__.County object at 0x000002811030A690>, <__main__.County object at 0x000002811030A2D0>, <__main__.County object at 0x000002811030B1A0>, <__main__.County object at 0x0000028110308830>, <__main__.County object at 0x00000281103097C0>, <__main__.County object at 0x000002811030B020>, <__main__.County object at 0x000002811030AD80>, <__main__.County object at 0x000002811030B230>, <__main__.County object at 0x0000028110309CD0>], [<__main__.County object at 0x000002811030B680>, <__main__.County object at 0x000002811030AA80>, <__main__.County object at 0x0000028110308D40>, <__main__.County object at 0x000002811030BAA0>, <__main__.County object at 0x0000028110308FB0>, <__main__.County object at 0x0000028110308A10>, <__main__.County object at 0x00000281103090A0>, <__main__.County object at 0x000002811030A270>, <__main__.County object at 0x0000028110308D70>, <__main__.County object at 0x0000028110309A90>, <__main__.County object at 0x000002811030AE40>, <__main__.County object at 0x000002811030AC90>, <__main__.County object at 0x0000028110308EF0>, <__main__.County object at 0x000002811030B1D0>], [<__main__.County object at 0x000002817FD58350>, <__main__.County object at 0x0000028110114110>, <__main__.County object at 0x00000281103096D0>, <__main__.County object at 0x000002811030B080>, <__main__.County object at 0x0000028110309280>, <__main__.County object at 0x000002811030AB70>, <__main__.County object at 0x000002811030BF20>, <__main__.County object at 0x00000281103094F0>, <__main__.County object at 0x00000281103084A0>, <__main__.County object at 0x0000028110308230>, <__main__.County object at 0x0000028110309940>, <__main__.County object at 0x000002811030AA50>, <__main__.County object at 0x000002811030B4D0>, <__main__.County object at 0x000002811030AD20>], [<__main__.County object at 0x000002811030B200>, <__main__.County object at 0x0000028110309BB0>, <__main__.County object at 0x0000028110309EE0>, <__main__.County object at 0x000002811030AD50>, <__main__.County object at 0x0000028110309DC0>, <__main__.County object at 0x00000281103095B0>, <__main__.County object at 0x00000281103092B0>, <__main__.County object at 0x000002811030B530>, <__main__.County object at 0x0000028110309070>, <__main__.County object at 0x0000028110308470>, <__main__.County object at 0x000002811030A360>, <__main__.County object at 0x0000028110309340>, <__main__.County object at 0x000002811030B9B0>, <__main__.County object at 0x000002811030BBF0>], [<__main__.County object at 0x00000281103093A0>, <__main__.County object at 0x0000028110309160>, <__main__.County object at 0x000002811030BBC0>, <__main__.County object at 0x000002811030B590>, <__main__.County object at 0x00000281103091C0>, <__main__.County object at 0x0000028110309760>, <__main__.County object at 0x00000281103097F0>, <__main__.County object at 0x000002811030BD40>, <__main__.County object at 0x000002811030A060>, <__main__.County object at 0x000002811030BFB0>, <__main__.County object at 0x000002811030B650>, <__main__.County object at 0x0000028110309B80>, <__main__.County object at 0x0000028110308BC0>, <__main__.County object at 0x000002811030B920>], [<__main__.County object at 0x00000281103086E0>, <__main__.County object at 0x000002811030A960>, <__main__.County object at 0x0000028110309C10>, <__main__.County object at 0x000002811030A9F0>, <__main__.County object at 0x000002811030BEC0>, <__main__.County object at 0x000002811030A540>, <__main__.County object at 0x0000028110308050>, <__main__.County object at 0x000002811030AF90>, <__main__.County object at 0x00000281103092E0>, <__main__.County object at 0x000002811030B470>, <__main__.County object at 0x000002811030B890>, <__main__.County object at 0x000002811030A000>, <__main__.County object at 0x0000028110309100>, <__main__.County object at 0x000002811030AFF0>]], [[<__main__.County object at 0x000002811030A120>, <__main__.County object at 0x0000028110309C40>, <__main__.County object at 0x000002811030AB10>, <__main__.County object at 0x0000028110308350>, <__main__.County object at 0x0000028110309A60>, <__main__.County object at 0x0000028110308C80>, <__main__.County object at 0x000002811030A030>, <__main__.County object at 0x00000281103080B0>, <__main__.County object at 0x000002811030BB90>, <__main__.County object at 0x00000281100A3FE0>, <__main__.County object at 0x00000281100A0A10>, <__main__.County object at 0x0000028110308860>, <__main__.County object at 0x0000028110308080>, <__main__.County object at 0x000002811030BE00>], [<__main__.County object at 0x00000281100A0FB0>, <__main__.County object at 0x00000281100A1640>, <__main__.County object at 0x00000281100A3260>, <__main__.County object at 0x00000281100A0DD0>, <__main__.County object at 0x00000281100A2420>, <__main__.County object at 0x00000281100A2C30>, <__main__.County object at 0x00000281100A3200>, <__main__.County object at 0x00000281100A2030>, <__main__.County object at 0x00000281100A3050>, <__main__.County object at 0x00000281100A38C0>, <__main__.County object at 0x00000281100A3710>, <__main__.County object at 0x00000281100A07D0>, <__main__.County object at 0x00000281100A2F60>, <__main__.County object at 0x00000281100A3BF0>], [<__main__.County object at 0x00000281100A2480>, <__main__.County object at 0x00000281100A3CE0>, <__main__.County object at 0x00000281100A2060>, <__main__.County object at 0x00000281100A1F40>, <__main__.County object at 0x00000281100A21E0>, <__main__.County object at 0x00000281100A07A0>, <__main__.County object at 0x00000281100A1A60>, <__main__.County object at 0x00000281100A3440>, <__main__.County object at 0x00000281100A3950>, <__main__.County object at 0x00000281100A03E0>, <__main__.County object at 0x00000281100A3140>, <__main__.County object at 0x00000281100A19A0>, <__main__.County object at 0x00000281100A0B90>, <__main__.County object at 0x00000281100A1E50>], [<__main__.County object at 0x00000281100A3E90>, <__main__.County object at 0x00000281100A1DC0>, <__main__.County object at 0x00000281100A1A00>, <__main__.County object at 0x00000281100A29F0>, <__main__.County object at 0x00000281100A22A0>, <__main__.County object at 0x00000281100A1FD0>, <__main__.County object at 0x00000281100A08F0>, <__main__.County object at 0x00000281100A15B0>, <__main__.County object at 0x00000281100A1D90>, <__main__.County object at 0x00000281100A2090>, <__main__.County object at 0x00000281100A1C40>, <__main__.County object at 0x000002811030B5C0>, <__main__.County object at 0x000002811030BB60>, <__main__.County object at 0x00000281100A2150>], [<__main__.County object at 0x0000028110308770>, <__main__.County object at 0x0000028110309220>, <__main__.County object at 0x000002811030AC60>, <__main__.County object at 0x0000028110308F80>, <__main__.County object at 0x000002811030ADB0>, <__main__.County object at 0x000002811030A9C0>, <__main__.County object at 0x000002811030AC30>, <__main__.County object at 0x0000028110308FE0>, <__main__.County object at 0x000002811030A2A0>, <__main__.County object at 0x000002811030BF50>, <__main__.County object at 0x000002811030AED0>, <__main__.County object at 0x000002811030AF30>, <__main__.County object at 0x000002811030B2C0>, <__main__.County object at 0x000002811030A300>], [<__main__.County object at 0x000002811030A4E0>, <__main__.County object at 0x0000028110309C70>, <__main__.County object at 0x0000028110309130>, <__main__.County object at 0x000002811030A660>, <__main__.County object at 0x0000028110309820>, <__main__.County object at 0x0000028110309040>, <__main__.County object at 0x0000028110114620>, <__main__.County object at 0x000002811030BC80>, <__main__.County object at 0x00000281100A04A0>, <__main__.County object at 0x00000281103084D0>, <__main__.County object at 0x00000281100A2750>, <__main__.County object at 0x00000281100A15E0>, <__main__.County object at 0x0000028110117B60>, <__main__.County object at 0x000002811030B260>], [<__main__.County object at 0x000002811030A7B0>, <__main__.County object at 0x0000028110309AC0>, <__main__.County object at 0x0000028110309790>, <__main__.County object at 0x000002811030A930>, <__main__.County object at 0x000002811030BD70>, <__main__.County object at 0x00000281103087D0>, <__main__.County object at 0x000002811030AB40>, <__main__.County object at 0x00000281100A1700>, <__main__.County object at 0x00000281100A0140>, <__main__.County object at 0x00000281100A2870>, <__main__.County object at 0x00000281100A31A0>, <__main__.County object at 0x00000281100A3920>, <__main__.County object at 0x00000281100A36E0>, <__main__.County object at 0x000002811030BA70>], [<__main__.County object at 0x00000281100A24E0>, <__main__.County object at 0x00000281100A01A0>, <__main__.County object at 0x00000281100A35F0>, <__main__.County object at 0x00000281100A0470>, <__main__.County object at 0x00000281100A2AE0>, <__main__.County object at 0x00000281100A2990>, <__main__.County object at 0x00000281100A1670>, <__main__.County object at 0x00000281100A11F0>, <__main__.County object at 0x00000281100A18B0>, <__main__.County object at 0x00000281100A1910>, <__main__.County object at 0x00000281100A2F90>, <__main__.County object at 0x00000281100A3D40>, <__main__.County object at 0x00000281100A3980>, <__main__.County object at 0x00000281100A02C0>], [<__main__.County object at 0x0000028110309400>, <__main__.County object at 0x000002811030A7E0>, <__main__.County object at 0x0000028110309430>, <__main__.County object at 0x000002811030AF00>, <__main__.County object at 0x0000028110308F20>, <__main__.County object at 0x000002811030A6C0>, <__main__.County object at 0x00000281100A25A0>, <__main__.County object at 0x00000281100A14F0>, <__main__.County object at 0x00000281100A1E80>, <__main__.County object at 0x000002811030A5D0>, <__main__.County object at 0x00000281100A3DA0>, <__main__.County object at 0x00000281100A3CB0>, <__main__.County object at 0x00000281100A2240>, <__main__.County object at 0x00000281100A3E00>], [<__main__.County object at 0x00000281100A2C90>, <__main__.County object at 0x00000281100A0D70>, <__main__.County object at 0x00000281100A03B0>, <__main__.County object at 0x00000281100A1790>, <__main__.County object at 0x00000281100A0AA0>, <__main__.County object at 0x00000281100A28D0>, <__main__.County object at 0x00000281100A0260>, <__main__.County object at 0x00000281100A1EB0>, <__main__.County object at 0x00000281100A2180>, <__main__.County object at 0x00000281100A05F0>, <__main__.County object at 0x00000281100A05C0>, <__main__.County object at 0x00000281100A0980>, <__main__.County object at 0x00000281100A0B30>, <__main__.County object at 0x00000281100A2840>], [<__main__.County object at 0x00000281100A0920>, <__main__.County object at 0x00000281100A10A0>, <__main__.County object at 0x00000281100A1010>, <__main__.County object at 0x00000281100A28A0>, <__main__.County object at 0x00000281100A17F0>, <__main__.County object at 0x00000281100A21B0>, <__main__.County object at 0x00000281100A2360>, <__main__.County object at 0x00000281100A0FE0>, <__main__.County object at 0x00000281100A3FB0>, <__main__.County object at 0x00000281100A3560>, <__main__.County object at 0x00000281100A2F30>, <__main__.County object at 0x00000281100A0A70>, <__main__.County object at 0x00000281100A1760>, <__main__.County object at 0x00000281100A2510>], [<__main__.County object at 0x000002811030BE30>, <__main__.County object at 0x0000028110308170>, <__main__.County object at 0x000002811030BCE0>, <__main__.County object at 0x00000281103099D0>, <__main__.County object at 0x0000028110309490>, <__main__.County object at 0x00000281100A34D0>, <__main__.County object at 0x00000281100A25D0>, <__main__.County object at 0x00000281100A0B60>, <__main__.County object at 0x00000281100A1BB0>, <__main__.County object at 0x00000281100A1850>, <__main__.County object at 0x00000281100A2AB0>, <__main__.County object at 0x00000281100A1820>, <__main__.County object at 0x00000281100A2690>, <__main__.County object at 0x00000281100A0950>], [<__main__.County object at 0x00000281100A0170>, <__main__.County object at 0x00000281100A3470>, <__main__.County object at 0x00000281100A39B0>, <__main__.County object at 0x00000281100A1DF0>, <__main__.County object at 0x00000281100A1E20>, <__main__.County object at 0x00000281100A3F80>, <__main__.County object at 0x00000281100A1AC0>, <__main__.County object at 0x00000281100A0530>, <__main__.County object at 0x00000281100A0380>, <__main__.County object at 0x00000281100A0500>, <__main__.County object at 0x000002811030BB00>, <__main__.County object at 0x00000281100A0350>, <__main__.County object at 0x00000281100A2900>, <__main__.County object at 0x00000281100A1B20>], [<__main__.County object at 0x000002811030A150>, <__main__.County object at 0x000002811030A0F0>, <__main__.County object at 0x00000281100A04D0>, <__main__.County object at 0x0000028110309E50>, <__main__.County object at 0x000002811030A390>, <__main__.County object at 0x00000281100A2660>, <__main__.County object at 0x00000281100A1A90>, <__main__.County object at 0x00000281100A0320>, <__main__.County object at 0x00000281100A1070>, <__main__.County object at 0x00000281100A0290>, <__main__.County object at 0x00000281100A31D0>, <__main__.County object at 0x00000281100A3E30>, <__main__.County object at 0x00000281100A3A40>, <__main__.County object at 0x00000281100A38F0>]], [[<__main__.County object at 0x00000281100A1610>, <__main__.County object at 0x00000281100A3290>, <__main__.County object at 0x000002817FC120C0>, <__main__.County object at 0x00000281100A0DA0>, <__main__.County object at 0x00000281100A2780>, <__main__.County object at 0x00000281100A0890>, <__main__.County object at 0x00000281100A1730>, <__main__.County object at 0x00000281100A20F0>, <__main__.County object at 0x00000281100A2B70>, <__main__.County object at 0x00000281100A1100>, <__main__.County object at 0x00000281100A3800>, <__main__.County object at 0x00000281100A22D0>, <__main__.County object at 0x00000281100A2CF0>, <__main__.County object at 0x00000281100A3410>], [<__main__.County object at 0x00000281100A0230>, <__main__.County object at 0x00000281100A30B0>, <__main__.County object at 0x00000281100A3770>, <__main__.County object at 0x00000281100A1130>, <__main__.County object at 0x00000281100A0440>, <__main__.County object at 0x00000281100A29C0>, <__main__.County object at 0x00000281101558E0>, <__main__.County object at 0x00000281103083E0>, <__main__.County object at 0x00000281101579B0>, <__main__.County object at 0x000002817FC13D10>, <__main__.County object at 0x00000281100A02F0>, <__main__.County object at 0x00000281100A0B00>, <__main__.County object at 0x00000281100A0E00>, <__main__.County object at 0x00000281100A32F0>], [<__main__.County object at 0x00000281100A32C0>, <__main__.County object at 0x00000281100A17C0>, <__main__.County object at 0x00000281100A3620>, <__main__.County object at 0x00000281100A30E0>, <__main__.County object at 0x00000281100A2000>, <__main__.County object at 0x00000281100A35C0>, <__main__.County object at 0x00000281100A24B0>, <__main__.County object at 0x00000281100A3F50>, <__main__.County object at 0x00000281100A01D0>, <__main__.County object at 0x00000281100A2390>, <__main__.County object at 0x00000281100A27B0>, <__main__.County object at 0x00000281100A0770>, <__main__.County object at 0x00000281100A2D50>, <__main__.County object at 0x00000281100A3C50>], [<__main__.County object at 0x00000281100A3830>, <__main__.County object at 0x00000281100A0830>, <__main__.County object at 0x00000281100A0CE0>, <__main__.County object at 0x00000281100A1430>, <__main__.County object at 0x00000281100A2210>, <__main__.County object at 0x00000281100A1550>, <__main__.County object at 0x00000281100A2300>, <__main__.County object at 0x00000281100A0800>, <__main__.County object at 0x00000281100A2720>, <__main__.County object at 0x00000281100A0EF0>, <__main__.County object at 0x00000281100A1280>, <__main__.County object at 0x00000281100A0EC0>, <__main__.County object at 0x00000281100A2E40>, <__main__.County object at 0x00000281100A1520>], [<__main__.County object at 0x00000281100A2A20>, <__main__.County object at 0x000002817FC22B10>, <__main__.County object at 0x00000281100A2C00>, <__main__.County object at 0x00000281100A3D10>, <__main__.County object at 0x00000281100A0E30>, <__main__.County object at 0x00000281100A26F0>, <__main__.County object at 0x00000281100A2600>, <__main__.County object at 0x00000281100A1BE0>, <__main__.County object at 0x00000281100A1940>, <__main__.County object at 0x00000281100A0F50>, <__main__.County object at 0x00000281100A1D00>, <__main__.County object at 0x00000281100A3EC0>, <__main__.County object at 0x00000281100A2C60>, <__main__.County object at 0x00000281100A0200>], [<__main__.County object at 0x00000281100A1D30>, <__main__.County object at 0x00000281100A16A0>, <__main__.County object at 0x00000281100A37A0>, <__main__.County object at 0x00000281100A06B0>, <__main__.County object at 0x00000281100A3D70>, <__main__.County object at 0x00000281100A3500>, <__main__.County object at 0x00000281100A1C70>, <__main__.County object at 0x00000281100A1CD0>, <__main__.County object at 0x00000281100A3A10>, <__main__.County object at 0x00000281100A0110>, <__main__.County object at 0x00000281100A0410>, <__main__.County object at 0x00000281100A16D0>, <__main__.County object at 0x00000281100A1490>, <__main__.County object at 0x00000281100A1C10>], [<__main__.County object at 0x00000281100A2EA0>, <__main__.County object at 0x00000281100A13A0>, <__main__.County object at 0x00000281100A0860>, <__main__.County object at 0x00000281100A3380>, <__main__.County object at 0x00000281100A3650>, <__main__.County object at 0x00000281100A3680>, <__main__.County object at 0x00000281100A0C50>, <__main__.County object at 0x00000281100A1460>, <__main__.County object at 0x00000281100A00E0>, <__main__.County object at 0x00000281100A1340>, <__main__.County object at 0x00000281100A23F0>, <__main__.County object at 0x00000281100A3530>, <__main__.County object at 0x00000281100A0C80>, <__main__.County object at 0x00000281100A0C20>], [<__main__.County object at 0x00000281100A2450>, <__main__.County object at 0x00000281100A14C0>, <__main__.County object at 0x00000281100A2D20>, <__main__.County object at 0x00000281100A0560>, <__main__.County object at 0x00000281100A3AD0>, <__main__.County object at 0x00000281100A3890>, <__main__.County object at 0x00000281100A2540>, <__main__.County object at 0x00000281100A3E60>, <__main__.County object at 0x00000281100A2D80>, <__main__.County object at 0x00000281100A26C0>, <__main__.County object at 0x00000281100A3C20>, <__main__.County object at 0x00000281100A0740>, <__main__.County object at 0x00000281100A00B0>, <__main__.County object at 0x00000281100A1250>], [<__main__.County object at 0x00000281100A1040>, <__main__.County object at 0x00000281100A2CC0>, <__main__.County object at 0x00000281100A2960>, <__main__.County object at 0x00000281100A2BD0>, <__main__.County object at 0x00000281100A3BC0>, <__main__.County object at 0x00000281100A3080>, <__main__.County object at 0x00000281100A0BF0>, <__main__.County object at 0x00000281100A3020>, <__main__.County object at 0x00000281100A0D10>, <__main__.County object at 0x00000281100A0BC0>, <__main__.County object at 0x00000281100A1190>, <__main__.County object at 0x00000281100A1220>, <__main__.County object at 0x00000281100A3B90>, <__main__.County object at 0x00000281100A1310>], [<__main__.County object at 0x00000281100A2BA0>, <__main__.County object at 0x00000281100A2DE0>, <__main__.County object at 0x00000281100A0710>, <__main__.County object at 0x00000281100A0050>, <__main__.County object at 0x00000281100A1880>, <__main__.County object at 0x00000281100A3B30>, <__main__.County object at 0x00000281100A13D0>, <__main__.County object at 0x00000281100A3230>, <__main__.County object at 0x00000281100A3590>, <__main__.County object at 0x00000281100A1370>, <__main__.County object at 0x00000281100A37D0>, <__main__.County object at 0x00000281100A0E60>, <__main__.County object at 0x00000281100A2E10>, <__main__.County object at 0x00000281100A0D40>], [<__main__.County object at 0x00000281100A1FA0>, <__main__.County object at 0x00000281100A3110>, <__main__.County object at 0x00000281100A2330>, <__main__.County object at 0x00000281100A3350>, <__main__.County object at 0x00000281100A2DB0>, <__main__.County object at 0x00000281100A18E0>, <__main__.County object at 0x00000281100A0620>, <__main__.County object at 0x00000281100A1A30>, <__main__.County object at 0x00000281100A06E0>, <__main__.County object at 0x00000281100A0680>, <__main__.County object at 0x00000281100A3A70>, <__main__.County object at 0x00000281100A2120>, <__main__.County object at 0x00000281100A09E0>, <__main__.County object at 0x00000281100A0080>], [<__main__.County object at 0x00000281100A0650>, <__main__.County object at 0x00000281100A1AF0>, <__main__.County object at 0x00000281100A3DD0>, <__main__.County object at 0x00000281100A2A50>, <__main__.County object at 0x00000281100A12B0>, <__main__.County object at 0x00000281100A0CB0>, <__main__.County object at 0x00000281100A1EE0>, <__main__.County object at 0x00000281100A0A40>, <__main__.County object at 0x00000281100A0590>, <__main__.County object at 0x00000281100A36B0>, <__main__.County object at 0x00000281100A3C80>, <__main__.County object at 0x00000281100A19D0>, <__main__.County object at 0x00000281100A2270>, <__main__.County object at 0x00000281100A2ED0>], [<__main__.County object at 0x00000281100A3320>, <__main__.County object at 0x00000281100A1D60>, <__main__.County object at 0x00000281100A23C0>, <__main__.County object at 0x00000281100A0AD0>, <__main__.County object at 0x00000281100A08C0>, <__main__.County object at 0x00000281100A1160>, <__main__.County object at 0x00000281100A3AA0>, <__main__.County object at 0x00000281100A09B0>, <__main__.County object at 0x00000281100A3EF0>, <__main__.County object at 0x00000281100A34A0>, <__main__.County object at 0x00000281100A3860>, <__main__.County object at 0x00000281100A2630>, <__main__.County object at 0x00000281100A2E70>, <__main__.County object at 0x00000281100A3170>], [<__main__.County object at 0x00000281100A33E0>, <__main__.County object at 0x00000281100A11C0>, <__main__.County object at 0x00000281100A2F00>, <__main__.County object at 0x00000281100A33B0>, <__main__.County object at 0x00000281100A2930>, <__main__.County object at 0x00000281100A2570>, <__main__.County object at 0x00000281100A3B00>, <__main__.County object at 0x00000281100A10D0>, <__main__.County object at 0x00000281100A1970>, <__main__.County object at 0x00000281100A1580>, <__main__.County object at 0x00000281100A12E0>, <__main__.County object at 0x00000281100A0E90>, <__main__.County object at 0x00000281100A3B60>, <__main__.County object at 0x00000281100A1B80>]], [[<__main__.County object at 0x000002811007AB70>, <__main__.County object at 0x00000281101C6F30>, <__main__.County object at 0x00000281101C4890>, <__main__.County object at 0x00000281101C6690>, <__main__.County object at 0x00000281101C7B60>, <__main__.County object at 0x00000281101C6540>, <__main__.County object at 0x00000281101C6390>, <__main__.County object at 0x00000281101C5970>, <__main__.County object at 0x00000281101C5AF0>, <__main__.County object at 0x00000281101C7B30>, <__main__.County object at 0x00000281101C7BC0>, <__main__.County object at 0x00000281101C6630>, <__main__.County object at 0x00000281101C4080>, <__main__.County object at 0x00000281101C59A0>], [<__main__.County object at 0x00000281101C5160>, <__main__.County object at 0x00000281101C7950>, <__main__.County object at 0x00000281101C7110>, <__main__.County object at 0x00000281101C5B80>, <__main__.County object at 0x00000281101C5D30>, <__main__.County object at 0x00000281101C5CD0>, <__main__.County object at 0x00000281101C66F0>, <__main__.County object at 0x00000281101C63C0>, <__main__.County object at 0x00000281101C5040>, <__main__.County object at 0x00000281101C70E0>, <__main__.County object at 0x00000281101C66C0>, <__main__.County object at 0x00000281101C6360>, <__main__.County object at 0x00000281101C71A0>, <__main__.County object at 0x00000281101C71D0>], [<__main__.County object at 0x00000281100A1F10>, <__main__.County object at 0x00000281101C7080>, <__main__.County object at 0x00000281100A39E0>, <__main__.County object at 0x00000281100A2FF0>, <__main__.County object at 0x00000281100A0F20>, <__main__.County object at 0x000002817FC22B40>, <__main__.County object at 0x00000281101C6480>, <__main__.County object at 0x00000281101C6EA0>, <__main__.County object at 0x00000281101C5CA0>, <__main__.County object at 0x00000281101C5D60>, <__main__.County object at 0x00000281101C4230>, <__main__.County object at 0x00000281101C4200>, <__main__.County object at 0x00000281101C40B0>, <__main__.County object at 0x00000281101C5DC0>], [<__main__.County object at 0x00000281101C7710>, <__main__.County object at 0x00000281101C6D50>, <__main__.County object at 0x00000281101C6120>, <__main__.County object at 0x00000281101C4C20>, <__main__.County object at 0x00000281101C5610>, <__main__.County object at 0x00000281101C4BF0>, <__main__.County object at 0x00000281101C74A0>, <__main__.County object at 0x00000281101C6D20>, <__main__.County object at 0x00000281101C6A80>, <__main__.County object at 0x00000281101C69F0>, <__main__.County object at 0x00000281101C5580>, <__main__.County object at 0x00000281101C6960>, <__main__.County object at 0x00000281101C5F70>, <__main__.County object at 0x00000281101C73B0>], [<__main__.County object at 0x00000281101C6060>, <__main__.County object at 0x00000281101C74D0>, <__main__.County object at 0x00000281101C6300>, <__main__.County object at 0x00000281101C6AB0>, <__main__.County object at 0x00000281101C60C0>, <__main__.County object at 0x00000281101C6330>, <__main__.County object at 0x00000281101C6CF0>, <__main__.County object at 0x00000281101C5640>, <__main__.County object at 0x00000281101C58E0>, <__main__.County object at 0x00000281101C7D70>, <__main__.County object at 0x00000281101C5EB0>, <__main__.County object at 0x00000281101C54C0>, <__main__.County object at 0x00000281101C7C50>, <__main__.County object at 0x00000281101C7DA0>], [<__main__.County object at 0x00000281101C50D0>, <__main__.County object at 0x00000281101C5910>, <__main__.County object at 0x00000281101C4E30>, <__main__.County object at 0x00000281101C6510>, <__main__.County object at 0x00000281101C65A0>, <__main__.County object at 0x00000281101C6720>, <__main__.County object at 0x00000281101C5130>, <__main__.County object at 0x00000281101C5760>, <__main__.County object at 0x00000281101C5940>, <__main__.County object at 0x00000281101C4E60>, <__main__.County object at 0x00000281101C5FD0>, <__main__.County object at 0x00000281101C5100>, <__main__.County object at 0x00000281101C4C80>, <__main__.County object at 0x00000281101C4DD0>], [<__main__.County object at 0x00000281101C6030>, <__main__.County object at 0x00000281101C6C30>, <__main__.County object at 0x00000281101C76E0>, <__main__.County object at 0x00000281101C56D0>, <__main__.County object at 0x00000281101C58B0>, <__main__.County object at 0x00000281101C7260>, <__main__.County object at 0x00000281101C6DB0>, <__main__.County object at 0x00000281101C6750>, <__main__.County object at 0x00000281101C6A50>, <__main__.County object at 0x00000281101C6900>, <__main__.County object at 0x00000281101C72C0>, <__main__.County object at 0x00000281101C6A20>, <__main__.County object at 0x00000281101C7770>, <__main__.County object at 0x00000281101C68A0>], [<__main__.County object at 0x00000281101C5850>, <__main__.County object at 0x00000281101C7D40>, <__main__.County object at 0x00000281101C6240>, <__main__.County object at 0x00000281101C6930>, <__main__.County object at 0x00000281101C72F0>, <__main__.County object at 0x00000281101C5E20>, <__main__.County object at 0x00000281101C6840>, <__main__.County object at 0x00000281101C56A0>, <__main__.County object at 0x00000281101C7200>, <__main__.County object at 0x00000281101C7BF0>, <__main__.County object at 0x00000281101C7A70>, <__main__.County object at 0x00000281101C5820>, <__main__.County object at 0x00000281101C6D80>, <__main__.County object at 0x00000281101C4F80>], [<__main__.County object at 0x00000281101C69C0>, <__main__.County object at 0x00000281101C7380>, <__main__.County object at 0x00000281101C5FA0>, <__main__.County object at 0x00000281101C5880>, <__main__.County object at 0x00000281101C7D10>, <__main__.County object at 0x00000281101C5460>, <__main__.County object at 0x00000281101C7320>, <__main__.County object at 0x00000281101C4EF0>, <__main__.County object at 0x00000281101C7CE0>, <__main__.County object at 0x00000281101C5430>, <__main__.County object at 0x00000281101C5010>, <__main__.County object at 0x00000281101C5E50>, <__main__.County object at 0x00000281101C4EC0>, <__main__.County object at 0x00000281101C5F10>], [<__main__.County object at 0x00000281101C5D90>, <__main__.County object at 0x00000281101C7170>, <__main__.County object at 0x00000281101C4800>, <__main__.County object at 0x00000281101C7B00>, <__main__.County object at 0x00000281101C5B50>, <__main__.County object at 0x00000281101C51F0>, <__main__.County object at 0x00000281101C40E0>, <__main__.County object at 0x00000281101C4860>, <__main__.County object at 0x00000281101C52E0>, <__main__.County object at 0x00000281101C6E70>, <__main__.County object at 0x00000281101C4B00>, <__main__.County object at 0x00000281101C4FB0>, <__main__.County object at 0x00000281101C4C50>, <__main__.County object at 0x00000281101C5670>], [<__main__.County object at 0x00000281101C5520>, <__main__.County object at 0x00000281101C5EE0>, <__main__.County object at 0x00000281101C54F0>, <__main__.County object at 0x00000281101C7C80>, <__main__.County object at 0x00000281101C68D0>, <__main__.County object at 0x00000281101C7FE0>, <__main__.County object at 0x00000281101C6150>, <__main__.County object at 0x00000281101C7290>, <__main__.County object at 0x00000281101C6C00>, <__main__.County object at 0x00000281101C7620>, <__main__.County object at 0x00000281101C4FE0>, <__main__.County object at 0x00000281101C55E0>, <__main__.County object at 0x00000281101C4E00>, <__main__.County object at 0x00000281101C5A30>], [<__main__.County object at 0x00000281101C4DA0>, <__main__.County object at 0x00000281101C5BE0>, <__main__.County object at 0x00000281101C5190>, <__main__.County object at 0x00000281101C6F00>, <__main__.County object at 0x00000281101C6F60>, <__main__.County object at 0x00000281101C59D0>, <__main__.County object at 0x00000281101C7140>, <__main__.County object at 0x00000281101C70B0>, <__main__.County object at 0x00000281101C6000>, <__main__.County object at 0x00000281101C6870>, <__main__.County object at 0x00000281101C7350>, <__main__.County object at 0x00000281101C5E80>, <__main__.County object at 0x00000281101C7230>, <__main__.County object at 0x00000281101C5B20>], [<__main__.County object at 0x00000281101C6B70>, <__main__.County object at 0x00000281101C7C20>, <__main__.County object at 0x00000281101C7CB0>, <__main__.County object at 0x00000281101C49E0>, <__main__.County object at 0x00000281101C67E0>, <__main__.County object at 0x00000281101C6810>, <__main__.County object at 0x00000281101C5490>, <__main__.County object at 0x00000281101C4F20>, <__main__.County object at 0x00000281101C55B0>, <__main__.County object at 0x00000281101C6990>, <__main__.County object at 0x00000281101C4E90>, <__main__.County object at 0x00000281101C5730>, <__main__.County object at 0x00000281101C5340>, <__main__.County object at 0x00000281101C5070>], [<__main__.County object at 0x00000281100A1B50>, <__main__.County object at 0x00000281101C7B90>, <__main__.County object at 0x00000281101C6660>, <__main__.County object at 0x00000281101C6780>, <__main__.County object at 0x00000281101C7AD0>, <__main__.County object at 0x00000281101C5D00>, <__main__.County object at 0x00000281101C5A00>, <__main__.County object at 0x00000281101C5F40>, <__main__.County object at 0x00000281101C6AE0>, <__main__.County object at 0x00000281101C60F0>, <__main__.County object at 0x00000281101C5550>, <__main__.County object at 0x00000281101C6B40>, <__main__.County object at 0x00000281101C5790>, <__main__.County object at 0x00000281101C41A0>]], [[<__main__.County object at 0x00000281101C7EC0>, <__main__.County object at 0x00000281101C7F20>, <__main__.County object at 0x00000281101C4350>, <__main__.County object at 0x00000281101C4380>, <__main__.County object at 0x00000281101C43B0>, <__main__.County object at 0x00000281101C7470>, <__main__.County object at 0x00000281101C7530>, <__main__.County object at 0x00000281101C75C0>, <__main__.County object at 0x00000281101C4650>, <__main__.County object at 0x00000281101C4680>, <__main__.County object at 0x00000281101C6B10>, <__main__.County object at 0x00000281101C4320>, <__main__.County object at 0x00000281101C7F50>, <__main__.County object at 0x00000281101C7860>], [<__main__.County object at 0x00000281101C5C70>, <__main__.County object at 0x00000281101C4A70>, <__main__.County object at 0x00000281101C4AD0>, <__main__.County object at 0x00000281101C4050>, <__main__.County object at 0x00000281101C4620>, <__main__.County object at 0x00000281101C4B60>, <__main__.County object at 0x00000281102C86B0>, <__main__.County object at 0x00000281101C4110>, <__main__.County object at 0x00000281101C45C0>, <__main__.County object at 0x00000281102CAFF0>, <__main__.County object at 0x00000281101C45F0>, <__main__.County object at 0x00000281102CACC0>, <__main__.County object at 0x00000281101C53D0>, <__main__.County object at 0x00000281101C7920>], [<__main__.County object at 0x00000281101C7DD0>, <__main__.County object at 0x00000281101C61E0>, <__main__.County object at 0x00000281101C4950>, <__main__.County object at 0x00000281101C7590>, <__main__.County object at 0x00000281101C6FF0>, <__main__.County object at 0x00000281101C7740>, <__main__.County object at 0x00000281101C6600>, <__main__.County object at 0x00000281101C6210>, <__main__.County object at 0x00000281101C7560>, <__main__.County object at 0x00000281101C5A60>, <__main__.County object at 0x00000281101C7E00>, <__main__.County object at 0x00000281101C65D0>, <__main__.County object at 0x00000281101C4410>, <__main__.County object at 0x00000281101C7A10>], [<__main__.County object at 0x00000281101C6180>, <__main__.County object at 0x00000281101C62D0>, <__main__.County object at 0x00000281101C63F0>, <__main__.County object at 0x00000281101C75F0>, <__main__.County object at 0x00000281101C73E0>, <__main__.County object at 0x00000281101C6E10>, <__main__.County object at 0x00000281101C79E0>, <__main__.County object at 0x00000281101C57C0>, <__main__.County object at 0x00000281101C7800>, <__main__.County object at 0x00000281101C7FB0>, <__main__.County object at 0x00000281101C77D0>, <__main__.County object at 0x00000281101C4B90>, <__main__.County object at 0x00000281101C7440>, <__main__.County object at 0x00000281101C6FC0>], [<__main__.County object at 0x00000281102C8C50>, <__main__.County object at 0x00000281102C8F50>, <__main__.County object at 0x00000281101C4D40>, <__main__.County object at 0x00000281102C8B00>, <__main__.County object at 0x00000281101C4CB0>, <__main__.County object at 0x00000281102C9040>, <__main__.County object at 0x00000281102CB6E0>, <__main__.County object at 0x00000281102CA660>, <__main__.County object at 0x00000281102C9670>, <__main__.County object at 0x00000281102CBB60>, <__main__.County object at 0x00000281102CBDD0>, <__main__.County object at 0x00000281102C96D0>, <__main__.County object at 0x00000281102C87D0>, <__main__.County object at 0x00000281101C4A40>], [<__main__.County object at 0x00000281101C4770>, <__main__.County object at 0x00000281101C44D0>, <__main__.County object at 0x00000281101C7680>, <__main__.County object at 0x00000281101C5BB0>, <__main__.County object at 0x00000281101C4980>, <__main__.County object at 0x00000281101C6F90>, <__main__.County object at 0x00000281101C48C0>, <__main__.County object at 0x00000281101C44A0>, <__main__.County object at 0x00000281101C5DF0>, <__main__.County object at 0x00000281101C77A0>, <__main__.County object at 0x00000281101C7830>, <__main__.County object at 0x00000281101C46E0>, <__main__.County object at 0x00000281101C4440>, <__main__.County object at 0x00000281101C4500>], [<__main__.County object at 0x00000281102CB800>, <__main__.County object at 0x00000281102C8680>, <__main__.County object at 0x00000281102C8F80>, <__main__.County object at 0x00000281102CA570>, <__main__.County object at 0x00000281102CA120>, <__main__.County object at 0x00000281102CAC30>, <__main__.County object at 0x00000281102CABA0>, <__main__.County object at 0x00000281102CBAD0>, <__main__.County object at 0x00000281102C9BB0>, <__main__.County object at 0x00000281102CB410>, <__main__.County object at 0x00000281102CA360>, <__main__.County object at 0x00000281102C9430>, <__main__.County object at 0x00000281102C9220>, <__main__.County object at 0x00000281102CB6B0>], [<__main__.County object at 0x00000281102CAF60>, <__main__.County object at 0x00000281102CB530>, <__main__.County object at 0x00000281102C8950>, <__main__.County object at 0x00000281102CA690>, <__main__.County object at 0x00000281102C84D0>, <__main__.County object at 0x00000281102CAED0>, <__main__.County object at 0x00000281102C91F0>, <__main__.County object at 0x00000281102CA390>, <__main__.County object at 0x00000281102CB4D0>, <__main__.County object at 0x00000281102CA7B0>, <__main__.County object at 0x00000281102C8290>, <__main__.County object at 0x00000281102C98E0>, <__main__.County object at 0x00000281102CB950>, <__main__.County object at 0x00000281102CA1B0>], [<__main__.County object at 0x00000281101C6BA0>, <__main__.County object at 0x00000281101C7EF0>, <__main__.County object at 0x00000281101C7E90>, <__main__.County object at 0x00000281101C48F0>, <__main__.County object at 0x00000281101C4AA0>, <__main__.County object at 0x00000281101C47D0>, <__main__.County object at 0x00000281101C4560>, <__main__.County object at 0x00000281101C52B0>, <__main__.County object at 0x00000281101C6270>, <__main__.County object at 0x00000281101C49B0>, <__main__.County object at 0x00000281101C5400>, <__main__.County object at 0x00000281101C41D0>, <__main__.County object at 0x00000281102C94F0>, <__main__.County object at 0x00000281101C47A0>], [<__main__.County object at 0x000002811010EED0>, <__main__.County object at 0x0000028110248620>, <__main__.County object at 0x00000281101C46B0>, <__main__.County object at 0x00000281101C5C10>, <__main__.County object at 0x00000281101C51C0>, <__main__.County object at 0x00000281101C4BC0>, <__main__.County object at 0x00000281102CB830>, <__main__.County object at 0x00000281102C9D30>, <__main__.County object at 0x00000281102CA300>, <__main__.County object at 0x00000281102C8590>, <__main__.County object at 0x00000281102CB0B0>, <__main__.County object at 0x00000281102C9640>, <__main__.County object at 0x00000281102C88C0>, <__main__.County object at 0x00000281102CADE0>], [<__main__.County object at 0x00000281101C7F80>, <__main__.County object at 0x00000281101C79B0>, <__main__.County object at 0x00000281102C8FB0>, <__main__.County object at 0x00000281102C8EC0>, <__main__.County object at 0x00000281102C99D0>, <__main__.County object at 0x00000281102CB8F0>, <__main__.County object at 0x00000281102CB1D0>, <__main__.County object at 0x00000281102CB230>, <__main__.County object at 0x00000281102CA900>, <__main__.County object at 0x00000281102CA1E0>, <__main__.County object at 0x00000281102C97C0>, <__main__.County object at 0x00000281102CB7D0>, <__main__.County object at 0x00000281102C9A60>, <__main__.County object at 0x00000281102C9A90>], [<__main__.County object at 0x00000281101C4CE0>, <__main__.County object at 0x00000281101C7410>, <__main__.County object at 0x00000281101C7500>, <__main__.County object at 0x00000281101C42F0>, <__main__.County object at 0x00000281101C4260>, <__main__.County object at 0x00000281101C4590>, <__main__.County object at 0x00000281101C42C0>, <__main__.County object at 0x00000281101C4290>, <__main__.County object at 0x00000281101C7E60>, <__main__.County object at 0x00000281101C61B0>, <__main__.County object at 0x00000281101C4530>, <__main__.County object at 0x00000281102C9100>, <__main__.County object at 0x00000281102C9970>, <__main__.County object at 0x00000281102C8560>], [<__main__.County object at 0x00000281101C43E0>, <__main__.County object at 0x00000281101C4470>, <__main__.County object at 0x00000281101C4710>, <__main__.County object at 0x00000281101C4740>, <__main__.County object at 0x00000281101C6090>, <__main__.County object at 0x00000281101C4F50>, <__main__.County object at 0x00000281102C9E80>, <__main__.County object at 0x00000281102C9B80>, <__main__.County object at 0x00000281102CBFE0>, <__main__.County object at 0x00000281102CBDA0>, <__main__.County object at 0x00000281102C9280>, <__main__.County object at 0x00000281102C9790>, <__main__.County object at 0x00000281102C8410>, <__main__.County object at 0x00000281102CA270>], [<__main__.County object at 0x00000281101C7E30>, <__main__.County object at 0x00000281101C4B30>, <__main__.County object at 0x00000281102CAA80>, <__main__.County object at 0x00000281102C8710>, <__main__.County object at 0x00000281102C8E30>, <__main__.County object at 0x00000281102CB110>, <__main__.County object at 0x00000281101C78C0>, <__main__.County object at 0x00000281101C6C60>, <__main__.County object at 0x00000281101C6420>, <__main__.County object at 0x00000281102CA5A0>, <__main__.County object at 0x00000281101C5370>, <__main__.County object at 0x00000281102C9520>, <__main__.County object at 0x00000281102C9FA0>, <__main__.County object at 0x00000281102CAD20>]], [[<__main__.County object at 0x00000281102C8080>, <__main__.County object at 0x00000281102C9A30>, <__main__.County object at 0x00000281102C9E50>, <__main__.County object at 0x00000281102CBB00>, <__main__.County object at 0x00000281102CB9B0>, <__main__.County object at 0x00000281102C80E0>, <__main__.County object at 0x00000281102C91C0>, <__main__.County object at 0x00000281102C8C20>, <__main__.County object at 0x00000281102CA9F0>, <__main__.County object at 0x00000281102CA720>, <__main__.County object at 0x00000281102C9AC0>, <__main__.County object at 0x00000281102C85C0>, <__main__.County object at 0x00000281102C89E0>, <__main__.County object at 0x00000281102C8260>], [<__main__.County object at 0x00000281102C8C80>, <__main__.County object at 0x00000281102C9130>, <__main__.County object at 0x00000281102C9850>, <__main__.County object at 0x00000281102C9490>, <__main__.County object at 0x00000281102C9190>, <__main__.County object at 0x00000281102CA3C0>, <__main__.County object at 0x00000281102CAB40>, <__main__.County object at 0x00000281102CA6C0>, <__main__.County object at 0x00000281102C8B30>, <__main__.County object at 0x00000281102CA480>, <__main__.County object at 0x00000281102C9D60>, <__main__.County object at 0x00000281102CAEA0>, <__main__.County object at 0x00000281102C88F0>, <__main__.County object at 0x00000281102CBBC0>], [<__main__.County object at 0x00000281102C9AF0>, <__main__.County object at 0x00000281102CA630>, <__main__.County object at 0x00000281102CA210>, <__main__.County object at 0x00000281102C9250>, <__main__.County object at 0x00000281102C9F10>, <__main__.County object at 0x00000281102C9730>, <__main__.County object at 0x00000281102CB320>, <__main__.County object at 0x00000281102C8F20>, <__main__.County object at 0x00000281102CB080>, <__main__.County object at 0x00000281102C82C0>, <__main__.County object at 0x00000281102CB290>, <__main__.County object at 0x00000281102C9EB0>, <__main__.County object at 0x00000281102C98B0>, <__main__.County object at 0x00000281102C8830>], [<__main__.County object at 0x00000281102C84A0>, <__main__.County object at 0x0000028110308590>, <__main__.County object at 0x00000281102CBD70>, <__main__.County object at 0x00000281102C89B0>, <__main__.County object at 0x00000281102CAE70>, <__main__.County object at 0x00000281102C8380>, <__main__.County object at 0x00000281102CBA10>, <__main__.County object at 0x00000281101C64E0>, <__main__.County object at 0x00000281102CA3F0>, <__main__.County object at 0x00000281101AA120>, <__main__.County object at 0x00000281102CAF00>, <__main__.County object at 0x00000281102C9820>, <__main__.County object at 0x00000281102C86E0>, <__main__.County object at 0x00000281102CA600>], [<__main__.County object at 0x00000281102CB4A0>, <__main__.County object at 0x00000281102CAE10>, <__main__.County object at 0x00000281102CB860>, <__main__.County object at 0x00000281102CA5D0>, <__main__.County object at 0x00000281102CB2F0>, <__main__.County object at 0x00000281102C92E0>, <__main__.County object at 0x00000281102C8980>, <__main__.County object at 0x00000281102C9C40>, <__main__.County object at 0x00000281102C83B0>, <__main__.County object at 0x00000281102C9D90>, <__main__.County object at 0x00000281102C9DC0>, <__main__.County object at 0x00000281102C9B50>, <__main__.County object at 0x00000281102CA960>, <__main__.County object at 0x00000281102C95E0>], [<__main__.County object at 0x00000281102CBE30>, <__main__.County object at 0x00000281102C9610>, <__main__.County object at 0x00000281102C9880>, <__main__.County object at 0x00000281102C8620>, <__main__.County object at 0x00000281102CA870>, <__main__.County object at 0x00000281102C8E60>, <__main__.County object at 0x00000281102C9160>, <__main__.County object at 0x00000281102CBC80>, <__main__.County object at 0x00000281102CBAA0>, <__main__.County object at 0x00000281102C8500>, <__main__.County object at 0x00000281102CA420>, <__main__.County object at 0x00000281102C8D70>, <__main__.County object at 0x00000281102CA750>, <__main__.County object at 0x00000281102C8050>], [<__main__.County object at 0x00000281102CA840>, <__main__.County object at 0x00000281102C9550>, <__main__.County object at 0x00000281102C9EE0>, <__main__.County object at 0x00000281102CB260>, <__main__.County object at 0x00000281102CAA20>, <__main__.County object at 0x00000281102CBA40>, <__main__.County object at 0x00000281102C8E00>, <__main__.County object at 0x00000281102CBFB0>, <__main__.County object at 0x00000281102CB980>, <__main__.County object at 0x00000281102C8A40>, <__main__.County object at 0x00000281102CB0E0>, <__main__.County object at 0x00000281102CA510>, <__main__.County object at 0x00000281102C81A0>, <__main__.County object at 0x00000281102C90A0>], [<__main__.County object at 0x00000281102CAAB0>, <__main__.County object at 0x00000281102CAAE0>, <__main__.County object at 0x00000281102C8320>, <__main__.County object at 0x00000281102C9DF0>, <__main__.County object at 0x00000281102CB440>, <__main__.County object at 0x00000281102CB5F0>, <__main__.County object at 0x00000281102C8110>, <__main__.County object at 0x00000281102CB1A0>, <__main__.County object at 0x00000281102CB740>, <__main__.County object at 0x00000281102CB8C0>, <__main__.County object at 0x00000281102CBC20>, <__main__.County object at 0x00000281102CA030>, <__main__.County object at 0x00000281102C93D0>, <__main__.County object at 0x00000281102C94C0>], [<__main__.County object at 0x00000281102C9400>, <__main__.County object at 0x00000281102CB200>, <__main__.County object at 0x00000281102CA0F0>, <__main__.County object at 0x00000281102C8200>, <__main__.County object at 0x00000281102CA060>, <__main__.County object at 0x00000281102CA000>, <__main__.County object at 0x00000281102C9C70>, <__main__.County object at 0x00000281102C8770>, <__main__.County object at 0x00000281102C8890>, <__main__.County object at 0x00000281102C8440>, <__main__.County object at 0x00000281102C8140>, <__main__.County object at 0x00000281102C9CA0>, <__main__.County object at 0x00000281102CA0C0>, <__main__.County object at 0x00000281102CA540>], [<__main__.County object at 0x00000281102C90D0>, <__main__.County object at 0x00000281102CB890>, <__main__.County object at 0x00000281102CA150>, <__main__.County object at 0x00000281102CA930>, <__main__.County object at 0x00000281102CBD10>, <__main__.County object at 0x00000281102CB3B0>, <__main__.County object at 0x00000281102C9B20>, <__main__.County object at 0x00000281102CABD0>, <__main__.County object at 0x00000281102C9460>, <__main__.County object at 0x00000281102C9F40>, <__main__.County object at 0x00000281102C99A0>, <__main__.County object at 0x00000281102CB9E0>, <__main__.County object at 0x00000281102C9700>, <__main__.County object at 0x00000281102CA7E0>], [<__main__.County object at 0x00000281102C97F0>, <__main__.County object at 0x00000281102C9310>, <__main__.County object at 0x00000281102C8920>, <__main__.County object at 0x00000281102CAA50>, <__main__.County object at 0x00000281102CAFC0>, <__main__.County object at 0x00000281102CA990>, <__main__.County object at 0x00000281102C80B0>, <__main__.County object at 0x00000281102CBA70>, <__main__.County object at 0x00000281102CA4B0>, <__main__.County object at 0x00000281102C8DD0>, <__main__.County object at 0x00000281102CB920>, <__main__.County object at 0x00000281102CB5C0>, <__main__.County object at 0x00000281102CB590>, <__main__.County object at 0x00000281102C8CE0>], [<__main__.County object at 0x00000281102CA240>, <__main__.County object at 0x00000281102CA9C0>, <__main__.County object at 0x00000281102C9E20>, <__main__.County object at 0x00000281102CA8D0>, <__main__.County object at 0x00000281102CAD80>, <__main__.County object at 0x00000281102C95B0>, <__main__.County object at 0x00000281102C8E90>, <__main__.County object at 0x00000281102CB560>, <__main__.County object at 0x00000281102CACF0>, <__main__.County object at 0x00000281102CBB90>, <__main__.County object at 0x00000281102C8A70>, <__main__.County object at 0x00000281102CA330>, <__main__.County object at 0x00000281102C85F0>, <__main__.County object at 0x00000281102CBB30>], [<__main__.County object at 0x00000281102CBF80>, <__main__.County object at 0x00000281102CAD50>, <__main__.County object at 0x00000281102CA180>, <__main__.County object at 0x00000281102C8FE0>, <__main__.County object at 0x00000281102CAB10>, <__main__.County object at 0x00000281102C8B90>, <__main__.County object at 0x00000281102C9370>, <__main__.County object at 0x00000281102C8EF0>, <__main__.County object at 0x00000281102C9010>, <__main__.County object at 0x00000281102C8D10>, <__main__.County object at 0x00000281102C8D40>, <__main__.County object at 0x00000281102CB140>, <__main__.County object at 0x00000281102C8350>, <__main__.County object at 0x00000281102CA4E0>], [<__main__.County object at 0x00000281101457F0>, <__main__.County object at 0x00000281102CB170>, <__main__.County object at 0x00000281102C8AD0>, <__main__.County object at 0x00000281102C9070>, <__main__.County object at 0x00000281102CB770>, <__main__.County object at 0x00000281102CB7A0>, <__main__.County object at 0x00000281102CB020>, <__main__.County object at 0x00000281102CA810>, <__main__.County object at 0x00000281102CBEC0>, <__main__.County object at 0x00000281102CAE40>, <__main__.County object at 0x00000281102C9910>, <__main__.County object at 0x00000281102CBCE0>, <__main__.County object at 0x00000281102C9FD0>, <__main__.County object at 0x00000281102C8A10>]]]]\n",
      "The solution does not contain 6 districts.\n"
     ]
    },
    {
     "ename": "InvalidSolution",
     "evalue": "Invalid solution, verify your code.",
     "output_type": "error",
     "traceback": [
      "\u001b[1;31m---------------------------------------------------------------------------\u001b[0m",
      "\u001b[1;31mInvalidSolution\u001b[0m                           Traceback (most recent call last)",
      "Cell \u001b[1;32mIn[22], line 3\u001b[0m\n\u001b[0;32m      1\u001b[0m \u001b[38;5;28mprint\u001b[39m(resultats_initials[\u001b[38;5;124m\"\u001b[39m\u001b[38;5;124mgroupes\u001b[39m\u001b[38;5;124m\"\u001b[39m])\n\u001b[1;32m----> 3\u001b[0m resultats_am_locale \u001b[38;5;241m=\u001b[39m \u001b[43mmeasure\u001b[49m\u001b[43m(\u001b[49m\u001b[38;5;28;43;01mlambda\u001b[39;49;00m\u001b[43m \u001b[49m\u001b[43mx\u001b[49m\u001b[43m:\u001b[49m\u001b[43m \u001b[49m\u001b[43mamelioration_locale\u001b[49m\u001b[43m(\u001b[49m\u001b[43mx\u001b[49m\u001b[43m[\u001b[49m\u001b[38;5;124;43m\"\u001b[39;49m\u001b[38;5;124;43mgroupes\u001b[39;49m\u001b[38;5;124;43m\"\u001b[39;49m\u001b[43m]\u001b[49m\u001b[43m[\u001b[49m\u001b[38;5;241;43m0\u001b[39;49m\u001b[43m]\u001b[49m\u001b[43m[\u001b[49m\u001b[38;5;241;43m0\u001b[39;49m\u001b[43m]\u001b[49m\u001b[43m,\u001b[49m\u001b[43m \u001b[49m\u001b[43mx\u001b[49m\u001b[43m[\u001b[49m\u001b[38;5;124;43m\"\u001b[39;49m\u001b[38;5;124;43mtargets\u001b[39;49m\u001b[38;5;124;43m\"\u001b[39;49m\u001b[43m]\u001b[49m\u001b[43m[\u001b[49m\u001b[38;5;241;43m0\u001b[39;49m\u001b[43m]\u001b[49m\u001b[43m[\u001b[49m\u001b[38;5;241;43m0\u001b[39;49m\u001b[43m]\u001b[49m\u001b[43m,\u001b[49m\u001b[43m \u001b[49m\u001b[43mx\u001b[49m\u001b[43m[\u001b[49m\u001b[38;5;124;43m\"\u001b[39;49m\u001b[38;5;124;43mns\u001b[39;49m\u001b[38;5;124;43m\"\u001b[39;49m\u001b[43m]\u001b[49m\u001b[43m[\u001b[49m\u001b[38;5;241;43m0\u001b[39;49m\u001b[43m]\u001b[49m\u001b[43m[\u001b[49m\u001b[38;5;241;43m0\u001b[39;49m\u001b[43m]\u001b[49m\u001b[43m,\u001b[49m\u001b[43m \u001b[49m\u001b[43mx\u001b[49m\u001b[43m[\u001b[49m\u001b[38;5;124;43m\"\u001b[39;49m\u001b[38;5;124;43msamples\u001b[39;49m\u001b[38;5;124;43m\"\u001b[39;49m\u001b[43m]\u001b[49m\u001b[43m[\u001b[49m\u001b[38;5;241;43m0\u001b[39;49m\u001b[43m]\u001b[49m\u001b[43m[\u001b[49m\u001b[38;5;241;43m0\u001b[39;49m\u001b[43m]\u001b[49m\u001b[43m,\u001b[49m\u001b[43m \u001b[49m\u001b[43mx\u001b[49m\u001b[43m[\u001b[49m\u001b[38;5;124;43m\"\u001b[39;49m\u001b[38;5;124;43msolutions_initiales\u001b[39;49m\u001b[38;5;124;43m\"\u001b[39;49m\u001b[43m]\u001b[49m\u001b[43m[\u001b[49m\u001b[38;5;241;43m0\u001b[39;49m\u001b[43m]\u001b[49m\u001b[43m[\u001b[49m\u001b[38;5;241;43m0\u001b[39;49m\u001b[43m]\u001b[49m\u001b[43m)\u001b[49m\u001b[43m,\u001b[49m\u001b[43m \u001b[49m\u001b[43mresultats_initials\u001b[49m\u001b[43m)\u001b[49m\n\u001b[0;32m      5\u001b[0m display_data_as_table(resultats_graphs)\n",
      "Cell \u001b[1;32mIn[3], line 110\u001b[0m, in \u001b[0;36mmeasure\u001b[1;34m(procedure, sample, time_scale)\u001b[0m\n\u001b[0;32m    108\u001b[0m end: \u001b[38;5;28mint\u001b[39m \u001b[38;5;241m=\u001b[39m time\u001b[38;5;241m.\u001b[39mtime() \u001b[38;5;241m*\u001b[39m time_scale\n\u001b[0;32m    109\u001b[0m \u001b[38;5;28;01mif\u001b[39;00m \u001b[38;5;129;01mnot\u001b[39;00m is_valid_solution(sample, solution):\n\u001b[1;32m--> 110\u001b[0m     \u001b[38;5;28;01mraise\u001b[39;00m InvalidSolution()\n\u001b[0;32m    111\u001b[0m \u001b[38;5;28;01mreturn\u001b[39;00m (\u001b[38;5;28mround\u001b[39m(end \u001b[38;5;241m-\u001b[39m start), score_solution(sample, solution))\n",
      "\u001b[1;31mInvalidSolution\u001b[0m: Invalid solution, verify your code."
     ]
    }
   ],
   "source": [
    "# print(resultats_initials[\"groupes\"])\n",
    "\n",
    "# resultats_am_locale = measure(lambda x: amelioration_locale(x[\"groupes\"][0][0], x[\"targets\"][0][0], x[\"ns\"][0][0], x[\"samples\"][0][0], x[\"solutions_initiales\"][0][0]), resultats_initials)\n",
    "\n",
    "# display_data_as_table(resultats_graphs)"
   ]
  },
  {
   "cell_type": "code",
   "execution_count": null,
   "metadata": {},
   "outputs": [],
   "source": [
    "# def measure(procedure: Callable[[list[list[int]]],list[list[tuple[int,int]]]], sample: list[list[int]], time_scale: int = 1000) -> tuple[int,int]:\n",
    "#     \"\"\"Returns a tuple containing the time as well as the score of the solution, in that order.\n",
    "    \n",
    "#     Parameters:\n",
    "#         time_scale: Controls the level of precision of the time measurements.\n",
    "\n",
    "#     Raises:\n",
    "#         InvalidSolution: If the procedure returns an invalid solution, raises an exception.\n",
    "#     \"\"\"\n",
    "#     start: int = time.time() * time_scale\n",
    "#     solution: list[int] = procedure(sample)\n",
    "#     end: int = time.time() * time_scale\n",
    "#     if not is_valid_solution(sample, solution):\n",
    "#         raise InvalidSolution()\n",
    "#     return (round(end - start), score_solution(sample, solution))\n",
    "\n",
    "# def measure_mean(procedure: Callable[[list[list[int]]],list[list[tuple[int,int]]]], prob: Problem, greedy_results, time_scale: int = 1000) -> Measure:\n",
    "#     \"\"\"Generates multiple samples with the specified parameters and returns a Measure \n",
    "#     instance representing the result as well as the problem.\n",
    "\n",
    "#     Raises:\n",
    "#         InvalidSolution: If one of the samples results in an invalid solution.\n",
    "#     \"\"\"\n",
    "#     results = [measure(procedure,sample,time_scale) for sample in prob.generate_dataset()]\n",
    "#     mean_time = sum(result[0] for result in results) / prob.num_samples\n",
    "#     mean_score = sum(result[1] for result in results) / prob.num_samples\n",
    "#     return Measure(prob.size, mean_time, mean_score)\n",
    "\n",
    "# def measure_range(procedure: Callable[[list[list[int]]],list[list[tuple[int,int]]]], problems: list[Problem], time_scale: int = 1000) -> list[Measure]:\n",
    "#     \"\"\"Measures the mean time taken for each problem in the given list.\n",
    "\n",
    "#     Raises:\n",
    "#         InvalidSolution: If one of the samples results in an invalid solution.\n",
    "\n",
    "#     Returns:\n",
    "#         A list of Measure instances containing the specifications\n",
    "#         of the problem as well as the mean time and the score.\n",
    "#     \"\"\"\n",
    "#     return [\n",
    "#         measure_mean(procedure, problems[i], resultats_initials[], time_scale)\n",
    "#         for i in len(problems)\n",
    "#     ]"
   ]
  },
  {
   "cell_type": "markdown",
   "metadata": {},
   "source": [
    "Nous avons essayé de faire l'analyse de la fonction d'amélioration locale indépendemment de l'algorithme principal. Par contre, comme l'amélioration locale demande une solution initiale sur laquelle faire l'amélioration et les fonctions fournies ne nous permettent pas isoler cette section de l'analyse. Par contre, nous avons fais l'analyse de la section de génération initale et aussi l'analyse de la génération initiale avec un passage d'amélioration locale. Nous voyons entre les deux analyse qu'il n'y a aucune différence d'ordre de grandeur. Ceci peux seulement nous borner supérieurement la complexité de notre amélioration locale qui est au pire dans le même ordre que la génération initiale. Nous savons que c'est O(n⁴) héoriquement et en pratique plus près de O(n³). Bref, un passage d'amélioration locale n'affecte pas l'ordre de grandeur, car il est au maximum aussi grand que nous génération de solution initiale."
   ]
  },
  {
   "cell_type": "markdown",
   "metadata": {
    "id": "AB43Z14ssDna"
   },
   "source": [
    "# Analyse code carbon (2 pts)\n",
    "\n",
    "Effectuer une anlayse code carbon en sélectionnant différent pays pour l'analyse. Commenter vos résultats."
   ]
  },
  {
   "cell_type": "code",
   "execution_count": null,
   "metadata": {},
   "outputs": [
    {
     "name": "stderr",
     "output_type": "stream",
     "text": [
      "[codecarbon INFO @ 23:16:40] offline tracker init\n",
      "[codecarbon ERROR @ 23:16:40] Error: Another instance of codecarbon is already running. Turn off the other instance to be able to run this one. Exiting.\n",
      "[codecarbon WARNING @ 23:16:40] Another instance of codecarbon is already running. Exiting.\n"
     ]
    },
    {
     "ename": "AttributeError",
     "evalue": "'OfflineEmissionsTracker' object has no attribute '_scheduler'",
     "output_type": "error",
     "traceback": [
      "\u001b[1;31m---------------------------------------------------------------------------\u001b[0m",
      "\u001b[1;31mAttributeError\u001b[0m                            Traceback (most recent call last)",
      "Cell \u001b[1;32mIn[22], line 9\u001b[0m\n\u001b[0;32m      3\u001b[0m tracker_USA \u001b[38;5;241m=\u001b[39m OfflineEmissionsTracker(measure_power_secs\u001b[38;5;241m=\u001b[39m\u001b[38;5;241m5\u001b[39m, country_iso_code\u001b[38;5;241m=\u001b[39m\u001b[38;5;124m'\u001b[39m\u001b[38;5;124mUSA\u001b[39m\u001b[38;5;124m'\u001b[39m)\n\u001b[0;32m      4\u001b[0m \u001b[38;5;66;03m# tracker_CAD = OfflineEmissionsTracker(measure_power_secs=5, country_iso_code='CAN')\u001b[39;00m\n\u001b[0;32m      5\u001b[0m \u001b[38;5;66;03m# tracker_JPN = OfflineEmissionsTracker(measure_power_secs=5, country_iso_code='JPN')\u001b[39;00m\n\u001b[0;32m      6\u001b[0m \u001b[38;5;66;03m# tracker_FRA = OfflineEmissionsTracker(measure_power_secs=5, country_iso_code='FRA')\u001b[39;00m\n\u001b[0;32m      7\u001b[0m \u001b[38;5;66;03m# tracker_CHN = OfflineEmissionsTracker(measure_power_secs=5, country_iso_code='CHN')\u001b[39;00m\n\u001b[1;32m----> 9\u001b[0m \u001b[43mtracker_USA\u001b[49m\u001b[38;5;241;43m.\u001b[39;49m\u001b[43mstart_task\u001b[49m\u001b[43m(\u001b[49m\u001b[38;5;124;43m\"\u001b[39;49m\u001b[38;5;124;43mmain\u001b[39;49m\u001b[38;5;124;43m\"\u001b[39;49m\u001b[43m)\u001b[49m\n\u001b[0;32m     10\u001b[0m \u001b[38;5;66;03m# tracker_CAD.start_task(\"main_CAD\")\u001b[39;00m\n\u001b[0;32m     11\u001b[0m \u001b[38;5;66;03m# tracker_JPN.start_task(\"main_JPN\")\u001b[39;00m\n\u001b[0;32m     12\u001b[0m \u001b[38;5;66;03m# tracker_FRA.start_task(\"main_FRA\")\u001b[39;00m\n\u001b[0;32m     13\u001b[0m \u001b[38;5;66;03m# tracker_CHN.start_task(\"main_CHN\")\u001b[39;00m\n\u001b[0;32m     15\u001b[0m results \u001b[38;5;241m=\u001b[39m measure_range(main, make_problems([\u001b[38;5;241m100\u001b[39m], \u001b[38;5;241m1\u001b[39m) )\n",
      "File \u001b[1;32mc:\\Users\\gabco\\.conda\\envs\\INF8775\\Lib\\site-packages\\codecarbon\\emissions_tracker.py:548\u001b[0m, in \u001b[0;36mBaseEmissionsTracker.start_task\u001b[1;34m(self, task_name)\u001b[0m\n\u001b[0;32m    542\u001b[0m \u001b[38;5;250m\u001b[39m\u001b[38;5;124;03m\"\"\"\u001b[39;00m\n\u001b[0;32m    543\u001b[0m \u001b[38;5;124;03mStart tracking a dedicated execution task.\u001b[39;00m\n\u001b[0;32m    544\u001b[0m \u001b[38;5;124;03m:param task_name: Name of the task to be isolated.\u001b[39;00m\n\u001b[0;32m    545\u001b[0m \u001b[38;5;124;03m:return: None\u001b[39;00m\n\u001b[0;32m    546\u001b[0m \u001b[38;5;124;03m\"\"\"\u001b[39;00m\n\u001b[0;32m    547\u001b[0m \u001b[38;5;66;03m# Stop scheduler as we do not want it to interfere with the task measurement\u001b[39;00m\n\u001b[1;32m--> 548\u001b[0m \u001b[38;5;28;01mif\u001b[39;00m \u001b[38;5;28;43mself\u001b[39;49m\u001b[38;5;241;43m.\u001b[39;49m\u001b[43m_scheduler\u001b[49m:\n\u001b[0;32m    549\u001b[0m     \u001b[38;5;28mself\u001b[39m\u001b[38;5;241m.\u001b[39m_scheduler\u001b[38;5;241m.\u001b[39mstop()\n\u001b[0;32m    551\u001b[0m \u001b[38;5;28;01mif\u001b[39;00m \u001b[38;5;28mself\u001b[39m\u001b[38;5;241m.\u001b[39m_active_task:\n",
      "\u001b[1;31mAttributeError\u001b[0m: 'OfflineEmissionsTracker' object has no attribute '_scheduler'"
     ]
    }
   ],
   "source": [
    "from codecarbon import EmissionsTracker, OfflineEmissionsTracker\n",
    "try:\n",
    "    tracker_USA = OfflineEmissionsTracker(measure_power_secs=5, tracking_mode=\"process\", country_iso_code='USA')\n",
    "    # tracker_CAD = OfflineEmissionsTracker(measure_power_secs=5, country_iso_code='CAN')\n",
    "    # tracker_JPN = OfflineEmissionsTracker(measure_power_secs=5, country_iso_code='JPN')\n",
    "    # tracker_FRA = OfflineEmissionsTracker(measure_power_secs=5, country_iso_code='FRA')\n",
    "    # tracker_CHN = OfflineEmissionsTracker(measure_power_secs=5, country_iso_code='CHN')\n",
    "\n",
    "    tracker_USA.start_task(\"main_USA\")\n",
    "    # tracker_CAD.start_task(\"main_CAD\")\n",
    "    # tracker_JPN.start_task(\"main_JPN\")\n",
    "    # tracker_FRA.start_task(\"main_FRA\")\n",
    "    # tracker_CHN.start_task(\"main_CHN\")\n",
    "\n",
    "    results = measure_range(main, make_problems([100], 1) )\n",
    "    tracker_USA.stop_task()\n",
    "    # tracker_CAD.stop_task()\n",
    "    # tracker_JPN.stop_task()\n",
    "    # tracker_FRA.stop_task()\n",
    "    # tracker_CHN.stop_task()\n",
    "\n",
    "finally:\n",
    "    _ = tracker_USA.stop()\n",
    "    # _ = tracker_CAD.stop()\n",
    "    # _ = tracker_JPN.stop()\n",
    "    # _ = tracker_FRA.stop()\n",
    "    # _ = tracker_CHN.stop()"
   ]
  },
  {
   "cell_type": "markdown",
   "metadata": {
    "id": "Y4Xx4XnglnII"
   },
   "source": [
    "# Conclusion (6 pts)\n",
    "\n",
    "# Étapes d'amélioration pour arriver à notre version actuelle\n",
    "Nous avons commencé par un algorithme glouton qui n'avait aucune gestion du temps et aucune amélioration après le passage initial. Cet algorithme était en theta(n³) au lieu de theta(n⁴) comme notre algorithme actuel, car nous faisions une selection  du premier élément d'un groupe de manière complètment aléatoire. De plus, lorsqu'il n'y avait pas de voisins disponibles pour choisir le prochain élément, l'élément choisi dans le groupe était aléatoire ce qui donnait de mauvais scores de distance. De plus, nous n'avions pas encore l'objet County pour nous aider à clarifier le code. Du fait, nos heuristiques de choix de prochain élément étaient très rudimentaires et inefficace. Les score pour n=100 étaient autour de 700 000.\n",
    "\n",
    "Nous avons par la suite ajouté une section d'amélioration locale. Pour choisir le groupe auquel nous voulions faire une amélioration, nous avons commencé par prendre celui qui a un nombre de vote le plus près d'une majorité et prendre le meilleur des échanges. Par contre, nous avons réalisé que certains des échanges étaient considérés comme sous optimaux et pris quand même. De plus, seulement un groupe recevait des modifications constantes jusqu'à atteindre un nombre de vote majoritaire puis un prochain. Nous avons donc changé notre algorithme pour prendre un groupe aléatoire parmis tous et vérifier que le meilleur échange améliore la situation et sinon ne pas faire d'échange. Ceci nous a permis de ne pas rester pris dans un minimum et presque toujours faire des améliorations avec chaque passage et arrêter seuelement lorsque le score obtenu est excellent.\n",
    "\n",
    "# Points forts de notre algorithme\n",
    "Notre algorithme trouve une solution initiale qui est souvent vraiment bonne et satisfaisante, même sans la mise en place d'une amélioration locale. Bref, bien que la complexité soit grande, notre passage initial donne une solution d'environ 25 000 pour n=100.\n",
    "\n",
    "L'autre force de notre algorithme est que l'amélioration locale améliore rellement le score même après une grande quantité d'améliorations. En effet, le groupe qui reçoit une amélioration est choisi aléatoirement ce qui nous permet de tout améliorer. De plus, si jamais la quantité d'amélioration maximale pour la solution actuelle est atteinte, notre algorithme va préférer ne prendre aucune action plutôt qu'une action sous optimale.\n",
    "\n",
    "# Points faibles de notre algorithme\n",
    "Notre algorithme est vraiment lent pour trouver une solution initiale. Bien que la solution soit bonne, elle demande un trop grand temps de calcul pour de grandes valeurs de n. Un autre point faible de notre algorithme est de ne pas prendre avantage du débalancement possible dans les grandeurs des groupes de County. Nous pourrions surement aller chercher des scores plus élevés avec un débalancement faible dans le nombre de County inclus par groupe.\n",
    "\n",
    "# Amélioration possibles\n",
    "Pour améliorer notre algorithme, 2 avenues sont à explorer. La première est de fournir une version encore plus rapide de solution initiale pour être correct dans des situations ou le n prend une très très grande valeur. Ainsi je crois qu'il faudrait un système de thread pour faire des interruptions pour s'assurer de ne pas dépasser les temps prévus peu import la technique utilisée. Bien sur, l'utilisation de thread serait aussi très utile pour accélérer les performances et non seulement faire un meilleur timer.\n",
    "\n",
    "La deuxième amélioration que nous aurions aimé explorer avec plus de temps est d'introduire un débalancement dans le nombre de County par groupe de vote. Ainsi, nous aurions pu réduire le score de groupes gagnés qui devient important avec des grandes valeurs par sa nature quadratique. Pour faire ce débalancement, l'algorithme d'amélioration locale pourrait avoir la capacité de prendre un County au lieu de simplement faire des échanges."
   ]
  },
  {
   "cell_type": "markdown",
   "metadata": {
    "id": "nCj6aXxQlnII"
   },
   "source": [
    " ## Autres critères (2 pts)\n",
    " Qualité du code / 1 pt\n",
    "\n",
    "Présentation générale / 1 pt\n",
    "\n",
    "- Concision\n",
    "- Qualité du français\n",
    "\n",
    "Pénalité retard\n",
    "- -2 pt / journée de retard, arrondi vers le haut. Les TPs ne sont plus acceptés après 3 jours."
   ]
  }
 ],
 "metadata": {
  "colab": {
   "provenance": []
  },
  "kernelspec": {
   "display_name": "INF8775",
   "language": "python",
   "name": "python3"
  },
  "language_info": {
   "codemirror_mode": {
    "name": "ipython",
    "version": 3
   },
   "file_extension": ".py",
   "mimetype": "text/x-python",
   "name": "python",
   "nbconvert_exporter": "python",
   "pygments_lexer": "ipython3",
   "version": "3.12.5"
  }
 },
 "nbformat": 4,
 "nbformat_minor": 0
}

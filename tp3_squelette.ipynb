{
 "cells": [
  {
   "cell_type": "markdown",
   "metadata": {
    "id": "bNG5DI3nlnIA"
   },
   "source": [
    "# INF8775 – Analyse et conception d’algorithmes\n",
    "# TP3 – Automne 2024"
   ]
  },
  {
   "cell_type": "markdown",
   "metadata": {
    "id": "gobfFF2IlnIB"
   },
   "source": [
    "Côté, Gabriel, 2082508\n",
    "\n",
    "Tourigny, François, 2079718"
   ]
  },
  {
   "cell_type": "markdown",
   "metadata": {
    "id": "E9CyGQLAlnIC"
   },
   "source": [
    "Note finale:"
   ]
  },
  {
   "cell_type": "markdown",
   "metadata": {
    "id": "YYmoxM0BlnIC"
   },
   "source": [
    "<u>**Date limite de remise :**</u>  4 décembre 23h59 pour les deux groupes"
   ]
  },
  {
   "cell_type": "markdown",
   "metadata": {
    "id": "5HEd-K_glnID"
   },
   "source": [
    "# Instructions\n",
    "\n",
    "## Rédaction et remise du rapport\n",
    "\n",
    "- Ce notebook constitue à la fois le sujet du TP, votre code et votre rapport. Il contient déjà du code pour faciliter vos mesures et l'affichage de vos résultats, ainsi qu'un squelette pour votre rapport.\n",
    "\n",
    "- Complétez directement le notebook, vous êtes libres de créer des nouvelles cellules de code ou de texte.\n",
    "\n",
    "- Vous pouvez utiliser des fichiers externes pour stocker des exemplaires et des résultats, mais nous devons être capable de comprendre facilement votre démarche et de la reproduire.\n",
    "\n",
    "- <u>**IMPORTANT**</u> Remettez le fichier du notebook sur Moodle avec le nom `MATRICULE1_MATRICULE2.ipynb`\n",
    "\n",
    "- Vous pouvez inclure du code trouvé sur Internet, mais vous devez en mentionner la source, sous peine d'être sanctionnés pour plagiat.\n",
    "\n",
    "## Mise en situation\n",
    "\n",
    "Ce travail pratique se répartit sur deux séances de laboratoire et est une occasion de mettre en application les connaissances vues en cours. Vous devrez développer l'algorithme de votre choix pour essayer de résoudre le plus efficacement possible le problème donné. Une partie de la note sera accordée en fonction des résultats que vous obtiendrez par rapport aux autres équipes.\n",
    "\n",
    "## Description du problème\n",
    "\n",
    "Le problème qu'on vous demande de résoudre cette fois-ci est un peu plus difficile. Vous êtes responsable de la séparation des voteurs d'un pays en circonscriptions. Un des deux candidats principaux, M. T, vient vous voir et vous demande de lui garantir une victoire (pour un montant non négligeable d'argent). Évidemment, vous refusez, mais le problème est intéressant et vous décidez d'essayez de le résoudre. Si ça vous intéresse, ce problème est ce qu'on appelle du *gerrymandering*.\n",
    "\n",
    "Vous aurez comme entrée à votre problème une carte du pays (représentée par une matrice carrée $n \\times n$) qui contient à chaque position le nombre de voteurs pour candidat X (un chiffre entre 0 et 1000). Votre objectif est de créer $n$ circonscriptions de sorte à ce que candidat X gagne l'élection. Quelques spécifications importantes:\n",
    "\n",
    "- La variable $n$ représente un côté de la matrice. Il y a donc, $n^2$ villes.\n",
    "- Chaque position de la matrice représente une ville\n",
    "- Chaque circonscription doit contenir **$n$ villes**. Une solution reste valide si une circonscription ne contient pas exactement $n$ villes, mais il y a une **pénalité** qui y est associée.\n",
    "- Les villes d'une circonscription doivent être proche les unes des autres. On aimerait garder cette **distance à, au plus, $n/2$**. Encore une fois, on permet de briser cette contrainte, mais il y aura une pénalité qui y est associée. (**Distance manhattan**)\n",
    "- Les villes d'une circonscription ne doivent **pas être nécessairement voisines** tant qu'on respecte la distance maximale. Voir l'exemple plus bas.\n",
    "- Le candidat remporte une circonscription si le nombre de voteurs dans cette circonscription est supérieur à $500n$.\n",
    "- Le candidat cherche à remporter le plus de circonscriptions qu'il peut.\n",
    "\n",
    "![alt text](distance_example.png)"
   ]
  },
  {
   "cell_type": "markdown",
   "metadata": {
    "id": "XqG5rRjSlnIE"
   },
   "source": [
    "\n",
    "## Jeu de données\n",
    "\n",
    "La classe Problem existe pour simplifier l'interface des différentes fonctions utilitaires. Elle permet de générer des jeux de données avec la méthode `generate_sample` ci-dessous. Elle génère une matrice carrée de taille $n$ contenant des nombres entre $1$ et $1000$. Vous pouvez utilisez des exemplaires aléatoires pour tester votre code. La compétition sera faite sur les mêmes exemplaires de tailles différentes pour toutes les équipes d'un même groupe."
   ]
  },
  {
   "cell_type": "code",
   "execution_count": 83,
   "metadata": {
    "id": "h9ZlrNOBlnIF"
   },
   "outputs": [],
   "source": [
    "import random\n",
    "from collections.abc import Iterable\n",
    "\n",
    "def generate_city() -> int:\n",
    "    return round(min(1000,max(0,random.normalvariate(450,200))))\n",
    "\n",
    "class Problem():\n",
    "    def __init__(self, size: int, num_samples: int = 5) -> None:\n",
    "        self.size = size\n",
    "        self.num_samples = num_samples\n",
    "\n",
    "    def generate_sample(self) -> list[list[int]]:\n",
    "        \"\"\"Returns a matrix containing values between 0 and 1000. Each value is the number of voters in a given city\"\"\"\n",
    "        return [[generate_city() for _ in range(self.size)] for _ in range(self.size)]\n",
    "\n",
    "    def generate_dataset(self) -> Iterable[list[list[int]]]:\n",
    "        \"\"\"Returns an iterator over as many samples as are described\"\"\"\n",
    "        return (self.generate_sample() for _ in range(self.num_samples))"
   ]
  },
  {
   "cell_type": "markdown",
   "metadata": {
    "id": "XAvab0yKlnIG"
   },
   "source": [
    "# Implantations et expérimentations"
   ]
  },
  {
   "cell_type": "markdown",
   "metadata": {
    "id": "1U7ktXeVlnIG"
   },
   "source": [
    "Ces fonctions auxiliaires vous sont fournies pour vérifier l'exactitude des vos algorithmes, mesurer leurs performance et afficher vos résultats.\n",
    "\n",
    "Il est recommandé de prendre le temps de lire et comprendre le code.\n",
    "\n",
    "Exécutez la cellule ci-dessous pour pouvoir utiliser les fonctions auxiliaires."
   ]
  },
  {
   "cell_type": "code",
   "execution_count": 84,
   "metadata": {
    "id": "7pWvysBtlnIH"
   },
   "outputs": [],
   "source": [
    "import matplotlib.pyplot as plt\n",
    "import time\n",
    "from collections.abc import Callable\n",
    "from math import ceil\n",
    "import math\n",
    "from scipy.stats import linregress\n",
    "import numpy as np\n",
    "from tqdm import trange\n",
    "\n",
    "class InvalidSolution(Exception):\n",
    "    def __init__(self):\n",
    "        super().__init__(\"Invalid solution, verify your code.\")\n",
    "\n",
    "class Measure():\n",
    "    \"\"\"A wrapper to contain information on taken measures\"\"\"\n",
    "    def __init__(self, size: int, mean: int, score:int) -> None:\n",
    "        self.size = size\n",
    "        self.mean_score = score\n",
    "        self.mean = mean\n",
    "\n",
    "def score_solution(original: list[list[int]], solution: list[list[tuple[int,int]]]) -> int:\n",
    "    \"\"\"Returns the score of the current solution. The score function is a penalty that must be minimized.\"\"\"\n",
    "    return votes_score(original, solution) + size_score(solution) + distance_score(solution)\n",
    "\n",
    "def votes_score(original: list[list[int]], solution: list[list[tuple[int,int]]]) -> int:\n",
    "    \"\"\"Calculates the part of the score associated to lost districts. \n",
    "    It is 5 times the square of the number of lost districts.\"\"\"\n",
    "    lost_districts = 0\n",
    "    for district in solution:\n",
    "        sum = 0\n",
    "        for city in district:\n",
    "            sum += original[city[0]][city[1]]\n",
    "        if sum <= 500*len(district):\n",
    "            lost_districts += 1\n",
    "    return 5 * lost_districts**2\n",
    "\n",
    "def size_score(solution: list[list[tuple[int,int]]]) -> int:\n",
    "    \"\"\"Calculates the part of the score associated to districts having the wrong size.\n",
    "    It is the square of the difference between the wanted number of cities and the \n",
    "    current number of cities in a given district.\"\"\"\n",
    "    n = len(solution)\n",
    "    size_penality = 0\n",
    "    for district in solution:\n",
    "        size_penality += (len(district)-n)**2\n",
    "    return size_penality\n",
    "\n",
    "def distance_score(solution: list[list[tuple[int,int]]]) -> int:\n",
    "    \"\"\"Calculates the part of the score associated to the distance between cities in a district.\n",
    "    It is the mean square distance between each city and every other city in its district.\"\"\"\n",
    "    distance_score = 0\n",
    "    n = len(solution)\n",
    "    for district in solution:\n",
    "        for i,city in enumerate(district):\n",
    "            for j in range(i+1, len(district)):\n",
    "                distance_score += (max(0, distance_manhattan(city, district[j])-ceil(n/2)))**2\n",
    "    return distance_score/len(solution)\n",
    "\n",
    "def distance_manhattan(city_a: tuple[int,int], city_b: tuple[int,int]) -> int:\n",
    "    return abs(city_a[0] - city_b[0]) + abs(city_a[1] - city_b[1])\n",
    "\n",
    "def is_valid_solution(original: list[list[int]], solution: list[list[tuple[int,int]]]) -> bool:\n",
    "    \"\"\"Validates solution\"\"\"\n",
    "    n = len(original)\n",
    "\n",
    "    if len(solution) != n:\n",
    "        print(f\"The solution does not contain {n} districts.\")\n",
    "        return False\n",
    "\n",
    "    for district in solution:\n",
    "        if len(district) < 1:\n",
    "            print(\"The solution contains empty districts.\")\n",
    "            return False\n",
    "        for city in district:\n",
    "            if len(city)!=2:\n",
    "                print(\"Solution must contain 2 coordinates per city.\")\n",
    "                return False\n",
    "        for coord in city:\n",
    "            if coord < 0 or coord >=n:\n",
    "                print(f\"City coordinates must below {n} and positive.\")\n",
    "                return False\n",
    "\n",
    "    coord_set = set()\n",
    "    for district in solution:\n",
    "        for city in district:\n",
    "            coord_set.add(city)\n",
    "    if len(coord_set) != n*n:\n",
    "        print(f\"Solution contained {len(coord_set)} different cities while there should be {n*n} cities in the solution.\")\n",
    "        return False\n",
    "\n",
    "    # Solution is valid\n",
    "    return True\n",
    "\n",
    "def make_problems(sizes: list[int], num_samples: int = 5) -> list[Problem]:\n",
    "    \"\"\"Creates problem instances using given sizes and max_numbers\"\"\"\n",
    "    return [Problem(size,num_samples) for size in sizes]\n",
    "\n",
    "def measure(procedure: Callable[[list[list[int]]],list[list[tuple[int,int]]]], sample: list[list[int]], time_scale: int = 1000) -> tuple[int,int]:\n",
    "    \"\"\"Returns a tuple containing the time as well as the score of the solution, in that order.\n",
    "    \n",
    "    Parameters:\n",
    "        time_scale: Controls the level of precision of the time measurements.\n",
    "\n",
    "    Raises:\n",
    "        InvalidSolution: If the procedure returns an invalid solution, raises an exception.\n",
    "    \"\"\"\n",
    "    start: int = time.time() * time_scale\n",
    "    solution: list[int] = procedure(sample)\n",
    "    end: int = time.time() * time_scale\n",
    "    if not is_valid_solution(sample, solution):\n",
    "        raise InvalidSolution()\n",
    "    return (round(end - start), score_solution(sample, solution))\n",
    "\n",
    "def measure_mean(procedure: Callable[[list[list[int]]],list[list[tuple[int,int]]]], prob: Problem, time_scale: int = 1000) -> Measure:\n",
    "    \"\"\"Generates multiple samples with the specified parameters and returns a Measure \n",
    "    instance representing the result as well as the problem.\n",
    "\n",
    "    Raises:\n",
    "        InvalidSolution: If one of the samples results in an invalid solution.\n",
    "    \"\"\"\n",
    "    results = [measure(procedure,sample,time_scale) for sample in prob.generate_dataset()]\n",
    "    mean_time = sum(result[0] for result in results) / prob.num_samples\n",
    "    mean_score = sum(result[1] for result in results) / prob.num_samples\n",
    "    return Measure(prob.size, mean_time, mean_score)\n",
    "\n",
    "def measure_range(procedure: Callable[[list[list[int]]],list[list[tuple[int,int]]]], problems: list[Problem], time_scale: int = 1000) -> list[Measure]:\n",
    "    \"\"\"Measures the mean time taken for each problem in the given list.\n",
    "\n",
    "    Raises:\n",
    "        InvalidSolution: If one of the samples results in an invalid solution.\n",
    "\n",
    "    Returns:\n",
    "        A list of Measure instances containing the specifications\n",
    "        of the problem as well as the mean time and the score.\n",
    "    \"\"\"\n",
    "    return [\n",
    "        measure_mean(procedure, prob, time_scale)\n",
    "        for prob in problems\n",
    "    ]\n",
    "\n",
    "def display_data_as_table(measures: list[Measure]):\n",
    "    \"\"\"Prints a table with the data in the given list of measures\"\"\"\n",
    "    print(\"{: <12} {: <12} {: <12}\".format(\"Taille\", \"Temps moyen\", \"Score moyen\"))\n",
    "    for measure in measures:\n",
    "        print(\"{: <12} {: <12} {: <12}\".format(measure.size, measure.mean, measure.mean_score))\n",
    "\n",
    "### The different tests are below, the names are in french to avoid confusion\n",
    "\n",
    "def test_de_puissance(\n",
    "    data: dict[int,int],\n",
    "    x_label: str,\n",
    "    y_label: str,\n",
    "    title: str = \"Test de puissance\"\n",
    "):\n",
    "    \"\"\"Takes the data and displays it into the corresponding test graph.\n",
    "    It applies no transformations to the data.\n",
    "\n",
    "    Args:\n",
    "        data (dict[int,int]): A dictionnary mapping the x variable to the y variable\n",
    "    \"\"\"\n",
    "    # Log both sets of values\n",
    "    x = list(data.keys())\n",
    "    y = list(data.values())\n",
    "\n",
    "    # Perform the lin regression\n",
    "    m, b, rvalue, _, _ = linregress(x, y)\n",
    "\n",
    "    # Estimate the values of y based on the lin regression results\n",
    "    predicted = [m * iter + b for iter in x]\n",
    "\n",
    "    # Create the line equation\n",
    "    line_eq = f\"y = {m:.2f}x + {b:.2f}\"\n",
    "\n",
    "    # Plot the points\n",
    "    plt.scatter(x, y, label='Mesures')\n",
    "\n",
    "    # Plot the regression line\n",
    "    plt.plot(x, predicted, color=\"red\", label=f'Regression linéaire R²={round(rvalue**2,6)}')\n",
    "\n",
    "    # Add labels and title\n",
    "    plt.xlabel(x_label)\n",
    "    plt.ylabel(y_label)\n",
    "    plt.title(title)\n",
    "\n",
    "    # Add legend\n",
    "    plt.legend(bbox_to_anchor=(0.60, 0), loc='lower left')\n",
    "\n",
    "    # Display the line equation\n",
    "    plt.text(min(x), max(y), line_eq)\n",
    "\n",
    "    # Show the plot\n",
    "    plt.show()\n",
    "\n",
    "def test_de_rapport(\n",
    "    data: dict[int,int],\n",
    "    x_label: str,\n",
    "    y_label: str,\n",
    "    title: str = \"Test de rapport\"\n",
    "):\n",
    "    \"\"\"Takes the data and displays it into the corresponding test graph.\n",
    "    It applies no transformations to the data.\n",
    "\n",
    "    Args:\n",
    "        data (dict[int,int]): A dictionnary mapping the x variable to the y variable\n",
    "    \"\"\"\n",
    "    x = list(data.keys())\n",
    "    y = list(data.values())\n",
    "\n",
    "    plt.plot(x, y, label='Mesures')\n",
    "    plt.scatter(x, y, label='Mesures')\n",
    "\n",
    "    # Add labels and title\n",
    "    plt.xlabel(x_label)\n",
    "    plt.ylabel(y_label)\n",
    "    plt.title(title)\n",
    "    plt.show()\n",
    "\n",
    "def test_de_constantes(\n",
    "    data: dict[int,int],\n",
    "    x_label: str,\n",
    "    y_label: str = \"Temps (ms)\",\n",
    "    title: str = \"Test de constantes\"\n",
    "):\n",
    "    \"\"\"Takes the data and displays it into the corresponding test graph.\n",
    "    It applies no transformations to the data.\n",
    "\n",
    "    Args:\n",
    "        data (dict[int,int]): A dictionnary mapping the x variable to the y variable\n",
    "    \"\"\"\n",
    "    x = list(data.keys())\n",
    "    y = list(data.values())\n",
    "\n",
    "    # Perform linear regression\n",
    "    m, b, rvalue, _, _ = linregress(x, y)\n",
    "\n",
    "    predicted = [m * iter + b for iter in x]\n",
    "\n",
    "    # Create the line equation\n",
    "    line_eq = f\"y = {m:.2E}x + {b:.2E}\"\n",
    "\n",
    "    # Plot the points\n",
    "    plt.scatter(x, y, label='Mesures')\n",
    "\n",
    "    # Plot the regression line\n",
    "    plt.plot(x, predicted, color=\"red\", label=f'Regression linéaire R²={round(rvalue**2,6)}')\n",
    "\n",
    "    # Add labels and title\n",
    "    plt.xlabel(x_label)\n",
    "    plt.ylabel(y_label)\n",
    "    plt.title(title)\n",
    "\n",
    "    # Add legend\n",
    "    plt.legend(bbox_to_anchor=(0.60, 0), loc='lower left')\n",
    "\n",
    "    # Display the line equation\n",
    "    plt.text(min(x), max(y), line_eq)\n",
    "\n",
    "    # Show the plot\n",
    "    plt.show()"
   ]
  },
  {
   "cell_type": "markdown",
   "metadata": {
    "id": "telzEIacsEF6"
   },
   "source": [
    "# Algorithme"
   ]
  },
  {
   "cell_type": "markdown",
   "metadata": {
    "id": "2TXfOnFLuBG2"
   },
   "source": [
    "Votre algorithme sera en partie noté en fonction d'une évaluation relative entre les équipes. 4 points seront donnés aux équipes qui se classeront dans le premier quartile lors de notre évaluation sur un ensemble d'exemplaires. Les équipes se trouvant dans le quartile dont les algorithmes ont le moins bien performé recevront 1 point.\n",
    "\n",
    "**IMPORTANT** Votre algo doit retourner une solution après 3 minutes. Si ce n'est pas le cas, vous serez pénalisé."
   ]
  },
  {
   "cell_type": "code",
   "execution_count": 85,
   "metadata": {},
   "outputs": [],
   "source": [
    "class County():\n",
    "    def __init__(self, row: int, col: int, pos: int, voters: int) -> None:\n",
    "        self.row = row\n",
    "        self.col = col\n",
    "        self.pos = pos\n",
    "        self.voters = voters\n",
    "        self.neighbors = []\n",
    "        self.group = -1\n",
    "\n",
    "    def add_neighbor(self, neighbor):\n",
    "        self.neighbors.append(neighbor)\n",
    "\n",
    "    def get_neighbours(self):\n",
    "        return self.neighbors\n",
    "    \n",
    "    def set_group(self, group: int):\n",
    "        self.group = group\n",
    "    \n",
    "    def get_group(self):\n",
    "        return self.group\n",
    "    \n",
    "    def is_in_group(self):\n",
    "        return self.group != -1\n"
   ]
  },
  {
   "cell_type": "code",
   "execution_count": 86,
   "metadata": {},
   "outputs": [],
   "source": [
    "def get_neighbours_idx(idx, n):\n",
    "    neighbours = []\n",
    "    if idx - n > 0:\n",
    "        neighbours.append(idx-n)\n",
    "    if idx + n < n**2:\n",
    "        neighbours.append(idx+n)\n",
    "    if idx // n == (idx-1) // n:\n",
    "        neighbours.append(idx-1)\n",
    "    if idx // n == (idx+1) // n:\n",
    "        neighbours.append(idx+1)\n",
    "    return neighbours\n",
    "\n",
    "def set_counties(sample) -> list[County]:\n",
    "    n = len(sample)\n",
    "    counties = [County(i, j, i*n+j, county) for i, line in enumerate(sample) for j, county in enumerate(line)]\n",
    "    for county in counties:\n",
    "        for neighbor_idx in get_neighbours_idx(county.pos, n):\n",
    "            county.add_neighbor(counties[neighbor_idx])\n",
    "    return counties\n"
   ]
  },
  {
   "cell_type": "code",
   "execution_count": 87,
   "metadata": {},
   "outputs": [],
   "source": [
    "def distance(county_row, county_col, center_row, center_col, n):\n",
    "    return (abs(center_row - county_row) + abs(center_col - county_col))\n",
    "    \n",
    "def max_to_target(counties: list[County], target: int, n: int):\n",
    "    solution = []\n",
    "    counties_available = counties\n",
    "    groups = []\n",
    "    groups_center = []\n",
    "    center_row = 0\n",
    "    center_col = 0\n",
    "    for group_id in trange(n):\n",
    "        new_group = []\n",
    "        number_items = 0\n",
    "        center_row = 0\n",
    "        center_col = 0\n",
    "        group_neighbors = []\n",
    "        while len(new_group) < n:\n",
    "            selection = None\n",
    "            if len(group_neighbors) == 0:\n",
    "                selection = max(counties_available, key=lambda county: county.voters/n - distance(county.row, county.col, center_row, center_col, n)**2/n)\n",
    "            elif sum(county.voters for county in new_group) < target:\n",
    "                selection = max(group_neighbors, key=lambda county: county.voters/n - distance(county.row, county.col, center_row, center_col, n)**2/n)\n",
    "                #selection = random.choice(group_neighbors)\n",
    "            else:\n",
    "                selection = min(group_neighbors, key=lambda county: county.voters/n + distance(county.row, county.col, center_row, center_col, n)**2/n)\n",
    "\n",
    "            new_group.append(selection)\n",
    "            center_row = (center_row * number_items + selection.row) / (number_items + 1)\n",
    "            center_col = (center_col * number_items + selection.col) / (number_items + 1)\n",
    "            number_items += 1\n",
    "            selection.set_group(group_id)\n",
    "            \n",
    "            group_neighbors.extend([neighbor for neighbor in selection.neighbors if not neighbor.is_in_group() and not neighbor in group_neighbors])\n",
    "            counties_available.remove(selection)\n",
    "            if selection in group_neighbors:\n",
    "                group_neighbors.remove(selection)\n",
    "            \n",
    "        groups.append(new_group)\n",
    "        groups_center.append((center_row, center_col))\n",
    "        solution.append([(county.row, county.col) for county in new_group])\n",
    "    return solution, groups\n",
    "\n"
   ]
  },
  {
   "cell_type": "code",
   "execution_count": 88,
   "metadata": {},
   "outputs": [],
   "source": [
    "\n",
    "def main(sample):\n",
    "    start_time = time.time()\n",
    "    max_time = 60 * 3 - 1\n",
    "    n = len(sample)\n",
    "    target = 500 * n\n",
    "    counties = set_counties(sample)\n",
    "    print('initial solution')\n",
    "    sol, groups = max_to_target(counties, target, n)\n",
    "    if (time.time() - start_time) > max_time:\n",
    "        return sol\n",
    "    print(\"--- %s seconds for solution baseline ---\" % (time.time() - start_time))\n",
    "\n",
    "    #print('vote score: ', votes_score(sample, sol))\n",
    "    #print('size score: ', size_score(sol))\n",
    "    #print('distance score: ', distance_score(sol))\n",
    "    #print('intial score: ',score_solution(sample, sol))\n",
    "    #drawmap_of_discrits(n, sol)\n",
    "    first_iter = True\n",
    "    iter_time = time.time()\n",
    "    time_to_iter = 0\n",
    "    print('improvement')\n",
    "    while(True):\n",
    "        updated = amelioration_locale(groups, target, n, sample, sol)\n",
    "        sol = updated\n",
    "\n",
    "        if (time.time() - start_time) > max_time - time_to_iter:\n",
    "            return sol\n",
    "        if(first_iter):\n",
    "            first_iter = False\n",
    "            time_to_iter = (time.time() - iter_time)\n",
    "\n",
    "    #print(\" ---------------- AFTER UPDATE -----------------\")\n",
    "    #print('vote score: ', votes_score(sample, sol))\n",
    "    #print('size score: ', size_score(sol))\n",
    "    #print('distance score: ', distance_score(sol))\n",
    "    #print('total score: ', score_solution(sample, sol))\n",
    "    #drawmap_of_discrits(n, sol)\n",
    "    return sol\n",
    "\n",
    "\n",
    "def amelioration_locale(divisions, target, n, sample, sol):\n",
    "    #init_score = score_solution(sample, sol)\n",
    "    div_votes = [sum(county.voters for county in div) for div in divisions]\n",
    "    groups_center = [(sum(county.row for county in div)/n, sum(county.col for county in div)/n) for div in divisions]\n",
    "\n",
    "    #selected_div_idx = div_votes.index(max(div for div in div_votes if div < target))\n",
    "    #selected_div_idx = divisions.index(random.choice([div for div in divisions if sum(county.voters for county in div) < target]))\n",
    "    selected_div_idx = divisions.index(random.choice(divisions))\n",
    "    #selected_div_idx = div_votes.index(min(div_votes))\n",
    "\n",
    "    selected_div = divisions[selected_div_idx]\n",
    "    center_swap_group_row = groups_center[selected_div_idx][0]\n",
    "    center_swap_group_col = groups_center[selected_div_idx][1]\n",
    "\n",
    "    modified_selected_div = [county.voters + distance(center_swap_group_row, center_swap_group_col, county.row, county.col, n) for county in selected_div]\n",
    "    county_to_swap_idx = modified_selected_div.index(min(modified_selected_div))\n",
    "    county_to_swap = divisions[selected_div_idx][county_to_swap_idx]\n",
    "    #print('county to swap: ', county_to_swap.pos)\n",
    "    differential_needed = target - county_to_swap.voters\n",
    "    distance_div_swap = distance(center_swap_group_row, center_swap_group_col, county_to_swap.row, county_to_swap.col, n)\n",
    "\n",
    "    swap_scores = {}\n",
    "    for div_idx in range(len(divisions)):\n",
    "        if div_idx == selected_div_idx:\n",
    "            continue\n",
    "\n",
    "        votes_to_spare = div_votes[div_idx] - target\n",
    "        if votes_to_spare <= 0:\n",
    "            votes_to_spare = target\n",
    "        \n",
    "        div_center_row = groups_center[div_idx][0]\n",
    "        div_center_col = groups_center[div_idx][1]\n",
    "        distance_div_swap_new_group = distance(div_center_row, div_center_col, county_to_swap.row, county_to_swap.col, n)\n",
    "\n",
    "        for county_idx, county in enumerate(divisions[div_idx]):\n",
    "            if county.voters - county_to_swap.voters > votes_to_spare:\n",
    "                continue\n",
    "            dist_county_curr_group = distance(div_center_row, div_center_col, county.row, county.col, n)\n",
    "            dist_county_swap_group = distance(center_swap_group_row, center_swap_group_col, county.row, county.col, n)\n",
    "            score_voters =  (county.voters/n - county_to_swap.voters/n) + (0 if county.voters - county_to_swap.voters < differential_needed else target)\n",
    "            score_distance = (dist_county_curr_group + distance_div_swap) - (dist_county_swap_group + distance_div_swap_new_group)\n",
    "            swap_scores[county.pos] = score_voters + n * score_distance\n",
    "\n",
    "    #print(swap_scores)\n",
    "    if len(swap_scores) == 0:\n",
    "        return sol\n",
    "    switch_county_pos = max(swap_scores, key=swap_scores.get)\n",
    "    if swap_scores[switch_county_pos] < 0:\n",
    "        return sol\n",
    "    #print(switch_county_pos)\n",
    "    switch_county_row = switch_county_pos // n\n",
    "    switch_county_col = switch_county_pos % n\n",
    "\n",
    "    div_switch_idx = -1\n",
    "    pos_pair_switch = (switch_county_row, switch_county_col)\n",
    "    for div_idx in range(len(divisions)):\n",
    "        if pos_pair_switch in sol[div_idx]:\n",
    "            div_switch_idx = div_idx\n",
    "    \n",
    "    #update solution\n",
    "    sol[div_switch_idx].remove(pos_pair_switch)\n",
    "    sol[div_switch_idx].append((county_to_swap.row, county_to_swap.col))\n",
    "\n",
    "    sol[selected_div_idx].append(pos_pair_switch)\n",
    "    sol[selected_div_idx].remove((county_to_swap.row, county_to_swap.col))\n",
    "\n",
    "    #update divisions\n",
    "    divisions[selected_div_idx].remove(county_to_swap)\n",
    "    pos_arr = [div.pos for div in divisions[div_switch_idx]]\n",
    "\n",
    "    idx_select = pos_arr.index(switch_county_pos)\n",
    "    switch = divisions[div_switch_idx][idx_select]\n",
    "    divisions[selected_div_idx].append(switch)\n",
    "\n",
    "    divisions[div_switch_idx].append(county_to_swap)\n",
    "    divisions[div_switch_idx].remove(switch)\n",
    "\n",
    "    #print('new score: ',score_solution(sample, sol))\n",
    "    #drawmap_of_discrits(n, sol)\n",
    "    return sol\n",
    "    \n",
    "\n",
    "\n"
   ]
  },
  {
   "cell_type": "code",
   "execution_count": 89,
   "metadata": {},
   "outputs": [
    {
     "name": "stdout",
     "output_type": "stream",
     "text": [
      "initial solution\n"
     ]
    },
    {
     "name": "stderr",
     "output_type": "stream",
     "text": [
      "100%|██████████| 100/100 [00:02<00:00, 41.50it/s]\n"
     ]
    },
    {
     "name": "stdout",
     "output_type": "stream",
     "text": [
      "--- 2.444875478744507 seconds for solution baseline ---\n",
      "improvement\n"
     ]
    },
    {
     "ename": "KeyboardInterrupt",
     "evalue": "",
     "output_type": "error",
     "traceback": [
      "\u001b[1;31m---------------------------------------------------------------------------\u001b[0m",
      "\u001b[1;31mKeyboardInterrupt\u001b[0m                         Traceback (most recent call last)",
      "Cell \u001b[1;32mIn[89], line 1\u001b[0m\n\u001b[1;32m----> 1\u001b[0m resultats \u001b[38;5;241m=\u001b[39m \u001b[43mmeasure_range\u001b[49m\u001b[43m(\u001b[49m\u001b[43mmain\u001b[49m\u001b[43m,\u001b[49m\u001b[43m \u001b[49m\u001b[43mmake_problems\u001b[49m\u001b[43m(\u001b[49m\u001b[43m[\u001b[49m\u001b[38;5;241;43m100\u001b[39;49m\u001b[43m]\u001b[49m\u001b[43m,\u001b[49m\u001b[43m \u001b[49m\u001b[38;5;241;43m1\u001b[39;49m\u001b[43m)\u001b[49m\u001b[43m \u001b[49m\u001b[43m)\u001b[49m\n\u001b[0;32m      3\u001b[0m display_data_as_table(resultats)\n",
      "Cell \u001b[1;32mIn[84], line 136\u001b[0m, in \u001b[0;36mmeasure_range\u001b[1;34m(procedure, problems, time_scale)\u001b[0m\n\u001b[0;32m    125\u001b[0m \u001b[38;5;28;01mdef\u001b[39;00m \u001b[38;5;21mmeasure_range\u001b[39m(procedure: Callable[[\u001b[38;5;28mlist\u001b[39m[\u001b[38;5;28mlist\u001b[39m[\u001b[38;5;28mint\u001b[39m]]],\u001b[38;5;28mlist\u001b[39m[\u001b[38;5;28mlist\u001b[39m[\u001b[38;5;28mtuple\u001b[39m[\u001b[38;5;28mint\u001b[39m,\u001b[38;5;28mint\u001b[39m]]]], problems: \u001b[38;5;28mlist\u001b[39m[Problem], time_scale: \u001b[38;5;28mint\u001b[39m \u001b[38;5;241m=\u001b[39m \u001b[38;5;241m1000\u001b[39m) \u001b[38;5;241m-\u001b[39m\u001b[38;5;241m>\u001b[39m \u001b[38;5;28mlist\u001b[39m[Measure]:\n\u001b[0;32m    126\u001b[0m \u001b[38;5;250m    \u001b[39m\u001b[38;5;124;03m\"\"\"Measures the mean time taken for each problem in the given list.\u001b[39;00m\n\u001b[0;32m    127\u001b[0m \n\u001b[0;32m    128\u001b[0m \u001b[38;5;124;03m    Raises:\u001b[39;00m\n\u001b[1;32m   (...)\u001b[0m\n\u001b[0;32m    133\u001b[0m \u001b[38;5;124;03m        of the problem as well as the mean time and the score.\u001b[39;00m\n\u001b[0;32m    134\u001b[0m \u001b[38;5;124;03m    \"\"\"\u001b[39;00m\n\u001b[0;32m    135\u001b[0m     \u001b[38;5;28;01mreturn\u001b[39;00m [\n\u001b[1;32m--> 136\u001b[0m         \u001b[43mmeasure_mean\u001b[49m\u001b[43m(\u001b[49m\u001b[43mprocedure\u001b[49m\u001b[43m,\u001b[49m\u001b[43m \u001b[49m\u001b[43mprob\u001b[49m\u001b[43m,\u001b[49m\u001b[43m \u001b[49m\u001b[43mtime_scale\u001b[49m\u001b[43m)\u001b[49m\n\u001b[0;32m    137\u001b[0m         \u001b[38;5;28;01mfor\u001b[39;00m prob \u001b[38;5;129;01min\u001b[39;00m problems\n\u001b[0;32m    138\u001b[0m     ]\n",
      "Cell \u001b[1;32mIn[84], line 120\u001b[0m, in \u001b[0;36mmeasure_mean\u001b[1;34m(procedure, prob, time_scale)\u001b[0m\n\u001b[0;32m    113\u001b[0m \u001b[38;5;28;01mdef\u001b[39;00m \u001b[38;5;21mmeasure_mean\u001b[39m(procedure: Callable[[\u001b[38;5;28mlist\u001b[39m[\u001b[38;5;28mlist\u001b[39m[\u001b[38;5;28mint\u001b[39m]]],\u001b[38;5;28mlist\u001b[39m[\u001b[38;5;28mlist\u001b[39m[\u001b[38;5;28mtuple\u001b[39m[\u001b[38;5;28mint\u001b[39m,\u001b[38;5;28mint\u001b[39m]]]], prob: Problem, time_scale: \u001b[38;5;28mint\u001b[39m \u001b[38;5;241m=\u001b[39m \u001b[38;5;241m1000\u001b[39m) \u001b[38;5;241m-\u001b[39m\u001b[38;5;241m>\u001b[39m Measure:\n\u001b[0;32m    114\u001b[0m \u001b[38;5;250m    \u001b[39m\u001b[38;5;124;03m\"\"\"Generates multiple samples with the specified parameters and returns a Measure \u001b[39;00m\n\u001b[0;32m    115\u001b[0m \u001b[38;5;124;03m    instance representing the result as well as the problem.\u001b[39;00m\n\u001b[0;32m    116\u001b[0m \n\u001b[0;32m    117\u001b[0m \u001b[38;5;124;03m    Raises:\u001b[39;00m\n\u001b[0;32m    118\u001b[0m \u001b[38;5;124;03m        InvalidSolution: If one of the samples results in an invalid solution.\u001b[39;00m\n\u001b[0;32m    119\u001b[0m \u001b[38;5;124;03m    \"\"\"\u001b[39;00m\n\u001b[1;32m--> 120\u001b[0m     results \u001b[38;5;241m=\u001b[39m [\u001b[43mmeasure\u001b[49m\u001b[43m(\u001b[49m\u001b[43mprocedure\u001b[49m\u001b[43m,\u001b[49m\u001b[43msample\u001b[49m\u001b[43m,\u001b[49m\u001b[43mtime_scale\u001b[49m\u001b[43m)\u001b[49m \u001b[38;5;28;01mfor\u001b[39;00m sample \u001b[38;5;129;01min\u001b[39;00m prob\u001b[38;5;241m.\u001b[39mgenerate_dataset()]\n\u001b[0;32m    121\u001b[0m     mean_time \u001b[38;5;241m=\u001b[39m \u001b[38;5;28msum\u001b[39m(result[\u001b[38;5;241m0\u001b[39m] \u001b[38;5;28;01mfor\u001b[39;00m result \u001b[38;5;129;01min\u001b[39;00m results) \u001b[38;5;241m/\u001b[39m prob\u001b[38;5;241m.\u001b[39mnum_samples\n\u001b[0;32m    122\u001b[0m     mean_score \u001b[38;5;241m=\u001b[39m \u001b[38;5;28msum\u001b[39m(result[\u001b[38;5;241m1\u001b[39m] \u001b[38;5;28;01mfor\u001b[39;00m result \u001b[38;5;129;01min\u001b[39;00m results) \u001b[38;5;241m/\u001b[39m prob\u001b[38;5;241m.\u001b[39mnum_samples\n",
      "Cell \u001b[1;32mIn[84], line 107\u001b[0m, in \u001b[0;36mmeasure\u001b[1;34m(procedure, sample, time_scale)\u001b[0m\n\u001b[0;32m     98\u001b[0m \u001b[38;5;250m\u001b[39m\u001b[38;5;124;03m\"\"\"Returns a tuple containing the time as well as the score of the solution, in that order.\u001b[39;00m\n\u001b[0;32m     99\u001b[0m \u001b[38;5;124;03m\u001b[39;00m\n\u001b[0;32m    100\u001b[0m \u001b[38;5;124;03mParameters:\u001b[39;00m\n\u001b[1;32m   (...)\u001b[0m\n\u001b[0;32m    104\u001b[0m \u001b[38;5;124;03m    InvalidSolution: If the procedure returns an invalid solution, raises an exception.\u001b[39;00m\n\u001b[0;32m    105\u001b[0m \u001b[38;5;124;03m\"\"\"\u001b[39;00m\n\u001b[0;32m    106\u001b[0m start: \u001b[38;5;28mint\u001b[39m \u001b[38;5;241m=\u001b[39m time\u001b[38;5;241m.\u001b[39mtime() \u001b[38;5;241m*\u001b[39m time_scale\n\u001b[1;32m--> 107\u001b[0m solution: \u001b[38;5;28mlist\u001b[39m[\u001b[38;5;28mint\u001b[39m] \u001b[38;5;241m=\u001b[39m \u001b[43mprocedure\u001b[49m\u001b[43m(\u001b[49m\u001b[43msample\u001b[49m\u001b[43m)\u001b[49m\n\u001b[0;32m    108\u001b[0m end: \u001b[38;5;28mint\u001b[39m \u001b[38;5;241m=\u001b[39m time\u001b[38;5;241m.\u001b[39mtime() \u001b[38;5;241m*\u001b[39m time_scale\n\u001b[0;32m    109\u001b[0m \u001b[38;5;28;01mif\u001b[39;00m \u001b[38;5;129;01mnot\u001b[39;00m is_valid_solution(sample, solution):\n",
      "Cell \u001b[1;32mIn[88], line 24\u001b[0m, in \u001b[0;36mmain\u001b[1;34m(sample)\u001b[0m\n\u001b[0;32m     22\u001b[0m \u001b[38;5;28mprint\u001b[39m(\u001b[38;5;124m'\u001b[39m\u001b[38;5;124mimprovement\u001b[39m\u001b[38;5;124m'\u001b[39m)\n\u001b[0;32m     23\u001b[0m \u001b[38;5;28;01mwhile\u001b[39;00m(\u001b[38;5;28;01mTrue\u001b[39;00m):\n\u001b[1;32m---> 24\u001b[0m     updated \u001b[38;5;241m=\u001b[39m \u001b[43mamelioration_locale\u001b[49m\u001b[43m(\u001b[49m\u001b[43mgroups\u001b[49m\u001b[43m,\u001b[49m\u001b[43m \u001b[49m\u001b[43mtarget\u001b[49m\u001b[43m,\u001b[49m\u001b[43m \u001b[49m\u001b[43mn\u001b[49m\u001b[43m,\u001b[49m\u001b[43m \u001b[49m\u001b[43msample\u001b[49m\u001b[43m,\u001b[49m\u001b[43m \u001b[49m\u001b[43msol\u001b[49m\u001b[43m)\u001b[49m\n\u001b[0;32m     25\u001b[0m     sol \u001b[38;5;241m=\u001b[39m updated\n\u001b[0;32m     27\u001b[0m     \u001b[38;5;28;01mif\u001b[39;00m (time\u001b[38;5;241m.\u001b[39mtime() \u001b[38;5;241m-\u001b[39m start_time) \u001b[38;5;241m>\u001b[39m max_time \u001b[38;5;241m-\u001b[39m time_to_iter:\n",
      "Cell \u001b[1;32mIn[88], line 45\u001b[0m, in \u001b[0;36mamelioration_locale\u001b[1;34m(divisions, target, n, sample, sol)\u001b[0m\n\u001b[0;32m     42\u001b[0m \u001b[38;5;28;01mdef\u001b[39;00m \u001b[38;5;21mamelioration_locale\u001b[39m(divisions, target, n, sample, sol):\n\u001b[0;32m     43\u001b[0m     \u001b[38;5;66;03m#init_score = score_solution(sample, sol)\u001b[39;00m\n\u001b[0;32m     44\u001b[0m     div_votes \u001b[38;5;241m=\u001b[39m [\u001b[38;5;28msum\u001b[39m(county\u001b[38;5;241m.\u001b[39mvoters \u001b[38;5;28;01mfor\u001b[39;00m county \u001b[38;5;129;01min\u001b[39;00m div) \u001b[38;5;28;01mfor\u001b[39;00m div \u001b[38;5;129;01min\u001b[39;00m divisions]\n\u001b[1;32m---> 45\u001b[0m     groups_center \u001b[38;5;241m=\u001b[39m [(\u001b[38;5;28msum\u001b[39m(county\u001b[38;5;241m.\u001b[39mrow \u001b[38;5;28;01mfor\u001b[39;00m county \u001b[38;5;129;01min\u001b[39;00m div)\u001b[38;5;241m/\u001b[39mn, \u001b[38;5;28;43msum\u001b[39;49m\u001b[43m(\u001b[49m\u001b[43mcounty\u001b[49m\u001b[38;5;241;43m.\u001b[39;49m\u001b[43mcol\u001b[49m\u001b[43m \u001b[49m\u001b[38;5;28;43;01mfor\u001b[39;49;00m\u001b[43m \u001b[49m\u001b[43mcounty\u001b[49m\u001b[43m \u001b[49m\u001b[38;5;129;43;01min\u001b[39;49;00m\u001b[43m \u001b[49m\u001b[43mdiv\u001b[49m\u001b[43m)\u001b[49m\u001b[38;5;241m/\u001b[39mn) \u001b[38;5;28;01mfor\u001b[39;00m div \u001b[38;5;129;01min\u001b[39;00m divisions]\n\u001b[0;32m     47\u001b[0m     \u001b[38;5;66;03m#selected_div_idx = div_votes.index(max(div for div in div_votes if div < target))\u001b[39;00m\n\u001b[0;32m     48\u001b[0m     \u001b[38;5;66;03m#selected_div_idx = divisions.index(random.choice([div for div in divisions if sum(county.voters for county in div) < target]))\u001b[39;00m\n\u001b[0;32m     49\u001b[0m     selected_div_idx \u001b[38;5;241m=\u001b[39m divisions\u001b[38;5;241m.\u001b[39mindex(random\u001b[38;5;241m.\u001b[39mchoice(divisions))\n",
      "Cell \u001b[1;32mIn[88], line 45\u001b[0m, in \u001b[0;36m<genexpr>\u001b[1;34m(.0)\u001b[0m\n\u001b[0;32m     42\u001b[0m \u001b[38;5;28;01mdef\u001b[39;00m \u001b[38;5;21mamelioration_locale\u001b[39m(divisions, target, n, sample, sol):\n\u001b[0;32m     43\u001b[0m     \u001b[38;5;66;03m#init_score = score_solution(sample, sol)\u001b[39;00m\n\u001b[0;32m     44\u001b[0m     div_votes \u001b[38;5;241m=\u001b[39m [\u001b[38;5;28msum\u001b[39m(county\u001b[38;5;241m.\u001b[39mvoters \u001b[38;5;28;01mfor\u001b[39;00m county \u001b[38;5;129;01min\u001b[39;00m div) \u001b[38;5;28;01mfor\u001b[39;00m div \u001b[38;5;129;01min\u001b[39;00m divisions]\n\u001b[1;32m---> 45\u001b[0m     groups_center \u001b[38;5;241m=\u001b[39m [(\u001b[38;5;28msum\u001b[39m(county\u001b[38;5;241m.\u001b[39mrow \u001b[38;5;28;01mfor\u001b[39;00m county \u001b[38;5;129;01min\u001b[39;00m div)\u001b[38;5;241m/\u001b[39mn, \u001b[38;5;28msum\u001b[39m(county\u001b[38;5;241m.\u001b[39mcol \u001b[38;5;28;01mfor\u001b[39;00m county \u001b[38;5;129;01min\u001b[39;00m div)\u001b[38;5;241m/\u001b[39mn) \u001b[38;5;28;01mfor\u001b[39;00m div \u001b[38;5;129;01min\u001b[39;00m divisions]\n\u001b[0;32m     47\u001b[0m     \u001b[38;5;66;03m#selected_div_idx = div_votes.index(max(div for div in div_votes if div < target))\u001b[39;00m\n\u001b[0;32m     48\u001b[0m     \u001b[38;5;66;03m#selected_div_idx = divisions.index(random.choice([div for div in divisions if sum(county.voters for county in div) < target]))\u001b[39;00m\n\u001b[0;32m     49\u001b[0m     selected_div_idx \u001b[38;5;241m=\u001b[39m divisions\u001b[38;5;241m.\u001b[39mindex(random\u001b[38;5;241m.\u001b[39mchoice(divisions))\n",
      "\u001b[1;31mKeyboardInterrupt\u001b[0m: "
     ]
    }
   ],
   "source": [
    "resultats = measure_range(main, make_problems([100], 1) )\n",
    "\n",
    "display_data_as_table(resultats)"
   ]
  },
  {
   "cell_type": "code",
   "execution_count": null,
   "metadata": {},
   "outputs": [],
   "source": [
    "def drawmap_of_discrits(n, discrits: list[list[tuple[int,int]]]):\n",
    "    colors = [[0 for _ in range(n)] for _ in range(n)]\n",
    "    for i,district in enumerate(discrits):\n",
    "        for city in district:\n",
    "            colors[city[0]][city[1]] = i+1\n",
    "\n",
    "    plt.imshow(colors, cmap='tab20')\n",
    "    plt.show()\n"
   ]
  },
  {
   "cell_type": "markdown",
   "metadata": {
    "id": "oFVvMwGpt_Vu"
   },
   "source": [
    "# Analyse asymptotique\n",
    "\n",
    "Notre algorithme se sépare en 3 grande sections. La première d'entre elle est la création des objets County avoir leur voisinage. La seconde section est la génération d'une séparation initiale et la dernière partie est une amélioration locale.\n",
    "\n",
    "# Création des County\n",
    "Commençons par la création des County. La création se sépare en 2 phases, la première est de créer chaque County qui se fait en temps constant pour les n² éléments donc ceci nous donne theta(n²). La seconde étape de création est de passer par chacun des County créés et placer leur voisins qui sont au nombre maximal de 4 donc nous avons une complexité de theta(4*n²) qui est dans le même ordre de grandeur que theta(n²). Bref, la création des objets County se fait en theta(n² + n²) ce qui veut dire une complexité de theta(n²).\n",
    "\n",
    "# Séparation initiale\n",
    "La deuxième portion de notre algorithme est un algorithme glouton qui fait une répartion des County en n groupes. Dans chacun des n groupes, on fait n fois la recherche d'un prochain élément. Dans cette recherche de prochain élément, nous avons 2 choix qui sont de faire une rechreche parmis les voisins s'il y en a et sinon parmis tout les County qui ne sont pas déjà choisis dans un groupe. Dans le pire des cas, nous avons n² choix pour notre recherche de la valeur maximale. Ce qui nous donne une complexité de theta(n\\*n\\*n²) ceci équivaut à une complexité de theta(n⁴).\n",
    "\n",
    "# Amélioration locale\n",
    "La dernière partie est une amélioration locale. L'amélioration se fait en plusieurs sections successives. La première de ces sections de l'amélioration locale est de calculer le centre du groupe nous avons n appels de la distance pour chacun des n groupes ce qui fait au total n² appels de la distance qui est un calcul en temps constant. Cette première partie de l'amélioration locale est donc en theta(n²\\*1) donc theta(n²).\n",
    "La seconde partie de l'amélioration locale est la sélection d'un County à échanger qui est en theta(n) pour le choix du groupe dans lequel prendre le County à échanger puis de theta(n) pour choisir le County parmis le groupe choisi. Ceci nous theta(n+n) donc theta(n) pour la sélection du County à échanger. Nous devons ensuite sélectionner le County avec lequel le premier chois sera échangé. Pour tous les County qui ne sont pas dans le groupe initial, nous générons un score de préférence pour faire l'échange avec le County choisi initialement. Ce calcul de score est en temps constant pour les au maximum n² County possibles pour faire un échange. Bref, le choix du second County pour l'échange se fait en theta(n²\\*1) ce qui donne theta(n²).\n",
    "Finalement, pour l'amélioration locale, nous avons l'échange des deux éléments qui se fait en temps constant theta(1).\n",
    "Notre section d'amélioration locale se fait donc avec la complexité suivante theta(n²+n²+1) ce qui nous donne theta(n²)\n",
    "La section d'amélioration locale est exécutée tant que du temps est disponible (avec une marge de sureté), mais ultimement le nombre d'exécutions peut être comme indépendant de n.\n",
    "\n",
    "# Algorithme complet\n",
    "Pour notre algorithme complet, nous pouvons additionner la complexité théorique de nos sections, car elle sont exécutées l'une à la suite de l'autre.\n",
    "Nous avons donc theta(n²+n⁴+n²) ce qui nous donne une complexitée finale de theta(n⁴)"
   ]
  },
  {
   "cell_type": "markdown",
   "metadata": {
    "id": "2z6hz2LWt_w-"
   },
   "source": [
    "# Analyse hybride\n",
    "\n",
    "\n",
    "PAS faire le test de constante (pour deux variable et on a pas)\n",
    "Faire le test de puissance (faire en log log comme échelle) On devrait voir la valeur 4x\n",
    "On peut utiliser un test de rapport pour confirmer le test de puissance\n",
    "Faire le test de rapport en dernier si tout fonctionne\n",
    "\n",
    "\n",
    "Expliquer l'utilisation de chacun des graphiques, expliquer en quoi le graphique justifie la complexité et pourquoi ne pas utiliser certain graphiques.\n",
    "\n",
    "Effectuer une analyse hybride de votre algorithme."
   ]
  },
  {
   "cell_type": "code",
   "execution_count": null,
   "metadata": {},
   "outputs": [],
   "source": [
    "problems = make_problems([x for x in range(11, 61)], 10)"
   ]
  },
  {
   "cell_type": "code",
   "execution_count": 112,
   "metadata": {},
   "outputs": [],
   "source": [
    "# On réécris certaines fonctions pour pouvoir les évaluer individuellement sans contrainte de temps maximum\n",
    "\n",
    "def main_greedy(sample):\n",
    "    start_time = time.time()\n",
    "    n = len(sample)\n",
    "    target = 500 * n\n",
    "    counties = set_counties(sample)\n",
    "    print('initial solution')\n",
    "    sol, groups = max_to_target(counties, target, n)\n",
    "    print(\"--- %s seconds for solution baseline ---\" % (time.time() - start_time))\n",
    "    return sol\n",
    "    "
   ]
  },
  {
   "cell_type": "markdown",
   "metadata": {},
   "source": [
    "### Génération de moyennes\n",
    "\n",
    "Ici on génère les moyennes de temps et de score pour chaque grandeur de n. On calcule à partir de n = 11 pour éviter le plus possible les problèmes de temps moyen inconsistant quand notre n est très petit. Pour plus de stabilité, nous faisons 10 runs par grandeur de n, pour au total 50 valeurs de n."
   ]
  },
  {
   "cell_type": "code",
   "execution_count": null,
   "metadata": {},
   "outputs": [
    {
     "name": "stdout",
     "output_type": "stream",
     "text": [
      "initial solution\n"
     ]
    },
    {
     "name": "stderr",
     "output_type": "stream",
     "text": [
      "100%|██████████| 11/11 [00:00<00:00, 5398.71it/s]\n"
     ]
    },
    {
     "name": "stdout",
     "output_type": "stream",
     "text": [
      "--- 0.14529705047607422 seconds for solution baseline ---\n",
      "initial solution\n"
     ]
    },
    {
     "name": "stderr",
     "output_type": "stream",
     "text": [
      "100%|██████████| 11/11 [00:00<00:00, 5495.81it/s]\n"
     ]
    },
    {
     "name": "stdout",
     "output_type": "stream",
     "text": [
      "--- 0.004001617431640625 seconds for solution baseline ---\n",
      "initial solution\n"
     ]
    },
    {
     "name": "stderr",
     "output_type": "stream",
     "text": [
      "100%|██████████| 11/11 [00:00<00:00, 10935.61it/s]\n"
     ]
    },
    {
     "name": "stdout",
     "output_type": "stream",
     "text": [
      "--- 0.0045735836029052734 seconds for solution baseline ---\n",
      "initial solution\n"
     ]
    },
    {
     "name": "stderr",
     "output_type": "stream",
     "text": [
      "100%|██████████| 11/11 [00:00<00:00, 5499.74it/s]\n"
     ]
    },
    {
     "name": "stdout",
     "output_type": "stream",
     "text": [
      "--- 0.0040018558502197266 seconds for solution baseline ---\n",
      "initial solution\n"
     ]
    },
    {
     "name": "stderr",
     "output_type": "stream",
     "text": [
      "100%|██████████| 11/11 [00:00<00:00, 2693.52it/s]\n"
     ]
    },
    {
     "name": "stdout",
     "output_type": "stream",
     "text": [
      "--- 0.00609278678894043 seconds for solution baseline ---\n",
      "initial solution\n"
     ]
    },
    {
     "name": "stderr",
     "output_type": "stream",
     "text": [
      "100%|██████████| 11/11 [00:00<00:00, 7489.83it/s]\n"
     ]
    },
    {
     "name": "stdout",
     "output_type": "stream",
     "text": [
      "--- 0.00451350212097168 seconds for solution baseline ---\n",
      "initial solution\n"
     ]
    },
    {
     "name": "stderr",
     "output_type": "stream",
     "text": [
      "100%|██████████| 11/11 [00:00<00:00, 10938.20it/s]\n"
     ]
    },
    {
     "name": "stdout",
     "output_type": "stream",
     "text": [
      "--- 0.004577159881591797 seconds for solution baseline ---\n",
      "initial solution\n"
     ]
    },
    {
     "name": "stderr",
     "output_type": "stream",
     "text": [
      "100%|██████████| 11/11 [00:00<00:00, 4135.65it/s]\n"
     ]
    },
    {
     "name": "stdout",
     "output_type": "stream",
     "text": [
      "--- 0.005678892135620117 seconds for solution baseline ---\n",
      "initial solution\n"
     ]
    },
    {
     "name": "stderr",
     "output_type": "stream",
     "text": [
      "100%|██████████| 11/11 [00:00<00:00, 5043.99it/s]\n"
     ]
    },
    {
     "name": "stdout",
     "output_type": "stream",
     "text": [
      "--- 0.005185842514038086 seconds for solution baseline ---\n",
      "initial solution\n"
     ]
    },
    {
     "name": "stderr",
     "output_type": "stream",
     "text": [
      "100%|██████████| 11/11 [00:00<00:00, 5470.40it/s]\n"
     ]
    },
    {
     "name": "stdout",
     "output_type": "stream",
     "text": [
      "--- 0.005010843276977539 seconds for solution baseline ---\n",
      "initial solution\n"
     ]
    },
    {
     "name": "stderr",
     "output_type": "stream",
     "text": [
      "100%|██████████| 12/12 [00:00<00:00, 12041.06it/s]\n"
     ]
    },
    {
     "name": "stdout",
     "output_type": "stream",
     "text": [
      "--- 0.005002021789550781 seconds for solution baseline ---\n",
      "initial solution\n"
     ]
    },
    {
     "name": "stderr",
     "output_type": "stream",
     "text": [
      "100%|██████████| 12/12 [00:00<00:00, 4886.57it/s]\n"
     ]
    },
    {
     "name": "stdout",
     "output_type": "stream",
     "text": [
      "--- 0.0054781436920166016 seconds for solution baseline ---\n",
      "initial solution\n"
     ]
    },
    {
     "name": "stderr",
     "output_type": "stream",
     "text": [
      "100%|██████████| 12/12 [00:00<00:00, 7442.21it/s]\n"
     ]
    },
    {
     "name": "stdout",
     "output_type": "stream",
     "text": [
      "--- 0.0056247711181640625 seconds for solution baseline ---\n",
      "initial solution\n"
     ]
    },
    {
     "name": "stderr",
     "output_type": "stream",
     "text": [
      "100%|██████████| 12/12 [00:00<00:00, 6016.21it/s]\n"
     ]
    },
    {
     "name": "stdout",
     "output_type": "stream",
     "text": [
      "--- 0.005999565124511719 seconds for solution baseline ---\n",
      "initial solution\n"
     ]
    },
    {
     "name": "stderr",
     "output_type": "stream",
     "text": [
      "100%|██████████| 12/12 [00:00<00:00, 5735.80it/s]\n"
     ]
    },
    {
     "name": "stdout",
     "output_type": "stream",
     "text": [
      "--- 0.005099773406982422 seconds for solution baseline ---\n",
      "initial solution\n"
     ]
    },
    {
     "name": "stderr",
     "output_type": "stream",
     "text": [
      "100%|██████████| 12/12 [00:00<00:00, 12041.06it/s]\n"
     ]
    },
    {
     "name": "stdout",
     "output_type": "stream",
     "text": [
      "--- 0.0047757625579833984 seconds for solution baseline ---\n",
      "initial solution\n"
     ]
    },
    {
     "name": "stderr",
     "output_type": "stream",
     "text": [
      "100%|██████████| 12/12 [00:00<00:00, 5980.47it/s]\n"
     ]
    },
    {
     "name": "stdout",
     "output_type": "stream",
     "text": [
      "--- 0.003525972366333008 seconds for solution baseline ---\n",
      "initial solution\n"
     ]
    },
    {
     "name": "stderr",
     "output_type": "stream",
     "text": [
      "100%|██████████| 12/12 [00:00<00:00, 6011.18it/s]\n"
     ]
    },
    {
     "name": "stdout",
     "output_type": "stream",
     "text": [
      "--- 0.006165266036987305 seconds for solution baseline ---\n",
      "initial solution\n"
     ]
    },
    {
     "name": "stderr",
     "output_type": "stream",
     "text": [
      "100%|██████████| 12/12 [00:00<00:00, 5939.54it/s]\n"
     ]
    },
    {
     "name": "stdout",
     "output_type": "stream",
     "text": [
      "--- 0.005365848541259766 seconds for solution baseline ---\n",
      "initial solution\n"
     ]
    },
    {
     "name": "stderr",
     "output_type": "stream",
     "text": [
      "100%|██████████| 12/12 [00:00<00:00, 11828.82it/s]\n"
     ]
    },
    {
     "name": "stdout",
     "output_type": "stream",
     "text": [
      "--- 0.00419306755065918 seconds for solution baseline ---\n",
      "initial solution\n"
     ]
    },
    {
     "name": "stderr",
     "output_type": "stream",
     "text": [
      "100%|██████████| 13/13 [00:00<00:00, 5384.75it/s]\n"
     ]
    },
    {
     "name": "stdout",
     "output_type": "stream",
     "text": [
      "--- 0.005423307418823242 seconds for solution baseline ---\n",
      "initial solution\n"
     ]
    },
    {
     "name": "stderr",
     "output_type": "stream",
     "text": [
      "100%|██████████| 13/13 [00:00<00:00, 6479.61it/s]\n"
     ]
    },
    {
     "name": "stdout",
     "output_type": "stream",
     "text": [
      "--- 0.006008148193359375 seconds for solution baseline ---\n",
      "initial solution\n"
     ]
    },
    {
     "name": "stderr",
     "output_type": "stream",
     "text": [
      "100%|██████████| 13/13 [00:00<00:00, 4760.43it/s]\n"
     ]
    },
    {
     "name": "stdout",
     "output_type": "stream",
     "text": [
      "--- 0.0047283172607421875 seconds for solution baseline ---\n",
      "initial solution\n"
     ]
    },
    {
     "name": "stderr",
     "output_type": "stream",
     "text": [
      "100%|██████████| 13/13 [00:00<00:00, 6507.45it/s]\n"
     ]
    },
    {
     "name": "stdout",
     "output_type": "stream",
     "text": [
      "--- 0.004998207092285156 seconds for solution baseline ---\n",
      "initial solution\n"
     ]
    },
    {
     "name": "stderr",
     "output_type": "stream",
     "text": [
      "100%|██████████| 13/13 [00:00<00:00, 5955.22it/s]\n"
     ]
    },
    {
     "name": "stdout",
     "output_type": "stream",
     "text": [
      "--- 0.005849123001098633 seconds for solution baseline ---\n",
      "initial solution\n"
     ]
    },
    {
     "name": "stderr",
     "output_type": "stream",
     "text": [
      "100%|██████████| 13/13 [00:00<00:00, 5876.27it/s]\n"
     ]
    },
    {
     "name": "stdout",
     "output_type": "stream",
     "text": [
      "--- 0.004315376281738281 seconds for solution baseline ---\n",
      "initial solution\n"
     ]
    },
    {
     "name": "stderr",
     "output_type": "stream",
     "text": [
      "100%|██████████| 13/13 [00:00<00:00, 6502.80it/s]\n"
     ]
    },
    {
     "name": "stdout",
     "output_type": "stream",
     "text": [
      "--- 0.006006002426147461 seconds for solution baseline ---\n",
      "initial solution\n"
     ]
    },
    {
     "name": "stderr",
     "output_type": "stream",
     "text": [
      "100%|██████████| 13/13 [00:00<00:00, 6512.12it/s]\n"
     ]
    },
    {
     "name": "stdout",
     "output_type": "stream",
     "text": [
      "--- 0.006184101104736328 seconds for solution baseline ---\n",
      "initial solution\n"
     ]
    },
    {
     "name": "stderr",
     "output_type": "stream",
     "text": [
      "100%|██████████| 13/13 [00:00<00:00, 6506.68it/s]\n"
     ]
    },
    {
     "name": "stdout",
     "output_type": "stream",
     "text": [
      "--- 0.006001472473144531 seconds for solution baseline ---\n",
      "initial solution\n"
     ]
    },
    {
     "name": "stderr",
     "output_type": "stream",
     "text": [
      "100%|██████████| 13/13 [00:00<00:00, 6509.01it/s]\n"
     ]
    },
    {
     "name": "stdout",
     "output_type": "stream",
     "text": [
      "--- 0.0050008296966552734 seconds for solution baseline ---\n",
      "initial solution\n"
     ]
    },
    {
     "name": "stderr",
     "output_type": "stream",
     "text": [
      "100%|██████████| 14/14 [00:00<00:00, 5541.22it/s]\n"
     ]
    },
    {
     "name": "stdout",
     "output_type": "stream",
     "text": [
      "--- 0.006078004837036133 seconds for solution baseline ---\n",
      "initial solution\n"
     ]
    },
    {
     "name": "stderr",
     "output_type": "stream",
     "text": [
      "100%|██████████| 14/14 [00:00<00:00, 3820.45it/s]\n"
     ]
    },
    {
     "name": "stdout",
     "output_type": "stream",
     "text": [
      "--- 0.005285739898681641 seconds for solution baseline ---\n",
      "initial solution\n"
     ]
    },
    {
     "name": "stderr",
     "output_type": "stream",
     "text": [
      "100%|██████████| 14/14 [00:00<00:00, 4077.51it/s]\n"
     ]
    },
    {
     "name": "stdout",
     "output_type": "stream",
     "text": [
      "--- 0.006858110427856445 seconds for solution baseline ---\n",
      "initial solution\n"
     ]
    },
    {
     "name": "stderr",
     "output_type": "stream",
     "text": [
      "100%|██████████| 14/14 [00:00<00:00, 7005.52it/s]\n"
     ]
    },
    {
     "name": "stdout",
     "output_type": "stream",
     "text": [
      "--- 0.005385398864746094 seconds for solution baseline ---\n",
      "initial solution\n"
     ]
    },
    {
     "name": "stderr",
     "output_type": "stream",
     "text": [
      "100%|██████████| 14/14 [00:00<00:00, 4099.43it/s]\n"
     ]
    },
    {
     "name": "stdout",
     "output_type": "stream",
     "text": [
      "--- 0.0064237117767333984 seconds for solution baseline ---\n",
      "initial solution\n"
     ]
    },
    {
     "name": "stderr",
     "output_type": "stream",
     "text": [
      "100%|██████████| 14/14 [00:00<00:00, 3998.38it/s]\n"
     ]
    },
    {
     "name": "stdout",
     "output_type": "stream",
     "text": [
      "--- 0.005538225173950195 seconds for solution baseline ---\n",
      "initial solution\n"
     ]
    },
    {
     "name": "stderr",
     "output_type": "stream",
     "text": [
      "100%|██████████| 14/14 [00:00<00:00, 5855.63it/s]\n"
     ]
    },
    {
     "name": "stdout",
     "output_type": "stream",
     "text": [
      "--- 0.0054187774658203125 seconds for solution baseline ---\n",
      "initial solution\n"
     ]
    },
    {
     "name": "stderr",
     "output_type": "stream",
     "text": [
      "100%|██████████| 14/14 [00:00<00:00, 4650.00it/s]\n"
     ]
    },
    {
     "name": "stdout",
     "output_type": "stream",
     "text": [
      "--- 0.006098747253417969 seconds for solution baseline ---\n",
      "initial solution\n"
     ]
    },
    {
     "name": "stderr",
     "output_type": "stream",
     "text": [
      "100%|██████████| 14/14 [00:00<00:00, 5641.30it/s]\n"
     ]
    },
    {
     "name": "stdout",
     "output_type": "stream",
     "text": [
      "--- 0.0044879913330078125 seconds for solution baseline ---\n",
      "initial solution\n"
     ]
    },
    {
     "name": "stderr",
     "output_type": "stream",
     "text": [
      "100%|██████████| 14/14 [00:00<00:00, 5629.94it/s]\n"
     ]
    },
    {
     "name": "stdout",
     "output_type": "stream",
     "text": [
      "--- 0.0056285858154296875 seconds for solution baseline ---\n",
      "initial solution\n"
     ]
    },
    {
     "name": "stderr",
     "output_type": "stream",
     "text": [
      "100%|██████████| 15/15 [00:00<00:00, 4808.88it/s]\n"
     ]
    },
    {
     "name": "stdout",
     "output_type": "stream",
     "text": [
      "--- 0.00567317008972168 seconds for solution baseline ---\n",
      "initial solution\n"
     ]
    },
    {
     "name": "stderr",
     "output_type": "stream",
     "text": [
      "100%|██████████| 15/15 [00:00<00:00, 4710.58it/s]\n"
     ]
    },
    {
     "name": "stdout",
     "output_type": "stream",
     "text": [
      "--- 0.008104562759399414 seconds for solution baseline ---\n",
      "initial solution\n"
     ]
    },
    {
     "name": "stderr",
     "output_type": "stream",
     "text": [
      "100%|██████████| 15/15 [00:00<00:00, 3736.68it/s]\n"
     ]
    },
    {
     "name": "stdout",
     "output_type": "stream",
     "text": [
      "--- 0.006271839141845703 seconds for solution baseline ---\n",
      "initial solution\n"
     ]
    },
    {
     "name": "stderr",
     "output_type": "stream",
     "text": [
      "100%|██████████| 15/15 [00:00<00:00, 4977.81it/s]\n"
     ]
    },
    {
     "name": "stdout",
     "output_type": "stream",
     "text": [
      "--- 0.007126808166503906 seconds for solution baseline ---\n",
      "initial solution\n"
     ]
    },
    {
     "name": "stderr",
     "output_type": "stream",
     "text": [
      "100%|██████████| 15/15 [00:00<00:00, 4595.32it/s]\n"
     ]
    },
    {
     "name": "stdout",
     "output_type": "stream",
     "text": [
      "--- 0.006480216979980469 seconds for solution baseline ---\n",
      "initial solution\n"
     ]
    },
    {
     "name": "stderr",
     "output_type": "stream",
     "text": [
      "100%|██████████| 15/15 [00:00<00:00, 5006.73it/s]\n"
     ]
    },
    {
     "name": "stdout",
     "output_type": "stream",
     "text": [
      "--- 0.008033514022827148 seconds for solution baseline ---\n",
      "initial solution\n"
     ]
    },
    {
     "name": "stderr",
     "output_type": "stream",
     "text": [
      "100%|██████████| 15/15 [00:00<00:00, 4989.26it/s]\n"
     ]
    },
    {
     "name": "stdout",
     "output_type": "stream",
     "text": [
      "--- 0.007058620452880859 seconds for solution baseline ---\n",
      "initial solution\n"
     ]
    },
    {
     "name": "stderr",
     "output_type": "stream",
     "text": [
      "100%|██████████| 15/15 [00:00<00:00, 2688.08it/s]\n"
     ]
    },
    {
     "name": "stdout",
     "output_type": "stream",
     "text": [
      "--- 0.008645296096801758 seconds for solution baseline ---\n",
      "initial solution\n"
     ]
    },
    {
     "name": "stderr",
     "output_type": "stream",
     "text": [
      "100%|██████████| 15/15 [00:00<00:00, 3737.79it/s]\n"
     ]
    },
    {
     "name": "stdout",
     "output_type": "stream",
     "text": [
      "--- 0.008010387420654297 seconds for solution baseline ---\n",
      "initial solution\n"
     ]
    },
    {
     "name": "stderr",
     "output_type": "stream",
     "text": [
      "100%|██████████| 15/15 [00:00<00:00, 3631.43it/s]\n"
     ]
    },
    {
     "name": "stdout",
     "output_type": "stream",
     "text": [
      "--- 0.006258249282836914 seconds for solution baseline ---\n",
      "initial solution\n"
     ]
    },
    {
     "name": "stderr",
     "output_type": "stream",
     "text": [
      "100%|██████████| 16/16 [00:00<00:00, 3992.67it/s]\n"
     ]
    },
    {
     "name": "stdout",
     "output_type": "stream",
     "text": [
      "--- 0.00883340835571289 seconds for solution baseline ---\n",
      "initial solution\n"
     ]
    },
    {
     "name": "stderr",
     "output_type": "stream",
     "text": [
      "100%|██████████| 16/16 [00:00<00:00, 4003.87it/s]\n"
     ]
    },
    {
     "name": "stdout",
     "output_type": "stream",
     "text": [
      "--- 0.008495330810546875 seconds for solution baseline ---\n",
      "initial solution\n"
     ]
    },
    {
     "name": "stderr",
     "output_type": "stream",
     "text": [
      "100%|██████████| 16/16 [00:00<00:00, 4689.65it/s]\n"
     ]
    },
    {
     "name": "stdout",
     "output_type": "stream",
     "text": [
      "--- 0.008957147598266602 seconds for solution baseline ---\n",
      "initial solution\n"
     ]
    },
    {
     "name": "stderr",
     "output_type": "stream",
     "text": [
      "100%|██████████| 16/16 [00:00<00:00, 3861.05it/s]\n"
     ]
    },
    {
     "name": "stdout",
     "output_type": "stream",
     "text": [
      "--- 0.007459878921508789 seconds for solution baseline ---\n",
      "initial solution\n"
     ]
    },
    {
     "name": "stderr",
     "output_type": "stream",
     "text": [
      "100%|██████████| 16/16 [00:00<00:00, 3631.83it/s]\n"
     ]
    },
    {
     "name": "stdout",
     "output_type": "stream",
     "text": [
      "--- 0.008931636810302734 seconds for solution baseline ---\n",
      "initial solution\n"
     ]
    },
    {
     "name": "stderr",
     "output_type": "stream",
     "text": [
      "100%|██████████| 16/16 [00:00<00:00, 2160.97it/s]"
     ]
    },
    {
     "name": "stdout",
     "output_type": "stream",
     "text": [
      "--- 0.010424137115478516 seconds for solution baseline ---\n",
      "initial solution\n"
     ]
    },
    {
     "name": "stderr",
     "output_type": "stream",
     "text": [
      "\n",
      "100%|██████████| 16/16 [00:00<00:00, 1999.61it/s]\n"
     ]
    },
    {
     "name": "stdout",
     "output_type": "stream",
     "text": [
      "--- 0.013429880142211914 seconds for solution baseline ---\n",
      "initial solution\n"
     ]
    },
    {
     "name": "stderr",
     "output_type": "stream",
     "text": [
      "100%|██████████| 16/16 [00:00<00:00, 4004.35it/s]\n"
     ]
    },
    {
     "name": "stdout",
     "output_type": "stream",
     "text": [
      "--- 0.010012149810791016 seconds for solution baseline ---\n",
      "initial solution\n"
     ]
    },
    {
     "name": "stderr",
     "output_type": "stream",
     "text": [
      "100%|██████████| 16/16 [00:00<00:00, 3782.27it/s]\n"
     ]
    },
    {
     "name": "stdout",
     "output_type": "stream",
     "text": [
      "--- 0.010368585586547852 seconds for solution baseline ---\n",
      "initial solution\n"
     ]
    },
    {
     "name": "stderr",
     "output_type": "stream",
     "text": [
      "100%|██████████| 16/16 [00:00<00:00, 4513.95it/s]\n"
     ]
    },
    {
     "name": "stdout",
     "output_type": "stream",
     "text": [
      "--- 0.007554531097412109 seconds for solution baseline ---\n",
      "initial solution\n"
     ]
    },
    {
     "name": "stderr",
     "output_type": "stream",
     "text": [
      "100%|██████████| 17/17 [00:00<00:00, 3180.20it/s]\n"
     ]
    },
    {
     "name": "stdout",
     "output_type": "stream",
     "text": [
      "--- 0.00938558578491211 seconds for solution baseline ---\n",
      "initial solution\n"
     ]
    },
    {
     "name": "stderr",
     "output_type": "stream",
     "text": [
      "100%|██████████| 17/17 [00:00<00:00, 3330.52it/s]\n"
     ]
    },
    {
     "name": "stdout",
     "output_type": "stream",
     "text": [
      "--- 0.009283304214477539 seconds for solution baseline ---\n",
      "initial solution\n"
     ]
    },
    {
     "name": "stderr",
     "output_type": "stream",
     "text": [
      "100%|██████████| 17/17 [00:00<00:00, 3395.39it/s]\n"
     ]
    },
    {
     "name": "stdout",
     "output_type": "stream",
     "text": [
      "--- 0.008277654647827148 seconds for solution baseline ---\n",
      "initial solution\n"
     ]
    },
    {
     "name": "stderr",
     "output_type": "stream",
     "text": [
      "100%|██████████| 17/17 [00:00<00:00, 2293.96it/s]\n"
     ]
    },
    {
     "name": "stdout",
     "output_type": "stream",
     "text": [
      "--- 0.013691902160644531 seconds for solution baseline ---\n",
      "initial solution\n"
     ]
    },
    {
     "name": "stderr",
     "output_type": "stream",
     "text": [
      "100%|██████████| 17/17 [00:00<00:00, 3710.61it/s]\n"
     ]
    },
    {
     "name": "stdout",
     "output_type": "stream",
     "text": [
      "--- 0.008706092834472656 seconds for solution baseline ---\n",
      "initial solution\n"
     ]
    },
    {
     "name": "stderr",
     "output_type": "stream",
     "text": [
      "100%|██████████| 17/17 [00:00<00:00, 2965.04it/s]"
     ]
    },
    {
     "name": "stdout",
     "output_type": "stream",
     "text": [
      "--- 0.009875059127807617 seconds for solution baseline ---\n",
      "initial solution\n"
     ]
    },
    {
     "name": "stderr",
     "output_type": "stream",
     "text": [
      "\n",
      "100%|██████████| 17/17 [00:00<00:00, 3255.85it/s]\n"
     ]
    },
    {
     "name": "stdout",
     "output_type": "stream",
     "text": [
      "--- 0.00841832160949707 seconds for solution baseline ---\n",
      "initial solution\n"
     ]
    },
    {
     "name": "stderr",
     "output_type": "stream",
     "text": [
      "100%|██████████| 17/17 [00:00<00:00, 3984.31it/s]\n"
     ]
    },
    {
     "name": "stdout",
     "output_type": "stream",
     "text": [
      "--- 0.010473012924194336 seconds for solution baseline ---\n",
      "initial solution\n"
     ]
    },
    {
     "name": "stderr",
     "output_type": "stream",
     "text": [
      "100%|██████████| 17/17 [00:00<00:00, 3247.84it/s]\n"
     ]
    },
    {
     "name": "stdout",
     "output_type": "stream",
     "text": [
      "--- 0.009310722351074219 seconds for solution baseline ---\n",
      "initial solution\n"
     ]
    },
    {
     "name": "stderr",
     "output_type": "stream",
     "text": [
      "100%|██████████| 17/17 [00:00<00:00, 3857.56it/s]\n"
     ]
    },
    {
     "name": "stdout",
     "output_type": "stream",
     "text": [
      "--- 0.009589433670043945 seconds for solution baseline ---\n",
      "initial solution\n"
     ]
    },
    {
     "name": "stderr",
     "output_type": "stream",
     "text": [
      "100%|██████████| 18/18 [00:00<00:00, 3451.31it/s]\n"
     ]
    },
    {
     "name": "stdout",
     "output_type": "stream",
     "text": [
      "--- 0.009434938430786133 seconds for solution baseline ---\n",
      "initial solution\n"
     ]
    },
    {
     "name": "stderr",
     "output_type": "stream",
     "text": [
      "100%|██████████| 18/18 [00:00<00:00, 2921.28it/s]\n"
     ]
    },
    {
     "name": "stdout",
     "output_type": "stream",
     "text": [
      "--- 0.011631965637207031 seconds for solution baseline ---\n",
      "initial solution\n"
     ]
    },
    {
     "name": "stderr",
     "output_type": "stream",
     "text": [
      "100%|██████████| 18/18 [00:00<00:00, 2857.16it/s]\n"
     ]
    },
    {
     "name": "stdout",
     "output_type": "stream",
     "text": [
      "--- 0.009303808212280273 seconds for solution baseline ---\n",
      "initial solution\n"
     ]
    },
    {
     "name": "stderr",
     "output_type": "stream",
     "text": [
      "100%|██████████| 18/18 [00:00<00:00, 3112.14it/s]\n"
     ]
    },
    {
     "name": "stdout",
     "output_type": "stream",
     "text": [
      "--- 0.010414838790893555 seconds for solution baseline ---\n",
      "initial solution\n"
     ]
    },
    {
     "name": "stderr",
     "output_type": "stream",
     "text": [
      "100%|██████████| 18/18 [00:00<00:00, 3479.95it/s]\n"
     ]
    },
    {
     "name": "stdout",
     "output_type": "stream",
     "text": [
      "--- 0.009387731552124023 seconds for solution baseline ---\n",
      "initial solution\n"
     ]
    },
    {
     "name": "stderr",
     "output_type": "stream",
     "text": [
      "100%|██████████| 18/18 [00:00<00:00, 3196.34it/s]\n"
     ]
    },
    {
     "name": "stdout",
     "output_type": "stream",
     "text": [
      "--- 0.010217905044555664 seconds for solution baseline ---\n",
      "initial solution\n"
     ]
    },
    {
     "name": "stderr",
     "output_type": "stream",
     "text": [
      "100%|██████████| 18/18 [00:00<00:00, 3318.72it/s]\n"
     ]
    },
    {
     "name": "stdout",
     "output_type": "stream",
     "text": [
      "--- 0.010431289672851562 seconds for solution baseline ---\n",
      "initial solution\n"
     ]
    },
    {
     "name": "stderr",
     "output_type": "stream",
     "text": [
      "100%|██████████| 18/18 [00:00<00:00, 3182.19it/s]\n"
     ]
    },
    {
     "name": "stdout",
     "output_type": "stream",
     "text": [
      "--- 0.008661746978759766 seconds for solution baseline ---\n",
      "initial solution\n"
     ]
    },
    {
     "name": "stderr",
     "output_type": "stream",
     "text": [
      "100%|██████████| 18/18 [00:00<00:00, 2968.25it/s]\n"
     ]
    },
    {
     "name": "stdout",
     "output_type": "stream",
     "text": [
      "--- 0.011092901229858398 seconds for solution baseline ---\n",
      "initial solution\n"
     ]
    },
    {
     "name": "stderr",
     "output_type": "stream",
     "text": [
      "100%|██████████| 18/18 [00:00<00:00, 3137.75it/s]\n"
     ]
    },
    {
     "name": "stdout",
     "output_type": "stream",
     "text": [
      "--- 0.009893178939819336 seconds for solution baseline ---\n",
      "initial solution\n"
     ]
    },
    {
     "name": "stderr",
     "output_type": "stream",
     "text": [
      "100%|██████████| 19/19 [00:00<00:00, 3012.58it/s]\n"
     ]
    },
    {
     "name": "stdout",
     "output_type": "stream",
     "text": [
      "--- 0.010823965072631836 seconds for solution baseline ---\n",
      "initial solution\n"
     ]
    },
    {
     "name": "stderr",
     "output_type": "stream",
     "text": [
      "100%|██████████| 19/19 [00:00<00:00, 3266.86it/s]\n"
     ]
    },
    {
     "name": "stdout",
     "output_type": "stream",
     "text": [
      "--- 0.010970354080200195 seconds for solution baseline ---\n",
      "initial solution\n"
     ]
    },
    {
     "name": "stderr",
     "output_type": "stream",
     "text": [
      "100%|██████████| 19/19 [00:00<00:00, 2822.15it/s]\n"
     ]
    },
    {
     "name": "stdout",
     "output_type": "stream",
     "text": [
      "--- 0.008904695510864258 seconds for solution baseline ---\n",
      "initial solution\n"
     ]
    },
    {
     "name": "stderr",
     "output_type": "stream",
     "text": [
      "100%|██████████| 19/19 [00:00<00:00, 3281.25it/s]\n"
     ]
    },
    {
     "name": "stdout",
     "output_type": "stream",
     "text": [
      "--- 0.009791374206542969 seconds for solution baseline ---\n",
      "initial solution\n"
     ]
    },
    {
     "name": "stderr",
     "output_type": "stream",
     "text": [
      "100%|██████████| 19/19 [00:00<00:00, 3003.84it/s]\n"
     ]
    },
    {
     "name": "stdout",
     "output_type": "stream",
     "text": [
      "--- 0.011328697204589844 seconds for solution baseline ---\n",
      "initial solution\n"
     ]
    },
    {
     "name": "stderr",
     "output_type": "stream",
     "text": [
      "100%|██████████| 19/19 [00:00<00:00, 3250.47it/s]\n"
     ]
    },
    {
     "name": "stdout",
     "output_type": "stream",
     "text": [
      "--- 0.0108184814453125 seconds for solution baseline ---\n",
      "initial solution\n"
     ]
    },
    {
     "name": "stderr",
     "output_type": "stream",
     "text": [
      "100%|██████████| 19/19 [00:00<00:00, 3060.48it/s]\n"
     ]
    },
    {
     "name": "stdout",
     "output_type": "stream",
     "text": [
      "--- 0.010457992553710938 seconds for solution baseline ---\n",
      "initial solution\n"
     ]
    },
    {
     "name": "stderr",
     "output_type": "stream",
     "text": [
      "100%|██████████| 19/19 [00:00<00:00, 2959.66it/s]\n"
     ]
    },
    {
     "name": "stdout",
     "output_type": "stream",
     "text": [
      "--- 0.011093854904174805 seconds for solution baseline ---\n",
      "initial solution\n"
     ]
    },
    {
     "name": "stderr",
     "output_type": "stream",
     "text": [
      "100%|██████████| 19/19 [00:00<00:00, 3399.38it/s]\n"
     ]
    },
    {
     "name": "stdout",
     "output_type": "stream",
     "text": [
      "--- 0.009743690490722656 seconds for solution baseline ---\n",
      "initial solution\n"
     ]
    },
    {
     "name": "stderr",
     "output_type": "stream",
     "text": [
      "100%|██████████| 19/19 [00:00<00:00, 2975.57it/s]\n"
     ]
    },
    {
     "name": "stdout",
     "output_type": "stream",
     "text": [
      "--- 0.00906991958618164 seconds for solution baseline ---\n",
      "initial solution\n"
     ]
    },
    {
     "name": "stderr",
     "output_type": "stream",
     "text": [
      "100%|██████████| 20/20 [00:00<00:00, 3357.86it/s]\n"
     ]
    },
    {
     "name": "stdout",
     "output_type": "stream",
     "text": [
      "--- 0.010225534439086914 seconds for solution baseline ---\n",
      "initial solution\n"
     ]
    },
    {
     "name": "stderr",
     "output_type": "stream",
     "text": [
      "100%|██████████| 20/20 [00:00<00:00, 2854.24it/s]\n"
     ]
    },
    {
     "name": "stdout",
     "output_type": "stream",
     "text": [
      "--- 0.011383295059204102 seconds for solution baseline ---\n",
      "initial solution\n"
     ]
    },
    {
     "name": "stderr",
     "output_type": "stream",
     "text": [
      "100%|██████████| 20/20 [00:00<00:00, 2891.13it/s]\n"
     ]
    },
    {
     "name": "stdout",
     "output_type": "stream",
     "text": [
      "--- 0.013263225555419922 seconds for solution baseline ---\n",
      "initial solution\n"
     ]
    },
    {
     "name": "stderr",
     "output_type": "stream",
     "text": [
      "100%|██████████| 20/20 [00:00<00:00, 2836.67it/s]\n"
     ]
    },
    {
     "name": "stdout",
     "output_type": "stream",
     "text": [
      "--- 0.013722896575927734 seconds for solution baseline ---\n",
      "initial solution\n"
     ]
    },
    {
     "name": "stderr",
     "output_type": "stream",
     "text": [
      "100%|██████████| 20/20 [00:00<00:00, 2835.14it/s]\n"
     ]
    },
    {
     "name": "stdout",
     "output_type": "stream",
     "text": [
      "--- 0.0104827880859375 seconds for solution baseline ---\n",
      "initial solution\n"
     ]
    },
    {
     "name": "stderr",
     "output_type": "stream",
     "text": [
      "100%|██████████| 20/20 [00:00<00:00, 2780.35it/s]\n"
     ]
    },
    {
     "name": "stdout",
     "output_type": "stream",
     "text": [
      "--- 0.011198043823242188 seconds for solution baseline ---\n",
      "initial solution\n"
     ]
    },
    {
     "name": "stderr",
     "output_type": "stream",
     "text": [
      "100%|██████████| 20/20 [00:00<00:00, 2812.23it/s]\n"
     ]
    },
    {
     "name": "stdout",
     "output_type": "stream",
     "text": [
      "--- 0.010227680206298828 seconds for solution baseline ---\n",
      "initial solution\n"
     ]
    },
    {
     "name": "stderr",
     "output_type": "stream",
     "text": [
      "100%|██████████| 20/20 [00:00<00:00, 2802.56it/s]\n"
     ]
    },
    {
     "name": "stdout",
     "output_type": "stream",
     "text": [
      "--- 0.012445449829101562 seconds for solution baseline ---\n",
      "initial solution\n"
     ]
    },
    {
     "name": "stderr",
     "output_type": "stream",
     "text": [
      "100%|██████████| 20/20 [00:00<00:00, 2849.49it/s]\n"
     ]
    },
    {
     "name": "stdout",
     "output_type": "stream",
     "text": [
      "--- 0.011403560638427734 seconds for solution baseline ---\n",
      "initial solution\n"
     ]
    },
    {
     "name": "stderr",
     "output_type": "stream",
     "text": [
      "100%|██████████| 20/20 [00:00<00:00, 2430.42it/s]\n"
     ]
    },
    {
     "name": "stdout",
     "output_type": "stream",
     "text": [
      "--- 0.012650489807128906 seconds for solution baseline ---\n",
      "initial solution\n"
     ]
    },
    {
     "name": "stderr",
     "output_type": "stream",
     "text": [
      "100%|██████████| 21/21 [00:00<00:00, 2507.41it/s]\n"
     ]
    },
    {
     "name": "stdout",
     "output_type": "stream",
     "text": [
      "--- 0.015152215957641602 seconds for solution baseline ---\n",
      "initial solution\n"
     ]
    },
    {
     "name": "stderr",
     "output_type": "stream",
     "text": [
      "100%|██████████| 21/21 [00:00<00:00, 1398.79it/s]\n"
     ]
    },
    {
     "name": "stdout",
     "output_type": "stream",
     "text": [
      "--- 0.022938966751098633 seconds for solution baseline ---\n",
      "initial solution\n"
     ]
    },
    {
     "name": "stderr",
     "output_type": "stream",
     "text": [
      "100%|██████████| 21/21 [00:00<00:00, 2500.86it/s]\n"
     ]
    },
    {
     "name": "stdout",
     "output_type": "stream",
     "text": [
      "--- 0.0218355655670166 seconds for solution baseline ---\n",
      "initial solution\n"
     ]
    },
    {
     "name": "stderr",
     "output_type": "stream",
     "text": [
      "100%|██████████| 21/21 [00:00<00:00, 2189.26it/s]\n"
     ]
    },
    {
     "name": "stdout",
     "output_type": "stream",
     "text": [
      "--- 0.015048742294311523 seconds for solution baseline ---\n",
      "initial solution\n"
     ]
    },
    {
     "name": "stderr",
     "output_type": "stream",
     "text": [
      "100%|██████████| 21/21 [00:00<00:00, 2419.39it/s]\n"
     ]
    },
    {
     "name": "stdout",
     "output_type": "stream",
     "text": [
      "--- 0.011950254440307617 seconds for solution baseline ---\n",
      "initial solution\n"
     ]
    },
    {
     "name": "stderr",
     "output_type": "stream",
     "text": [
      "100%|██████████| 21/21 [00:00<00:00, 2521.26it/s]\n"
     ]
    },
    {
     "name": "stdout",
     "output_type": "stream",
     "text": [
      "--- 0.012839078903198242 seconds for solution baseline ---\n",
      "initial solution\n"
     ]
    },
    {
     "name": "stderr",
     "output_type": "stream",
     "text": [
      "100%|██████████| 21/21 [00:00<00:00, 2618.32it/s]\n"
     ]
    },
    {
     "name": "stdout",
     "output_type": "stream",
     "text": [
      "--- 0.012831926345825195 seconds for solution baseline ---\n",
      "initial solution\n"
     ]
    },
    {
     "name": "stderr",
     "output_type": "stream",
     "text": [
      "100%|██████████| 21/21 [00:00<00:00, 2502.35it/s]\n"
     ]
    },
    {
     "name": "stdout",
     "output_type": "stream",
     "text": [
      "--- 0.013681650161743164 seconds for solution baseline ---\n",
      "initial solution\n"
     ]
    },
    {
     "name": "stderr",
     "output_type": "stream",
     "text": [
      "100%|██████████| 21/21 [00:00<00:00, 2808.06it/s]\n"
     ]
    },
    {
     "name": "stdout",
     "output_type": "stream",
     "text": [
      "--- 0.012940645217895508 seconds for solution baseline ---\n",
      "initial solution\n"
     ]
    },
    {
     "name": "stderr",
     "output_type": "stream",
     "text": [
      "100%|██████████| 21/21 [00:00<00:00, 2294.78it/s]\n"
     ]
    },
    {
     "name": "stdout",
     "output_type": "stream",
     "text": [
      "--- 0.01269674301147461 seconds for solution baseline ---\n",
      "initial solution\n"
     ]
    },
    {
     "name": "stderr",
     "output_type": "stream",
     "text": [
      "100%|██████████| 22/22 [00:00<00:00, 2481.64it/s]\n"
     ]
    },
    {
     "name": "stdout",
     "output_type": "stream",
     "text": [
      "--- 0.014004230499267578 seconds for solution baseline ---\n",
      "initial solution\n"
     ]
    },
    {
     "name": "stderr",
     "output_type": "stream",
     "text": [
      "100%|██████████| 22/22 [00:00<00:00, 1805.73it/s]\n"
     ]
    },
    {
     "name": "stdout",
     "output_type": "stream",
     "text": [
      "--- 0.017505884170532227 seconds for solution baseline ---\n",
      "initial solution\n"
     ]
    },
    {
     "name": "stderr",
     "output_type": "stream",
     "text": [
      "100%|██████████| 22/22 [00:00<00:00, 2526.62it/s]\n"
     ]
    },
    {
     "name": "stdout",
     "output_type": "stream",
     "text": [
      "--- 0.015078544616699219 seconds for solution baseline ---\n",
      "initial solution\n"
     ]
    },
    {
     "name": "stderr",
     "output_type": "stream",
     "text": [
      "100%|██████████| 22/22 [00:00<00:00, 2026.23it/s]\n"
     ]
    },
    {
     "name": "stdout",
     "output_type": "stream",
     "text": [
      "--- 0.015372037887573242 seconds for solution baseline ---\n",
      "initial solution\n"
     ]
    },
    {
     "name": "stderr",
     "output_type": "stream",
     "text": [
      "100%|██████████| 22/22 [00:00<00:00, 2162.62it/s]\n"
     ]
    },
    {
     "name": "stdout",
     "output_type": "stream",
     "text": [
      "--- 0.013179302215576172 seconds for solution baseline ---\n",
      "initial solution\n"
     ]
    },
    {
     "name": "stderr",
     "output_type": "stream",
     "text": [
      "100%|██████████| 22/22 [00:00<00:00, 2502.50it/s]\n"
     ]
    },
    {
     "name": "stdout",
     "output_type": "stream",
     "text": [
      "--- 0.01400136947631836 seconds for solution baseline ---\n",
      "initial solution\n"
     ]
    },
    {
     "name": "stderr",
     "output_type": "stream",
     "text": [
      "100%|██████████| 22/22 [00:00<00:00, 2359.00it/s]\n"
     ]
    },
    {
     "name": "stdout",
     "output_type": "stream",
     "text": [
      "--- 0.014803647994995117 seconds for solution baseline ---\n",
      "initial solution\n"
     ]
    },
    {
     "name": "stderr",
     "output_type": "stream",
     "text": [
      "100%|██████████| 22/22 [00:00<00:00, 2291.51it/s]\n"
     ]
    },
    {
     "name": "stdout",
     "output_type": "stream",
     "text": [
      "--- 0.014051198959350586 seconds for solution baseline ---\n",
      "initial solution\n"
     ]
    },
    {
     "name": "stderr",
     "output_type": "stream",
     "text": [
      "100%|██████████| 22/22 [00:00<00:00, 2350.23it/s]\n"
     ]
    },
    {
     "name": "stdout",
     "output_type": "stream",
     "text": [
      "--- 0.013361215591430664 seconds for solution baseline ---\n",
      "initial solution\n"
     ]
    },
    {
     "name": "stderr",
     "output_type": "stream",
     "text": [
      "100%|██████████| 22/22 [00:00<00:00, 2250.33it/s]\n"
     ]
    },
    {
     "name": "stdout",
     "output_type": "stream",
     "text": [
      "--- 0.013830423355102539 seconds for solution baseline ---\n",
      "initial solution\n"
     ]
    },
    {
     "name": "stderr",
     "output_type": "stream",
     "text": [
      "100%|██████████| 23/23 [00:00<00:00, 2246.60it/s]\n"
     ]
    },
    {
     "name": "stdout",
     "output_type": "stream",
     "text": [
      "--- 0.016239404678344727 seconds for solution baseline ---\n",
      "initial solution\n"
     ]
    },
    {
     "name": "stderr",
     "output_type": "stream",
     "text": [
      "100%|██████████| 23/23 [00:00<00:00, 2230.65it/s]\n"
     ]
    },
    {
     "name": "stdout",
     "output_type": "stream",
     "text": [
      "--- 0.015523910522460938 seconds for solution baseline ---\n",
      "initial solution\n"
     ]
    },
    {
     "name": "stderr",
     "output_type": "stream",
     "text": [
      "100%|██████████| 23/23 [00:00<00:00, 2089.97it/s]\n"
     ]
    },
    {
     "name": "stdout",
     "output_type": "stream",
     "text": [
      "--- 0.016483068466186523 seconds for solution baseline ---\n",
      "initial solution\n"
     ]
    },
    {
     "name": "stderr",
     "output_type": "stream",
     "text": [
      "100%|██████████| 23/23 [00:00<00:00, 1999.11it/s]\n"
     ]
    },
    {
     "name": "stdout",
     "output_type": "stream",
     "text": [
      "--- 0.01686382293701172 seconds for solution baseline ---\n",
      "initial solution\n"
     ]
    },
    {
     "name": "stderr",
     "output_type": "stream",
     "text": [
      "100%|██████████| 23/23 [00:00<00:00, 2488.94it/s]\n"
     ]
    },
    {
     "name": "stdout",
     "output_type": "stream",
     "text": [
      "--- 0.013968467712402344 seconds for solution baseline ---\n",
      "initial solution\n"
     ]
    },
    {
     "name": "stderr",
     "output_type": "stream",
     "text": [
      "100%|██████████| 23/23 [00:00<00:00, 2344.44it/s]\n"
     ]
    },
    {
     "name": "stdout",
     "output_type": "stream",
     "text": [
      "--- 0.015938997268676758 seconds for solution baseline ---\n",
      "initial solution\n"
     ]
    },
    {
     "name": "stderr",
     "output_type": "stream",
     "text": [
      "100%|██████████| 23/23 [00:00<00:00, 2161.24it/s]\n"
     ]
    },
    {
     "name": "stdout",
     "output_type": "stream",
     "text": [
      "--- 0.01491856575012207 seconds for solution baseline ---\n",
      "initial solution\n"
     ]
    },
    {
     "name": "stderr",
     "output_type": "stream",
     "text": [
      "100%|██████████| 23/23 [00:00<00:00, 2052.18it/s]\n"
     ]
    },
    {
     "name": "stdout",
     "output_type": "stream",
     "text": [
      "--- 0.015454769134521484 seconds for solution baseline ---\n",
      "initial solution\n"
     ]
    },
    {
     "name": "stderr",
     "output_type": "stream",
     "text": [
      "100%|██████████| 23/23 [00:00<00:00, 2320.70it/s]\n"
     ]
    },
    {
     "name": "stdout",
     "output_type": "stream",
     "text": [
      "--- 0.016981124877929688 seconds for solution baseline ---\n",
      "initial solution\n"
     ]
    },
    {
     "name": "stderr",
     "output_type": "stream",
     "text": [
      "100%|██████████| 23/23 [00:00<00:00, 2406.55it/s]\n"
     ]
    },
    {
     "name": "stdout",
     "output_type": "stream",
     "text": [
      "--- 0.014580965042114258 seconds for solution baseline ---\n",
      "initial solution\n"
     ]
    },
    {
     "name": "stderr",
     "output_type": "stream",
     "text": [
      "100%|██████████| 24/24 [00:00<00:00, 1955.27it/s]\n"
     ]
    },
    {
     "name": "stdout",
     "output_type": "stream",
     "text": [
      "--- 0.017909765243530273 seconds for solution baseline ---\n",
      "initial solution\n"
     ]
    },
    {
     "name": "stderr",
     "output_type": "stream",
     "text": [
      "100%|██████████| 24/24 [00:00<00:00, 1774.87it/s]\n"
     ]
    },
    {
     "name": "stdout",
     "output_type": "stream",
     "text": [
      "--- 0.0192258358001709 seconds for solution baseline ---\n",
      "initial solution\n"
     ]
    },
    {
     "name": "stderr",
     "output_type": "stream",
     "text": [
      "100%|██████████| 24/24 [00:00<00:00, 2044.84it/s]\n"
     ]
    },
    {
     "name": "stdout",
     "output_type": "stream",
     "text": [
      "--- 0.016308307647705078 seconds for solution baseline ---\n",
      "initial solution\n"
     ]
    },
    {
     "name": "stderr",
     "output_type": "stream",
     "text": [
      "100%|██████████| 24/24 [00:00<00:00, 1459.67it/s]\n"
     ]
    },
    {
     "name": "stdout",
     "output_type": "stream",
     "text": [
      "--- 0.023263216018676758 seconds for solution baseline ---\n",
      "initial solution\n"
     ]
    },
    {
     "name": "stderr",
     "output_type": "stream",
     "text": [
      "100%|██████████| 24/24 [00:00<00:00, 1751.00it/s]\n"
     ]
    },
    {
     "name": "stdout",
     "output_type": "stream",
     "text": [
      "--- 0.019886493682861328 seconds for solution baseline ---\n",
      "initial solution\n"
     ]
    },
    {
     "name": "stderr",
     "output_type": "stream",
     "text": [
      "100%|██████████| 24/24 [00:00<00:00, 1996.06it/s]\n"
     ]
    },
    {
     "name": "stdout",
     "output_type": "stream",
     "text": [
      "--- 0.017203330993652344 seconds for solution baseline ---\n",
      "initial solution\n"
     ]
    },
    {
     "name": "stderr",
     "output_type": "stream",
     "text": [
      "100%|██████████| 24/24 [00:00<00:00, 1956.34it/s]\n"
     ]
    },
    {
     "name": "stdout",
     "output_type": "stream",
     "text": [
      "--- 0.019684553146362305 seconds for solution baseline ---\n",
      "initial solution\n"
     ]
    },
    {
     "name": "stderr",
     "output_type": "stream",
     "text": [
      "100%|██████████| 24/24 [00:00<00:00, 2001.34it/s]\n"
     ]
    },
    {
     "name": "stdout",
     "output_type": "stream",
     "text": [
      "--- 0.01623988151550293 seconds for solution baseline ---\n",
      "initial solution\n"
     ]
    },
    {
     "name": "stderr",
     "output_type": "stream",
     "text": [
      "100%|██████████| 24/24 [00:00<00:00, 2114.11it/s]\n"
     ]
    },
    {
     "name": "stdout",
     "output_type": "stream",
     "text": [
      "--- 0.017540693283081055 seconds for solution baseline ---\n",
      "initial solution\n"
     ]
    },
    {
     "name": "stderr",
     "output_type": "stream",
     "text": [
      "100%|██████████| 24/24 [00:00<00:00, 1958.77it/s]\n"
     ]
    },
    {
     "name": "stdout",
     "output_type": "stream",
     "text": [
      "--- 0.01559758186340332 seconds for solution baseline ---\n",
      "initial solution\n"
     ]
    },
    {
     "name": "stderr",
     "output_type": "stream",
     "text": [
      "100%|██████████| 25/25 [00:00<00:00, 1811.01it/s]\n"
     ]
    },
    {
     "name": "stdout",
     "output_type": "stream",
     "text": [
      "--- 0.018134593963623047 seconds for solution baseline ---\n",
      "initial solution\n"
     ]
    },
    {
     "name": "stderr",
     "output_type": "stream",
     "text": [
      "100%|██████████| 25/25 [00:00<00:00, 1864.00it/s]\n"
     ]
    },
    {
     "name": "stdout",
     "output_type": "stream",
     "text": [
      "--- 0.017421960830688477 seconds for solution baseline ---\n",
      "initial solution\n"
     ]
    },
    {
     "name": "stderr",
     "output_type": "stream",
     "text": [
      "100%|██████████| 25/25 [00:00<00:00, 1832.25it/s]\n"
     ]
    },
    {
     "name": "stdout",
     "output_type": "stream",
     "text": [
      "--- 0.017794370651245117 seconds for solution baseline ---\n",
      "initial solution\n"
     ]
    },
    {
     "name": "stderr",
     "output_type": "stream",
     "text": [
      "100%|██████████| 25/25 [00:00<00:00, 1772.86it/s]\n"
     ]
    },
    {
     "name": "stdout",
     "output_type": "stream",
     "text": [
      "--- 0.0222475528717041 seconds for solution baseline ---\n",
      "initial solution\n"
     ]
    },
    {
     "name": "stderr",
     "output_type": "stream",
     "text": [
      "100%|██████████| 25/25 [00:00<00:00, 1756.70it/s]\n"
     ]
    },
    {
     "name": "stdout",
     "output_type": "stream",
     "text": [
      "--- 0.019726037979125977 seconds for solution baseline ---\n",
      "initial solution\n"
     ]
    },
    {
     "name": "stderr",
     "output_type": "stream",
     "text": [
      "100%|██████████| 25/25 [00:00<00:00, 1799.45it/s]\n"
     ]
    },
    {
     "name": "stdout",
     "output_type": "stream",
     "text": [
      "--- 0.01905059814453125 seconds for solution baseline ---\n",
      "initial solution\n"
     ]
    },
    {
     "name": "stderr",
     "output_type": "stream",
     "text": [
      "100%|██████████| 25/25 [00:00<00:00, 1674.75it/s]\n"
     ]
    },
    {
     "name": "stdout",
     "output_type": "stream",
     "text": [
      "--- 0.018438100814819336 seconds for solution baseline ---\n",
      "initial solution\n"
     ]
    },
    {
     "name": "stderr",
     "output_type": "stream",
     "text": [
      "100%|██████████| 25/25 [00:00<00:00, 1251.40it/s]\n"
     ]
    },
    {
     "name": "stdout",
     "output_type": "stream",
     "text": [
      "--- 0.024647235870361328 seconds for solution baseline ---\n",
      "initial solution\n"
     ]
    },
    {
     "name": "stderr",
     "output_type": "stream",
     "text": [
      "100%|██████████| 25/25 [00:00<00:00, 1665.57it/s]\n"
     ]
    },
    {
     "name": "stdout",
     "output_type": "stream",
     "text": [
      "--- 0.02022576332092285 seconds for solution baseline ---\n",
      "initial solution\n"
     ]
    },
    {
     "name": "stderr",
     "output_type": "stream",
     "text": [
      "100%|██████████| 25/25 [00:00<00:00, 1612.05it/s]\n"
     ]
    },
    {
     "name": "stdout",
     "output_type": "stream",
     "text": [
      "--- 0.019789695739746094 seconds for solution baseline ---\n",
      "initial solution\n"
     ]
    },
    {
     "name": "stderr",
     "output_type": "stream",
     "text": [
      "100%|██████████| 26/26 [00:00<00:00, 1757.82it/s]\n"
     ]
    },
    {
     "name": "stdout",
     "output_type": "stream",
     "text": [
      "--- 0.021853923797607422 seconds for solution baseline ---\n",
      "initial solution\n"
     ]
    },
    {
     "name": "stderr",
     "output_type": "stream",
     "text": [
      "100%|██████████| 26/26 [00:00<00:00, 1535.10it/s]\n"
     ]
    },
    {
     "name": "stdout",
     "output_type": "stream",
     "text": [
      "--- 0.0210418701171875 seconds for solution baseline ---\n",
      "initial solution\n"
     ]
    },
    {
     "name": "stderr",
     "output_type": "stream",
     "text": [
      "100%|██████████| 26/26 [00:00<00:00, 1591.39it/s]\n"
     ]
    },
    {
     "name": "stdout",
     "output_type": "stream",
     "text": [
      "--- 0.024151086807250977 seconds for solution baseline ---\n",
      "initial solution\n"
     ]
    },
    {
     "name": "stderr",
     "output_type": "stream",
     "text": [
      "100%|██████████| 26/26 [00:00<00:00, 1602.43it/s]\n"
     ]
    },
    {
     "name": "stdout",
     "output_type": "stream",
     "text": [
      "--- 0.022654056549072266 seconds for solution baseline ---\n",
      "initial solution\n"
     ]
    },
    {
     "name": "stderr",
     "output_type": "stream",
     "text": [
      "100%|██████████| 26/26 [00:00<00:00, 1545.74it/s]\n"
     ]
    },
    {
     "name": "stdout",
     "output_type": "stream",
     "text": [
      "--- 0.0200350284576416 seconds for solution baseline ---\n",
      "initial solution\n"
     ]
    },
    {
     "name": "stderr",
     "output_type": "stream",
     "text": [
      "100%|██████████| 26/26 [00:00<00:00, 1541.98it/s]\n"
     ]
    },
    {
     "name": "stdout",
     "output_type": "stream",
     "text": [
      "--- 0.022126197814941406 seconds for solution baseline ---\n",
      "initial solution\n"
     ]
    },
    {
     "name": "stderr",
     "output_type": "stream",
     "text": [
      "100%|██████████| 26/26 [00:00<00:00, 1786.54it/s]\n"
     ]
    },
    {
     "name": "stdout",
     "output_type": "stream",
     "text": [
      "--- 0.0221555233001709 seconds for solution baseline ---\n",
      "initial solution\n"
     ]
    },
    {
     "name": "stderr",
     "output_type": "stream",
     "text": [
      "100%|██████████| 26/26 [00:00<00:00, 1673.76it/s]\n"
     ]
    },
    {
     "name": "stdout",
     "output_type": "stream",
     "text": [
      "--- 0.021520614624023438 seconds for solution baseline ---\n",
      "initial solution\n"
     ]
    },
    {
     "name": "stderr",
     "output_type": "stream",
     "text": [
      "100%|██████████| 26/26 [00:00<00:00, 1739.74it/s]\n"
     ]
    },
    {
     "name": "stdout",
     "output_type": "stream",
     "text": [
      "--- 0.02135014533996582 seconds for solution baseline ---\n",
      "initial solution\n"
     ]
    },
    {
     "name": "stderr",
     "output_type": "stream",
     "text": [
      "100%|██████████| 26/26 [00:00<00:00, 1582.85it/s]\n"
     ]
    },
    {
     "name": "stdout",
     "output_type": "stream",
     "text": [
      "--- 0.02022409439086914 seconds for solution baseline ---\n",
      "initial solution\n"
     ]
    },
    {
     "name": "stderr",
     "output_type": "stream",
     "text": [
      "100%|██████████| 27/27 [00:00<00:00, 1426.76it/s]"
     ]
    },
    {
     "name": "stdout",
     "output_type": "stream",
     "text": [
      "--- 0.024312496185302734 seconds for solution baseline ---\n",
      "initial solution\n"
     ]
    },
    {
     "name": "stderr",
     "output_type": "stream",
     "text": [
      "\n",
      "100%|██████████| 27/27 [00:00<00:00, 1073.40it/s]\n"
     ]
    },
    {
     "name": "stdout",
     "output_type": "stream",
     "text": [
      "--- 0.03333616256713867 seconds for solution baseline ---\n",
      "initial solution\n"
     ]
    },
    {
     "name": "stderr",
     "output_type": "stream",
     "text": [
      "100%|██████████| 27/27 [00:00<00:00, 1315.73it/s]\n"
     ]
    },
    {
     "name": "stdout",
     "output_type": "stream",
     "text": [
      "--- 0.029695510864257812 seconds for solution baseline ---\n",
      "initial solution\n"
     ]
    },
    {
     "name": "stderr",
     "output_type": "stream",
     "text": [
      "100%|██████████| 27/27 [00:00<00:00, 1559.61it/s]\n"
     ]
    },
    {
     "name": "stdout",
     "output_type": "stream",
     "text": [
      "--- 0.022582530975341797 seconds for solution baseline ---\n",
      "initial solution\n"
     ]
    },
    {
     "name": "stderr",
     "output_type": "stream",
     "text": [
      "100%|██████████| 27/27 [00:00<00:00, 1596.95it/s]\n"
     ]
    },
    {
     "name": "stdout",
     "output_type": "stream",
     "text": [
      "--- 0.022375822067260742 seconds for solution baseline ---\n",
      "initial solution\n"
     ]
    },
    {
     "name": "stderr",
     "output_type": "stream",
     "text": [
      "100%|██████████| 27/27 [00:00<00:00, 1511.02it/s]\n"
     ]
    },
    {
     "name": "stdout",
     "output_type": "stream",
     "text": [
      "--- 0.022890806198120117 seconds for solution baseline ---\n",
      "initial solution\n"
     ]
    },
    {
     "name": "stderr",
     "output_type": "stream",
     "text": [
      "100%|██████████| 27/27 [00:00<00:00, 1531.47it/s]\n"
     ]
    },
    {
     "name": "stdout",
     "output_type": "stream",
     "text": [
      "--- 0.023161649703979492 seconds for solution baseline ---\n",
      "initial solution\n"
     ]
    },
    {
     "name": "stderr",
     "output_type": "stream",
     "text": [
      "100%|██████████| 27/27 [00:00<00:00, 1697.95it/s]\n"
     ]
    },
    {
     "name": "stdout",
     "output_type": "stream",
     "text": [
      "--- 0.022906064987182617 seconds for solution baseline ---\n",
      "initial solution\n"
     ]
    },
    {
     "name": "stderr",
     "output_type": "stream",
     "text": [
      "100%|██████████| 27/27 [00:00<00:00, 1527.57it/s]\n"
     ]
    },
    {
     "name": "stdout",
     "output_type": "stream",
     "text": [
      "--- 0.025293827056884766 seconds for solution baseline ---\n",
      "initial solution\n"
     ]
    },
    {
     "name": "stderr",
     "output_type": "stream",
     "text": [
      "100%|██████████| 27/27 [00:00<00:00, 1427.71it/s]\n"
     ]
    },
    {
     "name": "stdout",
     "output_type": "stream",
     "text": [
      "--- 0.023066282272338867 seconds for solution baseline ---\n",
      "initial solution\n"
     ]
    },
    {
     "name": "stderr",
     "output_type": "stream",
     "text": [
      "100%|██████████| 28/28 [00:00<00:00, 1443.36it/s]\n"
     ]
    },
    {
     "name": "stdout",
     "output_type": "stream",
     "text": [
      "--- 0.025049686431884766 seconds for solution baseline ---\n",
      "initial solution\n"
     ]
    },
    {
     "name": "stderr",
     "output_type": "stream",
     "text": [
      "100%|██████████| 28/28 [00:00<00:00, 1392.85it/s]\n"
     ]
    },
    {
     "name": "stdout",
     "output_type": "stream",
     "text": [
      "--- 0.024768829345703125 seconds for solution baseline ---\n",
      "initial solution\n"
     ]
    },
    {
     "name": "stderr",
     "output_type": "stream",
     "text": [
      "100%|██████████| 28/28 [00:00<00:00, 1440.67it/s]\n"
     ]
    },
    {
     "name": "stdout",
     "output_type": "stream",
     "text": [
      "--- 0.024718046188354492 seconds for solution baseline ---\n",
      "initial solution\n"
     ]
    },
    {
     "name": "stderr",
     "output_type": "stream",
     "text": [
      "100%|██████████| 28/28 [00:00<00:00, 1390.88it/s]\n"
     ]
    },
    {
     "name": "stdout",
     "output_type": "stream",
     "text": [
      "--- 0.023539304733276367 seconds for solution baseline ---\n",
      "initial solution\n"
     ]
    },
    {
     "name": "stderr",
     "output_type": "stream",
     "text": [
      "100%|██████████| 28/28 [00:00<00:00, 1487.66it/s]\n"
     ]
    },
    {
     "name": "stdout",
     "output_type": "stream",
     "text": [
      "--- 0.026944637298583984 seconds for solution baseline ---\n",
      "initial solution\n"
     ]
    },
    {
     "name": "stderr",
     "output_type": "stream",
     "text": [
      "100%|██████████| 28/28 [00:00<00:00, 1505.20it/s]\n"
     ]
    },
    {
     "name": "stdout",
     "output_type": "stream",
     "text": [
      "--- 0.025005817413330078 seconds for solution baseline ---\n",
      "initial solution\n"
     ]
    },
    {
     "name": "stderr",
     "output_type": "stream",
     "text": [
      "100%|██████████| 28/28 [00:00<00:00, 1299.68it/s]\n"
     ]
    },
    {
     "name": "stdout",
     "output_type": "stream",
     "text": [
      "--- 0.027355432510375977 seconds for solution baseline ---\n",
      "initial solution\n"
     ]
    },
    {
     "name": "stderr",
     "output_type": "stream",
     "text": [
      "100%|██████████| 28/28 [00:00<00:00, 1416.40it/s]\n"
     ]
    },
    {
     "name": "stdout",
     "output_type": "stream",
     "text": [
      "--- 0.026038646697998047 seconds for solution baseline ---\n",
      "initial solution\n"
     ]
    },
    {
     "name": "stderr",
     "output_type": "stream",
     "text": [
      "100%|██████████| 28/28 [00:00<00:00, 1214.03it/s]\n"
     ]
    },
    {
     "name": "stdout",
     "output_type": "stream",
     "text": [
      "--- 0.02875518798828125 seconds for solution baseline ---\n",
      "initial solution\n"
     ]
    },
    {
     "name": "stderr",
     "output_type": "stream",
     "text": [
      "100%|██████████| 28/28 [00:00<00:00, 1304.92it/s]\n"
     ]
    },
    {
     "name": "stdout",
     "output_type": "stream",
     "text": [
      "--- 0.028420209884643555 seconds for solution baseline ---\n",
      "initial solution\n"
     ]
    },
    {
     "name": "stderr",
     "output_type": "stream",
     "text": [
      "100%|██████████| 29/29 [00:00<00:00, 1404.59it/s]\n"
     ]
    },
    {
     "name": "stdout",
     "output_type": "stream",
     "text": [
      "--- 0.02616405487060547 seconds for solution baseline ---\n",
      "initial solution\n"
     ]
    },
    {
     "name": "stderr",
     "output_type": "stream",
     "text": [
      "100%|██████████| 29/29 [00:00<00:00, 1142.36it/s]\n"
     ]
    },
    {
     "name": "stdout",
     "output_type": "stream",
     "text": [
      "--- 0.035861968994140625 seconds for solution baseline ---\n",
      "initial solution\n"
     ]
    },
    {
     "name": "stderr",
     "output_type": "stream",
     "text": [
      "100%|██████████| 29/29 [00:00<00:00, 1319.35it/s]\n"
     ]
    },
    {
     "name": "stdout",
     "output_type": "stream",
     "text": [
      "--- 0.028386592864990234 seconds for solution baseline ---\n",
      "initial solution\n"
     ]
    },
    {
     "name": "stderr",
     "output_type": "stream",
     "text": [
      "100%|██████████| 29/29 [00:00<00:00, 1260.49it/s]\n"
     ]
    },
    {
     "name": "stdout",
     "output_type": "stream",
     "text": [
      "--- 0.028150320053100586 seconds for solution baseline ---\n",
      "initial solution\n"
     ]
    },
    {
     "name": "stderr",
     "output_type": "stream",
     "text": [
      "100%|██████████| 29/29 [00:00<00:00, 1364.45it/s]\n"
     ]
    },
    {
     "name": "stdout",
     "output_type": "stream",
     "text": [
      "--- 0.030780315399169922 seconds for solution baseline ---\n",
      "initial solution\n"
     ]
    },
    {
     "name": "stderr",
     "output_type": "stream",
     "text": [
      "100%|██████████| 29/29 [00:00<00:00, 1074.60it/s]\n"
     ]
    },
    {
     "name": "stdout",
     "output_type": "stream",
     "text": [
      "--- 0.03251838684082031 seconds for solution baseline ---\n",
      "initial solution\n"
     ]
    },
    {
     "name": "stderr",
     "output_type": "stream",
     "text": [
      "100%|██████████| 29/29 [00:00<00:00, 1196.40it/s]\n"
     ]
    },
    {
     "name": "stdout",
     "output_type": "stream",
     "text": [
      "--- 0.030303239822387695 seconds for solution baseline ---\n",
      "initial solution\n"
     ]
    },
    {
     "name": "stderr",
     "output_type": "stream",
     "text": [
      "100%|██████████| 29/29 [00:00<00:00, 1338.07it/s]\n"
     ]
    },
    {
     "name": "stdout",
     "output_type": "stream",
     "text": [
      "--- 0.029015302658081055 seconds for solution baseline ---\n",
      "initial solution\n"
     ]
    },
    {
     "name": "stderr",
     "output_type": "stream",
     "text": [
      "100%|██████████| 29/29 [00:00<00:00, 1354.27it/s]\n"
     ]
    },
    {
     "name": "stdout",
     "output_type": "stream",
     "text": [
      "--- 0.026421070098876953 seconds for solution baseline ---\n",
      "initial solution\n"
     ]
    },
    {
     "name": "stderr",
     "output_type": "stream",
     "text": [
      "100%|██████████| 29/29 [00:00<00:00, 1099.93it/s]\n"
     ]
    },
    {
     "name": "stdout",
     "output_type": "stream",
     "text": [
      "--- 0.03463006019592285 seconds for solution baseline ---\n",
      "initial solution\n"
     ]
    },
    {
     "name": "stderr",
     "output_type": "stream",
     "text": [
      "100%|██████████| 30/30 [00:00<00:00, 1163.05it/s]\n"
     ]
    },
    {
     "name": "stdout",
     "output_type": "stream",
     "text": [
      "--- 0.03093743324279785 seconds for solution baseline ---\n",
      "initial solution\n"
     ]
    },
    {
     "name": "stderr",
     "output_type": "stream",
     "text": [
      "100%|██████████| 30/30 [00:00<00:00, 1141.00it/s]\n"
     ]
    },
    {
     "name": "stdout",
     "output_type": "stream",
     "text": [
      "--- 0.030766010284423828 seconds for solution baseline ---\n",
      "initial solution\n"
     ]
    },
    {
     "name": "stderr",
     "output_type": "stream",
     "text": [
      "100%|██████████| 30/30 [00:00<00:00, 1192.67it/s]\n"
     ]
    },
    {
     "name": "stdout",
     "output_type": "stream",
     "text": [
      "--- 0.029179811477661133 seconds for solution baseline ---\n",
      "initial solution\n"
     ]
    },
    {
     "name": "stderr",
     "output_type": "stream",
     "text": [
      "100%|██████████| 30/30 [00:00<00:00, 1226.24it/s]"
     ]
    },
    {
     "name": "stdout",
     "output_type": "stream",
     "text": [
      "--- 0.0298306941986084 seconds for solution baseline ---\n",
      "initial solution\n"
     ]
    },
    {
     "name": "stderr",
     "output_type": "stream",
     "text": [
      "\n",
      "100%|██████████| 30/30 [00:00<00:00, 1290.45it/s]\n"
     ]
    },
    {
     "name": "stdout",
     "output_type": "stream",
     "text": [
      "--- 0.031090736389160156 seconds for solution baseline ---\n",
      "initial solution\n"
     ]
    },
    {
     "name": "stderr",
     "output_type": "stream",
     "text": [
      "100%|██████████| 30/30 [00:00<00:00, 1272.62it/s]\n"
     ]
    },
    {
     "name": "stdout",
     "output_type": "stream",
     "text": [
      "--- 0.03147315979003906 seconds for solution baseline ---\n",
      "initial solution\n"
     ]
    },
    {
     "name": "stderr",
     "output_type": "stream",
     "text": [
      "100%|██████████| 30/30 [00:00<00:00, 1217.19it/s]\n"
     ]
    },
    {
     "name": "stdout",
     "output_type": "stream",
     "text": [
      "--- 0.031014442443847656 seconds for solution baseline ---\n",
      "initial solution\n"
     ]
    },
    {
     "name": "stderr",
     "output_type": "stream",
     "text": [
      "100%|██████████| 30/30 [00:00<00:00, 932.96it/s]\n"
     ]
    },
    {
     "name": "stdout",
     "output_type": "stream",
     "text": [
      "--- 0.03785109519958496 seconds for solution baseline ---\n",
      "initial solution\n"
     ]
    },
    {
     "name": "stderr",
     "output_type": "stream",
     "text": [
      "100%|██████████| 30/30 [00:00<00:00, 1186.12it/s]\n"
     ]
    },
    {
     "name": "stdout",
     "output_type": "stream",
     "text": [
      "--- 0.03175854682922363 seconds for solution baseline ---\n",
      "initial solution\n"
     ]
    },
    {
     "name": "stderr",
     "output_type": "stream",
     "text": [
      "100%|██████████| 30/30 [00:00<00:00, 1058.67it/s]\n"
     ]
    },
    {
     "name": "stdout",
     "output_type": "stream",
     "text": [
      "--- 0.037045955657958984 seconds for solution baseline ---\n",
      "initial solution\n"
     ]
    },
    {
     "name": "stderr",
     "output_type": "stream",
     "text": [
      "100%|██████████| 31/31 [00:00<00:00, 1111.20it/s]\n"
     ]
    },
    {
     "name": "stdout",
     "output_type": "stream",
     "text": [
      "--- 0.03354620933532715 seconds for solution baseline ---\n",
      "initial solution\n"
     ]
    },
    {
     "name": "stderr",
     "output_type": "stream",
     "text": [
      "100%|██████████| 31/31 [00:00<00:00, 1055.52it/s]\n"
     ]
    },
    {
     "name": "stdout",
     "output_type": "stream",
     "text": [
      "--- 0.03452587127685547 seconds for solution baseline ---\n",
      "initial solution\n"
     ]
    },
    {
     "name": "stderr",
     "output_type": "stream",
     "text": [
      "100%|██████████| 31/31 [00:00<00:00, 1045.79it/s]"
     ]
    },
    {
     "name": "stdout",
     "output_type": "stream",
     "text": [
      "--- 0.03375673294067383 seconds for solution baseline ---\n",
      "initial solution\n"
     ]
    },
    {
     "name": "stderr",
     "output_type": "stream",
     "text": [
      "\n",
      "100%|██████████| 31/31 [00:00<00:00, 848.82it/s]\n"
     ]
    },
    {
     "name": "stdout",
     "output_type": "stream",
     "text": [
      "--- 0.044190168380737305 seconds for solution baseline ---\n",
      "initial solution\n"
     ]
    },
    {
     "name": "stderr",
     "output_type": "stream",
     "text": [
      "100%|██████████| 31/31 [00:00<00:00, 1142.50it/s]\n"
     ]
    },
    {
     "name": "stdout",
     "output_type": "stream",
     "text": [
      "--- 0.03236579895019531 seconds for solution baseline ---\n",
      "initial solution\n"
     ]
    },
    {
     "name": "stderr",
     "output_type": "stream",
     "text": [
      "100%|██████████| 31/31 [00:00<00:00, 1175.35it/s]\n"
     ]
    },
    {
     "name": "stdout",
     "output_type": "stream",
     "text": [
      "--- 0.03385639190673828 seconds for solution baseline ---\n",
      "initial solution\n"
     ]
    },
    {
     "name": "stderr",
     "output_type": "stream",
     "text": [
      "100%|██████████| 31/31 [00:00<00:00, 1076.01it/s]"
     ]
    },
    {
     "name": "stdout",
     "output_type": "stream",
     "text": [
      "--- 0.03338217735290527 seconds for solution baseline ---\n",
      "initial solution\n"
     ]
    },
    {
     "name": "stderr",
     "output_type": "stream",
     "text": [
      "\n",
      "100%|██████████| 31/31 [00:00<00:00, 1164.71it/s]\n"
     ]
    },
    {
     "name": "stdout",
     "output_type": "stream",
     "text": [
      "--- 0.03261590003967285 seconds for solution baseline ---\n",
      "initial solution\n"
     ]
    },
    {
     "name": "stderr",
     "output_type": "stream",
     "text": [
      "100%|██████████| 31/31 [00:00<00:00, 813.44it/s]\n"
     ]
    },
    {
     "name": "stdout",
     "output_type": "stream",
     "text": [
      "--- 0.045728206634521484 seconds for solution baseline ---\n",
      "initial solution\n"
     ]
    },
    {
     "name": "stderr",
     "output_type": "stream",
     "text": [
      "100%|██████████| 31/31 [00:00<00:00, 917.51it/s]\n"
     ]
    },
    {
     "name": "stdout",
     "output_type": "stream",
     "text": [
      "--- 0.039960622787475586 seconds for solution baseline ---\n",
      "initial solution\n"
     ]
    },
    {
     "name": "stderr",
     "output_type": "stream",
     "text": [
      "100%|██████████| 32/32 [00:00<00:00, 1033.28it/s]\n"
     ]
    },
    {
     "name": "stdout",
     "output_type": "stream",
     "text": [
      "--- 0.03714895248413086 seconds for solution baseline ---\n",
      "initial solution\n"
     ]
    },
    {
     "name": "stderr",
     "output_type": "stream",
     "text": [
      "100%|██████████| 32/32 [00:00<00:00, 1064.22it/s]\n"
     ]
    },
    {
     "name": "stdout",
     "output_type": "stream",
     "text": [
      "--- 0.03590059280395508 seconds for solution baseline ---\n",
      "initial solution\n"
     ]
    },
    {
     "name": "stderr",
     "output_type": "stream",
     "text": [
      "100%|██████████| 32/32 [00:00<00:00, 938.96it/s]\n"
     ]
    },
    {
     "name": "stdout",
     "output_type": "stream",
     "text": [
      "--- 0.04354119300842285 seconds for solution baseline ---\n",
      "initial solution\n"
     ]
    },
    {
     "name": "stderr",
     "output_type": "stream",
     "text": [
      "100%|██████████| 32/32 [00:00<00:00, 930.41it/s]\n"
     ]
    },
    {
     "name": "stdout",
     "output_type": "stream",
     "text": [
      "--- 0.03852558135986328 seconds for solution baseline ---\n",
      "initial solution\n"
     ]
    },
    {
     "name": "stderr",
     "output_type": "stream",
     "text": [
      "100%|██████████| 32/32 [00:00<00:00, 960.31it/s]\n"
     ]
    },
    {
     "name": "stdout",
     "output_type": "stream",
     "text": [
      "--- 0.039795637130737305 seconds for solution baseline ---\n",
      "initial solution\n"
     ]
    },
    {
     "name": "stderr",
     "output_type": "stream",
     "text": [
      "100%|██████████| 32/32 [00:00<00:00, 871.43it/s]\n"
     ]
    },
    {
     "name": "stdout",
     "output_type": "stream",
     "text": [
      "--- 0.042047977447509766 seconds for solution baseline ---\n",
      "initial solution\n"
     ]
    },
    {
     "name": "stderr",
     "output_type": "stream",
     "text": [
      "100%|██████████| 32/32 [00:00<00:00, 856.52it/s]\n"
     ]
    },
    {
     "name": "stdout",
     "output_type": "stream",
     "text": [
      "--- 0.047051429748535156 seconds for solution baseline ---\n",
      "initial solution\n"
     ]
    },
    {
     "name": "stderr",
     "output_type": "stream",
     "text": [
      "100%|██████████| 32/32 [00:00<00:00, 913.37it/s]\n"
     ]
    },
    {
     "name": "stdout",
     "output_type": "stream",
     "text": [
      "--- 0.04221677780151367 seconds for solution baseline ---\n",
      "initial solution\n"
     ]
    },
    {
     "name": "stderr",
     "output_type": "stream",
     "text": [
      "100%|██████████| 32/32 [00:00<00:00, 1014.63it/s]\n"
     ]
    },
    {
     "name": "stdout",
     "output_type": "stream",
     "text": [
      "--- 0.03864741325378418 seconds for solution baseline ---\n",
      "initial solution\n"
     ]
    },
    {
     "name": "stderr",
     "output_type": "stream",
     "text": [
      "100%|██████████| 32/32 [00:00<00:00, 678.82it/s]"
     ]
    },
    {
     "name": "stdout",
     "output_type": "stream",
     "text": [
      "--- 0.05417013168334961 seconds for solution baseline ---\n",
      "initial solution\n"
     ]
    },
    {
     "name": "stderr",
     "output_type": "stream",
     "text": [
      "\n",
      "100%|██████████| 33/33 [00:00<00:00, 820.82it/s]\n"
     ]
    },
    {
     "name": "stdout",
     "output_type": "stream",
     "text": [
      "--- 0.052320241928100586 seconds for solution baseline ---\n",
      "initial solution\n"
     ]
    },
    {
     "name": "stderr",
     "output_type": "stream",
     "text": [
      "100%|██████████| 33/33 [00:00<00:00, 946.98it/s]\n"
     ]
    },
    {
     "name": "stdout",
     "output_type": "stream",
     "text": [
      "--- 0.04130959510803223 seconds for solution baseline ---\n",
      "initial solution\n"
     ]
    },
    {
     "name": "stderr",
     "output_type": "stream",
     "text": [
      "100%|██████████| 33/33 [00:00<00:00, 854.33it/s]\n"
     ]
    },
    {
     "name": "stdout",
     "output_type": "stream",
     "text": [
      "--- 0.044677734375 seconds for solution baseline ---\n",
      "initial solution\n"
     ]
    },
    {
     "name": "stderr",
     "output_type": "stream",
     "text": [
      "100%|██████████| 33/33 [00:00<00:00, 956.19it/s]\n"
     ]
    },
    {
     "name": "stdout",
     "output_type": "stream",
     "text": [
      "--- 0.04358935356140137 seconds for solution baseline ---\n",
      "initial solution\n"
     ]
    },
    {
     "name": "stderr",
     "output_type": "stream",
     "text": [
      "100%|██████████| 33/33 [00:00<00:00, 927.12it/s]\n"
     ]
    },
    {
     "name": "stdout",
     "output_type": "stream",
     "text": [
      "--- 0.04333686828613281 seconds for solution baseline ---\n",
      "initial solution\n"
     ]
    },
    {
     "name": "stderr",
     "output_type": "stream",
     "text": [
      "100%|██████████| 33/33 [00:00<00:00, 936.43it/s]\n"
     ]
    },
    {
     "name": "stdout",
     "output_type": "stream",
     "text": [
      "--- 0.04024791717529297 seconds for solution baseline ---\n",
      "initial solution\n"
     ]
    },
    {
     "name": "stderr",
     "output_type": "stream",
     "text": [
      "100%|██████████| 33/33 [00:00<00:00, 936.33it/s]\n"
     ]
    },
    {
     "name": "stdout",
     "output_type": "stream",
     "text": [
      "--- 0.04128241539001465 seconds for solution baseline ---\n",
      "initial solution\n"
     ]
    },
    {
     "name": "stderr",
     "output_type": "stream",
     "text": [
      "100%|██████████| 33/33 [00:00<00:00, 929.93it/s]\n"
     ]
    },
    {
     "name": "stdout",
     "output_type": "stream",
     "text": [
      "--- 0.04104018211364746 seconds for solution baseline ---\n",
      "initial solution\n"
     ]
    },
    {
     "name": "stderr",
     "output_type": "stream",
     "text": [
      "100%|██████████| 33/33 [00:00<00:00, 893.06it/s]\n"
     ]
    },
    {
     "name": "stdout",
     "output_type": "stream",
     "text": [
      "--- 0.04346656799316406 seconds for solution baseline ---\n",
      "initial solution\n"
     ]
    },
    {
     "name": "stderr",
     "output_type": "stream",
     "text": [
      "100%|██████████| 33/33 [00:00<00:00, 924.60it/s]\n"
     ]
    },
    {
     "name": "stdout",
     "output_type": "stream",
     "text": [
      "--- 0.04184079170227051 seconds for solution baseline ---\n",
      "initial solution\n"
     ]
    },
    {
     "name": "stderr",
     "output_type": "stream",
     "text": [
      "100%|██████████| 34/34 [00:00<00:00, 857.83it/s]\n"
     ]
    },
    {
     "name": "stdout",
     "output_type": "stream",
     "text": [
      "--- 0.04616379737854004 seconds for solution baseline ---\n",
      "initial solution\n"
     ]
    },
    {
     "name": "stderr",
     "output_type": "stream",
     "text": [
      "100%|██████████| 34/34 [00:00<00:00, 862.51it/s]\n"
     ]
    },
    {
     "name": "stdout",
     "output_type": "stream",
     "text": [
      "--- 0.04602813720703125 seconds for solution baseline ---\n",
      "initial solution\n"
     ]
    },
    {
     "name": "stderr",
     "output_type": "stream",
     "text": [
      "100%|██████████| 34/34 [00:00<00:00, 837.31it/s]\n"
     ]
    },
    {
     "name": "stdout",
     "output_type": "stream",
     "text": [
      "--- 0.04660844802856445 seconds for solution baseline ---\n",
      "initial solution\n"
     ]
    },
    {
     "name": "stderr",
     "output_type": "stream",
     "text": [
      "100%|██████████| 34/34 [00:00<00:00, 879.01it/s]\n"
     ]
    },
    {
     "name": "stdout",
     "output_type": "stream",
     "text": [
      "--- 0.04552626609802246 seconds for solution baseline ---\n",
      "initial solution\n"
     ]
    },
    {
     "name": "stderr",
     "output_type": "stream",
     "text": [
      "100%|██████████| 34/34 [00:00<00:00, 913.50it/s]\n"
     ]
    },
    {
     "name": "stdout",
     "output_type": "stream",
     "text": [
      "--- 0.04711151123046875 seconds for solution baseline ---\n",
      "initial solution\n"
     ]
    },
    {
     "name": "stderr",
     "output_type": "stream",
     "text": [
      "100%|██████████| 34/34 [00:00<00:00, 920.24it/s]\n"
     ]
    },
    {
     "name": "stdout",
     "output_type": "stream",
     "text": [
      "--- 0.047339439392089844 seconds for solution baseline ---\n",
      "initial solution\n"
     ]
    },
    {
     "name": "stderr",
     "output_type": "stream",
     "text": [
      "100%|██████████| 34/34 [00:00<00:00, 780.04it/s]\n"
     ]
    },
    {
     "name": "stdout",
     "output_type": "stream",
     "text": [
      "--- 0.05042695999145508 seconds for solution baseline ---\n",
      "initial solution\n"
     ]
    },
    {
     "name": "stderr",
     "output_type": "stream",
     "text": [
      "100%|██████████| 34/34 [00:00<00:00, 882.42it/s]\n"
     ]
    },
    {
     "name": "stdout",
     "output_type": "stream",
     "text": [
      "--- 0.04588198661804199 seconds for solution baseline ---\n",
      "initial solution\n"
     ]
    },
    {
     "name": "stderr",
     "output_type": "stream",
     "text": [
      "100%|██████████| 34/34 [00:00<00:00, 844.53it/s]"
     ]
    },
    {
     "name": "stdout",
     "output_type": "stream",
     "text": [
      "--- 0.04622149467468262 seconds for solution baseline ---\n",
      "initial solution\n"
     ]
    },
    {
     "name": "stderr",
     "output_type": "stream",
     "text": [
      "\n",
      "100%|██████████| 34/34 [00:00<00:00, 847.73it/s]\n"
     ]
    },
    {
     "name": "stdout",
     "output_type": "stream",
     "text": [
      "--- 0.05051398277282715 seconds for solution baseline ---\n",
      "initial solution\n"
     ]
    },
    {
     "name": "stderr",
     "output_type": "stream",
     "text": [
      "100%|██████████| 35/35 [00:00<00:00, 863.75it/s]\n"
     ]
    },
    {
     "name": "stdout",
     "output_type": "stream",
     "text": [
      "--- 0.04602694511413574 seconds for solution baseline ---\n",
      "initial solution\n"
     ]
    },
    {
     "name": "stderr",
     "output_type": "stream",
     "text": [
      "100%|██████████| 35/35 [00:00<00:00, 822.01it/s]\n"
     ]
    },
    {
     "name": "stdout",
     "output_type": "stream",
     "text": [
      "--- 0.048599958419799805 seconds for solution baseline ---\n",
      "initial solution\n"
     ]
    },
    {
     "name": "stderr",
     "output_type": "stream",
     "text": [
      "100%|██████████| 35/35 [00:00<00:00, 805.97it/s]\n"
     ]
    },
    {
     "name": "stdout",
     "output_type": "stream",
     "text": [
      "--- 0.04873538017272949 seconds for solution baseline ---\n",
      "initial solution\n"
     ]
    },
    {
     "name": "stderr",
     "output_type": "stream",
     "text": [
      "100%|██████████| 35/35 [00:00<00:00, 678.65it/s]\n"
     ]
    },
    {
     "name": "stdout",
     "output_type": "stream",
     "text": [
      "--- 0.06074833869934082 seconds for solution baseline ---\n",
      "initial solution\n"
     ]
    },
    {
     "name": "stderr",
     "output_type": "stream",
     "text": [
      "100%|██████████| 35/35 [00:00<00:00, 884.91it/s]\n"
     ]
    },
    {
     "name": "stdout",
     "output_type": "stream",
     "text": [
      "--- 0.046242713928222656 seconds for solution baseline ---\n",
      "initial solution\n"
     ]
    },
    {
     "name": "stderr",
     "output_type": "stream",
     "text": [
      "100%|██████████| 35/35 [00:00<00:00, 774.87it/s]\n"
     ]
    },
    {
     "name": "stdout",
     "output_type": "stream",
     "text": [
      "--- 0.051828622817993164 seconds for solution baseline ---\n",
      "initial solution\n"
     ]
    },
    {
     "name": "stderr",
     "output_type": "stream",
     "text": [
      "100%|██████████| 35/35 [00:00<00:00, 800.73it/s]\n"
     ]
    },
    {
     "name": "stdout",
     "output_type": "stream",
     "text": [
      "--- 0.05242300033569336 seconds for solution baseline ---\n",
      "initial solution\n"
     ]
    },
    {
     "name": "stderr",
     "output_type": "stream",
     "text": [
      "100%|██████████| 35/35 [00:00<00:00, 824.58it/s]\n"
     ]
    },
    {
     "name": "stdout",
     "output_type": "stream",
     "text": [
      "--- 0.05046343803405762 seconds for solution baseline ---\n",
      "initial solution\n"
     ]
    },
    {
     "name": "stderr",
     "output_type": "stream",
     "text": [
      "100%|██████████| 35/35 [00:00<00:00, 823.99it/s]\n"
     ]
    },
    {
     "name": "stdout",
     "output_type": "stream",
     "text": [
      "--- 0.04848432540893555 seconds for solution baseline ---\n",
      "initial solution\n"
     ]
    },
    {
     "name": "stderr",
     "output_type": "stream",
     "text": [
      "100%|██████████| 35/35 [00:00<00:00, 826.61it/s]\n"
     ]
    },
    {
     "name": "stdout",
     "output_type": "stream",
     "text": [
      "--- 0.04956865310668945 seconds for solution baseline ---\n",
      "initial solution\n"
     ]
    },
    {
     "name": "stderr",
     "output_type": "stream",
     "text": [
      "100%|██████████| 36/36 [00:00<00:00, 782.43it/s]\n"
     ]
    },
    {
     "name": "stdout",
     "output_type": "stream",
     "text": [
      "--- 0.05326390266418457 seconds for solution baseline ---\n",
      "initial solution\n"
     ]
    },
    {
     "name": "stderr",
     "output_type": "stream",
     "text": [
      "100%|██████████| 36/36 [00:00<00:00, 742.19it/s]\n"
     ]
    },
    {
     "name": "stdout",
     "output_type": "stream",
     "text": [
      "--- 0.056757450103759766 seconds for solution baseline ---\n",
      "initial solution\n"
     ]
    },
    {
     "name": "stderr",
     "output_type": "stream",
     "text": [
      "100%|██████████| 36/36 [00:00<00:00, 832.74it/s]\n"
     ]
    },
    {
     "name": "stdout",
     "output_type": "stream",
     "text": [
      "--- 0.050914764404296875 seconds for solution baseline ---\n",
      "initial solution\n"
     ]
    },
    {
     "name": "stderr",
     "output_type": "stream",
     "text": [
      "100%|██████████| 36/36 [00:00<00:00, 785.30it/s]\n"
     ]
    },
    {
     "name": "stdout",
     "output_type": "stream",
     "text": [
      "--- 0.1913158893585205 seconds for solution baseline ---\n",
      "initial solution\n"
     ]
    },
    {
     "name": "stderr",
     "output_type": "stream",
     "text": [
      "100%|██████████| 36/36 [00:00<00:00, 802.79it/s]\n"
     ]
    },
    {
     "name": "stdout",
     "output_type": "stream",
     "text": [
      "--- 0.05158066749572754 seconds for solution baseline ---\n",
      "initial solution\n"
     ]
    },
    {
     "name": "stderr",
     "output_type": "stream",
     "text": [
      "100%|██████████| 36/36 [00:00<00:00, 802.35it/s]\n"
     ]
    },
    {
     "name": "stdout",
     "output_type": "stream",
     "text": [
      "--- 0.05199599266052246 seconds for solution baseline ---\n",
      "initial solution\n"
     ]
    },
    {
     "name": "stderr",
     "output_type": "stream",
     "text": [
      "100%|██████████| 36/36 [00:00<00:00, 733.25it/s]\n"
     ]
    },
    {
     "name": "stdout",
     "output_type": "stream",
     "text": [
      "--- 0.057381391525268555 seconds for solution baseline ---\n",
      "initial solution\n"
     ]
    },
    {
     "name": "stderr",
     "output_type": "stream",
     "text": [
      "100%|██████████| 36/36 [00:00<00:00, 824.79it/s]\n"
     ]
    },
    {
     "name": "stdout",
     "output_type": "stream",
     "text": [
      "--- 0.05133342742919922 seconds for solution baseline ---\n",
      "initial solution\n"
     ]
    },
    {
     "name": "stderr",
     "output_type": "stream",
     "text": [
      "100%|██████████| 36/36 [00:00<00:00, 791.43it/s]\n"
     ]
    },
    {
     "name": "stdout",
     "output_type": "stream",
     "text": [
      "--- 0.054071664810180664 seconds for solution baseline ---\n",
      "initial solution\n"
     ]
    },
    {
     "name": "stderr",
     "output_type": "stream",
     "text": [
      "100%|██████████| 36/36 [00:00<00:00, 792.29it/s]\n"
     ]
    },
    {
     "name": "stdout",
     "output_type": "stream",
     "text": [
      "--- 0.055074453353881836 seconds for solution baseline ---\n",
      "initial solution\n"
     ]
    },
    {
     "name": "stderr",
     "output_type": "stream",
     "text": [
      "100%|██████████| 37/37 [00:00<00:00, 778.47it/s]\n"
     ]
    },
    {
     "name": "stdout",
     "output_type": "stream",
     "text": [
      "--- 0.054662227630615234 seconds for solution baseline ---\n",
      "initial solution\n"
     ]
    },
    {
     "name": "stderr",
     "output_type": "stream",
     "text": [
      "100%|██████████| 37/37 [00:00<00:00, 727.33it/s]\n"
     ]
    },
    {
     "name": "stdout",
     "output_type": "stream",
     "text": [
      "--- 0.05894041061401367 seconds for solution baseline ---\n",
      "initial solution\n"
     ]
    },
    {
     "name": "stderr",
     "output_type": "stream",
     "text": [
      "100%|██████████| 37/37 [00:00<00:00, 736.63it/s]\n"
     ]
    },
    {
     "name": "stdout",
     "output_type": "stream",
     "text": [
      "--- 0.060788631439208984 seconds for solution baseline ---\n",
      "initial solution\n"
     ]
    },
    {
     "name": "stderr",
     "output_type": "stream",
     "text": [
      "100%|██████████| 37/37 [00:00<00:00, 777.10it/s]\n"
     ]
    },
    {
     "name": "stdout",
     "output_type": "stream",
     "text": [
      "--- 0.05466198921203613 seconds for solution baseline ---\n",
      "initial solution\n"
     ]
    },
    {
     "name": "stderr",
     "output_type": "stream",
     "text": [
      "100%|██████████| 37/37 [00:00<00:00, 726.33it/s]\n"
     ]
    },
    {
     "name": "stdout",
     "output_type": "stream",
     "text": [
      "--- 0.05682873725891113 seconds for solution baseline ---\n",
      "initial solution\n"
     ]
    },
    {
     "name": "stderr",
     "output_type": "stream",
     "text": [
      "100%|██████████| 37/37 [00:00<00:00, 706.14it/s]\n"
     ]
    },
    {
     "name": "stdout",
     "output_type": "stream",
     "text": [
      "--- 0.061228036880493164 seconds for solution baseline ---\n",
      "initial solution\n"
     ]
    },
    {
     "name": "stderr",
     "output_type": "stream",
     "text": [
      "100%|██████████| 37/37 [00:00<00:00, 669.10it/s]\n"
     ]
    },
    {
     "name": "stdout",
     "output_type": "stream",
     "text": [
      "--- 0.06250262260437012 seconds for solution baseline ---\n",
      "initial solution\n"
     ]
    },
    {
     "name": "stderr",
     "output_type": "stream",
     "text": [
      "100%|██████████| 37/37 [00:00<00:00, 778.85it/s]\n"
     ]
    },
    {
     "name": "stdout",
     "output_type": "stream",
     "text": [
      "--- 0.05490732192993164 seconds for solution baseline ---\n",
      "initial solution\n"
     ]
    },
    {
     "name": "stderr",
     "output_type": "stream",
     "text": [
      "100%|██████████| 37/37 [00:00<00:00, 749.38it/s]\n"
     ]
    },
    {
     "name": "stdout",
     "output_type": "stream",
     "text": [
      "--- 0.05554008483886719 seconds for solution baseline ---\n",
      "initial solution\n"
     ]
    },
    {
     "name": "stderr",
     "output_type": "stream",
     "text": [
      "100%|██████████| 37/37 [00:00<00:00, 696.13it/s]\n"
     ]
    },
    {
     "name": "stdout",
     "output_type": "stream",
     "text": [
      "--- 0.059151649475097656 seconds for solution baseline ---\n",
      "initial solution\n"
     ]
    },
    {
     "name": "stderr",
     "output_type": "stream",
     "text": [
      "100%|██████████| 38/38 [00:00<00:00, 690.73it/s]\n"
     ]
    },
    {
     "name": "stdout",
     "output_type": "stream",
     "text": [
      "--- 0.06258201599121094 seconds for solution baseline ---\n",
      "initial solution\n"
     ]
    },
    {
     "name": "stderr",
     "output_type": "stream",
     "text": [
      "100%|██████████| 38/38 [00:00<00:00, 644.05it/s]\n"
     ]
    },
    {
     "name": "stdout",
     "output_type": "stream",
     "text": [
      "--- 0.06818580627441406 seconds for solution baseline ---\n",
      "initial solution\n"
     ]
    },
    {
     "name": "stderr",
     "output_type": "stream",
     "text": [
      "100%|██████████| 38/38 [00:00<00:00, 686.89it/s]\n"
     ]
    },
    {
     "name": "stdout",
     "output_type": "stream",
     "text": [
      "--- 0.0629129409790039 seconds for solution baseline ---\n",
      "initial solution\n"
     ]
    },
    {
     "name": "stderr",
     "output_type": "stream",
     "text": [
      "100%|██████████| 38/38 [00:00<00:00, 595.46it/s]\n"
     ]
    },
    {
     "name": "stdout",
     "output_type": "stream",
     "text": [
      "--- 0.07116174697875977 seconds for solution baseline ---\n",
      "initial solution\n"
     ]
    },
    {
     "name": "stderr",
     "output_type": "stream",
     "text": [
      "100%|██████████| 38/38 [00:00<00:00, 725.74it/s]\n"
     ]
    },
    {
     "name": "stdout",
     "output_type": "stream",
     "text": [
      "--- 0.061369895935058594 seconds for solution baseline ---\n",
      "initial solution\n"
     ]
    },
    {
     "name": "stderr",
     "output_type": "stream",
     "text": [
      "100%|██████████| 38/38 [00:00<00:00, 721.95it/s]\n"
     ]
    },
    {
     "name": "stdout",
     "output_type": "stream",
     "text": [
      "--- 0.0596311092376709 seconds for solution baseline ---\n",
      "initial solution\n"
     ]
    },
    {
     "name": "stderr",
     "output_type": "stream",
     "text": [
      "100%|██████████| 38/38 [00:00<00:00, 719.21it/s]\n"
     ]
    },
    {
     "name": "stdout",
     "output_type": "stream",
     "text": [
      "--- 0.06100630760192871 seconds for solution baseline ---\n",
      "initial solution\n"
     ]
    },
    {
     "name": "stderr",
     "output_type": "stream",
     "text": [
      "100%|██████████| 38/38 [00:00<00:00, 723.59it/s]\n"
     ]
    },
    {
     "name": "stdout",
     "output_type": "stream",
     "text": [
      "--- 0.06180596351623535 seconds for solution baseline ---\n",
      "initial solution\n"
     ]
    },
    {
     "name": "stderr",
     "output_type": "stream",
     "text": [
      "100%|██████████| 38/38 [00:00<00:00, 672.21it/s]\n"
     ]
    },
    {
     "name": "stdout",
     "output_type": "stream",
     "text": [
      "--- 0.06487607955932617 seconds for solution baseline ---\n",
      "initial solution\n"
     ]
    },
    {
     "name": "stderr",
     "output_type": "stream",
     "text": [
      "100%|██████████| 38/38 [00:00<00:00, 674.26it/s]\n"
     ]
    },
    {
     "name": "stdout",
     "output_type": "stream",
     "text": [
      "--- 0.06260299682617188 seconds for solution baseline ---\n",
      "initial solution\n"
     ]
    },
    {
     "name": "stderr",
     "output_type": "stream",
     "text": [
      "100%|██████████| 39/39 [00:00<00:00, 611.33it/s]\n"
     ]
    },
    {
     "name": "stdout",
     "output_type": "stream",
     "text": [
      "--- 0.07256293296813965 seconds for solution baseline ---\n",
      "initial solution\n"
     ]
    },
    {
     "name": "stderr",
     "output_type": "stream",
     "text": [
      "100%|██████████| 39/39 [00:00<00:00, 649.30it/s]\n"
     ]
    },
    {
     "name": "stdout",
     "output_type": "stream",
     "text": [
      "--- 0.06925320625305176 seconds for solution baseline ---\n",
      "initial solution\n"
     ]
    },
    {
     "name": "stderr",
     "output_type": "stream",
     "text": [
      "100%|██████████| 39/39 [00:00<00:00, 668.56it/s]\n"
     ]
    },
    {
     "name": "stdout",
     "output_type": "stream",
     "text": [
      "--- 0.06596803665161133 seconds for solution baseline ---\n",
      "initial solution\n"
     ]
    },
    {
     "name": "stderr",
     "output_type": "stream",
     "text": [
      "100%|██████████| 39/39 [00:00<00:00, 682.50it/s]\n"
     ]
    },
    {
     "name": "stdout",
     "output_type": "stream",
     "text": [
      "--- 0.06805157661437988 seconds for solution baseline ---\n",
      "initial solution\n"
     ]
    },
    {
     "name": "stderr",
     "output_type": "stream",
     "text": [
      "100%|██████████| 39/39 [00:00<00:00, 649.99it/s]\n"
     ]
    },
    {
     "name": "stdout",
     "output_type": "stream",
     "text": [
      "--- 0.0671529769897461 seconds for solution baseline ---\n",
      "initial solution\n"
     ]
    },
    {
     "name": "stderr",
     "output_type": "stream",
     "text": [
      "100%|██████████| 39/39 [00:00<00:00, 685.34it/s]\n"
     ]
    },
    {
     "name": "stdout",
     "output_type": "stream",
     "text": [
      "--- 0.06372261047363281 seconds for solution baseline ---\n",
      "initial solution\n"
     ]
    },
    {
     "name": "stderr",
     "output_type": "stream",
     "text": [
      "100%|██████████| 39/39 [00:00<00:00, 622.79it/s]\n"
     ]
    },
    {
     "name": "stdout",
     "output_type": "stream",
     "text": [
      "--- 0.07121443748474121 seconds for solution baseline ---\n",
      "initial solution\n"
     ]
    },
    {
     "name": "stderr",
     "output_type": "stream",
     "text": [
      "100%|██████████| 39/39 [00:00<00:00, 676.34it/s]\n"
     ]
    },
    {
     "name": "stdout",
     "output_type": "stream",
     "text": [
      "--- 0.06508588790893555 seconds for solution baseline ---\n",
      "initial solution\n"
     ]
    },
    {
     "name": "stderr",
     "output_type": "stream",
     "text": [
      "100%|██████████| 39/39 [00:00<00:00, 682.76it/s]\n"
     ]
    },
    {
     "name": "stdout",
     "output_type": "stream",
     "text": [
      "--- 0.06592679023742676 seconds for solution baseline ---\n",
      "initial solution\n"
     ]
    },
    {
     "name": "stderr",
     "output_type": "stream",
     "text": [
      "100%|██████████| 39/39 [00:00<00:00, 659.45it/s]\n"
     ]
    },
    {
     "name": "stdout",
     "output_type": "stream",
     "text": [
      "--- 0.07098174095153809 seconds for solution baseline ---\n",
      "initial solution\n"
     ]
    },
    {
     "name": "stderr",
     "output_type": "stream",
     "text": [
      "100%|██████████| 40/40 [00:00<00:00, 535.05it/s]\n"
     ]
    },
    {
     "name": "stdout",
     "output_type": "stream",
     "text": [
      "--- 0.08443117141723633 seconds for solution baseline ---\n",
      "initial solution\n"
     ]
    },
    {
     "name": "stderr",
     "output_type": "stream",
     "text": [
      "100%|██████████| 40/40 [00:00<00:00, 597.72it/s]\n"
     ]
    },
    {
     "name": "stdout",
     "output_type": "stream",
     "text": [
      "--- 0.0743708610534668 seconds for solution baseline ---\n",
      "initial solution\n"
     ]
    },
    {
     "name": "stderr",
     "output_type": "stream",
     "text": [
      "100%|██████████| 40/40 [00:00<00:00, 609.42it/s]\n"
     ]
    },
    {
     "name": "stdout",
     "output_type": "stream",
     "text": [
      "--- 0.07624268531799316 seconds for solution baseline ---\n",
      "initial solution\n"
     ]
    },
    {
     "name": "stderr",
     "output_type": "stream",
     "text": [
      "100%|██████████| 40/40 [00:00<00:00, 514.58it/s]\n"
     ]
    },
    {
     "name": "stdout",
     "output_type": "stream",
     "text": [
      "--- 0.08900809288024902 seconds for solution baseline ---\n",
      "initial solution\n"
     ]
    },
    {
     "name": "stderr",
     "output_type": "stream",
     "text": [
      "100%|██████████| 40/40 [00:00<00:00, 523.69it/s]\n"
     ]
    },
    {
     "name": "stdout",
     "output_type": "stream",
     "text": [
      "--- 0.08665609359741211 seconds for solution baseline ---\n",
      "initial solution\n"
     ]
    },
    {
     "name": "stderr",
     "output_type": "stream",
     "text": [
      "100%|██████████| 40/40 [00:00<00:00, 565.99it/s]\n"
     ]
    },
    {
     "name": "stdout",
     "output_type": "stream",
     "text": [
      "--- 0.07743096351623535 seconds for solution baseline ---\n",
      "initial solution\n"
     ]
    },
    {
     "name": "stderr",
     "output_type": "stream",
     "text": [
      "100%|██████████| 40/40 [00:00<00:00, 590.08it/s]\n"
     ]
    },
    {
     "name": "stdout",
     "output_type": "stream",
     "text": [
      "--- 0.0764775276184082 seconds for solution baseline ---\n",
      "initial solution\n"
     ]
    },
    {
     "name": "stderr",
     "output_type": "stream",
     "text": [
      "100%|██████████| 40/40 [00:00<00:00, 538.01it/s]\n"
     ]
    },
    {
     "name": "stdout",
     "output_type": "stream",
     "text": [
      "--- 0.08308172225952148 seconds for solution baseline ---\n",
      "initial solution\n"
     ]
    },
    {
     "name": "stderr",
     "output_type": "stream",
     "text": [
      "100%|██████████| 40/40 [00:00<00:00, 542.82it/s]\n"
     ]
    },
    {
     "name": "stdout",
     "output_type": "stream",
     "text": [
      "--- 0.08203291893005371 seconds for solution baseline ---\n",
      "initial solution\n"
     ]
    },
    {
     "name": "stderr",
     "output_type": "stream",
     "text": [
      "100%|██████████| 40/40 [00:00<00:00, 567.44it/s]\n"
     ]
    },
    {
     "name": "stdout",
     "output_type": "stream",
     "text": [
      "--- 0.07801032066345215 seconds for solution baseline ---\n",
      "initial solution\n"
     ]
    },
    {
     "name": "stderr",
     "output_type": "stream",
     "text": [
      "100%|██████████| 41/41 [00:00<00:00, 615.32it/s]\n"
     ]
    },
    {
     "name": "stdout",
     "output_type": "stream",
     "text": [
      "--- 0.0737910270690918 seconds for solution baseline ---\n",
      "initial solution\n"
     ]
    },
    {
     "name": "stderr",
     "output_type": "stream",
     "text": [
      "100%|██████████| 41/41 [00:00<00:00, 570.52it/s]\n"
     ]
    },
    {
     "name": "stdout",
     "output_type": "stream",
     "text": [
      "--- 0.08025765419006348 seconds for solution baseline ---\n",
      "initial solution\n"
     ]
    },
    {
     "name": "stderr",
     "output_type": "stream",
     "text": [
      "100%|██████████| 41/41 [00:00<00:00, 537.13it/s]\n"
     ]
    },
    {
     "name": "stdout",
     "output_type": "stream",
     "text": [
      "--- 0.08513236045837402 seconds for solution baseline ---\n",
      "initial solution\n"
     ]
    },
    {
     "name": "stderr",
     "output_type": "stream",
     "text": [
      "100%|██████████| 41/41 [00:00<00:00, 468.67it/s]\n"
     ]
    },
    {
     "name": "stdout",
     "output_type": "stream",
     "text": [
      "--- 0.09924650192260742 seconds for solution baseline ---\n",
      "initial solution\n"
     ]
    },
    {
     "name": "stderr",
     "output_type": "stream",
     "text": [
      "100%|██████████| 41/41 [00:00<00:00, 563.78it/s]\n"
     ]
    },
    {
     "name": "stdout",
     "output_type": "stream",
     "text": [
      "--- 0.08173227310180664 seconds for solution baseline ---\n",
      "initial solution\n"
     ]
    },
    {
     "name": "stderr",
     "output_type": "stream",
     "text": [
      "100%|██████████| 41/41 [00:00<00:00, 574.66it/s]\n"
     ]
    },
    {
     "name": "stdout",
     "output_type": "stream",
     "text": [
      "--- 0.07989311218261719 seconds for solution baseline ---\n",
      "initial solution\n"
     ]
    },
    {
     "name": "stderr",
     "output_type": "stream",
     "text": [
      "100%|██████████| 41/41 [00:00<00:00, 549.11it/s]\n"
     ]
    },
    {
     "name": "stdout",
     "output_type": "stream",
     "text": [
      "--- 0.08532309532165527 seconds for solution baseline ---\n",
      "initial solution\n"
     ]
    },
    {
     "name": "stderr",
     "output_type": "stream",
     "text": [
      "100%|██████████| 41/41 [00:00<00:00, 584.08it/s]\n"
     ]
    },
    {
     "name": "stdout",
     "output_type": "stream",
     "text": [
      "--- 0.08013916015625 seconds for solution baseline ---\n",
      "initial solution\n"
     ]
    },
    {
     "name": "stderr",
     "output_type": "stream",
     "text": [
      "100%|██████████| 41/41 [00:00<00:00, 561.07it/s]\n"
     ]
    },
    {
     "name": "stdout",
     "output_type": "stream",
     "text": [
      "--- 0.0812685489654541 seconds for solution baseline ---\n",
      "initial solution\n"
     ]
    },
    {
     "name": "stderr",
     "output_type": "stream",
     "text": [
      "100%|██████████| 41/41 [00:00<00:00, 445.35it/s]\n"
     ]
    },
    {
     "name": "stdout",
     "output_type": "stream",
     "text": [
      "--- 0.10002517700195312 seconds for solution baseline ---\n",
      "initial solution\n"
     ]
    },
    {
     "name": "stderr",
     "output_type": "stream",
     "text": [
      "100%|██████████| 42/42 [00:00<00:00, 452.16it/s]\n"
     ]
    },
    {
     "name": "stdout",
     "output_type": "stream",
     "text": [
      "--- 0.24888110160827637 seconds for solution baseline ---\n",
      "initial solution\n"
     ]
    },
    {
     "name": "stderr",
     "output_type": "stream",
     "text": [
      "100%|██████████| 42/42 [00:00<00:00, 526.87it/s]\n"
     ]
    },
    {
     "name": "stdout",
     "output_type": "stream",
     "text": [
      "--- 0.08943390846252441 seconds for solution baseline ---\n",
      "initial solution\n"
     ]
    },
    {
     "name": "stderr",
     "output_type": "stream",
     "text": [
      "100%|██████████| 42/42 [00:00<00:00, 568.26it/s]\n"
     ]
    },
    {
     "name": "stdout",
     "output_type": "stream",
     "text": [
      "--- 0.08469533920288086 seconds for solution baseline ---\n",
      "initial solution\n"
     ]
    },
    {
     "name": "stderr",
     "output_type": "stream",
     "text": [
      "100%|██████████| 42/42 [00:00<00:00, 527.40it/s]\n"
     ]
    },
    {
     "name": "stdout",
     "output_type": "stream",
     "text": [
      "--- 0.08811163902282715 seconds for solution baseline ---\n",
      "initial solution\n"
     ]
    },
    {
     "name": "stderr",
     "output_type": "stream",
     "text": [
      "100%|██████████| 42/42 [00:00<00:00, 533.64it/s]\n"
     ]
    },
    {
     "name": "stdout",
     "output_type": "stream",
     "text": [
      "--- 0.08843827247619629 seconds for solution baseline ---\n",
      "initial solution\n"
     ]
    },
    {
     "name": "stderr",
     "output_type": "stream",
     "text": [
      "100%|██████████| 42/42 [00:00<00:00, 499.42it/s]\n"
     ]
    },
    {
     "name": "stdout",
     "output_type": "stream",
     "text": [
      "--- 0.09079098701477051 seconds for solution baseline ---\n",
      "initial solution\n"
     ]
    },
    {
     "name": "stderr",
     "output_type": "stream",
     "text": [
      "100%|██████████| 42/42 [00:00<00:00, 548.17it/s]\n"
     ]
    },
    {
     "name": "stdout",
     "output_type": "stream",
     "text": [
      "--- 0.08773684501647949 seconds for solution baseline ---\n",
      "initial solution\n"
     ]
    },
    {
     "name": "stderr",
     "output_type": "stream",
     "text": [
      "100%|██████████| 42/42 [00:00<00:00, 509.92it/s]\n"
     ]
    },
    {
     "name": "stdout",
     "output_type": "stream",
     "text": [
      "--- 0.09008145332336426 seconds for solution baseline ---\n",
      "initial solution\n"
     ]
    },
    {
     "name": "stderr",
     "output_type": "stream",
     "text": [
      "100%|██████████| 42/42 [00:00<00:00, 526.43it/s]\n"
     ]
    },
    {
     "name": "stdout",
     "output_type": "stream",
     "text": [
      "--- 0.08807563781738281 seconds for solution baseline ---\n",
      "initial solution\n"
     ]
    },
    {
     "name": "stderr",
     "output_type": "stream",
     "text": [
      "100%|██████████| 42/42 [00:00<00:00, 455.47it/s]\n"
     ]
    },
    {
     "name": "stdout",
     "output_type": "stream",
     "text": [
      "--- 0.10435295104980469 seconds for solution baseline ---\n",
      "initial solution\n"
     ]
    },
    {
     "name": "stderr",
     "output_type": "stream",
     "text": [
      "100%|██████████| 43/43 [00:00<00:00, 515.09it/s]\n"
     ]
    },
    {
     "name": "stdout",
     "output_type": "stream",
     "text": [
      "--- 0.0938103199005127 seconds for solution baseline ---\n",
      "initial solution\n"
     ]
    },
    {
     "name": "stderr",
     "output_type": "stream",
     "text": [
      "100%|██████████| 43/43 [00:00<00:00, 430.07it/s]\n"
     ]
    },
    {
     "name": "stdout",
     "output_type": "stream",
     "text": [
      "--- 0.10985374450683594 seconds for solution baseline ---\n",
      "initial solution\n"
     ]
    },
    {
     "name": "stderr",
     "output_type": "stream",
     "text": [
      "100%|██████████| 43/43 [00:00<00:00, 510.69it/s]\n"
     ]
    },
    {
     "name": "stdout",
     "output_type": "stream",
     "text": [
      "--- 0.0943899154663086 seconds for solution baseline ---\n",
      "initial solution\n"
     ]
    },
    {
     "name": "stderr",
     "output_type": "stream",
     "text": [
      "100%|██████████| 43/43 [00:00<00:00, 476.47it/s]\n"
     ]
    },
    {
     "name": "stdout",
     "output_type": "stream",
     "text": [
      "--- 0.09986734390258789 seconds for solution baseline ---\n",
      "initial solution\n"
     ]
    },
    {
     "name": "stderr",
     "output_type": "stream",
     "text": [
      "100%|██████████| 43/43 [00:00<00:00, 455.72it/s]\n"
     ]
    },
    {
     "name": "stdout",
     "output_type": "stream",
     "text": [
      "--- 0.10311102867126465 seconds for solution baseline ---\n",
      "initial solution\n"
     ]
    },
    {
     "name": "stderr",
     "output_type": "stream",
     "text": [
      "100%|██████████| 43/43 [00:00<00:00, 447.55it/s]\n"
     ]
    },
    {
     "name": "stdout",
     "output_type": "stream",
     "text": [
      "--- 0.10444140434265137 seconds for solution baseline ---\n",
      "initial solution\n"
     ]
    },
    {
     "name": "stderr",
     "output_type": "stream",
     "text": [
      "100%|██████████| 43/43 [00:00<00:00, 434.10it/s]\n"
     ]
    },
    {
     "name": "stdout",
     "output_type": "stream",
     "text": [
      "--- 0.11235451698303223 seconds for solution baseline ---\n",
      "initial solution\n"
     ]
    },
    {
     "name": "stderr",
     "output_type": "stream",
     "text": [
      "100%|██████████| 43/43 [00:00<00:00, 464.88it/s]\n"
     ]
    },
    {
     "name": "stdout",
     "output_type": "stream",
     "text": [
      "--- 0.10160636901855469 seconds for solution baseline ---\n",
      "initial solution\n"
     ]
    },
    {
     "name": "stderr",
     "output_type": "stream",
     "text": [
      "100%|██████████| 43/43 [00:00<00:00, 474.91it/s]\n"
     ]
    },
    {
     "name": "stdout",
     "output_type": "stream",
     "text": [
      "--- 0.09887456893920898 seconds for solution baseline ---\n",
      "initial solution\n"
     ]
    },
    {
     "name": "stderr",
     "output_type": "stream",
     "text": [
      "100%|██████████| 43/43 [00:00<00:00, 509.44it/s]\n"
     ]
    },
    {
     "name": "stdout",
     "output_type": "stream",
     "text": [
      "--- 0.09358334541320801 seconds for solution baseline ---\n",
      "initial solution\n"
     ]
    },
    {
     "name": "stderr",
     "output_type": "stream",
     "text": [
      "100%|██████████| 44/44 [00:00<00:00, 422.50it/s]\n"
     ]
    },
    {
     "name": "stdout",
     "output_type": "stream",
     "text": [
      "--- 0.11469721794128418 seconds for solution baseline ---\n",
      "initial solution\n"
     ]
    },
    {
     "name": "stderr",
     "output_type": "stream",
     "text": [
      "100%|██████████| 44/44 [00:00<00:00, 517.28it/s]\n"
     ]
    },
    {
     "name": "stdout",
     "output_type": "stream",
     "text": [
      "--- 0.09270358085632324 seconds for solution baseline ---\n",
      "initial solution\n"
     ]
    },
    {
     "name": "stderr",
     "output_type": "stream",
     "text": [
      "100%|██████████| 44/44 [00:00<00:00, 486.09it/s]\n"
     ]
    },
    {
     "name": "stdout",
     "output_type": "stream",
     "text": [
      "--- 0.10108304023742676 seconds for solution baseline ---\n",
      "initial solution\n"
     ]
    },
    {
     "name": "stderr",
     "output_type": "stream",
     "text": [
      "100%|██████████| 44/44 [00:00<00:00, 506.97it/s]\n"
     ]
    },
    {
     "name": "stdout",
     "output_type": "stream",
     "text": [
      "--- 0.09940552711486816 seconds for solution baseline ---\n",
      "initial solution\n"
     ]
    },
    {
     "name": "stderr",
     "output_type": "stream",
     "text": [
      "100%|██████████| 44/44 [00:00<00:00, 471.18it/s]\n"
     ]
    },
    {
     "name": "stdout",
     "output_type": "stream",
     "text": [
      "--- 0.1023871898651123 seconds for solution baseline ---\n",
      "initial solution\n"
     ]
    },
    {
     "name": "stderr",
     "output_type": "stream",
     "text": [
      "100%|██████████| 44/44 [00:00<00:00, 461.55it/s]\n"
     ]
    },
    {
     "name": "stdout",
     "output_type": "stream",
     "text": [
      "--- 0.10774612426757812 seconds for solution baseline ---\n",
      "initial solution\n"
     ]
    },
    {
     "name": "stderr",
     "output_type": "stream",
     "text": [
      "100%|██████████| 44/44 [00:00<00:00, 449.80it/s]\n"
     ]
    },
    {
     "name": "stdout",
     "output_type": "stream",
     "text": [
      "--- 0.10570573806762695 seconds for solution baseline ---\n",
      "initial solution\n"
     ]
    },
    {
     "name": "stderr",
     "output_type": "stream",
     "text": [
      "100%|██████████| 44/44 [00:00<00:00, 450.87it/s]\n"
     ]
    },
    {
     "name": "stdout",
     "output_type": "stream",
     "text": [
      "--- 0.1055135726928711 seconds for solution baseline ---\n",
      "initial solution\n"
     ]
    },
    {
     "name": "stderr",
     "output_type": "stream",
     "text": [
      "100%|██████████| 44/44 [00:00<00:00, 480.53it/s]\n"
     ]
    },
    {
     "name": "stdout",
     "output_type": "stream",
     "text": [
      "--- 0.10173511505126953 seconds for solution baseline ---\n",
      "initial solution\n"
     ]
    },
    {
     "name": "stderr",
     "output_type": "stream",
     "text": [
      "100%|██████████| 44/44 [00:00<00:00, 466.04it/s]\n"
     ]
    },
    {
     "name": "stdout",
     "output_type": "stream",
     "text": [
      "--- 0.10384941101074219 seconds for solution baseline ---\n",
      "initial solution\n"
     ]
    },
    {
     "name": "stderr",
     "output_type": "stream",
     "text": [
      "100%|██████████| 45/45 [00:00<00:00, 395.73it/s]\n"
     ]
    },
    {
     "name": "stdout",
     "output_type": "stream",
     "text": [
      "--- 0.12234950065612793 seconds for solution baseline ---\n",
      "initial solution\n"
     ]
    },
    {
     "name": "stderr",
     "output_type": "stream",
     "text": [
      "100%|██████████| 45/45 [00:00<00:00, 426.41it/s]\n"
     ]
    },
    {
     "name": "stdout",
     "output_type": "stream",
     "text": [
      "--- 0.11698698997497559 seconds for solution baseline ---\n",
      "initial solution\n"
     ]
    },
    {
     "name": "stderr",
     "output_type": "stream",
     "text": [
      "100%|██████████| 45/45 [00:00<00:00, 375.91it/s]\n"
     ]
    },
    {
     "name": "stdout",
     "output_type": "stream",
     "text": [
      "--- 0.12879467010498047 seconds for solution baseline ---\n",
      "initial solution\n"
     ]
    },
    {
     "name": "stderr",
     "output_type": "stream",
     "text": [
      "100%|██████████| 45/45 [00:00<00:00, 469.77it/s]\n"
     ]
    },
    {
     "name": "stdout",
     "output_type": "stream",
     "text": [
      "--- 0.10654115676879883 seconds for solution baseline ---\n",
      "initial solution\n"
     ]
    },
    {
     "name": "stderr",
     "output_type": "stream",
     "text": [
      "100%|██████████| 45/45 [00:00<00:00, 432.50it/s]\n"
     ]
    },
    {
     "name": "stdout",
     "output_type": "stream",
     "text": [
      "--- 0.11678361892700195 seconds for solution baseline ---\n",
      "initial solution\n"
     ]
    },
    {
     "name": "stderr",
     "output_type": "stream",
     "text": [
      "100%|██████████| 45/45 [00:00<00:00, 438.66it/s]\n"
     ]
    },
    {
     "name": "stdout",
     "output_type": "stream",
     "text": [
      "--- 0.114227294921875 seconds for solution baseline ---\n",
      "initial solution\n"
     ]
    },
    {
     "name": "stderr",
     "output_type": "stream",
     "text": [
      "100%|██████████| 45/45 [00:00<00:00, 453.70it/s]\n"
     ]
    },
    {
     "name": "stdout",
     "output_type": "stream",
     "text": [
      "--- 0.2643849849700928 seconds for solution baseline ---\n",
      "initial solution\n"
     ]
    },
    {
     "name": "stderr",
     "output_type": "stream",
     "text": [
      "100%|██████████| 45/45 [00:00<00:00, 445.89it/s]\n"
     ]
    },
    {
     "name": "stdout",
     "output_type": "stream",
     "text": [
      "--- 0.10966253280639648 seconds for solution baseline ---\n",
      "initial solution\n"
     ]
    },
    {
     "name": "stderr",
     "output_type": "stream",
     "text": [
      "100%|██████████| 45/45 [00:00<00:00, 465.54it/s]\n"
     ]
    },
    {
     "name": "stdout",
     "output_type": "stream",
     "text": [
      "--- 0.1066732406616211 seconds for solution baseline ---\n",
      "initial solution\n"
     ]
    },
    {
     "name": "stderr",
     "output_type": "stream",
     "text": [
      "100%|██████████| 45/45 [00:00<00:00, 488.93it/s]\n"
     ]
    },
    {
     "name": "stdout",
     "output_type": "stream",
     "text": [
      "--- 0.10185575485229492 seconds for solution baseline ---\n",
      "initial solution\n"
     ]
    },
    {
     "name": "stderr",
     "output_type": "stream",
     "text": [
      "100%|██████████| 46/46 [00:00<00:00, 397.99it/s]\n"
     ]
    },
    {
     "name": "stdout",
     "output_type": "stream",
     "text": [
      "--- 0.125518798828125 seconds for solution baseline ---\n",
      "initial solution\n"
     ]
    },
    {
     "name": "stderr",
     "output_type": "stream",
     "text": [
      "100%|██████████| 46/46 [00:00<00:00, 402.63it/s]\n"
     ]
    },
    {
     "name": "stdout",
     "output_type": "stream",
     "text": [
      "--- 0.12479496002197266 seconds for solution baseline ---\n",
      "initial solution\n"
     ]
    },
    {
     "name": "stderr",
     "output_type": "stream",
     "text": [
      "100%|██████████| 46/46 [00:00<00:00, 433.75it/s]\n"
     ]
    },
    {
     "name": "stdout",
     "output_type": "stream",
     "text": [
      "--- 0.11522984504699707 seconds for solution baseline ---\n",
      "initial solution\n"
     ]
    },
    {
     "name": "stderr",
     "output_type": "stream",
     "text": [
      "100%|██████████| 46/46 [00:00<00:00, 418.45it/s]\n"
     ]
    },
    {
     "name": "stdout",
     "output_type": "stream",
     "text": [
      "--- 0.11866259574890137 seconds for solution baseline ---\n",
      "initial solution\n"
     ]
    },
    {
     "name": "stderr",
     "output_type": "stream",
     "text": [
      "100%|██████████| 46/46 [00:00<00:00, 405.54it/s]\n"
     ]
    },
    {
     "name": "stdout",
     "output_type": "stream",
     "text": [
      "--- 0.1228792667388916 seconds for solution baseline ---\n",
      "initial solution\n"
     ]
    },
    {
     "name": "stderr",
     "output_type": "stream",
     "text": [
      "100%|██████████| 46/46 [00:00<00:00, 433.79it/s]\n"
     ]
    },
    {
     "name": "stdout",
     "output_type": "stream",
     "text": [
      "--- 0.11722207069396973 seconds for solution baseline ---\n",
      "initial solution\n"
     ]
    },
    {
     "name": "stderr",
     "output_type": "stream",
     "text": [
      "100%|██████████| 46/46 [00:00<00:00, 405.57it/s]\n"
     ]
    },
    {
     "name": "stdout",
     "output_type": "stream",
     "text": [
      "--- 0.12375330924987793 seconds for solution baseline ---\n",
      "initial solution\n"
     ]
    },
    {
     "name": "stderr",
     "output_type": "stream",
     "text": [
      "100%|██████████| 46/46 [00:00<00:00, 402.46it/s]\n"
     ]
    },
    {
     "name": "stdout",
     "output_type": "stream",
     "text": [
      "--- 0.12431478500366211 seconds for solution baseline ---\n",
      "initial solution\n"
     ]
    },
    {
     "name": "stderr",
     "output_type": "stream",
     "text": [
      "100%|██████████| 46/46 [00:00<00:00, 343.27it/s]\n"
     ]
    },
    {
     "name": "stdout",
     "output_type": "stream",
     "text": [
      "--- 0.1453561782836914 seconds for solution baseline ---\n",
      "initial solution\n"
     ]
    },
    {
     "name": "stderr",
     "output_type": "stream",
     "text": [
      "100%|██████████| 46/46 [00:00<00:00, 355.82it/s]\n"
     ]
    },
    {
     "name": "stdout",
     "output_type": "stream",
     "text": [
      "--- 0.14130806922912598 seconds for solution baseline ---\n",
      "initial solution\n"
     ]
    },
    {
     "name": "stderr",
     "output_type": "stream",
     "text": [
      "100%|██████████| 47/47 [00:00<00:00, 316.78it/s]\n"
     ]
    },
    {
     "name": "stdout",
     "output_type": "stream",
     "text": [
      "--- 0.15638446807861328 seconds for solution baseline ---\n",
      "initial solution\n"
     ]
    },
    {
     "name": "stderr",
     "output_type": "stream",
     "text": [
      "100%|██████████| 47/47 [00:00<00:00, 383.75it/s]\n"
     ]
    },
    {
     "name": "stdout",
     "output_type": "stream",
     "text": [
      "--- 0.13496804237365723 seconds for solution baseline ---\n",
      "initial solution\n"
     ]
    },
    {
     "name": "stderr",
     "output_type": "stream",
     "text": [
      "100%|██████████| 47/47 [00:00<00:00, 412.42it/s]\n"
     ]
    },
    {
     "name": "stdout",
     "output_type": "stream",
     "text": [
      "--- 0.12265729904174805 seconds for solution baseline ---\n",
      "initial solution\n"
     ]
    },
    {
     "name": "stderr",
     "output_type": "stream",
     "text": [
      "100%|██████████| 47/47 [00:00<00:00, 409.01it/s]\n"
     ]
    },
    {
     "name": "stdout",
     "output_type": "stream",
     "text": [
      "--- 0.1257021427154541 seconds for solution baseline ---\n",
      "initial solution\n"
     ]
    },
    {
     "name": "stderr",
     "output_type": "stream",
     "text": [
      "100%|██████████| 47/47 [00:00<00:00, 378.64it/s]\n"
     ]
    },
    {
     "name": "stdout",
     "output_type": "stream",
     "text": [
      "--- 0.13582897186279297 seconds for solution baseline ---\n",
      "initial solution\n"
     ]
    },
    {
     "name": "stderr",
     "output_type": "stream",
     "text": [
      "100%|██████████| 47/47 [00:00<00:00, 436.05it/s]\n"
     ]
    },
    {
     "name": "stdout",
     "output_type": "stream",
     "text": [
      "--- 0.1185452938079834 seconds for solution baseline ---\n",
      "initial solution\n"
     ]
    },
    {
     "name": "stderr",
     "output_type": "stream",
     "text": [
      "100%|██████████| 47/47 [00:00<00:00, 410.79it/s]\n"
     ]
    },
    {
     "name": "stdout",
     "output_type": "stream",
     "text": [
      "--- 0.12323331832885742 seconds for solution baseline ---\n",
      "initial solution\n"
     ]
    },
    {
     "name": "stderr",
     "output_type": "stream",
     "text": [
      "100%|██████████| 47/47 [00:00<00:00, 404.40it/s]\n"
     ]
    },
    {
     "name": "stdout",
     "output_type": "stream",
     "text": [
      "--- 0.12650370597839355 seconds for solution baseline ---\n",
      "initial solution\n"
     ]
    },
    {
     "name": "stderr",
     "output_type": "stream",
     "text": [
      "100%|██████████| 47/47 [00:00<00:00, 416.09it/s]\n"
     ]
    },
    {
     "name": "stdout",
     "output_type": "stream",
     "text": [
      "--- 0.12210726737976074 seconds for solution baseline ---\n",
      "initial solution\n"
     ]
    },
    {
     "name": "stderr",
     "output_type": "stream",
     "text": [
      "100%|██████████| 47/47 [00:00<00:00, 398.28it/s]\n"
     ]
    },
    {
     "name": "stdout",
     "output_type": "stream",
     "text": [
      "--- 0.1268916130065918 seconds for solution baseline ---\n",
      "initial solution\n"
     ]
    },
    {
     "name": "stderr",
     "output_type": "stream",
     "text": [
      "100%|██████████| 48/48 [00:00<00:00, 396.86it/s]\n"
     ]
    },
    {
     "name": "stdout",
     "output_type": "stream",
     "text": [
      "--- 0.13017702102661133 seconds for solution baseline ---\n",
      "initial solution\n"
     ]
    },
    {
     "name": "stderr",
     "output_type": "stream",
     "text": [
      "100%|██████████| 48/48 [00:00<00:00, 389.46it/s]\n"
     ]
    },
    {
     "name": "stdout",
     "output_type": "stream",
     "text": [
      "--- 0.13368916511535645 seconds for solution baseline ---\n",
      "initial solution\n"
     ]
    },
    {
     "name": "stderr",
     "output_type": "stream",
     "text": [
      "100%|██████████| 48/48 [00:00<00:00, 373.12it/s]\n"
     ]
    },
    {
     "name": "stdout",
     "output_type": "stream",
     "text": [
      "--- 0.13835525512695312 seconds for solution baseline ---\n",
      "initial solution\n"
     ]
    },
    {
     "name": "stderr",
     "output_type": "stream",
     "text": [
      "100%|██████████| 48/48 [00:00<00:00, 392.66it/s]\n"
     ]
    },
    {
     "name": "stdout",
     "output_type": "stream",
     "text": [
      "--- 0.2500028610229492 seconds for solution baseline ---\n",
      "initial solution\n"
     ]
    },
    {
     "name": "stderr",
     "output_type": "stream",
     "text": [
      "100%|██████████| 48/48 [00:00<00:00, 381.26it/s]\n"
     ]
    },
    {
     "name": "stdout",
     "output_type": "stream",
     "text": [
      "--- 0.13570237159729004 seconds for solution baseline ---\n",
      "initial solution\n"
     ]
    },
    {
     "name": "stderr",
     "output_type": "stream",
     "text": [
      "100%|██████████| 48/48 [00:00<00:00, 369.27it/s]\n"
     ]
    },
    {
     "name": "stdout",
     "output_type": "stream",
     "text": [
      "--- 0.1402275562286377 seconds for solution baseline ---\n",
      "initial solution\n"
     ]
    },
    {
     "name": "stderr",
     "output_type": "stream",
     "text": [
      "100%|██████████| 48/48 [00:00<00:00, 373.07it/s]\n"
     ]
    },
    {
     "name": "stdout",
     "output_type": "stream",
     "text": [
      "--- 0.1398613452911377 seconds for solution baseline ---\n",
      "initial solution\n"
     ]
    },
    {
     "name": "stderr",
     "output_type": "stream",
     "text": [
      "100%|██████████| 48/48 [00:00<00:00, 385.56it/s]\n"
     ]
    },
    {
     "name": "stdout",
     "output_type": "stream",
     "text": [
      "--- 0.13502001762390137 seconds for solution baseline ---\n",
      "initial solution\n"
     ]
    },
    {
     "name": "stderr",
     "output_type": "stream",
     "text": [
      "100%|██████████| 48/48 [00:00<00:00, 377.04it/s]\n"
     ]
    },
    {
     "name": "stdout",
     "output_type": "stream",
     "text": [
      "--- 0.13482308387756348 seconds for solution baseline ---\n",
      "initial solution\n"
     ]
    },
    {
     "name": "stderr",
     "output_type": "stream",
     "text": [
      "100%|██████████| 48/48 [00:00<00:00, 360.63it/s]"
     ]
    },
    {
     "name": "stdout",
     "output_type": "stream",
     "text": [
      "--- 0.1432797908782959 seconds for solution baseline ---\n"
     ]
    },
    {
     "name": "stderr",
     "output_type": "stream",
     "text": [
      "\n"
     ]
    },
    {
     "name": "stdout",
     "output_type": "stream",
     "text": [
      "initial solution\n"
     ]
    },
    {
     "name": "stderr",
     "output_type": "stream",
     "text": [
      "100%|██████████| 49/49 [00:00<00:00, 343.96it/s]\n"
     ]
    },
    {
     "name": "stdout",
     "output_type": "stream",
     "text": [
      "--- 0.15116047859191895 seconds for solution baseline ---\n",
      "initial solution\n"
     ]
    },
    {
     "name": "stderr",
     "output_type": "stream",
     "text": [
      "100%|██████████| 49/49 [00:00<00:00, 354.78it/s]\n"
     ]
    },
    {
     "name": "stdout",
     "output_type": "stream",
     "text": [
      "--- 0.14805340766906738 seconds for solution baseline ---\n",
      "initial solution\n"
     ]
    },
    {
     "name": "stderr",
     "output_type": "stream",
     "text": [
      "100%|██████████| 49/49 [00:00<00:00, 336.25it/s]\n"
     ]
    },
    {
     "name": "stdout",
     "output_type": "stream",
     "text": [
      "--- 0.15476155281066895 seconds for solution baseline ---\n",
      "initial solution\n"
     ]
    },
    {
     "name": "stderr",
     "output_type": "stream",
     "text": [
      "100%|██████████| 49/49 [00:00<00:00, 343.54it/s]\n"
     ]
    },
    {
     "name": "stdout",
     "output_type": "stream",
     "text": [
      "--- 0.15280699729919434 seconds for solution baseline ---\n",
      "initial solution\n"
     ]
    },
    {
     "name": "stderr",
     "output_type": "stream",
     "text": [
      "100%|██████████| 49/49 [00:00<00:00, 355.85it/s]\n"
     ]
    },
    {
     "name": "stdout",
     "output_type": "stream",
     "text": [
      "--- 0.14809894561767578 seconds for solution baseline ---\n",
      "initial solution\n"
     ]
    },
    {
     "name": "stderr",
     "output_type": "stream",
     "text": [
      "100%|██████████| 49/49 [00:00<00:00, 377.10it/s]\n"
     ]
    },
    {
     "name": "stdout",
     "output_type": "stream",
     "text": [
      "--- 0.1400775909423828 seconds for solution baseline ---\n",
      "initial solution\n"
     ]
    },
    {
     "name": "stderr",
     "output_type": "stream",
     "text": [
      "100%|██████████| 49/49 [00:00<00:00, 366.41it/s]\n"
     ]
    },
    {
     "name": "stdout",
     "output_type": "stream",
     "text": [
      "--- 0.1457836627960205 seconds for solution baseline ---\n",
      "initial solution\n"
     ]
    },
    {
     "name": "stderr",
     "output_type": "stream",
     "text": [
      "100%|██████████| 49/49 [00:00<00:00, 351.06it/s]"
     ]
    },
    {
     "name": "stdout",
     "output_type": "stream",
     "text": [
      "--- 0.15021657943725586 seconds for solution baseline ---\n",
      "initial solution\n"
     ]
    },
    {
     "name": "stderr",
     "output_type": "stream",
     "text": [
      "\n",
      "100%|██████████| 49/49 [00:00<00:00, 348.04it/s]\n"
     ]
    },
    {
     "name": "stdout",
     "output_type": "stream",
     "text": [
      "--- 0.15166258811950684 seconds for solution baseline ---\n",
      "initial solution\n"
     ]
    },
    {
     "name": "stderr",
     "output_type": "stream",
     "text": [
      "100%|██████████| 49/49 [00:00<00:00, 347.88it/s]\n"
     ]
    },
    {
     "name": "stdout",
     "output_type": "stream",
     "text": [
      "--- 0.15060758590698242 seconds for solution baseline ---\n",
      "initial solution\n"
     ]
    },
    {
     "name": "stderr",
     "output_type": "stream",
     "text": [
      "100%|██████████| 50/50 [00:00<00:00, 359.62it/s]\n"
     ]
    },
    {
     "name": "stdout",
     "output_type": "stream",
     "text": [
      "--- 0.1497037410736084 seconds for solution baseline ---\n",
      "initial solution\n"
     ]
    },
    {
     "name": "stderr",
     "output_type": "stream",
     "text": [
      "100%|██████████| 50/50 [00:00<00:00, 329.89it/s]"
     ]
    },
    {
     "name": "stdout",
     "output_type": "stream",
     "text": [
      "--- 0.1630876064300537 seconds for solution baseline ---\n",
      "initial solution\n"
     ]
    },
    {
     "name": "stderr",
     "output_type": "stream",
     "text": [
      "\n",
      "100%|██████████| 50/50 [00:00<00:00, 349.02it/s]\n"
     ]
    },
    {
     "name": "stdout",
     "output_type": "stream",
     "text": [
      "--- 0.15340566635131836 seconds for solution baseline ---\n",
      "initial solution\n"
     ]
    },
    {
     "name": "stderr",
     "output_type": "stream",
     "text": [
      "100%|██████████| 50/50 [00:00<00:00, 336.21it/s]\n"
     ]
    },
    {
     "name": "stdout",
     "output_type": "stream",
     "text": [
      "--- 0.16049456596374512 seconds for solution baseline ---\n",
      "initial solution\n"
     ]
    },
    {
     "name": "stderr",
     "output_type": "stream",
     "text": [
      "100%|██████████| 50/50 [00:00<00:00, 281.31it/s]\n"
     ]
    },
    {
     "name": "stdout",
     "output_type": "stream",
     "text": [
      "--- 0.3547937870025635 seconds for solution baseline ---\n",
      "initial solution\n"
     ]
    },
    {
     "name": "stderr",
     "output_type": "stream",
     "text": [
      "100%|██████████| 50/50 [00:00<00:00, 242.24it/s]\n"
     ]
    },
    {
     "name": "stdout",
     "output_type": "stream",
     "text": [
      "--- 0.21705842018127441 seconds for solution baseline ---\n",
      "initial solution\n"
     ]
    },
    {
     "name": "stderr",
     "output_type": "stream",
     "text": [
      "100%|██████████| 50/50 [00:00<00:00, 326.60it/s]"
     ]
    },
    {
     "name": "stdout",
     "output_type": "stream",
     "text": [
      "--- 0.16373944282531738 seconds for solution baseline ---\n",
      "initial solution\n"
     ]
    },
    {
     "name": "stderr",
     "output_type": "stream",
     "text": [
      "\n",
      "100%|██████████| 50/50 [00:00<00:00, 340.37it/s]\n"
     ]
    },
    {
     "name": "stdout",
     "output_type": "stream",
     "text": [
      "--- 0.15536022186279297 seconds for solution baseline ---\n",
      "initial solution\n"
     ]
    },
    {
     "name": "stderr",
     "output_type": "stream",
     "text": [
      "100%|██████████| 50/50 [00:00<00:00, 354.55it/s]\n"
     ]
    },
    {
     "name": "stdout",
     "output_type": "stream",
     "text": [
      "--- 0.15068769454956055 seconds for solution baseline ---\n",
      "initial solution\n"
     ]
    },
    {
     "name": "stderr",
     "output_type": "stream",
     "text": [
      "100%|██████████| 50/50 [00:00<00:00, 315.41it/s]\n"
     ]
    },
    {
     "name": "stdout",
     "output_type": "stream",
     "text": [
      "--- 0.1709127426147461 seconds for solution baseline ---\n",
      "initial solution\n"
     ]
    },
    {
     "name": "stderr",
     "output_type": "stream",
     "text": [
      "100%|██████████| 51/51 [00:00<00:00, 280.22it/s]\n"
     ]
    },
    {
     "name": "stdout",
     "output_type": "stream",
     "text": [
      "--- 0.1934034824371338 seconds for solution baseline ---\n",
      "initial solution\n"
     ]
    },
    {
     "name": "stderr",
     "output_type": "stream",
     "text": [
      "100%|██████████| 51/51 [00:00<00:00, 356.63it/s]\n"
     ]
    },
    {
     "name": "stdout",
     "output_type": "stream",
     "text": [
      "--- 0.15369486808776855 seconds for solution baseline ---\n",
      "initial solution\n"
     ]
    },
    {
     "name": "stderr",
     "output_type": "stream",
     "text": [
      "100%|██████████| 51/51 [00:00<00:00, 291.41it/s]\n"
     ]
    },
    {
     "name": "stdout",
     "output_type": "stream",
     "text": [
      "--- 0.18717455863952637 seconds for solution baseline ---\n",
      "initial solution\n"
     ]
    },
    {
     "name": "stderr",
     "output_type": "stream",
     "text": [
      "100%|██████████| 51/51 [00:00<00:00, 335.27it/s]\n"
     ]
    },
    {
     "name": "stdout",
     "output_type": "stream",
     "text": [
      "--- 0.16201281547546387 seconds for solution baseline ---\n",
      "initial solution\n"
     ]
    },
    {
     "name": "stderr",
     "output_type": "stream",
     "text": [
      "100%|██████████| 51/51 [00:00<00:00, 305.20it/s]\n"
     ]
    },
    {
     "name": "stdout",
     "output_type": "stream",
     "text": [
      "--- 0.1801462173461914 seconds for solution baseline ---\n",
      "initial solution\n"
     ]
    },
    {
     "name": "stderr",
     "output_type": "stream",
     "text": [
      "100%|██████████| 51/51 [00:00<00:00, 301.88it/s]\n"
     ]
    },
    {
     "name": "stdout",
     "output_type": "stream",
     "text": [
      "--- 0.18201446533203125 seconds for solution baseline ---\n",
      "initial solution\n"
     ]
    },
    {
     "name": "stderr",
     "output_type": "stream",
     "text": [
      "100%|██████████| 51/51 [00:00<00:00, 317.27it/s]"
     ]
    },
    {
     "name": "stdout",
     "output_type": "stream",
     "text": [
      "--- 0.17082762718200684 seconds for solution baseline ---\n"
     ]
    },
    {
     "name": "stderr",
     "output_type": "stream",
     "text": [
      "\n"
     ]
    },
    {
     "name": "stdout",
     "output_type": "stream",
     "text": [
      "initial solution\n"
     ]
    },
    {
     "name": "stderr",
     "output_type": "stream",
     "text": [
      "100%|██████████| 51/51 [00:00<00:00, 329.05it/s]"
     ]
    },
    {
     "name": "stdout",
     "output_type": "stream",
     "text": [
      "--- 0.16792893409729004 seconds for solution baseline ---\n"
     ]
    },
    {
     "name": "stderr",
     "output_type": "stream",
     "text": [
      "\n"
     ]
    },
    {
     "name": "stdout",
     "output_type": "stream",
     "text": [
      "initial solution\n"
     ]
    },
    {
     "name": "stderr",
     "output_type": "stream",
     "text": [
      "100%|██████████| 51/51 [00:00<00:00, 292.53it/s]"
     ]
    },
    {
     "name": "stdout",
     "output_type": "stream",
     "text": [
      "--- 0.1864945888519287 seconds for solution baseline ---\n"
     ]
    },
    {
     "name": "stderr",
     "output_type": "stream",
     "text": [
      "\n"
     ]
    },
    {
     "name": "stdout",
     "output_type": "stream",
     "text": [
      "initial solution\n"
     ]
    },
    {
     "name": "stderr",
     "output_type": "stream",
     "text": [
      "100%|██████████| 51/51 [00:00<00:00, 293.28it/s]"
     ]
    },
    {
     "name": "stdout",
     "output_type": "stream",
     "text": [
      "--- 0.18494963645935059 seconds for solution baseline ---\n"
     ]
    },
    {
     "name": "stderr",
     "output_type": "stream",
     "text": [
      "\n"
     ]
    },
    {
     "name": "stdout",
     "output_type": "stream",
     "text": [
      "initial solution\n"
     ]
    },
    {
     "name": "stderr",
     "output_type": "stream",
     "text": [
      "100%|██████████| 52/52 [00:00<00:00, 282.47it/s]"
     ]
    },
    {
     "name": "stdout",
     "output_type": "stream",
     "text": [
      "--- 0.1963207721710205 seconds for solution baseline ---\n",
      "initial solution\n"
     ]
    },
    {
     "name": "stderr",
     "output_type": "stream",
     "text": [
      "\n",
      "100%|██████████| 52/52 [00:00<00:00, 297.09it/s]\n"
     ]
    },
    {
     "name": "stdout",
     "output_type": "stream",
     "text": [
      "--- 0.18656682968139648 seconds for solution baseline ---\n",
      "initial solution\n"
     ]
    },
    {
     "name": "stderr",
     "output_type": "stream",
     "text": [
      "100%|██████████| 52/52 [00:00<00:00, 289.88it/s]\n"
     ]
    },
    {
     "name": "stdout",
     "output_type": "stream",
     "text": [
      "--- 0.19047069549560547 seconds for solution baseline ---\n",
      "initial solution\n"
     ]
    },
    {
     "name": "stderr",
     "output_type": "stream",
     "text": [
      "100%|██████████| 52/52 [00:00<00:00, 268.71it/s]\n"
     ]
    },
    {
     "name": "stdout",
     "output_type": "stream",
     "text": [
      "--- 0.20357322692871094 seconds for solution baseline ---\n",
      "initial solution\n"
     ]
    },
    {
     "name": "stderr",
     "output_type": "stream",
     "text": [
      "100%|██████████| 52/52 [00:00<00:00, 172.16it/s]\n"
     ]
    },
    {
     "name": "stdout",
     "output_type": "stream",
     "text": [
      "--- 0.3122293949127197 seconds for solution baseline ---\n",
      "initial solution\n"
     ]
    },
    {
     "name": "stderr",
     "output_type": "stream",
     "text": [
      "100%|██████████| 52/52 [00:00<00:00, 297.79it/s]\n"
     ]
    },
    {
     "name": "stdout",
     "output_type": "stream",
     "text": [
      "--- 0.18689846992492676 seconds for solution baseline ---\n",
      "initial solution\n"
     ]
    },
    {
     "name": "stderr",
     "output_type": "stream",
     "text": [
      "100%|██████████| 52/52 [00:00<00:00, 321.51it/s]\n"
     ]
    },
    {
     "name": "stdout",
     "output_type": "stream",
     "text": [
      "--- 0.17438912391662598 seconds for solution baseline ---\n",
      "initial solution\n"
     ]
    },
    {
     "name": "stderr",
     "output_type": "stream",
     "text": [
      "100%|██████████| 52/52 [00:00<00:00, 292.63it/s]\n"
     ]
    },
    {
     "name": "stdout",
     "output_type": "stream",
     "text": [
      "--- 0.18909907341003418 seconds for solution baseline ---\n",
      "initial solution\n"
     ]
    },
    {
     "name": "stderr",
     "output_type": "stream",
     "text": [
      "100%|██████████| 52/52 [00:00<00:00, 267.56it/s]\n"
     ]
    },
    {
     "name": "stdout",
     "output_type": "stream",
     "text": [
      "--- 0.20836973190307617 seconds for solution baseline ---\n",
      "initial solution\n"
     ]
    },
    {
     "name": "stderr",
     "output_type": "stream",
     "text": [
      "100%|██████████| 52/52 [00:00<00:00, 283.84it/s]"
     ]
    },
    {
     "name": "stdout",
     "output_type": "stream",
     "text": [
      "--- 0.19446039199829102 seconds for solution baseline ---\n"
     ]
    },
    {
     "name": "stderr",
     "output_type": "stream",
     "text": [
      "\n"
     ]
    },
    {
     "name": "stdout",
     "output_type": "stream",
     "text": [
      "initial solution\n"
     ]
    },
    {
     "name": "stderr",
     "output_type": "stream",
     "text": [
      "100%|██████████| 53/53 [00:00<00:00, 263.90it/s]"
     ]
    },
    {
     "name": "stdout",
     "output_type": "stream",
     "text": [
      "--- 0.21286392211914062 seconds for solution baseline ---\n"
     ]
    },
    {
     "name": "stderr",
     "output_type": "stream",
     "text": [
      "\n"
     ]
    },
    {
     "name": "stdout",
     "output_type": "stream",
     "text": [
      "initial solution\n"
     ]
    },
    {
     "name": "stderr",
     "output_type": "stream",
     "text": [
      "100%|██████████| 53/53 [00:00<00:00, 289.09it/s]"
     ]
    },
    {
     "name": "stdout",
     "output_type": "stream",
     "text": [
      "--- 0.1956784725189209 seconds for solution baseline ---\n"
     ]
    },
    {
     "name": "stderr",
     "output_type": "stream",
     "text": [
      "\n"
     ]
    },
    {
     "name": "stdout",
     "output_type": "stream",
     "text": [
      "initial solution\n"
     ]
    },
    {
     "name": "stderr",
     "output_type": "stream",
     "text": [
      "100%|██████████| 53/53 [00:00<00:00, 271.68it/s]"
     ]
    },
    {
     "name": "stdout",
     "output_type": "stream",
     "text": [
      "--- 0.20626306533813477 seconds for solution baseline ---\n"
     ]
    },
    {
     "name": "stderr",
     "output_type": "stream",
     "text": [
      "\n"
     ]
    },
    {
     "name": "stdout",
     "output_type": "stream",
     "text": [
      "initial solution\n"
     ]
    },
    {
     "name": "stderr",
     "output_type": "stream",
     "text": [
      "100%|██████████| 53/53 [00:00<00:00, 304.54it/s]"
     ]
    },
    {
     "name": "stdout",
     "output_type": "stream",
     "text": [
      "--- 0.18583297729492188 seconds for solution baseline ---\n",
      "initial solution\n"
     ]
    },
    {
     "name": "stderr",
     "output_type": "stream",
     "text": [
      "\n",
      "100%|██████████| 53/53 [00:00<00:00, 286.22it/s]\n"
     ]
    },
    {
     "name": "stdout",
     "output_type": "stream",
     "text": [
      "--- 0.19729399681091309 seconds for solution baseline ---\n",
      "initial solution\n"
     ]
    },
    {
     "name": "stderr",
     "output_type": "stream",
     "text": [
      "100%|██████████| 53/53 [00:00<00:00, 300.55it/s]\n"
     ]
    },
    {
     "name": "stdout",
     "output_type": "stream",
     "text": [
      "--- 0.18732833862304688 seconds for solution baseline ---\n",
      "initial solution\n"
     ]
    },
    {
     "name": "stderr",
     "output_type": "stream",
     "text": [
      "100%|██████████| 53/53 [00:00<00:00, 265.93it/s]\n"
     ]
    },
    {
     "name": "stdout",
     "output_type": "stream",
     "text": [
      "--- 0.21110749244689941 seconds for solution baseline ---\n",
      "initial solution\n"
     ]
    },
    {
     "name": "stderr",
     "output_type": "stream",
     "text": [
      "100%|██████████| 53/53 [00:00<00:00, 280.37it/s]\n"
     ]
    },
    {
     "name": "stdout",
     "output_type": "stream",
     "text": [
      "--- 0.2027759552001953 seconds for solution baseline ---\n",
      "initial solution\n"
     ]
    },
    {
     "name": "stderr",
     "output_type": "stream",
     "text": [
      "100%|██████████| 53/53 [00:00<00:00, 297.27it/s]\n"
     ]
    },
    {
     "name": "stdout",
     "output_type": "stream",
     "text": [
      "--- 0.18889617919921875 seconds for solution baseline ---\n",
      "initial solution\n"
     ]
    },
    {
     "name": "stderr",
     "output_type": "stream",
     "text": [
      "100%|██████████| 53/53 [00:00<00:00, 251.90it/s]\n"
     ]
    },
    {
     "name": "stdout",
     "output_type": "stream",
     "text": [
      "--- 0.22363805770874023 seconds for solution baseline ---\n",
      "initial solution\n"
     ]
    },
    {
     "name": "stderr",
     "output_type": "stream",
     "text": [
      "100%|██████████| 54/54 [00:00<00:00, 271.17it/s]\n"
     ]
    },
    {
     "name": "stdout",
     "output_type": "stream",
     "text": [
      "--- 0.21127009391784668 seconds for solution baseline ---\n",
      "initial solution\n"
     ]
    },
    {
     "name": "stderr",
     "output_type": "stream",
     "text": [
      "100%|██████████| 54/54 [00:00<00:00, 264.34it/s]\n"
     ]
    },
    {
     "name": "stdout",
     "output_type": "stream",
     "text": [
      "--- 0.33977293968200684 seconds for solution baseline ---\n",
      "initial solution\n"
     ]
    },
    {
     "name": "stderr",
     "output_type": "stream",
     "text": [
      "100%|██████████| 54/54 [00:00<00:00, 253.21it/s]\n"
     ]
    },
    {
     "name": "stdout",
     "output_type": "stream",
     "text": [
      "--- 0.22550678253173828 seconds for solution baseline ---\n",
      "initial solution\n"
     ]
    },
    {
     "name": "stderr",
     "output_type": "stream",
     "text": [
      "100%|██████████| 54/54 [00:00<00:00, 260.84it/s]\n"
     ]
    },
    {
     "name": "stdout",
     "output_type": "stream",
     "text": [
      "--- 0.21769309043884277 seconds for solution baseline ---\n",
      "initial solution\n"
     ]
    },
    {
     "name": "stderr",
     "output_type": "stream",
     "text": [
      "100%|██████████| 54/54 [00:00<00:00, 246.67it/s]\n"
     ]
    },
    {
     "name": "stdout",
     "output_type": "stream",
     "text": [
      "--- 0.23142671585083008 seconds for solution baseline ---\n",
      "initial solution\n"
     ]
    },
    {
     "name": "stderr",
     "output_type": "stream",
     "text": [
      "100%|██████████| 54/54 [00:00<00:00, 247.77it/s]\n"
     ]
    },
    {
     "name": "stdout",
     "output_type": "stream",
     "text": [
      "--- 0.2293100357055664 seconds for solution baseline ---\n",
      "initial solution\n"
     ]
    },
    {
     "name": "stderr",
     "output_type": "stream",
     "text": [
      "100%|██████████| 54/54 [00:00<00:00, 274.74it/s]\n"
     ]
    },
    {
     "name": "stdout",
     "output_type": "stream",
     "text": [
      "--- 0.2082691192626953 seconds for solution baseline ---\n",
      "initial solution\n"
     ]
    },
    {
     "name": "stderr",
     "output_type": "stream",
     "text": [
      "100%|██████████| 54/54 [00:00<00:00, 250.73it/s]\n"
     ]
    },
    {
     "name": "stdout",
     "output_type": "stream",
     "text": [
      "--- 0.22617888450622559 seconds for solution baseline ---\n",
      "initial solution\n"
     ]
    },
    {
     "name": "stderr",
     "output_type": "stream",
     "text": [
      "100%|██████████| 54/54 [00:00<00:00, 215.99it/s]\n"
     ]
    },
    {
     "name": "stdout",
     "output_type": "stream",
     "text": [
      "--- 0.2679567337036133 seconds for solution baseline ---\n",
      "initial solution\n"
     ]
    },
    {
     "name": "stderr",
     "output_type": "stream",
     "text": [
      "100%|██████████| 54/54 [00:00<00:00, 266.78it/s]"
     ]
    },
    {
     "name": "stdout",
     "output_type": "stream",
     "text": [
      "--- 0.21613049507141113 seconds for solution baseline ---\n"
     ]
    },
    {
     "name": "stderr",
     "output_type": "stream",
     "text": [
      "\n"
     ]
    },
    {
     "name": "stdout",
     "output_type": "stream",
     "text": [
      "initial solution\n"
     ]
    },
    {
     "name": "stderr",
     "output_type": "stream",
     "text": [
      "100%|██████████| 55/55 [00:00<00:00, 260.43it/s]\n"
     ]
    },
    {
     "name": "stdout",
     "output_type": "stream",
     "text": [
      "--- 0.22480201721191406 seconds for solution baseline ---\n",
      "initial solution\n"
     ]
    },
    {
     "name": "stderr",
     "output_type": "stream",
     "text": [
      "100%|██████████| 55/55 [00:00<00:00, 235.88it/s]\n"
     ]
    },
    {
     "name": "stdout",
     "output_type": "stream",
     "text": [
      "--- 0.24626827239990234 seconds for solution baseline ---\n",
      "initial solution\n"
     ]
    },
    {
     "name": "stderr",
     "output_type": "stream",
     "text": [
      "100%|██████████| 55/55 [00:00<00:00, 195.70it/s]\n"
     ]
    },
    {
     "name": "stdout",
     "output_type": "stream",
     "text": [
      "--- 0.2927083969116211 seconds for solution baseline ---\n",
      "initial solution\n"
     ]
    },
    {
     "name": "stderr",
     "output_type": "stream",
     "text": [
      "100%|██████████| 55/55 [00:00<00:00, 233.55it/s]\n"
     ]
    },
    {
     "name": "stdout",
     "output_type": "stream",
     "text": [
      "--- 0.2496793270111084 seconds for solution baseline ---\n",
      "initial solution\n"
     ]
    },
    {
     "name": "stderr",
     "output_type": "stream",
     "text": [
      "100%|██████████| 55/55 [00:00<00:00, 246.40it/s]\n"
     ]
    },
    {
     "name": "stdout",
     "output_type": "stream",
     "text": [
      "--- 0.23644328117370605 seconds for solution baseline ---\n",
      "initial solution\n"
     ]
    },
    {
     "name": "stderr",
     "output_type": "stream",
     "text": [
      "100%|██████████| 55/55 [00:00<00:00, 263.96it/s]\n"
     ]
    },
    {
     "name": "stdout",
     "output_type": "stream",
     "text": [
      "--- 0.3738269805908203 seconds for solution baseline ---\n",
      "initial solution\n"
     ]
    },
    {
     "name": "stderr",
     "output_type": "stream",
     "text": [
      "100%|██████████| 55/55 [00:00<00:00, 251.53it/s]\n"
     ]
    },
    {
     "name": "stdout",
     "output_type": "stream",
     "text": [
      "--- 0.22985553741455078 seconds for solution baseline ---\n",
      "initial solution\n"
     ]
    },
    {
     "name": "stderr",
     "output_type": "stream",
     "text": [
      "100%|██████████| 55/55 [00:00<00:00, 248.43it/s]\n"
     ]
    },
    {
     "name": "stdout",
     "output_type": "stream",
     "text": [
      "--- 0.2331712245941162 seconds for solution baseline ---\n",
      "initial solution\n"
     ]
    },
    {
     "name": "stderr",
     "output_type": "stream",
     "text": [
      "100%|██████████| 55/55 [00:00<00:00, 242.25it/s]\n"
     ]
    },
    {
     "name": "stdout",
     "output_type": "stream",
     "text": [
      "--- 0.2390727996826172 seconds for solution baseline ---\n",
      "initial solution\n"
     ]
    },
    {
     "name": "stderr",
     "output_type": "stream",
     "text": [
      "100%|██████████| 55/55 [00:00<00:00, 234.26it/s]\n"
     ]
    },
    {
     "name": "stdout",
     "output_type": "stream",
     "text": [
      "--- 0.24714303016662598 seconds for solution baseline ---\n",
      "initial solution\n"
     ]
    },
    {
     "name": "stderr",
     "output_type": "stream",
     "text": [
      "100%|██████████| 56/56 [00:00<00:00, 252.79it/s]\n"
     ]
    },
    {
     "name": "stdout",
     "output_type": "stream",
     "text": [
      "--- 0.2329411506652832 seconds for solution baseline ---\n",
      "initial solution\n"
     ]
    },
    {
     "name": "stderr",
     "output_type": "stream",
     "text": [
      " 84%|████████▍ | 47/56 [00:00<00:00, 226.33it/s]\n"
     ]
    },
    {
     "ename": "KeyboardInterrupt",
     "evalue": "",
     "output_type": "error",
     "traceback": [
      "\u001b[1;31m---------------------------------------------------------------------------\u001b[0m",
      "\u001b[1;31mKeyboardInterrupt\u001b[0m                         Traceback (most recent call last)",
      "Cell \u001b[1;32mIn[113], line 1\u001b[0m\n\u001b[1;32m----> 1\u001b[0m resultats_greedy \u001b[38;5;241m=\u001b[39m \u001b[43mmeasure_range\u001b[49m\u001b[43m(\u001b[49m\u001b[43mmain_greedy\u001b[49m\u001b[43m,\u001b[49m\u001b[43m \u001b[49m\u001b[43mmake_problems\u001b[49m\u001b[43m(\u001b[49m\u001b[43m[\u001b[49m\u001b[43mx\u001b[49m\u001b[43m \u001b[49m\u001b[38;5;28;43;01mfor\u001b[39;49;00m\u001b[43m \u001b[49m\u001b[43mx\u001b[49m\u001b[43m \u001b[49m\u001b[38;5;129;43;01min\u001b[39;49;00m\u001b[43m \u001b[49m\u001b[38;5;28;43mrange\u001b[39;49m\u001b[43m(\u001b[49m\u001b[38;5;241;43m11\u001b[39;49m\u001b[43m,\u001b[49m\u001b[43m \u001b[49m\u001b[38;5;241;43m61\u001b[39;49m\u001b[43m)\u001b[49m\u001b[43m]\u001b[49m\u001b[43m,\u001b[49m\u001b[43m \u001b[49m\u001b[38;5;241;43m10\u001b[39;49m\u001b[43m)\u001b[49m\u001b[43m)\u001b[49m\n\u001b[0;32m      3\u001b[0m display_data_as_table(resultats_greedy)\n",
      "Cell \u001b[1;32mIn[84], line 136\u001b[0m, in \u001b[0;36mmeasure_range\u001b[1;34m(procedure, problems, time_scale)\u001b[0m\n\u001b[0;32m    125\u001b[0m \u001b[38;5;28;01mdef\u001b[39;00m \u001b[38;5;21mmeasure_range\u001b[39m(procedure: Callable[[\u001b[38;5;28mlist\u001b[39m[\u001b[38;5;28mlist\u001b[39m[\u001b[38;5;28mint\u001b[39m]]],\u001b[38;5;28mlist\u001b[39m[\u001b[38;5;28mlist\u001b[39m[\u001b[38;5;28mtuple\u001b[39m[\u001b[38;5;28mint\u001b[39m,\u001b[38;5;28mint\u001b[39m]]]], problems: \u001b[38;5;28mlist\u001b[39m[Problem], time_scale: \u001b[38;5;28mint\u001b[39m \u001b[38;5;241m=\u001b[39m \u001b[38;5;241m1000\u001b[39m) \u001b[38;5;241m-\u001b[39m\u001b[38;5;241m>\u001b[39m \u001b[38;5;28mlist\u001b[39m[Measure]:\n\u001b[0;32m    126\u001b[0m \u001b[38;5;250m    \u001b[39m\u001b[38;5;124;03m\"\"\"Measures the mean time taken for each problem in the given list.\u001b[39;00m\n\u001b[0;32m    127\u001b[0m \n\u001b[0;32m    128\u001b[0m \u001b[38;5;124;03m    Raises:\u001b[39;00m\n\u001b[1;32m   (...)\u001b[0m\n\u001b[0;32m    133\u001b[0m \u001b[38;5;124;03m        of the problem as well as the mean time and the score.\u001b[39;00m\n\u001b[0;32m    134\u001b[0m \u001b[38;5;124;03m    \"\"\"\u001b[39;00m\n\u001b[0;32m    135\u001b[0m     \u001b[38;5;28;01mreturn\u001b[39;00m [\n\u001b[1;32m--> 136\u001b[0m         \u001b[43mmeasure_mean\u001b[49m\u001b[43m(\u001b[49m\u001b[43mprocedure\u001b[49m\u001b[43m,\u001b[49m\u001b[43m \u001b[49m\u001b[43mprob\u001b[49m\u001b[43m,\u001b[49m\u001b[43m \u001b[49m\u001b[43mtime_scale\u001b[49m\u001b[43m)\u001b[49m\n\u001b[0;32m    137\u001b[0m         \u001b[38;5;28;01mfor\u001b[39;00m prob \u001b[38;5;129;01min\u001b[39;00m problems\n\u001b[0;32m    138\u001b[0m     ]\n",
      "Cell \u001b[1;32mIn[84], line 120\u001b[0m, in \u001b[0;36mmeasure_mean\u001b[1;34m(procedure, prob, time_scale)\u001b[0m\n\u001b[0;32m    113\u001b[0m \u001b[38;5;28;01mdef\u001b[39;00m \u001b[38;5;21mmeasure_mean\u001b[39m(procedure: Callable[[\u001b[38;5;28mlist\u001b[39m[\u001b[38;5;28mlist\u001b[39m[\u001b[38;5;28mint\u001b[39m]]],\u001b[38;5;28mlist\u001b[39m[\u001b[38;5;28mlist\u001b[39m[\u001b[38;5;28mtuple\u001b[39m[\u001b[38;5;28mint\u001b[39m,\u001b[38;5;28mint\u001b[39m]]]], prob: Problem, time_scale: \u001b[38;5;28mint\u001b[39m \u001b[38;5;241m=\u001b[39m \u001b[38;5;241m1000\u001b[39m) \u001b[38;5;241m-\u001b[39m\u001b[38;5;241m>\u001b[39m Measure:\n\u001b[0;32m    114\u001b[0m \u001b[38;5;250m    \u001b[39m\u001b[38;5;124;03m\"\"\"Generates multiple samples with the specified parameters and returns a Measure \u001b[39;00m\n\u001b[0;32m    115\u001b[0m \u001b[38;5;124;03m    instance representing the result as well as the problem.\u001b[39;00m\n\u001b[0;32m    116\u001b[0m \n\u001b[0;32m    117\u001b[0m \u001b[38;5;124;03m    Raises:\u001b[39;00m\n\u001b[0;32m    118\u001b[0m \u001b[38;5;124;03m        InvalidSolution: If one of the samples results in an invalid solution.\u001b[39;00m\n\u001b[0;32m    119\u001b[0m \u001b[38;5;124;03m    \"\"\"\u001b[39;00m\n\u001b[1;32m--> 120\u001b[0m     results \u001b[38;5;241m=\u001b[39m [\u001b[43mmeasure\u001b[49m\u001b[43m(\u001b[49m\u001b[43mprocedure\u001b[49m\u001b[43m,\u001b[49m\u001b[43msample\u001b[49m\u001b[43m,\u001b[49m\u001b[43mtime_scale\u001b[49m\u001b[43m)\u001b[49m \u001b[38;5;28;01mfor\u001b[39;00m sample \u001b[38;5;129;01min\u001b[39;00m prob\u001b[38;5;241m.\u001b[39mgenerate_dataset()]\n\u001b[0;32m    121\u001b[0m     mean_time \u001b[38;5;241m=\u001b[39m \u001b[38;5;28msum\u001b[39m(result[\u001b[38;5;241m0\u001b[39m] \u001b[38;5;28;01mfor\u001b[39;00m result \u001b[38;5;129;01min\u001b[39;00m results) \u001b[38;5;241m/\u001b[39m prob\u001b[38;5;241m.\u001b[39mnum_samples\n\u001b[0;32m    122\u001b[0m     mean_score \u001b[38;5;241m=\u001b[39m \u001b[38;5;28msum\u001b[39m(result[\u001b[38;5;241m1\u001b[39m] \u001b[38;5;28;01mfor\u001b[39;00m result \u001b[38;5;129;01min\u001b[39;00m results) \u001b[38;5;241m/\u001b[39m prob\u001b[38;5;241m.\u001b[39mnum_samples\n",
      "Cell \u001b[1;32mIn[84], line 107\u001b[0m, in \u001b[0;36mmeasure\u001b[1;34m(procedure, sample, time_scale)\u001b[0m\n\u001b[0;32m     98\u001b[0m \u001b[38;5;250m\u001b[39m\u001b[38;5;124;03m\"\"\"Returns a tuple containing the time as well as the score of the solution, in that order.\u001b[39;00m\n\u001b[0;32m     99\u001b[0m \u001b[38;5;124;03m\u001b[39;00m\n\u001b[0;32m    100\u001b[0m \u001b[38;5;124;03mParameters:\u001b[39;00m\n\u001b[1;32m   (...)\u001b[0m\n\u001b[0;32m    104\u001b[0m \u001b[38;5;124;03m    InvalidSolution: If the procedure returns an invalid solution, raises an exception.\u001b[39;00m\n\u001b[0;32m    105\u001b[0m \u001b[38;5;124;03m\"\"\"\u001b[39;00m\n\u001b[0;32m    106\u001b[0m start: \u001b[38;5;28mint\u001b[39m \u001b[38;5;241m=\u001b[39m time\u001b[38;5;241m.\u001b[39mtime() \u001b[38;5;241m*\u001b[39m time_scale\n\u001b[1;32m--> 107\u001b[0m solution: \u001b[38;5;28mlist\u001b[39m[\u001b[38;5;28mint\u001b[39m] \u001b[38;5;241m=\u001b[39m \u001b[43mprocedure\u001b[49m\u001b[43m(\u001b[49m\u001b[43msample\u001b[49m\u001b[43m)\u001b[49m\n\u001b[0;32m    108\u001b[0m end: \u001b[38;5;28mint\u001b[39m \u001b[38;5;241m=\u001b[39m time\u001b[38;5;241m.\u001b[39mtime() \u001b[38;5;241m*\u001b[39m time_scale\n\u001b[0;32m    109\u001b[0m \u001b[38;5;28;01mif\u001b[39;00m \u001b[38;5;129;01mnot\u001b[39;00m is_valid_solution(sample, solution):\n",
      "Cell \u001b[1;32mIn[112], line 9\u001b[0m, in \u001b[0;36mmain_greedy\u001b[1;34m(sample)\u001b[0m\n\u001b[0;32m      7\u001b[0m counties \u001b[38;5;241m=\u001b[39m set_counties(sample)\n\u001b[0;32m      8\u001b[0m \u001b[38;5;28mprint\u001b[39m(\u001b[38;5;124m'\u001b[39m\u001b[38;5;124minitial solution\u001b[39m\u001b[38;5;124m'\u001b[39m)\n\u001b[1;32m----> 9\u001b[0m sol, groups \u001b[38;5;241m=\u001b[39m \u001b[43mmax_to_target\u001b[49m\u001b[43m(\u001b[49m\u001b[43mcounties\u001b[49m\u001b[43m,\u001b[49m\u001b[43m \u001b[49m\u001b[43mtarget\u001b[49m\u001b[43m,\u001b[49m\u001b[43m \u001b[49m\u001b[43mn\u001b[49m\u001b[43m)\u001b[49m\n\u001b[0;32m     10\u001b[0m \u001b[38;5;28mprint\u001b[39m(\u001b[38;5;124m\"\u001b[39m\u001b[38;5;124m--- \u001b[39m\u001b[38;5;132;01m%s\u001b[39;00m\u001b[38;5;124m seconds for solution baseline ---\u001b[39m\u001b[38;5;124m\"\u001b[39m \u001b[38;5;241m%\u001b[39m (time\u001b[38;5;241m.\u001b[39mtime() \u001b[38;5;241m-\u001b[39m start_time))\n\u001b[0;32m     11\u001b[0m \u001b[38;5;28;01mreturn\u001b[39;00m sol\n",
      "Cell \u001b[1;32mIn[87], line 11\u001b[0m, in \u001b[0;36mmax_to_target\u001b[1;34m(counties, target, n)\u001b[0m\n\u001b[0;32m      9\u001b[0m center_row \u001b[38;5;241m=\u001b[39m \u001b[38;5;241m0\u001b[39m\n\u001b[0;32m     10\u001b[0m center_col \u001b[38;5;241m=\u001b[39m \u001b[38;5;241m0\u001b[39m\n\u001b[1;32m---> 11\u001b[0m \u001b[43m\u001b[49m\u001b[38;5;28;43;01mfor\u001b[39;49;00m\u001b[43m \u001b[49m\u001b[43mgroup_id\u001b[49m\u001b[43m \u001b[49m\u001b[38;5;129;43;01min\u001b[39;49;00m\u001b[43m \u001b[49m\u001b[43mtrange\u001b[49m\u001b[43m(\u001b[49m\u001b[43mn\u001b[49m\u001b[43m)\u001b[49m\u001b[43m:\u001b[49m\n\u001b[0;32m     12\u001b[0m \u001b[43m    \u001b[49m\u001b[43mnew_group\u001b[49m\u001b[43m \u001b[49m\u001b[38;5;241;43m=\u001b[39;49m\u001b[43m \u001b[49m\u001b[43m[\u001b[49m\u001b[43m]\u001b[49m\n\u001b[0;32m     13\u001b[0m \u001b[43m    \u001b[49m\u001b[43mnumber_items\u001b[49m\u001b[43m \u001b[49m\u001b[38;5;241;43m=\u001b[39;49m\u001b[43m \u001b[49m\u001b[38;5;241;43m0\u001b[39;49m\n",
      "File \u001b[1;32mc:\\Users\\gabco\\.conda\\envs\\INF8775\\Lib\\site-packages\\tqdm\\std.py:1191\u001b[0m, in \u001b[0;36mtqdm.__iter__\u001b[1;34m(self)\u001b[0m\n\u001b[0;32m   1189\u001b[0m dt \u001b[38;5;241m=\u001b[39m cur_t \u001b[38;5;241m-\u001b[39m last_print_t\n\u001b[0;32m   1190\u001b[0m \u001b[38;5;28;01mif\u001b[39;00m dt \u001b[38;5;241m>\u001b[39m\u001b[38;5;241m=\u001b[39m mininterval \u001b[38;5;129;01mand\u001b[39;00m cur_t \u001b[38;5;241m>\u001b[39m\u001b[38;5;241m=\u001b[39m min_start_t:\n\u001b[1;32m-> 1191\u001b[0m     \u001b[38;5;28;43mself\u001b[39;49m\u001b[38;5;241;43m.\u001b[39;49m\u001b[43mupdate\u001b[49m\u001b[43m(\u001b[49m\u001b[43mn\u001b[49m\u001b[43m \u001b[49m\u001b[38;5;241;43m-\u001b[39;49m\u001b[43m \u001b[49m\u001b[43mlast_print_n\u001b[49m\u001b[43m)\u001b[49m\n\u001b[0;32m   1192\u001b[0m     last_print_n \u001b[38;5;241m=\u001b[39m \u001b[38;5;28mself\u001b[39m\u001b[38;5;241m.\u001b[39mlast_print_n\n\u001b[0;32m   1193\u001b[0m     last_print_t \u001b[38;5;241m=\u001b[39m \u001b[38;5;28mself\u001b[39m\u001b[38;5;241m.\u001b[39mlast_print_t\n",
      "File \u001b[1;32mc:\\Users\\gabco\\.conda\\envs\\INF8775\\Lib\\site-packages\\tqdm\\std.py:1242\u001b[0m, in \u001b[0;36mtqdm.update\u001b[1;34m(self, n)\u001b[0m\n\u001b[0;32m   1240\u001b[0m     \u001b[38;5;28mself\u001b[39m\u001b[38;5;241m.\u001b[39m_ema_dn(dn)\n\u001b[0;32m   1241\u001b[0m     \u001b[38;5;28mself\u001b[39m\u001b[38;5;241m.\u001b[39m_ema_dt(dt)\n\u001b[1;32m-> 1242\u001b[0m \u001b[38;5;28;43mself\u001b[39;49m\u001b[38;5;241;43m.\u001b[39;49m\u001b[43mrefresh\u001b[49m\u001b[43m(\u001b[49m\u001b[43mlock_args\u001b[49m\u001b[38;5;241;43m=\u001b[39;49m\u001b[38;5;28;43mself\u001b[39;49m\u001b[38;5;241;43m.\u001b[39;49m\u001b[43mlock_args\u001b[49m\u001b[43m)\u001b[49m\n\u001b[0;32m   1243\u001b[0m \u001b[38;5;28;01mif\u001b[39;00m \u001b[38;5;28mself\u001b[39m\u001b[38;5;241m.\u001b[39mdynamic_miniters:\n\u001b[0;32m   1244\u001b[0m     \u001b[38;5;66;03m# If no `miniters` was specified, adjust automatically to the\u001b[39;00m\n\u001b[0;32m   1245\u001b[0m     \u001b[38;5;66;03m# maximum iteration rate seen so far between two prints.\u001b[39;00m\n\u001b[0;32m   1246\u001b[0m     \u001b[38;5;66;03m# e.g.: After running `tqdm.update(5)`, subsequent\u001b[39;00m\n\u001b[0;32m   1247\u001b[0m     \u001b[38;5;66;03m# calls to `tqdm.update()` will only cause an update after\u001b[39;00m\n\u001b[0;32m   1248\u001b[0m     \u001b[38;5;66;03m# at least 5 more iterations.\u001b[39;00m\n\u001b[0;32m   1249\u001b[0m     \u001b[38;5;28;01mif\u001b[39;00m \u001b[38;5;28mself\u001b[39m\u001b[38;5;241m.\u001b[39mmaxinterval \u001b[38;5;129;01mand\u001b[39;00m dt \u001b[38;5;241m>\u001b[39m\u001b[38;5;241m=\u001b[39m \u001b[38;5;28mself\u001b[39m\u001b[38;5;241m.\u001b[39mmaxinterval:\n",
      "File \u001b[1;32mc:\\Users\\gabco\\.conda\\envs\\INF8775\\Lib\\site-packages\\tqdm\\std.py:1347\u001b[0m, in \u001b[0;36mtqdm.refresh\u001b[1;34m(self, nolock, lock_args)\u001b[0m\n\u001b[0;32m   1345\u001b[0m     \u001b[38;5;28;01melse\u001b[39;00m:\n\u001b[0;32m   1346\u001b[0m         \u001b[38;5;28mself\u001b[39m\u001b[38;5;241m.\u001b[39m_lock\u001b[38;5;241m.\u001b[39macquire()\n\u001b[1;32m-> 1347\u001b[0m \u001b[38;5;28;43mself\u001b[39;49m\u001b[38;5;241;43m.\u001b[39;49m\u001b[43mdisplay\u001b[49m\u001b[43m(\u001b[49m\u001b[43m)\u001b[49m\n\u001b[0;32m   1348\u001b[0m \u001b[38;5;28;01mif\u001b[39;00m \u001b[38;5;129;01mnot\u001b[39;00m nolock:\n\u001b[0;32m   1349\u001b[0m     \u001b[38;5;28mself\u001b[39m\u001b[38;5;241m.\u001b[39m_lock\u001b[38;5;241m.\u001b[39mrelease()\n",
      "File \u001b[1;32mc:\\Users\\gabco\\.conda\\envs\\INF8775\\Lib\\site-packages\\tqdm\\std.py:1495\u001b[0m, in \u001b[0;36mtqdm.display\u001b[1;34m(self, msg, pos)\u001b[0m\n\u001b[0;32m   1493\u001b[0m \u001b[38;5;28;01mif\u001b[39;00m pos:\n\u001b[0;32m   1494\u001b[0m     \u001b[38;5;28mself\u001b[39m\u001b[38;5;241m.\u001b[39mmoveto(pos)\n\u001b[1;32m-> 1495\u001b[0m \u001b[38;5;28;43mself\u001b[39;49m\u001b[38;5;241;43m.\u001b[39;49m\u001b[43msp\u001b[49m\u001b[43m(\u001b[49m\u001b[38;5;28;43mself\u001b[39;49m\u001b[38;5;241;43m.\u001b[39;49m\u001b[38;5;21;43m__str__\u001b[39;49m\u001b[43m(\u001b[49m\u001b[43m)\u001b[49m\u001b[43m \u001b[49m\u001b[38;5;28;43;01mif\u001b[39;49;00m\u001b[43m \u001b[49m\u001b[43mmsg\u001b[49m\u001b[43m \u001b[49m\u001b[38;5;129;43;01mis\u001b[39;49;00m\u001b[43m \u001b[49m\u001b[38;5;28;43;01mNone\u001b[39;49;00m\u001b[43m \u001b[49m\u001b[38;5;28;43;01melse\u001b[39;49;00m\u001b[43m \u001b[49m\u001b[43mmsg\u001b[49m\u001b[43m)\u001b[49m\n\u001b[0;32m   1496\u001b[0m \u001b[38;5;28;01mif\u001b[39;00m pos:\n\u001b[0;32m   1497\u001b[0m     \u001b[38;5;28mself\u001b[39m\u001b[38;5;241m.\u001b[39mmoveto(\u001b[38;5;241m-\u001b[39mpos)\n",
      "File \u001b[1;32mc:\\Users\\gabco\\.conda\\envs\\INF8775\\Lib\\site-packages\\tqdm\\std.py:459\u001b[0m, in \u001b[0;36mtqdm.status_printer.<locals>.print_status\u001b[1;34m(s)\u001b[0m\n\u001b[0;32m    457\u001b[0m \u001b[38;5;28;01mdef\u001b[39;00m \u001b[38;5;21mprint_status\u001b[39m(s):\n\u001b[0;32m    458\u001b[0m     len_s \u001b[38;5;241m=\u001b[39m disp_len(s)\n\u001b[1;32m--> 459\u001b[0m     \u001b[43mfp_write\u001b[49m\u001b[43m(\u001b[49m\u001b[38;5;124;43m'\u001b[39;49m\u001b[38;5;130;43;01m\\r\u001b[39;49;00m\u001b[38;5;124;43m'\u001b[39;49m\u001b[43m \u001b[49m\u001b[38;5;241;43m+\u001b[39;49m\u001b[43m \u001b[49m\u001b[43ms\u001b[49m\u001b[43m \u001b[49m\u001b[38;5;241;43m+\u001b[39;49m\u001b[43m \u001b[49m\u001b[43m(\u001b[49m\u001b[38;5;124;43m'\u001b[39;49m\u001b[38;5;124;43m \u001b[39;49m\u001b[38;5;124;43m'\u001b[39;49m\u001b[43m \u001b[49m\u001b[38;5;241;43m*\u001b[39;49m\u001b[43m \u001b[49m\u001b[38;5;28;43mmax\u001b[39;49m\u001b[43m(\u001b[49m\u001b[43mlast_len\u001b[49m\u001b[43m[\u001b[49m\u001b[38;5;241;43m0\u001b[39;49m\u001b[43m]\u001b[49m\u001b[43m \u001b[49m\u001b[38;5;241;43m-\u001b[39;49m\u001b[43m \u001b[49m\u001b[43mlen_s\u001b[49m\u001b[43m,\u001b[49m\u001b[43m \u001b[49m\u001b[38;5;241;43m0\u001b[39;49m\u001b[43m)\u001b[49m\u001b[43m)\u001b[49m\u001b[43m)\u001b[49m\n\u001b[0;32m    460\u001b[0m     last_len[\u001b[38;5;241m0\u001b[39m] \u001b[38;5;241m=\u001b[39m len_s\n",
      "File \u001b[1;32mc:\\Users\\gabco\\.conda\\envs\\INF8775\\Lib\\site-packages\\tqdm\\std.py:452\u001b[0m, in \u001b[0;36mtqdm.status_printer.<locals>.fp_write\u001b[1;34m(s)\u001b[0m\n\u001b[0;32m    451\u001b[0m \u001b[38;5;28;01mdef\u001b[39;00m \u001b[38;5;21mfp_write\u001b[39m(s):\n\u001b[1;32m--> 452\u001b[0m     \u001b[43mfp\u001b[49m\u001b[38;5;241;43m.\u001b[39;49m\u001b[43mwrite\u001b[49m\u001b[43m(\u001b[49m\u001b[38;5;28;43mstr\u001b[39;49m\u001b[43m(\u001b[49m\u001b[43ms\u001b[49m\u001b[43m)\u001b[49m\u001b[43m)\u001b[49m\n\u001b[0;32m    453\u001b[0m     fp_flush()\n",
      "File \u001b[1;32mc:\\Users\\gabco\\.conda\\envs\\INF8775\\Lib\\site-packages\\tqdm\\utils.py:196\u001b[0m, in \u001b[0;36mDisableOnWriteError.disable_on_exception.<locals>.inner\u001b[1;34m(*args, **kwargs)\u001b[0m\n\u001b[0;32m    194\u001b[0m \u001b[38;5;28;01mdef\u001b[39;00m \u001b[38;5;21minner\u001b[39m(\u001b[38;5;241m*\u001b[39margs, \u001b[38;5;241m*\u001b[39m\u001b[38;5;241m*\u001b[39mkwargs):\n\u001b[0;32m    195\u001b[0m     \u001b[38;5;28;01mtry\u001b[39;00m:\n\u001b[1;32m--> 196\u001b[0m         \u001b[38;5;28;01mreturn\u001b[39;00m \u001b[43mfunc\u001b[49m\u001b[43m(\u001b[49m\u001b[38;5;241;43m*\u001b[39;49m\u001b[43margs\u001b[49m\u001b[43m,\u001b[49m\u001b[43m \u001b[49m\u001b[38;5;241;43m*\u001b[39;49m\u001b[38;5;241;43m*\u001b[39;49m\u001b[43mkwargs\u001b[49m\u001b[43m)\u001b[49m\n\u001b[0;32m    197\u001b[0m     \u001b[38;5;28;01mexcept\u001b[39;00m \u001b[38;5;167;01mOSError\u001b[39;00m \u001b[38;5;28;01mas\u001b[39;00m e:\n\u001b[0;32m    198\u001b[0m         \u001b[38;5;28;01mif\u001b[39;00m e\u001b[38;5;241m.\u001b[39merrno \u001b[38;5;241m!=\u001b[39m \u001b[38;5;241m5\u001b[39m:\n",
      "File \u001b[1;32mc:\\Users\\gabco\\.conda\\envs\\INF8775\\Lib\\site-packages\\ipykernel\\iostream.py:694\u001b[0m, in \u001b[0;36mOutStream.write\u001b[1;34m(self, string)\u001b[0m\n\u001b[0;32m    692\u001b[0m     \u001b[38;5;28mself\u001b[39m\u001b[38;5;241m.\u001b[39mpub_thread\u001b[38;5;241m.\u001b[39mschedule(\u001b[38;5;28mself\u001b[39m\u001b[38;5;241m.\u001b[39m_flush)\n\u001b[0;32m    693\u001b[0m \u001b[38;5;28;01melse\u001b[39;00m:\n\u001b[1;32m--> 694\u001b[0m     \u001b[38;5;28;43mself\u001b[39;49m\u001b[38;5;241;43m.\u001b[39;49m\u001b[43m_schedule_flush\u001b[49m\u001b[43m(\u001b[49m\u001b[43m)\u001b[49m\n\u001b[0;32m    696\u001b[0m \u001b[38;5;28;01mreturn\u001b[39;00m \u001b[38;5;28mlen\u001b[39m(string)\n",
      "File \u001b[1;32mc:\\Users\\gabco\\.conda\\envs\\INF8775\\Lib\\site-packages\\ipykernel\\iostream.py:590\u001b[0m, in \u001b[0;36mOutStream._schedule_flush\u001b[1;34m(self)\u001b[0m\n\u001b[0;32m    587\u001b[0m \u001b[38;5;28;01mdef\u001b[39;00m \u001b[38;5;21m_schedule_in_thread\u001b[39m():\n\u001b[0;32m    588\u001b[0m     \u001b[38;5;28mself\u001b[39m\u001b[38;5;241m.\u001b[39m_io_loop\u001b[38;5;241m.\u001b[39mcall_later(\u001b[38;5;28mself\u001b[39m\u001b[38;5;241m.\u001b[39mflush_interval, \u001b[38;5;28mself\u001b[39m\u001b[38;5;241m.\u001b[39m_flush)\n\u001b[1;32m--> 590\u001b[0m \u001b[38;5;28;43mself\u001b[39;49m\u001b[38;5;241;43m.\u001b[39;49m\u001b[43mpub_thread\u001b[49m\u001b[38;5;241;43m.\u001b[39;49m\u001b[43mschedule\u001b[49m\u001b[43m(\u001b[49m\u001b[43m_schedule_in_thread\u001b[49m\u001b[43m)\u001b[49m\n",
      "File \u001b[1;32mc:\\Users\\gabco\\.conda\\envs\\INF8775\\Lib\\site-packages\\ipykernel\\iostream.py:267\u001b[0m, in \u001b[0;36mIOPubThread.schedule\u001b[1;34m(self, f)\u001b[0m\n\u001b[0;32m    265\u001b[0m     \u001b[38;5;28mself\u001b[39m\u001b[38;5;241m.\u001b[39m_events\u001b[38;5;241m.\u001b[39mappend(f)\n\u001b[0;32m    266\u001b[0m     \u001b[38;5;66;03m# wake event thread (message content is ignored)\u001b[39;00m\n\u001b[1;32m--> 267\u001b[0m     \u001b[38;5;28;43mself\u001b[39;49m\u001b[38;5;241;43m.\u001b[39;49m\u001b[43m_event_pipe\u001b[49m\u001b[38;5;241;43m.\u001b[39;49m\u001b[43msend\u001b[49m\u001b[43m(\u001b[49m\u001b[38;5;124;43mb\u001b[39;49m\u001b[38;5;124;43m\"\u001b[39;49m\u001b[38;5;124;43m\"\u001b[39;49m\u001b[43m)\u001b[49m\n\u001b[0;32m    268\u001b[0m \u001b[38;5;28;01melse\u001b[39;00m:\n\u001b[0;32m    269\u001b[0m     f()\n",
      "File \u001b[1;32mc:\\Users\\gabco\\.conda\\envs\\INF8775\\Lib\\site-packages\\zmq\\sugar\\socket.py:701\u001b[0m, in \u001b[0;36mSocket.send\u001b[1;34m(self, data, flags, copy, track, routing_id, group)\u001b[0m\n\u001b[0;32m    694\u001b[0m         data \u001b[38;5;241m=\u001b[39m zmq\u001b[38;5;241m.\u001b[39mFrame(\n\u001b[0;32m    695\u001b[0m             data,\n\u001b[0;32m    696\u001b[0m             track\u001b[38;5;241m=\u001b[39mtrack,\n\u001b[0;32m    697\u001b[0m             copy\u001b[38;5;241m=\u001b[39mcopy \u001b[38;5;129;01mor\u001b[39;00m \u001b[38;5;28;01mNone\u001b[39;00m,\n\u001b[0;32m    698\u001b[0m             copy_threshold\u001b[38;5;241m=\u001b[39m\u001b[38;5;28mself\u001b[39m\u001b[38;5;241m.\u001b[39mcopy_threshold,\n\u001b[0;32m    699\u001b[0m         )\n\u001b[0;32m    700\u001b[0m     data\u001b[38;5;241m.\u001b[39mgroup \u001b[38;5;241m=\u001b[39m group\n\u001b[1;32m--> 701\u001b[0m \u001b[38;5;28;01mreturn\u001b[39;00m \u001b[38;5;28;43msuper\u001b[39;49m\u001b[43m(\u001b[49m\u001b[43m)\u001b[49m\u001b[38;5;241;43m.\u001b[39;49m\u001b[43msend\u001b[49m\u001b[43m(\u001b[49m\u001b[43mdata\u001b[49m\u001b[43m,\u001b[49m\u001b[43m \u001b[49m\u001b[43mflags\u001b[49m\u001b[38;5;241;43m=\u001b[39;49m\u001b[43mflags\u001b[49m\u001b[43m,\u001b[49m\u001b[43m \u001b[49m\u001b[43mcopy\u001b[49m\u001b[38;5;241;43m=\u001b[39;49m\u001b[43mcopy\u001b[49m\u001b[43m,\u001b[49m\u001b[43m \u001b[49m\u001b[43mtrack\u001b[49m\u001b[38;5;241;43m=\u001b[39;49m\u001b[43mtrack\u001b[49m\u001b[43m)\u001b[49m\n",
      "File \u001b[1;32m_zmq.py:1092\u001b[0m, in \u001b[0;36mzmq.backend.cython._zmq.Socket.send\u001b[1;34m()\u001b[0m\n",
      "File \u001b[1;32m_zmq.py:1140\u001b[0m, in \u001b[0;36mzmq.backend.cython._zmq.Socket.send\u001b[1;34m()\u001b[0m\n",
      "File \u001b[1;32m_zmq.py:1339\u001b[0m, in \u001b[0;36mzmq.backend.cython._zmq._send_copy\u001b[1;34m()\u001b[0m\n",
      "File \u001b[1;32m_zmq.py:160\u001b[0m, in \u001b[0;36mzmq.backend.cython._zmq._check_rc\u001b[1;34m()\u001b[0m\n",
      "\u001b[1;31mKeyboardInterrupt\u001b[0m: "
     ]
    }
   ],
   "source": [
    "resultats_greedy = measure_range(main_greedy, problems)\n",
    "\n",
    "display_data_as_table(resultats_greedy)\n"
   ]
  },
  {
   "cell_type": "markdown",
   "metadata": {},
   "source": [
    "Nous devons générer des solutions à "
   ]
  },
  {
   "cell_type": "code",
   "execution_count": null,
   "metadata": {},
   "outputs": [
    {
     "data": {
      "image/png": "[encoded data removed]",
      "text/plain": [
       "<Figure size 640x480 with 1 Axes>"
      ]
     },
     "metadata": {},
     "output_type": "display_data"
    }
   ],
   "source": [
    "def dict_from_measures(measures: list[Measure]) -> dict:\n",
    "    dict = {}\n",
    "    for measure in measures:\n",
    "        dict[np.log(measure.size)] = np.log(measure.mean)\n",
    "    return dict\n",
    "\n",
    "dict_greedy_sol = dict_from_measures(resultats_greedy)\n",
    "\n",
    "test_de_puissance(dict_greedy_sol, \"nombre d'éléments dans la liste\", 'temps moyen de tri (ms)', \"Test de puissance Merge sort nombre d'éléments\")"
   ]
  },
  {
   "cell_type": "code",
   "execution_count": null,
   "metadata": {},
   "outputs": [
    {
     "data": {
      "image/png": "[encoded data removed]",
      "text/plain": [
       "<Figure size 640x480 with 1 Axes>"
      ]
     },
     "metadata": {},
     "output_type": "display_data"
    }
   ],
   "source": [
    "import math\n",
    "def change_to_predict(measures: list[Measure], hypothesis = lambda x: x) -> dict:\n",
    "    new_dict = {}\n",
    "    for key in measures:\n",
    "        new_dict[key.size] = key.mean/hypothesis(key.size)\n",
    "    return new_dict\n",
    "\n",
    "test_de_rapport(change_to_predict(resultats_greedy, lambda x: x**4), \"rapport entre n log(n) et les augmentations de temps\", \"nombre d'items à balancer dans les deux listes combinées\" , \"Test de rapport sur l'algorithme glouton\")"
   ]
  },
  {
   "cell_type": "markdown",
   "metadata": {},
   "source": [
    "### Amélioration locale"
   ]
  },
  {
   "cell_type": "code",
   "execution_count": 108,
   "metadata": {},
   "outputs": [],
   "source": [
    "\n",
    "def main_amelioration(sample):\n",
    "    start_time = time.time()\n",
    "    max_time = 60 * 3 - 1\n",
    "    n = len(sample)\n",
    "    target = 500 * n\n",
    "    counties = set_counties(sample)\n",
    "    print('initial solution')\n",
    "    sol, groups = max_to_target(counties, target, n)\n",
    "    if (time.time() - start_time) > max_time:\n",
    "        return sol\n",
    "    print(\"--- %s seconds for solution baseline ---\" % (time.time() - start_time))\n",
    "\n",
    "    #print('vote score: ', votes_score(sample, sol))\n",
    "    #print('size score: ', size_score(sol))\n",
    "    #print('distance score: ', distance_score(sol))\n",
    "    #print('intial score: ',score_solution(sample, sol))\n",
    "    #drawmap_of_discrits(n, sol)\n",
    "    first_iter = True\n",
    "    iter_time = time.time()\n",
    "    time_to_iter = 0\n",
    "    updated = amelioration_locale(groups, target, n, sample, sol)\n",
    "    sol = updated\n",
    "    return sol"
   ]
  },
  {
   "cell_type": "code",
   "execution_count": null,
   "metadata": {},
   "outputs": [
    {
     "name": "stdout",
     "output_type": "stream",
     "text": [
      "initial solution\n"
     ]
    },
    {
     "name": "stderr",
     "output_type": "stream",
     "text": [
      "100%|██████████| 11/11 [00:00<00:00, 5326.41it/s]\n"
     ]
    },
    {
     "name": "stdout",
     "output_type": "stream",
     "text": [
      "--- 0.007167816162109375 seconds for solution baseline ---\n",
      "initial solution\n"
     ]
    },
    {
     "name": "stderr",
     "output_type": "stream",
     "text": [
      "100%|██████████| 11/11 [00:00<00:00, 4881.74it/s]\n"
     ]
    },
    {
     "name": "stdout",
     "output_type": "stream",
     "text": [
      "--- 0.005638837814331055 seconds for solution baseline ---\n",
      "initial solution\n"
     ]
    },
    {
     "name": "stderr",
     "output_type": "stream",
     "text": [
      "100%|██████████| 11/11 [00:00<00:00, 10917.50it/s]\n"
     ]
    },
    {
     "name": "stdout",
     "output_type": "stream",
     "text": [
      "--- 0.0068056583404541016 seconds for solution baseline ---\n",
      "initial solution\n"
     ]
    },
    {
     "name": "stderr",
     "output_type": "stream",
     "text": [
      "100%|██████████| 11/11 [00:00<00:00, 3654.15it/s]\n"
     ]
    },
    {
     "name": "stdout",
     "output_type": "stream",
     "text": [
      "--- 0.00721430778503418 seconds for solution baseline ---\n",
      "initial solution\n"
     ]
    },
    {
     "name": "stderr",
     "output_type": "stream",
     "text": [
      "100%|██████████| 11/11 [00:00<00:00, 5475.59it/s]\n"
     ]
    },
    {
     "name": "stdout",
     "output_type": "stream",
     "text": [
      "--- 0.005861759185791016 seconds for solution baseline ---\n",
      "initial solution\n"
     ]
    },
    {
     "name": "stderr",
     "output_type": "stream",
     "text": [
      "100%|██████████| 11/11 [00:00<00:00, 10979.85it/s]\n"
     ]
    },
    {
     "name": "stdout",
     "output_type": "stream",
     "text": [
      "--- 0.005044698715209961 seconds for solution baseline ---\n",
      "initial solution\n"
     ]
    },
    {
     "name": "stderr",
     "output_type": "stream",
     "text": [
      "100%|██████████| 11/11 [00:00<00:00, 4415.06it/s]\n"
     ]
    },
    {
     "name": "stdout",
     "output_type": "stream",
     "text": [
      "--- 0.006101846694946289 seconds for solution baseline ---\n",
      "initial solution\n"
     ]
    },
    {
     "name": "stderr",
     "output_type": "stream",
     "text": [
      "100%|██████████| 11/11 [00:00<00:00, 5475.59it/s]\n"
     ]
    },
    {
     "name": "stdout",
     "output_type": "stream",
     "text": [
      "--- 0.006311655044555664 seconds for solution baseline ---\n",
      "initial solution\n"
     ]
    },
    {
     "name": "stderr",
     "output_type": "stream",
     "text": [
      "100%|██████████| 11/11 [00:00<00:00, 8662.66it/s]\n"
     ]
    },
    {
     "name": "stdout",
     "output_type": "stream",
     "text": [
      "--- 0.005331516265869141 seconds for solution baseline ---\n",
      "initial solution\n"
     ]
    },
    {
     "name": "stderr",
     "output_type": "stream",
     "text": [
      "100%|██████████| 11/11 [00:00<00:00, 5507.62it/s]\n"
     ]
    },
    {
     "name": "stdout",
     "output_type": "stream",
     "text": [
      "--- 0.004011869430541992 seconds for solution baseline ---\n",
      "initial solution\n"
     ]
    },
    {
     "name": "stderr",
     "output_type": "stream",
     "text": [
      "100%|██████████| 12/12 [00:00<00:00, 3661.82it/s]\n"
     ]
    },
    {
     "name": "stdout",
     "output_type": "stream",
     "text": [
      "--- 0.0062787532806396484 seconds for solution baseline ---\n",
      "initial solution\n"
     ]
    },
    {
     "name": "stderr",
     "output_type": "stream",
     "text": [
      "100%|██████████| 12/12 [00:00<00:00, 8507.72it/s]\n"
     ]
    },
    {
     "name": "stdout",
     "output_type": "stream",
     "text": [
      "--- 0.0031518936157226562 seconds for solution baseline ---\n",
      "initial solution\n"
     ]
    },
    {
     "name": "stderr",
     "output_type": "stream",
     "text": [
      "100%|██████████| 12/12 [00:00<00:00, 11887.49it/s]\n"
     ]
    },
    {
     "name": "stdout",
     "output_type": "stream",
     "text": [
      "--- 0.0060694217681884766 seconds for solution baseline ---\n",
      "initial solution\n"
     ]
    },
    {
     "name": "stderr",
     "output_type": "stream",
     "text": [
      "100%|██████████| 12/12 [00:00<?, ?it/s]\n"
     ]
    },
    {
     "name": "stdout",
     "output_type": "stream",
     "text": [
      "--- 0.0030660629272460938 seconds for solution baseline ---\n",
      "initial solution\n"
     ]
    },
    {
     "name": "stderr",
     "output_type": "stream",
     "text": [
      "100%|██████████| 12/12 [00:00<00:00, 4782.56it/s]"
     ]
    },
    {
     "name": "stdout",
     "output_type": "stream",
     "text": [
      "--- 0.009435415267944336 seconds for solution baseline ---\n"
     ]
    },
    {
     "name": "stderr",
     "output_type": "stream",
     "text": [
      "\n"
     ]
    },
    {
     "name": "stdout",
     "output_type": "stream",
     "text": [
      "initial solution\n"
     ]
    },
    {
     "name": "stderr",
     "output_type": "stream",
     "text": [
      "100%|██████████| 12/12 [00:00<00:00, 7172.82it/s]\n"
     ]
    },
    {
     "name": "stdout",
     "output_type": "stream",
     "text": [
      "--- 0.16295218467712402 seconds for solution baseline ---\n",
      "initial solution\n"
     ]
    },
    {
     "name": "stderr",
     "output_type": "stream",
     "text": [
      "100%|██████████| 12/12 [00:00<00:00, 7893.92it/s]\n"
     ]
    },
    {
     "name": "stdout",
     "output_type": "stream",
     "text": [
      "--- 0.005422353744506836 seconds for solution baseline ---\n",
      "initial solution\n"
     ]
    },
    {
     "name": "stderr",
     "output_type": "stream",
     "text": [
      "100%|██████████| 12/12 [00:00<00:00, 10547.29it/s]\n"
     ]
    },
    {
     "name": "stdout",
     "output_type": "stream",
     "text": [
      "--- 0.004674673080444336 seconds for solution baseline ---\n",
      "initial solution\n"
     ]
    },
    {
     "name": "stderr",
     "output_type": "stream",
     "text": [
      "100%|██████████| 12/12 [00:00<00:00, 6011.90it/s]\n"
     ]
    },
    {
     "name": "stdout",
     "output_type": "stream",
     "text": [
      "--- 0.004933357238769531 seconds for solution baseline ---\n",
      "initial solution\n"
     ]
    },
    {
     "name": "stderr",
     "output_type": "stream",
     "text": [
      "100%|██████████| 12/12 [00:00<00:00, 6578.44it/s]\n"
     ]
    },
    {
     "name": "stdout",
     "output_type": "stream",
     "text": [
      "--- 0.0070455074310302734 seconds for solution baseline ---\n",
      "initial solution\n"
     ]
    },
    {
     "name": "stderr",
     "output_type": "stream",
     "text": [
      "100%|██████████| 13/13 [00:00<00:00, 8255.25it/s]\n"
     ]
    },
    {
     "name": "stdout",
     "output_type": "stream",
     "text": [
      "--- 0.006324052810668945 seconds for solution baseline ---\n",
      "initial solution\n"
     ]
    },
    {
     "name": "stderr",
     "output_type": "stream",
     "text": [
      "100%|██████████| 13/13 [00:00<00:00, 6341.70it/s]\n"
     ]
    },
    {
     "name": "stdout",
     "output_type": "stream",
     "text": [
      "--- 0.006476879119873047 seconds for solution baseline ---\n",
      "initial solution\n"
     ]
    },
    {
     "name": "stderr",
     "output_type": "stream",
     "text": [
      "100%|██████████| 13/13 [00:00<00:00, 6438.30it/s]\n"
     ]
    },
    {
     "name": "stdout",
     "output_type": "stream",
     "text": [
      "--- 0.004969596862792969 seconds for solution baseline ---\n",
      "initial solution\n"
     ]
    },
    {
     "name": "stderr",
     "output_type": "stream",
     "text": [
      "100%|██████████| 13/13 [00:00<00:00, 3775.77it/s]\n"
     ]
    },
    {
     "name": "stdout",
     "output_type": "stream",
     "text": [
      "--- 0.005002021789550781 seconds for solution baseline ---\n",
      "initial solution\n"
     ]
    },
    {
     "name": "stderr",
     "output_type": "stream",
     "text": [
      "100%|██████████| 13/13 [00:00<00:00, 8134.56it/s]\n"
     ]
    },
    {
     "name": "stdout",
     "output_type": "stream",
     "text": [
      "--- 0.005056858062744141 seconds for solution baseline ---\n",
      "initial solution\n"
     ]
    },
    {
     "name": "stderr",
     "output_type": "stream",
     "text": [
      "100%|██████████| 13/13 [00:00<00:00, 4251.20it/s]\n"
     ]
    },
    {
     "name": "stdout",
     "output_type": "stream",
     "text": [
      "--- 0.006767749786376953 seconds for solution baseline ---\n",
      "initial solution\n"
     ]
    },
    {
     "name": "stderr",
     "output_type": "stream",
     "text": [
      "100%|██████████| 13/13 [00:00<00:00, 4303.21it/s]\n"
     ]
    },
    {
     "name": "stdout",
     "output_type": "stream",
     "text": [
      "--- 0.0067348480224609375 seconds for solution baseline ---\n",
      "initial solution\n"
     ]
    },
    {
     "name": "stderr",
     "output_type": "stream",
     "text": [
      "100%|██████████| 13/13 [00:00<00:00, 4324.71it/s]\n"
     ]
    },
    {
     "name": "stdout",
     "output_type": "stream",
     "text": [
      "--- 0.005654573440551758 seconds for solution baseline ---\n",
      "initial solution\n"
     ]
    },
    {
     "name": "stderr",
     "output_type": "stream",
     "text": [
      "100%|██████████| 13/13 [00:00<00:00, 4321.97it/s]\n"
     ]
    },
    {
     "name": "stdout",
     "output_type": "stream",
     "text": [
      "--- 0.005080699920654297 seconds for solution baseline ---\n",
      "initial solution\n"
     ]
    },
    {
     "name": "stderr",
     "output_type": "stream",
     "text": [
      "100%|██████████| 13/13 [00:00<00:00, 4323.00it/s]\n"
     ]
    },
    {
     "name": "stdout",
     "output_type": "stream",
     "text": [
      "--- 0.005231380462646484 seconds for solution baseline ---\n",
      "initial solution\n"
     ]
    },
    {
     "name": "stderr",
     "output_type": "stream",
     "text": [
      "100%|██████████| 14/14 [00:00<00:00, 9072.97it/s]\n"
     ]
    },
    {
     "name": "stdout",
     "output_type": "stream",
     "text": [
      "--- 0.003274679183959961 seconds for solution baseline ---\n",
      "initial solution\n"
     ]
    },
    {
     "name": "stderr",
     "output_type": "stream",
     "text": [
      "100%|██████████| 14/14 [00:00<00:00, 3577.01it/s]\n"
     ]
    },
    {
     "name": "stdout",
     "output_type": "stream",
     "text": [
      "--- 0.006087541580200195 seconds for solution baseline ---\n",
      "initial solution\n"
     ]
    },
    {
     "name": "stderr",
     "output_type": "stream",
     "text": [
      "100%|██████████| 14/14 [00:00<00:00, 4631.67it/s]\n"
     ]
    },
    {
     "name": "stdout",
     "output_type": "stream",
     "text": [
      "--- 0.00998067855834961 seconds for solution baseline ---\n",
      "initial solution\n"
     ]
    },
    {
     "name": "stderr",
     "output_type": "stream",
     "text": [
      "100%|██████████| 14/14 [00:00<00:00, 7957.75it/s]\n"
     ]
    },
    {
     "name": "stdout",
     "output_type": "stream",
     "text": [
      "--- 0.006356239318847656 seconds for solution baseline ---\n",
      "initial solution\n"
     ]
    },
    {
     "name": "stderr",
     "output_type": "stream",
     "text": [
      "100%|██████████| 14/14 [00:00<?, ?it/s]\n"
     ]
    },
    {
     "name": "stdout",
     "output_type": "stream",
     "text": [
      "--- 0.004344940185546875 seconds for solution baseline ---\n",
      "initial solution\n"
     ]
    },
    {
     "name": "stderr",
     "output_type": "stream",
     "text": [
      "100%|██████████| 14/14 [00:00<00:00, 4023.59it/s]\n"
     ]
    },
    {
     "name": "stdout",
     "output_type": "stream",
     "text": [
      "--- 0.01044464111328125 seconds for solution baseline ---\n",
      "initial solution\n"
     ]
    },
    {
     "name": "stderr",
     "output_type": "stream",
     "text": [
      "100%|██████████| 14/14 [00:00<00:00, 14960.57it/s]\n"
     ]
    },
    {
     "name": "stdout",
     "output_type": "stream",
     "text": [
      "--- 0.0043506622314453125 seconds for solution baseline ---\n",
      "initial solution\n"
     ]
    },
    {
     "name": "stderr",
     "output_type": "stream",
     "text": [
      "100%|██████████| 14/14 [00:00<00:00, 6393.06it/s]\n"
     ]
    },
    {
     "name": "stdout",
     "output_type": "stream",
     "text": [
      "--- 0.009407520294189453 seconds for solution baseline ---\n",
      "initial solution\n"
     ]
    },
    {
     "name": "stderr",
     "output_type": "stream",
     "text": [
      "100%|██████████| 14/14 [00:00<00:00, 8044.97it/s]\n"
     ]
    },
    {
     "name": "stdout",
     "output_type": "stream",
     "text": [
      "--- 0.005756378173828125 seconds for solution baseline ---\n",
      "initial solution\n"
     ]
    },
    {
     "name": "stderr",
     "output_type": "stream",
     "text": [
      "100%|██████████| 14/14 [00:00<00:00, 9149.31it/s]\n"
     ]
    },
    {
     "name": "stdout",
     "output_type": "stream",
     "text": [
      "--- 0.008318662643432617 seconds for solution baseline ---\n",
      "initial solution\n"
     ]
    },
    {
     "name": "stderr",
     "output_type": "stream",
     "text": [
      "100%|██████████| 15/15 [00:00<00:00, 4999.17it/s]\n"
     ]
    },
    {
     "name": "stdout",
     "output_type": "stream",
     "text": [
      "--- 0.0075070858001708984 seconds for solution baseline ---\n",
      "initial solution\n"
     ]
    },
    {
     "name": "stderr",
     "output_type": "stream",
     "text": [
      "100%|██████████| 15/15 [00:00<00:00, 1984.31it/s]"
     ]
    },
    {
     "name": "stdout",
     "output_type": "stream",
     "text": [
      "--- 0.008815765380859375 seconds for solution baseline ---\n",
      "initial solution\n"
     ]
    },
    {
     "name": "stderr",
     "output_type": "stream",
     "text": [
      "\n",
      "100%|██████████| 15/15 [00:00<00:00, 19293.03it/s]\n"
     ]
    },
    {
     "name": "stdout",
     "output_type": "stream",
     "text": [
      "--- 0.0036690235137939453 seconds for solution baseline ---\n",
      "initial solution\n"
     ]
    },
    {
     "name": "stderr",
     "output_type": "stream",
     "text": [
      "100%|██████████| 15/15 [00:00<00:00, 11625.01it/s]\n"
     ]
    },
    {
     "name": "stdout",
     "output_type": "stream",
     "text": [
      "--- 0.004630565643310547 seconds for solution baseline ---\n",
      "initial solution\n"
     ]
    },
    {
     "name": "stderr",
     "output_type": "stream",
     "text": [
      "100%|██████████| 15/15 [00:00<00:00, 3238.68it/s]\n"
     ]
    },
    {
     "name": "stdout",
     "output_type": "stream",
     "text": [
      "--- 0.007807254791259766 seconds for solution baseline ---\n",
      "initial solution\n"
     ]
    },
    {
     "name": "stderr",
     "output_type": "stream",
     "text": [
      "100%|██████████| 15/15 [00:00<00:00, 3101.99it/s]\n"
     ]
    },
    {
     "name": "stdout",
     "output_type": "stream",
     "text": [
      "--- 0.004835605621337891 seconds for solution baseline ---\n",
      "initial solution\n"
     ]
    },
    {
     "name": "stderr",
     "output_type": "stream",
     "text": [
      "100%|██████████| 15/15 [00:00<00:00, 4308.33it/s]"
     ]
    },
    {
     "name": "stdout",
     "output_type": "stream",
     "text": [
      "--- 0.006871700286865234 seconds for solution baseline ---\n",
      "initial solution\n"
     ]
    },
    {
     "name": "stderr",
     "output_type": "stream",
     "text": [
      "\n",
      "100%|██████████| 15/15 [00:00<00:00, 3260.84it/s]\n"
     ]
    },
    {
     "name": "stdout",
     "output_type": "stream",
     "text": [
      "--- 0.005429267883300781 seconds for solution baseline ---\n",
      "initial solution\n"
     ]
    },
    {
     "name": "stderr",
     "output_type": "stream",
     "text": [
      "100%|██████████| 15/15 [00:00<00:00, 4260.77it/s]\n"
     ]
    },
    {
     "name": "stdout",
     "output_type": "stream",
     "text": [
      "--- 0.005803823471069336 seconds for solution baseline ---\n",
      "initial solution\n"
     ]
    },
    {
     "name": "stderr",
     "output_type": "stream",
     "text": [
      "100%|██████████| 15/15 [00:00<00:00, 4154.15it/s]\n"
     ]
    },
    {
     "name": "stdout",
     "output_type": "stream",
     "text": [
      "--- 0.008516073226928711 seconds for solution baseline ---\n",
      "initial solution\n"
     ]
    },
    {
     "name": "stderr",
     "output_type": "stream",
     "text": [
      "100%|██████████| 16/16 [00:00<00:00, 4451.08it/s]\n"
     ]
    },
    {
     "name": "stdout",
     "output_type": "stream",
     "text": [
      "--- 0.00804448127746582 seconds for solution baseline ---\n",
      "initial solution\n"
     ]
    },
    {
     "name": "stderr",
     "output_type": "stream",
     "text": [
      "100%|██████████| 16/16 [00:00<00:00, 6639.18it/s]\n"
     ]
    },
    {
     "name": "stdout",
     "output_type": "stream",
     "text": [
      "--- 0.007653713226318359 seconds for solution baseline ---\n",
      "initial solution\n"
     ]
    },
    {
     "name": "stderr",
     "output_type": "stream",
     "text": [
      "100%|██████████| 16/16 [00:00<?, ?it/s]\n"
     ]
    },
    {
     "name": "stdout",
     "output_type": "stream",
     "text": [
      "--- 0.011147737503051758 seconds for solution baseline ---\n",
      "initial solution\n"
     ]
    },
    {
     "name": "stderr",
     "output_type": "stream",
     "text": [
      "100%|██████████| 16/16 [00:00<00:00, 4156.89it/s]\n"
     ]
    },
    {
     "name": "stdout",
     "output_type": "stream",
     "text": [
      "--- 0.007581949234008789 seconds for solution baseline ---\n",
      "initial solution\n"
     ]
    },
    {
     "name": "stderr",
     "output_type": "stream",
     "text": [
      "100%|██████████| 16/16 [00:00<00:00, 7975.86it/s]\n"
     ]
    },
    {
     "name": "stdout",
     "output_type": "stream",
     "text": [
      "--- 0.007111072540283203 seconds for solution baseline ---\n",
      "initial solution\n"
     ]
    },
    {
     "name": "stderr",
     "output_type": "stream",
     "text": [
      "100%|██████████| 16/16 [00:00<00:00, 3350.25it/s]\n"
     ]
    },
    {
     "name": "stdout",
     "output_type": "stream",
     "text": [
      "--- 0.00838470458984375 seconds for solution baseline ---\n",
      "initial solution\n"
     ]
    },
    {
     "name": "stderr",
     "output_type": "stream",
     "text": [
      "100%|██████████| 16/16 [00:00<00:00, 3780.36it/s]\n"
     ]
    },
    {
     "name": "stdout",
     "output_type": "stream",
     "text": [
      "--- 0.010303497314453125 seconds for solution baseline ---\n",
      "initial solution\n"
     ]
    },
    {
     "name": "stderr",
     "output_type": "stream",
     "text": [
      "100%|██████████| 16/16 [00:00<00:00, 2195.61it/s]\n"
     ]
    },
    {
     "name": "stdout",
     "output_type": "stream",
     "text": [
      "--- 0.015333890914916992 seconds for solution baseline ---\n",
      "initial solution\n"
     ]
    },
    {
     "name": "stderr",
     "output_type": "stream",
     "text": [
      "100%|██████████| 16/16 [00:00<00:00, 3870.40it/s]\n"
     ]
    },
    {
     "name": "stdout",
     "output_type": "stream",
     "text": [
      "--- 0.008145809173583984 seconds for solution baseline ---\n",
      "initial solution\n"
     ]
    },
    {
     "name": "stderr",
     "output_type": "stream",
     "text": [
      "100%|██████████| 16/16 [00:00<00:00, 3382.67it/s]\n"
     ]
    },
    {
     "name": "stdout",
     "output_type": "stream",
     "text": [
      "--- 0.012042760848999023 seconds for solution baseline ---\n",
      "initial solution\n"
     ]
    },
    {
     "name": "stderr",
     "output_type": "stream",
     "text": [
      "100%|██████████| 17/17 [00:00<00:00, 2677.25it/s]\n"
     ]
    },
    {
     "name": "stdout",
     "output_type": "stream",
     "text": [
      "--- 0.008793354034423828 seconds for solution baseline ---\n",
      "initial solution\n"
     ]
    },
    {
     "name": "stderr",
     "output_type": "stream",
     "text": [
      "100%|██████████| 17/17 [00:00<?, ?it/s]\n"
     ]
    },
    {
     "name": "stdout",
     "output_type": "stream",
     "text": [
      "--- 0.006944894790649414 seconds for solution baseline ---\n",
      "initial solution\n"
     ]
    },
    {
     "name": "stderr",
     "output_type": "stream",
     "text": [
      "100%|██████████| 17/17 [00:00<00:00, 2742.43it/s]\n"
     ]
    },
    {
     "name": "stdout",
     "output_type": "stream",
     "text": [
      "--- 0.008609533309936523 seconds for solution baseline ---\n",
      "initial solution\n"
     ]
    },
    {
     "name": "stderr",
     "output_type": "stream",
     "text": [
      "100%|██████████| 17/17 [00:00<00:00, 4221.87it/s]\n"
     ]
    },
    {
     "name": "stdout",
     "output_type": "stream",
     "text": [
      "--- 0.007846355438232422 seconds for solution baseline ---\n",
      "initial solution\n"
     ]
    },
    {
     "name": "stderr",
     "output_type": "stream",
     "text": [
      "100%|██████████| 17/17 [00:00<00:00, 3496.28it/s]\n"
     ]
    },
    {
     "name": "stdout",
     "output_type": "stream",
     "text": [
      "--- 0.006898641586303711 seconds for solution baseline ---\n",
      "initial solution\n"
     ]
    },
    {
     "name": "stderr",
     "output_type": "stream",
     "text": [
      "100%|██████████| 17/17 [00:00<00:00, 5024.89it/s]\n"
     ]
    },
    {
     "name": "stdout",
     "output_type": "stream",
     "text": [
      "--- 0.010129213333129883 seconds for solution baseline ---\n",
      "initial solution\n"
     ]
    },
    {
     "name": "stderr",
     "output_type": "stream",
     "text": [
      "100%|██████████| 17/17 [00:00<00:00, 12222.00it/s]\n"
     ]
    },
    {
     "name": "stdout",
     "output_type": "stream",
     "text": [
      "--- 0.01287078857421875 seconds for solution baseline ---\n",
      "initial solution\n"
     ]
    },
    {
     "name": "stderr",
     "output_type": "stream",
     "text": [
      "100%|██████████| 17/17 [00:00<00:00, 3005.28it/s]\n"
     ]
    },
    {
     "name": "stdout",
     "output_type": "stream",
     "text": [
      "--- 0.006844758987426758 seconds for solution baseline ---\n",
      "initial solution\n"
     ]
    },
    {
     "name": "stderr",
     "output_type": "stream",
     "text": [
      "100%|██████████| 17/17 [00:00<00:00, 1904.21it/s]\n"
     ]
    },
    {
     "name": "stdout",
     "output_type": "stream",
     "text": [
      "--- 0.010266304016113281 seconds for solution baseline ---\n",
      "initial solution\n"
     ]
    },
    {
     "name": "stderr",
     "output_type": "stream",
     "text": [
      "100%|██████████| 17/17 [00:00<?, ?it/s]\n"
     ]
    },
    {
     "name": "stdout",
     "output_type": "stream",
     "text": [
      "--- 0.010166406631469727 seconds for solution baseline ---\n",
      "initial solution\n"
     ]
    },
    {
     "name": "stderr",
     "output_type": "stream",
     "text": [
      "100%|██████████| 18/18 [00:00<00:00, 6949.97it/s]\n"
     ]
    },
    {
     "name": "stdout",
     "output_type": "stream",
     "text": [
      "--- 0.006351470947265625 seconds for solution baseline ---\n",
      "initial solution\n"
     ]
    },
    {
     "name": "stderr",
     "output_type": "stream",
     "text": [
      "100%|██████████| 18/18 [00:00<00:00, 3672.59it/s]\n"
     ]
    },
    {
     "name": "stdout",
     "output_type": "stream",
     "text": [
      "--- 0.008497953414916992 seconds for solution baseline ---\n",
      "initial solution\n"
     ]
    },
    {
     "name": "stderr",
     "output_type": "stream",
     "text": [
      "100%|██████████| 18/18 [00:00<00:00, 3675.27it/s]\n"
     ]
    },
    {
     "name": "stdout",
     "output_type": "stream",
     "text": [
      "--- 0.012482881546020508 seconds for solution baseline ---\n",
      "initial solution\n"
     ]
    },
    {
     "name": "stderr",
     "output_type": "stream",
     "text": [
      "100%|██████████| 18/18 [00:00<00:00, 3469.39it/s]\n"
     ]
    },
    {
     "name": "stdout",
     "output_type": "stream",
     "text": [
      "--- 0.01182413101196289 seconds for solution baseline ---\n",
      "initial solution\n"
     ]
    },
    {
     "name": "stderr",
     "output_type": "stream",
     "text": [
      "100%|██████████| 18/18 [00:00<00:00, 3136.58it/s]\n"
     ]
    },
    {
     "name": "stdout",
     "output_type": "stream",
     "text": [
      "--- 0.013317346572875977 seconds for solution baseline ---\n",
      "initial solution\n"
     ]
    },
    {
     "name": "stderr",
     "output_type": "stream",
     "text": [
      "100%|██████████| 18/18 [00:00<00:00, 3657.82it/s]\n"
     ]
    },
    {
     "name": "stdout",
     "output_type": "stream",
     "text": [
      "--- 0.012389659881591797 seconds for solution baseline ---\n",
      "initial solution\n"
     ]
    },
    {
     "name": "stderr",
     "output_type": "stream",
     "text": [
      "100%|██████████| 18/18 [00:00<00:00, 5559.05it/s]\n"
     ]
    },
    {
     "name": "stdout",
     "output_type": "stream",
     "text": [
      "--- 0.0121002197265625 seconds for solution baseline ---\n",
      "initial solution\n"
     ]
    },
    {
     "name": "stderr",
     "output_type": "stream",
     "text": [
      "100%|██████████| 18/18 [00:00<00:00, 4681.43it/s]\n"
     ]
    },
    {
     "name": "stdout",
     "output_type": "stream",
     "text": [
      "--- 0.009227275848388672 seconds for solution baseline ---\n",
      "initial solution\n"
     ]
    },
    {
     "name": "stderr",
     "output_type": "stream",
     "text": [
      "100%|██████████| 18/18 [00:00<00:00, 4115.20it/s]\n"
     ]
    },
    {
     "name": "stdout",
     "output_type": "stream",
     "text": [
      "--- 0.008719444274902344 seconds for solution baseline ---\n",
      "initial solution\n"
     ]
    },
    {
     "name": "stderr",
     "output_type": "stream",
     "text": [
      "100%|██████████| 18/18 [00:00<00:00, 3910.37it/s]\n"
     ]
    },
    {
     "name": "stdout",
     "output_type": "stream",
     "text": [
      "--- 0.009441852569580078 seconds for solution baseline ---\n",
      "initial solution\n"
     ]
    },
    {
     "name": "stderr",
     "output_type": "stream",
     "text": [
      "100%|██████████| 19/19 [00:00<00:00, 2778.17it/s]\n"
     ]
    },
    {
     "name": "stdout",
     "output_type": "stream",
     "text": [
      "--- 0.009424686431884766 seconds for solution baseline ---\n",
      "initial solution\n"
     ]
    },
    {
     "name": "stderr",
     "output_type": "stream",
     "text": [
      "100%|██████████| 19/19 [00:00<00:00, 3213.90it/s]\n"
     ]
    },
    {
     "name": "stdout",
     "output_type": "stream",
     "text": [
      "--- 0.01043081283569336 seconds for solution baseline ---\n",
      "initial solution\n"
     ]
    },
    {
     "name": "stderr",
     "output_type": "stream",
     "text": [
      "100%|██████████| 19/19 [00:00<00:00, 2668.85it/s]\n"
     ]
    },
    {
     "name": "stdout",
     "output_type": "stream",
     "text": [
      "--- 0.011187076568603516 seconds for solution baseline ---\n",
      "initial solution\n"
     ]
    },
    {
     "name": "stderr",
     "output_type": "stream",
     "text": [
      "100%|██████████| 19/19 [00:00<00:00, 2646.86it/s]\n"
     ]
    },
    {
     "name": "stdout",
     "output_type": "stream",
     "text": [
      "--- 0.012144804000854492 seconds for solution baseline ---\n",
      "initial solution\n"
     ]
    },
    {
     "name": "stderr",
     "output_type": "stream",
     "text": [
      "100%|██████████| 19/19 [00:00<00:00, 2827.96it/s]\n"
     ]
    },
    {
     "name": "stdout",
     "output_type": "stream",
     "text": [
      "--- 0.01346898078918457 seconds for solution baseline ---\n",
      "initial solution\n"
     ]
    },
    {
     "name": "stderr",
     "output_type": "stream",
     "text": [
      "100%|██████████| 19/19 [00:00<00:00, 2928.01it/s]\n"
     ]
    },
    {
     "name": "stdout",
     "output_type": "stream",
     "text": [
      "--- 0.014471054077148438 seconds for solution baseline ---\n",
      "initial solution\n"
     ]
    },
    {
     "name": "stderr",
     "output_type": "stream",
     "text": [
      "100%|██████████| 19/19 [00:00<00:00, 2659.76it/s]\n"
     ]
    },
    {
     "name": "stdout",
     "output_type": "stream",
     "text": [
      "--- 0.009966135025024414 seconds for solution baseline ---\n",
      "initial solution\n"
     ]
    },
    {
     "name": "stderr",
     "output_type": "stream",
     "text": [
      "100%|██████████| 19/19 [00:00<00:00, 7865.35it/s]\n"
     ]
    },
    {
     "name": "stdout",
     "output_type": "stream",
     "text": [
      "--- 0.009398460388183594 seconds for solution baseline ---\n",
      "initial solution\n"
     ]
    },
    {
     "name": "stderr",
     "output_type": "stream",
     "text": [
      "100%|██████████| 19/19 [00:00<00:00, 2208.94it/s]\n"
     ]
    },
    {
     "name": "stdout",
     "output_type": "stream",
     "text": [
      "--- 0.00860142707824707 seconds for solution baseline ---\n",
      "initial solution\n"
     ]
    },
    {
     "name": "stderr",
     "output_type": "stream",
     "text": [
      "100%|██████████| 19/19 [00:00<00:00, 6596.46it/s]\n"
     ]
    },
    {
     "name": "stdout",
     "output_type": "stream",
     "text": [
      "--- 0.006426095962524414 seconds for solution baseline ---\n",
      "initial solution\n"
     ]
    },
    {
     "name": "stderr",
     "output_type": "stream",
     "text": [
      "100%|██████████| 20/20 [00:00<00:00, 2217.10it/s]\n"
     ]
    },
    {
     "name": "stdout",
     "output_type": "stream",
     "text": [
      "--- 0.014181375503540039 seconds for solution baseline ---\n",
      "initial solution\n"
     ]
    },
    {
     "name": "stderr",
     "output_type": "stream",
     "text": [
      "100%|██████████| 20/20 [00:00<00:00, 4138.03it/s]\n"
     ]
    },
    {
     "name": "stdout",
     "output_type": "stream",
     "text": [
      "--- 0.011707544326782227 seconds for solution baseline ---\n",
      "initial solution\n"
     ]
    },
    {
     "name": "stderr",
     "output_type": "stream",
     "text": [
      "100%|██████████| 20/20 [00:00<00:00, 2390.73it/s]\n"
     ]
    },
    {
     "name": "stdout",
     "output_type": "stream",
     "text": [
      "--- 0.013337135314941406 seconds for solution baseline ---\n",
      "initial solution\n"
     ]
    },
    {
     "name": "stderr",
     "output_type": "stream",
     "text": [
      "100%|██████████| 20/20 [00:00<00:00, 1734.72it/s]\n"
     ]
    },
    {
     "name": "stdout",
     "output_type": "stream",
     "text": [
      "--- 0.014516115188598633 seconds for solution baseline ---\n",
      "initial solution\n"
     ]
    },
    {
     "name": "stderr",
     "output_type": "stream",
     "text": [
      "100%|██████████| 20/20 [00:00<00:00, 2953.74it/s]\n"
     ]
    },
    {
     "name": "stdout",
     "output_type": "stream",
     "text": [
      "--- 0.01003122329711914 seconds for solution baseline ---\n",
      "initial solution\n"
     ]
    },
    {
     "name": "stderr",
     "output_type": "stream",
     "text": [
      "100%|██████████| 20/20 [00:00<00:00, 3259.99it/s]\n"
     ]
    },
    {
     "name": "stdout",
     "output_type": "stream",
     "text": [
      "--- 0.0181124210357666 seconds for solution baseline ---\n",
      "initial solution\n"
     ]
    },
    {
     "name": "stderr",
     "output_type": "stream",
     "text": [
      "100%|██████████| 20/20 [00:00<00:00, 1829.94it/s]\n"
     ]
    },
    {
     "name": "stdout",
     "output_type": "stream",
     "text": [
      "--- 0.020442962646484375 seconds for solution baseline ---\n",
      "initial solution\n"
     ]
    },
    {
     "name": "stderr",
     "output_type": "stream",
     "text": [
      "100%|██████████| 20/20 [00:00<00:00, 2072.64it/s]\n"
     ]
    },
    {
     "name": "stdout",
     "output_type": "stream",
     "text": [
      "--- 0.01506495475769043 seconds for solution baseline ---\n",
      "initial solution\n"
     ]
    },
    {
     "name": "stderr",
     "output_type": "stream",
     "text": [
      "100%|██████████| 20/20 [00:00<00:00, 2420.05it/s]\n"
     ]
    },
    {
     "name": "stdout",
     "output_type": "stream",
     "text": [
      "--- 0.014150381088256836 seconds for solution baseline ---\n",
      "initial solution\n"
     ]
    },
    {
     "name": "stderr",
     "output_type": "stream",
     "text": [
      "100%|██████████| 20/20 [00:00<00:00, 1536.35it/s]\n"
     ]
    },
    {
     "name": "stdout",
     "output_type": "stream",
     "text": [
      "--- 0.016924381256103516 seconds for solution baseline ---\n",
      "initial solution\n"
     ]
    },
    {
     "name": "stderr",
     "output_type": "stream",
     "text": [
      "100%|██████████| 21/21 [00:00<00:00, 1787.67it/s]\n"
     ]
    },
    {
     "name": "stdout",
     "output_type": "stream",
     "text": [
      "--- 0.01726365089416504 seconds for solution baseline ---\n",
      "initial solution\n"
     ]
    },
    {
     "name": "stderr",
     "output_type": "stream",
     "text": [
      "100%|██████████| 21/21 [00:00<00:00, 2556.31it/s]\n"
     ]
    },
    {
     "name": "stdout",
     "output_type": "stream",
     "text": [
      "--- 0.013619184494018555 seconds for solution baseline ---\n",
      "initial solution\n"
     ]
    },
    {
     "name": "stderr",
     "output_type": "stream",
     "text": [
      "100%|██████████| 21/21 [00:00<00:00, 2793.10it/s]\n"
     ]
    },
    {
     "name": "stdout",
     "output_type": "stream",
     "text": [
      "--- 0.012218952178955078 seconds for solution baseline ---\n",
      "initial solution\n"
     ]
    },
    {
     "name": "stderr",
     "output_type": "stream",
     "text": [
      "100%|██████████| 21/21 [00:00<00:00, 2510.84it/s]\n"
     ]
    },
    {
     "name": "stdout",
     "output_type": "stream",
     "text": [
      "--- 0.014472246170043945 seconds for solution baseline ---\n",
      "initial solution\n"
     ]
    },
    {
     "name": "stderr",
     "output_type": "stream",
     "text": [
      "100%|██████████| 21/21 [00:00<00:00, 2751.05it/s]\n"
     ]
    },
    {
     "name": "stdout",
     "output_type": "stream",
     "text": [
      "--- 0.011058807373046875 seconds for solution baseline ---\n",
      "initial solution\n"
     ]
    },
    {
     "name": "stderr",
     "output_type": "stream",
     "text": [
      "100%|██████████| 21/21 [00:00<00:00, 2378.56it/s]\n"
     ]
    },
    {
     "name": "stdout",
     "output_type": "stream",
     "text": [
      "--- 0.014009237289428711 seconds for solution baseline ---\n",
      "initial solution\n"
     ]
    },
    {
     "name": "stderr",
     "output_type": "stream",
     "text": [
      "100%|██████████| 21/21 [00:00<00:00, 2561.44it/s]\n"
     ]
    },
    {
     "name": "stdout",
     "output_type": "stream",
     "text": [
      "--- 0.01506185531616211 seconds for solution baseline ---\n",
      "initial solution\n"
     ]
    },
    {
     "name": "stderr",
     "output_type": "stream",
     "text": [
      "100%|██████████| 21/21 [00:00<00:00, 2581.56it/s]"
     ]
    },
    {
     "name": "stdout",
     "output_type": "stream",
     "text": [
      "--- 0.011921405792236328 seconds for solution baseline ---\n",
      "initial solution\n"
     ]
    },
    {
     "name": "stderr",
     "output_type": "stream",
     "text": [
      "\n",
      "100%|██████████| 21/21 [00:00<00:00, 2326.17it/s]\n"
     ]
    },
    {
     "name": "stdout",
     "output_type": "stream",
     "text": [
      "--- 0.01813817024230957 seconds for solution baseline ---\n",
      "initial solution\n"
     ]
    },
    {
     "name": "stderr",
     "output_type": "stream",
     "text": [
      "100%|██████████| 21/21 [00:00<00:00, 2301.73it/s]\n"
     ]
    },
    {
     "name": "stdout",
     "output_type": "stream",
     "text": [
      "--- 0.01421499252319336 seconds for solution baseline ---\n",
      "initial solution\n"
     ]
    },
    {
     "name": "stderr",
     "output_type": "stream",
     "text": [
      "100%|██████████| 22/22 [00:00<00:00, 2382.88it/s]\n"
     ]
    },
    {
     "name": "stdout",
     "output_type": "stream",
     "text": [
      "--- 0.015274524688720703 seconds for solution baseline ---\n",
      "initial solution\n"
     ]
    },
    {
     "name": "stderr",
     "output_type": "stream",
     "text": [
      "100%|██████████| 22/22 [00:00<00:00, 1948.12it/s]\n"
     ]
    },
    {
     "name": "stdout",
     "output_type": "stream",
     "text": [
      "--- 0.016285181045532227 seconds for solution baseline ---\n",
      "initial solution\n"
     ]
    },
    {
     "name": "stderr",
     "output_type": "stream",
     "text": [
      "100%|██████████| 22/22 [00:00<00:00, 1646.67it/s]\n"
     ]
    },
    {
     "name": "stdout",
     "output_type": "stream",
     "text": [
      "--- 0.01848602294921875 seconds for solution baseline ---\n",
      "initial solution\n"
     ]
    },
    {
     "name": "stderr",
     "output_type": "stream",
     "text": [
      "100%|██████████| 22/22 [00:00<00:00, 2081.45it/s]\n"
     ]
    },
    {
     "name": "stdout",
     "output_type": "stream",
     "text": [
      "--- 0.023077011108398438 seconds for solution baseline ---\n",
      "initial solution\n"
     ]
    },
    {
     "name": "stderr",
     "output_type": "stream",
     "text": [
      "100%|██████████| 22/22 [00:00<00:00, 3349.48it/s]\n"
     ]
    },
    {
     "name": "stdout",
     "output_type": "stream",
     "text": [
      "--- 0.012660026550292969 seconds for solution baseline ---\n",
      "initial solution\n"
     ]
    },
    {
     "name": "stderr",
     "output_type": "stream",
     "text": [
      "100%|██████████| 22/22 [00:00<00:00, 2748.07it/s]\n"
     ]
    },
    {
     "name": "stdout",
     "output_type": "stream",
     "text": [
      "--- 0.020815610885620117 seconds for solution baseline ---\n",
      "initial solution\n"
     ]
    },
    {
     "name": "stderr",
     "output_type": "stream",
     "text": [
      "100%|██████████| 22/22 [00:00<00:00, 3299.06it/s]\n"
     ]
    },
    {
     "name": "stdout",
     "output_type": "stream",
     "text": [
      "--- 0.018046140670776367 seconds for solution baseline ---\n",
      "initial solution\n"
     ]
    },
    {
     "name": "stderr",
     "output_type": "stream",
     "text": [
      "100%|██████████| 22/22 [00:00<00:00, 3949.27it/s]\n"
     ]
    },
    {
     "name": "stdout",
     "output_type": "stream",
     "text": [
      "--- 0.015530109405517578 seconds for solution baseline ---\n",
      "initial solution\n"
     ]
    },
    {
     "name": "stderr",
     "output_type": "stream",
     "text": [
      "100%|██████████| 22/22 [00:00<00:00, 1838.80it/s]"
     ]
    },
    {
     "name": "stdout",
     "output_type": "stream",
     "text": [
      "--- 0.014801025390625 seconds for solution baseline ---\n",
      "initial solution\n"
     ]
    },
    {
     "name": "stderr",
     "output_type": "stream",
     "text": [
      "\n",
      "100%|██████████| 22/22 [00:00<00:00, 2036.43it/s]\n"
     ]
    },
    {
     "name": "stdout",
     "output_type": "stream",
     "text": [
      "--- 0.015776395797729492 seconds for solution baseline ---\n",
      "initial solution\n"
     ]
    },
    {
     "name": "stderr",
     "output_type": "stream",
     "text": [
      "100%|██████████| 23/23 [00:00<00:00, 2102.00it/s]"
     ]
    },
    {
     "name": "stdout",
     "output_type": "stream",
     "text": [
      "--- 0.018674135208129883 seconds for solution baseline ---\n",
      "initial solution\n"
     ]
    },
    {
     "name": "stderr",
     "output_type": "stream",
     "text": [
      "\n",
      "100%|██████████| 23/23 [00:00<00:00, 1803.87it/s]\n"
     ]
    },
    {
     "name": "stdout",
     "output_type": "stream",
     "text": [
      "--- 0.018616437911987305 seconds for solution baseline ---\n",
      "initial solution\n"
     ]
    },
    {
     "name": "stderr",
     "output_type": "stream",
     "text": [
      "100%|██████████| 23/23 [00:00<00:00, 1161.54it/s]\n"
     ]
    },
    {
     "name": "stdout",
     "output_type": "stream",
     "text": [
      "--- 0.021915912628173828 seconds for solution baseline ---\n",
      "initial solution\n"
     ]
    },
    {
     "name": "stderr",
     "output_type": "stream",
     "text": [
      "100%|██████████| 23/23 [00:00<00:00, 1392.43it/s]\n"
     ]
    },
    {
     "name": "stdout",
     "output_type": "stream",
     "text": [
      "--- 0.027683258056640625 seconds for solution baseline ---\n",
      "initial solution\n"
     ]
    },
    {
     "name": "stderr",
     "output_type": "stream",
     "text": [
      "100%|██████████| 23/23 [00:00<00:00, 1327.48it/s]\n"
     ]
    },
    {
     "name": "stdout",
     "output_type": "stream",
     "text": [
      "--- 0.023752689361572266 seconds for solution baseline ---\n",
      "initial solution\n"
     ]
    },
    {
     "name": "stderr",
     "output_type": "stream",
     "text": [
      "100%|██████████| 23/23 [00:00<00:00, 1687.17it/s]\n"
     ]
    },
    {
     "name": "stdout",
     "output_type": "stream",
     "text": [
      "--- 0.021554231643676758 seconds for solution baseline ---\n",
      "initial solution\n"
     ]
    },
    {
     "name": "stderr",
     "output_type": "stream",
     "text": [
      "100%|██████████| 23/23 [00:00<00:00, 1657.86it/s]\n"
     ]
    },
    {
     "name": "stdout",
     "output_type": "stream",
     "text": [
      "--- 0.01678919792175293 seconds for solution baseline ---\n",
      "initial solution\n"
     ]
    },
    {
     "name": "stderr",
     "output_type": "stream",
     "text": [
      "100%|██████████| 23/23 [00:00<00:00, 1369.27it/s]\n"
     ]
    },
    {
     "name": "stdout",
     "output_type": "stream",
     "text": [
      "--- 0.025173664093017578 seconds for solution baseline ---\n",
      "initial solution\n"
     ]
    },
    {
     "name": "stderr",
     "output_type": "stream",
     "text": [
      "100%|██████████| 23/23 [00:00<00:00, 1488.76it/s]\n"
     ]
    },
    {
     "name": "stdout",
     "output_type": "stream",
     "text": [
      "--- 0.0191195011138916 seconds for solution baseline ---\n",
      "initial solution\n"
     ]
    },
    {
     "name": "stderr",
     "output_type": "stream",
     "text": [
      "100%|██████████| 23/23 [00:00<00:00, 4887.72it/s]\n"
     ]
    },
    {
     "name": "stdout",
     "output_type": "stream",
     "text": [
      "--- 0.010587692260742188 seconds for solution baseline ---\n",
      "initial solution\n"
     ]
    },
    {
     "name": "stderr",
     "output_type": "stream",
     "text": [
      "100%|██████████| 24/24 [00:00<00:00, 2719.89it/s]\n"
     ]
    },
    {
     "name": "stdout",
     "output_type": "stream",
     "text": [
      "--- 0.014804601669311523 seconds for solution baseline ---\n",
      "initial solution\n"
     ]
    },
    {
     "name": "stderr",
     "output_type": "stream",
     "text": [
      "100%|██████████| 24/24 [00:00<00:00, 1848.86it/s]\n"
     ]
    },
    {
     "name": "stdout",
     "output_type": "stream",
     "text": [
      "--- 0.020930767059326172 seconds for solution baseline ---\n",
      "initial solution\n"
     ]
    },
    {
     "name": "stderr",
     "output_type": "stream",
     "text": [
      "100%|██████████| 24/24 [00:00<00:00, 1340.21it/s]\n"
     ]
    },
    {
     "name": "stdout",
     "output_type": "stream",
     "text": [
      "--- 0.01790761947631836 seconds for solution baseline ---\n",
      "initial solution\n"
     ]
    },
    {
     "name": "stderr",
     "output_type": "stream",
     "text": [
      "100%|██████████| 24/24 [00:00<00:00, 47572.45it/s]"
     ]
    },
    {
     "name": "stdout",
     "output_type": "stream",
     "text": [
      "--- 0.007628440856933594 seconds for solution baseline ---\n",
      "initial solution\n"
     ]
    },
    {
     "name": "stderr",
     "output_type": "stream",
     "text": [
      "\n",
      "100%|██████████| 24/24 [00:00<00:00, 2129.99it/s]\n"
     ]
    },
    {
     "name": "stdout",
     "output_type": "stream",
     "text": [
      "--- 0.021952390670776367 seconds for solution baseline ---\n",
      "initial solution\n"
     ]
    },
    {
     "name": "stderr",
     "output_type": "stream",
     "text": [
      "100%|██████████| 24/24 [00:00<00:00, 1921.50it/s]\n"
     ]
    },
    {
     "name": "stdout",
     "output_type": "stream",
     "text": [
      "--- 0.018230199813842773 seconds for solution baseline ---\n",
      "initial solution\n"
     ]
    },
    {
     "name": "stderr",
     "output_type": "stream",
     "text": [
      "100%|██████████| 24/24 [00:00<00:00, 1997.72it/s]\n"
     ]
    },
    {
     "name": "stdout",
     "output_type": "stream",
     "text": [
      "--- 0.016564130783081055 seconds for solution baseline ---\n",
      "initial solution\n"
     ]
    },
    {
     "name": "stderr",
     "output_type": "stream",
     "text": [
      "100%|██████████| 24/24 [00:00<00:00, 1804.23it/s]\n"
     ]
    },
    {
     "name": "stdout",
     "output_type": "stream",
     "text": [
      "--- 0.01960611343383789 seconds for solution baseline ---\n",
      "initial solution\n"
     ]
    },
    {
     "name": "stderr",
     "output_type": "stream",
     "text": [
      "100%|██████████| 24/24 [00:00<00:00, 1541.34it/s]\n"
     ]
    },
    {
     "name": "stdout",
     "output_type": "stream",
     "text": [
      "--- 0.020173311233520508 seconds for solution baseline ---\n",
      "initial solution\n"
     ]
    },
    {
     "name": "stderr",
     "output_type": "stream",
     "text": [
      "100%|██████████| 24/24 [00:00<00:00, 1905.24it/s]\n"
     ]
    },
    {
     "name": "stdout",
     "output_type": "stream",
     "text": [
      "--- 0.018901824951171875 seconds for solution baseline ---\n",
      "initial solution\n"
     ]
    },
    {
     "name": "stderr",
     "output_type": "stream",
     "text": [
      "100%|██████████| 25/25 [00:00<00:00, 1203.93it/s]\n"
     ]
    },
    {
     "name": "stdout",
     "output_type": "stream",
     "text": [
      "--- 0.022465229034423828 seconds for solution baseline ---\n",
      "initial solution\n"
     ]
    },
    {
     "name": "stderr",
     "output_type": "stream",
     "text": [
      "100%|██████████| 25/25 [00:00<00:00, 1334.30it/s]\n"
     ]
    },
    {
     "name": "stdout",
     "output_type": "stream",
     "text": [
      "--- 0.026694536209106445 seconds for solution baseline ---\n",
      "initial solution\n"
     ]
    },
    {
     "name": "stderr",
     "output_type": "stream",
     "text": [
      "100%|██████████| 25/25 [00:00<00:00, 1376.73it/s]\n"
     ]
    },
    {
     "name": "stdout",
     "output_type": "stream",
     "text": [
      "--- 0.019664525985717773 seconds for solution baseline ---\n",
      "initial solution\n"
     ]
    },
    {
     "name": "stderr",
     "output_type": "stream",
     "text": [
      "100%|██████████| 25/25 [00:00<00:00, 1448.63it/s]\n"
     ]
    },
    {
     "name": "stdout",
     "output_type": "stream",
     "text": [
      "--- 0.0172576904296875 seconds for solution baseline ---\n",
      "initial solution\n"
     ]
    },
    {
     "name": "stderr",
     "output_type": "stream",
     "text": [
      "100%|██████████| 25/25 [00:00<00:00, 2388.07it/s]\n"
     ]
    },
    {
     "name": "stdout",
     "output_type": "stream",
     "text": [
      "--- 0.02218341827392578 seconds for solution baseline ---\n",
      "initial solution\n"
     ]
    },
    {
     "name": "stderr",
     "output_type": "stream",
     "text": [
      "100%|██████████| 25/25 [00:00<00:00, 1701.32it/s]\n"
     ]
    },
    {
     "name": "stdout",
     "output_type": "stream",
     "text": [
      "--- 0.020931720733642578 seconds for solution baseline ---\n",
      "initial solution\n"
     ]
    },
    {
     "name": "stderr",
     "output_type": "stream",
     "text": [
      "100%|██████████| 25/25 [00:00<00:00, 1795.05it/s]\n"
     ]
    },
    {
     "name": "stdout",
     "output_type": "stream",
     "text": [
      "--- 0.020705699920654297 seconds for solution baseline ---\n",
      "initial solution\n"
     ]
    },
    {
     "name": "stderr",
     "output_type": "stream",
     "text": [
      "100%|██████████| 25/25 [00:00<00:00, 1794.71it/s]\n"
     ]
    },
    {
     "name": "stdout",
     "output_type": "stream",
     "text": [
      "--- 0.022054433822631836 seconds for solution baseline ---\n",
      "initial solution\n"
     ]
    },
    {
     "name": "stderr",
     "output_type": "stream",
     "text": [
      "100%|██████████| 25/25 [00:00<00:00, 1283.86it/s]"
     ]
    },
    {
     "name": "stdout",
     "output_type": "stream",
     "text": [
      "--- 0.02332615852355957 seconds for solution baseline ---\n",
      "initial solution\n"
     ]
    },
    {
     "name": "stderr",
     "output_type": "stream",
     "text": [
      "\n",
      "100%|██████████| 25/25 [00:00<00:00, 1122.55it/s]\n"
     ]
    },
    {
     "name": "stdout",
     "output_type": "stream",
     "text": [
      "--- 0.026514768600463867 seconds for solution baseline ---\n",
      "initial solution\n"
     ]
    },
    {
     "name": "stderr",
     "output_type": "stream",
     "text": [
      "100%|██████████| 26/26 [00:00<00:00, 1497.99it/s]\n"
     ]
    },
    {
     "name": "stdout",
     "output_type": "stream",
     "text": [
      "--- 0.022918224334716797 seconds for solution baseline ---\n",
      "initial solution\n"
     ]
    },
    {
     "name": "stderr",
     "output_type": "stream",
     "text": [
      "100%|██████████| 26/26 [00:00<00:00, 1584.37it/s]\n"
     ]
    },
    {
     "name": "stdout",
     "output_type": "stream",
     "text": [
      "--- 0.021697521209716797 seconds for solution baseline ---\n",
      "initial solution\n"
     ]
    },
    {
     "name": "stderr",
     "output_type": "stream",
     "text": [
      "100%|██████████| 26/26 [00:00<00:00, 1441.67it/s]\n"
     ]
    },
    {
     "name": "stdout",
     "output_type": "stream",
     "text": [
      "--- 0.02808380126953125 seconds for solution baseline ---\n",
      "initial solution\n"
     ]
    },
    {
     "name": "stderr",
     "output_type": "stream",
     "text": [
      "100%|██████████| 26/26 [00:00<00:00, 1764.68it/s]\n"
     ]
    },
    {
     "name": "stdout",
     "output_type": "stream",
     "text": [
      "--- 0.020674943923950195 seconds for solution baseline ---\n",
      "initial solution\n"
     ]
    },
    {
     "name": "stderr",
     "output_type": "stream",
     "text": [
      "100%|██████████| 26/26 [00:00<00:00, 1570.38it/s]\n"
     ]
    },
    {
     "name": "stdout",
     "output_type": "stream",
     "text": [
      "--- 0.020490407943725586 seconds for solution baseline ---\n",
      "initial solution\n"
     ]
    },
    {
     "name": "stderr",
     "output_type": "stream",
     "text": [
      "100%|██████████| 26/26 [00:00<00:00, 1893.82it/s]\n"
     ]
    },
    {
     "name": "stdout",
     "output_type": "stream",
     "text": [
      "--- 0.020664453506469727 seconds for solution baseline ---\n",
      "initial solution\n"
     ]
    },
    {
     "name": "stderr",
     "output_type": "stream",
     "text": [
      "100%|██████████| 26/26 [00:00<00:00, 1667.84it/s]\n"
     ]
    },
    {
     "name": "stdout",
     "output_type": "stream",
     "text": [
      "--- 0.020903587341308594 seconds for solution baseline ---\n",
      "initial solution\n"
     ]
    },
    {
     "name": "stderr",
     "output_type": "stream",
     "text": [
      "100%|██████████| 26/26 [00:00<00:00, 1650.98it/s]\n"
     ]
    },
    {
     "name": "stdout",
     "output_type": "stream",
     "text": [
      "--- 0.019980669021606445 seconds for solution baseline ---\n",
      "initial solution\n"
     ]
    },
    {
     "name": "stderr",
     "output_type": "stream",
     "text": [
      "100%|██████████| 26/26 [00:00<00:00, 1878.62it/s]"
     ]
    },
    {
     "name": "stdout",
     "output_type": "stream",
     "text": [
      "--- 0.02643299102783203 seconds for solution baseline ---\n",
      "initial solution\n"
     ]
    },
    {
     "name": "stderr",
     "output_type": "stream",
     "text": [
      "\n",
      "100%|██████████| 26/26 [00:00<00:00, 1673.06it/s]\n"
     ]
    },
    {
     "name": "stdout",
     "output_type": "stream",
     "text": [
      "--- 0.020359516143798828 seconds for solution baseline ---\n",
      "initial solution\n"
     ]
    },
    {
     "name": "stderr",
     "output_type": "stream",
     "text": [
      "100%|██████████| 27/27 [00:00<00:00, 3408.67it/s]\n"
     ]
    },
    {
     "name": "stdout",
     "output_type": "stream",
     "text": [
      "--- 0.012175321578979492 seconds for solution baseline ---\n",
      "initial solution\n"
     ]
    },
    {
     "name": "stderr",
     "output_type": "stream",
     "text": [
      "100%|██████████| 27/27 [00:00<00:00, 2611.35it/s]"
     ]
    },
    {
     "name": "stdout",
     "output_type": "stream",
     "text": [
      "--- 0.020702600479125977 seconds for solution baseline ---\n",
      "initial solution\n"
     ]
    },
    {
     "name": "stderr",
     "output_type": "stream",
     "text": [
      "\n",
      "100%|██████████| 27/27 [00:00<00:00, 1533.79it/s]\n"
     ]
    },
    {
     "name": "stdout",
     "output_type": "stream",
     "text": [
      "--- 0.022029876708984375 seconds for solution baseline ---\n",
      "initial solution\n"
     ]
    },
    {
     "name": "stderr",
     "output_type": "stream",
     "text": [
      "100%|██████████| 27/27 [00:00<00:00, 1261.64it/s]\n"
     ]
    },
    {
     "name": "stdout",
     "output_type": "stream",
     "text": [
      "--- 0.02817988395690918 seconds for solution baseline ---\n",
      "initial solution\n"
     ]
    },
    {
     "name": "stderr",
     "output_type": "stream",
     "text": [
      "100%|██████████| 27/27 [00:00<00:00, 4727.26it/s]\n"
     ]
    },
    {
     "name": "stdout",
     "output_type": "stream",
     "text": [
      "--- 0.01483464241027832 seconds for solution baseline ---\n",
      "initial solution\n"
     ]
    },
    {
     "name": "stderr",
     "output_type": "stream",
     "text": [
      "100%|██████████| 27/27 [00:00<00:00, 1850.79it/s]\n"
     ]
    },
    {
     "name": "stdout",
     "output_type": "stream",
     "text": [
      "--- 0.02067732810974121 seconds for solution baseline ---\n",
      "initial solution\n"
     ]
    },
    {
     "name": "stderr",
     "output_type": "stream",
     "text": [
      "100%|██████████| 27/27 [00:00<00:00, 1349.57it/s]\n"
     ]
    },
    {
     "name": "stdout",
     "output_type": "stream",
     "text": [
      "--- 0.02868032455444336 seconds for solution baseline ---\n",
      "initial solution\n"
     ]
    },
    {
     "name": "stderr",
     "output_type": "stream",
     "text": [
      "100%|██████████| 27/27 [00:00<00:00, 1043.20it/s]\n"
     ]
    },
    {
     "name": "stdout",
     "output_type": "stream",
     "text": [
      "--- 0.026385784149169922 seconds for solution baseline ---\n",
      "initial solution\n"
     ]
    },
    {
     "name": "stderr",
     "output_type": "stream",
     "text": [
      "100%|██████████| 27/27 [00:00<00:00, 1003.32it/s]\n"
     ]
    },
    {
     "name": "stdout",
     "output_type": "stream",
     "text": [
      "--- 0.02834320068359375 seconds for solution baseline ---\n",
      "initial solution\n"
     ]
    },
    {
     "name": "stderr",
     "output_type": "stream",
     "text": [
      "100%|██████████| 27/27 [00:00<00:00, 2037.76it/s]\n"
     ]
    },
    {
     "name": "stdout",
     "output_type": "stream",
     "text": [
      "--- 0.026315927505493164 seconds for solution baseline ---\n",
      "initial solution\n"
     ]
    },
    {
     "name": "stderr",
     "output_type": "stream",
     "text": [
      "100%|██████████| 28/28 [00:00<00:00, 1704.80it/s]\n"
     ]
    },
    {
     "name": "stdout",
     "output_type": "stream",
     "text": [
      "--- 0.02688145637512207 seconds for solution baseline ---\n",
      "initial solution\n"
     ]
    },
    {
     "name": "stderr",
     "output_type": "stream",
     "text": [
      "100%|██████████| 28/28 [00:00<00:00, 1520.34it/s]\n"
     ]
    },
    {
     "name": "stdout",
     "output_type": "stream",
     "text": [
      "--- 0.029328107833862305 seconds for solution baseline ---\n",
      "initial solution\n"
     ]
    },
    {
     "name": "stderr",
     "output_type": "stream",
     "text": [
      "100%|██████████| 28/28 [00:00<00:00, 1566.27it/s]"
     ]
    },
    {
     "name": "stdout",
     "output_type": "stream",
     "text": [
      "--- 0.026980876922607422 seconds for solution baseline ---\n",
      "initial solution\n"
     ]
    },
    {
     "name": "stderr",
     "output_type": "stream",
     "text": [
      "\n",
      "100%|██████████| 28/28 [00:00<00:00, 2026.34it/s]"
     ]
    },
    {
     "name": "stdout",
     "output_type": "stream",
     "text": [
      "--- 0.027225494384765625 seconds for solution baseline ---\n",
      "initial solution\n"
     ]
    },
    {
     "name": "stderr",
     "output_type": "stream",
     "text": [
      "\n",
      "100%|██████████| 28/28 [00:00<00:00, 1818.98it/s]\n"
     ]
    },
    {
     "name": "stdout",
     "output_type": "stream",
     "text": [
      "--- 0.021030426025390625 seconds for solution baseline ---\n",
      "initial solution\n"
     ]
    },
    {
     "name": "stderr",
     "output_type": "stream",
     "text": [
      "100%|██████████| 28/28 [00:00<00:00, 1601.71it/s]\n"
     ]
    },
    {
     "name": "stdout",
     "output_type": "stream",
     "text": [
      "--- 0.030398130416870117 seconds for solution baseline ---\n",
      "initial solution\n"
     ]
    },
    {
     "name": "stderr",
     "output_type": "stream",
     "text": [
      "100%|██████████| 28/28 [00:00<00:00, 3456.98it/s]\n"
     ]
    },
    {
     "name": "stdout",
     "output_type": "stream",
     "text": [
      "--- 0.015743017196655273 seconds for solution baseline ---\n",
      "initial solution\n"
     ]
    },
    {
     "name": "stderr",
     "output_type": "stream",
     "text": [
      "100%|██████████| 28/28 [00:00<00:00, 997.97it/s]\n"
     ]
    },
    {
     "name": "stdout",
     "output_type": "stream",
     "text": [
      "--- 0.028565645217895508 seconds for solution baseline ---\n",
      "initial solution\n"
     ]
    },
    {
     "name": "stderr",
     "output_type": "stream",
     "text": [
      "100%|██████████| 28/28 [00:00<00:00, 1042.18it/s]\n"
     ]
    },
    {
     "name": "stdout",
     "output_type": "stream",
     "text": [
      "--- 0.02787637710571289 seconds for solution baseline ---\n",
      "initial solution\n"
     ]
    },
    {
     "name": "stderr",
     "output_type": "stream",
     "text": [
      "100%|██████████| 28/28 [00:00<00:00, 1520.44it/s]\n"
     ]
    },
    {
     "name": "stdout",
     "output_type": "stream",
     "text": [
      "--- 0.023793935775756836 seconds for solution baseline ---\n",
      "initial solution\n"
     ]
    },
    {
     "name": "stderr",
     "output_type": "stream",
     "text": [
      "100%|██████████| 29/29 [00:00<00:00, 1209.12it/s]\n"
     ]
    },
    {
     "name": "stdout",
     "output_type": "stream",
     "text": [
      "--- 0.03191637992858887 seconds for solution baseline ---\n",
      "initial solution\n"
     ]
    },
    {
     "name": "stderr",
     "output_type": "stream",
     "text": [
      "100%|██████████| 29/29 [00:00<00:00, 1094.39it/s]\n"
     ]
    },
    {
     "name": "stdout",
     "output_type": "stream",
     "text": [
      "--- 0.03282952308654785 seconds for solution baseline ---\n",
      "initial solution\n"
     ]
    },
    {
     "name": "stderr",
     "output_type": "stream",
     "text": [
      "100%|██████████| 29/29 [00:00<00:00, 1233.73it/s]\n"
     ]
    },
    {
     "name": "stdout",
     "output_type": "stream",
     "text": [
      "--- 0.03475189208984375 seconds for solution baseline ---\n",
      "initial solution\n"
     ]
    },
    {
     "name": "stderr",
     "output_type": "stream",
     "text": [
      "100%|██████████| 29/29 [00:00<00:00, 1266.15it/s]\n"
     ]
    },
    {
     "name": "stdout",
     "output_type": "stream",
     "text": [
      "--- 0.029060840606689453 seconds for solution baseline ---\n",
      "initial solution\n"
     ]
    },
    {
     "name": "stderr",
     "output_type": "stream",
     "text": [
      "100%|██████████| 29/29 [00:00<00:00, 1314.90it/s]\n"
     ]
    },
    {
     "name": "stdout",
     "output_type": "stream",
     "text": [
      "--- 0.027332782745361328 seconds for solution baseline ---\n",
      "initial solution\n"
     ]
    },
    {
     "name": "stderr",
     "output_type": "stream",
     "text": [
      "100%|██████████| 29/29 [00:00<00:00, 1298.28it/s]\n"
     ]
    },
    {
     "name": "stdout",
     "output_type": "stream",
     "text": [
      "--- 0.02887129783630371 seconds for solution baseline ---\n",
      "initial solution\n"
     ]
    },
    {
     "name": "stderr",
     "output_type": "stream",
     "text": [
      "100%|██████████| 29/29 [00:00<00:00, 981.42it/s]\n"
     ]
    },
    {
     "name": "stdout",
     "output_type": "stream",
     "text": [
      "--- 0.03647255897521973 seconds for solution baseline ---\n",
      "initial solution\n"
     ]
    },
    {
     "name": "stderr",
     "output_type": "stream",
     "text": [
      "100%|██████████| 29/29 [00:00<00:00, 1215.28it/s]\n"
     ]
    },
    {
     "name": "stdout",
     "output_type": "stream",
     "text": [
      "--- 0.03003716468811035 seconds for solution baseline ---\n",
      "initial solution\n"
     ]
    },
    {
     "name": "stderr",
     "output_type": "stream",
     "text": [
      "100%|██████████| 29/29 [00:00<00:00, 1028.58it/s]\n"
     ]
    },
    {
     "name": "stdout",
     "output_type": "stream",
     "text": [
      "--- 0.029187917709350586 seconds for solution baseline ---\n",
      "initial solution\n"
     ]
    },
    {
     "name": "stderr",
     "output_type": "stream",
     "text": [
      "100%|██████████| 29/29 [00:00<00:00, 1464.21it/s]\n"
     ]
    },
    {
     "name": "stdout",
     "output_type": "stream",
     "text": [
      "--- 0.02565622329711914 seconds for solution baseline ---\n",
      "initial solution\n"
     ]
    },
    {
     "name": "stderr",
     "output_type": "stream",
     "text": [
      "100%|██████████| 30/30 [00:00<00:00, 716.53it/s]\n"
     ]
    },
    {
     "name": "stdout",
     "output_type": "stream",
     "text": [
      "--- 0.04186820983886719 seconds for solution baseline ---\n",
      "initial solution\n"
     ]
    },
    {
     "name": "stderr",
     "output_type": "stream",
     "text": [
      "100%|██████████| 30/30 [00:00<00:00, 1084.11it/s]\n"
     ]
    },
    {
     "name": "stdout",
     "output_type": "stream",
     "text": [
      "--- 0.03471660614013672 seconds for solution baseline ---\n",
      "initial solution\n"
     ]
    },
    {
     "name": "stderr",
     "output_type": "stream",
     "text": [
      "100%|██████████| 30/30 [00:00<00:00, 1206.97it/s]"
     ]
    },
    {
     "name": "stdout",
     "output_type": "stream",
     "text": [
      "--- 0.0318455696105957 seconds for solution baseline ---\n"
     ]
    },
    {
     "name": "stderr",
     "output_type": "stream",
     "text": [
      "\n"
     ]
    },
    {
     "name": "stdout",
     "output_type": "stream",
     "text": [
      "initial solution\n"
     ]
    },
    {
     "name": "stderr",
     "output_type": "stream",
     "text": [
      "100%|██████████| 30/30 [00:00<00:00, 1203.58it/s]\n"
     ]
    },
    {
     "name": "stdout",
     "output_type": "stream",
     "text": [
      "--- 0.03242135047912598 seconds for solution baseline ---\n",
      "initial solution\n"
     ]
    },
    {
     "name": "stderr",
     "output_type": "stream",
     "text": [
      "100%|██████████| 30/30 [00:00<00:00, 1273.42it/s]\n"
     ]
    },
    {
     "name": "stdout",
     "output_type": "stream",
     "text": [
      "--- 0.038736820220947266 seconds for solution baseline ---\n",
      "initial solution\n"
     ]
    },
    {
     "name": "stderr",
     "output_type": "stream",
     "text": [
      "100%|██████████| 30/30 [00:00<00:00, 1154.79it/s]\n"
     ]
    },
    {
     "name": "stdout",
     "output_type": "stream",
     "text": [
      "--- 0.034737348556518555 seconds for solution baseline ---\n",
      "initial solution\n"
     ]
    },
    {
     "name": "stderr",
     "output_type": "stream",
     "text": [
      "100%|██████████| 30/30 [00:00<00:00, 1338.19it/s]\n"
     ]
    },
    {
     "name": "stdout",
     "output_type": "stream",
     "text": [
      "--- 0.03824019432067871 seconds for solution baseline ---\n",
      "initial solution\n"
     ]
    },
    {
     "name": "stderr",
     "output_type": "stream",
     "text": [
      "100%|██████████| 30/30 [00:00<00:00, 966.62it/s]\n"
     ]
    },
    {
     "name": "stdout",
     "output_type": "stream",
     "text": [
      "--- 0.031035900115966797 seconds for solution baseline ---\n",
      "initial solution\n"
     ]
    },
    {
     "name": "stderr",
     "output_type": "stream",
     "text": [
      "100%|██████████| 30/30 [00:00<00:00, 1307.18it/s]\n"
     ]
    },
    {
     "name": "stdout",
     "output_type": "stream",
     "text": [
      "--- 0.030545949935913086 seconds for solution baseline ---\n",
      "initial solution\n"
     ]
    },
    {
     "name": "stderr",
     "output_type": "stream",
     "text": [
      "100%|██████████| 30/30 [00:00<00:00, 2506.26it/s]\n"
     ]
    },
    {
     "name": "stdout",
     "output_type": "stream",
     "text": [
      "--- 0.01701521873474121 seconds for solution baseline ---\n",
      "initial solution\n"
     ]
    },
    {
     "name": "stderr",
     "output_type": "stream",
     "text": [
      "100%|██████████| 31/31 [00:00<00:00, 1507.94it/s]\n"
     ]
    },
    {
     "name": "stdout",
     "output_type": "stream",
     "text": [
      "--- 0.03056478500366211 seconds for solution baseline ---\n",
      "initial solution\n"
     ]
    },
    {
     "name": "stderr",
     "output_type": "stream",
     "text": [
      "100%|██████████| 31/31 [00:00<00:00, 929.95it/s]\n"
     ]
    },
    {
     "name": "stdout",
     "output_type": "stream",
     "text": [
      "--- 0.033334970474243164 seconds for solution baseline ---\n",
      "initial solution\n"
     ]
    },
    {
     "name": "stderr",
     "output_type": "stream",
     "text": [
      "100%|██████████| 31/31 [00:00<00:00, 1132.77it/s]\n"
     ]
    },
    {
     "name": "stdout",
     "output_type": "stream",
     "text": [
      "--- 0.03863120079040527 seconds for solution baseline ---\n",
      "initial solution\n"
     ]
    },
    {
     "name": "stderr",
     "output_type": "stream",
     "text": [
      "100%|██████████| 31/31 [00:00<00:00, 749.86it/s]\n"
     ]
    },
    {
     "name": "stdout",
     "output_type": "stream",
     "text": [
      "--- 0.04199385643005371 seconds for solution baseline ---\n",
      "initial solution\n"
     ]
    },
    {
     "name": "stderr",
     "output_type": "stream",
     "text": [
      "100%|██████████| 31/31 [00:00<00:00, 1007.86it/s]\n"
     ]
    },
    {
     "name": "stdout",
     "output_type": "stream",
     "text": [
      "--- 0.03920602798461914 seconds for solution baseline ---\n",
      "initial solution\n"
     ]
    },
    {
     "name": "stderr",
     "output_type": "stream",
     "text": [
      "100%|██████████| 31/31 [00:00<00:00, 1177.75it/s]"
     ]
    },
    {
     "name": "stdout",
     "output_type": "stream",
     "text": [
      "--- 0.03553366661071777 seconds for solution baseline ---\n"
     ]
    },
    {
     "name": "stderr",
     "output_type": "stream",
     "text": [
      "\n"
     ]
    },
    {
     "name": "stdout",
     "output_type": "stream",
     "text": [
      "initial solution\n"
     ]
    },
    {
     "name": "stderr",
     "output_type": "stream",
     "text": [
      "100%|██████████| 31/31 [00:00<00:00, 992.32it/s]\n"
     ]
    },
    {
     "name": "stdout",
     "output_type": "stream",
     "text": [
      "--- 0.04051709175109863 seconds for solution baseline ---\n",
      "initial solution\n"
     ]
    },
    {
     "name": "stderr",
     "output_type": "stream",
     "text": [
      "100%|██████████| 31/31 [00:00<00:00, 1115.79it/s]"
     ]
    },
    {
     "name": "stdout",
     "output_type": "stream",
     "text": [
      "--- 0.03136277198791504 seconds for solution baseline ---\n",
      "initial solution\n"
     ]
    },
    {
     "name": "stderr",
     "output_type": "stream",
     "text": [
      "\n",
      "100%|██████████| 31/31 [00:00<00:00, 891.13it/s]\n"
     ]
    },
    {
     "name": "stdout",
     "output_type": "stream",
     "text": [
      "--- 0.03478741645812988 seconds for solution baseline ---\n",
      "initial solution\n"
     ]
    },
    {
     "name": "stderr",
     "output_type": "stream",
     "text": [
      "100%|██████████| 31/31 [00:00<00:00, 1093.88it/s]\n"
     ]
    },
    {
     "name": "stdout",
     "output_type": "stream",
     "text": [
      "--- 0.034844398498535156 seconds for solution baseline ---\n",
      "initial solution\n"
     ]
    },
    {
     "name": "stderr",
     "output_type": "stream",
     "text": [
      "100%|██████████| 32/32 [00:00<00:00, 1082.98it/s]\n"
     ]
    },
    {
     "name": "stdout",
     "output_type": "stream",
     "text": [
      "--- 0.04828667640686035 seconds for solution baseline ---\n",
      "initial solution\n"
     ]
    },
    {
     "name": "stderr",
     "output_type": "stream",
     "text": [
      "100%|██████████| 32/32 [00:00<00:00, 1443.62it/s]\n"
     ]
    },
    {
     "name": "stdout",
     "output_type": "stream",
     "text": [
      "--- 0.033111572265625 seconds for solution baseline ---\n",
      "initial solution\n"
     ]
    },
    {
     "name": "stderr",
     "output_type": "stream",
     "text": [
      "100%|██████████| 32/32 [00:00<00:00, 780.77it/s]\n"
     ]
    },
    {
     "name": "stdout",
     "output_type": "stream",
     "text": [
      "--- 0.040985107421875 seconds for solution baseline ---\n",
      "initial solution\n"
     ]
    },
    {
     "name": "stderr",
     "output_type": "stream",
     "text": [
      "100%|██████████| 32/32 [00:00<00:00, 716.54it/s]\n"
     ]
    },
    {
     "name": "stdout",
     "output_type": "stream",
     "text": [
      "--- 0.04465889930725098 seconds for solution baseline ---\n",
      "initial solution\n"
     ]
    },
    {
     "name": "stderr",
     "output_type": "stream",
     "text": [
      "100%|██████████| 32/32 [00:00<00:00, 1061.72it/s]\n"
     ]
    },
    {
     "name": "stdout",
     "output_type": "stream",
     "text": [
      "--- 0.03685712814331055 seconds for solution baseline ---\n",
      "initial solution\n"
     ]
    },
    {
     "name": "stderr",
     "output_type": "stream",
     "text": [
      "100%|██████████| 32/32 [00:00<00:00, 1115.83it/s]\n"
     ]
    },
    {
     "name": "stdout",
     "output_type": "stream",
     "text": [
      "--- 0.034523725509643555 seconds for solution baseline ---\n",
      "initial solution\n"
     ]
    },
    {
     "name": "stderr",
     "output_type": "stream",
     "text": [
      "100%|██████████| 32/32 [00:00<00:00, 1032.20it/s]\n"
     ]
    },
    {
     "name": "stdout",
     "output_type": "stream",
     "text": [
      "--- 0.03949451446533203 seconds for solution baseline ---\n",
      "initial solution\n"
     ]
    },
    {
     "name": "stderr",
     "output_type": "stream",
     "text": [
      "100%|██████████| 32/32 [00:00<00:00, 767.43it/s]\n"
     ]
    },
    {
     "name": "stdout",
     "output_type": "stream",
     "text": [
      "--- 0.04285478591918945 seconds for solution baseline ---\n",
      "initial solution\n"
     ]
    },
    {
     "name": "stderr",
     "output_type": "stream",
     "text": [
      "100%|██████████| 32/32 [00:00<00:00, 1088.97it/s]\n"
     ]
    },
    {
     "name": "stdout",
     "output_type": "stream",
     "text": [
      "--- 0.03474068641662598 seconds for solution baseline ---\n",
      "initial solution\n"
     ]
    },
    {
     "name": "stderr",
     "output_type": "stream",
     "text": [
      "100%|██████████| 32/32 [00:00<00:00, 976.14it/s]\n"
     ]
    },
    {
     "name": "stdout",
     "output_type": "stream",
     "text": [
      "--- 0.03945732116699219 seconds for solution baseline ---\n",
      "initial solution\n"
     ]
    },
    {
     "name": "stderr",
     "output_type": "stream",
     "text": [
      "100%|██████████| 33/33 [00:00<00:00, 962.50it/s]\n"
     ]
    },
    {
     "name": "stdout",
     "output_type": "stream",
     "text": [
      "--- 0.04157447814941406 seconds for solution baseline ---\n",
      "initial solution\n"
     ]
    },
    {
     "name": "stderr",
     "output_type": "stream",
     "text": [
      "100%|██████████| 33/33 [00:00<00:00, 949.93it/s]\n"
     ]
    },
    {
     "name": "stdout",
     "output_type": "stream",
     "text": [
      "--- 0.04329109191894531 seconds for solution baseline ---\n",
      "initial solution\n"
     ]
    },
    {
     "name": "stderr",
     "output_type": "stream",
     "text": [
      "100%|██████████| 33/33 [00:00<00:00, 766.10it/s]\n"
     ]
    },
    {
     "name": "stdout",
     "output_type": "stream",
     "text": [
      "--- 0.05253171920776367 seconds for solution baseline ---\n",
      "initial solution\n"
     ]
    },
    {
     "name": "stderr",
     "output_type": "stream",
     "text": [
      "100%|██████████| 33/33 [00:00<00:00, 942.75it/s]"
     ]
    },
    {
     "name": "stdout",
     "output_type": "stream",
     "text": [
      "--- 0.04023885726928711 seconds for solution baseline ---\n"
     ]
    },
    {
     "name": "stderr",
     "output_type": "stream",
     "text": [
      "\n"
     ]
    },
    {
     "name": "stdout",
     "output_type": "stream",
     "text": [
      "initial solution\n"
     ]
    },
    {
     "name": "stderr",
     "output_type": "stream",
     "text": [
      "100%|██████████| 33/33 [00:00<00:00, 1049.06it/s]\n"
     ]
    },
    {
     "name": "stdout",
     "output_type": "stream",
     "text": [
      "--- 0.041124820709228516 seconds for solution baseline ---\n",
      "initial solution\n"
     ]
    },
    {
     "name": "stderr",
     "output_type": "stream",
     "text": [
      "100%|██████████| 33/33 [00:00<00:00, 923.04it/s]\n"
     ]
    },
    {
     "name": "stdout",
     "output_type": "stream",
     "text": [
      "--- 0.044651031494140625 seconds for solution baseline ---\n",
      "initial solution\n"
     ]
    },
    {
     "name": "stderr",
     "output_type": "stream",
     "text": [
      "100%|██████████| 33/33 [00:00<00:00, 778.81it/s]\n"
     ]
    },
    {
     "name": "stdout",
     "output_type": "stream",
     "text": [
      "--- 0.04433035850524902 seconds for solution baseline ---\n",
      "initial solution\n"
     ]
    },
    {
     "name": "stderr",
     "output_type": "stream",
     "text": [
      "100%|██████████| 33/33 [00:00<00:00, 922.32it/s]\n"
     ]
    },
    {
     "name": "stdout",
     "output_type": "stream",
     "text": [
      "--- 0.04161262512207031 seconds for solution baseline ---\n",
      "initial solution\n"
     ]
    },
    {
     "name": "stderr",
     "output_type": "stream",
     "text": [
      "100%|██████████| 33/33 [00:00<00:00, 977.27it/s]\n"
     ]
    },
    {
     "name": "stdout",
     "output_type": "stream",
     "text": [
      "--- 0.04178643226623535 seconds for solution baseline ---\n",
      "initial solution\n"
     ]
    },
    {
     "name": "stderr",
     "output_type": "stream",
     "text": [
      "100%|██████████| 33/33 [00:00<00:00, 980.68it/s]\n"
     ]
    },
    {
     "name": "stdout",
     "output_type": "stream",
     "text": [
      "--- 0.04849362373352051 seconds for solution baseline ---\n",
      "initial solution\n"
     ]
    },
    {
     "name": "stderr",
     "output_type": "stream",
     "text": [
      "100%|██████████| 34/34 [00:00<00:00, 960.51it/s]\n"
     ]
    },
    {
     "name": "stdout",
     "output_type": "stream",
     "text": [
      "--- 0.041864871978759766 seconds for solution baseline ---\n",
      "initial solution\n"
     ]
    },
    {
     "name": "stderr",
     "output_type": "stream",
     "text": [
      "100%|██████████| 34/34 [00:00<00:00, 856.33it/s]\n"
     ]
    },
    {
     "name": "stdout",
     "output_type": "stream",
     "text": [
      "--- 0.04591107368469238 seconds for solution baseline ---\n",
      "initial solution\n"
     ]
    },
    {
     "name": "stderr",
     "output_type": "stream",
     "text": [
      "100%|██████████| 34/34 [00:00<00:00, 930.74it/s]\n"
     ]
    },
    {
     "name": "stdout",
     "output_type": "stream",
     "text": [
      "--- 0.04181861877441406 seconds for solution baseline ---\n",
      "initial solution\n"
     ]
    },
    {
     "name": "stderr",
     "output_type": "stream",
     "text": [
      "100%|██████████| 34/34 [00:00<00:00, 890.71it/s]\n"
     ]
    },
    {
     "name": "stdout",
     "output_type": "stream",
     "text": [
      "--- 0.04737210273742676 seconds for solution baseline ---\n",
      "initial solution\n"
     ]
    },
    {
     "name": "stderr",
     "output_type": "stream",
     "text": [
      "100%|██████████| 34/34 [00:00<00:00, 815.57it/s]\n"
     ]
    },
    {
     "name": "stdout",
     "output_type": "stream",
     "text": [
      "--- 0.049173593521118164 seconds for solution baseline ---\n",
      "initial solution\n"
     ]
    },
    {
     "name": "stderr",
     "output_type": "stream",
     "text": [
      "100%|██████████| 34/34 [00:00<00:00, 841.09it/s]\n"
     ]
    },
    {
     "name": "stdout",
     "output_type": "stream",
     "text": [
      "--- 0.048673391342163086 seconds for solution baseline ---\n",
      "initial solution\n"
     ]
    },
    {
     "name": "stderr",
     "output_type": "stream",
     "text": [
      "100%|██████████| 34/34 [00:00<00:00, 892.79it/s]\n"
     ]
    },
    {
     "name": "stdout",
     "output_type": "stream",
     "text": [
      "--- 0.04497098922729492 seconds for solution baseline ---\n",
      "initial solution\n"
     ]
    },
    {
     "name": "stderr",
     "output_type": "stream",
     "text": [
      "100%|██████████| 34/34 [00:00<00:00, 945.26it/s]\n"
     ]
    },
    {
     "name": "stdout",
     "output_type": "stream",
     "text": [
      "--- 0.044175148010253906 seconds for solution baseline ---\n",
      "initial solution\n"
     ]
    },
    {
     "name": "stderr",
     "output_type": "stream",
     "text": [
      "100%|██████████| 34/34 [00:00<00:00, 991.93it/s]\n"
     ]
    },
    {
     "name": "stdout",
     "output_type": "stream",
     "text": [
      "--- 0.04868507385253906 seconds for solution baseline ---\n",
      "initial solution\n"
     ]
    },
    {
     "name": "stderr",
     "output_type": "stream",
     "text": [
      "100%|██████████| 34/34 [00:00<00:00, 903.40it/s]\n"
     ]
    },
    {
     "name": "stdout",
     "output_type": "stream",
     "text": [
      "--- 0.04713273048400879 seconds for solution baseline ---\n",
      "initial solution\n"
     ]
    },
    {
     "name": "stderr",
     "output_type": "stream",
     "text": [
      "100%|██████████| 35/35 [00:00<00:00, 757.52it/s]\n"
     ]
    },
    {
     "name": "stdout",
     "output_type": "stream",
     "text": [
      "--- 0.05361747741699219 seconds for solution baseline ---\n",
      "initial solution\n"
     ]
    },
    {
     "name": "stderr",
     "output_type": "stream",
     "text": [
      "100%|██████████| 35/35 [00:00<00:00, 888.41it/s]\n"
     ]
    },
    {
     "name": "stdout",
     "output_type": "stream",
     "text": [
      "--- 0.04440569877624512 seconds for solution baseline ---\n",
      "initial solution\n"
     ]
    },
    {
     "name": "stderr",
     "output_type": "stream",
     "text": [
      "100%|██████████| 35/35 [00:00<00:00, 713.76it/s]\n"
     ]
    },
    {
     "name": "stdout",
     "output_type": "stream",
     "text": [
      "--- 0.05606818199157715 seconds for solution baseline ---\n",
      "initial solution\n"
     ]
    },
    {
     "name": "stderr",
     "output_type": "stream",
     "text": [
      "100%|██████████| 35/35 [00:00<00:00, 962.11it/s]\n"
     ]
    },
    {
     "name": "stdout",
     "output_type": "stream",
     "text": [
      "--- 0.04708051681518555 seconds for solution baseline ---\n",
      "initial solution\n"
     ]
    },
    {
     "name": "stderr",
     "output_type": "stream",
     "text": [
      "100%|██████████| 35/35 [00:00<00:00, 976.61it/s]\n"
     ]
    },
    {
     "name": "stdout",
     "output_type": "stream",
     "text": [
      "--- 0.04771876335144043 seconds for solution baseline ---\n",
      "initial solution\n"
     ]
    },
    {
     "name": "stderr",
     "output_type": "stream",
     "text": [
      "100%|██████████| 35/35 [00:00<00:00, 1090.64it/s]\n"
     ]
    },
    {
     "name": "stdout",
     "output_type": "stream",
     "text": [
      "--- 0.03872251510620117 seconds for solution baseline ---\n",
      "initial solution\n"
     ]
    },
    {
     "name": "stderr",
     "output_type": "stream",
     "text": [
      "100%|██████████| 35/35 [00:00<00:00, 886.16it/s]"
     ]
    },
    {
     "name": "stdout",
     "output_type": "stream",
     "text": [
      "--- 0.04693007469177246 seconds for solution baseline ---\n",
      "initial solution\n"
     ]
    },
    {
     "name": "stderr",
     "output_type": "stream",
     "text": [
      "\n",
      "100%|██████████| 35/35 [00:00<00:00, 821.96it/s]\n"
     ]
    },
    {
     "name": "stdout",
     "output_type": "stream",
     "text": [
      "--- 0.04996132850646973 seconds for solution baseline ---\n",
      "initial solution\n"
     ]
    },
    {
     "name": "stderr",
     "output_type": "stream",
     "text": [
      "100%|██████████| 35/35 [00:00<00:00, 713.25it/s]\n"
     ]
    },
    {
     "name": "stdout",
     "output_type": "stream",
     "text": [
      "--- 0.05457615852355957 seconds for solution baseline ---\n",
      "initial solution\n"
     ]
    },
    {
     "name": "stderr",
     "output_type": "stream",
     "text": [
      "100%|██████████| 35/35 [00:00<00:00, 677.93it/s]\n"
     ]
    },
    {
     "name": "stdout",
     "output_type": "stream",
     "text": [
      "--- 0.06563472747802734 seconds for solution baseline ---\n",
      "initial solution\n"
     ]
    },
    {
     "name": "stderr",
     "output_type": "stream",
     "text": [
      "100%|██████████| 36/36 [00:00<00:00, 683.34it/s]\n"
     ]
    },
    {
     "name": "stdout",
     "output_type": "stream",
     "text": [
      "--- 0.06587791442871094 seconds for solution baseline ---\n",
      "initial solution\n"
     ]
    },
    {
     "name": "stderr",
     "output_type": "stream",
     "text": [
      "100%|██████████| 36/36 [00:00<00:00, 533.97it/s]\n"
     ]
    },
    {
     "name": "stdout",
     "output_type": "stream",
     "text": [
      "--- 0.30930042266845703 seconds for solution baseline ---\n",
      "initial solution\n"
     ]
    },
    {
     "name": "stderr",
     "output_type": "stream",
     "text": [
      "100%|██████████| 36/36 [00:00<00:00, 986.74it/s]\n"
     ]
    },
    {
     "name": "stdout",
     "output_type": "stream",
     "text": [
      "--- 0.043799638748168945 seconds for solution baseline ---\n",
      "initial solution\n"
     ]
    },
    {
     "name": "stderr",
     "output_type": "stream",
     "text": [
      "100%|██████████| 36/36 [00:00<00:00, 842.89it/s]\n"
     ]
    },
    {
     "name": "stdout",
     "output_type": "stream",
     "text": [
      "--- 0.05582404136657715 seconds for solution baseline ---\n",
      "initial solution\n"
     ]
    },
    {
     "name": "stderr",
     "output_type": "stream",
     "text": [
      "100%|██████████| 36/36 [00:00<00:00, 704.79it/s]\n"
     ]
    },
    {
     "name": "stdout",
     "output_type": "stream",
     "text": [
      "--- 0.06673264503479004 seconds for solution baseline ---\n",
      "initial solution\n"
     ]
    },
    {
     "name": "stderr",
     "output_type": "stream",
     "text": [
      "100%|██████████| 36/36 [00:00<00:00, 799.03it/s]\n"
     ]
    },
    {
     "name": "stdout",
     "output_type": "stream",
     "text": [
      "--- 0.05214047431945801 seconds for solution baseline ---\n",
      "initial solution\n"
     ]
    },
    {
     "name": "stderr",
     "output_type": "stream",
     "text": [
      "100%|██████████| 36/36 [00:00<00:00, 832.84it/s]\n"
     ]
    },
    {
     "name": "stdout",
     "output_type": "stream",
     "text": [
      "--- 0.05009102821350098 seconds for solution baseline ---\n",
      "initial solution\n"
     ]
    },
    {
     "name": "stderr",
     "output_type": "stream",
     "text": [
      "100%|██████████| 36/36 [00:00<00:00, 852.80it/s]\n"
     ]
    },
    {
     "name": "stdout",
     "output_type": "stream",
     "text": [
      "--- 0.05391120910644531 seconds for solution baseline ---\n",
      "initial solution\n"
     ]
    },
    {
     "name": "stderr",
     "output_type": "stream",
     "text": [
      "100%|██████████| 36/36 [00:00<00:00, 746.89it/s]\n"
     ]
    },
    {
     "name": "stdout",
     "output_type": "stream",
     "text": [
      "--- 0.04870271682739258 seconds for solution baseline ---\n",
      "initial solution\n"
     ]
    },
    {
     "name": "stderr",
     "output_type": "stream",
     "text": [
      "100%|██████████| 36/36 [00:00<00:00, 740.35it/s]\n"
     ]
    },
    {
     "name": "stdout",
     "output_type": "stream",
     "text": [
      "--- 0.05566048622131348 seconds for solution baseline ---\n",
      "initial solution\n"
     ]
    },
    {
     "name": "stderr",
     "output_type": "stream",
     "text": [
      "100%|██████████| 37/37 [00:00<00:00, 768.66it/s]\n"
     ]
    },
    {
     "name": "stdout",
     "output_type": "stream",
     "text": [
      "--- 0.05638885498046875 seconds for solution baseline ---\n",
      "initial solution\n"
     ]
    },
    {
     "name": "stderr",
     "output_type": "stream",
     "text": [
      "100%|██████████| 37/37 [00:00<00:00, 752.49it/s]\n"
     ]
    },
    {
     "name": "stdout",
     "output_type": "stream",
     "text": [
      "--- 0.05739235877990723 seconds for solution baseline ---\n",
      "initial solution\n"
     ]
    },
    {
     "name": "stderr",
     "output_type": "stream",
     "text": [
      "100%|██████████| 37/37 [00:00<00:00, 789.61it/s]\n"
     ]
    },
    {
     "name": "stdout",
     "output_type": "stream",
     "text": [
      "--- 0.05361294746398926 seconds for solution baseline ---\n",
      "initial solution\n"
     ]
    },
    {
     "name": "stderr",
     "output_type": "stream",
     "text": [
      "100%|██████████| 37/37 [00:00<00:00, 655.11it/s]\n"
     ]
    },
    {
     "name": "stdout",
     "output_type": "stream",
     "text": [
      "--- 0.059484004974365234 seconds for solution baseline ---\n",
      "initial solution\n"
     ]
    },
    {
     "name": "stderr",
     "output_type": "stream",
     "text": [
      "100%|██████████| 37/37 [00:00<00:00, 921.63it/s]\n"
     ]
    },
    {
     "name": "stdout",
     "output_type": "stream",
     "text": [
      "--- 0.050154685974121094 seconds for solution baseline ---\n",
      "initial solution\n"
     ]
    },
    {
     "name": "stderr",
     "output_type": "stream",
     "text": [
      "100%|██████████| 37/37 [00:00<00:00, 816.59it/s]\n"
     ]
    },
    {
     "name": "stdout",
     "output_type": "stream",
     "text": [
      "--- 0.05257534980773926 seconds for solution baseline ---\n",
      "initial solution\n"
     ]
    },
    {
     "name": "stderr",
     "output_type": "stream",
     "text": [
      "100%|██████████| 37/37 [00:00<00:00, 798.64it/s]\n"
     ]
    },
    {
     "name": "stdout",
     "output_type": "stream",
     "text": [
      "--- 0.05371809005737305 seconds for solution baseline ---\n",
      "initial solution\n"
     ]
    },
    {
     "name": "stderr",
     "output_type": "stream",
     "text": [
      "100%|██████████| 37/37 [00:00<00:00, 887.65it/s]\n"
     ]
    },
    {
     "name": "stdout",
     "output_type": "stream",
     "text": [
      "--- 0.054889678955078125 seconds for solution baseline ---\n",
      "initial solution\n"
     ]
    },
    {
     "name": "stderr",
     "output_type": "stream",
     "text": [
      "100%|██████████| 37/37 [00:00<00:00, 871.93it/s]\n"
     ]
    },
    {
     "name": "stdout",
     "output_type": "stream",
     "text": [
      "--- 0.04947495460510254 seconds for solution baseline ---\n",
      "initial solution\n"
     ]
    },
    {
     "name": "stderr",
     "output_type": "stream",
     "text": [
      "100%|██████████| 37/37 [00:00<00:00, 727.52it/s]"
     ]
    },
    {
     "name": "stdout",
     "output_type": "stream",
     "text": [
      "--- 0.054796457290649414 seconds for solution baseline ---"
     ]
    },
    {
     "name": "stderr",
     "output_type": "stream",
     "text": [
      "\n"
     ]
    },
    {
     "name": "stdout",
     "output_type": "stream",
     "text": [
      "\n",
      "initial solution\n"
     ]
    },
    {
     "name": "stderr",
     "output_type": "stream",
     "text": [
      "100%|██████████| 38/38 [00:00<00:00, 741.31it/s]\n"
     ]
    },
    {
     "name": "stdout",
     "output_type": "stream",
     "text": [
      "--- 0.05205273628234863 seconds for solution baseline ---\n",
      "initial solution\n"
     ]
    },
    {
     "name": "stderr",
     "output_type": "stream",
     "text": [
      "100%|██████████| 38/38 [00:00<00:00, 738.64it/s]\n"
     ]
    },
    {
     "name": "stdout",
     "output_type": "stream",
     "text": [
      "--- 0.05789613723754883 seconds for solution baseline ---\n",
      "initial solution\n"
     ]
    },
    {
     "name": "stderr",
     "output_type": "stream",
     "text": [
      "100%|██████████| 38/38 [00:00<00:00, 675.12it/s]\n"
     ]
    },
    {
     "name": "stdout",
     "output_type": "stream",
     "text": [
      "--- 0.06332039833068848 seconds for solution baseline ---\n",
      "initial solution\n"
     ]
    },
    {
     "name": "stderr",
     "output_type": "stream",
     "text": [
      "100%|██████████| 38/38 [00:00<00:00, 683.00it/s]\n"
     ]
    },
    {
     "name": "stdout",
     "output_type": "stream",
     "text": [
      "--- 0.05714678764343262 seconds for solution baseline ---\n",
      "initial solution\n"
     ]
    },
    {
     "name": "stderr",
     "output_type": "stream",
     "text": [
      "100%|██████████| 38/38 [00:00<00:00, 676.34it/s]\n"
     ]
    },
    {
     "name": "stdout",
     "output_type": "stream",
     "text": [
      "--- 0.07343673706054688 seconds for solution baseline ---\n",
      "initial solution\n"
     ]
    },
    {
     "name": "stderr",
     "output_type": "stream",
     "text": [
      "100%|██████████| 38/38 [00:00<00:00, 676.29it/s]\n"
     ]
    },
    {
     "name": "stdout",
     "output_type": "stream",
     "text": [
      "--- 0.06483912467956543 seconds for solution baseline ---\n",
      "initial solution\n"
     ]
    },
    {
     "name": "stderr",
     "output_type": "stream",
     "text": [
      "100%|██████████| 38/38 [00:00<00:00, 585.76it/s]\n"
     ]
    },
    {
     "name": "stdout",
     "output_type": "stream",
     "text": [
      "--- 0.07480931282043457 seconds for solution baseline ---\n",
      "initial solution\n"
     ]
    },
    {
     "name": "stderr",
     "output_type": "stream",
     "text": [
      "100%|██████████| 38/38 [00:00<00:00, 671.62it/s]\n"
     ]
    },
    {
     "name": "stdout",
     "output_type": "stream",
     "text": [
      "--- 0.062012434005737305 seconds for solution baseline ---\n",
      "initial solution\n"
     ]
    },
    {
     "name": "stderr",
     "output_type": "stream",
     "text": [
      "100%|██████████| 38/38 [00:00<00:00, 632.27it/s]\n"
     ]
    },
    {
     "name": "stdout",
     "output_type": "stream",
     "text": [
      "--- 0.07166409492492676 seconds for solution baseline ---\n",
      "initial solution\n"
     ]
    },
    {
     "name": "stderr",
     "output_type": "stream",
     "text": [
      "100%|██████████| 38/38 [00:00<00:00, 798.18it/s]\n"
     ]
    },
    {
     "name": "stdout",
     "output_type": "stream",
     "text": [
      "--- 0.059810638427734375 seconds for solution baseline ---\n",
      "initial solution\n"
     ]
    },
    {
     "name": "stderr",
     "output_type": "stream",
     "text": [
      "100%|██████████| 39/39 [00:00<00:00, 616.69it/s]\n"
     ]
    },
    {
     "name": "stdout",
     "output_type": "stream",
     "text": [
      "--- 0.07074689865112305 seconds for solution baseline ---\n",
      "initial solution\n"
     ]
    },
    {
     "name": "stderr",
     "output_type": "stream",
     "text": [
      "100%|██████████| 39/39 [00:00<00:00, 526.66it/s]"
     ]
    },
    {
     "name": "stdout",
     "output_type": "stream",
     "text": [
      "--- 0.0740511417388916 seconds for solution baseline ---\n"
     ]
    },
    {
     "name": "stderr",
     "output_type": "stream",
     "text": [
      "\n"
     ]
    },
    {
     "name": "stdout",
     "output_type": "stream",
     "text": [
      "initial solution\n"
     ]
    },
    {
     "name": "stderr",
     "output_type": "stream",
     "text": [
      "100%|██████████| 39/39 [00:00<00:00, 578.88it/s]\n"
     ]
    },
    {
     "name": "stdout",
     "output_type": "stream",
     "text": [
      "--- 0.06737136840820312 seconds for solution baseline ---\n",
      "initial solution\n"
     ]
    },
    {
     "name": "stderr",
     "output_type": "stream",
     "text": [
      "100%|██████████| 39/39 [00:00<00:00, 780.50it/s]\n"
     ]
    },
    {
     "name": "stdout",
     "output_type": "stream",
     "text": [
      "--- 0.04996776580810547 seconds for solution baseline ---\n",
      "initial solution\n"
     ]
    },
    {
     "name": "stderr",
     "output_type": "stream",
     "text": [
      "100%|██████████| 39/39 [00:00<00:00, 644.47it/s]\n"
     ]
    },
    {
     "name": "stdout",
     "output_type": "stream",
     "text": [
      "--- 0.06620454788208008 seconds for solution baseline ---\n",
      "initial solution\n"
     ]
    },
    {
     "name": "stderr",
     "output_type": "stream",
     "text": [
      "100%|██████████| 39/39 [00:00<00:00, 715.96it/s]\n"
     ]
    },
    {
     "name": "stdout",
     "output_type": "stream",
     "text": [
      "--- 0.06890392303466797 seconds for solution baseline ---\n",
      "initial solution\n"
     ]
    },
    {
     "name": "stderr",
     "output_type": "stream",
     "text": [
      "100%|██████████| 39/39 [00:00<00:00, 800.86it/s]\n"
     ]
    },
    {
     "name": "stdout",
     "output_type": "stream",
     "text": [
      "--- 0.05553460121154785 seconds for solution baseline ---\n",
      "initial solution\n"
     ]
    },
    {
     "name": "stderr",
     "output_type": "stream",
     "text": [
      "100%|██████████| 39/39 [00:00<00:00, 555.20it/s]\n"
     ]
    },
    {
     "name": "stdout",
     "output_type": "stream",
     "text": [
      "--- 0.07024526596069336 seconds for solution baseline ---\n",
      "initial solution\n"
     ]
    },
    {
     "name": "stderr",
     "output_type": "stream",
     "text": [
      "100%|██████████| 39/39 [00:00<00:00, 702.29it/s]\n"
     ]
    },
    {
     "name": "stdout",
     "output_type": "stream",
     "text": [
      "--- 0.06008791923522949 seconds for solution baseline ---\n",
      "initial solution\n"
     ]
    },
    {
     "name": "stderr",
     "output_type": "stream",
     "text": [
      "100%|██████████| 39/39 [00:00<00:00, 714.61it/s]\n"
     ]
    },
    {
     "name": "stdout",
     "output_type": "stream",
     "text": [
      "--- 0.07008242607116699 seconds for solution baseline ---\n",
      "initial solution\n"
     ]
    },
    {
     "name": "stderr",
     "output_type": "stream",
     "text": [
      "100%|██████████| 40/40 [00:00<00:00, 613.23it/s]\n"
     ]
    },
    {
     "name": "stdout",
     "output_type": "stream",
     "text": [
      "--- 0.07263493537902832 seconds for solution baseline ---\n",
      "initial solution\n"
     ]
    },
    {
     "name": "stderr",
     "output_type": "stream",
     "text": [
      "100%|██████████| 40/40 [00:00<00:00, 645.42it/s]\n"
     ]
    },
    {
     "name": "stdout",
     "output_type": "stream",
     "text": [
      "--- 0.07431960105895996 seconds for solution baseline ---\n",
      "initial solution\n"
     ]
    },
    {
     "name": "stderr",
     "output_type": "stream",
     "text": [
      "100%|██████████| 40/40 [00:00<00:00, 676.44it/s]\n"
     ]
    },
    {
     "name": "stdout",
     "output_type": "stream",
     "text": [
      "--- 0.06940674781799316 seconds for solution baseline ---\n",
      "initial solution\n"
     ]
    },
    {
     "name": "stderr",
     "output_type": "stream",
     "text": [
      "100%|██████████| 40/40 [00:00<00:00, 612.84it/s]"
     ]
    },
    {
     "name": "stdout",
     "output_type": "stream",
     "text": [
      "--- 0.06526994705200195 seconds for solution baseline ---\n",
      "initial solution\n"
     ]
    },
    {
     "name": "stderr",
     "output_type": "stream",
     "text": [
      "\n",
      "100%|██████████| 40/40 [00:00<00:00, 664.97it/s]"
     ]
    },
    {
     "name": "stdout",
     "output_type": "stream",
     "text": [
      "--- 0.06866192817687988 seconds for solution baseline ---\n"
     ]
    },
    {
     "name": "stderr",
     "output_type": "stream",
     "text": [
      "\n"
     ]
    },
    {
     "name": "stdout",
     "output_type": "stream",
     "text": [
      "initial solution\n"
     ]
    },
    {
     "name": "stderr",
     "output_type": "stream",
     "text": [
      "100%|██████████| 40/40 [00:00<00:00, 647.03it/s]\n"
     ]
    },
    {
     "name": "stdout",
     "output_type": "stream",
     "text": [
      "--- 0.07033157348632812 seconds for solution baseline ---\n",
      "initial solution\n"
     ]
    },
    {
     "name": "stderr",
     "output_type": "stream",
     "text": [
      "100%|██████████| 40/40 [00:00<00:00, 572.94it/s]\n"
     ]
    },
    {
     "name": "stdout",
     "output_type": "stream",
     "text": [
      "--- 0.06981563568115234 seconds for solution baseline ---\n",
      "initial solution\n"
     ]
    },
    {
     "name": "stderr",
     "output_type": "stream",
     "text": [
      "100%|██████████| 40/40 [00:00<00:00, 678.82it/s]\n"
     ]
    },
    {
     "name": "stdout",
     "output_type": "stream",
     "text": [
      "--- 0.06820321083068848 seconds for solution baseline ---\n",
      "initial solution\n"
     ]
    },
    {
     "name": "stderr",
     "output_type": "stream",
     "text": [
      "100%|██████████| 40/40 [00:00<00:00, 518.26it/s]\n"
     ]
    },
    {
     "name": "stdout",
     "output_type": "stream",
     "text": [
      "--- 0.08300518989562988 seconds for solution baseline ---\n",
      "initial solution\n"
     ]
    },
    {
     "name": "stderr",
     "output_type": "stream",
     "text": [
      "100%|██████████| 40/40 [00:00<00:00, 599.22it/s]\n"
     ]
    },
    {
     "name": "stdout",
     "output_type": "stream",
     "text": [
      "--- 0.08338069915771484 seconds for solution baseline ---\n",
      "initial solution\n"
     ]
    },
    {
     "name": "stderr",
     "output_type": "stream",
     "text": [
      "100%|██████████| 41/41 [00:00<00:00, 551.45it/s]\n"
     ]
    },
    {
     "name": "stdout",
     "output_type": "stream",
     "text": [
      "--- 0.08987832069396973 seconds for solution baseline ---\n",
      "initial solution\n"
     ]
    },
    {
     "name": "stderr",
     "output_type": "stream",
     "text": [
      "100%|██████████| 41/41 [00:00<00:00, 631.90it/s]\n"
     ]
    },
    {
     "name": "stdout",
     "output_type": "stream",
     "text": [
      "--- 0.06538653373718262 seconds for solution baseline ---\n",
      "initial solution\n"
     ]
    },
    {
     "name": "stderr",
     "output_type": "stream",
     "text": [
      "100%|██████████| 41/41 [00:00<00:00, 465.64it/s]\n"
     ]
    },
    {
     "name": "stdout",
     "output_type": "stream",
     "text": [
      "--- 0.10049796104431152 seconds for solution baseline ---\n",
      "initial solution\n"
     ]
    },
    {
     "name": "stderr",
     "output_type": "stream",
     "text": [
      "100%|██████████| 41/41 [00:00<00:00, 350.89it/s]\n"
     ]
    },
    {
     "name": "stdout",
     "output_type": "stream",
     "text": [
      "--- 0.13277626037597656 seconds for solution baseline ---\n",
      "initial solution\n"
     ]
    },
    {
     "name": "stderr",
     "output_type": "stream",
     "text": [
      "100%|██████████| 41/41 [00:00<00:00, 351.33it/s]\n"
     ]
    },
    {
     "name": "stdout",
     "output_type": "stream",
     "text": [
      "--- 0.12972092628479004 seconds for solution baseline ---\n",
      "initial solution\n"
     ]
    },
    {
     "name": "stderr",
     "output_type": "stream",
     "text": [
      "100%|██████████| 41/41 [00:00<00:00, 301.48it/s]\n"
     ]
    },
    {
     "name": "stdout",
     "output_type": "stream",
     "text": [
      "--- 0.14920473098754883 seconds for solution baseline ---\n",
      "initial solution\n"
     ]
    },
    {
     "name": "stderr",
     "output_type": "stream",
     "text": [
      "100%|██████████| 41/41 [00:00<00:00, 340.03it/s]\n"
     ]
    },
    {
     "name": "stdout",
     "output_type": "stream",
     "text": [
      "--- 0.13264989852905273 seconds for solution baseline ---\n",
      "initial solution\n"
     ]
    },
    {
     "name": "stderr",
     "output_type": "stream",
     "text": [
      "100%|██████████| 41/41 [00:00<00:00, 349.64it/s]\n"
     ]
    },
    {
     "name": "stdout",
     "output_type": "stream",
     "text": [
      "--- 0.12814092636108398 seconds for solution baseline ---\n",
      "initial solution\n"
     ]
    },
    {
     "name": "stderr",
     "output_type": "stream",
     "text": [
      "100%|██████████| 41/41 [00:00<00:00, 353.58it/s]\n"
     ]
    },
    {
     "name": "stdout",
     "output_type": "stream",
     "text": [
      "--- 0.2761673927307129 seconds for solution baseline ---\n",
      "initial solution\n"
     ]
    },
    {
     "name": "stderr",
     "output_type": "stream",
     "text": [
      "100%|██████████| 41/41 [00:00<00:00, 344.42it/s]\n"
     ]
    },
    {
     "name": "stdout",
     "output_type": "stream",
     "text": [
      "--- 0.13066649436950684 seconds for solution baseline ---\n",
      "initial solution\n"
     ]
    },
    {
     "name": "stderr",
     "output_type": "stream",
     "text": [
      "100%|██████████| 42/42 [00:00<00:00, 319.77it/s]\n"
     ]
    },
    {
     "name": "stdout",
     "output_type": "stream",
     "text": [
      "--- 0.1451728343963623 seconds for solution baseline ---\n",
      "initial solution\n"
     ]
    },
    {
     "name": "stderr",
     "output_type": "stream",
     "text": [
      "100%|██████████| 42/42 [00:00<00:00, 310.78it/s]\n"
     ]
    },
    {
     "name": "stdout",
     "output_type": "stream",
     "text": [
      "--- 0.14568424224853516 seconds for solution baseline ---\n",
      "initial solution\n"
     ]
    },
    {
     "name": "stderr",
     "output_type": "stream",
     "text": [
      "100%|██████████| 42/42 [00:00<00:00, 339.95it/s]\n"
     ]
    },
    {
     "name": "stdout",
     "output_type": "stream",
     "text": [
      "--- 0.13755249977111816 seconds for solution baseline ---\n",
      "initial solution\n"
     ]
    },
    {
     "name": "stderr",
     "output_type": "stream",
     "text": [
      "100%|██████████| 42/42 [00:00<00:00, 307.50it/s]\n"
     ]
    },
    {
     "name": "stdout",
     "output_type": "stream",
     "text": [
      "--- 0.14925074577331543 seconds for solution baseline ---\n",
      "initial solution\n"
     ]
    },
    {
     "name": "stderr",
     "output_type": "stream",
     "text": [
      "100%|██████████| 42/42 [00:00<00:00, 330.02it/s]\n"
     ]
    },
    {
     "name": "stdout",
     "output_type": "stream",
     "text": [
      "--- 0.1389167308807373 seconds for solution baseline ---\n",
      "initial solution\n"
     ]
    },
    {
     "name": "stderr",
     "output_type": "stream",
     "text": [
      "100%|██████████| 42/42 [00:00<00:00, 328.70it/s]"
     ]
    },
    {
     "name": "stdout",
     "output_type": "stream",
     "text": [
      "--- 0.144456148147583 seconds for solution baseline ---\n",
      "initial solution\n"
     ]
    },
    {
     "name": "stderr",
     "output_type": "stream",
     "text": [
      "\n",
      "100%|██████████| 42/42 [00:00<00:00, 318.50it/s]\n"
     ]
    },
    {
     "name": "stdout",
     "output_type": "stream",
     "text": [
      "--- 0.14448761940002441 seconds for solution baseline ---\n",
      "initial solution\n"
     ]
    },
    {
     "name": "stderr",
     "output_type": "stream",
     "text": [
      "100%|██████████| 42/42 [00:00<00:00, 308.79it/s]\n"
     ]
    },
    {
     "name": "stdout",
     "output_type": "stream",
     "text": [
      "--- 0.15124773979187012 seconds for solution baseline ---\n",
      "initial solution\n"
     ]
    },
    {
     "name": "stderr",
     "output_type": "stream",
     "text": [
      "100%|██████████| 42/42 [00:00<00:00, 344.06it/s]\n"
     ]
    },
    {
     "name": "stdout",
     "output_type": "stream",
     "text": [
      "--- 0.13623261451721191 seconds for solution baseline ---\n",
      "initial solution\n"
     ]
    },
    {
     "name": "stderr",
     "output_type": "stream",
     "text": [
      "100%|██████████| 42/42 [00:00<00:00, 374.14it/s]\n"
     ]
    },
    {
     "name": "stdout",
     "output_type": "stream",
     "text": [
      "--- 0.12494564056396484 seconds for solution baseline ---\n",
      "initial solution\n"
     ]
    },
    {
     "name": "stderr",
     "output_type": "stream",
     "text": [
      "100%|██████████| 43/43 [00:00<00:00, 304.54it/s]\n"
     ]
    },
    {
     "name": "stdout",
     "output_type": "stream",
     "text": [
      "--- 0.1553173065185547 seconds for solution baseline ---\n",
      "initial solution\n"
     ]
    },
    {
     "name": "stderr",
     "output_type": "stream",
     "text": [
      "100%|██████████| 43/43 [00:00<00:00, 331.16it/s]\n"
     ]
    },
    {
     "name": "stdout",
     "output_type": "stream",
     "text": [
      "--- 0.14255714416503906 seconds for solution baseline ---\n",
      "initial solution\n"
     ]
    },
    {
     "name": "stderr",
     "output_type": "stream",
     "text": [
      "100%|██████████| 43/43 [00:00<00:00, 305.64it/s]"
     ]
    },
    {
     "name": "stdout",
     "output_type": "stream",
     "text": [
      "--- 0.1547224521636963 seconds for solution baseline ---\n"
     ]
    },
    {
     "name": "stderr",
     "output_type": "stream",
     "text": [
      "\n"
     ]
    },
    {
     "name": "stdout",
     "output_type": "stream",
     "text": [
      "initial solution\n"
     ]
    },
    {
     "name": "stderr",
     "output_type": "stream",
     "text": [
      "100%|██████████| 43/43 [00:00<00:00, 314.86it/s]"
     ]
    },
    {
     "name": "stdout",
     "output_type": "stream",
     "text": [
      "--- 0.14917778968811035 seconds for solution baseline ---\n"
     ]
    },
    {
     "name": "stderr",
     "output_type": "stream",
     "text": [
      "\n"
     ]
    },
    {
     "name": "stdout",
     "output_type": "stream",
     "text": [
      "initial solution\n"
     ]
    },
    {
     "name": "stderr",
     "output_type": "stream",
     "text": [
      "100%|██████████| 43/43 [00:00<00:00, 299.54it/s]\n"
     ]
    },
    {
     "name": "stdout",
     "output_type": "stream",
     "text": [
      "--- 0.1580796241760254 seconds for solution baseline ---\n",
      "initial solution\n"
     ]
    },
    {
     "name": "stderr",
     "output_type": "stream",
     "text": [
      "100%|██████████| 43/43 [00:00<00:00, 297.10it/s]"
     ]
    },
    {
     "name": "stdout",
     "output_type": "stream",
     "text": [
      "--- 0.1568160057067871 seconds for solution baseline ---\n",
      "initial solution\n"
     ]
    },
    {
     "name": "stderr",
     "output_type": "stream",
     "text": [
      "\n",
      "100%|██████████| 43/43 [00:00<00:00, 321.03it/s]\n"
     ]
    },
    {
     "name": "stdout",
     "output_type": "stream",
     "text": [
      "--- 0.14713406562805176 seconds for solution baseline ---\n",
      "initial solution\n"
     ]
    },
    {
     "name": "stderr",
     "output_type": "stream",
     "text": [
      "100%|██████████| 43/43 [00:00<00:00, 300.69it/s]\n"
     ]
    },
    {
     "name": "stdout",
     "output_type": "stream",
     "text": [
      "--- 0.15716123580932617 seconds for solution baseline ---\n",
      "initial solution\n"
     ]
    },
    {
     "name": "stderr",
     "output_type": "stream",
     "text": [
      "100%|██████████| 43/43 [00:00<00:00, 304.22it/s]\n"
     ]
    },
    {
     "name": "stdout",
     "output_type": "stream",
     "text": [
      "--- 0.1525571346282959 seconds for solution baseline ---\n",
      "initial solution\n"
     ]
    },
    {
     "name": "stderr",
     "output_type": "stream",
     "text": [
      "100%|██████████| 43/43 [00:00<00:00, 347.11it/s]\n"
     ]
    },
    {
     "name": "stdout",
     "output_type": "stream",
     "text": [
      "--- 0.13774704933166504 seconds for solution baseline ---\n",
      "initial solution\n"
     ]
    },
    {
     "name": "stderr",
     "output_type": "stream",
     "text": [
      "100%|██████████| 44/44 [00:00<00:00, 305.53it/s]\n"
     ]
    },
    {
     "name": "stdout",
     "output_type": "stream",
     "text": [
      "--- 0.1588597297668457 seconds for solution baseline ---\n",
      "initial solution\n"
     ]
    },
    {
     "name": "stderr",
     "output_type": "stream",
     "text": [
      "100%|██████████| 44/44 [00:00<00:00, 261.53it/s]\n"
     ]
    },
    {
     "name": "stdout",
     "output_type": "stream",
     "text": [
      "--- 0.1821269989013672 seconds for solution baseline ---\n",
      "initial solution\n"
     ]
    },
    {
     "name": "stderr",
     "output_type": "stream",
     "text": [
      "100%|██████████| 44/44 [00:00<00:00, 298.82it/s]"
     ]
    },
    {
     "name": "stdout",
     "output_type": "stream",
     "text": [
      "--- 0.16024518013000488 seconds for solution baseline ---\n"
     ]
    },
    {
     "name": "stderr",
     "output_type": "stream",
     "text": [
      "\n"
     ]
    },
    {
     "name": "stdout",
     "output_type": "stream",
     "text": [
      "initial solution\n"
     ]
    },
    {
     "name": "stderr",
     "output_type": "stream",
     "text": [
      "100%|██████████| 44/44 [00:00<00:00, 278.47it/s]\n"
     ]
    },
    {
     "name": "stdout",
     "output_type": "stream",
     "text": [
      "--- 0.17234396934509277 seconds for solution baseline ---\n",
      "initial solution\n"
     ]
    },
    {
     "name": "stderr",
     "output_type": "stream",
     "text": [
      "100%|██████████| 44/44 [00:00<00:00, 301.19it/s]\n"
     ]
    },
    {
     "name": "stdout",
     "output_type": "stream",
     "text": [
      "--- 0.159379243850708 seconds for solution baseline ---\n",
      "initial solution\n"
     ]
    },
    {
     "name": "stderr",
     "output_type": "stream",
     "text": [
      "100%|██████████| 44/44 [00:00<00:00, 291.69it/s]\n"
     ]
    },
    {
     "name": "stdout",
     "output_type": "stream",
     "text": [
      "--- 0.16483712196350098 seconds for solution baseline ---\n",
      "initial solution\n"
     ]
    },
    {
     "name": "stderr",
     "output_type": "stream",
     "text": [
      "100%|██████████| 44/44 [00:00<00:00, 310.52it/s]\n"
     ]
    },
    {
     "name": "stdout",
     "output_type": "stream",
     "text": [
      "--- 0.1538376808166504 seconds for solution baseline ---\n",
      "initial solution\n"
     ]
    },
    {
     "name": "stderr",
     "output_type": "stream",
     "text": [
      "100%|██████████| 44/44 [00:00<00:00, 299.13it/s]"
     ]
    },
    {
     "name": "stdout",
     "output_type": "stream",
     "text": [
      "--- 0.15952086448669434 seconds for solution baseline ---\n"
     ]
    },
    {
     "name": "stderr",
     "output_type": "stream",
     "text": [
      "\n"
     ]
    },
    {
     "name": "stdout",
     "output_type": "stream",
     "text": [
      "initial solution\n"
     ]
    },
    {
     "name": "stderr",
     "output_type": "stream",
     "text": [
      "100%|██████████| 44/44 [00:00<00:00, 324.21it/s]\n"
     ]
    },
    {
     "name": "stdout",
     "output_type": "stream",
     "text": [
      "--- 0.1497185230255127 seconds for solution baseline ---\n",
      "initial solution\n"
     ]
    },
    {
     "name": "stderr",
     "output_type": "stream",
     "text": [
      "100%|██████████| 44/44 [00:00<00:00, 314.23it/s]\n"
     ]
    },
    {
     "name": "stdout",
     "output_type": "stream",
     "text": [
      "--- 0.15324807167053223 seconds for solution baseline ---\n",
      "initial solution\n"
     ]
    },
    {
     "name": "stderr",
     "output_type": "stream",
     "text": [
      "100%|██████████| 45/45 [00:00<00:00, 299.48it/s]"
     ]
    },
    {
     "name": "stdout",
     "output_type": "stream",
     "text": [
      "--- 0.1655564308166504 seconds for solution baseline ---\n"
     ]
    },
    {
     "name": "stderr",
     "output_type": "stream",
     "text": [
      "\n"
     ]
    },
    {
     "name": "stdout",
     "output_type": "stream",
     "text": [
      "initial solution\n"
     ]
    },
    {
     "name": "stderr",
     "output_type": "stream",
     "text": [
      "100%|██████████| 45/45 [00:00<00:00, 297.58it/s]"
     ]
    },
    {
     "name": "stdout",
     "output_type": "stream",
     "text": [
      "--- 0.16483235359191895 seconds for solution baseline ---\n"
     ]
    },
    {
     "name": "stderr",
     "output_type": "stream",
     "text": [
      "\n"
     ]
    },
    {
     "name": "stdout",
     "output_type": "stream",
     "text": [
      "initial solution\n"
     ]
    },
    {
     "name": "stderr",
     "output_type": "stream",
     "text": [
      "100%|██████████| 45/45 [00:00<00:00, 305.60it/s]"
     ]
    },
    {
     "name": "stdout",
     "output_type": "stream",
     "text": [
      "--- 0.16176581382751465 seconds for solution baseline ---\n",
      "initial solution\n"
     ]
    },
    {
     "name": "stderr",
     "output_type": "stream",
     "text": [
      "\n",
      "100%|██████████| 45/45 [00:00<00:00, 280.26it/s]\n"
     ]
    },
    {
     "name": "stdout",
     "output_type": "stream",
     "text": [
      "--- 0.17225360870361328 seconds for solution baseline ---\n",
      "initial solution\n"
     ]
    },
    {
     "name": "stderr",
     "output_type": "stream",
     "text": [
      "100%|██████████| 45/45 [00:00<00:00, 300.85it/s]\n"
     ]
    },
    {
     "name": "stdout",
     "output_type": "stream",
     "text": [
      "--- 0.31583404541015625 seconds for solution baseline ---\n",
      "initial solution\n"
     ]
    },
    {
     "name": "stderr",
     "output_type": "stream",
     "text": [
      "100%|██████████| 45/45 [00:00<00:00, 265.90it/s]\n"
     ]
    },
    {
     "name": "stdout",
     "output_type": "stream",
     "text": [
      "--- 0.18174052238464355 seconds for solution baseline ---\n",
      "initial solution\n"
     ]
    },
    {
     "name": "stderr",
     "output_type": "stream",
     "text": [
      "100%|██████████| 45/45 [00:00<00:00, 268.40it/s]\n"
     ]
    },
    {
     "name": "stdout",
     "output_type": "stream",
     "text": [
      "--- 0.183333158493042 seconds for solution baseline ---\n",
      "initial solution\n"
     ]
    },
    {
     "name": "stderr",
     "output_type": "stream",
     "text": [
      "100%|██████████| 45/45 [00:00<00:00, 296.23it/s]\n"
     ]
    },
    {
     "name": "stdout",
     "output_type": "stream",
     "text": [
      "--- 0.164259672164917 seconds for solution baseline ---\n",
      "initial solution\n"
     ]
    },
    {
     "name": "stderr",
     "output_type": "stream",
     "text": [
      "100%|██████████| 45/45 [00:00<00:00, 283.07it/s]\n"
     ]
    },
    {
     "name": "stdout",
     "output_type": "stream",
     "text": [
      "--- 0.17409920692443848 seconds for solution baseline ---\n",
      "initial solution\n"
     ]
    },
    {
     "name": "stderr",
     "output_type": "stream",
     "text": [
      "100%|██████████| 45/45 [00:00<00:00, 266.72it/s]\n"
     ]
    },
    {
     "name": "stdout",
     "output_type": "stream",
     "text": [
      "--- 0.18123078346252441 seconds for solution baseline ---\n",
      "initial solution\n"
     ]
    },
    {
     "name": "stderr",
     "output_type": "stream",
     "text": [
      "100%|██████████| 46/46 [00:00<00:00, 263.81it/s]"
     ]
    },
    {
     "name": "stdout",
     "output_type": "stream",
     "text": [
      "--- 0.19114112854003906 seconds for solution baseline ---\n"
     ]
    },
    {
     "name": "stderr",
     "output_type": "stream",
     "text": [
      "\n"
     ]
    },
    {
     "name": "stdout",
     "output_type": "stream",
     "text": [
      "initial solution\n"
     ]
    },
    {
     "name": "stderr",
     "output_type": "stream",
     "text": [
      "100%|██████████| 46/46 [00:00<00:00, 285.39it/s]"
     ]
    },
    {
     "name": "stdout",
     "output_type": "stream",
     "text": [
      "--- 0.1753392219543457 seconds for solution baseline ---\n"
     ]
    },
    {
     "name": "stderr",
     "output_type": "stream",
     "text": [
      "\n"
     ]
    },
    {
     "name": "stdout",
     "output_type": "stream",
     "text": [
      "initial solution\n"
     ]
    },
    {
     "name": "stderr",
     "output_type": "stream",
     "text": [
      "100%|██████████| 46/46 [00:00<00:00, 253.76it/s]\n"
     ]
    },
    {
     "name": "stdout",
     "output_type": "stream",
     "text": [
      "--- 0.1963367462158203 seconds for solution baseline ---\n",
      "initial solution\n"
     ]
    },
    {
     "name": "stderr",
     "output_type": "stream",
     "text": [
      "100%|██████████| 46/46 [00:00<00:00, 230.05it/s]\n"
     ]
    },
    {
     "name": "stdout",
     "output_type": "stream",
     "text": [
      "--- 0.21292400360107422 seconds for solution baseline ---\n",
      "initial solution\n"
     ]
    },
    {
     "name": "stderr",
     "output_type": "stream",
     "text": [
      "100%|██████████| 46/46 [00:00<00:00, 277.76it/s]"
     ]
    },
    {
     "name": "stdout",
     "output_type": "stream",
     "text": [
      "--- 0.18093085289001465 seconds for solution baseline ---\n"
     ]
    },
    {
     "name": "stderr",
     "output_type": "stream",
     "text": [
      "\n"
     ]
    },
    {
     "name": "stdout",
     "output_type": "stream",
     "text": [
      "initial solution\n"
     ]
    },
    {
     "name": "stderr",
     "output_type": "stream",
     "text": [
      "100%|██████████| 46/46 [00:00<00:00, 248.60it/s]\n"
     ]
    },
    {
     "name": "stdout",
     "output_type": "stream",
     "text": [
      "--- 0.19913482666015625 seconds for solution baseline ---\n",
      "initial solution\n"
     ]
    },
    {
     "name": "stderr",
     "output_type": "stream",
     "text": [
      "100%|██████████| 46/46 [00:00<00:00, 281.36it/s]\n"
     ]
    },
    {
     "name": "stdout",
     "output_type": "stream",
     "text": [
      "--- 0.17768168449401855 seconds for solution baseline ---\n",
      "initial solution\n"
     ]
    },
    {
     "name": "stderr",
     "output_type": "stream",
     "text": [
      "100%|██████████| 46/46 [00:00<00:00, 258.07it/s]\n"
     ]
    },
    {
     "name": "stdout",
     "output_type": "stream",
     "text": [
      "--- 0.1922471523284912 seconds for solution baseline ---\n",
      "initial solution\n"
     ]
    },
    {
     "name": "stderr",
     "output_type": "stream",
     "text": [
      "100%|██████████| 46/46 [00:00<00:00, 263.20it/s]\n"
     ]
    },
    {
     "name": "stdout",
     "output_type": "stream",
     "text": [
      "--- 0.1895139217376709 seconds for solution baseline ---\n",
      "initial solution\n"
     ]
    },
    {
     "name": "stderr",
     "output_type": "stream",
     "text": [
      "100%|██████████| 46/46 [00:00<00:00, 260.28it/s]\n"
     ]
    },
    {
     "name": "stdout",
     "output_type": "stream",
     "text": [
      "--- 0.1913743019104004 seconds for solution baseline ---\n",
      "initial solution\n"
     ]
    },
    {
     "name": "stderr",
     "output_type": "stream",
     "text": [
      "100%|██████████| 47/47 [00:00<00:00, 259.46it/s]\n"
     ]
    },
    {
     "name": "stdout",
     "output_type": "stream",
     "text": [
      "--- 0.1959540843963623 seconds for solution baseline ---\n",
      "initial solution\n"
     ]
    },
    {
     "name": "stderr",
     "output_type": "stream",
     "text": [
      "100%|██████████| 47/47 [00:00<00:00, 255.94it/s]\n"
     ]
    },
    {
     "name": "stdout",
     "output_type": "stream",
     "text": [
      "--- 0.1972975730895996 seconds for solution baseline ---\n",
      "initial solution\n"
     ]
    },
    {
     "name": "stderr",
     "output_type": "stream",
     "text": [
      "100%|██████████| 47/47 [00:00<00:00, 272.89it/s]\n"
     ]
    },
    {
     "name": "stdout",
     "output_type": "stream",
     "text": [
      "--- 0.187391996383667 seconds for solution baseline ---\n",
      "initial solution\n"
     ]
    },
    {
     "name": "stderr",
     "output_type": "stream",
     "text": [
      "100%|██████████| 47/47 [00:00<00:00, 266.21it/s]\n"
     ]
    },
    {
     "name": "stdout",
     "output_type": "stream",
     "text": [
      "--- 0.18979597091674805 seconds for solution baseline ---\n",
      "initial solution\n"
     ]
    },
    {
     "name": "stderr",
     "output_type": "stream",
     "text": [
      "100%|██████████| 47/47 [00:00<00:00, 250.21it/s]\n"
     ]
    },
    {
     "name": "stdout",
     "output_type": "stream",
     "text": [
      "--- 0.2024974822998047 seconds for solution baseline ---\n",
      "initial solution\n"
     ]
    },
    {
     "name": "stderr",
     "output_type": "stream",
     "text": [
      "100%|██████████| 47/47 [00:00<00:00, 250.05it/s]\n"
     ]
    },
    {
     "name": "stdout",
     "output_type": "stream",
     "text": [
      "--- 0.20059704780578613 seconds for solution baseline ---\n",
      "initial solution\n"
     ]
    },
    {
     "name": "stderr",
     "output_type": "stream",
     "text": [
      "100%|██████████| 47/47 [00:00<00:00, 248.25it/s]\n"
     ]
    },
    {
     "name": "stdout",
     "output_type": "stream",
     "text": [
      "--- 0.20448780059814453 seconds for solution baseline ---\n",
      "initial solution\n"
     ]
    },
    {
     "name": "stderr",
     "output_type": "stream",
     "text": [
      "100%|██████████| 47/47 [00:00<00:00, 258.34it/s]\n"
     ]
    },
    {
     "name": "stdout",
     "output_type": "stream",
     "text": [
      "--- 0.19715118408203125 seconds for solution baseline ---\n",
      "initial solution\n"
     ]
    },
    {
     "name": "stderr",
     "output_type": "stream",
     "text": [
      "100%|██████████| 47/47 [00:00<00:00, 255.23it/s]\n"
     ]
    },
    {
     "name": "stdout",
     "output_type": "stream",
     "text": [
      "--- 0.19985103607177734 seconds for solution baseline ---\n",
      "initial solution\n"
     ]
    },
    {
     "name": "stderr",
     "output_type": "stream",
     "text": [
      "100%|██████████| 47/47 [00:00<00:00, 262.02it/s]\n"
     ]
    },
    {
     "name": "stdout",
     "output_type": "stream",
     "text": [
      "--- 0.19437170028686523 seconds for solution baseline ---\n",
      "initial solution\n"
     ]
    },
    {
     "name": "stderr",
     "output_type": "stream",
     "text": [
      "100%|██████████| 48/48 [00:00<00:00, 260.18it/s]\n"
     ]
    },
    {
     "name": "stdout",
     "output_type": "stream",
     "text": [
      "--- 0.1984999179840088 seconds for solution baseline ---\n",
      "initial solution\n"
     ]
    },
    {
     "name": "stderr",
     "output_type": "stream",
     "text": [
      "100%|██████████| 48/48 [00:00<00:00, 221.33it/s]\n"
     ]
    },
    {
     "name": "stdout",
     "output_type": "stream",
     "text": [
      "--- 0.36890435218811035 seconds for solution baseline ---\n",
      "initial solution\n"
     ]
    },
    {
     "name": "stderr",
     "output_type": "stream",
     "text": [
      "100%|██████████| 48/48 [00:00<00:00, 242.49it/s]\n"
     ]
    },
    {
     "name": "stdout",
     "output_type": "stream",
     "text": [
      "--- 0.21164393424987793 seconds for solution baseline ---\n",
      "initial solution\n"
     ]
    },
    {
     "name": "stderr",
     "output_type": "stream",
     "text": [
      "100%|██████████| 48/48 [00:00<00:00, 213.93it/s]\n"
     ]
    },
    {
     "name": "stdout",
     "output_type": "stream",
     "text": [
      "--- 0.2391819953918457 seconds for solution baseline ---\n",
      "initial solution\n"
     ]
    },
    {
     "name": "stderr",
     "output_type": "stream",
     "text": [
      "100%|██████████| 48/48 [00:00<00:00, 236.04it/s]\n"
     ]
    },
    {
     "name": "stdout",
     "output_type": "stream",
     "text": [
      "--- 0.21636629104614258 seconds for solution baseline ---\n",
      "initial solution\n"
     ]
    },
    {
     "name": "stderr",
     "output_type": "stream",
     "text": [
      "100%|██████████| 48/48 [00:00<00:00, 243.19it/s]"
     ]
    },
    {
     "name": "stdout",
     "output_type": "stream",
     "text": [
      "--- 0.21107006072998047 seconds for solution baseline ---\n"
     ]
    },
    {
     "name": "stderr",
     "output_type": "stream",
     "text": [
      "\n"
     ]
    },
    {
     "name": "stdout",
     "output_type": "stream",
     "text": [
      "initial solution\n"
     ]
    },
    {
     "name": "stderr",
     "output_type": "stream",
     "text": [
      "100%|██████████| 48/48 [00:00<00:00, 234.80it/s]\n"
     ]
    },
    {
     "name": "stdout",
     "output_type": "stream",
     "text": [
      "--- 0.21916818618774414 seconds for solution baseline ---\n",
      "initial solution\n"
     ]
    },
    {
     "name": "stderr",
     "output_type": "stream",
     "text": [
      "100%|██████████| 48/48 [00:00<00:00, 241.53it/s]\n"
     ]
    },
    {
     "name": "stdout",
     "output_type": "stream",
     "text": [
      "--- 0.2119126319885254 seconds for solution baseline ---\n",
      "initial solution\n"
     ]
    },
    {
     "name": "stderr",
     "output_type": "stream",
     "text": [
      "100%|██████████| 48/48 [00:00<00:00, 234.17it/s]\n"
     ]
    },
    {
     "name": "stdout",
     "output_type": "stream",
     "text": [
      "--- 0.21998286247253418 seconds for solution baseline ---\n",
      "initial solution\n"
     ]
    },
    {
     "name": "stderr",
     "output_type": "stream",
     "text": [
      "100%|██████████| 48/48 [00:00<00:00, 202.42it/s]\n"
     ]
    },
    {
     "name": "stdout",
     "output_type": "stream",
     "text": [
      "--- 0.25935959815979004 seconds for solution baseline ---\n",
      "initial solution\n"
     ]
    },
    {
     "name": "stderr",
     "output_type": "stream",
     "text": [
      "100%|██████████| 49/49 [00:00<00:00, 211.82it/s]\n"
     ]
    },
    {
     "name": "stdout",
     "output_type": "stream",
     "text": [
      "--- 0.24746441841125488 seconds for solution baseline ---\n",
      "initial solution\n"
     ]
    },
    {
     "name": "stderr",
     "output_type": "stream",
     "text": [
      "100%|██████████| 49/49 [00:00<00:00, 215.14it/s]\n"
     ]
    },
    {
     "name": "stdout",
     "output_type": "stream",
     "text": [
      "--- 0.24344325065612793 seconds for solution baseline ---\n",
      "initial solution\n"
     ]
    },
    {
     "name": "stderr",
     "output_type": "stream",
     "text": [
      "100%|██████████| 49/49 [00:00<00:00, 223.20it/s]\n"
     ]
    },
    {
     "name": "stdout",
     "output_type": "stream",
     "text": [
      "--- 0.23382210731506348 seconds for solution baseline ---\n",
      "initial solution\n"
     ]
    },
    {
     "name": "stderr",
     "output_type": "stream",
     "text": [
      "100%|██████████| 49/49 [00:00<00:00, 200.40it/s]\n"
     ]
    },
    {
     "name": "stdout",
     "output_type": "stream",
     "text": [
      "--- 0.26153111457824707 seconds for solution baseline ---\n",
      "initial solution\n"
     ]
    },
    {
     "name": "stderr",
     "output_type": "stream",
     "text": [
      "100%|██████████| 49/49 [00:00<00:00, 221.25it/s]\n"
     ]
    },
    {
     "name": "stdout",
     "output_type": "stream",
     "text": [
      "--- 0.23511672019958496 seconds for solution baseline ---\n",
      "initial solution\n"
     ]
    },
    {
     "name": "stderr",
     "output_type": "stream",
     "text": [
      "100%|██████████| 49/49 [00:00<00:00, 219.05it/s]\n"
     ]
    },
    {
     "name": "stdout",
     "output_type": "stream",
     "text": [
      "--- 0.24030303955078125 seconds for solution baseline ---\n",
      "initial solution\n"
     ]
    },
    {
     "name": "stderr",
     "output_type": "stream",
     "text": [
      "100%|██████████| 49/49 [00:00<00:00, 195.57it/s]\n"
     ]
    },
    {
     "name": "stdout",
     "output_type": "stream",
     "text": [
      "--- 0.2666971683502197 seconds for solution baseline ---\n",
      "initial solution\n"
     ]
    },
    {
     "name": "stderr",
     "output_type": "stream",
     "text": [
      "100%|██████████| 49/49 [00:00<00:00, 219.80it/s]\n"
     ]
    },
    {
     "name": "stdout",
     "output_type": "stream",
     "text": [
      "--- 0.2368910312652588 seconds for solution baseline ---\n",
      "initial solution\n"
     ]
    },
    {
     "name": "stderr",
     "output_type": "stream",
     "text": [
      "100%|██████████| 49/49 [00:00<00:00, 219.67it/s]\n"
     ]
    },
    {
     "name": "stdout",
     "output_type": "stream",
     "text": [
      "--- 0.23994016647338867 seconds for solution baseline ---\n",
      "initial solution\n"
     ]
    },
    {
     "name": "stderr",
     "output_type": "stream",
     "text": [
      "100%|██████████| 49/49 [00:00<00:00, 231.06it/s]\n"
     ]
    },
    {
     "name": "stdout",
     "output_type": "stream",
     "text": [
      "--- 0.22622370719909668 seconds for solution baseline ---\n",
      "initial solution\n"
     ]
    },
    {
     "name": "stderr",
     "output_type": "stream",
     "text": [
      "100%|██████████| 50/50 [00:00<00:00, 217.72it/s]\n"
     ]
    },
    {
     "name": "stdout",
     "output_type": "stream",
     "text": [
      "--- 0.24692201614379883 seconds for solution baseline ---\n",
      "initial solution\n"
     ]
    },
    {
     "name": "stderr",
     "output_type": "stream",
     "text": [
      "100%|██████████| 50/50 [00:00<00:00, 236.54it/s]\n"
     ]
    },
    {
     "name": "stdout",
     "output_type": "stream",
     "text": [
      "--- 0.22604131698608398 seconds for solution baseline ---\n",
      "initial solution\n"
     ]
    },
    {
     "name": "stderr",
     "output_type": "stream",
     "text": [
      "100%|██████████| 50/50 [00:00<00:00, 208.46it/s]\n"
     ]
    },
    {
     "name": "stdout",
     "output_type": "stream",
     "text": [
      "--- 0.25448131561279297 seconds for solution baseline ---\n",
      "initial solution\n"
     ]
    },
    {
     "name": "stderr",
     "output_type": "stream",
     "text": [
      "100%|██████████| 50/50 [00:00<00:00, 217.46it/s]\n"
     ]
    },
    {
     "name": "stdout",
     "output_type": "stream",
     "text": [
      "--- 0.3891136646270752 seconds for solution baseline ---\n",
      "initial solution\n"
     ]
    },
    {
     "name": "stderr",
     "output_type": "stream",
     "text": [
      "100%|██████████| 50/50 [00:00<00:00, 226.26it/s]\n"
     ]
    },
    {
     "name": "stdout",
     "output_type": "stream",
     "text": [
      "--- 0.23582148551940918 seconds for solution baseline ---\n",
      "initial solution\n"
     ]
    },
    {
     "name": "stderr",
     "output_type": "stream",
     "text": [
      "100%|██████████| 50/50 [00:00<00:00, 210.15it/s]\n"
     ]
    },
    {
     "name": "stdout",
     "output_type": "stream",
     "text": [
      "--- 0.2549245357513428 seconds for solution baseline ---\n",
      "initial solution\n"
     ]
    },
    {
     "name": "stderr",
     "output_type": "stream",
     "text": [
      "100%|██████████| 50/50 [00:00<00:00, 210.69it/s]\n"
     ]
    },
    {
     "name": "stdout",
     "output_type": "stream",
     "text": [
      "--- 0.2538270950317383 seconds for solution baseline ---\n",
      "initial solution\n"
     ]
    },
    {
     "name": "stderr",
     "output_type": "stream",
     "text": [
      "100%|██████████| 50/50 [00:00<00:00, 218.97it/s]\n"
     ]
    },
    {
     "name": "stdout",
     "output_type": "stream",
     "text": [
      "--- 0.2444782257080078 seconds for solution baseline ---\n",
      "initial solution\n"
     ]
    },
    {
     "name": "stderr",
     "output_type": "stream",
     "text": [
      "100%|██████████| 50/50 [00:00<00:00, 199.91it/s]\n"
     ]
    },
    {
     "name": "stdout",
     "output_type": "stream",
     "text": [
      "--- 0.26807069778442383 seconds for solution baseline ---\n",
      "initial solution\n"
     ]
    },
    {
     "name": "stderr",
     "output_type": "stream",
     "text": [
      "100%|██████████| 50/50 [00:00<00:00, 217.30it/s]\n"
     ]
    },
    {
     "name": "stdout",
     "output_type": "stream",
     "text": [
      "--- 0.24521398544311523 seconds for solution baseline ---\n",
      "initial solution\n"
     ]
    },
    {
     "name": "stderr",
     "output_type": "stream",
     "text": [
      "100%|██████████| 51/51 [00:00<00:00, 179.44it/s]\n"
     ]
    },
    {
     "name": "stdout",
     "output_type": "stream",
     "text": [
      "--- 0.3002321720123291 seconds for solution baseline ---\n",
      "initial solution\n"
     ]
    },
    {
     "name": "stderr",
     "output_type": "stream",
     "text": [
      "100%|██████████| 51/51 [00:00<00:00, 202.83it/s]\n"
     ]
    },
    {
     "name": "stdout",
     "output_type": "stream",
     "text": [
      "--- 0.26721668243408203 seconds for solution baseline ---\n",
      "initial solution\n"
     ]
    },
    {
     "name": "stderr",
     "output_type": "stream",
     "text": [
      "100%|██████████| 51/51 [00:00<00:00, 195.68it/s]\n"
     ]
    },
    {
     "name": "stdout",
     "output_type": "stream",
     "text": [
      "--- 0.2763679027557373 seconds for solution baseline ---\n",
      "initial solution\n"
     ]
    },
    {
     "name": "stderr",
     "output_type": "stream",
     "text": [
      "100%|██████████| 51/51 [00:00<00:00, 211.52it/s]\n"
     ]
    },
    {
     "name": "stdout",
     "output_type": "stream",
     "text": [
      "--- 0.2552335262298584 seconds for solution baseline ---\n",
      "initial solution\n"
     ]
    },
    {
     "name": "stderr",
     "output_type": "stream",
     "text": [
      "100%|██████████| 51/51 [00:00<00:00, 204.81it/s]\n"
     ]
    },
    {
     "name": "stdout",
     "output_type": "stream",
     "text": [
      "--- 0.2661447525024414 seconds for solution baseline ---\n",
      "initial solution\n"
     ]
    },
    {
     "name": "stderr",
     "output_type": "stream",
     "text": [
      "100%|██████████| 51/51 [00:00<00:00, 204.82it/s]\n"
     ]
    },
    {
     "name": "stdout",
     "output_type": "stream",
     "text": [
      "--- 0.26445627212524414 seconds for solution baseline ---\n",
      "initial solution\n"
     ]
    },
    {
     "name": "stderr",
     "output_type": "stream",
     "text": [
      "100%|██████████| 51/51 [00:00<00:00, 207.23it/s]\n"
     ]
    },
    {
     "name": "stdout",
     "output_type": "stream",
     "text": [
      "--- 0.26250791549682617 seconds for solution baseline ---\n",
      "initial solution\n"
     ]
    },
    {
     "name": "stderr",
     "output_type": "stream",
     "text": [
      "100%|██████████| 51/51 [00:00<00:00, 190.89it/s]\n"
     ]
    },
    {
     "name": "stdout",
     "output_type": "stream",
     "text": [
      "--- 0.283463716506958 seconds for solution baseline ---\n",
      "initial solution\n"
     ]
    },
    {
     "name": "stderr",
     "output_type": "stream",
     "text": [
      "100%|██████████| 51/51 [00:00<00:00, 193.14it/s]\n"
     ]
    },
    {
     "name": "stdout",
     "output_type": "stream",
     "text": [
      "--- 0.2805659770965576 seconds for solution baseline ---\n",
      "initial solution\n"
     ]
    },
    {
     "name": "stderr",
     "output_type": "stream",
     "text": [
      "100%|██████████| 51/51 [00:00<00:00, 207.42it/s]\n"
     ]
    },
    {
     "name": "stdout",
     "output_type": "stream",
     "text": [
      "--- 0.26276087760925293 seconds for solution baseline ---\n",
      "initial solution\n"
     ]
    },
    {
     "name": "stderr",
     "output_type": "stream",
     "text": [
      "100%|██████████| 52/52 [00:00<00:00, 169.20it/s]\n"
     ]
    },
    {
     "name": "stdout",
     "output_type": "stream",
     "text": [
      "--- 0.32433462142944336 seconds for solution baseline ---\n",
      "initial solution\n"
     ]
    },
    {
     "name": "stderr",
     "output_type": "stream",
     "text": [
      "100%|██████████| 52/52 [00:00<00:00, 184.34it/s]\n"
     ]
    },
    {
     "name": "stdout",
     "output_type": "stream",
     "text": [
      "--- 0.2977278232574463 seconds for solution baseline ---\n",
      "initial solution\n"
     ]
    },
    {
     "name": "stderr",
     "output_type": "stream",
     "text": [
      "100%|██████████| 52/52 [00:00<00:00, 199.64it/s]\n"
     ]
    },
    {
     "name": "stdout",
     "output_type": "stream",
     "text": [
      "--- 0.42899465560913086 seconds for solution baseline ---\n",
      "initial solution\n"
     ]
    },
    {
     "name": "stderr",
     "output_type": "stream",
     "text": [
      "100%|██████████| 52/52 [00:00<00:00, 179.35it/s]\n"
     ]
    },
    {
     "name": "stdout",
     "output_type": "stream",
     "text": [
      "--- 0.3052840232849121 seconds for solution baseline ---\n",
      "initial solution\n"
     ]
    },
    {
     "name": "stderr",
     "output_type": "stream",
     "text": [
      "100%|██████████| 52/52 [00:00<00:00, 187.06it/s]\n"
     ]
    },
    {
     "name": "stdout",
     "output_type": "stream",
     "text": [
      "--- 0.29499220848083496 seconds for solution baseline ---\n",
      "initial solution\n"
     ]
    },
    {
     "name": "stderr",
     "output_type": "stream",
     "text": [
      "100%|██████████| 52/52 [00:00<00:00, 184.72it/s]\n"
     ]
    },
    {
     "name": "stdout",
     "output_type": "stream",
     "text": [
      "--- 0.2971956729888916 seconds for solution baseline ---\n",
      "initial solution\n"
     ]
    },
    {
     "name": "stderr",
     "output_type": "stream",
     "text": [
      "100%|██████████| 52/52 [00:00<00:00, 189.50it/s]\n"
     ]
    },
    {
     "name": "stdout",
     "output_type": "stream",
     "text": [
      "--- 0.2914161682128906 seconds for solution baseline ---\n",
      "initial solution\n"
     ]
    },
    {
     "name": "stderr",
     "output_type": "stream",
     "text": [
      "100%|██████████| 52/52 [00:00<00:00, 185.76it/s]\n"
     ]
    },
    {
     "name": "stdout",
     "output_type": "stream",
     "text": [
      "--- 0.2969367504119873 seconds for solution baseline ---\n",
      "initial solution\n"
     ]
    },
    {
     "name": "stderr",
     "output_type": "stream",
     "text": [
      "100%|██████████| 52/52 [00:00<00:00, 184.94it/s]\n"
     ]
    },
    {
     "name": "stdout",
     "output_type": "stream",
     "text": [
      "--- 0.29618000984191895 seconds for solution baseline ---\n",
      "initial solution\n"
     ]
    },
    {
     "name": "stderr",
     "output_type": "stream",
     "text": [
      "100%|██████████| 52/52 [00:00<00:00, 190.93it/s]\n"
     ]
    },
    {
     "name": "stdout",
     "output_type": "stream",
     "text": [
      "--- 0.29051709175109863 seconds for solution baseline ---\n",
      "initial solution\n"
     ]
    },
    {
     "name": "stderr",
     "output_type": "stream",
     "text": [
      "100%|██████████| 53/53 [00:00<00:00, 176.56it/s]\n"
     ]
    },
    {
     "name": "stdout",
     "output_type": "stream",
     "text": [
      "--- 0.31805896759033203 seconds for solution baseline ---\n",
      "initial solution\n"
     ]
    },
    {
     "name": "stderr",
     "output_type": "stream",
     "text": [
      "100%|██████████| 53/53 [00:00<00:00, 167.66it/s]\n"
     ]
    },
    {
     "name": "stdout",
     "output_type": "stream",
     "text": [
      "--- 0.33296823501586914 seconds for solution baseline ---\n",
      "initial solution\n"
     ]
    },
    {
     "name": "stderr",
     "output_type": "stream",
     "text": [
      "100%|██████████| 53/53 [00:00<00:00, 188.83it/s]\n"
     ]
    },
    {
     "name": "stdout",
     "output_type": "stream",
     "text": [
      "--- 0.2977485656738281 seconds for solution baseline ---\n",
      "initial solution\n"
     ]
    },
    {
     "name": "stderr",
     "output_type": "stream",
     "text": [
      "100%|██████████| 53/53 [00:00<00:00, 175.02it/s]\n"
     ]
    },
    {
     "name": "stdout",
     "output_type": "stream",
     "text": [
      "--- 0.32070374488830566 seconds for solution baseline ---\n",
      "initial solution\n"
     ]
    },
    {
     "name": "stderr",
     "output_type": "stream",
     "text": [
      "100%|██████████| 53/53 [00:00<00:00, 177.32it/s]\n"
     ]
    },
    {
     "name": "stdout",
     "output_type": "stream",
     "text": [
      "--- 0.31825757026672363 seconds for solution baseline ---\n",
      "initial solution\n"
     ]
    },
    {
     "name": "stderr",
     "output_type": "stream",
     "text": [
      "100%|██████████| 53/53 [00:00<00:00, 195.97it/s]\n"
     ]
    },
    {
     "name": "stdout",
     "output_type": "stream",
     "text": [
      "--- 0.2870657444000244 seconds for solution baseline ---\n",
      "initial solution\n"
     ]
    },
    {
     "name": "stderr",
     "output_type": "stream",
     "text": [
      "100%|██████████| 53/53 [00:00<00:00, 178.56it/s]\n"
     ]
    },
    {
     "name": "stdout",
     "output_type": "stream",
     "text": [
      "--- 0.31281471252441406 seconds for solution baseline ---\n",
      "initial solution\n"
     ]
    },
    {
     "name": "stderr",
     "output_type": "stream",
     "text": [
      "100%|██████████| 53/53 [00:00<00:00, 173.74it/s]\n"
     ]
    },
    {
     "name": "stdout",
     "output_type": "stream",
     "text": [
      "--- 0.4651937484741211 seconds for solution baseline ---\n",
      "initial solution\n"
     ]
    },
    {
     "name": "stderr",
     "output_type": "stream",
     "text": [
      "100%|██████████| 53/53 [00:00<00:00, 175.69it/s]\n"
     ]
    },
    {
     "name": "stdout",
     "output_type": "stream",
     "text": [
      "--- 0.31839776039123535 seconds for solution baseline ---\n",
      "initial solution\n"
     ]
    },
    {
     "name": "stderr",
     "output_type": "stream",
     "text": [
      "100%|██████████| 53/53 [00:00<00:00, 166.63it/s]\n"
     ]
    },
    {
     "name": "stdout",
     "output_type": "stream",
     "text": [
      "--- 0.3335866928100586 seconds for solution baseline ---\n",
      "initial solution\n"
     ]
    },
    {
     "name": "stderr",
     "output_type": "stream",
     "text": [
      "100%|██████████| 54/54 [00:00<00:00, 176.26it/s]\n"
     ]
    },
    {
     "name": "stdout",
     "output_type": "stream",
     "text": [
      "--- 0.3219630718231201 seconds for solution baseline ---\n",
      "initial solution\n"
     ]
    },
    {
     "name": "stderr",
     "output_type": "stream",
     "text": [
      "100%|██████████| 54/54 [00:00<00:00, 184.48it/s]\n"
     ]
    },
    {
     "name": "stdout",
     "output_type": "stream",
     "text": [
      "--- 0.31246066093444824 seconds for solution baseline ---\n",
      "initial solution\n"
     ]
    },
    {
     "name": "stderr",
     "output_type": "stream",
     "text": [
      "100%|██████████| 54/54 [00:00<00:00, 163.11it/s]\n"
     ]
    },
    {
     "name": "stdout",
     "output_type": "stream",
     "text": [
      "--- 0.3480794429779053 seconds for solution baseline ---\n",
      "initial solution\n"
     ]
    },
    {
     "name": "stderr",
     "output_type": "stream",
     "text": [
      "100%|██████████| 54/54 [00:00<00:00, 171.20it/s]\n"
     ]
    },
    {
     "name": "stdout",
     "output_type": "stream",
     "text": [
      "--- 0.33321690559387207 seconds for solution baseline ---\n",
      "initial solution\n"
     ]
    },
    {
     "name": "stderr",
     "output_type": "stream",
     "text": [
      "100%|██████████| 54/54 [00:00<00:00, 185.02it/s]\n"
     ]
    },
    {
     "name": "stdout",
     "output_type": "stream",
     "text": [
      "--- 0.31052565574645996 seconds for solution baseline ---\n",
      "initial solution\n"
     ]
    },
    {
     "name": "stderr",
     "output_type": "stream",
     "text": [
      "100%|██████████| 54/54 [00:00<00:00, 166.97it/s]\n"
     ]
    },
    {
     "name": "stdout",
     "output_type": "stream",
     "text": [
      "--- 0.3425469398498535 seconds for solution baseline ---\n",
      "initial solution\n"
     ]
    },
    {
     "name": "stderr",
     "output_type": "stream",
     "text": [
      "100%|██████████| 54/54 [00:00<00:00, 174.31it/s]\n"
     ]
    },
    {
     "name": "stdout",
     "output_type": "stream",
     "text": [
      "--- 0.32779407501220703 seconds for solution baseline ---\n",
      "initial solution\n"
     ]
    },
    {
     "name": "stderr",
     "output_type": "stream",
     "text": [
      "100%|██████████| 54/54 [00:00<00:00, 170.18it/s]\n"
     ]
    },
    {
     "name": "stdout",
     "output_type": "stream",
     "text": [
      "--- 0.3345210552215576 seconds for solution baseline ---\n",
      "initial solution\n"
     ]
    },
    {
     "name": "stderr",
     "output_type": "stream",
     "text": [
      "100%|██████████| 54/54 [00:00<00:00, 173.63it/s]\n"
     ]
    },
    {
     "name": "stdout",
     "output_type": "stream",
     "text": [
      "--- 0.3275105953216553 seconds for solution baseline ---\n",
      "initial solution\n"
     ]
    },
    {
     "name": "stderr",
     "output_type": "stream",
     "text": [
      "100%|██████████| 54/54 [00:00<00:00, 165.17it/s]\n"
     ]
    },
    {
     "name": "stdout",
     "output_type": "stream",
     "text": [
      "--- 0.3459475040435791 seconds for solution baseline ---\n",
      "initial solution\n"
     ]
    },
    {
     "name": "stderr",
     "output_type": "stream",
     "text": [
      "100%|██████████| 55/55 [00:00<00:00, 150.15it/s]\n"
     ]
    },
    {
     "name": "stdout",
     "output_type": "stream",
     "text": [
      "--- 0.38629627227783203 seconds for solution baseline ---\n",
      "initial solution\n"
     ]
    },
    {
     "name": "stderr",
     "output_type": "stream",
     "text": [
      "100%|██████████| 55/55 [00:00<00:00, 170.57it/s]\n"
     ]
    },
    {
     "name": "stdout",
     "output_type": "stream",
     "text": [
      "--- 0.4863739013671875 seconds for solution baseline ---\n",
      "initial solution\n"
     ]
    },
    {
     "name": "stderr",
     "output_type": "stream",
     "text": [
      "100%|██████████| 55/55 [00:00<00:00, 163.70it/s]\n"
     ]
    },
    {
     "name": "stdout",
     "output_type": "stream",
     "text": [
      "--- 0.35390353202819824 seconds for solution baseline ---\n",
      "initial solution\n"
     ]
    },
    {
     "name": "stderr",
     "output_type": "stream",
     "text": [
      "100%|██████████| 55/55 [00:00<00:00, 169.23it/s]\n"
     ]
    },
    {
     "name": "stdout",
     "output_type": "stream",
     "text": [
      "--- 0.3417079448699951 seconds for solution baseline ---\n",
      "initial solution\n"
     ]
    },
    {
     "name": "stderr",
     "output_type": "stream",
     "text": [
      "100%|██████████| 55/55 [00:00<00:00, 163.41it/s]\n"
     ]
    },
    {
     "name": "stdout",
     "output_type": "stream",
     "text": [
      "--- 0.35349130630493164 seconds for solution baseline ---\n",
      "initial solution\n"
     ]
    },
    {
     "name": "stderr",
     "output_type": "stream",
     "text": [
      "100%|██████████| 55/55 [00:00<00:00, 162.91it/s]\n"
     ]
    },
    {
     "name": "stdout",
     "output_type": "stream",
     "text": [
      "--- 0.3550994396209717 seconds for solution baseline ---\n",
      "initial solution\n"
     ]
    },
    {
     "name": "stderr",
     "output_type": "stream",
     "text": [
      "100%|██████████| 55/55 [00:00<00:00, 167.20it/s]\n"
     ]
    },
    {
     "name": "stdout",
     "output_type": "stream",
     "text": [
      "--- 0.34856653213500977 seconds for solution baseline ---\n",
      "initial solution\n"
     ]
    },
    {
     "name": "stderr",
     "output_type": "stream",
     "text": [
      "100%|██████████| 55/55 [00:00<00:00, 163.05it/s]\n"
     ]
    },
    {
     "name": "stdout",
     "output_type": "stream",
     "text": [
      "--- 0.3557107448577881 seconds for solution baseline ---\n",
      "initial solution\n"
     ]
    },
    {
     "name": "stderr",
     "output_type": "stream",
     "text": [
      "100%|██████████| 55/55 [00:00<00:00, 155.95it/s]\n"
     ]
    },
    {
     "name": "stdout",
     "output_type": "stream",
     "text": [
      "--- 0.3722386360168457 seconds for solution baseline ---\n",
      "initial solution\n"
     ]
    },
    {
     "name": "stderr",
     "output_type": "stream",
     "text": [
      "100%|██████████| 55/55 [00:00<00:00, 174.10it/s]\n"
     ]
    },
    {
     "name": "stdout",
     "output_type": "stream",
     "text": [
      "--- 0.33411407470703125 seconds for solution baseline ---\n",
      "initial solution\n"
     ]
    },
    {
     "name": "stderr",
     "output_type": "stream",
     "text": [
      "100%|██████████| 56/56 [00:00<00:00, 166.53it/s]\n"
     ]
    },
    {
     "name": "stdout",
     "output_type": "stream",
     "text": [
      "--- 0.35417938232421875 seconds for solution baseline ---\n",
      "initial solution\n"
     ]
    },
    {
     "name": "stderr",
     "output_type": "stream",
     "text": [
      "100%|██████████| 56/56 [00:00<00:00, 140.57it/s]\n"
     ]
    },
    {
     "name": "stdout",
     "output_type": "stream",
     "text": [
      "--- 0.416027307510376 seconds for solution baseline ---\n",
      "initial solution\n"
     ]
    },
    {
     "name": "stderr",
     "output_type": "stream",
     "text": [
      "100%|██████████| 56/56 [00:00<00:00, 127.15it/s]\n"
     ]
    },
    {
     "name": "stdout",
     "output_type": "stream",
     "text": [
      "--- 0.4612734317779541 seconds for solution baseline ---\n",
      "initial solution\n"
     ]
    },
    {
     "name": "stderr",
     "output_type": "stream",
     "text": [
      "100%|██████████| 56/56 [00:00<00:00, 136.79it/s]\n"
     ]
    },
    {
     "name": "stdout",
     "output_type": "stream",
     "text": [
      "--- 0.4332871437072754 seconds for solution baseline ---\n",
      "initial solution\n"
     ]
    },
    {
     "name": "stderr",
     "output_type": "stream",
     "text": [
      "100%|██████████| 56/56 [00:00<00:00, 138.70it/s]\n"
     ]
    },
    {
     "name": "stdout",
     "output_type": "stream",
     "text": [
      "--- 0.6059348583221436 seconds for solution baseline ---\n",
      "initial solution\n"
     ]
    },
    {
     "name": "stderr",
     "output_type": "stream",
     "text": [
      "100%|██████████| 56/56 [00:00<00:00, 157.96it/s]\n"
     ]
    },
    {
     "name": "stdout",
     "output_type": "stream",
     "text": [
      "--- 0.37947916984558105 seconds for solution baseline ---\n",
      "initial solution\n"
     ]
    },
    {
     "name": "stderr",
     "output_type": "stream",
     "text": [
      "100%|██████████| 56/56 [00:00<00:00, 120.62it/s]\n"
     ]
    },
    {
     "name": "stdout",
     "output_type": "stream",
     "text": [
      "--- 0.4855659008026123 seconds for solution baseline ---\n",
      "initial solution\n"
     ]
    },
    {
     "name": "stderr",
     "output_type": "stream",
     "text": [
      "100%|██████████| 56/56 [00:00<00:00, 103.27it/s]\n"
     ]
    },
    {
     "name": "stdout",
     "output_type": "stream",
     "text": [
      "--- 0.5605883598327637 seconds for solution baseline ---\n",
      "initial solution\n"
     ]
    },
    {
     "name": "stderr",
     "output_type": "stream",
     "text": [
      "100%|██████████| 56/56 [00:00<00:00, 122.97it/s]\n"
     ]
    },
    {
     "name": "stdout",
     "output_type": "stream",
     "text": [
      "--- 0.47775959968566895 seconds for solution baseline ---\n",
      "initial solution\n"
     ]
    },
    {
     "name": "stderr",
     "output_type": "stream",
     "text": [
      "100%|██████████| 56/56 [00:00<00:00, 145.08it/s]\n"
     ]
    },
    {
     "name": "stdout",
     "output_type": "stream",
     "text": [
      "--- 0.4048495292663574 seconds for solution baseline ---\n",
      "initial solution\n"
     ]
    },
    {
     "name": "stderr",
     "output_type": "stream",
     "text": [
      "100%|██████████| 57/57 [00:00<00:00, 146.66it/s]\n"
     ]
    },
    {
     "name": "stdout",
     "output_type": "stream",
     "text": [
      "--- 0.41004061698913574 seconds for solution baseline ---\n",
      "initial solution\n"
     ]
    },
    {
     "name": "stderr",
     "output_type": "stream",
     "text": [
      "100%|██████████| 57/57 [00:00<00:00, 231.47it/s]\n"
     ]
    },
    {
     "name": "stdout",
     "output_type": "stream",
     "text": [
      "--- 0.2587559223175049 seconds for solution baseline ---\n",
      "initial solution\n"
     ]
    },
    {
     "name": "stderr",
     "output_type": "stream",
     "text": [
      "100%|██████████| 57/57 [00:00<00:00, 237.98it/s]\n"
     ]
    },
    {
     "name": "stdout",
     "output_type": "stream",
     "text": [
      "--- 0.25302624702453613 seconds for solution baseline ---\n",
      "initial solution\n"
     ]
    },
    {
     "name": "stderr",
     "output_type": "stream",
     "text": [
      "100%|██████████| 57/57 [00:00<00:00, 236.52it/s]\n"
     ]
    },
    {
     "name": "stdout",
     "output_type": "stream",
     "text": [
      "--- 0.254685640335083 seconds for solution baseline ---\n",
      "initial solution\n"
     ]
    },
    {
     "name": "stderr",
     "output_type": "stream",
     "text": [
      "100%|██████████| 57/57 [00:00<00:00, 223.56it/s]\n"
     ]
    },
    {
     "name": "stdout",
     "output_type": "stream",
     "text": [
      "--- 0.26755571365356445 seconds for solution baseline ---\n",
      "initial solution\n"
     ]
    },
    {
     "name": "stderr",
     "output_type": "stream",
     "text": [
      "100%|██████████| 57/57 [00:00<00:00, 244.18it/s]\n"
     ]
    },
    {
     "name": "stdout",
     "output_type": "stream",
     "text": [
      "--- 0.24618029594421387 seconds for solution baseline ---\n",
      "initial solution\n"
     ]
    },
    {
     "name": "stderr",
     "output_type": "stream",
     "text": [
      "100%|██████████| 57/57 [00:00<00:00, 141.14it/s]\n"
     ]
    },
    {
     "name": "stdout",
     "output_type": "stream",
     "text": [
      "--- 0.4160020351409912 seconds for solution baseline ---\n",
      "initial solution\n"
     ]
    },
    {
     "name": "stderr",
     "output_type": "stream",
     "text": [
      "100%|██████████| 57/57 [00:00<00:00, 215.42it/s]\n"
     ]
    },
    {
     "name": "stdout",
     "output_type": "stream",
     "text": [
      "--- 0.2763490676879883 seconds for solution baseline ---\n",
      "initial solution\n"
     ]
    },
    {
     "name": "stderr",
     "output_type": "stream",
     "text": [
      "100%|██████████| 57/57 [00:00<00:00, 223.25it/s]\n"
     ]
    },
    {
     "name": "stdout",
     "output_type": "stream",
     "text": [
      "--- 0.26801633834838867 seconds for solution baseline ---\n",
      "initial solution\n"
     ]
    },
    {
     "name": "stderr",
     "output_type": "stream",
     "text": [
      "100%|██████████| 57/57 [00:00<00:00, 227.11it/s]\n"
     ]
    },
    {
     "name": "stdout",
     "output_type": "stream",
     "text": [
      "--- 0.2635338306427002 seconds for solution baseline ---\n",
      "initial solution\n"
     ]
    },
    {
     "name": "stderr",
     "output_type": "stream",
     "text": [
      "100%|██████████| 58/58 [00:00<00:00, 210.10it/s]\n"
     ]
    },
    {
     "name": "stdout",
     "output_type": "stream",
     "text": [
      "--- 0.29187512397766113 seconds for solution baseline ---\n",
      "initial solution\n"
     ]
    },
    {
     "name": "stderr",
     "output_type": "stream",
     "text": [
      "100%|██████████| 58/58 [00:00<00:00, 198.37it/s]\n"
     ]
    },
    {
     "name": "stdout",
     "output_type": "stream",
     "text": [
      "--- 0.3072521686553955 seconds for solution baseline ---\n",
      "initial solution\n"
     ]
    },
    {
     "name": "stderr",
     "output_type": "stream",
     "text": [
      "100%|██████████| 58/58 [00:00<00:00, 193.95it/s]\n"
     ]
    },
    {
     "name": "stdout",
     "output_type": "stream",
     "text": [
      "--- 0.3124675750732422 seconds for solution baseline ---\n",
      "initial solution\n"
     ]
    },
    {
     "name": "stderr",
     "output_type": "stream",
     "text": [
      "100%|██████████| 58/58 [00:00<00:00, 213.68it/s]\n"
     ]
    },
    {
     "name": "stdout",
     "output_type": "stream",
     "text": [
      "--- 0.28600287437438965 seconds for solution baseline ---\n",
      "initial solution\n"
     ]
    },
    {
     "name": "stderr",
     "output_type": "stream",
     "text": [
      "100%|██████████| 58/58 [00:00<00:00, 178.25it/s]\n"
     ]
    },
    {
     "name": "stdout",
     "output_type": "stream",
     "text": [
      "--- 0.33950376510620117 seconds for solution baseline ---\n",
      "initial solution\n"
     ]
    },
    {
     "name": "stderr",
     "output_type": "stream",
     "text": [
      "100%|██████████| 58/58 [00:00<00:00, 177.44it/s]\n"
     ]
    },
    {
     "name": "stdout",
     "output_type": "stream",
     "text": [
      "--- 0.3420708179473877 seconds for solution baseline ---\n",
      "initial solution\n"
     ]
    },
    {
     "name": "stderr",
     "output_type": "stream",
     "text": [
      "100%|██████████| 58/58 [00:00<00:00, 218.65it/s]\n"
     ]
    },
    {
     "name": "stdout",
     "output_type": "stream",
     "text": [
      "--- 0.2777869701385498 seconds for solution baseline ---\n",
      "initial solution\n"
     ]
    },
    {
     "name": "stderr",
     "output_type": "stream",
     "text": [
      "100%|██████████| 58/58 [00:00<00:00, 211.72it/s]\n"
     ]
    },
    {
     "name": "stdout",
     "output_type": "stream",
     "text": [
      "--- 0.2892277240753174 seconds for solution baseline ---\n",
      "initial solution\n"
     ]
    },
    {
     "name": "stderr",
     "output_type": "stream",
     "text": [
      "100%|██████████| 58/58 [00:00<00:00, 200.13it/s]\n"
     ]
    },
    {
     "name": "stdout",
     "output_type": "stream",
     "text": [
      "--- 0.30612969398498535 seconds for solution baseline ---\n",
      "initial solution\n"
     ]
    },
    {
     "name": "stderr",
     "output_type": "stream",
     "text": [
      "100%|██████████| 58/58 [00:00<00:00, 203.80it/s]\n"
     ]
    },
    {
     "name": "stdout",
     "output_type": "stream",
     "text": [
      "--- 0.46424388885498047 seconds for solution baseline ---\n",
      "initial solution\n"
     ]
    },
    {
     "name": "stderr",
     "output_type": "stream",
     "text": [
      "100%|██████████| 59/59 [00:00<00:00, 203.24it/s]\n"
     ]
    },
    {
     "name": "stdout",
     "output_type": "stream",
     "text": [
      "--- 0.30297422409057617 seconds for solution baseline ---\n",
      "initial solution\n"
     ]
    },
    {
     "name": "stderr",
     "output_type": "stream",
     "text": [
      "100%|██████████| 59/59 [00:00<00:00, 192.10it/s]\n"
     ]
    },
    {
     "name": "stdout",
     "output_type": "stream",
     "text": [
      "--- 0.3197946548461914 seconds for solution baseline ---\n",
      "initial solution\n"
     ]
    },
    {
     "name": "stderr",
     "output_type": "stream",
     "text": [
      "100%|██████████| 59/59 [00:00<00:00, 210.84it/s]\n"
     ]
    },
    {
     "name": "stdout",
     "output_type": "stream",
     "text": [
      "--- 0.2925140857696533 seconds for solution baseline ---\n",
      "initial solution\n"
     ]
    },
    {
     "name": "stderr",
     "output_type": "stream",
     "text": [
      "100%|██████████| 59/59 [00:00<00:00, 211.20it/s]\n"
     ]
    },
    {
     "name": "stdout",
     "output_type": "stream",
     "text": [
      "--- 0.29215502738952637 seconds for solution baseline ---\n",
      "initial solution\n"
     ]
    },
    {
     "name": "stderr",
     "output_type": "stream",
     "text": [
      "100%|██████████| 59/59 [00:00<00:00, 207.45it/s]\n"
     ]
    },
    {
     "name": "stdout",
     "output_type": "stream",
     "text": [
      "--- 0.2956063747406006 seconds for solution baseline ---\n",
      "initial solution\n"
     ]
    },
    {
     "name": "stderr",
     "output_type": "stream",
     "text": [
      "100%|██████████| 59/59 [00:00<00:00, 213.93it/s]\n"
     ]
    },
    {
     "name": "stdout",
     "output_type": "stream",
     "text": [
      "--- 0.2896735668182373 seconds for solution baseline ---\n",
      "initial solution\n"
     ]
    },
    {
     "name": "stderr",
     "output_type": "stream",
     "text": [
      "100%|██████████| 59/59 [00:00<00:00, 231.64it/s]\n"
     ]
    },
    {
     "name": "stdout",
     "output_type": "stream",
     "text": [
      "--- 0.268373966217041 seconds for solution baseline ---\n",
      "initial solution\n"
     ]
    },
    {
     "name": "stderr",
     "output_type": "stream",
     "text": [
      "100%|██████████| 59/59 [00:00<00:00, 206.93it/s]\n"
     ]
    },
    {
     "name": "stdout",
     "output_type": "stream",
     "text": [
      "--- 0.2963435649871826 seconds for solution baseline ---\n",
      "initial solution\n"
     ]
    },
    {
     "name": "stderr",
     "output_type": "stream",
     "text": [
      "100%|██████████| 59/59 [00:00<00:00, 209.84it/s]\n"
     ]
    },
    {
     "name": "stdout",
     "output_type": "stream",
     "text": [
      "--- 0.29255151748657227 seconds for solution baseline ---\n",
      "initial solution\n"
     ]
    },
    {
     "name": "stderr",
     "output_type": "stream",
     "text": [
      "100%|██████████| 59/59 [00:00<00:00, 145.15it/s]\n"
     ]
    },
    {
     "name": "stdout",
     "output_type": "stream",
     "text": [
      "--- 0.420426607131958 seconds for solution baseline ---\n",
      "initial solution\n"
     ]
    },
    {
     "name": "stderr",
     "output_type": "stream",
     "text": [
      "100%|██████████| 60/60 [00:00<00:00, 195.87it/s]\n"
     ]
    },
    {
     "name": "stdout",
     "output_type": "stream",
     "text": [
      "--- 0.3211824893951416 seconds for solution baseline ---\n",
      "initial solution\n"
     ]
    },
    {
     "name": "stderr",
     "output_type": "stream",
     "text": [
      "100%|██████████| 60/60 [00:00<00:00, 198.82it/s]\n"
     ]
    },
    {
     "name": "stdout",
     "output_type": "stream",
     "text": [
      "--- 0.3150660991668701 seconds for solution baseline ---\n",
      "initial solution\n"
     ]
    },
    {
     "name": "stderr",
     "output_type": "stream",
     "text": [
      "100%|██████████| 60/60 [00:00<00:00, 222.89it/s]\n"
     ]
    },
    {
     "name": "stdout",
     "output_type": "stream",
     "text": [
      "--- 0.28139448165893555 seconds for solution baseline ---\n",
      "initial solution\n"
     ]
    },
    {
     "name": "stderr",
     "output_type": "stream",
     "text": [
      "100%|██████████| 60/60 [00:00<00:00, 193.77it/s]\n"
     ]
    },
    {
     "name": "stdout",
     "output_type": "stream",
     "text": [
      "--- 0.3241548538208008 seconds for solution baseline ---\n",
      "initial solution\n"
     ]
    },
    {
     "name": "stderr",
     "output_type": "stream",
     "text": [
      "100%|██████████| 60/60 [00:00<00:00, 183.22it/s]\n"
     ]
    },
    {
     "name": "stdout",
     "output_type": "stream",
     "text": [
      "--- 0.3395266532897949 seconds for solution baseline ---\n",
      "initial solution\n"
     ]
    },
    {
     "name": "stderr",
     "output_type": "stream",
     "text": [
      "100%|██████████| 60/60 [00:00<00:00, 202.36it/s]\n"
     ]
    },
    {
     "name": "stdout",
     "output_type": "stream",
     "text": [
      "--- 0.31162238121032715 seconds for solution baseline ---\n",
      "initial solution\n"
     ]
    },
    {
     "name": "stderr",
     "output_type": "stream",
     "text": [
      "100%|██████████| 60/60 [00:00<00:00, 156.56it/s]\n"
     ]
    },
    {
     "name": "stdout",
     "output_type": "stream",
     "text": [
      "--- 0.39874863624572754 seconds for solution baseline ---\n",
      "initial solution\n"
     ]
    },
    {
     "name": "stderr",
     "output_type": "stream",
     "text": [
      "100%|██████████| 60/60 [00:00<00:00, 195.90it/s]\n"
     ]
    },
    {
     "name": "stdout",
     "output_type": "stream",
     "text": [
      "--- 0.31970977783203125 seconds for solution baseline ---\n",
      "initial solution\n"
     ]
    },
    {
     "name": "stderr",
     "output_type": "stream",
     "text": [
      "100%|██████████| 60/60 [00:00<00:00, 194.88it/s]\n"
     ]
    },
    {
     "name": "stdout",
     "output_type": "stream",
     "text": [
      "--- 0.3209190368652344 seconds for solution baseline ---\n",
      "initial solution\n"
     ]
    },
    {
     "name": "stderr",
     "output_type": "stream",
     "text": [
      "100%|██████████| 60/60 [00:00<00:00, 163.85it/s]"
     ]
    },
    {
     "name": "stdout",
     "output_type": "stream",
     "text": [
      "--- 0.37833237648010254 seconds for solution baseline ---\n",
      "Taille       Temps moyen  Score moyen \n",
      "11           6.4          289.6545454545454\n",
      "12           21.3         422.7333333333333\n",
      "13           6.1          496.42307692307696\n",
      "14           6.8          801.8785714285715\n",
      "15           7.0          864.8399999999999\n",
      "16           9.9          1219.61875  \n",
      "17           9.5          1240.7      \n",
      "18           10.9         1521.3666666666666\n",
      "19           11.8         1877.9894736842107\n",
      "20           17.0         2093.395    \n",
      "21           15.1         2248.7904761904765\n",
      "22           18.9         2958.759090909091\n",
      "23           21.4         2702.769565217391\n",
      "24           20.0         3637.0458333333336\n",
      "25           23.3         3730.612    \n",
      "26           23.7         4124.7      \n",
      "27           25.2         4618.6925925925925\n",
      "28           29.7         4260.567857142857\n",
      "29           32.5         4927.913793103448\n",
      "30           34.4         5598.88     \n",
      "31           37.7         5551.583870967742\n",
      "32           42.4         6140.078125 \n",
      "33           46.0         6128.845454545454\n",
      "34           46.8         7304.864705882353\n",
      "35           54.3         6678.977142857143\n",
      "36           84.1         7960.0583333333325\n",
      "37           57.4         7665.0      \n",
      "38           66.3         8133.444736842105\n",
      "39           68.9         8541.766666666666\n",
      "40           72.7         9395.3825   \n",
      "41           138.9        9281.578048780488\n",
      "42           146.7        9655.654761904761\n",
      "43           156.6        9155.451162790698\n",
      "44           166.7        10288.284090909092\n",
      "45           191.8        9249.093333333334\n",
      "46           195.9        11466.073913043478\n",
      "47           202.9        10464.51489361702\n",
      "48           242.0        11641.13125 \n",
      "49           249.0        11078.802040816327\n",
      "50           268.8        12022.674   \n",
      "51           278.5        11944.184313725491\n",
      "52           319.7        12255.111538461537\n",
      "53           338.1        12485.771698113207\n",
      "54           338.2        12856.868518518519\n",
      "55           376.7        11799.201818181818\n",
      "56           467.8        12476.692857142856\n",
      "57           297.5        12680.159649122808\n",
      "58           328.3        13269.158620689655\n",
      "59           313.7        13528.05593220339\n",
      "60           338.1        14136.171666666667\n"
     ]
    },
    {
     "name": "stderr",
     "output_type": "stream",
     "text": [
      "\n"
     ]
    }
   ],
   "source": [
    "resultats_am_locale = measure_range(main_amelioration, problems)\n",
    "\n",
    "display_data_as_table(resultats_am_locale)"
   ]
  },
  {
   "cell_type": "code",
   "execution_count": 110,
   "metadata": {},
   "outputs": [
    {
     "data": {
      "image/png": "[encoded data removed]",
      "text/plain": [
       "<Figure size 640x480 with 1 Axes>"
      ]
     },
     "metadata": {},
     "output_type": "display_data"
    }
   ],
   "source": [
    "dict_am_locale = dict_from_measures(resultats_am_locale)\n",
    "\n",
    "test_de_puissance(dict_am_locale, \"nombre d'éléments dans la liste\", 'temps moyen de tri (ms)', \"Test de puissance Merge sort nombre d'éléments\")"
   ]
  },
  {
   "cell_type": "code",
   "execution_count": 111,
   "metadata": {},
   "outputs": [
    {
     "data": {
      "image/png": "[encoded data removed]",
      "text/plain": [
       "<Figure size 640x480 with 1 Axes>"
      ]
     },
     "metadata": {},
     "output_type": "display_data"
    }
   ],
   "source": [
    "test_de_rapport(change_to_predict(resultats_am_locale, lambda x: x**4), \"rapport entre n log(n) et les augmentations de temps\", \"nombre d'items à balancer dans les deux listes combinées\" , \"Test de rapport sur l'algorithme glouton\")"
   ]
  },
  {
   "cell_type": "markdown",
   "metadata": {},
   "source": [
    "### Amélioration locale\n",
    "\n",
    "Ceci était un essaie qui ne fonctionne pas de calculer indépendamment l'amélioration locale"
   ]
  },
  {
   "cell_type": "code",
   "execution_count": 102,
   "metadata": {},
   "outputs": [],
   "source": [
    "def main_preparation(sample):\n",
    "    start_time = time.time()\n",
    "    n = len(sample)\n",
    "    target = 500 * n\n",
    "    counties = set_counties(sample)\n",
    "    sol, groups = max_to_target(counties, target, n)\n",
    "    return (sol, groups, sample, n, target, counties)\n",
    "    "
   ]
  },
  {
   "cell_type": "code",
   "execution_count": 103,
   "metadata": {},
   "outputs": [
    {
     "name": "stderr",
     "output_type": "stream",
     "text": [
      "100%|██████████| 11/11 [00:00<00:00, 9053.64it/s]\n",
      "100%|██████████| 11/11 [00:00<00:00, 11066.77it/s]\n",
      "100%|██████████| 11/11 [00:00<?, ?it/s]\n",
      "100%|██████████| 11/11 [00:00<00:00, 5433.04it/s]\n",
      "100%|██████████| 11/11 [00:00<00:00, 11053.51it/s]\n",
      "100%|██████████| 11/11 [00:00<00:00, 5071.15it/s]\n",
      "100%|██████████| 11/11 [00:00<00:00, 11024.45it/s]\n",
      "100%|██████████| 11/11 [00:00<00:00, 5460.69it/s]\n",
      "100%|██████████| 11/11 [00:00<00:00, 11032.36it/s]\n",
      "100%|██████████| 11/11 [00:00<00:00, 5489.93it/s]\n",
      "100%|██████████| 12/12 [00:00<00:00, 5947.26it/s]\n",
      "100%|██████████| 12/12 [00:00<00:00, 6400.26it/s]\n",
      "100%|██████████| 12/12 [00:00<00:00, 2451.85it/s]\n",
      "100%|██████████| 12/12 [00:00<00:00, 5999.72it/s]\n",
      "100%|██████████| 12/12 [00:00<00:00, 5906.78it/s]\n",
      "100%|██████████| 12/12 [00:00<00:00, 6969.21it/s]\n",
      "100%|██████████| 12/12 [00:00<00:00, 7950.03it/s]\n",
      "100%|██████████| 12/12 [00:00<00:00, 5500.73it/s]\n",
      "100%|██████████| 12/12 [00:00<00:00, 5981.18it/s]\n",
      "100%|██████████| 12/12 [00:00<00:00, 7374.60it/s]\n",
      "100%|██████████| 13/13 [00:00<00:00, 6498.15it/s]\n",
      "100%|██████████| 13/13 [00:00<00:00, 10431.60it/s]\n",
      "100%|██████████| 13/13 [00:00<00:00, 6204.59it/s]\n",
      "100%|██████████| 13/13 [00:00<00:00, 6481.92it/s]\n",
      "100%|██████████| 13/13 [00:00<00:00, 4958.71it/s]\n",
      "100%|██████████| 13/13 [00:00<00:00, 4888.03it/s]\n",
      "100%|██████████| 13/13 [00:00<00:00, 3787.05it/s]\n",
      "100%|██████████| 13/13 [00:00<00:00, 5692.83it/s]\n",
      "100%|██████████| 13/13 [00:00<00:00, 4658.75it/s]\n",
      "100%|██████████| 13/13 [00:00<00:00, 8362.88it/s]\n",
      "100%|██████████| 14/14 [00:00<00:00, 4843.71it/s]\n",
      "100%|██████████| 14/14 [00:00<00:00, 4267.15it/s]\n",
      "100%|██████████| 14/14 [00:00<00:00, 6963.15it/s]\n",
      "100%|██████████| 14/14 [00:00<00:00, 4686.37it/s]\n",
      "100%|██████████| 14/14 [00:00<00:00, 7506.10it/s]\n",
      "100%|██████████| 14/14 [00:00<00:00, 3210.51it/s]\n",
      "100%|██████████| 14/14 [00:00<?, ?it/s]\n",
      "100%|██████████| 14/14 [00:00<00:00, 6410.51it/s]\n",
      "100%|██████████| 14/14 [00:00<00:00, 4975.03it/s]\n",
      "100%|██████████| 14/14 [00:00<00:00, 3724.72it/s]\n"
     ]
    }
   ],
   "source": [
    "problems = make_problems([x for x in range(11, 15)], 10)\n",
    "resultats_initials = {\"solutions_initiales\": [],\n",
    "                       \"groupes\": [],\n",
    "                       \"samples\": [],\n",
    "                       \"ns\": [],\n",
    "                       \"targets\": [], \n",
    "                       \"counties\": []}\n",
    "for prob in problems:\n",
    "    solutions_initiales, groupes, samples, ns, targets, counties = [], [], [], [], [], []\n",
    "    sols = [main_preparation(sample) for sample in prob.generate_dataset()]\n",
    "    for sol in sols:\n",
    "        solutions_initiales.append(sol[0])\n",
    "        groupes.append(sol[1])\n",
    "        samples.append(sol[2])\n",
    "        ns.append(sol[3])\n",
    "        targets.append(sol[4])\n",
    "        counties.append(sol[5])\n",
    "    \n",
    "    resultats_initials[\"solutions_initiales\"].append(solutions_initiales)\n",
    "    resultats_initials[\"groupes\"].append(groupes)\n",
    "    resultats_initials[\"samples\"].append(samples)\n",
    "    resultats_initials[\"ns\"].append(ns)\n",
    "    resultats_initials[\"targets\"].append(targets)\n",
    "    resultats_initials[\"counties\"].append(counties)\n",
    "\n"
   ]
  },
  {
   "cell_type": "code",
   "execution_count": null,
   "metadata": {},
   "outputs": [],
   "source": [
    "\n",
    "def main_amelioration(sample):\n",
    "    start_time = time.time()\n",
    "    max_time = 60 * 3 - 1\n",
    "    n = len(sample)\n",
    "    target = 500 * n\n",
    "    counties = resultats_initials[\"counties\"]\n",
    "    print('initial solution')\n",
    "    sol, groups = max_to_target(counties, target, n)\n",
    "    if (time.time() - start_time) > max_time:\n",
    "        return sol\n",
    "    print(\"--- %s seconds for solution baseline ---\" % (time.time() - start_time))\n",
    "\n",
    "    #print('vote score: ', votes_score(sample, sol))\n",
    "    #print('size score: ', size_score(sol))\n",
    "    #print('distance score: ', distance_score(sol))\n",
    "    #print('intial score: ',score_solution(sample, sol))\n",
    "    #drawmap_of_discrits(n, sol)\n",
    "    first_iter = True\n",
    "    iter_time = time.time()\n",
    "    time_to_iter = 0\n",
    "    print('improvement')\n",
    "    while(True):\n",
    "        updated = amelioration_locale(groups, target, n, sample, sol)\n",
    "        sol = updated"
   ]
  },
  {
   "cell_type": "code",
   "execution_count": 96,
   "metadata": {},
   "outputs": [
    {
     "name": "stdout",
     "output_type": "stream",
     "text": [
      "[[[[<__main__.County object at 0x00000190972F8D10>, <__main__.County object at 0x00000190972F9430>, <__main__.County object at 0x00000190972F8FB0>, <__main__.County object at 0x00000190972FBE30>, <__main__.County object at 0x00000190972FB200>, <__main__.County object at 0x00000190972FA540>, <__main__.County object at 0x00000190972F86E0>, <__main__.County object at 0x00000190972FA480>, <__main__.County object at 0x00000190972FA840>, <__main__.County object at 0x00000190972FB290>, <__main__.County object at 0x00000190972FB3E0>], [<__main__.County object at 0x00000190972F8830>, <__main__.County object at 0x00000190972F89B0>, <__main__.County object at 0x00000190972FAA20>, <__main__.County object at 0x00000190972FB710>, <__main__.County object at 0x00000190972F9B20>, <__main__.County object at 0x00000190972FA4B0>, <__main__.County object at 0x00000190972FA150>, <__main__.County object at 0x00000190972FB500>, <__main__.County object at 0x00000190972F8650>, <__main__.County object at 0x00000190972F85C0>, <__main__.County object at 0x00000190972F95E0>], [<__main__.County object at 0x00000190972F9F10>, <__main__.County object at 0x00000190972F90D0>, <__main__.County object at 0x00000190972F83E0>, <__main__.County object at 0x00000190972FB860>, <__main__.County object at 0x00000190972FB890>, <__main__.County object at 0x00000190972F8050>, <__main__.County object at 0x00000190972F9100>, <__main__.County object at 0x00000190972FBEF0>, <__main__.County object at 0x00000190972FAD20>, <__main__.County object at 0x00000190972FB770>, <__main__.County object at 0x00000190972F9F40>], [<__main__.County object at 0x00000190972FAE70>, <__main__.County object at 0x00000190972F98B0>, <__main__.County object at 0x00000190972FA630>, <__main__.County object at 0x00000190972FA3C0>, <__main__.County object at 0x00000190972FAA80>, <__main__.County object at 0x00000190972FAD50>, <__main__.County object at 0x00000190972F9A00>, <__main__.County object at 0x00000190972FBE60>, <__main__.County object at 0x00000190972FB7A0>, <__main__.County object at 0x00000190972FA870>, <__main__.County object at 0x00000190972FBC50>], [<__main__.County object at 0x00000190972FA2A0>, <__main__.County object at 0x00000190972FA120>, <__main__.County object at 0x00000190972F8BF0>, <__main__.County object at 0x00000190972F8500>, <__main__.County object at 0x00000190972FA090>, <__main__.County object at 0x00000190972FBAA0>, <__main__.County object at 0x00000190972FB620>, <__main__.County object at 0x00000190972FB320>, <__main__.County object at 0x00000190972FB800>, <__main__.County object at 0x00000190972FBE00>, <__main__.County object at 0x00000190972F9AF0>], [<__main__.County object at 0x00000190972FB470>, <__main__.County object at 0x00000190972F95B0>, <__main__.County object at 0x00000190972FB560>, <__main__.County object at 0x00000190972FA1B0>, <__main__.County object at 0x00000190972F93A0>, <__main__.County object at 0x00000190972F9640>, <__main__.County object at 0x00000190972FB3B0>, <__main__.County object at 0x00000190972F8B60>, <__main__.County object at 0x00000190972FAF00>, <__main__.County object at 0x00000190972F96D0>, <__main__.County object at 0x00000190972FAEA0>], [<__main__.County object at 0x00000190972FBFE0>, <__main__.County object at 0x00000190972FA4E0>, <__main__.County object at 0x00000190972F87D0>, <__main__.County object at 0x00000190972F9C70>, <__main__.County object at 0x00000190972FB740>, <__main__.County object at 0x00000190972F9700>, <__main__.County object at 0x00000190972FBD10>, <__main__.County object at 0x00000190972F9910>, <__main__.County object at 0x00000190972F89E0>, <__main__.County object at 0x00000190972F8F50>, <__main__.County object at 0x00000190972FBA40>], [<__main__.County object at 0x00000190972F8C50>, <__main__.County object at 0x00000190972FA6F0>, <__main__.County object at 0x00000190972FAF60>, <__main__.County object at 0x00000190972F8C80>, <__main__.County object at 0x00000190972FB050>, <__main__.County object at 0x00000190972F8D70>, <__main__.County object at 0x00000190972F9C10>, <__main__.County object at 0x00000190972F9880>, <__main__.County object at 0x00000190972FA600>, <__main__.County object at 0x00000190972FBDA0>, <__main__.County object at 0x00000190972FBFB0>], [<__main__.County object at 0x00000190972FADB0>, <__main__.County object at 0x00000190972F9520>, <__main__.County object at 0x00000190972FA240>, <__main__.County object at 0x00000190972F91F0>, <__main__.County object at 0x00000190972F8A40>, <__main__.County object at 0x00000190972FB1D0>, <__main__.County object at 0x00000190972FAC60>, <__main__.County object at 0x00000190972F94F0>, <__main__.County object at 0x00000190972FAB70>, <__main__.County object at 0x00000190972FA360>, <__main__.County object at 0x00000190972FB0E0>], [<__main__.County object at 0x00000190972F9820>, <__main__.County object at 0x00000190972FBBF0>, <__main__.County object at 0x00000190972FA930>, <__main__.County object at 0x00000190972F88F0>, <__main__.County object at 0x00000190972F8350>, <__main__.County object at 0x00000190972FAFF0>, <__main__.County object at 0x00000190972F9070>, <__main__.County object at 0x00000190972F9040>, <__main__.County object at 0x00000190972F9190>, <__main__.County object at 0x00000190972F8F20>, <__main__.County object at 0x00000190972F8230>], [<__main__.County object at 0x00000190972FA9F0>, <__main__.County object at 0x00000190972FB380>, <__main__.County object at 0x00000190972FADE0>, <__main__.County object at 0x00000190972F8260>, <__main__.County object at 0x00000190972FA6C0>, <__main__.County object at 0x00000190972FB6B0>, <__main__.County object at 0x00000190972FBAD0>, <__main__.County object at 0x00000190972F8410>, <__main__.County object at 0x00000190972F8AD0>, <__main__.County object at 0x00000190972F9220>, <__main__.County object at 0x00000190972FBF80>]], [[<__main__.County object at 0x00000190972FBD40>, <__main__.County object at 0x00000190972F8710>, <__main__.County object at 0x00000190972FAC30>, <__main__.County object at 0x00000190972FAB40>, <__main__.County object at 0x00000190972FA8D0>, <__main__.County object at 0x00000190972F9490>, <__main__.County object at 0x00000190972FBCE0>, <__main__.County object at 0x00000190972FACF0>, <__main__.County object at 0x00000190972FA300>, <__main__.County object at 0x00000190972F8680>, <__main__.County object at 0x00000190972FA7E0>], [<__main__.County object at 0x00000190972F9EB0>, <__main__.County object at 0x00000190972FB2C0>, <__main__.County object at 0x00000190972FA270>, <__main__.County object at 0x00000190972FB2F0>, <__main__.County object at 0x00000190972FB410>, <__main__.County object at 0x00000190972F8EF0>, <__main__.County object at 0x00000190972F9970>, <__main__.County object at 0x00000190972F9340>, <__main__.County object at 0x00000190972F9B50>, <__main__.County object at 0x00000190972F86B0>, <__main__.County object at 0x00000190972F8620>], [<__main__.County object at 0x00000190972FA990>, <__main__.County object at 0x00000190972FBC20>, <__main__.County object at 0x00000190972F9850>, <__main__.County object at 0x00000190972FAE40>, <__main__.County object at 0x00000190972FB920>, <__main__.County object at 0x00000190972FAB10>, <__main__.County object at 0x000001909564A8A0>, <__main__.County object at 0x00000190972F9580>, <__main__.County object at 0x00000190972F8440>, <__main__.County object at 0x00000190972F8EC0>, <__main__.County object at 0x00000190972FAD80>], [<__main__.County object at 0x00000190972F8B30>, <__main__.County object at 0x00000190972F9A90>, <__main__.County object at 0x00000190972F85F0>, <__main__.County object at 0x00000190972FB650>, <__main__.County object at 0x00000190972F9DC0>, <__main__.County object at 0x00000190972F9CA0>, <__main__.County object at 0x00000190972F9D00>, <__main__.County object at 0x00000190972FA030>, <__main__.County object at 0x00000190972F81A0>, <__main__.County object at 0x00000190972F90A0>, <__main__.County object at 0x00000190972F8A10>], [<__main__.County object at 0x000001909564A120>, <__main__.County object at 0x0000019095649B20>, <__main__.County object at 0x0000019095649850>, <__main__.County object at 0x000001909564A720>, <__main__.County object at 0x0000019095649970>, <__main__.County object at 0x0000019095649580>, <__main__.County object at 0x00000190956495B0>, <__main__.County object at 0x00000190956484D0>, <__main__.County object at 0x0000019095649C10>, <__main__.County object at 0x000001909564A360>, <__main__.County object at 0x0000019095648DA0>], [<__main__.County object at 0x00000190972F8BC0>, <__main__.County object at 0x00000190972F9610>, <__main__.County object at 0x00000190972FA0C0>, <__main__.County object at 0x000001909564A270>, <__main__.County object at 0x00000190972F8860>, <__main__.County object at 0x00000190972FAE10>, <__main__.County object at 0x00000190972F8380>, <__main__.County object at 0x000001909564A7B0>, <__main__.County object at 0x0000019095649370>, <__main__.County object at 0x000001909564ACC0>, <__main__.County object at 0x0000019095649CA0>], [<__main__.County object at 0x0000019095649A00>, <__main__.County object at 0x000001909564A930>, <__main__.County object at 0x0000019095648110>, <__main__.County object at 0x0000019095649F70>, <__main__.County object at 0x0000019095648EF0>, <__main__.County object at 0x0000019095649D00>, <__main__.County object at 0x0000019095648FB0>, <__main__.County object at 0x0000019095649E50>, <__main__.County object at 0x00000190956493A0>, <__main__.County object at 0x0000019095648590>, <__main__.County object at 0x0000019095649820>], [<__main__.County object at 0x0000019095648C20>, <__main__.County object at 0x0000019095648AD0>, <__main__.County object at 0x00000190956482C0>, <__main__.County object at 0x0000019095649A90>, <__main__.County object at 0x000001909564A330>, <__main__.County object at 0x000001909564A090>, <__main__.County object at 0x00000190956496D0>, <__main__.County object at 0x000001909564A8D0>, <__main__.County object at 0x00000190956485F0>, <__main__.County object at 0x0000019095649AC0>, <__main__.County object at 0x0000019095648B00>], [<__main__.County object at 0x00000190972F9AC0>, <__main__.County object at 0x000001909564A0C0>, <__main__.County object at 0x000001909564A150>, <__main__.County object at 0x000001909564A060>, <__main__.County object at 0x00000190956499D0>, <__main__.County object at 0x0000019095648740>, <__main__.County object at 0x0000019095648080>, <__main__.County object at 0x000001909564A630>, <__main__.County object at 0x0000019095648C80>, <__main__.County object at 0x000001909564A000>, <__main__.County object at 0x0000019095649DF0>], [<__main__.County object at 0x00000190972F8950>, <__main__.County object at 0x00000190972FB9B0>, <__main__.County object at 0x00000190972F91C0>, <__main__.County object at 0x00000190972F9550>, <__main__.County object at 0x00000190972F9F70>, <__main__.County object at 0x00000190972F8740>, <__main__.County object at 0x0000019095648770>, <__main__.County object at 0x0000019095649040>, <__main__.County object at 0x000001909564AA20>, <__main__.County object at 0x00000190956487A0>, <__main__.County object at 0x0000019095648E00>], [<__main__.County object at 0x00000190972FA7B0>, <__main__.County object at 0x00000190972F8320>, <__main__.County object at 0x00000190972F88C0>, <__main__.County object at 0x00000190972FB4D0>, <__main__.County object at 0x00000190972F8080>, <__main__.County object at 0x00000190972FA060>, <__main__.County object at 0x000001909564A210>, <__main__.County object at 0x0000019095649EE0>, <__main__.County object at 0x0000019095649190>, <__main__.County object at 0x0000019095648350>, <__main__.County object at 0x0000019095649FD0>]], [[<__main__.County object at 0x00000190972F9670>, <__main__.County object at 0x00000190972FBB30>, <__main__.County object at 0x0000019095649340>, <__main__.County object at 0x000001909564B0E0>, <__main__.County object at 0x0000019095649310>, <__main__.County object at 0x000001909564BD70>, <__main__.County object at 0x0000019095649940>, <__main__.County object at 0x000001909564AC00>, <__main__.County object at 0x000001909564B050>, <__main__.County object at 0x0000019095649B50>, <__main__.County object at 0x000001909564A750>], [<__main__.County object at 0x000001909564AF60>, <__main__.County object at 0x000001909564A9C0>, <__main__.County object at 0x0000019095649CD0>, <__main__.County object at 0x000001909564A660>, <__main__.County object at 0x00000190956490D0>, <__main__.County object at 0x000001909564A3F0>, <__main__.County object at 0x000001909564B590>, <__main__.County object at 0x000001909564AE70>, <__main__.County object at 0x0000019095649EB0>, <__main__.County object at 0x000001909564B6E0>, <__main__.County object at 0x000001909564B530>], [<__main__.County object at 0x00000190956483B0>, <__main__.County object at 0x00000190956497F0>, <__main__.County object at 0x0000019095649BE0>, <__main__.County object at 0x0000019095648200>, <__main__.County object at 0x0000019095649130>, <__main__.County object at 0x0000019095648AA0>, <__main__.County object at 0x000001909564AED0>, <__main__.County object at 0x000001909564B740>, <__main__.County object at 0x000001909564B380>, <__main__.County object at 0x000001909564B230>, <__main__.County object at 0x00000190956481A0>], [<__main__.County object at 0x000001909564B770>, <__main__.County object at 0x0000019095649D30>, <__main__.County object at 0x0000019095649F40>, <__main__.County object at 0x000001909564BE90>, <__main__.County object at 0x000001909564AFF0>, <__main__.County object at 0x00000190956498B0>, <__main__.County object at 0x000001909564A300>, <__main__.County object at 0x000001909564B9B0>, <__main__.County object at 0x000001909564BB30>, <__main__.County object at 0x000001909564B860>, <__main__.County object at 0x000001909564B290>], [<__main__.County object at 0x0000019095649AF0>, <__main__.County object at 0x0000019095649B80>, <__main__.County object at 0x00000190956486B0>, <__main__.County object at 0x0000019095649280>, <__main__.County object at 0x0000019095648410>, <__main__.County object at 0x000001909564BC50>, <__main__.County object at 0x000001909564B710>, <__main__.County object at 0x000001909564BB90>, <__main__.County object at 0x000001909564AF00>, <__main__.County object at 0x0000019095648CB0>, <__main__.County object at 0x0000019095649E80>], [<__main__.County object at 0x0000019095649250>, <__main__.County object at 0x000001909564B7D0>, <__main__.County object at 0x000001909564B680>, <__main__.County object at 0x00000190956497C0>, <__main__.County object at 0x0000019095648E90>, <__main__.County object at 0x0000019095649D90>, <__main__.County object at 0x0000019095649430>, <__main__.County object at 0x000001908FD792E0>, <__main__.County object at 0x000001908FD7ACF0>, <__main__.County object at 0x0000019092150C50>, <__main__.County object at 0x0000019095649DC0>], [<__main__.County object at 0x000001909564AEA0>, <__main__.County object at 0x000001909564B170>, <__main__.County object at 0x000001909564AB10>, <__main__.County object at 0x0000019095649C70>, <__main__.County object at 0x000001909564B7A0>, <__main__.County object at 0x00000190972FB6E0>, <__main__.County object at 0x000001909564BEC0>, <__main__.County object at 0x000001909564A9F0>, <__main__.County object at 0x000001909564B350>, <__main__.County object at 0x000001909564BBC0>, <__main__.County object at 0x000001909564BCB0>], [<__main__.County object at 0x0000019095649670>, <__main__.County object at 0x00000190956494C0>, <__main__.County object at 0x0000019095648860>, <__main__.County object at 0x00000190956492E0>, <__main__.County object at 0x000001909564BB00>, <__main__.County object at 0x0000019095648650>, <__main__.County object at 0x000001909564B410>, <__main__.County object at 0x0000019095649910>, <__main__.County object at 0x00000190956495E0>, <__main__.County object at 0x0000019095648E60>, <__main__.County object at 0x000001909564A1B0>], [<__main__.County object at 0x0000019095649FA0>, <__main__.County object at 0x00000190972F8530>, <__main__.County object at 0x0000019095649070>, <__main__.County object at 0x00000190956493D0>, <__main__.County object at 0x0000019095649A60>, <__main__.County object at 0x000001909564ABD0>, <__main__.County object at 0x000001909564B4D0>, <__main__.County object at 0x000001909564AB70>, <__main__.County object at 0x000001909564BE60>, <__main__.County object at 0x000001909564B4A0>, <__main__.County object at 0x000001909564A480>], [<__main__.County object at 0x000001909564BA10>, <__main__.County object at 0x000001909564B920>, <__main__.County object at 0x000001909564B950>, <__main__.County object at 0x000001909564BF20>, <__main__.County object at 0x0000019095649880>, <__main__.County object at 0x000001909564BA40>, <__main__.County object at 0x000001909564A7E0>, <__main__.County object at 0x000001909564B5C0>, <__main__.County object at 0x000001909564ACF0>, <__main__.County object at 0x000001909564A180>, <__main__.County object at 0x000001909564B2C0>], [<__main__.County object at 0x000001908C1D9790>, <__main__.County object at 0x000001909564AE40>, <__main__.County object at 0x0000019095649520>, <__main__.County object at 0x000001909564AAE0>, <__main__.County object at 0x000001909564B560>, <__main__.County object at 0x000001909564A960>, <__main__.County object at 0x000001909564B3B0>, <__main__.County object at 0x000001909564AFC0>, <__main__.County object at 0x000001909564AD50>, <__main__.County object at 0x000001909564AD20>, <__main__.County object at 0x00000190956491C0>]], [[<__main__.County object at 0x000001909564A870>, <__main__.County object at 0x000001909564BE00>, <__main__.County object at 0x000001909564B650>, <__main__.County object at 0x000001909564AE10>, <__main__.County object at 0x00000190956484A0>, <__main__.County object at 0x0000019095648B60>, <__main__.County object at 0x000001909564A900>, <__main__.County object at 0x000001909564BAD0>, <__main__.County object at 0x000001909564A540>, <__main__.County object at 0x0000019095648D70>, <__main__.County object at 0x00000190956483E0>], [<__main__.County object at 0x000001909564A4E0>, <__main__.County object at 0x000001909564B2F0>, <__main__.County object at 0x000001909564BE30>, <__main__.County object at 0x000001909564ADB0>, <__main__.County object at 0x000001909564B8C0>, <__main__.County object at 0x000001909564A690>, <__main__.County object at 0x000001909564B500>, <__main__.County object at 0x000001909564A1E0>, <__main__.County object at 0x000001909564A4B0>, <__main__.County object at 0x0000019095648500>, <__main__.County object at 0x000001909564A780>], [<__main__.County object at 0x0000019095648680>, <__main__.County object at 0x0000019095648D40>, <__main__.County object at 0x000001909564BD40>, <__main__.County object at 0x000001909564B440>, <__main__.County object at 0x000001909564B020>, <__main__.County object at 0x0000019095648B30>, <__main__.County object at 0x000001909564BDD0>, <__main__.County object at 0x000001909564A3C0>, <__main__.County object at 0x0000019095648EC0>, <__main__.County object at 0x00000190956488C0>, <__main__.County object at 0x00000190956486E0>], [<__main__.County object at 0x00000190956485C0>, <__main__.County object at 0x0000019095648890>, <__main__.County object at 0x000001909564B1A0>, <__main__.County object at 0x0000019095649F10>, <__main__.County object at 0x00000190956489B0>, <__main__.County object at 0x0000019095649BB0>, <__main__.County object at 0x0000019095649100>, <__main__.County object at 0x000001909564A420>, <__main__.County object at 0x000001909564B1D0>, <__main__.County object at 0x000001909564ADE0>, <__main__.County object at 0x000001909564A990>], [<__main__.County object at 0x000001909564BC80>, <__main__.County object at 0x000001909564B080>, <__main__.County object at 0x0000019095649730>, <__main__.County object at 0x0000019095648560>, <__main__.County object at 0x0000019095648140>, <__main__.County object at 0x00000190956481D0>, <__main__.County object at 0x000001909564AC90>, <__main__.County object at 0x000001909564AC30>, <__main__.County object at 0x0000019095649160>, <__main__.County object at 0x000001909564A810>, <__main__.County object at 0x000001909564BBF0>], [<__main__.County object at 0x0000019093C3E150>, <__main__.County object at 0x0000019093C3DEE0>, <__main__.County object at 0x0000019093C3E630>, <__main__.County object at 0x0000019093C3E870>, <__main__.County object at 0x0000019093C3E2D0>, <__main__.County object at 0x0000019093C3E6F0>, <__main__.County object at 0x000001909564B980>, <__main__.County object at 0x000001909564A450>, <__main__.County object at 0x0000019095648A10>, <__main__.County object at 0x0000019095649640>, <__main__.County object at 0x000001909564AC60>], [<__main__.County object at 0x000001909564A5D0>, <__main__.County object at 0x00000190956487D0>, <__main__.County object at 0x000001909564B6B0>, <__main__.County object at 0x0000019093C3FBC0>, <__main__.County object at 0x0000019093C3E570>, <__main__.County object at 0x0000019093C3EAB0>, <__main__.County object at 0x0000019093C3E810>, <__main__.County object at 0x0000019093C3E300>, <__main__.County object at 0x0000019093C3DFA0>, <__main__.County object at 0x0000019093C3E480>, <__main__.County object at 0x0000019093C3E060>], [<__main__.County object at 0x0000019095648230>, <__main__.County object at 0x0000019095648440>, <__main__.County object at 0x0000019095648920>, <__main__.County object at 0x00000190956482F0>, <__main__.County object at 0x000001909564A2A0>, <__main__.County object at 0x0000019095648B90>, <__main__.County object at 0x000001909564A390>, <__main__.County object at 0x0000019095648800>, <__main__.County object at 0x000001909564AAB0>, <__main__.County object at 0x00000190956494F0>, <__main__.County object at 0x0000019095648530>], [<__main__.County object at 0x000001909564BD10>, <__main__.County object at 0x0000019095649610>, <__main__.County object at 0x000001909564AA50>, <__main__.County object at 0x000001909564AD80>, <__main__.County object at 0x0000019095648FE0>, <__main__.County object at 0x0000019095648F50>, <__main__.County object at 0x000001909564B8F0>, <__main__.County object at 0x00000190956480E0>, <__main__.County object at 0x000001909564B200>, <__main__.County object at 0x0000019090B19310>, <__main__.County object at 0x0000019095648CE0>], [<__main__.County object at 0x00000190956498E0>, <__main__.County object at 0x0000019093C3E0C0>, <__main__.County object at 0x0000019093C3E240>, <__main__.County object at 0x0000019093C3CDA0>, <__main__.County object at 0x0000019093C3E660>, <__main__.County object at 0x0000019095648F80>, <__main__.County object at 0x000001909564BF50>, <__main__.County object at 0x0000019093C3F950>, <__main__.County object at 0x0000019093C3E7E0>, <__main__.County object at 0x000001909564B9E0>, <__main__.County object at 0x0000019095649A30>], [<__main__.County object at 0x0000019095648050>, <__main__.County object at 0x0000019095648470>, <__main__.County object at 0x0000019095648710>, <__main__.County object at 0x000001909564B5F0>, <__main__.County object at 0x0000019095648E30>, <__main__.County object at 0x0000019093C3E510>, <__main__.County object at 0x0000019093C3FBF0>, <__main__.County object at 0x000001909564AF90>, <__main__.County object at 0x0000019095648320>, <__main__.County object at 0x000001909564A2D0>, <__main__.County object at 0x00000190956489E0>]], [[<__main__.County object at 0x0000019093C3F5F0>, <__main__.County object at 0x0000019093C3F530>, <__main__.County object at 0x0000019093C3F080>, <__main__.County object at 0x0000019093C3F500>, <__main__.County object at 0x0000019093C3F2C0>, <__main__.County object at 0x0000019093C3F4A0>, <__main__.County object at 0x0000019093C3EB40>, <__main__.County object at 0x0000019093C3F7A0>, <__main__.County object at 0x0000019093C3F140>, <__main__.County object at 0x0000019093C3F440>, <__main__.County object at 0x0000019093C3EA80>], [<__main__.County object at 0x0000019093C3E5A0>, <__main__.County object at 0x0000019093C3E330>, <__main__.County object at 0x0000019093C3E8D0>, <__main__.County object at 0x0000019093C3EF00>, <__main__.County object at 0x0000019093C3EB10>, <__main__.County object at 0x0000019093C3EFC0>, <__main__.County object at 0x0000019093C3E390>, <__main__.County object at 0x0000019093C3F3E0>, <__main__.County object at 0x0000019093C3F0E0>, <__main__.County object at 0x0000019093C3EAE0>, <__main__.County object at 0x0000019093C3E750>], [<__main__.County object at 0x0000019093C3F350>, <__main__.County object at 0x0000019093C3D940>, <__main__.County object at 0x0000019093C3E930>, <__main__.County object at 0x0000019093C3CBF0>, <__main__.County object at 0x0000019093C3D7F0>, <__main__.County object at 0x0000019093C3D700>, <__main__.County object at 0x0000019093C3DAF0>, <__main__.County object at 0x0000019093C3DDF0>, <__main__.County object at 0x0000019093C3CF50>, <__main__.County object at 0x0000019093C3DB20>, <__main__.County object at 0x0000019093C3CB00>], [<__main__.County object at 0x0000019093C3E3C0>, <__main__.County object at 0x0000019093C3F5C0>, <__main__.County object at 0x0000019093C3F3B0>, <__main__.County object at 0x0000019093C3F260>, <__main__.County object at 0x0000019093C3ECC0>, <__main__.County object at 0x0000019093C3EE40>, <__main__.County object at 0x0000019093C3F290>, <__main__.County object at 0x0000019093C3CE30>, <__main__.County object at 0x0000019093C3F410>, <__main__.County object at 0x0000019093C3EE70>, <__main__.County object at 0x0000019093C3EEA0>], [<__main__.County object at 0x0000019093C3CD70>, <__main__.County object at 0x0000019093C3EDB0>, <__main__.County object at 0x0000019093C3E840>, <__main__.County object at 0x0000019093C3E900>, <__main__.County object at 0x0000019093C3ED50>, <__main__.County object at 0x0000019093C3CCB0>, <__main__.County object at 0x0000019093C3DFD0>, <__main__.County object at 0x0000019093C3E9F0>, <__main__.County object at 0x0000019093C3F050>, <__main__.County object at 0x0000019093C3EC90>, <__main__.County object at 0x0000019093C3F710>], [<__main__.County object at 0x0000019093C3E600>, <__main__.County object at 0x0000019093C3F1D0>, <__main__.County object at 0x0000019093C3EB70>, <__main__.County object at 0x0000019093C3E1B0>, <__main__.County object at 0x0000019093C3ED80>, <__main__.County object at 0x0000019093C3F320>, <__main__.County object at 0x0000019093C3EC30>, <__main__.County object at 0x0000019093C3EF60>, <__main__.County object at 0x0000019093C3CB30>, <__main__.County object at 0x0000019093C3F2F0>, <__main__.County object at 0x0000019093C3CC80>], [<__main__.County object at 0x0000019095648F20>, <__main__.County object at 0x000001909564B260>, <__main__.County object at 0x0000019093C3E5D0>, <__main__.County object at 0x0000019095A81160>, <__main__.County object at 0x000001909564ABA0>, <__main__.County object at 0x000001909564A840>, <__main__.County object at 0x0000019093C3E270>, <__main__.County object at 0x0000019093C3F980>, <__main__.County object at 0x0000019093C3E2A0>, <__main__.County object at 0x0000019093C3E180>, <__main__.County object at 0x0000019093C3EFF0>], [<__main__.County object at 0x0000019093C3E450>, <__main__.County object at 0x0000019093C3EC00>, <__main__.County object at 0x0000019093C3F4D0>, <__main__.County object at 0x0000019093C3F6E0>, <__main__.County object at 0x0000019093C3DC10>, <__main__.County object at 0x0000019093C3CE60>, <__main__.County object at 0x0000019093C3D730>, <__main__.County object at 0x0000019093C3E4E0>, <__main__.County object at 0x0000019093C3E000>, <__main__.County object at 0x0000019093C3D760>, <__main__.County object at 0x0000019093C3F110>], [<__main__.County object at 0x0000019093C3E360>, <__main__.County object at 0x0000019093C3EDE0>, <__main__.County object at 0x0000019093C3F470>, <__main__.County object at 0x0000019093C3D490>, <__main__.County object at 0x0000019093C3EF90>, <__main__.County object at 0x0000019093C3C380>, <__main__.County object at 0x0000019093C3D040>, <__main__.County object at 0x0000019093C3DDC0>, <__main__.County object at 0x0000019093C3D9A0>, <__main__.County object at 0x0000019093C3DBB0>, <__main__.County object at 0x0000019093C3CF80>], [<__main__.County object at 0x0000019093C3F560>, <__main__.County object at 0x0000019093C3F740>, <__main__.County object at 0x0000019093C3D880>, <__main__.County object at 0x0000019093C3CAD0>, <__main__.County object at 0x0000019093C3E090>, <__main__.County object at 0x0000019093C3DC40>, <__main__.County object at 0x0000019093C3CC20>, <__main__.County object at 0x0000019093C3DBE0>, <__main__.County object at 0x0000019093C3F590>, <__main__.County object at 0x0000019093C3F020>, <__main__.County object at 0x0000019093C3F380>], [<__main__.County object at 0x0000019093C3E6C0>, <__main__.County object at 0x0000019093C3EE10>, <__main__.County object at 0x0000019093C3F170>, <__main__.County object at 0x0000019093C3E990>, <__main__.County object at 0x0000019093C3EF30>, <__main__.County object at 0x0000019093C3F620>, <__main__.County object at 0x0000019093C3F680>, <__main__.County object at 0x0000019093C3F200>, <__main__.County object at 0x0000019093C3ECF0>, <__main__.County object at 0x0000019093C3EA50>, <__main__.County object at 0x0000019093C3EBA0>]], [[<__main__.County object at 0x0000019093C3D820>, <__main__.County object at 0x0000019093C3DA00>, <__main__.County object at 0x0000019093C3DA30>, <__main__.County object at 0x0000019093C3D280>, <__main__.County object at 0x0000019093C3CF20>, <__main__.County object at 0x0000019093C3D9D0>, <__main__.County object at 0x0000019093C3D100>, <__main__.County object at 0x0000019093C3CA40>, <__main__.County object at 0x0000019093C3D370>, <__main__.County object at 0x0000019093C3D520>, <__main__.County object at 0x0000019093C3D670>], [<__main__.County object at 0x0000019093C3FC20>, <__main__.County object at 0x0000019093C3D640>, <__main__.County object at 0x0000019093C3FC80>, <__main__.County object at 0x0000019093C3DF40>, <__main__.County object at 0x0000019093C3FB60>, <__main__.County object at 0x0000019093C3FEC0>, <__main__.County object at 0x0000019093C3D2B0>, <__main__.County object at 0x0000019093C3F770>, <__main__.County object at 0x0000019093C3D8B0>, <__main__.County object at 0x0000019093C3D2E0>, <__main__.County object at 0x0000019093C3D4F0>], [<__main__.County object at 0x0000019093C3D6D0>, <__main__.County object at 0x0000019093C3DC70>, <__main__.County object at 0x0000019093C3DE50>, <__main__.County object at 0x0000019093C3DCA0>, <__main__.County object at 0x0000019093C3CC50>, <__main__.County object at 0x0000019093C3D8E0>, <__main__.County object at 0x0000019093C3DA90>, <__main__.County object at 0x0000019093C3D0A0>, <__main__.County object at 0x0000019093C3D5E0>, <__main__.County object at 0x0000019093C3F8F0>, <__main__.County object at 0x0000019093C3D6A0>], [<__main__.County object at 0x0000019093C3C3B0>, <__main__.County object at 0x0000019093C3C110>, <__main__.County object at 0x0000019093C3E4B0>, <__main__.County object at 0x0000019093C3F860>, <__main__.County object at 0x0000019093C3FF50>, <__main__.County object at 0x0000019093C3DE20>, <__main__.County object at 0x0000019093C3D550>, <__main__.County object at 0x0000019093C3DD90>, <__main__.County object at 0x0000019093C3DB80>, <__main__.County object at 0x0000019093C3FD10>, <__main__.County object at 0x0000019093C3DF10>], [<__main__.County object at 0x0000019093C3D220>, <__main__.County object at 0x0000019093C3D3D0>, <__main__.County object at 0x0000019093C3D1C0>, <__main__.County object at 0x0000019093C3E3F0>, <__main__.County object at 0x0000019093C3CCE0>, <__main__.County object at 0x0000019093C3D130>, <__main__.County object at 0x0000019093C3CB60>, <__main__.County object at 0x0000019093C3DAC0>, <__main__.County object at 0x00000190914EE7B0>, <__main__.County object at 0x0000019093C3DB50>, <__main__.County object at 0x0000019093C3CEC0>], [<__main__.County object at 0x0000019093C3C4D0>, <__main__.County object at 0x0000019093C3FDA0>, <__main__.County object at 0x0000019093C3DD00>, <__main__.County object at 0x0000019093C3C980>, <__main__.County object at 0x0000019093C3E0F0>, <__main__.County object at 0x0000019093C3C290>, <__main__.County object at 0x0000019093C3D160>, <__main__.County object at 0x0000019093C3DD30>, <__main__.County object at 0x0000019093C3FCE0>, <__main__.County object at 0x0000019093C3FDD0>, <__main__.County object at 0x0000019093C3FEF0>], [<__main__.County object at 0x0000019093C3DEB0>, <__main__.County object at 0x0000019093C3CEF0>, <__main__.County object at 0x0000019093C3CD10>, <__main__.County object at 0x0000019093C3CE90>, <__main__.County object at 0x0000019093C3CAA0>, <__main__.County object at 0x0000019093C3D310>, <__main__.County object at 0x0000019093C3D5B0>, <__main__.County object at 0x0000019093C3D580>, <__main__.County object at 0x0000019093C3DD60>, <__main__.County object at 0x0000019093C3C560>, <__main__.County object at 0x0000019093C3C6E0>], [<__main__.County object at 0x0000019093C3D400>, <__main__.County object at 0x0000019093C3D0D0>, <__main__.County object at 0x0000019093C3CFB0>, <__main__.County object at 0x0000019093C3C950>, <__main__.County object at 0x0000019093C3C080>, <__main__.County object at 0x0000019093C3C590>, <__main__.County object at 0x0000019093C3FFB0>, <__main__.County object at 0x0000019093C3FB30>, <__main__.County object at 0x0000019093C3F830>, <__main__.County object at 0x0000019093C3E210>, <__main__.County object at 0x0000019093C3C530>], [<__main__.County object at 0x0000019093C3FCB0>, <__main__.County object at 0x0000019093C3F920>, <__main__.County object at 0x0000019093C3FB00>, <__main__.County object at 0x0000019093C3DA60>, <__main__.County object at 0x0000019093C3F9B0>, <__main__.County object at 0x0000019093C3F890>, <__main__.County object at 0x0000019093C3FAD0>, <__main__.County object at 0x0000019093C3FE90>, <__main__.County object at 0x0000019093C3E690>, <__main__.County object at 0x0000019093C3DF70>, <__main__.County object at 0x0000019093C3D190>], [<__main__.County object at 0x0000019093C3D7C0>, <__main__.County object at 0x0000019093C3DCD0>, <__main__.County object at 0x0000019093C3D910>, <__main__.County object at 0x0000019093C3D340>, <__main__.County object at 0x0000019093C3D010>, <__main__.County object at 0x0000019093C3CFE0>, <__main__.County object at 0x0000019093C3F9E0>, <__main__.County object at 0x0000019093C3C2C0>, <__main__.County object at 0x0000019093C3F7D0>, <__main__.County object at 0x0000019093C3FF20>, <__main__.County object at 0x0000019093C3F8C0>], [<__main__.County object at 0x0000019093C3D1F0>, <__main__.County object at 0x0000019093C3F6B0>, <__main__.County object at 0x0000019093C3F800>, <__main__.County object at 0x0000019093C3FA10>, <__main__.County object at 0x0000019093C3C260>, <__main__.County object at 0x0000019093C3FD70>, <__main__.County object at 0x0000019093C3C830>, <__main__.County object at 0x0000019093C3D070>, <__main__.County object at 0x0000019093C3FD40>, <__main__.County object at 0x0000019093C3C230>, <__main__.County object at 0x0000019093C3FA40>]], [[<__main__.County object at 0x0000019093C3C620>, <__main__.County object at 0x000001909549E690>, <__main__.County object at 0x000001909549E750>, <__main__.County object at 0x000001909549CD10>, <__main__.County object at 0x000001909549DC10>, <__main__.County object at 0x000001909549E960>, <__main__.County object at 0x000001909549DE20>, <__main__.County object at 0x0000019093C3C140>, <__main__.County object at 0x0000019093C3C1A0>, <__main__.County object at 0x000001909549E5D0>, <__main__.County object at 0x000001909549E1B0>], [<__main__.County object at 0x0000019093C3C0E0>, <__main__.County object at 0x0000019093C3C7A0>, <__main__.County object at 0x0000019093C3DE80>, <__main__.County object at 0x0000019093C3C1D0>, <__main__.County object at 0x000001909549E7E0>, <__main__.County object at 0x000001909549F230>, <__main__.County object at 0x000001909549E660>, <__main__.County object at 0x000001909549E930>, <__main__.County object at 0x000001909549E990>, <__main__.County object at 0x000001909549E810>, <__main__.County object at 0x000001909549E060>], [<__main__.County object at 0x000001909549D700>, <__main__.County object at 0x000001909549DEE0>, <__main__.County object at 0x000001909549ED80>, <__main__.County object at 0x000001909549DE80>, <__main__.County object at 0x000001909549D730>, <__main__.County object at 0x000001909549EC90>, <__main__.County object at 0x000001909549D160>, <__main__.County object at 0x000001909549EE10>, <__main__.County object at 0x000001909549DD90>, <__main__.County object at 0x000001909549F3B0>, <__main__.County object at 0x000001909549ECC0>], [<__main__.County object at 0x000001909549EE70>, <__main__.County object at 0x000001909549E630>, <__main__.County object at 0x000001909549F1D0>, <__main__.County object at 0x000001909549E840>, <__main__.County object at 0x000001909549E6C0>, <__main__.County object at 0x000001909549E9C0>, <__main__.County object at 0x000001909549E360>, <__main__.County object at 0x000001909549F200>, <__main__.County object at 0x000001909549E0F0>, <__main__.County object at 0x000001909549F260>, <__main__.County object at 0x000001909549EF90>], [<__main__.County object at 0x000001909549E480>, <__main__.County object at 0x000001909549EA20>, <__main__.County object at 0x000001909549E3F0>, <__main__.County object at 0x000001909549EBD0>, <__main__.County object at 0x000001909549EB70>, <__main__.County object at 0x000001909549E720>, <__main__.County object at 0x000001909549EB10>, <__main__.County object at 0x000001909549ED20>, <__main__.County object at 0x000001909549E2A0>, <__main__.County object at 0x000001909549E5A0>, <__main__.County object at 0x000001909549DDC0>], [<__main__.County object at 0x0000019093C3FFE0>, <__main__.County object at 0x0000019093C3FE60>, <__main__.County object at 0x0000019093C3FE30>, <__main__.County object at 0x0000019093C3C440>, <__main__.County object at 0x0000019093C3C770>, <__main__.County object at 0x0000019093C3C2F0>, <__main__.County object at 0x0000019093C3C5C0>, <__main__.County object at 0x0000019093C3C9B0>, <__main__.County object at 0x000001909549F290>, <__main__.County object at 0x0000019093C3C7D0>, <__main__.County object at 0x0000019093C3CA10>], [<__main__.County object at 0x000001909549D640>, <__main__.County object at 0x000001909549DF10>, <__main__.County object at 0x000001909549C590>, <__main__.County object at 0x000001909549E510>, <__main__.County object at 0x000001909549DC70>, <__main__.County object at 0x000001909549DCA0>, <__main__.County object at 0x000001909549E9F0>, <__main__.County object at 0x000001909549D9A0>, <__main__.County object at 0x000001909549DD00>, <__main__.County object at 0x000001909549CEC0>, <__main__.County object at 0x000001909549DD60>], [<__main__.County object at 0x000001909549F020>, <__main__.County object at 0x000001909549EB40>, <__main__.County object at 0x000001909549C6B0>, <__main__.County object at 0x000001909549ED50>, <__main__.County object at 0x000001909549F350>, <__main__.County object at 0x000001909549F050>, <__main__.County object at 0x0000019093C3C320>, <__main__.County object at 0x0000019093C3C050>, <__main__.County object at 0x000001909549EAB0>, <__main__.County object at 0x000001909549CF80>, <__main__.County object at 0x000001909549E210>], [<__main__.County object at 0x0000019093C3C6B0>, <__main__.County object at 0x0000019093C3C860>, <__main__.County object at 0x0000019093C3C800>, <__main__.County object at 0x0000019093C3C0B0>, <__main__.County object at 0x0000019093C3C470>, <__main__.County object at 0x0000019093C3C8C0>, <__main__.County object at 0x0000019093C3FA70>, <__main__.County object at 0x0000019093C3C890>, <__main__.County object at 0x0000019093C3C920>, <__main__.County object at 0x0000019093C3C410>, <__main__.County object at 0x0000019093C3C650>], [<__main__.County object at 0x0000019093C3FAA0>, <__main__.County object at 0x000001909549E450>, <__main__.County object at 0x000001909549F4A0>, <__main__.County object at 0x000001909549EC60>, <__main__.County object at 0x000001909549F170>, <__main__.County object at 0x000001909549DA00>, <__main__.County object at 0x0000019093C3FC50>, <__main__.County object at 0x000001909549E8D0>, <__main__.County object at 0x000001909549E600>, <__main__.County object at 0x000001909549EBA0>, <__main__.County object at 0x000001909549E900>], [<__main__.County object at 0x000001909143BF80>, <__main__.County object at 0x0000019093C3FE00>, <__main__.County object at 0x000001909549E390>, <__main__.County object at 0x0000019093C3D610>, <__main__.County object at 0x000001909549EC30>, <__main__.County object at 0x000001909549D7C0>, <__main__.County object at 0x000001909549EAE0>, <__main__.County object at 0x000001909549D8B0>, <__main__.County object at 0x000001909549F320>, <__main__.County object at 0x000001909549E240>, <__main__.County object at 0x000001909549E300>]], [[<__main__.County object at 0x000001909549E030>, <__main__.County object at 0x000001909549C140>, <__main__.County object at 0x000001909549CB90>, <__main__.County object at 0x000001909549C620>, <__main__.County object at 0x000001909549C980>, <__main__.County object at 0x000001909549C470>, <__main__.County object at 0x000001909549D4C0>, <__main__.County object at 0x000001909549C0E0>, <__main__.County object at 0x000001909549DCD0>, <__main__.County object at 0x000001909549D610>, <__main__.County object at 0x000001909549CB30>], [<__main__.County object at 0x000001909549CE90>, <__main__.County object at 0x000001909549CE30>, <__main__.County object at 0x000001909549E270>, <__main__.County object at 0x000001909549C4D0>, <__main__.County object at 0x000001909549E000>, <__main__.County object at 0x000001909549D7F0>, <__main__.County object at 0x000001909549CF50>, <__main__.County object at 0x000001909549CDD0>, <__main__.County object at 0x000001909549E1E0>, <__main__.County object at 0x000001909549CA10>, <__main__.County object at 0x000001909549DFA0>], [<__main__.County object at 0x000001909549D430>, <__main__.County object at 0x000001909549D190>, <__main__.County object at 0x000001909549DC40>, <__main__.County object at 0x000001909549C230>, <__main__.County object at 0x000001909549E4E0>, <__main__.County object at 0x000001909549E090>, <__main__.County object at 0x000001909549D8E0>, <__main__.County object at 0x000001909549DE50>, <__main__.County object at 0x000001909549D070>, <__main__.County object at 0x000001909549D1C0>, <__main__.County object at 0x000001909549C9B0>], [<__main__.County object at 0x000001909549DDF0>, <__main__.County object at 0x000001909549DBE0>, <__main__.County object at 0x000001909549D670>, <__main__.County object at 0x000001909549D790>, <__main__.County object at 0x0000019093C3FF80>, <__main__.County object at 0x000001909549C890>, <__main__.County object at 0x000001909549DD30>, <__main__.County object at 0x000001909549D970>, <__main__.County object at 0x000001909549D5B0>, <__main__.County object at 0x000001909549D820>, <__main__.County object at 0x000001909549D280>], [<__main__.County object at 0x000001909549DB80>, <__main__.County object at 0x000001909549D550>, <__main__.County object at 0x000001909549CAD0>, <__main__.County object at 0x000001909549D520>, <__main__.County object at 0x000001909549D220>, <__main__.County object at 0x000001909549DB50>, <__main__.County object at 0x000001909549C650>, <__main__.County object at 0x000001909549E0C0>, <__main__.County object at 0x000001909549CD40>, <__main__.County object at 0x000001909549D010>, <__main__.County object at 0x000001909549DF40>], [<__main__.County object at 0x000001909549E870>, <__main__.County object at 0x000001909549CCE0>, <__main__.County object at 0x000001909549C4A0>, <__main__.County object at 0x000001909549CBF0>, <__main__.County object at 0x000001909549D760>, <__main__.County object at 0x000001909549D2B0>, <__main__.County object at 0x000001909549D040>, <__main__.County object at 0x000001909549D580>, <__main__.County object at 0x000001909549C500>, <__main__.County object at 0x000001909549D0D0>, <__main__.County object at 0x000001909549D3A0>], [<__main__.County object at 0x000001909549CDA0>, <__main__.County object at 0x000001909549E780>, <__main__.County object at 0x000001909549C5F0>, <__main__.County object at 0x000001909549D4F0>, <__main__.County object at 0x000001909549DBB0>, <__main__.County object at 0x000001909549E420>, <__main__.County object at 0x000001909549D130>, <__main__.County object at 0x000001909549D940>, <__main__.County object at 0x000001909549CC80>, <__main__.County object at 0x000001909549EC00>, <__main__.County object at 0x000001909549EA50>], [<__main__.County object at 0x000001909549D880>, <__main__.County object at 0x000001909549CB00>, <__main__.County object at 0x000001909549E3C0>, <__main__.County object at 0x000001909549C9E0>, <__main__.County object at 0x000001909549C380>, <__main__.County object at 0x000001909549D460>, <__main__.County object at 0x000001909549FF20>, <__main__.County object at 0x000001909549CF20>, <__main__.County object at 0x000001909549C1A0>, <__main__.County object at 0x000001909549CC20>, <__main__.County object at 0x000001909549C860>], [<__main__.County object at 0x000001909549C0B0>, <__main__.County object at 0x000001909549D400>, <__main__.County object at 0x000001909549C830>, <__main__.County object at 0x000001909549C7A0>, <__main__.County object at 0x000001909549CB60>, <__main__.County object at 0x000001909549C770>, <__main__.County object at 0x000001909549D5E0>, <__main__.County object at 0x000001909549C2C0>, <__main__.County object at 0x000001909549C920>, <__main__.County object at 0x000001909549C8C0>, <__main__.County object at 0x000001909549CC50>], [<__main__.County object at 0x000001909549DA30>, <__main__.County object at 0x000001909549D6D0>, <__main__.County object at 0x000001909549E4B0>, <__main__.County object at 0x000001909549C950>, <__main__.County object at 0x000001909549D100>, <__main__.County object at 0x000001909549E120>, <__main__.County object at 0x000001909549DAF0>, <__main__.County object at 0x000001909549CE00>, <__main__.County object at 0x000001909549C710>, <__main__.County object at 0x000001909549D3D0>, <__main__.County object at 0x000001909549C2F0>], [<__main__.County object at 0x000001909549DA60>, <__main__.County object at 0x0000019093C3C740>, <__main__.County object at 0x000001909549C410>, <__main__.County object at 0x000001909549CBC0>, <__main__.County object at 0x000001909549FE00>, <__main__.County object at 0x000001909549D340>, <__main__.County object at 0x000001909549E8A0>, <__main__.County object at 0x000001909549DEB0>, <__main__.County object at 0x000001909549E540>, <__main__.County object at 0x000001909549D490>, <__main__.County object at 0x000001909842D790>]], [[<__main__.County object at 0x000001909549C7D0>, <__main__.County object at 0x000001909549C530>, <__main__.County object at 0x0000019093C3C8F0>, <__main__.County object at 0x000001909564BC20>, <__main__.County object at 0x000001909549C8F0>, <__main__.County object at 0x000001908C3DC5F0>, <__main__.County object at 0x000001909549CFB0>, <__main__.County object at 0x000001909549C560>, <__main__.County object at 0x000001909549FFB0>, <__main__.County object at 0x000001909549DF70>, <__main__.County object at 0x000001909549FD10>], [<__main__.County object at 0x000001909549D850>, <__main__.County object at 0x000001909549CE60>, <__main__.County object at 0x000001909549C680>, <__main__.County object at 0x000001909549D6A0>, <__main__.County object at 0x000001909549F9E0>, <__main__.County object at 0x000001909549F080>, <__main__.County object at 0x000001909549CCB0>, <__main__.County object at 0x000001909549D0A0>, <__main__.County object at 0x000001909549C440>, <__main__.County object at 0x000001909549E6F0>, <__main__.County object at 0x000001909549C200>], [<__main__.County object at 0x000001909549FAD0>, <__main__.County object at 0x000001909549F1A0>, <__main__.County object at 0x000001909549FA10>, <__main__.County object at 0x000001909549F6B0>, <__main__.County object at 0x000001909549F140>, <__main__.County object at 0x000001909549FCB0>, <__main__.County object at 0x000001909549FA40>, <__main__.County object at 0x000001909549FAA0>, <__main__.County object at 0x000001909549F770>, <__main__.County object at 0x000001909549FBC0>, <__main__.County object at 0x000001909549FB60>], [<__main__.County object at 0x000001909549E7B0>, <__main__.County object at 0x000001909549F3E0>, <__main__.County object at 0x000001909549CD70>, <__main__.County object at 0x000001909549F740>, <__main__.County object at 0x000001909549C110>, <__main__.County object at 0x000001909549FE60>, <__main__.County object at 0x000001909549FEF0>, <__main__.County object at 0x000001909549F5C0>, <__main__.County object at 0x000001909549FF50>, <__main__.County object at 0x000001909549F650>, <__main__.County object at 0x000001909549FD40>], [<__main__.County object at 0x000001909549F7D0>, <__main__.County object at 0x000001909549F6E0>, <__main__.County object at 0x000001909549EED0>, <__main__.County object at 0x000001909549EE40>, <__main__.County object at 0x000001909549EF30>, <__main__.County object at 0x000001909549F530>, <__main__.County object at 0x000001909549F8F0>, <__main__.County object at 0x000001909549FCE0>, <__main__.County object at 0x000001909549F590>, <__main__.County object at 0x000001909549FA70>, <__main__.County object at 0x000001909549FBF0>], [<__main__.County object at 0x000001909549F4D0>, <__main__.County object at 0x000001909549F920>, <__main__.County object at 0x000001909549F2C0>, <__main__.County object at 0x000001909549F800>, <__main__.County object at 0x000001909549EF60>, <__main__.County object at 0x000001909549F9B0>, <__main__.County object at 0x000001909549F500>, <__main__.County object at 0x000001909549C080>, <__main__.County object at 0x000001909549C050>, <__main__.County object at 0x000001909549C350>, <__main__.County object at 0x00000190988EAB70>], [<__main__.County object at 0x000001909549CAA0>, <__main__.County object at 0x000001909549C3E0>, <__main__.County object at 0x000001909549FF80>, <__main__.County object at 0x000001909549FC50>, <__main__.County object at 0x000001909549FE90>, <__main__.County object at 0x000001909549F0B0>, <__main__.County object at 0x000001909549D370>, <__main__.County object at 0x000001909549C6E0>, <__main__.County object at 0x000001909549F110>, <__main__.County object at 0x000001909549F440>, <__main__.County object at 0x000001909549D910>], [<__main__.County object at 0x000001909549F2F0>, <__main__.County object at 0x000001909549F7A0>, <__main__.County object at 0x00000190988EA9C0>, <__main__.County object at 0x00000190988E8B00>, <__main__.County object at 0x000001909549C290>, <__main__.County object at 0x000001909549EFF0>, <__main__.County object at 0x000001909549F980>, <__main__.County object at 0x000001909549E150>, <__main__.County object at 0x000001909549CFE0>, <__main__.County object at 0x000001909549F680>, <__main__.County object at 0x000001909549EEA0>], [<__main__.County object at 0x000001909549D250>, <__main__.County object at 0x000001909549F410>, <__main__.County object at 0x000001909549FFE0>, <__main__.County object at 0x000001909549F950>, <__main__.County object at 0x000001909549C170>, <__main__.County object at 0x000001909549F5F0>, <__main__.County object at 0x000001909549F620>, <__main__.County object at 0x000001909549FEC0>, <__main__.County object at 0x000001909549F890>, <__main__.County object at 0x000001909549FC80>, <__main__.County object at 0x000001909549D310>], [<__main__.County object at 0x000001909549EF00>, <__main__.County object at 0x000001909549FC20>, <__main__.County object at 0x000001909549FB90>, <__main__.County object at 0x000001909549EDE0>, <__main__.County object at 0x000001909549EDB0>, <__main__.County object at 0x000001909549FB30>, <__main__.County object at 0x000001909549F860>, <__main__.County object at 0x000001909549F470>, <__main__.County object at 0x000001909549F8C0>, <__main__.County object at 0x000001909549F830>, <__main__.County object at 0x000001909549FB00>], [<__main__.County object at 0x000001909549C740>, <__main__.County object at 0x00000190988E8110>, <__main__.County object at 0x00000190988EADB0>, <__main__.County object at 0x00000190988E83B0>, <__main__.County object at 0x000001909549FE30>, <__main__.County object at 0x000001909549EA80>, <__main__.County object at 0x000001909549ECF0>, <__main__.County object at 0x000001909549DB20>, <__main__.County object at 0x000001909549F560>, <__main__.County object at 0x000001909549DFD0>, <__main__.County object at 0x000001909549F710>]], [[<__main__.County object at 0x00000190988E93A0>, <__main__.County object at 0x00000190988E9460>, <__main__.County object at 0x00000190988EA540>, <__main__.County object at 0x00000190988E9880>, <__main__.County object at 0x00000190988E90D0>, <__main__.County object at 0x00000190988E82C0>, <__main__.County object at 0x00000190988E99D0>, <__main__.County object at 0x00000190988E95E0>, <__main__.County object at 0x00000190988E8890>, <__main__.County object at 0x00000190988EA180>, <__main__.County object at 0x00000190988E9EB0>], [<__main__.County object at 0x00000190988E8F20>, <__main__.County object at 0x00000190988E8FE0>, <__main__.County object at 0x00000190988EA2D0>, <__main__.County object at 0x00000190988E9D60>, <__main__.County object at 0x00000190988E9C40>, <__main__.County object at 0x00000190988E82F0>, <__main__.County object at 0x00000190988E9F10>, <__main__.County object at 0x00000190988EA360>, <__main__.County object at 0x00000190988EA5A0>, <__main__.County object at 0x00000190988EAE10>, <__main__.County object at 0x00000190988EA000>], [<__main__.County object at 0x000001909549FD70>, <__main__.County object at 0x00000190988E8E30>, <__main__.County object at 0x00000190988E8DD0>, <__main__.County object at 0x00000190988E9BB0>, <__main__.County object at 0x00000190988EA090>, <__main__.County object at 0x00000190988E8A10>, <__main__.County object at 0x00000190988EA750>, <__main__.County object at 0x00000190988E9190>, <__main__.County object at 0x00000190988E9820>, <__main__.County object at 0x00000190988E97C0>, <__main__.County object at 0x00000190988E89E0>], [<__main__.County object at 0x000001908A7BE9C0>, <__main__.County object at 0x00000190988E9DF0>, <__main__.County object at 0x00000190988E8BF0>, <__main__.County object at 0x00000190988E87D0>, <__main__.County object at 0x00000190988E9700>, <__main__.County object at 0x00000190988E9280>, <__main__.County object at 0x00000190988E9CD0>, <__main__.County object at 0x00000190988E95B0>, <__main__.County object at 0x00000190988EA3C0>, <__main__.County object at 0x00000190988EA1E0>, <__main__.County object at 0x00000190988E9FA0>], [<__main__.County object at 0x00000190988E9E50>, <__main__.County object at 0x00000190988E9160>, <__main__.County object at 0x00000190988E8830>, <__main__.County object at 0x00000190988E8B30>, <__main__.County object at 0x00000190988E9970>, <__main__.County object at 0x00000190988E8E60>, <__main__.County object at 0x00000190988EA120>, <__main__.County object at 0x00000190988E9910>, <__main__.County object at 0x00000190988E94C0>, <__main__.County object at 0x00000190988E9130>, <__main__.County object at 0x00000190988E9010>], [<__main__.County object at 0x00000190988EA0C0>, <__main__.County object at 0x00000190988EAA20>, <__main__.County object at 0x00000190988E99A0>, <__main__.County object at 0x00000190988E86B0>, <__main__.County object at 0x00000190988EA270>, <__main__.County object at 0x00000190988E92B0>, <__main__.County object at 0x00000190988E8980>, <__main__.County object at 0x00000190988E97F0>, <__main__.County object at 0x00000190988E9A00>, <__main__.County object at 0x00000190988E88C0>, <__main__.County object at 0x00000190988EA4E0>], [<__main__.County object at 0x00000190988E8920>, <__main__.County object at 0x00000190988EA570>, <__main__.County object at 0x00000190988E96D0>, <__main__.County object at 0x00000190988EAFF0>, <__main__.County object at 0x00000190988E9BE0>, <__main__.County object at 0x00000190988EAC00>, <__main__.County object at 0x00000190988E9B80>, <__main__.County object at 0x00000190988E9EE0>, <__main__.County object at 0x00000190988EA660>, <__main__.County object at 0x00000190988E9D30>, <__main__.County object at 0x00000190988E9310>], [<__main__.County object at 0x000001909549FDD0>, <__main__.County object at 0x00000190988E8D10>, <__main__.County object at 0x00000190988E8A40>, <__main__.County object at 0x00000190988EA240>, <__main__.County object at 0x00000190988E9790>, <__main__.County object at 0x00000190988E8F80>, <__main__.County object at 0x00000190988EA720>, <__main__.County object at 0x00000190988E9430>, <__main__.County object at 0x00000190988E9AC0>, <__main__.County object at 0x00000190988E9100>, <__main__.County object at 0x00000190988E8B90>], [<__main__.County object at 0x00000190988E91C0>, <__main__.County object at 0x00000190988E8C80>, <__main__.County object at 0x00000190988E8CE0>, <__main__.County object at 0x00000190988E9F70>, <__main__.County object at 0x00000190988E96A0>, <__main__.County object at 0x00000190988E9250>, <__main__.County object at 0x00000190988EA6F0>, <__main__.County object at 0x00000190988EAD50>, <__main__.County object at 0x00000190988EA300>, <__main__.County object at 0x00000190988E9760>, <__main__.County object at 0x00000190988E9340>], [<__main__.County object at 0x00000190988EA2A0>, <__main__.County object at 0x00000190988EA5D0>, <__main__.County object at 0x00000190988EA330>, <__main__.County object at 0x00000190988E8EF0>, <__main__.County object at 0x00000190988E8D70>, <__main__.County object at 0x00000190988EA7B0>, <__main__.County object at 0x00000190988E9610>, <__main__.County object at 0x00000190988E9DC0>, <__main__.County object at 0x00000190988E9040>, <__main__.County object at 0x00000190988E8BC0>, <__main__.County object at 0x00000190988EAC90>], [<__main__.County object at 0x00000190988EA420>, <__main__.County object at 0x00000190988E8C20>, <__main__.County object at 0x00000190988E86E0>, <__main__.County object at 0x00000190988E9E20>, <__main__.County object at 0x00000190988E93D0>, <__main__.County object at 0x00000190988EABA0>, <__main__.County object at 0x00000190988EAED0>, <__main__.County object at 0x00000190988E8DA0>, <__main__.County object at 0x00000190988E9C10>, <__main__.County object at 0x00000190988E98E0>, <__main__.County object at 0x00000190988EA150>]]], [[[<__main__.County object at 0x00000190988EBE00>, <__main__.County object at 0x00000190988E9F40>, <__main__.County object at 0x00000190988EBF20>, <__main__.County object at 0x00000190988E8E00>, <__main__.County object at 0x00000190988E9520>, <__main__.County object at 0x00000190988E8C50>, <__main__.County object at 0x00000190988E8410>, <__main__.County object at 0x00000190988E8050>, <__main__.County object at 0x00000190988E8170>, <__main__.County object at 0x00000190988E90A0>, <__main__.County object at 0x00000190988E8EC0>, <__main__.County object at 0x00000190988EBBF0>], [<__main__.County object at 0x00000190988EB470>, <__main__.County object at 0x00000190988EAF30>, <__main__.County object at 0x00000190988EBB60>, <__main__.County object at 0x00000190988EBD40>, <__main__.County object at 0x00000190988EBA70>, <__main__.County object at 0x00000190988EB410>, <__main__.County object at 0x00000190988EB710>, <__main__.County object at 0x00000190988EAF90>, <__main__.County object at 0x00000190988EB230>, <__main__.County object at 0x00000190988EBDD0>, <__main__.County object at 0x00000190988E85C0>, <__main__.County object at 0x00000190988EB590>], [<__main__.County object at 0x00000190988E9730>, <__main__.County object at 0x00000190988E9370>, <__main__.County object at 0x00000190988E8860>, <__main__.County object at 0x00000190988E9400>, <__main__.County object at 0x00000190988EBEC0>, <__main__.County object at 0x00000190988EBB90>, <__main__.County object at 0x00000190988EAC60>, <__main__.County object at 0x00000190988E8440>, <__main__.County object at 0x00000190988E88F0>, <__main__.County object at 0x00000190988E9FD0>, <__main__.County object at 0x00000190988E9A30>, <__main__.County object at 0x00000190988EA510>], [<__main__.County object at 0x00000190988EB530>, <__main__.County object at 0x00000190988EB4D0>, <__main__.County object at 0x00000190988EB5C0>, <__main__.County object at 0x00000190988EB7D0>, <__main__.County object at 0x00000190988EB9E0>, <__main__.County object at 0x00000190988EB3E0>, <__main__.County object at 0x00000190988EBE30>, <__main__.County object at 0x00000190988EB8F0>, <__main__.County object at 0x00000190988EB800>, <__main__.County object at 0x00000190988EBA40>, <__main__.County object at 0x00000190988EB0E0>, <__main__.County object at 0x00000190988EBCB0>], [<__main__.County object at 0x00000190988E8230>, <__main__.County object at 0x00000190988E9550>, <__main__.County object at 0x00000190988E8800>, <__main__.County object at 0x00000190988E8560>, <__main__.County object at 0x00000190988EAE40>, <__main__.County object at 0x00000190988EBEF0>, <__main__.County object at 0x00000190988E87A0>, <__main__.County object at 0x00000190988EB740>, <__main__.County object at 0x00000190988E8290>, <__main__.County object at 0x00000190988EBE60>, <__main__.County object at 0x00000190988E8AA0>, <__main__.County object at 0x00000190988EA3F0>], [<__main__.County object at 0x00000190988EBFE0>, <__main__.County object at 0x00000190988EB080>, <__main__.County object at 0x00000190988E9940>, <__main__.County object at 0x00000190988E98B0>, <__main__.County object at 0x00000190988EBC50>, <__main__.County object at 0x00000190988E91F0>, <__main__.County object at 0x00000190988EA210>, <__main__.County object at 0x00000190988E9D00>, <__main__.County object at 0x00000190988EACC0>, <__main__.County object at 0x00000190988EADE0>, <__main__.County object at 0x0000019090B19AF0>, <__main__.County object at 0x0000019095A81D60>], [<__main__.County object at 0x00000190988EBD10>, <__main__.County object at 0x00000190988EB1D0>, <__main__.County object at 0x00000190988EB2F0>, <__main__.County object at 0x00000190988EB170>, <__main__.County object at 0x00000190988EB7A0>, <__main__.County object at 0x00000190988EB9B0>, <__main__.County object at 0x00000190988EB2C0>, <__main__.County object at 0x00000190988EB560>, <__main__.County object at 0x00000190988EB830>, <__main__.County object at 0x00000190988EAFC0>, <__main__.County object at 0x00000190988EAC30>, <__main__.County object at 0x00000190988EBCE0>], [<__main__.County object at 0x00000190988E8B60>, <__main__.County object at 0x00000190988EA060>, <__main__.County object at 0x00000190988E8CB0>, <__main__.County object at 0x00000190988E8FB0>, <__main__.County object at 0x00000190988EACF0>, <__main__.County object at 0x00000190988EBAA0>, <__main__.County object at 0x00000190988E94F0>, <__main__.County object at 0x00000190988EB200>, <__main__.County object at 0x00000190988E9B20>, <__main__.County object at 0x00000190988E8650>, <__main__.County object at 0x00000190988E89B0>, <__main__.County object at 0x00000190988EB680>], [<__main__.County object at 0x00000190988EB860>, <__main__.County object at 0x00000190988EBD70>, <__main__.County object at 0x00000190988E8680>, <__main__.County object at 0x00000190988EB350>, <__main__.County object at 0x00000190988EBDA0>, <__main__.County object at 0x00000190988EB5F0>, <__main__.County object at 0x00000190988EBF50>, <__main__.County object at 0x00000190988EB4A0>, <__main__.County object at 0x00000190988E8530>, <__main__.County object at 0x00000190988EBB00>, <__main__.County object at 0x00000190988EB380>, <__main__.County object at 0x00000190988E85F0>], [<__main__.County object at 0x00000190988E8350>, <__main__.County object at 0x00000190988EABD0>, <__main__.County object at 0x00000190988E8590>, <__main__.County object at 0x00000190988EB6B0>, <__main__.County object at 0x00000190988EB6E0>, <__main__.County object at 0x00000190988EBB30>, <__main__.County object at 0x00000190988EB020>, <__main__.County object at 0x00000190988EB0B0>, <__main__.County object at 0x00000190988EB890>, <__main__.County object at 0x00000190988EB140>, <__main__.County object at 0x00000190988EBBC0>, <__main__.County object at 0x00000190988EAD80>], [<__main__.County object at 0x00000190988EA030>, <__main__.County object at 0x00000190988EB1A0>, <__main__.County object at 0x00000190988E84A0>, <__main__.County object at 0x00000190988EB500>, <__main__.County object at 0x00000190988EB980>, <__main__.County object at 0x00000190988EB920>, <__main__.County object at 0x00000190988EB3B0>, <__main__.County object at 0x00000190988EAF60>, <__main__.County object at 0x00000190988EB650>, <__main__.County object at 0x00000190988EB110>, <__main__.County object at 0x00000190988EB440>, <__main__.County object at 0x00000190988EB770>], [<__main__.County object at 0x00000190988E8AD0>, <__main__.County object at 0x00000190988EA450>, <__main__.County object at 0x00000190988E8A70>, <__main__.County object at 0x00000190988EBF80>, <__main__.County object at 0x00000190988EB290>, <__main__.County object at 0x00000190988E9070>, <__main__.County object at 0x00000190988EB260>, <__main__.County object at 0x00000190988EBA10>, <__main__.County object at 0x00000190988EB620>, <__main__.County object at 0x00000190988EAD20>, <__main__.County object at 0x00000190988EB320>, <__main__.County object at 0x00000190988EAEA0>]], [[<__main__.County object at 0x0000019091104920>, <__main__.County object at 0x0000019091105CD0>, <__main__.County object at 0x0000019091104C80>, <__main__.County object at 0x0000019091105CA0>, <__main__.County object at 0x0000019091104A40>, <__main__.County object at 0x00000190911046E0>, <__main__.County object at 0x0000019091104110>, <__main__.County object at 0x00000190911042F0>, <__main__.County object at 0x0000019091105100>, <__main__.County object at 0x0000019091104740>, <__main__.County object at 0x0000019091105940>, <__main__.County object at 0x00000190911058E0>], [<__main__.County object at 0x00000190911053A0>, <__main__.County object at 0x0000019091105790>, <__main__.County object at 0x00000190911051F0>, <__main__.County object at 0x0000019091104830>, <__main__.County object at 0x0000019091104DA0>, <__main__.County object at 0x00000190911055B0>, <__main__.County object at 0x00000190911059D0>, <__main__.County object at 0x0000019091105610>, <__main__.County object at 0x0000019091105DF0>, <__main__.County object at 0x0000019091105400>, <__main__.County object at 0x0000019091104FE0>, <__main__.County object at 0x0000019091104F80>], [<__main__.County object at 0x0000019091105AF0>, <__main__.County object at 0x0000019091105910>, <__main__.County object at 0x0000019091105D00>, <__main__.County object at 0x00000190911052B0>, <__main__.County object at 0x0000019091105040>, <__main__.County object at 0x0000019091105160>, <__main__.County object at 0x0000019091105B50>, <__main__.County object at 0x00000190911054F0>, <__main__.County object at 0x00000190911079B0>, <__main__.County object at 0x0000019091106D20>, <__main__.County object at 0x00000190988E81A0>, <__main__.County object at 0x00000190911058B0>], [<__main__.County object at 0x0000019091105970>, <__main__.County object at 0x0000019091104D10>, <__main__.County object at 0x00000190911050D0>, <__main__.County object at 0x00000190911054C0>, <__main__.County object at 0x0000019091104EC0>, <__main__.County object at 0x0000019091104CE0>, <__main__.County object at 0x0000019091104D40>, <__main__.County object at 0x00000190911047A0>, <__main__.County object at 0x00000190911049B0>, <__main__.County object at 0x0000019091104D70>, <__main__.County object at 0x0000019091104800>, <__main__.County object at 0x0000019091105310>], [<__main__.County object at 0x00000190911057F0>, <__main__.County object at 0x0000019091105820>, <__main__.County object at 0x0000019091105430>, <__main__.County object at 0x0000019091105220>, <__main__.County object at 0x00000190911059A0>, <__main__.County object at 0x0000019091104DD0>, <__main__.County object at 0x0000019091104B00>, <__main__.County object at 0x00000190911047D0>, <__main__.County object at 0x0000019091104F20>, <__main__.County object at 0x0000019091105010>, <__main__.County object at 0x0000019091104B30>, <__main__.County object at 0x00000190911049E0>], [<__main__.County object at 0x0000019091105340>, <__main__.County object at 0x0000019091105A90>, <__main__.County object at 0x00000190911052E0>, <__main__.County object at 0x00000190911056D0>, <__main__.County object at 0x0000019091106240>, <__main__.County object at 0x0000019091104E60>, <__main__.County object at 0x0000019091104C50>, <__main__.County object at 0x0000019091104F50>, <__main__.County object at 0x0000019091104B60>, <__main__.County object at 0x0000019091104AD0>, <__main__.County object at 0x0000019091105370>, <__main__.County object at 0x0000019091105D30>], [<__main__.County object at 0x0000019091105070>, <__main__.County object at 0x0000019091105880>, <__main__.County object at 0x0000019091105D60>, <__main__.County object at 0x00000190988E8200>, <__main__.County object at 0x00000190988E8260>, <__main__.County object at 0x0000019091105700>, <__main__.County object at 0x0000019091105A30>, <__main__.County object at 0x000001908C229580>, <__main__.County object at 0x00000190988E8710>, <__main__.County object at 0x00000190988E8620>, <__main__.County object at 0x0000019091104CB0>, <__main__.County object at 0x00000190988EA600>], [<__main__.County object at 0x00000190911044D0>, <__main__.County object at 0x00000190988E8140>, <__main__.County object at 0x0000019091104980>, <__main__.County object at 0x0000019091107740>, <__main__.County object at 0x00000190988E8500>, <__main__.County object at 0x00000190988E8740>, <__main__.County object at 0x0000019091105B20>, <__main__.County object at 0x00000190911048C0>, <__main__.County object at 0x0000019091105460>, <__main__.County object at 0x0000019091105AC0>, <__main__.County object at 0x00000190911048F0>, <__main__.County object at 0x0000019091104E90>], [<__main__.County object at 0x00000190988E80E0>, <__main__.County object at 0x00000190988E8380>, <__main__.County object at 0x0000019091104320>, <__main__.County object at 0x00000190988E8080>, <__main__.County object at 0x00000190988E81D0>, <__main__.County object at 0x00000190988E84D0>, <__main__.County object at 0x00000190988E80B0>, <__main__.County object at 0x0000019091104E00>, <__main__.County object at 0x0000019091104FB0>, <__main__.County object at 0x0000019091105850>, <__main__.County object at 0x0000019091105760>, <__main__.County object at 0x00000190911053D0>], [<__main__.County object at 0x0000019091105BE0>, <__main__.County object at 0x00000190911055E0>, <__main__.County object at 0x0000019091105520>, <__main__.County object at 0x0000019091105C10>, <__main__.County object at 0x0000019091105E50>, <__main__.County object at 0x0000019091105640>, <__main__.County object at 0x0000019091105E20>, <__main__.County object at 0x0000019091107CE0>, <__main__.County object at 0x0000019091107E30>, <__main__.County object at 0x0000019091107E90>, <__main__.County object at 0x0000019091105DC0>, <__main__.County object at 0x0000019091105B80>], [<__main__.County object at 0x0000019091104860>, <__main__.County object at 0x0000019091105670>, <__main__.County object at 0x0000019091105490>, <__main__.County object at 0x00000190911050A0>, <__main__.County object at 0x0000019091104E30>, <__main__.County object at 0x0000019091105730>, <__main__.County object at 0x0000019091105130>, <__main__.County object at 0x0000019091105190>, <__main__.County object at 0x0000019091105280>, <__main__.County object at 0x00000190911056A0>, <__main__.County object at 0x0000019091104EF0>, <__main__.County object at 0x0000019091105250>], [<__main__.County object at 0x0000019091107F20>, <__main__.County object at 0x0000019091105A60>, <__main__.County object at 0x0000019091105BB0>, <__main__.County object at 0x0000019091105D90>, <__main__.County object at 0x0000019091104A70>, <__main__.County object at 0x0000019091104890>, <__main__.County object at 0x0000019091105C70>, <__main__.County object at 0x0000019091105A00>, <__main__.County object at 0x00000190911057C0>, <__main__.County object at 0x0000019091105580>, <__main__.County object at 0x0000019091105C40>, <__main__.County object at 0x00000190911051C0>]], [[<__main__.County object at 0x0000019091106E10>, <__main__.County object at 0x0000019091106570>, <__main__.County object at 0x00000190911072C0>, <__main__.County object at 0x0000019091106DB0>, <__main__.County object at 0x0000019091106ED0>, <__main__.County object at 0x0000019091106960>, <__main__.County object at 0x0000019091106D50>, <__main__.County object at 0x0000019091106AE0>, <__main__.County object at 0x00000190911064B0>, <__main__.County object at 0x0000019091105FD0>, <__main__.County object at 0x00000190911065A0>, <__main__.County object at 0x0000019091107110>], [<__main__.County object at 0x0000019091105F40>, <__main__.County object at 0x0000019091106810>, <__main__.County object at 0x00000190911063F0>, <__main__.County object at 0x0000019091106450>, <__main__.County object at 0x0000019091107050>, <__main__.County object at 0x0000019091106300>, <__main__.County object at 0x00000190911074A0>, <__main__.County object at 0x0000019091106DE0>, <__main__.County object at 0x00000190911064E0>, <__main__.County object at 0x0000019091106000>, <__main__.County object at 0x00000190911061B0>, <__main__.County object at 0x0000019091106750>], [<__main__.County object at 0x0000019091107890>, <__main__.County object at 0x0000019091107B00>, <__main__.County object at 0x0000019091107920>, <__main__.County object at 0x0000019091105E80>, <__main__.County object at 0x00000190911075F0>, <__main__.County object at 0x00000190911079E0>, <__main__.County object at 0x0000019091107650>, <__main__.County object at 0x0000019091107E60>, <__main__.County object at 0x00000190911078C0>, <__main__.County object at 0x0000019091107620>, <__main__.County object at 0x00000190911061E0>, <__main__.County object at 0x00000190911077A0>], [<__main__.County object at 0x0000019091106AB0>, <__main__.County object at 0x0000019091106150>, <__main__.County object at 0x00000190911067B0>, <__main__.County object at 0x0000019091106F00>, <__main__.County object at 0x00000190911070E0>, <__main__.County object at 0x0000019091105EB0>, <__main__.County object at 0x0000019091106CF0>, <__main__.County object at 0x00000190911072F0>, <__main__.County object at 0x0000019091106B40>, <__main__.County object at 0x0000019091106BD0>, <__main__.County object at 0x00000190911066F0>, <__main__.County object at 0x0000019091105F70>], [<__main__.County object at 0x0000019091106420>, <__main__.County object at 0x00000190911062D0>, <__main__.County object at 0x00000190911060C0>, <__main__.County object at 0x0000019091106870>, <__main__.County object at 0x0000019091107DD0>, <__main__.County object at 0x0000019091106390>, <__main__.County object at 0x0000019091105F10>, <__main__.County object at 0x0000019091106330>, <__main__.County object at 0x0000019091107E00>, <__main__.County object at 0x0000019091107C20>, <__main__.County object at 0x00000190911071A0>, <__main__.County object at 0x0000019091107D70>], [<__main__.County object at 0x0000019091107C50>, <__main__.County object at 0x0000019091107AD0>, <__main__.County object at 0x00000190911077D0>, <__main__.County object at 0x00000190988E8F50>, <__main__.County object at 0x0000019091107CB0>, <__main__.County object at 0x0000019091107680>, <__main__.County object at 0x0000019091106660>, <__main__.County object at 0x0000019091107080>, <__main__.County object at 0x0000019091106A80>, <__main__.County object at 0x0000019091107A70>, <__main__.County object at 0x0000019091106840>, <__main__.County object at 0x0000019091107A40>], [<__main__.County object at 0x0000019091107DA0>, <__main__.County object at 0x00000190988E8950>, <__main__.County object at 0x0000019091107B60>, <__main__.County object at 0x00000190911076B0>, <__main__.County object at 0x0000019091106C90>, <__main__.County object at 0x0000019091106CC0>, <__main__.County object at 0x0000019091106480>, <__main__.County object at 0x00000190911071D0>, <__main__.County object at 0x0000019091106B70>, <__main__.County object at 0x0000019091106FC0>, <__main__.County object at 0x0000019091106930>, <__main__.County object at 0x0000019091106B10>], [<__main__.County object at 0x0000019091106510>, <__main__.County object at 0x0000019091106FF0>, <__main__.County object at 0x0000019091106C30>, <__main__.County object at 0x0000019091107230>, <__main__.County object at 0x0000019091104950>, <__main__.County object at 0x0000019091106C00>, <__main__.County object at 0x00000190911074D0>, <__main__.County object at 0x0000019091107020>, <__main__.County object at 0x0000019091105FA0>, <__main__.County object at 0x0000019091106A20>, <__main__.County object at 0x0000019091104B90>, <__main__.County object at 0x00000190911069F0>], [<__main__.County object at 0x00000190911065D0>, <__main__.County object at 0x0000019091107A10>, <__main__.County object at 0x0000019091106630>, <__main__.County object at 0x0000019091106600>, <__main__.County object at 0x0000019091106120>, <__main__.County object at 0x0000019091106090>, <__main__.County object at 0x0000019091106E70>, <__main__.County object at 0x0000019091107BC0>, <__main__.County object at 0x0000019091107F50>, <__main__.County object at 0x0000019091107D10>, <__main__.County object at 0x0000019091107560>, <__main__.County object at 0x00000190911070B0>], [<__main__.County object at 0x0000019091107FB0>, <__main__.County object at 0x0000019091107FE0>, <__main__.County object at 0x0000019091107B90>, <__main__.County object at 0x0000019091106900>, <__main__.County object at 0x0000019091106270>, <__main__.County object at 0x0000019091106030>, <__main__.County object at 0x0000019091106F60>, <__main__.County object at 0x00000190911066C0>, <__main__.County object at 0x00000190911068D0>, <__main__.County object at 0x0000019091106F30>, <__main__.County object at 0x0000019091106F90>, <__main__.County object at 0x0000019091106720>], [<__main__.County object at 0x000001908FD79670>, <__main__.County object at 0x00000190988E83E0>, <__main__.County object at 0x0000019091107B30>, <__main__.County object at 0x0000019091107BF0>, <__main__.County object at 0x0000019091106E40>, <__main__.County object at 0x0000019091106210>, <__main__.County object at 0x0000019091107260>, <__main__.County object at 0x0000019091106C60>, <__main__.County object at 0x0000019091106540>, <__main__.County object at 0x00000190911063C0>, <__main__.County object at 0x0000019091107380>, <__main__.County object at 0x00000190911068A0>], [<__main__.County object at 0x0000019091106180>, <__main__.County object at 0x0000019091107EC0>, <__main__.County object at 0x0000019091107C80>, <__main__.County object at 0x0000019091107EF0>, <__main__.County object at 0x0000019091107980>, <__main__.County object at 0x0000019091107290>, <__main__.County object at 0x0000019091106EA0>, <__main__.County object at 0x0000019091106360>, <__main__.County object at 0x0000019091106690>, <__main__.County object at 0x00000190911060F0>, <__main__.County object at 0x0000019091105EE0>, <__main__.County object at 0x0000019091106D80>]], [[<__main__.County object at 0x0000019090E5EB40>, <__main__.County object at 0x0000019090E5EC00>, <__main__.County object at 0x0000019091104AA0>, <__main__.County object at 0x0000019091105550>, <__main__.County object at 0x0000019090E5ED80>, <__main__.County object at 0x0000019091104620>, <__main__.County object at 0x00000190911040B0>, <__main__.County object at 0x00000190911043B0>, <__main__.County object at 0x0000019091104590>, <__main__.County object at 0x0000019091104170>, <__main__.County object at 0x00000190911042C0>, <__main__.County object at 0x0000019091107350>], [<__main__.County object at 0x0000019091104440>, <__main__.County object at 0x00000190911076E0>, <__main__.County object at 0x0000019091104200>, <__main__.County object at 0x0000019091106990>, <__main__.County object at 0x0000019091104290>, <__main__.County object at 0x0000019091104140>, <__main__.County object at 0x0000019091106BA0>, <__main__.County object at 0x0000019091104410>, <__main__.County object at 0x00000190911067E0>, <__main__.County object at 0x00000190911069C0>, <__main__.County object at 0x00000190911041D0>, <__main__.County object at 0x0000019090E5E0F0>], [<__main__.County object at 0x0000019091107140>, <__main__.County object at 0x0000019091104680>, <__main__.County object at 0x0000019091104080>, <__main__.County object at 0x00000190911044A0>, <__main__.County object at 0x0000019091104260>, <__main__.County object at 0x0000019091106A50>, <__main__.County object at 0x0000019090E5D610>, <__main__.County object at 0x0000019091106060>, <__main__.County object at 0x00000190911046B0>, <__main__.County object at 0x0000019091107320>, <__main__.County object at 0x0000019090E5E060>, <__main__.County object at 0x0000019090E5EB70>], [<__main__.County object at 0x0000019090E5E930>, <__main__.County object at 0x0000019090E5EAE0>, <__main__.County object at 0x0000019090E5EAB0>, <__main__.County object at 0x0000019090E5E690>, <__main__.County object at 0x0000019090E5E6C0>, <__main__.County object at 0x0000019090E5ECC0>, <__main__.County object at 0x0000019090E5E840>, <__main__.County object at 0x0000019090E5CCE0>, <__main__.County object at 0x0000019090E5E6F0>, <__main__.County object at 0x0000019090E5EF00>, <__main__.County object at 0x0000019090E5FF80>, <__main__.County object at 0x0000019090E5E360>], [<__main__.County object at 0x0000019090E5F140>, <__main__.County object at 0x0000019090E5FFB0>, <__main__.County object at 0x0000019091104350>, <__main__.County object at 0x0000019090E5EEA0>, <__main__.County object at 0x0000019090E5EB10>, <__main__.County object at 0x0000019090E5E990>, <__main__.County object at 0x0000019090E5EDE0>, <__main__.County object at 0x0000019090E5DD60>, <__main__.County object at 0x0000019090E5EDB0>, <__main__.County object at 0x0000019090E5E9F0>, <__main__.County object at 0x0000019090E5CA40>, <__main__.County object at 0x0000019090E5D7C0>], [<__main__.County object at 0x0000019090E5E750>, <__main__.County object at 0x0000019090E5EED0>, <__main__.County object at 0x0000019090E5EF60>, <__main__.County object at 0x0000019090E5EA80>, <__main__.County object at 0x0000019090E5E720>, <__main__.County object at 0x0000019090E5EA50>, <__main__.County object at 0x0000019090E5EBD0>, <__main__.County object at 0x0000019090E5ED50>, <__main__.County object at 0x0000019090E5E810>, <__main__.County object at 0x0000019090E5E630>, <__main__.County object at 0x0000019090E5EC90>, <__main__.County object at 0x0000019090E5FA70>], [<__main__.County object at 0x0000019090E5E4E0>, <__main__.County object at 0x0000019090E5CAA0>, <__main__.County object at 0x0000019090E5EE10>, <__main__.County object at 0x0000019090E5FFE0>, <__main__.County object at 0x0000019090E5EE40>, <__main__.County object at 0x0000019091107800>, <__main__.County object at 0x0000019091104650>, <__main__.County object at 0x0000019090E5EC60>, <__main__.County object at 0x0000019090E5ECF0>, <__main__.County object at 0x0000019090E5E960>, <__main__.County object at 0x0000019090E5EC30>, <__main__.County object at 0x0000019090E5E7B0>], [<__main__.County object at 0x0000019090E5D790>, <__main__.County object at 0x0000019090E5F8F0>, <__main__.County object at 0x0000019090E5D3A0>, <__main__.County object at 0x0000019090E5D1C0>, <__main__.County object at 0x0000019090E5D310>, <__main__.County object at 0x0000019090E5F950>, <__main__.County object at 0x0000019090E5CA10>, <__main__.County object at 0x0000019090E5D940>, <__main__.County object at 0x0000019090E5E5D0>, <__main__.County object at 0x0000019090E5F7D0>, <__main__.County object at 0x0000019090E5FB00>, <__main__.County object at 0x0000019090E5D070>], [<__main__.County object at 0x0000019090E5F020>, <__main__.County object at 0x0000019090E5EBA0>, <__main__.County object at 0x0000019090E5E540>, <__main__.County object at 0x0000019090E5FB60>, <__main__.County object at 0x0000019090E5D6A0>, <__main__.County object at 0x0000019090E5E120>, <__main__.County object at 0x0000019091104230>, <__main__.County object at 0x0000019090E5EE70>, <__main__.County object at 0x0000019090E5FEF0>, <__main__.County object at 0x0000019091104470>, <__main__.County object at 0x0000019090E5ED20>, <__main__.County object at 0x0000019091104050>], [<__main__.County object at 0x0000019090E5E210>, <__main__.County object at 0x0000019090E5E660>, <__main__.County object at 0x0000019090E5DA90>, <__main__.County object at 0x0000019090E5CE30>, <__main__.County object at 0x0000019090E5E240>, <__main__.County object at 0x0000019090E5FC20>, <__main__.County object at 0x0000019090E5D130>, <__main__.County object at 0x0000019090E5F680>, <__main__.County object at 0x0000019090E5F1A0>, <__main__.County object at 0x0000019090E5C980>, <__main__.County object at 0x0000019090E5DB50>, <__main__.County object at 0x0000019090E5FDA0>], [<__main__.County object at 0x00000190911073E0>, <__main__.County object at 0x00000190911045C0>, <__main__.County object at 0x0000019090E5CF50>, <__main__.County object at 0x0000019090E5E7E0>, <__main__.County object at 0x0000019090E5D730>, <__main__.County object at 0x0000019090E5E870>, <__main__.County object at 0x0000019090E5CB90>, <__main__.County object at 0x0000019090E5E600>, <__main__.County object at 0x0000019090E5DF70>, <__main__.County object at 0x0000019090E5E9C0>, <__main__.County object at 0x0000019090E5E570>, <__main__.County object at 0x0000019090E5E900>], [<__main__.County object at 0x00000190911041A0>, <__main__.County object at 0x0000019090E5EFF0>, <__main__.County object at 0x0000019090E5EA20>, <__main__.County object at 0x0000019090E5E780>, <__main__.County object at 0x0000019090E5DD30>, <__main__.County object at 0x0000019090E5E8D0>, <__main__.County object at 0x0000019090E5CD40>, <__main__.County object at 0x0000019090E5E5A0>, <__main__.County object at 0x0000019091104380>, <__main__.County object at 0x0000019091106780>, <__main__.County object at 0x0000019095649D60>, <__main__.County object at 0x0000019091107170>]], [[<__main__.County object at 0x0000019090E5E4B0>, <__main__.County object at 0x0000019090E5C7D0>, <__main__.County object at 0x0000019090E5E3C0>, <__main__.County object at 0x0000019090E5C860>, <__main__.County object at 0x0000019090E5C410>, <__main__.County object at 0x0000019090E5F890>, <__main__.County object at 0x0000019090E5C350>, <__main__.County object at 0x0000019090E5C830>, <__main__.County object at 0x0000019090E5D160>, <__main__.County object at 0x0000019090E5FBF0>, <__main__.County object at 0x0000019090E5D280>, <__main__.County object at 0x0000019090E5F110>], [<__main__.County object at 0x0000019090E5DC40>, <__main__.County object at 0x0000019090E5E3F0>, <__main__.County object at 0x0000019090E5D4F0>, <__main__.County object at 0x0000019090E5D3D0>, <__main__.County object at 0x0000019090E5CAD0>, <__main__.County object at 0x0000019090E5FB90>, <__main__.County object at 0x0000019090E5D760>, <__main__.County object at 0x0000019090E5F980>, <__main__.County object at 0x0000019090E5D040>, <__main__.County object at 0x0000019090E5DA30>, <__main__.County object at 0x0000019090E5CE60>, <__main__.County object at 0x0000019090E5FD70>], [<__main__.County object at 0x0000019090E5FE00>, <__main__.County object at 0x0000019090E5C9B0>, <__main__.County object at 0x0000019090E5E150>, <__main__.County object at 0x0000019090E5F770>, <__main__.County object at 0x0000019090E5C800>, <__main__.County object at 0x0000019090E5F4A0>, <__main__.County object at 0x0000019090E5D4C0>, <__main__.County object at 0x0000019090E5FAD0>, <__main__.County object at 0x0000019090E5F2C0>, <__main__.County object at 0x0000019090E5D2B0>, <__main__.County object at 0x0000019090E5D820>, <__main__.County object at 0x0000019090E5F7A0>], [<__main__.County object at 0x0000019090E5FE60>, <__main__.County object at 0x0000019090E5F5C0>, <__main__.County object at 0x0000019090E5C9E0>, <__main__.County object at 0x0000019090E5D2E0>, <__main__.County object at 0x0000019090E5D250>, <__main__.County object at 0x0000019090E5CA70>, <__main__.County object at 0x0000019090E5F9E0>, <__main__.County object at 0x0000019090E5FC80>, <__main__.County object at 0x0000019090E5C560>, <__main__.County object at 0x0000019090E5CB60>, <__main__.County object at 0x0000019090E5F0B0>, <__main__.County object at 0x0000019090E5F380>], [<__main__.County object at 0x0000019090E5DA00>, <__main__.County object at 0x0000019090E5F170>, <__main__.County object at 0x0000019090E5DF40>, <__main__.County object at 0x0000019090E5F410>, <__main__.County object at 0x0000019090E5F920>, <__main__.County object at 0x0000019090E5FCB0>, <__main__.County object at 0x0000019090E5D970>, <__main__.County object at 0x0000019090E5D880>, <__main__.County object at 0x0000019090E5FEC0>, <__main__.County object at 0x0000019090E5FDD0>, <__main__.County object at 0x0000019090E5F350>, <__main__.County object at 0x0000019090E5D8B0>], [<__main__.County object at 0x0000019090E5F650>, <__main__.County object at 0x0000019090E5FE90>, <__main__.County object at 0x0000019090E5CB00>, <__main__.County object at 0x0000019090E5DCD0>, <__main__.County object at 0x0000019090E5D0D0>, <__main__.County object at 0x0000019090E5F260>, <__main__.County object at 0x0000019090E5D9A0>, <__main__.County object at 0x0000019090E5FC50>, <__main__.County object at 0x0000019090E5E180>, <__main__.County object at 0x0000019090E5D580>, <__main__.County object at 0x0000019090E5D010>, <__main__.County object at 0x0000019090E5D340>], [<__main__.County object at 0x0000019090E5DB20>, <__main__.County object at 0x0000019090E5F860>, <__main__.County object at 0x0000019090E5F230>, <__main__.County object at 0x0000019093C3C5F0>, <__main__.County object at 0x0000019090E5DFA0>, <__main__.County object at 0x0000019090E5CDA0>, <__main__.County object at 0x0000019090E5DDC0>, <__main__.County object at 0x0000019090E5E2A0>, <__main__.County object at 0x0000019090E5DFD0>, <__main__.County object at 0x0000019090E5CE00>, <__main__.County object at 0x0000019090E5DBE0>, <__main__.County object at 0x0000019090E5DF10>], [<__main__.County object at 0x0000019090E5CD70>, <__main__.County object at 0x0000019090E5F440>, <__main__.County object at 0x0000019090E5F740>, <__main__.County object at 0x0000019090E5DD90>, <__main__.County object at 0x0000019090E5D520>, <__main__.County object at 0x0000019090E5E090>, <__main__.County object at 0x0000019090E5E0C0>, <__main__.County object at 0x0000019090E5EF90>, <__main__.County object at 0x0000019090E5FCE0>, <__main__.County object at 0x0000019090E5C0E0>, <__main__.County object at 0x0000019090E5C320>, <__main__.County object at 0x0000019090E5C5F0>], [<__main__.County object at 0x0000019090E5F710>, <__main__.County object at 0x0000019090E5C710>, <__main__.County object at 0x0000019090E5FA10>, <__main__.County object at 0x0000019090E5C530>, <__main__.County object at 0x0000019090E5D490>, <__main__.County object at 0x0000019090E5C3E0>, <__main__.County object at 0x0000019090E5F6B0>, <__main__.County object at 0x0000019090E5C4D0>, <__main__.County object at 0x0000019090E5C620>, <__main__.County object at 0x0000019090E5C1D0>, <__main__.County object at 0x0000019090E5C470>, <__main__.County object at 0x0000019090E5CCB0>], [<__main__.County object at 0x0000019090E5E420>, <__main__.County object at 0x0000019090E5C440>, <__main__.County object at 0x0000019090E5FB30>, <__main__.County object at 0x0000019090E5FAA0>, <__main__.County object at 0x0000019090E5C2F0>, <__main__.County object at 0x0000019090E5C200>, <__main__.County object at 0x0000019090E5C170>, <__main__.County object at 0x0000019090E5F620>, <__main__.County object at 0x0000019090E5C680>, <__main__.County object at 0x0000019090E5FBC0>, <__main__.County object at 0x0000019090E5CD10>, <__main__.County object at 0x0000019090E5FE30>], [<__main__.County object at 0x0000019090E5C050>, <__main__.County object at 0x0000019090E5C5C0>, <__main__.County object at 0x0000019090E5C6E0>, <__main__.County object at 0x0000019090E5E1B0>, <__main__.County object at 0x0000019090E5F290>, <__main__.County object at 0x0000019090E5C500>, <__main__.County object at 0x0000019090E5C3B0>, <__main__.County object at 0x0000019090E5D850>, <__main__.County object at 0x0000019090E5CE90>, <__main__.County object at 0x0000019090E5FF20>, <__main__.County object at 0x0000019091107200>, <__main__.County object at 0x0000019091107410>], [<__main__.County object at 0x0000019090E5DEE0>, <__main__.County object at 0x0000019090E5DC70>, <__main__.County object at 0x0000019090E5C950>, <__main__.County object at 0x0000019090E5D400>, <__main__.County object at 0x0000019090E5E270>, <__main__.County object at 0x0000019090E5F500>, <__main__.County object at 0x0000019090E5FD40>, <__main__.County object at 0x0000019090E5F2F0>, <__main__.County object at 0x0000019090E5CF20>, <__main__.County object at 0x0000019090E5C260>, <__main__.County object at 0x0000019090E5E8A0>, <__main__.County object at 0x0000019090E5D190>]], [[<__main__.County object at 0x000001908F2A8410>, <__main__.County object at 0x0000019090E5E510>, <__main__.County object at 0x000001908F2ABD70>, <__main__.County object at 0x0000019090E5F0E0>, <__main__.County object at 0x0000019090E5F200>, <__main__.County object at 0x0000019090E5C890>, <__main__.County object at 0x0000019090E5C590>, <__main__.County object at 0x000001908F2A87D0>, <__main__.County object at 0x000001908F2A92B0>, <__main__.County object at 0x000001908F2A8FE0>, <__main__.County object at 0x000001908F2A8AD0>, <__main__.County object at 0x000001908F2A8AA0>], [<__main__.County object at 0x000001908EC86480>, <__main__.County object at 0x000001908C3DF500>, <__main__.County object at 0x0000019090E5F1D0>, <__main__.County object at 0x0000019090E5C740>, <__main__.County object at 0x0000019093C3C4A0>, <__main__.County object at 0x00000190911075C0>, <__main__.County object at 0x0000019090E5C380>, <__main__.County object at 0x0000019090E5C1A0>, <__main__.County object at 0x0000019090E5F3E0>, <__main__.County object at 0x0000019090E5E300>, <__main__.County object at 0x0000019090E5C650>, <__main__.County object at 0x0000019090E5F8C0>], [<__main__.County object at 0x000001908F2AB800>, <__main__.County object at 0x000001908F2A8830>, <__main__.County object at 0x000001908F2A88C0>, <__main__.County object at 0x000001908F2A83B0>, <__main__.County object at 0x000001908F2A8350>, <__main__.County object at 0x000001908F2A8380>, <__main__.County object at 0x000001908F2A8980>, <__main__.County object at 0x000001908F2A8590>, <__main__.County object at 0x000001908F2A8B30>, <__main__.County object at 0x000001908F2AB560>, <__main__.County object at 0x000001908F2A8950>, <__main__.County object at 0x000001908F2A8740>], [<__main__.County object at 0x000001908F2AAAB0>, <__main__.County object at 0x000001908F2A8290>, <__main__.County object at 0x000001908F2AB5F0>, <__main__.County object at 0x000001908F2A8560>, <__main__.County object at 0x000001908F2AB7D0>, <__main__.County object at 0x000001908F2AA3F0>, <__main__.County object at 0x000001908F2AB980>, <__main__.County object at 0x000001908F2AA780>, <__main__.County object at 0x000001908F2AAD80>, <__main__.County object at 0x000001908F2AB2C0>, <__main__.County object at 0x000001908F2AA8A0>, <__main__.County object at 0x000001908F2A8140>], [<__main__.County object at 0x0000019090E5E030>, <__main__.County object at 0x0000019090E5FD10>, <__main__.County object at 0x0000019090E5C2C0>, <__main__.County object at 0x0000019090E5D910>, <__main__.County object at 0x0000019090E5EF30>, <__main__.County object at 0x000001908F2A86E0>, <__main__.County object at 0x0000019090E5C6B0>, <__main__.County object at 0x000001908F2A81A0>, <__main__.County object at 0x000001908F2A8860>, <__main__.County object at 0x000001908F2A83E0>, <__main__.County object at 0x000001908F2A8B60>, <__main__.County object at 0x000001908F2A89B0>], [<__main__.County object at 0x000001908F2A9D60>, <__main__.County object at 0x0000019090E5C7A0>, <__main__.County object at 0x0000019090E5D640>, <__main__.County object at 0x000001908F2ABC50>, <__main__.County object at 0x000001908F2AB4D0>, <__main__.County object at 0x000001908F2AB9B0>, <__main__.County object at 0x000001908F2A8170>, <__main__.County object at 0x000001908F2A8320>, <__main__.County object at 0x000001908F2A8260>, <__main__.County object at 0x000001908F2A80B0>, <__main__.County object at 0x000001908F2AB1A0>, <__main__.County object at 0x000001908F2A8110>], [<__main__.County object at 0x000001908F2A85F0>, <__main__.County object at 0x000001908F2A8770>, <__main__.County object at 0x000001908F2AB320>, <__main__.County object at 0x000001908F2AB8C0>, <__main__.County object at 0x000001908F2AA510>, <__main__.County object at 0x000001908F2AB860>, <__main__.County object at 0x000001908F2AB140>, <__main__.County object at 0x000001908F2AB350>, <__main__.County object at 0x000001908F2AAE40>, <__main__.County object at 0x000001908F2AB620>, <__main__.County object at 0x000001908F2AACF0>, <__main__.County object at 0x000001908F2AAFC0>], [<__main__.County object at 0x000001908F2A89E0>, <__main__.County object at 0x000001908F2A8A40>, <__main__.County object at 0x000001908F2A8920>, <__main__.County object at 0x000001908F2A8A10>, <__main__.County object at 0x000001908F2A8680>, <__main__.County object at 0x000001908F2A8080>, <__main__.County object at 0x000001908F2AB950>, <__main__.County object at 0x000001908F2AB5C0>, <__main__.County object at 0x000001908F2AB3E0>, <__main__.County object at 0x000001908F2A8050>, <__main__.County object at 0x000001908F2AAF90>, <__main__.County object at 0x000001908F2A8710>], [<__main__.County object at 0x000001908F2AB830>, <__main__.County object at 0x000001908F2AB8F0>, <__main__.County object at 0x000001908F2AAC00>, <__main__.County object at 0x000001908F2AB590>, <__main__.County object at 0x000001908F2AAF30>, <__main__.County object at 0x000001908F2AB170>, <__main__.County object at 0x000001908F2AB890>, <__main__.County object at 0x000001908F2A80E0>, <__main__.County object at 0x000001908F2A8200>, <__main__.County object at 0x000001908F2A81D0>, <__main__.County object at 0x000001908F2A82F0>, <__main__.County object at 0x000001908F2A82C0>], [<__main__.County object at 0x0000019090E5F830>, <__main__.County object at 0x000001908F2A8230>, <__main__.County object at 0x000001908F2A8650>, <__main__.County object at 0x000001908F2AB530>, <__main__.County object at 0x000001908F2A8440>, <__main__.County object at 0x000001908F2A8C80>, <__main__.County object at 0x000001908F2A8BF0>, <__main__.County object at 0x000001908F2A8BC0>, <__main__.County object at 0x000001908F2A85C0>, <__main__.County object at 0x000001908F2A8800>, <__main__.County object at 0x000001908F2A8B90>, <__main__.County object at 0x000001908F2A8890>], [<__main__.County object at 0x000001908F2A8C50>, <__main__.County object at 0x000001908F2A84D0>, <__main__.County object at 0x000001908F2AAB10>, <__main__.County object at 0x000001908F2AB290>, <__main__.County object at 0x000001908F2ABA10>, <__main__.County object at 0x000001908F2AB7A0>, <__main__.County object at 0x000001908F2AB9E0>, <__main__.County object at 0x000001908F2AB380>, <__main__.County object at 0x000001908F2AB050>, <__main__.County object at 0x000001908F2AB410>, <__main__.County object at 0x000001908F2AB680>, <__main__.County object at 0x000001908F2A8470>], [<__main__.County object at 0x0000019090E5F470>, <__main__.County object at 0x000001908F2A87A0>, <__main__.County object at 0x000001908F2A8B00>, <__main__.County object at 0x000001908F2A8A70>, <__main__.County object at 0x000001908F2A88F0>, <__main__.County object at 0x000001908F2AB1D0>, <__main__.County object at 0x000001908F2A8530>, <__main__.County object at 0x000001908F2A84A0>, <__main__.County object at 0x000001908F2AAB40>, <__main__.County object at 0x000001908F2A86B0>, <__main__.County object at 0x000001908F2A8620>, <__main__.County object at 0x000001908F2A8C20>]], [[<__main__.County object at 0x000001908F2AAEA0>, <__main__.County object at 0x000001908F2AA720>, <__main__.County object at 0x000001908F2AA570>, <__main__.County object at 0x000001908F2AA5D0>, <__main__.County object at 0x000001908F2AAE10>, <__main__.County object at 0x000001908F2AA360>, <__main__.County object at 0x000001908F2AA2D0>, <__main__.County object at 0x000001908F2AA660>, <__main__.County object at 0x000001908F2A9A60>, <__main__.County object at 0x000001908F2A99A0>, <__main__.County object at 0x000001908F2AAC60>, <__main__.County object at 0x000001908F2AAE70>], [<__main__.County object at 0x000001908F2AA630>, <__main__.County object at 0x000001908F2AB6E0>, <__main__.County object at 0x000001908F2AAC90>, <__main__.County object at 0x000001908F2AB110>, <__main__.County object at 0x000001908F2A9E20>, <__main__.County object at 0x0000019090F09A90>, <__main__.County object at 0x000001908F2AA540>, <__main__.County object at 0x000001908F2AA7E0>, <__main__.County object at 0x000001908F2AAA20>, <__main__.County object at 0x000001908F2AAB70>, <__main__.County object at 0x000001908F2AA4E0>, <__main__.County object at 0x000001908F2A90D0>], [<__main__.County object at 0x000001908F2AA900>, <__main__.County object at 0x000001908F2A8E00>, <__main__.County object at 0x000001908F2AA240>, <__main__.County object at 0x000001908F2A8DD0>, <__main__.County object at 0x0000019090E5C770>, <__main__.County object at 0x0000019090E5C110>, <__main__.County object at 0x000001908F2AA300>, <__main__.County object at 0x000001908F2AA7B0>, <__main__.County object at 0x000001908F2A9EB0>, <__main__.County object at 0x000001908F2A9940>, <__main__.County object at 0x000001908F2A8CE0>, <__main__.County object at 0x000001908F2AA0C0>], [<__main__.County object at 0x000001908F2AA390>, <__main__.County object at 0x000001908F2AA9F0>, <__main__.County object at 0x000001908F2AA1B0>, <__main__.County object at 0x000001908F2AA1E0>, <__main__.County object at 0x000001908F2A9AC0>, <__main__.County object at 0x000001908F2A9160>, <__main__.County object at 0x000001908F2A9D00>, <__main__.County object at 0x000001908F2ABD10>, <__main__.County object at 0x000001908F2A95E0>, <__main__.County object at 0x000001908F2A9D30>, <__main__.County object at 0x000001908F2A9AF0>, <__main__.County object at 0x000001908F2AABA0>], [<__main__.County object at 0x000001908F2AB0E0>, <__main__.County object at 0x000001908F2AB4A0>, <__main__.County object at 0x000001908F2AAD50>, <__main__.County object at 0x000001908F2AAC30>, <__main__.County object at 0x000001908F2AA960>, <__main__.County object at 0x000001908F2AAF60>, <__main__.County object at 0x000001908F2AA600>, <__main__.County object at 0x000001908F2AB440>, <__main__.County object at 0x000001908F2AB020>, <__main__.County object at 0x000001908F2AB080>, <__main__.County object at 0x000001908F2AB6B0>, <__main__.County object at 0x000001908F2AB650>], [<__main__.County object at 0x000001908F2A96A0>, <__main__.County object at 0x000001908F2A9100>, <__main__.County object at 0x000001908F2A9F70>, <__main__.County object at 0x000001908F2A8D10>, <__main__.County object at 0x000001908F2A9CD0>, <__main__.County object at 0x000001908F2A9DC0>, <__main__.County object at 0x000001908F2A9FA0>, <__main__.County object at 0x000001908F2AA180>, <__main__.County object at 0x000001908F2A8E30>, <__main__.County object at 0x000001908F2A9490>, <__main__.County object at 0x000001908F2A9430>, <__main__.County object at 0x000001908F2A9B20>], [<__main__.County object at 0x000001908F2A98E0>, <__main__.County object at 0x000001908F2A9970>, <__main__.County object at 0x000001908F2A9220>, <__main__.County object at 0x000001908F2A9FD0>, <__main__.County object at 0x000001908F2A9910>, <__main__.County object at 0x000001908F2A98B0>, <__main__.County object at 0x000001908F2A9190>, <__main__.County object at 0x000001908F2A92E0>, <__main__.County object at 0x000001908F2A9010>, <__main__.County object at 0x000001908F2A9A90>, <__main__.County object at 0x000001908F2A9760>, <__main__.County object at 0x000001908F2A90A0>], [<__main__.County object at 0x000001908F2AA870>, <__main__.County object at 0x000001908F2AA420>, <__main__.County object at 0x000001908F2AB260>, <__main__.County object at 0x000001908F2AAFF0>, <__main__.County object at 0x000001908F2AB2F0>, <__main__.County object at 0x000001908F2AAD20>, <__main__.County object at 0x000001908F2AACC0>, <__main__.County object at 0x000001908F2AAA50>, <__main__.County object at 0x000001908F2AA750>, <__main__.County object at 0x000001908F2AA330>, <__main__.County object at 0x000001908F2A9EE0>, <__main__.County object at 0x000001908F2ABC20>], [<__main__.County object at 0x000001908F2A9340>, <__main__.County object at 0x000001908F2A96D0>, <__main__.County object at 0x000001908F2A9B80>, <__main__.County object at 0x000001908F2ABEC0>, <__main__.County object at 0x000001908F2A9730>, <__main__.County object at 0x000001908F2A9BB0>, <__main__.County object at 0x000001908F2A9A00>, <__main__.County object at 0x000001908F2A9520>, <__main__.County object at 0x000001908F2A9820>, <__main__.County object at 0x000001908F2A9BE0>, <__main__.County object at 0x000001908F2A9D90>, <__main__.County object at 0x000001908F2A9670>], [<__main__.County object at 0x000001908F2AA9C0>, <__main__.County object at 0x000001908F2AA990>, <__main__.County object at 0x000001908F2A9E80>, <__main__.County object at 0x000001908F2A9370>, <__main__.County object at 0x000001908F2A9C70>, <__main__.County object at 0x000001908F2AAA80>, <__main__.County object at 0x000001908F2A8DA0>, <__main__.County object at 0x000001908F2AA5A0>, <__main__.County object at 0x000001908F2A9F10>, <__main__.County object at 0x000001908F2AA150>, <__main__.County object at 0x000001908F2A9CA0>, <__main__.County object at 0x000001908F2AAAE0>], [<__main__.County object at 0x0000019090E5D220>, <__main__.County object at 0x000001908F2AB740>, <__main__.County object at 0x00000190988EA480>, <__main__.County object at 0x000001908F2AAF00>, <__main__.County object at 0x0000019097EEB710>, <__main__.County object at 0x000001908F2AA8D0>, <__main__.County object at 0x000001908F2A93A0>, <__main__.County object at 0x000001908F2A9DF0>, <__main__.County object at 0x000001908F2A9B50>, <__main__.County object at 0x000001908F2A9E50>, <__main__.County object at 0x000001908F2AA030>, <__main__.County object at 0x000001908F2A9C40>], [<__main__.County object at 0x000001908F2AA090>, <__main__.County object at 0x000001908F2AA120>, <__main__.County object at 0x000001908F2A9280>, <__main__.County object at 0x000001908F2A9070>, <__main__.County object at 0x000001908F2A8CB0>, <__main__.County object at 0x000001908F2AA060>, <__main__.County object at 0x000001908F2A9130>, <__main__.County object at 0x000001908F2AA000>, <__main__.County object at 0x000001908F2A9550>, <__main__.County object at 0x000001908F2A9040>, <__main__.County object at 0x000001908F2A9F40>, <__main__.County object at 0x000001908F2AB0B0>]], [[<__main__.County object at 0x000001908F2A9460>, <__main__.County object at 0x000001908F2A94C0>, <__main__.County object at 0x000001908F2A9580>, <__main__.County object at 0x000001908F2A9400>, <__main__.County object at 0x000001908F2A8D70>, <__main__.County object at 0x000001908F2A8E90>, <__main__.County object at 0x000001908F2A94F0>, <__main__.County object at 0x000001908F2A8EC0>, <__main__.County object at 0x000001908F2AA840>, <__main__.County object at 0x000001908F2A91C0>, <__main__.County object at 0x000001908F2A97F0>, <__main__.County object at 0x000001908F2ABB60>], [<__main__.County object at 0x00000190939F7D40>, <__main__.County object at 0x00000190939F7E30>, <__main__.County object at 0x00000190939F7E60>, <__main__.County object at 0x00000190939F7EC0>, <__main__.County object at 0x00000190939F7DA0>, <__main__.County object at 0x00000190939F70E0>, <__main__.County object at 0x00000190939F49B0>, <__main__.County object at 0x00000190939F5E20>, <__main__.County object at 0x00000190939F6D50>, <__main__.County object at 0x000001908F2A8500>, <__main__.County object at 0x00000190939F47D0>, <__main__.County object at 0x00000190939F4A40>], [<__main__.County object at 0x000001908F2ABC80>, <__main__.County object at 0x000001908F2A8F50>, <__main__.County object at 0x000001908F2AA270>, <__main__.County object at 0x000001908F2ABBF0>, <__main__.County object at 0x000001908F2A9790>, <__main__.County object at 0x000001908F2A9700>, <__main__.County object at 0x000001908F2AB3B0>, <__main__.County object at 0x000001908F2A95B0>, <__main__.County object at 0x000001908F2A9880>, <__main__.County object at 0x000001908F2ABE00>, <__main__.County object at 0x000001908F2ABD40>, <__main__.County object at 0x000001908F2A9C10>], [<__main__.County object at 0x000001908F2ABAD0>, <__main__.County object at 0x000001908F2A97C0>, <__main__.County object at 0x000001908F2ABB00>, <__main__.County object at 0x000001908F2ABB30>, <__main__.County object at 0x000001908F2AADB0>, <__main__.County object at 0x00000190939F6300>, <__main__.County object at 0x00000190939F7F80>, <__main__.County object at 0x00000190939F5850>, <__main__.County object at 0x000001908F2AA810>, <__main__.County object at 0x00000190939F4920>, <__main__.County object at 0x00000190939F6090>, <__main__.County object at 0x000001908F2AADE0>], [<__main__.County object at 0x00000190939F7E90>, <__main__.County object at 0x00000190939F7E00>, <__main__.County object at 0x00000190939F4980>, <__main__.County object at 0x00000190939F7DD0>, <__main__.County object at 0x00000190939F7EF0>, <__main__.County object at 0x00000190939F5940>, <__main__.County object at 0x00000190939F66C0>, <__main__.County object at 0x00000190939F5430>, <__main__.County object at 0x000001908F2ABCE0>, <__main__.County object at 0x00000190939F4B30>, <__main__.County object at 0x000001908F2AB200>, <__main__.County object at 0x00000190939F6120>], [<__main__.County object at 0x000001908F2A8E60>, <__main__.County object at 0x000001908F2A8F20>, <__main__.County object at 0x000001908F2ABA40>, <__main__.County object at 0x000001908F2AA3C0>, <__main__.County object at 0x000001908F2AB500>, <__main__.County object at 0x000001908F2AA450>, <__main__.County object at 0x000001908F2ABAA0>, <__main__.County object at 0x000001908F2ABDA0>, <__main__.County object at 0x000001908F2AAED0>, <__main__.County object at 0x000001908F2A9310>, <__main__.County object at 0x000001908F2ABCB0>, <__main__.County object at 0x000001908F2ABE90>], [<__main__.County object at 0x00000190939F7CE0>, <__main__.County object at 0x00000190939F5BB0>, <__main__.County object at 0x00000190939F79B0>, <__main__.County object at 0x00000190939F5E50>, <__main__.County object at 0x00000190939F5910>, <__main__.County object at 0x00000190939F7F50>, <__main__.County object at 0x00000190939F5550>, <__main__.County object at 0x00000190939F4950>, <__main__.County object at 0x00000190939F6930>, <__main__.County object at 0x00000190939F6FF0>, <__main__.County object at 0x00000190939F5670>, <__main__.County object at 0x00000190939F5B20>], [<__main__.County object at 0x00000190939F5AC0>, <__main__.County object at 0x00000190939F5310>, <__main__.County object at 0x00000190939F5130>, <__main__.County object at 0x00000190939F6900>, <__main__.County object at 0x00000190939F4DA0>, <__main__.County object at 0x00000190939F7260>, <__main__.County object at 0x00000190939F6960>, <__main__.County object at 0x00000190939F43B0>, <__main__.County object at 0x00000190939F7D70>, <__main__.County object at 0x00000190939F7FE0>, <__main__.County object at 0x00000190939F6EA0>, <__main__.County object at 0x00000190939F5D90>], [<__main__.County object at 0x000001908F2ABEF0>, <__main__.County object at 0x00000190988E9490>, <__main__.County object at 0x000001908F2A8D40>, <__main__.County object at 0x000001908F2A9640>, <__main__.County object at 0x000001908F2ABFE0>, <__main__.County object at 0x000001908F2A9A30>, <__main__.County object at 0x00000190939F4AA0>, <__main__.County object at 0x00000190939F60F0>, <__main__.County object at 0x00000190939F4C50>, <__main__.County object at 0x00000190939F4B90>, <__main__.County object at 0x00000190939F7770>, <__main__.County object at 0x00000190939F6690>], [<__main__.County object at 0x00000190939F7F20>, <__main__.County object at 0x00000190939F45C0>, <__main__.County object at 0x00000190939F7530>, <__main__.County object at 0x00000190939F6600>, <__main__.County object at 0x00000190939F6150>, <__main__.County object at 0x00000190939F4080>, <__main__.County object at 0x00000190939F4050>, <__main__.County object at 0x00000190939F6B40>, <__main__.County object at 0x00000190939F7500>, <__main__.County object at 0x000001908F2AA2A0>, <__main__.County object at 0x000001908F2AABD0>, <__main__.County object at 0x000001908F2A9610>], [<__main__.County object at 0x000001908F2AA930>, <__main__.County object at 0x000001908F2AA0F0>, <__main__.County object at 0x000001908F2AA690>, <__main__.County object at 0x00000190939F4710>, <__main__.County object at 0x00000190939F7110>, <__main__.County object at 0x00000190939F5640>, <__main__.County object at 0x00000190939F6240>, <__main__.County object at 0x00000190939F6A80>, <__main__.County object at 0x00000190939F5100>, <__main__.County object at 0x00000190939F53D0>, <__main__.County object at 0x00000190939F6E10>, <__main__.County object at 0x00000190939F4140>], [<__main__.County object at 0x000001908F2ABBC0>, <__main__.County object at 0x000001908F2ABE30>, <__main__.County object at 0x000001908F2ABDD0>, <__main__.County object at 0x000001908F2AA4B0>, <__main__.County object at 0x000001908F2AB230>, <__main__.County object at 0x00000190939F5AF0>, <__main__.County object at 0x00000190939F7380>, <__main__.County object at 0x00000190939F4D10>, <__main__.County object at 0x00000190939F64B0>, <__main__.County object at 0x00000190939F47A0>, <__main__.County object at 0x00000190939F7D10>, <__main__.County object at 0x000001908F2A99D0>]], [[<__main__.County object at 0x00000190904D07D0>, <__main__.County object at 0x00000190904D0B60>, <__main__.County object at 0x00000190904D0FB0>, <__main__.County object at 0x00000190904D31D0>, <__main__.County object at 0x00000190904D0380>, <__main__.County object at 0x00000190904D2900>, <__main__.County object at 0x00000190939F56A0>, <__main__.County object at 0x00000190904D2B40>, <__main__.County object at 0x00000190904D3590>, <__main__.County object at 0x00000190904D0B00>, <__main__.County object at 0x00000190904D3350>, <__main__.County object at 0x00000190904D0080>], [<__main__.County object at 0x00000190904D0800>, <__main__.County object at 0x00000190904D0350>, <__main__.County object at 0x00000190939F7740>, <__main__.County object at 0x00000190939F48C0>, <__main__.County object at 0x00000190939F4A70>, <__main__.County object at 0x00000190904D0290>, <__main__.County object at 0x00000190904D0530>, <__main__.County object at 0x000001908F2ABF50>, <__main__.County object at 0x00000190904D0050>, <__main__.County object at 0x00000190904D04A0>, <__main__.County object at 0x00000190939F52B0>, <__main__.County object at 0x00000190904D05F0>], [<__main__.County object at 0x00000190939F4E60>, <__main__.County object at 0x00000190939F77D0>, <__main__.County object at 0x00000190904D26C0>, <__main__.County object at 0x00000190904D32F0>, <__main__.County object at 0x00000190904D0650>, <__main__.County object at 0x00000190904D2F60>, <__main__.County object at 0x00000190904D34A0>, <__main__.County object at 0x00000190904D2210>, <__main__.County object at 0x00000190904D2F90>, <__main__.County object at 0x00000190904D0CE0>, <__main__.County object at 0x00000190904D2030>, <__main__.County object at 0x00000190939F7200>], [<__main__.County object at 0x00000190904D0F20>, <__main__.County object at 0x00000190904D08C0>, <__main__.County object at 0x00000190904D0D70>, <__main__.County object at 0x00000190904D3230>, <__main__.County object at 0x00000190904D00E0>, <__main__.County object at 0x00000190904D04D0>, <__main__.County object at 0x00000190904D0170>, <__main__.County object at 0x00000190904D0DA0>, <__main__.County object at 0x00000190904D1A30>, <__main__.County object at 0x00000190904D2DE0>, <__main__.County object at 0x00000190904D0230>, <__main__.County object at 0x00000190904D0B30>], [<__main__.County object at 0x00000190904D0830>, <__main__.County object at 0x00000190904D2B70>, <__main__.County object at 0x00000190904D05C0>, <__main__.County object at 0x00000190904D02C0>, <__main__.County object at 0x00000190904D0260>, <__main__.County object at 0x00000190904D3200>, <__main__.County object at 0x00000190904D0860>, <__main__.County object at 0x00000190904D0DD0>, <__main__.County object at 0x00000190904D09B0>, <__main__.County object at 0x00000190904D0F50>, <__main__.County object at 0x00000190904D0980>, <__main__.County object at 0x00000190904D0EF0>], [<__main__.County object at 0x00000190904D06E0>, <__main__.County object at 0x00000190904D1760>, <__main__.County object at 0x00000190904D2B10>, <__main__.County object at 0x00000190904D38C0>, <__main__.County object at 0x00000190904D2CF0>, <__main__.County object at 0x00000190904D2480>, <__main__.County object at 0x00000190904D0500>, <__main__.County object at 0x00000190904D0BF0>, <__main__.County object at 0x00000190904D37D0>, <__main__.County object at 0x00000190904D0470>, <__main__.County object at 0x00000190904D0620>, <__main__.County object at 0x00000190904D39E0>], [<__main__.County object at 0x00000190904D2DB0>, <__main__.County object at 0x00000190904D3050>, <__main__.County object at 0x00000190904D28A0>, <__main__.County object at 0x00000190904D3800>, <__main__.County object at 0x00000190904D0950>, <__main__.County object at 0x00000190904D0680>, <__main__.County object at 0x00000190904D06B0>, <__main__.County object at 0x00000190904D08F0>, <__main__.County object at 0x00000190904D3080>, <__main__.County object at 0x00000190904D30E0>, <__main__.County object at 0x00000190904D3320>, <__main__.County object at 0x00000190904D32C0>], [<__main__.County object at 0x00000190904D0560>, <__main__.County object at 0x00000190904D3CB0>, <__main__.County object at 0x00000190904D0110>, <__main__.County object at 0x00000190904D0320>, <__main__.County object at 0x00000190904D0E00>, <__main__.County object at 0x00000190904D0590>, <__main__.County object at 0x00000190904D0D40>, <__main__.County object at 0x00000190904D0AD0>, <__main__.County object at 0x00000190904D3380>, <__main__.County object at 0x00000190904D03B0>, <__main__.County object at 0x00000190904D0C80>, <__main__.County object at 0x000001908F2A9850>], [<__main__.County object at 0x00000190904D0AA0>, <__main__.County object at 0x00000190904D0E30>, <__main__.County object at 0x00000190904D1A00>, <__main__.County object at 0x00000190904D3470>, <__main__.County object at 0x00000190904D0A40>, <__main__.County object at 0x00000190904D2180>, <__main__.County object at 0x00000190904D3500>, <__main__.County object at 0x00000190904D0F80>, <__main__.County object at 0x00000190904D0E60>, <__main__.County object at 0x00000190904D3560>, <__main__.County object at 0x00000190904D0E90>, <__main__.County object at 0x00000190904D3260>], [<__main__.County object at 0x00000190904D0CB0>, <__main__.County object at 0x00000190904D0440>, <__main__.County object at 0x00000190904D0B90>, <__main__.County object at 0x00000190904D0410>, <__main__.County object at 0x00000190904D0A70>, <__main__.County object at 0x00000190904D0C50>, <__main__.County object at 0x00000190904D02F0>, <__main__.County object at 0x00000190904D0140>, <__main__.County object at 0x00000190904D0890>, <__main__.County object at 0x00000190904D30B0>, <__main__.County object at 0x00000190904D0EC0>, <__main__.County object at 0x00000190904D0C20>], [<__main__.County object at 0x00000190939F4AD0>, <__main__.County object at 0x000001908A7BDAC0>, <__main__.County object at 0x00000190904D0200>, <__main__.County object at 0x00000190904D3A40>, <__main__.County object at 0x00000190904D1F70>, <__main__.County object at 0x00000190904D0D10>, <__main__.County object at 0x00000190904D3740>, <__main__.County object at 0x00000190904D2E40>, <__main__.County object at 0x00000190904D03E0>, <__main__.County object at 0x00000190904D0920>, <__main__.County object at 0x00000190904D0770>, <__main__.County object at 0x00000190904D09E0>], [<__main__.County object at 0x00000190939F7800>, <__main__.County object at 0x00000190939F61B0>, <__main__.County object at 0x00000190904D01A0>, <__main__.County object at 0x00000190904D0710>, <__main__.County object at 0x00000190904D2E10>, <__main__.County object at 0x00000190904D3020>, <__main__.County object at 0x00000190904D0BC0>, <__main__.County object at 0x00000190904D0740>, <__main__.County object at 0x00000190904D3C50>, <__main__.County object at 0x00000190904D3710>, <__main__.County object at 0x00000190904D0A10>, <__main__.County object at 0x00000190904D21E0>]], [[<__main__.County object at 0x00000190904D1790>, <__main__.County object at 0x00000190904D1C40>, <__main__.County object at 0x00000190904D1700>, <__main__.County object at 0x00000190904D3F20>, <__main__.County object at 0x00000190904D2330>, <__main__.County object at 0x00000190904D23F0>, <__main__.County object at 0x00000190904D14C0>, <__main__.County object at 0x00000190904D1670>, <__main__.County object at 0x00000190904D1340>, <__main__.County object at 0x00000190904D24E0>, <__main__.County object at 0x00000190904D2A50>, <__main__.County object at 0x00000190904D1A90>], [<__main__.County object at 0x00000190904D27E0>, <__main__.County object at 0x00000190904D17F0>, <__main__.County object at 0x00000190904D13D0>, <__main__.County object at 0x00000190904D2F00>, <__main__.County object at 0x00000190904D23C0>, <__main__.County object at 0x00000190904D1E50>, <__main__.County object at 0x00000190904D2F30>, <__main__.County object at 0x00000190904D28D0>, <__main__.County object at 0x00000190904D1B80>, <__main__.County object at 0x00000190904D1010>, <__main__.County object at 0x00000190904D2BD0>, <__main__.County object at 0x00000190904D1070>], [<__main__.County object at 0x00000190904D2D80>, <__main__.County object at 0x00000190904D1B50>, <__main__.County object at 0x00000190904D18B0>, <__main__.County object at 0x00000190904D3E90>, <__main__.County object at 0x00000190904D2840>, <__main__.County object at 0x00000190904D2780>, <__main__.County object at 0x00000190904D29C0>, <__main__.County object at 0x00000190904D1EB0>, <__main__.County object at 0x00000190904D1EE0>, <__main__.County object at 0x00000190904D24B0>, <__main__.County object at 0x00000190904D14F0>, <__main__.County object at 0x00000190904D2750>], [<__main__.County object at 0x000001909564BF80>, <__main__.County object at 0x00000190904D3530>, <__main__.County object at 0x00000190904D1CD0>, <__main__.County object at 0x00000190904D1CA0>, <__main__.County object at 0x00000190904D33B0>, <__main__.County object at 0x00000190904D1610>, <__main__.County object at 0x00000190904D1460>, <__main__.County object at 0x00000190904D13A0>, <__main__.County object at 0x00000190904D1D90>, <__main__.County object at 0x00000190904D2D20>, <__main__.County object at 0x00000190904D21B0>, <__main__.County object at 0x00000190904D2A80>], [<__main__.County object at 0x00000190904D1DF0>, <__main__.County object at 0x00000190904D2390>, <__main__.County object at 0x00000190904D20F0>, <__main__.County object at 0x00000190904D2C90>, <__main__.County object at 0x00000190904D1160>, <__main__.County object at 0x00000190904D12E0>, <__main__.County object at 0x00000190904D1730>, <__main__.County object at 0x00000190904D1580>, <__main__.County object at 0x00000190904D18E0>, <__main__.County object at 0x00000190904D0FE0>, <__main__.County object at 0x00000190904D19D0>, <__main__.County object at 0x00000190904D1520>], [<__main__.County object at 0x00000190904D2870>, <__main__.County object at 0x00000190904D10D0>, <__main__.County object at 0x00000190904D38F0>, <__main__.County object at 0x00000190904D17C0>, <__main__.County object at 0x00000190904D11F0>, <__main__.County object at 0x00000190904D2270>, <__main__.County object at 0x00000190904D1430>, <__main__.County object at 0x00000190904D1490>, <__main__.County object at 0x00000190904D2930>, <__main__.County object at 0x00000190904D3140>, <__main__.County object at 0x00000190904D1220>, <__main__.County object at 0x00000190904D3FE0>], [<__main__.County object at 0x00000190904D3AD0>, <__main__.County object at 0x00000190904D3D40>, <__main__.County object at 0x00000190904D12B0>, <__main__.County object at 0x00000190904D2540>, <__main__.County object at 0x00000190904D2300>, <__main__.County object at 0x00000190904D2060>, <__main__.County object at 0x00000190904D1F40>, <__main__.County object at 0x00000190904D25A0>, <__main__.County object at 0x00000190904D22A0>, <__main__.County object at 0x00000190904D2690>, <__main__.County object at 0x00000190904D2810>, <__main__.County object at 0x00000190904D2600>], [<__main__.County object at 0x00000190904D2510>, <__main__.County object at 0x00000190904D1BB0>, <__main__.County object at 0x00000190904D22D0>, <__main__.County object at 0x00000190904D1040>, <__main__.County object at 0x00000190904D1E20>, <__main__.County object at 0x00000190904D2660>, <__main__.County object at 0x00000190904D1640>, <__main__.County object at 0x00000190904D2D50>, <__main__.County object at 0x00000190904D1A60>, <__main__.County object at 0x00000190904D31A0>, <__main__.County object at 0x00000190904D1FD0>, <__main__.County object at 0x00000190904D27B0>], [<__main__.County object at 0x00000190904D2C30>, <__main__.County object at 0x00000190904D1190>, <__main__.County object at 0x00000190904D16A0>, <__main__.County object at 0x00000190904D1130>, <__main__.County object at 0x00000190904D1970>, <__main__.County object at 0x00000190904D2150>, <__main__.County object at 0x00000190904D20C0>, <__main__.County object at 0x00000190904D2AE0>, <__main__.County object at 0x00000190904D1F10>, <__main__.County object at 0x00000190904D16D0>, <__main__.County object at 0x00000190904D2990>, <__main__.County object at 0x00000190904D1D30>], [<__main__.County object at 0x00000190904D1100>, <__main__.County object at 0x00000190904D2CC0>, <__main__.County object at 0x00000190904D1C10>, <__main__.County object at 0x00000190904D2EA0>, <__main__.County object at 0x00000190904D3920>, <__main__.County object at 0x00000190904D3110>, <__main__.County object at 0x00000190904D1E80>, <__main__.County object at 0x00000190904D2ED0>, <__main__.County object at 0x00000190904D15E0>, <__main__.County object at 0x00000190904D1940>, <__main__.County object at 0x00000190904D3440>, <__main__.County object at 0x00000190904D2120>], [<__main__.County object at 0x00000190904D2360>, <__main__.County object at 0x00000190904D1880>, <__main__.County object at 0x00000190904D1DC0>, <__main__.County object at 0x00000190904D2FF0>, <__main__.County object at 0x00000190904D1D00>, <__main__.County object at 0x00000190904D1820>, <__main__.County object at 0x00000190904D2570>, <__main__.County object at 0x00000190904D2AB0>, <__main__.County object at 0x00000190904D1310>, <__main__.County object at 0x00000190904D2720>, <__main__.County object at 0x00000190904D2C60>, <__main__.County object at 0x00000190904D1B20>], [<__main__.County object at 0x00000190904D3FB0>, <__main__.County object at 0x00000190904D1400>, <__main__.County object at 0x00000190904D1910>, <__main__.County object at 0x00000190904D29F0>, <__main__.County object at 0x00000190904D2E70>, <__main__.County object at 0x00000190904D25D0>, <__main__.County object at 0x00000190904D2630>, <__main__.County object at 0x00000190904D3170>, <__main__.County object at 0x00000190904D1550>, <__main__.County object at 0x00000190904D1370>, <__main__.County object at 0x00000190904D2960>, <__main__.County object at 0x00000190904D2A20>]]], [[[<__main__.County object at 0x00000190972FAA50>, <__main__.County object at 0x00000190972FA5D0>, <__main__.County object at 0x0000019095A83C80>, <__main__.County object at 0x0000019095A82CF0>, <__main__.County object at 0x0000019095A83530>, <__main__.County object at 0x00000190972FB260>, <__main__.County object at 0x00000190972F9DF0>, <__main__.County object at 0x000001909055C230>, <__main__.County object at 0x0000019095CE0860>, <__main__.County object at 0x000001909055C2F0>, <__main__.County object at 0x0000019095A825A0>, <__main__.County object at 0x0000019095A83E90>, <__main__.County object at 0x00000190972FBB60>], [<__main__.County object at 0x00000190904D3860>, <__main__.County object at 0x00000190904D3620>, <__main__.County object at 0x00000190904D3B90>, <__main__.County object at 0x00000190904D3BF0>, <__main__.County object at 0x00000190904D3C20>, <__main__.County object at 0x00000190904D3770>, <__main__.County object at 0x00000190904D3DD0>, <__main__.County object at 0x00000190904D3D10>, <__main__.County object at 0x00000190904D2FC0>, <__main__.County object at 0x0000019095A80E30>, <__main__.County object at 0x0000019095A824B0>, <__main__.County object at 0x0000019090F0A510>, <__main__.County object at 0x0000019095A82F90>], [<__main__.County object at 0x00000190904D3680>, <__main__.County object at 0x00000190904D36E0>, <__main__.County object at 0x00000190904D1850>, <__main__.County object at 0x00000190904D39B0>, <__main__.County object at 0x00000190904D33E0>, <__main__.County object at 0x00000190904D3B60>, <__main__.County object at 0x00000190904D15B0>, <__main__.County object at 0x00000190904D2240>, <__main__.County object at 0x00000190904D3650>, <__main__.County object at 0x00000190904D3F50>, <__main__.County object at 0x0000019095A83050>, <__main__.County object at 0x0000019090F0A330>, <__main__.County object at 0x0000019095A81D00>], [<__main__.County object at 0x0000019095CE33B0>, <__main__.County object at 0x0000019095CE2930>, <__main__.County object at 0x0000019095CE2F30>, <__main__.County object at 0x0000019095CE2840>, <__main__.County object at 0x0000019095CE2DB0>, <__main__.County object at 0x0000019095CE2C90>, <__main__.County object at 0x0000019095CE1EE0>, <__main__.County object at 0x0000019095CE2D80>, <__main__.County object at 0x0000019095CE3020>, <__main__.County object at 0x0000019095CE2EA0>, <__main__.County object at 0x0000019095CE2AE0>, <__main__.County object at 0x0000019095CE2090>, <__main__.County object at 0x0000019095CE1520>], [<__main__.County object at 0x00000190904D3AA0>, <__main__.County object at 0x00000190904D3B00>, <__main__.County object at 0x0000019095A82660>, <__main__.County object at 0x0000019095A82BD0>, <__main__.County object at 0x00000190904D1AC0>, <__main__.County object at 0x00000190904D3410>, <__main__.County object at 0x0000019095A83EF0>, <__main__.County object at 0x0000019095A81A30>, <__main__.County object at 0x00000190904D11C0>, <__main__.County object at 0x00000190904D3A70>, <__main__.County object at 0x00000190904D10A0>, <__main__.County object at 0x00000190904D1AF0>, <__main__.County object at 0x0000019095A80500>], [<__main__.County object at 0x00000190972FB140>, <__main__.County object at 0x00000190972FBA10>, <__main__.County object at 0x00000190972F8C20>, <__main__.County object at 0x00000190972F81D0>, <__main__.County object at 0x00000190972F9EE0>, <__main__.County object at 0x00000190972F99D0>, <__main__.County object at 0x0000019095CE1400>, <__main__.County object at 0x0000019095CE22D0>, <__main__.County object at 0x0000019095CE0830>, <__main__.County object at 0x0000019095CE0B00>, <__main__.County object at 0x0000019095CE2A80>, <__main__.County object at 0x00000190E860A030>, <__main__.County object at 0x000001909459FC80>], [<__main__.County object at 0x00000190972FBF20>, <__main__.County object at 0x00000190972FB350>, <__main__.County object at 0x000001909055C170>, <__main__.County object at 0x0000019095CE0A70>, <__main__.County object at 0x0000019095CE1250>, <__main__.County object at 0x0000019095CE3680>, <__main__.County object at 0x0000019095CE0D40>, <__main__.County object at 0x0000019095CE0CE0>, <__main__.County object at 0x00000190904D2420>, <__main__.County object at 0x0000019095CE0D70>, <__main__.County object at 0x0000019095CE2D20>, <__main__.County object at 0x00000190972FBE90>, <__main__.County object at 0x0000019095CE1550>], [<__main__.County object at 0x0000019095A82600>, <__main__.County object at 0x00000190904D3830>, <__main__.County object at 0x0000019095A83350>, <__main__.County object at 0x00000190972FAAB0>, <__main__.County object at 0x00000190972F8DA0>, <__main__.County object at 0x000001908FD7A570>, <__main__.County object at 0x000001909055C380>, <__main__.County object at 0x0000019095CE0D10>, <__main__.County object at 0x0000019095CE27B0>, <__main__.County object at 0x0000019095CE0AA0>, <__main__.County object at 0x0000019095CE39B0>, <__main__.County object at 0x0000019095CE21B0>, <__main__.County object at 0x0000019095CE0FE0>], [<__main__.County object at 0x0000019095CE1040>, <__main__.County object at 0x0000019095CE2A50>, <__main__.County object at 0x00000190972F98E0>, <__main__.County object at 0x00000190972F9B80>, <__main__.County object at 0x00000190972F8B90>, <__main__.County object at 0x00000190972F8560>, <__main__.County object at 0x00000190972FB980>, <__main__.County object at 0x0000019095CE2510>, <__main__.County object at 0x0000019095CE35C0>, <__main__.County object at 0x0000019095CE2810>, <__main__.County object at 0x0000019095CE2690>, <__main__.County object at 0x0000019095CE2ED0>, <__main__.County object at 0x0000019095CE0F80>], [<__main__.County object at 0x000001909549CA70>, <__main__.County object at 0x00000190904D19A0>, <__main__.County object at 0x000001909842C3E0>, <__main__.County object at 0x00000190904D3E00>, <__main__.County object at 0x0000019095A83FB0>, <__main__.County object at 0x0000019095A83E30>, <__main__.County object at 0x0000019095A810A0>, <__main__.County object at 0x0000019095CE2B10>, <__main__.County object at 0x0000019095CE28A0>, <__main__.County object at 0x0000019095CE2B40>, <__main__.County object at 0x0000019095CE2000>, <__main__.County object at 0x0000019095CE25A0>, <__main__.County object at 0x0000019095CE2E40>], [<__main__.County object at 0x00000190904D2450>, <__main__.County object at 0x00000190904D36B0>, <__main__.County object at 0x0000019095CE2BD0>, <__main__.County object at 0x00000190904D2000>, <__main__.County object at 0x00000190972FBCB0>, <__main__.County object at 0x00000190972FA510>, <__main__.County object at 0x00000190972FAF90>, <__main__.County object at 0x00000190972F8AA0>, <__main__.County object at 0x00000190972FB950>, <__main__.County object at 0x00000190972F8DD0>, <__main__.County object at 0x000001909459C2C0>, <__main__.County object at 0x0000019095CE0F50>, <__main__.County object at 0x000001909055C0E0>], [<__main__.County object at 0x00000190972F8290>, <__main__.County object at 0x0000019090F0A600>, <__main__.County object at 0x000001908C1D8260>, <__main__.County object at 0x0000019095A81DC0>, <__main__.County object at 0x0000019095CE0AD0>, <__main__.County object at 0x0000019095CE0DA0>, <__main__.County object at 0x0000019095CE0320>, <__main__.County object at 0x0000019095CE1DC0>, <__main__.County object at 0x0000019095CE3260>, <__main__.County object at 0x0000019095CE3440>, <__main__.County object at 0x0000019095CE2870>, <__main__.County object at 0x0000019095CE3110>, <__main__.County object at 0x0000019095CE3080>], [<__main__.County object at 0x00000190904D1FA0>, <__main__.County object at 0x0000019095CE3350>, <__main__.County object at 0x0000019095CE3B00>, <__main__.County object at 0x0000019095CE30B0>, <__main__.County object at 0x0000019095CE31A0>, <__main__.County object at 0x0000019095CE2D50>, <__main__.County object at 0x0000019095CE15B0>, <__main__.County object at 0x0000019095CE2450>, <__main__.County object at 0x0000019095CE2F00>, <__main__.County object at 0x0000019095CE2540>, <__main__.County object at 0x0000019095CE3140>, <__main__.County object at 0x0000019095CE2AB0>, <__main__.County object at 0x00000190972F8980>]], [[<__main__.County object at 0x00000190904D26F0>, <__main__.County object at 0x00000190904D35C0>, <__main__.County object at 0x0000019095CE23C0>, <__main__.County object at 0x0000019095CE33E0>, <__main__.County object at 0x000001908FD7BE60>, <__main__.County object at 0x0000019095CE0B30>, <__main__.County object at 0x0000019095CE26F0>, <__main__.County object at 0x0000019095CE2030>, <__main__.County object at 0x0000019095CE2360>, <__main__.County object at 0x0000019095CE11F0>, <__main__.County object at 0x0000019095CE3590>, <__main__.County object at 0x0000019095CE0DD0>, <__main__.County object at 0x0000019095CE3470>], [<__main__.County object at 0x0000019095CE12B0>, <__main__.County object at 0x0000019095CE09B0>, <__main__.County object at 0x0000019095CE06B0>, <__main__.County object at 0x0000019095CE2FF0>, <__main__.County object at 0x0000019095CE0260>, <__main__.County object at 0x0000019095CE1130>, <__main__.County object at 0x0000019095CE0C80>, <__main__.County object at 0x0000019095CE0680>, <__main__.County object at 0x0000019095CE0E60>, <__main__.County object at 0x0000019095CE0980>, <__main__.County object at 0x0000019095CE3500>, <__main__.County object at 0x0000019095CE0740>, <__main__.County object at 0x0000019095CE0BC0>], [<__main__.County object at 0x0000019095CE16D0>, <__main__.County object at 0x0000019095CE2180>, <__main__.County object at 0x0000019095CE3A10>, <__main__.County object at 0x0000019095CE1340>, <__main__.County object at 0x0000019095CE19D0>, <__main__.County object at 0x0000019095CE00E0>, <__main__.County object at 0x0000019095CE3740>, <__main__.County object at 0x0000019095CE1D30>, <__main__.County object at 0x0000019095CE20F0>, <__main__.County object at 0x0000019095CE19A0>, <__main__.County object at 0x0000019095CE3DD0>, <__main__.County object at 0x0000019095CE0890>, <__main__.County object at 0x0000019095CE0380>], [<__main__.County object at 0x0000019095CE2C60>, <__main__.County object at 0x0000019095CE1F10>, <__main__.County object at 0x0000019095CE0140>, <__main__.County object at 0x0000019095CE2F90>, <__main__.County object at 0x0000019095CE07A0>, <__main__.County object at 0x0000019095CE0470>, <__main__.County object at 0x0000019095CE0EC0>, <__main__.County object at 0x0000019095CE0E90>, <__main__.County object at 0x0000019095CE0F20>, <__main__.County object at 0x0000019095CE0530>, <__main__.County object at 0x0000019095CE0290>, <__main__.County object at 0x0000019095CE02C0>, <__main__.County object at 0x0000019095CE09E0>], [<__main__.County object at 0x0000019095CE3170>, <__main__.County object at 0x0000019095CE26C0>, <__main__.County object at 0x0000019095CE1160>, <__main__.County object at 0x0000019095CE32C0>, <__main__.County object at 0x0000019095CE0E00>, <__main__.County object at 0x0000019095CE11C0>, <__main__.County object at 0x0000019095CE1C70>, <__main__.County object at 0x0000019095CE3320>, <__main__.County object at 0x0000019095CE34A0>, <__main__.County object at 0x0000019095CE0110>, <__main__.County object at 0x0000019095CE0200>, <__main__.County object at 0x0000019095CE3230>, <__main__.County object at 0x0000019095CE31D0>], [<__main__.County object at 0x0000019095CE3FE0>, <__main__.County object at 0x0000019095CE3830>, <__main__.County object at 0x0000019095CE3E00>, <__main__.County object at 0x0000019095CE0A40>, <__main__.County object at 0x0000019095CE04D0>, <__main__.County object at 0x0000019095CE3D10>, <__main__.County object at 0x0000019095CE14C0>, <__main__.County object at 0x0000019095CE39E0>, <__main__.County object at 0x0000019095CE2C00>, <__main__.County object at 0x0000019095CE0800>, <__main__.County object at 0x0000019095CE1100>, <__main__.County object at 0x0000019095CE3F80>, <__main__.County object at 0x0000019095CE0C20>], [<__main__.County object at 0x0000019095CE3620>, <__main__.County object at 0x0000019095CE2FC0>, <__main__.County object at 0x0000019095CE0770>, <__main__.County object at 0x0000019095CE2960>, <__main__.County object at 0x0000019095CE0920>, <__main__.County object at 0x0000019095CE0BF0>, <__main__.County object at 0x0000019095CE0650>, <__main__.County object at 0x0000019095CE2420>, <__main__.County object at 0x0000019095CE0710>, <__main__.County object at 0x0000019095CE01D0>, <__main__.County object at 0x0000019095CE3380>, <__main__.County object at 0x0000019095CE02F0>, <__main__.County object at 0x0000019095CE3FB0>], [<__main__.County object at 0x0000019095CE2DE0>, <__main__.County object at 0x0000019095CE2F60>, <__main__.County object at 0x0000019095CE3290>, <__main__.County object at 0x0000019095CE3050>, <__main__.County object at 0x0000019095CE2900>, <__main__.County object at 0x0000019095CE0A10>, <__main__.County object at 0x0000019095CE0080>, <__main__.County object at 0x0000019095CE0410>, <__main__.County object at 0x0000019095CE06E0>, <__main__.County object at 0x0000019095CE2150>, <__main__.County object at 0x0000019095CE3C80>, <__main__.County object at 0x0000019095CE1DF0>, <__main__.County object at 0x0000019095CE3770>], [<__main__.County object at 0x0000019095CE2B70>, <__main__.County object at 0x0000019095CE03E0>, <__main__.County object at 0x0000019095CE0B90>, <__main__.County object at 0x0000019095CE2630>, <__main__.County object at 0x0000019095CE04A0>, <__main__.County object at 0x0000019095CE0CB0>, <__main__.County object at 0x0000019095CE0B60>, <__main__.County object at 0x0000019095CE07D0>, <__main__.County object at 0x0000019095CE0560>, <__main__.County object at 0x0000019095CE0350>, <__main__.County object at 0x0000019095CE36B0>, <__main__.County object at 0x0000019095CE3530>, <__main__.County object at 0x0000019095CE0230>], [<__main__.County object at 0x0000019095CE0440>, <__main__.County object at 0x0000019095CE3410>, <__main__.County object at 0x0000019095CE05F0>, <__main__.County object at 0x0000019095CE1F40>, <__main__.County object at 0x0000019095CE2390>, <__main__.County object at 0x0000019095CE1490>, <__main__.County object at 0x0000019095CE1B80>, <__main__.County object at 0x0000019095CE1E50>, <__main__.County object at 0x0000019095CE1BB0>, <__main__.County object at 0x0000019095CE1E20>, <__main__.County object at 0x0000019095CE1640>, <__main__.County object at 0x0000019095CE3EF0>, <__main__.County object at 0x0000019095CE3DA0>], [<__main__.County object at 0x000001908FD7BB30>, <__main__.County object at 0x0000019095CE3200>, <__main__.County object at 0x0000019095CE08F0>, <__main__.County object at 0x0000019095CE25D0>, <__main__.County object at 0x0000019095CE2330>, <__main__.County object at 0x0000019095CE00B0>, <__main__.County object at 0x0000019095CE01A0>, <__main__.County object at 0x0000019095CE1730>, <__main__.County object at 0x0000019095CE03B0>, <__main__.County object at 0x0000019095CE30E0>, <__main__.County object at 0x0000019095CE32F0>, <__main__.County object at 0x0000019095CE0EF0>, <__main__.County object at 0x0000019095CE2C30>], [<__main__.County object at 0x0000019095CE35F0>, <__main__.County object at 0x0000019095CE1940>, <__main__.County object at 0x0000019095CE1A00>, <__main__.County object at 0x0000019095CE3C50>, <__main__.County object at 0x0000019095CE1B20>, <__main__.County object at 0x0000019095CE18E0>, <__main__.County object at 0x0000019095CE0050>, <__main__.County object at 0x0000019095CE3650>, <__main__.County object at 0x0000019095CE0500>, <__main__.County object at 0x0000019095CE24E0>, <__main__.County object at 0x0000019095CE0E30>, <__main__.County object at 0x0000019095CE34D0>, <__main__.County object at 0x0000019095CE2240>], [<__main__.County object at 0x0000019095CE2BA0>, <__main__.County object at 0x0000019095CE3560>, <__main__.County object at 0x0000019095CE2E10>, <__main__.County object at 0x0000019095CE1190>, <__main__.County object at 0x0000019095CE2660>, <__main__.County object at 0x0000019095CE0590>, <__main__.County object at 0x0000019095CE23F0>, <__main__.County object at 0x0000019095CE0620>, <__main__.County object at 0x0000019095CE2270>, <__main__.County object at 0x0000019095CE0950>, <__main__.County object at 0x0000019095CE0170>, <__main__.County object at 0x0000019095CE0C50>, <__main__.County object at 0x0000019095CE08C0>]], [[<__main__.County object at 0x0000019095CE1670>, <__main__.County object at 0x0000019095CE3D40>, <__main__.County object at 0x0000019095CE1910>, <__main__.County object at 0x0000019095CE1C40>, <__main__.County object at 0x0000019095CE3800>, <__main__.County object at 0x00000190911078F0>, <__main__.County object at 0x0000019095CE2E70>, <__main__.County object at 0x0000019095CE1370>, <__main__.County object at 0x0000019095CE3AA0>, <__main__.County object at 0x0000019095CE1BE0>, <__main__.County object at 0x0000019095CE13A0>, <__main__.County object at 0x0000019095CE3710>, <__main__.County object at 0x0000019095CE16A0>], [<__main__.County object at 0x0000019095CE1A30>, <__main__.County object at 0x0000019095CE10D0>, <__main__.County object at 0x0000019095CE3BF0>, <__main__.County object at 0x0000019095CE1EB0>, <__main__.County object at 0x0000019095CE1D60>, <__main__.County object at 0x0000019095CE12E0>, <__main__.County object at 0x0000019095CE1430>, <__main__.County object at 0x0000019095CE14F0>, <__main__.County object at 0x0000019095CE3A70>, <__main__.County object at 0x0000019095CE37D0>, <__main__.County object at 0x0000019095CE1820>, <__main__.County object at 0x0000019095CE1F70>, <__main__.County object at 0x0000019095CE3950>], [<__main__.County object at 0x0000019095ED5BE0>, <__main__.County object at 0x0000019095ED53A0>, <__main__.County object at 0x0000019095ED5C40>, <__main__.County object at 0x0000019095ED5A90>, <__main__.County object at 0x0000019095F07AD0>, <__main__.County object at 0x0000019095F07B90>, <__main__.County object at 0x0000019095F07AA0>, <__main__.County object at 0x0000019095F07C80>, <__main__.County object at 0x0000019095F07710>, <__main__.County object at 0x0000019095F07F20>, <__main__.County object at 0x0000019095F07B60>, <__main__.County object at 0x0000019095F04DA0>, <__main__.County object at 0x0000019095CE1010>], [<__main__.County object at 0x0000019095CE1580>, <__main__.County object at 0x0000019095CE3E30>, <__main__.County object at 0x0000019095CE1280>, <__main__.County object at 0x0000019095CE37A0>, <__main__.County object at 0x0000019095CE1970>, <__main__.County object at 0x0000019095CE1220>, <__main__.County object at 0x0000019095CE3E90>, <__main__.County object at 0x0000019095CE3D70>, <__main__.County object at 0x0000019095CE1460>, <__main__.County object at 0x0000019095CE1D90>, <__main__.County object at 0x0000019095CE1AC0>, <__main__.County object at 0x0000019095CE10A0>, <__main__.County object at 0x0000019095CE3860>], [<__main__.County object at 0x0000019095CE1310>, <__main__.County object at 0x0000019095CE2480>, <__main__.County object at 0x0000019095ED55E0>, <__main__.County object at 0x0000019095CE20C0>, <__main__.County object at 0x0000019095CE1A90>, <__main__.County object at 0x0000019095CE17F0>, <__main__.County object at 0x0000019095CE21E0>, <__main__.County object at 0x0000019095CE1FD0>, <__main__.County object at 0x0000019095ED4FE0>, <__main__.County object at 0x0000019095ED4E60>, <__main__.County object at 0x0000019095ED55B0>, <__main__.County object at 0x0000019095ED4CE0>, <__main__.County object at 0x0000019095ED5640>], [<__main__.County object at 0x0000019095F07E30>, <__main__.County object at 0x0000019095F07950>, <__main__.County object at 0x0000019095F07D10>, <__main__.County object at 0x0000019095F077D0>, <__main__.County object at 0x0000019095F07DD0>, <__main__.County object at 0x0000019095F07BF0>, <__main__.County object at 0x0000019095F07FE0>, <__main__.County object at 0x0000019095F07DA0>, <__main__.County object at 0x0000019095F078F0>, <__main__.County object at 0x0000019095F07A40>, <__main__.County object at 0x0000019095F077A0>, <__main__.County object at 0x0000019095F07920>, <__main__.County object at 0x0000019095F079E0>], [<__main__.County object at 0x0000019095CE3A40>, <__main__.County object at 0x0000019095CE3CB0>, <__main__.County object at 0x0000019095CE3920>, <__main__.County object at 0x0000019095CE38F0>, <__main__.County object at 0x0000019095CE3BC0>, <__main__.County object at 0x0000019095CE1850>, <__main__.County object at 0x0000019095CE38C0>, <__main__.County object at 0x0000019095CE17C0>, <__main__.County object at 0x0000019095CE1CA0>, <__main__.County object at 0x0000019095CE1B50>, <__main__.County object at 0x0000019095CE3890>, <__main__.County object at 0x0000019095CE2720>, <__main__.County object at 0x0000019095ED5E20>], [<__main__.County object at 0x0000019095ED4140>, <__main__.County object at 0x0000019095ED4080>, <__main__.County object at 0x0000019095ED5430>, <__main__.County object at 0x0000019095ED72C0>, <__main__.County object at 0x0000019095F04A40>, <__main__.County object at 0x0000019095F04AA0>, <__main__.County object at 0x0000019095ED4290>, <__main__.County object at 0x0000019095ED5DF0>, <__main__.County object at 0x0000019095F07A10>, <__main__.County object at 0x0000019095ED4830>, <__main__.County object at 0x0000019095ED4560>, <__main__.County object at 0x0000019095ED42F0>, <__main__.County object at 0x0000019095F079B0>], [<__main__.County object at 0x0000019095CE1760>, <__main__.County object at 0x0000019095CE36E0>, <__main__.County object at 0x0000019095CE1790>, <__main__.County object at 0x0000019095F07D70>, <__main__.County object at 0x0000019095F07F80>, <__main__.County object at 0x0000019095F07740>, <__main__.County object at 0x0000019095F04CE0>, <__main__.County object at 0x0000019095F06450>, <__main__.County object at 0x0000019095F07A70>, <__main__.County object at 0x0000019095ED5550>, <__main__.County object at 0x0000019095ED4890>, <__main__.County object at 0x0000019095F07C20>, <__main__.County object at 0x0000019095F07800>], [<__main__.County object at 0x0000019095CE18B0>, <__main__.County object at 0x0000019095CE2210>, <__main__.County object at 0x0000019095F07D40>, <__main__.County object at 0x0000019095F07F50>, <__main__.County object at 0x0000019095F07CE0>, <__main__.County object at 0x0000019095F06300>, <__main__.County object at 0x0000019095F07890>, <__main__.County object at 0x0000019095F07E90>, <__main__.County object at 0x0000019095F07EC0>, <__main__.County object at 0x0000019095F07E60>, <__main__.County object at 0x0000019095F07860>, <__main__.County object at 0x0000019095F07EF0>, <__main__.County object at 0x0000019095F07CB0>], [<__main__.County object at 0x00000190904D35F0>, <__main__.County object at 0x000001909143BF50>, <__main__.County object at 0x0000019095CE1070>, <__main__.County object at 0x0000019095ED4DA0>, <__main__.County object at 0x0000019095CE1E80>, <__main__.County object at 0x0000019095CE1880>, <__main__.County object at 0x0000019095CE1C10>, <__main__.County object at 0x0000019095CE1D00>, <__main__.County object at 0x0000019095ED4FB0>, <__main__.County object at 0x0000019095CE2750>, <__main__.County object at 0x0000019095ED44D0>, <__main__.County object at 0x0000019095ED4500>, <__main__.County object at 0x0000019095CE24B0>], [<__main__.County object at 0x0000019095F078C0>, <__main__.County object at 0x0000019095ED4E90>, <__main__.County object at 0x0000019095ED5310>, <__main__.County object at 0x0000019095CE15E0>, <__main__.County object at 0x0000019095ED4F50>, <__main__.County object at 0x0000019095CE13D0>, <__main__.County object at 0x0000019095CE1AF0>, <__main__.County object at 0x0000019095ED4530>, <__main__.County object at 0x0000019095CE1700>, <__main__.County object at 0x0000019095ED4680>, <__main__.County object at 0x0000019095CE29C0>, <__main__.County object at 0x0000019095CE3C20>, <__main__.County object at 0x0000019095F07770>], [<__main__.County object at 0x0000019095CE1A60>, <__main__.County object at 0x0000019095CE1CD0>, <__main__.County object at 0x0000019095CE2120>, <__main__.County object at 0x0000019095F07BC0>, <__main__.County object at 0x0000019095F07980>, <__main__.County object at 0x0000019095F07E00>, <__main__.County object at 0x0000019095F07FB0>, <__main__.County object at 0x0000019095F07C50>, <__main__.County object at 0x0000019095F06480>, <__main__.County object at 0x0000019095ED5A00>, <__main__.County object at 0x0000019095F063F0>, <__main__.County object at 0x0000019095F07830>, <__main__.County object at 0x0000019095ED4170>]], [[<__main__.County object at 0x0000019092C5C8C0>, <__main__.County object at 0x0000019093920B00>, <__main__.County object at 0x0000019093923170>, <__main__.County object at 0x00000190939233B0>, <__main__.County object at 0x0000019092C5CFE0>, <__main__.County object at 0x0000019092C5C260>, <__main__.County object at 0x0000019092C5C3B0>, <__main__.County object at 0x0000019092C5FBC0>, <__main__.County object at 0x0000019092C5D280>, <__main__.County object at 0x0000019092C5D4C0>, <__main__.County object at 0x0000019092C5D070>, <__main__.County object at 0x0000019092C5C200>, <__main__.County object at 0x0000019092C5D190>], [<__main__.County object at 0x0000019092C5C680>, <__main__.County object at 0x0000019092C5C5F0>, <__main__.County object at 0x0000019092C5C320>, <__main__.County object at 0x0000019092C5F950>, <__main__.County object at 0x0000019092C5D250>, <__main__.County object at 0x000001908C1D9FA0>, <__main__.County object at 0x0000019092C5CDA0>, <__main__.County object at 0x0000019092C5CC80>, <__main__.County object at 0x0000019092C5D340>, <__main__.County object at 0x0000019092C5C110>, <__main__.County object at 0x0000019092C5C920>, <__main__.County object at 0x0000019092C5CB00>, <__main__.County object at 0x0000019092C5D1C0>], [<__main__.County object at 0x0000019092C5CAD0>, <__main__.County object at 0x0000019092C5CB90>, <__main__.County object at 0x0000019092C5CCB0>, <__main__.County object at 0x0000019092C5F9E0>, <__main__.County object at 0x0000019092C5D0A0>, <__main__.County object at 0x0000019092C5D130>, <__main__.County object at 0x0000019092C5CD40>, <__main__.County object at 0x0000019092C5DF10>, <__main__.County object at 0x0000019092C5F4D0>, <__main__.County object at 0x0000019092C5CD10>, <__main__.County object at 0x0000019092C5FC20>, <__main__.County object at 0x0000019092C5CDD0>, <__main__.County object at 0x0000019092C5C950>], [<__main__.County object at 0x0000019092C5D160>, <__main__.County object at 0x0000019092C5C380>, <__main__.County object at 0x0000019092C5C6E0>, <__main__.County object at 0x0000019092C5C890>, <__main__.County object at 0x0000019092C5D2E0>, <__main__.County object at 0x0000019093923890>, <__main__.County object at 0x00000190939238C0>, <__main__.County object at 0x00000190939217F0>, <__main__.County object at 0x000001908FE12CC0>, <__main__.County object at 0x0000019092C5C410>, <__main__.County object at 0x0000019092C5CFB0>, <__main__.County object at 0x0000019092C5C770>, <__main__.County object at 0x0000019092C5C710>], [<__main__.County object at 0x0000019092C5CC20>, <__main__.County object at 0x0000019092C5CE00>, <__main__.County object at 0x0000019092C5D100>, <__main__.County object at 0x0000019092C5D3A0>, <__main__.County object at 0x0000019092C5F770>, <__main__.County object at 0x0000019092C5F2C0>, <__main__.County object at 0x0000019092C5C7A0>, <__main__.County object at 0x0000019092C5CBF0>, <__main__.County object at 0x0000019092C5D2B0>, <__main__.County object at 0x0000019092C5D4F0>, <__main__.County object at 0x0000019092C5C0B0>, <__main__.County object at 0x0000019092C5F170>, <__main__.County object at 0x0000019092C5D220>], [<__main__.County object at 0x0000019092C5D520>, <__main__.County object at 0x0000019092C5DDC0>, <__main__.County object at 0x0000019092C5DCA0>, <__main__.County object at 0x0000019092C5CF50>, <__main__.County object at 0x0000019092C5C620>, <__main__.County object at 0x0000019092C5D5E0>, <__main__.County object at 0x0000019092C5F260>, <__main__.County object at 0x0000019092C5D6D0>, <__main__.County object at 0x0000019092C5EAB0>, <__main__.County object at 0x0000019092C5E060>, <__main__.County object at 0x0000019092C5D9D0>, <__main__.County object at 0x0000019092C5E4B0>, <__main__.County object at 0x0000019092C5E5A0>], [<__main__.County object at 0x0000019092C5D3D0>, <__main__.County object at 0x0000019092C5CBC0>, <__main__.County object at 0x0000019092C5D1F0>, <__main__.County object at 0x0000019092C5C9B0>, <__main__.County object at 0x0000019092C5E150>, <__main__.County object at 0x0000019092C5D460>, <__main__.County object at 0x0000019092C5D400>, <__main__.County object at 0x0000019092C5FE90>, <__main__.County object at 0x0000019092C5FC50>, <__main__.County object at 0x0000019092C5D490>, <__main__.County object at 0x0000019092C5F140>, <__main__.County object at 0x0000019092C5F470>, <__main__.County object at 0x0000019092C5F080>], [<__main__.County object at 0x0000019092C5DE80>, <__main__.County object at 0x0000019092C5F4A0>, <__main__.County object at 0x0000019092C5E330>, <__main__.County object at 0x0000019092C5E3F0>, <__main__.County object at 0x0000019092C5D550>, <__main__.County object at 0x0000019092C5E210>, <__main__.County object at 0x0000019092C5D790>, <__main__.County object at 0x0000019092C5DD00>, <__main__.County object at 0x0000019092C5DBB0>, <__main__.County object at 0x0000019092C5D730>, <__main__.County object at 0x0000019092C5DEE0>, <__main__.County object at 0x0000019092C5D760>, <__main__.County object at 0x0000019092C5DA00>], [<__main__.County object at 0x0000019092C5E9C0>, <__main__.County object at 0x0000019092C5DDF0>, <__main__.County object at 0x0000019092C5DB80>, <__main__.County object at 0x0000019092C5E120>, <__main__.County object at 0x0000019092C5ECC0>, <__main__.County object at 0x0000019092C5D010>, <__main__.County object at 0x0000019092C5DE50>, <__main__.County object at 0x0000019092C5D580>, <__main__.County object at 0x0000019092C5E000>, <__main__.County object at 0x0000019092C5DFA0>, <__main__.County object at 0x0000019092C5D5B0>, <__main__.County object at 0x0000019092C5D700>, <__main__.County object at 0x0000019092C5D910>], [<__main__.County object at 0x0000019092C5C4A0>, <__main__.County object at 0x0000019092C5CCE0>, <__main__.County object at 0x0000019092C5DA60>, <__main__.County object at 0x0000019092C5FEC0>, <__main__.County object at 0x0000019092C5C860>, <__main__.County object at 0x0000019092C5FE30>, <__main__.County object at 0x0000019092C5F200>, <__main__.County object at 0x0000019092C5CB30>, <__main__.County object at 0x0000019092C5E030>, <__main__.County object at 0x0000019092C5C6B0>, <__main__.County object at 0x0000019092C5CB60>, <__main__.County object at 0x0000019092C5CD70>, <__main__.County object at 0x0000019092C5DA30>], [<__main__.County object at 0x0000019092C5F7A0>, <__main__.County object at 0x0000019092C5D430>, <__main__.County object at 0x0000019092C5C5C0>, <__main__.County object at 0x0000019092C5F380>, <__main__.County object at 0x0000019092C5D8E0>, <__main__.County object at 0x0000019092C5E0C0>, <__main__.County object at 0x0000019092C5DC10>, <__main__.County object at 0x0000019092C5E2A0>, <__main__.County object at 0x0000019092C5D610>, <__main__.County object at 0x0000019092C5EF00>, <__main__.County object at 0x0000019092C5DB50>, <__main__.County object at 0x0000019092C5E780>, <__main__.County object at 0x0000019092C5EC30>], [<__main__.County object at 0x00000190939223C0>, <__main__.County object at 0x0000019093923350>, <__main__.County object at 0x0000019093923380>, <__main__.County object at 0x0000019092C5D040>, <__main__.County object at 0x0000019092C5F590>, <__main__.County object at 0x0000019092C5C830>, <__main__.County object at 0x0000019092C5C050>, <__main__.County object at 0x0000019092C5C0E0>, <__main__.County object at 0x0000019092C5CEF0>, <__main__.County object at 0x0000019092C5C650>, <__main__.County object at 0x0000019092C5CF80>, <__main__.County object at 0x0000019092C5CE30>, <__main__.County object at 0x0000019092C5C8F0>], [<__main__.County object at 0x0000019092C5E240>, <__main__.County object at 0x0000019092C5DA90>, <__main__.County object at 0x0000019092C5E6F0>, <__main__.County object at 0x0000019092C5DF40>, <__main__.County object at 0x0000019092C5DD90>, <__main__.County object at 0x0000019092C5E750>, <__main__.County object at 0x0000019092C5E660>, <__main__.County object at 0x0000019092C5E570>, <__main__.County object at 0x0000019092C5D820>, <__main__.County object at 0x0000019092C5F980>, <__main__.County object at 0x0000019092C5FE60>, <__main__.County object at 0x0000019092C5CAA0>, <__main__.County object at 0x0000019092C5DC40>]], [[<__main__.County object at 0x0000019092C5E0F0>, <__main__.County object at 0x0000019092C5ECF0>, <__main__.County object at 0x0000019092C5D880>, <__main__.County object at 0x0000019092C5E1E0>, <__main__.County object at 0x0000019092C5EED0>, <__main__.County object at 0x0000019092C5D670>, <__main__.County object at 0x0000019092C5D970>, <__main__.County object at 0x0000019092C5E960>, <__main__.County object at 0x0000019092C5DD60>, <__main__.County object at 0x0000019092C5F2F0>, <__main__.County object at 0x0000019092C5EAE0>, <__main__.County object at 0x0000019092C5D7C0>, <__main__.County object at 0x000001908F2ABF20>], [<__main__.County object at 0x0000019092C5EB10>, <__main__.County object at 0x0000019092C5D640>, <__main__.County object at 0x0000019092C5EF60>, <__main__.County object at 0x0000019092C5E930>, <__main__.County object at 0x0000019092C5FAD0>, <__main__.County object at 0x0000019092C5F5F0>, <__main__.County object at 0x0000019092C5D0D0>, <__main__.County object at 0x0000019092C5E5D0>, <__main__.County object at 0x0000019092C5DF70>, <__main__.County object at 0x0000019092C5EB40>, <__main__.County object at 0x0000019092C5EFF0>, <__main__.County object at 0x0000019092C5EFC0>, <__main__.County object at 0x0000019092C5C2C0>], [<__main__.County object at 0x0000019092C5E900>, <__main__.County object at 0x0000019092C5EDE0>, <__main__.County object at 0x0000019092C5EBA0>, <__main__.County object at 0x0000019092C5DB20>, <__main__.County object at 0x0000019092C5E7E0>, <__main__.County object at 0x0000019092C5F710>, <__main__.County object at 0x0000019092C5CA70>, <__main__.County object at 0x0000019092C5C2F0>, <__main__.County object at 0x0000019092C5FE00>, <__main__.County object at 0x0000019092C5CA10>, <__main__.County object at 0x0000019092C5ED20>, <__main__.County object at 0x0000019092C5DEB0>, <__main__.County object at 0x0000019092C5E690>], [<__main__.County object at 0x00000190939217C0>, <__main__.County object at 0x0000019092C5CF20>, <__main__.County object at 0x0000019092C5EA80>, <__main__.County object at 0x000001908EC86630>, <__main__.County object at 0x0000019092C5E300>, <__main__.County object at 0x0000019092C5EA20>, <__main__.County object at 0x0000019092C5E840>, <__main__.County object at 0x0000019092C5E180>, <__main__.County object at 0x0000019092C5E480>, <__main__.County object at 0x000001908F2ABA70>, <__main__.County object at 0x0000019092C5EEA0>, <__main__.County object at 0x0000019092C5E420>, <__main__.County object at 0x0000019092C5E720>], [<__main__.County object at 0x0000019092C5E810>, <__main__.County object at 0x0000019092C5E8A0>, <__main__.County object at 0x0000019092C5D7F0>, <__main__.County object at 0x0000019092C5EE70>, <__main__.County object at 0x0000019092C5EBD0>, <__main__.County object at 0x0000019092C5E7B0>, <__main__.County object at 0x0000019092C5DE20>, <__main__.County object at 0x0000019092C5F830>, <__main__.County object at 0x0000019092C5F8F0>, <__main__.County object at 0x0000019092C5F920>, <__main__.County object at 0x0000019092C5F050>, <__main__.County object at 0x0000019092C5F890>, <__main__.County object at 0x0000019092C5E4E0>], [<__main__.County object at 0x0000019092C5E990>, <__main__.County object at 0x0000019092C5E9F0>, <__main__.County object at 0x0000019092C5E600>, <__main__.County object at 0x0000019092C5F650>, <__main__.County object at 0x0000019092C5ED80>, <__main__.County object at 0x0000019092C5EB70>, <__main__.County object at 0x0000019092C5E510>, <__main__.County object at 0x0000019092C5ED50>, <__main__.County object at 0x0000019092C5FD10>, <__main__.County object at 0x0000019092C5EDB0>, <__main__.County object at 0x0000019092C5F560>, <__main__.County object at 0x0000019092C5FCB0>, <__main__.County object at 0x0000019092C5F860>], [<__main__.County object at 0x0000019092C5D6A0>, <__main__.County object at 0x0000019092C5EA50>, <__main__.County object at 0x0000019092C5FB00>, <__main__.County object at 0x0000019092C5DFD0>, <__main__.County object at 0x0000019092C5F8C0>, <__main__.County object at 0x0000019092C5FF20>, <__main__.County object at 0x0000019092C5D310>, <__main__.County object at 0x0000019092C5C4D0>, <__main__.County object at 0x0000019092C5CE60>, <__main__.County object at 0x0000019092C5C080>, <__main__.County object at 0x0000019092C5D370>, <__main__.County object at 0x0000019092C5C7D0>, <__main__.County object at 0x0000019092C5F500>], [<__main__.County object at 0x0000019092C5DAC0>, <__main__.County object at 0x0000019092C5F020>, <__main__.County object at 0x0000019092C5FFE0>, <__main__.County object at 0x0000019092C5C1A0>, <__main__.County object at 0x0000019092C5FC80>, <__main__.County object at 0x0000019092C5C470>, <__main__.County object at 0x0000019092C5CC50>, <__main__.County object at 0x0000019092C5F0B0>, <__main__.County object at 0x0000019092C5C3E0>, <__main__.County object at 0x0000019092C5FBF0>, <__main__.County object at 0x0000019092C5F1A0>, <__main__.County object at 0x0000019092C5F3E0>, <__main__.County object at 0x0000019092C5C230>], [<__main__.County object at 0x0000019092C5E540>, <__main__.County object at 0x0000019092C5EC60>, <__main__.County object at 0x0000019092C5F6B0>, <__main__.County object at 0x0000019092C5F680>, <__main__.County object at 0x0000019092C5E090>, <__main__.County object at 0x0000019092C5EC00>, <__main__.County object at 0x0000019092C5E1B0>, <__main__.County object at 0x0000019092C5E6C0>, <__main__.County object at 0x0000019092C5EC90>, <__main__.County object at 0x0000019092C5FCE0>, <__main__.County object at 0x0000019092C5EE40>, <__main__.County object at 0x0000019092C5F7D0>, <__main__.County object at 0x0000019092C5FF50>], [<__main__.County object at 0x0000019092C5DD30>, <__main__.County object at 0x0000019092C5FAA0>, <__main__.County object at 0x0000019092C5F9B0>, <__main__.County object at 0x0000019092C5D940>, <__main__.County object at 0x0000019092C5C140>, <__main__.County object at 0x0000019092C5CEC0>, <__main__.County object at 0x0000019092C5C980>, <__main__.County object at 0x0000019092C5C530>, <__main__.County object at 0x0000019092C5FDA0>, <__main__.County object at 0x0000019092C5FDD0>, <__main__.County object at 0x0000019092C5F5C0>, <__main__.County object at 0x0000019092C5F0E0>, <__main__.County object at 0x0000019092C5FF80>], [<__main__.County object at 0x0000019092C5E8D0>, <__main__.County object at 0x0000019092C5EE10>, <__main__.County object at 0x0000019092C5C500>, <__main__.County object at 0x0000019092C5C740>, <__main__.County object at 0x0000019092C5C1D0>, <__main__.County object at 0x0000019092C5DC70>, <__main__.County object at 0x0000019092C5F3B0>, <__main__.County object at 0x0000019092C5F290>, <__main__.County object at 0x0000019092C5F440>, <__main__.County object at 0x0000019092C5CE90>, <__main__.County object at 0x0000019092C5FB90>, <__main__.County object at 0x0000019092C5C800>, <__main__.County object at 0x0000019092C5FB30>], [<__main__.County object at 0x0000019092C5DBE0>, <__main__.County object at 0x0000019092C5DAF0>, <__main__.County object at 0x0000019092C5F620>, <__main__.County object at 0x0000019092C5F800>, <__main__.County object at 0x0000019092C5FA10>, <__main__.County object at 0x0000019092C5F320>, <__main__.County object at 0x0000019092C5F1D0>, <__main__.County object at 0x0000019092C5C440>, <__main__.County object at 0x0000019092C5C590>, <__main__.County object at 0x0000019092C5FB60>, <__main__.County object at 0x0000019092C5C350>, <__main__.County object at 0x0000019092C5F6E0>, <__main__.County object at 0x0000019092C5FA70>], [<__main__.County object at 0x0000019092C5E3C0>, <__main__.County object at 0x0000019092C5EF90>, <__main__.County object at 0x0000019092C5F740>, <__main__.County object at 0x0000019092C5C560>, <__main__.County object at 0x0000019092C5F110>, <__main__.County object at 0x0000019092C5C9E0>, <__main__.County object at 0x0000019092C5C290>, <__main__.County object at 0x0000019092C5C170>, <__main__.County object at 0x0000019092C5FD40>, <__main__.County object at 0x0000019092C5E870>, <__main__.County object at 0x0000019092C5CA40>, <__main__.County object at 0x0000019092C5FEF0>, <__main__.County object at 0x0000019092C5E450>]], [[<__main__.County object at 0x0000019094B27080>, <__main__.County object at 0x0000019094B25AC0>, <__main__.County object at 0x0000019094B27470>, <__main__.County object at 0x0000019094B27F20>, <__main__.County object at 0x0000019094B25AF0>, <__main__.County object at 0x0000019094B25130>, <__main__.County object at 0x0000019094B265D0>, <__main__.County object at 0x0000019094B240B0>, <__main__.County object at 0x0000019094B24800>, <__main__.County object at 0x0000019094B241A0>, <__main__.County object at 0x0000019094B25820>, <__main__.County object at 0x0000019094B24830>, <__main__.County object at 0x0000019094B27EC0>], [<__main__.County object at 0x0000019090336F30>, <__main__.County object at 0x0000019094B27FB0>, <__main__.County object at 0x0000019094B27290>, <__main__.County object at 0x0000019094B27F80>, <__main__.County object at 0x0000019094B275F0>, <__main__.County object at 0x0000019094B27AA0>, <__main__.County object at 0x0000019094B27AD0>, <__main__.County object at 0x0000019094B27B00>, <__main__.County object at 0x0000019094B27890>, <__main__.County object at 0x0000019094B27200>, <__main__.County object at 0x0000019094B27CE0>, <__main__.County object at 0x0000019094B248C0>, <__main__.County object at 0x0000019094B24740>], [<__main__.County object at 0x0000019094B27560>, <__main__.County object at 0x0000019094B27140>, <__main__.County object at 0x0000019094B270B0>, <__main__.County object at 0x0000019094B277D0>, <__main__.County object at 0x0000019094B27F50>, <__main__.County object at 0x0000019094B25760>, <__main__.County object at 0x0000019094B253D0>, <__main__.County object at 0x0000019094B24860>, <__main__.County object at 0x0000019094B26E40>, <__main__.County object at 0x0000019094B27230>, <__main__.County object at 0x0000019094B24BC0>, <__main__.County object at 0x0000019094B24770>, <__main__.County object at 0x0000019094B26F00>], [<__main__.County object at 0x0000019094B27D10>, <__main__.County object at 0x0000019094B274D0>, <__main__.County object at 0x0000019094B27830>, <__main__.County object at 0x0000019094B27EF0>, <__main__.County object at 0x0000019094B24710>, <__main__.County object at 0x0000019094B27E90>, <__main__.County object at 0x0000019094B27410>, <__main__.County object at 0x0000019094B24AD0>, <__main__.County object at 0x0000019094B27800>, <__main__.County object at 0x0000019094B27C50>, <__main__.County object at 0x0000019094B27020>, <__main__.County object at 0x0000019094B27FE0>, <__main__.County object at 0x0000019094B27170>], [<__main__.County object at 0x0000019094B256D0>, <__main__.County object at 0x0000019094B24D70>, <__main__.County object at 0x0000019094B25CD0>, <__main__.County object at 0x0000019094B25400>, <__main__.County object at 0x0000019094B265A0>, <__main__.County object at 0x0000019094B25700>, <__main__.County object at 0x0000019094B26300>, <__main__.County object at 0x0000019094B25460>, <__main__.County object at 0x0000019094B26A20>, <__main__.County object at 0x0000019094B24EF0>, <__main__.County object at 0x0000019094B25BB0>, <__main__.County object at 0x0000019094B25160>, <__main__.County object at 0x0000019094B26570>], [<__main__.County object at 0x0000019094B25010>, <__main__.County object at 0x0000019094B25190>, <__main__.County object at 0x0000019094B25D90>, <__main__.County object at 0x0000019094B252B0>, <__main__.County object at 0x0000019094B251F0>, <__main__.County object at 0x0000019094B24920>, <__main__.County object at 0x0000019094B25940>, <__main__.County object at 0x0000019094B251C0>, <__main__.County object at 0x0000019094B24E30>, <__main__.County object at 0x0000019094B262D0>, <__main__.County object at 0x0000019094B25280>, <__main__.County object at 0x0000019094B25F70>, <__main__.County object at 0x0000019094B248F0>], [<__main__.County object at 0x0000019094B27710>, <__main__.County object at 0x0000019094B26DE0>, <__main__.County object at 0x0000019094B24110>, <__main__.County object at 0x0000019094B26FF0>, <__main__.County object at 0x0000019094B245C0>, <__main__.County object at 0x0000019094B24560>, <__main__.County object at 0x0000019094B272C0>, <__main__.County object at 0x0000019094B246E0>, <__main__.County object at 0x0000019094B26000>, <__main__.County object at 0x0000019094B242F0>, <__main__.County object at 0x0000019094B270E0>, <__main__.County object at 0x0000019094B25B20>, <__main__.County object at 0x0000019094B26030>], [<__main__.County object at 0x0000019094B25D00>, <__main__.County object at 0x0000019094B27500>, <__main__.County object at 0x0000019094B241D0>, <__main__.County object at 0x0000019094B271D0>, <__main__.County object at 0x0000019094B27C20>, <__main__.County object at 0x0000019094B27050>, <__main__.County object at 0x0000019094B27860>, <__main__.County object at 0x0000019092C5E270>, <__main__.County object at 0x0000019092C5F350>, <__main__.County object at 0x0000019092C5FA40>, <__main__.County object at 0x0000019092C5E390>, <__main__.County object at 0x0000019092C5FFB0>, <__main__.County object at 0x0000019094B26FC0>], [<__main__.County object at 0x00000190904D3CE0>, <__main__.County object at 0x0000019094B246B0>, <__main__.County object at 0x0000019094B27DA0>, <__main__.County object at 0x000001908C3DF8C0>, <__main__.County object at 0x0000019094B257F0>, <__main__.County object at 0x0000019094B24FE0>, <__main__.County object at 0x0000019094B261B0>, <__main__.County object at 0x0000019094B25970>, <__main__.County object at 0x0000019094B26090>, <__main__.County object at 0x0000019094B25250>, <__main__.County object at 0x0000019094B26630>, <__main__.County object at 0x0000019094B26270>, <__main__.County object at 0x0000019094B25C40>], [<__main__.County object at 0x0000019094B24F50>, <__main__.County object at 0x0000019094B25DF0>, <__main__.County object at 0x0000019094B25B80>, <__main__.County object at 0x0000019094B259D0>, <__main__.County object at 0x0000019094B25E20>, <__main__.County object at 0x0000019094B26C90>, <__main__.County object at 0x0000019094B24E90>, <__main__.County object at 0x0000019094B24B30>, <__main__.County object at 0x0000019094B25A90>, <__main__.County object at 0x0000019094B26B70>, <__main__.County object at 0x0000019094B26060>, <__main__.County object at 0x0000019094B25D60>, <__main__.County object at 0x0000019094B24F80>], [<__main__.County object at 0x0000019094B26F60>, <__main__.County object at 0x0000019094B27CB0>, <__main__.County object at 0x0000019094B27530>, <__main__.County object at 0x0000019094B26F90>, <__main__.County object at 0x0000019094B27A70>, <__main__.County object at 0x0000019094B27680>, <__main__.County object at 0x0000019094B24530>, <__main__.County object at 0x0000019094B27C80>, <__main__.County object at 0x0000019094B24F20>, <__main__.County object at 0x0000019094B256A0>, <__main__.County object at 0x0000019094B25430>, <__main__.County object at 0x0000019094B24EC0>, <__main__.County object at 0x0000019094B26F30>], [<__main__.County object at 0x0000019094B24C80>, <__main__.County object at 0x0000019094B254F0>, <__main__.County object at 0x0000019094B25730>, <__main__.County object at 0x0000019094B25520>, <__main__.County object at 0x0000019094B26210>, <__main__.County object at 0x0000019094B25A30>, <__main__.County object at 0x0000019094B25490>, <__main__.County object at 0x0000019094B259A0>, <__main__.County object at 0x0000019094B25670>, <__main__.County object at 0x0000019094B26B40>, <__main__.County object at 0x0000019094B25220>, <__main__.County object at 0x0000019094B268D0>, <__main__.County object at 0x0000019094B24FB0>], [<__main__.County object at 0x0000019094B27D70>, <__main__.County object at 0x0000019094B27D40>, <__main__.County object at 0x0000019094B24080>, <__main__.County object at 0x0000019094B24590>, <__main__.County object at 0x0000019094B27A40>, <__main__.County object at 0x0000019094B24200>, <__main__.County object at 0x0000019094B25550>, <__main__.County object at 0x0000019094B26E10>, <__main__.County object at 0x0000019094B257C0>, <__main__.County object at 0x0000019094B25C10>, <__main__.County object at 0x0000019094B254C0>, <__main__.County object at 0x0000019094B260F0>, <__main__.County object at 0x0000019094B24500>]], [[<__main__.County object at 0x0000019094B25A00>, <__main__.County object at 0x0000019094B26810>, <__main__.County object at 0x0000019094B26330>, <__main__.County object at 0x0000019094B268A0>, <__main__.County object at 0x0000019094B25070>, <__main__.County object at 0x0000019094B26870>, <__main__.County object at 0x0000019094B25E50>, <__main__.County object at 0x0000019094B25910>, <__main__.County object at 0x000001908EC86600>, <__main__.County object at 0x0000019094B25100>, <__main__.County object at 0x000001909459D2E0>, <__main__.County object at 0x0000019094B260C0>, <__main__.County object at 0x0000019094B26AE0>], [<__main__.County object at 0x0000019094B24CE0>, <__main__.County object at 0x0000019094B24470>, <__main__.County object at 0x0000019094B24320>, <__main__.County object at 0x0000019094B24890>, <__main__.County object at 0x0000019094B278F0>, <__main__.County object at 0x0000019094B276E0>, <__main__.County object at 0x0000019094B278C0>, <__main__.County object at 0x0000019094B27920>, <__main__.County object at 0x0000019094B264B0>, <__main__.County object at 0x0000019094B244D0>, <__main__.County object at 0x0000019094B26690>, <__main__.County object at 0x0000019094B24680>, <__main__.County object at 0x0000019094B272F0>], [<__main__.County object at 0x0000019094B26AB0>, <__main__.County object at 0x0000019094B26D80>, <__main__.County object at 0x0000019094B26D50>, <__main__.County object at 0x0000019094B26DB0>, <__main__.County object at 0x0000019094B24DD0>, <__main__.County object at 0x0000019094B26A80>, <__main__.County object at 0x0000019094B24BF0>, <__main__.County object at 0x0000019094B26CF0>, <__main__.County object at 0x0000019094B25B50>, <__main__.County object at 0x0000019094B25C70>, <__main__.County object at 0x0000019094B26180>, <__main__.County object at 0x0000019094B26D20>, <__main__.County object at 0x0000019094B24E00>], [<__main__.County object at 0x0000019094B273E0>, <__main__.County object at 0x0000019094B277A0>, <__main__.County object at 0x0000019094B263C0>, <__main__.County object at 0x0000019094B263F0>, <__main__.County object at 0x0000019094B25BE0>, <__main__.County object at 0x0000019094B24E60>, <__main__.County object at 0x0000019094B24260>, <__main__.County object at 0x0000019094B24290>, <__main__.County object at 0x0000019094B24380>, <__main__.County object at 0x0000019094B27350>, <__main__.County object at 0x0000019094B27BF0>, <__main__.County object at 0x0000019094B27DD0>, <__main__.County object at 0x0000019094B25D30>], [<__main__.County object at 0x0000019094B267E0>, <__main__.County object at 0x0000019094B258B0>, <__main__.County object at 0x0000019094B24D40>, <__main__.County object at 0x0000019094B267B0>, <__main__.County object at 0x0000019094B249E0>, <__main__.County object at 0x0000019094B24DA0>, <__main__.County object at 0x0000019094B25880>, <__main__.County object at 0x0000019094B261E0>, <__main__.County object at 0x0000019094B26150>, <__main__.County object at 0x0000019094B25310>, <__main__.County object at 0x0000019094B26780>, <__main__.County object at 0x0000019094B25850>, <__main__.County object at 0x0000019094B25340>], [<__main__.County object at 0x0000019094B250A0>, <__main__.County object at 0x0000019094B255B0>, <__main__.County object at 0x0000019094B26510>, <__main__.County object at 0x0000019094B255E0>, <__main__.County object at 0x0000019094B25E80>, <__main__.County object at 0x0000019094B24C50>, <__main__.County object at 0x0000019094B26120>, <__main__.County object at 0x0000019094B26C30>, <__main__.County object at 0x0000019094B24B90>, <__main__.County object at 0x0000019094B26CC0>, <__main__.County object at 0x0000019094B25FD0>, <__main__.County object at 0x0000019094B24B00>, <__main__.County object at 0x0000019094B266F0>], [<__main__.County object at 0x0000019094B26990>, <__main__.County object at 0x0000019094B26C00>, <__main__.County object at 0x0000019094B26420>, <__main__.County object at 0x0000019094B27740>, <__main__.County object at 0x0000019094B27A10>, <__main__.County object at 0x0000019094B26EA0>, <__main__.County object at 0x0000019094B245F0>, <__main__.County object at 0x0000019094B27440>, <__main__.County object at 0x0000019094B27110>, <__main__.County object at 0x0000019094B240E0>, <__main__.County object at 0x0000019094B27B30>, <__main__.County object at 0x0000019094B26E70>, <__main__.County object at 0x0000019094B25EB0>], [<__main__.County object at 0x0000019094B262A0>, <__main__.County object at 0x0000019094B25640>, <__main__.County object at 0x0000019094B24AA0>, <__main__.County object at 0x0000019094B26B10>, <__main__.County object at 0x0000019094B25FA0>, <__main__.County object at 0x0000019094B264E0>, <__main__.County object at 0x0000019094B24A70>, <__main__.County object at 0x0000019094B25EE0>, <__main__.County object at 0x0000019094B26A50>, <__main__.County object at 0x0000019094B26660>, <__main__.County object at 0x0000019094B25370>, <__main__.County object at 0x0000019094B26BD0>, <__main__.County object at 0x0000019094B266C0>], [<__main__.County object at 0x0000019094B249B0>, <__main__.County object at 0x0000019094B25A60>, <__main__.County object at 0x0000019094B24CB0>, <__main__.County object at 0x0000019094B24980>, <__main__.County object at 0x0000019094B24C20>, <__main__.County object at 0x0000019094B273B0>, <__main__.County object at 0x0000019094B27650>, <__main__.County object at 0x0000019094B27590>, <__main__.County object at 0x0000019094B247A0>, <__main__.County object at 0x0000019094B24410>, <__main__.County object at 0x0000019094B27980>, <__main__.County object at 0x0000019094B243E0>, <__main__.County object at 0x0000019094B27BC0>], [<__main__.County object at 0x0000019094B25F40>, <__main__.County object at 0x0000019094B25040>, <__main__.County object at 0x0000019094B26480>, <__main__.County object at 0x0000019094B24950>, <__main__.County object at 0x0000019094B26540>, <__main__.County object at 0x0000019094B25580>, <__main__.County object at 0x0000019094B24A10>, <__main__.County object at 0x0000019094B26BA0>, <__main__.County object at 0x0000019094B26720>, <__main__.County object at 0x0000019094B279E0>, <__main__.County object at 0x0000019094B242C0>, <__main__.County object at 0x0000019094B27770>, <__main__.County object at 0x0000019094B24D10>], [<__main__.County object at 0x0000019094B26960>, <__main__.County object at 0x0000019094B26450>, <__main__.County object at 0x0000019094B276B0>, <__main__.County object at 0x0000019094B26900>, <__main__.County object at 0x0000019094B27950>, <__main__.County object at 0x0000019094B275C0>, <__main__.County object at 0x0000019094B27E30>, <__main__.County object at 0x0000019094B243B0>, <__main__.County object at 0x0000019094B24050>, <__main__.County object at 0x0000019094B247D0>, <__main__.County object at 0x0000019094B271A0>, <__main__.County object at 0x0000019094B27380>, <__main__.County object at 0x0000019094B27B90>], [<__main__.County object at 0x0000019094B279B0>, <__main__.County object at 0x0000019094B27B60>, <__main__.County object at 0x0000019094B27260>, <__main__.County object at 0x0000019094B26ED0>, <__main__.County object at 0x0000019094B24650>, <__main__.County object at 0x0000019094B26240>, <__main__.County object at 0x0000019094B27320>, <__main__.County object at 0x0000019094B24140>, <__main__.County object at 0x0000019094B244A0>, <__main__.County object at 0x0000019094B24350>, <__main__.County object at 0x0000019094B274A0>, <__main__.County object at 0x0000019094B27E60>, <__main__.County object at 0x0000019094B25610>], [<__main__.County object at 0x0000019094B258E0>, <__main__.County object at 0x0000019094B26750>, <__main__.County object at 0x0000019094B269F0>, <__main__.County object at 0x0000019094B24B60>, <__main__.County object at 0x0000019094B252E0>, <__main__.County object at 0x0000019094B26C60>, <__main__.County object at 0x0000019094B250D0>, <__main__.County object at 0x0000019094B269C0>, <__main__.County object at 0x0000019094B26930>, <__main__.County object at 0x0000019094B26390>, <__main__.County object at 0x0000019094B26360>, <__main__.County object at 0x0000019094B25F10>, <__main__.County object at 0x0000019094B24A40>]], [[<__main__.County object at 0x000001909027E780>, <__main__.County object at 0x000001909027CB30>, <__main__.County object at 0x000001909027D550>, <__main__.County object at 0x000001909027D2B0>, <__main__.County object at 0x000001909027EC00>, <__main__.County object at 0x000001909027CF50>, <__main__.County object at 0x000001909027DD60>, <__main__.County object at 0x000001909027C110>, <__main__.County object at 0x000001909027C980>, <__main__.County object at 0x000001909027CD40>, <__main__.County object at 0x000001909027D310>, <__main__.County object at 0x000001909027E240>, <__main__.County object at 0x000001909027CA70>], [<__main__.County object at 0x00000190937BC380>, <__main__.County object at 0x00000190937BDD90>, <__main__.County object at 0x00000190957FD790>, <__main__.County object at 0x0000019094944440>, <__main__.County object at 0x000001909027C140>, <__main__.County object at 0x000001909027C3B0>, <__main__.County object at 0x00000190937BD8E0>, <__main__.County object at 0x000001909027CC80>, <__main__.County object at 0x000001909027F080>, <__main__.County object at 0x000001909027D160>, <__main__.County object at 0x00000190957FD190>, <__main__.County object at 0x0000019094944830>, <__main__.County object at 0x00000190957FDC40>], [<__main__.County object at 0x000001909027CAA0>, <__main__.County object at 0x000001909027DD90>, <__main__.County object at 0x000001909027C1D0>, <__main__.County object at 0x000001909027C860>, <__main__.County object at 0x000001909027DC70>, <__main__.County object at 0x00000190937BDF70>, <__main__.County object at 0x000001909027C6E0>, <__main__.County object at 0x000001909027C950>, <__main__.County object at 0x000001909027D4C0>, <__main__.County object at 0x000001909027CA10>, <__main__.County object at 0x0000019092CE6810>, <__main__.County object at 0x0000019094947BF0>, <__main__.County object at 0x00000190949447D0>], [<__main__.County object at 0x00000190957FFA70>, <__main__.County object at 0x0000019094947E00>, <__main__.County object at 0x0000019094947BC0>, <__main__.County object at 0x0000019094944860>, <__main__.County object at 0x00000190949446E0>, <__main__.County object at 0x0000019094947DD0>, <__main__.County object at 0x0000019094944680>, <__main__.County object at 0x0000019094944C50>, <__main__.County object at 0x0000019094944A40>, <__main__.County object at 0x0000019094944E00>, <__main__.County object at 0x0000019094947F80>, <__main__.County object at 0x0000019094947A40>, <__main__.County object at 0x00000190957FF830>], [<__main__.County object at 0x0000019094947C50>, <__main__.County object at 0x0000019092153EC0>, <__main__.County object at 0x00000190957FD610>, <__main__.County object at 0x0000019094947D10>, <__main__.County object at 0x00000190957FDA00>, <__main__.County object at 0x0000019094947F50>, <__main__.County object at 0x0000019094B24620>, <__main__.County object at 0x0000019094B27E00>, <__main__.County object at 0x0000019094947B90>, <__main__.County object at 0x0000019094947AA0>, <__main__.County object at 0x00000190C7992600>, <__main__.County object at 0x000001909027DBB0>, <__main__.County object at 0x000001909027DC40>], [<__main__.County object at 0x00000190957FD9D0>, <__main__.County object at 0x000001909027CDD0>, <__main__.County object at 0x000001909027CB60>, <__main__.County object at 0x000001909027CFE0>, <__main__.County object at 0x000001909027C1A0>, <__main__.County object at 0x000001909027CB00>, <__main__.County object at 0x000001909027D0A0>, <__main__.County object at 0x000001909027C3E0>, <__main__.County object at 0x000001909027C290>, <__main__.County object at 0x000001909027D910>, <__main__.County object at 0x000001909027C770>, <__main__.County object at 0x000001909027CF20>, <__main__.County object at 0x000001909027DDC0>], [<__main__.County object at 0x000001909027CD70>, <__main__.County object at 0x000001909027E3F0>, <__main__.County object at 0x000001909027E660>, <__main__.County object at 0x000001909027DF40>, <__main__.County object at 0x000001909027D8B0>, <__main__.County object at 0x000001909027CF80>, <__main__.County object at 0x000001909027E990>, <__main__.County object at 0x000001909027EB70>, <__main__.County object at 0x000001909027CC50>, <__main__.County object at 0x000001909027D700>, <__main__.County object at 0x000001909027CE90>, <__main__.County object at 0x000001909027D1C0>, <__main__.County object at 0x000001909027CE00>], [<__main__.County object at 0x000001909027D250>, <__main__.County object at 0x000001909027E570>, <__main__.County object at 0x000001909027D490>, <__main__.County object at 0x000001909027CCB0>, <__main__.County object at 0x000001909027D3A0>, <__main__.County object at 0x000001909027D5B0>, <__main__.County object at 0x000001909027EA50>, <__main__.County object at 0x000001909027E750>, <__main__.County object at 0x000001909027EBD0>, <__main__.County object at 0x000001909027D430>, <__main__.County object at 0x000001909027D280>, <__main__.County object at 0x000001909027DF10>, <__main__.County object at 0x000001909027D4F0>], [<__main__.County object at 0x000001909027CD10>, <__main__.County object at 0x000001909027E3C0>, <__main__.County object at 0x000001909027CEF0>, <__main__.County object at 0x000001909027E9F0>, <__main__.County object at 0x000001909027C200>, <__main__.County object at 0x000001909027D820>, <__main__.County object at 0x000001909027E060>, <__main__.County object at 0x000001909027D760>, <__main__.County object at 0x000001909027DCD0>, <__main__.County object at 0x000001909027CB90>, <__main__.County object at 0x000001909027D880>, <__main__.County object at 0x000001909027E900>, <__main__.County object at 0x000001909027C740>], [<__main__.County object at 0x000001909027C710>, <__main__.County object at 0x000001909027E5D0>, <__main__.County object at 0x000001909027E600>, <__main__.County object at 0x000001909027EBA0>, <__main__.County object at 0x000001909027D9D0>, <__main__.County object at 0x000001909027D010>, <__main__.County object at 0x000001909027DBE0>, <__main__.County object at 0x000001909027E960>, <__main__.County object at 0x000001909027EA20>, <__main__.County object at 0x000001909027E1B0>, <__main__.County object at 0x000001909027E000>, <__main__.County object at 0x000001909027EC30>, <__main__.County object at 0x000001909027D580>], [<__main__.County object at 0x000001909027CAD0>, <__main__.County object at 0x000001909027DC10>, <__main__.County object at 0x000001909027C920>, <__main__.County object at 0x000001909027DFA0>, <__main__.County object at 0x000001909027D220>, <__main__.County object at 0x000001909027D460>, <__main__.County object at 0x000001909027C320>, <__main__.County object at 0x000001909027E390>, <__main__.County object at 0x000001909027DDF0>, <__main__.County object at 0x000001909027CCE0>, <__main__.County object at 0x000001909027D3D0>, <__main__.County object at 0x000001909027E540>, <__main__.County object at 0x000001909027D520>], [<__main__.County object at 0x00000190957FE960>, <__main__.County object at 0x0000019094946060>, <__main__.County object at 0x000001909027D190>, <__main__.County object at 0x000001909027D640>, <__main__.County object at 0x00000190937BDDC0>, <__main__.County object at 0x000001909027D340>, <__main__.County object at 0x000001909027C0E0>, <__main__.County object at 0x000001909027C8F0>, <__main__.County object at 0x000001909027D2E0>, <__main__.County object at 0x000001909027DA30>, <__main__.County object at 0x000001909027D130>, <__main__.County object at 0x0000019094944500>, <__main__.County object at 0x0000019094944B90>], [<__main__.County object at 0x000001909027CE30>, <__main__.County object at 0x000001909027C500>, <__main__.County object at 0x000001909027C620>, <__main__.County object at 0x0000019094944A70>, <__main__.County object at 0x00000190937BC800>, <__main__.County object at 0x000001909027EAB0>, <__main__.County object at 0x000001909027DFD0>, <__main__.County object at 0x000001909027DAC0>, <__main__.County object at 0x000001909027E420>, <__main__.County object at 0x000001909027E930>, <__main__.County object at 0x000001909027D5E0>, <__main__.County object at 0x000001909027E1E0>, <__main__.County object at 0x000001909027C440>]], [[<__main__.County object at 0x0000019090EDF9E0>, <__main__.County object at 0x000001909027F4D0>, <__main__.County object at 0x000001909027F950>, <__main__.County object at 0x0000019090EDF620>, <__main__.County object at 0x0000019090EDEEA0>, <__main__.County object at 0x000001909027E6F0>, <__main__.County object at 0x000001909027F7D0>, <__main__.County object at 0x000001909027FDA0>, <__main__.County object at 0x000001909027CBC0>, <__main__.County object at 0x000001909027E870>, <__main__.County object at 0x000001909027FF80>, <__main__.County object at 0x000001909027E150>, <__main__.County object at 0x000001909027F5F0>], [<__main__.County object at 0x000001909027DB50>, <__main__.County object at 0x000001909027C8C0>, <__main__.County object at 0x000001909027D790>, <__main__.County object at 0x000001909027F020>, <__main__.County object at 0x000001909027E2D0>, <__main__.County object at 0x000001909027E480>, <__main__.County object at 0x0000019090EDD820>, <__main__.County object at 0x0000019090EDCDD0>, <__main__.County object at 0x0000019090EDE7B0>, <__main__.County object at 0x0000019090EDDFD0>, <__main__.County object at 0x0000019090EDFB30>, <__main__.County object at 0x0000019090EDE9C0>, <__main__.County object at 0x0000019090EDF5F0>], [<__main__.County object at 0x000001909027C260>, <__main__.County object at 0x000001909027DD00>, <__main__.County object at 0x000001909027C4D0>, <__main__.County object at 0x000001909027C4A0>, <__main__.County object at 0x000001909027E810>, <__main__.County object at 0x000001909027C800>, <__main__.County object at 0x000001909027CA40>, <__main__.County object at 0x000001909027E5A0>, <__main__.County object at 0x000001909027E8A0>, <__main__.County object at 0x000001909027C410>, <__main__.County object at 0x000001909027C890>, <__main__.County object at 0x000001909027D6A0>, <__main__.County object at 0x000001909027C530>], [<__main__.County object at 0x000001909027D850>, <__main__.County object at 0x000001909027E180>, <__main__.County object at 0x000001909027D8E0>, <__main__.County object at 0x000001909027E7B0>, <__main__.County object at 0x000001909027C2F0>, <__main__.County object at 0x000001909027CFB0>, <__main__.County object at 0x000001909027EAE0>, <__main__.County object at 0x000001909027DB20>, <__main__.County object at 0x000001909027D730>, <__main__.County object at 0x000001909027E030>, <__main__.County object at 0x000001909027C470>, <__main__.County object at 0x000001909027D7F0>, <__main__.County object at 0x000001909027E2A0>], [<__main__.County object at 0x000001909027C9B0>, <__main__.County object at 0x000001909027C590>, <__main__.County object at 0x000001909027C650>, <__main__.County object at 0x000001909027C2C0>, <__main__.County object at 0x000001909027C0B0>, <__main__.County object at 0x000001909027E0F0>, <__main__.County object at 0x000001909027DA00>, <__main__.County object at 0x000001909027FE60>, <__main__.County object at 0x000001909027D6D0>, <__main__.County object at 0x000001909027D940>, <__main__.County object at 0x000001909027C6B0>, <__main__.County object at 0x000001909027CDA0>, <__main__.County object at 0x000001909027DE20>], [<__main__.County object at 0x000001909027DD30>, <__main__.County object at 0x000001909027EA80>, <__main__.County object at 0x000001909027F5C0>, <__main__.County object at 0x000001909027C080>, <__main__.County object at 0x000001909027DAF0>, <__main__.County object at 0x000001909027E0C0>, <__main__.County object at 0x000001909027E330>, <__main__.County object at 0x000001909027E090>, <__main__.County object at 0x000001909027E360>, <__main__.County object at 0x000001909027E690>, <__main__.County object at 0x000001909027C230>, <__main__.County object at 0x000001909027F1A0>, <__main__.County object at 0x000001909027E4E0>], [<__main__.County object at 0x000001909027EED0>, <__main__.County object at 0x000001909027F920>, <__main__.County object at 0x000001909027C5F0>, <__main__.County object at 0x000001909027EB40>, <__main__.County object at 0x000001909027ED20>, <__main__.County object at 0x000001909027E9C0>, <__main__.County object at 0x000001909027EB10>, <__main__.County object at 0x000001909027FF50>, <__main__.County object at 0x000001909027DE80>, <__main__.County object at 0x000001909027DEB0>, <__main__.County object at 0x000001909027FE30>, <__main__.County object at 0x0000019090EDFCB0>, <__main__.County object at 0x0000019090EDC410>], [<__main__.County object at 0x0000019090EDF0E0>, <__main__.County object at 0x0000019090EDF8C0>, <__main__.County object at 0x0000019090EDC290>, <__main__.County object at 0x0000019090EDFE30>, <__main__.County object at 0x0000019090EDC6B0>, <__main__.County object at 0x0000019090EDD6A0>, <__main__.County object at 0x000001909027DEE0>, <__main__.County object at 0x000001909027E4B0>, <__main__.County object at 0x0000019090EDD7F0>, <__main__.County object at 0x0000019090EDF200>, <__main__.County object at 0x0000019090EDEA80>, <__main__.County object at 0x0000019090EDF530>, <__main__.County object at 0x000001909027DB80>], [<__main__.County object at 0x000001909027F830>, <__main__.County object at 0x000001909027FC50>, <__main__.County object at 0x000001909027FB30>, <__main__.County object at 0x000001909027E7E0>, <__main__.County object at 0x000001909027C350>, <__main__.County object at 0x000001909027D370>, <__main__.County object at 0x000001909027E300>, <__main__.County object at 0x000001909027DCA0>, <__main__.County object at 0x000001909027D7C0>, <__main__.County object at 0x000001909027F3E0>, <__main__.County object at 0x0000019090EDDCD0>, <__main__.County object at 0x0000019090EDFA10>, <__main__.County object at 0x0000019090EDF980>], [<__main__.County object at 0x000001909027C7D0>, <__main__.County object at 0x0000019090EDF3B0>, <__main__.County object at 0x000001909027C9E0>, <__main__.County object at 0x0000019090EDF7A0>, <__main__.County object at 0x0000019090EDC080>, <__main__.County object at 0x0000019090EDE780>, <__main__.County object at 0x000001909027CBF0>, <__main__.County object at 0x0000019090EDFBF0>, <__main__.County object at 0x0000019090EDF920>, <__main__.County object at 0x0000019090EDF2F0>, <__main__.County object at 0x0000019090EDFEF0>, <__main__.County object at 0x0000019090EDE150>, <__main__.County object at 0x0000019090EDF4D0>], [<__main__.County object at 0x000001909027DF70>, <__main__.County object at 0x000001909027DA90>, <__main__.County object at 0x000001909027EFC0>, <__main__.County object at 0x000001909027D9A0>, <__main__.County object at 0x000001909027E270>, <__main__.County object at 0x000001909027E6C0>, <__main__.County object at 0x000001909027D610>, <__main__.County object at 0x000001909027D670>, <__main__.County object at 0x000001909027E840>, <__main__.County object at 0x000001909027C830>, <__main__.County object at 0x0000019090EDDF70>, <__main__.County object at 0x0000019090EDF740>, <__main__.County object at 0x0000019090EDFF80>], [<__main__.County object at 0x000001909027E510>, <__main__.County object at 0x000001909027E720>, <__main__.County object at 0x0000019090EDFE60>, <__main__.County object at 0x0000019090EDF770>, <__main__.County object at 0x0000019090EDFC20>, <__main__.County object at 0x0000019090EDF680>, <__main__.County object at 0x0000019090EDF860>, <__main__.County object at 0x0000019090EDFD10>, <__main__.County object at 0x0000019090EDDAF0>, <__main__.County object at 0x0000019090EDFCE0>, <__main__.County object at 0x0000019090EDCD40>, <__main__.County object at 0x0000019090EDF140>, <__main__.County object at 0x000001909027DE50>], [<__main__.County object at 0x000001909027C560>, <__main__.County object at 0x000001909027C5C0>, <__main__.County object at 0x000001909027D400>, <__main__.County object at 0x000001909027E8D0>, <__main__.County object at 0x000001909027C170>, <__main__.County object at 0x000001908EF7FCB0>, <__main__.County object at 0x0000019091DDE840>, <__main__.County object at 0x000001909027E120>, <__main__.County object at 0x0000019090EDF710>, <__main__.County object at 0x0000019090EDD4C0>, <__main__.County object at 0x0000019090EDC230>, <__main__.County object at 0x000001909027F740>, <__main__.County object at 0x000001909027F140>]], [[<__main__.County object at 0x0000019094B419D0>, <__main__.County object at 0x0000019094B41640>, <__main__.County object at 0x0000019094B41C10>, <__main__.County object at 0x0000019094B40620>, <__main__.County object at 0x0000019094B426F0>, <__main__.County object at 0x0000019094B40410>, <__main__.County object at 0x0000019094B41460>, <__main__.County object at 0x0000019094B40500>, <__main__.County object at 0x0000019094B40110>, <__main__.County object at 0x0000019094B414F0>, <__main__.County object at 0x0000019094B403B0>, <__main__.County object at 0x0000019094B407A0>, <__main__.County object at 0x0000019094B42F30>], [<__main__.County object at 0x0000019090EDFFB0>, <__main__.County object at 0x0000019090EDC470>, <__main__.County object at 0x0000019090EDD010>, <__main__.County object at 0x0000019090EDF950>, <__main__.County object at 0x0000019090EDD4F0>, <__main__.County object at 0x0000019090EDFF50>, <__main__.County object at 0x0000019090EDD220>, <__main__.County object at 0x0000019090EDF290>, <__main__.County object at 0x0000019090EDF380>, <__main__.County object at 0x0000019090EDF440>, <__main__.County object at 0x0000019090EDD3D0>, <__main__.County object at 0x0000019090EDC3B0>, <__main__.County object at 0x0000019090EDCAA0>], [<__main__.County object at 0x0000019090EDE390>, <__main__.County object at 0x0000019090EDEB70>, <__main__.County object at 0x0000019090EDCF80>, <__main__.County object at 0x0000019090EDFE90>, <__main__.County object at 0x0000019090EDF800>, <__main__.County object at 0x0000019090EDF3E0>, <__main__.County object at 0x0000019090EDF560>, <__main__.County object at 0x0000019090EDF1D0>, <__main__.County object at 0x0000019090EDCCE0>, <__main__.County object at 0x0000019090EDC8F0>, <__main__.County object at 0x0000019090EDC800>, <__main__.County object at 0x0000019090EDFDA0>, <__main__.County object at 0x0000019090EDDB20>], [<__main__.County object at 0x0000019090EDF650>, <__main__.County object at 0x0000019090EDC9E0>, <__main__.County object at 0x0000019090EDD0D0>, <__main__.County object at 0x0000019090EDF830>, <__main__.County object at 0x0000019090EDFA40>, <__main__.County object at 0x0000019090EDCE90>, <__main__.County object at 0x0000019090EDFC80>, <__main__.County object at 0x0000019090EDF5C0>, <__main__.County object at 0x0000019090EDC2C0>, <__main__.County object at 0x0000019090EDFFE0>, <__main__.County object at 0x0000019090EDF410>, <__main__.County object at 0x0000019090EDC8C0>, <__main__.County object at 0x0000019090EDC7A0>], [<__main__.County object at 0x0000019090EDE4B0>, <__main__.County object at 0x0000019090EDF500>, <__main__.County object at 0x0000019090EDDA00>, <__main__.County object at 0x0000019090EDD130>, <__main__.County object at 0x0000019090EDEA50>, <__main__.County object at 0x0000019090EDF350>, <__main__.County object at 0x0000019090EDF110>, <__main__.County object at 0x0000019094B42840>, <__main__.County object at 0x0000019090EDD1C0>, <__main__.County object at 0x0000019090EDC740>, <__main__.County object at 0x0000019090EDC7D0>, <__main__.County object at 0x0000019090EDF320>, <__main__.County object at 0x0000019094B41B50>], [<__main__.County object at 0x0000019094B40E60>, <__main__.County object at 0x0000019094B43020>, <__main__.County object at 0x0000019094B40230>, <__main__.County object at 0x0000019094B40440>, <__main__.County object at 0x0000019094B402C0>, <__main__.County object at 0x0000019094B40290>, <__main__.County object at 0x0000019094B40950>, <__main__.County object at 0x0000019094B42420>, <__main__.County object at 0x0000019094B43080>, <__main__.County object at 0x0000019094B40710>, <__main__.County object at 0x0000019094B40380>, <__main__.County object at 0x0000019094B42720>, <__main__.County object at 0x0000019094B40B90>], [<__main__.County object at 0x000001908FE11550>, <__main__.County object at 0x0000019095CE3980>, <__main__.County object at 0x0000019090EDCA10>, <__main__.County object at 0x0000019090EDFC50>, <__main__.County object at 0x0000019090EDCBC0>, <__main__.County object at 0x0000019090EDF2C0>, <__main__.County object at 0x0000019090EDE3C0>, <__main__.County object at 0x0000019090EDC1A0>, <__main__.County object at 0x0000019090EDC590>, <__main__.County object at 0x0000019090EDD0A0>, <__main__.County object at 0x0000019090EDFF20>, <__main__.County object at 0x0000019090EDDCA0>, <__main__.County object at 0x0000019090EDFB00>], [<__main__.County object at 0x0000019090EDFD40>, <__main__.County object at 0x0000019090EDC110>, <__main__.County object at 0x0000019090EDF470>, <__main__.County object at 0x0000019090EDC9B0>, <__main__.County object at 0x0000019090EDD6D0>, <__main__.County object at 0x0000019090EDCD70>, <__main__.County object at 0x0000019090EDFB90>, <__main__.County object at 0x0000019090EDF080>, <__main__.County object at 0x0000019090EDCA40>, <__main__.County object at 0x0000019090EDFA70>, <__main__.County object at 0x0000019090EDDB80>, <__main__.County object at 0x0000019090EDF170>, <__main__.County object at 0x0000019090EDCD10>], [<__main__.County object at 0x0000019094B416D0>, <__main__.County object at 0x0000019094B414C0>, <__main__.County object at 0x0000019094B401D0>, <__main__.County object at 0x0000019094B40C20>, <__main__.County object at 0x0000019094B41430>, <__main__.County object at 0x0000019094B417C0>, <__main__.County object at 0x0000019094B40530>, <__main__.County object at 0x0000019094B41AF0>, <__main__.County object at 0x0000019094B41A00>, <__main__.County object at 0x0000019094B40DA0>, <__main__.County object at 0x0000019094B40770>, <__main__.County object at 0x0000019094B41280>, <__main__.County object at 0x0000019094B40FB0>], [<__main__.County object at 0x0000019094B40260>, <__main__.County object at 0x0000019094B422D0>, <__main__.County object at 0x0000019094B418B0>, <__main__.County object at 0x0000019094B40D70>, <__main__.County object at 0x0000019094B40860>, <__main__.County object at 0x0000019094B402F0>, <__main__.County object at 0x0000019094B42360>, <__main__.County object at 0x0000019094B40080>, <__main__.County object at 0x0000019094B406B0>, <__main__.County object at 0x0000019094B41610>, <__main__.County object at 0x0000019094B41730>, <__main__.County object at 0x0000019094B40680>, <__main__.County object at 0x0000019094B41700>], [<__main__.County object at 0x0000019094B407D0>, <__main__.County object at 0x0000019094B401A0>, <__main__.County object at 0x0000019094B41FD0>, <__main__.County object at 0x0000019094B43CB0>, <__main__.County object at 0x0000019094B42540>, <__main__.County object at 0x0000019094B40200>, <__main__.County object at 0x0000019090EDC950>, <__main__.County object at 0x0000019090EDC260>, <__main__.County object at 0x0000019090EDF6B0>, <__main__.County object at 0x0000019094B40AD0>, <__main__.County object at 0x0000019094B40320>, <__main__.County object at 0x0000019094B42960>, <__main__.County object at 0x0000019094B40E30>], [<__main__.County object at 0x0000019090EDF890>, <__main__.County object at 0x0000019094B40140>, <__main__.County object at 0x0000019094B400E0>, <__main__.County object at 0x0000019094B40170>, <__main__.County object at 0x0000019094B40800>, <__main__.County object at 0x0000019094B40050>, <__main__.County object at 0x0000019094B40350>, <__main__.County object at 0x0000019094B41340>, <__main__.County object at 0x0000019094B415E0>, <__main__.County object at 0x0000019094B415B0>, <__main__.County object at 0x0000019094B40740>, <__main__.County object at 0x0000019094B41400>, <__main__.County object at 0x0000019094B41550>], [<__main__.County object at 0x0000019090EDFEC0>, <__main__.County object at 0x0000019090EDC890>, <__main__.County object at 0x0000019090EDC0E0>, <__main__.County object at 0x0000019090EDDC40>, <__main__.County object at 0x0000019090EDC500>, <__main__.County object at 0x0000019094B433B0>, <__main__.County object at 0x0000019090EDCB60>, <__main__.County object at 0x0000019090EDF9B0>, <__main__.County object at 0x0000019094B410D0>, <__main__.County object at 0x0000019090EDF260>, <__main__.County object at 0x0000019094B41370>, <__main__.County object at 0x0000019094B41BB0>, <__main__.County object at 0x0000019094B400B0>]]], [[[<__main__.County object at 0x0000019094B40FE0>, <__main__.County object at 0x0000019094B41490>, <__main__.County object at 0x0000019094B429F0>, <__main__.County object at 0x0000019094B43AD0>, <__main__.County object at 0x0000019094B409E0>, <__main__.County object at 0x0000019094B42690>, <__main__.County object at 0x0000019094B41520>, <__main__.County object at 0x0000019094B41B80>, <__main__.County object at 0x0000019094B41EB0>, <__main__.County object at 0x0000019094B40AA0>, <__main__.County object at 0x0000019094B41790>, <__main__.County object at 0x0000019094B41880>, <__main__.County object at 0x0000019094B43C20>, <__main__.County object at 0x0000019094B410A0>], [<__main__.County object at 0x0000019094B432C0>, <__main__.County object at 0x0000019094B42660>, <__main__.County object at 0x0000019094B41F70>, <__main__.County object at 0x0000019094B42B40>, <__main__.County object at 0x0000019094B426C0>, <__main__.County object at 0x0000019094B40470>, <__main__.County object at 0x0000019094B40650>, <__main__.County object at 0x0000019094B41F10>, <__main__.County object at 0x0000019094B41C40>, <__main__.County object at 0x0000019094B42030>, <__main__.County object at 0x0000019094B432F0>, <__main__.County object at 0x0000019094B423C0>, <__main__.County object at 0x0000019094B41040>, <__main__.County object at 0x0000019094B408F0>], [<__main__.County object at 0x0000019094B42C30>, <__main__.County object at 0x0000019094B42BD0>, <__main__.County object at 0x0000019094B42C90>, <__main__.County object at 0x0000019094B41D90>, <__main__.County object at 0x0000019094B41220>, <__main__.County object at 0x0000019094B43C50>, <__main__.County object at 0x0000019094B42A50>, <__main__.County object at 0x0000019094B42090>, <__main__.County object at 0x0000019094B43170>, <__main__.County object at 0x0000019094B42390>, <__main__.County object at 0x0000019094B422A0>, <__main__.County object at 0x0000019094B43F50>, <__main__.County object at 0x0000019094B42DB0>, <__main__.County object at 0x0000019094B428A0>], [<__main__.County object at 0x0000019094B43AA0>, <__main__.County object at 0x0000019094B40590>, <__main__.County object at 0x0000019094B42510>, <__main__.County object at 0x0000019094B405C0>, <__main__.County object at 0x0000019094B419A0>, <__main__.County object at 0x0000019094B43410>, <__main__.County object at 0x0000019094B411F0>, <__main__.County object at 0x0000019094B436B0>, <__main__.County object at 0x0000019094B43FB0>, <__main__.County object at 0x0000019094B42FF0>, <__main__.County object at 0x0000019094B434A0>, <__main__.County object at 0x0000019094B413A0>, <__main__.County object at 0x0000019094B433E0>, <__main__.County object at 0x0000019094B43710>], [<__main__.County object at 0x0000019094B40C50>, <__main__.County object at 0x0000019094B41970>, <__main__.County object at 0x0000019094B40B00>, <__main__.County object at 0x0000019094B40F20>, <__main__.County object at 0x0000019094B42B10>, <__main__.County object at 0x0000019094B430E0>, <__main__.County object at 0x0000019094B409B0>, <__main__.County object at 0x0000019094B40F80>, <__main__.County object at 0x0000019094B40F50>, <__main__.County object at 0x0000019094B42990>, <__main__.County object at 0x0000019094B42F90>, <__main__.County object at 0x0000019094B42EA0>, <__main__.County object at 0x0000019094B41910>, <__main__.County object at 0x0000019094B42210>], [<__main__.County object at 0x0000019093C3C680>, <__main__.County object at 0x000001909027CEC0>, <__main__.County object at 0x0000019094B43920>, <__main__.County object at 0x0000019094B43EC0>, <__main__.County object at 0x0000019094B41FA0>, <__main__.County object at 0x0000019094B420F0>, <__main__.County object at 0x0000019094B42180>, <__main__.County object at 0x0000019094B42E40>, <__main__.County object at 0x0000019094B40B30>, <__main__.County object at 0x0000019094B42AB0>, <__main__.County object at 0x0000019094B43470>, <__main__.County object at 0x0000019094B420C0>, <__main__.County object at 0x0000019094B43140>, <__main__.County object at 0x0000019094B43260>], [<__main__.County object at 0x0000019094B40560>, <__main__.County object at 0x0000019094B43B30>, <__main__.County object at 0x0000019094B43440>, <__main__.County object at 0x0000019094B412E0>, <__main__.County object at 0x0000019094B43110>, <__main__.County object at 0x0000019094B43050>, <__main__.County object at 0x0000019094B42D20>, <__main__.County object at 0x0000019094B43380>, <__main__.County object at 0x0000019094B437D0>, <__main__.County object at 0x0000019094B40EF0>, <__main__.County object at 0x0000019094B41580>, <__main__.County object at 0x0000019094B41B20>, <__main__.County object at 0x0000019094B42FC0>, <__main__.County object at 0x0000019094B42300>], [<__main__.County object at 0x0000019094B40920>, <__main__.County object at 0x0000019094B43FE0>, <__main__.County object at 0x0000019094B43DD0>, <__main__.County object at 0x0000019094B41DF0>, <__main__.County object at 0x0000019094B40BF0>, <__main__.County object at 0x0000019094B40D40>, <__main__.County object at 0x0000019094B42F60>, <__main__.County object at 0x0000019094B40890>, <__main__.County object at 0x0000019094B42F00>, <__main__.County object at 0x0000019094B439B0>, <__main__.County object at 0x0000019094B43B90>, <__main__.County object at 0x0000019094B42630>, <__main__.County object at 0x0000019094B43DA0>, <__main__.County object at 0x0000019094B405F0>], [<__main__.County object at 0x0000019094B41670>, <__main__.County object at 0x0000019094B42E70>, <__main__.County object at 0x0000019094B42000>, <__main__.County object at 0x0000019094B41D30>, <__main__.County object at 0x0000019094B40D10>, <__main__.County object at 0x0000019094B403E0>, <__main__.County object at 0x0000019094B43230>, <__main__.County object at 0x0000019094B42ED0>, <__main__.County object at 0x0000019094B43290>, <__main__.County object at 0x0000019094B43770>, <__main__.County object at 0x0000019094B41BE0>, <__main__.County object at 0x0000019094B43E60>, <__main__.County object at 0x0000019094B435F0>, <__main__.County object at 0x0000019094B42A80>], [<__main__.County object at 0x0000019094B41F40>, <__main__.County object at 0x0000019094B41D00>, <__main__.County object at 0x0000019094B40A10>, <__main__.County object at 0x0000019094B42060>, <__main__.County object at 0x0000019094B43980>, <__main__.County object at 0x0000019094B42570>, <__main__.County object at 0x0000019094B418E0>, <__main__.County object at 0x0000019094B43E30>, <__main__.County object at 0x0000019094B42AE0>, <__main__.County object at 0x0000019094B43F20>, <__main__.County object at 0x0000019094B42DE0>, <__main__.County object at 0x0000019094B40C80>, <__main__.County object at 0x0000019094B43320>, <__main__.County object at 0x0000019094B43C80>], [<__main__.County object at 0x0000019094B41190>, <__main__.County object at 0x0000019094B427E0>, <__main__.County object at 0x0000019094B430B0>, <__main__.County object at 0x0000019094B42150>, <__main__.County object at 0x0000019094B43A70>, <__main__.County object at 0x0000019094B431A0>, <__main__.County object at 0x0000019094B41070>, <__main__.County object at 0x0000019094B42C60>, <__main__.County object at 0x0000019094B43350>, <__main__.County object at 0x0000019094B42B70>, <__main__.County object at 0x0000019094B425D0>, <__main__.County object at 0x0000019094B41E80>, <__main__.County object at 0x0000019094B43650>, <__main__.County object at 0x0000019094B40DD0>], [<__main__.County object at 0x0000019094B421E0>, <__main__.County object at 0x0000019094B413D0>, <__main__.County object at 0x0000019094B404A0>, <__main__.County object at 0x0000019094B40BC0>, <__main__.County object at 0x0000019094B43A10>, <__main__.County object at 0x0000019094B41010>, <__main__.County object at 0x0000019094B43F80>, <__main__.County object at 0x0000019094B40E00>, <__main__.County object at 0x0000019094B42D50>, <__main__.County object at 0x0000019094B40980>, <__main__.County object at 0x0000019094B43200>, <__main__.County object at 0x0000019094B411C0>, <__main__.County object at 0x0000019094B41160>, <__main__.County object at 0x0000019094B40EC0>], [<__main__.County object at 0x0000019094B41E50>, <__main__.County object at 0x0000019094B43E90>, <__main__.County object at 0x0000019094B412B0>, <__main__.County object at 0x0000019094B41310>, <__main__.County object at 0x0000019094B42930>, <__main__.County object at 0x0000019094B438F0>, <__main__.County object at 0x0000019094B41A60>, <__main__.County object at 0x0000019094B424B0>, <__main__.County object at 0x0000019094B41250>, <__main__.County object at 0x0000019094B42900>, <__main__.County object at 0x0000019094B43500>, <__main__.County object at 0x0000019094B42A20>, <__main__.County object at 0x0000019094B40CE0>, <__main__.County object at 0x0000019094B40830>], [<__main__.County object at 0x0000019094B425A0>, <__main__.County object at 0x0000019094B41850>, <__main__.County object at 0x0000019094B43620>, <__main__.County object at 0x0000019094B43890>, <__main__.County object at 0x0000019094B435C0>, <__main__.County object at 0x0000019094B416A0>, <__main__.County object at 0x0000019094B43860>, <__main__.County object at 0x0000019094B43CE0>, <__main__.County object at 0x0000019094B41CA0>, <__main__.County object at 0x0000019094B43B00>, <__main__.County object at 0x0000019094B42330>, <__main__.County object at 0x0000019094B42240>, <__main__.County object at 0x0000019094B41E20>, <__main__.County object at 0x0000019094B41EE0>]], [[<__main__.County object at 0x0000019096833E90>, <__main__.County object at 0x0000019096833D70>, <__main__.County object at 0x0000019096833EC0>, <__main__.County object at 0x0000019096833E30>, <__main__.County object at 0x0000019096833C50>, <__main__.County object at 0x0000019096833A40>, <__main__.County object at 0x0000019096833950>, <__main__.County object at 0x0000019096833F20>, <__main__.County object at 0x0000019096833BF0>, <__main__.County object at 0x0000019096833860>, <__main__.County object at 0x0000019096833B60>, <__main__.County object at 0x0000019096833530>, <__main__.County object at 0x0000019096833D10>, <__main__.County object at 0x000001909208FEC0>], [<__main__.County object at 0x0000019094B41130>, <__main__.County object at 0x000001909736F3B0>, <__main__.County object at 0x0000019094B436E0>, <__main__.County object at 0x00000190968689E0>, <__main__.County object at 0x000001909686A450>, <__main__.County object at 0x0000019096833710>, <__main__.County object at 0x00000190968687A0>, <__main__.County object at 0x00000190968336E0>, <__main__.County object at 0x0000019094B40A40>, <__main__.County object at 0x0000019094B43EF0>, <__main__.County object at 0x0000019094B42BA0>, <__main__.County object at 0x0000019094B438C0>, <__main__.County object at 0x0000019096831BB0>, <__main__.County object at 0x0000019094B41820>], [<__main__.County object at 0x0000019096833EF0>, <__main__.County object at 0x0000019096833DA0>, <__main__.County object at 0x0000019096833CE0>, <__main__.County object at 0x00000190968333E0>, <__main__.County object at 0x0000019096833F80>, <__main__.County object at 0x0000019096833E00>, <__main__.County object at 0x0000019096833D40>, <__main__.County object at 0x00000190968339E0>, <__main__.County object at 0x0000019096833440>, <__main__.County object at 0x000001909208F4A0>, <__main__.County object at 0x0000019096833FB0>, <__main__.County object at 0x0000019096833350>, <__main__.County object at 0x0000019096833AD0>, <__main__.County object at 0x0000019096833800>], [<__main__.County object at 0x000001909208EB70>, <__main__.County object at 0x000001909208F560>, <__main__.County object at 0x000001909208CEF0>, <__main__.County object at 0x000001909208C770>, <__main__.County object at 0x000001909208C4D0>, <__main__.County object at 0x000001909208D400>, <__main__.County object at 0x000001909208F740>, <__main__.County object at 0x000001909208D2E0>, <__main__.County object at 0x000001909208D5B0>, <__main__.County object at 0x000001909208D970>, <__main__.County object at 0x000001909208E7E0>, <__main__.County object at 0x000001909208C710>, <__main__.County object at 0x000001909208CCB0>, <__main__.County object at 0x000001909208FCE0>], [<__main__.County object at 0x0000019094B429C0>, <__main__.County object at 0x0000019094B41CD0>, <__main__.County object at 0x0000019094B42870>, <__main__.County object at 0x000001909686A480>, <__main__.County object at 0x0000019094B423F0>, <__main__.County object at 0x0000019094B43560>, <__main__.County object at 0x0000019094B417F0>, <__main__.County object at 0x00000190968300B0>, <__main__.County object at 0x0000019096833C20>, <__main__.County object at 0x0000019096833380>, <__main__.County object at 0x0000019096833DD0>, <__main__.County object at 0x0000019096833A70>, <__main__.County object at 0x00000190968334D0>, <__main__.County object at 0x0000019096833560>], [<__main__.County object at 0x0000019094B42450>, <__main__.County object at 0x0000019094B43BC0>, <__main__.County object at 0x0000019094B42CC0>, <__main__.County object at 0x000001909686A660>, <__main__.County object at 0x0000019094B437A0>, <__main__.County object at 0x0000019094B40E90>, <__main__.County object at 0x0000019094B41760>, <__main__.County object at 0x0000019094B43A40>, <__main__.County object at 0x0000019094B43740>, <__main__.County object at 0x0000019094B41AC0>, <__main__.County object at 0x0000019094B43BF0>, <__main__.County object at 0x0000019094B404D0>, <__main__.County object at 0x0000019094B40A70>, <__main__.County object at 0x0000019094B408C0>], [<__main__.County object at 0x000001909208F6B0>, <__main__.County object at 0x000001909208E840>, <__main__.County object at 0x0000019096833B30>, <__main__.County object at 0x000001909208D490>, <__main__.County object at 0x0000019096833410>, <__main__.County object at 0x000001909208D730>, <__main__.County object at 0x000001909208CD10>, <__main__.County object at 0x000001909208FD70>, <__main__.County object at 0x000001909208D190>, <__main__.County object at 0x000001909208CF50>, <__main__.County object at 0x000001909208E030>, <__main__.County object at 0x000001909208F8F0>, <__main__.County object at 0x000001909208DAC0>, <__main__.County object at 0x000001909208E720>], [<__main__.County object at 0x000001909208C0B0>, <__main__.County object at 0x000001909208C470>, <__main__.County object at 0x000001909208CCE0>, <__main__.County object at 0x000001909208DDC0>, <__main__.County object at 0x000001909208CA40>, <__main__.County object at 0x000001909208D340>, <__main__.County object at 0x000001909208EEA0>, <__main__.County object at 0x000001909208D9A0>, <__main__.County object at 0x000001909208C890>, <__main__.County object at 0x000001909208D1F0>, <__main__.County object at 0x000001909208F140>, <__main__.County object at 0x000001909208DBE0>, <__main__.County object at 0x000001909208F5C0>, <__main__.County object at 0x000001909208EC00>], [<__main__.County object at 0x0000019096833740>, <__main__.County object at 0x00000190968335C0>, <__main__.County object at 0x000001909686BE00>, <__main__.County object at 0x00000190968335F0>, <__main__.County object at 0x0000019096833A10>, <__main__.County object at 0x0000019096833500>, <__main__.County object at 0x00000190968334A0>, <__main__.County object at 0x0000019096833830>, <__main__.County object at 0x00000190968339B0>, <__main__.County object at 0x0000019096833320>, <__main__.County object at 0x0000019096833590>, <__main__.County object at 0x0000019094B43B60>, <__main__.County object at 0x0000019094B42480>, <__main__.County object at 0x0000019096833980>], [<__main__.County object at 0x0000019094B40CB0>, <__main__.County object at 0x0000019096833E60>, <__main__.County object at 0x0000019096833620>, <__main__.County object at 0x0000019096833BC0>, <__main__.County object at 0x0000019096833C80>, <__main__.County object at 0x00000190968332C0>, <__main__.County object at 0x00000190968337D0>, <__main__.County object at 0x00000190968333B0>, <__main__.County object at 0x000001909686A4B0>, <__main__.County object at 0x00000190968338C0>, <__main__.County object at 0x000001909208F5F0>, <__main__.County object at 0x000001909208E960>, <__main__.County object at 0x000001909208F050>, <__main__.County object at 0x000001909208C5C0>], [<__main__.County object at 0x000001909027CC20>, <__main__.County object at 0x0000019094B43950>, <__main__.County object at 0x0000019094B41DC0>, <__main__.County object at 0x0000019094B41940>, <__main__.County object at 0x0000019090EDF4A0>, <__main__.County object at 0x00000190988EA1B0>, <__main__.County object at 0x0000019094B253A0>, <__main__.County object at 0x0000019096833B00>, <__main__.County object at 0x0000019094B43590>, <__main__.County object at 0x0000019096833AA0>, <__main__.County object at 0x0000019096833890>, <__main__.County object at 0x00000190968332F0>, <__main__.County object at 0x0000019096833680>, <__main__.County object at 0x00000190968338F0>], [<__main__.County object at 0x0000019094B43D10>, <__main__.County object at 0x0000019094B41A30>, <__main__.County object at 0x000001909208EC30>, <__main__.County object at 0x000001909208F620>, <__main__.County object at 0x000001909208D5E0>, <__main__.County object at 0x000001909208CDD0>, <__main__.County object at 0x000001909208D370>, <__main__.County object at 0x000001909208DD90>, <__main__.County object at 0x000001909208DE80>, <__main__.County object at 0x000001909208DB50>, <__main__.County object at 0x000001909208CB60>, <__main__.County object at 0x000001909208E780>, <__main__.County object at 0x000001909208C080>, <__main__.County object at 0x000001909208C3B0>], [<__main__.County object at 0x0000019094B42C00>, <__main__.County object at 0x0000019096833FE0>, <__main__.County object at 0x000001909208FAA0>, <__main__.County object at 0x0000019096833F50>, <__main__.County object at 0x000001909208E510>, <__main__.County object at 0x000001909208E900>, <__main__.County object at 0x000001909208C050>, <__main__.County object at 0x000001909208C4A0>, <__main__.County object at 0x000001909686BE60>, <__main__.County object at 0x0000019096831940>, <__main__.County object at 0x0000019096833B90>, <__main__.County object at 0x0000019096833CB0>, <__main__.County object at 0x00000190968337A0>, <__main__.County object at 0x000001909208D4C0>], [<__main__.County object at 0x0000019094B42D80>, <__main__.County object at 0x0000019094B41C70>, <__main__.County object at 0x000001909686A510>, <__main__.County object at 0x0000019096833650>, <__main__.County object at 0x000001909686A540>, <__main__.County object at 0x000001909208D220>, <__main__.County object at 0x000001909208C9E0>, <__main__.County object at 0x000001909208D460>, <__main__.County object at 0x000001909208D0A0>, <__main__.County object at 0x0000019096868980>, <__main__.County object at 0x0000019096833770>, <__main__.County object at 0x0000019094B43D40>, <__main__.County object at 0x000001909208C320>, <__main__.County object at 0x000001909208DAF0>]], [[<__main__.County object at 0x000001909208CF80>, <__main__.County object at 0x000001909208EC60>, <__main__.County object at 0x000001909208F260>, <__main__.County object at 0x000001909208C9B0>, <__main__.County object at 0x000001909208F350>, <__main__.County object at 0x000001909208EF00>, <__main__.County object at 0x000001909208C3E0>, <__main__.County object at 0x000001909208C1A0>, <__main__.County object at 0x000001909208C8C0>, <__main__.County object at 0x000001909208FDD0>, <__main__.County object at 0x000001909208FB00>, <__main__.County object at 0x000001909208F8C0>, <__main__.County object at 0x000001909208D1C0>, <__main__.County object at 0x000001909208EED0>], [<__main__.County object at 0x000001909208F470>, <__main__.County object at 0x000001909208F9B0>, <__main__.County object at 0x000001909208F500>, <__main__.County object at 0x000001909208EE40>, <__main__.County object at 0x000001909208C740>, <__main__.County object at 0x000001909208FA40>, <__main__.County object at 0x000001909208E450>, <__main__.County object at 0x000001909208EA80>, <__main__.County object at 0x000001909208E9C0>, <__main__.County object at 0x000001909208F650>, <__main__.County object at 0x000001909208F3E0>, <__main__.County object at 0x000001909208E060>, <__main__.County object at 0x000001909208F680>, <__main__.County object at 0x000001909208FE60>], [<__main__.County object at 0x000001909208D640>, <__main__.County object at 0x000001909208CDA0>, <__main__.County object at 0x000001909208C350>, <__main__.County object at 0x000001909208C7D0>, <__main__.County object at 0x000001909208C500>, <__main__.County object at 0x000001909208C5F0>, <__main__.County object at 0x000001909208FCB0>, <__main__.County object at 0x000001909208CEC0>, <__main__.County object at 0x000001909208CF20>, <__main__.County object at 0x000001909208CC80>, <__main__.County object at 0x000001909208FE30>, <__main__.County object at 0x000001909208F320>, <__main__.County object at 0x000001909208D850>, <__main__.County object at 0x000001909208EFF0>], [<__main__.County object at 0x000001909208FB30>, <__main__.County object at 0x0000019094B42270>, <__main__.County object at 0x0000019094B41D60>, <__main__.County object at 0x000001909208FAD0>, <__main__.County object at 0x000001909208FE00>, <__main__.County object at 0x000001909208D070>, <__main__.County object at 0x000001909208FC80>, <__main__.County object at 0x000001909208D610>, <__main__.County object at 0x0000019093C3EBD0>, <__main__.County object at 0x000001909208FD40>, <__main__.County object at 0x000001909208C7A0>, <__main__.County object at 0x000001909208D310>, <__main__.County object at 0x000001909208F380>, <__main__.County object at 0x000001909208F770>], [<__main__.County object at 0x000001909208EB10>, <__main__.County object at 0x000001909208F4D0>, <__main__.County object at 0x000001909208C620>, <__main__.County object at 0x000001909208EDB0>, <__main__.County object at 0x000001909208FA10>, <__main__.County object at 0x000001909208E630>, <__main__.County object at 0x000001909208E9F0>, <__main__.County object at 0x000001909208F230>, <__main__.County object at 0x000001909208F710>, <__main__.County object at 0x000001909208F1A0>, <__main__.County object at 0x000001909208D430>, <__main__.County object at 0x000001909208CE00>, <__main__.County object at 0x000001909208EA50>, <__main__.County object at 0x000001909208EAE0>], [<__main__.County object at 0x000001909208E3F0>, <__main__.County object at 0x000001909208E8A0>, <__main__.County object at 0x000001909208D760>, <__main__.County object at 0x000001909208E1E0>, <__main__.County object at 0x000001909208D0D0>, <__main__.County object at 0x000001909208D3A0>, <__main__.County object at 0x000001909208D7F0>, <__main__.County object at 0x000001909208DFD0>, <__main__.County object at 0x000001909208DEE0>, <__main__.County object at 0x000001909208E390>, <__main__.County object at 0x000001909208DA30>, <__main__.County object at 0x000001909208D7C0>, <__main__.County object at 0x000001909208E000>, <__main__.County object at 0x000001909208E090>], [<__main__.County object at 0x000001909208E4E0>, <__main__.County object at 0x000001909208EF60>, <__main__.County object at 0x000001909208E4B0>, <__main__.County object at 0x000001909208ECF0>, <__main__.County object at 0x000001909208FE90>, <__main__.County object at 0x000001909208EDE0>, <__main__.County object at 0x000001909208E870>, <__main__.County object at 0x000001909208F800>, <__main__.County object at 0x000001909208E5A0>, <__main__.County object at 0x000001909208E540>, <__main__.County object at 0x000001909208E7B0>, <__main__.County object at 0x000001909208E750>, <__main__.County object at 0x000001909208E6F0>, <__main__.County object at 0x000001909208E5D0>], [<__main__.County object at 0x000001909208F200>, <__main__.County object at 0x000001909208FDA0>, <__main__.County object at 0x000001909208CC50>, <__main__.County object at 0x000001909208D940>, <__main__.County object at 0x000001909208FD10>, <__main__.County object at 0x000001909208CB30>, <__main__.County object at 0x000001909208C980>, <__main__.County object at 0x000001909208F290>, <__main__.County object at 0x000001909208FF20>, <__main__.County object at 0x000001909208F2F0>, <__main__.County object at 0x000001909208CC20>, <__main__.County object at 0x000001909208C530>, <__main__.County object at 0x000001909208F3B0>, <__main__.County object at 0x000001909208C380>], [<__main__.County object at 0x000001909208FBF0>, <__main__.County object at 0x000001909208F950>, <__main__.County object at 0x000001909208FC50>, <__main__.County object at 0x000001909208F410>, <__main__.County object at 0x000001909208E6C0>, <__main__.County object at 0x000001909208EFC0>, <__main__.County object at 0x000001909208F980>, <__main__.County object at 0x000001909208E810>, <__main__.County object at 0x000001909208FC20>, <__main__.County object at 0x000001909208F530>, <__main__.County object at 0x000001909208EAB0>, <__main__.County object at 0x000001909208F7D0>, <__main__.County object at 0x000001909208EB40>, <__main__.County object at 0x000001909208E600>], [<__main__.County object at 0x000001909208F890>, <__main__.County object at 0x000001909208C0E0>, <__main__.County object at 0x000001909208C6E0>, <__main__.County object at 0x000001909208FF80>, <__main__.County object at 0x000001909208C440>, <__main__.County object at 0x000001909208D880>, <__main__.County object at 0x000001909208EC90>, <__main__.County object at 0x000001909208DB20>, <__main__.County object at 0x000001909208F080>, <__main__.County object at 0x000001909208DC40>, <__main__.County object at 0x000001909208CB90>, <__main__.County object at 0x000001909208C680>, <__main__.County object at 0x000001909208CE30>, <__main__.County object at 0x000001909208E0F0>], [<__main__.County object at 0x000001909208EF30>, <__main__.County object at 0x000001909208C590>, <__main__.County object at 0x000001909208CB00>, <__main__.County object at 0x000001909208C830>, <__main__.County object at 0x000001909208F0E0>, <__main__.County object at 0x000001909208EF90>, <__main__.County object at 0x000001909208EA20>, <__main__.County object at 0x000001909208DA90>, <__main__.County object at 0x000001909208E990>, <__main__.County object at 0x000001909208CBC0>, <__main__.County object at 0x000001909208DD60>, <__main__.County object at 0x000001909208F6E0>, <__main__.County object at 0x000001909208DDF0>, <__main__.County object at 0x000001909208D790>], [<__main__.County object at 0x000001908F2ABB90>, <__main__.County object at 0x000001909208D6D0>, <__main__.County object at 0x000001909208D160>, <__main__.County object at 0x000001909208F9E0>, <__main__.County object at 0x000001909208ECC0>, <__main__.County object at 0x000001909208C260>, <__main__.County object at 0x000001909208C290>, <__main__.County object at 0x000001909208FBC0>, <__main__.County object at 0x000001909208ED50>, <__main__.County object at 0x000001909208E420>, <__main__.County object at 0x000001909208C560>, <__main__.County object at 0x000001909208E210>, <__main__.County object at 0x000001909208D520>, <__main__.County object at 0x000001909208E570>], [<__main__.County object at 0x000001909208F830>, <__main__.County object at 0x000001909208F0B0>, <__main__.County object at 0x000001909208F7A0>, <__main__.County object at 0x000001909208FA70>, <__main__.County object at 0x000001909208D8B0>, <__main__.County object at 0x000001909208C200>, <__main__.County object at 0x000001909208C2F0>, <__main__.County object at 0x000001909208E480>, <__main__.County object at 0x000001909208E8D0>, <__main__.County object at 0x000001909208ED20>, <__main__.County object at 0x000001909208E240>, <__main__.County object at 0x000001909208FB90>, <__main__.County object at 0x000001909208D130>, <__main__.County object at 0x000001909208E3C0>], [<__main__.County object at 0x000001909208EBA0>, <__main__.County object at 0x000001909208F920>, <__main__.County object at 0x000001909208D3D0>, <__main__.County object at 0x000001909208E120>, <__main__.County object at 0x000001909208CAA0>, <__main__.County object at 0x000001909208D100>, <__main__.County object at 0x000001909208EE10>, <__main__.County object at 0x000001909208D250>, <__main__.County object at 0x000001909208DCA0>, <__main__.County object at 0x000001909208F440>, <__main__.County object at 0x000001909208C860>, <__main__.County object at 0x000001909208E660>, <__main__.County object at 0x000001909208ED80>, <__main__.County object at 0x000001909208F020>]], [[<__main__.County object at 0x0000019093D2E870>, <__main__.County object at 0x0000019093D2E990>, <__main__.County object at 0x000001908C30F7A0>, <__main__.County object at 0x000001908C30CE60>, <__main__.County object at 0x000001909208C8F0>, <__main__.County object at 0x000001908C30C950>, <__main__.County object at 0x000001908C30CFE0>, <__main__.County object at 0x000001908C30ECC0>, <__main__.County object at 0x0000019093D2E840>, <__main__.County object at 0x0000019093D2E600>, <__main__.County object at 0x000001908C30DD60>, <__main__.County object at 0x000001908C30E9C0>, <__main__.County object at 0x000001908C30E180>, <__main__.County object at 0x000001908C30DC70>], [<__main__.County object at 0x000001909208E1B0>, <__main__.County object at 0x000001909208D280>, <__main__.County object at 0x000001909208DD30>, <__main__.County object at 0x000001909208C110>, <__main__.County object at 0x000001909208CFB0>, <__main__.County object at 0x000001909208DE20>, <__main__.County object at 0x000001909208D670>, <__main__.County object at 0x000001909208DF70>, <__main__.County object at 0x000001909208D4F0>, <__main__.County object at 0x000001909208C1D0>, <__main__.County object at 0x000001909208CE60>, <__main__.County object at 0x000001909208FF50>, <__main__.County object at 0x000001909208D910>, <__main__.County object at 0x000001909208CD40>], [<__main__.County object at 0x00000190929E93A0>, <__main__.County object at 0x000001908C30F800>, <__main__.County object at 0x000001908C30F860>, <__main__.County object at 0x000001908C30E660>, <__main__.County object at 0x00000190929E8BF0>, <__main__.County object at 0x00000190929E8710>, <__main__.County object at 0x00000190929EBBF0>, <__main__.County object at 0x00000190929E98E0>, <__main__.County object at 0x00000190929EA360>, <__main__.County object at 0x00000190929EBDD0>, <__main__.County object at 0x00000190929EBC20>, <__main__.County object at 0x00000190929E9280>, <__main__.County object at 0x000001908C30F260>, <__main__.County object at 0x00000190929E9910>], [<__main__.County object at 0x000001909208CAD0>, <__main__.County object at 0x000001909208DA00>, <__main__.County object at 0x000001909208DEB0>, <__main__.County object at 0x000001909208D8E0>, <__main__.County object at 0x000001909208C950>, <__main__.County object at 0x000001909208DF40>, <__main__.County object at 0x000001909208DA60>, <__main__.County object at 0x000001909208E2A0>, <__main__.County object at 0x000001909208E150>, <__main__.County object at 0x000001909208C140>, <__main__.County object at 0x000001909208F1D0>, <__main__.County object at 0x000001909208E270>, <__main__.County object at 0x000001909208CFE0>, <__main__.County object at 0x000001908C30CBF0>], [<__main__.County object at 0x00000190929E9A90>, <__main__.County object at 0x00000190929E9400>, <__main__.County object at 0x00000190929E9AC0>, <__main__.County object at 0x00000190929E8470>, <__main__.County object at 0x00000190929E8080>, <__main__.County object at 0x00000190929EAA80>, <__main__.County object at 0x00000190929E8350>, <__main__.County object at 0x00000190929EA8D0>, <__main__.County object at 0x00000190929E8B60>, <__main__.County object at 0x00000190929E89B0>, <__main__.County object at 0x00000190929E8680>, <__main__.County object at 0x00000190929E9C40>, <__main__.County object at 0x00000190929EA1E0>, <__main__.County object at 0x00000190929E9AF0>], [<__main__.County object at 0x000001909208FFE0>, <__main__.County object at 0x000001909208DBB0>, <__main__.County object at 0x000001909208E330>, <__main__.County object at 0x000001909208C650>, <__main__.County object at 0x000001909208D820>, <__main__.County object at 0x0000019093D2E5D0>, <__main__.County object at 0x000001909208DF10>, <__main__.County object at 0x00000190904D3E60>, <__main__.County object at 0x000001909208F2C0>, <__main__.County object at 0x000001909208E360>, <__main__.County object at 0x000001909208D580>, <__main__.County object at 0x000001909208D040>, <__main__.County object at 0x000001908C30E090>, <__main__.County object at 0x000001908C30E6F0>], [<__main__.County object at 0x000001908C30D280>, <__main__.County object at 0x000001908C30F9B0>, <__main__.County object at 0x000001908C30CDD0>, <__main__.County object at 0x000001908C30F380>, <__main__.County object at 0x000001908C30F560>, <__main__.County object at 0x000001908C30F8C0>, <__main__.County object at 0x000001908C30D550>, <__main__.County object at 0x000001908C30C6E0>, <__main__.County object at 0x000001908C30E8A0>, <__main__.County object at 0x00000190929E8AD0>, <__main__.County object at 0x000001908C30E750>, <__main__.County object at 0x00000190929EBB00>, <__main__.County object at 0x00000190929E8A70>, <__main__.County object at 0x000001908C30FC20>], [<__main__.County object at 0x000001909208DE50>, <__main__.County object at 0x000001909208DD00>, <__main__.County object at 0x000001909208E300>, <__main__.County object at 0x000001909208E2D0>, <__main__.County object at 0x000001909208DB80>, <__main__.County object at 0x000001909208CA70>, <__main__.County object at 0x000001908C30D250>, <__main__.County object at 0x000001908C30F3B0>, <__main__.County object at 0x000001908C30DA00>, <__main__.County object at 0x000001909208D2B0>, <__main__.County object at 0x000001909208FEF0>, <__main__.County object at 0x000001909208C6B0>, <__main__.County object at 0x000001909208DC70>, <__main__.County object at 0x000001909208DCD0>], [<__main__.County object at 0x00000190929E92B0>, <__main__.County object at 0x00000190929EAFC0>, <__main__.County object at 0x00000190929EBDA0>, <__main__.County object at 0x00000190929E83E0>, <__main__.County object at 0x00000190929E8530>, <__main__.County object at 0x00000190929E8770>, <__main__.County object at 0x000001908C30C890>, <__main__.County object at 0x00000190929E8D40>, <__main__.County object at 0x000001908C30F1A0>, <__main__.County object at 0x000001908C30DD30>, <__main__.County object at 0x000001908C30D1C0>, <__main__.County object at 0x00000190929E99D0>, <__main__.County object at 0x00000190929EBAA0>, <__main__.County object at 0x00000190929EBF80>], [<__main__.County object at 0x000001909208E180>, <__main__.County object at 0x00000190929E83B0>, <__main__.County object at 0x00000190929E9340>, <__main__.County object at 0x00000190929E85F0>, <__main__.County object at 0x00000190929EB380>, <__main__.County object at 0x00000190929EBCE0>, <__main__.County object at 0x00000190929EB890>, <__main__.County object at 0x00000190929EACF0>, <__main__.County object at 0x00000190929EB440>, <__main__.County object at 0x00000190929EA0C0>, <__main__.County object at 0x00000190929E85C0>, <__main__.County object at 0x00000190929E8050>, <__main__.County object at 0x00000190929E8830>, <__main__.County object at 0x000001908C30FE60>], [<__main__.County object at 0x00000190929E81D0>, <__main__.County object at 0x00000190929EAA20>, <__main__.County object at 0x00000190929E9E80>, <__main__.County object at 0x00000190929E9E50>, <__main__.County object at 0x00000190929E8440>, <__main__.County object at 0x00000190929EACC0>, <__main__.County object at 0x00000190929E8170>, <__main__.County object at 0x00000190929EA900>, <__main__.County object at 0x00000190929EAA50>, <__main__.County object at 0x00000190929EB650>, <__main__.County object at 0x00000190929EA600>, <__main__.County object at 0x00000190929EA630>, <__main__.County object at 0x00000190929E9EB0>, <__main__.County object at 0x00000190929EBFE0>], [<__main__.County object at 0x00000190929E93D0>, <__main__.County object at 0x00000190929E9010>, <__main__.County object at 0x00000190929E8C80>, <__main__.County object at 0x00000190929E9370>, <__main__.County object at 0x00000190929E9DC0>, <__main__.County object at 0x00000190929E8E90>, <__main__.County object at 0x00000190929EA4B0>, <__main__.County object at 0x00000190929EAF30>, <__main__.County object at 0x00000190929E9D90>, <__main__.County object at 0x00000190929E8CB0>, <__main__.County object at 0x00000190929EB8C0>, <__main__.County object at 0x00000190929E9220>, <__main__.County object at 0x00000190929EBF20>, <__main__.County object at 0x00000190929E8F80>], [<__main__.County object at 0x000001908C30E990>, <__main__.County object at 0x000001908C30ECF0>, <__main__.County object at 0x000001908C30C500>, <__main__.County object at 0x000001908C30DCD0>, <__main__.County object at 0x000001908C30F200>, <__main__.County object at 0x000001908C30E690>, <__main__.County object at 0x000001908C30D0D0>, <__main__.County object at 0x000001908C30F680>, <__main__.County object at 0x000001908C30D5B0>, <__main__.County object at 0x000001908C30D310>, <__main__.County object at 0x000001908C30EB40>, <__main__.County object at 0x000001908C30E870>, <__main__.County object at 0x000001909208F590>, <__main__.County object at 0x000001909208CBF0>], [<__main__.County object at 0x000001909208D9D0>, <__main__.County object at 0x000001908C30D2B0>, <__main__.County object at 0x000001908C30E7B0>, <__main__.County object at 0x000001908C30E780>, <__main__.County object at 0x000001908C30DB80>, <__main__.County object at 0x000001908C30C980>, <__main__.County object at 0x000001908C30C650>, <__main__.County object at 0x00000190929E86B0>, <__main__.County object at 0x00000190929EB470>, <__main__.County object at 0x000001909208C230>, <__main__.County object at 0x00000190929E8BC0>, <__main__.County object at 0x000001909208E0C0>, <__main__.County object at 0x00000190929E9310>, <__main__.County object at 0x00000190929EA7B0>]], [[<__main__.County object at 0x00000190929E87D0>, <__main__.County object at 0x00000190929E8FB0>, <__main__.County object at 0x00000190929E9520>, <__main__.County object at 0x00000190929EB860>, <__main__.County object at 0x00000190929E84D0>, <__main__.County object at 0x00000190929E9190>, <__main__.County object at 0x00000190929EBE30>, <__main__.County object at 0x00000190929EB7D0>, <__main__.County object at 0x00000190929EB4A0>, <__main__.County object at 0x00000190929E8B90>, <__main__.County object at 0x00000190929E9130>, <__main__.County object at 0x00000190929E9820>, <__main__.County object at 0x00000190929EB740>, <__main__.County object at 0x00000190929E90D0>], [<__main__.County object at 0x00000190929EA000>, <__main__.County object at 0x00000190929E86E0>, <__main__.County object at 0x0000019092B22780>, <__main__.County object at 0x0000019092B23E90>, <__main__.County object at 0x0000019092B21DC0>, <__main__.County object at 0x0000019090F84C20>, <__main__.County object at 0x0000019090F84FE0>, <__main__.County object at 0x0000019090F86030>, <__main__.County object at 0x0000019090F87620>, <__main__.County object at 0x0000019090A39AF0>, <__main__.County object at 0x0000019090A39220>, <__main__.County object at 0x0000019090A396D0>, <__main__.County object at 0x0000019090A39430>, <__main__.County object at 0x0000019090A39D60>], [<__main__.County object at 0x00000190929EB950>, <__main__.County object at 0x00000190929EBFB0>, <__main__.County object at 0x00000190929EB350>, <__main__.County object at 0x00000190929EB500>, <__main__.County object at 0x00000190929E8110>, <__main__.County object at 0x00000190929EBA70>, <__main__.County object at 0x00000190929EBD10>, <__main__.County object at 0x00000190929E9640>, <__main__.County object at 0x00000190929EBE60>, <__main__.County object at 0x00000190929EB980>, <__main__.County object at 0x00000190929EA5A0>, <__main__.County object at 0x00000190929EBBC0>, <__main__.County object at 0x00000190929EAD20>, <__main__.County object at 0x00000190929EB290>], [<__main__.County object at 0x00000190929E8890>, <__main__.County object at 0x0000019092B225A0>, <__main__.County object at 0x0000019090F841A0>, <__main__.County object at 0x00000190929EA5D0>, <__main__.County object at 0x00000190929EAD50>, <__main__.County object at 0x00000190929EB320>, <__main__.County object at 0x00000190929EB2F0>, <__main__.County object at 0x00000190929EAFF0>, <__main__.County object at 0x000001908C18C9E0>, <__main__.County object at 0x000001908C279EB0>, <__main__.County object at 0x0000019090A3AA80>, <__main__.County object at 0x0000019090A39970>, <__main__.County object at 0x00000190929EB710>, <__main__.County object at 0x00000190929EB9B0>], [<__main__.County object at 0x00000190929EB200>, <__main__.County object at 0x00000190929EB260>, <__main__.County object at 0x00000190929EBCB0>, <__main__.County object at 0x00000190929EBF50>, <__main__.County object at 0x00000190929E91F0>, <__main__.County object at 0x00000190929EB7A0>, <__main__.County object at 0x00000190929EB2C0>, <__main__.County object at 0x00000190929EB020>, <__main__.County object at 0x00000190929EB560>, <__main__.County object at 0x00000190929EB5F0>, <__main__.County object at 0x00000190929E8EC0>, <__main__.County object at 0x00000190929E8140>, <__main__.County object at 0x00000190929EB4D0>, <__main__.County object at 0x00000190929E9C10>], [<__main__.County object at 0x00000190929EB590>, <__main__.County object at 0x00000190929EAB10>, <__main__.County object at 0x00000190929EBE90>, <__main__.County object at 0x00000190929EA300>, <__main__.County object at 0x00000190929E9D60>, <__main__.County object at 0x00000190929EB530>, <__main__.County object at 0x00000190929EBD40>, <__main__.County object at 0x00000190929EB9E0>, <__main__.County object at 0x00000190929EA570>, <__main__.County object at 0x00000190929EAAE0>, <__main__.County object at 0x00000190929EB6E0>, <__main__.County object at 0x00000190929EA060>, <__main__.County object at 0x00000190929EB0B0>, <__main__.County object at 0x00000190929EA7E0>], [<__main__.County object at 0x00000190929EAAB0>, <__main__.County object at 0x00000190929EAB70>, <__main__.County object at 0x00000190929EAB40>, <__main__.County object at 0x00000190929EAE10>, <__main__.County object at 0x00000190929EB080>, <__main__.County object at 0x00000190929EB230>, <__main__.County object at 0x00000190929EA810>, <__main__.County object at 0x00000190929EBEC0>, <__main__.County object at 0x00000190929EB770>, <__main__.County object at 0x00000190929EBEF0>, <__main__.County object at 0x00000190929EA840>, <__main__.County object at 0x00000190929EB5C0>, <__main__.County object at 0x00000190929E9040>, <__main__.County object at 0x00000190929EAD80>], [<__main__.County object at 0x00000190929EA0F0>, <__main__.County object at 0x0000019092B22120>, <__main__.County object at 0x00000190929EA3C0>, <__main__.County object at 0x0000019092B22090>, <__main__.County object at 0x00000190929EADE0>, <__main__.County object at 0x00000190929EA390>, <__main__.County object at 0x00000190929E9B50>, <__main__.County object at 0x0000019092B21F40>, <__main__.County object at 0x0000019092B21D90>, <__main__.County object at 0x00000190929EA870>, <__main__.County object at 0x00000190929EAE40>, <__main__.County object at 0x0000019090F87710>, <__main__.County object at 0x00000190929EA330>, <__main__.County object at 0x0000019090F87650>], [<__main__.County object at 0x00000190929EBA10>, <__main__.County object at 0x0000019094B439E0>, <__main__.County object at 0x0000019090A396A0>, <__main__.County object at 0x0000019090A38E60>, <__main__.County object at 0x0000019090A38EC0>, <__main__.County object at 0x0000019090A39670>, <__main__.County object at 0x0000019090A38140>, <__main__.County object at 0x0000019090A3B410>, <__main__.County object at 0x0000019090A3B830>, <__main__.County object at 0x0000019090A39700>, <__main__.County object at 0x0000019090A3AD80>, <__main__.County object at 0x0000019090A3A930>, <__main__.County object at 0x0000019090A3BB00>, <__main__.County object at 0x0000019090A3BAA0>], [<__main__.County object at 0x00000190929E9C70>, <__main__.County object at 0x00000190929E8230>, <__main__.County object at 0x00000190929E8320>, <__main__.County object at 0x00000190929E9250>, <__main__.County object at 0x00000190929E8C50>, <__main__.County object at 0x00000190929E8950>, <__main__.County object at 0x00000190929E91C0>, <__main__.County object at 0x00000190929EB8F0>, <__main__.County object at 0x00000190929EB920>, <__main__.County object at 0x00000190929EB3E0>, <__main__.County object at 0x00000190929EADB0>, <__main__.County object at 0x00000190929E9FA0>, <__main__.County object at 0x00000190929EABA0>, <__main__.County object at 0x00000190929EA8A0>], [<__main__.County object at 0x00000190929E87A0>, <__main__.County object at 0x00000190929EB0E0>, <__main__.County object at 0x0000019090A39010>, <__main__.County object at 0x0000019090A39490>, <__main__.County object at 0x0000019090A39910>, <__main__.County object at 0x0000019090A39940>, <__main__.County object at 0x0000019090A39640>, <__main__.County object at 0x0000019090A395E0>, <__main__.County object at 0x0000019090A39B20>, <__main__.County object at 0x0000019090F845C0>, <__main__.County object at 0x0000019090F84380>, <__main__.County object at 0x0000019090A398B0>, <__main__.County object at 0x0000019090A39BB0>, <__main__.County object at 0x0000019090F84CE0>], [<__main__.County object at 0x0000019090A39280>, <__main__.County object at 0x0000019090F85220>, <__main__.County object at 0x0000019090F879E0>, <__main__.County object at 0x0000019090A391F0>, <__main__.County object at 0x0000019090F847A0>, <__main__.County object at 0x0000019090A398E0>, <__main__.County object at 0x0000019090A39DC0>, <__main__.County object at 0x0000019090A3ACF0>, <__main__.County object at 0x0000019090F84D70>, <__main__.County object at 0x0000019092B22360>, <__main__.County object at 0x0000019090A394C0>, <__main__.County object at 0x0000019090A3B6B0>, <__main__.County object at 0x0000019090A3A990>, <__main__.County object at 0x0000019090A39460>], [<__main__.County object at 0x00000190929EBB60>, <__main__.County object at 0x00000190929EBC80>, <__main__.County object at 0x00000190929EB050>, <__main__.County object at 0x00000190929E9F40>, <__main__.County object at 0x00000190929EAF90>, <__main__.County object at 0x00000190929EB800>, <__main__.County object at 0x00000190929EBB90>, <__main__.County object at 0x0000019090A38F80>, <__main__.County object at 0x0000019090A3A9F0>, <__main__.County object at 0x0000019090F87AD0>, <__main__.County object at 0x0000019090A3B020>, <__main__.County object at 0x0000019090A39B80>, <__main__.County object at 0x0000019090F845F0>, <__main__.County object at 0x0000019092B23D70>], [<__main__.County object at 0x00000190929EA660>, <__main__.County object at 0x0000019090F84CB0>, <__main__.County object at 0x0000019092B22390>, <__main__.County object at 0x0000019090A39250>, <__main__.County object at 0x0000019090A3BD10>, <__main__.County object at 0x0000019090A3A8D0>, <__main__.County object at 0x0000019090A39B50>, <__main__.County object at 0x0000019090A38260>, <__main__.County object at 0x0000019090A394F0>, <__main__.County object at 0x0000019090F86570>, <__main__.County object at 0x0000019090F85010>, <__main__.County object at 0x0000019090F84800>, <__main__.County object at 0x0000019090F87410>, <__main__.County object at 0x0000019090A3BEF0>]], [[<__main__.County object at 0x0000019090A3AB70>, <__main__.County object at 0x0000019090A39EE0>, <__main__.County object at 0x0000019090A39550>, <__main__.County object at 0x0000019090A390A0>, <__main__.County object at 0x0000019090A3A120>, <__main__.County object at 0x0000019090A3ABA0>, <__main__.County object at 0x0000019090A391C0>, <__main__.County object at 0x0000019090A39580>, <__main__.County object at 0x0000019090A3A6F0>, <__main__.County object at 0x0000019090A3B470>, <__main__.County object at 0x0000019090A3B650>, <__main__.County object at 0x0000019090A3ABD0>, <__main__.County object at 0x0000019090A3BCB0>, <__main__.County object at 0x0000019090A3BF80>], [<__main__.County object at 0x0000019090A382F0>, <__main__.County object at 0x0000019090A3B7A0>, <__main__.County object at 0x0000019090A3B860>, <__main__.County object at 0x0000019090A3BF20>, <__main__.County object at 0x0000019090A3BAD0>, <__main__.County object at 0x0000019090A3ADB0>, <__main__.County object at 0x0000019090A3A630>, <__main__.County object at 0x0000019090A39340>, <__main__.County object at 0x0000019090A38860>, <__main__.County object at 0x0000019090A3B2C0>, <__main__.County object at 0x0000019090A3B740>, <__main__.County object at 0x0000019090A3A690>, <__main__.County object at 0x0000019090A3A5A0>, <__main__.County object at 0x0000019090A3B350>], [<__main__.County object at 0x0000019090A3B200>, <__main__.County object at 0x0000019090A3B620>, <__main__.County object at 0x0000019090A3A210>, <__main__.County object at 0x0000019090A38EF0>, <__main__.County object at 0x0000019090A38AA0>, <__main__.County object at 0x0000019090A3A0C0>, <__main__.County object at 0x0000019090A39FD0>, <__main__.County object at 0x0000019090A38AD0>, <__main__.County object at 0x0000019090A38B60>, <__main__.County object at 0x0000019090A3A900>, <__main__.County object at 0x0000019090A3A9C0>, <__main__.County object at 0x0000019090A3A570>, <__main__.County object at 0x0000019090A38F50>, <__main__.County object at 0x0000019090A3A0F0>], [<__main__.County object at 0x0000019090A38D10>, <__main__.County object at 0x0000019090A3A5D0>, <__main__.County object at 0x0000019090A3BB30>, <__main__.County object at 0x0000019090A380B0>, <__main__.County object at 0x0000019090A385C0>, <__main__.County object at 0x0000019090A3BF50>, <__main__.County object at 0x000001909208D700>, <__main__.County object at 0x0000019090A387D0>, <__main__.County object at 0x0000019090A3B8F0>, <__main__.County object at 0x000001908A7BCA10>, <__main__.County object at 0x0000019090A3B890>, <__main__.County object at 0x0000019090A3B1A0>, <__main__.County object at 0x0000019090A38710>, <__main__.County object at 0x0000019090A39400>], [<__main__.County object at 0x0000019090A3A1E0>, <__main__.County object at 0x0000019090A393D0>, <__main__.County object at 0x0000019090A38CE0>, <__main__.County object at 0x0000019090A38D70>, <__main__.County object at 0x0000019090A3A330>, <__main__.County object at 0x0000019090A3A420>, <__main__.County object at 0x0000019090A38BC0>, <__main__.County object at 0x0000019090A3A720>, <__main__.County object at 0x0000019090A39730>, <__main__.County object at 0x0000019090A3A030>, <__main__.County object at 0x0000019090A3A1B0>, <__main__.County object at 0x0000019090A3A450>, <__main__.County object at 0x0000019090A3B290>, <__main__.County object at 0x0000019090A38E00>], [<__main__.County object at 0x0000019090A39D90>, <__main__.County object at 0x0000019090A39D30>, <__main__.County object at 0x0000019090A3A4E0>, <__main__.County object at 0x0000019090A38BF0>, <__main__.County object at 0x0000019090A395B0>, <__main__.County object at 0x0000019090A393A0>, <__main__.County object at 0x0000019090A3A060>, <__main__.County object at 0x0000019090A3A150>, <__main__.County object at 0x0000019090A38B00>, <__main__.County object at 0x0000019090A39FA0>, <__main__.County object at 0x0000019090A3AB10>, <__main__.County object at 0x0000019090A3AE40>, <__main__.County object at 0x0000019090A3B230>, <__main__.County object at 0x0000019090A38B90>], [<__main__.County object at 0x0000019090A3A390>, <__main__.County object at 0x0000019090A38DA0>, <__main__.County object at 0x0000019090A3A8A0>, <__main__.County object at 0x0000019090A39E50>, <__main__.County object at 0x0000019090A39E20>, <__main__.County object at 0x0000019090A3A4B0>, <__main__.County object at 0x0000019090A3A2D0>, <__main__.County object at 0x0000019090A3B6E0>, <__main__.County object at 0x0000019090A3AF90>, <__main__.County object at 0x0000019090A397F0>, <__main__.County object at 0x0000019090A39850>, <__main__.County object at 0x0000019090A39880>, <__main__.County object at 0x0000019090A39F10>, <__main__.County object at 0x0000019090A39C40>], [<__main__.County object at 0x0000019090A3BD40>, <__main__.County object at 0x0000019090A3AE10>, <__main__.County object at 0x0000019090A3AD50>, <__main__.County object at 0x0000019090A3B440>, <__main__.County object at 0x0000019090A3B5F0>, <__main__.County object at 0x0000019090A39A90>, <__main__.County object at 0x0000019090A3B170>, <__main__.County object at 0x0000019090A3A360>, <__main__.County object at 0x0000019090A39100>, <__main__.County object at 0x0000019090A3AA50>, <__main__.County object at 0x0000019090A3A540>, <__main__.County object at 0x0000019090A3A480>, <__main__.County object at 0x0000019090A399D0>, <__main__.County object at 0x0000019090A3AC30>], [<__main__.County object at 0x0000019090A39760>, <__main__.County object at 0x0000019090A39310>, <__main__.County object at 0x0000019090A39370>, <__main__.County object at 0x0000019090A38C50>, <__main__.County object at 0x0000019090A399A0>, <__main__.County object at 0x0000019090A39790>, <__main__.County object at 0x0000019090A3B920>, <__main__.County object at 0x0000019090A38F20>, <__main__.County object at 0x0000019090A3A780>, <__main__.County object at 0x0000019090A38CB0>, <__main__.County object at 0x0000019090A3BCE0>, <__main__.County object at 0x0000019090A3B8C0>, <__main__.County object at 0x0000019090A3A600>, <__main__.County object at 0x0000019090A3A960>], [<__main__.County object at 0x0000019090A39BE0>, <__main__.County object at 0x0000019090A38FB0>, <__main__.County object at 0x0000019090A3AC00>, <__main__.County object at 0x0000019090A3A000>, <__main__.County object at 0x0000019090A3A660>, <__main__.County object at 0x0000019090A39CA0>, <__main__.County object at 0x0000019090A39040>, <__main__.County object at 0x0000019090A3AF30>, <__main__.County object at 0x0000019090A3B050>, <__main__.County object at 0x0000019090A3A3C0>, <__main__.County object at 0x0000019090A3AA20>, <__main__.County object at 0x0000019090A397C0>, <__main__.County object at 0x0000019090A3A3F0>, <__main__.County object at 0x0000019090A3A240>], [<__main__.County object at 0x0000019090A385F0>, <__main__.County object at 0x0000019090A38320>, <__main__.County object at 0x0000019090A3AED0>, <__main__.County object at 0x0000019090A3AFF0>, <__main__.County object at 0x0000019090A3A810>, <__main__.County object at 0x0000019090A3A7B0>, <__main__.County object at 0x0000019090A3B1D0>, <__main__.County object at 0x0000019090A3AF60>, <__main__.County object at 0x0000019090A3AD20>, <__main__.County object at 0x0000019090A3AAB0>, <__main__.County object at 0x0000019090A3ADE0>, <__main__.County object at 0x0000019090A3B950>, <__main__.County object at 0x0000019090A3B680>, <__main__.County object at 0x0000019090A39160>], [<__main__.County object at 0x0000019090A3BA70>, <__main__.County object at 0x0000019090A3AAE0>, <__main__.County object at 0x0000019090A39CD0>, <__main__.County object at 0x0000019090A38D40>, <__main__.County object at 0x0000019090A39520>, <__main__.County object at 0x0000019090A38A70>, <__main__.County object at 0x0000019090A38E90>, <__main__.County object at 0x0000019090A39A00>, <__main__.County object at 0x0000019090A39F70>, <__main__.County object at 0x0000019090A39D00>, <__main__.County object at 0x0000019090A3A270>, <__main__.County object at 0x0000019090A3A870>, <__main__.County object at 0x0000019090A39A30>, <__main__.County object at 0x0000019090A39070>], [<__main__.County object at 0x0000019090A38FE0>, <__main__.County object at 0x0000019090A392B0>, <__main__.County object at 0x0000019090A39820>, <__main__.County object at 0x0000019090A39AC0>, <__main__.County object at 0x0000019090A38B30>, <__main__.County object at 0x0000019090A3B3B0>, <__main__.County object at 0x0000019090A3BB60>, <__main__.County object at 0x0000019090A3AFC0>, <__main__.County object at 0x0000019090A3A840>, <__main__.County object at 0x0000019090A39C10>, <__main__.County object at 0x0000019090A38E30>, <__main__.County object at 0x0000019090A3A300>, <__main__.County object at 0x0000019090A392E0>, <__main__.County object at 0x0000019090A39190>], [<__main__.County object at 0x0000019090A390D0>, <__main__.County object at 0x0000019090A3B3E0>, <__main__.County object at 0x0000019090A3BE90>, <__main__.County object at 0x0000019090A3B770>, <__main__.County object at 0x0000019090A3B500>, <__main__.County object at 0x0000019090A3B080>, <__main__.County object at 0x0000019090A39DF0>, <__main__.County object at 0x0000019090A3AB40>, <__main__.County object at 0x0000019090A39EB0>, <__main__.County object at 0x0000019090A39610>, <__main__.County object at 0x0000019090A38080>, <__main__.County object at 0x0000019090A3B530>, <__main__.County object at 0x0000019090A3A180>, <__main__.County object at 0x0000019090A38590>]], [[<__main__.County object at 0x0000019090A388F0>, <__main__.County object at 0x0000019090A381D0>, <__main__.County object at 0x0000019090A38A40>, <__main__.County object at 0x0000019090A3BE60>, <__main__.County object at 0x0000019090A383E0>, <__main__.County object at 0x0000019090A3B0B0>, <__main__.County object at 0x0000019095DEEE10>, <__main__.County object at 0x0000019090A3BBF0>, <__main__.County object at 0x0000019090A38830>, <__main__.County object at 0x0000019095DEE7B0>, <__main__.County object at 0x0000019090A38950>, <__main__.County object at 0x0000019090A38980>, <__main__.County object at 0x0000019090A3B7D0>, <__main__.County object at 0x0000019090A384A0>], [<__main__.County object at 0x0000019090A3A510>, <__main__.County object at 0x0000019090A39F40>, <__main__.County object at 0x0000019090A38050>, <__main__.County object at 0x0000019090A3B980>, <__main__.County object at 0x0000019090A38170>, <__main__.County object at 0x0000019090A3B9E0>, <__main__.County object at 0x0000019090A388C0>, <__main__.County object at 0x0000019090A38800>, <__main__.County object at 0x0000019090A3BFE0>, <__main__.County object at 0x0000019090A3AE70>, <__main__.County object at 0x0000019090A3A2A0>, <__main__.County object at 0x0000019090A3AEA0>, <__main__.County object at 0x0000019090A386B0>, <__main__.County object at 0x0000019090A38290>], [<__main__.County object at 0x0000019090A38200>, <__main__.County object at 0x0000019090A3A7E0>, <__main__.County object at 0x0000019095DECB90>, <__main__.County object at 0x0000019090A38650>, <__main__.County object at 0x0000019090A3BC20>, <__main__.County object at 0x0000019095DEEB10>, <__main__.County object at 0x0000019095DEEB70>, <__main__.County object at 0x0000019095DEDC40>, <__main__.County object at 0x0000019090A3BC80>, <__main__.County object at 0x0000019095DEF800>, <__main__.County object at 0x0000019090A38530>, <__main__.County object at 0x0000019090A38920>, <__main__.County object at 0x0000019090A380E0>, <__main__.County object at 0x0000019090A3B5C0>], [<__main__.County object at 0x0000019090A3BB90>, <__main__.County object at 0x0000019090A38680>, <__main__.County object at 0x0000019090A3B710>, <__main__.County object at 0x0000019090A38470>, <__main__.County object at 0x0000019095DEF1A0>, <__main__.County object at 0x0000019095DEF980>, <__main__.County object at 0x0000019095DEFBF0>, <__main__.County object at 0x0000019095DEF950>, <__main__.County object at 0x0000019095DEF3E0>, <__main__.County object at 0x0000019095DEEF60>, <__main__.County object at 0x0000019095DEF8C0>, <__main__.County object at 0x0000019095DEF6E0>, <__main__.County object at 0x0000019095DEEA50>, <__main__.County object at 0x0000019095DEF0B0>], [<__main__.County object at 0x0000019095DED4F0>, <__main__.County object at 0x0000019095DEF5C0>, <__main__.County object at 0x0000019090A38410>, <__main__.County object at 0x0000019090A3BD70>, <__main__.County object at 0x0000019090A3AC60>, <__main__.County object at 0x0000019090A38620>, <__main__.County object at 0x0000019090A38890>, <__main__.County object at 0x0000019090A383B0>, <__main__.County object at 0x0000019090A3B560>, <__main__.County object at 0x0000019090A387A0>, <__main__.County object at 0x0000019090A38770>, <__main__.County object at 0x0000019090A3AC90>, <__main__.County object at 0x0000019090A38110>, <__main__.County object at 0x0000019090A38230>], [<__main__.County object at 0x0000019090A3B110>, <__main__.County object at 0x0000019090A3B4A0>, <__main__.County object at 0x0000019090A3A6C0>, <__main__.County object at 0x0000019090A39130>, <__main__.County object at 0x0000019090A38350>, <__main__.County object at 0x0000019090A39E80>, <__main__.County object at 0x0000019090A3ACC0>, <__main__.County object at 0x0000019090A3A090>, <__main__.County object at 0x0000019090A38C80>, <__main__.County object at 0x0000019090A38440>, <__main__.County object at 0x0000019090A382C0>, <__main__.County object at 0x0000019090A3BDA0>, <__main__.County object at 0x0000019090A381A0>, <__main__.County object at 0x0000019090A3BE30>], [<__main__.County object at 0x0000019095DD6EA0>, <__main__.County object at 0x0000019095DD7380>, <__main__.County object at 0x0000019095DD6810>, <__main__.County object at 0x0000019095DD6AE0>, <__main__.County object at 0x0000019095DD6CC0>, <__main__.County object at 0x0000019095D03D40>, <__main__.County object at 0x0000019095DD6AB0>, <__main__.County object at 0x0000019095DD6870>, <__main__.County object at 0x0000019095DD7530>, <__main__.County object at 0x0000019095DD71D0>, <__main__.County object at 0x0000019095DD77A0>, <__main__.County object at 0x0000019095DD7470>, <__main__.County object at 0x0000019095DD6FC0>, <__main__.County object at 0x0000019095DD7230>], [<__main__.County object at 0x0000019095DEE930>, <__main__.County object at 0x0000019095DEF6B0>, <__main__.County object at 0x0000019095DEF380>, <__main__.County object at 0x0000019095DEECF0>, <__main__.County object at 0x0000019090A389B0>, <__main__.County object at 0x0000019095DEEAB0>, <__main__.County object at 0x0000019095DEF140>, <__main__.County object at 0x0000019095DEF1D0>, <__main__.County object at 0x0000019095DEFBC0>, <__main__.County object at 0x0000019095DEF9E0>, <__main__.County object at 0x0000019095DEEED0>, <__main__.County object at 0x0000019095DEF8F0>, <__main__.County object at 0x0000019095DEEC30>, <__main__.County object at 0x0000019095DEEC90>], [<__main__.County object at 0x000001908C3DF050>, <__main__.County object at 0x0000019095DED280>, <__main__.County object at 0x0000019095DED7C0>, <__main__.County object at 0x0000019090A3B590>, <__main__.County object at 0x0000019090A3BBC0>, <__main__.County object at 0x0000019095DECBF0>, <__main__.County object at 0x0000019095DEDAC0>, <__main__.County object at 0x0000019095DEF0E0>, <__main__.County object at 0x0000019095DD6E70>, <__main__.County object at 0x0000019095DD6C00>, <__main__.County object at 0x0000019095DD6840>, <__main__.County object at 0x0000019095DD7680>, <__main__.County object at 0x0000019095DD4B60>, <__main__.County object at 0x0000019095DD68A0>], [<__main__.County object at 0x0000019090A3BC50>, <__main__.County object at 0x0000019090A3B320>, <__main__.County object at 0x0000019090A3B4D0>, <__main__.County object at 0x0000019090A38560>, <__main__.County object at 0x0000019095DEEF00>, <__main__.County object at 0x0000019095DEEEA0>, <__main__.County object at 0x0000019095DEF920>, <__main__.County object at 0x0000019095DEF110>, <__main__.County object at 0x0000019095DEEC60>, <__main__.County object at 0x0000019095DEF560>, <__main__.County object at 0x0000019095DEF890>, <__main__.County object at 0x0000019095DEF3B0>, <__main__.County object at 0x0000019095DEEF30>, <__main__.County object at 0x0000019095DEF350>], [<__main__.County object at 0x0000019095DEF680>, <__main__.County object at 0x0000019095DEECC0>, <__main__.County object at 0x0000019095DEF170>, <__main__.County object at 0x0000019095D03830>, <__main__.County object at 0x0000019095DEEF90>, <__main__.County object at 0x0000019095DEFB60>, <__main__.County object at 0x0000019095DEEAE0>, <__main__.County object at 0x0000019090A3B9B0>, <__main__.County object at 0x0000019095DEE8D0>, <__main__.County object at 0x0000019095DEFB30>, <__main__.County object at 0x0000019095DED790>, <__main__.County object at 0x0000019095D03AD0>, <__main__.County object at 0x0000019095D00680>, <__main__.County object at 0x0000019095DD7500>], [<__main__.County object at 0x0000019090A3AF00>, <__main__.County object at 0x0000019090A386E0>, <__main__.County object at 0x0000019090A3BEC0>, <__main__.County object at 0x0000019090A38500>, <__main__.County object at 0x0000019090A389E0>, <__main__.County object at 0x0000019090A38A10>, <__main__.County object at 0x0000019090A38740>, <__main__.County object at 0x0000019090A384D0>, <__main__.County object at 0x0000019090A3BFB0>, <__main__.County object at 0x0000019090A3BA40>, <__main__.County object at 0x0000019095DD6A20>, <__main__.County object at 0x0000019095DD7950>, <__main__.County object at 0x0000019095DD6C30>, <__main__.County object at 0x0000019095DD7B30>], [<__main__.County object at 0x0000019090A3BA10>, <__main__.County object at 0x0000019095DED9D0>, <__main__.County object at 0x0000019095DEE9F0>, <__main__.County object at 0x0000019095DEF650>, <__main__.County object at 0x0000019095DEE780>, <__main__.County object at 0x0000019095DD6930>, <__main__.County object at 0x0000019095DD69C0>, <__main__.County object at 0x0000019095DD7E30>, <__main__.County object at 0x0000019095DEFB90>, <__main__.County object at 0x0000019095DEF620>, <__main__.County object at 0x0000019095DD70E0>, <__main__.County object at 0x0000019095DD6A50>, <__main__.County object at 0x0000019095DD7110>, <__main__.County object at 0x0000019095DEEE70>], [<__main__.County object at 0x0000019095D01A60>, <__main__.County object at 0x0000019095DD7BC0>, <__main__.County object at 0x0000019095DD6E40>, <__main__.County object at 0x0000019095DD6C60>, <__main__.County object at 0x0000019095DEE9C0>, <__main__.County object at 0x0000019095DEF710>, <__main__.County object at 0x0000019095DEF5F0>, <__main__.County object at 0x0000019095DD7980>, <__main__.County object at 0x0000019095DD7770>, <__main__.County object at 0x0000019095DD78C0>, <__main__.County object at 0x0000019095DD7650>, <__main__.County object at 0x0000019095DEDA00>, <__main__.County object at 0x0000019090A3B2F0>, <__main__.County object at 0x0000019090A39C70>]], [[<__main__.County object at 0x0000019095DD6B70>, <__main__.County object at 0x0000019095DD7B90>, <__main__.County object at 0x0000019095DD7080>, <__main__.County object at 0x0000019095DD7860>, <__main__.County object at 0x0000019095DD7C50>, <__main__.County object at 0x00000190949DC530>, <__main__.County object at 0x00000190949DC290>, <__main__.County object at 0x0000019095DD7A10>, <__main__.County object at 0x0000019095DD6CF0>, <__main__.County object at 0x0000019095DD7560>, <__main__.County object at 0x00000190949DC4A0>, <__main__.County object at 0x0000019095DD78F0>, <__main__.County object at 0x0000019095DD7F20>, <__main__.County object at 0x0000019095DD6F00>], [<__main__.County object at 0x00000190949DC200>, <__main__.County object at 0x00000190949DC710>, <__main__.County object at 0x00000190949DC170>, <__main__.County object at 0x00000190949DC1A0>, <__main__.County object at 0x0000019095DD76B0>, <__main__.County object at 0x0000019095DD6D50>, <__main__.County object at 0x00000190949DC5F0>, <__main__.County object at 0x00000190949DC380>, <__main__.County object at 0x0000019094172960>, <__main__.County object at 0x0000019094171490>, <__main__.County object at 0x00000190941731D0>, <__main__.County object at 0x0000019095DD4C20>, <__main__.County object at 0x0000019094172840>, <__main__.County object at 0x0000019094173CE0>], [<__main__.County object at 0x0000019095DD6A80>, <__main__.County object at 0x0000019095DD7320>, <__main__.County object at 0x0000019095DD7DD0>, <__main__.County object at 0x0000019095DD7830>, <__main__.County object at 0x0000019095DD7620>, <__main__.County object at 0x0000019095DD7A40>, <__main__.County object at 0x0000019095DD7590>, <__main__.County object at 0x0000019095DD7B00>, <__main__.County object at 0x0000019095DD7C80>, <__main__.County object at 0x0000019095DD72C0>, <__main__.County object at 0x0000019095DD71A0>, <__main__.County object at 0x0000019095DD7E00>, <__main__.County object at 0x0000019095DD7920>, <__main__.County object at 0x0000019095DD7B60>], [<__main__.County object at 0x00000190941707A0>, <__main__.County object at 0x0000019094172150>, <__main__.County object at 0x0000019094170440>, <__main__.County object at 0x00000190941711C0>, <__main__.County object at 0x0000019094172F00>, <__main__.County object at 0x0000019094170680>, <__main__.County object at 0x0000019094170770>, <__main__.County object at 0x0000019094172C60>, <__main__.County object at 0x0000019094170E30>, <__main__.County object at 0x0000019094172390>, <__main__.County object at 0x0000019094173AA0>, <__main__.County object at 0x0000019094173230>, <__main__.County object at 0x00000190941712B0>, <__main__.County object at 0x0000019094173950>], [<__main__.County object at 0x00000190949DC0E0>, <__main__.County object at 0x00000190949DC230>, <__main__.County object at 0x00000190949DC770>, <__main__.County object at 0x00000190949DC2F0>, <__main__.County object at 0x00000190949DC560>, <__main__.County object at 0x0000019096954B00>, <__main__.County object at 0x00000190949DC680>, <__main__.County object at 0x00000190949DC410>, <__main__.County object at 0x00000190949DC0B0>, <__main__.County object at 0x0000019094172D20>, <__main__.County object at 0x00000190941721B0>, <__main__.County object at 0x0000019092EEFD10>, <__main__.County object at 0x00000190949DC6B0>, <__main__.County object at 0x00000190941714C0>], [<__main__.County object at 0x0000019094172240>, <__main__.County object at 0x0000019094170E90>, <__main__.County object at 0x0000019094170EC0>, <__main__.County object at 0x0000019094170CE0>, <__main__.County object at 0x0000019094171B20>, <__main__.County object at 0x0000019094173EC0>, <__main__.County object at 0x00000190949DC3B0>, <__main__.County object at 0x00000190941738F0>, <__main__.County object at 0x0000019094171970>, <__main__.County object at 0x0000019094171550>, <__main__.County object at 0x0000019094173E60>, <__main__.County object at 0x0000019094173890>, <__main__.County object at 0x0000019094171430>, <__main__.County object at 0x00000190941720F0>], [<__main__.County object at 0x0000019094173290>, <__main__.County object at 0x00000190949DC5C0>, <__main__.County object at 0x00000190949DC6E0>, <__main__.County object at 0x00000190949DC350>, <__main__.County object at 0x00000190949DC320>, <__main__.County object at 0x00000190949DC440>, <__main__.County object at 0x00000190949DC110>, <__main__.County object at 0x0000019094172E70>, <__main__.County object at 0x0000019094173C20>, <__main__.County object at 0x0000019094173050>, <__main__.County object at 0x0000019094171BE0>, <__main__.County object at 0x00000190941725A0>, <__main__.County object at 0x0000019095DD6C90>, <__main__.County object at 0x00000190941705F0>], [<__main__.County object at 0x00000190949DC500>, <__main__.County object at 0x00000190949DC080>, <__main__.County object at 0x00000190949DCBC0>, <__main__.County object at 0x00000190949DC590>, <__main__.County object at 0x0000019094171310>, <__main__.County object at 0x00000190949DC620>, <__main__.County object at 0x00000190949DC7A0>, <__main__.County object at 0x00000190941701D0>, <__main__.County object at 0x0000019094170380>, <__main__.County object at 0x00000190941713A0>, <__main__.County object at 0x0000019094171010>, <__main__.County object at 0x0000019094170A10>, <__main__.County object at 0x0000019094170DD0>, <__main__.County object at 0x0000019094170890>], [<__main__.County object at 0x000001909208D550>, <__main__.County object at 0x0000019095DD6DE0>, <__main__.County object at 0x0000019095DD7CB0>, <__main__.County object at 0x0000019095DD7D10>, <__main__.County object at 0x00000190988E9670>, <__main__.County object at 0x0000019095DD6B40>, <__main__.County object at 0x0000019095DD6B10>, <__main__.County object at 0x0000019095DD7FB0>, <__main__.County object at 0x0000019095DD7A70>, <__main__.County object at 0x0000019095DD6E10>, <__main__.County object at 0x0000019095DD72F0>, <__main__.County object at 0x0000019095DD6D80>, <__main__.County object at 0x0000019095DD6ED0>, <__main__.County object at 0x0000019095DD6F90>], [<__main__.County object at 0x0000019095DD6990>, <__main__.County object at 0x0000019095DD7D70>, <__main__.County object at 0x0000019095DD7AD0>, <__main__.County object at 0x0000019095DD4BF0>, <__main__.County object at 0x00000190949DC260>, <__main__.County object at 0x0000019095DD6BA0>, <__main__.County object at 0x00000190949DC4D0>, <__main__.County object at 0x00000190949DC740>, <__main__.County object at 0x00000190949DC050>, <__main__.County object at 0x00000190949DC2C0>, <__main__.County object at 0x00000190949DC3E0>, <__main__.County object at 0x00000190949DC470>, <__main__.County object at 0x0000019095DD75F0>, <__main__.County object at 0x0000019095DD7FE0>], [<__main__.County object at 0x0000019095DD7C20>, <__main__.County object at 0x0000019095DD7EC0>, <__main__.County object at 0x00000190949DC140>, <__main__.County object at 0x0000019095DD7E90>, <__main__.County object at 0x0000019095DD73B0>, <__main__.County object at 0x0000019095DD7F50>, <__main__.County object at 0x0000019095DD75C0>, <__main__.County object at 0x0000019095DD7EF0>, <__main__.County object at 0x00000190941710D0>, <__main__.County object at 0x0000019094170C20>, <__main__.County object at 0x0000019094170FB0>, <__main__.County object at 0x0000019094172060>, <__main__.County object at 0x0000019094170AD0>, <__main__.County object at 0x0000019095DD7140>], [<__main__.County object at 0x0000019095DD7DA0>, <__main__.County object at 0x0000019095DD7200>, <__main__.County object at 0x00000190941716D0>, <__main__.County object at 0x0000019094170EF0>, <__main__.County object at 0x00000190941733E0>, <__main__.County object at 0x0000019094173770>, <__main__.County object at 0x00000190949DEFF0>, <__main__.County object at 0x0000019094173BC0>, <__main__.County object at 0x0000019094173DA0>, <__main__.County object at 0x00000190941709B0>, <__main__.County object at 0x0000019094172690>, <__main__.County object at 0x00000190941702C0>, <__main__.County object at 0x0000019094170560>, <__main__.County object at 0x00000190941727B0>], [<__main__.County object at 0x0000019095DD70B0>, <__main__.County object at 0x0000019095DD7D40>, <__main__.County object at 0x0000019095DD7AA0>, <__main__.County object at 0x0000019095DD7CE0>, <__main__.County object at 0x0000019095DD6F60>, <__main__.County object at 0x0000019095DD7F80>, <__main__.County object at 0x0000019095DD7800>, <__main__.County object at 0x00000190949DCC50>, <__main__.County object at 0x00000190949DC1D0>, <__main__.County object at 0x00000190949DC650>, <__main__.County object at 0x0000019095DD7890>, <__main__.County object at 0x00000190941722A0>, <__main__.County object at 0x00000190941712E0>, <__main__.County object at 0x00000190941737A0>], [<__main__.County object at 0x0000019094172C90>, <__main__.County object at 0x0000019094173410>, <__main__.County object at 0x0000019094172EA0>, <__main__.County object at 0x0000019094171370>, <__main__.County object at 0x0000019094170530>, <__main__.County object at 0x0000019094171100>, <__main__.County object at 0x00000190941724E0>, <__main__.County object at 0x0000019094172270>, <__main__.County object at 0x00000190941718B0>, <__main__.County object at 0x0000019094173860>, <__main__.County object at 0x0000019094170500>, <__main__.County object at 0x0000019094170620>, <__main__.County object at 0x0000019094172660>, <__main__.County object at 0x0000019095DD67E0>]], [[<__main__.County object at 0x0000019094170740>, <__main__.County object at 0x0000019094173680>, <__main__.County object at 0x0000019094173E90>, <__main__.County object at 0x0000019094170590>, <__main__.County object at 0x0000019094170080>, <__main__.County object at 0x0000019094170050>, <__main__.County object at 0x0000019094170170>, <__main__.County object at 0x0000019094170D40>, <__main__.County object at 0x00000190941713D0>, <__main__.County object at 0x0000019094172180>, <__main__.County object at 0x0000019094170E00>, <__main__.County object at 0x0000019094171AF0>, <__main__.County object at 0x0000019094170BF0>, <__main__.County object at 0x0000019094170290>], [<__main__.County object at 0x0000019093F8B020>, <__main__.County object at 0x0000019093F8A630>, <__main__.County object at 0x0000019093F8BA70>, <__main__.County object at 0x0000019093F8B590>, <__main__.County object at 0x0000019093F8B0B0>, <__main__.County object at 0x0000019093F8B890>, <__main__.County object at 0x0000019093F8B4D0>, <__main__.County object at 0x0000019093F8A990>, <__main__.County object at 0x0000019093F8BA10>, <__main__.County object at 0x0000019093F8B440>, <__main__.County object at 0x0000019093F8B470>, <__main__.County object at 0x0000019093F8B4A0>, <__main__.County object at 0x0000019093F8B5F0>, <__main__.County object at 0x0000019093F89850>], [<__main__.County object at 0x000001908A79E120>, <__main__.County object at 0x00000190941718E0>, <__main__.County object at 0x0000019094172DB0>, <__main__.County object at 0x00000190941703B0>, <__main__.County object at 0x0000019094173CB0>, <__main__.County object at 0x000001908A79F290>, <__main__.County object at 0x0000019094173110>, <__main__.County object at 0x00000190941704A0>, <__main__.County object at 0x0000019093F897F0>, <__main__.County object at 0x0000019093F89C70>, <__main__.County object at 0x0000019093F8AEA0>, <__main__.County object at 0x0000019094173980>, <__main__.County object at 0x0000019094170920>, <__main__.County object at 0x00000190941738C0>], [<__main__.County object at 0x0000019094173350>, <__main__.County object at 0x0000019094171340>, <__main__.County object at 0x0000019094170B60>, <__main__.County object at 0x000001908A79DD60>, <__main__.County object at 0x0000019095096C00>, <__main__.County object at 0x0000019094172810>, <__main__.County object at 0x0000019094170DA0>, <__main__.County object at 0x00000190941715E0>, <__main__.County object at 0x0000019094173B60>, <__main__.County object at 0x0000019094172CC0>, <__main__.County object at 0x0000019094173E30>, <__main__.County object at 0x0000019094172210>, <__main__.County object at 0x0000019094173740>, <__main__.County object at 0x0000019094173A40>], [<__main__.County object at 0x0000019093F89A60>, <__main__.County object at 0x0000019093F8BB00>, <__main__.County object at 0x0000019093F8B8C0>, <__main__.County object at 0x0000019093F8AFC0>, <__main__.County object at 0x0000019093F8A9F0>, <__main__.County object at 0x0000019093F89A90>, <__main__.County object at 0x0000019093F8AF90>, <__main__.County object at 0x0000019093F8B7D0>, <__main__.County object at 0x0000019093F8B050>, <__main__.County object at 0x0000019093F8A1B0>, <__main__.County object at 0x0000019093F89640>, <__main__.County object at 0x0000019093F8AE70>, <__main__.County object at 0x0000019093F8B380>, <__main__.County object at 0x0000019095096A80>], [<__main__.County object at 0x0000019094171070>, <__main__.County object at 0x0000019094170230>, <__main__.County object at 0x0000019094172030>, <__main__.County object at 0x0000019094172480>, <__main__.County object at 0x00000190929E8E00>, <__main__.County object at 0x0000019094170CB0>, <__main__.County object at 0x0000019094171880>, <__main__.County object at 0x0000019094172870>, <__main__.County object at 0x0000019093F8ADB0>, <__main__.County object at 0x0000019093F8B830>, <__main__.County object at 0x0000019093F896D0>, <__main__.County object at 0x0000019093F8BF80>, <__main__.County object at 0x0000019093F89C40>, <__main__.County object at 0x0000019093F8BD70>], [<__main__.County object at 0x0000019095096AB0>, <__main__.County object at 0x0000019095096B70>, <__main__.County object at 0x00000190941736E0>, <__main__.County object at 0x00000190941709E0>, <__main__.County object at 0x0000019093F8A570>, <__main__.County object at 0x0000019094172B70>, <__main__.County object at 0x00000190941700E0>, <__main__.County object at 0x0000019094173D70>, <__main__.County object at 0x0000019094171400>, <__main__.County object at 0x0000019094173DD0>, <__main__.County object at 0x0000019094170950>, <__main__.County object at 0x0000019094170350>, <__main__.County object at 0x0000019094171760>, <__main__.County object at 0x0000019094173590>], [<__main__.County object at 0x00000190941703E0>, <__main__.County object at 0x00000190941734A0>, <__main__.County object at 0x0000019094170AA0>, <__main__.County object at 0x0000019094173260>, <__main__.County object at 0x000001908A79C320>, <__main__.County object at 0x0000019093F89700>, <__main__.County object at 0x0000019093F8B0E0>, <__main__.County object at 0x0000019093F8ABD0>, <__main__.County object at 0x0000019093F89F40>, <__main__.County object at 0x0000019093F8AED0>, <__main__.County object at 0x0000019093F8AC30>, <__main__.County object at 0x0000019093F8A090>, <__main__.County object at 0x0000019093F8BC80>, <__main__.County object at 0x0000019093F8A030>], [<__main__.County object at 0x0000019094172C30>, <__main__.County object at 0x0000019094170B30>, <__main__.County object at 0x0000019094171280>, <__main__.County object at 0x0000019094171460>, <__main__.County object at 0x0000019094171820>, <__main__.County object at 0x0000019093F8BCB0>, <__main__.County object at 0x0000019093F8B110>, <__main__.County object at 0x0000019093F8ACC0>, <__main__.County object at 0x0000019093F8A720>, <__main__.County object at 0x0000019093F8AFF0>, <__main__.County object at 0x0000019093F8A960>, <__main__.County object at 0x0000019093F8BF20>, <__main__.County object at 0x0000019093F89E50>, <__main__.County object at 0x0000019093F8BD10>], [<__main__.County object at 0x0000019094170650>, <__main__.County object at 0x0000019094173C50>, <__main__.County object at 0x0000019094172ED0>, <__main__.County object at 0x00000190941702F0>, <__main__.County object at 0x0000019093F8AC60>, <__main__.County object at 0x0000019093F8BE60>, <__main__.County object at 0x0000019093F8B650>, <__main__.County object at 0x0000019093F8BEF0>, <__main__.County object at 0x0000019093F8ABA0>, <__main__.County object at 0x0000019093F899A0>, <__main__.County object at 0x0000019093F8A2D0>, <__main__.County object at 0x0000019093F8BF50>, <__main__.County object at 0x0000019093F8A0C0>, <__main__.County object at 0x0000019093F8BE90>], [<__main__.County object at 0x0000019093F8B3B0>, <__main__.County object at 0x0000019093F8B1D0>, <__main__.County object at 0x0000019093F8B8F0>, <__main__.County object at 0x0000019093F8A510>, <__main__.County object at 0x0000019093F8ADE0>, <__main__.County object at 0x0000019093F8B3E0>, <__main__.County object at 0x0000019093F8B800>, <__main__.County object at 0x0000019093F89940>, <__main__.County object at 0x0000019093F89F70>, <__main__.County object at 0x0000019094170710>, <__main__.County object at 0x00000190941707D0>, <__main__.County object at 0x0000019093F8B710>, <__main__.County object at 0x0000019093F8BC20>, <__main__.County object at 0x0000019093F8A300>], [<__main__.County object at 0x00000190941710A0>, <__main__.County object at 0x0000019094171130>, <__main__.County object at 0x0000019094170860>, <__main__.County object at 0x0000019094170800>, <__main__.County object at 0x0000019094172AE0>, <__main__.County object at 0x0000019094172780>, <__main__.County object at 0x0000019094172E10>, <__main__.County object at 0x0000019093F8B350>, <__main__.County object at 0x0000019093F8A540>, <__main__.County object at 0x0000019093F8B080>, <__main__.County object at 0x0000019093F8BA40>, <__main__.County object at 0x0000019093F8BEC0>, <__main__.County object at 0x0000019093F8AF60>, <__main__.County object at 0x0000019093F8AF00>], [<__main__.County object at 0x0000019093F8AC00>, <__main__.County object at 0x0000019093F8AA80>, <__main__.County object at 0x0000019093F8A780>, <__main__.County object at 0x0000019093F89E20>, <__main__.County object at 0x0000019093F8B290>, <__main__.County object at 0x0000019093F89C10>, <__main__.County object at 0x0000019093F8B5C0>, <__main__.County object at 0x0000019093F8A330>, <__main__.County object at 0x0000019093F8A9C0>, <__main__.County object at 0x0000019093F8B860>, <__main__.County object at 0x0000019093F89610>, <__main__.County object at 0x0000019093F8A2A0>, <__main__.County object at 0x0000019093F8AE10>, <__main__.County object at 0x0000019093F8B140>], [<__main__.County object at 0x00000190941708C0>, <__main__.County object at 0x0000019094171790>, <__main__.County object at 0x0000019093F8B320>, <__main__.County object at 0x000001908A79C170>, <__main__.County object at 0x0000019093F8AE40>, <__main__.County object at 0x0000019095096BA0>, <__main__.County object at 0x0000019093F8B260>, <__main__.County object at 0x0000019093F88D10>, <__main__.County object at 0x0000019093F8A060>, <__main__.County object at 0x0000019093F8A750>, <__main__.County object at 0x0000019093F895E0>, <__main__.County object at 0x0000019093F88890>, <__main__.County object at 0x0000019093F8BC50>, <__main__.County object at 0x0000019093F89760>]], [[<__main__.County object at 0x0000019093F8B410>, <__main__.County object at 0x0000019093F88FB0>, <__main__.County object at 0x0000019093F88D70>, <__main__.County object at 0x0000019093F8B530>, <__main__.County object at 0x00000190929E8650>, <__main__.County object at 0x0000019090F095E0>, <__main__.County object at 0x0000019097EE9B80>, <__main__.County object at 0x000001909842D670>, <__main__.County object at 0x000001908EF7FBF0>, <__main__.County object at 0x0000019093F88230>, <__main__.County object at 0x0000019093F8B1A0>, <__main__.County object at 0x0000019093F884D0>, <__main__.County object at 0x0000019093F88FE0>, <__main__.County object at 0x0000019093F88290>], [<__main__.County object at 0x0000019093F88DD0>, <__main__.County object at 0x0000019093F883E0>, <__main__.County object at 0x0000019093F884A0>, <__main__.County object at 0x0000019093F886E0>, <__main__.County object at 0x0000019093F881A0>, <__main__.County object at 0x0000019093F89220>, <__main__.County object at 0x0000019093F8B740>, <__main__.County object at 0x0000019093F8B9B0>, <__main__.County object at 0x0000019093F882C0>, <__main__.County object at 0x0000019093F88440>, <__main__.County object at 0x0000019093F88140>, <__main__.County object at 0x0000019093F88AD0>, <__main__.County object at 0x0000019093F8B2C0>, <__main__.County object at 0x0000019093F891F0>], [<__main__.County object at 0x0000019093F89FA0>, <__main__.County object at 0x0000019093F8AAB0>, <__main__.County object at 0x0000019093F89F10>, <__main__.County object at 0x0000019093F899D0>, <__main__.County object at 0x0000019093F89100>, <__main__.County object at 0x0000019093F88EC0>, <__main__.County object at 0x0000019093F89520>, <__main__.County object at 0x0000019093F88C80>, <__main__.County object at 0x0000019093F88320>, <__main__.County object at 0x0000019093F88E90>, <__main__.County object at 0x0000019093F89400>, <__main__.County object at 0x0000019093F88CE0>, <__main__.County object at 0x0000019093F88B90>, <__main__.County object at 0x0000019093F8A360>], [<__main__.County object at 0x0000019093F880B0>, <__main__.County object at 0x0000019093F88CB0>, <__main__.County object at 0x0000019093F88410>, <__main__.County object at 0x0000019093F88830>, <__main__.County object at 0x0000019093F88E30>, <__main__.County object at 0x0000019093F88A10>, <__main__.County object at 0x0000019093F88590>, <__main__.County object at 0x0000019093F88860>, <__main__.County object at 0x0000019093F89190>, <__main__.County object at 0x0000019093F880E0>, <__main__.County object at 0x0000019093F88A40>, <__main__.County object at 0x0000019093F88710>, <__main__.County object at 0x0000019093F885C0>, <__main__.County object at 0x0000019093F88200>], [<__main__.County object at 0x0000019093F89BE0>, <__main__.County object at 0x0000019093F8AA20>, <__main__.County object at 0x0000019093F89D90>, <__main__.County object at 0x0000019093F8AB40>, <__main__.County object at 0x0000019093F89D30>, <__main__.County object at 0x0000019093F8AC90>, <__main__.County object at 0x0000019093F8A690>, <__main__.County object at 0x0000019093F893D0>, <__main__.County object at 0x0000019093F889E0>, <__main__.County object at 0x0000019093F88F80>, <__main__.County object at 0x0000019093F892E0>, <__main__.County object at 0x0000019093F88770>, <__main__.County object at 0x0000019093F8A600>, <__main__.County object at 0x0000019093F89FD0>], [<__main__.County object at 0x0000019093F88080>, <__main__.County object at 0x0000019093F8B6B0>, <__main__.County object at 0x0000019093F882F0>, <__main__.County object at 0x0000019093F88530>, <__main__.County object at 0x0000019093F88AA0>, <__main__.County object at 0x0000019093F888F0>, <__main__.County object at 0x0000019093F88470>, <__main__.County object at 0x0000019093F89460>, <__main__.County object at 0x0000019093F88350>, <__main__.County object at 0x0000019093F88500>, <__main__.County object at 0x0000019093F88560>, <__main__.County object at 0x0000019093F881D0>, <__main__.County object at 0x0000019093F88380>, <__main__.County object at 0x0000019093F88EF0>], [<__main__.County object at 0x0000019093F8B170>, <__main__.County object at 0x0000019093F88B60>, <__main__.County object at 0x0000019093F88DA0>, <__main__.County object at 0x0000019093F89430>, <__main__.County object at 0x0000019093F88920>, <__main__.County object at 0x0000019093F886B0>, <__main__.County object at 0x0000019093F88B00>, <__main__.County object at 0x0000019093F88D40>, <__main__.County object at 0x0000019093F89280>, <__main__.County object at 0x0000019093F89490>, <__main__.County object at 0x0000019093F88800>, <__main__.County object at 0x0000019093F89130>, <__main__.County object at 0x0000019093F88680>, <__main__.County object at 0x0000019093F890A0>], [<__main__.County object at 0x0000019093F8AA50>, <__main__.County object at 0x0000019093F8A840>, <__main__.County object at 0x0000019093F89880>, <__main__.County object at 0x0000019093F8A7E0>, <__main__.County object at 0x0000019093F89CA0>, <__main__.County object at 0x0000019093F89B80>, <__main__.County object at 0x0000019093F8A480>, <__main__.County object at 0x0000019093F8AB10>, <__main__.County object at 0x0000019093F8A240>, <__main__.County object at 0x0000019093F8A120>, <__main__.County object at 0x0000019093F89970>, <__main__.County object at 0x0000019093F89A30>, <__main__.County object at 0x0000019093F89B20>, <__main__.County object at 0x0000019093F8ACF0>], [<__main__.County object at 0x0000019093F88110>, <__main__.County object at 0x0000019093F88650>, <__main__.County object at 0x0000019093F8A930>, <__main__.County object at 0x0000019093F897C0>, <__main__.County object at 0x0000019093F89790>, <__main__.County object at 0x0000019093F8A8A0>, <__main__.County object at 0x0000019093F893A0>, <__main__.County object at 0x0000019093F8AD20>, <__main__.County object at 0x0000019093F8A8D0>, <__main__.County object at 0x0000019093F8A450>, <__main__.County object at 0x0000019093F8A000>, <__main__.County object at 0x0000019093F89AF0>, <__main__.County object at 0x0000019093F898B0>, <__main__.County object at 0x0000019093F88E60>], [<__main__.County object at 0x0000019093F89160>, <__main__.County object at 0x0000019093F8B6E0>, <__main__.County object at 0x0000019093F895B0>, <__main__.County object at 0x0000019093F89D00>, <__main__.County object at 0x0000019093F8A4E0>, <__main__.County object at 0x0000019093F89E80>, <__main__.County object at 0x0000019093F8A3C0>, <__main__.County object at 0x0000019093F883B0>, <__main__.County object at 0x0000019093F885F0>, <__main__.County object at 0x0000019093F89820>, <__main__.County object at 0x0000019093F8A150>, <__main__.County object at 0x0000019093F8A660>, <__main__.County object at 0x0000019093F89EE0>, <__main__.County object at 0x0000019093F8A870>], [<__main__.County object at 0x0000019093F88F50>, <__main__.County object at 0x0000019093F88C50>, <__main__.County object at 0x0000019093F887D0>, <__main__.County object at 0x0000019093F8B9E0>, <__main__.County object at 0x0000019093F8A900>, <__main__.County object at 0x0000019093F8A1E0>, <__main__.County object at 0x0000019093F89B50>, <__main__.County object at 0x0000019093F890D0>, <__main__.County object at 0x0000019093F8A6F0>, <__main__.County object at 0x0000019093F89BB0>, <__main__.County object at 0x0000019093F8AD50>, <__main__.County object at 0x0000019093F8A4B0>, <__main__.County object at 0x0000019093F8AAE0>, <__main__.County object at 0x0000019093F89670>], [<__main__.County object at 0x0000019093F88260>, <__main__.County object at 0x0000019093F88F20>, <__main__.County object at 0x0000019093F8BB30>, <__main__.County object at 0x0000019093F8A3F0>, <__main__.County object at 0x0000019093F8AD80>, <__main__.County object at 0x0000019093F89DC0>, <__main__.County object at 0x0000019093F8A5D0>, <__main__.County object at 0x0000019093F8A420>, <__main__.County object at 0x0000019093F89AC0>, <__main__.County object at 0x0000019093F89CD0>, <__main__.County object at 0x0000019093F89EB0>, <__main__.County object at 0x0000019093F8A5A0>, <__main__.County object at 0x0000019093F8A0F0>, <__main__.County object at 0x0000019093F8A810>], [<__main__.County object at 0x0000019093F89070>, <__main__.County object at 0x0000019093F88A70>, <__main__.County object at 0x0000019093F89910>, <__main__.County object at 0x0000019093F8A270>, <__main__.County object at 0x0000019093F8A210>, <__main__.County object at 0x0000019093F88C20>, <__main__.County object at 0x0000019093F89010>, <__main__.County object at 0x0000019093F89A00>, <__main__.County object at 0x0000019093F89D60>, <__main__.County object at 0x0000019093F8A390>, <__main__.County object at 0x0000019093F8AF30>, <__main__.County object at 0x0000019093F8A7B0>, <__main__.County object at 0x0000019093F8AB70>, <__main__.County object at 0x0000019093F8A6C0>], [<__main__.County object at 0x0000019093F88B30>, <__main__.County object at 0x0000019093F891C0>, <__main__.County object at 0x0000019093F887A0>, <__main__.County object at 0x0000019093F88620>, <__main__.County object at 0x0000019093F8A180>, <__main__.County object at 0x0000019093F898E0>, <__main__.County object at 0x0000019093F88170>, <__main__.County object at 0x0000019093F89DF0>, <__main__.County object at 0x0000019093F88740>, <__main__.County object at 0x0000019093F888C0>, <__main__.County object at 0x0000019093F8B620>, <__main__.County object at 0x0000019093F8BFB0>, <__main__.County object at 0x0000019093F896A0>, <__main__.County object at 0x0000019093F8B200>]]]]\n",
      "The solution does not contain 5 districts.\n"
     ]
    },
    {
     "ename": "InvalidSolution",
     "evalue": "Invalid solution, verify your code.",
     "output_type": "error",
     "traceback": [
      "\u001b[1;31m---------------------------------------------------------------------------\u001b[0m",
      "\u001b[1;31mInvalidSolution\u001b[0m                           Traceback (most recent call last)",
      "Cell \u001b[1;32mIn[96], line 3\u001b[0m\n\u001b[0;32m      1\u001b[0m \u001b[38;5;28mprint\u001b[39m(resultats_initials[\u001b[38;5;124m\"\u001b[39m\u001b[38;5;124mgroupes\u001b[39m\u001b[38;5;124m\"\u001b[39m])\n\u001b[1;32m----> 3\u001b[0m resultats_am_locale \u001b[38;5;241m=\u001b[39m \u001b[43mmeasure\u001b[49m\u001b[43m(\u001b[49m\u001b[38;5;28;43;01mlambda\u001b[39;49;00m\u001b[43m \u001b[49m\u001b[43mx\u001b[49m\u001b[43m:\u001b[49m\u001b[43m \u001b[49m\u001b[43mamelioration_locale\u001b[49m\u001b[43m(\u001b[49m\u001b[43mx\u001b[49m\u001b[43m[\u001b[49m\u001b[38;5;124;43m\"\u001b[39;49m\u001b[38;5;124;43mgroupes\u001b[39;49m\u001b[38;5;124;43m\"\u001b[39;49m\u001b[43m]\u001b[49m\u001b[43m[\u001b[49m\u001b[38;5;241;43m0\u001b[39;49m\u001b[43m]\u001b[49m\u001b[43m[\u001b[49m\u001b[38;5;241;43m0\u001b[39;49m\u001b[43m]\u001b[49m\u001b[43m,\u001b[49m\u001b[43m \u001b[49m\u001b[43mx\u001b[49m\u001b[43m[\u001b[49m\u001b[38;5;124;43m\"\u001b[39;49m\u001b[38;5;124;43mtargets\u001b[39;49m\u001b[38;5;124;43m\"\u001b[39;49m\u001b[43m]\u001b[49m\u001b[43m[\u001b[49m\u001b[38;5;241;43m0\u001b[39;49m\u001b[43m]\u001b[49m\u001b[43m[\u001b[49m\u001b[38;5;241;43m0\u001b[39;49m\u001b[43m]\u001b[49m\u001b[43m,\u001b[49m\u001b[43m \u001b[49m\u001b[43mx\u001b[49m\u001b[43m[\u001b[49m\u001b[38;5;124;43m\"\u001b[39;49m\u001b[38;5;124;43mns\u001b[39;49m\u001b[38;5;124;43m\"\u001b[39;49m\u001b[43m]\u001b[49m\u001b[43m[\u001b[49m\u001b[38;5;241;43m0\u001b[39;49m\u001b[43m]\u001b[49m\u001b[43m[\u001b[49m\u001b[38;5;241;43m0\u001b[39;49m\u001b[43m]\u001b[49m\u001b[43m,\u001b[49m\u001b[43m \u001b[49m\u001b[43mx\u001b[49m\u001b[43m[\u001b[49m\u001b[38;5;124;43m\"\u001b[39;49m\u001b[38;5;124;43msamples\u001b[39;49m\u001b[38;5;124;43m\"\u001b[39;49m\u001b[43m]\u001b[49m\u001b[43m[\u001b[49m\u001b[38;5;241;43m0\u001b[39;49m\u001b[43m]\u001b[49m\u001b[43m[\u001b[49m\u001b[38;5;241;43m0\u001b[39;49m\u001b[43m]\u001b[49m\u001b[43m,\u001b[49m\u001b[43m \u001b[49m\u001b[43mx\u001b[49m\u001b[43m[\u001b[49m\u001b[38;5;124;43m\"\u001b[39;49m\u001b[38;5;124;43msolutions_initiales\u001b[39;49m\u001b[38;5;124;43m\"\u001b[39;49m\u001b[43m]\u001b[49m\u001b[43m[\u001b[49m\u001b[38;5;241;43m0\u001b[39;49m\u001b[43m]\u001b[49m\u001b[43m[\u001b[49m\u001b[38;5;241;43m0\u001b[39;49m\u001b[43m]\u001b[49m\u001b[43m)\u001b[49m\u001b[43m,\u001b[49m\u001b[43m \u001b[49m\u001b[43mresultats_initials\u001b[49m\u001b[43m)\u001b[49m\n\u001b[0;32m      5\u001b[0m display_data_as_table(resultats_graphs)\n",
      "Cell \u001b[1;32mIn[84], line 110\u001b[0m, in \u001b[0;36mmeasure\u001b[1;34m(procedure, sample, time_scale)\u001b[0m\n\u001b[0;32m    108\u001b[0m end: \u001b[38;5;28mint\u001b[39m \u001b[38;5;241m=\u001b[39m time\u001b[38;5;241m.\u001b[39mtime() \u001b[38;5;241m*\u001b[39m time_scale\n\u001b[0;32m    109\u001b[0m \u001b[38;5;28;01mif\u001b[39;00m \u001b[38;5;129;01mnot\u001b[39;00m is_valid_solution(sample, solution):\n\u001b[1;32m--> 110\u001b[0m     \u001b[38;5;28;01mraise\u001b[39;00m InvalidSolution()\n\u001b[0;32m    111\u001b[0m \u001b[38;5;28;01mreturn\u001b[39;00m (\u001b[38;5;28mround\u001b[39m(end \u001b[38;5;241m-\u001b[39m start), score_solution(sample, solution))\n",
      "\u001b[1;31mInvalidSolution\u001b[0m: Invalid solution, verify your code."
     ]
    }
   ],
   "source": [
    "print(resultats_initials[\"groupes\"])\n",
    "\n",
    "resultats_am_locale = measure(lambda x: amelioration_locale(x[\"groupes\"][0][0], x[\"targets\"][0][0], x[\"ns\"][0][0], x[\"samples\"][0][0], x[\"solutions_initiales\"][0][0]), resultats_initials)\n",
    "\n",
    "display_data_as_table(resultats_graphs)"
   ]
  },
  {
   "cell_type": "markdown",
   "metadata": {
    "id": "AB43Z14ssDna"
   },
   "source": [
    "# Analyse code carbon (2 pts)\n",
    "\n",
    "Effectuer une anlayse code carbon en sélectionnant différent pays pour l'analyse. Commenter vos résultats."
   ]
  },
  {
   "cell_type": "code",
   "execution_count": null,
   "metadata": {},
   "outputs": [],
   "source": [
    "from codecarbon import EmissionsTracker\n",
    "try:\n",
    "    tracker = EmissionsTracker(measure_power_secs=5, tracking_mode=\"process\")\n",
    "\n",
    "    tracker.start_task(\"main\")\n",
    "    # TODO Appel glouton\n",
    "    results = measure_range(main, make_problems([x for x in range(11, 61)], [5]))\n",
    "    tracker.stop_task()\n",
    "\n",
    "finally:\n",
    "    _ = tracker.stop()"
   ]
  },
  {
   "cell_type": "markdown",
   "metadata": {
    "id": "Y4Xx4XnglnII"
   },
   "source": [
    "# Conclusion (6 pts)\n",
    "\n",
    "# Étapes d'amélioration pour arriver à notre version actuelle\n",
    "Nous avons commencé par un algorithme glouton qui n'avait aucune gestion du temps et aucune amélioration après le passage initial. Cet algorithme était en theta(n³) au lieu de theta(n⁴) comme notre algorithme actuel, car nous faisions une selection  du premier élément d'un groupe de manière complètment aléatoire. De plus, lorsqu'il n'y avait pas de voisins disponibles pour choisir le prochain élément, l'élément choisi dans le groupe était aléatoire ce qui donnait de mauvais scores de distance. De plus, nous n'avions pas encore l'objet County pour nous aider à clarifier le code. Du fait, nos heuristiques de choix de prochain élément étaient très rudimentaires et inefficace. Les score pour n=100 étaient autour de 700 000.\n",
    "\n",
    "Nous avons par la suite ajouté une section d'amélioration locale. Pour choisir le groupe auquel nous voulions faire une amélioration, nous avons commencé par prendre celui qui a un nombre de vote le plus près d'une majorité et prendre le meilleur des échanges. Par contre, nous avons réalisé que certains des échanges étaient considérés comme sous optimaux et pris quand même. De plus, seulement un groupe recevait des modifications constantes jusqu'à atteindre un nombre de vote majoritaire puis un prochain. Nous avons donc changé notre algorithme pour prendre un groupe aléatoire parmis tous et vérifier que le meilleur échange améliore la situation et sinon ne pas faire d'échange. Ceci nous a permis de ne pas rester pris dans un minimum et presque toujours faire des améliorations avec chaque passage et arrêter seuelement lorsque le score obtenu est excellent.\n",
    "\n",
    "# Points forts de notre algorithme\n",
    "Notre algorithme trouve une solution initiale qui est souvent vraiment bonne et satisfaisante, même sans la mise en place d'une amélioration locale. Bref, bien que la complexité soit grande, notre passage initial donne une solution d'environ 25 000 pour n=100.\n",
    "\n",
    "L'autre force de notre algorithme est que l'amélioration locale améliore rellement le score même après une grande quantité d'améliorations. En effet, le groupe qui reçoit une amélioration est choisi aléatoirement ce qui nous permet de tout améliorer. De plus, si jamais la quantité d'amélioration maximale pour la solution actuelle est atteinte, notre algorithme va préférer ne prendre aucune action plutôt qu'une action sous optimale.\n",
    "\n",
    "# Points faibles de notre algorithme\n",
    "Notre algorithme est vraiment lent pour trouver une solution initiale. Bien que la solution soit bonne, elle demande un trop grand temps de calcul pour de grandes valeurs de n. Un autre point faible de notre algorithme est de ne pas prendre avantage du débalancement possible dans les grandeurs des groupes de County. Nous pourrions surement aller chercher des scores plus élevés avec un débalancement faible dans le nombre de County inclus par groupe.\n",
    "\n",
    "# Amélioration possibles\n",
    "Pour améliorer notre algorithme, 2 avenues sont à explorer. La première est de fournir une version encore plus rapide de solution initiale pour être correct dans des situations ou le n prend une très très grande valeur. Ainsi je crois qu'il faudrait un système de thread pour faire des interruptions pour s'assurer de ne pas dépasser les temps prévus peu import la technique utilisée. Bien sur, l'utilisation de thread serait aussi très utile pour accélérer les performances et non seulement faire un meilleur timer.\n",
    "\n",
    "La deuxième amélioration que nous aurions aimé explorer avec plus de temps est d'introduire un débalancement dans le nombre de County par groupe de vote. Ainsi, nous aurions pu réduire le score de groupes gagnés qui devient important avec des grandes valeurs par sa nature quadratique. Pour faire ce débalancement, l'algorithme d'amélioration locale pourrait avoir la capacité de prendre un County au lieu de simplement faire des échanges."
   ]
  },
  {
   "cell_type": "markdown",
   "metadata": {
    "id": "nCj6aXxQlnII"
   },
   "source": [
    " ## Autres critères (2 pts)\n",
    " Qualité du code / 1 pt\n",
    "\n",
    "Présentation générale / 1 pt\n",
    "\n",
    "- Concision\n",
    "- Qualité du français\n",
    "\n",
    "Pénalité retard\n",
    "- -2 pt / journée de retard, arrondi vers le haut. Les TPs ne sont plus acceptés après 3 jours."
   ]
  }
 ],
 "metadata": {
  "colab": {
   "provenance": []
  },
  "kernelspec": {
   "display_name": "INF8775",
   "language": "python",
   "name": "python3"
  },
  "language_info": {
   "codemirror_mode": {
    "name": "ipython",
    "version": 3
   },
   "file_extension": ".py",
   "mimetype": "text/x-python",
   "name": "python",
   "nbconvert_exporter": "python",
   "pygments_lexer": "ipython3",
   "version": "3.12.5"
  }
 },
 "nbformat": 4,
 "nbformat_minor": 0
}

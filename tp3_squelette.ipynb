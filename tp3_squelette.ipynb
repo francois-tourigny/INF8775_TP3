{
 "cells": [
  {
   "cell_type": "markdown",
   "metadata": {
    "id": "bNG5DI3nlnIA"
   },
   "source": [
    "# INF8775 – Analyse et conception d’algorithmes\n",
    "# TP3 – Automne 2024"
   ]
  },
  {
   "cell_type": "markdown",
   "metadata": {
    "id": "gobfFF2IlnIB"
   },
   "source": [
    "NOM, Prénom, 1234567\n",
    "\n",
    "NOM, Prénom, 1234567"
   ]
  },
  {
   "cell_type": "markdown",
   "metadata": {
    "id": "E9CyGQLAlnIC"
   },
   "source": [
    "Note finale:"
   ]
  },
  {
   "cell_type": "markdown",
   "metadata": {
    "id": "YYmoxM0BlnIC"
   },
   "source": [
    "<u>**Date limite de remise :**</u>  4 décembre 23h59 pour les deux groupes"
   ]
  },
  {
   "cell_type": "markdown",
   "metadata": {
    "id": "5HEd-K_glnID"
   },
   "source": [
    "# Instructions\n",
    "\n",
    "## Rédaction et remise du rapport\n",
    "\n",
    "- Ce notebook constitue à la fois le sujet du TP, votre code et votre rapport. Il contient déjà du code pour faciliter vos mesures et l'affichage de vos résultats, ainsi qu'un squelette pour votre rapport.\n",
    "\n",
    "- Complétez directement le notebook, vous êtes libres de créer des nouvelles cellules de code ou de texte.\n",
    "\n",
    "- Vous pouvez utiliser des fichiers externes pour stocker des exemplaires et des résultats, mais nous devons être capable de comprendre facilement votre démarche et de la reproduire.\n",
    "\n",
    "- <u>**IMPORTANT**</u> Remettez le fichier du notebook sur Moodle avec le nom `MATRICULE1_MATRICULE2.ipynb`\n",
    "\n",
    "- Vous pouvez inclure du code trouvé sur Internet, mais vous devez en mentionner la source, sous peine d'être sanctionnés pour plagiat.\n",
    "\n",
    "## Mise en situation\n",
    "\n",
    "Ce travail pratique se répartit sur deux séances de laboratoire et est une occasion de mettre en application les connaissances vues en cours. Vous devrez développer l'algorithme de votre choix pour essayer de résoudre le plus efficacement possible le problème donné. Une partie de la note sera accordée en fonction des résultats que vous obtiendrez par rapport aux autres équipes.\n",
    "\n",
    "## Description du problème\n",
    "\n",
    "Le problème qu'on vous demande de résoudre cette fois-ci est un peu plus difficile. Vous êtes responsable de la séparation des voteurs d'un pays en circonscriptions. Un des deux candidats principaux, M. T, vient vous voir et vous demande de lui garantir une victoire (pour un montant non négligeable d'argent). Évidemment, vous refusez, mais le problème est intéressant et vous décidez d'essayez de le résoudre. Si ça vous intéresse, ce problème est ce qu'on appelle du *gerrymandering*.\n",
    "\n",
    "Vous aurez comme entrée à votre problème une carte du pays (représentée par une matrice carrée $n \\times n$) qui contient à chaque position le nombre de voteurs pour candidat X (un chiffre entre 0 et 1000). Votre objectif est de créer $n$ circonscriptions de sorte à ce que candidat X gagne l'élection. Quelques spécifications importantes:\n",
    "\n",
    "- La variable $n$ représente un côté de la matrice. Il y a donc, $n^2$ villes.\n",
    "- Chaque position de la matrice représente une ville\n",
    "- Chaque circonscription doit contenir **$n$ villes**. Une solution reste valide si une circonscription ne contient pas exactement $n$ villes, mais il y a une **pénalité** qui y est associée.\n",
    "- Les villes d'une circonscription doivent être proche les unes des autres. On aimerait garder cette **distance à, au plus, $n/2$**. Encore une fois, on permet de briser cette contrainte, mais il y aura une pénalité qui y est associée. (**Distance manhattan**)\n",
    "- Les villes d'une circonscription ne doivent **pas être nécessairement voisines** tant qu'on respecte la distance maximale. Voir l'exemple plus bas.\n",
    "- Le candidat remporte une circonscription si le nombre de voteurs dans cette circonscription est supérieur à $500n$.\n",
    "- Le candidat cherche à remporter le plus de circonscriptions qu'il peut.\n",
    "\n",
    "![alt text](distance_example.png)"
   ]
  },
  {
   "cell_type": "markdown",
   "metadata": {
    "id": "XqG5rRjSlnIE"
   },
   "source": [
    "\n",
    "## Jeu de données\n",
    "\n",
    "La classe Problem existe pour simplifier l'interface des différentes fonctions utilitaires. Elle permet de générer des jeux de données avec la méthode `generate_sample` ci-dessous. Elle génère une matrice carrée de taille $n$ contenant des nombres entre $1$ et $1000$. Vous pouvez utilisez des exemplaires aléatoires pour tester votre code. La compétition sera faite sur les mêmes exemplaires de tailles différentes pour toutes les équipes d'un même groupe."
   ]
  },
  {
   "cell_type": "code",
   "execution_count": 2,
   "metadata": {
    "id": "h9ZlrNOBlnIF"
   },
   "outputs": [],
   "source": [
    "import random\n",
    "from collections.abc import Iterable\n",
    "\n",
    "def generate_city() -> int:\n",
    "    return round(min(1000,max(0,random.normalvariate(450,200))))\n",
    "\n",
    "class Problem():\n",
    "    def __init__(self, size: int, num_samples: int = 5) -> None:\n",
    "        self.size = size\n",
    "        self.num_samples = num_samples\n",
    "\n",
    "    def generate_sample(self) -> list[list[int]]:\n",
    "        \"\"\"Returns a matrix containing values between 0 and 1000. Each value is the number of voters in a given city\"\"\"\n",
    "        return [[generate_city() for _ in range(self.size)] for _ in range(self.size)]\n",
    "\n",
    "    def generate_dataset(self) -> Iterable[list[list[int]]]:\n",
    "        \"\"\"Returns an iterator over as many samples as are described\"\"\"\n",
    "        return (self.generate_sample() for _ in range(self.num_samples))"
   ]
  },
  {
   "cell_type": "markdown",
   "metadata": {
    "id": "XAvab0yKlnIG"
   },
   "source": [
    "# Implantations et expérimentations"
   ]
  },
  {
   "cell_type": "markdown",
   "metadata": {
    "id": "1U7ktXeVlnIG"
   },
   "source": [
    "Ces fonctions auxiliaires vous sont fournies pour vérifier l'exactitude des vos algorithmes, mesurer leurs performance et afficher vos résultats.\n",
    "\n",
    "Il est recommandé de prendre le temps de lire et comprendre le code.\n",
    "\n",
    "Exécutez la cellule ci-dessous pour pouvoir utiliser les fonctions auxiliaires."
   ]
  },
  {
   "cell_type": "code",
   "execution_count": 3,
   "metadata": {
    "id": "7pWvysBtlnIH"
   },
   "outputs": [],
   "source": [
    "import matplotlib.pyplot as plt\n",
    "import time\n",
    "from collections.abc import Callable\n",
    "from math import ceil\n",
    "from scipy.stats import linregress\n",
    "\n",
    "class InvalidSolution(Exception):\n",
    "    def __init__(self):\n",
    "        super().__init__(\"Invalid solution, verify your code.\")\n",
    "\n",
    "class Measure():\n",
    "    \"\"\"A wrapper to contain information on taken measures\"\"\"\n",
    "    def __init__(self, size: int, mean: int, score:int) -> None:\n",
    "        self.size = size\n",
    "        self.mean_score = score\n",
    "        self.mean = mean\n",
    "\n",
    "def score_solution(original: list[list[int]], solution: list[list[tuple[int,int]]]) -> int:\n",
    "    \"\"\"Returns the score of the current solution. The score function is a penalty that must be minimized.\"\"\"\n",
    "    return votes_score(original, solution) + size_score(solution) + distance_score(solution)\n",
    "\n",
    "def votes_score(original: list[list[int]], solution: list[list[tuple[int,int]]]) -> int:\n",
    "    \"\"\"Calculates the part of the score associated to lost districts. \n",
    "    It is 5 times the square of the number of lost districts.\"\"\"\n",
    "    lost_districts = 0\n",
    "    for district in solution:\n",
    "        sum = 0\n",
    "        for city in district:\n",
    "            sum += original[city[0]][city[1]]\n",
    "        if sum <= 500*len(district):\n",
    "            lost_districts += 1\n",
    "    return 5 * lost_districts**2\n",
    "\n",
    "def size_score(solution: list[list[tuple[int,int]]]) -> int:\n",
    "    \"\"\"Calculates the part of the score associated to districts having the wrong size.\n",
    "    It is the square of the difference between the wanted number of cities and the \n",
    "    current number of cities in a given district.\"\"\"\n",
    "    n = len(solution)\n",
    "    size_penality = 0\n",
    "    for district in solution:\n",
    "        size_penality += (len(district)-n)**2\n",
    "    return size_penality\n",
    "\n",
    "def distance_score(solution: list[list[tuple[int,int]]]) -> int:\n",
    "    \"\"\"Calculates the part of the score associated to the distance between cities in a district.\n",
    "    It is the mean square distance between each city and every other city in its district.\"\"\"\n",
    "    distance_score = 0\n",
    "    n = len(solution)\n",
    "    for district in solution:\n",
    "        for i,city in enumerate(district):\n",
    "            for j in range(i+1, len(district)):\n",
    "                distance_score += (max(0, distance_manhattan(city, district[j])-ceil(n/2)))**2\n",
    "    return distance_score/len(solution)\n",
    "\n",
    "def distance_manhattan(city_a: tuple[int,int], city_b: tuple[int,int]) -> int:\n",
    "    return abs(city_a[0] - city_b[0]) + abs(city_a[1] - city_b[1])\n",
    "\n",
    "def is_valid_solution(original: list[list[int]], solution: list[list[tuple[int,int]]]) -> bool:\n",
    "    \"\"\"Validates solution\"\"\"\n",
    "    n = len(original)\n",
    "\n",
    "    if len(solution) != n:\n",
    "        print(f\"The solution does not contain {n} districts.\")\n",
    "        return False\n",
    "\n",
    "    for district in solution:\n",
    "        if len(district) < 1:\n",
    "            print(\"The solution contains empty districts.\")\n",
    "            return False\n",
    "        for city in district:\n",
    "            if len(city)!=2:\n",
    "                print(\"Solution must contain 2 coordinates per city.\")\n",
    "                return False\n",
    "        for coord in city:\n",
    "            if coord < 0 or coord >=n:\n",
    "                print(f\"City coordinates must below {n} and positive.\")\n",
    "                return False\n",
    "\n",
    "    coord_set = set()\n",
    "    for district in solution:\n",
    "        for city in district:\n",
    "            coord_set.add(city)\n",
    "    if len(coord_set) != n*n:\n",
    "        print(f\"Solution contained {len(coord_set)} different cities while there should be {n*n} cities in the solution.\")\n",
    "        return False\n",
    "\n",
    "    # Solution is valid\n",
    "    return True\n",
    "\n",
    "def make_problems(sizes: list[int], num_samples: int = 5) -> list[Problem]:\n",
    "    \"\"\"Creates problem instances using given sizes and max_numbers\"\"\"\n",
    "    return [Problem(size,num_samples) for size in sizes]\n",
    "\n",
    "def measure(procedure: Callable[[list[list[int]]],list[list[tuple[int,int]]]], sample: list[list[int]], time_scale: int = 1000) -> tuple[int,int]:\n",
    "    \"\"\"Returns a tuple containing the time as well as the score of the solution, in that order.\n",
    "    \n",
    "    Parameters:\n",
    "        time_scale: Controls the level of precision of the time measurements.\n",
    "\n",
    "    Raises:\n",
    "        InvalidSolution: If the procedure returns an invalid solution, raises an exception.\n",
    "    \"\"\"\n",
    "    start: int = time.time() * time_scale\n",
    "    solution: list[int] = procedure(sample)\n",
    "    end: int = time.time() * time_scale\n",
    "    if not is_valid_solution(sample, solution):\n",
    "        raise InvalidSolution()\n",
    "    return (round(end - start), score_solution(sample, solution))\n",
    "\n",
    "def measure_mean(procedure: Callable[[list[list[int]]],list[list[tuple[int,int]]]], prob: Problem, time_scale: int = 1000) -> Measure:\n",
    "    \"\"\"Generates multiple samples with the specified parameters and returns a Measure \n",
    "    instance representing the result as well as the problem.\n",
    "\n",
    "    Raises:\n",
    "        InvalidSolution: If one of the samples results in an invalid solution.\n",
    "    \"\"\"\n",
    "    results = [measure(procedure,sample,time_scale) for sample in prob.generate_dataset()]\n",
    "    mean_time = sum(result[0] for result in results) / prob.num_samples\n",
    "    mean_score = sum(result[1] for result in results) / prob.num_samples\n",
    "    return Measure(prob.size, mean_time, mean_score)\n",
    "\n",
    "def measure_range(procedure: Callable[[list[list[int]]],list[list[tuple[int,int]]]], problems: list[Problem], time_scale: int = 1000) -> list[Measure]:\n",
    "    \"\"\"Measures the mean time taken for each problem in the given list.\n",
    "\n",
    "    Raises:\n",
    "        InvalidSolution: If one of the samples results in an invalid solution.\n",
    "\n",
    "    Returns:\n",
    "        A list of Measure instances containing the specifications\n",
    "        of the problem as well as the mean time and the score.\n",
    "    \"\"\"\n",
    "    return [\n",
    "        measure_mean(procedure, prob, time_scale)\n",
    "        for prob in problems\n",
    "    ]\n",
    "\n",
    "def display_data_as_table(measures: list[Measure]):\n",
    "    \"\"\"Prints a table with the data in the given list of measures\"\"\"\n",
    "    print(\"{: <12} {: <12} {: <12}\".format(\"Taille\", \"Temps moyen\", \"Score moyen\"))\n",
    "    for measure in measures:\n",
    "        print(\"{: <12} {: <12} {: <12}\".format(measure.size, measure.mean, measure.mean_score))\n",
    "\n",
    "### The different tests are below, the names are in french to avoid confusion\n",
    "\n",
    "def test_de_puissance(\n",
    "    data: dict[int,int],\n",
    "    x_label: str,\n",
    "    y_label: str,\n",
    "    title: str = \"Test de puissance\"\n",
    "):\n",
    "    \"\"\"Takes the data and displays it into the corresponding test graph.\n",
    "    It applies no transformations to the data.\n",
    "\n",
    "    Args:\n",
    "        data (dict[int,int]): A dictionnary mapping the x variable to the y variable\n",
    "    \"\"\"\n",
    "    # Log both sets of values\n",
    "    x = list(data.keys())\n",
    "    y = list(data.values())\n",
    "\n",
    "    # Perform the lin regression\n",
    "    m, b, rvalue, _, _ = linregress(x, y)\n",
    "\n",
    "    # Estimate the values of y based on the lin regression results\n",
    "    predicted = [m * iter + b for iter in x]\n",
    "\n",
    "    # Create the line equation\n",
    "    line_eq = f\"y = {m:.2f}x + {b:.2f}\"\n",
    "\n",
    "    # Plot the points\n",
    "    plt.scatter(x, y, label='Mesures')\n",
    "\n",
    "    # Plot the regression line\n",
    "    plt.plot(x, predicted, color=\"red\", label=f'Regression linéaire R²={round(rvalue**2,6)}')\n",
    "\n",
    "    # Add labels and title\n",
    "    plt.xlabel(x_label)\n",
    "    plt.ylabel(y_label)\n",
    "    plt.title(title)\n",
    "\n",
    "    # Add legend\n",
    "    plt.legend(bbox_to_anchor=(0.60, 0), loc='lower left')\n",
    "\n",
    "    # Display the line equation\n",
    "    plt.text(min(x), max(y), line_eq)\n",
    "\n",
    "    # Show the plot\n",
    "    plt.show()\n",
    "\n",
    "def test_de_rapport(\n",
    "    data: dict[int,int],\n",
    "    x_label: str,\n",
    "    y_label: str,\n",
    "    title: str = \"Test de rapport\"\n",
    "):\n",
    "    \"\"\"Takes the data and displays it into the corresponding test graph.\n",
    "    It applies no transformations to the data.\n",
    "\n",
    "    Args:\n",
    "        data (dict[int,int]): A dictionnary mapping the x variable to the y variable\n",
    "    \"\"\"\n",
    "    x = list(data.keys())\n",
    "    y = list(data.values())\n",
    "\n",
    "    plt.plot(x, y, label='Mesures')\n",
    "    plt.scatter(x, y, label='Mesures')\n",
    "\n",
    "    # Add labels and title\n",
    "    plt.xlabel(x_label)\n",
    "    plt.ylabel(y_label)\n",
    "    plt.title(title)\n",
    "    plt.show()\n",
    "\n",
    "def test_de_constantes(\n",
    "    data: dict[int,int],\n",
    "    x_label: str,\n",
    "    y_label: str = \"Temps (ms)\",\n",
    "    title: str = \"Test de constantes\"\n",
    "):\n",
    "    \"\"\"Takes the data and displays it into the corresponding test graph.\n",
    "    It applies no transformations to the data.\n",
    "\n",
    "    Args:\n",
    "        data (dict[int,int]): A dictionnary mapping the x variable to the y variable\n",
    "    \"\"\"\n",
    "    x = list(data.keys())\n",
    "    y = list(data.values())\n",
    "\n",
    "    # Perform linear regression\n",
    "    m, b, rvalue, _, _ = linregress(x, y)\n",
    "\n",
    "    predicted = [m * iter + b for iter in x]\n",
    "\n",
    "    # Create the line equation\n",
    "    line_eq = f\"y = {m:.2E}x + {b:.2E}\"\n",
    "\n",
    "    # Plot the points\n",
    "    plt.scatter(x, y, label='Mesures')\n",
    "\n",
    "    # Plot the regression line\n",
    "    plt.plot(x, predicted, color=\"red\", label=f'Regression linéaire R²={round(rvalue**2,6)}')\n",
    "\n",
    "    # Add labels and title\n",
    "    plt.xlabel(x_label)\n",
    "    plt.ylabel(y_label)\n",
    "    plt.title(title)\n",
    "\n",
    "    # Add legend\n",
    "    plt.legend(bbox_to_anchor=(0.60, 0), loc='lower left')\n",
    "\n",
    "    # Display the line equation\n",
    "    plt.text(min(x), max(y), line_eq)\n",
    "\n",
    "    # Show the plot\n",
    "    plt.show()"
   ]
  },
  {
   "cell_type": "markdown",
   "metadata": {
    "id": "telzEIacsEF6"
   },
   "source": [
    "# Algorithme"
   ]
  },
  {
   "cell_type": "markdown",
   "metadata": {
    "id": "2TXfOnFLuBG2"
   },
   "source": [
    "Votre algorithme sera en partie noté en fonction d'une évaluation relative entre les équipes. 4 points seront donnés aux équipes qui se classeront dans le premier quartile lors de notre évaluation sur un ensemble d'exemplaires. Les équipes se trouvant dans le quartile dont les algorithmes ont le moins bien performé recevront 1 point.\n",
    "\n",
    "**IMPORTANT** Votre algo doit retourner une solution après 3 minutes. Si ce n'est pas le cas, vous serez pénalisé."
   ]
  },
  {
   "cell_type": "markdown",
   "metadata": {
    "id": "oFVvMwGpt_Vu"
   },
   "source": [
    "# Analyse asymptotique\n",
    "\n",
    "Effectuer une analyse asymptotique de votre algorithme."
   ]
  },
  {
   "cell_type": "markdown",
   "metadata": {
    "id": "2z6hz2LWt_w-"
   },
   "source": [
    "# Analyse hybride\n",
    "\n",
    "Effectuer une analyse hybride de votre algorithme."
   ]
  },
  {
   "cell_type": "markdown",
   "metadata": {
    "id": "AB43Z14ssDna"
   },
   "source": [
    "# Analyse code carbon (2 pts)\n",
    "\n",
    "Effectuer une anlayse code carbon en sélectionnant différent pays pour l'analyse. Commenter vos résultats."
   ]
  },
  {
   "cell_type": "markdown",
   "metadata": {
    "id": "Y4Xx4XnglnII"
   },
   "source": [
    "# Conclusion (6 pts)\n",
    "\n",
    "Faites une synthèse de vos analyses pour mettre en évidence les qualités et défauts de votre algorithme. Mentionnez les améliorations qui vous ont permis d'atteindre votre algorithme actuel ainsi que des pistes d'améliorations potentielles restantes."
   ]
  },
  {
   "cell_type": "markdown",
   "metadata": {
    "id": "nCj6aXxQlnII"
   },
   "source": [
    " ## Autres critères (2 pts)\n",
    " Qualité du code / 1 pt\n",
    "\n",
    "Présentation générale / 1 pt\n",
    "\n",
    "- Concision\n",
    "- Qualité du français\n",
    "\n",
    "Pénalité retard\n",
    "- -2 pt / journée de retard, arrondi vers le haut. Les TPs ne sont plus acceptés après 3 jours."
   ]
  }
 ],
 "metadata": {
  "colab": {
   "provenance": []
  },
  "kernelspec": {
   "display_name": "base",
   "language": "python",
   "name": "python3"
  },
  "language_info": {
   "codemirror_mode": {
    "name": "ipython",
    "version": 3
   },
   "file_extension": ".py",
   "mimetype": "text/x-python",
   "name": "python",
   "nbconvert_exporter": "python",
   "pygments_lexer": "ipython3",
   "version": "3.11.5"
  }
 },
 "nbformat": 4,
 "nbformat_minor": 0
}

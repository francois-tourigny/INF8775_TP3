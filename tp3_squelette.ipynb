{
 "cells": [
  {
   "cell_type": "markdown",
   "metadata": {
    "id": "bNG5DI3nlnIA"
   },
   "source": [
    "# INF8775 – Analyse et conception d’algorithmes\n",
    "# TP3 – Automne 2024"
   ]
  },
  {
   "cell_type": "markdown",
   "metadata": {
    "id": "gobfFF2IlnIB"
   },
   "source": [
    "Côté, Gabriel, 2082508\n",
    "\n",
    "Tourigny, François, 2079718"
   ]
  },
  {
   "cell_type": "markdown",
   "metadata": {
    "id": "E9CyGQLAlnIC"
   },
   "source": [
    "Note finale:"
   ]
  },
  {
   "cell_type": "markdown",
   "metadata": {
    "id": "YYmoxM0BlnIC"
   },
   "source": [
    "<u>**Date limite de remise :**</u>  4 décembre 23h59 pour les deux groupes"
   ]
  },
  {
   "cell_type": "markdown",
   "metadata": {
    "id": "5HEd-K_glnID"
   },
   "source": [
    "# Instructions\n",
    "\n",
    "## Rédaction et remise du rapport\n",
    "\n",
    "- Ce notebook constitue à la fois le sujet du TP, votre code et votre rapport. Il contient déjà du code pour faciliter vos mesures et l'affichage de vos résultats, ainsi qu'un squelette pour votre rapport.\n",
    "\n",
    "- Complétez directement le notebook, vous êtes libres de créer des nouvelles cellules de code ou de texte.\n",
    "\n",
    "- Vous pouvez utiliser des fichiers externes pour stocker des exemplaires et des résultats, mais nous devons être capable de comprendre facilement votre démarche et de la reproduire.\n",
    "\n",
    "- <u>**IMPORTANT**</u> Remettez le fichier du notebook sur Moodle avec le nom `MATRICULE1_MATRICULE2.ipynb`\n",
    "\n",
    "- Vous pouvez inclure du code trouvé sur Internet, mais vous devez en mentionner la source, sous peine d'être sanctionnés pour plagiat.\n",
    "\n",
    "## Mise en situation\n",
    "\n",
    "Ce travail pratique se répartit sur deux séances de laboratoire et est une occasion de mettre en application les connaissances vues en cours. Vous devrez développer l'algorithme de votre choix pour essayer de résoudre le plus efficacement possible le problème donné. Une partie de la note sera accordée en fonction des résultats que vous obtiendrez par rapport aux autres équipes.\n",
    "\n",
    "## Description du problème\n",
    "\n",
    "Le problème qu'on vous demande de résoudre cette fois-ci est un peu plus difficile. Vous êtes responsable de la séparation des voteurs d'un pays en circonscriptions. Un des deux candidats principaux, M. T, vient vous voir et vous demande de lui garantir une victoire (pour un montant non négligeable d'argent). Évidemment, vous refusez, mais le problème est intéressant et vous décidez d'essayez de le résoudre. Si ça vous intéresse, ce problème est ce qu'on appelle du *gerrymandering*.\n",
    "\n",
    "Vous aurez comme entrée à votre problème une carte du pays (représentée par une matrice carrée $n \\times n$) qui contient à chaque position le nombre de voteurs pour candidat X (un chiffre entre 0 et 1000). Votre objectif est de créer $n$ circonscriptions de sorte à ce que candidat X gagne l'élection. Quelques spécifications importantes:\n",
    "\n",
    "- La variable $n$ représente un côté de la matrice. Il y a donc, $n^2$ villes.\n",
    "- Chaque position de la matrice représente une ville\n",
    "- Chaque circonscription doit contenir **$n$ villes**. Une solution reste valide si une circonscription ne contient pas exactement $n$ villes, mais il y a une **pénalité** qui y est associée.\n",
    "- Les villes d'une circonscription doivent être proche les unes des autres. On aimerait garder cette **distance à, au plus, $n/2$**. Encore une fois, on permet de briser cette contrainte, mais il y aura une pénalité qui y est associée. (**Distance manhattan**)\n",
    "- Les villes d'une circonscription ne doivent **pas être nécessairement voisines** tant qu'on respecte la distance maximale. Voir l'exemple plus bas.\n",
    "- Le candidat remporte une circonscription si le nombre de voteurs dans cette circonscription est supérieur à $500n$.\n",
    "- Le candidat cherche à remporter le plus de circonscriptions qu'il peut.\n",
    "\n",
    "![alt text](distance_example.png)"
   ]
  },
  {
   "cell_type": "markdown",
   "metadata": {
    "id": "XqG5rRjSlnIE"
   },
   "source": [
    "\n",
    "## Jeu de données\n",
    "\n",
    "La classe Problem existe pour simplifier l'interface des différentes fonctions utilitaires. Elle permet de générer des jeux de données avec la méthode `generate_sample` ci-dessous. Elle génère une matrice carrée de taille $n$ contenant des nombres entre $1$ et $1000$. Vous pouvez utilisez des exemplaires aléatoires pour tester votre code. La compétition sera faite sur les mêmes exemplaires de tailles différentes pour toutes les équipes d'un même groupe."
   ]
  },
  {
   "cell_type": "code",
   "execution_count": 83,
   "metadata": {
    "id": "h9ZlrNOBlnIF"
   },
   "outputs": [],
   "source": [
    "import random\n",
    "from collections.abc import Iterable\n",
    "\n",
    "def generate_city() -> int:\n",
    "    return round(min(1000,max(0,random.normalvariate(450,200))))\n",
    "\n",
    "class Problem():\n",
    "    def __init__(self, size: int, num_samples: int = 5) -> None:\n",
    "        self.size = size\n",
    "        self.num_samples = num_samples\n",
    "\n",
    "    def generate_sample(self) -> list[list[int]]:\n",
    "        \"\"\"Returns a matrix containing values between 0 and 1000. Each value is the number of voters in a given city\"\"\"\n",
    "        return [[generate_city() for _ in range(self.size)] for _ in range(self.size)]\n",
    "\n",
    "    def generate_dataset(self) -> Iterable[list[list[int]]]:\n",
    "        \"\"\"Returns an iterator over as many samples as are described\"\"\"\n",
    "        return (self.generate_sample() for _ in range(self.num_samples))"
   ]
  },
  {
   "cell_type": "markdown",
   "metadata": {
    "id": "XAvab0yKlnIG"
   },
   "source": [
    "# Implantations et expérimentations"
   ]
  },
  {
   "cell_type": "markdown",
   "metadata": {
    "id": "1U7ktXeVlnIG"
   },
   "source": [
    "Ces fonctions auxiliaires vous sont fournies pour vérifier l'exactitude des vos algorithmes, mesurer leurs performance et afficher vos résultats.\n",
    "\n",
    "Il est recommandé de prendre le temps de lire et comprendre le code.\n",
    "\n",
    "Exécutez la cellule ci-dessous pour pouvoir utiliser les fonctions auxiliaires."
   ]
  },
  {
   "cell_type": "code",
   "execution_count": 84,
   "metadata": {
    "id": "7pWvysBtlnIH"
   },
   "outputs": [],
   "source": [
    "import matplotlib.pyplot as plt\n",
    "import time\n",
    "from collections.abc import Callable\n",
    "from math import ceil\n",
    "import math\n",
    "from scipy.stats import linregress\n",
    "import numpy as np\n",
    "from tqdm import trange\n",
    "\n",
    "class InvalidSolution(Exception):\n",
    "    def __init__(self):\n",
    "        super().__init__(\"Invalid solution, verify your code.\")\n",
    "\n",
    "class Measure():\n",
    "    \"\"\"A wrapper to contain information on taken measures\"\"\"\n",
    "    def __init__(self, size: int, mean: int, score:int) -> None:\n",
    "        self.size = size\n",
    "        self.mean_score = score\n",
    "        self.mean = mean\n",
    "\n",
    "def score_solution(original: list[list[int]], solution: list[list[tuple[int,int]]]) -> int:\n",
    "    \"\"\"Returns the score of the current solution. The score function is a penalty that must be minimized.\"\"\"\n",
    "    return votes_score(original, solution) + size_score(solution) + distance_score(solution)\n",
    "\n",
    "def votes_score(original: list[list[int]], solution: list[list[tuple[int,int]]]) -> int:\n",
    "    \"\"\"Calculates the part of the score associated to lost districts. \n",
    "    It is 5 times the square of the number of lost districts.\"\"\"\n",
    "    lost_districts = 0\n",
    "    for district in solution:\n",
    "        sum = 0\n",
    "        for city in district:\n",
    "            sum += original[city[0]][city[1]]\n",
    "        if sum <= 500*len(district):\n",
    "            lost_districts += 1\n",
    "    return 5 * lost_districts**2\n",
    "\n",
    "def size_score(solution: list[list[tuple[int,int]]]) -> int:\n",
    "    \"\"\"Calculates the part of the score associated to districts having the wrong size.\n",
    "    It is the square of the difference between the wanted number of cities and the \n",
    "    current number of cities in a given district.\"\"\"\n",
    "    n = len(solution)\n",
    "    size_penality = 0\n",
    "    for district in solution:\n",
    "        size_penality += (len(district)-n)**2\n",
    "    return size_penality\n",
    "\n",
    "def distance_score(solution: list[list[tuple[int,int]]]) -> int:\n",
    "    \"\"\"Calculates the part of the score associated to the distance between cities in a district.\n",
    "    It is the mean square distance between each city and every other city in its district.\"\"\"\n",
    "    distance_score = 0\n",
    "    n = len(solution)\n",
    "    for district in solution:\n",
    "        for i,city in enumerate(district):\n",
    "            for j in range(i+1, len(district)):\n",
    "                distance_score += (max(0, distance_manhattan(city, district[j])-ceil(n/2)))**2\n",
    "    return distance_score/len(solution)\n",
    "\n",
    "def distance_manhattan(city_a: tuple[int,int], city_b: tuple[int,int]) -> int:\n",
    "    return abs(city_a[0] - city_b[0]) + abs(city_a[1] - city_b[1])\n",
    "\n",
    "def is_valid_solution(original: list[list[int]], solution: list[list[tuple[int,int]]]) -> bool:\n",
    "    \"\"\"Validates solution\"\"\"\n",
    "    n = len(original)\n",
    "\n",
    "    if len(solution) != n:\n",
    "        print(f\"The solution does not contain {n} districts.\")\n",
    "        return False\n",
    "\n",
    "    for district in solution:\n",
    "        if len(district) < 1:\n",
    "            print(\"The solution contains empty districts.\")\n",
    "            return False\n",
    "        for city in district:\n",
    "            if len(city)!=2:\n",
    "                print(\"Solution must contain 2 coordinates per city.\")\n",
    "                return False\n",
    "        for coord in city:\n",
    "            if coord < 0 or coord >=n:\n",
    "                print(f\"City coordinates must below {n} and positive.\")\n",
    "                return False\n",
    "\n",
    "    coord_set = set()\n",
    "    for district in solution:\n",
    "        for city in district:\n",
    "            coord_set.add(city)\n",
    "    if len(coord_set) != n*n:\n",
    "        print(f\"Solution contained {len(coord_set)} different cities while there should be {n*n} cities in the solution.\")\n",
    "        return False\n",
    "\n",
    "    # Solution is valid\n",
    "    return True\n",
    "\n",
    "def make_problems(sizes: list[int], num_samples: int = 5) -> list[Problem]:\n",
    "    \"\"\"Creates problem instances using given sizes and max_numbers\"\"\"\n",
    "    return [Problem(size,num_samples) for size in sizes]\n",
    "\n",
    "def measure(procedure: Callable[[list[list[int]]],list[list[tuple[int,int]]]], sample: list[list[int]], time_scale: int = 1000) -> tuple[int,int]:\n",
    "    \"\"\"Returns a tuple containing the time as well as the score of the solution, in that order.\n",
    "    \n",
    "    Parameters:\n",
    "        time_scale: Controls the level of precision of the time measurements.\n",
    "\n",
    "    Raises:\n",
    "        InvalidSolution: If the procedure returns an invalid solution, raises an exception.\n",
    "    \"\"\"\n",
    "    start: int = time.time() * time_scale\n",
    "    solution: list[int] = procedure(sample)\n",
    "    end: int = time.time() * time_scale\n",
    "    if not is_valid_solution(sample, solution):\n",
    "        raise InvalidSolution()\n",
    "    return (round(end - start), score_solution(sample, solution))\n",
    "\n",
    "def measure_mean(procedure: Callable[[list[list[int]]],list[list[tuple[int,int]]]], prob: Problem, time_scale: int = 1000) -> Measure:\n",
    "    \"\"\"Generates multiple samples with the specified parameters and returns a Measure \n",
    "    instance representing the result as well as the problem.\n",
    "\n",
    "    Raises:\n",
    "        InvalidSolution: If one of the samples results in an invalid solution.\n",
    "    \"\"\"\n",
    "    results = [measure(procedure,sample,time_scale) for sample in prob.generate_dataset()]\n",
    "    mean_time = sum(result[0] for result in results) / prob.num_samples\n",
    "    mean_score = sum(result[1] for result in results) / prob.num_samples\n",
    "    return Measure(prob.size, mean_time, mean_score)\n",
    "\n",
    "def measure_range(procedure: Callable[[list[list[int]]],list[list[tuple[int,int]]]], problems: list[Problem], time_scale: int = 1000) -> list[Measure]:\n",
    "    \"\"\"Measures the mean time taken for each problem in the given list.\n",
    "\n",
    "    Raises:\n",
    "        InvalidSolution: If one of the samples results in an invalid solution.\n",
    "\n",
    "    Returns:\n",
    "        A list of Measure instances containing the specifications\n",
    "        of the problem as well as the mean time and the score.\n",
    "    \"\"\"\n",
    "    return [\n",
    "        measure_mean(procedure, prob, time_scale)\n",
    "        for prob in problems\n",
    "    ]\n",
    "\n",
    "def display_data_as_table(measures: list[Measure]):\n",
    "    \"\"\"Prints a table with the data in the given list of measures\"\"\"\n",
    "    print(\"{: <12} {: <12} {: <12}\".format(\"Taille\", \"Temps moyen\", \"Score moyen\"))\n",
    "    for measure in measures:\n",
    "        print(\"{: <12} {: <12} {: <12}\".format(measure.size, measure.mean, measure.mean_score))\n",
    "\n",
    "### The different tests are below, the names are in french to avoid confusion\n",
    "\n",
    "def test_de_puissance(\n",
    "    data: dict[int,int],\n",
    "    x_label: str,\n",
    "    y_label: str,\n",
    "    title: str = \"Test de puissance\"\n",
    "):\n",
    "    \"\"\"Takes the data and displays it into the corresponding test graph.\n",
    "    It applies no transformations to the data.\n",
    "\n",
    "    Args:\n",
    "        data (dict[int,int]): A dictionnary mapping the x variable to the y variable\n",
    "    \"\"\"\n",
    "    # Log both sets of values\n",
    "    x = list(data.keys())\n",
    "    y = list(data.values())\n",
    "\n",
    "    # Perform the lin regression\n",
    "    m, b, rvalue, _, _ = linregress(x, y)\n",
    "\n",
    "    # Estimate the values of y based on the lin regression results\n",
    "    predicted = [m * iter + b for iter in x]\n",
    "\n",
    "    # Create the line equation\n",
    "    line_eq = f\"y = {m:.2f}x + {b:.2f}\"\n",
    "\n",
    "    # Plot the points\n",
    "    plt.scatter(x, y, label='Mesures')\n",
    "\n",
    "    # Plot the regression line\n",
    "    plt.plot(x, predicted, color=\"red\", label=f'Regression linéaire R²={round(rvalue**2,6)}')\n",
    "\n",
    "    # Add labels and title\n",
    "    plt.xlabel(x_label)\n",
    "    plt.ylabel(y_label)\n",
    "    plt.title(title)\n",
    "\n",
    "    # Add legend\n",
    "    plt.legend(bbox_to_anchor=(0.60, 0), loc='lower left')\n",
    "\n",
    "    # Display the line equation\n",
    "    plt.text(min(x), max(y), line_eq)\n",
    "\n",
    "    # Show the plot\n",
    "    plt.show()\n",
    "\n",
    "def test_de_rapport(\n",
    "    data: dict[int,int],\n",
    "    x_label: str,\n",
    "    y_label: str,\n",
    "    title: str = \"Test de rapport\"\n",
    "):\n",
    "    \"\"\"Takes the data and displays it into the corresponding test graph.\n",
    "    It applies no transformations to the data.\n",
    "\n",
    "    Args:\n",
    "        data (dict[int,int]): A dictionnary mapping the x variable to the y variable\n",
    "    \"\"\"\n",
    "    x = list(data.keys())\n",
    "    y = list(data.values())\n",
    "\n",
    "    plt.plot(x, y, label='Mesures')\n",
    "    plt.scatter(x, y, label='Mesures')\n",
    "\n",
    "    # Add labels and title\n",
    "    plt.xlabel(x_label)\n",
    "    plt.ylabel(y_label)\n",
    "    plt.title(title)\n",
    "    plt.show()\n",
    "\n",
    "def test_de_constantes(\n",
    "    data: dict[int,int],\n",
    "    x_label: str,\n",
    "    y_label: str = \"Temps (ms)\",\n",
    "    title: str = \"Test de constantes\"\n",
    "):\n",
    "    \"\"\"Takes the data and displays it into the corresponding test graph.\n",
    "    It applies no transformations to the data.\n",
    "\n",
    "    Args:\n",
    "        data (dict[int,int]): A dictionnary mapping the x variable to the y variable\n",
    "    \"\"\"\n",
    "    x = list(data.keys())\n",
    "    y = list(data.values())\n",
    "\n",
    "    # Perform linear regression\n",
    "    m, b, rvalue, _, _ = linregress(x, y)\n",
    "\n",
    "    predicted = [m * iter + b for iter in x]\n",
    "\n",
    "    # Create the line equation\n",
    "    line_eq = f\"y = {m:.2E}x + {b:.2E}\"\n",
    "\n",
    "    # Plot the points\n",
    "    plt.scatter(x, y, label='Mesures')\n",
    "\n",
    "    # Plot the regression line\n",
    "    plt.plot(x, predicted, color=\"red\", label=f'Regression linéaire R²={round(rvalue**2,6)}')\n",
    "\n",
    "    # Add labels and title\n",
    "    plt.xlabel(x_label)\n",
    "    plt.ylabel(y_label)\n",
    "    plt.title(title)\n",
    "\n",
    "    # Add legend\n",
    "    plt.legend(bbox_to_anchor=(0.60, 0), loc='lower left')\n",
    "\n",
    "    # Display the line equation\n",
    "    plt.text(min(x), max(y), line_eq)\n",
    "\n",
    "    # Show the plot\n",
    "    plt.show()"
   ]
  },
  {
   "cell_type": "markdown",
   "metadata": {
    "id": "telzEIacsEF6"
   },
   "source": [
    "# Algorithme"
   ]
  },
  {
   "cell_type": "markdown",
   "metadata": {
    "id": "2TXfOnFLuBG2"
   },
   "source": [
    "Votre algorithme sera en partie noté en fonction d'une évaluation relative entre les équipes. 4 points seront donnés aux équipes qui se classeront dans le premier quartile lors de notre évaluation sur un ensemble d'exemplaires. Les équipes se trouvant dans le quartile dont les algorithmes ont le moins bien performé recevront 1 point.\n",
    "\n",
    "**IMPORTANT** Votre algo doit retourner une solution après 3 minutes. Si ce n'est pas le cas, vous serez pénalisé."
   ]
  },
  {
   "cell_type": "code",
   "execution_count": 85,
   "metadata": {},
   "outputs": [],
   "source": [
    "class County():\n",
    "    def __init__(self, row: int, col: int, pos: int, voters: int) -> None:\n",
    "        self.row = row\n",
    "        self.col = col\n",
    "        self.pos = pos\n",
    "        self.voters = voters\n",
    "        self.neighbors = []\n",
    "        self.group = -1\n",
    "\n",
    "    def add_neighbor(self, neighbor):\n",
    "        self.neighbors.append(neighbor)\n",
    "\n",
    "    def get_neighbours(self):\n",
    "        return self.neighbors\n",
    "    \n",
    "    def set_group(self, group: int):\n",
    "        self.group = group\n",
    "    \n",
    "    def get_group(self):\n",
    "        return self.group\n",
    "    \n",
    "    def is_in_group(self):\n",
    "        return self.group != -1\n"
   ]
  },
  {
   "cell_type": "code",
   "execution_count": 86,
   "metadata": {},
   "outputs": [],
   "source": [
    "def get_neighbours_idx(idx, n):\n",
    "    neighbours = []\n",
    "    if idx - n > 0:\n",
    "        neighbours.append(idx-n)\n",
    "    if idx + n < n**2:\n",
    "        neighbours.append(idx+n)\n",
    "    if idx // n == (idx-1) // n:\n",
    "        neighbours.append(idx-1)\n",
    "    if idx // n == (idx+1) // n:\n",
    "        neighbours.append(idx+1)\n",
    "    return neighbours\n",
    "\n",
    "def set_counties(sample) -> list[County]:\n",
    "    n = len(sample)\n",
    "    counties = [County(i, j, i*n+j, county) for i, line in enumerate(sample) for j, county in enumerate(line)]\n",
    "    for county in counties:\n",
    "        for neighbor_idx in get_neighbours_idx(county.pos, n):\n",
    "            county.add_neighbor(counties[neighbor_idx])\n",
    "    return counties\n"
   ]
  },
  {
   "cell_type": "code",
   "execution_count": 87,
   "metadata": {},
   "outputs": [],
   "source": [
    "def distance(county_row, county_col, center_row, center_col, n):\n",
    "    return (abs(center_row - county_row) + abs(center_col - county_col))\n",
    "    \n",
    "def max_to_target(counties: list[County], target: int, n: int):\n",
    "    solution = []\n",
    "    counties_available = counties\n",
    "    groups = []\n",
    "    groups_center = []\n",
    "    center_row = 0\n",
    "    center_col = 0\n",
    "    for group_id in trange(n):\n",
    "        new_group = []\n",
    "        number_items = 0\n",
    "        center_row = 0\n",
    "        center_col = 0\n",
    "        group_neighbors = []\n",
    "        while len(new_group) < n:\n",
    "            selection = None\n",
    "            if len(group_neighbors) == 0:\n",
    "                selection = max(counties_available, key=lambda county: county.voters/n - distance(county.row, county.col, center_row, center_col, n)**2/n)\n",
    "            elif sum(county.voters for county in new_group) < target:\n",
    "                selection = max(group_neighbors, key=lambda county: county.voters/n - distance(county.row, county.col, center_row, center_col, n)**2/n)\n",
    "                #selection = random.choice(group_neighbors)\n",
    "            else:\n",
    "                selection = min(group_neighbors, key=lambda county: county.voters/n + distance(county.row, county.col, center_row, center_col, n)**2/n)\n",
    "\n",
    "            new_group.append(selection)\n",
    "            center_row = (center_row * number_items + selection.row) / (number_items + 1)\n",
    "            center_col = (center_col * number_items + selection.col) / (number_items + 1)\n",
    "            number_items += 1\n",
    "            selection.set_group(group_id)\n",
    "            \n",
    "            group_neighbors.extend([neighbor for neighbor in selection.neighbors if not neighbor.is_in_group() and not neighbor in group_neighbors])\n",
    "            counties_available.remove(selection)\n",
    "            if selection in group_neighbors:\n",
    "                group_neighbors.remove(selection)\n",
    "            \n",
    "        groups.append(new_group)\n",
    "        groups_center.append((center_row, center_col))\n",
    "        solution.append([(county.row, county.col) for county in new_group])\n",
    "    return solution, groups\n",
    "\n"
   ]
  },
  {
   "cell_type": "code",
   "execution_count": 88,
   "metadata": {},
   "outputs": [],
   "source": [
    "\n",
    "def main(sample):\n",
    "    start_time = time.time()\n",
    "    max_time = 60 * 3 - 1\n",
    "    n = len(sample)\n",
    "    target = 500 * n\n",
    "    counties = set_counties(sample)\n",
    "    print('initial solution')\n",
    "    sol, groups = max_to_target(counties, target, n)\n",
    "    if (time.time() - start_time) > max_time:\n",
    "        return sol\n",
    "    print(\"--- %s seconds for solution baseline ---\" % (time.time() - start_time))\n",
    "\n",
    "    #print('vote score: ', votes_score(sample, sol))\n",
    "    #print('size score: ', size_score(sol))\n",
    "    #print('distance score: ', distance_score(sol))\n",
    "    #print('intial score: ',score_solution(sample, sol))\n",
    "    #drawmap_of_discrits(n, sol)\n",
    "    first_iter = True\n",
    "    iter_time = time.time()\n",
    "    time_to_iter = 0\n",
    "    print('improvement')\n",
    "    while(True):\n",
    "        updated = amelioration_locale(groups, target, n, sample, sol)\n",
    "        sol = updated\n",
    "\n",
    "        if (time.time() - start_time) > max_time - time_to_iter:\n",
    "            return sol\n",
    "        if(first_iter):\n",
    "            first_iter = False\n",
    "            time_to_iter = (time.time() - iter_time)\n",
    "\n",
    "    #print(\" ---------------- AFTER UPDATE -----------------\")\n",
    "    #print('vote score: ', votes_score(sample, sol))\n",
    "    #print('size score: ', size_score(sol))\n",
    "    #print('distance score: ', distance_score(sol))\n",
    "    #print('total score: ', score_solution(sample, sol))\n",
    "    #drawmap_of_discrits(n, sol)\n",
    "    return sol\n",
    "\n",
    "\n",
    "def amelioration_locale(divisions, target, n, sample, sol):\n",
    "    #init_score = score_solution(sample, sol)\n",
    "    div_votes = [sum(county.voters for county in div) for div in divisions]\n",
    "    groups_center = [(sum(county.row for county in div)/n, sum(county.col for county in div)/n) for div in divisions]\n",
    "\n",
    "    #selected_div_idx = div_votes.index(max(div for div in div_votes if div < target))\n",
    "    #selected_div_idx = divisions.index(random.choice([div for div in divisions if sum(county.voters for county in div) < target]))\n",
    "    selected_div_idx = divisions.index(random.choice(divisions))\n",
    "    #selected_div_idx = div_votes.index(min(div_votes))\n",
    "\n",
    "    selected_div = divisions[selected_div_idx]\n",
    "    center_swap_group_row = groups_center[selected_div_idx][0]\n",
    "    center_swap_group_col = groups_center[selected_div_idx][1]\n",
    "\n",
    "    modified_selected_div = [county.voters + distance(center_swap_group_row, center_swap_group_col, county.row, county.col, n) for county in selected_div]\n",
    "    county_to_swap_idx = modified_selected_div.index(min(modified_selected_div))\n",
    "    county_to_swap = divisions[selected_div_idx][county_to_swap_idx]\n",
    "    #print('county to swap: ', county_to_swap.pos)\n",
    "    differential_needed = target - county_to_swap.voters\n",
    "    distance_div_swap = distance(center_swap_group_row, center_swap_group_col, county_to_swap.row, county_to_swap.col, n)\n",
    "\n",
    "    swap_scores = {}\n",
    "    for div_idx in range(len(divisions)):\n",
    "        if div_idx == selected_div_idx:\n",
    "            continue\n",
    "\n",
    "        votes_to_spare = div_votes[div_idx] - target\n",
    "        if votes_to_spare <= 0:\n",
    "            votes_to_spare = target\n",
    "        \n",
    "        div_center_row = groups_center[div_idx][0]\n",
    "        div_center_col = groups_center[div_idx][1]\n",
    "        distance_div_swap_new_group = distance(div_center_row, div_center_col, county_to_swap.row, county_to_swap.col, n)\n",
    "\n",
    "        for county_idx, county in enumerate(divisions[div_idx]):\n",
    "            if county.voters - county_to_swap.voters > votes_to_spare:\n",
    "                continue\n",
    "            dist_county_curr_group = distance(div_center_row, div_center_col, county.row, county.col, n)\n",
    "            dist_county_swap_group = distance(center_swap_group_row, center_swap_group_col, county.row, county.col, n)\n",
    "            score_voters =  (county.voters/n - county_to_swap.voters/n) + (0 if county.voters - county_to_swap.voters < differential_needed else target)\n",
    "            score_distance = (dist_county_curr_group + distance_div_swap) - (dist_county_swap_group + distance_div_swap_new_group)\n",
    "            swap_scores[county.pos] = score_voters + n * score_distance\n",
    "\n",
    "    #print(swap_scores)\n",
    "    if len(swap_scores) == 0:\n",
    "        return sol\n",
    "    switch_county_pos = max(swap_scores, key=swap_scores.get)\n",
    "    if swap_scores[switch_county_pos] < 0:\n",
    "        return sol\n",
    "    #print(switch_county_pos)\n",
    "    switch_county_row = switch_county_pos // n\n",
    "    switch_county_col = switch_county_pos % n\n",
    "\n",
    "    div_switch_idx = -1\n",
    "    pos_pair_switch = (switch_county_row, switch_county_col)\n",
    "    for div_idx in range(len(divisions)):\n",
    "        if pos_pair_switch in sol[div_idx]:\n",
    "            div_switch_idx = div_idx\n",
    "    \n",
    "    #update solution\n",
    "    sol[div_switch_idx].remove(pos_pair_switch)\n",
    "    sol[div_switch_idx].append((county_to_swap.row, county_to_swap.col))\n",
    "\n",
    "    sol[selected_div_idx].append(pos_pair_switch)\n",
    "    sol[selected_div_idx].remove((county_to_swap.row, county_to_swap.col))\n",
    "\n",
    "    #update divisions\n",
    "    divisions[selected_div_idx].remove(county_to_swap)\n",
    "    pos_arr = [div.pos for div in divisions[div_switch_idx]]\n",
    "\n",
    "    idx_select = pos_arr.index(switch_county_pos)\n",
    "    switch = divisions[div_switch_idx][idx_select]\n",
    "    divisions[selected_div_idx].append(switch)\n",
    "\n",
    "    divisions[div_switch_idx].append(county_to_swap)\n",
    "    divisions[div_switch_idx].remove(switch)\n",
    "\n",
    "    #print('new score: ',score_solution(sample, sol))\n",
    "    #drawmap_of_discrits(n, sol)\n",
    "    return sol\n",
    "    \n",
    "\n",
    "\n"
   ]
  },
  {
   "cell_type": "code",
   "execution_count": 89,
   "metadata": {},
   "outputs": [
    {
     "name": "stdout",
     "output_type": "stream",
     "text": [
      "initial solution\n"
     ]
    },
    {
     "name": "stderr",
     "output_type": "stream",
     "text": [
      "100%|██████████| 100/100 [00:02<00:00, 41.50it/s]\n"
     ]
    },
    {
     "name": "stdout",
     "output_type": "stream",
     "text": [
      "--- 2.444875478744507 seconds for solution baseline ---\n",
      "improvement\n"
     ]
    },
    {
     "ename": "KeyboardInterrupt",
     "evalue": "",
     "output_type": "error",
     "traceback": [
      "\u001b[1;31m---------------------------------------------------------------------------\u001b[0m",
      "\u001b[1;31mKeyboardInterrupt\u001b[0m                         Traceback (most recent call last)",
      "Cell \u001b[1;32mIn[89], line 1\u001b[0m\n\u001b[1;32m----> 1\u001b[0m resultats \u001b[38;5;241m=\u001b[39m \u001b[43mmeasure_range\u001b[49m\u001b[43m(\u001b[49m\u001b[43mmain\u001b[49m\u001b[43m,\u001b[49m\u001b[43m \u001b[49m\u001b[43mmake_problems\u001b[49m\u001b[43m(\u001b[49m\u001b[43m[\u001b[49m\u001b[38;5;241;43m100\u001b[39;49m\u001b[43m]\u001b[49m\u001b[43m,\u001b[49m\u001b[43m \u001b[49m\u001b[38;5;241;43m1\u001b[39;49m\u001b[43m)\u001b[49m\u001b[43m \u001b[49m\u001b[43m)\u001b[49m\n\u001b[0;32m      3\u001b[0m display_data_as_table(resultats)\n",
      "Cell \u001b[1;32mIn[84], line 136\u001b[0m, in \u001b[0;36mmeasure_range\u001b[1;34m(procedure, problems, time_scale)\u001b[0m\n\u001b[0;32m    125\u001b[0m \u001b[38;5;28;01mdef\u001b[39;00m \u001b[38;5;21mmeasure_range\u001b[39m(procedure: Callable[[\u001b[38;5;28mlist\u001b[39m[\u001b[38;5;28mlist\u001b[39m[\u001b[38;5;28mint\u001b[39m]]],\u001b[38;5;28mlist\u001b[39m[\u001b[38;5;28mlist\u001b[39m[\u001b[38;5;28mtuple\u001b[39m[\u001b[38;5;28mint\u001b[39m,\u001b[38;5;28mint\u001b[39m]]]], problems: \u001b[38;5;28mlist\u001b[39m[Problem], time_scale: \u001b[38;5;28mint\u001b[39m \u001b[38;5;241m=\u001b[39m \u001b[38;5;241m1000\u001b[39m) \u001b[38;5;241m-\u001b[39m\u001b[38;5;241m>\u001b[39m \u001b[38;5;28mlist\u001b[39m[Measure]:\n\u001b[0;32m    126\u001b[0m \u001b[38;5;250m    \u001b[39m\u001b[38;5;124;03m\"\"\"Measures the mean time taken for each problem in the given list.\u001b[39;00m\n\u001b[0;32m    127\u001b[0m \n\u001b[0;32m    128\u001b[0m \u001b[38;5;124;03m    Raises:\u001b[39;00m\n\u001b[1;32m   (...)\u001b[0m\n\u001b[0;32m    133\u001b[0m \u001b[38;5;124;03m        of the problem as well as the mean time and the score.\u001b[39;00m\n\u001b[0;32m    134\u001b[0m \u001b[38;5;124;03m    \"\"\"\u001b[39;00m\n\u001b[0;32m    135\u001b[0m     \u001b[38;5;28;01mreturn\u001b[39;00m [\n\u001b[1;32m--> 136\u001b[0m         \u001b[43mmeasure_mean\u001b[49m\u001b[43m(\u001b[49m\u001b[43mprocedure\u001b[49m\u001b[43m,\u001b[49m\u001b[43m \u001b[49m\u001b[43mprob\u001b[49m\u001b[43m,\u001b[49m\u001b[43m \u001b[49m\u001b[43mtime_scale\u001b[49m\u001b[43m)\u001b[49m\n\u001b[0;32m    137\u001b[0m         \u001b[38;5;28;01mfor\u001b[39;00m prob \u001b[38;5;129;01min\u001b[39;00m problems\n\u001b[0;32m    138\u001b[0m     ]\n",
      "Cell \u001b[1;32mIn[84], line 120\u001b[0m, in \u001b[0;36mmeasure_mean\u001b[1;34m(procedure, prob, time_scale)\u001b[0m\n\u001b[0;32m    113\u001b[0m \u001b[38;5;28;01mdef\u001b[39;00m \u001b[38;5;21mmeasure_mean\u001b[39m(procedure: Callable[[\u001b[38;5;28mlist\u001b[39m[\u001b[38;5;28mlist\u001b[39m[\u001b[38;5;28mint\u001b[39m]]],\u001b[38;5;28mlist\u001b[39m[\u001b[38;5;28mlist\u001b[39m[\u001b[38;5;28mtuple\u001b[39m[\u001b[38;5;28mint\u001b[39m,\u001b[38;5;28mint\u001b[39m]]]], prob: Problem, time_scale: \u001b[38;5;28mint\u001b[39m \u001b[38;5;241m=\u001b[39m \u001b[38;5;241m1000\u001b[39m) \u001b[38;5;241m-\u001b[39m\u001b[38;5;241m>\u001b[39m Measure:\n\u001b[0;32m    114\u001b[0m \u001b[38;5;250m    \u001b[39m\u001b[38;5;124;03m\"\"\"Generates multiple samples with the specified parameters and returns a Measure \u001b[39;00m\n\u001b[0;32m    115\u001b[0m \u001b[38;5;124;03m    instance representing the result as well as the problem.\u001b[39;00m\n\u001b[0;32m    116\u001b[0m \n\u001b[0;32m    117\u001b[0m \u001b[38;5;124;03m    Raises:\u001b[39;00m\n\u001b[0;32m    118\u001b[0m \u001b[38;5;124;03m        InvalidSolution: If one of the samples results in an invalid solution.\u001b[39;00m\n\u001b[0;32m    119\u001b[0m \u001b[38;5;124;03m    \"\"\"\u001b[39;00m\n\u001b[1;32m--> 120\u001b[0m     results \u001b[38;5;241m=\u001b[39m [\u001b[43mmeasure\u001b[49m\u001b[43m(\u001b[49m\u001b[43mprocedure\u001b[49m\u001b[43m,\u001b[49m\u001b[43msample\u001b[49m\u001b[43m,\u001b[49m\u001b[43mtime_scale\u001b[49m\u001b[43m)\u001b[49m \u001b[38;5;28;01mfor\u001b[39;00m sample \u001b[38;5;129;01min\u001b[39;00m prob\u001b[38;5;241m.\u001b[39mgenerate_dataset()]\n\u001b[0;32m    121\u001b[0m     mean_time \u001b[38;5;241m=\u001b[39m \u001b[38;5;28msum\u001b[39m(result[\u001b[38;5;241m0\u001b[39m] \u001b[38;5;28;01mfor\u001b[39;00m result \u001b[38;5;129;01min\u001b[39;00m results) \u001b[38;5;241m/\u001b[39m prob\u001b[38;5;241m.\u001b[39mnum_samples\n\u001b[0;32m    122\u001b[0m     mean_score \u001b[38;5;241m=\u001b[39m \u001b[38;5;28msum\u001b[39m(result[\u001b[38;5;241m1\u001b[39m] \u001b[38;5;28;01mfor\u001b[39;00m result \u001b[38;5;129;01min\u001b[39;00m results) \u001b[38;5;241m/\u001b[39m prob\u001b[38;5;241m.\u001b[39mnum_samples\n",
      "Cell \u001b[1;32mIn[84], line 107\u001b[0m, in \u001b[0;36mmeasure\u001b[1;34m(procedure, sample, time_scale)\u001b[0m\n\u001b[0;32m     98\u001b[0m \u001b[38;5;250m\u001b[39m\u001b[38;5;124;03m\"\"\"Returns a tuple containing the time as well as the score of the solution, in that order.\u001b[39;00m\n\u001b[0;32m     99\u001b[0m \u001b[38;5;124;03m\u001b[39;00m\n\u001b[0;32m    100\u001b[0m \u001b[38;5;124;03mParameters:\u001b[39;00m\n\u001b[1;32m   (...)\u001b[0m\n\u001b[0;32m    104\u001b[0m \u001b[38;5;124;03m    InvalidSolution: If the procedure returns an invalid solution, raises an exception.\u001b[39;00m\n\u001b[0;32m    105\u001b[0m \u001b[38;5;124;03m\"\"\"\u001b[39;00m\n\u001b[0;32m    106\u001b[0m start: \u001b[38;5;28mint\u001b[39m \u001b[38;5;241m=\u001b[39m time\u001b[38;5;241m.\u001b[39mtime() \u001b[38;5;241m*\u001b[39m time_scale\n\u001b[1;32m--> 107\u001b[0m solution: \u001b[38;5;28mlist\u001b[39m[\u001b[38;5;28mint\u001b[39m] \u001b[38;5;241m=\u001b[39m \u001b[43mprocedure\u001b[49m\u001b[43m(\u001b[49m\u001b[43msample\u001b[49m\u001b[43m)\u001b[49m\n\u001b[0;32m    108\u001b[0m end: \u001b[38;5;28mint\u001b[39m \u001b[38;5;241m=\u001b[39m time\u001b[38;5;241m.\u001b[39mtime() \u001b[38;5;241m*\u001b[39m time_scale\n\u001b[0;32m    109\u001b[0m \u001b[38;5;28;01mif\u001b[39;00m \u001b[38;5;129;01mnot\u001b[39;00m is_valid_solution(sample, solution):\n",
      "Cell \u001b[1;32mIn[88], line 24\u001b[0m, in \u001b[0;36mmain\u001b[1;34m(sample)\u001b[0m\n\u001b[0;32m     22\u001b[0m \u001b[38;5;28mprint\u001b[39m(\u001b[38;5;124m'\u001b[39m\u001b[38;5;124mimprovement\u001b[39m\u001b[38;5;124m'\u001b[39m)\n\u001b[0;32m     23\u001b[0m \u001b[38;5;28;01mwhile\u001b[39;00m(\u001b[38;5;28;01mTrue\u001b[39;00m):\n\u001b[1;32m---> 24\u001b[0m     updated \u001b[38;5;241m=\u001b[39m \u001b[43mamelioration_locale\u001b[49m\u001b[43m(\u001b[49m\u001b[43mgroups\u001b[49m\u001b[43m,\u001b[49m\u001b[43m \u001b[49m\u001b[43mtarget\u001b[49m\u001b[43m,\u001b[49m\u001b[43m \u001b[49m\u001b[43mn\u001b[49m\u001b[43m,\u001b[49m\u001b[43m \u001b[49m\u001b[43msample\u001b[49m\u001b[43m,\u001b[49m\u001b[43m \u001b[49m\u001b[43msol\u001b[49m\u001b[43m)\u001b[49m\n\u001b[0;32m     25\u001b[0m     sol \u001b[38;5;241m=\u001b[39m updated\n\u001b[0;32m     27\u001b[0m     \u001b[38;5;28;01mif\u001b[39;00m (time\u001b[38;5;241m.\u001b[39mtime() \u001b[38;5;241m-\u001b[39m start_time) \u001b[38;5;241m>\u001b[39m max_time \u001b[38;5;241m-\u001b[39m time_to_iter:\n",
      "Cell \u001b[1;32mIn[88], line 45\u001b[0m, in \u001b[0;36mamelioration_locale\u001b[1;34m(divisions, target, n, sample, sol)\u001b[0m\n\u001b[0;32m     42\u001b[0m \u001b[38;5;28;01mdef\u001b[39;00m \u001b[38;5;21mamelioration_locale\u001b[39m(divisions, target, n, sample, sol):\n\u001b[0;32m     43\u001b[0m     \u001b[38;5;66;03m#init_score = score_solution(sample, sol)\u001b[39;00m\n\u001b[0;32m     44\u001b[0m     div_votes \u001b[38;5;241m=\u001b[39m [\u001b[38;5;28msum\u001b[39m(county\u001b[38;5;241m.\u001b[39mvoters \u001b[38;5;28;01mfor\u001b[39;00m county \u001b[38;5;129;01min\u001b[39;00m div) \u001b[38;5;28;01mfor\u001b[39;00m div \u001b[38;5;129;01min\u001b[39;00m divisions]\n\u001b[1;32m---> 45\u001b[0m     groups_center \u001b[38;5;241m=\u001b[39m [(\u001b[38;5;28msum\u001b[39m(county\u001b[38;5;241m.\u001b[39mrow \u001b[38;5;28;01mfor\u001b[39;00m county \u001b[38;5;129;01min\u001b[39;00m div)\u001b[38;5;241m/\u001b[39mn, \u001b[38;5;28;43msum\u001b[39;49m\u001b[43m(\u001b[49m\u001b[43mcounty\u001b[49m\u001b[38;5;241;43m.\u001b[39;49m\u001b[43mcol\u001b[49m\u001b[43m \u001b[49m\u001b[38;5;28;43;01mfor\u001b[39;49;00m\u001b[43m \u001b[49m\u001b[43mcounty\u001b[49m\u001b[43m \u001b[49m\u001b[38;5;129;43;01min\u001b[39;49;00m\u001b[43m \u001b[49m\u001b[43mdiv\u001b[49m\u001b[43m)\u001b[49m\u001b[38;5;241m/\u001b[39mn) \u001b[38;5;28;01mfor\u001b[39;00m div \u001b[38;5;129;01min\u001b[39;00m divisions]\n\u001b[0;32m     47\u001b[0m     \u001b[38;5;66;03m#selected_div_idx = div_votes.index(max(div for div in div_votes if div < target))\u001b[39;00m\n\u001b[0;32m     48\u001b[0m     \u001b[38;5;66;03m#selected_div_idx = divisions.index(random.choice([div for div in divisions if sum(county.voters for county in div) < target]))\u001b[39;00m\n\u001b[0;32m     49\u001b[0m     selected_div_idx \u001b[38;5;241m=\u001b[39m divisions\u001b[38;5;241m.\u001b[39mindex(random\u001b[38;5;241m.\u001b[39mchoice(divisions))\n",
      "Cell \u001b[1;32mIn[88], line 45\u001b[0m, in \u001b[0;36m<genexpr>\u001b[1;34m(.0)\u001b[0m\n\u001b[0;32m     42\u001b[0m \u001b[38;5;28;01mdef\u001b[39;00m \u001b[38;5;21mamelioration_locale\u001b[39m(divisions, target, n, sample, sol):\n\u001b[0;32m     43\u001b[0m     \u001b[38;5;66;03m#init_score = score_solution(sample, sol)\u001b[39;00m\n\u001b[0;32m     44\u001b[0m     div_votes \u001b[38;5;241m=\u001b[39m [\u001b[38;5;28msum\u001b[39m(county\u001b[38;5;241m.\u001b[39mvoters \u001b[38;5;28;01mfor\u001b[39;00m county \u001b[38;5;129;01min\u001b[39;00m div) \u001b[38;5;28;01mfor\u001b[39;00m div \u001b[38;5;129;01min\u001b[39;00m divisions]\n\u001b[1;32m---> 45\u001b[0m     groups_center \u001b[38;5;241m=\u001b[39m [(\u001b[38;5;28msum\u001b[39m(county\u001b[38;5;241m.\u001b[39mrow \u001b[38;5;28;01mfor\u001b[39;00m county \u001b[38;5;129;01min\u001b[39;00m div)\u001b[38;5;241m/\u001b[39mn, \u001b[38;5;28msum\u001b[39m(county\u001b[38;5;241m.\u001b[39mcol \u001b[38;5;28;01mfor\u001b[39;00m county \u001b[38;5;129;01min\u001b[39;00m div)\u001b[38;5;241m/\u001b[39mn) \u001b[38;5;28;01mfor\u001b[39;00m div \u001b[38;5;129;01min\u001b[39;00m divisions]\n\u001b[0;32m     47\u001b[0m     \u001b[38;5;66;03m#selected_div_idx = div_votes.index(max(div for div in div_votes if div < target))\u001b[39;00m\n\u001b[0;32m     48\u001b[0m     \u001b[38;5;66;03m#selected_div_idx = divisions.index(random.choice([div for div in divisions if sum(county.voters for county in div) < target]))\u001b[39;00m\n\u001b[0;32m     49\u001b[0m     selected_div_idx \u001b[38;5;241m=\u001b[39m divisions\u001b[38;5;241m.\u001b[39mindex(random\u001b[38;5;241m.\u001b[39mchoice(divisions))\n",
      "\u001b[1;31mKeyboardInterrupt\u001b[0m: "
     ]
    }
   ],
   "source": [
    "resultats = measure_range(main, make_problems([100], 1) )\n",
    "\n",
    "display_data_as_table(resultats)"
   ]
  },
  {
   "cell_type": "code",
   "execution_count": null,
   "metadata": {},
   "outputs": [],
   "source": [
    "def drawmap_of_discrits(n, discrits: list[list[tuple[int,int]]]):\n",
    "    colors = [[0 for _ in range(n)] for _ in range(n)]\n",
    "    for i,district in enumerate(discrits):\n",
    "        for city in district:\n",
    "            colors[city[0]][city[1]] = i+1\n",
    "\n",
    "    plt.imshow(colors, cmap='tab20')\n",
    "    plt.show()\n"
   ]
  },
  {
   "cell_type": "markdown",
   "metadata": {
    "id": "oFVvMwGpt_Vu"
   },
   "source": [
    "# Analyse asymptotique\n",
    "\n",
    "Notre algorithme se sépare en 3 grande sections. La première d'entre elle est la création des objets County avoir leur voisinage. La seconde section est la génération d'une séparation initiale et la dernière partie est une amélioration locale.\n",
    "\n",
    "# Création des County\n",
    "Commençons par la création des County. La création se sépare en 2 phases, la première est de créer chaque County qui se fait en temps constant pour les n² éléments donc ceci nous donne theta(n²). La seconde étape de création est de passer par chacun des County créés et placer leur voisins qui sont au nombre maximal de 4 donc nous avons une complexité de theta(4*n²) qui est dans le même ordre de grandeur que theta(n²). Bref, la création des objets County se fait en theta(n² + n²) ce qui veut dire une complexité de theta(n²).\n",
    "\n",
    "# Séparation initiale\n",
    "La deuxième portion de notre algorithme est un algorithme glouton qui fait une répartion des County en n groupes. Dans chacun des n groupes, on fait n fois la recherche d'un prochain élément. Dans cette recherche de prochain élément, nous avons 2 choix qui sont de faire une rechreche parmis les voisins s'il y en a et sinon parmis tout les County qui ne sont pas déjà choisis dans un groupe. Dans le pire des cas, nous avons n² choix pour notre recherche de la valeur maximale. Ce qui nous donne une complexité de theta(n\\*n\\*n²) ceci équivaut à une complexité de theta(n⁴).\n",
    "\n",
    "# Amélioration locale\n",
    "La dernière partie est une amélioration locale. L'amélioration se fait en plusieurs sections successives. La première de ces sections de l'amélioration locale est de calculer le centre du groupe nous avons n appels de la distance pour chacun des n groupes ce qui fait au total n² appels de la distance qui est un calcul en temps constant. Cette première partie de l'amélioration locale est donc en theta(n²\\*1) donc theta(n²).\n",
    "La seconde partie de l'amélioration locale est la sélection d'un County à échanger qui est en theta(n) pour le choix du groupe dans lequel prendre le County à échanger puis de theta(n) pour choisir le County parmis le groupe choisi. Ceci nous theta(n+n) donc theta(n) pour la sélection du County à échanger. Nous devons ensuite sélectionner le County avec lequel le premier chois sera échangé. Pour tous les County qui ne sont pas dans le groupe initial, nous générons un score de préférence pour faire l'échange avec le County choisi initialement. Ce calcul de score est en temps constant pour les au maximum n² County possibles pour faire un échange. Bref, le choix du second County pour l'échange se fait en theta(n²\\*1) ce qui donne theta(n²).\n",
    "Finalement, pour l'amélioration locale, nous avons l'échange des deux éléments qui se fait en temps constant theta(1).\n",
    "Notre section d'amélioration locale se fait donc avec la complexité suivante theta(n²+n²+1) ce qui nous donne theta(n²)\n",
    "La section d'amélioration locale est exécutée tant que du temps est disponible (avec une marge de sureté), mais ultimement le nombre d'exécutions peut être comme indépendant de n.\n",
    "\n",
    "# Algorithme complet\n",
    "Pour notre algorithme complet, nous pouvons additionner la complexité théorique de nos sections, car elle sont exécutées l'une à la suite de l'autre.\n",
    "Nous avons donc theta(n²+n⁴+n²) ce qui nous donne une complexitée finale de theta(n⁴)"
   ]
  },
  {
   "cell_type": "markdown",
   "metadata": {
    "id": "2z6hz2LWt_w-"
   },
   "source": [
    "# Analyse hybride\n",
    "\n",
    "\n",
    "PAS faire le test de constante (pour deux variable et on a pas)\n",
    "Faire le test de puissance (faire en log log comme échelle) On devrait voir la valeur 4x\n",
    "On peut utiliser un test de rapport pour confirmer le test de puissance\n",
    "Faire le test de rapport en dernier si tout fonctionne\n",
    "\n",
    "\n",
    "Expliquer l'utilisation de chacun des graphiques, expliquer en quoi le graphique justifie la complexité et pourquoi ne pas utiliser certain graphiques.\n",
    "\n",
    "Effectuer une analyse hybride de votre algorithme."
   ]
  },
  {
   "cell_type": "code",
   "execution_count": 115,
   "metadata": {},
   "outputs": [],
   "source": [
    "problems = make_problems([x for x in range(11, 61)], 10)"
   ]
  },
  {
   "cell_type": "code",
   "execution_count": 116,
   "metadata": {},
   "outputs": [],
   "source": [
    "# On réécris certaines fonctions pour pouvoir les évaluer individuellement sans contrainte de temps maximum\n",
    "\n",
    "def main_greedy(sample):\n",
    "    start_time = time.time()\n",
    "    n = len(sample)\n",
    "    target = 500 * n\n",
    "    counties = set_counties(sample)\n",
    "    print('initial solution')\n",
    "    sol, groups = max_to_target(counties, target, n)\n",
    "    print(\"--- %s seconds for solution baseline ---\" % (time.time() - start_time))\n",
    "    return sol\n",
    "    "
   ]
  },
  {
   "cell_type": "markdown",
   "metadata": {},
   "source": [
    "### Génération de moyennes\n",
    "\n",
    "Ici on génère les moyennes de temps et de score pour chaque grandeur de n. On calcule à partir de n = 11 pour éviter le plus possible les problèmes de temps moyen inconsistant quand notre n est très petit. Pour plus de stabilité, nous faisons 10 runs par grandeur de n, pour au total 50 valeurs de n."
   ]
  },
  {
   "cell_type": "code",
   "execution_count": 117,
   "metadata": {},
   "outputs": [
    {
     "name": "stdout",
     "output_type": "stream",
     "text": [
      "initial solution\n"
     ]
    },
    {
     "name": "stderr",
     "output_type": "stream",
     "text": [
      "100%|██████████| 11/11 [00:00<00:00, 7193.22it/s]\n"
     ]
    },
    {
     "name": "stdout",
     "output_type": "stream",
     "text": [
      "--- 0.00496220588684082 seconds for solution baseline ---\n",
      "initial solution\n"
     ]
    },
    {
     "name": "stderr",
     "output_type": "stream",
     "text": [
      "100%|██████████| 11/11 [00:00<00:00, 5507.62it/s]\n"
     ]
    },
    {
     "name": "stdout",
     "output_type": "stream",
     "text": [
      "--- 0.005002260208129883 seconds for solution baseline ---\n",
      "initial solution\n"
     ]
    },
    {
     "name": "stderr",
     "output_type": "stream",
     "text": [
      "100%|██████████| 11/11 [00:00<00:00, 7310.62it/s]\n"
     ]
    },
    {
     "name": "stdout",
     "output_type": "stream",
     "text": [
      "--- 0.0040166378021240234 seconds for solution baseline ---\n",
      "initial solution\n"
     ]
    },
    {
     "name": "stderr",
     "output_type": "stream",
     "text": [
      "100%|██████████| 11/11 [00:00<00:00, 10891.72it/s]\n"
     ]
    },
    {
     "name": "stdout",
     "output_type": "stream",
     "text": [
      "--- 0.004473686218261719 seconds for solution baseline ---\n",
      "initial solution\n"
     ]
    },
    {
     "name": "stderr",
     "output_type": "stream",
     "text": [
      "100%|██████████| 11/11 [00:00<00:00, 10902.02it/s]\n"
     ]
    },
    {
     "name": "stdout",
     "output_type": "stream",
     "text": [
      "--- 0.004520416259765625 seconds for solution baseline ---\n",
      "initial solution\n"
     ]
    },
    {
     "name": "stderr",
     "output_type": "stream",
     "text": [
      "100%|██████████| 11/11 [00:00<00:00, 11013.93it/s]\n"
     ]
    },
    {
     "name": "stdout",
     "output_type": "stream",
     "text": [
      "--- 0.004004001617431641 seconds for solution baseline ---\n",
      "initial solution\n"
     ]
    },
    {
     "name": "stderr",
     "output_type": "stream",
     "text": [
      "100%|██████████| 11/11 [00:00<00:00, 6242.37it/s]\n"
     ]
    },
    {
     "name": "stdout",
     "output_type": "stream",
     "text": [
      "--- 0.005632162094116211 seconds for solution baseline ---\n",
      "initial solution\n"
     ]
    },
    {
     "name": "stderr",
     "output_type": "stream",
     "text": [
      "100%|██████████| 11/11 [00:00<00:00, 5111.60it/s]\n"
     ]
    },
    {
     "name": "stdout",
     "output_type": "stream",
     "text": [
      "--- 0.004151105880737305 seconds for solution baseline ---\n",
      "initial solution\n"
     ]
    },
    {
     "name": "stderr",
     "output_type": "stream",
     "text": [
      "100%|██████████| 11/11 [00:00<00:00, 5303.75it/s]\n"
     ]
    },
    {
     "name": "stdout",
     "output_type": "stream",
     "text": [
      "--- 0.0060808658599853516 seconds for solution baseline ---\n",
      "initial solution\n"
     ]
    },
    {
     "name": "stderr",
     "output_type": "stream",
     "text": [
      "100%|██████████| 11/11 [00:00<00:00, 11021.82it/s]\n"
     ]
    },
    {
     "name": "stdout",
     "output_type": "stream",
     "text": [
      "--- 0.004507303237915039 seconds for solution baseline ---\n",
      "initial solution\n"
     ]
    },
    {
     "name": "stderr",
     "output_type": "stream",
     "text": [
      "100%|██████████| 12/12 [00:00<00:00, 5996.86it/s]\n"
     ]
    },
    {
     "name": "stdout",
     "output_type": "stream",
     "text": [
      "--- 0.004002571105957031 seconds for solution baseline ---\n",
      "initial solution\n"
     ]
    },
    {
     "name": "stderr",
     "output_type": "stream",
     "text": [
      "100%|██████████| 12/12 [00:00<00:00, 5986.16it/s]\n"
     ]
    },
    {
     "name": "stdout",
     "output_type": "stream",
     "text": [
      "--- 0.00423884391784668 seconds for solution baseline ---\n",
      "initial solution\n"
     ]
    },
    {
     "name": "stderr",
     "output_type": "stream",
     "text": [
      "100%|██████████| 12/12 [00:00<00:00, 6399.45it/s]\n"
     ]
    },
    {
     "name": "stdout",
     "output_type": "stream",
     "text": [
      "--- 0.003876209259033203 seconds for solution baseline ---\n",
      "initial solution\n"
     ]
    },
    {
     "name": "stderr",
     "output_type": "stream",
     "text": [
      "100%|██████████| 12/12 [00:00<00:00, 5995.43it/s]\n"
     ]
    },
    {
     "name": "stdout",
     "output_type": "stream",
     "text": [
      "--- 0.005096912384033203 seconds for solution baseline ---\n",
      "initial solution\n"
     ]
    },
    {
     "name": "stderr",
     "output_type": "stream",
     "text": [
      "100%|██████████| 12/12 [00:00<00:00, 5591.78it/s]\n"
     ]
    },
    {
     "name": "stdout",
     "output_type": "stream",
     "text": [
      "--- 0.0076558589935302734 seconds for solution baseline ---\n",
      "initial solution\n"
     ]
    },
    {
     "name": "stderr",
     "output_type": "stream",
     "text": [
      "100%|██████████| 12/12 [00:00<00:00, 12012.33it/s]\n"
     ]
    },
    {
     "name": "stdout",
     "output_type": "stream",
     "text": [
      "--- 0.004998445510864258 seconds for solution baseline ---\n",
      "initial solution\n"
     ]
    },
    {
     "name": "stderr",
     "output_type": "stream",
     "text": [
      "100%|██████████| 12/12 [00:00<00:00, 5146.39it/s]\n"
     ]
    },
    {
     "name": "stdout",
     "output_type": "stream",
     "text": [
      "--- 0.004484415054321289 seconds for solution baseline ---\n",
      "initial solution\n"
     ]
    },
    {
     "name": "stderr",
     "output_type": "stream",
     "text": [
      "100%|██████████| 12/12 [00:00<00:00, 5999.72it/s]\n"
     ]
    },
    {
     "name": "stdout",
     "output_type": "stream",
     "text": [
      "--- 0.00551605224609375 seconds for solution baseline ---\n",
      "initial solution\n"
     ]
    },
    {
     "name": "stderr",
     "output_type": "stream",
     "text": [
      "100%|██████████| 12/12 [00:00<00:00, 12009.46it/s]\n"
     ]
    },
    {
     "name": "stdout",
     "output_type": "stream",
     "text": [
      "--- 0.006005764007568359 seconds for solution baseline ---\n",
      "initial solution\n"
     ]
    },
    {
     "name": "stderr",
     "output_type": "stream",
     "text": [
      "100%|██████████| 12/12 [00:00<00:00, 4431.77it/s]\n"
     ]
    },
    {
     "name": "stdout",
     "output_type": "stream",
     "text": [
      "--- 0.005484342575073242 seconds for solution baseline ---\n",
      "initial solution\n"
     ]
    },
    {
     "name": "stderr",
     "output_type": "stream",
     "text": [
      "100%|██████████| 13/13 [00:00<00:00, 6506.68it/s]\n"
     ]
    },
    {
     "name": "stdout",
     "output_type": "stream",
     "text": [
      "--- 0.005000591278076172 seconds for solution baseline ---\n",
      "initial solution\n"
     ]
    },
    {
     "name": "stderr",
     "output_type": "stream",
     "text": [
      "100%|██████████| 13/13 [00:00<00:00, 4331.93it/s]\n"
     ]
    },
    {
     "name": "stdout",
     "output_type": "stream",
     "text": [
      "--- 0.005002021789550781 seconds for solution baseline ---\n",
      "initial solution\n"
     ]
    },
    {
     "name": "stderr",
     "output_type": "stream",
     "text": [
      "100%|██████████| 13/13 [00:00<00:00, 5711.32it/s]\n"
     ]
    },
    {
     "name": "stdout",
     "output_type": "stream",
     "text": [
      "--- 0.006781816482543945 seconds for solution baseline ---\n",
      "initial solution\n"
     ]
    },
    {
     "name": "stderr",
     "output_type": "stream",
     "text": [
      "100%|██████████| 13/13 [00:00<00:00, 4342.28it/s]\n"
     ]
    },
    {
     "name": "stdout",
     "output_type": "stream",
     "text": [
      "--- 0.006651878356933594 seconds for solution baseline ---\n",
      "initial solution\n"
     ]
    },
    {
     "name": "stderr",
     "output_type": "stream",
     "text": [
      "100%|██████████| 13/13 [00:00<00:00, 4323.00it/s]\n"
     ]
    },
    {
     "name": "stdout",
     "output_type": "stream",
     "text": [
      "--- 0.005669832229614258 seconds for solution baseline ---\n",
      "initial solution\n"
     ]
    },
    {
     "name": "stderr",
     "output_type": "stream",
     "text": [
      "100%|██████████| 13/13 [00:00<00:00, 6460.42it/s]\n"
     ]
    },
    {
     "name": "stdout",
     "output_type": "stream",
     "text": [
      "--- 0.0050144195556640625 seconds for solution baseline ---\n",
      "initial solution\n"
     ]
    },
    {
     "name": "stderr",
     "output_type": "stream",
     "text": [
      "100%|██████████| 13/13 [00:00<00:00, 6499.70it/s]\n"
     ]
    },
    {
     "name": "stdout",
     "output_type": "stream",
     "text": [
      "--- 0.006005525588989258 seconds for solution baseline ---\n",
      "initial solution\n"
     ]
    },
    {
     "name": "stderr",
     "output_type": "stream",
     "text": [
      "100%|██████████| 13/13 [00:00<00:00, 4833.43it/s]\n"
     ]
    },
    {
     "name": "stdout",
     "output_type": "stream",
     "text": [
      "--- 0.005826473236083984 seconds for solution baseline ---\n",
      "initial solution\n"
     ]
    },
    {
     "name": "stderr",
     "output_type": "stream",
     "text": [
      "100%|██████████| 13/13 [00:00<00:00, 6503.57it/s]\n"
     ]
    },
    {
     "name": "stdout",
     "output_type": "stream",
     "text": [
      "--- 0.004999876022338867 seconds for solution baseline ---\n",
      "initial solution\n"
     ]
    },
    {
     "name": "stderr",
     "output_type": "stream",
     "text": [
      "100%|██████████| 13/13 [00:00<00:00, 3796.81it/s]\n"
     ]
    },
    {
     "name": "stdout",
     "output_type": "stream",
     "text": [
      "--- 0.007420778274536133 seconds for solution baseline ---\n",
      "initial solution\n"
     ]
    },
    {
     "name": "stderr",
     "output_type": "stream",
     "text": [
      "100%|██████████| 14/14 [00:00<00:00, 2795.40it/s]\n"
     ]
    },
    {
     "name": "stdout",
     "output_type": "stream",
     "text": [
      "--- 0.009676933288574219 seconds for solution baseline ---\n",
      "initial solution\n"
     ]
    },
    {
     "name": "stderr",
     "output_type": "stream",
     "text": [
      "100%|██████████| 14/14 [00:00<00:00, 2801.41it/s]\n"
     ]
    },
    {
     "name": "stdout",
     "output_type": "stream",
     "text": [
      "--- 0.011016607284545898 seconds for solution baseline ---\n",
      "initial solution\n"
     ]
    },
    {
     "name": "stderr",
     "output_type": "stream",
     "text": [
      "100%|██████████| 14/14 [00:00<00:00, 5580.18it/s]\n"
     ]
    },
    {
     "name": "stdout",
     "output_type": "stream",
     "text": [
      "--- 0.007673501968383789 seconds for solution baseline ---\n",
      "initial solution\n"
     ]
    },
    {
     "name": "stderr",
     "output_type": "stream",
     "text": [
      "100%|██████████| 14/14 [00:00<00:00, 2734.23it/s]\n"
     ]
    },
    {
     "name": "stdout",
     "output_type": "stream",
     "text": [
      "--- 0.009125232696533203 seconds for solution baseline ---\n",
      "initial solution\n"
     ]
    },
    {
     "name": "stderr",
     "output_type": "stream",
     "text": [
      "100%|██████████| 14/14 [00:00<00:00, 4665.52it/s]\n"
     ]
    },
    {
     "name": "stdout",
     "output_type": "stream",
     "text": [
      "--- 0.006302356719970703 seconds for solution baseline ---\n",
      "initial solution\n"
     ]
    },
    {
     "name": "stderr",
     "output_type": "stream",
     "text": [
      "100%|██████████| 14/14 [00:00<00:00, 4505.51it/s]\n"
     ]
    },
    {
     "name": "stdout",
     "output_type": "stream",
     "text": [
      "--- 0.006106376647949219 seconds for solution baseline ---\n",
      "initial solution\n"
     ]
    },
    {
     "name": "stderr",
     "output_type": "stream",
     "text": [
      "100%|██████████| 14/14 [00:00<00:00, 7008.86it/s]\n"
     ]
    },
    {
     "name": "stdout",
     "output_type": "stream",
     "text": [
      "--- 0.00700068473815918 seconds for solution baseline ---\n",
      "initial solution\n"
     ]
    },
    {
     "name": "stderr",
     "output_type": "stream",
     "text": [
      "100%|██████████| 14/14 [00:00<00:00, 4665.52it/s]\n"
     ]
    },
    {
     "name": "stdout",
     "output_type": "stream",
     "text": [
      "--- 0.0050008296966552734 seconds for solution baseline ---\n",
      "initial solution\n"
     ]
    },
    {
     "name": "stderr",
     "output_type": "stream",
     "text": [
      "100%|██████████| 14/14 [00:00<00:00, 4671.09it/s]\n"
     ]
    },
    {
     "name": "stdout",
     "output_type": "stream",
     "text": [
      "--- 0.0050008296966552734 seconds for solution baseline ---\n",
      "initial solution\n"
     ]
    },
    {
     "name": "stderr",
     "output_type": "stream",
     "text": [
      "100%|██████████| 14/14 [00:00<00:00, 6956.55it/s]\n"
     ]
    },
    {
     "name": "stdout",
     "output_type": "stream",
     "text": [
      "--- 0.008014440536499023 seconds for solution baseline ---\n",
      "initial solution\n"
     ]
    },
    {
     "name": "stderr",
     "output_type": "stream",
     "text": [
      "100%|██████████| 15/15 [00:00<00:00, 4271.48it/s]\n"
     ]
    },
    {
     "name": "stdout",
     "output_type": "stream",
     "text": [
      "--- 0.005673408508300781 seconds for solution baseline ---\n",
      "initial solution\n"
     ]
    },
    {
     "name": "stderr",
     "output_type": "stream",
     "text": [
      "100%|██████████| 15/15 [00:00<00:00, 5000.36it/s]\n"
     ]
    },
    {
     "name": "stdout",
     "output_type": "stream",
     "text": [
      "--- 0.006575584411621094 seconds for solution baseline ---\n",
      "initial solution\n"
     ]
    },
    {
     "name": "stderr",
     "output_type": "stream",
     "text": [
      "100%|██████████| 15/15 [00:00<00:00, 4988.07it/s]\n"
     ]
    },
    {
     "name": "stdout",
     "output_type": "stream",
     "text": [
      "--- 0.00935816764831543 seconds for solution baseline ---\n",
      "initial solution\n"
     ]
    },
    {
     "name": "stderr",
     "output_type": "stream",
     "text": [
      "100%|██████████| 15/15 [00:00<00:00, 3738.46it/s]\n"
     ]
    },
    {
     "name": "stdout",
     "output_type": "stream",
     "text": [
      "--- 0.0070040225982666016 seconds for solution baseline ---\n",
      "initial solution\n"
     ]
    },
    {
     "name": "stderr",
     "output_type": "stream",
     "text": [
      "100%|██████████| 15/15 [00:00<00:00, 4984.52it/s]\n"
     ]
    },
    {
     "name": "stdout",
     "output_type": "stream",
     "text": [
      "--- 0.0061511993408203125 seconds for solution baseline ---\n",
      "initial solution\n"
     ]
    },
    {
     "name": "stderr",
     "output_type": "stream",
     "text": [
      "100%|██████████| 15/15 [00:00<00:00, 4984.52it/s]\n"
     ]
    },
    {
     "name": "stdout",
     "output_type": "stream",
     "text": [
      "--- 0.006514787673950195 seconds for solution baseline ---\n",
      "initial solution\n"
     ]
    },
    {
     "name": "stderr",
     "output_type": "stream",
     "text": [
      "100%|██████████| 15/15 [00:00<00:00, 4998.77it/s]\n"
     ]
    },
    {
     "name": "stdout",
     "output_type": "stream",
     "text": [
      "--- 0.006003618240356445 seconds for solution baseline ---\n",
      "initial solution\n"
     ]
    },
    {
     "name": "stderr",
     "output_type": "stream",
     "text": [
      "100%|██████████| 15/15 [00:00<00:00, 3983.19it/s]\n"
     ]
    },
    {
     "name": "stdout",
     "output_type": "stream",
     "text": [
      "--- 0.007763862609863281 seconds for solution baseline ---\n",
      "initial solution\n"
     ]
    },
    {
     "name": "stderr",
     "output_type": "stream",
     "text": [
      "100%|██████████| 15/15 [00:00<00:00, 5439.14it/s]\n"
     ]
    },
    {
     "name": "stdout",
     "output_type": "stream",
     "text": [
      "--- 0.008467435836791992 seconds for solution baseline ---\n",
      "initial solution\n"
     ]
    },
    {
     "name": "stderr",
     "output_type": "stream",
     "text": [
      "100%|██████████| 15/15 [00:00<00:00, 4862.02it/s]\n"
     ]
    },
    {
     "name": "stdout",
     "output_type": "stream",
     "text": [
      "--- 0.007831573486328125 seconds for solution baseline ---\n",
      "initial solution\n"
     ]
    },
    {
     "name": "stderr",
     "output_type": "stream",
     "text": [
      "100%|██████████| 16/16 [00:00<00:00, 5071.71it/s]\n"
     ]
    },
    {
     "name": "stdout",
     "output_type": "stream",
     "text": [
      "--- 0.006683349609375 seconds for solution baseline ---\n",
      "initial solution\n"
     ]
    },
    {
     "name": "stderr",
     "output_type": "stream",
     "text": [
      "100%|██████████| 16/16 [00:00<00:00, 3987.93it/s]\n"
     ]
    },
    {
     "name": "stdout",
     "output_type": "stream",
     "text": [
      "--- 0.008013486862182617 seconds for solution baseline ---\n",
      "initial solution\n"
     ]
    },
    {
     "name": "stderr",
     "output_type": "stream",
     "text": [
      "100%|██████████| 16/16 [00:00<00:00, 3980.36it/s]\n"
     ]
    },
    {
     "name": "stdout",
     "output_type": "stream",
     "text": [
      "--- 0.007174015045166016 seconds for solution baseline ---\n",
      "initial solution\n"
     ]
    },
    {
     "name": "stderr",
     "output_type": "stream",
     "text": [
      "100%|██████████| 16/16 [00:00<00:00, 3773.55it/s]"
     ]
    },
    {
     "name": "stdout",
     "output_type": "stream",
     "text": [
      "--- 0.0062410831451416016 seconds for solution baseline ---\n",
      "initial solution\n"
     ]
    },
    {
     "name": "stderr",
     "output_type": "stream",
     "text": [
      "\n",
      "100%|██████████| 16/16 [00:00<00:00, 5332.87it/s]\n"
     ]
    },
    {
     "name": "stdout",
     "output_type": "stream",
     "text": [
      "--- 0.008008956909179688 seconds for solution baseline ---\n",
      "initial solution\n"
     ]
    },
    {
     "name": "stderr",
     "output_type": "stream",
     "text": [
      "100%|██████████| 16/16 [00:00<00:00, 4311.25it/s]\n"
     ]
    },
    {
     "name": "stdout",
     "output_type": "stream",
     "text": [
      "--- 0.007716178894042969 seconds for solution baseline ---\n",
      "initial solution\n"
     ]
    },
    {
     "name": "stderr",
     "output_type": "stream",
     "text": [
      "100%|██████████| 16/16 [00:00<00:00, 5694.91it/s]\n"
     ]
    },
    {
     "name": "stdout",
     "output_type": "stream",
     "text": [
      "--- 0.0074841976165771484 seconds for solution baseline ---\n",
      "initial solution\n"
     ]
    },
    {
     "name": "stderr",
     "output_type": "stream",
     "text": [
      "100%|██████████| 16/16 [00:00<00:00, 3845.34it/s]\n"
     ]
    },
    {
     "name": "stdout",
     "output_type": "stream",
     "text": [
      "--- 0.007168292999267578 seconds for solution baseline ---\n",
      "initial solution\n"
     ]
    },
    {
     "name": "stderr",
     "output_type": "stream",
     "text": [
      "100%|██████████| 16/16 [00:00<00:00, 3769.10it/s]\n"
     ]
    },
    {
     "name": "stdout",
     "output_type": "stream",
     "text": [
      "--- 0.008246421813964844 seconds for solution baseline ---\n",
      "initial solution\n"
     ]
    },
    {
     "name": "stderr",
     "output_type": "stream",
     "text": [
      "100%|██████████| 16/16 [00:00<00:00, 4392.52it/s]\n"
     ]
    },
    {
     "name": "stdout",
     "output_type": "stream",
     "text": [
      "--- 0.12937378883361816 seconds for solution baseline ---\n",
      "initial solution\n"
     ]
    },
    {
     "name": "stderr",
     "output_type": "stream",
     "text": [
      "100%|██████████| 17/17 [00:00<00:00, 3266.59it/s]\n"
     ]
    },
    {
     "name": "stdout",
     "output_type": "stream",
     "text": [
      "--- 0.00871419906616211 seconds for solution baseline ---\n",
      "initial solution\n"
     ]
    },
    {
     "name": "stderr",
     "output_type": "stream",
     "text": [
      "100%|██████████| 17/17 [00:00<00:00, 3294.67it/s]\n"
     ]
    },
    {
     "name": "stdout",
     "output_type": "stream",
     "text": [
      "--- 0.007668256759643555 seconds for solution baseline ---\n",
      "initial solution\n"
     ]
    },
    {
     "name": "stderr",
     "output_type": "stream",
     "text": [
      "100%|██████████| 17/17 [00:00<00:00, 4250.81it/s]\n"
     ]
    },
    {
     "name": "stdout",
     "output_type": "stream",
     "text": [
      "--- 0.009429216384887695 seconds for solution baseline ---\n",
      "initial solution\n"
     ]
    },
    {
     "name": "stderr",
     "output_type": "stream",
     "text": [
      "100%|██████████| 17/17 [00:00<00:00, 3764.49it/s]\n"
     ]
    },
    {
     "name": "stdout",
     "output_type": "stream",
     "text": [
      "--- 0.008517265319824219 seconds for solution baseline ---\n",
      "initial solution\n"
     ]
    },
    {
     "name": "stderr",
     "output_type": "stream",
     "text": [
      "100%|██████████| 17/17 [00:00<00:00, 2160.11it/s]\n"
     ]
    },
    {
     "name": "stdout",
     "output_type": "stream",
     "text": [
      "--- 0.011879920959472656 seconds for solution baseline ---\n",
      "initial solution\n"
     ]
    },
    {
     "name": "stderr",
     "output_type": "stream",
     "text": [
      "100%|██████████| 17/17 [00:00<00:00, 3626.81it/s]\n"
     ]
    },
    {
     "name": "stdout",
     "output_type": "stream",
     "text": [
      "--- 0.010410547256469727 seconds for solution baseline ---\n",
      "initial solution\n"
     ]
    },
    {
     "name": "stderr",
     "output_type": "stream",
     "text": [
      "100%|██████████| 17/17 [00:00<00:00, 3739.22it/s]\n"
     ]
    },
    {
     "name": "stdout",
     "output_type": "stream",
     "text": [
      "--- 0.009852409362792969 seconds for solution baseline ---\n",
      "initial solution\n"
     ]
    },
    {
     "name": "stderr",
     "output_type": "stream",
     "text": [
      "100%|██████████| 17/17 [00:00<00:00, 4102.60it/s]\n"
     ]
    },
    {
     "name": "stdout",
     "output_type": "stream",
     "text": [
      "--- 0.008759498596191406 seconds for solution baseline ---\n",
      "initial solution\n"
     ]
    },
    {
     "name": "stderr",
     "output_type": "stream",
     "text": [
      "100%|██████████| 17/17 [00:00<00:00, 3498.86it/s]\n"
     ]
    },
    {
     "name": "stdout",
     "output_type": "stream",
     "text": [
      "--- 0.00885772705078125 seconds for solution baseline ---\n",
      "initial solution\n"
     ]
    },
    {
     "name": "stderr",
     "output_type": "stream",
     "text": [
      "100%|██████████| 17/17 [00:00<00:00, 4080.53it/s]\n"
     ]
    },
    {
     "name": "stdout",
     "output_type": "stream",
     "text": [
      "--- 0.007164955139160156 seconds for solution baseline ---\n",
      "initial solution\n"
     ]
    },
    {
     "name": "stderr",
     "output_type": "stream",
     "text": [
      "100%|██████████| 18/18 [00:00<00:00, 3502.39it/s]\n"
     ]
    },
    {
     "name": "stdout",
     "output_type": "stream",
     "text": [
      "--- 0.009142160415649414 seconds for solution baseline ---\n",
      "initial solution\n"
     ]
    },
    {
     "name": "stderr",
     "output_type": "stream",
     "text": [
      "100%|██████████| 18/18 [00:00<00:00, 3501.58it/s]\n"
     ]
    },
    {
     "name": "stdout",
     "output_type": "stream",
     "text": [
      "--- 0.011713266372680664 seconds for solution baseline ---\n",
      "initial solution\n"
     ]
    },
    {
     "name": "stderr",
     "output_type": "stream",
     "text": [
      "100%|██████████| 18/18 [00:00<00:00, 2916.99it/s]\n"
     ]
    },
    {
     "name": "stdout",
     "output_type": "stream",
     "text": [
      "--- 0.010180950164794922 seconds for solution baseline ---\n",
      "initial solution\n"
     ]
    },
    {
     "name": "stderr",
     "output_type": "stream",
     "text": [
      "100%|██████████| 18/18 [00:00<00:00, 3445.64it/s]"
     ]
    },
    {
     "name": "stdout",
     "output_type": "stream",
     "text": [
      "--- 0.011559247970581055 seconds for solution baseline ---\n",
      "initial solution\n"
     ]
    },
    {
     "name": "stderr",
     "output_type": "stream",
     "text": [
      "\n",
      "100%|██████████| 18/18 [00:00<00:00, 3989.09it/s]\n"
     ]
    },
    {
     "name": "stdout",
     "output_type": "stream",
     "text": [
      "--- 0.008786439895629883 seconds for solution baseline ---\n",
      "initial solution\n"
     ]
    },
    {
     "name": "stderr",
     "output_type": "stream",
     "text": [
      "100%|██████████| 18/18 [00:00<00:00, 3396.04it/s]\n"
     ]
    },
    {
     "name": "stdout",
     "output_type": "stream",
     "text": [
      "--- 0.00946497917175293 seconds for solution baseline ---\n",
      "initial solution\n"
     ]
    },
    {
     "name": "stderr",
     "output_type": "stream",
     "text": [
      "100%|██████████| 18/18 [00:00<00:00, 4503.82it/s]\n"
     ]
    },
    {
     "name": "stdout",
     "output_type": "stream",
     "text": [
      "--- 0.008020639419555664 seconds for solution baseline ---\n",
      "initial solution\n"
     ]
    },
    {
     "name": "stderr",
     "output_type": "stream",
     "text": [
      "100%|██████████| 18/18 [00:00<00:00, 3515.27it/s]\n"
     ]
    },
    {
     "name": "stdout",
     "output_type": "stream",
     "text": [
      "--- 0.010198593139648438 seconds for solution baseline ---\n",
      "initial solution\n"
     ]
    },
    {
     "name": "stderr",
     "output_type": "stream",
     "text": [
      "100%|██████████| 18/18 [00:00<00:00, 3509.23it/s]\n"
     ]
    },
    {
     "name": "stdout",
     "output_type": "stream",
     "text": [
      "--- 0.008138418197631836 seconds for solution baseline ---\n",
      "initial solution\n"
     ]
    },
    {
     "name": "stderr",
     "output_type": "stream",
     "text": [
      "100%|██████████| 18/18 [00:00<00:00, 3477.54it/s]\n"
     ]
    },
    {
     "name": "stdout",
     "output_type": "stream",
     "text": [
      "--- 0.009201288223266602 seconds for solution baseline ---\n",
      "initial solution\n"
     ]
    },
    {
     "name": "stderr",
     "output_type": "stream",
     "text": [
      "100%|██████████| 19/19 [00:00<00:00, 3267.66it/s]\n"
     ]
    },
    {
     "name": "stdout",
     "output_type": "stream",
     "text": [
      "--- 0.010171651840209961 seconds for solution baseline ---\n",
      "initial solution\n"
     ]
    },
    {
     "name": "stderr",
     "output_type": "stream",
     "text": [
      "100%|██████████| 19/19 [00:00<00:00, 2651.97it/s]\n"
     ]
    },
    {
     "name": "stdout",
     "output_type": "stream",
     "text": [
      "--- 0.011548519134521484 seconds for solution baseline ---\n",
      "initial solution\n"
     ]
    },
    {
     "name": "stderr",
     "output_type": "stream",
     "text": [
      "100%|██████████| 19/19 [00:00<00:00, 2252.13it/s]\n"
     ]
    },
    {
     "name": "stdout",
     "output_type": "stream",
     "text": [
      "--- 0.013434648513793945 seconds for solution baseline ---\n",
      "initial solution\n"
     ]
    },
    {
     "name": "stderr",
     "output_type": "stream",
     "text": [
      "100%|██████████| 19/19 [00:00<00:00, 2572.53it/s]\n"
     ]
    },
    {
     "name": "stdout",
     "output_type": "stream",
     "text": [
      "--- 0.011530399322509766 seconds for solution baseline ---\n",
      "initial solution\n"
     ]
    },
    {
     "name": "stderr",
     "output_type": "stream",
     "text": [
      "100%|██████████| 19/19 [00:00<00:00, 3094.23it/s]\n"
     ]
    },
    {
     "name": "stdout",
     "output_type": "stream",
     "text": [
      "--- 0.012206554412841797 seconds for solution baseline ---\n",
      "initial solution\n"
     ]
    },
    {
     "name": "stderr",
     "output_type": "stream",
     "text": [
      "100%|██████████| 19/19 [00:00<00:00, 2639.85it/s]\n"
     ]
    },
    {
     "name": "stdout",
     "output_type": "stream",
     "text": [
      "--- 0.014203071594238281 seconds for solution baseline ---\n",
      "initial solution\n"
     ]
    },
    {
     "name": "stderr",
     "output_type": "stream",
     "text": [
      "100%|██████████| 19/19 [00:00<00:00, 3159.11it/s]\n"
     ]
    },
    {
     "name": "stdout",
     "output_type": "stream",
     "text": [
      "--- 0.010181665420532227 seconds for solution baseline ---\n",
      "initial solution\n"
     ]
    },
    {
     "name": "stderr",
     "output_type": "stream",
     "text": [
      "100%|██████████| 19/19 [00:00<00:00, 3079.04it/s]\n"
     ]
    },
    {
     "name": "stdout",
     "output_type": "stream",
     "text": [
      "--- 0.011185407638549805 seconds for solution baseline ---\n",
      "initial solution\n"
     ]
    },
    {
     "name": "stderr",
     "output_type": "stream",
     "text": [
      "100%|██████████| 19/19 [00:00<00:00, 3103.62it/s]\n"
     ]
    },
    {
     "name": "stdout",
     "output_type": "stream",
     "text": [
      "--- 0.011021137237548828 seconds for solution baseline ---\n",
      "initial solution\n"
     ]
    },
    {
     "name": "stderr",
     "output_type": "stream",
     "text": [
      "100%|██████████| 19/19 [00:00<00:00, 3159.74it/s]\n"
     ]
    },
    {
     "name": "stdout",
     "output_type": "stream",
     "text": [
      "--- 0.010155916213989258 seconds for solution baseline ---\n",
      "initial solution\n"
     ]
    },
    {
     "name": "stderr",
     "output_type": "stream",
     "text": [
      "100%|██████████| 20/20 [00:00<00:00, 2800.31it/s]\n"
     ]
    },
    {
     "name": "stdout",
     "output_type": "stream",
     "text": [
      "--- 0.011142969131469727 seconds for solution baseline ---\n",
      "initial solution\n"
     ]
    },
    {
     "name": "stderr",
     "output_type": "stream",
     "text": [
      "100%|██████████| 20/20 [00:00<00:00, 2858.23it/s]\n"
     ]
    },
    {
     "name": "stdout",
     "output_type": "stream",
     "text": [
      "--- 0.010997295379638672 seconds for solution baseline ---\n",
      "initial solution\n"
     ]
    },
    {
     "name": "stderr",
     "output_type": "stream",
     "text": [
      "100%|██████████| 20/20 [00:00<00:00, 2429.86it/s]\n"
     ]
    },
    {
     "name": "stdout",
     "output_type": "stream",
     "text": [
      "--- 0.013307332992553711 seconds for solution baseline ---\n",
      "initial solution\n"
     ]
    },
    {
     "name": "stderr",
     "output_type": "stream",
     "text": [
      "100%|██████████| 20/20 [00:00<00:00, 2764.78it/s]\n"
     ]
    },
    {
     "name": "stdout",
     "output_type": "stream",
     "text": [
      "--- 0.010386943817138672 seconds for solution baseline ---\n",
      "initial solution\n"
     ]
    },
    {
     "name": "stderr",
     "output_type": "stream",
     "text": [
      "100%|██████████| 20/20 [00:00<00:00, 2805.65it/s]\n"
     ]
    },
    {
     "name": "stdout",
     "output_type": "stream",
     "text": [
      "--- 0.012136459350585938 seconds for solution baseline ---\n",
      "initial solution\n"
     ]
    },
    {
     "name": "stderr",
     "output_type": "stream",
     "text": [
      "100%|██████████| 20/20 [00:00<00:00, 1809.53it/s]\n"
     ]
    },
    {
     "name": "stdout",
     "output_type": "stream",
     "text": [
      "--- 0.016671419143676758 seconds for solution baseline ---\n",
      "initial solution\n"
     ]
    },
    {
     "name": "stderr",
     "output_type": "stream",
     "text": [
      "100%|██████████| 20/20 [00:00<00:00, 1542.28it/s]\n"
     ]
    },
    {
     "name": "stdout",
     "output_type": "stream",
     "text": [
      "--- 0.02366328239440918 seconds for solution baseline ---\n",
      "initial solution\n"
     ]
    },
    {
     "name": "stderr",
     "output_type": "stream",
     "text": [
      "100%|██████████| 20/20 [00:00<00:00, 2151.04it/s]\n"
     ]
    },
    {
     "name": "stdout",
     "output_type": "stream",
     "text": [
      "--- 0.013680696487426758 seconds for solution baseline ---\n",
      "initial solution\n"
     ]
    },
    {
     "name": "stderr",
     "output_type": "stream",
     "text": [
      "100%|██████████| 20/20 [00:00<00:00, 2479.71it/s]\n"
     ]
    },
    {
     "name": "stdout",
     "output_type": "stream",
     "text": [
      "--- 0.012577056884765625 seconds for solution baseline ---\n",
      "initial solution\n"
     ]
    },
    {
     "name": "stderr",
     "output_type": "stream",
     "text": [
      "100%|██████████| 20/20 [00:00<00:00, 2857.45it/s]\n"
     ]
    },
    {
     "name": "stdout",
     "output_type": "stream",
     "text": [
      "--- 0.011516571044921875 seconds for solution baseline ---\n",
      "initial solution\n"
     ]
    },
    {
     "name": "stderr",
     "output_type": "stream",
     "text": [
      "100%|██████████| 21/21 [00:00<00:00, 2463.51it/s]\n"
     ]
    },
    {
     "name": "stdout",
     "output_type": "stream",
     "text": [
      "--- 0.012961864471435547 seconds for solution baseline ---\n",
      "initial solution\n"
     ]
    },
    {
     "name": "stderr",
     "output_type": "stream",
     "text": [
      "100%|██████████| 21/21 [00:00<00:00, 2667.41it/s]\n"
     ]
    },
    {
     "name": "stdout",
     "output_type": "stream",
     "text": [
      "--- 0.0159912109375 seconds for solution baseline ---\n",
      "initial solution\n"
     ]
    },
    {
     "name": "stderr",
     "output_type": "stream",
     "text": [
      "100%|██████████| 21/21 [00:00<00:00, 2900.05it/s]\n"
     ]
    },
    {
     "name": "stdout",
     "output_type": "stream",
     "text": [
      "--- 0.013241052627563477 seconds for solution baseline ---\n",
      "initial solution\n"
     ]
    },
    {
     "name": "stderr",
     "output_type": "stream",
     "text": [
      "100%|██████████| 21/21 [00:00<00:00, 2470.63it/s]\n"
     ]
    },
    {
     "name": "stdout",
     "output_type": "stream",
     "text": [
      "--- 0.012022733688354492 seconds for solution baseline ---\n",
      "initial solution\n"
     ]
    },
    {
     "name": "stderr",
     "output_type": "stream",
     "text": [
      "100%|██████████| 21/21 [00:00<00:00, 2793.36it/s]\n"
     ]
    },
    {
     "name": "stdout",
     "output_type": "stream",
     "text": [
      "--- 0.012835264205932617 seconds for solution baseline ---\n",
      "initial solution\n"
     ]
    },
    {
     "name": "stderr",
     "output_type": "stream",
     "text": [
      "100%|██████████| 21/21 [00:00<00:00, 2920.73it/s]\n"
     ]
    },
    {
     "name": "stdout",
     "output_type": "stream",
     "text": [
      "--- 0.012699365615844727 seconds for solution baseline ---\n",
      "initial solution\n"
     ]
    },
    {
     "name": "stderr",
     "output_type": "stream",
     "text": [
      "100%|██████████| 21/21 [00:00<00:00, 2703.10it/s]\n"
     ]
    },
    {
     "name": "stdout",
     "output_type": "stream",
     "text": [
      "--- 0.013353586196899414 seconds for solution baseline ---\n",
      "initial solution\n"
     ]
    },
    {
     "name": "stderr",
     "output_type": "stream",
     "text": [
      "100%|██████████| 21/21 [00:00<00:00, 2744.62it/s]\n"
     ]
    },
    {
     "name": "stdout",
     "output_type": "stream",
     "text": [
      "--- 0.012742280960083008 seconds for solution baseline ---\n",
      "initial solution\n"
     ]
    },
    {
     "name": "stderr",
     "output_type": "stream",
     "text": [
      "100%|██████████| 21/21 [00:00<00:00, 2895.86it/s]\n"
     ]
    },
    {
     "name": "stdout",
     "output_type": "stream",
     "text": [
      "--- 0.012775659561157227 seconds for solution baseline ---\n",
      "initial solution\n"
     ]
    },
    {
     "name": "stderr",
     "output_type": "stream",
     "text": [
      "100%|██████████| 21/21 [00:00<00:00, 2503.28it/s]\n"
     ]
    },
    {
     "name": "stdout",
     "output_type": "stream",
     "text": [
      "--- 0.013557195663452148 seconds for solution baseline ---\n",
      "initial solution\n"
     ]
    },
    {
     "name": "stderr",
     "output_type": "stream",
     "text": [
      "100%|██████████| 22/22 [00:00<00:00, 2083.80it/s]\n"
     ]
    },
    {
     "name": "stdout",
     "output_type": "stream",
     "text": [
      "--- 0.015407085418701172 seconds for solution baseline ---\n",
      "initial solution\n"
     ]
    },
    {
     "name": "stderr",
     "output_type": "stream",
     "text": [
      "100%|██████████| 22/22 [00:00<00:00, 1747.73it/s]\n"
     ]
    },
    {
     "name": "stdout",
     "output_type": "stream",
     "text": [
      "--- 0.01680731773376465 seconds for solution baseline ---\n",
      "initial solution\n"
     ]
    },
    {
     "name": "stderr",
     "output_type": "stream",
     "text": [
      "100%|██████████| 22/22 [00:00<00:00, 2691.17it/s]\n"
     ]
    },
    {
     "name": "stdout",
     "output_type": "stream",
     "text": [
      "--- 0.01347970962524414 seconds for solution baseline ---\n",
      "initial solution\n"
     ]
    },
    {
     "name": "stderr",
     "output_type": "stream",
     "text": [
      "100%|██████████| 22/22 [00:00<00:00, 1751.71it/s]"
     ]
    },
    {
     "name": "stdout",
     "output_type": "stream",
     "text": [
      "--- 0.02030777931213379 seconds for solution baseline ---\n",
      "initial solution\n"
     ]
    },
    {
     "name": "stderr",
     "output_type": "stream",
     "text": [
      "\n",
      "100%|██████████| 22/22 [00:00<00:00, 2404.99it/s]\n"
     ]
    },
    {
     "name": "stdout",
     "output_type": "stream",
     "text": [
      "--- 0.014170408248901367 seconds for solution baseline ---\n",
      "initial solution\n"
     ]
    },
    {
     "name": "stderr",
     "output_type": "stream",
     "text": [
      "100%|██████████| 22/22 [00:00<00:00, 2417.09it/s]\n"
     ]
    },
    {
     "name": "stdout",
     "output_type": "stream",
     "text": [
      "--- 0.01725006103515625 seconds for solution baseline ---\n",
      "initial solution\n"
     ]
    },
    {
     "name": "stderr",
     "output_type": "stream",
     "text": [
      "100%|██████████| 22/22 [00:00<00:00, 1983.04it/s]\n"
     ]
    },
    {
     "name": "stdout",
     "output_type": "stream",
     "text": [
      "--- 0.015851974487304688 seconds for solution baseline ---\n",
      "initial solution\n"
     ]
    },
    {
     "name": "stderr",
     "output_type": "stream",
     "text": [
      "100%|██████████| 22/22 [00:00<00:00, 2441.78it/s]\n"
     ]
    },
    {
     "name": "stdout",
     "output_type": "stream",
     "text": [
      "--- 0.015000104904174805 seconds for solution baseline ---\n",
      "initial solution\n"
     ]
    },
    {
     "name": "stderr",
     "output_type": "stream",
     "text": [
      "100%|██████████| 22/22 [00:00<00:00, 2242.51it/s]\n"
     ]
    },
    {
     "name": "stdout",
     "output_type": "stream",
     "text": [
      "--- 0.014506101608276367 seconds for solution baseline ---\n",
      "initial solution\n"
     ]
    },
    {
     "name": "stderr",
     "output_type": "stream",
     "text": [
      "100%|██████████| 22/22 [00:00<00:00, 2264.41it/s]\n"
     ]
    },
    {
     "name": "stdout",
     "output_type": "stream",
     "text": [
      "--- 0.014329910278320312 seconds for solution baseline ---\n",
      "initial solution\n"
     ]
    },
    {
     "name": "stderr",
     "output_type": "stream",
     "text": [
      "100%|██████████| 23/23 [00:00<00:00, 1951.87it/s]\n"
     ]
    },
    {
     "name": "stdout",
     "output_type": "stream",
     "text": [
      "--- 0.01496267318725586 seconds for solution baseline ---\n",
      "initial solution\n"
     ]
    },
    {
     "name": "stderr",
     "output_type": "stream",
     "text": [
      "100%|██████████| 23/23 [00:00<00:00, 2370.59it/s]\n"
     ]
    },
    {
     "name": "stdout",
     "output_type": "stream",
     "text": [
      "--- 0.015593528747558594 seconds for solution baseline ---\n",
      "initial solution\n"
     ]
    },
    {
     "name": "stderr",
     "output_type": "stream",
     "text": [
      "100%|██████████| 23/23 [00:00<00:00, 2267.72it/s]\n"
     ]
    },
    {
     "name": "stdout",
     "output_type": "stream",
     "text": [
      "--- 0.015324831008911133 seconds for solution baseline ---\n",
      "initial solution\n"
     ]
    },
    {
     "name": "stderr",
     "output_type": "stream",
     "text": [
      "100%|██████████| 23/23 [00:00<00:00, 1860.50it/s]\n"
     ]
    },
    {
     "name": "stdout",
     "output_type": "stream",
     "text": [
      "--- 0.01753544807434082 seconds for solution baseline ---\n",
      "initial solution\n"
     ]
    },
    {
     "name": "stderr",
     "output_type": "stream",
     "text": [
      "100%|██████████| 23/23 [00:00<00:00, 2041.07it/s]\n"
     ]
    },
    {
     "name": "stdout",
     "output_type": "stream",
     "text": [
      "--- 0.016327381134033203 seconds for solution baseline ---\n",
      "initial solution\n"
     ]
    },
    {
     "name": "stderr",
     "output_type": "stream",
     "text": [
      "100%|██████████| 23/23 [00:00<00:00, 2087.08it/s]\n"
     ]
    },
    {
     "name": "stdout",
     "output_type": "stream",
     "text": [
      "--- 0.016321182250976562 seconds for solution baseline ---\n",
      "initial solution\n"
     ]
    },
    {
     "name": "stderr",
     "output_type": "stream",
     "text": [
      "100%|██████████| 23/23 [00:00<00:00, 2147.81it/s]"
     ]
    },
    {
     "name": "stdout",
     "output_type": "stream",
     "text": [
      "--- 0.01633310317993164 seconds for solution baseline ---\n",
      "initial solution\n"
     ]
    },
    {
     "name": "stderr",
     "output_type": "stream",
     "text": [
      "\n",
      "100%|██████████| 23/23 [00:00<00:00, 1849.16it/s]\n"
     ]
    },
    {
     "name": "stdout",
     "output_type": "stream",
     "text": [
      "--- 0.017455101013183594 seconds for solution baseline ---\n",
      "initial solution\n"
     ]
    },
    {
     "name": "stderr",
     "output_type": "stream",
     "text": [
      "100%|██████████| 23/23 [00:00<00:00, 1859.82it/s]\n"
     ]
    },
    {
     "name": "stdout",
     "output_type": "stream",
     "text": [
      "--- 0.017946958541870117 seconds for solution baseline ---\n",
      "initial solution\n"
     ]
    },
    {
     "name": "stderr",
     "output_type": "stream",
     "text": [
      "100%|██████████| 23/23 [00:00<00:00, 2149.39it/s]\n"
     ]
    },
    {
     "name": "stdout",
     "output_type": "stream",
     "text": [
      "--- 0.017747163772583008 seconds for solution baseline ---\n",
      "initial solution\n"
     ]
    },
    {
     "name": "stderr",
     "output_type": "stream",
     "text": [
      "100%|██████████| 24/24 [00:00<00:00, 2141.36it/s]\n"
     ]
    },
    {
     "name": "stdout",
     "output_type": "stream",
     "text": [
      "--- 0.01661086082458496 seconds for solution baseline ---\n",
      "initial solution\n"
     ]
    },
    {
     "name": "stderr",
     "output_type": "stream",
     "text": [
      "100%|██████████| 24/24 [00:00<00:00, 1971.01it/s]\n"
     ]
    },
    {
     "name": "stdout",
     "output_type": "stream",
     "text": [
      "--- 0.021372556686401367 seconds for solution baseline ---\n",
      "initial solution\n"
     ]
    },
    {
     "name": "stderr",
     "output_type": "stream",
     "text": [
      "100%|██████████| 24/24 [00:00<00:00, 2050.84it/s]\n"
     ]
    },
    {
     "name": "stdout",
     "output_type": "stream",
     "text": [
      "--- 0.017263412475585938 seconds for solution baseline ---\n",
      "initial solution\n"
     ]
    },
    {
     "name": "stderr",
     "output_type": "stream",
     "text": [
      "100%|██████████| 24/24 [00:00<00:00, 2021.88it/s]\n"
     ]
    },
    {
     "name": "stdout",
     "output_type": "stream",
     "text": [
      "--- 0.017195940017700195 seconds for solution baseline ---\n",
      "initial solution\n"
     ]
    },
    {
     "name": "stderr",
     "output_type": "stream",
     "text": [
      "100%|██████████| 24/24 [00:00<00:00, 1744.63it/s]\n"
     ]
    },
    {
     "name": "stdout",
     "output_type": "stream",
     "text": [
      "--- 0.020545482635498047 seconds for solution baseline ---\n",
      "initial solution\n"
     ]
    },
    {
     "name": "stderr",
     "output_type": "stream",
     "text": [
      "100%|██████████| 24/24 [00:00<00:00, 2096.37it/s]\n"
     ]
    },
    {
     "name": "stdout",
     "output_type": "stream",
     "text": [
      "--- 0.016460418701171875 seconds for solution baseline ---\n",
      "initial solution\n"
     ]
    },
    {
     "name": "stderr",
     "output_type": "stream",
     "text": [
      "100%|██████████| 24/24 [00:00<00:00, 1696.01it/s]\n"
     ]
    },
    {
     "name": "stdout",
     "output_type": "stream",
     "text": [
      "--- 0.01820850372314453 seconds for solution baseline ---\n",
      "initial solution\n"
     ]
    },
    {
     "name": "stderr",
     "output_type": "stream",
     "text": [
      "100%|██████████| 24/24 [00:00<00:00, 1807.37it/s]\n"
     ]
    },
    {
     "name": "stdout",
     "output_type": "stream",
     "text": [
      "--- 0.018656253814697266 seconds for solution baseline ---\n",
      "initial solution\n"
     ]
    },
    {
     "name": "stderr",
     "output_type": "stream",
     "text": [
      "100%|██████████| 24/24 [00:00<00:00, 1620.96it/s]"
     ]
    },
    {
     "name": "stdout",
     "output_type": "stream",
     "text": [
      "--- 0.019899606704711914 seconds for solution baseline ---\n",
      "initial solution\n"
     ]
    },
    {
     "name": "stderr",
     "output_type": "stream",
     "text": [
      "\n",
      "100%|██████████| 24/24 [00:00<00:00, 2230.17it/s]\n"
     ]
    },
    {
     "name": "stdout",
     "output_type": "stream",
     "text": [
      "--- 0.021091938018798828 seconds for solution baseline ---\n",
      "initial solution\n"
     ]
    },
    {
     "name": "stderr",
     "output_type": "stream",
     "text": [
      "100%|██████████| 25/25 [00:00<00:00, 1685.38it/s]\n"
     ]
    },
    {
     "name": "stdout",
     "output_type": "stream",
     "text": [
      "--- 0.018599748611450195 seconds for solution baseline ---\n",
      "initial solution\n"
     ]
    },
    {
     "name": "stderr",
     "output_type": "stream",
     "text": [
      "100%|██████████| 25/25 [00:00<00:00, 1859.87it/s]\n"
     ]
    },
    {
     "name": "stdout",
     "output_type": "stream",
     "text": [
      "--- 0.01894235610961914 seconds for solution baseline ---\n",
      "initial solution\n"
     ]
    },
    {
     "name": "stderr",
     "output_type": "stream",
     "text": [
      "100%|██████████| 25/25 [00:00<00:00, 1803.54it/s]\n"
     ]
    },
    {
     "name": "stdout",
     "output_type": "stream",
     "text": [
      "--- 0.01786208152770996 seconds for solution baseline ---\n",
      "initial solution\n"
     ]
    },
    {
     "name": "stderr",
     "output_type": "stream",
     "text": [
      "100%|██████████| 25/25 [00:00<00:00, 1872.79it/s]\n"
     ]
    },
    {
     "name": "stdout",
     "output_type": "stream",
     "text": [
      "--- 0.018806934356689453 seconds for solution baseline ---\n",
      "initial solution\n"
     ]
    },
    {
     "name": "stderr",
     "output_type": "stream",
     "text": [
      "100%|██████████| 25/25 [00:00<00:00, 1963.88it/s]\n"
     ]
    },
    {
     "name": "stdout",
     "output_type": "stream",
     "text": [
      "--- 0.0172426700592041 seconds for solution baseline ---\n",
      "initial solution\n"
     ]
    },
    {
     "name": "stderr",
     "output_type": "stream",
     "text": [
      "100%|██████████| 25/25 [00:00<00:00, 1750.49it/s]\n"
     ]
    },
    {
     "name": "stdout",
     "output_type": "stream",
     "text": [
      "--- 0.021555185317993164 seconds for solution baseline ---\n",
      "initial solution\n"
     ]
    },
    {
     "name": "stderr",
     "output_type": "stream",
     "text": [
      "100%|██████████| 25/25 [00:00<00:00, 1842.45it/s]\n"
     ]
    },
    {
     "name": "stdout",
     "output_type": "stream",
     "text": [
      "--- 0.018395423889160156 seconds for solution baseline ---\n",
      "initial solution\n"
     ]
    },
    {
     "name": "stderr",
     "output_type": "stream",
     "text": [
      "100%|██████████| 25/25 [00:00<00:00, 1188.86it/s]\n"
     ]
    },
    {
     "name": "stdout",
     "output_type": "stream",
     "text": [
      "--- 0.02603888511657715 seconds for solution baseline ---\n",
      "initial solution\n"
     ]
    },
    {
     "name": "stderr",
     "output_type": "stream",
     "text": [
      "100%|██████████| 25/25 [00:00<00:00, 1304.96it/s]\n"
     ]
    },
    {
     "name": "stdout",
     "output_type": "stream",
     "text": [
      "--- 0.02539992332458496 seconds for solution baseline ---\n",
      "initial solution\n"
     ]
    },
    {
     "name": "stderr",
     "output_type": "stream",
     "text": [
      "100%|██████████| 25/25 [00:00<00:00, 1895.82it/s]\n"
     ]
    },
    {
     "name": "stdout",
     "output_type": "stream",
     "text": [
      "--- 0.018196821212768555 seconds for solution baseline ---\n",
      "initial solution\n"
     ]
    },
    {
     "name": "stderr",
     "output_type": "stream",
     "text": [
      "100%|██████████| 26/26 [00:00<00:00, 1681.55it/s]\n"
     ]
    },
    {
     "name": "stdout",
     "output_type": "stream",
     "text": [
      "--- 0.021573305130004883 seconds for solution baseline ---\n",
      "initial solution\n"
     ]
    },
    {
     "name": "stderr",
     "output_type": "stream",
     "text": [
      "100%|██████████| 26/26 [00:00<00:00, 1414.79it/s]\n"
     ]
    },
    {
     "name": "stdout",
     "output_type": "stream",
     "text": [
      "--- 0.02565455436706543 seconds for solution baseline ---\n",
      "initial solution\n"
     ]
    },
    {
     "name": "stderr",
     "output_type": "stream",
     "text": [
      "100%|██████████| 26/26 [00:00<00:00, 1657.55it/s]\n"
     ]
    },
    {
     "name": "stdout",
     "output_type": "stream",
     "text": [
      "--- 0.023006677627563477 seconds for solution baseline ---\n",
      "initial solution\n"
     ]
    },
    {
     "name": "stderr",
     "output_type": "stream",
     "text": [
      "100%|██████████| 26/26 [00:00<00:00, 1487.04it/s]\n"
     ]
    },
    {
     "name": "stdout",
     "output_type": "stream",
     "text": [
      "--- 0.022953033447265625 seconds for solution baseline ---\n",
      "initial solution\n"
     ]
    },
    {
     "name": "stderr",
     "output_type": "stream",
     "text": [
      "100%|██████████| 26/26 [00:00<00:00, 1743.49it/s]\n"
     ]
    },
    {
     "name": "stdout",
     "output_type": "stream",
     "text": [
      "--- 0.02085399627685547 seconds for solution baseline ---\n",
      "initial solution\n"
     ]
    },
    {
     "name": "stderr",
     "output_type": "stream",
     "text": [
      "100%|██████████| 26/26 [00:00<00:00, 1845.27it/s]\n"
     ]
    },
    {
     "name": "stdout",
     "output_type": "stream",
     "text": [
      "--- 0.020989656448364258 seconds for solution baseline ---\n",
      "initial solution\n"
     ]
    },
    {
     "name": "stderr",
     "output_type": "stream",
     "text": [
      "100%|██████████| 26/26 [00:00<00:00, 1651.73it/s]\n"
     ]
    },
    {
     "name": "stdout",
     "output_type": "stream",
     "text": [
      "--- 0.020623207092285156 seconds for solution baseline ---\n",
      "initial solution\n"
     ]
    },
    {
     "name": "stderr",
     "output_type": "stream",
     "text": [
      "100%|██████████| 26/26 [00:00<00:00, 1634.52it/s]\n"
     ]
    },
    {
     "name": "stdout",
     "output_type": "stream",
     "text": [
      "--- 0.020411252975463867 seconds for solution baseline ---\n",
      "initial solution\n"
     ]
    },
    {
     "name": "stderr",
     "output_type": "stream",
     "text": [
      "100%|██████████| 26/26 [00:00<00:00, 1504.60it/s]\n"
     ]
    },
    {
     "name": "stdout",
     "output_type": "stream",
     "text": [
      "--- 0.027282238006591797 seconds for solution baseline ---\n",
      "initial solution\n"
     ]
    },
    {
     "name": "stderr",
     "output_type": "stream",
     "text": [
      "100%|██████████| 26/26 [00:00<00:00, 1327.47it/s]\n"
     ]
    },
    {
     "name": "stdout",
     "output_type": "stream",
     "text": [
      "--- 0.02527642250061035 seconds for solution baseline ---\n",
      "initial solution\n"
     ]
    },
    {
     "name": "stderr",
     "output_type": "stream",
     "text": [
      "100%|██████████| 27/27 [00:00<00:00, 1475.25it/s]\n"
     ]
    },
    {
     "name": "stdout",
     "output_type": "stream",
     "text": [
      "--- 0.025742053985595703 seconds for solution baseline ---\n",
      "initial solution\n"
     ]
    },
    {
     "name": "stderr",
     "output_type": "stream",
     "text": [
      "100%|██████████| 27/27 [00:00<00:00, 1285.41it/s]\n"
     ]
    },
    {
     "name": "stdout",
     "output_type": "stream",
     "text": [
      "--- 0.026597976684570312 seconds for solution baseline ---\n",
      "initial solution\n"
     ]
    },
    {
     "name": "stderr",
     "output_type": "stream",
     "text": [
      "100%|██████████| 27/27 [00:00<00:00, 1707.19it/s]\n"
     ]
    },
    {
     "name": "stdout",
     "output_type": "stream",
     "text": [
      "--- 0.022059202194213867 seconds for solution baseline ---\n",
      "initial solution\n"
     ]
    },
    {
     "name": "stderr",
     "output_type": "stream",
     "text": [
      "100%|██████████| 27/27 [00:00<00:00, 1359.40it/s]\n"
     ]
    },
    {
     "name": "stdout",
     "output_type": "stream",
     "text": [
      "--- 0.025131940841674805 seconds for solution baseline ---\n",
      "initial solution\n"
     ]
    },
    {
     "name": "stderr",
     "output_type": "stream",
     "text": [
      "100%|██████████| 27/27 [00:00<00:00, 1484.34it/s]\n"
     ]
    },
    {
     "name": "stdout",
     "output_type": "stream",
     "text": [
      "--- 0.02623271942138672 seconds for solution baseline ---\n",
      "initial solution\n"
     ]
    },
    {
     "name": "stderr",
     "output_type": "stream",
     "text": [
      "100%|██████████| 27/27 [00:00<00:00, 1434.44it/s]\n"
     ]
    },
    {
     "name": "stdout",
     "output_type": "stream",
     "text": [
      "--- 0.024328231811523438 seconds for solution baseline ---\n",
      "initial solution\n"
     ]
    },
    {
     "name": "stderr",
     "output_type": "stream",
     "text": [
      "100%|██████████| 27/27 [00:00<00:00, 1371.42it/s]\n"
     ]
    },
    {
     "name": "stdout",
     "output_type": "stream",
     "text": [
      "--- 0.02569413185119629 seconds for solution baseline ---\n",
      "initial solution\n"
     ]
    },
    {
     "name": "stderr",
     "output_type": "stream",
     "text": [
      "100%|██████████| 27/27 [00:00<00:00, 1502.88it/s]\n"
     ]
    },
    {
     "name": "stdout",
     "output_type": "stream",
     "text": [
      "--- 0.02338433265686035 seconds for solution baseline ---\n",
      "initial solution\n"
     ]
    },
    {
     "name": "stderr",
     "output_type": "stream",
     "text": [
      "100%|██████████| 27/27 [00:00<00:00, 1509.61it/s]\n"
     ]
    },
    {
     "name": "stdout",
     "output_type": "stream",
     "text": [
      "--- 0.023331403732299805 seconds for solution baseline ---\n",
      "initial solution\n"
     ]
    },
    {
     "name": "stderr",
     "output_type": "stream",
     "text": [
      "100%|██████████| 27/27 [00:00<00:00, 1456.62it/s]\n"
     ]
    },
    {
     "name": "stdout",
     "output_type": "stream",
     "text": [
      "--- 0.024953842163085938 seconds for solution baseline ---\n",
      "initial solution\n"
     ]
    },
    {
     "name": "stderr",
     "output_type": "stream",
     "text": [
      "100%|██████████| 28/28 [00:00<00:00, 1345.33it/s]\n"
     ]
    },
    {
     "name": "stdout",
     "output_type": "stream",
     "text": [
      "--- 0.02765369415283203 seconds for solution baseline ---\n",
      "initial solution\n"
     ]
    },
    {
     "name": "stderr",
     "output_type": "stream",
     "text": [
      "100%|██████████| 28/28 [00:00<00:00, 1285.39it/s]\n"
     ]
    },
    {
     "name": "stdout",
     "output_type": "stream",
     "text": [
      "--- 0.025795698165893555 seconds for solution baseline ---\n",
      "initial solution\n"
     ]
    },
    {
     "name": "stderr",
     "output_type": "stream",
     "text": [
      "100%|██████████| 28/28 [00:00<00:00, 1344.27it/s]\n"
     ]
    },
    {
     "name": "stdout",
     "output_type": "stream",
     "text": [
      "--- 0.028789758682250977 seconds for solution baseline ---\n",
      "initial solution\n"
     ]
    },
    {
     "name": "stderr",
     "output_type": "stream",
     "text": [
      "100%|██████████| 28/28 [00:00<00:00, 1366.38it/s]\n"
     ]
    },
    {
     "name": "stdout",
     "output_type": "stream",
     "text": [
      "--- 0.026494264602661133 seconds for solution baseline ---\n",
      "initial solution\n"
     ]
    },
    {
     "name": "stderr",
     "output_type": "stream",
     "text": [
      "100%|██████████| 28/28 [00:00<00:00, 1214.67it/s]"
     ]
    },
    {
     "name": "stdout",
     "output_type": "stream",
     "text": [
      "--- 0.02912163734436035 seconds for solution baseline ---\n"
     ]
    },
    {
     "name": "stderr",
     "output_type": "stream",
     "text": [
      "\n"
     ]
    },
    {
     "name": "stdout",
     "output_type": "stream",
     "text": [
      "initial solution\n"
     ]
    },
    {
     "name": "stderr",
     "output_type": "stream",
     "text": [
      "100%|██████████| 28/28 [00:00<00:00, 1248.77it/s]\n"
     ]
    },
    {
     "name": "stdout",
     "output_type": "stream",
     "text": [
      "--- 0.030753135681152344 seconds for solution baseline ---\n",
      "initial solution\n"
     ]
    },
    {
     "name": "stderr",
     "output_type": "stream",
     "text": [
      "100%|██████████| 28/28 [00:00<00:00, 1372.43it/s]\n"
     ]
    },
    {
     "name": "stdout",
     "output_type": "stream",
     "text": [
      "--- 0.02677607536315918 seconds for solution baseline ---\n",
      "initial solution\n"
     ]
    },
    {
     "name": "stderr",
     "output_type": "stream",
     "text": [
      "100%|██████████| 28/28 [00:00<00:00, 1367.93it/s]\n"
     ]
    },
    {
     "name": "stdout",
     "output_type": "stream",
     "text": [
      "--- 0.027626752853393555 seconds for solution baseline ---\n",
      "initial solution\n"
     ]
    },
    {
     "name": "stderr",
     "output_type": "stream",
     "text": [
      "100%|██████████| 28/28 [00:00<00:00, 984.33it/s]\n"
     ]
    },
    {
     "name": "stdout",
     "output_type": "stream",
     "text": [
      "--- 0.034583330154418945 seconds for solution baseline ---\n",
      "initial solution\n"
     ]
    },
    {
     "name": "stderr",
     "output_type": "stream",
     "text": [
      "100%|██████████| 28/28 [00:00<00:00, 942.43it/s]\n"
     ]
    },
    {
     "name": "stdout",
     "output_type": "stream",
     "text": [
      "--- 0.03571009635925293 seconds for solution baseline ---\n",
      "initial solution\n"
     ]
    },
    {
     "name": "stderr",
     "output_type": "stream",
     "text": [
      "100%|██████████| 29/29 [00:00<00:00, 712.03it/s]"
     ]
    },
    {
     "name": "stdout",
     "output_type": "stream",
     "text": [
      "--- 0.05032157897949219 seconds for solution baseline ---\n"
     ]
    },
    {
     "name": "stderr",
     "output_type": "stream",
     "text": [
      "\n"
     ]
    },
    {
     "name": "stdout",
     "output_type": "stream",
     "text": [
      "initial solution\n"
     ]
    },
    {
     "name": "stderr",
     "output_type": "stream",
     "text": [
      "100%|██████████| 29/29 [00:00<00:00, 1178.04it/s]\n"
     ]
    },
    {
     "name": "stdout",
     "output_type": "stream",
     "text": [
      "--- 0.03483223915100098 seconds for solution baseline ---\n",
      "initial solution\n"
     ]
    },
    {
     "name": "stderr",
     "output_type": "stream",
     "text": [
      "100%|██████████| 29/29 [00:00<00:00, 1218.15it/s]\n"
     ]
    },
    {
     "name": "stdout",
     "output_type": "stream",
     "text": [
      "--- 0.030983924865722656 seconds for solution baseline ---\n",
      "initial solution\n"
     ]
    },
    {
     "name": "stderr",
     "output_type": "stream",
     "text": [
      "100%|██████████| 29/29 [00:00<00:00, 1104.06it/s]\n"
     ]
    },
    {
     "name": "stdout",
     "output_type": "stream",
     "text": [
      "--- 0.03758859634399414 seconds for solution baseline ---\n",
      "initial solution\n"
     ]
    },
    {
     "name": "stderr",
     "output_type": "stream",
     "text": [
      "100%|██████████| 29/29 [00:00<00:00, 1286.75it/s]\n"
     ]
    },
    {
     "name": "stdout",
     "output_type": "stream",
     "text": [
      "--- 0.028543710708618164 seconds for solution baseline ---\n",
      "initial solution\n"
     ]
    },
    {
     "name": "stderr",
     "output_type": "stream",
     "text": [
      "100%|██████████| 29/29 [00:00<00:00, 1015.63it/s]\n"
     ]
    },
    {
     "name": "stdout",
     "output_type": "stream",
     "text": [
      "--- 0.03456306457519531 seconds for solution baseline ---\n",
      "initial solution\n"
     ]
    },
    {
     "name": "stderr",
     "output_type": "stream",
     "text": [
      "100%|██████████| 29/29 [00:00<00:00, 1421.45it/s]\n"
     ]
    },
    {
     "name": "stdout",
     "output_type": "stream",
     "text": [
      "--- 0.02856731414794922 seconds for solution baseline ---\n",
      "initial solution\n"
     ]
    },
    {
     "name": "stderr",
     "output_type": "stream",
     "text": [
      "100%|██████████| 29/29 [00:00<00:00, 1304.13it/s]\n"
     ]
    },
    {
     "name": "stdout",
     "output_type": "stream",
     "text": [
      "--- 0.02922677993774414 seconds for solution baseline ---\n",
      "initial solution\n"
     ]
    },
    {
     "name": "stderr",
     "output_type": "stream",
     "text": [
      "100%|██████████| 29/29 [00:00<00:00, 1253.92it/s]\n"
     ]
    },
    {
     "name": "stdout",
     "output_type": "stream",
     "text": [
      "--- 0.029616117477416992 seconds for solution baseline ---\n",
      "initial solution\n"
     ]
    },
    {
     "name": "stderr",
     "output_type": "stream",
     "text": [
      "100%|██████████| 29/29 [00:00<00:00, 1310.75it/s]\n"
     ]
    },
    {
     "name": "stdout",
     "output_type": "stream",
     "text": [
      "--- 0.030215740203857422 seconds for solution baseline ---\n",
      "initial solution\n"
     ]
    },
    {
     "name": "stderr",
     "output_type": "stream",
     "text": [
      "100%|██████████| 30/30 [00:00<00:00, 1217.34it/s]\n"
     ]
    },
    {
     "name": "stdout",
     "output_type": "stream",
     "text": [
      "--- 0.03078460693359375 seconds for solution baseline ---\n",
      "initial solution\n"
     ]
    },
    {
     "name": "stderr",
     "output_type": "stream",
     "text": [
      "100%|██████████| 30/30 [00:00<00:00, 1159.75it/s]\n"
     ]
    },
    {
     "name": "stdout",
     "output_type": "stream",
     "text": [
      "--- 0.03287672996520996 seconds for solution baseline ---\n",
      "initial solution\n"
     ]
    },
    {
     "name": "stderr",
     "output_type": "stream",
     "text": [
      "100%|██████████| 30/30 [00:00<00:00, 1062.80it/s]\n"
     ]
    },
    {
     "name": "stdout",
     "output_type": "stream",
     "text": [
      "--- 0.03444695472717285 seconds for solution baseline ---\n",
      "initial solution\n"
     ]
    },
    {
     "name": "stderr",
     "output_type": "stream",
     "text": [
      "100%|██████████| 30/30 [00:00<00:00, 1064.70it/s]"
     ]
    },
    {
     "name": "stdout",
     "output_type": "stream",
     "text": [
      "--- 0.036910057067871094 seconds for solution baseline ---\n",
      "initial solution\n"
     ]
    },
    {
     "name": "stderr",
     "output_type": "stream",
     "text": [
      "\n",
      "100%|██████████| 30/30 [00:00<00:00, 1228.14it/s]\n"
     ]
    },
    {
     "name": "stdout",
     "output_type": "stream",
     "text": [
      "--- 0.03173470497131348 seconds for solution baseline ---\n",
      "initial solution\n"
     ]
    },
    {
     "name": "stderr",
     "output_type": "stream",
     "text": [
      "100%|██████████| 30/30 [00:00<00:00, 1200.61it/s]\n"
     ]
    },
    {
     "name": "stdout",
     "output_type": "stream",
     "text": [
      "--- 0.033295392990112305 seconds for solution baseline ---\n",
      "initial solution\n"
     ]
    },
    {
     "name": "stderr",
     "output_type": "stream",
     "text": [
      "100%|██████████| 30/30 [00:00<00:00, 1038.85it/s]\n"
     ]
    },
    {
     "name": "stdout",
     "output_type": "stream",
     "text": [
      "--- 0.03441500663757324 seconds for solution baseline ---\n",
      "initial solution\n"
     ]
    },
    {
     "name": "stderr",
     "output_type": "stream",
     "text": [
      "100%|██████████| 30/30 [00:00<00:00, 1181.43it/s]\n"
     ]
    },
    {
     "name": "stdout",
     "output_type": "stream",
     "text": [
      "--- 0.03204536437988281 seconds for solution baseline ---\n",
      "initial solution\n"
     ]
    },
    {
     "name": "stderr",
     "output_type": "stream",
     "text": [
      "100%|██████████| 30/30 [00:00<00:00, 1222.62it/s]\n"
     ]
    },
    {
     "name": "stdout",
     "output_type": "stream",
     "text": [
      "--- 0.03100109100341797 seconds for solution baseline ---\n",
      "initial solution\n"
     ]
    },
    {
     "name": "stderr",
     "output_type": "stream",
     "text": [
      "100%|██████████| 30/30 [00:00<00:00, 1268.60it/s]\n"
     ]
    },
    {
     "name": "stdout",
     "output_type": "stream",
     "text": [
      "--- 0.028523683547973633 seconds for solution baseline ---\n",
      "initial solution\n"
     ]
    },
    {
     "name": "stderr",
     "output_type": "stream",
     "text": [
      "100%|██████████| 31/31 [00:00<00:00, 981.60it/s]\n"
     ]
    },
    {
     "name": "stdout",
     "output_type": "stream",
     "text": [
      "--- 0.04281735420227051 seconds for solution baseline ---\n",
      "initial solution\n"
     ]
    },
    {
     "name": "stderr",
     "output_type": "stream",
     "text": [
      "100%|██████████| 31/31 [00:00<00:00, 1111.42it/s]\n"
     ]
    },
    {
     "name": "stdout",
     "output_type": "stream",
     "text": [
      "--- 0.03589224815368652 seconds for solution baseline ---\n",
      "initial solution\n"
     ]
    },
    {
     "name": "stderr",
     "output_type": "stream",
     "text": [
      "100%|██████████| 31/31 [00:00<00:00, 1067.48it/s]\n"
     ]
    },
    {
     "name": "stdout",
     "output_type": "stream",
     "text": [
      "--- 0.035056352615356445 seconds for solution baseline ---\n",
      "initial solution\n"
     ]
    },
    {
     "name": "stderr",
     "output_type": "stream",
     "text": [
      "100%|██████████| 31/31 [00:00<00:00, 1071.71it/s]\n"
     ]
    },
    {
     "name": "stdout",
     "output_type": "stream",
     "text": [
      "--- 0.03606271743774414 seconds for solution baseline ---\n",
      "initial solution\n"
     ]
    },
    {
     "name": "stderr",
     "output_type": "stream",
     "text": [
      "100%|██████████| 31/31 [00:00<00:00, 928.94it/s]\n"
     ]
    },
    {
     "name": "stdout",
     "output_type": "stream",
     "text": [
      "--- 0.0404200553894043 seconds for solution baseline ---\n",
      "initial solution\n"
     ]
    },
    {
     "name": "stderr",
     "output_type": "stream",
     "text": [
      "100%|██████████| 31/31 [00:00<00:00, 1114.24it/s]\n"
     ]
    },
    {
     "name": "stdout",
     "output_type": "stream",
     "text": [
      "--- 0.03730273246765137 seconds for solution baseline ---\n",
      "initial solution\n"
     ]
    },
    {
     "name": "stderr",
     "output_type": "stream",
     "text": [
      "100%|██████████| 31/31 [00:00<00:00, 715.37it/s]\n"
     ]
    },
    {
     "name": "stdout",
     "output_type": "stream",
     "text": [
      "--- 0.05114316940307617 seconds for solution baseline ---\n",
      "initial solution\n"
     ]
    },
    {
     "name": "stderr",
     "output_type": "stream",
     "text": [
      "100%|██████████| 31/31 [00:00<00:00, 1017.64it/s]\n"
     ]
    },
    {
     "name": "stdout",
     "output_type": "stream",
     "text": [
      "--- 0.03898930549621582 seconds for solution baseline ---\n",
      "initial solution\n"
     ]
    },
    {
     "name": "stderr",
     "output_type": "stream",
     "text": [
      "100%|██████████| 31/31 [00:00<00:00, 1104.10it/s]\n"
     ]
    },
    {
     "name": "stdout",
     "output_type": "stream",
     "text": [
      "--- 0.034182071685791016 seconds for solution baseline ---\n",
      "initial solution\n"
     ]
    },
    {
     "name": "stderr",
     "output_type": "stream",
     "text": [
      "100%|██████████| 31/31 [00:00<00:00, 1055.29it/s]\n"
     ]
    },
    {
     "name": "stdout",
     "output_type": "stream",
     "text": [
      "--- 0.0376896858215332 seconds for solution baseline ---\n",
      "initial solution\n"
     ]
    },
    {
     "name": "stderr",
     "output_type": "stream",
     "text": [
      "100%|██████████| 32/32 [00:00<00:00, 1037.12it/s]"
     ]
    },
    {
     "name": "stdout",
     "output_type": "stream",
     "text": [
      "--- 0.03721308708190918 seconds for solution baseline ---\n",
      "initial solution\n"
     ]
    },
    {
     "name": "stderr",
     "output_type": "stream",
     "text": [
      "\n",
      "100%|██████████| 32/32 [00:00<00:00, 992.37it/s]\n"
     ]
    },
    {
     "name": "stdout",
     "output_type": "stream",
     "text": [
      "--- 0.04276442527770996 seconds for solution baseline ---\n",
      "initial solution\n"
     ]
    },
    {
     "name": "stderr",
     "output_type": "stream",
     "text": [
      "100%|██████████| 32/32 [00:00<00:00, 1095.41it/s]\n"
     ]
    },
    {
     "name": "stdout",
     "output_type": "stream",
     "text": [
      "--- 0.035170793533325195 seconds for solution baseline ---\n",
      "initial solution\n"
     ]
    },
    {
     "name": "stderr",
     "output_type": "stream",
     "text": [
      "100%|██████████| 32/32 [00:00<00:00, 1119.05it/s]\n"
     ]
    },
    {
     "name": "stdout",
     "output_type": "stream",
     "text": [
      "--- 0.037573814392089844 seconds for solution baseline ---\n",
      "initial solution\n"
     ]
    },
    {
     "name": "stderr",
     "output_type": "stream",
     "text": [
      "100%|██████████| 32/32 [00:00<00:00, 1040.50it/s]\n"
     ]
    },
    {
     "name": "stdout",
     "output_type": "stream",
     "text": [
      "--- 0.036767005920410156 seconds for solution baseline ---\n",
      "initial solution\n"
     ]
    },
    {
     "name": "stderr",
     "output_type": "stream",
     "text": [
      "100%|██████████| 32/32 [00:00<00:00, 894.46it/s]\n"
     ]
    },
    {
     "name": "stdout",
     "output_type": "stream",
     "text": [
      "--- 0.0424807071685791 seconds for solution baseline ---\n",
      "initial solution\n"
     ]
    },
    {
     "name": "stderr",
     "output_type": "stream",
     "text": [
      "100%|██████████| 32/32 [00:00<00:00, 1023.11it/s]\n"
     ]
    },
    {
     "name": "stdout",
     "output_type": "stream",
     "text": [
      "--- 0.03747844696044922 seconds for solution baseline ---\n",
      "initial solution\n"
     ]
    },
    {
     "name": "stderr",
     "output_type": "stream",
     "text": [
      "100%|██████████| 32/32 [00:00<00:00, 929.43it/s]\n"
     ]
    },
    {
     "name": "stdout",
     "output_type": "stream",
     "text": [
      "--- 0.043708086013793945 seconds for solution baseline ---\n",
      "initial solution\n"
     ]
    },
    {
     "name": "stderr",
     "output_type": "stream",
     "text": [
      "100%|██████████| 32/32 [00:00<00:00, 1137.41it/s]"
     ]
    },
    {
     "name": "stdout",
     "output_type": "stream",
     "text": [
      "--- 0.033646583557128906 seconds for solution baseline ---\n",
      "initial solution\n"
     ]
    },
    {
     "name": "stderr",
     "output_type": "stream",
     "text": [
      "\n",
      "100%|██████████| 32/32 [00:00<00:00, 1012.92it/s]\n"
     ]
    },
    {
     "name": "stdout",
     "output_type": "stream",
     "text": [
      "--- 0.03886723518371582 seconds for solution baseline ---\n",
      "initial solution\n"
     ]
    },
    {
     "name": "stderr",
     "output_type": "stream",
     "text": [
      "100%|██████████| 33/33 [00:00<00:00, 965.40it/s]\n"
     ]
    },
    {
     "name": "stdout",
     "output_type": "stream",
     "text": [
      "--- 0.04089093208312988 seconds for solution baseline ---\n",
      "initial solution\n"
     ]
    },
    {
     "name": "stderr",
     "output_type": "stream",
     "text": [
      "100%|██████████| 33/33 [00:00<00:00, 849.82it/s]\n"
     ]
    },
    {
     "name": "stdout",
     "output_type": "stream",
     "text": [
      "--- 0.04706239700317383 seconds for solution baseline ---\n",
      "initial solution\n"
     ]
    },
    {
     "name": "stderr",
     "output_type": "stream",
     "text": [
      "100%|██████████| 33/33 [00:00<00:00, 991.57it/s]\n"
     ]
    },
    {
     "name": "stdout",
     "output_type": "stream",
     "text": [
      "--- 0.03981328010559082 seconds for solution baseline ---\n",
      "initial solution\n"
     ]
    },
    {
     "name": "stderr",
     "output_type": "stream",
     "text": [
      "100%|██████████| 33/33 [00:00<00:00, 972.66it/s]\n"
     ]
    },
    {
     "name": "stdout",
     "output_type": "stream",
     "text": [
      "--- 0.03992652893066406 seconds for solution baseline ---\n",
      "initial solution\n"
     ]
    },
    {
     "name": "stderr",
     "output_type": "stream",
     "text": [
      "100%|██████████| 33/33 [00:00<00:00, 940.12it/s]\n"
     ]
    },
    {
     "name": "stdout",
     "output_type": "stream",
     "text": [
      "--- 0.04191446304321289 seconds for solution baseline ---\n",
      "initial solution\n"
     ]
    },
    {
     "name": "stderr",
     "output_type": "stream",
     "text": [
      "100%|██████████| 33/33 [00:00<00:00, 858.23it/s]\n"
     ]
    },
    {
     "name": "stdout",
     "output_type": "stream",
     "text": [
      "--- 0.04831385612487793 seconds for solution baseline ---\n",
      "initial solution\n"
     ]
    },
    {
     "name": "stderr",
     "output_type": "stream",
     "text": [
      "100%|██████████| 33/33 [00:00<00:00, 873.85it/s]\n"
     ]
    },
    {
     "name": "stdout",
     "output_type": "stream",
     "text": [
      "--- 0.04657411575317383 seconds for solution baseline ---\n",
      "initial solution\n"
     ]
    },
    {
     "name": "stderr",
     "output_type": "stream",
     "text": [
      "100%|██████████| 33/33 [00:00<00:00, 785.09it/s]"
     ]
    },
    {
     "name": "stdout",
     "output_type": "stream",
     "text": [
      "--- 0.047410011291503906 seconds for solution baseline ---\n",
      "initial solution\n"
     ]
    },
    {
     "name": "stderr",
     "output_type": "stream",
     "text": [
      "\n",
      "100%|██████████| 33/33 [00:00<00:00, 718.47it/s]\n"
     ]
    },
    {
     "name": "stdout",
     "output_type": "stream",
     "text": [
      "--- 0.05207252502441406 seconds for solution baseline ---\n",
      "initial solution\n"
     ]
    },
    {
     "name": "stderr",
     "output_type": "stream",
     "text": [
      "100%|██████████| 33/33 [00:00<00:00, 744.86it/s]\n"
     ]
    },
    {
     "name": "stdout",
     "output_type": "stream",
     "text": [
      "--- 0.05351519584655762 seconds for solution baseline ---\n",
      "initial solution\n"
     ]
    },
    {
     "name": "stderr",
     "output_type": "stream",
     "text": [
      "100%|██████████| 34/34 [00:00<00:00, 879.54it/s]\n"
     ]
    },
    {
     "name": "stdout",
     "output_type": "stream",
     "text": [
      "--- 0.04697608947753906 seconds for solution baseline ---\n",
      "initial solution\n"
     ]
    },
    {
     "name": "stderr",
     "output_type": "stream",
     "text": [
      "100%|██████████| 34/34 [00:00<00:00, 940.64it/s]\n"
     ]
    },
    {
     "name": "stdout",
     "output_type": "stream",
     "text": [
      "--- 0.042172908782958984 seconds for solution baseline ---\n",
      "initial solution\n"
     ]
    },
    {
     "name": "stderr",
     "output_type": "stream",
     "text": [
      "100%|██████████| 34/34 [00:00<00:00, 934.54it/s]\n"
     ]
    },
    {
     "name": "stdout",
     "output_type": "stream",
     "text": [
      "--- 0.04447317123413086 seconds for solution baseline ---\n",
      "initial solution\n"
     ]
    },
    {
     "name": "stderr",
     "output_type": "stream",
     "text": [
      "100%|██████████| 34/34 [00:00<00:00, 920.69it/s]\n"
     ]
    },
    {
     "name": "stdout",
     "output_type": "stream",
     "text": [
      "--- 0.04668927192687988 seconds for solution baseline ---\n",
      "initial solution\n"
     ]
    },
    {
     "name": "stderr",
     "output_type": "stream",
     "text": [
      "100%|██████████| 34/34 [00:00<00:00, 896.06it/s]"
     ]
    },
    {
     "name": "stdout",
     "output_type": "stream",
     "text": [
      "--- 0.044721364974975586 seconds for solution baseline ---\n",
      "initial solution\n"
     ]
    },
    {
     "name": "stderr",
     "output_type": "stream",
     "text": [
      "\n",
      "100%|██████████| 34/34 [00:00<00:00, 832.55it/s]\n"
     ]
    },
    {
     "name": "stdout",
     "output_type": "stream",
     "text": [
      "--- 0.04650592803955078 seconds for solution baseline ---\n",
      "initial solution\n"
     ]
    },
    {
     "name": "stderr",
     "output_type": "stream",
     "text": [
      "100%|██████████| 34/34 [00:00<00:00, 836.08it/s]\n"
     ]
    },
    {
     "name": "stdout",
     "output_type": "stream",
     "text": [
      "--- 0.04982948303222656 seconds for solution baseline ---\n",
      "initial solution\n"
     ]
    },
    {
     "name": "stderr",
     "output_type": "stream",
     "text": [
      "100%|██████████| 34/34 [00:00<00:00, 924.18it/s]\n"
     ]
    },
    {
     "name": "stdout",
     "output_type": "stream",
     "text": [
      "--- 0.043229103088378906 seconds for solution baseline ---\n",
      "initial solution\n"
     ]
    },
    {
     "name": "stderr",
     "output_type": "stream",
     "text": [
      "100%|██████████| 34/34 [00:00<00:00, 921.16it/s]\n"
     ]
    },
    {
     "name": "stdout",
     "output_type": "stream",
     "text": [
      "--- 0.04191923141479492 seconds for solution baseline ---\n",
      "initial solution\n"
     ]
    },
    {
     "name": "stderr",
     "output_type": "stream",
     "text": [
      "100%|██████████| 34/34 [00:00<00:00, 889.46it/s]\n"
     ]
    },
    {
     "name": "stdout",
     "output_type": "stream",
     "text": [
      "--- 0.0453951358795166 seconds for solution baseline ---\n",
      "initial solution\n"
     ]
    },
    {
     "name": "stderr",
     "output_type": "stream",
     "text": [
      "100%|██████████| 35/35 [00:00<00:00, 894.32it/s]\n"
     ]
    },
    {
     "name": "stdout",
     "output_type": "stream",
     "text": [
      "--- 0.04965519905090332 seconds for solution baseline ---\n",
      "initial solution\n"
     ]
    },
    {
     "name": "stderr",
     "output_type": "stream",
     "text": [
      "100%|██████████| 35/35 [00:00<00:00, 873.83it/s]\n"
     ]
    },
    {
     "name": "stdout",
     "output_type": "stream",
     "text": [
      "--- 0.04725027084350586 seconds for solution baseline ---\n",
      "initial solution\n"
     ]
    },
    {
     "name": "stderr",
     "output_type": "stream",
     "text": [
      "100%|██████████| 35/35 [00:00<00:00, 637.03it/s]\n"
     ]
    },
    {
     "name": "stdout",
     "output_type": "stream",
     "text": [
      "--- 0.0624847412109375 seconds for solution baseline ---\n",
      "initial solution\n"
     ]
    },
    {
     "name": "stderr",
     "output_type": "stream",
     "text": [
      "100%|██████████| 35/35 [00:00<00:00, 832.82it/s]"
     ]
    },
    {
     "name": "stdout",
     "output_type": "stream",
     "text": [
      "--- 0.05234169960021973 seconds for solution baseline ---\n"
     ]
    },
    {
     "name": "stderr",
     "output_type": "stream",
     "text": [
      "\n"
     ]
    },
    {
     "name": "stdout",
     "output_type": "stream",
     "text": [
      "initial solution\n"
     ]
    },
    {
     "name": "stderr",
     "output_type": "stream",
     "text": [
      "100%|██████████| 35/35 [00:00<00:00, 855.07it/s]\n"
     ]
    },
    {
     "name": "stdout",
     "output_type": "stream",
     "text": [
      "--- 0.05057525634765625 seconds for solution baseline ---\n",
      "initial solution\n"
     ]
    },
    {
     "name": "stderr",
     "output_type": "stream",
     "text": [
      "100%|██████████| 35/35 [00:00<00:00, 884.77it/s]\n"
     ]
    },
    {
     "name": "stdout",
     "output_type": "stream",
     "text": [
      "--- 0.04555559158325195 seconds for solution baseline ---\n",
      "initial solution\n"
     ]
    },
    {
     "name": "stderr",
     "output_type": "stream",
     "text": [
      "100%|██████████| 35/35 [00:00<00:00, 864.98it/s]\n"
     ]
    },
    {
     "name": "stdout",
     "output_type": "stream",
     "text": [
      "--- 0.0469517707824707 seconds for solution baseline ---\n",
      "initial solution\n"
     ]
    },
    {
     "name": "stderr",
     "output_type": "stream",
     "text": [
      "100%|██████████| 35/35 [00:00<00:00, 823.76it/s]\n"
     ]
    },
    {
     "name": "stdout",
     "output_type": "stream",
     "text": [
      "--- 0.05149722099304199 seconds for solution baseline ---\n",
      "initial solution\n"
     ]
    },
    {
     "name": "stderr",
     "output_type": "stream",
     "text": [
      "100%|██████████| 35/35 [00:00<00:00, 746.84it/s]\n"
     ]
    },
    {
     "name": "stdout",
     "output_type": "stream",
     "text": [
      "--- 0.053671836853027344 seconds for solution baseline ---\n",
      "initial solution\n"
     ]
    },
    {
     "name": "stderr",
     "output_type": "stream",
     "text": [
      "100%|██████████| 35/35 [00:00<00:00, 847.71it/s]\n"
     ]
    },
    {
     "name": "stdout",
     "output_type": "stream",
     "text": [
      "--- 0.04853367805480957 seconds for solution baseline ---\n",
      "initial solution\n"
     ]
    },
    {
     "name": "stderr",
     "output_type": "stream",
     "text": [
      "100%|██████████| 36/36 [00:00<00:00, 757.51it/s]\n"
     ]
    },
    {
     "name": "stdout",
     "output_type": "stream",
     "text": [
      "--- 0.056118011474609375 seconds for solution baseline ---\n",
      "initial solution\n"
     ]
    },
    {
     "name": "stderr",
     "output_type": "stream",
     "text": [
      "100%|██████████| 36/36 [00:00<00:00, 780.69it/s]"
     ]
    },
    {
     "name": "stdout",
     "output_type": "stream",
     "text": [
      "--- 0.05441880226135254 seconds for solution baseline ---\n"
     ]
    },
    {
     "name": "stderr",
     "output_type": "stream",
     "text": [
      "\n"
     ]
    },
    {
     "name": "stdout",
     "output_type": "stream",
     "text": [
      "initial solution\n"
     ]
    },
    {
     "name": "stderr",
     "output_type": "stream",
     "text": [
      "100%|██████████| 36/36 [00:00<00:00, 737.96it/s]\n"
     ]
    },
    {
     "name": "stdout",
     "output_type": "stream",
     "text": [
      "--- 0.05774331092834473 seconds for solution baseline ---\n",
      "initial solution\n"
     ]
    },
    {
     "name": "stderr",
     "output_type": "stream",
     "text": [
      "100%|██████████| 36/36 [00:00<00:00, 776.17it/s]\n"
     ]
    },
    {
     "name": "stdout",
     "output_type": "stream",
     "text": [
      "--- 0.05238604545593262 seconds for solution baseline ---\n",
      "initial solution\n"
     ]
    },
    {
     "name": "stderr",
     "output_type": "stream",
     "text": [
      "100%|██████████| 36/36 [00:00<00:00, 788.82it/s]\n"
     ]
    },
    {
     "name": "stdout",
     "output_type": "stream",
     "text": [
      "--- 0.05785346031188965 seconds for solution baseline ---\n",
      "initial solution\n"
     ]
    },
    {
     "name": "stderr",
     "output_type": "stream",
     "text": [
      "100%|██████████| 36/36 [00:00<00:00, 798.61it/s]\n"
     ]
    },
    {
     "name": "stdout",
     "output_type": "stream",
     "text": [
      "--- 0.05220937728881836 seconds for solution baseline ---\n",
      "initial solution\n"
     ]
    },
    {
     "name": "stderr",
     "output_type": "stream",
     "text": [
      "100%|██████████| 36/36 [00:00<00:00, 805.32it/s]\n"
     ]
    },
    {
     "name": "stdout",
     "output_type": "stream",
     "text": [
      "--- 0.0534060001373291 seconds for solution baseline ---\n",
      "initial solution\n"
     ]
    },
    {
     "name": "stderr",
     "output_type": "stream",
     "text": [
      "100%|██████████| 36/36 [00:00<00:00, 814.05it/s]\n"
     ]
    },
    {
     "name": "stdout",
     "output_type": "stream",
     "text": [
      "--- 0.05337381362915039 seconds for solution baseline ---\n",
      "initial solution\n"
     ]
    },
    {
     "name": "stderr",
     "output_type": "stream",
     "text": [
      "100%|██████████| 36/36 [00:00<00:00, 800.88it/s]\n"
     ]
    },
    {
     "name": "stdout",
     "output_type": "stream",
     "text": [
      "--- 0.05251121520996094 seconds for solution baseline ---\n",
      "initial solution\n"
     ]
    },
    {
     "name": "stderr",
     "output_type": "stream",
     "text": [
      "100%|██████████| 36/36 [00:00<00:00, 760.18it/s]\n"
     ]
    },
    {
     "name": "stdout",
     "output_type": "stream",
     "text": [
      "--- 0.05298948287963867 seconds for solution baseline ---\n",
      "initial solution\n"
     ]
    },
    {
     "name": "stderr",
     "output_type": "stream",
     "text": [
      "100%|██████████| 37/37 [00:00<00:00, 789.79it/s]\n"
     ]
    },
    {
     "name": "stdout",
     "output_type": "stream",
     "text": [
      "--- 0.0553133487701416 seconds for solution baseline ---\n",
      "initial solution\n"
     ]
    },
    {
     "name": "stderr",
     "output_type": "stream",
     "text": [
      "100%|██████████| 37/37 [00:00<00:00, 650.03it/s]\n"
     ]
    },
    {
     "name": "stdout",
     "output_type": "stream",
     "text": [
      "--- 0.06309747695922852 seconds for solution baseline ---\n",
      "initial solution\n"
     ]
    },
    {
     "name": "stderr",
     "output_type": "stream",
     "text": [
      "100%|██████████| 37/37 [00:00<00:00, 713.85it/s]\n"
     ]
    },
    {
     "name": "stdout",
     "output_type": "stream",
     "text": [
      "--- 0.059548139572143555 seconds for solution baseline ---\n",
      "initial solution\n"
     ]
    },
    {
     "name": "stderr",
     "output_type": "stream",
     "text": [
      "100%|██████████| 37/37 [00:00<00:00, 766.56it/s]\n"
     ]
    },
    {
     "name": "stdout",
     "output_type": "stream",
     "text": [
      "--- 0.05652976036071777 seconds for solution baseline ---\n",
      "initial solution\n"
     ]
    },
    {
     "name": "stderr",
     "output_type": "stream",
     "text": [
      "100%|██████████| 37/37 [00:00<00:00, 776.63it/s]\n"
     ]
    },
    {
     "name": "stdout",
     "output_type": "stream",
     "text": [
      "--- 0.23472929000854492 seconds for solution baseline ---\n",
      "initial solution\n"
     ]
    },
    {
     "name": "stderr",
     "output_type": "stream",
     "text": [
      "100%|██████████| 37/37 [00:00<00:00, 761.72it/s]\n"
     ]
    },
    {
     "name": "stdout",
     "output_type": "stream",
     "text": [
      "--- 0.05746340751647949 seconds for solution baseline ---\n",
      "initial solution\n"
     ]
    },
    {
     "name": "stderr",
     "output_type": "stream",
     "text": [
      "100%|██████████| 37/37 [00:00<00:00, 709.23it/s]\n"
     ]
    },
    {
     "name": "stdout",
     "output_type": "stream",
     "text": [
      "--- 0.061356544494628906 seconds for solution baseline ---\n",
      "initial solution\n"
     ]
    },
    {
     "name": "stderr",
     "output_type": "stream",
     "text": [
      "100%|██████████| 37/37 [00:00<00:00, 769.77it/s]\n"
     ]
    },
    {
     "name": "stdout",
     "output_type": "stream",
     "text": [
      "--- 0.05527162551879883 seconds for solution baseline ---\n",
      "initial solution\n"
     ]
    },
    {
     "name": "stderr",
     "output_type": "stream",
     "text": [
      "100%|██████████| 37/37 [00:00<00:00, 768.87it/s]\n"
     ]
    },
    {
     "name": "stdout",
     "output_type": "stream",
     "text": [
      "--- 0.056383371353149414 seconds for solution baseline ---\n",
      "initial solution\n"
     ]
    },
    {
     "name": "stderr",
     "output_type": "stream",
     "text": [
      "100%|██████████| 37/37 [00:00<00:00, 751.81it/s]\n"
     ]
    },
    {
     "name": "stdout",
     "output_type": "stream",
     "text": [
      "--- 0.05691385269165039 seconds for solution baseline ---\n",
      "initial solution\n"
     ]
    },
    {
     "name": "stderr",
     "output_type": "stream",
     "text": [
      "100%|██████████| 38/38 [00:00<00:00, 737.43it/s]\n"
     ]
    },
    {
     "name": "stdout",
     "output_type": "stream",
     "text": [
      "--- 0.059708356857299805 seconds for solution baseline ---\n",
      "initial solution\n"
     ]
    },
    {
     "name": "stderr",
     "output_type": "stream",
     "text": [
      "100%|██████████| 38/38 [00:00<00:00, 668.64it/s]\n"
     ]
    },
    {
     "name": "stdout",
     "output_type": "stream",
     "text": [
      "--- 0.06548380851745605 seconds for solution baseline ---\n",
      "initial solution\n"
     ]
    },
    {
     "name": "stderr",
     "output_type": "stream",
     "text": [
      "100%|██████████| 38/38 [00:00<00:00, 503.90it/s]\n"
     ]
    },
    {
     "name": "stdout",
     "output_type": "stream",
     "text": [
      "--- 0.08302855491638184 seconds for solution baseline ---\n",
      "initial solution\n"
     ]
    },
    {
     "name": "stderr",
     "output_type": "stream",
     "text": [
      "100%|██████████| 38/38 [00:00<00:00, 715.09it/s]\n"
     ]
    },
    {
     "name": "stdout",
     "output_type": "stream",
     "text": [
      "--- 0.06327581405639648 seconds for solution baseline ---\n",
      "initial solution\n"
     ]
    },
    {
     "name": "stderr",
     "output_type": "stream",
     "text": [
      "100%|██████████| 38/38 [00:00<00:00, 693.52it/s]\n"
     ]
    },
    {
     "name": "stdout",
     "output_type": "stream",
     "text": [
      "--- 0.061798095703125 seconds for solution baseline ---\n",
      "initial solution\n"
     ]
    },
    {
     "name": "stderr",
     "output_type": "stream",
     "text": [
      "100%|██████████| 38/38 [00:00<00:00, 730.11it/s]\n"
     ]
    },
    {
     "name": "stdout",
     "output_type": "stream",
     "text": [
      "--- 0.0610499382019043 seconds for solution baseline ---\n",
      "initial solution\n"
     ]
    },
    {
     "name": "stderr",
     "output_type": "stream",
     "text": [
      "100%|██████████| 38/38 [00:00<00:00, 657.85it/s]\n"
     ]
    },
    {
     "name": "stdout",
     "output_type": "stream",
     "text": [
      "--- 0.06476521492004395 seconds for solution baseline ---\n",
      "initial solution\n"
     ]
    },
    {
     "name": "stderr",
     "output_type": "stream",
     "text": [
      "100%|██████████| 38/38 [00:00<00:00, 783.15it/s]\n"
     ]
    },
    {
     "name": "stdout",
     "output_type": "stream",
     "text": [
      "--- 0.05619072914123535 seconds for solution baseline ---\n",
      "initial solution\n"
     ]
    },
    {
     "name": "stderr",
     "output_type": "stream",
     "text": [
      "100%|██████████| 38/38 [00:00<00:00, 634.34it/s]\n"
     ]
    },
    {
     "name": "stdout",
     "output_type": "stream",
     "text": [
      "--- 0.06897687911987305 seconds for solution baseline ---\n",
      "initial solution\n"
     ]
    },
    {
     "name": "stderr",
     "output_type": "stream",
     "text": [
      "100%|██████████| 38/38 [00:00<00:00, 714.43it/s]\n"
     ]
    },
    {
     "name": "stdout",
     "output_type": "stream",
     "text": [
      "--- 0.06084609031677246 seconds for solution baseline ---\n",
      "initial solution\n"
     ]
    },
    {
     "name": "stderr",
     "output_type": "stream",
     "text": [
      "100%|██████████| 39/39 [00:00<00:00, 621.38it/s]\n"
     ]
    },
    {
     "name": "stdout",
     "output_type": "stream",
     "text": [
      "--- 0.07057046890258789 seconds for solution baseline ---\n",
      "initial solution\n"
     ]
    },
    {
     "name": "stderr",
     "output_type": "stream",
     "text": [
      "100%|██████████| 39/39 [00:00<00:00, 667.98it/s]\n"
     ]
    },
    {
     "name": "stdout",
     "output_type": "stream",
     "text": [
      "--- 0.06873178482055664 seconds for solution baseline ---\n",
      "initial solution\n"
     ]
    },
    {
     "name": "stderr",
     "output_type": "stream",
     "text": [
      "100%|██████████| 39/39 [00:00<00:00, 605.88it/s]\n"
     ]
    },
    {
     "name": "stdout",
     "output_type": "stream",
     "text": [
      "--- 0.07202482223510742 seconds for solution baseline ---\n",
      "initial solution\n"
     ]
    },
    {
     "name": "stderr",
     "output_type": "stream",
     "text": [
      "100%|██████████| 39/39 [00:00<00:00, 615.90it/s]\n"
     ]
    },
    {
     "name": "stdout",
     "output_type": "stream",
     "text": [
      "--- 0.07213902473449707 seconds for solution baseline ---\n",
      "initial solution\n"
     ]
    },
    {
     "name": "stderr",
     "output_type": "stream",
     "text": [
      "100%|██████████| 39/39 [00:00<00:00, 629.20it/s]\n"
     ]
    },
    {
     "name": "stdout",
     "output_type": "stream",
     "text": [
      "--- 0.07221245765686035 seconds for solution baseline ---\n",
      "initial solution\n"
     ]
    },
    {
     "name": "stderr",
     "output_type": "stream",
     "text": [
      "100%|██████████| 39/39 [00:00<00:00, 695.62it/s]\n"
     ]
    },
    {
     "name": "stdout",
     "output_type": "stream",
     "text": [
      "--- 0.06406450271606445 seconds for solution baseline ---\n",
      "initial solution\n"
     ]
    },
    {
     "name": "stderr",
     "output_type": "stream",
     "text": [
      "100%|██████████| 39/39 [00:00<00:00, 695.16it/s]\n"
     ]
    },
    {
     "name": "stdout",
     "output_type": "stream",
     "text": [
      "--- 0.06438946723937988 seconds for solution baseline ---\n",
      "initial solution\n"
     ]
    },
    {
     "name": "stderr",
     "output_type": "stream",
     "text": [
      "100%|██████████| 39/39 [00:00<00:00, 678.99it/s]\n"
     ]
    },
    {
     "name": "stdout",
     "output_type": "stream",
     "text": [
      "--- 0.06658315658569336 seconds for solution baseline ---\n",
      "initial solution\n"
     ]
    },
    {
     "name": "stderr",
     "output_type": "stream",
     "text": [
      "100%|██████████| 39/39 [00:00<00:00, 635.83it/s]\n"
     ]
    },
    {
     "name": "stdout",
     "output_type": "stream",
     "text": [
      "--- 0.07019472122192383 seconds for solution baseline ---\n",
      "initial solution\n"
     ]
    },
    {
     "name": "stderr",
     "output_type": "stream",
     "text": [
      "100%|██████████| 39/39 [00:00<00:00, 651.16it/s]\n"
     ]
    },
    {
     "name": "stdout",
     "output_type": "stream",
     "text": [
      "--- 0.06760787963867188 seconds for solution baseline ---\n",
      "initial solution\n"
     ]
    },
    {
     "name": "stderr",
     "output_type": "stream",
     "text": [
      "100%|██████████| 40/40 [00:00<00:00, 622.28it/s]\n"
     ]
    },
    {
     "name": "stdout",
     "output_type": "stream",
     "text": [
      "--- 0.07380795478820801 seconds for solution baseline ---\n",
      "initial solution\n"
     ]
    },
    {
     "name": "stderr",
     "output_type": "stream",
     "text": [
      "100%|██████████| 40/40 [00:00<00:00, 637.52it/s]\n"
     ]
    },
    {
     "name": "stdout",
     "output_type": "stream",
     "text": [
      "--- 0.06994056701660156 seconds for solution baseline ---\n",
      "initial solution\n"
     ]
    },
    {
     "name": "stderr",
     "output_type": "stream",
     "text": [
      "100%|██████████| 40/40 [00:00<00:00, 617.97it/s]"
     ]
    },
    {
     "name": "stdout",
     "output_type": "stream",
     "text": [
      "--- 0.07462143898010254 seconds for solution baseline ---\n"
     ]
    },
    {
     "name": "stderr",
     "output_type": "stream",
     "text": [
      "\n"
     ]
    },
    {
     "name": "stdout",
     "output_type": "stream",
     "text": [
      "initial solution\n"
     ]
    },
    {
     "name": "stderr",
     "output_type": "stream",
     "text": [
      "100%|██████████| 40/40 [00:00<00:00, 656.39it/s]\n"
     ]
    },
    {
     "name": "stdout",
     "output_type": "stream",
     "text": [
      "--- 0.06933975219726562 seconds for solution baseline ---\n",
      "initial solution\n"
     ]
    },
    {
     "name": "stderr",
     "output_type": "stream",
     "text": [
      "100%|██████████| 40/40 [00:00<00:00, 605.48it/s]\n"
     ]
    },
    {
     "name": "stdout",
     "output_type": "stream",
     "text": [
      "--- 0.07325887680053711 seconds for solution baseline ---\n",
      "initial solution\n"
     ]
    },
    {
     "name": "stderr",
     "output_type": "stream",
     "text": [
      "100%|██████████| 40/40 [00:00<00:00, 518.24it/s]"
     ]
    },
    {
     "name": "stdout",
     "output_type": "stream",
     "text": [
      "--- 0.08742547035217285 seconds for solution baseline ---\n",
      "initial solution\n"
     ]
    },
    {
     "name": "stderr",
     "output_type": "stream",
     "text": [
      "\n",
      "100%|██████████| 40/40 [00:00<00:00, 611.12it/s]\n"
     ]
    },
    {
     "name": "stdout",
     "output_type": "stream",
     "text": [
      "--- 0.07248497009277344 seconds for solution baseline ---\n",
      "initial solution\n"
     ]
    },
    {
     "name": "stderr",
     "output_type": "stream",
     "text": [
      "100%|██████████| 40/40 [00:00<00:00, 639.02it/s]\n"
     ]
    },
    {
     "name": "stdout",
     "output_type": "stream",
     "text": [
      "--- 0.0728752613067627 seconds for solution baseline ---\n",
      "initial solution\n"
     ]
    },
    {
     "name": "stderr",
     "output_type": "stream",
     "text": [
      "100%|██████████| 40/40 [00:00<00:00, 594.64it/s]\n"
     ]
    },
    {
     "name": "stdout",
     "output_type": "stream",
     "text": [
      "--- 0.07486224174499512 seconds for solution baseline ---\n",
      "initial solution\n"
     ]
    },
    {
     "name": "stderr",
     "output_type": "stream",
     "text": [
      "100%|██████████| 40/40 [00:00<00:00, 615.73it/s]"
     ]
    },
    {
     "name": "stdout",
     "output_type": "stream",
     "text": [
      "--- 0.07350468635559082 seconds for solution baseline ---\n"
     ]
    },
    {
     "name": "stderr",
     "output_type": "stream",
     "text": [
      "\n"
     ]
    },
    {
     "name": "stdout",
     "output_type": "stream",
     "text": [
      "initial solution\n"
     ]
    },
    {
     "name": "stderr",
     "output_type": "stream",
     "text": [
      "100%|██████████| 41/41 [00:00<00:00, 442.24it/s]\n"
     ]
    },
    {
     "name": "stdout",
     "output_type": "stream",
     "text": [
      "--- 0.10453438758850098 seconds for solution baseline ---\n",
      "initial solution\n"
     ]
    },
    {
     "name": "stderr",
     "output_type": "stream",
     "text": [
      "100%|██████████| 41/41 [00:00<00:00, 621.24it/s]\n"
     ]
    },
    {
     "name": "stdout",
     "output_type": "stream",
     "text": [
      "--- 0.07442307472229004 seconds for solution baseline ---\n",
      "initial solution\n"
     ]
    },
    {
     "name": "stderr",
     "output_type": "stream",
     "text": [
      "100%|██████████| 41/41 [00:00<00:00, 568.37it/s]\n"
     ]
    },
    {
     "name": "stdout",
     "output_type": "stream",
     "text": [
      "--- 0.07981729507446289 seconds for solution baseline ---\n",
      "initial solution\n"
     ]
    },
    {
     "name": "stderr",
     "output_type": "stream",
     "text": [
      "100%|██████████| 41/41 [00:00<00:00, 618.98it/s]\n"
     ]
    },
    {
     "name": "stdout",
     "output_type": "stream",
     "text": [
      "--- 0.07505321502685547 seconds for solution baseline ---\n",
      "initial solution\n"
     ]
    },
    {
     "name": "stderr",
     "output_type": "stream",
     "text": [
      "100%|██████████| 41/41 [00:00<00:00, 594.91it/s]\n"
     ]
    },
    {
     "name": "stdout",
     "output_type": "stream",
     "text": [
      "--- 0.07609105110168457 seconds for solution baseline ---\n",
      "initial solution\n"
     ]
    },
    {
     "name": "stderr",
     "output_type": "stream",
     "text": [
      "100%|██████████| 41/41 [00:00<00:00, 517.41it/s]\n"
     ]
    },
    {
     "name": "stdout",
     "output_type": "stream",
     "text": [
      "--- 0.08777880668640137 seconds for solution baseline ---\n",
      "initial solution\n"
     ]
    },
    {
     "name": "stderr",
     "output_type": "stream",
     "text": [
      "100%|██████████| 41/41 [00:00<00:00, 580.14it/s]\n"
     ]
    },
    {
     "name": "stdout",
     "output_type": "stream",
     "text": [
      "--- 0.07880949974060059 seconds for solution baseline ---\n",
      "initial solution\n"
     ]
    },
    {
     "name": "stderr",
     "output_type": "stream",
     "text": [
      "100%|██████████| 41/41 [00:00<00:00, 585.01it/s]\n"
     ]
    },
    {
     "name": "stdout",
     "output_type": "stream",
     "text": [
      "--- 0.07901215553283691 seconds for solution baseline ---\n",
      "initial solution\n"
     ]
    },
    {
     "name": "stderr",
     "output_type": "stream",
     "text": [
      "100%|██████████| 41/41 [00:00<00:00, 568.30it/s]\n"
     ]
    },
    {
     "name": "stdout",
     "output_type": "stream",
     "text": [
      "--- 0.08167219161987305 seconds for solution baseline ---\n",
      "initial solution\n"
     ]
    },
    {
     "name": "stderr",
     "output_type": "stream",
     "text": [
      "100%|██████████| 41/41 [00:00<00:00, 556.06it/s]\n"
     ]
    },
    {
     "name": "stdout",
     "output_type": "stream",
     "text": [
      "--- 0.08205938339233398 seconds for solution baseline ---\n",
      "initial solution\n"
     ]
    },
    {
     "name": "stderr",
     "output_type": "stream",
     "text": [
      "100%|██████████| 42/42 [00:00<00:00, 541.56it/s]\n"
     ]
    },
    {
     "name": "stdout",
     "output_type": "stream",
     "text": [
      "--- 0.08798003196716309 seconds for solution baseline ---\n",
      "initial solution\n"
     ]
    },
    {
     "name": "stderr",
     "output_type": "stream",
     "text": [
      "100%|██████████| 42/42 [00:00<00:00, 582.15it/s]\n"
     ]
    },
    {
     "name": "stdout",
     "output_type": "stream",
     "text": [
      "--- 0.07815194129943848 seconds for solution baseline ---\n",
      "initial solution\n"
     ]
    },
    {
     "name": "stderr",
     "output_type": "stream",
     "text": [
      "100%|██████████| 42/42 [00:00<00:00, 569.46it/s]\n"
     ]
    },
    {
     "name": "stdout",
     "output_type": "stream",
     "text": [
      "--- 0.08092093467712402 seconds for solution baseline ---\n",
      "initial solution\n"
     ]
    },
    {
     "name": "stderr",
     "output_type": "stream",
     "text": [
      "100%|██████████| 42/42 [00:00<00:00, 567.22it/s]\n"
     ]
    },
    {
     "name": "stdout",
     "output_type": "stream",
     "text": [
      "--- 0.08521032333374023 seconds for solution baseline ---\n",
      "initial solution\n"
     ]
    },
    {
     "name": "stderr",
     "output_type": "stream",
     "text": [
      "100%|██████████| 42/42 [00:00<00:00, 537.03it/s]\n"
     ]
    },
    {
     "name": "stdout",
     "output_type": "stream",
     "text": [
      "--- 0.08665919303894043 seconds for solution baseline ---\n",
      "initial solution\n"
     ]
    },
    {
     "name": "stderr",
     "output_type": "stream",
     "text": [
      "100%|██████████| 42/42 [00:00<00:00, 505.07it/s]\n"
     ]
    },
    {
     "name": "stdout",
     "output_type": "stream",
     "text": [
      "--- 0.09233641624450684 seconds for solution baseline ---\n",
      "initial solution\n"
     ]
    },
    {
     "name": "stderr",
     "output_type": "stream",
     "text": [
      "100%|██████████| 42/42 [00:00<00:00, 531.62it/s]\n"
     ]
    },
    {
     "name": "stdout",
     "output_type": "stream",
     "text": [
      "--- 0.08822035789489746 seconds for solution baseline ---\n",
      "initial solution\n"
     ]
    },
    {
     "name": "stderr",
     "output_type": "stream",
     "text": [
      "100%|██████████| 42/42 [00:00<00:00, 518.69it/s]\n"
     ]
    },
    {
     "name": "stdout",
     "output_type": "stream",
     "text": [
      "--- 0.0900123119354248 seconds for solution baseline ---\n",
      "initial solution\n"
     ]
    },
    {
     "name": "stderr",
     "output_type": "stream",
     "text": [
      "100%|██████████| 42/42 [00:00<00:00, 519.66it/s]\n"
     ]
    },
    {
     "name": "stdout",
     "output_type": "stream",
     "text": [
      "--- 0.08939599990844727 seconds for solution baseline ---\n",
      "initial solution\n"
     ]
    },
    {
     "name": "stderr",
     "output_type": "stream",
     "text": [
      "100%|██████████| 42/42 [00:00<00:00, 523.79it/s]\n"
     ]
    },
    {
     "name": "stdout",
     "output_type": "stream",
     "text": [
      "--- 0.0885622501373291 seconds for solution baseline ---\n",
      "initial solution\n"
     ]
    },
    {
     "name": "stderr",
     "output_type": "stream",
     "text": [
      "100%|██████████| 43/43 [00:00<00:00, 503.87it/s]\n"
     ]
    },
    {
     "name": "stdout",
     "output_type": "stream",
     "text": [
      "--- 0.09434318542480469 seconds for solution baseline ---\n",
      "initial solution\n"
     ]
    },
    {
     "name": "stderr",
     "output_type": "stream",
     "text": [
      "100%|██████████| 43/43 [00:00<00:00, 562.41it/s]\n"
     ]
    },
    {
     "name": "stdout",
     "output_type": "stream",
     "text": [
      "--- 0.08660769462585449 seconds for solution baseline ---\n",
      "initial solution\n"
     ]
    },
    {
     "name": "stderr",
     "output_type": "stream",
     "text": [
      "100%|██████████| 43/43 [00:00<00:00, 517.34it/s]\n"
     ]
    },
    {
     "name": "stdout",
     "output_type": "stream",
     "text": [
      "--- 0.2706491947174072 seconds for solution baseline ---\n",
      "initial solution\n"
     ]
    },
    {
     "name": "stderr",
     "output_type": "stream",
     "text": [
      "100%|██████████| 43/43 [00:00<00:00, 473.11it/s]\n"
     ]
    },
    {
     "name": "stdout",
     "output_type": "stream",
     "text": [
      "--- 0.09990596771240234 seconds for solution baseline ---\n",
      "initial solution\n"
     ]
    },
    {
     "name": "stderr",
     "output_type": "stream",
     "text": [
      "100%|██████████| 43/43 [00:00<00:00, 522.62it/s]\n"
     ]
    },
    {
     "name": "stdout",
     "output_type": "stream",
     "text": [
      "--- 0.09101104736328125 seconds for solution baseline ---\n",
      "initial solution\n"
     ]
    },
    {
     "name": "stderr",
     "output_type": "stream",
     "text": [
      "100%|██████████| 43/43 [00:00<00:00, 400.12it/s]\n"
     ]
    },
    {
     "name": "stdout",
     "output_type": "stream",
     "text": [
      "--- 0.11737060546875 seconds for solution baseline ---\n",
      "initial solution\n"
     ]
    },
    {
     "name": "stderr",
     "output_type": "stream",
     "text": [
      "100%|██████████| 43/43 [00:00<00:00, 419.42it/s]\n"
     ]
    },
    {
     "name": "stdout",
     "output_type": "stream",
     "text": [
      "--- 0.11396193504333496 seconds for solution baseline ---\n",
      "initial solution\n"
     ]
    },
    {
     "name": "stderr",
     "output_type": "stream",
     "text": [
      "100%|██████████| 43/43 [00:00<00:00, 479.80it/s]\n"
     ]
    },
    {
     "name": "stdout",
     "output_type": "stream",
     "text": [
      "--- 0.09886503219604492 seconds for solution baseline ---\n",
      "initial solution\n"
     ]
    },
    {
     "name": "stderr",
     "output_type": "stream",
     "text": [
      "100%|██████████| 43/43 [00:00<00:00, 415.40it/s]\n"
     ]
    },
    {
     "name": "stdout",
     "output_type": "stream",
     "text": [
      "--- 0.11656999588012695 seconds for solution baseline ---\n",
      "initial solution\n"
     ]
    },
    {
     "name": "stderr",
     "output_type": "stream",
     "text": [
      "100%|██████████| 43/43 [00:00<00:00, 457.25it/s]\n"
     ]
    },
    {
     "name": "stdout",
     "output_type": "stream",
     "text": [
      "--- 0.10588335990905762 seconds for solution baseline ---\n",
      "initial solution\n"
     ]
    },
    {
     "name": "stderr",
     "output_type": "stream",
     "text": [
      "100%|██████████| 44/44 [00:00<00:00, 398.44it/s]\n"
     ]
    },
    {
     "name": "stdout",
     "output_type": "stream",
     "text": [
      "--- 0.12157869338989258 seconds for solution baseline ---\n",
      "initial solution\n"
     ]
    },
    {
     "name": "stderr",
     "output_type": "stream",
     "text": [
      "100%|██████████| 44/44 [00:00<00:00, 434.11it/s]\n"
     ]
    },
    {
     "name": "stdout",
     "output_type": "stream",
     "text": [
      "--- 0.1122887134552002 seconds for solution baseline ---\n",
      "initial solution\n"
     ]
    },
    {
     "name": "stderr",
     "output_type": "stream",
     "text": [
      "100%|██████████| 44/44 [00:00<00:00, 485.07it/s]\n"
     ]
    },
    {
     "name": "stdout",
     "output_type": "stream",
     "text": [
      "--- 0.10032176971435547 seconds for solution baseline ---\n",
      "initial solution\n"
     ]
    },
    {
     "name": "stderr",
     "output_type": "stream",
     "text": [
      "100%|██████████| 44/44 [00:00<00:00, 410.48it/s]\n"
     ]
    },
    {
     "name": "stdout",
     "output_type": "stream",
     "text": [
      "--- 0.11479735374450684 seconds for solution baseline ---\n",
      "initial solution\n"
     ]
    },
    {
     "name": "stderr",
     "output_type": "stream",
     "text": [
      "100%|██████████| 44/44 [00:00<00:00, 443.76it/s]\n"
     ]
    },
    {
     "name": "stdout",
     "output_type": "stream",
     "text": [
      "--- 0.10635828971862793 seconds for solution baseline ---\n",
      "initial solution\n"
     ]
    },
    {
     "name": "stderr",
     "output_type": "stream",
     "text": [
      "100%|██████████| 44/44 [00:00<00:00, 377.58it/s]\n"
     ]
    },
    {
     "name": "stdout",
     "output_type": "stream",
     "text": [
      "--- 0.12812209129333496 seconds for solution baseline ---\n",
      "initial solution\n"
     ]
    },
    {
     "name": "stderr",
     "output_type": "stream",
     "text": [
      "100%|██████████| 44/44 [00:00<00:00, 398.44it/s]\n"
     ]
    },
    {
     "name": "stdout",
     "output_type": "stream",
     "text": [
      "--- 0.11961913108825684 seconds for solution baseline ---\n",
      "initial solution\n"
     ]
    },
    {
     "name": "stderr",
     "output_type": "stream",
     "text": [
      "100%|██████████| 44/44 [00:00<00:00, 473.16it/s]\n"
     ]
    },
    {
     "name": "stdout",
     "output_type": "stream",
     "text": [
      "--- 0.10168862342834473 seconds for solution baseline ---\n",
      "initial solution\n"
     ]
    },
    {
     "name": "stderr",
     "output_type": "stream",
     "text": [
      "100%|██████████| 44/44 [00:00<00:00, 466.30it/s]\n"
     ]
    },
    {
     "name": "stdout",
     "output_type": "stream",
     "text": [
      "--- 0.10431265830993652 seconds for solution baseline ---\n",
      "initial solution\n"
     ]
    },
    {
     "name": "stderr",
     "output_type": "stream",
     "text": [
      "100%|██████████| 44/44 [00:00<00:00, 452.13it/s]\n"
     ]
    },
    {
     "name": "stdout",
     "output_type": "stream",
     "text": [
      "--- 0.10595464706420898 seconds for solution baseline ---\n",
      "initial solution\n"
     ]
    },
    {
     "name": "stderr",
     "output_type": "stream",
     "text": [
      "100%|██████████| 45/45 [00:00<00:00, 392.67it/s]\n"
     ]
    },
    {
     "name": "stdout",
     "output_type": "stream",
     "text": [
      "--- 0.12679624557495117 seconds for solution baseline ---\n",
      "initial solution\n"
     ]
    },
    {
     "name": "stderr",
     "output_type": "stream",
     "text": [
      "100%|██████████| 45/45 [00:00<00:00, 457.02it/s]\n"
     ]
    },
    {
     "name": "stdout",
     "output_type": "stream",
     "text": [
      "--- 0.11007356643676758 seconds for solution baseline ---\n",
      "initial solution\n"
     ]
    },
    {
     "name": "stderr",
     "output_type": "stream",
     "text": [
      "100%|██████████| 45/45 [00:00<00:00, 400.83it/s]\n"
     ]
    },
    {
     "name": "stdout",
     "output_type": "stream",
     "text": [
      "--- 0.12485909461975098 seconds for solution baseline ---\n",
      "initial solution\n"
     ]
    },
    {
     "name": "stderr",
     "output_type": "stream",
     "text": [
      "100%|██████████| 45/45 [00:00<00:00, 461.40it/s]\n"
     ]
    },
    {
     "name": "stdout",
     "output_type": "stream",
     "text": [
      "--- 0.10567045211791992 seconds for solution baseline ---\n",
      "initial solution\n"
     ]
    },
    {
     "name": "stderr",
     "output_type": "stream",
     "text": [
      "100%|██████████| 45/45 [00:00<00:00, 459.65it/s]\n"
     ]
    },
    {
     "name": "stdout",
     "output_type": "stream",
     "text": [
      "--- 0.10727405548095703 seconds for solution baseline ---\n",
      "initial solution\n"
     ]
    },
    {
     "name": "stderr",
     "output_type": "stream",
     "text": [
      "100%|██████████| 45/45 [00:00<00:00, 431.42it/s]\n"
     ]
    },
    {
     "name": "stdout",
     "output_type": "stream",
     "text": [
      "--- 0.11195635795593262 seconds for solution baseline ---\n",
      "initial solution\n"
     ]
    },
    {
     "name": "stderr",
     "output_type": "stream",
     "text": [
      "100%|██████████| 45/45 [00:00<00:00, 247.61it/s]\n"
     ]
    },
    {
     "name": "stdout",
     "output_type": "stream",
     "text": [
      "--- 0.192152738571167 seconds for solution baseline ---\n",
      "initial solution\n"
     ]
    },
    {
     "name": "stderr",
     "output_type": "stream",
     "text": [
      "100%|██████████| 45/45 [00:00<00:00, 326.78it/s]\n"
     ]
    },
    {
     "name": "stdout",
     "output_type": "stream",
     "text": [
      "--- 0.15057063102722168 seconds for solution baseline ---\n",
      "initial solution\n"
     ]
    },
    {
     "name": "stderr",
     "output_type": "stream",
     "text": [
      "100%|██████████| 45/45 [00:00<00:00, 332.93it/s]\n"
     ]
    },
    {
     "name": "stdout",
     "output_type": "stream",
     "text": [
      "--- 0.14824295043945312 seconds for solution baseline ---\n",
      "initial solution\n"
     ]
    },
    {
     "name": "stderr",
     "output_type": "stream",
     "text": [
      "100%|██████████| 45/45 [00:00<00:00, 294.06it/s]\n"
     ]
    },
    {
     "name": "stdout",
     "output_type": "stream",
     "text": [
      "--- 0.16523313522338867 seconds for solution baseline ---\n",
      "initial solution\n"
     ]
    },
    {
     "name": "stderr",
     "output_type": "stream",
     "text": [
      "100%|██████████| 46/46 [00:00<00:00, 370.93it/s]\n"
     ]
    },
    {
     "name": "stdout",
     "output_type": "stream",
     "text": [
      "--- 0.13657879829406738 seconds for solution baseline ---\n",
      "initial solution\n"
     ]
    },
    {
     "name": "stderr",
     "output_type": "stream",
     "text": [
      "100%|██████████| 46/46 [00:00<00:00, 442.50it/s]\n"
     ]
    },
    {
     "name": "stdout",
     "output_type": "stream",
     "text": [
      "--- 0.11426854133605957 seconds for solution baseline ---\n",
      "initial solution\n"
     ]
    },
    {
     "name": "stderr",
     "output_type": "stream",
     "text": [
      "100%|██████████| 46/46 [00:00<00:00, 388.56it/s]\n"
     ]
    },
    {
     "name": "stdout",
     "output_type": "stream",
     "text": [
      "--- 0.1282660961151123 seconds for solution baseline ---\n",
      "initial solution\n"
     ]
    },
    {
     "name": "stderr",
     "output_type": "stream",
     "text": [
      "100%|██████████| 46/46 [00:00<00:00, 445.43it/s]\n"
     ]
    },
    {
     "name": "stdout",
     "output_type": "stream",
     "text": [
      "--- 0.11373209953308105 seconds for solution baseline ---\n",
      "initial solution\n"
     ]
    },
    {
     "name": "stderr",
     "output_type": "stream",
     "text": [
      "100%|██████████| 46/46 [00:00<00:00, 427.48it/s]\n"
     ]
    },
    {
     "name": "stdout",
     "output_type": "stream",
     "text": [
      "--- 0.11764025688171387 seconds for solution baseline ---\n",
      "initial solution\n"
     ]
    },
    {
     "name": "stderr",
     "output_type": "stream",
     "text": [
      "100%|██████████| 46/46 [00:00<00:00, 400.98it/s]\n"
     ]
    },
    {
     "name": "stdout",
     "output_type": "stream",
     "text": [
      "--- 0.12387633323669434 seconds for solution baseline ---\n",
      "initial solution\n"
     ]
    },
    {
     "name": "stderr",
     "output_type": "stream",
     "text": [
      "100%|██████████| 46/46 [00:00<00:00, 432.83it/s]\n"
     ]
    },
    {
     "name": "stdout",
     "output_type": "stream",
     "text": [
      "--- 0.11958885192871094 seconds for solution baseline ---\n",
      "initial solution\n"
     ]
    },
    {
     "name": "stderr",
     "output_type": "stream",
     "text": [
      "100%|██████████| 46/46 [00:00<00:00, 397.87it/s]\n"
     ]
    },
    {
     "name": "stdout",
     "output_type": "stream",
     "text": [
      "--- 0.12452840805053711 seconds for solution baseline ---\n",
      "initial solution\n"
     ]
    },
    {
     "name": "stderr",
     "output_type": "stream",
     "text": [
      "100%|██████████| 46/46 [00:00<00:00, 395.76it/s]\n"
     ]
    },
    {
     "name": "stdout",
     "output_type": "stream",
     "text": [
      "--- 0.12592411041259766 seconds for solution baseline ---\n",
      "initial solution\n"
     ]
    },
    {
     "name": "stderr",
     "output_type": "stream",
     "text": [
      "100%|██████████| 46/46 [00:00<00:00, 438.36it/s]\n"
     ]
    },
    {
     "name": "stdout",
     "output_type": "stream",
     "text": [
      "--- 0.11501765251159668 seconds for solution baseline ---\n",
      "initial solution\n"
     ]
    },
    {
     "name": "stderr",
     "output_type": "stream",
     "text": [
      "100%|██████████| 47/47 [00:00<00:00, 391.46it/s]\n"
     ]
    },
    {
     "name": "stdout",
     "output_type": "stream",
     "text": [
      "--- 0.3037834167480469 seconds for solution baseline ---\n",
      "initial solution\n"
     ]
    },
    {
     "name": "stderr",
     "output_type": "stream",
     "text": [
      "100%|██████████| 47/47 [00:00<00:00, 383.01it/s]\n"
     ]
    },
    {
     "name": "stdout",
     "output_type": "stream",
     "text": [
      "--- 0.1324319839477539 seconds for solution baseline ---\n",
      "initial solution\n"
     ]
    },
    {
     "name": "stderr",
     "output_type": "stream",
     "text": [
      "100%|██████████| 47/47 [00:00<00:00, 342.64it/s]\n"
     ]
    },
    {
     "name": "stdout",
     "output_type": "stream",
     "text": [
      "--- 0.14890241622924805 seconds for solution baseline ---\n",
      "initial solution\n"
     ]
    },
    {
     "name": "stderr",
     "output_type": "stream",
     "text": [
      "100%|██████████| 47/47 [00:00<00:00, 269.47it/s]\n"
     ]
    },
    {
     "name": "stdout",
     "output_type": "stream",
     "text": [
      "--- 0.1868133544921875 seconds for solution baseline ---\n",
      "initial solution\n"
     ]
    },
    {
     "name": "stderr",
     "output_type": "stream",
     "text": [
      "100%|██████████| 47/47 [00:00<00:00, 336.04it/s]\n"
     ]
    },
    {
     "name": "stdout",
     "output_type": "stream",
     "text": [
      "--- 0.1570422649383545 seconds for solution baseline ---\n",
      "initial solution\n"
     ]
    },
    {
     "name": "stderr",
     "output_type": "stream",
     "text": [
      "100%|██████████| 47/47 [00:00<00:00, 370.62it/s]\n"
     ]
    },
    {
     "name": "stdout",
     "output_type": "stream",
     "text": [
      "--- 0.1374189853668213 seconds for solution baseline ---\n",
      "initial solution\n"
     ]
    },
    {
     "name": "stderr",
     "output_type": "stream",
     "text": [
      "100%|██████████| 47/47 [00:00<00:00, 393.50it/s]\n"
     ]
    },
    {
     "name": "stdout",
     "output_type": "stream",
     "text": [
      "--- 0.12964534759521484 seconds for solution baseline ---\n",
      "initial solution\n"
     ]
    },
    {
     "name": "stderr",
     "output_type": "stream",
     "text": [
      "100%|██████████| 47/47 [00:00<00:00, 424.01it/s]\n"
     ]
    },
    {
     "name": "stdout",
     "output_type": "stream",
     "text": [
      "--- 0.12266659736633301 seconds for solution baseline ---\n",
      "initial solution\n"
     ]
    },
    {
     "name": "stderr",
     "output_type": "stream",
     "text": [
      "100%|██████████| 47/47 [00:00<00:00, 423.29it/s]\n"
     ]
    },
    {
     "name": "stdout",
     "output_type": "stream",
     "text": [
      "--- 0.12142372131347656 seconds for solution baseline ---\n",
      "initial solution\n"
     ]
    },
    {
     "name": "stderr",
     "output_type": "stream",
     "text": [
      "100%|██████████| 47/47 [00:00<00:00, 380.52it/s]\n"
     ]
    },
    {
     "name": "stdout",
     "output_type": "stream",
     "text": [
      "--- 0.1350851058959961 seconds for solution baseline ---\n",
      "initial solution\n"
     ]
    },
    {
     "name": "stderr",
     "output_type": "stream",
     "text": [
      "100%|██████████| 48/48 [00:00<00:00, 377.87it/s]\n"
     ]
    },
    {
     "name": "stdout",
     "output_type": "stream",
     "text": [
      "--- 0.1360166072845459 seconds for solution baseline ---\n",
      "initial solution\n"
     ]
    },
    {
     "name": "stderr",
     "output_type": "stream",
     "text": [
      "100%|██████████| 48/48 [00:00<00:00, 360.15it/s]\n"
     ]
    },
    {
     "name": "stdout",
     "output_type": "stream",
     "text": [
      "--- 0.150634765625 seconds for solution baseline ---\n",
      "initial solution\n"
     ]
    },
    {
     "name": "stderr",
     "output_type": "stream",
     "text": [
      "100%|██████████| 48/48 [00:00<00:00, 358.69it/s]\n"
     ]
    },
    {
     "name": "stdout",
     "output_type": "stream",
     "text": [
      "--- 0.14519572257995605 seconds for solution baseline ---\n",
      "initial solution\n"
     ]
    },
    {
     "name": "stderr",
     "output_type": "stream",
     "text": [
      "100%|██████████| 48/48 [00:00<00:00, 388.16it/s]\n"
     ]
    },
    {
     "name": "stdout",
     "output_type": "stream",
     "text": [
      "--- 0.1354842185974121 seconds for solution baseline ---\n",
      "initial solution\n"
     ]
    },
    {
     "name": "stderr",
     "output_type": "stream",
     "text": [
      "100%|██████████| 48/48 [00:00<00:00, 363.62it/s]\n"
     ]
    },
    {
     "name": "stdout",
     "output_type": "stream",
     "text": [
      "--- 0.14273834228515625 seconds for solution baseline ---\n",
      "initial solution\n"
     ]
    },
    {
     "name": "stderr",
     "output_type": "stream",
     "text": [
      "100%|██████████| 48/48 [00:00<00:00, 375.06it/s]\n"
     ]
    },
    {
     "name": "stdout",
     "output_type": "stream",
     "text": [
      "--- 0.13800954818725586 seconds for solution baseline ---\n",
      "initial solution\n"
     ]
    },
    {
     "name": "stderr",
     "output_type": "stream",
     "text": [
      "100%|██████████| 48/48 [00:00<00:00, 356.90it/s]\n"
     ]
    },
    {
     "name": "stdout",
     "output_type": "stream",
     "text": [
      "--- 0.1450176239013672 seconds for solution baseline ---\n",
      "initial solution\n"
     ]
    },
    {
     "name": "stderr",
     "output_type": "stream",
     "text": [
      "100%|██████████| 48/48 [00:00<00:00, 368.91it/s]\n"
     ]
    },
    {
     "name": "stdout",
     "output_type": "stream",
     "text": [
      "--- 0.13978171348571777 seconds for solution baseline ---\n",
      "initial solution\n"
     ]
    },
    {
     "name": "stderr",
     "output_type": "stream",
     "text": [
      "100%|██████████| 48/48 [00:00<00:00, 341.39it/s]\n"
     ]
    },
    {
     "name": "stdout",
     "output_type": "stream",
     "text": [
      "--- 0.15094208717346191 seconds for solution baseline ---\n",
      "initial solution\n"
     ]
    },
    {
     "name": "stderr",
     "output_type": "stream",
     "text": [
      "100%|██████████| 48/48 [00:00<00:00, 384.43it/s]\n"
     ]
    },
    {
     "name": "stdout",
     "output_type": "stream",
     "text": [
      "--- 0.13530421257019043 seconds for solution baseline ---\n",
      "initial solution\n"
     ]
    },
    {
     "name": "stderr",
     "output_type": "stream",
     "text": [
      "100%|██████████| 49/49 [00:00<00:00, 346.90it/s]\n"
     ]
    },
    {
     "name": "stdout",
     "output_type": "stream",
     "text": [
      "--- 0.15168356895446777 seconds for solution baseline ---\n",
      "initial solution\n"
     ]
    },
    {
     "name": "stderr",
     "output_type": "stream",
     "text": [
      "100%|██████████| 49/49 [00:00<00:00, 368.88it/s]\n"
     ]
    },
    {
     "name": "stdout",
     "output_type": "stream",
     "text": [
      "--- 0.14277863502502441 seconds for solution baseline ---\n",
      "initial solution\n"
     ]
    },
    {
     "name": "stderr",
     "output_type": "stream",
     "text": [
      "100%|██████████| 49/49 [00:00<00:00, 355.23it/s]\n"
     ]
    },
    {
     "name": "stdout",
     "output_type": "stream",
     "text": [
      "--- 0.15047979354858398 seconds for solution baseline ---\n",
      "initial solution\n"
     ]
    },
    {
     "name": "stderr",
     "output_type": "stream",
     "text": [
      "100%|██████████| 49/49 [00:00<00:00, 342.67it/s]\n"
     ]
    },
    {
     "name": "stdout",
     "output_type": "stream",
     "text": [
      "--- 0.15476012229919434 seconds for solution baseline ---\n",
      "initial solution\n"
     ]
    },
    {
     "name": "stderr",
     "output_type": "stream",
     "text": [
      "100%|██████████| 49/49 [00:00<00:00, 311.40it/s]\n"
     ]
    },
    {
     "name": "stdout",
     "output_type": "stream",
     "text": [
      "--- 0.16673040390014648 seconds for solution baseline ---\n",
      "initial solution\n"
     ]
    },
    {
     "name": "stderr",
     "output_type": "stream",
     "text": [
      "100%|██████████| 49/49 [00:00<00:00, 329.00it/s]"
     ]
    },
    {
     "name": "stdout",
     "output_type": "stream",
     "text": [
      "--- 0.1591627597808838 seconds for solution baseline ---\n",
      "initial solution\n"
     ]
    },
    {
     "name": "stderr",
     "output_type": "stream",
     "text": [
      "\n",
      "100%|██████████| 49/49 [00:00<00:00, 337.65it/s]\n"
     ]
    },
    {
     "name": "stdout",
     "output_type": "stream",
     "text": [
      "--- 0.1557023525238037 seconds for solution baseline ---\n",
      "initial solution\n"
     ]
    },
    {
     "name": "stderr",
     "output_type": "stream",
     "text": [
      "100%|██████████| 49/49 [00:00<00:00, 357.63it/s]\n"
     ]
    },
    {
     "name": "stdout",
     "output_type": "stream",
     "text": [
      "--- 0.14879393577575684 seconds for solution baseline ---\n",
      "initial solution\n"
     ]
    },
    {
     "name": "stderr",
     "output_type": "stream",
     "text": [
      "100%|██████████| 49/49 [00:00<00:00, 315.59it/s]\n"
     ]
    },
    {
     "name": "stdout",
     "output_type": "stream",
     "text": [
      "--- 0.16531777381896973 seconds for solution baseline ---\n",
      "initial solution\n"
     ]
    },
    {
     "name": "stderr",
     "output_type": "stream",
     "text": [
      "100%|██████████| 49/49 [00:00<00:00, 222.66it/s]\n"
     ]
    },
    {
     "name": "stdout",
     "output_type": "stream",
     "text": [
      "--- 0.4197719097137451 seconds for solution baseline ---\n",
      "initial solution\n"
     ]
    },
    {
     "name": "stderr",
     "output_type": "stream",
     "text": [
      "100%|██████████| 50/50 [00:00<00:00, 211.97it/s]\n"
     ]
    },
    {
     "name": "stdout",
     "output_type": "stream",
     "text": [
      "--- 0.25288891792297363 seconds for solution baseline ---\n",
      "initial solution\n"
     ]
    },
    {
     "name": "stderr",
     "output_type": "stream",
     "text": [
      "100%|██████████| 50/50 [00:00<00:00, 178.98it/s]\n"
     ]
    },
    {
     "name": "stdout",
     "output_type": "stream",
     "text": [
      "--- 0.29947519302368164 seconds for solution baseline ---\n",
      "initial solution\n"
     ]
    },
    {
     "name": "stderr",
     "output_type": "stream",
     "text": [
      "100%|██████████| 50/50 [00:00<00:00, 183.72it/s]\n"
     ]
    },
    {
     "name": "stdout",
     "output_type": "stream",
     "text": [
      "--- 0.28884124755859375 seconds for solution baseline ---\n",
      "initial solution\n"
     ]
    },
    {
     "name": "stderr",
     "output_type": "stream",
     "text": [
      "100%|██████████| 50/50 [00:00<00:00, 202.21it/s]\n"
     ]
    },
    {
     "name": "stdout",
     "output_type": "stream",
     "text": [
      "--- 0.2629513740539551 seconds for solution baseline ---\n",
      "initial solution\n"
     ]
    },
    {
     "name": "stderr",
     "output_type": "stream",
     "text": [
      "100%|██████████| 50/50 [00:00<00:00, 200.44it/s]\n"
     ]
    },
    {
     "name": "stdout",
     "output_type": "stream",
     "text": [
      "--- 0.2640841007232666 seconds for solution baseline ---\n",
      "initial solution\n"
     ]
    },
    {
     "name": "stderr",
     "output_type": "stream",
     "text": [
      "100%|██████████| 50/50 [00:00<00:00, 202.57it/s]\n"
     ]
    },
    {
     "name": "stdout",
     "output_type": "stream",
     "text": [
      "--- 0.2638852596282959 seconds for solution baseline ---\n",
      "initial solution\n"
     ]
    },
    {
     "name": "stderr",
     "output_type": "stream",
     "text": [
      "100%|██████████| 50/50 [00:00<00:00, 197.25it/s]\n"
     ]
    },
    {
     "name": "stdout",
     "output_type": "stream",
     "text": [
      "--- 0.2700307369232178 seconds for solution baseline ---\n",
      "initial solution\n"
     ]
    },
    {
     "name": "stderr",
     "output_type": "stream",
     "text": [
      "100%|██████████| 50/50 [00:00<00:00, 211.08it/s]\n"
     ]
    },
    {
     "name": "stdout",
     "output_type": "stream",
     "text": [
      "--- 0.2518799304962158 seconds for solution baseline ---\n",
      "initial solution\n"
     ]
    },
    {
     "name": "stderr",
     "output_type": "stream",
     "text": [
      "100%|██████████| 50/50 [00:00<00:00, 207.96it/s]\n"
     ]
    },
    {
     "name": "stdout",
     "output_type": "stream",
     "text": [
      "--- 0.2564377784729004 seconds for solution baseline ---\n",
      "initial solution\n"
     ]
    },
    {
     "name": "stderr",
     "output_type": "stream",
     "text": [
      "100%|██████████| 50/50 [00:00<00:00, 227.57it/s]\n"
     ]
    },
    {
     "name": "stdout",
     "output_type": "stream",
     "text": [
      "--- 0.23336458206176758 seconds for solution baseline ---\n",
      "initial solution\n"
     ]
    },
    {
     "name": "stderr",
     "output_type": "stream",
     "text": [
      "100%|██████████| 51/51 [00:00<00:00, 201.81it/s]\n"
     ]
    },
    {
     "name": "stdout",
     "output_type": "stream",
     "text": [
      "--- 0.26972365379333496 seconds for solution baseline ---\n",
      "initial solution\n"
     ]
    },
    {
     "name": "stderr",
     "output_type": "stream",
     "text": [
      "100%|██████████| 51/51 [00:00<00:00, 212.79it/s]\n"
     ]
    },
    {
     "name": "stdout",
     "output_type": "stream",
     "text": [
      "--- 0.25667858123779297 seconds for solution baseline ---\n",
      "initial solution\n"
     ]
    },
    {
     "name": "stderr",
     "output_type": "stream",
     "text": [
      "100%|██████████| 51/51 [00:00<00:00, 191.36it/s]\n"
     ]
    },
    {
     "name": "stdout",
     "output_type": "stream",
     "text": [
      "--- 0.2820241451263428 seconds for solution baseline ---\n",
      "initial solution\n"
     ]
    },
    {
     "name": "stderr",
     "output_type": "stream",
     "text": [
      "100%|██████████| 51/51 [00:00<00:00, 195.01it/s]\n"
     ]
    },
    {
     "name": "stdout",
     "output_type": "stream",
     "text": [
      "--- 0.27718257904052734 seconds for solution baseline ---\n",
      "initial solution\n"
     ]
    },
    {
     "name": "stderr",
     "output_type": "stream",
     "text": [
      "100%|██████████| 51/51 [00:00<00:00, 204.46it/s]\n"
     ]
    },
    {
     "name": "stdout",
     "output_type": "stream",
     "text": [
      "--- 0.266129732131958 seconds for solution baseline ---\n",
      "initial solution\n"
     ]
    },
    {
     "name": "stderr",
     "output_type": "stream",
     "text": [
      "100%|██████████| 51/51 [00:00<00:00, 191.49it/s]\n"
     ]
    },
    {
     "name": "stdout",
     "output_type": "stream",
     "text": [
      "--- 0.27997541427612305 seconds for solution baseline ---\n",
      "initial solution\n"
     ]
    },
    {
     "name": "stderr",
     "output_type": "stream",
     "text": [
      "100%|██████████| 51/51 [00:00<00:00, 204.26it/s]\n"
     ]
    },
    {
     "name": "stdout",
     "output_type": "stream",
     "text": [
      "--- 0.2663393020629883 seconds for solution baseline ---\n",
      "initial solution\n"
     ]
    },
    {
     "name": "stderr",
     "output_type": "stream",
     "text": [
      "100%|██████████| 51/51 [00:00<00:00, 161.66it/s]\n"
     ]
    },
    {
     "name": "stdout",
     "output_type": "stream",
     "text": [
      "--- 0.33366966247558594 seconds for solution baseline ---\n",
      "initial solution\n"
     ]
    },
    {
     "name": "stderr",
     "output_type": "stream",
     "text": [
      "100%|██████████| 51/51 [00:00<00:00, 182.89it/s]\n"
     ]
    },
    {
     "name": "stdout",
     "output_type": "stream",
     "text": [
      "--- 0.29917335510253906 seconds for solution baseline ---\n",
      "initial solution\n"
     ]
    },
    {
     "name": "stderr",
     "output_type": "stream",
     "text": [
      "100%|██████████| 51/51 [00:00<00:00, 145.98it/s]\n"
     ]
    },
    {
     "name": "stdout",
     "output_type": "stream",
     "text": [
      "--- 0.36603355407714844 seconds for solution baseline ---\n",
      "initial solution\n"
     ]
    },
    {
     "name": "stderr",
     "output_type": "stream",
     "text": [
      "100%|██████████| 52/52 [00:00<00:00, 169.08it/s]\n"
     ]
    },
    {
     "name": "stdout",
     "output_type": "stream",
     "text": [
      "--- 0.5329475402832031 seconds for solution baseline ---\n",
      "initial solution\n"
     ]
    },
    {
     "name": "stderr",
     "output_type": "stream",
     "text": [
      "100%|██████████| 52/52 [00:00<00:00, 186.36it/s]\n"
     ]
    },
    {
     "name": "stdout",
     "output_type": "stream",
     "text": [
      "--- 0.2950301170349121 seconds for solution baseline ---\n",
      "initial solution\n"
     ]
    },
    {
     "name": "stderr",
     "output_type": "stream",
     "text": [
      "100%|██████████| 52/52 [00:00<00:00, 192.55it/s]\n"
     ]
    },
    {
     "name": "stdout",
     "output_type": "stream",
     "text": [
      "--- 0.28725171089172363 seconds for solution baseline ---\n",
      "initial solution\n"
     ]
    },
    {
     "name": "stderr",
     "output_type": "stream",
     "text": [
      "100%|██████████| 52/52 [00:00<00:00, 179.18it/s]\n"
     ]
    },
    {
     "name": "stdout",
     "output_type": "stream",
     "text": [
      "--- 0.3081386089324951 seconds for solution baseline ---\n",
      "initial solution\n"
     ]
    },
    {
     "name": "stderr",
     "output_type": "stream",
     "text": [
      "100%|██████████| 52/52 [00:00<00:00, 178.35it/s]\n"
     ]
    },
    {
     "name": "stdout",
     "output_type": "stream",
     "text": [
      "--- 0.30932092666625977 seconds for solution baseline ---\n",
      "initial solution\n"
     ]
    },
    {
     "name": "stderr",
     "output_type": "stream",
     "text": [
      "100%|██████████| 52/52 [00:00<00:00, 179.50it/s]\n"
     ]
    },
    {
     "name": "stdout",
     "output_type": "stream",
     "text": [
      "--- 0.30559444427490234 seconds for solution baseline ---\n",
      "initial solution\n"
     ]
    },
    {
     "name": "stderr",
     "output_type": "stream",
     "text": [
      "100%|██████████| 52/52 [00:00<00:00, 204.95it/s]\n"
     ]
    },
    {
     "name": "stdout",
     "output_type": "stream",
     "text": [
      "--- 0.27156877517700195 seconds for solution baseline ---\n",
      "initial solution\n"
     ]
    },
    {
     "name": "stderr",
     "output_type": "stream",
     "text": [
      "100%|██████████| 52/52 [00:00<00:00, 186.34it/s]\n"
     ]
    },
    {
     "name": "stdout",
     "output_type": "stream",
     "text": [
      "--- 0.2955973148345947 seconds for solution baseline ---\n",
      "initial solution\n"
     ]
    },
    {
     "name": "stderr",
     "output_type": "stream",
     "text": [
      "100%|██████████| 52/52 [00:00<00:00, 194.26it/s]\n"
     ]
    },
    {
     "name": "stdout",
     "output_type": "stream",
     "text": [
      "--- 0.28377223014831543 seconds for solution baseline ---\n",
      "initial solution\n"
     ]
    },
    {
     "name": "stderr",
     "output_type": "stream",
     "text": [
      "100%|██████████| 52/52 [00:00<00:00, 189.03it/s]\n"
     ]
    },
    {
     "name": "stdout",
     "output_type": "stream",
     "text": [
      "--- 0.29207777976989746 seconds for solution baseline ---\n",
      "initial solution\n"
     ]
    },
    {
     "name": "stderr",
     "output_type": "stream",
     "text": [
      "100%|██████████| 53/53 [00:00<00:00, 188.19it/s]\n"
     ]
    },
    {
     "name": "stdout",
     "output_type": "stream",
     "text": [
      "--- 0.2976396083831787 seconds for solution baseline ---\n",
      "initial solution\n"
     ]
    },
    {
     "name": "stderr",
     "output_type": "stream",
     "text": [
      "100%|██████████| 53/53 [00:00<00:00, 176.41it/s]\n"
     ]
    },
    {
     "name": "stdout",
     "output_type": "stream",
     "text": [
      "--- 0.31711816787719727 seconds for solution baseline ---\n",
      "initial solution\n"
     ]
    },
    {
     "name": "stderr",
     "output_type": "stream",
     "text": [
      "100%|██████████| 53/53 [00:00<00:00, 180.20it/s]\n"
     ]
    },
    {
     "name": "stdout",
     "output_type": "stream",
     "text": [
      "--- 0.3128371238708496 seconds for solution baseline ---\n",
      "initial solution\n"
     ]
    },
    {
     "name": "stderr",
     "output_type": "stream",
     "text": [
      "100%|██████████| 53/53 [00:00<00:00, 180.53it/s]\n"
     ]
    },
    {
     "name": "stdout",
     "output_type": "stream",
     "text": [
      "--- 0.31057119369506836 seconds for solution baseline ---\n",
      "initial solution\n"
     ]
    },
    {
     "name": "stderr",
     "output_type": "stream",
     "text": [
      "100%|██████████| 53/53 [00:00<00:00, 178.75it/s]\n"
     ]
    },
    {
     "name": "stdout",
     "output_type": "stream",
     "text": [
      "--- 0.3138296604156494 seconds for solution baseline ---\n",
      "initial solution\n"
     ]
    },
    {
     "name": "stderr",
     "output_type": "stream",
     "text": [
      "100%|██████████| 53/53 [00:00<00:00, 187.64it/s]\n"
     ]
    },
    {
     "name": "stdout",
     "output_type": "stream",
     "text": [
      "--- 0.2979731559753418 seconds for solution baseline ---\n",
      "initial solution\n"
     ]
    },
    {
     "name": "stderr",
     "output_type": "stream",
     "text": [
      "100%|██████████| 53/53 [00:00<00:00, 184.48it/s]\n"
     ]
    },
    {
     "name": "stdout",
     "output_type": "stream",
     "text": [
      "--- 0.30243849754333496 seconds for solution baseline ---\n",
      "initial solution\n"
     ]
    },
    {
     "name": "stderr",
     "output_type": "stream",
     "text": [
      "100%|██████████| 53/53 [00:00<00:00, 183.37it/s]\n"
     ]
    },
    {
     "name": "stdout",
     "output_type": "stream",
     "text": [
      "--- 0.30766844749450684 seconds for solution baseline ---\n",
      "initial solution\n"
     ]
    },
    {
     "name": "stderr",
     "output_type": "stream",
     "text": [
      "100%|██████████| 53/53 [00:00<00:00, 109.26it/s]\n"
     ]
    },
    {
     "name": "stdout",
     "output_type": "stream",
     "text": [
      "--- 0.5078184604644775 seconds for solution baseline ---\n",
      "initial solution\n"
     ]
    },
    {
     "name": "stderr",
     "output_type": "stream",
     "text": [
      "100%|██████████| 53/53 [00:00<00:00, 176.04it/s]\n"
     ]
    },
    {
     "name": "stdout",
     "output_type": "stream",
     "text": [
      "--- 0.3187549114227295 seconds for solution baseline ---\n",
      "initial solution\n"
     ]
    },
    {
     "name": "stderr",
     "output_type": "stream",
     "text": [
      "100%|██████████| 54/54 [00:00<00:00, 174.31it/s]\n"
     ]
    },
    {
     "name": "stdout",
     "output_type": "stream",
     "text": [
      "--- 0.3257439136505127 seconds for solution baseline ---\n",
      "initial solution\n"
     ]
    },
    {
     "name": "stderr",
     "output_type": "stream",
     "text": [
      "100%|██████████| 54/54 [00:00<00:00, 186.00it/s]\n"
     ]
    },
    {
     "name": "stdout",
     "output_type": "stream",
     "text": [
      "--- 0.30760884284973145 seconds for solution baseline ---\n",
      "initial solution\n"
     ]
    },
    {
     "name": "stderr",
     "output_type": "stream",
     "text": [
      "100%|██████████| 54/54 [00:00<00:00, 176.96it/s]\n"
     ]
    },
    {
     "name": "stdout",
     "output_type": "stream",
     "text": [
      "--- 0.3226945400238037 seconds for solution baseline ---\n",
      "initial solution\n"
     ]
    },
    {
     "name": "stderr",
     "output_type": "stream",
     "text": [
      "100%|██████████| 54/54 [00:00<00:00, 185.74it/s]\n"
     ]
    },
    {
     "name": "stdout",
     "output_type": "stream",
     "text": [
      "--- 0.30938076972961426 seconds for solution baseline ---\n",
      "initial solution\n"
     ]
    },
    {
     "name": "stderr",
     "output_type": "stream",
     "text": [
      "100%|██████████| 54/54 [00:00<00:00, 163.47it/s]\n"
     ]
    },
    {
     "name": "stdout",
     "output_type": "stream",
     "text": [
      "--- 0.3482325077056885 seconds for solution baseline ---\n",
      "initial solution\n"
     ]
    },
    {
     "name": "stderr",
     "output_type": "stream",
     "text": [
      "100%|██████████| 54/54 [00:00<00:00, 171.13it/s]\n"
     ]
    },
    {
     "name": "stdout",
     "output_type": "stream",
     "text": [
      "--- 0.33258485794067383 seconds for solution baseline ---\n",
      "initial solution\n"
     ]
    },
    {
     "name": "stderr",
     "output_type": "stream",
     "text": [
      "100%|██████████| 54/54 [00:00<00:00, 175.40it/s]\n"
     ]
    },
    {
     "name": "stdout",
     "output_type": "stream",
     "text": [
      "--- 0.32552528381347656 seconds for solution baseline ---\n",
      "initial solution\n"
     ]
    },
    {
     "name": "stderr",
     "output_type": "stream",
     "text": [
      "100%|██████████| 54/54 [00:00<00:00, 190.72it/s]\n"
     ]
    },
    {
     "name": "stdout",
     "output_type": "stream",
     "text": [
      "--- 0.30074453353881836 seconds for solution baseline ---\n",
      "initial solution\n"
     ]
    },
    {
     "name": "stderr",
     "output_type": "stream",
     "text": [
      "100%|██████████| 54/54 [00:00<00:00, 154.86it/s]\n"
     ]
    },
    {
     "name": "stdout",
     "output_type": "stream",
     "text": [
      "--- 0.3653559684753418 seconds for solution baseline ---\n",
      "initial solution\n"
     ]
    },
    {
     "name": "stderr",
     "output_type": "stream",
     "text": [
      "100%|██████████| 54/54 [00:00<00:00, 153.17it/s]\n"
     ]
    },
    {
     "name": "stdout",
     "output_type": "stream",
     "text": [
      "--- 0.3708503246307373 seconds for solution baseline ---\n",
      "initial solution\n"
     ]
    },
    {
     "name": "stderr",
     "output_type": "stream",
     "text": [
      "100%|██████████| 55/55 [00:00<00:00, 153.27it/s]\n"
     ]
    },
    {
     "name": "stdout",
     "output_type": "stream",
     "text": [
      "--- 0.3785250186920166 seconds for solution baseline ---\n",
      "initial solution\n"
     ]
    },
    {
     "name": "stderr",
     "output_type": "stream",
     "text": [
      "100%|██████████| 55/55 [00:00<00:00, 160.22it/s]\n"
     ]
    },
    {
     "name": "stdout",
     "output_type": "stream",
     "text": [
      "--- 0.3606116771697998 seconds for solution baseline ---\n",
      "initial solution\n"
     ]
    },
    {
     "name": "stderr",
     "output_type": "stream",
     "text": [
      "100%|██████████| 55/55 [00:00<00:00, 168.11it/s]\n"
     ]
    },
    {
     "name": "stdout",
     "output_type": "stream",
     "text": [
      "--- 0.3438119888305664 seconds for solution baseline ---\n",
      "initial solution\n"
     ]
    },
    {
     "name": "stderr",
     "output_type": "stream",
     "text": [
      "100%|██████████| 55/55 [00:00<00:00, 152.95it/s]\n"
     ]
    },
    {
     "name": "stdout",
     "output_type": "stream",
     "text": [
      "--- 0.37900686264038086 seconds for solution baseline ---\n",
      "initial solution\n"
     ]
    },
    {
     "name": "stderr",
     "output_type": "stream",
     "text": [
      "100%|██████████| 55/55 [00:00<00:00, 123.76it/s]\n"
     ]
    },
    {
     "name": "stdout",
     "output_type": "stream",
     "text": [
      "--- 0.4627106189727783 seconds for solution baseline ---\n",
      "initial solution\n"
     ]
    },
    {
     "name": "stderr",
     "output_type": "stream",
     "text": [
      "100%|██████████| 55/55 [00:00<00:00, 150.11it/s]\n"
     ]
    },
    {
     "name": "stdout",
     "output_type": "stream",
     "text": [
      "--- 0.5925147533416748 seconds for solution baseline ---\n",
      "initial solution\n"
     ]
    },
    {
     "name": "stderr",
     "output_type": "stream",
     "text": [
      "100%|██████████| 55/55 [00:00<00:00, 136.69it/s]\n"
     ]
    },
    {
     "name": "stdout",
     "output_type": "stream",
     "text": [
      "--- 0.4230639934539795 seconds for solution baseline ---\n",
      "initial solution\n"
     ]
    },
    {
     "name": "stderr",
     "output_type": "stream",
     "text": [
      "100%|██████████| 55/55 [00:00<00:00, 150.88it/s]\n"
     ]
    },
    {
     "name": "stdout",
     "output_type": "stream",
     "text": [
      "--- 0.3823864459991455 seconds for solution baseline ---\n",
      "initial solution\n"
     ]
    },
    {
     "name": "stderr",
     "output_type": "stream",
     "text": [
      "100%|██████████| 55/55 [00:00<00:00, 151.73it/s]\n"
     ]
    },
    {
     "name": "stdout",
     "output_type": "stream",
     "text": [
      "--- 0.3843111991882324 seconds for solution baseline ---\n",
      "initial solution\n"
     ]
    },
    {
     "name": "stderr",
     "output_type": "stream",
     "text": [
      "100%|██████████| 55/55 [00:00<00:00, 158.87it/s]\n"
     ]
    },
    {
     "name": "stdout",
     "output_type": "stream",
     "text": [
      "--- 0.3640255928039551 seconds for solution baseline ---\n",
      "initial solution\n"
     ]
    },
    {
     "name": "stderr",
     "output_type": "stream",
     "text": [
      "100%|██████████| 56/56 [00:00<00:00, 256.77it/s]\n"
     ]
    },
    {
     "name": "stdout",
     "output_type": "stream",
     "text": [
      "--- 0.2300577163696289 seconds for solution baseline ---\n",
      "initial solution\n"
     ]
    },
    {
     "name": "stderr",
     "output_type": "stream",
     "text": [
      "100%|██████████| 56/56 [00:00<00:00, 246.81it/s]\n"
     ]
    },
    {
     "name": "stdout",
     "output_type": "stream",
     "text": [
      "--- 0.2483506202697754 seconds for solution baseline ---\n",
      "initial solution\n"
     ]
    },
    {
     "name": "stderr",
     "output_type": "stream",
     "text": [
      "100%|██████████| 56/56 [00:00<00:00, 243.65it/s]\n"
     ]
    },
    {
     "name": "stdout",
     "output_type": "stream",
     "text": [
      "--- 0.25038647651672363 seconds for solution baseline ---\n",
      "initial solution\n"
     ]
    },
    {
     "name": "stderr",
     "output_type": "stream",
     "text": [
      "100%|██████████| 56/56 [00:00<00:00, 247.40it/s]\n"
     ]
    },
    {
     "name": "stdout",
     "output_type": "stream",
     "text": [
      "--- 0.24146437644958496 seconds for solution baseline ---\n",
      "initial solution\n"
     ]
    },
    {
     "name": "stderr",
     "output_type": "stream",
     "text": [
      "100%|██████████| 56/56 [00:00<00:00, 205.35it/s]\n"
     ]
    },
    {
     "name": "stdout",
     "output_type": "stream",
     "text": [
      "--- 0.28707337379455566 seconds for solution baseline ---\n",
      "initial solution\n"
     ]
    },
    {
     "name": "stderr",
     "output_type": "stream",
     "text": [
      "100%|██████████| 56/56 [00:00<00:00, 215.12it/s]\n"
     ]
    },
    {
     "name": "stdout",
     "output_type": "stream",
     "text": [
      "--- 0.27381277084350586 seconds for solution baseline ---\n",
      "initial solution\n"
     ]
    },
    {
     "name": "stderr",
     "output_type": "stream",
     "text": [
      "100%|██████████| 56/56 [00:00<00:00, 244.56it/s]\n"
     ]
    },
    {
     "name": "stdout",
     "output_type": "stream",
     "text": [
      "--- 0.24268341064453125 seconds for solution baseline ---\n",
      "initial solution\n"
     ]
    },
    {
     "name": "stderr",
     "output_type": "stream",
     "text": [
      "100%|██████████| 56/56 [00:00<00:00, 243.12it/s]\n"
     ]
    },
    {
     "name": "stdout",
     "output_type": "stream",
     "text": [
      "--- 0.24221301078796387 seconds for solution baseline ---\n",
      "initial solution\n"
     ]
    },
    {
     "name": "stderr",
     "output_type": "stream",
     "text": [
      "100%|██████████| 56/56 [00:00<00:00, 261.85it/s]\n"
     ]
    },
    {
     "name": "stdout",
     "output_type": "stream",
     "text": [
      "--- 0.22639894485473633 seconds for solution baseline ---\n",
      "initial solution\n"
     ]
    },
    {
     "name": "stderr",
     "output_type": "stream",
     "text": [
      "100%|██████████| 56/56 [00:00<00:00, 146.18it/s]\n"
     ]
    },
    {
     "name": "stdout",
     "output_type": "stream",
     "text": [
      "--- 0.3981010913848877 seconds for solution baseline ---\n",
      "initial solution\n"
     ]
    },
    {
     "name": "stderr",
     "output_type": "stream",
     "text": [
      "100%|██████████| 57/57 [00:00<00:00, 232.84it/s]\n"
     ]
    },
    {
     "name": "stdout",
     "output_type": "stream",
     "text": [
      "--- 0.245805025100708 seconds for solution baseline ---\n",
      "initial solution\n"
     ]
    },
    {
     "name": "stderr",
     "output_type": "stream",
     "text": [
      "100%|██████████| 57/57 [00:00<00:00, 226.27it/s]\n"
     ]
    },
    {
     "name": "stdout",
     "output_type": "stream",
     "text": [
      "--- 0.2675659656524658 seconds for solution baseline ---\n",
      "initial solution\n"
     ]
    },
    {
     "name": "stderr",
     "output_type": "stream",
     "text": [
      "100%|██████████| 57/57 [00:00<00:00, 256.12it/s]\n"
     ]
    },
    {
     "name": "stdout",
     "output_type": "stream",
     "text": [
      "--- 0.2365858554840088 seconds for solution baseline ---\n",
      "initial solution\n"
     ]
    },
    {
     "name": "stderr",
     "output_type": "stream",
     "text": [
      "100%|██████████| 57/57 [00:00<00:00, 213.11it/s]\n"
     ]
    },
    {
     "name": "stdout",
     "output_type": "stream",
     "text": [
      "--- 0.2830936908721924 seconds for solution baseline ---\n",
      "initial solution\n"
     ]
    },
    {
     "name": "stderr",
     "output_type": "stream",
     "text": [
      "100%|██████████| 57/57 [00:00<00:00, 226.69it/s]\n"
     ]
    },
    {
     "name": "stdout",
     "output_type": "stream",
     "text": [
      "--- 0.2724623680114746 seconds for solution baseline ---\n",
      "initial solution\n"
     ]
    },
    {
     "name": "stderr",
     "output_type": "stream",
     "text": [
      "100%|██████████| 57/57 [00:00<00:00, 234.09it/s]\n"
     ]
    },
    {
     "name": "stdout",
     "output_type": "stream",
     "text": [
      "--- 0.2644057273864746 seconds for solution baseline ---\n",
      "initial solution\n"
     ]
    },
    {
     "name": "stderr",
     "output_type": "stream",
     "text": [
      "100%|██████████| 57/57 [00:00<00:00, 226.06it/s]\n"
     ]
    },
    {
     "name": "stdout",
     "output_type": "stream",
     "text": [
      "--- 0.27306389808654785 seconds for solution baseline ---\n",
      "initial solution\n"
     ]
    },
    {
     "name": "stderr",
     "output_type": "stream",
     "text": [
      "100%|██████████| 57/57 [00:00<00:00, 225.58it/s]\n"
     ]
    },
    {
     "name": "stdout",
     "output_type": "stream",
     "text": [
      "--- 0.2683093547821045 seconds for solution baseline ---\n",
      "initial solution\n"
     ]
    },
    {
     "name": "stderr",
     "output_type": "stream",
     "text": [
      "100%|██████████| 57/57 [00:00<00:00, 230.92it/s]\n"
     ]
    },
    {
     "name": "stdout",
     "output_type": "stream",
     "text": [
      "--- 0.26248860359191895 seconds for solution baseline ---\n",
      "initial solution\n"
     ]
    },
    {
     "name": "stderr",
     "output_type": "stream",
     "text": [
      "100%|██████████| 57/57 [00:00<00:00, 245.42it/s]\n"
     ]
    },
    {
     "name": "stdout",
     "output_type": "stream",
     "text": [
      "--- 0.2501227855682373 seconds for solution baseline ---\n",
      "initial solution\n"
     ]
    },
    {
     "name": "stderr",
     "output_type": "stream",
     "text": [
      "100%|██████████| 58/58 [00:00<00:00, 230.71it/s]\n"
     ]
    },
    {
     "name": "stdout",
     "output_type": "stream",
     "text": [
      "--- 0.2574462890625 seconds for solution baseline ---\n",
      "initial solution\n"
     ]
    },
    {
     "name": "stderr",
     "output_type": "stream",
     "text": [
      "100%|██████████| 58/58 [00:00<00:00, 128.54it/s]\n"
     ]
    },
    {
     "name": "stdout",
     "output_type": "stream",
     "text": [
      "--- 0.468123197555542 seconds for solution baseline ---\n",
      "initial solution\n"
     ]
    },
    {
     "name": "stderr",
     "output_type": "stream",
     "text": [
      "100%|██████████| 58/58 [00:00<00:00, 216.70it/s]\n"
     ]
    },
    {
     "name": "stdout",
     "output_type": "stream",
     "text": [
      "--- 0.28106689453125 seconds for solution baseline ---\n",
      "initial solution\n"
     ]
    },
    {
     "name": "stderr",
     "output_type": "stream",
     "text": [
      "100%|██████████| 58/58 [00:00<00:00, 209.12it/s]\n"
     ]
    },
    {
     "name": "stdout",
     "output_type": "stream",
     "text": [
      "--- 0.2928154468536377 seconds for solution baseline ---\n",
      "initial solution\n"
     ]
    },
    {
     "name": "stderr",
     "output_type": "stream",
     "text": [
      "100%|██████████| 58/58 [00:00<00:00, 214.10it/s]\n"
     ]
    },
    {
     "name": "stdout",
     "output_type": "stream",
     "text": [
      "--- 0.2850382328033447 seconds for solution baseline ---\n",
      "initial solution\n"
     ]
    },
    {
     "name": "stderr",
     "output_type": "stream",
     "text": [
      "100%|██████████| 58/58 [00:00<00:00, 224.10it/s]\n"
     ]
    },
    {
     "name": "stdout",
     "output_type": "stream",
     "text": [
      "--- 0.271803617477417 seconds for solution baseline ---\n",
      "initial solution\n"
     ]
    },
    {
     "name": "stderr",
     "output_type": "stream",
     "text": [
      "100%|██████████| 58/58 [00:00<00:00, 213.92it/s]\n"
     ]
    },
    {
     "name": "stdout",
     "output_type": "stream",
     "text": [
      "--- 0.28514814376831055 seconds for solution baseline ---\n",
      "initial solution\n"
     ]
    },
    {
     "name": "stderr",
     "output_type": "stream",
     "text": [
      "100%|██████████| 58/58 [00:00<00:00, 219.37it/s]\n"
     ]
    },
    {
     "name": "stdout",
     "output_type": "stream",
     "text": [
      "--- 0.27770042419433594 seconds for solution baseline ---\n",
      "initial solution\n"
     ]
    },
    {
     "name": "stderr",
     "output_type": "stream",
     "text": [
      "100%|██████████| 58/58 [00:00<00:00, 226.03it/s]\n"
     ]
    },
    {
     "name": "stdout",
     "output_type": "stream",
     "text": [
      "--- 0.2705552577972412 seconds for solution baseline ---\n",
      "initial solution\n"
     ]
    },
    {
     "name": "stderr",
     "output_type": "stream",
     "text": [
      "100%|██████████| 58/58 [00:00<00:00, 225.51it/s]\n"
     ]
    },
    {
     "name": "stdout",
     "output_type": "stream",
     "text": [
      "--- 0.2712693214416504 seconds for solution baseline ---\n",
      "initial solution\n"
     ]
    },
    {
     "name": "stderr",
     "output_type": "stream",
     "text": [
      "100%|██████████| 59/59 [00:00<00:00, 197.27it/s]\n"
     ]
    },
    {
     "name": "stdout",
     "output_type": "stream",
     "text": [
      "--- 0.31401586532592773 seconds for solution baseline ---\n",
      "initial solution\n"
     ]
    },
    {
     "name": "stderr",
     "output_type": "stream",
     "text": [
      "100%|██████████| 59/59 [00:00<00:00, 217.43it/s]\n"
     ]
    },
    {
     "name": "stdout",
     "output_type": "stream",
     "text": [
      "--- 0.285275936126709 seconds for solution baseline ---\n",
      "initial solution\n"
     ]
    },
    {
     "name": "stderr",
     "output_type": "stream",
     "text": [
      "100%|██████████| 59/59 [00:00<00:00, 212.00it/s]\n"
     ]
    },
    {
     "name": "stdout",
     "output_type": "stream",
     "text": [
      "--- 0.29212164878845215 seconds for solution baseline ---\n",
      "initial solution\n"
     ]
    },
    {
     "name": "stderr",
     "output_type": "stream",
     "text": [
      "100%|██████████| 59/59 [00:00<00:00, 192.57it/s]\n"
     ]
    },
    {
     "name": "stdout",
     "output_type": "stream",
     "text": [
      "--- 0.46616411209106445 seconds for solution baseline ---\n",
      "initial solution\n"
     ]
    },
    {
     "name": "stderr",
     "output_type": "stream",
     "text": [
      "100%|██████████| 59/59 [00:00<00:00, 206.49it/s]\n"
     ]
    },
    {
     "name": "stdout",
     "output_type": "stream",
     "text": [
      "--- 0.2989175319671631 seconds for solution baseline ---\n",
      "initial solution\n"
     ]
    },
    {
     "name": "stderr",
     "output_type": "stream",
     "text": [
      "100%|██████████| 59/59 [00:00<00:00, 223.30it/s]\n"
     ]
    },
    {
     "name": "stdout",
     "output_type": "stream",
     "text": [
      "--- 0.2718222141265869 seconds for solution baseline ---\n",
      "initial solution\n"
     ]
    },
    {
     "name": "stderr",
     "output_type": "stream",
     "text": [
      "100%|██████████| 59/59 [00:00<00:00, 207.42it/s]\n"
     ]
    },
    {
     "name": "stdout",
     "output_type": "stream",
     "text": [
      "--- 0.2990682125091553 seconds for solution baseline ---\n",
      "initial solution\n"
     ]
    },
    {
     "name": "stderr",
     "output_type": "stream",
     "text": [
      "100%|██████████| 59/59 [00:00<00:00, 222.05it/s]\n"
     ]
    },
    {
     "name": "stdout",
     "output_type": "stream",
     "text": [
      "--- 0.27956676483154297 seconds for solution baseline ---\n",
      "initial solution\n"
     ]
    },
    {
     "name": "stderr",
     "output_type": "stream",
     "text": [
      "100%|██████████| 59/59 [00:00<00:00, 223.17it/s]\n"
     ]
    },
    {
     "name": "stdout",
     "output_type": "stream",
     "text": [
      "--- 0.2794530391693115 seconds for solution baseline ---\n",
      "initial solution\n"
     ]
    },
    {
     "name": "stderr",
     "output_type": "stream",
     "text": [
      "100%|██████████| 59/59 [00:00<00:00, 207.49it/s]\n"
     ]
    },
    {
     "name": "stdout",
     "output_type": "stream",
     "text": [
      "--- 0.292374849319458 seconds for solution baseline ---\n",
      "initial solution\n"
     ]
    },
    {
     "name": "stderr",
     "output_type": "stream",
     "text": [
      "100%|██████████| 60/60 [00:00<00:00, 222.37it/s]\n"
     ]
    },
    {
     "name": "stdout",
     "output_type": "stream",
     "text": [
      "--- 0.30109286308288574 seconds for solution baseline ---\n",
      "initial solution\n"
     ]
    },
    {
     "name": "stderr",
     "output_type": "stream",
     "text": [
      "100%|██████████| 60/60 [00:00<00:00, 213.58it/s]\n"
     ]
    },
    {
     "name": "stdout",
     "output_type": "stream",
     "text": [
      "--- 0.2969646453857422 seconds for solution baseline ---\n",
      "initial solution\n"
     ]
    },
    {
     "name": "stderr",
     "output_type": "stream",
     "text": [
      "100%|██████████| 60/60 [00:00<00:00, 199.22it/s]\n"
     ]
    },
    {
     "name": "stdout",
     "output_type": "stream",
     "text": [
      "--- 0.3168165683746338 seconds for solution baseline ---\n",
      "initial solution\n"
     ]
    },
    {
     "name": "stderr",
     "output_type": "stream",
     "text": [
      "100%|██████████| 60/60 [00:00<00:00, 188.37it/s]\n"
     ]
    },
    {
     "name": "stdout",
     "output_type": "stream",
     "text": [
      "--- 0.3341057300567627 seconds for solution baseline ---\n",
      "initial solution\n"
     ]
    },
    {
     "name": "stderr",
     "output_type": "stream",
     "text": [
      "100%|██████████| 60/60 [00:00<00:00, 216.21it/s]\n"
     ]
    },
    {
     "name": "stdout",
     "output_type": "stream",
     "text": [
      "--- 0.4481632709503174 seconds for solution baseline ---\n",
      "initial solution\n"
     ]
    },
    {
     "name": "stderr",
     "output_type": "stream",
     "text": [
      "100%|██████████| 60/60 [00:00<00:00, 193.34it/s]\n"
     ]
    },
    {
     "name": "stdout",
     "output_type": "stream",
     "text": [
      "--- 0.3228466510772705 seconds for solution baseline ---\n",
      "initial solution\n"
     ]
    },
    {
     "name": "stderr",
     "output_type": "stream",
     "text": [
      "100%|██████████| 60/60 [00:00<00:00, 191.27it/s]\n"
     ]
    },
    {
     "name": "stdout",
     "output_type": "stream",
     "text": [
      "--- 0.34036946296691895 seconds for solution baseline ---\n",
      "initial solution\n"
     ]
    },
    {
     "name": "stderr",
     "output_type": "stream",
     "text": [
      "100%|██████████| 60/60 [00:00<00:00, 203.02it/s]\n"
     ]
    },
    {
     "name": "stdout",
     "output_type": "stream",
     "text": [
      "--- 0.30399107933044434 seconds for solution baseline ---\n",
      "initial solution\n"
     ]
    },
    {
     "name": "stderr",
     "output_type": "stream",
     "text": [
      "100%|██████████| 60/60 [00:00<00:00, 180.75it/s]\n"
     ]
    },
    {
     "name": "stdout",
     "output_type": "stream",
     "text": [
      "--- 0.34646177291870117 seconds for solution baseline ---\n",
      "initial solution\n"
     ]
    },
    {
     "name": "stderr",
     "output_type": "stream",
     "text": [
      "100%|██████████| 60/60 [00:00<00:00, 183.18it/s]"
     ]
    },
    {
     "name": "stdout",
     "output_type": "stream",
     "text": [
      "--- 0.34317946434020996 seconds for solution baseline ---\n",
      "Taille       Temps moyen  Score moyen \n",
      "11           4.8          321.3909090909091\n",
      "12           5.1          614.275     \n",
      "13           5.9          529.0846153846154\n",
      "14           7.5          695.7       \n",
      "15           7.2          918.8933333333334\n",
      "16           19.6         1169.29375  \n",
      "17           9.3          1361.5941176470587\n",
      "18           9.6          1612.0722222222223\n",
      "19           11.6         2048.2263157894736\n",
      "20           13.8         2151.975    \n",
      "21           13.3         2279.138095238095\n",
      "22           15.6         3114.477272727273\n",
      "23           16.5         2849.3347826086956\n",
      "24           18.8         3807.9916666666663\n",
      "25           20.3         3824.512    \n",
      "26           23.1         4496.380769230769\n",
      "27           24.8         4403.759259259259\n",
      "28           29.5         5368.407142857142\n",
      "29           33.7         5044.837931034483\n",
      "30           32.6         6201.943333333334\n",
      "31           39.0         6673.019354838709\n",
      "32           38.6         6984.228125 \n",
      "33           45.8         6580.842424242424\n",
      "34           45.3         7115.6705882352935\n",
      "35           50.9         7436.948571428572\n",
      "36           54.3         8071.713888888889\n",
      "37           75.6         8572.164864864866\n",
      "38           64.5         8366.213157894737\n",
      "39           68.9         8575.284615384615\n",
      "40           74.2         8529.965    \n",
      "41           82.2         9167.870731707317\n",
      "42           86.7         9945.447619047618\n",
      "43           119.6        9432.946511627906\n",
      "44           111.9        10775.76590909091\n",
      "45           134.3        10661.3     \n",
      "46           122.1        11108.423913043478\n",
      "47           157.6        10176.555319148936\n",
      "48           142.0        11299.589583333332\n",
      "49           181.6        11024.230612244897\n",
      "50           264.3        11980.946   \n",
      "51           289.7        11186.4     \n",
      "52           318.3        13334.667307692307\n",
      "53           328.9        11899.749056603774\n",
      "54           331.0        12978.15925925926\n",
      "55           407.4        11987.3     \n",
      "56           264.0        14129.964285714286\n",
      "57           262.3        13136.543859649124\n",
      "58           296.2        14662.96896551724\n",
      "59           307.8        11914.22033898305\n",
      "60           335.3        12834.548333333334\n"
     ]
    },
    {
     "name": "stderr",
     "output_type": "stream",
     "text": [
      "\n"
     ]
    }
   ],
   "source": [
    "resultats_greedy = measure_range(main_greedy, problems)\n",
    "\n",
    "display_data_as_table(resultats_greedy)\n"
   ]
  },
  {
   "cell_type": "markdown",
   "metadata": {},
   "source": [
    "Nous devons générer des solutions à "
   ]
  },
  {
   "cell_type": "code",
   "execution_count": 118,
   "metadata": {},
   "outputs": [
    {
     "data": {
      "image/png": "[encoded data removed]",
      "text/plain": [
       "<Figure size 640x480 with 1 Axes>"
      ]
     },
     "metadata": {},
     "output_type": "display_data"
    }
   ],
   "source": [
    "def dict_from_measures(measures: list[Measure]) -> dict:\n",
    "    dict = {}\n",
    "    for measure in measures:\n",
    "        dict[np.log(measure.size)] = np.log(measure.mean)\n",
    "    return dict\n",
    "\n",
    "dict_greedy_sol = dict_from_measures(resultats_greedy)\n",
    "\n",
    "test_de_puissance(dict_greedy_sol, \"nombre d'éléments dans la liste\", 'temps moyen de tri (ms)', \"Test de puissance Merge sort nombre d'éléments\")"
   ]
  },
  {
   "cell_type": "code",
   "execution_count": 119,
   "metadata": {},
   "outputs": [
    {
     "data": {
      "image/png": "[encoded data removed]",
      "text/plain": [
       "<Figure size 640x480 with 1 Axes>"
      ]
     },
     "metadata": {},
     "output_type": "display_data"
    }
   ],
   "source": [
    "import math\n",
    "def change_to_predict(measures: list[Measure], hypothesis = lambda x: x) -> dict:\n",
    "    new_dict = {}\n",
    "    for key in measures:\n",
    "        new_dict[key.size] = key.mean/hypothesis(key.size)\n",
    "    return new_dict\n",
    "\n",
    "test_de_rapport(change_to_predict(resultats_greedy, lambda x: x**4), \"rapport entre n log(n) et les augmentations de temps\", \"nombre d'items à balancer dans les deux listes combinées\" , \"Test de rapport sur l'algorithme glouton\")"
   ]
  },
  {
   "cell_type": "markdown",
   "metadata": {},
   "source": [
    "### Amélioration locale"
   ]
  },
  {
   "cell_type": "code",
   "execution_count": 120,
   "metadata": {},
   "outputs": [],
   "source": [
    "\n",
    "def main_amelioration(sample):\n",
    "    start_time = time.time()\n",
    "    max_time = 60 * 3 - 1\n",
    "    n = len(sample)\n",
    "    target = 500 * n\n",
    "    counties = set_counties(sample)\n",
    "    print('initial solution')\n",
    "    sol, groups = max_to_target(counties, target, n)\n",
    "    if (time.time() - start_time) > max_time:\n",
    "        return sol\n",
    "    print(\"--- %s seconds for solution baseline ---\" % (time.time() - start_time))\n",
    "\n",
    "    #print('vote score: ', votes_score(sample, sol))\n",
    "    #print('size score: ', size_score(sol))\n",
    "    #print('distance score: ', distance_score(sol))\n",
    "    #print('intial score: ',score_solution(sample, sol))\n",
    "    #drawmap_of_discrits(n, sol)\n",
    "    first_iter = True\n",
    "    iter_time = time.time()\n",
    "    time_to_iter = 0\n",
    "    updated = amelioration_locale(groups, target, n, sample, sol)\n",
    "    sol = updated\n",
    "    return sol"
   ]
  },
  {
   "cell_type": "code",
   "execution_count": 121,
   "metadata": {},
   "outputs": [
    {
     "name": "stdout",
     "output_type": "stream",
     "text": [
      "initial solution\n"
     ]
    },
    {
     "name": "stderr",
     "output_type": "stream",
     "text": [
      "100%|██████████| 11/11 [00:00<00:00, 5602.59it/s]\n"
     ]
    },
    {
     "name": "stdout",
     "output_type": "stream",
     "text": [
      "--- 0.006039142608642578 seconds for solution baseline ---\n",
      "initial solution\n"
     ]
    },
    {
     "name": "stderr",
     "output_type": "stream",
     "text": [
      "100%|██████████| 11/11 [00:00<?, ?it/s]\n"
     ]
    },
    {
     "name": "stdout",
     "output_type": "stream",
     "text": [
      "--- 0.0 seconds for solution baseline ---\n",
      "initial solution\n"
     ]
    },
    {
     "name": "stderr",
     "output_type": "stream",
     "text": [
      "100%|██████████| 11/11 [00:00<00:00, 13776.45it/s]\n"
     ]
    },
    {
     "name": "stdout",
     "output_type": "stream",
     "text": [
      "--- 0.0038192272186279297 seconds for solution baseline ---\n",
      "initial solution\n"
     ]
    },
    {
     "name": "stderr",
     "output_type": "stream",
     "text": [
      "100%|██████████| 11/11 [00:00<?, ?it/s]\n"
     ]
    },
    {
     "name": "stdout",
     "output_type": "stream",
     "text": [
      "--- 0.004647970199584961 seconds for solution baseline ---\n",
      "initial solution\n"
     ]
    },
    {
     "name": "stderr",
     "output_type": "stream",
     "text": [
      "100%|██████████| 11/11 [00:00<?, ?it/s]\n"
     ]
    },
    {
     "name": "stdout",
     "output_type": "stream",
     "text": [
      "--- 0.00683283805847168 seconds for solution baseline ---\n",
      "initial solution\n"
     ]
    },
    {
     "name": "stderr",
     "output_type": "stream",
     "text": [
      "100%|██████████| 11/11 [00:00<00:00, 10990.32it/s]\n"
     ]
    },
    {
     "name": "stdout",
     "output_type": "stream",
     "text": [
      "--- 0.0070497989654541016 seconds for solution baseline ---\n",
      "initial solution\n"
     ]
    },
    {
     "name": "stderr",
     "output_type": "stream",
     "text": [
      "100%|██████████| 11/11 [00:00<00:00, 1464.26it/s]\n"
     ]
    },
    {
     "name": "stdout",
     "output_type": "stream",
     "text": [
      "--- 0.007512331008911133 seconds for solution baseline ---\n",
      "initial solution\n"
     ]
    },
    {
     "name": "stderr",
     "output_type": "stream",
     "text": [
      "100%|██████████| 11/11 [00:00<00:00, 6798.90it/s]\n"
     ]
    },
    {
     "name": "stdout",
     "output_type": "stream",
     "text": [
      "--- 0.0053386688232421875 seconds for solution baseline ---\n",
      "initial solution\n"
     ]
    },
    {
     "name": "stderr",
     "output_type": "stream",
     "text": [
      "100%|██████████| 11/11 [00:00<00:00, 1784.81it/s]\n"
     ]
    },
    {
     "name": "stdout",
     "output_type": "stream",
     "text": [
      "--- 0.006163120269775391 seconds for solution baseline ---\n",
      "initial solution\n"
     ]
    },
    {
     "name": "stderr",
     "output_type": "stream",
     "text": [
      "100%|██████████| 11/11 [00:00<?, ?it/s]\n"
     ]
    },
    {
     "name": "stdout",
     "output_type": "stream",
     "text": [
      "--- 0.006114006042480469 seconds for solution baseline ---\n",
      "initial solution\n"
     ]
    },
    {
     "name": "stderr",
     "output_type": "stream",
     "text": [
      "100%|██████████| 12/12 [00:00<?, ?it/s]\n"
     ]
    },
    {
     "name": "stdout",
     "output_type": "stream",
     "text": [
      "--- 0.0 seconds for solution baseline ---\n",
      "initial solution\n"
     ]
    },
    {
     "name": "stderr",
     "output_type": "stream",
     "text": [
      "100%|██████████| 12/12 [00:00<?, ?it/s]\n"
     ]
    },
    {
     "name": "stdout",
     "output_type": "stream",
     "text": [
      "--- 0.0 seconds for solution baseline ---\n",
      "initial solution\n"
     ]
    },
    {
     "name": "stderr",
     "output_type": "stream",
     "text": [
      "100%|██████████| 12/12 [00:00<?, ?it/s]\n"
     ]
    },
    {
     "name": "stdout",
     "output_type": "stream",
     "text": [
      "--- 0.0077915191650390625 seconds for solution baseline ---\n",
      "initial solution\n"
     ]
    },
    {
     "name": "stderr",
     "output_type": "stream",
     "text": [
      "100%|██████████| 12/12 [00:00<00:00, 24186.28it/s]\n"
     ]
    },
    {
     "name": "stdout",
     "output_type": "stream",
     "text": [
      "--- 0.0031092166900634766 seconds for solution baseline ---\n",
      "initial solution\n"
     ]
    },
    {
     "name": "stderr",
     "output_type": "stream",
     "text": [
      "100%|██████████| 12/12 [00:00<00:00, 4108.37it/s]\n"
     ]
    },
    {
     "name": "stdout",
     "output_type": "stream",
     "text": [
      "--- 0.003425121307373047 seconds for solution baseline ---\n",
      "initial solution\n"
     ]
    },
    {
     "name": "stderr",
     "output_type": "stream",
     "text": [
      "100%|██████████| 12/12 [00:00<?, ?it/s]\n"
     ]
    },
    {
     "name": "stdout",
     "output_type": "stream",
     "text": [
      "--- 0.002599000930786133 seconds for solution baseline ---\n",
      "initial solution\n"
     ]
    },
    {
     "name": "stderr",
     "output_type": "stream",
     "text": [
      "100%|██████████| 12/12 [00:00<?, ?it/s]\n"
     ]
    },
    {
     "name": "stdout",
     "output_type": "stream",
     "text": [
      "--- 0.0 seconds for solution baseline ---\n",
      "initial solution\n"
     ]
    },
    {
     "name": "stderr",
     "output_type": "stream",
     "text": [
      "100%|██████████| 12/12 [00:00<00:00, 1590.86it/s]\n"
     ]
    },
    {
     "name": "stdout",
     "output_type": "stream",
     "text": [
      "--- 0.013712167739868164 seconds for solution baseline ---\n",
      "initial solution\n"
     ]
    },
    {
     "name": "stderr",
     "output_type": "stream",
     "text": [
      "100%|██████████| 12/12 [00:00<?, ?it/s]\n"
     ]
    },
    {
     "name": "stdout",
     "output_type": "stream",
     "text": [
      "--- 0.006448507308959961 seconds for solution baseline ---\n",
      "initial solution\n"
     ]
    },
    {
     "name": "stderr",
     "output_type": "stream",
     "text": [
      "100%|██████████| 12/12 [00:00<00:00, 4960.25it/s]\n"
     ]
    },
    {
     "name": "stdout",
     "output_type": "stream",
     "text": [
      "--- 0.0057849884033203125 seconds for solution baseline ---\n",
      "initial solution\n"
     ]
    },
    {
     "name": "stderr",
     "output_type": "stream",
     "text": [
      "100%|██████████| 13/13 [00:00<?, ?it/s]\n"
     ]
    },
    {
     "name": "stdout",
     "output_type": "stream",
     "text": [
      "--- 0.0 seconds for solution baseline ---\n",
      "initial solution\n"
     ]
    },
    {
     "name": "stderr",
     "output_type": "stream",
     "text": [
      "100%|██████████| 13/13 [00:00<00:00, 3117.19it/s]\n"
     ]
    },
    {
     "name": "stdout",
     "output_type": "stream",
     "text": [
      "--- 0.004170417785644531 seconds for solution baseline ---\n",
      "initial solution\n"
     ]
    },
    {
     "name": "stderr",
     "output_type": "stream",
     "text": [
      "100%|██████████| 13/13 [00:00<?, ?it/s]\n"
     ]
    },
    {
     "name": "stdout",
     "output_type": "stream",
     "text": [
      "--- 0.0 seconds for solution baseline ---\n",
      "initial solution\n"
     ]
    },
    {
     "name": "stderr",
     "output_type": "stream",
     "text": [
      "100%|██████████| 13/13 [00:00<?, ?it/s]\n"
     ]
    },
    {
     "name": "stdout",
     "output_type": "stream",
     "text": [
      "--- 0.0010232925415039062 seconds for solution baseline ---\n",
      "initial solution\n"
     ]
    },
    {
     "name": "stderr",
     "output_type": "stream",
     "text": [
      "100%|██████████| 13/13 [00:00<00:00, 25744.08it/s]\n"
     ]
    },
    {
     "name": "stdout",
     "output_type": "stream",
     "text": [
      "--- 0.006303548812866211 seconds for solution baseline ---\n",
      "initial solution\n"
     ]
    },
    {
     "name": "stderr",
     "output_type": "stream",
     "text": [
      "100%|██████████| 13/13 [00:00<00:00, 4565.90it/s]\n"
     ]
    },
    {
     "name": "stdout",
     "output_type": "stream",
     "text": [
      "--- 0.005664348602294922 seconds for solution baseline ---\n",
      "initial solution\n"
     ]
    },
    {
     "name": "stderr",
     "output_type": "stream",
     "text": [
      "100%|██████████| 13/13 [00:00<00:00, 4397.25it/s]\n"
     ]
    },
    {
     "name": "stdout",
     "output_type": "stream",
     "text": [
      "--- 0.0076444149017333984 seconds for solution baseline ---\n",
      "initial solution\n"
     ]
    },
    {
     "name": "stderr",
     "output_type": "stream",
     "text": [
      "100%|██████████| 13/13 [00:00<00:00, 1617.69it/s]\n"
     ]
    },
    {
     "name": "stdout",
     "output_type": "stream",
     "text": [
      "--- 0.008036136627197266 seconds for solution baseline ---\n",
      "initial solution\n"
     ]
    },
    {
     "name": "stderr",
     "output_type": "stream",
     "text": [
      "100%|██████████| 13/13 [00:00<00:00, 2498.90it/s]\n"
     ]
    },
    {
     "name": "stdout",
     "output_type": "stream",
     "text": [
      "--- 0.005202293395996094 seconds for solution baseline ---\n",
      "initial solution\n"
     ]
    },
    {
     "name": "stderr",
     "output_type": "stream",
     "text": [
      "100%|██████████| 13/13 [00:00<00:00, 7188.66it/s]\n"
     ]
    },
    {
     "name": "stdout",
     "output_type": "stream",
     "text": [
      "--- 0.0036325454711914062 seconds for solution baseline ---\n",
      "initial solution\n"
     ]
    },
    {
     "name": "stderr",
     "output_type": "stream",
     "text": [
      "100%|██████████| 14/14 [00:00<00:00, 2224.42it/s]\n"
     ]
    },
    {
     "name": "stdout",
     "output_type": "stream",
     "text": [
      "--- 0.006293773651123047 seconds for solution baseline ---\n",
      "initial solution\n"
     ]
    },
    {
     "name": "stderr",
     "output_type": "stream",
     "text": [
      "100%|██████████| 14/14 [00:00<00:00, 11266.36it/s]\n"
     ]
    },
    {
     "name": "stdout",
     "output_type": "stream",
     "text": [
      "--- 0.009183168411254883 seconds for solution baseline ---\n",
      "initial solution\n"
     ]
    },
    {
     "name": "stderr",
     "output_type": "stream",
     "text": [
      "100%|██████████| 14/14 [00:00<?, ?it/s]\n"
     ]
    },
    {
     "name": "stdout",
     "output_type": "stream",
     "text": [
      "--- 0.0002796649932861328 seconds for solution baseline ---\n",
      "initial solution\n"
     ]
    },
    {
     "name": "stderr",
     "output_type": "stream",
     "text": [
      "100%|██████████| 14/14 [00:00<?, ?it/s]\n"
     ]
    },
    {
     "name": "stdout",
     "output_type": "stream",
     "text": [
      "--- 0.0 seconds for solution baseline ---\n",
      "initial solution\n"
     ]
    },
    {
     "name": "stderr",
     "output_type": "stream",
     "text": [
      "100%|██████████| 14/14 [00:00<00:00, 1727.52it/s]\n"
     ]
    },
    {
     "name": "stdout",
     "output_type": "stream",
     "text": [
      "--- 0.008469820022583008 seconds for solution baseline ---\n",
      "initial solution\n"
     ]
    },
    {
     "name": "stderr",
     "output_type": "stream",
     "text": [
      "100%|██████████| 14/14 [00:00<00:00, 2066.96it/s]\n"
     ]
    },
    {
     "name": "stdout",
     "output_type": "stream",
     "text": [
      "--- 0.006773233413696289 seconds for solution baseline ---\n",
      "initial solution\n"
     ]
    },
    {
     "name": "stderr",
     "output_type": "stream",
     "text": [
      "100%|██████████| 14/14 [00:00<00:00, 2027.91it/s]\n"
     ]
    },
    {
     "name": "stdout",
     "output_type": "stream",
     "text": [
      "--- 0.006903648376464844 seconds for solution baseline ---\n",
      "initial solution\n"
     ]
    },
    {
     "name": "stderr",
     "output_type": "stream",
     "text": [
      "100%|██████████| 14/14 [00:00<00:00, 6457.03it/s]\n"
     ]
    },
    {
     "name": "stdout",
     "output_type": "stream",
     "text": [
      "--- 0.0026717185974121094 seconds for solution baseline ---\n",
      "initial solution\n"
     ]
    },
    {
     "name": "stderr",
     "output_type": "stream",
     "text": [
      "100%|██████████| 14/14 [00:00<?, ?it/s]\n"
     ]
    },
    {
     "name": "stdout",
     "output_type": "stream",
     "text": [
      "--- 0.004206418991088867 seconds for solution baseline ---\n",
      "initial solution\n"
     ]
    },
    {
     "name": "stderr",
     "output_type": "stream",
     "text": [
      "100%|██████████| 14/14 [00:00<00:00, 2991.96it/s]\n"
     ]
    },
    {
     "name": "stdout",
     "output_type": "stream",
     "text": [
      "--- 0.009164094924926758 seconds for solution baseline ---\n",
      "initial solution\n"
     ]
    },
    {
     "name": "stderr",
     "output_type": "stream",
     "text": [
      "100%|██████████| 15/15 [00:00<00:00, 4833.63it/s]\n"
     ]
    },
    {
     "name": "stdout",
     "output_type": "stream",
     "text": [
      "--- 0.007525205612182617 seconds for solution baseline ---\n",
      "initial solution\n"
     ]
    },
    {
     "name": "stderr",
     "output_type": "stream",
     "text": [
      "100%|██████████| 15/15 [00:00<00:00, 9118.05it/s]\n"
     ]
    },
    {
     "name": "stdout",
     "output_type": "stream",
     "text": [
      "--- 0.009638786315917969 seconds for solution baseline ---\n",
      "initial solution\n"
     ]
    },
    {
     "name": "stderr",
     "output_type": "stream",
     "text": [
      "100%|██████████| 15/15 [00:00<?, ?it/s]\n"
     ]
    },
    {
     "name": "stdout",
     "output_type": "stream",
     "text": [
      "--- 0.003226757049560547 seconds for solution baseline ---\n",
      "initial solution\n"
     ]
    },
    {
     "name": "stderr",
     "output_type": "stream",
     "text": [
      "100%|██████████| 15/15 [00:00<00:00, 4099.47it/s]\n"
     ]
    },
    {
     "name": "stdout",
     "output_type": "stream",
     "text": [
      "--- 0.008069992065429688 seconds for solution baseline ---\n",
      "initial solution\n"
     ]
    },
    {
     "name": "stderr",
     "output_type": "stream",
     "text": [
      "100%|██████████| 15/15 [00:00<00:00, 2141.92it/s]\n"
     ]
    },
    {
     "name": "stdout",
     "output_type": "stream",
     "text": [
      "--- 0.007003068923950195 seconds for solution baseline ---\n",
      "initial solution\n"
     ]
    },
    {
     "name": "stderr",
     "output_type": "stream",
     "text": [
      "100%|██████████| 15/15 [00:00<?, ?it/s]\n"
     ]
    },
    {
     "name": "stdout",
     "output_type": "stream",
     "text": [
      "--- 0.004069089889526367 seconds for solution baseline ---\n",
      "initial solution\n"
     ]
    },
    {
     "name": "stderr",
     "output_type": "stream",
     "text": [
      "100%|██████████| 15/15 [00:00<00:00, 3561.13it/s]\n"
     ]
    },
    {
     "name": "stdout",
     "output_type": "stream",
     "text": [
      "--- 0.00664973258972168 seconds for solution baseline ---\n",
      "initial solution\n"
     ]
    },
    {
     "name": "stderr",
     "output_type": "stream",
     "text": [
      "100%|██████████| 15/15 [00:00<00:00, 4426.55it/s]\n"
     ]
    },
    {
     "name": "stdout",
     "output_type": "stream",
     "text": [
      "--- 0.00796961784362793 seconds for solution baseline ---\n",
      "initial solution\n"
     ]
    },
    {
     "name": "stderr",
     "output_type": "stream",
     "text": [
      "100%|██████████| 15/15 [00:00<00:00, 3634.79it/s]\n"
     ]
    },
    {
     "name": "stdout",
     "output_type": "stream",
     "text": [
      "--- 0.006866931915283203 seconds for solution baseline ---\n",
      "initial solution\n"
     ]
    },
    {
     "name": "stderr",
     "output_type": "stream",
     "text": [
      "100%|██████████| 15/15 [00:00<00:00, 4982.54it/s]\n"
     ]
    },
    {
     "name": "stdout",
     "output_type": "stream",
     "text": [
      "--- 0.008085966110229492 seconds for solution baseline ---\n",
      "initial solution\n"
     ]
    },
    {
     "name": "stderr",
     "output_type": "stream",
     "text": [
      "100%|██████████| 16/16 [00:00<00:00, 2346.30it/s]\n"
     ]
    },
    {
     "name": "stdout",
     "output_type": "stream",
     "text": [
      "--- 0.009775400161743164 seconds for solution baseline ---\n",
      "initial solution\n"
     ]
    },
    {
     "name": "stderr",
     "output_type": "stream",
     "text": [
      "100%|██████████| 16/16 [00:00<00:00, 6392.54it/s]\n"
     ]
    },
    {
     "name": "stdout",
     "output_type": "stream",
     "text": [
      "--- 0.009026765823364258 seconds for solution baseline ---\n",
      "initial solution\n"
     ]
    },
    {
     "name": "stderr",
     "output_type": "stream",
     "text": [
      "100%|██████████| 16/16 [00:00<00:00, 5066.73it/s]\n"
     ]
    },
    {
     "name": "stdout",
     "output_type": "stream",
     "text": [
      "--- 0.0071277618408203125 seconds for solution baseline ---\n",
      "initial solution\n"
     ]
    },
    {
     "name": "stderr",
     "output_type": "stream",
     "text": [
      "100%|██████████| 16/16 [00:00<00:00, 3018.43it/s]\n"
     ]
    },
    {
     "name": "stdout",
     "output_type": "stream",
     "text": [
      "--- 0.013881921768188477 seconds for solution baseline ---\n",
      "initial solution\n"
     ]
    },
    {
     "name": "stderr",
     "output_type": "stream",
     "text": [
      "100%|██████████| 16/16 [00:00<00:00, 2183.89it/s]\n"
     ]
    },
    {
     "name": "stdout",
     "output_type": "stream",
     "text": [
      "--- 0.007326364517211914 seconds for solution baseline ---\n",
      "initial solution\n"
     ]
    },
    {
     "name": "stderr",
     "output_type": "stream",
     "text": [
      "100%|██████████| 16/16 [00:00<00:00, 2430.51it/s]\n"
     ]
    },
    {
     "name": "stdout",
     "output_type": "stream",
     "text": [
      "--- 0.012622594833374023 seconds for solution baseline ---\n",
      "initial solution\n"
     ]
    },
    {
     "name": "stderr",
     "output_type": "stream",
     "text": [
      "100%|██████████| 16/16 [00:00<00:00, 2057.67it/s]\n"
     ]
    },
    {
     "name": "stdout",
     "output_type": "stream",
     "text": [
      "--- 0.007775783538818359 seconds for solution baseline ---\n",
      "initial solution\n"
     ]
    },
    {
     "name": "stderr",
     "output_type": "stream",
     "text": [
      "100%|██████████| 16/16 [00:00<00:00, 3962.97it/s]\n"
     ]
    },
    {
     "name": "stdout",
     "output_type": "stream",
     "text": [
      "--- 0.014094829559326172 seconds for solution baseline ---\n",
      "initial solution\n"
     ]
    },
    {
     "name": "stderr",
     "output_type": "stream",
     "text": [
      "100%|██████████| 16/16 [00:00<?, ?it/s]\n"
     ]
    },
    {
     "name": "stdout",
     "output_type": "stream",
     "text": [
      "--- 0.010648250579833984 seconds for solution baseline ---\n",
      "initial solution\n"
     ]
    },
    {
     "name": "stderr",
     "output_type": "stream",
     "text": [
      "100%|██████████| 16/16 [00:00<00:00, 3242.29it/s]\n"
     ]
    },
    {
     "name": "stdout",
     "output_type": "stream",
     "text": [
      "--- 0.010516166687011719 seconds for solution baseline ---\n",
      "initial solution\n"
     ]
    },
    {
     "name": "stderr",
     "output_type": "stream",
     "text": [
      "100%|██████████| 17/17 [00:00<00:00, 2849.96it/s]\n"
     ]
    },
    {
     "name": "stdout",
     "output_type": "stream",
     "text": [
      "--- 0.011754989624023438 seconds for solution baseline ---\n",
      "initial solution\n"
     ]
    },
    {
     "name": "stderr",
     "output_type": "stream",
     "text": [
      "100%|██████████| 17/17 [00:00<?, ?it/s]\n"
     ]
    },
    {
     "name": "stdout",
     "output_type": "stream",
     "text": [
      "--- 0.0 seconds for solution baseline ---\n",
      "initial solution\n"
     ]
    },
    {
     "name": "stderr",
     "output_type": "stream",
     "text": [
      "100%|██████████| 17/17 [00:00<?, ?it/s]\n"
     ]
    },
    {
     "name": "stdout",
     "output_type": "stream",
     "text": [
      "--- 0.013922691345214844 seconds for solution baseline ---\n",
      "initial solution\n"
     ]
    },
    {
     "name": "stderr",
     "output_type": "stream",
     "text": [
      "100%|██████████| 17/17 [00:00<00:00, 1132.53it/s]\n"
     ]
    },
    {
     "name": "stdout",
     "output_type": "stream",
     "text": [
      "--- 0.02013540267944336 seconds for solution baseline ---\n",
      "initial solution\n"
     ]
    },
    {
     "name": "stderr",
     "output_type": "stream",
     "text": [
      "100%|██████████| 17/17 [00:00<00:00, 2392.00it/s]\n"
     ]
    },
    {
     "name": "stdout",
     "output_type": "stream",
     "text": [
      "--- 0.0071070194244384766 seconds for solution baseline ---\n",
      "initial solution\n"
     ]
    },
    {
     "name": "stderr",
     "output_type": "stream",
     "text": [
      "100%|██████████| 17/17 [00:00<00:00, 7478.83it/s]\n"
     ]
    },
    {
     "name": "stdout",
     "output_type": "stream",
     "text": [
      "--- 0.01328420639038086 seconds for solution baseline ---\n",
      "initial solution\n"
     ]
    },
    {
     "name": "stderr",
     "output_type": "stream",
     "text": [
      "100%|██████████| 17/17 [00:00<00:00, 2590.58it/s]\n"
     ]
    },
    {
     "name": "stdout",
     "output_type": "stream",
     "text": [
      "--- 0.009941577911376953 seconds for solution baseline ---\n",
      "initial solution\n"
     ]
    },
    {
     "name": "stderr",
     "output_type": "stream",
     "text": [
      "100%|██████████| 17/17 [00:00<00:00, 5916.29it/s]\n"
     ]
    },
    {
     "name": "stdout",
     "output_type": "stream",
     "text": [
      "--- 0.007379770278930664 seconds for solution baseline ---\n",
      "initial solution\n"
     ]
    },
    {
     "name": "stderr",
     "output_type": "stream",
     "text": [
      "100%|██████████| 17/17 [00:00<00:00, 1693.06it/s]\n"
     ]
    },
    {
     "name": "stdout",
     "output_type": "stream",
     "text": [
      "--- 0.010040998458862305 seconds for solution baseline ---\n",
      "initial solution\n"
     ]
    },
    {
     "name": "stderr",
     "output_type": "stream",
     "text": [
      "100%|██████████| 17/17 [00:00<00:00, 1248.76it/s]\n"
     ]
    },
    {
     "name": "stdout",
     "output_type": "stream",
     "text": [
      "--- 0.013613462448120117 seconds for solution baseline ---\n",
      "initial solution\n"
     ]
    },
    {
     "name": "stderr",
     "output_type": "stream",
     "text": [
      "100%|██████████| 18/18 [00:00<00:00, 3265.89it/s]\n"
     ]
    },
    {
     "name": "stdout",
     "output_type": "stream",
     "text": [
      "--- 0.02112603187561035 seconds for solution baseline ---\n",
      "initial solution\n"
     ]
    },
    {
     "name": "stderr",
     "output_type": "stream",
     "text": [
      "100%|██████████| 18/18 [00:00<00:00, 1356.72it/s]\n"
     ]
    },
    {
     "name": "stdout",
     "output_type": "stream",
     "text": [
      "--- 0.013267278671264648 seconds for solution baseline ---\n",
      "initial solution\n"
     ]
    },
    {
     "name": "stderr",
     "output_type": "stream",
     "text": [
      "100%|██████████| 18/18 [00:00<00:00, 3957.10it/s]\n"
     ]
    },
    {
     "name": "stdout",
     "output_type": "stream",
     "text": [
      "--- 0.014262199401855469 seconds for solution baseline ---\n",
      "initial solution\n"
     ]
    },
    {
     "name": "stderr",
     "output_type": "stream",
     "text": [
      "100%|██████████| 18/18 [00:00<00:00, 2037.06it/s]\n"
     ]
    },
    {
     "name": "stdout",
     "output_type": "stream",
     "text": [
      "--- 0.011168718338012695 seconds for solution baseline ---\n",
      "initial solution\n"
     ]
    },
    {
     "name": "stderr",
     "output_type": "stream",
     "text": [
      "100%|██████████| 18/18 [00:00<00:00, 7246.13it/s]\n"
     ]
    },
    {
     "name": "stdout",
     "output_type": "stream",
     "text": [
      "--- 0.006403684616088867 seconds for solution baseline ---\n",
      "initial solution\n"
     ]
    },
    {
     "name": "stderr",
     "output_type": "stream",
     "text": [
      "100%|██████████| 18/18 [00:00<00:00, 3407.08it/s]\n"
     ]
    },
    {
     "name": "stdout",
     "output_type": "stream",
     "text": [
      "--- 0.0052831172943115234 seconds for solution baseline ---\n",
      "initial solution\n"
     ]
    },
    {
     "name": "stderr",
     "output_type": "stream",
     "text": [
      "100%|██████████| 18/18 [00:00<?, ?it/s]\n"
     ]
    },
    {
     "name": "stdout",
     "output_type": "stream",
     "text": [
      "--- 0.0010907649993896484 seconds for solution baseline ---\n",
      "initial solution\n"
     ]
    },
    {
     "name": "stderr",
     "output_type": "stream",
     "text": [
      "100%|██████████| 18/18 [00:00<?, ?it/s]\n"
     ]
    },
    {
     "name": "stdout",
     "output_type": "stream",
     "text": [
      "--- 0.013475656509399414 seconds for solution baseline ---\n",
      "initial solution\n"
     ]
    },
    {
     "name": "stderr",
     "output_type": "stream",
     "text": [
      "100%|██████████| 18/18 [00:00<00:00, 3322.22it/s]\n"
     ]
    },
    {
     "name": "stdout",
     "output_type": "stream",
     "text": [
      "--- 0.011772871017456055 seconds for solution baseline ---\n",
      "initial solution\n"
     ]
    },
    {
     "name": "stderr",
     "output_type": "stream",
     "text": [
      "100%|██████████| 18/18 [00:00<00:00, 3347.71it/s]\n"
     ]
    },
    {
     "name": "stdout",
     "output_type": "stream",
     "text": [
      "--- 0.013712406158447266 seconds for solution baseline ---\n",
      "initial solution\n"
     ]
    },
    {
     "name": "stderr",
     "output_type": "stream",
     "text": [
      "100%|██████████| 19/19 [00:00<00:00, 2944.24it/s]\n"
     ]
    },
    {
     "name": "stdout",
     "output_type": "stream",
     "text": [
      "--- 0.015037298202514648 seconds for solution baseline ---\n",
      "initial solution\n"
     ]
    },
    {
     "name": "stderr",
     "output_type": "stream",
     "text": [
      "100%|██████████| 19/19 [00:00<00:00, 1828.34it/s]\n"
     ]
    },
    {
     "name": "stdout",
     "output_type": "stream",
     "text": [
      "--- 0.010391950607299805 seconds for solution baseline ---\n",
      "initial solution\n"
     ]
    },
    {
     "name": "stderr",
     "output_type": "stream",
     "text": [
      "100%|██████████| 19/19 [00:00<00:00, 4211.59it/s]\n"
     ]
    },
    {
     "name": "stdout",
     "output_type": "stream",
     "text": [
      "--- 0.013687372207641602 seconds for solution baseline ---\n",
      "initial solution\n"
     ]
    },
    {
     "name": "stderr",
     "output_type": "stream",
     "text": [
      "100%|██████████| 19/19 [00:00<00:00, 1362.65it/s]\n"
     ]
    },
    {
     "name": "stdout",
     "output_type": "stream",
     "text": [
      "--- 0.01394343376159668 seconds for solution baseline ---\n",
      "initial solution\n"
     ]
    },
    {
     "name": "stderr",
     "output_type": "stream",
     "text": [
      "100%|██████████| 19/19 [00:00<00:00, 1573.38it/s]\n"
     ]
    },
    {
     "name": "stdout",
     "output_type": "stream",
     "text": [
      "--- 0.0129241943359375 seconds for solution baseline ---\n",
      "initial solution\n"
     ]
    },
    {
     "name": "stderr",
     "output_type": "stream",
     "text": [
      "100%|██████████| 19/19 [00:00<00:00, 3169.54it/s]\n"
     ]
    },
    {
     "name": "stdout",
     "output_type": "stream",
     "text": [
      "--- 0.01380777359008789 seconds for solution baseline ---\n",
      "initial solution\n"
     ]
    },
    {
     "name": "stderr",
     "output_type": "stream",
     "text": [
      "100%|██████████| 19/19 [00:00<00:00, 3494.18it/s]\n"
     ]
    },
    {
     "name": "stdout",
     "output_type": "stream",
     "text": [
      "--- 0.013835906982421875 seconds for solution baseline ---\n",
      "initial solution\n"
     ]
    },
    {
     "name": "stderr",
     "output_type": "stream",
     "text": [
      "100%|██████████| 19/19 [00:00<00:00, 1366.69it/s]\n"
     ]
    },
    {
     "name": "stdout",
     "output_type": "stream",
     "text": [
      "--- 0.01390218734741211 seconds for solution baseline ---\n",
      "initial solution\n"
     ]
    },
    {
     "name": "stderr",
     "output_type": "stream",
     "text": [
      "100%|██████████| 19/19 [00:00<00:00, 2422.46it/s]\n"
     ]
    },
    {
     "name": "stdout",
     "output_type": "stream",
     "text": [
      "--- 0.013852357864379883 seconds for solution baseline ---\n",
      "initial solution\n"
     ]
    },
    {
     "name": "stderr",
     "output_type": "stream",
     "text": [
      "100%|██████████| 19/19 [00:00<00:00, 1351.69it/s]\n"
     ]
    },
    {
     "name": "stdout",
     "output_type": "stream",
     "text": [
      "--- 0.01405644416809082 seconds for solution baseline ---\n",
      "initial solution\n"
     ]
    },
    {
     "name": "stderr",
     "output_type": "stream",
     "text": [
      "100%|██████████| 20/20 [00:00<00:00, 1452.52it/s]\n"
     ]
    },
    {
     "name": "stdout",
     "output_type": "stream",
     "text": [
      "--- 0.013769149780273438 seconds for solution baseline ---\n",
      "initial solution\n"
     ]
    },
    {
     "name": "stderr",
     "output_type": "stream",
     "text": [
      "100%|██████████| 20/20 [00:00<00:00, 5013.81it/s]\n"
     ]
    },
    {
     "name": "stdout",
     "output_type": "stream",
     "text": [
      "--- 0.013863086700439453 seconds for solution baseline ---\n",
      "initial solution\n"
     ]
    },
    {
     "name": "stderr",
     "output_type": "stream",
     "text": [
      "100%|██████████| 20/20 [00:00<00:00, 1429.65it/s]\n"
     ]
    },
    {
     "name": "stdout",
     "output_type": "stream",
     "text": [
      "--- 0.013989448547363281 seconds for solution baseline ---\n",
      "initial solution\n"
     ]
    },
    {
     "name": "stderr",
     "output_type": "stream",
     "text": [
      "100%|██████████| 20/20 [00:00<00:00, 932.08it/s]\n"
     ]
    },
    {
     "name": "stdout",
     "output_type": "stream",
     "text": [
      "--- 0.021457433700561523 seconds for solution baseline ---\n",
      "initial solution\n"
     ]
    },
    {
     "name": "stderr",
     "output_type": "stream",
     "text": [
      "100%|██████████| 20/20 [00:00<00:00, 2145.48it/s]\n"
     ]
    },
    {
     "name": "stdout",
     "output_type": "stream",
     "text": [
      "--- 0.020998001098632812 seconds for solution baseline ---\n",
      "initial solution\n"
     ]
    },
    {
     "name": "stderr",
     "output_type": "stream",
     "text": [
      "100%|██████████| 20/20 [00:00<00:00, 1546.23it/s]\n"
     ]
    },
    {
     "name": "stdout",
     "output_type": "stream",
     "text": [
      "--- 0.021125316619873047 seconds for solution baseline ---\n",
      "initial solution\n"
     ]
    },
    {
     "name": "stderr",
     "output_type": "stream",
     "text": [
      "100%|██████████| 20/20 [00:00<00:00, 2650.18it/s]\n"
     ]
    },
    {
     "name": "stdout",
     "output_type": "stream",
     "text": [
      "--- 0.007546663284301758 seconds for solution baseline ---\n",
      "initial solution\n"
     ]
    },
    {
     "name": "stderr",
     "output_type": "stream",
     "text": [
      "100%|██████████| 20/20 [00:00<00:00, 5944.73it/s]\n"
     ]
    },
    {
     "name": "stdout",
     "output_type": "stream",
     "text": [
      "--- 0.011597394943237305 seconds for solution baseline ---\n",
      "initial solution\n"
     ]
    },
    {
     "name": "stderr",
     "output_type": "stream",
     "text": [
      "100%|██████████| 20/20 [00:00<00:00, 1373.61it/s]\n"
     ]
    },
    {
     "name": "stdout",
     "output_type": "stream",
     "text": [
      "--- 0.014560222625732422 seconds for solution baseline ---\n",
      "initial solution\n"
     ]
    },
    {
     "name": "stderr",
     "output_type": "stream",
     "text": [
      "100%|██████████| 20/20 [00:00<00:00, 4236.67it/s]\n"
     ]
    },
    {
     "name": "stdout",
     "output_type": "stream",
     "text": [
      "--- 0.020348310470581055 seconds for solution baseline ---\n",
      "initial solution\n"
     ]
    },
    {
     "name": "stderr",
     "output_type": "stream",
     "text": [
      "100%|██████████| 21/21 [00:00<00:00, 9884.46it/s]\n"
     ]
    },
    {
     "name": "stdout",
     "output_type": "stream",
     "text": [
      "--- 0.015299797058105469 seconds for solution baseline ---\n",
      "initial solution\n"
     ]
    },
    {
     "name": "stderr",
     "output_type": "stream",
     "text": [
      "100%|██████████| 21/21 [00:00<00:00, 5740.75it/s]\n"
     ]
    },
    {
     "name": "stdout",
     "output_type": "stream",
     "text": [
      "--- 0.009700298309326172 seconds for solution baseline ---\n",
      "initial solution\n"
     ]
    },
    {
     "name": "stderr",
     "output_type": "stream",
     "text": [
      "100%|██████████| 21/21 [00:00<?, ?it/s]\n"
     ]
    },
    {
     "name": "stdout",
     "output_type": "stream",
     "text": [
      "--- 0.0030519962310791016 seconds for solution baseline ---\n",
      "initial solution\n"
     ]
    },
    {
     "name": "stderr",
     "output_type": "stream",
     "text": [
      "100%|██████████| 21/21 [00:00<00:00, 2967.97it/s]\n"
     ]
    },
    {
     "name": "stdout",
     "output_type": "stream",
     "text": [
      "--- 0.013332605361938477 seconds for solution baseline ---\n",
      "initial solution\n"
     ]
    },
    {
     "name": "stderr",
     "output_type": "stream",
     "text": [
      "100%|██████████| 21/21 [00:00<00:00, 7837.73it/s]\n"
     ]
    },
    {
     "name": "stdout",
     "output_type": "stream",
     "text": [
      "--- 0.015970706939697266 seconds for solution baseline ---\n",
      "initial solution\n"
     ]
    },
    {
     "name": "stderr",
     "output_type": "stream",
     "text": [
      "100%|██████████| 21/21 [00:00<00:00, 2350.50it/s]"
     ]
    },
    {
     "name": "stdout",
     "output_type": "stream",
     "text": [
      "--- 0.014393806457519531 seconds for solution baseline ---\n",
      "initial solution\n"
     ]
    },
    {
     "name": "stderr",
     "output_type": "stream",
     "text": [
      "\n",
      "100%|██████████| 21/21 [00:00<00:00, 2573.79it/s]\n"
     ]
    },
    {
     "name": "stdout",
     "output_type": "stream",
     "text": [
      "--- 0.015351295471191406 seconds for solution baseline ---\n",
      "initial solution\n"
     ]
    },
    {
     "name": "stderr",
     "output_type": "stream",
     "text": [
      "100%|██████████| 21/21 [00:00<00:00, 2536.15it/s]\n"
     ]
    },
    {
     "name": "stdout",
     "output_type": "stream",
     "text": [
      "--- 0.008280277252197266 seconds for solution baseline ---\n",
      "initial solution\n"
     ]
    },
    {
     "name": "stderr",
     "output_type": "stream",
     "text": [
      "100%|██████████| 21/21 [00:00<?, ?it/s]\n"
     ]
    },
    {
     "name": "stdout",
     "output_type": "stream",
     "text": [
      "--- 0.0056879520416259766 seconds for solution baseline ---\n",
      "initial solution\n"
     ]
    },
    {
     "name": "stderr",
     "output_type": "stream",
     "text": [
      "100%|██████████| 21/21 [00:00<00:00, 1900.29it/s]\n"
     ]
    },
    {
     "name": "stdout",
     "output_type": "stream",
     "text": [
      "--- 0.011050939559936523 seconds for solution baseline ---\n",
      "initial solution\n"
     ]
    },
    {
     "name": "stderr",
     "output_type": "stream",
     "text": [
      "100%|██████████| 22/22 [00:00<00:00, 6267.81it/s]"
     ]
    },
    {
     "name": "stdout",
     "output_type": "stream",
     "text": [
      "--- 0.007834434509277344 seconds for solution baseline ---\n",
      "initial solution\n"
     ]
    },
    {
     "name": "stderr",
     "output_type": "stream",
     "text": [
      "\n",
      "100%|██████████| 22/22 [00:00<?, ?it/s]\n"
     ]
    },
    {
     "name": "stdout",
     "output_type": "stream",
     "text": [
      "--- 0.005985260009765625 seconds for solution baseline ---\n",
      "initial solution\n"
     ]
    },
    {
     "name": "stderr",
     "output_type": "stream",
     "text": [
      "100%|██████████| 22/22 [00:00<00:00, 1342.80it/s]\n"
     ]
    },
    {
     "name": "stdout",
     "output_type": "stream",
     "text": [
      "--- 0.016383647918701172 seconds for solution baseline ---\n",
      "initial solution\n"
     ]
    },
    {
     "name": "stderr",
     "output_type": "stream",
     "text": [
      "100%|██████████| 22/22 [00:00<00:00, 3872.37it/s]\n"
     ]
    },
    {
     "name": "stdout",
     "output_type": "stream",
     "text": [
      "--- 0.013952016830444336 seconds for solution baseline ---\n",
      "initial solution\n"
     ]
    },
    {
     "name": "stderr",
     "output_type": "stream",
     "text": [
      "100%|██████████| 22/22 [00:00<00:00, 13005.59it/s]\n"
     ]
    },
    {
     "name": "stdout",
     "output_type": "stream",
     "text": [
      "--- 0.014854192733764648 seconds for solution baseline ---\n",
      "initial solution\n"
     ]
    },
    {
     "name": "stderr",
     "output_type": "stream",
     "text": [
      "100%|██████████| 22/22 [00:00<00:00, 4883.29it/s]\n"
     ]
    },
    {
     "name": "stdout",
     "output_type": "stream",
     "text": [
      "--- 0.004505157470703125 seconds for solution baseline ---\n",
      "initial solution\n"
     ]
    },
    {
     "name": "stderr",
     "output_type": "stream",
     "text": [
      "100%|██████████| 22/22 [00:00<?, ?it/s]\n"
     ]
    },
    {
     "name": "stdout",
     "output_type": "stream",
     "text": [
      "--- 0.0007357597351074219 seconds for solution baseline ---\n",
      "initial solution\n"
     ]
    },
    {
     "name": "stderr",
     "output_type": "stream",
     "text": [
      "100%|██████████| 22/22 [00:00<00:00, 2695.49it/s]\n"
     ]
    },
    {
     "name": "stdout",
     "output_type": "stream",
     "text": [
      "--- 0.011745452880859375 seconds for solution baseline ---\n",
      "initial solution\n"
     ]
    },
    {
     "name": "stderr",
     "output_type": "stream",
     "text": [
      "100%|██████████| 22/22 [00:00<00:00, 1463.91it/s]\n"
     ]
    },
    {
     "name": "stdout",
     "output_type": "stream",
     "text": [
      "--- 0.015028238296508789 seconds for solution baseline ---\n",
      "initial solution\n"
     ]
    },
    {
     "name": "stderr",
     "output_type": "stream",
     "text": [
      "100%|██████████| 22/22 [00:00<?, ?it/s]\n"
     ]
    },
    {
     "name": "stdout",
     "output_type": "stream",
     "text": [
      "--- 0.0 seconds for solution baseline ---\n",
      "initial solution\n"
     ]
    },
    {
     "name": "stderr",
     "output_type": "stream",
     "text": [
      "100%|██████████| 23/23 [00:00<00:00, 2703.80it/s]\n"
     ]
    },
    {
     "name": "stdout",
     "output_type": "stream",
     "text": [
      "--- 0.009116888046264648 seconds for solution baseline ---\n",
      "initial solution\n"
     ]
    },
    {
     "name": "stderr",
     "output_type": "stream",
     "text": [
      "100%|██████████| 23/23 [00:00<?, ?it/s]"
     ]
    },
    {
     "name": "stdout",
     "output_type": "stream",
     "text": [
      "--- 0.0 seconds for solution baseline ---\n"
     ]
    },
    {
     "name": "stderr",
     "output_type": "stream",
     "text": [
      "\n"
     ]
    },
    {
     "name": "stdout",
     "output_type": "stream",
     "text": [
      "initial solution\n"
     ]
    },
    {
     "name": "stderr",
     "output_type": "stream",
     "text": [
      "100%|██████████| 23/23 [00:00<00:00, 1653.03it/s]\n"
     ]
    },
    {
     "name": "stdout",
     "output_type": "stream",
     "text": [
      "--- 0.019762516021728516 seconds for solution baseline ---\n",
      "initial solution\n"
     ]
    },
    {
     "name": "stderr",
     "output_type": "stream",
     "text": [
      "100%|██████████| 23/23 [00:00<00:00, 10077.20it/s]\n"
     ]
    },
    {
     "name": "stdout",
     "output_type": "stream",
     "text": [
      "--- 0.015465259552001953 seconds for solution baseline ---\n",
      "initial solution\n"
     ]
    },
    {
     "name": "stderr",
     "output_type": "stream",
     "text": [
      "100%|██████████| 23/23 [00:00<?, ?it/s]"
     ]
    },
    {
     "name": "stdout",
     "output_type": "stream",
     "text": [
      "--- 0.0043752193450927734 seconds for solution baseline ---\n",
      "initial solution\n"
     ]
    },
    {
     "name": "stderr",
     "output_type": "stream",
     "text": [
      "\n",
      "100%|██████████| 23/23 [00:00<00:00, 1912.28it/s]\n"
     ]
    },
    {
     "name": "stdout",
     "output_type": "stream",
     "text": [
      "--- 0.019324064254760742 seconds for solution baseline ---\n",
      "initial solution\n"
     ]
    },
    {
     "name": "stderr",
     "output_type": "stream",
     "text": [
      "100%|██████████| 23/23 [00:00<00:00, 4070.59it/s]\n"
     ]
    },
    {
     "name": "stdout",
     "output_type": "stream",
     "text": [
      "--- 0.013948202133178711 seconds for solution baseline ---\n",
      "initial solution\n"
     ]
    },
    {
     "name": "stderr",
     "output_type": "stream",
     "text": [
      "100%|██████████| 23/23 [00:00<?, ?it/s]\n"
     ]
    },
    {
     "name": "stdout",
     "output_type": "stream",
     "text": [
      "--- 0.015009403228759766 seconds for solution baseline ---\n",
      "initial solution\n"
     ]
    },
    {
     "name": "stderr",
     "output_type": "stream",
     "text": [
      "100%|██████████| 23/23 [00:00<?, ?it/s]\n"
     ]
    },
    {
     "name": "stdout",
     "output_type": "stream",
     "text": [
      "--- 0.0 seconds for solution baseline ---\n",
      "initial solution\n"
     ]
    },
    {
     "name": "stderr",
     "output_type": "stream",
     "text": [
      "100%|██████████| 23/23 [00:00<?, ?it/s]\n"
     ]
    },
    {
     "name": "stdout",
     "output_type": "stream",
     "text": [
      "--- 0.014780521392822266 seconds for solution baseline ---\n",
      "initial solution\n"
     ]
    },
    {
     "name": "stderr",
     "output_type": "stream",
     "text": [
      "100%|██████████| 24/24 [00:00<00:00, 1599.20it/s]\n"
     ]
    },
    {
     "name": "stdout",
     "output_type": "stream",
     "text": [
      "--- 0.020891189575195312 seconds for solution baseline ---\n",
      "initial solution\n"
     ]
    },
    {
     "name": "stderr",
     "output_type": "stream",
     "text": [
      "100%|██████████| 24/24 [00:00<00:00, 1201.52it/s]\n"
     ]
    },
    {
     "name": "stdout",
     "output_type": "stream",
     "text": [
      "--- 0.020725011825561523 seconds for solution baseline ---\n",
      "initial solution\n"
     ]
    },
    {
     "name": "stderr",
     "output_type": "stream",
     "text": [
      "100%|██████████| 24/24 [00:00<00:00, 1559.12it/s]\n"
     ]
    },
    {
     "name": "stdout",
     "output_type": "stream",
     "text": [
      "--- 0.015393257141113281 seconds for solution baseline ---\n",
      "initial solution\n"
     ]
    },
    {
     "name": "stderr",
     "output_type": "stream",
     "text": [
      "100%|██████████| 24/24 [00:00<00:00, 3362.95it/s]\n"
     ]
    },
    {
     "name": "stdout",
     "output_type": "stream",
     "text": [
      "--- 0.011614322662353516 seconds for solution baseline ---\n",
      "initial solution\n"
     ]
    },
    {
     "name": "stderr",
     "output_type": "stream",
     "text": [
      "100%|██████████| 24/24 [00:00<00:00, 5284.72it/s]\n"
     ]
    },
    {
     "name": "stdout",
     "output_type": "stream",
     "text": [
      "--- 0.011114358901977539 seconds for solution baseline ---\n",
      "initial solution\n"
     ]
    },
    {
     "name": "stderr",
     "output_type": "stream",
     "text": [
      "100%|██████████| 24/24 [00:00<00:00, 4013.69it/s]\n"
     ]
    },
    {
     "name": "stdout",
     "output_type": "stream",
     "text": [
      "--- 0.020987510681152344 seconds for solution baseline ---\n",
      "initial solution\n"
     ]
    },
    {
     "name": "stderr",
     "output_type": "stream",
     "text": [
      "100%|██████████| 24/24 [00:00<00:00, 3164.02it/s]\n"
     ]
    },
    {
     "name": "stdout",
     "output_type": "stream",
     "text": [
      "--- 0.0179440975189209 seconds for solution baseline ---\n",
      "initial solution\n"
     ]
    },
    {
     "name": "stderr",
     "output_type": "stream",
     "text": [
      "100%|██████████| 24/24 [00:00<00:00, 1599.45it/s]\n"
     ]
    },
    {
     "name": "stdout",
     "output_type": "stream",
     "text": [
      "--- 0.015005111694335938 seconds for solution baseline ---\n",
      "initial solution\n"
     ]
    },
    {
     "name": "stderr",
     "output_type": "stream",
     "text": [
      "100%|██████████| 24/24 [00:00<00:00, 1586.95it/s]\n"
     ]
    },
    {
     "name": "stdout",
     "output_type": "stream",
     "text": [
      "--- 0.016754150390625 seconds for solution baseline ---\n",
      "initial solution\n"
     ]
    },
    {
     "name": "stderr",
     "output_type": "stream",
     "text": [
      "100%|██████████| 24/24 [00:00<00:00, 1599.61it/s]\n"
     ]
    },
    {
     "name": "stdout",
     "output_type": "stream",
     "text": [
      "--- 0.017180442810058594 seconds for solution baseline ---\n",
      "initial solution\n"
     ]
    },
    {
     "name": "stderr",
     "output_type": "stream",
     "text": [
      "100%|██████████| 25/25 [00:00<00:00, 1796.25it/s]"
     ]
    },
    {
     "name": "stdout",
     "output_type": "stream",
     "text": [
      "--- 0.018424034118652344 seconds for solution baseline ---\n",
      "initial solution\n"
     ]
    },
    {
     "name": "stderr",
     "output_type": "stream",
     "text": [
      "\n",
      "100%|██████████| 25/25 [00:00<00:00, 2973.50it/s]"
     ]
    },
    {
     "name": "stdout",
     "output_type": "stream",
     "text": [
      "--- 0.021466970443725586 seconds for solution baseline ---\n",
      "initial solution\n"
     ]
    },
    {
     "name": "stderr",
     "output_type": "stream",
     "text": [
      "\n",
      "100%|██████████| 25/25 [00:00<00:00, 1856.18it/s]\n"
     ]
    },
    {
     "name": "stdout",
     "output_type": "stream",
     "text": [
      "--- 0.013468503952026367 seconds for solution baseline ---\n",
      "initial solution\n"
     ]
    },
    {
     "name": "stderr",
     "output_type": "stream",
     "text": [
      "100%|██████████| 25/25 [00:00<00:00, 1436.58it/s]\n"
     ]
    },
    {
     "name": "stdout",
     "output_type": "stream",
     "text": [
      "--- 0.019779205322265625 seconds for solution baseline ---\n",
      "initial solution\n"
     ]
    },
    {
     "name": "stderr",
     "output_type": "stream",
     "text": [
      "100%|██████████| 25/25 [00:00<00:00, 8538.20it/s]\n"
     ]
    },
    {
     "name": "stdout",
     "output_type": "stream",
     "text": [
      "--- 0.016030550003051758 seconds for solution baseline ---\n",
      "initial solution\n"
     ]
    },
    {
     "name": "stderr",
     "output_type": "stream",
     "text": [
      "100%|██████████| 25/25 [00:00<00:00, 2271.17it/s]\n"
     ]
    },
    {
     "name": "stdout",
     "output_type": "stream",
     "text": [
      "--- 0.015017032623291016 seconds for solution baseline ---\n",
      "initial solution\n"
     ]
    },
    {
     "name": "stderr",
     "output_type": "stream",
     "text": [
      "100%|██████████| 25/25 [00:00<00:00, 1805.87it/s]\n"
     ]
    },
    {
     "name": "stdout",
     "output_type": "stream",
     "text": [
      "--- 0.013843774795532227 seconds for solution baseline ---\n",
      "initial solution\n"
     ]
    },
    {
     "name": "stderr",
     "output_type": "stream",
     "text": [
      "100%|██████████| 25/25 [00:00<00:00, 1173.05it/s]\n"
     ]
    },
    {
     "name": "stdout",
     "output_type": "stream",
     "text": [
      "--- 0.02131199836730957 seconds for solution baseline ---\n",
      "initial solution\n"
     ]
    },
    {
     "name": "stderr",
     "output_type": "stream",
     "text": [
      "100%|██████████| 25/25 [00:00<00:00, 1275.69it/s]\n"
     ]
    },
    {
     "name": "stdout",
     "output_type": "stream",
     "text": [
      "--- 0.019597291946411133 seconds for solution baseline ---\n",
      "initial solution\n"
     ]
    },
    {
     "name": "stderr",
     "output_type": "stream",
     "text": [
      "100%|██████████| 25/25 [00:00<00:00, 2745.54it/s]\n"
     ]
    },
    {
     "name": "stdout",
     "output_type": "stream",
     "text": [
      "--- 0.009105682373046875 seconds for solution baseline ---\n",
      "initial solution\n"
     ]
    },
    {
     "name": "stderr",
     "output_type": "stream",
     "text": [
      "100%|██████████| 26/26 [00:00<00:00, 1284.97it/s]\n"
     ]
    },
    {
     "name": "stdout",
     "output_type": "stream",
     "text": [
      "--- 0.020819664001464844 seconds for solution baseline ---\n",
      "initial solution\n"
     ]
    },
    {
     "name": "stderr",
     "output_type": "stream",
     "text": [
      "100%|██████████| 26/26 [00:00<00:00, 848.63it/s]\n"
     ]
    },
    {
     "name": "stdout",
     "output_type": "stream",
     "text": [
      "--- 0.03251767158508301 seconds for solution baseline ---\n",
      "initial solution\n"
     ]
    },
    {
     "name": "stderr",
     "output_type": "stream",
     "text": [
      "100%|██████████| 26/26 [00:00<00:00, 3026.19it/s]\n"
     ]
    },
    {
     "name": "stdout",
     "output_type": "stream",
     "text": [
      "--- 0.016802072525024414 seconds for solution baseline ---\n",
      "initial solution\n"
     ]
    },
    {
     "name": "stderr",
     "output_type": "stream",
     "text": [
      "100%|██████████| 26/26 [00:00<00:00, 1732.27it/s]\n"
     ]
    },
    {
     "name": "stdout",
     "output_type": "stream",
     "text": [
      "--- 0.015634775161743164 seconds for solution baseline ---\n",
      "initial solution\n"
     ]
    },
    {
     "name": "stderr",
     "output_type": "stream",
     "text": [
      "100%|██████████| 26/26 [00:00<00:00, 1766.82it/s]\n"
     ]
    },
    {
     "name": "stdout",
     "output_type": "stream",
     "text": [
      "--- 0.01471567153930664 seconds for solution baseline ---\n",
      "initial solution\n"
     ]
    },
    {
     "name": "stderr",
     "output_type": "stream",
     "text": [
      "100%|██████████| 26/26 [00:00<00:00, 1544.89it/s]\n"
     ]
    },
    {
     "name": "stdout",
     "output_type": "stream",
     "text": [
      "--- 0.016829729080200195 seconds for solution baseline ---\n",
      "initial solution\n"
     ]
    },
    {
     "name": "stderr",
     "output_type": "stream",
     "text": [
      "100%|██████████| 26/26 [00:00<00:00, 1501.06it/s]\n"
     ]
    },
    {
     "name": "stdout",
     "output_type": "stream",
     "text": [
      "--- 0.023909568786621094 seconds for solution baseline ---\n",
      "initial solution\n"
     ]
    },
    {
     "name": "stderr",
     "output_type": "stream",
     "text": [
      "100%|██████████| 26/26 [00:00<00:00, 1453.87it/s]\n"
     ]
    },
    {
     "name": "stdout",
     "output_type": "stream",
     "text": [
      "--- 0.024887561798095703 seconds for solution baseline ---\n",
      "initial solution\n"
     ]
    },
    {
     "name": "stderr",
     "output_type": "stream",
     "text": [
      "100%|██████████| 26/26 [00:00<00:00, 1732.36it/s]\n"
     ]
    },
    {
     "name": "stdout",
     "output_type": "stream",
     "text": [
      "--- 0.01578354835510254 seconds for solution baseline ---\n",
      "initial solution\n"
     ]
    },
    {
     "name": "stderr",
     "output_type": "stream",
     "text": [
      "100%|██████████| 26/26 [00:00<00:00, 3824.10it/s]\n"
     ]
    },
    {
     "name": "stdout",
     "output_type": "stream",
     "text": [
      "--- 0.010306119918823242 seconds for solution baseline ---\n",
      "initial solution\n"
     ]
    },
    {
     "name": "stderr",
     "output_type": "stream",
     "text": [
      "100%|██████████| 27/27 [00:00<00:00, 1652.70it/s]\n"
     ]
    },
    {
     "name": "stdout",
     "output_type": "stream",
     "text": [
      "--- 0.022098541259765625 seconds for solution baseline ---\n",
      "initial solution\n"
     ]
    },
    {
     "name": "stderr",
     "output_type": "stream",
     "text": [
      "100%|██████████| 27/27 [00:00<00:00, 5175.79it/s]\n"
     ]
    },
    {
     "name": "stdout",
     "output_type": "stream",
     "text": [
      "--- 0.01544952392578125 seconds for solution baseline ---\n",
      "initial solution\n"
     ]
    },
    {
     "name": "stderr",
     "output_type": "stream",
     "text": [
      "100%|██████████| 27/27 [00:00<00:00, 1834.01it/s]\n"
     ]
    },
    {
     "name": "stdout",
     "output_type": "stream",
     "text": [
      "--- 0.020980119705200195 seconds for solution baseline ---\n",
      "initial solution\n"
     ]
    },
    {
     "name": "stderr",
     "output_type": "stream",
     "text": [
      "100%|██████████| 27/27 [00:00<00:00, 1478.35it/s]\n"
     ]
    },
    {
     "name": "stdout",
     "output_type": "stream",
     "text": [
      "--- 0.03502249717712402 seconds for solution baseline ---\n",
      "initial solution\n"
     ]
    },
    {
     "name": "stderr",
     "output_type": "stream",
     "text": [
      "100%|██████████| 27/27 [00:00<00:00, 1008.74it/s]\n"
     ]
    },
    {
     "name": "stdout",
     "output_type": "stream",
     "text": [
      "--- 0.03233909606933594 seconds for solution baseline ---\n",
      "initial solution\n"
     ]
    },
    {
     "name": "stderr",
     "output_type": "stream",
     "text": [
      "100%|██████████| 27/27 [00:00<00:00, 2615.57it/s]\n"
     ]
    },
    {
     "name": "stdout",
     "output_type": "stream",
     "text": [
      "--- 0.02642226219177246 seconds for solution baseline ---\n",
      "initial solution\n"
     ]
    },
    {
     "name": "stderr",
     "output_type": "stream",
     "text": [
      "100%|██████████| 27/27 [00:00<00:00, 1567.10it/s]\n"
     ]
    },
    {
     "name": "stdout",
     "output_type": "stream",
     "text": [
      "--- 0.02808833122253418 seconds for solution baseline ---\n",
      "initial solution\n"
     ]
    },
    {
     "name": "stderr",
     "output_type": "stream",
     "text": [
      "100%|██████████| 27/27 [00:00<00:00, 1175.14it/s]\n"
     ]
    },
    {
     "name": "stdout",
     "output_type": "stream",
     "text": [
      "--- 0.023482799530029297 seconds for solution baseline ---\n",
      "initial solution\n"
     ]
    },
    {
     "name": "stderr",
     "output_type": "stream",
     "text": [
      "100%|██████████| 27/27 [00:00<00:00, 2096.88it/s]\n"
     ]
    },
    {
     "name": "stdout",
     "output_type": "stream",
     "text": [
      "--- 0.012876272201538086 seconds for solution baseline ---\n",
      "initial solution\n"
     ]
    },
    {
     "name": "stderr",
     "output_type": "stream",
     "text": [
      "100%|██████████| 27/27 [00:00<00:00, 1749.27it/s]\n"
     ]
    },
    {
     "name": "stdout",
     "output_type": "stream",
     "text": [
      "--- 0.03107285499572754 seconds for solution baseline ---\n",
      "initial solution\n"
     ]
    },
    {
     "name": "stderr",
     "output_type": "stream",
     "text": [
      "100%|██████████| 28/28 [00:00<00:00, 1790.01it/s]"
     ]
    },
    {
     "name": "stdout",
     "output_type": "stream",
     "text": [
      "--- 0.015642404556274414 seconds for solution baseline ---\n",
      "initial solution\n"
     ]
    },
    {
     "name": "stderr",
     "output_type": "stream",
     "text": [
      "\n",
      "100%|██████████| 28/28 [00:00<00:00, 1234.12it/s]\n"
     ]
    },
    {
     "name": "stdout",
     "output_type": "stream",
     "text": [
      "--- 0.02582693099975586 seconds for solution baseline ---\n",
      "initial solution\n"
     ]
    },
    {
     "name": "stderr",
     "output_type": "stream",
     "text": [
      "100%|██████████| 28/28 [00:00<00:00, 1232.12it/s]\n"
     ]
    },
    {
     "name": "stdout",
     "output_type": "stream",
     "text": [
      "--- 0.02694869041442871 seconds for solution baseline ---\n",
      "initial solution\n"
     ]
    },
    {
     "name": "stderr",
     "output_type": "stream",
     "text": [
      "100%|██████████| 28/28 [00:00<00:00, 1380.45it/s]"
     ]
    },
    {
     "name": "stdout",
     "output_type": "stream",
     "text": [
      "--- 0.02943587303161621 seconds for solution baseline ---\n",
      "initial solution\n"
     ]
    },
    {
     "name": "stderr",
     "output_type": "stream",
     "text": [
      "\n",
      "100%|██████████| 28/28 [00:00<00:00, 1503.84it/s]\n"
     ]
    },
    {
     "name": "stdout",
     "output_type": "stream",
     "text": [
      "--- 0.024100065231323242 seconds for solution baseline ---\n",
      "initial solution\n"
     ]
    },
    {
     "name": "stderr",
     "output_type": "stream",
     "text": [
      "100%|██████████| 28/28 [00:00<00:00, 1450.98it/s]\n"
     ]
    },
    {
     "name": "stdout",
     "output_type": "stream",
     "text": [
      "--- 0.02730083465576172 seconds for solution baseline ---\n",
      "initial solution\n"
     ]
    },
    {
     "name": "stderr",
     "output_type": "stream",
     "text": [
      "100%|██████████| 28/28 [00:00<00:00, 950.54it/s]\n"
     ]
    },
    {
     "name": "stdout",
     "output_type": "stream",
     "text": [
      "--- 0.03591012954711914 seconds for solution baseline ---\n",
      "initial solution\n"
     ]
    },
    {
     "name": "stderr",
     "output_type": "stream",
     "text": [
      "100%|██████████| 28/28 [00:00<00:00, 832.79it/s]\n"
     ]
    },
    {
     "name": "stdout",
     "output_type": "stream",
     "text": [
      "--- 0.04045987129211426 seconds for solution baseline ---\n",
      "initial solution\n"
     ]
    },
    {
     "name": "stderr",
     "output_type": "stream",
     "text": [
      "100%|██████████| 28/28 [00:00<00:00, 1175.18it/s]\n"
     ]
    },
    {
     "name": "stdout",
     "output_type": "stream",
     "text": [
      "--- 0.03323554992675781 seconds for solution baseline ---\n",
      "initial solution\n"
     ]
    },
    {
     "name": "stderr",
     "output_type": "stream",
     "text": [
      "100%|██████████| 28/28 [00:00<00:00, 1441.32it/s]"
     ]
    },
    {
     "name": "stdout",
     "output_type": "stream",
     "text": [
      "--- 0.025435209274291992 seconds for solution baseline ---\n",
      "initial solution\n"
     ]
    },
    {
     "name": "stderr",
     "output_type": "stream",
     "text": [
      "\n",
      "100%|██████████| 29/29 [00:00<00:00, 1259.79it/s]\n"
     ]
    },
    {
     "name": "stdout",
     "output_type": "stream",
     "text": [
      "--- 0.030567646026611328 seconds for solution baseline ---\n",
      "initial solution\n"
     ]
    },
    {
     "name": "stderr",
     "output_type": "stream",
     "text": [
      "100%|██████████| 29/29 [00:00<00:00, 1269.26it/s]\n"
     ]
    },
    {
     "name": "stdout",
     "output_type": "stream",
     "text": [
      "--- 0.02770209312438965 seconds for solution baseline ---\n",
      "initial solution\n"
     ]
    },
    {
     "name": "stderr",
     "output_type": "stream",
     "text": [
      "100%|██████████| 29/29 [00:00<00:00, 1245.61it/s]\n"
     ]
    },
    {
     "name": "stdout",
     "output_type": "stream",
     "text": [
      "--- 0.02883458137512207 seconds for solution baseline ---\n",
      "initial solution\n"
     ]
    },
    {
     "name": "stderr",
     "output_type": "stream",
     "text": [
      "100%|██████████| 29/29 [00:00<00:00, 1302.97it/s]\n"
     ]
    },
    {
     "name": "stdout",
     "output_type": "stream",
     "text": [
      "--- 0.02785205841064453 seconds for solution baseline ---\n",
      "initial solution\n"
     ]
    },
    {
     "name": "stderr",
     "output_type": "stream",
     "text": [
      "100%|██████████| 29/29 [00:00<00:00, 1252.06it/s]\n"
     ]
    },
    {
     "name": "stdout",
     "output_type": "stream",
     "text": [
      "--- 0.029046297073364258 seconds for solution baseline ---\n",
      "initial solution\n"
     ]
    },
    {
     "name": "stderr",
     "output_type": "stream",
     "text": [
      "100%|██████████| 29/29 [00:00<00:00, 1364.03it/s]\n"
     ]
    },
    {
     "name": "stdout",
     "output_type": "stream",
     "text": [
      "--- 0.028916358947753906 seconds for solution baseline ---\n",
      "initial solution\n"
     ]
    },
    {
     "name": "stderr",
     "output_type": "stream",
     "text": [
      "100%|██████████| 29/29 [00:00<00:00, 1231.88it/s]\n"
     ]
    },
    {
     "name": "stdout",
     "output_type": "stream",
     "text": [
      "--- 0.029429912567138672 seconds for solution baseline ---\n",
      "initial solution\n"
     ]
    },
    {
     "name": "stderr",
     "output_type": "stream",
     "text": [
      "100%|██████████| 29/29 [00:00<00:00, 1375.83it/s]\n"
     ]
    },
    {
     "name": "stdout",
     "output_type": "stream",
     "text": [
      "--- 0.027292251586914062 seconds for solution baseline ---\n",
      "initial solution\n"
     ]
    },
    {
     "name": "stderr",
     "output_type": "stream",
     "text": [
      "100%|██████████| 29/29 [00:00<00:00, 1260.91it/s]\n"
     ]
    },
    {
     "name": "stdout",
     "output_type": "stream",
     "text": [
      "--- 0.0287930965423584 seconds for solution baseline ---\n",
      "initial solution\n"
     ]
    },
    {
     "name": "stderr",
     "output_type": "stream",
     "text": [
      "100%|██████████| 29/29 [00:00<00:00, 1321.46it/s]\n"
     ]
    },
    {
     "name": "stdout",
     "output_type": "stream",
     "text": [
      "--- 0.0264589786529541 seconds for solution baseline ---\n",
      "initial solution\n"
     ]
    },
    {
     "name": "stderr",
     "output_type": "stream",
     "text": [
      "100%|██████████| 30/30 [00:00<00:00, 1185.31it/s]\n"
     ]
    },
    {
     "name": "stdout",
     "output_type": "stream",
     "text": [
      "--- 0.03186798095703125 seconds for solution baseline ---\n",
      "initial solution\n"
     ]
    },
    {
     "name": "stderr",
     "output_type": "stream",
     "text": [
      "100%|██████████| 30/30 [00:00<00:00, 1138.51it/s]\n"
     ]
    },
    {
     "name": "stdout",
     "output_type": "stream",
     "text": [
      "--- 0.032370567321777344 seconds for solution baseline ---\n",
      "initial solution\n"
     ]
    },
    {
     "name": "stderr",
     "output_type": "stream",
     "text": [
      "100%|██████████| 30/30 [00:00<00:00, 1163.53it/s]\n"
     ]
    },
    {
     "name": "stdout",
     "output_type": "stream",
     "text": [
      "--- 0.03295326232910156 seconds for solution baseline ---\n",
      "initial solution\n"
     ]
    },
    {
     "name": "stderr",
     "output_type": "stream",
     "text": [
      "100%|██████████| 30/30 [00:00<00:00, 1306.09it/s]\n"
     ]
    },
    {
     "name": "stdout",
     "output_type": "stream",
     "text": [
      "--- 0.02998185157775879 seconds for solution baseline ---\n",
      "initial solution\n"
     ]
    },
    {
     "name": "stderr",
     "output_type": "stream",
     "text": [
      "100%|██████████| 30/30 [00:00<00:00, 1235.62it/s]\n"
     ]
    },
    {
     "name": "stdout",
     "output_type": "stream",
     "text": [
      "--- 0.03033757209777832 seconds for solution baseline ---\n",
      "initial solution\n"
     ]
    },
    {
     "name": "stderr",
     "output_type": "stream",
     "text": [
      "100%|██████████| 30/30 [00:00<00:00, 1201.71it/s]\n"
     ]
    },
    {
     "name": "stdout",
     "output_type": "stream",
     "text": [
      "--- 0.19586658477783203 seconds for solution baseline ---\n",
      "initial solution\n"
     ]
    },
    {
     "name": "stderr",
     "output_type": "stream",
     "text": [
      "100%|██████████| 30/30 [00:00<00:00, 1083.66it/s]\n"
     ]
    },
    {
     "name": "stdout",
     "output_type": "stream",
     "text": [
      "--- 0.03368639945983887 seconds for solution baseline ---\n",
      "initial solution\n"
     ]
    },
    {
     "name": "stderr",
     "output_type": "stream",
     "text": [
      "100%|██████████| 30/30 [00:00<00:00, 1162.68it/s]\n"
     ]
    },
    {
     "name": "stdout",
     "output_type": "stream",
     "text": [
      "--- 0.031322479248046875 seconds for solution baseline ---\n",
      "initial solution\n"
     ]
    },
    {
     "name": "stderr",
     "output_type": "stream",
     "text": [
      "100%|██████████| 30/30 [00:00<00:00, 1207.49it/s]\n"
     ]
    },
    {
     "name": "stdout",
     "output_type": "stream",
     "text": [
      "--- 0.03007197380065918 seconds for solution baseline ---\n",
      "initial solution\n"
     ]
    },
    {
     "name": "stderr",
     "output_type": "stream",
     "text": [
      "100%|██████████| 30/30 [00:00<00:00, 1220.95it/s]"
     ]
    },
    {
     "name": "stdout",
     "output_type": "stream",
     "text": [
      "--- 0.032486677169799805 seconds for solution baseline ---\n",
      "initial solution\n"
     ]
    },
    {
     "name": "stderr",
     "output_type": "stream",
     "text": [
      "\n",
      "100%|██████████| 31/31 [00:00<00:00, 1026.10it/s]"
     ]
    },
    {
     "name": "stdout",
     "output_type": "stream",
     "text": [
      "--- 0.03621673583984375 seconds for solution baseline ---\n",
      "initial solution\n"
     ]
    },
    {
     "name": "stderr",
     "output_type": "stream",
     "text": [
      "\n",
      "100%|██████████| 31/31 [00:00<00:00, 1076.16it/s]\n"
     ]
    },
    {
     "name": "stdout",
     "output_type": "stream",
     "text": [
      "--- 0.03469491004943848 seconds for solution baseline ---\n",
      "initial solution\n"
     ]
    },
    {
     "name": "stderr",
     "output_type": "stream",
     "text": [
      "100%|██████████| 31/31 [00:00<00:00, 1152.66it/s]\n"
     ]
    },
    {
     "name": "stdout",
     "output_type": "stream",
     "text": [
      "--- 0.03466439247131348 seconds for solution baseline ---\n",
      "initial solution\n"
     ]
    },
    {
     "name": "stderr",
     "output_type": "stream",
     "text": [
      "100%|██████████| 31/31 [00:00<00:00, 1052.64it/s]\n"
     ]
    },
    {
     "name": "stdout",
     "output_type": "stream",
     "text": [
      "--- 0.03661990165710449 seconds for solution baseline ---\n",
      "initial solution\n"
     ]
    },
    {
     "name": "stderr",
     "output_type": "stream",
     "text": [
      "100%|██████████| 31/31 [00:00<00:00, 1017.41it/s]"
     ]
    },
    {
     "name": "stdout",
     "output_type": "stream",
     "text": [
      "--- 0.03852558135986328 seconds for solution baseline ---\n",
      "initial solution\n"
     ]
    },
    {
     "name": "stderr",
     "output_type": "stream",
     "text": [
      "\n",
      "100%|██████████| 31/31 [00:00<00:00, 1025.13it/s]\n"
     ]
    },
    {
     "name": "stdout",
     "output_type": "stream",
     "text": [
      "--- 0.03615140914916992 seconds for solution baseline ---\n",
      "initial solution\n"
     ]
    },
    {
     "name": "stderr",
     "output_type": "stream",
     "text": [
      "100%|██████████| 31/31 [00:00<00:00, 1073.93it/s]\n"
     ]
    },
    {
     "name": "stdout",
     "output_type": "stream",
     "text": [
      "--- 0.035867929458618164 seconds for solution baseline ---\n",
      "initial solution\n"
     ]
    },
    {
     "name": "stderr",
     "output_type": "stream",
     "text": [
      "100%|██████████| 31/31 [00:00<00:00, 1097.85it/s]\n"
     ]
    },
    {
     "name": "stdout",
     "output_type": "stream",
     "text": [
      "--- 0.03511404991149902 seconds for solution baseline ---\n",
      "initial solution\n"
     ]
    },
    {
     "name": "stderr",
     "output_type": "stream",
     "text": [
      "100%|██████████| 31/31 [00:00<00:00, 1183.72it/s]\n"
     ]
    },
    {
     "name": "stdout",
     "output_type": "stream",
     "text": [
      "--- 0.035187721252441406 seconds for solution baseline ---\n",
      "initial solution\n"
     ]
    },
    {
     "name": "stderr",
     "output_type": "stream",
     "text": [
      "100%|██████████| 31/31 [00:00<00:00, 1159.85it/s]\n"
     ]
    },
    {
     "name": "stdout",
     "output_type": "stream",
     "text": [
      "--- 0.03314685821533203 seconds for solution baseline ---\n",
      "initial solution\n"
     ]
    },
    {
     "name": "stderr",
     "output_type": "stream",
     "text": [
      "100%|██████████| 32/32 [00:00<00:00, 997.61it/s]\n"
     ]
    },
    {
     "name": "stdout",
     "output_type": "stream",
     "text": [
      "--- 0.03772330284118652 seconds for solution baseline ---\n",
      "initial solution\n"
     ]
    },
    {
     "name": "stderr",
     "output_type": "stream",
     "text": [
      "100%|██████████| 32/32 [00:00<00:00, 876.76it/s]\n"
     ]
    },
    {
     "name": "stdout",
     "output_type": "stream",
     "text": [
      "--- 0.04209280014038086 seconds for solution baseline ---\n",
      "initial solution\n"
     ]
    },
    {
     "name": "stderr",
     "output_type": "stream",
     "text": [
      "100%|██████████| 32/32 [00:00<00:00, 970.79it/s]\n"
     ]
    },
    {
     "name": "stdout",
     "output_type": "stream",
     "text": [
      "--- 0.041695356369018555 seconds for solution baseline ---\n",
      "initial solution\n"
     ]
    },
    {
     "name": "stderr",
     "output_type": "stream",
     "text": [
      "100%|██████████| 32/32 [00:00<00:00, 1050.09it/s]\n"
     ]
    },
    {
     "name": "stdout",
     "output_type": "stream",
     "text": [
      "--- 0.038483619689941406 seconds for solution baseline ---\n",
      "initial solution\n"
     ]
    },
    {
     "name": "stderr",
     "output_type": "stream",
     "text": [
      "100%|██████████| 32/32 [00:00<00:00, 1046.59it/s]\n"
     ]
    },
    {
     "name": "stdout",
     "output_type": "stream",
     "text": [
      "--- 0.0355832576751709 seconds for solution baseline ---\n",
      "initial solution\n"
     ]
    },
    {
     "name": "stderr",
     "output_type": "stream",
     "text": [
      "100%|██████████| 32/32 [00:00<00:00, 952.13it/s]\n"
     ]
    },
    {
     "name": "stdout",
     "output_type": "stream",
     "text": [
      "--- 0.03937411308288574 seconds for solution baseline ---\n",
      "initial solution\n"
     ]
    },
    {
     "name": "stderr",
     "output_type": "stream",
     "text": [
      "100%|██████████| 32/32 [00:00<00:00, 1035.90it/s]\n"
     ]
    },
    {
     "name": "stdout",
     "output_type": "stream",
     "text": [
      "--- 0.03566288948059082 seconds for solution baseline ---\n",
      "initial solution\n"
     ]
    },
    {
     "name": "stderr",
     "output_type": "stream",
     "text": [
      "100%|██████████| 32/32 [00:00<00:00, 1075.32it/s]"
     ]
    },
    {
     "name": "stdout",
     "output_type": "stream",
     "text": [
      "--- 0.037773847579956055 seconds for solution baseline ---\n"
     ]
    },
    {
     "name": "stderr",
     "output_type": "stream",
     "text": [
      "\n"
     ]
    },
    {
     "name": "stdout",
     "output_type": "stream",
     "text": [
      "initial solution\n"
     ]
    },
    {
     "name": "stderr",
     "output_type": "stream",
     "text": [
      "100%|██████████| 32/32 [00:00<00:00, 908.11it/s]\n"
     ]
    },
    {
     "name": "stdout",
     "output_type": "stream",
     "text": [
      "--- 0.04223465919494629 seconds for solution baseline ---\n",
      "initial solution\n"
     ]
    },
    {
     "name": "stderr",
     "output_type": "stream",
     "text": [
      "100%|██████████| 32/32 [00:00<00:00, 980.62it/s]\n"
     ]
    },
    {
     "name": "stdout",
     "output_type": "stream",
     "text": [
      "--- 0.03764057159423828 seconds for solution baseline ---\n",
      "initial solution\n"
     ]
    },
    {
     "name": "stderr",
     "output_type": "stream",
     "text": [
      "100%|██████████| 33/33 [00:00<00:00, 791.24it/s]\n"
     ]
    },
    {
     "name": "stdout",
     "output_type": "stream",
     "text": [
      "--- 0.04873180389404297 seconds for solution baseline ---\n",
      "initial solution\n"
     ]
    },
    {
     "name": "stderr",
     "output_type": "stream",
     "text": [
      "100%|██████████| 33/33 [00:00<00:00, 952.04it/s]\n"
     ]
    },
    {
     "name": "stdout",
     "output_type": "stream",
     "text": [
      "--- 0.04238724708557129 seconds for solution baseline ---\n",
      "initial solution\n"
     ]
    },
    {
     "name": "stderr",
     "output_type": "stream",
     "text": [
      "100%|██████████| 33/33 [00:00<00:00, 1007.75it/s]\n"
     ]
    },
    {
     "name": "stdout",
     "output_type": "stream",
     "text": [
      "--- 0.03869175910949707 seconds for solution baseline ---\n",
      "initial solution\n"
     ]
    },
    {
     "name": "stderr",
     "output_type": "stream",
     "text": [
      "100%|██████████| 33/33 [00:00<00:00, 803.88it/s]\n"
     ]
    },
    {
     "name": "stdout",
     "output_type": "stream",
     "text": [
      "--- 0.04723787307739258 seconds for solution baseline ---\n",
      "initial solution\n"
     ]
    },
    {
     "name": "stderr",
     "output_type": "stream",
     "text": [
      "100%|██████████| 33/33 [00:00<00:00, 972.70it/s]\n"
     ]
    },
    {
     "name": "stdout",
     "output_type": "stream",
     "text": [
      "--- 0.039931297302246094 seconds for solution baseline ---\n",
      "initial solution\n"
     ]
    },
    {
     "name": "stderr",
     "output_type": "stream",
     "text": [
      "100%|██████████| 33/33 [00:00<00:00, 956.36it/s]\n"
     ]
    },
    {
     "name": "stdout",
     "output_type": "stream",
     "text": [
      "--- 0.043027639389038086 seconds for solution baseline ---\n",
      "initial solution\n"
     ]
    },
    {
     "name": "stderr",
     "output_type": "stream",
     "text": [
      "100%|██████████| 33/33 [00:00<00:00, 886.46it/s]\n"
     ]
    },
    {
     "name": "stdout",
     "output_type": "stream",
     "text": [
      "--- 0.04534745216369629 seconds for solution baseline ---\n",
      "initial solution\n"
     ]
    },
    {
     "name": "stderr",
     "output_type": "stream",
     "text": [
      "100%|██████████| 33/33 [00:00<00:00, 951.16it/s]\n"
     ]
    },
    {
     "name": "stdout",
     "output_type": "stream",
     "text": [
      "--- 0.040204763412475586 seconds for solution baseline ---\n",
      "initial solution\n"
     ]
    },
    {
     "name": "stderr",
     "output_type": "stream",
     "text": [
      "100%|██████████| 33/33 [00:00<00:00, 962.74it/s]\n"
     ]
    },
    {
     "name": "stdout",
     "output_type": "stream",
     "text": [
      "--- 0.041543006896972656 seconds for solution baseline ---\n",
      "initial solution\n"
     ]
    },
    {
     "name": "stderr",
     "output_type": "stream",
     "text": [
      "100%|██████████| 33/33 [00:00<00:00, 791.89it/s]\n"
     ]
    },
    {
     "name": "stdout",
     "output_type": "stream",
     "text": [
      "--- 0.04767251014709473 seconds for solution baseline ---\n",
      "initial solution\n"
     ]
    },
    {
     "name": "stderr",
     "output_type": "stream",
     "text": [
      "100%|██████████| 34/34 [00:00<00:00, 818.38it/s]\n"
     ]
    },
    {
     "name": "stdout",
     "output_type": "stream",
     "text": [
      "--- 0.04789137840270996 seconds for solution baseline ---\n",
      "initial solution\n"
     ]
    },
    {
     "name": "stderr",
     "output_type": "stream",
     "text": [
      "100%|██████████| 34/34 [00:00<00:00, 931.52it/s]\n"
     ]
    },
    {
     "name": "stdout",
     "output_type": "stream",
     "text": [
      "--- 0.04308772087097168 seconds for solution baseline ---\n",
      "initial solution\n"
     ]
    },
    {
     "name": "stderr",
     "output_type": "stream",
     "text": [
      "100%|██████████| 34/34 [00:00<00:00, 924.17it/s]\n"
     ]
    },
    {
     "name": "stdout",
     "output_type": "stream",
     "text": [
      "--- 0.045797109603881836 seconds for solution baseline ---\n",
      "initial solution\n"
     ]
    },
    {
     "name": "stderr",
     "output_type": "stream",
     "text": [
      "100%|██████████| 34/34 [00:00<00:00, 946.10it/s]\n"
     ]
    },
    {
     "name": "stdout",
     "output_type": "stream",
     "text": [
      "--- 0.04193878173828125 seconds for solution baseline ---\n",
      "initial solution\n"
     ]
    },
    {
     "name": "stderr",
     "output_type": "stream",
     "text": [
      "100%|██████████| 34/34 [00:00<00:00, 780.06it/s]\n"
     ]
    },
    {
     "name": "stdout",
     "output_type": "stream",
     "text": [
      "--- 0.0531463623046875 seconds for solution baseline ---\n",
      "initial solution\n"
     ]
    },
    {
     "name": "stderr",
     "output_type": "stream",
     "text": [
      "100%|██████████| 34/34 [00:00<00:00, 835.33it/s]\n"
     ]
    },
    {
     "name": "stdout",
     "output_type": "stream",
     "text": [
      "--- 0.04670238494873047 seconds for solution baseline ---\n",
      "initial solution\n"
     ]
    },
    {
     "name": "stderr",
     "output_type": "stream",
     "text": [
      "100%|██████████| 34/34 [00:00<00:00, 929.58it/s]"
     ]
    },
    {
     "name": "stdout",
     "output_type": "stream",
     "text": [
      "--- 0.04420304298400879 seconds for solution baseline ---\n",
      "initial solution\n"
     ]
    },
    {
     "name": "stderr",
     "output_type": "stream",
     "text": [
      "\n",
      "100%|██████████| 34/34 [00:00<00:00, 804.46it/s]\n"
     ]
    },
    {
     "name": "stdout",
     "output_type": "stream",
     "text": [
      "--- 0.04627108573913574 seconds for solution baseline ---\n",
      "initial solution\n"
     ]
    },
    {
     "name": "stderr",
     "output_type": "stream",
     "text": [
      "100%|██████████| 34/34 [00:00<00:00, 896.03it/s]\n"
     ]
    },
    {
     "name": "stdout",
     "output_type": "stream",
     "text": [
      "--- 0.04594922065734863 seconds for solution baseline ---\n",
      "initial solution\n"
     ]
    },
    {
     "name": "stderr",
     "output_type": "stream",
     "text": [
      "100%|██████████| 34/34 [00:00<00:00, 743.05it/s]\n"
     ]
    },
    {
     "name": "stdout",
     "output_type": "stream",
     "text": [
      "--- 0.053244590759277344 seconds for solution baseline ---\n",
      "initial solution\n"
     ]
    },
    {
     "name": "stderr",
     "output_type": "stream",
     "text": [
      "100%|██████████| 35/35 [00:00<00:00, 764.82it/s]\n"
     ]
    },
    {
     "name": "stdout",
     "output_type": "stream",
     "text": [
      "--- 0.05368375778198242 seconds for solution baseline ---\n",
      "initial solution\n"
     ]
    },
    {
     "name": "stderr",
     "output_type": "stream",
     "text": [
      "100%|██████████| 35/35 [00:00<00:00, 787.85it/s]\n"
     ]
    },
    {
     "name": "stdout",
     "output_type": "stream",
     "text": [
      "--- 0.05183076858520508 seconds for solution baseline ---\n",
      "initial solution\n"
     ]
    },
    {
     "name": "stderr",
     "output_type": "stream",
     "text": [
      "100%|██████████| 35/35 [00:00<00:00, 870.82it/s]\n"
     ]
    },
    {
     "name": "stdout",
     "output_type": "stream",
     "text": [
      "--- 0.048827409744262695 seconds for solution baseline ---\n",
      "initial solution\n"
     ]
    },
    {
     "name": "stderr",
     "output_type": "stream",
     "text": [
      "100%|██████████| 35/35 [00:00<00:00, 793.61it/s]\n"
     ]
    },
    {
     "name": "stdout",
     "output_type": "stream",
     "text": [
      "--- 0.05281972885131836 seconds for solution baseline ---\n",
      "initial solution\n"
     ]
    },
    {
     "name": "stderr",
     "output_type": "stream",
     "text": [
      "100%|██████████| 35/35 [00:00<00:00, 870.93it/s]\n"
     ]
    },
    {
     "name": "stdout",
     "output_type": "stream",
     "text": [
      "--- 0.049192190170288086 seconds for solution baseline ---\n",
      "initial solution\n"
     ]
    },
    {
     "name": "stderr",
     "output_type": "stream",
     "text": [
      "100%|██████████| 35/35 [00:00<00:00, 760.37it/s]\n"
     ]
    },
    {
     "name": "stdout",
     "output_type": "stream",
     "text": [
      "--- 0.05303525924682617 seconds for solution baseline ---\n",
      "initial solution\n"
     ]
    },
    {
     "name": "stderr",
     "output_type": "stream",
     "text": [
      "100%|██████████| 35/35 [00:00<00:00, 822.04it/s]\n"
     ]
    },
    {
     "name": "stdout",
     "output_type": "stream",
     "text": [
      "--- 0.05058169364929199 seconds for solution baseline ---\n",
      "initial solution\n"
     ]
    },
    {
     "name": "stderr",
     "output_type": "stream",
     "text": [
      "100%|██████████| 35/35 [00:00<00:00, 732.70it/s]"
     ]
    },
    {
     "name": "stdout",
     "output_type": "stream",
     "text": [
      "--- 0.05499696731567383 seconds for solution baseline ---"
     ]
    },
    {
     "name": "stderr",
     "output_type": "stream",
     "text": [
      "\n"
     ]
    },
    {
     "name": "stdout",
     "output_type": "stream",
     "text": [
      "\n",
      "initial solution\n"
     ]
    },
    {
     "name": "stderr",
     "output_type": "stream",
     "text": [
      "100%|██████████| 35/35 [00:00<00:00, 726.63it/s]\n"
     ]
    },
    {
     "name": "stdout",
     "output_type": "stream",
     "text": [
      "--- 0.05537581443786621 seconds for solution baseline ---\n",
      "initial solution\n"
     ]
    },
    {
     "name": "stderr",
     "output_type": "stream",
     "text": [
      "100%|██████████| 35/35 [00:00<00:00, 813.27it/s]\n"
     ]
    },
    {
     "name": "stdout",
     "output_type": "stream",
     "text": [
      "--- 0.04931020736694336 seconds for solution baseline ---\n",
      "initial solution\n"
     ]
    },
    {
     "name": "stderr",
     "output_type": "stream",
     "text": [
      "100%|██████████| 36/36 [00:00<00:00, 700.10it/s]\n"
     ]
    },
    {
     "name": "stdout",
     "output_type": "stream",
     "text": [
      "--- 0.05962324142456055 seconds for solution baseline ---\n",
      "initial solution\n"
     ]
    },
    {
     "name": "stderr",
     "output_type": "stream",
     "text": [
      "100%|██████████| 36/36 [00:00<00:00, 751.63it/s]\n"
     ]
    },
    {
     "name": "stdout",
     "output_type": "stream",
     "text": [
      "--- 0.05446982383728027 seconds for solution baseline ---\n",
      "initial solution\n"
     ]
    },
    {
     "name": "stderr",
     "output_type": "stream",
     "text": [
      "100%|██████████| 36/36 [00:00<00:00, 811.79it/s]\n"
     ]
    },
    {
     "name": "stdout",
     "output_type": "stream",
     "text": [
      "--- 0.051248788833618164 seconds for solution baseline ---\n",
      "initial solution\n"
     ]
    },
    {
     "name": "stderr",
     "output_type": "stream",
     "text": [
      "100%|██████████| 36/36 [00:00<00:00, 549.99it/s]\n"
     ]
    },
    {
     "name": "stdout",
     "output_type": "stream",
     "text": [
      "--- 0.07678675651550293 seconds for solution baseline ---\n",
      "initial solution\n"
     ]
    },
    {
     "name": "stderr",
     "output_type": "stream",
     "text": [
      "100%|██████████| 36/36 [00:00<00:00, 771.45it/s]\n"
     ]
    },
    {
     "name": "stdout",
     "output_type": "stream",
     "text": [
      "--- 0.05404353141784668 seconds for solution baseline ---\n",
      "initial solution\n"
     ]
    },
    {
     "name": "stderr",
     "output_type": "stream",
     "text": [
      "100%|██████████| 36/36 [00:00<00:00, 815.94it/s]\n"
     ]
    },
    {
     "name": "stdout",
     "output_type": "stream",
     "text": [
      "--- 0.051372528076171875 seconds for solution baseline ---\n",
      "initial solution\n"
     ]
    },
    {
     "name": "stderr",
     "output_type": "stream",
     "text": [
      "100%|██████████| 36/36 [00:00<00:00, 790.65it/s]\n"
     ]
    },
    {
     "name": "stdout",
     "output_type": "stream",
     "text": [
      "--- 0.05254507064819336 seconds for solution baseline ---\n",
      "initial solution\n"
     ]
    },
    {
     "name": "stderr",
     "output_type": "stream",
     "text": [
      "100%|██████████| 36/36 [00:00<00:00, 794.43it/s]\n"
     ]
    },
    {
     "name": "stdout",
     "output_type": "stream",
     "text": [
      "--- 0.05183744430541992 seconds for solution baseline ---\n",
      "initial solution\n"
     ]
    },
    {
     "name": "stderr",
     "output_type": "stream",
     "text": [
      "100%|██████████| 36/36 [00:00<00:00, 767.06it/s]\n"
     ]
    },
    {
     "name": "stdout",
     "output_type": "stream",
     "text": [
      "--- 0.052411794662475586 seconds for solution baseline ---\n",
      "initial solution\n"
     ]
    },
    {
     "name": "stderr",
     "output_type": "stream",
     "text": [
      "100%|██████████| 36/36 [00:00<00:00, 835.50it/s]\n"
     ]
    },
    {
     "name": "stdout",
     "output_type": "stream",
     "text": [
      "--- 0.05164027214050293 seconds for solution baseline ---\n",
      "initial solution\n"
     ]
    },
    {
     "name": "stderr",
     "output_type": "stream",
     "text": [
      "100%|██████████| 37/37 [00:00<00:00, 722.42it/s]\n"
     ]
    },
    {
     "name": "stdout",
     "output_type": "stream",
     "text": [
      "--- 0.060221195220947266 seconds for solution baseline ---\n",
      "initial solution\n"
     ]
    },
    {
     "name": "stderr",
     "output_type": "stream",
     "text": [
      "100%|██████████| 37/37 [00:00<00:00, 672.25it/s]\n"
     ]
    },
    {
     "name": "stdout",
     "output_type": "stream",
     "text": [
      "--- 0.06353616714477539 seconds for solution baseline ---\n",
      "initial solution\n"
     ]
    },
    {
     "name": "stderr",
     "output_type": "stream",
     "text": [
      "100%|██████████| 37/37 [00:00<00:00, 737.06it/s]\n"
     ]
    },
    {
     "name": "stdout",
     "output_type": "stream",
     "text": [
      "--- 0.057089805603027344 seconds for solution baseline ---\n",
      "initial solution\n"
     ]
    },
    {
     "name": "stderr",
     "output_type": "stream",
     "text": [
      "100%|██████████| 37/37 [00:00<00:00, 542.15it/s]\n"
     ]
    },
    {
     "name": "stdout",
     "output_type": "stream",
     "text": [
      "--- 0.07779240608215332 seconds for solution baseline ---\n",
      "initial solution\n"
     ]
    },
    {
     "name": "stderr",
     "output_type": "stream",
     "text": [
      "100%|██████████| 37/37 [00:00<00:00, 736.99it/s]\n"
     ]
    },
    {
     "name": "stdout",
     "output_type": "stream",
     "text": [
      "--- 0.057579994201660156 seconds for solution baseline ---\n",
      "initial solution\n"
     ]
    },
    {
     "name": "stderr",
     "output_type": "stream",
     "text": [
      "100%|██████████| 37/37 [00:00<00:00, 729.77it/s]\n"
     ]
    },
    {
     "name": "stdout",
     "output_type": "stream",
     "text": [
      "--- 0.058664798736572266 seconds for solution baseline ---\n",
      "initial solution\n"
     ]
    },
    {
     "name": "stderr",
     "output_type": "stream",
     "text": [
      "100%|██████████| 37/37 [00:00<00:00, 692.35it/s]\n"
     ]
    },
    {
     "name": "stdout",
     "output_type": "stream",
     "text": [
      "--- 0.06143808364868164 seconds for solution baseline ---\n",
      "initial solution\n"
     ]
    },
    {
     "name": "stderr",
     "output_type": "stream",
     "text": [
      "100%|██████████| 37/37 [00:00<00:00, 693.52it/s]\n"
     ]
    },
    {
     "name": "stdout",
     "output_type": "stream",
     "text": [
      "--- 0.06004190444946289 seconds for solution baseline ---\n",
      "initial solution\n"
     ]
    },
    {
     "name": "stderr",
     "output_type": "stream",
     "text": [
      "100%|██████████| 37/37 [00:00<00:00, 690.24it/s]\n"
     ]
    },
    {
     "name": "stdout",
     "output_type": "stream",
     "text": [
      "--- 0.062219858169555664 seconds for solution baseline ---\n",
      "initial solution\n"
     ]
    },
    {
     "name": "stderr",
     "output_type": "stream",
     "text": [
      "100%|██████████| 37/37 [00:00<00:00, 769.49it/s]\n"
     ]
    },
    {
     "name": "stdout",
     "output_type": "stream",
     "text": [
      "--- 0.05653953552246094 seconds for solution baseline ---\n",
      "initial solution\n"
     ]
    },
    {
     "name": "stderr",
     "output_type": "stream",
     "text": [
      "100%|██████████| 38/38 [00:00<00:00, 653.68it/s]\n"
     ]
    },
    {
     "name": "stdout",
     "output_type": "stream",
     "text": [
      "--- 0.06715035438537598 seconds for solution baseline ---\n",
      "initial solution\n"
     ]
    },
    {
     "name": "stderr",
     "output_type": "stream",
     "text": [
      "100%|██████████| 38/38 [00:00<00:00, 706.76it/s]\n"
     ]
    },
    {
     "name": "stdout",
     "output_type": "stream",
     "text": [
      "--- 0.06176638603210449 seconds for solution baseline ---\n",
      "initial solution\n"
     ]
    },
    {
     "name": "stderr",
     "output_type": "stream",
     "text": [
      "100%|██████████| 38/38 [00:00<00:00, 676.89it/s]\n"
     ]
    },
    {
     "name": "stdout",
     "output_type": "stream",
     "text": [
      "--- 0.06587791442871094 seconds for solution baseline ---\n",
      "initial solution\n"
     ]
    },
    {
     "name": "stderr",
     "output_type": "stream",
     "text": [
      "100%|██████████| 38/38 [00:00<00:00, 685.77it/s]\n"
     ]
    },
    {
     "name": "stdout",
     "output_type": "stream",
     "text": [
      "--- 0.06401824951171875 seconds for solution baseline ---\n",
      "initial solution\n"
     ]
    },
    {
     "name": "stderr",
     "output_type": "stream",
     "text": [
      "100%|██████████| 38/38 [00:00<00:00, 634.95it/s]\n"
     ]
    },
    {
     "name": "stdout",
     "output_type": "stream",
     "text": [
      "--- 0.06649589538574219 seconds for solution baseline ---\n",
      "initial solution\n"
     ]
    },
    {
     "name": "stderr",
     "output_type": "stream",
     "text": [
      "100%|██████████| 38/38 [00:00<00:00, 656.23it/s]\n"
     ]
    },
    {
     "name": "stdout",
     "output_type": "stream",
     "text": [
      "--- 0.06848692893981934 seconds for solution baseline ---\n",
      "initial solution\n"
     ]
    },
    {
     "name": "stderr",
     "output_type": "stream",
     "text": [
      "100%|██████████| 38/38 [00:00<00:00, 665.33it/s]\n"
     ]
    },
    {
     "name": "stdout",
     "output_type": "stream",
     "text": [
      "--- 0.06625652313232422 seconds for solution baseline ---\n",
      "initial solution\n"
     ]
    },
    {
     "name": "stderr",
     "output_type": "stream",
     "text": [
      "100%|██████████| 38/38 [00:00<00:00, 571.12it/s]\n"
     ]
    },
    {
     "name": "stdout",
     "output_type": "stream",
     "text": [
      "--- 0.07756972312927246 seconds for solution baseline ---\n",
      "initial solution\n"
     ]
    },
    {
     "name": "stderr",
     "output_type": "stream",
     "text": [
      "100%|██████████| 38/38 [00:00<00:00, 729.17it/s]\n"
     ]
    },
    {
     "name": "stdout",
     "output_type": "stream",
     "text": [
      "--- 0.06111598014831543 seconds for solution baseline ---\n",
      "initial solution\n"
     ]
    },
    {
     "name": "stderr",
     "output_type": "stream",
     "text": [
      "100%|██████████| 38/38 [00:00<00:00, 680.45it/s]\n"
     ]
    },
    {
     "name": "stdout",
     "output_type": "stream",
     "text": [
      "--- 0.06609296798706055 seconds for solution baseline ---\n",
      "initial solution\n"
     ]
    },
    {
     "name": "stderr",
     "output_type": "stream",
     "text": [
      "100%|██████████| 39/39 [00:00<00:00, 604.00it/s]\n"
     ]
    },
    {
     "name": "stdout",
     "output_type": "stream",
     "text": [
      "--- 0.07288837432861328 seconds for solution baseline ---\n",
      "initial solution\n"
     ]
    },
    {
     "name": "stderr",
     "output_type": "stream",
     "text": [
      "100%|██████████| 39/39 [00:00<00:00, 628.15it/s]\n"
     ]
    },
    {
     "name": "stdout",
     "output_type": "stream",
     "text": [
      "--- 0.07009315490722656 seconds for solution baseline ---\n",
      "initial solution\n"
     ]
    },
    {
     "name": "stderr",
     "output_type": "stream",
     "text": [
      "100%|██████████| 39/39 [00:00<00:00, 514.23it/s]\n"
     ]
    },
    {
     "name": "stdout",
     "output_type": "stream",
     "text": [
      "--- 0.08461809158325195 seconds for solution baseline ---\n",
      "initial solution\n"
     ]
    },
    {
     "name": "stderr",
     "output_type": "stream",
     "text": [
      "100%|██████████| 39/39 [00:00<00:00, 606.91it/s]\n"
     ]
    },
    {
     "name": "stdout",
     "output_type": "stream",
     "text": [
      "--- 0.07282662391662598 seconds for solution baseline ---\n",
      "initial solution\n"
     ]
    },
    {
     "name": "stderr",
     "output_type": "stream",
     "text": [
      "100%|██████████| 39/39 [00:00<00:00, 652.71it/s]\n"
     ]
    },
    {
     "name": "stdout",
     "output_type": "stream",
     "text": [
      "--- 0.06855368614196777 seconds for solution baseline ---\n",
      "initial solution\n"
     ]
    },
    {
     "name": "stderr",
     "output_type": "stream",
     "text": [
      "100%|██████████| 39/39 [00:00<00:00, 616.71it/s]\n"
     ]
    },
    {
     "name": "stdout",
     "output_type": "stream",
     "text": [
      "--- 0.07116532325744629 seconds for solution baseline ---\n",
      "initial solution\n"
     ]
    },
    {
     "name": "stderr",
     "output_type": "stream",
     "text": [
      "100%|██████████| 39/39 [00:00<00:00, 632.66it/s]\n"
     ]
    },
    {
     "name": "stdout",
     "output_type": "stream",
     "text": [
      "--- 0.06964421272277832 seconds for solution baseline ---\n",
      "initial solution\n"
     ]
    },
    {
     "name": "stderr",
     "output_type": "stream",
     "text": [
      "100%|██████████| 39/39 [00:00<00:00, 693.59it/s]\n"
     ]
    },
    {
     "name": "stdout",
     "output_type": "stream",
     "text": [
      "--- 0.06391191482543945 seconds for solution baseline ---\n",
      "initial solution\n"
     ]
    },
    {
     "name": "stderr",
     "output_type": "stream",
     "text": [
      "100%|██████████| 39/39 [00:00<00:00, 649.20it/s]\n"
     ]
    },
    {
     "name": "stdout",
     "output_type": "stream",
     "text": [
      "--- 0.06663370132446289 seconds for solution baseline ---\n",
      "initial solution\n"
     ]
    },
    {
     "name": "stderr",
     "output_type": "stream",
     "text": [
      "100%|██████████| 39/39 [00:00<00:00, 675.90it/s]\n"
     ]
    },
    {
     "name": "stdout",
     "output_type": "stream",
     "text": [
      "--- 0.06979131698608398 seconds for solution baseline ---\n",
      "initial solution\n"
     ]
    },
    {
     "name": "stderr",
     "output_type": "stream",
     "text": [
      "100%|██████████| 40/40 [00:00<00:00, 579.84it/s]\n"
     ]
    },
    {
     "name": "stdout",
     "output_type": "stream",
     "text": [
      "--- 0.23128104209899902 seconds for solution baseline ---\n",
      "initial solution\n"
     ]
    },
    {
     "name": "stderr",
     "output_type": "stream",
     "text": [
      "100%|██████████| 40/40 [00:00<00:00, 645.45it/s]"
     ]
    },
    {
     "name": "stdout",
     "output_type": "stream",
     "text": [
      "--- 0.06990528106689453 seconds for solution baseline ---\n",
      "initial solution\n"
     ]
    },
    {
     "name": "stderr",
     "output_type": "stream",
     "text": [
      "\n",
      "100%|██████████| 40/40 [00:00<00:00, 556.38it/s]\n"
     ]
    },
    {
     "name": "stdout",
     "output_type": "stream",
     "text": [
      "--- 0.08102536201477051 seconds for solution baseline ---\n",
      "initial solution\n"
     ]
    },
    {
     "name": "stderr",
     "output_type": "stream",
     "text": [
      "100%|██████████| 40/40 [00:00<00:00, 573.21it/s]\n"
     ]
    },
    {
     "name": "stdout",
     "output_type": "stream",
     "text": [
      "--- 0.07811164855957031 seconds for solution baseline ---\n",
      "initial solution\n"
     ]
    },
    {
     "name": "stderr",
     "output_type": "stream",
     "text": [
      "100%|██████████| 40/40 [00:00<00:00, 634.37it/s]\n"
     ]
    },
    {
     "name": "stdout",
     "output_type": "stream",
     "text": [
      "--- 0.07206058502197266 seconds for solution baseline ---\n",
      "initial solution\n"
     ]
    },
    {
     "name": "stderr",
     "output_type": "stream",
     "text": [
      "100%|██████████| 40/40 [00:00<00:00, 644.33it/s]\n"
     ]
    },
    {
     "name": "stdout",
     "output_type": "stream",
     "text": [
      "--- 0.0712122917175293 seconds for solution baseline ---\n",
      "initial solution\n"
     ]
    },
    {
     "name": "stderr",
     "output_type": "stream",
     "text": [
      "100%|██████████| 40/40 [00:00<00:00, 600.18it/s]\n"
     ]
    },
    {
     "name": "stdout",
     "output_type": "stream",
     "text": [
      "--- 0.07416462898254395 seconds for solution baseline ---\n",
      "initial solution\n"
     ]
    },
    {
     "name": "stderr",
     "output_type": "stream",
     "text": [
      "100%|██████████| 40/40 [00:00<00:00, 495.00it/s]\n"
     ]
    },
    {
     "name": "stdout",
     "output_type": "stream",
     "text": [
      "--- 0.0910027027130127 seconds for solution baseline ---\n",
      "initial solution\n"
     ]
    },
    {
     "name": "stderr",
     "output_type": "stream",
     "text": [
      "100%|██████████| 40/40 [00:00<00:00, 575.51it/s]\n"
     ]
    },
    {
     "name": "stdout",
     "output_type": "stream",
     "text": [
      "--- 0.07664775848388672 seconds for solution baseline ---\n",
      "initial solution\n"
     ]
    },
    {
     "name": "stderr",
     "output_type": "stream",
     "text": [
      "100%|██████████| 40/40 [00:00<00:00, 611.97it/s]\n"
     ]
    },
    {
     "name": "stdout",
     "output_type": "stream",
     "text": [
      "--- 0.07350492477416992 seconds for solution baseline ---\n",
      "initial solution\n"
     ]
    },
    {
     "name": "stderr",
     "output_type": "stream",
     "text": [
      "100%|██████████| 41/41 [00:00<00:00, 546.35it/s]\n"
     ]
    },
    {
     "name": "stdout",
     "output_type": "stream",
     "text": [
      "--- 0.08556747436523438 seconds for solution baseline ---\n",
      "initial solution\n"
     ]
    },
    {
     "name": "stderr",
     "output_type": "stream",
     "text": [
      "100%|██████████| 41/41 [00:00<00:00, 592.54it/s]\n"
     ]
    },
    {
     "name": "stdout",
     "output_type": "stream",
     "text": [
      "--- 0.07727646827697754 seconds for solution baseline ---\n",
      "initial solution\n"
     ]
    },
    {
     "name": "stderr",
     "output_type": "stream",
     "text": [
      "100%|██████████| 41/41 [00:00<00:00, 553.73it/s]\n"
     ]
    },
    {
     "name": "stdout",
     "output_type": "stream",
     "text": [
      "--- 0.0830540657043457 seconds for solution baseline ---\n",
      "initial solution\n"
     ]
    },
    {
     "name": "stderr",
     "output_type": "stream",
     "text": [
      "100%|██████████| 41/41 [00:00<00:00, 526.64it/s]\n"
     ]
    },
    {
     "name": "stdout",
     "output_type": "stream",
     "text": [
      "--- 0.08693861961364746 seconds for solution baseline ---\n",
      "initial solution\n"
     ]
    },
    {
     "name": "stderr",
     "output_type": "stream",
     "text": [
      "100%|██████████| 41/41 [00:00<00:00, 529.46it/s]\n"
     ]
    },
    {
     "name": "stdout",
     "output_type": "stream",
     "text": [
      "--- 0.08602309226989746 seconds for solution baseline ---\n",
      "initial solution\n"
     ]
    },
    {
     "name": "stderr",
     "output_type": "stream",
     "text": [
      "100%|██████████| 41/41 [00:00<00:00, 592.01it/s]\n"
     ]
    },
    {
     "name": "stdout",
     "output_type": "stream",
     "text": [
      "--- 0.07836127281188965 seconds for solution baseline ---\n",
      "initial solution\n"
     ]
    },
    {
     "name": "stderr",
     "output_type": "stream",
     "text": [
      "100%|██████████| 41/41 [00:00<00:00, 557.92it/s]\n"
     ]
    },
    {
     "name": "stdout",
     "output_type": "stream",
     "text": [
      "--- 0.08290863037109375 seconds for solution baseline ---\n",
      "initial solution\n"
     ]
    },
    {
     "name": "stderr",
     "output_type": "stream",
     "text": [
      "100%|██████████| 41/41 [00:00<00:00, 543.28it/s]\n"
     ]
    },
    {
     "name": "stdout",
     "output_type": "stream",
     "text": [
      "--- 0.08397364616394043 seconds for solution baseline ---\n",
      "initial solution\n"
     ]
    },
    {
     "name": "stderr",
     "output_type": "stream",
     "text": [
      "100%|██████████| 41/41 [00:00<00:00, 601.71it/s]\n"
     ]
    },
    {
     "name": "stdout",
     "output_type": "stream",
     "text": [
      "--- 0.07717537879943848 seconds for solution baseline ---\n",
      "initial solution\n"
     ]
    },
    {
     "name": "stderr",
     "output_type": "stream",
     "text": [
      "100%|██████████| 41/41 [00:00<00:00, 569.58it/s]\n"
     ]
    },
    {
     "name": "stdout",
     "output_type": "stream",
     "text": [
      "--- 0.0805823802947998 seconds for solution baseline ---\n",
      "initial solution\n"
     ]
    },
    {
     "name": "stderr",
     "output_type": "stream",
     "text": [
      "100%|██████████| 42/42 [00:00<00:00, 522.35it/s]\n"
     ]
    },
    {
     "name": "stdout",
     "output_type": "stream",
     "text": [
      "--- 0.08966875076293945 seconds for solution baseline ---\n",
      "initial solution\n"
     ]
    },
    {
     "name": "stderr",
     "output_type": "stream",
     "text": [
      "100%|██████████| 42/42 [00:00<00:00, 580.81it/s]\n"
     ]
    },
    {
     "name": "stdout",
     "output_type": "stream",
     "text": [
      "--- 0.08084297180175781 seconds for solution baseline ---\n",
      "initial solution\n"
     ]
    },
    {
     "name": "stderr",
     "output_type": "stream",
     "text": [
      "100%|██████████| 42/42 [00:00<00:00, 526.92it/s]\n"
     ]
    },
    {
     "name": "stdout",
     "output_type": "stream",
     "text": [
      "--- 0.08905386924743652 seconds for solution baseline ---\n",
      "initial solution\n"
     ]
    },
    {
     "name": "stderr",
     "output_type": "stream",
     "text": [
      "100%|██████████| 42/42 [00:00<00:00, 536.49it/s]\n"
     ]
    },
    {
     "name": "stdout",
     "output_type": "stream",
     "text": [
      "--- 0.08679485321044922 seconds for solution baseline ---\n",
      "initial solution\n"
     ]
    },
    {
     "name": "stderr",
     "output_type": "stream",
     "text": [
      "100%|██████████| 42/42 [00:00<00:00, 536.41it/s]\n"
     ]
    },
    {
     "name": "stdout",
     "output_type": "stream",
     "text": [
      "--- 0.0852961540222168 seconds for solution baseline ---\n",
      "initial solution\n"
     ]
    },
    {
     "name": "stderr",
     "output_type": "stream",
     "text": [
      "100%|██████████| 42/42 [00:00<00:00, 542.32it/s]\n"
     ]
    },
    {
     "name": "stdout",
     "output_type": "stream",
     "text": [
      "--- 0.08891749382019043 seconds for solution baseline ---\n",
      "initial solution\n"
     ]
    },
    {
     "name": "stderr",
     "output_type": "stream",
     "text": [
      "100%|██████████| 42/42 [00:00<00:00, 496.01it/s]\n"
     ]
    },
    {
     "name": "stdout",
     "output_type": "stream",
     "text": [
      "--- 0.09104061126708984 seconds for solution baseline ---\n",
      "initial solution\n"
     ]
    },
    {
     "name": "stderr",
     "output_type": "stream",
     "text": [
      "100%|██████████| 42/42 [00:00<00:00, 571.44it/s]\n"
     ]
    },
    {
     "name": "stdout",
     "output_type": "stream",
     "text": [
      "--- 0.08289551734924316 seconds for solution baseline ---\n",
      "initial solution\n"
     ]
    },
    {
     "name": "stderr",
     "output_type": "stream",
     "text": [
      "100%|██████████| 42/42 [00:00<00:00, 505.23it/s]\n"
     ]
    },
    {
     "name": "stdout",
     "output_type": "stream",
     "text": [
      "--- 0.09077692031860352 seconds for solution baseline ---\n",
      "initial solution\n"
     ]
    },
    {
     "name": "stderr",
     "output_type": "stream",
     "text": [
      "100%|██████████| 42/42 [00:00<00:00, 563.78it/s]\n"
     ]
    },
    {
     "name": "stdout",
     "output_type": "stream",
     "text": [
      "--- 0.08376526832580566 seconds for solution baseline ---\n",
      "initial solution\n"
     ]
    },
    {
     "name": "stderr",
     "output_type": "stream",
     "text": [
      "100%|██████████| 43/43 [00:00<00:00, 489.26it/s]\n"
     ]
    },
    {
     "name": "stdout",
     "output_type": "stream",
     "text": [
      "--- 0.09788775444030762 seconds for solution baseline ---\n",
      "initial solution\n"
     ]
    },
    {
     "name": "stderr",
     "output_type": "stream",
     "text": [
      "100%|██████████| 43/43 [00:00<00:00, 524.61it/s]\n"
     ]
    },
    {
     "name": "stdout",
     "output_type": "stream",
     "text": [
      "--- 0.08972692489624023 seconds for solution baseline ---\n",
      "initial solution\n"
     ]
    },
    {
     "name": "stderr",
     "output_type": "stream",
     "text": [
      "100%|██████████| 43/43 [00:00<00:00, 508.72it/s]\n"
     ]
    },
    {
     "name": "stdout",
     "output_type": "stream",
     "text": [
      "--- 0.09569692611694336 seconds for solution baseline ---\n",
      "initial solution\n"
     ]
    },
    {
     "name": "stderr",
     "output_type": "stream",
     "text": [
      "100%|██████████| 43/43 [00:00<00:00, 541.83it/s]\n"
     ]
    },
    {
     "name": "stdout",
     "output_type": "stream",
     "text": [
      "--- 0.08870267868041992 seconds for solution baseline ---\n",
      "initial solution\n"
     ]
    },
    {
     "name": "stderr",
     "output_type": "stream",
     "text": [
      "100%|██████████| 43/43 [00:00<00:00, 510.48it/s]\n"
     ]
    },
    {
     "name": "stdout",
     "output_type": "stream",
     "text": [
      "--- 0.09331369400024414 seconds for solution baseline ---\n",
      "initial solution\n"
     ]
    },
    {
     "name": "stderr",
     "output_type": "stream",
     "text": [
      "100%|██████████| 43/43 [00:00<00:00, 492.63it/s]\n"
     ]
    },
    {
     "name": "stdout",
     "output_type": "stream",
     "text": [
      "--- 0.09690213203430176 seconds for solution baseline ---\n",
      "initial solution\n"
     ]
    },
    {
     "name": "stderr",
     "output_type": "stream",
     "text": [
      "100%|██████████| 43/43 [00:00<00:00, 493.98it/s]"
     ]
    },
    {
     "name": "stdout",
     "output_type": "stream",
     "text": [
      "--- 0.09619808197021484 seconds for solution baseline ---\n"
     ]
    },
    {
     "name": "stderr",
     "output_type": "stream",
     "text": [
      "\n"
     ]
    },
    {
     "name": "stdout",
     "output_type": "stream",
     "text": [
      "initial solution\n"
     ]
    },
    {
     "name": "stderr",
     "output_type": "stream",
     "text": [
      "100%|██████████| 43/43 [00:00<00:00, 484.90it/s]\n"
     ]
    },
    {
     "name": "stdout",
     "output_type": "stream",
     "text": [
      "--- 0.10168814659118652 seconds for solution baseline ---\n",
      "initial solution\n"
     ]
    },
    {
     "name": "stderr",
     "output_type": "stream",
     "text": [
      "100%|██████████| 43/43 [00:00<00:00, 475.15it/s]\n"
     ]
    },
    {
     "name": "stdout",
     "output_type": "stream",
     "text": [
      "--- 0.10006594657897949 seconds for solution baseline ---\n",
      "initial solution\n"
     ]
    },
    {
     "name": "stderr",
     "output_type": "stream",
     "text": [
      "100%|██████████| 43/43 [00:00<00:00, 516.24it/s]\n"
     ]
    },
    {
     "name": "stdout",
     "output_type": "stream",
     "text": [
      "--- 0.09146428108215332 seconds for solution baseline ---\n",
      "initial solution\n"
     ]
    },
    {
     "name": "stderr",
     "output_type": "stream",
     "text": [
      "100%|██████████| 44/44 [00:00<00:00, 492.14it/s]\n"
     ]
    },
    {
     "name": "stdout",
     "output_type": "stream",
     "text": [
      "--- 0.09884858131408691 seconds for solution baseline ---\n",
      "initial solution\n"
     ]
    },
    {
     "name": "stderr",
     "output_type": "stream",
     "text": [
      "100%|██████████| 44/44 [00:00<00:00, 508.19it/s]\n"
     ]
    },
    {
     "name": "stdout",
     "output_type": "stream",
     "text": [
      "--- 0.09639167785644531 seconds for solution baseline ---\n",
      "initial solution\n"
     ]
    },
    {
     "name": "stderr",
     "output_type": "stream",
     "text": [
      "100%|██████████| 44/44 [00:00<00:00, 486.09it/s]\n"
     ]
    },
    {
     "name": "stdout",
     "output_type": "stream",
     "text": [
      "--- 0.09853434562683105 seconds for solution baseline ---\n",
      "initial solution\n"
     ]
    },
    {
     "name": "stderr",
     "output_type": "stream",
     "text": [
      "100%|██████████| 44/44 [00:00<00:00, 452.66it/s]\n"
     ]
    },
    {
     "name": "stdout",
     "output_type": "stream",
     "text": [
      "--- 0.10823488235473633 seconds for solution baseline ---\n",
      "initial solution\n"
     ]
    },
    {
     "name": "stderr",
     "output_type": "stream",
     "text": [
      "100%|██████████| 44/44 [00:00<00:00, 484.40it/s]\n"
     ]
    },
    {
     "name": "stdout",
     "output_type": "stream",
     "text": [
      "--- 0.09987306594848633 seconds for solution baseline ---\n",
      "initial solution\n"
     ]
    },
    {
     "name": "stderr",
     "output_type": "stream",
     "text": [
      "100%|██████████| 44/44 [00:00<00:00, 473.44it/s]\n"
     ]
    },
    {
     "name": "stdout",
     "output_type": "stream",
     "text": [
      "--- 0.24554443359375 seconds for solution baseline ---\n",
      "initial solution\n"
     ]
    },
    {
     "name": "stderr",
     "output_type": "stream",
     "text": [
      "100%|██████████| 44/44 [00:00<00:00, 442.11it/s]\n"
     ]
    },
    {
     "name": "stdout",
     "output_type": "stream",
     "text": [
      "--- 0.10854840278625488 seconds for solution baseline ---\n",
      "initial solution\n"
     ]
    },
    {
     "name": "stderr",
     "output_type": "stream",
     "text": [
      "100%|██████████| 44/44 [00:00<00:00, 510.47it/s]\n"
     ]
    },
    {
     "name": "stdout",
     "output_type": "stream",
     "text": [
      "--- 0.09636831283569336 seconds for solution baseline ---\n",
      "initial solution\n"
     ]
    },
    {
     "name": "stderr",
     "output_type": "stream",
     "text": [
      "100%|██████████| 44/44 [00:00<00:00, 462.17it/s]\n"
     ]
    },
    {
     "name": "stdout",
     "output_type": "stream",
     "text": [
      "--- 0.10332965850830078 seconds for solution baseline ---\n",
      "initial solution\n"
     ]
    },
    {
     "name": "stderr",
     "output_type": "stream",
     "text": [
      "100%|██████████| 44/44 [00:00<00:00, 478.67it/s]\n"
     ]
    },
    {
     "name": "stdout",
     "output_type": "stream",
     "text": [
      "--- 0.09998130798339844 seconds for solution baseline ---\n",
      "initial solution\n"
     ]
    },
    {
     "name": "stderr",
     "output_type": "stream",
     "text": [
      "100%|██████████| 45/45 [00:00<00:00, 463.67it/s]\n"
     ]
    },
    {
     "name": "stdout",
     "output_type": "stream",
     "text": [
      "--- 0.1071932315826416 seconds for solution baseline ---\n",
      "initial solution\n"
     ]
    },
    {
     "name": "stderr",
     "output_type": "stream",
     "text": [
      "100%|██████████| 45/45 [00:00<00:00, 445.43it/s]\n"
     ]
    },
    {
     "name": "stdout",
     "output_type": "stream",
     "text": [
      "--- 0.1113896369934082 seconds for solution baseline ---\n",
      "initial solution\n"
     ]
    },
    {
     "name": "stderr",
     "output_type": "stream",
     "text": [
      "100%|██████████| 45/45 [00:00<00:00, 457.59it/s]\n"
     ]
    },
    {
     "name": "stdout",
     "output_type": "stream",
     "text": [
      "--- 0.10742425918579102 seconds for solution baseline ---\n",
      "initial solution\n"
     ]
    },
    {
     "name": "stderr",
     "output_type": "stream",
     "text": [
      "100%|██████████| 45/45 [00:00<00:00, 452.50it/s]\n"
     ]
    },
    {
     "name": "stdout",
     "output_type": "stream",
     "text": [
      "--- 0.10802888870239258 seconds for solution baseline ---\n",
      "initial solution\n"
     ]
    },
    {
     "name": "stderr",
     "output_type": "stream",
     "text": [
      "100%|██████████| 45/45 [00:00<00:00, 459.00it/s]\n"
     ]
    },
    {
     "name": "stdout",
     "output_type": "stream",
     "text": [
      "--- 0.10818362236022949 seconds for solution baseline ---\n",
      "initial solution\n"
     ]
    },
    {
     "name": "stderr",
     "output_type": "stream",
     "text": [
      "100%|██████████| 45/45 [00:00<00:00, 489.10it/s]\n"
     ]
    },
    {
     "name": "stdout",
     "output_type": "stream",
     "text": [
      "--- 0.10201215744018555 seconds for solution baseline ---\n",
      "initial solution\n"
     ]
    },
    {
     "name": "stderr",
     "output_type": "stream",
     "text": [
      "100%|██████████| 45/45 [00:00<00:00, 339.78it/s]"
     ]
    },
    {
     "name": "stdout",
     "output_type": "stream",
     "text": [
      "--- 0.14344048500061035 seconds for solution baseline ---\n"
     ]
    },
    {
     "name": "stderr",
     "output_type": "stream",
     "text": [
      "\n"
     ]
    },
    {
     "name": "stdout",
     "output_type": "stream",
     "text": [
      "initial solution\n"
     ]
    },
    {
     "name": "stderr",
     "output_type": "stream",
     "text": [
      "100%|██████████| 45/45 [00:00<00:00, 453.12it/s]\n"
     ]
    },
    {
     "name": "stdout",
     "output_type": "stream",
     "text": [
      "--- 0.10827112197875977 seconds for solution baseline ---\n",
      "initial solution\n"
     ]
    },
    {
     "name": "stderr",
     "output_type": "stream",
     "text": [
      "100%|██████████| 45/45 [00:00<00:00, 508.46it/s]\n"
     ]
    },
    {
     "name": "stdout",
     "output_type": "stream",
     "text": [
      "--- 0.09761667251586914 seconds for solution baseline ---\n",
      "initial solution\n"
     ]
    },
    {
     "name": "stderr",
     "output_type": "stream",
     "text": [
      "100%|██████████| 45/45 [00:00<00:00, 422.43it/s]\n"
     ]
    },
    {
     "name": "stdout",
     "output_type": "stream",
     "text": [
      "--- 0.11452674865722656 seconds for solution baseline ---\n",
      "initial solution\n"
     ]
    },
    {
     "name": "stderr",
     "output_type": "stream",
     "text": [
      "100%|██████████| 46/46 [00:00<00:00, 314.77it/s]\n"
     ]
    },
    {
     "name": "stdout",
     "output_type": "stream",
     "text": [
      "--- 0.15525317192077637 seconds for solution baseline ---\n",
      "initial solution\n"
     ]
    },
    {
     "name": "stderr",
     "output_type": "stream",
     "text": [
      "100%|██████████| 46/46 [00:00<00:00, 399.68it/s]\n"
     ]
    },
    {
     "name": "stdout",
     "output_type": "stream",
     "text": [
      "--- 0.12396764755249023 seconds for solution baseline ---\n",
      "initial solution\n"
     ]
    },
    {
     "name": "stderr",
     "output_type": "stream",
     "text": [
      "100%|██████████| 46/46 [00:00<00:00, 424.22it/s]\n"
     ]
    },
    {
     "name": "stdout",
     "output_type": "stream",
     "text": [
      "--- 0.11896038055419922 seconds for solution baseline ---\n",
      "initial solution\n"
     ]
    },
    {
     "name": "stderr",
     "output_type": "stream",
     "text": [
      "100%|██████████| 46/46 [00:00<00:00, 425.69it/s]\n"
     ]
    },
    {
     "name": "stdout",
     "output_type": "stream",
     "text": [
      "--- 0.11791133880615234 seconds for solution baseline ---\n",
      "initial solution\n"
     ]
    },
    {
     "name": "stderr",
     "output_type": "stream",
     "text": [
      "100%|██████████| 46/46 [00:00<00:00, 427.27it/s]\n"
     ]
    },
    {
     "name": "stdout",
     "output_type": "stream",
     "text": [
      "--- 0.11866641044616699 seconds for solution baseline ---\n",
      "initial solution\n"
     ]
    },
    {
     "name": "stderr",
     "output_type": "stream",
     "text": [
      "100%|██████████| 46/46 [00:00<00:00, 353.20it/s]\n"
     ]
    },
    {
     "name": "stdout",
     "output_type": "stream",
     "text": [
      "--- 0.13823843002319336 seconds for solution baseline ---\n",
      "initial solution\n"
     ]
    },
    {
     "name": "stderr",
     "output_type": "stream",
     "text": [
      "100%|██████████| 46/46 [00:00<00:00, 418.02it/s]\n"
     ]
    },
    {
     "name": "stdout",
     "output_type": "stream",
     "text": [
      "--- 0.11877655982971191 seconds for solution baseline ---\n",
      "initial solution\n"
     ]
    },
    {
     "name": "stderr",
     "output_type": "stream",
     "text": [
      "100%|██████████| 46/46 [00:00<00:00, 394.29it/s]\n"
     ]
    },
    {
     "name": "stdout",
     "output_type": "stream",
     "text": [
      "--- 0.1273646354675293 seconds for solution baseline ---\n",
      "initial solution\n"
     ]
    },
    {
     "name": "stderr",
     "output_type": "stream",
     "text": [
      "100%|██████████| 46/46 [00:00<00:00, 397.45it/s]\n"
     ]
    },
    {
     "name": "stdout",
     "output_type": "stream",
     "text": [
      "--- 0.12580633163452148 seconds for solution baseline ---\n",
      "initial solution\n"
     ]
    },
    {
     "name": "stderr",
     "output_type": "stream",
     "text": [
      "100%|██████████| 46/46 [00:00<00:00, 431.09it/s]\n"
     ]
    },
    {
     "name": "stdout",
     "output_type": "stream",
     "text": [
      "--- 0.11475872993469238 seconds for solution baseline ---\n",
      "initial solution\n"
     ]
    },
    {
     "name": "stderr",
     "output_type": "stream",
     "text": [
      "100%|██████████| 47/47 [00:00<00:00, 391.64it/s]\n"
     ]
    },
    {
     "name": "stdout",
     "output_type": "stream",
     "text": [
      "--- 0.1301562786102295 seconds for solution baseline ---\n",
      "initial solution\n"
     ]
    },
    {
     "name": "stderr",
     "output_type": "stream",
     "text": [
      "100%|██████████| 47/47 [00:00<00:00, 409.33it/s]\n"
     ]
    },
    {
     "name": "stdout",
     "output_type": "stream",
     "text": [
      "--- 0.12383127212524414 seconds for solution baseline ---\n",
      "initial solution\n"
     ]
    },
    {
     "name": "stderr",
     "output_type": "stream",
     "text": [
      "100%|██████████| 47/47 [00:00<00:00, 394.41it/s]\n"
     ]
    },
    {
     "name": "stdout",
     "output_type": "stream",
     "text": [
      "--- 0.1302952766418457 seconds for solution baseline ---\n",
      "initial solution\n"
     ]
    },
    {
     "name": "stderr",
     "output_type": "stream",
     "text": [
      "100%|██████████| 47/47 [00:00<00:00, 400.69it/s]\n"
     ]
    },
    {
     "name": "stdout",
     "output_type": "stream",
     "text": [
      "--- 0.12735724449157715 seconds for solution baseline ---\n",
      "initial solution\n"
     ]
    },
    {
     "name": "stderr",
     "output_type": "stream",
     "text": [
      "100%|██████████| 47/47 [00:00<00:00, 391.18it/s]\n"
     ]
    },
    {
     "name": "stdout",
     "output_type": "stream",
     "text": [
      "--- 0.1313333511352539 seconds for solution baseline ---\n",
      "initial solution\n"
     ]
    },
    {
     "name": "stderr",
     "output_type": "stream",
     "text": [
      "100%|██████████| 47/47 [00:00<00:00, 416.03it/s]\n"
     ]
    },
    {
     "name": "stdout",
     "output_type": "stream",
     "text": [
      "--- 0.12316679954528809 seconds for solution baseline ---\n",
      "initial solution\n"
     ]
    },
    {
     "name": "stderr",
     "output_type": "stream",
     "text": [
      "100%|██████████| 47/47 [00:00<00:00, 411.72it/s]\n"
     ]
    },
    {
     "name": "stdout",
     "output_type": "stream",
     "text": [
      "--- 0.12241530418395996 seconds for solution baseline ---\n",
      "initial solution\n"
     ]
    },
    {
     "name": "stderr",
     "output_type": "stream",
     "text": [
      "100%|██████████| 47/47 [00:00<00:00, 396.30it/s]\n"
     ]
    },
    {
     "name": "stdout",
     "output_type": "stream",
     "text": [
      "--- 0.13054394721984863 seconds for solution baseline ---\n",
      "initial solution\n"
     ]
    },
    {
     "name": "stderr",
     "output_type": "stream",
     "text": [
      "100%|██████████| 47/47 [00:00<00:00, 411.31it/s]\n"
     ]
    },
    {
     "name": "stdout",
     "output_type": "stream",
     "text": [
      "--- 0.1227266788482666 seconds for solution baseline ---\n",
      "initial solution\n"
     ]
    },
    {
     "name": "stderr",
     "output_type": "stream",
     "text": [
      "100%|██████████| 47/47 [00:00<00:00, 381.02it/s]\n"
     ]
    },
    {
     "name": "stdout",
     "output_type": "stream",
     "text": [
      "--- 0.27884817123413086 seconds for solution baseline ---\n",
      "initial solution\n"
     ]
    },
    {
     "name": "stderr",
     "output_type": "stream",
     "text": [
      "100%|██████████| 48/48 [00:00<00:00, 370.18it/s]\n"
     ]
    },
    {
     "name": "stdout",
     "output_type": "stream",
     "text": [
      "--- 0.1396772861480713 seconds for solution baseline ---\n",
      "initial solution\n"
     ]
    },
    {
     "name": "stderr",
     "output_type": "stream",
     "text": [
      "100%|██████████| 48/48 [00:00<00:00, 362.06it/s]\n"
     ]
    },
    {
     "name": "stdout",
     "output_type": "stream",
     "text": [
      "--- 0.1425330638885498 seconds for solution baseline ---\n",
      "initial solution\n"
     ]
    },
    {
     "name": "stderr",
     "output_type": "stream",
     "text": [
      "100%|██████████| 48/48 [00:00<00:00, 399.41it/s]\n"
     ]
    },
    {
     "name": "stdout",
     "output_type": "stream",
     "text": [
      "--- 0.13033723831176758 seconds for solution baseline ---\n",
      "initial solution\n"
     ]
    },
    {
     "name": "stderr",
     "output_type": "stream",
     "text": [
      "100%|██████████| 48/48 [00:00<00:00, 358.50it/s]\n"
     ]
    },
    {
     "name": "stdout",
     "output_type": "stream",
     "text": [
      "--- 0.1456458568572998 seconds for solution baseline ---\n",
      "initial solution\n"
     ]
    },
    {
     "name": "stderr",
     "output_type": "stream",
     "text": [
      "100%|██████████| 48/48 [00:00<00:00, 423.54it/s]\n"
     ]
    },
    {
     "name": "stdout",
     "output_type": "stream",
     "text": [
      "--- 0.12454032897949219 seconds for solution baseline ---\n",
      "initial solution\n"
     ]
    },
    {
     "name": "stderr",
     "output_type": "stream",
     "text": [
      "100%|██████████| 48/48 [00:00<00:00, 375.40it/s]\n"
     ]
    },
    {
     "name": "stdout",
     "output_type": "stream",
     "text": [
      "--- 0.13614726066589355 seconds for solution baseline ---\n",
      "initial solution\n"
     ]
    },
    {
     "name": "stderr",
     "output_type": "stream",
     "text": [
      "100%|██████████| 48/48 [00:00<00:00, 369.33it/s]\n"
     ]
    },
    {
     "name": "stdout",
     "output_type": "stream",
     "text": [
      "--- 0.14025235176086426 seconds for solution baseline ---\n",
      "initial solution\n"
     ]
    },
    {
     "name": "stderr",
     "output_type": "stream",
     "text": [
      "100%|██████████| 48/48 [00:00<00:00, 375.35it/s]\n"
     ]
    },
    {
     "name": "stdout",
     "output_type": "stream",
     "text": [
      "--- 0.13740062713623047 seconds for solution baseline ---\n",
      "initial solution\n"
     ]
    },
    {
     "name": "stderr",
     "output_type": "stream",
     "text": [
      "100%|██████████| 48/48 [00:00<00:00, 352.09it/s]\n"
     ]
    },
    {
     "name": "stdout",
     "output_type": "stream",
     "text": [
      "--- 0.1466224193572998 seconds for solution baseline ---\n",
      "initial solution\n"
     ]
    },
    {
     "name": "stderr",
     "output_type": "stream",
     "text": [
      "100%|██████████| 48/48 [00:00<00:00, 333.08it/s]"
     ]
    },
    {
     "name": "stdout",
     "output_type": "stream",
     "text": [
      "--- 0.1541600227355957 seconds for solution baseline ---\n"
     ]
    },
    {
     "name": "stderr",
     "output_type": "stream",
     "text": [
      "\n"
     ]
    },
    {
     "name": "stdout",
     "output_type": "stream",
     "text": [
      "initial solution\n"
     ]
    },
    {
     "name": "stderr",
     "output_type": "stream",
     "text": [
      "100%|██████████| 49/49 [00:00<00:00, 353.60it/s]"
     ]
    },
    {
     "name": "stdout",
     "output_type": "stream",
     "text": [
      "--- 0.14916706085205078 seconds for solution baseline ---\n",
      "initial solution\n"
     ]
    },
    {
     "name": "stderr",
     "output_type": "stream",
     "text": [
      "\n",
      "100%|██████████| 49/49 [00:00<00:00, 313.80it/s]"
     ]
    },
    {
     "name": "stdout",
     "output_type": "stream",
     "text": [
      "--- 0.16822361946105957 seconds for solution baseline ---\n",
      "initial solution\n"
     ]
    },
    {
     "name": "stderr",
     "output_type": "stream",
     "text": [
      "\n",
      "100%|██████████| 49/49 [00:00<00:00, 341.77it/s]\n"
     ]
    },
    {
     "name": "stdout",
     "output_type": "stream",
     "text": [
      "--- 0.15495657920837402 seconds for solution baseline ---\n",
      "initial solution\n"
     ]
    },
    {
     "name": "stderr",
     "output_type": "stream",
     "text": [
      "100%|██████████| 49/49 [00:00<00:00, 346.65it/s]"
     ]
    },
    {
     "name": "stdout",
     "output_type": "stream",
     "text": [
      "--- 0.15179133415222168 seconds for solution baseline ---\n"
     ]
    },
    {
     "name": "stderr",
     "output_type": "stream",
     "text": [
      "\n"
     ]
    },
    {
     "name": "stdout",
     "output_type": "stream",
     "text": [
      "initial solution\n"
     ]
    },
    {
     "name": "stderr",
     "output_type": "stream",
     "text": [
      "100%|██████████| 49/49 [00:00<00:00, 347.90it/s]\n"
     ]
    },
    {
     "name": "stdout",
     "output_type": "stream",
     "text": [
      "--- 0.15085792541503906 seconds for solution baseline ---\n",
      "initial solution\n"
     ]
    },
    {
     "name": "stderr",
     "output_type": "stream",
     "text": [
      "100%|██████████| 49/49 [00:00<00:00, 379.81it/s]\n"
     ]
    },
    {
     "name": "stdout",
     "output_type": "stream",
     "text": [
      "--- 0.13941097259521484 seconds for solution baseline ---\n",
      "initial solution\n"
     ]
    },
    {
     "name": "stderr",
     "output_type": "stream",
     "text": [
      "100%|██████████| 49/49 [00:00<00:00, 370.03it/s]\n"
     ]
    },
    {
     "name": "stdout",
     "output_type": "stream",
     "text": [
      "--- 0.1425318717956543 seconds for solution baseline ---\n",
      "initial solution\n"
     ]
    },
    {
     "name": "stderr",
     "output_type": "stream",
     "text": [
      "100%|██████████| 49/49 [00:00<00:00, 365.53it/s]\n"
     ]
    },
    {
     "name": "stdout",
     "output_type": "stream",
     "text": [
      "--- 0.14458274841308594 seconds for solution baseline ---\n",
      "initial solution\n"
     ]
    },
    {
     "name": "stderr",
     "output_type": "stream",
     "text": [
      "100%|██████████| 49/49 [00:00<00:00, 345.79it/s]"
     ]
    },
    {
     "name": "stdout",
     "output_type": "stream",
     "text": [
      "--- 0.1533679962158203 seconds for solution baseline ---\n",
      "initial solution\n"
     ]
    },
    {
     "name": "stderr",
     "output_type": "stream",
     "text": [
      "\n",
      "100%|██████████| 49/49 [00:00<00:00, 361.63it/s]\n"
     ]
    },
    {
     "name": "stdout",
     "output_type": "stream",
     "text": [
      "--- 0.1454629898071289 seconds for solution baseline ---\n",
      "initial solution\n"
     ]
    },
    {
     "name": "stderr",
     "output_type": "stream",
     "text": [
      "100%|██████████| 50/50 [00:00<00:00, 318.52it/s]\n"
     ]
    },
    {
     "name": "stdout",
     "output_type": "stream",
     "text": [
      "--- 0.16811203956604004 seconds for solution baseline ---\n",
      "initial solution\n"
     ]
    },
    {
     "name": "stderr",
     "output_type": "stream",
     "text": [
      "100%|██████████| 50/50 [00:00<00:00, 317.66it/s]\n"
     ]
    },
    {
     "name": "stdout",
     "output_type": "stream",
     "text": [
      "--- 0.17073917388916016 seconds for solution baseline ---\n",
      "initial solution\n"
     ]
    },
    {
     "name": "stderr",
     "output_type": "stream",
     "text": [
      "100%|██████████| 50/50 [00:00<00:00, 351.46it/s]\n"
     ]
    },
    {
     "name": "stdout",
     "output_type": "stream",
     "text": [
      "--- 0.15276479721069336 seconds for solution baseline ---\n",
      "initial solution\n"
     ]
    },
    {
     "name": "stderr",
     "output_type": "stream",
     "text": [
      "100%|██████████| 50/50 [00:00<00:00, 346.28it/s]"
     ]
    },
    {
     "name": "stdout",
     "output_type": "stream",
     "text": [
      "--- 0.15453529357910156 seconds for solution baseline ---\n",
      "initial solution\n"
     ]
    },
    {
     "name": "stderr",
     "output_type": "stream",
     "text": [
      "\n",
      "100%|██████████| 50/50 [00:00<00:00, 322.69it/s]"
     ]
    },
    {
     "name": "stdout",
     "output_type": "stream",
     "text": [
      "--- 0.16560578346252441 seconds for solution baseline ---\n"
     ]
    },
    {
     "name": "stderr",
     "output_type": "stream",
     "text": [
      "\n"
     ]
    },
    {
     "name": "stdout",
     "output_type": "stream",
     "text": [
      "initial solution\n"
     ]
    },
    {
     "name": "stderr",
     "output_type": "stream",
     "text": [
      "100%|██████████| 50/50 [00:00<00:00, 347.45it/s]"
     ]
    },
    {
     "name": "stdout",
     "output_type": "stream",
     "text": [
      "--- 0.3135683536529541 seconds for solution baseline ---\n"
     ]
    },
    {
     "name": "stderr",
     "output_type": "stream",
     "text": [
      "\n"
     ]
    },
    {
     "name": "stdout",
     "output_type": "stream",
     "text": [
      "initial solution\n"
     ]
    },
    {
     "name": "stderr",
     "output_type": "stream",
     "text": [
      "100%|██████████| 50/50 [00:00<00:00, 338.51it/s]\n"
     ]
    },
    {
     "name": "stdout",
     "output_type": "stream",
     "text": [
      "--- 0.157928466796875 seconds for solution baseline ---\n",
      "initial solution\n"
     ]
    },
    {
     "name": "stderr",
     "output_type": "stream",
     "text": [
      "100%|██████████| 50/50 [00:00<00:00, 360.86it/s]\n"
     ]
    },
    {
     "name": "stdout",
     "output_type": "stream",
     "text": [
      "--- 0.1487739086151123 seconds for solution baseline ---\n",
      "initial solution\n"
     ]
    },
    {
     "name": "stderr",
     "output_type": "stream",
     "text": [
      "100%|██████████| 50/50 [00:00<00:00, 329.15it/s]"
     ]
    },
    {
     "name": "stdout",
     "output_type": "stream",
     "text": [
      "--- 0.16399383544921875 seconds for solution baseline ---\n",
      "initial solution\n"
     ]
    },
    {
     "name": "stderr",
     "output_type": "stream",
     "text": [
      "\n",
      "100%|██████████| 50/50 [00:00<00:00, 333.24it/s]\n"
     ]
    },
    {
     "name": "stdout",
     "output_type": "stream",
     "text": [
      "--- 0.16137146949768066 seconds for solution baseline ---\n",
      "initial solution\n"
     ]
    },
    {
     "name": "stderr",
     "output_type": "stream",
     "text": [
      "100%|██████████| 51/51 [00:00<00:00, 305.07it/s]\n"
     ]
    },
    {
     "name": "stdout",
     "output_type": "stream",
     "text": [
      "--- 0.17817974090576172 seconds for solution baseline ---\n",
      "initial solution\n"
     ]
    },
    {
     "name": "stderr",
     "output_type": "stream",
     "text": [
      "100%|██████████| 51/51 [00:00<00:00, 316.47it/s]\n"
     ]
    },
    {
     "name": "stdout",
     "output_type": "stream",
     "text": [
      "--- 0.17334532737731934 seconds for solution baseline ---\n",
      "initial solution\n"
     ]
    },
    {
     "name": "stderr",
     "output_type": "stream",
     "text": [
      "100%|██████████| 51/51 [00:00<00:00, 337.31it/s]\n"
     ]
    },
    {
     "name": "stdout",
     "output_type": "stream",
     "text": [
      "--- 0.16382646560668945 seconds for solution baseline ---\n",
      "initial solution\n"
     ]
    },
    {
     "name": "stderr",
     "output_type": "stream",
     "text": [
      "100%|██████████| 51/51 [00:00<00:00, 314.84it/s]"
     ]
    },
    {
     "name": "stdout",
     "output_type": "stream",
     "text": [
      "--- 0.171522855758667 seconds for solution baseline ---\n"
     ]
    },
    {
     "name": "stderr",
     "output_type": "stream",
     "text": [
      "\n"
     ]
    },
    {
     "name": "stdout",
     "output_type": "stream",
     "text": [
      "initial solution\n"
     ]
    },
    {
     "name": "stderr",
     "output_type": "stream",
     "text": [
      "100%|██████████| 51/51 [00:00<00:00, 324.98it/s]\n"
     ]
    },
    {
     "name": "stdout",
     "output_type": "stream",
     "text": [
      "--- 0.16909289360046387 seconds for solution baseline ---\n",
      "initial solution\n"
     ]
    },
    {
     "name": "stderr",
     "output_type": "stream",
     "text": [
      "100%|██████████| 51/51 [00:00<00:00, 325.17it/s]\n"
     ]
    },
    {
     "name": "stdout",
     "output_type": "stream",
     "text": [
      "--- 0.16884183883666992 seconds for solution baseline ---\n",
      "initial solution\n"
     ]
    },
    {
     "name": "stderr",
     "output_type": "stream",
     "text": [
      "100%|██████████| 51/51 [00:00<00:00, 339.43it/s]"
     ]
    },
    {
     "name": "stdout",
     "output_type": "stream",
     "text": [
      "--- 0.1615738868713379 seconds for solution baseline ---\n",
      "initial solution\n"
     ]
    },
    {
     "name": "stderr",
     "output_type": "stream",
     "text": [
      "\n",
      "100%|██████████| 51/51 [00:00<00:00, 317.75it/s]\n"
     ]
    },
    {
     "name": "stdout",
     "output_type": "stream",
     "text": [
      "--- 0.171128511428833 seconds for solution baseline ---\n",
      "initial solution\n"
     ]
    },
    {
     "name": "stderr",
     "output_type": "stream",
     "text": [
      "100%|██████████| 51/51 [00:00<00:00, 305.00it/s]"
     ]
    },
    {
     "name": "stdout",
     "output_type": "stream",
     "text": [
      "--- 0.179793119430542 seconds for solution baseline ---\n"
     ]
    },
    {
     "name": "stderr",
     "output_type": "stream",
     "text": [
      "\n"
     ]
    },
    {
     "name": "stdout",
     "output_type": "stream",
     "text": [
      "initial solution\n"
     ]
    },
    {
     "name": "stderr",
     "output_type": "stream",
     "text": [
      "100%|██████████| 51/51 [00:00<00:00, 281.04it/s]\n"
     ]
    },
    {
     "name": "stdout",
     "output_type": "stream",
     "text": [
      "--- 0.19047236442565918 seconds for solution baseline ---\n",
      "initial solution\n"
     ]
    },
    {
     "name": "stderr",
     "output_type": "stream",
     "text": [
      "100%|██████████| 52/52 [00:00<00:00, 284.74it/s]\n"
     ]
    },
    {
     "name": "stdout",
     "output_type": "stream",
     "text": [
      "--- 0.1943669319152832 seconds for solution baseline ---\n",
      "initial solution\n"
     ]
    },
    {
     "name": "stderr",
     "output_type": "stream",
     "text": [
      "100%|██████████| 52/52 [00:00<00:00, 276.05it/s]\n"
     ]
    },
    {
     "name": "stdout",
     "output_type": "stream",
     "text": [
      "--- 0.20087456703186035 seconds for solution baseline ---\n",
      "initial solution\n"
     ]
    },
    {
     "name": "stderr",
     "output_type": "stream",
     "text": [
      "100%|██████████| 52/52 [00:00<00:00, 297.40it/s]\n"
     ]
    },
    {
     "name": "stdout",
     "output_type": "stream",
     "text": [
      "--- 0.18585848808288574 seconds for solution baseline ---\n",
      "initial solution\n"
     ]
    },
    {
     "name": "stderr",
     "output_type": "stream",
     "text": [
      "100%|██████████| 52/52 [00:00<00:00, 273.07it/s]\n"
     ]
    },
    {
     "name": "stdout",
     "output_type": "stream",
     "text": [
      "--- 0.20300745964050293 seconds for solution baseline ---\n",
      "initial solution\n"
     ]
    },
    {
     "name": "stderr",
     "output_type": "stream",
     "text": [
      "100%|██████████| 52/52 [00:00<00:00, 285.30it/s]\n"
     ]
    },
    {
     "name": "stdout",
     "output_type": "stream",
     "text": [
      "--- 0.33657169342041016 seconds for solution baseline ---\n",
      "initial solution\n"
     ]
    },
    {
     "name": "stderr",
     "output_type": "stream",
     "text": [
      "100%|██████████| 52/52 [00:00<00:00, 295.81it/s]\n"
     ]
    },
    {
     "name": "stdout",
     "output_type": "stream",
     "text": [
      "--- 0.1857914924621582 seconds for solution baseline ---\n",
      "initial solution\n"
     ]
    },
    {
     "name": "stderr",
     "output_type": "stream",
     "text": [
      "100%|██████████| 52/52 [00:00<00:00, 322.59it/s]\n"
     ]
    },
    {
     "name": "stdout",
     "output_type": "stream",
     "text": [
      "--- 0.17221474647521973 seconds for solution baseline ---\n",
      "initial solution\n"
     ]
    },
    {
     "name": "stderr",
     "output_type": "stream",
     "text": [
      "100%|██████████| 52/52 [00:00<00:00, 298.93it/s]\n"
     ]
    },
    {
     "name": "stdout",
     "output_type": "stream",
     "text": [
      "--- 0.18608403205871582 seconds for solution baseline ---\n",
      "initial solution\n"
     ]
    },
    {
     "name": "stderr",
     "output_type": "stream",
     "text": [
      "100%|██████████| 52/52 [00:00<00:00, 320.25it/s]\n"
     ]
    },
    {
     "name": "stdout",
     "output_type": "stream",
     "text": [
      "--- 0.17486023902893066 seconds for solution baseline ---\n",
      "initial solution\n"
     ]
    },
    {
     "name": "stderr",
     "output_type": "stream",
     "text": [
      "100%|██████████| 52/52 [00:00<00:00, 303.84it/s]\n"
     ]
    },
    {
     "name": "stdout",
     "output_type": "stream",
     "text": [
      "--- 0.18114924430847168 seconds for solution baseline ---\n",
      "initial solution\n"
     ]
    },
    {
     "name": "stderr",
     "output_type": "stream",
     "text": [
      "100%|██████████| 53/53 [00:00<00:00, 285.93it/s]\n"
     ]
    },
    {
     "name": "stdout",
     "output_type": "stream",
     "text": [
      "--- 0.19751811027526855 seconds for solution baseline ---\n",
      "initial solution\n"
     ]
    },
    {
     "name": "stderr",
     "output_type": "stream",
     "text": [
      "100%|██████████| 53/53 [00:00<00:00, 290.82it/s]\n"
     ]
    },
    {
     "name": "stdout",
     "output_type": "stream",
     "text": [
      "--- 0.19288253784179688 seconds for solution baseline ---\n",
      "initial solution\n"
     ]
    },
    {
     "name": "stderr",
     "output_type": "stream",
     "text": [
      "100%|██████████| 53/53 [00:00<00:00, 308.35it/s]\n"
     ]
    },
    {
     "name": "stdout",
     "output_type": "stream",
     "text": [
      "--- 0.18365740776062012 seconds for solution baseline ---\n",
      "initial solution\n"
     ]
    },
    {
     "name": "stderr",
     "output_type": "stream",
     "text": [
      "100%|██████████| 53/53 [00:00<00:00, 280.44it/s]\n"
     ]
    },
    {
     "name": "stdout",
     "output_type": "stream",
     "text": [
      "--- 0.2002394199371338 seconds for solution baseline ---\n",
      "initial solution\n"
     ]
    },
    {
     "name": "stderr",
     "output_type": "stream",
     "text": [
      "100%|██████████| 53/53 [00:00<00:00, 302.73it/s]\n"
     ]
    },
    {
     "name": "stdout",
     "output_type": "stream",
     "text": [
      "--- 0.18802452087402344 seconds for solution baseline ---\n",
      "initial solution\n"
     ]
    },
    {
     "name": "stderr",
     "output_type": "stream",
     "text": [
      "100%|██████████| 53/53 [00:00<00:00, 286.51it/s]\n"
     ]
    },
    {
     "name": "stdout",
     "output_type": "stream",
     "text": [
      "--- 0.19718694686889648 seconds for solution baseline ---\n",
      "initial solution\n"
     ]
    },
    {
     "name": "stderr",
     "output_type": "stream",
     "text": [
      "100%|██████████| 53/53 [00:00<00:00, 289.85it/s]\n"
     ]
    },
    {
     "name": "stdout",
     "output_type": "stream",
     "text": [
      "--- 0.19406938552856445 seconds for solution baseline ---\n",
      "initial solution\n"
     ]
    },
    {
     "name": "stderr",
     "output_type": "stream",
     "text": [
      "100%|██████████| 53/53 [00:00<00:00, 269.08it/s]\n"
     ]
    },
    {
     "name": "stdout",
     "output_type": "stream",
     "text": [
      "--- 0.206650972366333 seconds for solution baseline ---\n",
      "initial solution\n"
     ]
    },
    {
     "name": "stderr",
     "output_type": "stream",
     "text": [
      "100%|██████████| 53/53 [00:00<00:00, 289.54it/s]\n"
     ]
    },
    {
     "name": "stdout",
     "output_type": "stream",
     "text": [
      "--- 0.19504976272583008 seconds for solution baseline ---\n",
      "initial solution\n"
     ]
    },
    {
     "name": "stderr",
     "output_type": "stream",
     "text": [
      "100%|██████████| 53/53 [00:00<00:00, 297.65it/s]\n"
     ]
    },
    {
     "name": "stdout",
     "output_type": "stream",
     "text": [
      "--- 0.1895735263824463 seconds for solution baseline ---\n",
      "initial solution\n"
     ]
    },
    {
     "name": "stderr",
     "output_type": "stream",
     "text": [
      "100%|██████████| 54/54 [00:00<00:00, 282.07it/s]\n"
     ]
    },
    {
     "name": "stdout",
     "output_type": "stream",
     "text": [
      "--- 0.20455670356750488 seconds for solution baseline ---\n",
      "initial solution\n"
     ]
    },
    {
     "name": "stderr",
     "output_type": "stream",
     "text": [
      "100%|██████████| 54/54 [00:00<00:00, 283.28it/s]\n"
     ]
    },
    {
     "name": "stdout",
     "output_type": "stream",
     "text": [
      "--- 0.19984865188598633 seconds for solution baseline ---\n",
      "initial solution\n"
     ]
    },
    {
     "name": "stderr",
     "output_type": "stream",
     "text": [
      "100%|██████████| 54/54 [00:00<00:00, 280.64it/s]\n"
     ]
    },
    {
     "name": "stdout",
     "output_type": "stream",
     "text": [
      "--- 0.3562805652618408 seconds for solution baseline ---\n",
      "initial solution\n"
     ]
    },
    {
     "name": "stderr",
     "output_type": "stream",
     "text": [
      "100%|██████████| 54/54 [00:00<00:00, 262.23it/s]\n"
     ]
    },
    {
     "name": "stdout",
     "output_type": "stream",
     "text": [
      "--- 0.21764659881591797 seconds for solution baseline ---\n",
      "initial solution\n"
     ]
    },
    {
     "name": "stderr",
     "output_type": "stream",
     "text": [
      "100%|██████████| 54/54 [00:00<00:00, 277.79it/s]\n"
     ]
    },
    {
     "name": "stdout",
     "output_type": "stream",
     "text": [
      "--- 0.20755863189697266 seconds for solution baseline ---\n",
      "initial solution\n"
     ]
    },
    {
     "name": "stderr",
     "output_type": "stream",
     "text": [
      "100%|██████████| 54/54 [00:00<00:00, 275.36it/s]\n"
     ]
    },
    {
     "name": "stdout",
     "output_type": "stream",
     "text": [
      "--- 0.2077646255493164 seconds for solution baseline ---\n",
      "initial solution\n"
     ]
    },
    {
     "name": "stderr",
     "output_type": "stream",
     "text": [
      "100%|██████████| 54/54 [00:00<00:00, 223.99it/s]\n"
     ]
    },
    {
     "name": "stdout",
     "output_type": "stream",
     "text": [
      "--- 0.25222039222717285 seconds for solution baseline ---\n",
      "initial solution\n"
     ]
    },
    {
     "name": "stderr",
     "output_type": "stream",
     "text": [
      "100%|██████████| 54/54 [00:00<00:00, 276.96it/s]\n"
     ]
    },
    {
     "name": "stdout",
     "output_type": "stream",
     "text": [
      "--- 0.2071080207824707 seconds for solution baseline ---\n",
      "initial solution\n"
     ]
    },
    {
     "name": "stderr",
     "output_type": "stream",
     "text": [
      "100%|██████████| 54/54 [00:00<00:00, 261.02it/s]\n"
     ]
    },
    {
     "name": "stdout",
     "output_type": "stream",
     "text": [
      "--- 0.2188880443572998 seconds for solution baseline ---\n",
      "initial solution\n"
     ]
    },
    {
     "name": "stderr",
     "output_type": "stream",
     "text": [
      "100%|██████████| 54/54 [00:00<00:00, 256.61it/s]\n"
     ]
    },
    {
     "name": "stdout",
     "output_type": "stream",
     "text": [
      "--- 0.22156929969787598 seconds for solution baseline ---\n",
      "initial solution\n"
     ]
    },
    {
     "name": "stderr",
     "output_type": "stream",
     "text": [
      "100%|██████████| 55/55 [00:00<00:00, 260.00it/s]\n"
     ]
    },
    {
     "name": "stdout",
     "output_type": "stream",
     "text": [
      "--- 0.22369694709777832 seconds for solution baseline ---\n",
      "initial solution\n"
     ]
    },
    {
     "name": "stderr",
     "output_type": "stream",
     "text": [
      "100%|██████████| 55/55 [00:00<00:00, 248.06it/s]\n"
     ]
    },
    {
     "name": "stdout",
     "output_type": "stream",
     "text": [
      "--- 0.23384881019592285 seconds for solution baseline ---\n",
      "initial solution\n"
     ]
    },
    {
     "name": "stderr",
     "output_type": "stream",
     "text": [
      "100%|██████████| 55/55 [00:00<00:00, 278.22it/s]\n"
     ]
    },
    {
     "name": "stdout",
     "output_type": "stream",
     "text": [
      "--- 0.21038126945495605 seconds for solution baseline ---\n",
      "initial solution\n"
     ]
    },
    {
     "name": "stderr",
     "output_type": "stream",
     "text": [
      "100%|██████████| 55/55 [00:00<00:00, 245.76it/s]\n"
     ]
    },
    {
     "name": "stdout",
     "output_type": "stream",
     "text": [
      "--- 0.2347266674041748 seconds for solution baseline ---\n",
      "initial solution\n"
     ]
    },
    {
     "name": "stderr",
     "output_type": "stream",
     "text": [
      "100%|██████████| 55/55 [00:00<00:00, 281.12it/s]\n"
     ]
    },
    {
     "name": "stdout",
     "output_type": "stream",
     "text": [
      "--- 0.20663237571716309 seconds for solution baseline ---\n",
      "initial solution\n"
     ]
    },
    {
     "name": "stderr",
     "output_type": "stream",
     "text": [
      "100%|██████████| 55/55 [00:00<00:00, 250.58it/s]\n"
     ]
    },
    {
     "name": "stdout",
     "output_type": "stream",
     "text": [
      "--- 0.2297077178955078 seconds for solution baseline ---\n",
      "initial solution\n"
     ]
    },
    {
     "name": "stderr",
     "output_type": "stream",
     "text": [
      "100%|██████████| 55/55 [00:00<00:00, 277.61it/s]"
     ]
    },
    {
     "name": "stdout",
     "output_type": "stream",
     "text": [
      "--- 0.2119734287261963 seconds for solution baseline ---\n"
     ]
    },
    {
     "name": "stderr",
     "output_type": "stream",
     "text": [
      "\n"
     ]
    },
    {
     "name": "stdout",
     "output_type": "stream",
     "text": [
      "initial solution\n"
     ]
    },
    {
     "name": "stderr",
     "output_type": "stream",
     "text": [
      "100%|██████████| 55/55 [00:00<00:00, 252.35it/s]\n"
     ]
    },
    {
     "name": "stdout",
     "output_type": "stream",
     "text": [
      "--- 0.3690948486328125 seconds for solution baseline ---\n",
      "initial solution\n"
     ]
    },
    {
     "name": "stderr",
     "output_type": "stream",
     "text": [
      "100%|██████████| 55/55 [00:00<00:00, 251.61it/s]\n"
     ]
    },
    {
     "name": "stdout",
     "output_type": "stream",
     "text": [
      "--- 0.231201171875 seconds for solution baseline ---\n",
      "initial solution\n"
     ]
    },
    {
     "name": "stderr",
     "output_type": "stream",
     "text": [
      "100%|██████████| 55/55 [00:00<00:00, 271.44it/s]\n"
     ]
    },
    {
     "name": "stdout",
     "output_type": "stream",
     "text": [
      "--- 0.2147376537322998 seconds for solution baseline ---\n",
      "initial solution\n"
     ]
    },
    {
     "name": "stderr",
     "output_type": "stream",
     "text": [
      "100%|██████████| 56/56 [00:00<00:00, 249.98it/s]\n"
     ]
    },
    {
     "name": "stdout",
     "output_type": "stream",
     "text": [
      "--- 0.24059748649597168 seconds for solution baseline ---\n",
      "initial solution\n"
     ]
    },
    {
     "name": "stderr",
     "output_type": "stream",
     "text": [
      "100%|██████████| 56/56 [00:00<00:00, 226.39it/s]\n"
     ]
    },
    {
     "name": "stdout",
     "output_type": "stream",
     "text": [
      "--- 0.2593648433685303 seconds for solution baseline ---\n",
      "initial solution\n"
     ]
    },
    {
     "name": "stderr",
     "output_type": "stream",
     "text": [
      "100%|██████████| 56/56 [00:00<00:00, 243.43it/s]\n"
     ]
    },
    {
     "name": "stdout",
     "output_type": "stream",
     "text": [
      "--- 0.2456507682800293 seconds for solution baseline ---\n",
      "initial solution\n"
     ]
    },
    {
     "name": "stderr",
     "output_type": "stream",
     "text": [
      "100%|██████████| 56/56 [00:00<00:00, 229.60it/s]\n"
     ]
    },
    {
     "name": "stdout",
     "output_type": "stream",
     "text": [
      "--- 0.259354829788208 seconds for solution baseline ---\n",
      "initial solution\n"
     ]
    },
    {
     "name": "stderr",
     "output_type": "stream",
     "text": [
      "100%|██████████| 56/56 [00:00<00:00, 236.20it/s]\n"
     ]
    },
    {
     "name": "stdout",
     "output_type": "stream",
     "text": [
      "--- 0.25066184997558594 seconds for solution baseline ---\n",
      "initial solution\n"
     ]
    },
    {
     "name": "stderr",
     "output_type": "stream",
     "text": [
      "100%|██████████| 56/56 [00:00<00:00, 261.63it/s]\n"
     ]
    },
    {
     "name": "stdout",
     "output_type": "stream",
     "text": [
      "--- 0.22556090354919434 seconds for solution baseline ---\n",
      "initial solution\n"
     ]
    },
    {
     "name": "stderr",
     "output_type": "stream",
     "text": [
      "100%|██████████| 56/56 [00:00<00:00, 240.06it/s]\n"
     ]
    },
    {
     "name": "stdout",
     "output_type": "stream",
     "text": [
      "--- 0.24644088745117188 seconds for solution baseline ---\n",
      "initial solution\n"
     ]
    },
    {
     "name": "stderr",
     "output_type": "stream",
     "text": [
      "100%|██████████| 56/56 [00:00<00:00, 260.28it/s]\n"
     ]
    },
    {
     "name": "stdout",
     "output_type": "stream",
     "text": [
      "--- 0.22651124000549316 seconds for solution baseline ---\n",
      "initial solution\n"
     ]
    },
    {
     "name": "stderr",
     "output_type": "stream",
     "text": [
      "100%|██████████| 56/56 [00:00<00:00, 248.06it/s]\n"
     ]
    },
    {
     "name": "stdout",
     "output_type": "stream",
     "text": [
      "--- 0.23764896392822266 seconds for solution baseline ---\n",
      "initial solution\n"
     ]
    },
    {
     "name": "stderr",
     "output_type": "stream",
     "text": [
      "100%|██████████| 56/56 [00:00<00:00, 248.69it/s]\n"
     ]
    },
    {
     "name": "stdout",
     "output_type": "stream",
     "text": [
      "--- 0.24043488502502441 seconds for solution baseline ---\n",
      "initial solution\n"
     ]
    },
    {
     "name": "stderr",
     "output_type": "stream",
     "text": [
      "100%|██████████| 57/57 [00:00<00:00, 240.63it/s]\n"
     ]
    },
    {
     "name": "stdout",
     "output_type": "stream",
     "text": [
      "--- 0.24924349784851074 seconds for solution baseline ---\n",
      "initial solution\n"
     ]
    },
    {
     "name": "stderr",
     "output_type": "stream",
     "text": [
      "100%|██████████| 57/57 [00:00<00:00, 246.74it/s]\n"
     ]
    },
    {
     "name": "stdout",
     "output_type": "stream",
     "text": [
      "--- 0.3913235664367676 seconds for solution baseline ---\n",
      "initial solution\n"
     ]
    },
    {
     "name": "stderr",
     "output_type": "stream",
     "text": [
      "100%|██████████| 57/57 [00:00<00:00, 218.30it/s]\n"
     ]
    },
    {
     "name": "stdout",
     "output_type": "stream",
     "text": [
      "--- 0.2750236988067627 seconds for solution baseline ---\n",
      "initial solution\n"
     ]
    },
    {
     "name": "stderr",
     "output_type": "stream",
     "text": [
      "100%|██████████| 57/57 [00:00<00:00, 223.11it/s]\n"
     ]
    },
    {
     "name": "stdout",
     "output_type": "stream",
     "text": [
      "--- 0.26759886741638184 seconds for solution baseline ---\n",
      "initial solution\n"
     ]
    },
    {
     "name": "stderr",
     "output_type": "stream",
     "text": [
      "100%|██████████| 57/57 [00:00<00:00, 214.31it/s]\n"
     ]
    },
    {
     "name": "stdout",
     "output_type": "stream",
     "text": [
      "--- 0.2794632911682129 seconds for solution baseline ---\n",
      "initial solution\n"
     ]
    },
    {
     "name": "stderr",
     "output_type": "stream",
     "text": [
      "100%|██████████| 57/57 [00:00<00:00, 215.02it/s]\n"
     ]
    },
    {
     "name": "stdout",
     "output_type": "stream",
     "text": [
      "--- 0.2802584171295166 seconds for solution baseline ---\n",
      "initial solution\n"
     ]
    },
    {
     "name": "stderr",
     "output_type": "stream",
     "text": [
      "100%|██████████| 57/57 [00:00<00:00, 211.75it/s]\n"
     ]
    },
    {
     "name": "stdout",
     "output_type": "stream",
     "text": [
      "--- 0.28197383880615234 seconds for solution baseline ---\n",
      "initial solution\n"
     ]
    },
    {
     "name": "stderr",
     "output_type": "stream",
     "text": [
      "100%|██████████| 57/57 [00:00<00:00, 210.18it/s]\n"
     ]
    },
    {
     "name": "stdout",
     "output_type": "stream",
     "text": [
      "--- 0.28532862663269043 seconds for solution baseline ---\n",
      "initial solution\n"
     ]
    },
    {
     "name": "stderr",
     "output_type": "stream",
     "text": [
      "100%|██████████| 57/57 [00:00<00:00, 218.18it/s]\n"
     ]
    },
    {
     "name": "stdout",
     "output_type": "stream",
     "text": [
      "--- 0.27335190773010254 seconds for solution baseline ---\n",
      "initial solution\n"
     ]
    },
    {
     "name": "stderr",
     "output_type": "stream",
     "text": [
      "100%|██████████| 57/57 [00:00<00:00, 226.61it/s]\n"
     ]
    },
    {
     "name": "stdout",
     "output_type": "stream",
     "text": [
      "--- 0.26439976692199707 seconds for solution baseline ---\n",
      "initial solution\n"
     ]
    },
    {
     "name": "stderr",
     "output_type": "stream",
     "text": [
      "100%|██████████| 58/58 [00:00<00:00, 218.87it/s]\n"
     ]
    },
    {
     "name": "stdout",
     "output_type": "stream",
     "text": [
      "--- 0.2775120735168457 seconds for solution baseline ---\n",
      "initial solution\n"
     ]
    },
    {
     "name": "stderr",
     "output_type": "stream",
     "text": [
      "100%|██████████| 58/58 [00:00<00:00, 218.13it/s]\n"
     ]
    },
    {
     "name": "stdout",
     "output_type": "stream",
     "text": [
      "--- 0.27724361419677734 seconds for solution baseline ---\n",
      "initial solution\n"
     ]
    },
    {
     "name": "stderr",
     "output_type": "stream",
     "text": [
      "100%|██████████| 58/58 [00:00<00:00, 224.82it/s]\n"
     ]
    },
    {
     "name": "stdout",
     "output_type": "stream",
     "text": [
      "--- 0.2712574005126953 seconds for solution baseline ---\n",
      "initial solution\n"
     ]
    },
    {
     "name": "stderr",
     "output_type": "stream",
     "text": [
      "100%|██████████| 58/58 [00:00<00:00, 220.58it/s]\n"
     ]
    },
    {
     "name": "stdout",
     "output_type": "stream",
     "text": [
      "--- 0.42720723152160645 seconds for solution baseline ---\n",
      "initial solution\n"
     ]
    },
    {
     "name": "stderr",
     "output_type": "stream",
     "text": [
      "100%|██████████| 58/58 [00:00<00:00, 218.94it/s]\n"
     ]
    },
    {
     "name": "stdout",
     "output_type": "stream",
     "text": [
      "--- 0.2796666622161865 seconds for solution baseline ---\n",
      "initial solution\n"
     ]
    },
    {
     "name": "stderr",
     "output_type": "stream",
     "text": [
      "100%|██████████| 58/58 [00:00<00:00, 220.28it/s]\n"
     ]
    },
    {
     "name": "stdout",
     "output_type": "stream",
     "text": [
      "--- 0.27774906158447266 seconds for solution baseline ---\n",
      "initial solution\n"
     ]
    },
    {
     "name": "stderr",
     "output_type": "stream",
     "text": [
      "100%|██████████| 58/58 [00:00<00:00, 203.04it/s]\n"
     ]
    },
    {
     "name": "stdout",
     "output_type": "stream",
     "text": [
      "--- 0.29966115951538086 seconds for solution baseline ---\n",
      "initial solution\n"
     ]
    },
    {
     "name": "stderr",
     "output_type": "stream",
     "text": [
      "100%|██████████| 58/58 [00:00<00:00, 204.71it/s]\n"
     ]
    },
    {
     "name": "stdout",
     "output_type": "stream",
     "text": [
      "--- 0.29633212089538574 seconds for solution baseline ---\n",
      "initial solution\n"
     ]
    },
    {
     "name": "stderr",
     "output_type": "stream",
     "text": [
      "100%|██████████| 58/58 [00:00<00:00, 206.21it/s]\n"
     ]
    },
    {
     "name": "stdout",
     "output_type": "stream",
     "text": [
      "--- 0.29581618309020996 seconds for solution baseline ---\n",
      "initial solution\n"
     ]
    },
    {
     "name": "stderr",
     "output_type": "stream",
     "text": [
      "100%|██████████| 58/58 [00:00<00:00, 211.07it/s]\n"
     ]
    },
    {
     "name": "stdout",
     "output_type": "stream",
     "text": [
      "--- 0.2869250774383545 seconds for solution baseline ---\n",
      "initial solution\n"
     ]
    },
    {
     "name": "stderr",
     "output_type": "stream",
     "text": [
      "100%|██████████| 59/59 [00:00<00:00, 217.26it/s]\n"
     ]
    },
    {
     "name": "stdout",
     "output_type": "stream",
     "text": [
      "--- 0.28537654876708984 seconds for solution baseline ---\n",
      "initial solution\n"
     ]
    },
    {
     "name": "stderr",
     "output_type": "stream",
     "text": [
      "100%|██████████| 59/59 [00:00<00:00, 212.75it/s]\n"
     ]
    },
    {
     "name": "stdout",
     "output_type": "stream",
     "text": [
      "--- 0.29187607765197754 seconds for solution baseline ---\n",
      "initial solution\n"
     ]
    },
    {
     "name": "stderr",
     "output_type": "stream",
     "text": [
      "100%|██████████| 59/59 [00:00<00:00, 201.32it/s]\n"
     ]
    },
    {
     "name": "stdout",
     "output_type": "stream",
     "text": [
      "--- 0.30656957626342773 seconds for solution baseline ---\n",
      "initial solution\n"
     ]
    },
    {
     "name": "stderr",
     "output_type": "stream",
     "text": [
      "100%|██████████| 59/59 [00:00<00:00, 197.99it/s]\n"
     ]
    },
    {
     "name": "stdout",
     "output_type": "stream",
     "text": [
      "--- 0.31134605407714844 seconds for solution baseline ---\n",
      "initial solution\n"
     ]
    },
    {
     "name": "stderr",
     "output_type": "stream",
     "text": [
      "100%|██████████| 59/59 [00:00<00:00, 207.73it/s]\n"
     ]
    },
    {
     "name": "stdout",
     "output_type": "stream",
     "text": [
      "--- 0.45722174644470215 seconds for solution baseline ---\n",
      "initial solution\n"
     ]
    },
    {
     "name": "stderr",
     "output_type": "stream",
     "text": [
      "100%|██████████| 59/59 [00:00<00:00, 217.95it/s]\n"
     ]
    },
    {
     "name": "stdout",
     "output_type": "stream",
     "text": [
      "--- 0.28443479537963867 seconds for solution baseline ---\n",
      "initial solution\n"
     ]
    },
    {
     "name": "stderr",
     "output_type": "stream",
     "text": [
      "100%|██████████| 59/59 [00:00<00:00, 211.23it/s]\n"
     ]
    },
    {
     "name": "stdout",
     "output_type": "stream",
     "text": [
      "--- 0.2929530143737793 seconds for solution baseline ---\n",
      "initial solution\n"
     ]
    },
    {
     "name": "stderr",
     "output_type": "stream",
     "text": [
      "100%|██████████| 59/59 [00:00<00:00, 204.09it/s]\n"
     ]
    },
    {
     "name": "stdout",
     "output_type": "stream",
     "text": [
      "--- 0.301133394241333 seconds for solution baseline ---\n",
      "initial solution\n"
     ]
    },
    {
     "name": "stderr",
     "output_type": "stream",
     "text": [
      "100%|██████████| 59/59 [00:00<00:00, 200.94it/s]\n"
     ]
    },
    {
     "name": "stdout",
     "output_type": "stream",
     "text": [
      "--- 0.30899930000305176 seconds for solution baseline ---\n",
      "initial solution\n"
     ]
    },
    {
     "name": "stderr",
     "output_type": "stream",
     "text": [
      "100%|██████████| 59/59 [00:00<00:00, 220.49it/s]\n"
     ]
    },
    {
     "name": "stdout",
     "output_type": "stream",
     "text": [
      "--- 0.2806830406188965 seconds for solution baseline ---\n",
      "initial solution\n"
     ]
    },
    {
     "name": "stderr",
     "output_type": "stream",
     "text": [
      "100%|██████████| 60/60 [00:00<00:00, 200.46it/s]\n"
     ]
    },
    {
     "name": "stdout",
     "output_type": "stream",
     "text": [
      "--- 0.31372928619384766 seconds for solution baseline ---\n",
      "initial solution\n"
     ]
    },
    {
     "name": "stderr",
     "output_type": "stream",
     "text": [
      "100%|██████████| 60/60 [00:00<00:00, 194.87it/s]\n"
     ]
    },
    {
     "name": "stdout",
     "output_type": "stream",
     "text": [
      "--- 0.3216421604156494 seconds for solution baseline ---\n",
      "initial solution\n"
     ]
    },
    {
     "name": "stderr",
     "output_type": "stream",
     "text": [
      "100%|██████████| 60/60 [00:00<00:00, 193.72it/s]\n"
     ]
    },
    {
     "name": "stdout",
     "output_type": "stream",
     "text": [
      "--- 0.326458215713501 seconds for solution baseline ---\n",
      "initial solution\n"
     ]
    },
    {
     "name": "stderr",
     "output_type": "stream",
     "text": [
      "100%|██████████| 60/60 [00:00<00:00, 202.41it/s]\n"
     ]
    },
    {
     "name": "stdout",
     "output_type": "stream",
     "text": [
      "--- 0.31145191192626953 seconds for solution baseline ---\n",
      "initial solution\n"
     ]
    },
    {
     "name": "stderr",
     "output_type": "stream",
     "text": [
      "100%|██████████| 60/60 [00:00<00:00, 210.57it/s]\n"
     ]
    },
    {
     "name": "stdout",
     "output_type": "stream",
     "text": [
      "--- 0.2980008125305176 seconds for solution baseline ---\n",
      "initial solution\n"
     ]
    },
    {
     "name": "stderr",
     "output_type": "stream",
     "text": [
      "100%|██████████| 60/60 [00:00<00:00, 194.14it/s]\n"
     ]
    },
    {
     "name": "stdout",
     "output_type": "stream",
     "text": [
      "--- 0.4941709041595459 seconds for solution baseline ---\n",
      "initial solution\n"
     ]
    },
    {
     "name": "stderr",
     "output_type": "stream",
     "text": [
      "100%|██████████| 60/60 [00:00<00:00, 199.41it/s]\n"
     ]
    },
    {
     "name": "stdout",
     "output_type": "stream",
     "text": [
      "--- 0.31580233573913574 seconds for solution baseline ---\n",
      "initial solution\n"
     ]
    },
    {
     "name": "stderr",
     "output_type": "stream",
     "text": [
      "100%|██████████| 60/60 [00:00<00:00, 198.95it/s]\n"
     ]
    },
    {
     "name": "stdout",
     "output_type": "stream",
     "text": [
      "--- 0.31639742851257324 seconds for solution baseline ---\n",
      "initial solution\n"
     ]
    },
    {
     "name": "stderr",
     "output_type": "stream",
     "text": [
      "100%|██████████| 60/60 [00:00<00:00, 205.66it/s]\n"
     ]
    },
    {
     "name": "stdout",
     "output_type": "stream",
     "text": [
      "--- 0.30603957176208496 seconds for solution baseline ---\n",
      "initial solution\n"
     ]
    },
    {
     "name": "stderr",
     "output_type": "stream",
     "text": [
      "100%|██████████| 60/60 [00:00<00:00, 194.61it/s]"
     ]
    },
    {
     "name": "stdout",
     "output_type": "stream",
     "text": [
      "--- 0.32344675064086914 seconds for solution baseline ---\n",
      "Taille       Temps moyen  Score moyen \n",
      "11           5.4          340.23636363636365\n",
      "12           4.8          509.8166666666666\n",
      "13           5.8          537.8076923076923\n",
      "14           6.3          686.1142857142856\n",
      "15           7.3          894.4133333333333\n",
      "16           10.6         1115.475    \n",
      "17           11.4         1342.4882352941177\n",
      "18           11.1         1611.3277777777778\n",
      "19           13.6         1799.1473684210528\n",
      "20           17.1         2384.2      \n",
      "21           11.9         2712.1428571428573\n",
      "22           14.2         3070.3045454545454\n",
      "23           13.5         3013.6478260869562\n",
      "24           17.4         3510.1583333333338\n",
      "25           19.0         3829.8      \n",
      "26           20.7         4407.0615384615385\n",
      "27           26.4         4402.644444444444\n",
      "28           29.6         5277.7357142857145\n",
      "29           30.1         4880.420689655172\n",
      "30           49.6         5914.496666666667\n",
      "31           37.6         6274.990322580645\n",
      "32           40.9         6704.21875  \n",
      "33           45.7         7007.736363636363\n",
      "34           49.1         7135.067647058824\n",
      "35           54.4         7722.565714285714\n",
      "36           58.2         8621.555555555555\n",
      "37           64.3         7867.94054054054\n",
      "38           69.5         8574.463157894737\n",
      "39           73.8         8398.907692307692\n",
      "40           94.7         8497.02     \n",
      "41           84.9         9675.617073170732\n",
      "42           90.2         9433.419047619047\n",
      "43           98.5         9227.169767441861\n",
      "44           118.8        10098.131818181817\n",
      "45           114.3        10065.086666666666\n",
      "46           130.0        11675.64347826087\n",
      "47           146.1        10694.212765957447\n",
      "48           143.8        10876.39375 \n",
      "49           154.4        11461.879591836736\n",
      "50           180.4        11795.988000000001\n",
      "51           177.7        10571.049019607843\n",
      "52           207.3        12709.776923076923\n",
      "53           199.6        11316.47358490566\n",
      "54           234.5        13093.585185185186\n",
      "55           241.8        12339.801818181817\n",
      "56           248.9        14339.04642857143\n",
      "57           291.1        13130.161403508773\n",
      "58           305.2        14180.605172413794\n",
      "59           318.1        12411.849152542372\n",
      "60           339.8        13727.885   \n"
     ]
    },
    {
     "name": "stderr",
     "output_type": "stream",
     "text": [
      "\n"
     ]
    }
   ],
   "source": [
    "resultats_am_locale = measure_range(main_amelioration, problems)\n",
    "\n",
    "display_data_as_table(resultats_am_locale)"
   ]
  },
  {
   "cell_type": "code",
   "execution_count": 122,
   "metadata": {},
   "outputs": [
    {
     "data": {
      "image/png": "[encoded data removed]",
      "text/plain": [
       "<Figure size 640x480 with 1 Axes>"
      ]
     },
     "metadata": {},
     "output_type": "display_data"
    }
   ],
   "source": [
    "dict_am_locale = dict_from_measures(resultats_am_locale)\n",
    "\n",
    "test_de_puissance(dict_am_locale, \"nombre d'éléments dans la liste\", 'temps moyen de tri (ms)', \"Test de puissance Merge sort nombre d'éléments\")"
   ]
  },
  {
   "cell_type": "code",
   "execution_count": 123,
   "metadata": {},
   "outputs": [
    {
     "data": {
      "image/png": "[encoded data removed]",
      "text/plain": [
       "<Figure size 640x480 with 1 Axes>"
      ]
     },
     "metadata": {},
     "output_type": "display_data"
    }
   ],
   "source": [
    "test_de_rapport(change_to_predict(resultats_am_locale, lambda x: x**4), \"rapport entre n log(n) et les augmentations de temps\", \"nombre d'items à balancer dans les deux listes combinées\" , \"Test de rapport sur l'algorithme glouton\")"
   ]
  },
  {
   "cell_type": "markdown",
   "metadata": {},
   "source": [
    "### Amélioration locale\n",
    "\n",
    "Ceci était un essaie qui ne fonctionne pas de calculer indépendamment l'amélioration locale"
   ]
  },
  {
   "cell_type": "code",
   "execution_count": 124,
   "metadata": {},
   "outputs": [],
   "source": [
    "def main_preparation(sample):\n",
    "    start_time = time.time()\n",
    "    n = len(sample)\n",
    "    target = 500 * n\n",
    "    counties = set_counties(sample)\n",
    "    sol, groups = max_to_target(counties, target, n)\n",
    "    return (sol, groups, sample, n, target, counties)\n",
    "    "
   ]
  },
  {
   "cell_type": "code",
   "execution_count": 125,
   "metadata": {},
   "outputs": [
    {
     "name": "stderr",
     "output_type": "stream",
     "text": [
      "100%|██████████| 11/11 [00:00<00:00, 5510.91it/s]\n",
      "100%|██████████| 11/11 [00:00<00:00, 5502.37it/s]\n",
      "100%|██████████| 11/11 [00:00<00:00, 5501.05it/s]\n",
      "100%|██████████| 11/11 [00:00<00:00, 5497.12it/s]\n",
      "100%|██████████| 11/11 [00:00<00:00, 5497.78it/s]\n",
      "100%|██████████| 11/11 [00:00<00:00, 4994.84it/s]\n",
      "100%|██████████| 11/11 [00:00<00:00, 9670.37it/s]\n",
      "100%|██████████| 11/11 [00:00<00:00, 8235.87it/s]\n",
      "100%|██████████| 11/11 [00:00<00:00, 10144.53it/s]\n",
      "100%|██████████| 11/11 [00:00<00:00, 8056.11it/s]\n",
      "100%|██████████| 12/12 [00:00<00:00, 11924.11it/s]\n",
      "100%|██████████| 12/12 [00:00<00:00, 11239.76it/s]\n",
      "100%|██████████| 12/12 [00:00<00:00, 5412.59it/s]\n",
      "100%|██████████| 12/12 [00:00<00:00, 6000.43it/s]\n",
      "100%|██████████| 12/12 [00:00<00:00, 8084.11it/s]\n",
      "100%|██████████| 12/12 [00:00<00:00, 11135.32it/s]\n",
      "100%|██████████| 12/12 [00:00<00:00, 5986.16it/s]\n",
      "100%|██████████| 12/12 [00:00<00:00, 11591.81it/s]\n",
      "100%|██████████| 12/12 [00:00<00:00, 11912.82it/s]\n",
      "100%|██████████| 12/12 [00:00<00:00, 11921.28it/s]\n",
      "100%|██████████| 13/13 [00:00<00:00, 5583.24it/s]\n",
      "100%|██████████| 13/13 [00:00<00:00, 5871.21it/s]\n",
      "100%|██████████| 13/13 [00:00<00:00, 6180.68it/s]\n",
      "100%|██████████| 13/13 [00:00<00:00, 5372.54it/s]\n",
      "100%|██████████| 13/13 [00:00<00:00, 5390.60it/s]\n",
      "100%|██████████| 13/13 [00:00<00:00, 5624.71it/s]\n",
      "100%|██████████| 13/13 [00:00<00:00, 5526.65it/s]\n",
      "100%|██████████| 13/13 [00:00<00:00, 6511.34it/s]\n",
      "100%|██████████| 13/13 [00:00<00:00, 6503.57it/s]\n",
      "100%|██████████| 13/13 [00:00<00:00, 5685.71it/s]\n",
      "100%|██████████| 14/14 [00:00<00:00, 6971.42it/s]\n",
      "100%|██████████| 14/14 [00:00<00:00, 4651.85it/s]\n",
      "100%|██████████| 14/14 [00:00<00:00, 4363.22it/s]\n",
      "100%|██████████| 14/14 [00:00<00:00, 6977.22it/s]\n",
      "100%|██████████| 14/14 [00:00<00:00, 6229.60it/s]\n",
      "100%|██████████| 14/14 [00:00<00:00, 6414.01it/s]\n",
      "100%|██████████| 14/14 [00:00<00:00, 5532.34it/s]\n",
      "100%|██████████| 14/14 [00:00<00:00, 4438.42it/s]\n",
      "100%|██████████| 14/14 [00:00<00:00, 4237.28it/s]\n",
      "100%|██████████| 14/14 [00:00<00:00, 4455.93it/s]\n"
     ]
    }
   ],
   "source": [
    "problems = make_problems([x for x in range(11, 15)], 10)\n",
    "resultats_initials = {\"solutions_initiales\": [],\n",
    "                       \"groupes\": [],\n",
    "                       \"samples\": [],\n",
    "                       \"ns\": [],\n",
    "                       \"targets\": [], \n",
    "                       \"counties\": []}\n",
    "for prob in problems:\n",
    "    solutions_initiales, groupes, samples, ns, targets, counties = [], [], [], [], [], []\n",
    "    sols = [main_preparation(sample) for sample in prob.generate_dataset()]\n",
    "    for sol in sols:\n",
    "        solutions_initiales.append(sol[0])\n",
    "        groupes.append(sol[1])\n",
    "        samples.append(sol[2])\n",
    "        ns.append(sol[3])\n",
    "        targets.append(sol[4])\n",
    "        counties.append(sol[5])\n",
    "    \n",
    "    resultats_initials[\"solutions_initiales\"].append(solutions_initiales)\n",
    "    resultats_initials[\"groupes\"].append(groupes)\n",
    "    resultats_initials[\"samples\"].append(samples)\n",
    "    resultats_initials[\"ns\"].append(ns)\n",
    "    resultats_initials[\"targets\"].append(targets)\n",
    "    resultats_initials[\"counties\"].append(counties)\n",
    "\n"
   ]
  },
  {
   "cell_type": "code",
   "execution_count": 126,
   "metadata": {},
   "outputs": [],
   "source": [
    "\n",
    "def main_amelioration(sample):\n",
    "    start_time = time.time()\n",
    "    max_time = 60 * 3 - 1\n",
    "    n = len(sample)\n",
    "    target = 500 * n\n",
    "    counties = resultats_initials[\"counties\"]\n",
    "    print('initial solution')\n",
    "    sol, groups = max_to_target(counties, target, n)\n",
    "    if (time.time() - start_time) > max_time:\n",
    "        return sol\n",
    "    print(\"--- %s seconds for solution baseline ---\" % (time.time() - start_time))\n",
    "\n",
    "    #print('vote score: ', votes_score(sample, sol))\n",
    "    #print('size score: ', size_score(sol))\n",
    "    #print('distance score: ', distance_score(sol))\n",
    "    #print('intial score: ',score_solution(sample, sol))\n",
    "    #drawmap_of_discrits(n, sol)\n",
    "    first_iter = True\n",
    "    iter_time = time.time()\n",
    "    time_to_iter = 0\n",
    "    print('improvement')\n",
    "    while(True):\n",
    "        updated = amelioration_locale(groups, target, n, sample, sol)\n",
    "        sol = updated"
   ]
  },
  {
   "cell_type": "code",
   "execution_count": 96,
   "metadata": {},
   "outputs": [
    {
     "name": "stdout",
     "output_type": "stream",
     "text": [
      "[[[[<__main__.County object at 0x00000190972F8D10>, <__main__.County object at 0x00000190972F9430>, <__main__.County object at 0x00000190972F8FB0>, <__main__.County object at 0x00000190972FBE30>, <__main__.County object at 0x00000190972FB200>, <__main__.County object at 0x00000190972FA540>, <__main__.County object at 0x00000190972F86E0>, <__main__.County object at 0x00000190972FA480>, <__main__.County object at 0x00000190972FA840>, <__main__.County object at 0x00000190972FB290>, <__main__.County object at 0x00000190972FB3E0>], [<__main__.County object at 0x00000190972F8830>, <__main__.County object at 0x00000190972F89B0>, <__main__.County object at 0x00000190972FAA20>, <__main__.County object at 0x00000190972FB710>, <__main__.County object at 0x00000190972F9B20>, <__main__.County object at 0x00000190972FA4B0>, <__main__.County object at 0x00000190972FA150>, <__main__.County object at 0x00000190972FB500>, <__main__.County object at 0x00000190972F8650>, <__main__.County object at 0x00000190972F85C0>, <__main__.County object at 0x00000190972F95E0>], [<__main__.County object at 0x00000190972F9F10>, <__main__.County object at 0x00000190972F90D0>, <__main__.County object at 0x00000190972F83E0>, <__main__.County object at 0x00000190972FB860>, <__main__.County object at 0x00000190972FB890>, <__main__.County object at 0x00000190972F8050>, <__main__.County object at 0x00000190972F9100>, <__main__.County object at 0x00000190972FBEF0>, <__main__.County object at 0x00000190972FAD20>, <__main__.County object at 0x00000190972FB770>, <__main__.County object at 0x00000190972F9F40>], [<__main__.County object at 0x00000190972FAE70>, <__main__.County object at 0x00000190972F98B0>, <__main__.County object at 0x00000190972FA630>, <__main__.County object at 0x00000190972FA3C0>, <__main__.County object at 0x00000190972FAA80>, <__main__.County object at 0x00000190972FAD50>, <__main__.County object at 0x00000190972F9A00>, <__main__.County object at 0x00000190972FBE60>, <__main__.County object at 0x00000190972FB7A0>, <__main__.County object at 0x00000190972FA870>, <__main__.County object at 0x00000190972FBC50>], [<__main__.County object at 0x00000190972FA2A0>, <__main__.County object at 0x00000190972FA120>, <__main__.County object at 0x00000190972F8BF0>, <__main__.County object at 0x00000190972F8500>, <__main__.County object at 0x00000190972FA090>, <__main__.County object at 0x00000190972FBAA0>, <__main__.County object at 0x00000190972FB620>, <__main__.County object at 0x00000190972FB320>, <__main__.County object at 0x00000190972FB800>, <__main__.County object at 0x00000190972FBE00>, <__main__.County object at 0x00000190972F9AF0>], [<__main__.County object at 0x00000190972FB470>, <__main__.County object at 0x00000190972F95B0>, <__main__.County object at 0x00000190972FB560>, <__main__.County object at 0x00000190972FA1B0>, <__main__.County object at 0x00000190972F93A0>, <__main__.County object at 0x00000190972F9640>, <__main__.County object at 0x00000190972FB3B0>, <__main__.County object at 0x00000190972F8B60>, <__main__.County object at 0x00000190972FAF00>, <__main__.County object at 0x00000190972F96D0>, <__main__.County object at 0x00000190972FAEA0>], [<__main__.County object at 0x00000190972FBFE0>, <__main__.County object at 0x00000190972FA4E0>, <__main__.County object at 0x00000190972F87D0>, <__main__.County object at 0x00000190972F9C70>, <__main__.County object at 0x00000190972FB740>, <__main__.County object at 0x00000190972F9700>, <__main__.County object at 0x00000190972FBD10>, <__main__.County object at 0x00000190972F9910>, <__main__.County object at 0x00000190972F89E0>, <__main__.County object at 0x00000190972F8F50>, <__main__.County object at 0x00000190972FBA40>], [<__main__.County object at 0x00000190972F8C50>, <__main__.County object at 0x00000190972FA6F0>, <__main__.County object at 0x00000190972FAF60>, <__main__.County object at 0x00000190972F8C80>, <__main__.County object at 0x00000190972FB050>, <__main__.County object at 0x00000190972F8D70>, <__main__.County object at 0x00000190972F9C10>, <__main__.County object at 0x00000190972F9880>, <__main__.County object at 0x00000190972FA600>, <__main__.County object at 0x00000190972FBDA0>, <__main__.County object at 0x00000190972FBFB0>], [<__main__.County object at 0x00000190972FADB0>, <__main__.County object at 0x00000190972F9520>, <__main__.County object at 0x00000190972FA240>, <__main__.County object at 0x00000190972F91F0>, <__main__.County object at 0x00000190972F8A40>, <__main__.County object at 0x00000190972FB1D0>, <__main__.County object at 0x00000190972FAC60>, <__main__.County object at 0x00000190972F94F0>, <__main__.County object at 0x00000190972FAB70>, <__main__.County object at 0x00000190972FA360>, <__main__.County object at 0x00000190972FB0E0>], [<__main__.County object at 0x00000190972F9820>, <__main__.County object at 0x00000190972FBBF0>, <__main__.County object at 0x00000190972FA930>, <__main__.County object at 0x00000190972F88F0>, <__main__.County object at 0x00000190972F8350>, <__main__.County object at 0x00000190972FAFF0>, <__main__.County object at 0x00000190972F9070>, <__main__.County object at 0x00000190972F9040>, <__main__.County object at 0x00000190972F9190>, <__main__.County object at 0x00000190972F8F20>, <__main__.County object at 0x00000190972F8230>], [<__main__.County object at 0x00000190972FA9F0>, <__main__.County object at 0x00000190972FB380>, <__main__.County object at 0x00000190972FADE0>, <__main__.County object at 0x00000190972F8260>, <__main__.County object at 0x00000190972FA6C0>, <__main__.County object at 0x00000190972FB6B0>, <__main__.County object at 0x00000190972FBAD0>, <__main__.County object at 0x00000190972F8410>, <__main__.County object at 0x00000190972F8AD0>, <__main__.County object at 0x00000190972F9220>, <__main__.County object at 0x00000190972FBF80>]], [[<__main__.County object at 0x00000190972FBD40>, <__main__.County object at 0x00000190972F8710>, <__main__.County object at 0x00000190972FAC30>, <__main__.County object at 0x00000190972FAB40>, <__main__.County object at 0x00000190972FA8D0>, <__main__.County object at 0x00000190972F9490>, <__main__.County object at 0x00000190972FBCE0>, <__main__.County object at 0x00000190972FACF0>, <__main__.County object at 0x00000190972FA300>, <__main__.County object at 0x00000190972F8680>, <__main__.County object at 0x00000190972FA7E0>], [<__main__.County object at 0x00000190972F9EB0>, <__main__.County object at 0x00000190972FB2C0>, <__main__.County object at 0x00000190972FA270>, <__main__.County object at 0x00000190972FB2F0>, <__main__.County object at 0x00000190972FB410>, <__main__.County object at 0x00000190972F8EF0>, <__main__.County object at 0x00000190972F9970>, <__main__.County object at 0x00000190972F9340>, <__main__.County object at 0x00000190972F9B50>, <__main__.County object at 0x00000190972F86B0>, <__main__.County object at 0x00000190972F8620>], [<__main__.County object at 0x00000190972FA990>, <__main__.County object at 0x00000190972FBC20>, <__main__.County object at 0x00000190972F9850>, <__main__.County object at 0x00000190972FAE40>, <__main__.County object at 0x00000190972FB920>, <__main__.County object at 0x00000190972FAB10>, <__main__.County object at 0x000001909564A8A0>, <__main__.County object at 0x00000190972F9580>, <__main__.County object at 0x00000190972F8440>, <__main__.County object at 0x00000190972F8EC0>, <__main__.County object at 0x00000190972FAD80>], [<__main__.County object at 0x00000190972F8B30>, <__main__.County object at 0x00000190972F9A90>, <__main__.County object at 0x00000190972F85F0>, <__main__.County object at 0x00000190972FB650>, <__main__.County object at 0x00000190972F9DC0>, <__main__.County object at 0x00000190972F9CA0>, <__main__.County object at 0x00000190972F9D00>, <__main__.County object at 0x00000190972FA030>, <__main__.County object at 0x00000190972F81A0>, <__main__.County object at 0x00000190972F90A0>, <__main__.County object at 0x00000190972F8A10>], [<__main__.County object at 0x000001909564A120>, <__main__.County object at 0x0000019095649B20>, <__main__.County object at 0x0000019095649850>, <__main__.County object at 0x000001909564A720>, <__main__.County object at 0x0000019095649970>, <__main__.County object at 0x0000019095649580>, <__main__.County object at 0x00000190956495B0>, <__main__.County object at 0x00000190956484D0>, <__main__.County object at 0x0000019095649C10>, <__main__.County object at 0x000001909564A360>, <__main__.County object at 0x0000019095648DA0>], [<__main__.County object at 0x00000190972F8BC0>, <__main__.County object at 0x00000190972F9610>, <__main__.County object at 0x00000190972FA0C0>, <__main__.County object at 0x000001909564A270>, <__main__.County object at 0x00000190972F8860>, <__main__.County object at 0x00000190972FAE10>, <__main__.County object at 0x00000190972F8380>, <__main__.County object at 0x000001909564A7B0>, <__main__.County object at 0x0000019095649370>, <__main__.County object at 0x000001909564ACC0>, <__main__.County object at 0x0000019095649CA0>], [<__main__.County object at 0x0000019095649A00>, <__main__.County object at 0x000001909564A930>, <__main__.County object at 0x0000019095648110>, <__main__.County object at 0x0000019095649F70>, <__main__.County object at 0x0000019095648EF0>, <__main__.County object at 0x0000019095649D00>, <__main__.County object at 0x0000019095648FB0>, <__main__.County object at 0x0000019095649E50>, <__main__.County object at 0x00000190956493A0>, <__main__.County object at 0x0000019095648590>, <__main__.County object at 0x0000019095649820>], [<__main__.County object at 0x0000019095648C20>, <__main__.County object at 0x0000019095648AD0>, <__main__.County object at 0x00000190956482C0>, <__main__.County object at 0x0000019095649A90>, <__main__.County object at 0x000001909564A330>, <__main__.County object at 0x000001909564A090>, <__main__.County object at 0x00000190956496D0>, <__main__.County object at 0x000001909564A8D0>, <__main__.County object at 0x00000190956485F0>, <__main__.County object at 0x0000019095649AC0>, <__main__.County object at 0x0000019095648B00>], [<__main__.County object at 0x00000190972F9AC0>, <__main__.County object at 0x000001909564A0C0>, <__main__.County object at 0x000001909564A150>, <__main__.County object at 0x000001909564A060>, <__main__.County object at 0x00000190956499D0>, <__main__.County object at 0x0000019095648740>, <__main__.County object at 0x0000019095648080>, <__main__.County object at 0x000001909564A630>, <__main__.County object at 0x0000019095648C80>, <__main__.County object at 0x000001909564A000>, <__main__.County object at 0x0000019095649DF0>], [<__main__.County object at 0x00000190972F8950>, <__main__.County object at 0x00000190972FB9B0>, <__main__.County object at 0x00000190972F91C0>, <__main__.County object at 0x00000190972F9550>, <__main__.County object at 0x00000190972F9F70>, <__main__.County object at 0x00000190972F8740>, <__main__.County object at 0x0000019095648770>, <__main__.County object at 0x0000019095649040>, <__main__.County object at 0x000001909564AA20>, <__main__.County object at 0x00000190956487A0>, <__main__.County object at 0x0000019095648E00>], [<__main__.County object at 0x00000190972FA7B0>, <__main__.County object at 0x00000190972F8320>, <__main__.County object at 0x00000190972F88C0>, <__main__.County object at 0x00000190972FB4D0>, <__main__.County object at 0x00000190972F8080>, <__main__.County object at 0x00000190972FA060>, <__main__.County object at 0x000001909564A210>, <__main__.County object at 0x0000019095649EE0>, <__main__.County object at 0x0000019095649190>, <__main__.County object at 0x0000019095648350>, <__main__.County object at 0x0000019095649FD0>]], [[<__main__.County object at 0x00000190972F9670>, <__main__.County object at 0x00000190972FBB30>, <__main__.County object at 0x0000019095649340>, <__main__.County object at 0x000001909564B0E0>, <__main__.County object at 0x0000019095649310>, <__main__.County object at 0x000001909564BD70>, <__main__.County object at 0x0000019095649940>, <__main__.County object at 0x000001909564AC00>, <__main__.County object at 0x000001909564B050>, <__main__.County object at 0x0000019095649B50>, <__main__.County object at 0x000001909564A750>], [<__main__.County object at 0x000001909564AF60>, <__main__.County object at 0x000001909564A9C0>, <__main__.County object at 0x0000019095649CD0>, <__main__.County object at 0x000001909564A660>, <__main__.County object at 0x00000190956490D0>, <__main__.County object at 0x000001909564A3F0>, <__main__.County object at 0x000001909564B590>, <__main__.County object at 0x000001909564AE70>, <__main__.County object at 0x0000019095649EB0>, <__main__.County object at 0x000001909564B6E0>, <__main__.County object at 0x000001909564B530>], [<__main__.County object at 0x00000190956483B0>, <__main__.County object at 0x00000190956497F0>, <__main__.County object at 0x0000019095649BE0>, <__main__.County object at 0x0000019095648200>, <__main__.County object at 0x0000019095649130>, <__main__.County object at 0x0000019095648AA0>, <__main__.County object at 0x000001909564AED0>, <__main__.County object at 0x000001909564B740>, <__main__.County object at 0x000001909564B380>, <__main__.County object at 0x000001909564B230>, <__main__.County object at 0x00000190956481A0>], [<__main__.County object at 0x000001909564B770>, <__main__.County object at 0x0000019095649D30>, <__main__.County object at 0x0000019095649F40>, <__main__.County object at 0x000001909564BE90>, <__main__.County object at 0x000001909564AFF0>, <__main__.County object at 0x00000190956498B0>, <__main__.County object at 0x000001909564A300>, <__main__.County object at 0x000001909564B9B0>, <__main__.County object at 0x000001909564BB30>, <__main__.County object at 0x000001909564B860>, <__main__.County object at 0x000001909564B290>], [<__main__.County object at 0x0000019095649AF0>, <__main__.County object at 0x0000019095649B80>, <__main__.County object at 0x00000190956486B0>, <__main__.County object at 0x0000019095649280>, <__main__.County object at 0x0000019095648410>, <__main__.County object at 0x000001909564BC50>, <__main__.County object at 0x000001909564B710>, <__main__.County object at 0x000001909564BB90>, <__main__.County object at 0x000001909564AF00>, <__main__.County object at 0x0000019095648CB0>, <__main__.County object at 0x0000019095649E80>], [<__main__.County object at 0x0000019095649250>, <__main__.County object at 0x000001909564B7D0>, <__main__.County object at 0x000001909564B680>, <__main__.County object at 0x00000190956497C0>, <__main__.County object at 0x0000019095648E90>, <__main__.County object at 0x0000019095649D90>, <__main__.County object at 0x0000019095649430>, <__main__.County object at 0x000001908FD792E0>, <__main__.County object at 0x000001908FD7ACF0>, <__main__.County object at 0x0000019092150C50>, <__main__.County object at 0x0000019095649DC0>], [<__main__.County object at 0x000001909564AEA0>, <__main__.County object at 0x000001909564B170>, <__main__.County object at 0x000001909564AB10>, <__main__.County object at 0x0000019095649C70>, <__main__.County object at 0x000001909564B7A0>, <__main__.County object at 0x00000190972FB6E0>, <__main__.County object at 0x000001909564BEC0>, <__main__.County object at 0x000001909564A9F0>, <__main__.County object at 0x000001909564B350>, <__main__.County object at 0x000001909564BBC0>, <__main__.County object at 0x000001909564BCB0>], [<__main__.County object at 0x0000019095649670>, <__main__.County object at 0x00000190956494C0>, <__main__.County object at 0x0000019095648860>, <__main__.County object at 0x00000190956492E0>, <__main__.County object at 0x000001909564BB00>, <__main__.County object at 0x0000019095648650>, <__main__.County object at 0x000001909564B410>, <__main__.County object at 0x0000019095649910>, <__main__.County object at 0x00000190956495E0>, <__main__.County object at 0x0000019095648E60>, <__main__.County object at 0x000001909564A1B0>], [<__main__.County object at 0x0000019095649FA0>, <__main__.County object at 0x00000190972F8530>, <__main__.County object at 0x0000019095649070>, <__main__.County object at 0x00000190956493D0>, <__main__.County object at 0x0000019095649A60>, <__main__.County object at 0x000001909564ABD0>, <__main__.County object at 0x000001909564B4D0>, <__main__.County object at 0x000001909564AB70>, <__main__.County object at 0x000001909564BE60>, <__main__.County object at 0x000001909564B4A0>, <__main__.County object at 0x000001909564A480>], [<__main__.County object at 0x000001909564BA10>, <__main__.County object at 0x000001909564B920>, <__main__.County object at 0x000001909564B950>, <__main__.County object at 0x000001909564BF20>, <__main__.County object at 0x0000019095649880>, <__main__.County object at 0x000001909564BA40>, <__main__.County object at 0x000001909564A7E0>, <__main__.County object at 0x000001909564B5C0>, <__main__.County object at 0x000001909564ACF0>, <__main__.County object at 0x000001909564A180>, <__main__.County object at 0x000001909564B2C0>], [<__main__.County object at 0x000001908C1D9790>, <__main__.County object at 0x000001909564AE40>, <__main__.County object at 0x0000019095649520>, <__main__.County object at 0x000001909564AAE0>, <__main__.County object at 0x000001909564B560>, <__main__.County object at 0x000001909564A960>, <__main__.County object at 0x000001909564B3B0>, <__main__.County object at 0x000001909564AFC0>, <__main__.County object at 0x000001909564AD50>, <__main__.County object at 0x000001909564AD20>, <__main__.County object at 0x00000190956491C0>]], [[<__main__.County object at 0x000001909564A870>, <__main__.County object at 0x000001909564BE00>, <__main__.County object at 0x000001909564B650>, <__main__.County object at 0x000001909564AE10>, <__main__.County object at 0x00000190956484A0>, <__main__.County object at 0x0000019095648B60>, <__main__.County object at 0x000001909564A900>, <__main__.County object at 0x000001909564BAD0>, <__main__.County object at 0x000001909564A540>, <__main__.County object at 0x0000019095648D70>, <__main__.County object at 0x00000190956483E0>], [<__main__.County object at 0x000001909564A4E0>, <__main__.County object at 0x000001909564B2F0>, <__main__.County object at 0x000001909564BE30>, <__main__.County object at 0x000001909564ADB0>, <__main__.County object at 0x000001909564B8C0>, <__main__.County object at 0x000001909564A690>, <__main__.County object at 0x000001909564B500>, <__main__.County object at 0x000001909564A1E0>, <__main__.County object at 0x000001909564A4B0>, <__main__.County object at 0x0000019095648500>, <__main__.County object at 0x000001909564A780>], [<__main__.County object at 0x0000019095648680>, <__main__.County object at 0x0000019095648D40>, <__main__.County object at 0x000001909564BD40>, <__main__.County object at 0x000001909564B440>, <__main__.County object at 0x000001909564B020>, <__main__.County object at 0x0000019095648B30>, <__main__.County object at 0x000001909564BDD0>, <__main__.County object at 0x000001909564A3C0>, <__main__.County object at 0x0000019095648EC0>, <__main__.County object at 0x00000190956488C0>, <__main__.County object at 0x00000190956486E0>], [<__main__.County object at 0x00000190956485C0>, <__main__.County object at 0x0000019095648890>, <__main__.County object at 0x000001909564B1A0>, <__main__.County object at 0x0000019095649F10>, <__main__.County object at 0x00000190956489B0>, <__main__.County object at 0x0000019095649BB0>, <__main__.County object at 0x0000019095649100>, <__main__.County object at 0x000001909564A420>, <__main__.County object at 0x000001909564B1D0>, <__main__.County object at 0x000001909564ADE0>, <__main__.County object at 0x000001909564A990>], [<__main__.County object at 0x000001909564BC80>, <__main__.County object at 0x000001909564B080>, <__main__.County object at 0x0000019095649730>, <__main__.County object at 0x0000019095648560>, <__main__.County object at 0x0000019095648140>, <__main__.County object at 0x00000190956481D0>, <__main__.County object at 0x000001909564AC90>, <__main__.County object at 0x000001909564AC30>, <__main__.County object at 0x0000019095649160>, <__main__.County object at 0x000001909564A810>, <__main__.County object at 0x000001909564BBF0>], [<__main__.County object at 0x0000019093C3E150>, <__main__.County object at 0x0000019093C3DEE0>, <__main__.County object at 0x0000019093C3E630>, <__main__.County object at 0x0000019093C3E870>, <__main__.County object at 0x0000019093C3E2D0>, <__main__.County object at 0x0000019093C3E6F0>, <__main__.County object at 0x000001909564B980>, <__main__.County object at 0x000001909564A450>, <__main__.County object at 0x0000019095648A10>, <__main__.County object at 0x0000019095649640>, <__main__.County object at 0x000001909564AC60>], [<__main__.County object at 0x000001909564A5D0>, <__main__.County object at 0x00000190956487D0>, <__main__.County object at 0x000001909564B6B0>, <__main__.County object at 0x0000019093C3FBC0>, <__main__.County object at 0x0000019093C3E570>, <__main__.County object at 0x0000019093C3EAB0>, <__main__.County object at 0x0000019093C3E810>, <__main__.County object at 0x0000019093C3E300>, <__main__.County object at 0x0000019093C3DFA0>, <__main__.County object at 0x0000019093C3E480>, <__main__.County object at 0x0000019093C3E060>], [<__main__.County object at 0x0000019095648230>, <__main__.County object at 0x0000019095648440>, <__main__.County object at 0x0000019095648920>, <__main__.County object at 0x00000190956482F0>, <__main__.County object at 0x000001909564A2A0>, <__main__.County object at 0x0000019095648B90>, <__main__.County object at 0x000001909564A390>, <__main__.County object at 0x0000019095648800>, <__main__.County object at 0x000001909564AAB0>, <__main__.County object at 0x00000190956494F0>, <__main__.County object at 0x0000019095648530>], [<__main__.County object at 0x000001909564BD10>, <__main__.County object at 0x0000019095649610>, <__main__.County object at 0x000001909564AA50>, <__main__.County object at 0x000001909564AD80>, <__main__.County object at 0x0000019095648FE0>, <__main__.County object at 0x0000019095648F50>, <__main__.County object at 0x000001909564B8F0>, <__main__.County object at 0x00000190956480E0>, <__main__.County object at 0x000001909564B200>, <__main__.County object at 0x0000019090B19310>, <__main__.County object at 0x0000019095648CE0>], [<__main__.County object at 0x00000190956498E0>, <__main__.County object at 0x0000019093C3E0C0>, <__main__.County object at 0x0000019093C3E240>, <__main__.County object at 0x0000019093C3CDA0>, <__main__.County object at 0x0000019093C3E660>, <__main__.County object at 0x0000019095648F80>, <__main__.County object at 0x000001909564BF50>, <__main__.County object at 0x0000019093C3F950>, <__main__.County object at 0x0000019093C3E7E0>, <__main__.County object at 0x000001909564B9E0>, <__main__.County object at 0x0000019095649A30>], [<__main__.County object at 0x0000019095648050>, <__main__.County object at 0x0000019095648470>, <__main__.County object at 0x0000019095648710>, <__main__.County object at 0x000001909564B5F0>, <__main__.County object at 0x0000019095648E30>, <__main__.County object at 0x0000019093C3E510>, <__main__.County object at 0x0000019093C3FBF0>, <__main__.County object at 0x000001909564AF90>, <__main__.County object at 0x0000019095648320>, <__main__.County object at 0x000001909564A2D0>, <__main__.County object at 0x00000190956489E0>]], [[<__main__.County object at 0x0000019093C3F5F0>, <__main__.County object at 0x0000019093C3F530>, <__main__.County object at 0x0000019093C3F080>, <__main__.County object at 0x0000019093C3F500>, <__main__.County object at 0x0000019093C3F2C0>, <__main__.County object at 0x0000019093C3F4A0>, <__main__.County object at 0x0000019093C3EB40>, <__main__.County object at 0x0000019093C3F7A0>, <__main__.County object at 0x0000019093C3F140>, <__main__.County object at 0x0000019093C3F440>, <__main__.County object at 0x0000019093C3EA80>], [<__main__.County object at 0x0000019093C3E5A0>, <__main__.County object at 0x0000019093C3E330>, <__main__.County object at 0x0000019093C3E8D0>, <__main__.County object at 0x0000019093C3EF00>, <__main__.County object at 0x0000019093C3EB10>, <__main__.County object at 0x0000019093C3EFC0>, <__main__.County object at 0x0000019093C3E390>, <__main__.County object at 0x0000019093C3F3E0>, <__main__.County object at 0x0000019093C3F0E0>, <__main__.County object at 0x0000019093C3EAE0>, <__main__.County object at 0x0000019093C3E750>], [<__main__.County object at 0x0000019093C3F350>, <__main__.County object at 0x0000019093C3D940>, <__main__.County object at 0x0000019093C3E930>, <__main__.County object at 0x0000019093C3CBF0>, <__main__.County object at 0x0000019093C3D7F0>, <__main__.County object at 0x0000019093C3D700>, <__main__.County object at 0x0000019093C3DAF0>, <__main__.County object at 0x0000019093C3DDF0>, <__main__.County object at 0x0000019093C3CF50>, <__main__.County object at 0x0000019093C3DB20>, <__main__.County object at 0x0000019093C3CB00>], [<__main__.County object at 0x0000019093C3E3C0>, <__main__.County object at 0x0000019093C3F5C0>, <__main__.County object at 0x0000019093C3F3B0>, <__main__.County object at 0x0000019093C3F260>, <__main__.County object at 0x0000019093C3ECC0>, <__main__.County object at 0x0000019093C3EE40>, <__main__.County object at 0x0000019093C3F290>, <__main__.County object at 0x0000019093C3CE30>, <__main__.County object at 0x0000019093C3F410>, <__main__.County object at 0x0000019093C3EE70>, <__main__.County object at 0x0000019093C3EEA0>], [<__main__.County object at 0x0000019093C3CD70>, <__main__.County object at 0x0000019093C3EDB0>, <__main__.County object at 0x0000019093C3E840>, <__main__.County object at 0x0000019093C3E900>, <__main__.County object at 0x0000019093C3ED50>, <__main__.County object at 0x0000019093C3CCB0>, <__main__.County object at 0x0000019093C3DFD0>, <__main__.County object at 0x0000019093C3E9F0>, <__main__.County object at 0x0000019093C3F050>, <__main__.County object at 0x0000019093C3EC90>, <__main__.County object at 0x0000019093C3F710>], [<__main__.County object at 0x0000019093C3E600>, <__main__.County object at 0x0000019093C3F1D0>, <__main__.County object at 0x0000019093C3EB70>, <__main__.County object at 0x0000019093C3E1B0>, <__main__.County object at 0x0000019093C3ED80>, <__main__.County object at 0x0000019093C3F320>, <__main__.County object at 0x0000019093C3EC30>, <__main__.County object at 0x0000019093C3EF60>, <__main__.County object at 0x0000019093C3CB30>, <__main__.County object at 0x0000019093C3F2F0>, <__main__.County object at 0x0000019093C3CC80>], [<__main__.County object at 0x0000019095648F20>, <__main__.County object at 0x000001909564B260>, <__main__.County object at 0x0000019093C3E5D0>, <__main__.County object at 0x0000019095A81160>, <__main__.County object at 0x000001909564ABA0>, <__main__.County object at 0x000001909564A840>, <__main__.County object at 0x0000019093C3E270>, <__main__.County object at 0x0000019093C3F980>, <__main__.County object at 0x0000019093C3E2A0>, <__main__.County object at 0x0000019093C3E180>, <__main__.County object at 0x0000019093C3EFF0>], [<__main__.County object at 0x0000019093C3E450>, <__main__.County object at 0x0000019093C3EC00>, <__main__.County object at 0x0000019093C3F4D0>, <__main__.County object at 0x0000019093C3F6E0>, <__main__.County object at 0x0000019093C3DC10>, <__main__.County object at 0x0000019093C3CE60>, <__main__.County object at 0x0000019093C3D730>, <__main__.County object at 0x0000019093C3E4E0>, <__main__.County object at 0x0000019093C3E000>, <__main__.County object at 0x0000019093C3D760>, <__main__.County object at 0x0000019093C3F110>], [<__main__.County object at 0x0000019093C3E360>, <__main__.County object at 0x0000019093C3EDE0>, <__main__.County object at 0x0000019093C3F470>, <__main__.County object at 0x0000019093C3D490>, <__main__.County object at 0x0000019093C3EF90>, <__main__.County object at 0x0000019093C3C380>, <__main__.County object at 0x0000019093C3D040>, <__main__.County object at 0x0000019093C3DDC0>, <__main__.County object at 0x0000019093C3D9A0>, <__main__.County object at 0x0000019093C3DBB0>, <__main__.County object at 0x0000019093C3CF80>], [<__main__.County object at 0x0000019093C3F560>, <__main__.County object at 0x0000019093C3F740>, <__main__.County object at 0x0000019093C3D880>, <__main__.County object at 0x0000019093C3CAD0>, <__main__.County object at 0x0000019093C3E090>, <__main__.County object at 0x0000019093C3DC40>, <__main__.County object at 0x0000019093C3CC20>, <__main__.County object at 0x0000019093C3DBE0>, <__main__.County object at 0x0000019093C3F590>, <__main__.County object at 0x0000019093C3F020>, <__main__.County object at 0x0000019093C3F380>], [<__main__.County object at 0x0000019093C3E6C0>, <__main__.County object at 0x0000019093C3EE10>, <__main__.County object at 0x0000019093C3F170>, <__main__.County object at 0x0000019093C3E990>, <__main__.County object at 0x0000019093C3EF30>, <__main__.County object at 0x0000019093C3F620>, <__main__.County object at 0x0000019093C3F680>, <__main__.County object at 0x0000019093C3F200>, <__main__.County object at 0x0000019093C3ECF0>, <__main__.County object at 0x0000019093C3EA50>, <__main__.County object at 0x0000019093C3EBA0>]], [[<__main__.County object at 0x0000019093C3D820>, <__main__.County object at 0x0000019093C3DA00>, <__main__.County object at 0x0000019093C3DA30>, <__main__.County object at 0x0000019093C3D280>, <__main__.County object at 0x0000019093C3CF20>, <__main__.County object at 0x0000019093C3D9D0>, <__main__.County object at 0x0000019093C3D100>, <__main__.County object at 0x0000019093C3CA40>, <__main__.County object at 0x0000019093C3D370>, <__main__.County object at 0x0000019093C3D520>, <__main__.County object at 0x0000019093C3D670>], [<__main__.County object at 0x0000019093C3FC20>, <__main__.County object at 0x0000019093C3D640>, <__main__.County object at 0x0000019093C3FC80>, <__main__.County object at 0x0000019093C3DF40>, <__main__.County object at 0x0000019093C3FB60>, <__main__.County object at 0x0000019093C3FEC0>, <__main__.County object at 0x0000019093C3D2B0>, <__main__.County object at 0x0000019093C3F770>, <__main__.County object at 0x0000019093C3D8B0>, <__main__.County object at 0x0000019093C3D2E0>, <__main__.County object at 0x0000019093C3D4F0>], [<__main__.County object at 0x0000019093C3D6D0>, <__main__.County object at 0x0000019093C3DC70>, <__main__.County object at 0x0000019093C3DE50>, <__main__.County object at 0x0000019093C3DCA0>, <__main__.County object at 0x0000019093C3CC50>, <__main__.County object at 0x0000019093C3D8E0>, <__main__.County object at 0x0000019093C3DA90>, <__main__.County object at 0x0000019093C3D0A0>, <__main__.County object at 0x0000019093C3D5E0>, <__main__.County object at 0x0000019093C3F8F0>, <__main__.County object at 0x0000019093C3D6A0>], [<__main__.County object at 0x0000019093C3C3B0>, <__main__.County object at 0x0000019093C3C110>, <__main__.County object at 0x0000019093C3E4B0>, <__main__.County object at 0x0000019093C3F860>, <__main__.County object at 0x0000019093C3FF50>, <__main__.County object at 0x0000019093C3DE20>, <__main__.County object at 0x0000019093C3D550>, <__main__.County object at 0x0000019093C3DD90>, <__main__.County object at 0x0000019093C3DB80>, <__main__.County object at 0x0000019093C3FD10>, <__main__.County object at 0x0000019093C3DF10>], [<__main__.County object at 0x0000019093C3D220>, <__main__.County object at 0x0000019093C3D3D0>, <__main__.County object at 0x0000019093C3D1C0>, <__main__.County object at 0x0000019093C3E3F0>, <__main__.County object at 0x0000019093C3CCE0>, <__main__.County object at 0x0000019093C3D130>, <__main__.County object at 0x0000019093C3CB60>, <__main__.County object at 0x0000019093C3DAC0>, <__main__.County object at 0x00000190914EE7B0>, <__main__.County object at 0x0000019093C3DB50>, <__main__.County object at 0x0000019093C3CEC0>], [<__main__.County object at 0x0000019093C3C4D0>, <__main__.County object at 0x0000019093C3FDA0>, <__main__.County object at 0x0000019093C3DD00>, <__main__.County object at 0x0000019093C3C980>, <__main__.County object at 0x0000019093C3E0F0>, <__main__.County object at 0x0000019093C3C290>, <__main__.County object at 0x0000019093C3D160>, <__main__.County object at 0x0000019093C3DD30>, <__main__.County object at 0x0000019093C3FCE0>, <__main__.County object at 0x0000019093C3FDD0>, <__main__.County object at 0x0000019093C3FEF0>], [<__main__.County object at 0x0000019093C3DEB0>, <__main__.County object at 0x0000019093C3CEF0>, <__main__.County object at 0x0000019093C3CD10>, <__main__.County object at 0x0000019093C3CE90>, <__main__.County object at 0x0000019093C3CAA0>, <__main__.County object at 0x0000019093C3D310>, <__main__.County object at 0x0000019093C3D5B0>, <__main__.County object at 0x0000019093C3D580>, <__main__.County object at 0x0000019093C3DD60>, <__main__.County object at 0x0000019093C3C560>, <__main__.County object at 0x0000019093C3C6E0>], [<__main__.County object at 0x0000019093C3D400>, <__main__.County object at 0x0000019093C3D0D0>, <__main__.County object at 0x0000019093C3CFB0>, <__main__.County object at 0x0000019093C3C950>, <__main__.County object at 0x0000019093C3C080>, <__main__.County object at 0x0000019093C3C590>, <__main__.County object at 0x0000019093C3FFB0>, <__main__.County object at 0x0000019093C3FB30>, <__main__.County object at 0x0000019093C3F830>, <__main__.County object at 0x0000019093C3E210>, <__main__.County object at 0x0000019093C3C530>], [<__main__.County object at 0x0000019093C3FCB0>, <__main__.County object at 0x0000019093C3F920>, <__main__.County object at 0x0000019093C3FB00>, <__main__.County object at 0x0000019093C3DA60>, <__main__.County object at 0x0000019093C3F9B0>, <__main__.County object at 0x0000019093C3F890>, <__main__.County object at 0x0000019093C3FAD0>, <__main__.County object at 0x0000019093C3FE90>, <__main__.County object at 0x0000019093C3E690>, <__main__.County object at 0x0000019093C3DF70>, <__main__.County object at 0x0000019093C3D190>], [<__main__.County object at 0x0000019093C3D7C0>, <__main__.County object at 0x0000019093C3DCD0>, <__main__.County object at 0x0000019093C3D910>, <__main__.County object at 0x0000019093C3D340>, <__main__.County object at 0x0000019093C3D010>, <__main__.County object at 0x0000019093C3CFE0>, <__main__.County object at 0x0000019093C3F9E0>, <__main__.County object at 0x0000019093C3C2C0>, <__main__.County object at 0x0000019093C3F7D0>, <__main__.County object at 0x0000019093C3FF20>, <__main__.County object at 0x0000019093C3F8C0>], [<__main__.County object at 0x0000019093C3D1F0>, <__main__.County object at 0x0000019093C3F6B0>, <__main__.County object at 0x0000019093C3F800>, <__main__.County object at 0x0000019093C3FA10>, <__main__.County object at 0x0000019093C3C260>, <__main__.County object at 0x0000019093C3FD70>, <__main__.County object at 0x0000019093C3C830>, <__main__.County object at 0x0000019093C3D070>, <__main__.County object at 0x0000019093C3FD40>, <__main__.County object at 0x0000019093C3C230>, <__main__.County object at 0x0000019093C3FA40>]], [[<__main__.County object at 0x0000019093C3C620>, <__main__.County object at 0x000001909549E690>, <__main__.County object at 0x000001909549E750>, <__main__.County object at 0x000001909549CD10>, <__main__.County object at 0x000001909549DC10>, <__main__.County object at 0x000001909549E960>, <__main__.County object at 0x000001909549DE20>, <__main__.County object at 0x0000019093C3C140>, <__main__.County object at 0x0000019093C3C1A0>, <__main__.County object at 0x000001909549E5D0>, <__main__.County object at 0x000001909549E1B0>], [<__main__.County object at 0x0000019093C3C0E0>, <__main__.County object at 0x0000019093C3C7A0>, <__main__.County object at 0x0000019093C3DE80>, <__main__.County object at 0x0000019093C3C1D0>, <__main__.County object at 0x000001909549E7E0>, <__main__.County object at 0x000001909549F230>, <__main__.County object at 0x000001909549E660>, <__main__.County object at 0x000001909549E930>, <__main__.County object at 0x000001909549E990>, <__main__.County object at 0x000001909549E810>, <__main__.County object at 0x000001909549E060>], [<__main__.County object at 0x000001909549D700>, <__main__.County object at 0x000001909549DEE0>, <__main__.County object at 0x000001909549ED80>, <__main__.County object at 0x000001909549DE80>, <__main__.County object at 0x000001909549D730>, <__main__.County object at 0x000001909549EC90>, <__main__.County object at 0x000001909549D160>, <__main__.County object at 0x000001909549EE10>, <__main__.County object at 0x000001909549DD90>, <__main__.County object at 0x000001909549F3B0>, <__main__.County object at 0x000001909549ECC0>], [<__main__.County object at 0x000001909549EE70>, <__main__.County object at 0x000001909549E630>, <__main__.County object at 0x000001909549F1D0>, <__main__.County object at 0x000001909549E840>, <__main__.County object at 0x000001909549E6C0>, <__main__.County object at 0x000001909549E9C0>, <__main__.County object at 0x000001909549E360>, <__main__.County object at 0x000001909549F200>, <__main__.County object at 0x000001909549E0F0>, <__main__.County object at 0x000001909549F260>, <__main__.County object at 0x000001909549EF90>], [<__main__.County object at 0x000001909549E480>, <__main__.County object at 0x000001909549EA20>, <__main__.County object at 0x000001909549E3F0>, <__main__.County object at 0x000001909549EBD0>, <__main__.County object at 0x000001909549EB70>, <__main__.County object at 0x000001909549E720>, <__main__.County object at 0x000001909549EB10>, <__main__.County object at 0x000001909549ED20>, <__main__.County object at 0x000001909549E2A0>, <__main__.County object at 0x000001909549E5A0>, <__main__.County object at 0x000001909549DDC0>], [<__main__.County object at 0x0000019093C3FFE0>, <__main__.County object at 0x0000019093C3FE60>, <__main__.County object at 0x0000019093C3FE30>, <__main__.County object at 0x0000019093C3C440>, <__main__.County object at 0x0000019093C3C770>, <__main__.County object at 0x0000019093C3C2F0>, <__main__.County object at 0x0000019093C3C5C0>, <__main__.County object at 0x0000019093C3C9B0>, <__main__.County object at 0x000001909549F290>, <__main__.County object at 0x0000019093C3C7D0>, <__main__.County object at 0x0000019093C3CA10>], [<__main__.County object at 0x000001909549D640>, <__main__.County object at 0x000001909549DF10>, <__main__.County object at 0x000001909549C590>, <__main__.County object at 0x000001909549E510>, <__main__.County object at 0x000001909549DC70>, <__main__.County object at 0x000001909549DCA0>, <__main__.County object at 0x000001909549E9F0>, <__main__.County object at 0x000001909549D9A0>, <__main__.County object at 0x000001909549DD00>, <__main__.County object at 0x000001909549CEC0>, <__main__.County object at 0x000001909549DD60>], [<__main__.County object at 0x000001909549F020>, <__main__.County object at 0x000001909549EB40>, <__main__.County object at 0x000001909549C6B0>, <__main__.County object at 0x000001909549ED50>, <__main__.County object at 0x000001909549F350>, <__main__.County object at 0x000001909549F050>, <__main__.County object at 0x0000019093C3C320>, <__main__.County object at 0x0000019093C3C050>, <__main__.County object at 0x000001909549EAB0>, <__main__.County object at 0x000001909549CF80>, <__main__.County object at 0x000001909549E210>], [<__main__.County object at 0x0000019093C3C6B0>, <__main__.County object at 0x0000019093C3C860>, <__main__.County object at 0x0000019093C3C800>, <__main__.County object at 0x0000019093C3C0B0>, <__main__.County object at 0x0000019093C3C470>, <__main__.County object at 0x0000019093C3C8C0>, <__main__.County object at 0x0000019093C3FA70>, <__main__.County object at 0x0000019093C3C890>, <__main__.County object at 0x0000019093C3C920>, <__main__.County object at 0x0000019093C3C410>, <__main__.County object at 0x0000019093C3C650>], [<__main__.County object at 0x0000019093C3FAA0>, <__main__.County object at 0x000001909549E450>, <__main__.County object at 0x000001909549F4A0>, <__main__.County object at 0x000001909549EC60>, <__main__.County object at 0x000001909549F170>, <__main__.County object at 0x000001909549DA00>, <__main__.County object at 0x0000019093C3FC50>, <__main__.County object at 0x000001909549E8D0>, <__main__.County object at 0x000001909549E600>, <__main__.County object at 0x000001909549EBA0>, <__main__.County object at 0x000001909549E900>], [<__main__.County object at 0x000001909143BF80>, <__main__.County object at 0x0000019093C3FE00>, <__main__.County object at 0x000001909549E390>, <__main__.County object at 0x0000019093C3D610>, <__main__.County object at 0x000001909549EC30>, <__main__.County object at 0x000001909549D7C0>, <__main__.County object at 0x000001909549EAE0>, <__main__.County object at 0x000001909549D8B0>, <__main__.County object at 0x000001909549F320>, <__main__.County object at 0x000001909549E240>, <__main__.County object at 0x000001909549E300>]], [[<__main__.County object at 0x000001909549E030>, <__main__.County object at 0x000001909549C140>, <__main__.County object at 0x000001909549CB90>, <__main__.County object at 0x000001909549C620>, <__main__.County object at 0x000001909549C980>, <__main__.County object at 0x000001909549C470>, <__main__.County object at 0x000001909549D4C0>, <__main__.County object at 0x000001909549C0E0>, <__main__.County object at 0x000001909549DCD0>, <__main__.County object at 0x000001909549D610>, <__main__.County object at 0x000001909549CB30>], [<__main__.County object at 0x000001909549CE90>, <__main__.County object at 0x000001909549CE30>, <__main__.County object at 0x000001909549E270>, <__main__.County object at 0x000001909549C4D0>, <__main__.County object at 0x000001909549E000>, <__main__.County object at 0x000001909549D7F0>, <__main__.County object at 0x000001909549CF50>, <__main__.County object at 0x000001909549CDD0>, <__main__.County object at 0x000001909549E1E0>, <__main__.County object at 0x000001909549CA10>, <__main__.County object at 0x000001909549DFA0>], [<__main__.County object at 0x000001909549D430>, <__main__.County object at 0x000001909549D190>, <__main__.County object at 0x000001909549DC40>, <__main__.County object at 0x000001909549C230>, <__main__.County object at 0x000001909549E4E0>, <__main__.County object at 0x000001909549E090>, <__main__.County object at 0x000001909549D8E0>, <__main__.County object at 0x000001909549DE50>, <__main__.County object at 0x000001909549D070>, <__main__.County object at 0x000001909549D1C0>, <__main__.County object at 0x000001909549C9B0>], [<__main__.County object at 0x000001909549DDF0>, <__main__.County object at 0x000001909549DBE0>, <__main__.County object at 0x000001909549D670>, <__main__.County object at 0x000001909549D790>, <__main__.County object at 0x0000019093C3FF80>, <__main__.County object at 0x000001909549C890>, <__main__.County object at 0x000001909549DD30>, <__main__.County object at 0x000001909549D970>, <__main__.County object at 0x000001909549D5B0>, <__main__.County object at 0x000001909549D820>, <__main__.County object at 0x000001909549D280>], [<__main__.County object at 0x000001909549DB80>, <__main__.County object at 0x000001909549D550>, <__main__.County object at 0x000001909549CAD0>, <__main__.County object at 0x000001909549D520>, <__main__.County object at 0x000001909549D220>, <__main__.County object at 0x000001909549DB50>, <__main__.County object at 0x000001909549C650>, <__main__.County object at 0x000001909549E0C0>, <__main__.County object at 0x000001909549CD40>, <__main__.County object at 0x000001909549D010>, <__main__.County object at 0x000001909549DF40>], [<__main__.County object at 0x000001909549E870>, <__main__.County object at 0x000001909549CCE0>, <__main__.County object at 0x000001909549C4A0>, <__main__.County object at 0x000001909549CBF0>, <__main__.County object at 0x000001909549D760>, <__main__.County object at 0x000001909549D2B0>, <__main__.County object at 0x000001909549D040>, <__main__.County object at 0x000001909549D580>, <__main__.County object at 0x000001909549C500>, <__main__.County object at 0x000001909549D0D0>, <__main__.County object at 0x000001909549D3A0>], [<__main__.County object at 0x000001909549CDA0>, <__main__.County object at 0x000001909549E780>, <__main__.County object at 0x000001909549C5F0>, <__main__.County object at 0x000001909549D4F0>, <__main__.County object at 0x000001909549DBB0>, <__main__.County object at 0x000001909549E420>, <__main__.County object at 0x000001909549D130>, <__main__.County object at 0x000001909549D940>, <__main__.County object at 0x000001909549CC80>, <__main__.County object at 0x000001909549EC00>, <__main__.County object at 0x000001909549EA50>], [<__main__.County object at 0x000001909549D880>, <__main__.County object at 0x000001909549CB00>, <__main__.County object at 0x000001909549E3C0>, <__main__.County object at 0x000001909549C9E0>, <__main__.County object at 0x000001909549C380>, <__main__.County object at 0x000001909549D460>, <__main__.County object at 0x000001909549FF20>, <__main__.County object at 0x000001909549CF20>, <__main__.County object at 0x000001909549C1A0>, <__main__.County object at 0x000001909549CC20>, <__main__.County object at 0x000001909549C860>], [<__main__.County object at 0x000001909549C0B0>, <__main__.County object at 0x000001909549D400>, <__main__.County object at 0x000001909549C830>, <__main__.County object at 0x000001909549C7A0>, <__main__.County object at 0x000001909549CB60>, <__main__.County object at 0x000001909549C770>, <__main__.County object at 0x000001909549D5E0>, <__main__.County object at 0x000001909549C2C0>, <__main__.County object at 0x000001909549C920>, <__main__.County object at 0x000001909549C8C0>, <__main__.County object at 0x000001909549CC50>], [<__main__.County object at 0x000001909549DA30>, <__main__.County object at 0x000001909549D6D0>, <__main__.County object at 0x000001909549E4B0>, <__main__.County object at 0x000001909549C950>, <__main__.County object at 0x000001909549D100>, <__main__.County object at 0x000001909549E120>, <__main__.County object at 0x000001909549DAF0>, <__main__.County object at 0x000001909549CE00>, <__main__.County object at 0x000001909549C710>, <__main__.County object at 0x000001909549D3D0>, <__main__.County object at 0x000001909549C2F0>], [<__main__.County object at 0x000001909549DA60>, <__main__.County object at 0x0000019093C3C740>, <__main__.County object at 0x000001909549C410>, <__main__.County object at 0x000001909549CBC0>, <__main__.County object at 0x000001909549FE00>, <__main__.County object at 0x000001909549D340>, <__main__.County object at 0x000001909549E8A0>, <__main__.County object at 0x000001909549DEB0>, <__main__.County object at 0x000001909549E540>, <__main__.County object at 0x000001909549D490>, <__main__.County object at 0x000001909842D790>]], [[<__main__.County object at 0x000001909549C7D0>, <__main__.County object at 0x000001909549C530>, <__main__.County object at 0x0000019093C3C8F0>, <__main__.County object at 0x000001909564BC20>, <__main__.County object at 0x000001909549C8F0>, <__main__.County object at 0x000001908C3DC5F0>, <__main__.County object at 0x000001909549CFB0>, <__main__.County object at 0x000001909549C560>, <__main__.County object at 0x000001909549FFB0>, <__main__.County object at 0x000001909549DF70>, <__main__.County object at 0x000001909549FD10>], [<__main__.County object at 0x000001909549D850>, <__main__.County object at 0x000001909549CE60>, <__main__.County object at 0x000001909549C680>, <__main__.County object at 0x000001909549D6A0>, <__main__.County object at 0x000001909549F9E0>, <__main__.County object at 0x000001909549F080>, <__main__.County object at 0x000001909549CCB0>, <__main__.County object at 0x000001909549D0A0>, <__main__.County object at 0x000001909549C440>, <__main__.County object at 0x000001909549E6F0>, <__main__.County object at 0x000001909549C200>], [<__main__.County object at 0x000001909549FAD0>, <__main__.County object at 0x000001909549F1A0>, <__main__.County object at 0x000001909549FA10>, <__main__.County object at 0x000001909549F6B0>, <__main__.County object at 0x000001909549F140>, <__main__.County object at 0x000001909549FCB0>, <__main__.County object at 0x000001909549FA40>, <__main__.County object at 0x000001909549FAA0>, <__main__.County object at 0x000001909549F770>, <__main__.County object at 0x000001909549FBC0>, <__main__.County object at 0x000001909549FB60>], [<__main__.County object at 0x000001909549E7B0>, <__main__.County object at 0x000001909549F3E0>, <__main__.County object at 0x000001909549CD70>, <__main__.County object at 0x000001909549F740>, <__main__.County object at 0x000001909549C110>, <__main__.County object at 0x000001909549FE60>, <__main__.County object at 0x000001909549FEF0>, <__main__.County object at 0x000001909549F5C0>, <__main__.County object at 0x000001909549FF50>, <__main__.County object at 0x000001909549F650>, <__main__.County object at 0x000001909549FD40>], [<__main__.County object at 0x000001909549F7D0>, <__main__.County object at 0x000001909549F6E0>, <__main__.County object at 0x000001909549EED0>, <__main__.County object at 0x000001909549EE40>, <__main__.County object at 0x000001909549EF30>, <__main__.County object at 0x000001909549F530>, <__main__.County object at 0x000001909549F8F0>, <__main__.County object at 0x000001909549FCE0>, <__main__.County object at 0x000001909549F590>, <__main__.County object at 0x000001909549FA70>, <__main__.County object at 0x000001909549FBF0>], [<__main__.County object at 0x000001909549F4D0>, <__main__.County object at 0x000001909549F920>, <__main__.County object at 0x000001909549F2C0>, <__main__.County object at 0x000001909549F800>, <__main__.County object at 0x000001909549EF60>, <__main__.County object at 0x000001909549F9B0>, <__main__.County object at 0x000001909549F500>, <__main__.County object at 0x000001909549C080>, <__main__.County object at 0x000001909549C050>, <__main__.County object at 0x000001909549C350>, <__main__.County object at 0x00000190988EAB70>], [<__main__.County object at 0x000001909549CAA0>, <__main__.County object at 0x000001909549C3E0>, <__main__.County object at 0x000001909549FF80>, <__main__.County object at 0x000001909549FC50>, <__main__.County object at 0x000001909549FE90>, <__main__.County object at 0x000001909549F0B0>, <__main__.County object at 0x000001909549D370>, <__main__.County object at 0x000001909549C6E0>, <__main__.County object at 0x000001909549F110>, <__main__.County object at 0x000001909549F440>, <__main__.County object at 0x000001909549D910>], [<__main__.County object at 0x000001909549F2F0>, <__main__.County object at 0x000001909549F7A0>, <__main__.County object at 0x00000190988EA9C0>, <__main__.County object at 0x00000190988E8B00>, <__main__.County object at 0x000001909549C290>, <__main__.County object at 0x000001909549EFF0>, <__main__.County object at 0x000001909549F980>, <__main__.County object at 0x000001909549E150>, <__main__.County object at 0x000001909549CFE0>, <__main__.County object at 0x000001909549F680>, <__main__.County object at 0x000001909549EEA0>], [<__main__.County object at 0x000001909549D250>, <__main__.County object at 0x000001909549F410>, <__main__.County object at 0x000001909549FFE0>, <__main__.County object at 0x000001909549F950>, <__main__.County object at 0x000001909549C170>, <__main__.County object at 0x000001909549F5F0>, <__main__.County object at 0x000001909549F620>, <__main__.County object at 0x000001909549FEC0>, <__main__.County object at 0x000001909549F890>, <__main__.County object at 0x000001909549FC80>, <__main__.County object at 0x000001909549D310>], [<__main__.County object at 0x000001909549EF00>, <__main__.County object at 0x000001909549FC20>, <__main__.County object at 0x000001909549FB90>, <__main__.County object at 0x000001909549EDE0>, <__main__.County object at 0x000001909549EDB0>, <__main__.County object at 0x000001909549FB30>, <__main__.County object at 0x000001909549F860>, <__main__.County object at 0x000001909549F470>, <__main__.County object at 0x000001909549F8C0>, <__main__.County object at 0x000001909549F830>, <__main__.County object at 0x000001909549FB00>], [<__main__.County object at 0x000001909549C740>, <__main__.County object at 0x00000190988E8110>, <__main__.County object at 0x00000190988EADB0>, <__main__.County object at 0x00000190988E83B0>, <__main__.County object at 0x000001909549FE30>, <__main__.County object at 0x000001909549EA80>, <__main__.County object at 0x000001909549ECF0>, <__main__.County object at 0x000001909549DB20>, <__main__.County object at 0x000001909549F560>, <__main__.County object at 0x000001909549DFD0>, <__main__.County object at 0x000001909549F710>]], [[<__main__.County object at 0x00000190988E93A0>, <__main__.County object at 0x00000190988E9460>, <__main__.County object at 0x00000190988EA540>, <__main__.County object at 0x00000190988E9880>, <__main__.County object at 0x00000190988E90D0>, <__main__.County object at 0x00000190988E82C0>, <__main__.County object at 0x00000190988E99D0>, <__main__.County object at 0x00000190988E95E0>, <__main__.County object at 0x00000190988E8890>, <__main__.County object at 0x00000190988EA180>, <__main__.County object at 0x00000190988E9EB0>], [<__main__.County object at 0x00000190988E8F20>, <__main__.County object at 0x00000190988E8FE0>, <__main__.County object at 0x00000190988EA2D0>, <__main__.County object at 0x00000190988E9D60>, <__main__.County object at 0x00000190988E9C40>, <__main__.County object at 0x00000190988E82F0>, <__main__.County object at 0x00000190988E9F10>, <__main__.County object at 0x00000190988EA360>, <__main__.County object at 0x00000190988EA5A0>, <__main__.County object at 0x00000190988EAE10>, <__main__.County object at 0x00000190988EA000>], [<__main__.County object at 0x000001909549FD70>, <__main__.County object at 0x00000190988E8E30>, <__main__.County object at 0x00000190988E8DD0>, <__main__.County object at 0x00000190988E9BB0>, <__main__.County object at 0x00000190988EA090>, <__main__.County object at 0x00000190988E8A10>, <__main__.County object at 0x00000190988EA750>, <__main__.County object at 0x00000190988E9190>, <__main__.County object at 0x00000190988E9820>, <__main__.County object at 0x00000190988E97C0>, <__main__.County object at 0x00000190988E89E0>], [<__main__.County object at 0x000001908A7BE9C0>, <__main__.County object at 0x00000190988E9DF0>, <__main__.County object at 0x00000190988E8BF0>, <__main__.County object at 0x00000190988E87D0>, <__main__.County object at 0x00000190988E9700>, <__main__.County object at 0x00000190988E9280>, <__main__.County object at 0x00000190988E9CD0>, <__main__.County object at 0x00000190988E95B0>, <__main__.County object at 0x00000190988EA3C0>, <__main__.County object at 0x00000190988EA1E0>, <__main__.County object at 0x00000190988E9FA0>], [<__main__.County object at 0x00000190988E9E50>, <__main__.County object at 0x00000190988E9160>, <__main__.County object at 0x00000190988E8830>, <__main__.County object at 0x00000190988E8B30>, <__main__.County object at 0x00000190988E9970>, <__main__.County object at 0x00000190988E8E60>, <__main__.County object at 0x00000190988EA120>, <__main__.County object at 0x00000190988E9910>, <__main__.County object at 0x00000190988E94C0>, <__main__.County object at 0x00000190988E9130>, <__main__.County object at 0x00000190988E9010>], [<__main__.County object at 0x00000190988EA0C0>, <__main__.County object at 0x00000190988EAA20>, <__main__.County object at 0x00000190988E99A0>, <__main__.County object at 0x00000190988E86B0>, <__main__.County object at 0x00000190988EA270>, <__main__.County object at 0x00000190988E92B0>, <__main__.County object at 0x00000190988E8980>, <__main__.County object at 0x00000190988E97F0>, <__main__.County object at 0x00000190988E9A00>, <__main__.County object at 0x00000190988E88C0>, <__main__.County object at 0x00000190988EA4E0>], [<__main__.County object at 0x00000190988E8920>, <__main__.County object at 0x00000190988EA570>, <__main__.County object at 0x00000190988E96D0>, <__main__.County object at 0x00000190988EAFF0>, <__main__.County object at 0x00000190988E9BE0>, <__main__.County object at 0x00000190988EAC00>, <__main__.County object at 0x00000190988E9B80>, <__main__.County object at 0x00000190988E9EE0>, <__main__.County object at 0x00000190988EA660>, <__main__.County object at 0x00000190988E9D30>, <__main__.County object at 0x00000190988E9310>], [<__main__.County object at 0x000001909549FDD0>, <__main__.County object at 0x00000190988E8D10>, <__main__.County object at 0x00000190988E8A40>, <__main__.County object at 0x00000190988EA240>, <__main__.County object at 0x00000190988E9790>, <__main__.County object at 0x00000190988E8F80>, <__main__.County object at 0x00000190988EA720>, <__main__.County object at 0x00000190988E9430>, <__main__.County object at 0x00000190988E9AC0>, <__main__.County object at 0x00000190988E9100>, <__main__.County object at 0x00000190988E8B90>], [<__main__.County object at 0x00000190988E91C0>, <__main__.County object at 0x00000190988E8C80>, <__main__.County object at 0x00000190988E8CE0>, <__main__.County object at 0x00000190988E9F70>, <__main__.County object at 0x00000190988E96A0>, <__main__.County object at 0x00000190988E9250>, <__main__.County object at 0x00000190988EA6F0>, <__main__.County object at 0x00000190988EAD50>, <__main__.County object at 0x00000190988EA300>, <__main__.County object at 0x00000190988E9760>, <__main__.County object at 0x00000190988E9340>], [<__main__.County object at 0x00000190988EA2A0>, <__main__.County object at 0x00000190988EA5D0>, <__main__.County object at 0x00000190988EA330>, <__main__.County object at 0x00000190988E8EF0>, <__main__.County object at 0x00000190988E8D70>, <__main__.County object at 0x00000190988EA7B0>, <__main__.County object at 0x00000190988E9610>, <__main__.County object at 0x00000190988E9DC0>, <__main__.County object at 0x00000190988E9040>, <__main__.County object at 0x00000190988E8BC0>, <__main__.County object at 0x00000190988EAC90>], [<__main__.County object at 0x00000190988EA420>, <__main__.County object at 0x00000190988E8C20>, <__main__.County object at 0x00000190988E86E0>, <__main__.County object at 0x00000190988E9E20>, <__main__.County object at 0x00000190988E93D0>, <__main__.County object at 0x00000190988EABA0>, <__main__.County object at 0x00000190988EAED0>, <__main__.County object at 0x00000190988E8DA0>, <__main__.County object at 0x00000190988E9C10>, <__main__.County object at 0x00000190988E98E0>, <__main__.County object at 0x00000190988EA150>]]], [[[<__main__.County object at 0x00000190988EBE00>, <__main__.County object at 0x00000190988E9F40>, <__main__.County object at 0x00000190988EBF20>, <__main__.County object at 0x00000190988E8E00>, <__main__.County object at 0x00000190988E9520>, <__main__.County object at 0x00000190988E8C50>, <__main__.County object at 0x00000190988E8410>, <__main__.County object at 0x00000190988E8050>, <__main__.County object at 0x00000190988E8170>, <__main__.County object at 0x00000190988E90A0>, <__main__.County object at 0x00000190988E8EC0>, <__main__.County object at 0x00000190988EBBF0>], [<__main__.County object at 0x00000190988EB470>, <__main__.County object at 0x00000190988EAF30>, <__main__.County object at 0x00000190988EBB60>, <__main__.County object at 0x00000190988EBD40>, <__main__.County object at 0x00000190988EBA70>, <__main__.County object at 0x00000190988EB410>, <__main__.County object at 0x00000190988EB710>, <__main__.County object at 0x00000190988EAF90>, <__main__.County object at 0x00000190988EB230>, <__main__.County object at 0x00000190988EBDD0>, <__main__.County object at 0x00000190988E85C0>, <__main__.County object at 0x00000190988EB590>], [<__main__.County object at 0x00000190988E9730>, <__main__.County object at 0x00000190988E9370>, <__main__.County object at 0x00000190988E8860>, <__main__.County object at 0x00000190988E9400>, <__main__.County object at 0x00000190988EBEC0>, <__main__.County object at 0x00000190988EBB90>, <__main__.County object at 0x00000190988EAC60>, <__main__.County object at 0x00000190988E8440>, <__main__.County object at 0x00000190988E88F0>, <__main__.County object at 0x00000190988E9FD0>, <__main__.County object at 0x00000190988E9A30>, <__main__.County object at 0x00000190988EA510>], [<__main__.County object at 0x00000190988EB530>, <__main__.County object at 0x00000190988EB4D0>, <__main__.County object at 0x00000190988EB5C0>, <__main__.County object at 0x00000190988EB7D0>, <__main__.County object at 0x00000190988EB9E0>, <__main__.County object at 0x00000190988EB3E0>, <__main__.County object at 0x00000190988EBE30>, <__main__.County object at 0x00000190988EB8F0>, <__main__.County object at 0x00000190988EB800>, <__main__.County object at 0x00000190988EBA40>, <__main__.County object at 0x00000190988EB0E0>, <__main__.County object at 0x00000190988EBCB0>], [<__main__.County object at 0x00000190988E8230>, <__main__.County object at 0x00000190988E9550>, <__main__.County object at 0x00000190988E8800>, <__main__.County object at 0x00000190988E8560>, <__main__.County object at 0x00000190988EAE40>, <__main__.County object at 0x00000190988EBEF0>, <__main__.County object at 0x00000190988E87A0>, <__main__.County object at 0x00000190988EB740>, <__main__.County object at 0x00000190988E8290>, <__main__.County object at 0x00000190988EBE60>, <__main__.County object at 0x00000190988E8AA0>, <__main__.County object at 0x00000190988EA3F0>], [<__main__.County object at 0x00000190988EBFE0>, <__main__.County object at 0x00000190988EB080>, <__main__.County object at 0x00000190988E9940>, <__main__.County object at 0x00000190988E98B0>, <__main__.County object at 0x00000190988EBC50>, <__main__.County object at 0x00000190988E91F0>, <__main__.County object at 0x00000190988EA210>, <__main__.County object at 0x00000190988E9D00>, <__main__.County object at 0x00000190988EACC0>, <__main__.County object at 0x00000190988EADE0>, <__main__.County object at 0x0000019090B19AF0>, <__main__.County object at 0x0000019095A81D60>], [<__main__.County object at 0x00000190988EBD10>, <__main__.County object at 0x00000190988EB1D0>, <__main__.County object at 0x00000190988EB2F0>, <__main__.County object at 0x00000190988EB170>, <__main__.County object at 0x00000190988EB7A0>, <__main__.County object at 0x00000190988EB9B0>, <__main__.County object at 0x00000190988EB2C0>, <__main__.County object at 0x00000190988EB560>, <__main__.County object at 0x00000190988EB830>, <__main__.County object at 0x00000190988EAFC0>, <__main__.County object at 0x00000190988EAC30>, <__main__.County object at 0x00000190988EBCE0>], [<__main__.County object at 0x00000190988E8B60>, <__main__.County object at 0x00000190988EA060>, <__main__.County object at 0x00000190988E8CB0>, <__main__.County object at 0x00000190988E8FB0>, <__main__.County object at 0x00000190988EACF0>, <__main__.County object at 0x00000190988EBAA0>, <__main__.County object at 0x00000190988E94F0>, <__main__.County object at 0x00000190988EB200>, <__main__.County object at 0x00000190988E9B20>, <__main__.County object at 0x00000190988E8650>, <__main__.County object at 0x00000190988E89B0>, <__main__.County object at 0x00000190988EB680>], [<__main__.County object at 0x00000190988EB860>, <__main__.County object at 0x00000190988EBD70>, <__main__.County object at 0x00000190988E8680>, <__main__.County object at 0x00000190988EB350>, <__main__.County object at 0x00000190988EBDA0>, <__main__.County object at 0x00000190988EB5F0>, <__main__.County object at 0x00000190988EBF50>, <__main__.County object at 0x00000190988EB4A0>, <__main__.County object at 0x00000190988E8530>, <__main__.County object at 0x00000190988EBB00>, <__main__.County object at 0x00000190988EB380>, <__main__.County object at 0x00000190988E85F0>], [<__main__.County object at 0x00000190988E8350>, <__main__.County object at 0x00000190988EABD0>, <__main__.County object at 0x00000190988E8590>, <__main__.County object at 0x00000190988EB6B0>, <__main__.County object at 0x00000190988EB6E0>, <__main__.County object at 0x00000190988EBB30>, <__main__.County object at 0x00000190988EB020>, <__main__.County object at 0x00000190988EB0B0>, <__main__.County object at 0x00000190988EB890>, <__main__.County object at 0x00000190988EB140>, <__main__.County object at 0x00000190988EBBC0>, <__main__.County object at 0x00000190988EAD80>], [<__main__.County object at 0x00000190988EA030>, <__main__.County object at 0x00000190988EB1A0>, <__main__.County object at 0x00000190988E84A0>, <__main__.County object at 0x00000190988EB500>, <__main__.County object at 0x00000190988EB980>, <__main__.County object at 0x00000190988EB920>, <__main__.County object at 0x00000190988EB3B0>, <__main__.County object at 0x00000190988EAF60>, <__main__.County object at 0x00000190988EB650>, <__main__.County object at 0x00000190988EB110>, <__main__.County object at 0x00000190988EB440>, <__main__.County object at 0x00000190988EB770>], [<__main__.County object at 0x00000190988E8AD0>, <__main__.County object at 0x00000190988EA450>, <__main__.County object at 0x00000190988E8A70>, <__main__.County object at 0x00000190988EBF80>, <__main__.County object at 0x00000190988EB290>, <__main__.County object at 0x00000190988E9070>, <__main__.County object at 0x00000190988EB260>, <__main__.County object at 0x00000190988EBA10>, <__main__.County object at 0x00000190988EB620>, <__main__.County object at 0x00000190988EAD20>, <__main__.County object at 0x00000190988EB320>, <__main__.County object at 0x00000190988EAEA0>]], [[<__main__.County object at 0x0000019091104920>, <__main__.County object at 0x0000019091105CD0>, <__main__.County object at 0x0000019091104C80>, <__main__.County object at 0x0000019091105CA0>, <__main__.County object at 0x0000019091104A40>, <__main__.County object at 0x00000190911046E0>, <__main__.County object at 0x0000019091104110>, <__main__.County object at 0x00000190911042F0>, <__main__.County object at 0x0000019091105100>, <__main__.County object at 0x0000019091104740>, <__main__.County object at 0x0000019091105940>, <__main__.County object at 0x00000190911058E0>], [<__main__.County object at 0x00000190911053A0>, <__main__.County object at 0x0000019091105790>, <__main__.County object at 0x00000190911051F0>, <__main__.County object at 0x0000019091104830>, <__main__.County object at 0x0000019091104DA0>, <__main__.County object at 0x00000190911055B0>, <__main__.County object at 0x00000190911059D0>, <__main__.County object at 0x0000019091105610>, <__main__.County object at 0x0000019091105DF0>, <__main__.County object at 0x0000019091105400>, <__main__.County object at 0x0000019091104FE0>, <__main__.County object at 0x0000019091104F80>], [<__main__.County object at 0x0000019091105AF0>, <__main__.County object at 0x0000019091105910>, <__main__.County object at 0x0000019091105D00>, <__main__.County object at 0x00000190911052B0>, <__main__.County object at 0x0000019091105040>, <__main__.County object at 0x0000019091105160>, <__main__.County object at 0x0000019091105B50>, <__main__.County object at 0x00000190911054F0>, <__main__.County object at 0x00000190911079B0>, <__main__.County object at 0x0000019091106D20>, <__main__.County object at 0x00000190988E81A0>, <__main__.County object at 0x00000190911058B0>], [<__main__.County object at 0x0000019091105970>, <__main__.County object at 0x0000019091104D10>, <__main__.County object at 0x00000190911050D0>, <__main__.County object at 0x00000190911054C0>, <__main__.County object at 0x0000019091104EC0>, <__main__.County object at 0x0000019091104CE0>, <__main__.County object at 0x0000019091104D40>, <__main__.County object at 0x00000190911047A0>, <__main__.County object at 0x00000190911049B0>, <__main__.County object at 0x0000019091104D70>, <__main__.County object at 0x0000019091104800>, <__main__.County object at 0x0000019091105310>], [<__main__.County object at 0x00000190911057F0>, <__main__.County object at 0x0000019091105820>, <__main__.County object at 0x0000019091105430>, <__main__.County object at 0x0000019091105220>, <__main__.County object at 0x00000190911059A0>, <__main__.County object at 0x0000019091104DD0>, <__main__.County object at 0x0000019091104B00>, <__main__.County object at 0x00000190911047D0>, <__main__.County object at 0x0000019091104F20>, <__main__.County object at 0x0000019091105010>, <__main__.County object at 0x0000019091104B30>, <__main__.County object at 0x00000190911049E0>], [<__main__.County object at 0x0000019091105340>, <__main__.County object at 0x0000019091105A90>, <__main__.County object at 0x00000190911052E0>, <__main__.County object at 0x00000190911056D0>, <__main__.County object at 0x0000019091106240>, <__main__.County object at 0x0000019091104E60>, <__main__.County object at 0x0000019091104C50>, <__main__.County object at 0x0000019091104F50>, <__main__.County object at 0x0000019091104B60>, <__main__.County object at 0x0000019091104AD0>, <__main__.County object at 0x0000019091105370>, <__main__.County object at 0x0000019091105D30>], [<__main__.County object at 0x0000019091105070>, <__main__.County object at 0x0000019091105880>, <__main__.County object at 0x0000019091105D60>, <__main__.County object at 0x00000190988E8200>, <__main__.County object at 0x00000190988E8260>, <__main__.County object at 0x0000019091105700>, <__main__.County object at 0x0000019091105A30>, <__main__.County object at 0x000001908C229580>, <__main__.County object at 0x00000190988E8710>, <__main__.County object at 0x00000190988E8620>, <__main__.County object at 0x0000019091104CB0>, <__main__.County object at 0x00000190988EA600>], [<__main__.County object at 0x00000190911044D0>, <__main__.County object at 0x00000190988E8140>, <__main__.County object at 0x0000019091104980>, <__main__.County object at 0x0000019091107740>, <__main__.County object at 0x00000190988E8500>, <__main__.County object at 0x00000190988E8740>, <__main__.County object at 0x0000019091105B20>, <__main__.County object at 0x00000190911048C0>, <__main__.County object at 0x0000019091105460>, <__main__.County object at 0x0000019091105AC0>, <__main__.County object at 0x00000190911048F0>, <__main__.County object at 0x0000019091104E90>], [<__main__.County object at 0x00000190988E80E0>, <__main__.County object at 0x00000190988E8380>, <__main__.County object at 0x0000019091104320>, <__main__.County object at 0x00000190988E8080>, <__main__.County object at 0x00000190988E81D0>, <__main__.County object at 0x00000190988E84D0>, <__main__.County object at 0x00000190988E80B0>, <__main__.County object at 0x0000019091104E00>, <__main__.County object at 0x0000019091104FB0>, <__main__.County object at 0x0000019091105850>, <__main__.County object at 0x0000019091105760>, <__main__.County object at 0x00000190911053D0>], [<__main__.County object at 0x0000019091105BE0>, <__main__.County object at 0x00000190911055E0>, <__main__.County object at 0x0000019091105520>, <__main__.County object at 0x0000019091105C10>, <__main__.County object at 0x0000019091105E50>, <__main__.County object at 0x0000019091105640>, <__main__.County object at 0x0000019091105E20>, <__main__.County object at 0x0000019091107CE0>, <__main__.County object at 0x0000019091107E30>, <__main__.County object at 0x0000019091107E90>, <__main__.County object at 0x0000019091105DC0>, <__main__.County object at 0x0000019091105B80>], [<__main__.County object at 0x0000019091104860>, <__main__.County object at 0x0000019091105670>, <__main__.County object at 0x0000019091105490>, <__main__.County object at 0x00000190911050A0>, <__main__.County object at 0x0000019091104E30>, <__main__.County object at 0x0000019091105730>, <__main__.County object at 0x0000019091105130>, <__main__.County object at 0x0000019091105190>, <__main__.County object at 0x0000019091105280>, <__main__.County object at 0x00000190911056A0>, <__main__.County object at 0x0000019091104EF0>, <__main__.County object at 0x0000019091105250>], [<__main__.County object at 0x0000019091107F20>, <__main__.County object at 0x0000019091105A60>, <__main__.County object at 0x0000019091105BB0>, <__main__.County object at 0x0000019091105D90>, <__main__.County object at 0x0000019091104A70>, <__main__.County object at 0x0000019091104890>, <__main__.County object at 0x0000019091105C70>, <__main__.County object at 0x0000019091105A00>, <__main__.County object at 0x00000190911057C0>, <__main__.County object at 0x0000019091105580>, <__main__.County object at 0x0000019091105C40>, <__main__.County object at 0x00000190911051C0>]], [[<__main__.County object at 0x0000019091106E10>, <__main__.County object at 0x0000019091106570>, <__main__.County object at 0x00000190911072C0>, <__main__.County object at 0x0000019091106DB0>, <__main__.County object at 0x0000019091106ED0>, <__main__.County object at 0x0000019091106960>, <__main__.County object at 0x0000019091106D50>, <__main__.County object at 0x0000019091106AE0>, <__main__.County object at 0x00000190911064B0>, <__main__.County object at 0x0000019091105FD0>, <__main__.County object at 0x00000190911065A0>, <__main__.County object at 0x0000019091107110>], [<__main__.County object at 0x0000019091105F40>, <__main__.County object at 0x0000019091106810>, <__main__.County object at 0x00000190911063F0>, <__main__.County object at 0x0000019091106450>, <__main__.County object at 0x0000019091107050>, <__main__.County object at 0x0000019091106300>, <__main__.County object at 0x00000190911074A0>, <__main__.County object at 0x0000019091106DE0>, <__main__.County object at 0x00000190911064E0>, <__main__.County object at 0x0000019091106000>, <__main__.County object at 0x00000190911061B0>, <__main__.County object at 0x0000019091106750>], [<__main__.County object at 0x0000019091107890>, <__main__.County object at 0x0000019091107B00>, <__main__.County object at 0x0000019091107920>, <__main__.County object at 0x0000019091105E80>, <__main__.County object at 0x00000190911075F0>, <__main__.County object at 0x00000190911079E0>, <__main__.County object at 0x0000019091107650>, <__main__.County object at 0x0000019091107E60>, <__main__.County object at 0x00000190911078C0>, <__main__.County object at 0x0000019091107620>, <__main__.County object at 0x00000190911061E0>, <__main__.County object at 0x00000190911077A0>], [<__main__.County object at 0x0000019091106AB0>, <__main__.County object at 0x0000019091106150>, <__main__.County object at 0x00000190911067B0>, <__main__.County object at 0x0000019091106F00>, <__main__.County object at 0x00000190911070E0>, <__main__.County object at 0x0000019091105EB0>, <__main__.County object at 0x0000019091106CF0>, <__main__.County object at 0x00000190911072F0>, <__main__.County object at 0x0000019091106B40>, <__main__.County object at 0x0000019091106BD0>, <__main__.County object at 0x00000190911066F0>, <__main__.County object at 0x0000019091105F70>], [<__main__.County object at 0x0000019091106420>, <__main__.County object at 0x00000190911062D0>, <__main__.County object at 0x00000190911060C0>, <__main__.County object at 0x0000019091106870>, <__main__.County object at 0x0000019091107DD0>, <__main__.County object at 0x0000019091106390>, <__main__.County object at 0x0000019091105F10>, <__main__.County object at 0x0000019091106330>, <__main__.County object at 0x0000019091107E00>, <__main__.County object at 0x0000019091107C20>, <__main__.County object at 0x00000190911071A0>, <__main__.County object at 0x0000019091107D70>], [<__main__.County object at 0x0000019091107C50>, <__main__.County object at 0x0000019091107AD0>, <__main__.County object at 0x00000190911077D0>, <__main__.County object at 0x00000190988E8F50>, <__main__.County object at 0x0000019091107CB0>, <__main__.County object at 0x0000019091107680>, <__main__.County object at 0x0000019091106660>, <__main__.County object at 0x0000019091107080>, <__main__.County object at 0x0000019091106A80>, <__main__.County object at 0x0000019091107A70>, <__main__.County object at 0x0000019091106840>, <__main__.County object at 0x0000019091107A40>], [<__main__.County object at 0x0000019091107DA0>, <__main__.County object at 0x00000190988E8950>, <__main__.County object at 0x0000019091107B60>, <__main__.County object at 0x00000190911076B0>, <__main__.County object at 0x0000019091106C90>, <__main__.County object at 0x0000019091106CC0>, <__main__.County object at 0x0000019091106480>, <__main__.County object at 0x00000190911071D0>, <__main__.County object at 0x0000019091106B70>, <__main__.County object at 0x0000019091106FC0>, <__main__.County object at 0x0000019091106930>, <__main__.County object at 0x0000019091106B10>], [<__main__.County object at 0x0000019091106510>, <__main__.County object at 0x0000019091106FF0>, <__main__.County object at 0x0000019091106C30>, <__main__.County object at 0x0000019091107230>, <__main__.County object at 0x0000019091104950>, <__main__.County object at 0x0000019091106C00>, <__main__.County object at 0x00000190911074D0>, <__main__.County object at 0x0000019091107020>, <__main__.County object at 0x0000019091105FA0>, <__main__.County object at 0x0000019091106A20>, <__main__.County object at 0x0000019091104B90>, <__main__.County object at 0x00000190911069F0>], [<__main__.County object at 0x00000190911065D0>, <__main__.County object at 0x0000019091107A10>, <__main__.County object at 0x0000019091106630>, <__main__.County object at 0x0000019091106600>, <__main__.County object at 0x0000019091106120>, <__main__.County object at 0x0000019091106090>, <__main__.County object at 0x0000019091106E70>, <__main__.County object at 0x0000019091107BC0>, <__main__.County object at 0x0000019091107F50>, <__main__.County object at 0x0000019091107D10>, <__main__.County object at 0x0000019091107560>, <__main__.County object at 0x00000190911070B0>], [<__main__.County object at 0x0000019091107FB0>, <__main__.County object at 0x0000019091107FE0>, <__main__.County object at 0x0000019091107B90>, <__main__.County object at 0x0000019091106900>, <__main__.County object at 0x0000019091106270>, <__main__.County object at 0x0000019091106030>, <__main__.County object at 0x0000019091106F60>, <__main__.County object at 0x00000190911066C0>, <__main__.County object at 0x00000190911068D0>, <__main__.County object at 0x0000019091106F30>, <__main__.County object at 0x0000019091106F90>, <__main__.County object at 0x0000019091106720>], [<__main__.County object at 0x000001908FD79670>, <__main__.County object at 0x00000190988E83E0>, <__main__.County object at 0x0000019091107B30>, <__main__.County object at 0x0000019091107BF0>, <__main__.County object at 0x0000019091106E40>, <__main__.County object at 0x0000019091106210>, <__main__.County object at 0x0000019091107260>, <__main__.County object at 0x0000019091106C60>, <__main__.County object at 0x0000019091106540>, <__main__.County object at 0x00000190911063C0>, <__main__.County object at 0x0000019091107380>, <__main__.County object at 0x00000190911068A0>], [<__main__.County object at 0x0000019091106180>, <__main__.County object at 0x0000019091107EC0>, <__main__.County object at 0x0000019091107C80>, <__main__.County object at 0x0000019091107EF0>, <__main__.County object at 0x0000019091107980>, <__main__.County object at 0x0000019091107290>, <__main__.County object at 0x0000019091106EA0>, <__main__.County object at 0x0000019091106360>, <__main__.County object at 0x0000019091106690>, <__main__.County object at 0x00000190911060F0>, <__main__.County object at 0x0000019091105EE0>, <__main__.County object at 0x0000019091106D80>]], [[<__main__.County object at 0x0000019090E5EB40>, <__main__.County object at 0x0000019090E5EC00>, <__main__.County object at 0x0000019091104AA0>, <__main__.County object at 0x0000019091105550>, <__main__.County object at 0x0000019090E5ED80>, <__main__.County object at 0x0000019091104620>, <__main__.County object at 0x00000190911040B0>, <__main__.County object at 0x00000190911043B0>, <__main__.County object at 0x0000019091104590>, <__main__.County object at 0x0000019091104170>, <__main__.County object at 0x00000190911042C0>, <__main__.County object at 0x0000019091107350>], [<__main__.County object at 0x0000019091104440>, <__main__.County object at 0x00000190911076E0>, <__main__.County object at 0x0000019091104200>, <__main__.County object at 0x0000019091106990>, <__main__.County object at 0x0000019091104290>, <__main__.County object at 0x0000019091104140>, <__main__.County object at 0x0000019091106BA0>, <__main__.County object at 0x0000019091104410>, <__main__.County object at 0x00000190911067E0>, <__main__.County object at 0x00000190911069C0>, <__main__.County object at 0x00000190911041D0>, <__main__.County object at 0x0000019090E5E0F0>], [<__main__.County object at 0x0000019091107140>, <__main__.County object at 0x0000019091104680>, <__main__.County object at 0x0000019091104080>, <__main__.County object at 0x00000190911044A0>, <__main__.County object at 0x0000019091104260>, <__main__.County object at 0x0000019091106A50>, <__main__.County object at 0x0000019090E5D610>, <__main__.County object at 0x0000019091106060>, <__main__.County object at 0x00000190911046B0>, <__main__.County object at 0x0000019091107320>, <__main__.County object at 0x0000019090E5E060>, <__main__.County object at 0x0000019090E5EB70>], [<__main__.County object at 0x0000019090E5E930>, <__main__.County object at 0x0000019090E5EAE0>, <__main__.County object at 0x0000019090E5EAB0>, <__main__.County object at 0x0000019090E5E690>, <__main__.County object at 0x0000019090E5E6C0>, <__main__.County object at 0x0000019090E5ECC0>, <__main__.County object at 0x0000019090E5E840>, <__main__.County object at 0x0000019090E5CCE0>, <__main__.County object at 0x0000019090E5E6F0>, <__main__.County object at 0x0000019090E5EF00>, <__main__.County object at 0x0000019090E5FF80>, <__main__.County object at 0x0000019090E5E360>], [<__main__.County object at 0x0000019090E5F140>, <__main__.County object at 0x0000019090E5FFB0>, <__main__.County object at 0x0000019091104350>, <__main__.County object at 0x0000019090E5EEA0>, <__main__.County object at 0x0000019090E5EB10>, <__main__.County object at 0x0000019090E5E990>, <__main__.County object at 0x0000019090E5EDE0>, <__main__.County object at 0x0000019090E5DD60>, <__main__.County object at 0x0000019090E5EDB0>, <__main__.County object at 0x0000019090E5E9F0>, <__main__.County object at 0x0000019090E5CA40>, <__main__.County object at 0x0000019090E5D7C0>], [<__main__.County object at 0x0000019090E5E750>, <__main__.County object at 0x0000019090E5EED0>, <__main__.County object at 0x0000019090E5EF60>, <__main__.County object at 0x0000019090E5EA80>, <__main__.County object at 0x0000019090E5E720>, <__main__.County object at 0x0000019090E5EA50>, <__main__.County object at 0x0000019090E5EBD0>, <__main__.County object at 0x0000019090E5ED50>, <__main__.County object at 0x0000019090E5E810>, <__main__.County object at 0x0000019090E5E630>, <__main__.County object at 0x0000019090E5EC90>, <__main__.County object at 0x0000019090E5FA70>], [<__main__.County object at 0x0000019090E5E4E0>, <__main__.County object at 0x0000019090E5CAA0>, <__main__.County object at 0x0000019090E5EE10>, <__main__.County object at 0x0000019090E5FFE0>, <__main__.County object at 0x0000019090E5EE40>, <__main__.County object at 0x0000019091107800>, <__main__.County object at 0x0000019091104650>, <__main__.County object at 0x0000019090E5EC60>, <__main__.County object at 0x0000019090E5ECF0>, <__main__.County object at 0x0000019090E5E960>, <__main__.County object at 0x0000019090E5EC30>, <__main__.County object at 0x0000019090E5E7B0>], [<__main__.County object at 0x0000019090E5D790>, <__main__.County object at 0x0000019090E5F8F0>, <__main__.County object at 0x0000019090E5D3A0>, <__main__.County object at 0x0000019090E5D1C0>, <__main__.County object at 0x0000019090E5D310>, <__main__.County object at 0x0000019090E5F950>, <__main__.County object at 0x0000019090E5CA10>, <__main__.County object at 0x0000019090E5D940>, <__main__.County object at 0x0000019090E5E5D0>, <__main__.County object at 0x0000019090E5F7D0>, <__main__.County object at 0x0000019090E5FB00>, <__main__.County object at 0x0000019090E5D070>], [<__main__.County object at 0x0000019090E5F020>, <__main__.County object at 0x0000019090E5EBA0>, <__main__.County object at 0x0000019090E5E540>, <__main__.County object at 0x0000019090E5FB60>, <__main__.County object at 0x0000019090E5D6A0>, <__main__.County object at 0x0000019090E5E120>, <__main__.County object at 0x0000019091104230>, <__main__.County object at 0x0000019090E5EE70>, <__main__.County object at 0x0000019090E5FEF0>, <__main__.County object at 0x0000019091104470>, <__main__.County object at 0x0000019090E5ED20>, <__main__.County object at 0x0000019091104050>], [<__main__.County object at 0x0000019090E5E210>, <__main__.County object at 0x0000019090E5E660>, <__main__.County object at 0x0000019090E5DA90>, <__main__.County object at 0x0000019090E5CE30>, <__main__.County object at 0x0000019090E5E240>, <__main__.County object at 0x0000019090E5FC20>, <__main__.County object at 0x0000019090E5D130>, <__main__.County object at 0x0000019090E5F680>, <__main__.County object at 0x0000019090E5F1A0>, <__main__.County object at 0x0000019090E5C980>, <__main__.County object at 0x0000019090E5DB50>, <__main__.County object at 0x0000019090E5FDA0>], [<__main__.County object at 0x00000190911073E0>, <__main__.County object at 0x00000190911045C0>, <__main__.County object at 0x0000019090E5CF50>, <__main__.County object at 0x0000019090E5E7E0>, <__main__.County object at 0x0000019090E5D730>, <__main__.County object at 0x0000019090E5E870>, <__main__.County object at 0x0000019090E5CB90>, <__main__.County object at 0x0000019090E5E600>, <__main__.County object at 0x0000019090E5DF70>, <__main__.County object at 0x0000019090E5E9C0>, <__main__.County object at 0x0000019090E5E570>, <__main__.County object at 0x0000019090E5E900>], [<__main__.County object at 0x00000190911041A0>, <__main__.County object at 0x0000019090E5EFF0>, <__main__.County object at 0x0000019090E5EA20>, <__main__.County object at 0x0000019090E5E780>, <__main__.County object at 0x0000019090E5DD30>, <__main__.County object at 0x0000019090E5E8D0>, <__main__.County object at 0x0000019090E5CD40>, <__main__.County object at 0x0000019090E5E5A0>, <__main__.County object at 0x0000019091104380>, <__main__.County object at 0x0000019091106780>, <__main__.County object at 0x0000019095649D60>, <__main__.County object at 0x0000019091107170>]], [[<__main__.County object at 0x0000019090E5E4B0>, <__main__.County object at 0x0000019090E5C7D0>, <__main__.County object at 0x0000019090E5E3C0>, <__main__.County object at 0x0000019090E5C860>, <__main__.County object at 0x0000019090E5C410>, <__main__.County object at 0x0000019090E5F890>, <__main__.County object at 0x0000019090E5C350>, <__main__.County object at 0x0000019090E5C830>, <__main__.County object at 0x0000019090E5D160>, <__main__.County object at 0x0000019090E5FBF0>, <__main__.County object at 0x0000019090E5D280>, <__main__.County object at 0x0000019090E5F110>], [<__main__.County object at 0x0000019090E5DC40>, <__main__.County object at 0x0000019090E5E3F0>, <__main__.County object at 0x0000019090E5D4F0>, <__main__.County object at 0x0000019090E5D3D0>, <__main__.County object at 0x0000019090E5CAD0>, <__main__.County object at 0x0000019090E5FB90>, <__main__.County object at 0x0000019090E5D760>, <__main__.County object at 0x0000019090E5F980>, <__main__.County object at 0x0000019090E5D040>, <__main__.County object at 0x0000019090E5DA30>, <__main__.County object at 0x0000019090E5CE60>, <__main__.County object at 0x0000019090E5FD70>], [<__main__.County object at 0x0000019090E5FE00>, <__main__.County object at 0x0000019090E5C9B0>, <__main__.County object at 0x0000019090E5E150>, <__main__.County object at 0x0000019090E5F770>, <__main__.County object at 0x0000019090E5C800>, <__main__.County object at 0x0000019090E5F4A0>, <__main__.County object at 0x0000019090E5D4C0>, <__main__.County object at 0x0000019090E5FAD0>, <__main__.County object at 0x0000019090E5F2C0>, <__main__.County object at 0x0000019090E5D2B0>, <__main__.County object at 0x0000019090E5D820>, <__main__.County object at 0x0000019090E5F7A0>], [<__main__.County object at 0x0000019090E5FE60>, <__main__.County object at 0x0000019090E5F5C0>, <__main__.County object at 0x0000019090E5C9E0>, <__main__.County object at 0x0000019090E5D2E0>, <__main__.County object at 0x0000019090E5D250>, <__main__.County object at 0x0000019090E5CA70>, <__main__.County object at 0x0000019090E5F9E0>, <__main__.County object at 0x0000019090E5FC80>, <__main__.County object at 0x0000019090E5C560>, <__main__.County object at 0x0000019090E5CB60>, <__main__.County object at 0x0000019090E5F0B0>, <__main__.County object at 0x0000019090E5F380>], [<__main__.County object at 0x0000019090E5DA00>, <__main__.County object at 0x0000019090E5F170>, <__main__.County object at 0x0000019090E5DF40>, <__main__.County object at 0x0000019090E5F410>, <__main__.County object at 0x0000019090E5F920>, <__main__.County object at 0x0000019090E5FCB0>, <__main__.County object at 0x0000019090E5D970>, <__main__.County object at 0x0000019090E5D880>, <__main__.County object at 0x0000019090E5FEC0>, <__main__.County object at 0x0000019090E5FDD0>, <__main__.County object at 0x0000019090E5F350>, <__main__.County object at 0x0000019090E5D8B0>], [<__main__.County object at 0x0000019090E5F650>, <__main__.County object at 0x0000019090E5FE90>, <__main__.County object at 0x0000019090E5CB00>, <__main__.County object at 0x0000019090E5DCD0>, <__main__.County object at 0x0000019090E5D0D0>, <__main__.County object at 0x0000019090E5F260>, <__main__.County object at 0x0000019090E5D9A0>, <__main__.County object at 0x0000019090E5FC50>, <__main__.County object at 0x0000019090E5E180>, <__main__.County object at 0x0000019090E5D580>, <__main__.County object at 0x0000019090E5D010>, <__main__.County object at 0x0000019090E5D340>], [<__main__.County object at 0x0000019090E5DB20>, <__main__.County object at 0x0000019090E5F860>, <__main__.County object at 0x0000019090E5F230>, <__main__.County object at 0x0000019093C3C5F0>, <__main__.County object at 0x0000019090E5DFA0>, <__main__.County object at 0x0000019090E5CDA0>, <__main__.County object at 0x0000019090E5DDC0>, <__main__.County object at 0x0000019090E5E2A0>, <__main__.County object at 0x0000019090E5DFD0>, <__main__.County object at 0x0000019090E5CE00>, <__main__.County object at 0x0000019090E5DBE0>, <__main__.County object at 0x0000019090E5DF10>], [<__main__.County object at 0x0000019090E5CD70>, <__main__.County object at 0x0000019090E5F440>, <__main__.County object at 0x0000019090E5F740>, <__main__.County object at 0x0000019090E5DD90>, <__main__.County object at 0x0000019090E5D520>, <__main__.County object at 0x0000019090E5E090>, <__main__.County object at 0x0000019090E5E0C0>, <__main__.County object at 0x0000019090E5EF90>, <__main__.County object at 0x0000019090E5FCE0>, <__main__.County object at 0x0000019090E5C0E0>, <__main__.County object at 0x0000019090E5C320>, <__main__.County object at 0x0000019090E5C5F0>], [<__main__.County object at 0x0000019090E5F710>, <__main__.County object at 0x0000019090E5C710>, <__main__.County object at 0x0000019090E5FA10>, <__main__.County object at 0x0000019090E5C530>, <__main__.County object at 0x0000019090E5D490>, <__main__.County object at 0x0000019090E5C3E0>, <__main__.County object at 0x0000019090E5F6B0>, <__main__.County object at 0x0000019090E5C4D0>, <__main__.County object at 0x0000019090E5C620>, <__main__.County object at 0x0000019090E5C1D0>, <__main__.County object at 0x0000019090E5C470>, <__main__.County object at 0x0000019090E5CCB0>], [<__main__.County object at 0x0000019090E5E420>, <__main__.County object at 0x0000019090E5C440>, <__main__.County object at 0x0000019090E5FB30>, <__main__.County object at 0x0000019090E5FAA0>, <__main__.County object at 0x0000019090E5C2F0>, <__main__.County object at 0x0000019090E5C200>, <__main__.County object at 0x0000019090E5C170>, <__main__.County object at 0x0000019090E5F620>, <__main__.County object at 0x0000019090E5C680>, <__main__.County object at 0x0000019090E5FBC0>, <__main__.County object at 0x0000019090E5CD10>, <__main__.County object at 0x0000019090E5FE30>], [<__main__.County object at 0x0000019090E5C050>, <__main__.County object at 0x0000019090E5C5C0>, <__main__.County object at 0x0000019090E5C6E0>, <__main__.County object at 0x0000019090E5E1B0>, <__main__.County object at 0x0000019090E5F290>, <__main__.County object at 0x0000019090E5C500>, <__main__.County object at 0x0000019090E5C3B0>, <__main__.County object at 0x0000019090E5D850>, <__main__.County object at 0x0000019090E5CE90>, <__main__.County object at 0x0000019090E5FF20>, <__main__.County object at 0x0000019091107200>, <__main__.County object at 0x0000019091107410>], [<__main__.County object at 0x0000019090E5DEE0>, <__main__.County object at 0x0000019090E5DC70>, <__main__.County object at 0x0000019090E5C950>, <__main__.County object at 0x0000019090E5D400>, <__main__.County object at 0x0000019090E5E270>, <__main__.County object at 0x0000019090E5F500>, <__main__.County object at 0x0000019090E5FD40>, <__main__.County object at 0x0000019090E5F2F0>, <__main__.County object at 0x0000019090E5CF20>, <__main__.County object at 0x0000019090E5C260>, <__main__.County object at 0x0000019090E5E8A0>, <__main__.County object at 0x0000019090E5D190>]], [[<__main__.County object at 0x000001908F2A8410>, <__main__.County object at 0x0000019090E5E510>, <__main__.County object at 0x000001908F2ABD70>, <__main__.County object at 0x0000019090E5F0E0>, <__main__.County object at 0x0000019090E5F200>, <__main__.County object at 0x0000019090E5C890>, <__main__.County object at 0x0000019090E5C590>, <__main__.County object at 0x000001908F2A87D0>, <__main__.County object at 0x000001908F2A92B0>, <__main__.County object at 0x000001908F2A8FE0>, <__main__.County object at 0x000001908F2A8AD0>, <__main__.County object at 0x000001908F2A8AA0>], [<__main__.County object at 0x000001908EC86480>, <__main__.County object at 0x000001908C3DF500>, <__main__.County object at 0x0000019090E5F1D0>, <__main__.County object at 0x0000019090E5C740>, <__main__.County object at 0x0000019093C3C4A0>, <__main__.County object at 0x00000190911075C0>, <__main__.County object at 0x0000019090E5C380>, <__main__.County object at 0x0000019090E5C1A0>, <__main__.County object at 0x0000019090E5F3E0>, <__main__.County object at 0x0000019090E5E300>, <__main__.County object at 0x0000019090E5C650>, <__main__.County object at 0x0000019090E5F8C0>], [<__main__.County object at 0x000001908F2AB800>, <__main__.County object at 0x000001908F2A8830>, <__main__.County object at 0x000001908F2A88C0>, <__main__.County object at 0x000001908F2A83B0>, <__main__.County object at 0x000001908F2A8350>, <__main__.County object at 0x000001908F2A8380>, <__main__.County object at 0x000001908F2A8980>, <__main__.County object at 0x000001908F2A8590>, <__main__.County object at 0x000001908F2A8B30>, <__main__.County object at 0x000001908F2AB560>, <__main__.County object at 0x000001908F2A8950>, <__main__.County object at 0x000001908F2A8740>], [<__main__.County object at 0x000001908F2AAAB0>, <__main__.County object at 0x000001908F2A8290>, <__main__.County object at 0x000001908F2AB5F0>, <__main__.County object at 0x000001908F2A8560>, <__main__.County object at 0x000001908F2AB7D0>, <__main__.County object at 0x000001908F2AA3F0>, <__main__.County object at 0x000001908F2AB980>, <__main__.County object at 0x000001908F2AA780>, <__main__.County object at 0x000001908F2AAD80>, <__main__.County object at 0x000001908F2AB2C0>, <__main__.County object at 0x000001908F2AA8A0>, <__main__.County object at 0x000001908F2A8140>], [<__main__.County object at 0x0000019090E5E030>, <__main__.County object at 0x0000019090E5FD10>, <__main__.County object at 0x0000019090E5C2C0>, <__main__.County object at 0x0000019090E5D910>, <__main__.County object at 0x0000019090E5EF30>, <__main__.County object at 0x000001908F2A86E0>, <__main__.County object at 0x0000019090E5C6B0>, <__main__.County object at 0x000001908F2A81A0>, <__main__.County object at 0x000001908F2A8860>, <__main__.County object at 0x000001908F2A83E0>, <__main__.County object at 0x000001908F2A8B60>, <__main__.County object at 0x000001908F2A89B0>], [<__main__.County object at 0x000001908F2A9D60>, <__main__.County object at 0x0000019090E5C7A0>, <__main__.County object at 0x0000019090E5D640>, <__main__.County object at 0x000001908F2ABC50>, <__main__.County object at 0x000001908F2AB4D0>, <__main__.County object at 0x000001908F2AB9B0>, <__main__.County object at 0x000001908F2A8170>, <__main__.County object at 0x000001908F2A8320>, <__main__.County object at 0x000001908F2A8260>, <__main__.County object at 0x000001908F2A80B0>, <__main__.County object at 0x000001908F2AB1A0>, <__main__.County object at 0x000001908F2A8110>], [<__main__.County object at 0x000001908F2A85F0>, <__main__.County object at 0x000001908F2A8770>, <__main__.County object at 0x000001908F2AB320>, <__main__.County object at 0x000001908F2AB8C0>, <__main__.County object at 0x000001908F2AA510>, <__main__.County object at 0x000001908F2AB860>, <__main__.County object at 0x000001908F2AB140>, <__main__.County object at 0x000001908F2AB350>, <__main__.County object at 0x000001908F2AAE40>, <__main__.County object at 0x000001908F2AB620>, <__main__.County object at 0x000001908F2AACF0>, <__main__.County object at 0x000001908F2AAFC0>], [<__main__.County object at 0x000001908F2A89E0>, <__main__.County object at 0x000001908F2A8A40>, <__main__.County object at 0x000001908F2A8920>, <__main__.County object at 0x000001908F2A8A10>, <__main__.County object at 0x000001908F2A8680>, <__main__.County object at 0x000001908F2A8080>, <__main__.County object at 0x000001908F2AB950>, <__main__.County object at 0x000001908F2AB5C0>, <__main__.County object at 0x000001908F2AB3E0>, <__main__.County object at 0x000001908F2A8050>, <__main__.County object at 0x000001908F2AAF90>, <__main__.County object at 0x000001908F2A8710>], [<__main__.County object at 0x000001908F2AB830>, <__main__.County object at 0x000001908F2AB8F0>, <__main__.County object at 0x000001908F2AAC00>, <__main__.County object at 0x000001908F2AB590>, <__main__.County object at 0x000001908F2AAF30>, <__main__.County object at 0x000001908F2AB170>, <__main__.County object at 0x000001908F2AB890>, <__main__.County object at 0x000001908F2A80E0>, <__main__.County object at 0x000001908F2A8200>, <__main__.County object at 0x000001908F2A81D0>, <__main__.County object at 0x000001908F2A82F0>, <__main__.County object at 0x000001908F2A82C0>], [<__main__.County object at 0x0000019090E5F830>, <__main__.County object at 0x000001908F2A8230>, <__main__.County object at 0x000001908F2A8650>, <__main__.County object at 0x000001908F2AB530>, <__main__.County object at 0x000001908F2A8440>, <__main__.County object at 0x000001908F2A8C80>, <__main__.County object at 0x000001908F2A8BF0>, <__main__.County object at 0x000001908F2A8BC0>, <__main__.County object at 0x000001908F2A85C0>, <__main__.County object at 0x000001908F2A8800>, <__main__.County object at 0x000001908F2A8B90>, <__main__.County object at 0x000001908F2A8890>], [<__main__.County object at 0x000001908F2A8C50>, <__main__.County object at 0x000001908F2A84D0>, <__main__.County object at 0x000001908F2AAB10>, <__main__.County object at 0x000001908F2AB290>, <__main__.County object at 0x000001908F2ABA10>, <__main__.County object at 0x000001908F2AB7A0>, <__main__.County object at 0x000001908F2AB9E0>, <__main__.County object at 0x000001908F2AB380>, <__main__.County object at 0x000001908F2AB050>, <__main__.County object at 0x000001908F2AB410>, <__main__.County object at 0x000001908F2AB680>, <__main__.County object at 0x000001908F2A8470>], [<__main__.County object at 0x0000019090E5F470>, <__main__.County object at 0x000001908F2A87A0>, <__main__.County object at 0x000001908F2A8B00>, <__main__.County object at 0x000001908F2A8A70>, <__main__.County object at 0x000001908F2A88F0>, <__main__.County object at 0x000001908F2AB1D0>, <__main__.County object at 0x000001908F2A8530>, <__main__.County object at 0x000001908F2A84A0>, <__main__.County object at 0x000001908F2AAB40>, <__main__.County object at 0x000001908F2A86B0>, <__main__.County object at 0x000001908F2A8620>, <__main__.County object at 0x000001908F2A8C20>]], [[<__main__.County object at 0x000001908F2AAEA0>, <__main__.County object at 0x000001908F2AA720>, <__main__.County object at 0x000001908F2AA570>, <__main__.County object at 0x000001908F2AA5D0>, <__main__.County object at 0x000001908F2AAE10>, <__main__.County object at 0x000001908F2AA360>, <__main__.County object at 0x000001908F2AA2D0>, <__main__.County object at 0x000001908F2AA660>, <__main__.County object at 0x000001908F2A9A60>, <__main__.County object at 0x000001908F2A99A0>, <__main__.County object at 0x000001908F2AAC60>, <__main__.County object at 0x000001908F2AAE70>], [<__main__.County object at 0x000001908F2AA630>, <__main__.County object at 0x000001908F2AB6E0>, <__main__.County object at 0x000001908F2AAC90>, <__main__.County object at 0x000001908F2AB110>, <__main__.County object at 0x000001908F2A9E20>, <__main__.County object at 0x0000019090F09A90>, <__main__.County object at 0x000001908F2AA540>, <__main__.County object at 0x000001908F2AA7E0>, <__main__.County object at 0x000001908F2AAA20>, <__main__.County object at 0x000001908F2AAB70>, <__main__.County object at 0x000001908F2AA4E0>, <__main__.County object at 0x000001908F2A90D0>], [<__main__.County object at 0x000001908F2AA900>, <__main__.County object at 0x000001908F2A8E00>, <__main__.County object at 0x000001908F2AA240>, <__main__.County object at 0x000001908F2A8DD0>, <__main__.County object at 0x0000019090E5C770>, <__main__.County object at 0x0000019090E5C110>, <__main__.County object at 0x000001908F2AA300>, <__main__.County object at 0x000001908F2AA7B0>, <__main__.County object at 0x000001908F2A9EB0>, <__main__.County object at 0x000001908F2A9940>, <__main__.County object at 0x000001908F2A8CE0>, <__main__.County object at 0x000001908F2AA0C0>], [<__main__.County object at 0x000001908F2AA390>, <__main__.County object at 0x000001908F2AA9F0>, <__main__.County object at 0x000001908F2AA1B0>, <__main__.County object at 0x000001908F2AA1E0>, <__main__.County object at 0x000001908F2A9AC0>, <__main__.County object at 0x000001908F2A9160>, <__main__.County object at 0x000001908F2A9D00>, <__main__.County object at 0x000001908F2ABD10>, <__main__.County object at 0x000001908F2A95E0>, <__main__.County object at 0x000001908F2A9D30>, <__main__.County object at 0x000001908F2A9AF0>, <__main__.County object at 0x000001908F2AABA0>], [<__main__.County object at 0x000001908F2AB0E0>, <__main__.County object at 0x000001908F2AB4A0>, <__main__.County object at 0x000001908F2AAD50>, <__main__.County object at 0x000001908F2AAC30>, <__main__.County object at 0x000001908F2AA960>, <__main__.County object at 0x000001908F2AAF60>, <__main__.County object at 0x000001908F2AA600>, <__main__.County object at 0x000001908F2AB440>, <__main__.County object at 0x000001908F2AB020>, <__main__.County object at 0x000001908F2AB080>, <__main__.County object at 0x000001908F2AB6B0>, <__main__.County object at 0x000001908F2AB650>], [<__main__.County object at 0x000001908F2A96A0>, <__main__.County object at 0x000001908F2A9100>, <__main__.County object at 0x000001908F2A9F70>, <__main__.County object at 0x000001908F2A8D10>, <__main__.County object at 0x000001908F2A9CD0>, <__main__.County object at 0x000001908F2A9DC0>, <__main__.County object at 0x000001908F2A9FA0>, <__main__.County object at 0x000001908F2AA180>, <__main__.County object at 0x000001908F2A8E30>, <__main__.County object at 0x000001908F2A9490>, <__main__.County object at 0x000001908F2A9430>, <__main__.County object at 0x000001908F2A9B20>], [<__main__.County object at 0x000001908F2A98E0>, <__main__.County object at 0x000001908F2A9970>, <__main__.County object at 0x000001908F2A9220>, <__main__.County object at 0x000001908F2A9FD0>, <__main__.County object at 0x000001908F2A9910>, <__main__.County object at 0x000001908F2A98B0>, <__main__.County object at 0x000001908F2A9190>, <__main__.County object at 0x000001908F2A92E0>, <__main__.County object at 0x000001908F2A9010>, <__main__.County object at 0x000001908F2A9A90>, <__main__.County object at 0x000001908F2A9760>, <__main__.County object at 0x000001908F2A90A0>], [<__main__.County object at 0x000001908F2AA870>, <__main__.County object at 0x000001908F2AA420>, <__main__.County object at 0x000001908F2AB260>, <__main__.County object at 0x000001908F2AAFF0>, <__main__.County object at 0x000001908F2AB2F0>, <__main__.County object at 0x000001908F2AAD20>, <__main__.County object at 0x000001908F2AACC0>, <__main__.County object at 0x000001908F2AAA50>, <__main__.County object at 0x000001908F2AA750>, <__main__.County object at 0x000001908F2AA330>, <__main__.County object at 0x000001908F2A9EE0>, <__main__.County object at 0x000001908F2ABC20>], [<__main__.County object at 0x000001908F2A9340>, <__main__.County object at 0x000001908F2A96D0>, <__main__.County object at 0x000001908F2A9B80>, <__main__.County object at 0x000001908F2ABEC0>, <__main__.County object at 0x000001908F2A9730>, <__main__.County object at 0x000001908F2A9BB0>, <__main__.County object at 0x000001908F2A9A00>, <__main__.County object at 0x000001908F2A9520>, <__main__.County object at 0x000001908F2A9820>, <__main__.County object at 0x000001908F2A9BE0>, <__main__.County object at 0x000001908F2A9D90>, <__main__.County object at 0x000001908F2A9670>], [<__main__.County object at 0x000001908F2AA9C0>, <__main__.County object at 0x000001908F2AA990>, <__main__.County object at 0x000001908F2A9E80>, <__main__.County object at 0x000001908F2A9370>, <__main__.County object at 0x000001908F2A9C70>, <__main__.County object at 0x000001908F2AAA80>, <__main__.County object at 0x000001908F2A8DA0>, <__main__.County object at 0x000001908F2AA5A0>, <__main__.County object at 0x000001908F2A9F10>, <__main__.County object at 0x000001908F2AA150>, <__main__.County object at 0x000001908F2A9CA0>, <__main__.County object at 0x000001908F2AAAE0>], [<__main__.County object at 0x0000019090E5D220>, <__main__.County object at 0x000001908F2AB740>, <__main__.County object at 0x00000190988EA480>, <__main__.County object at 0x000001908F2AAF00>, <__main__.County object at 0x0000019097EEB710>, <__main__.County object at 0x000001908F2AA8D0>, <__main__.County object at 0x000001908F2A93A0>, <__main__.County object at 0x000001908F2A9DF0>, <__main__.County object at 0x000001908F2A9B50>, <__main__.County object at 0x000001908F2A9E50>, <__main__.County object at 0x000001908F2AA030>, <__main__.County object at 0x000001908F2A9C40>], [<__main__.County object at 0x000001908F2AA090>, <__main__.County object at 0x000001908F2AA120>, <__main__.County object at 0x000001908F2A9280>, <__main__.County object at 0x000001908F2A9070>, <__main__.County object at 0x000001908F2A8CB0>, <__main__.County object at 0x000001908F2AA060>, <__main__.County object at 0x000001908F2A9130>, <__main__.County object at 0x000001908F2AA000>, <__main__.County object at 0x000001908F2A9550>, <__main__.County object at 0x000001908F2A9040>, <__main__.County object at 0x000001908F2A9F40>, <__main__.County object at 0x000001908F2AB0B0>]], [[<__main__.County object at 0x000001908F2A9460>, <__main__.County object at 0x000001908F2A94C0>, <__main__.County object at 0x000001908F2A9580>, <__main__.County object at 0x000001908F2A9400>, <__main__.County object at 0x000001908F2A8D70>, <__main__.County object at 0x000001908F2A8E90>, <__main__.County object at 0x000001908F2A94F0>, <__main__.County object at 0x000001908F2A8EC0>, <__main__.County object at 0x000001908F2AA840>, <__main__.County object at 0x000001908F2A91C0>, <__main__.County object at 0x000001908F2A97F0>, <__main__.County object at 0x000001908F2ABB60>], [<__main__.County object at 0x00000190939F7D40>, <__main__.County object at 0x00000190939F7E30>, <__main__.County object at 0x00000190939F7E60>, <__main__.County object at 0x00000190939F7EC0>, <__main__.County object at 0x00000190939F7DA0>, <__main__.County object at 0x00000190939F70E0>, <__main__.County object at 0x00000190939F49B0>, <__main__.County object at 0x00000190939F5E20>, <__main__.County object at 0x00000190939F6D50>, <__main__.County object at 0x000001908F2A8500>, <__main__.County object at 0x00000190939F47D0>, <__main__.County object at 0x00000190939F4A40>], [<__main__.County object at 0x000001908F2ABC80>, <__main__.County object at 0x000001908F2A8F50>, <__main__.County object at 0x000001908F2AA270>, <__main__.County object at 0x000001908F2ABBF0>, <__main__.County object at 0x000001908F2A9790>, <__main__.County object at 0x000001908F2A9700>, <__main__.County object at 0x000001908F2AB3B0>, <__main__.County object at 0x000001908F2A95B0>, <__main__.County object at 0x000001908F2A9880>, <__main__.County object at 0x000001908F2ABE00>, <__main__.County object at 0x000001908F2ABD40>, <__main__.County object at 0x000001908F2A9C10>], [<__main__.County object at 0x000001908F2ABAD0>, <__main__.County object at 0x000001908F2A97C0>, <__main__.County object at 0x000001908F2ABB00>, <__main__.County object at 0x000001908F2ABB30>, <__main__.County object at 0x000001908F2AADB0>, <__main__.County object at 0x00000190939F6300>, <__main__.County object at 0x00000190939F7F80>, <__main__.County object at 0x00000190939F5850>, <__main__.County object at 0x000001908F2AA810>, <__main__.County object at 0x00000190939F4920>, <__main__.County object at 0x00000190939F6090>, <__main__.County object at 0x000001908F2AADE0>], [<__main__.County object at 0x00000190939F7E90>, <__main__.County object at 0x00000190939F7E00>, <__main__.County object at 0x00000190939F4980>, <__main__.County object at 0x00000190939F7DD0>, <__main__.County object at 0x00000190939F7EF0>, <__main__.County object at 0x00000190939F5940>, <__main__.County object at 0x00000190939F66C0>, <__main__.County object at 0x00000190939F5430>, <__main__.County object at 0x000001908F2ABCE0>, <__main__.County object at 0x00000190939F4B30>, <__main__.County object at 0x000001908F2AB200>, <__main__.County object at 0x00000190939F6120>], [<__main__.County object at 0x000001908F2A8E60>, <__main__.County object at 0x000001908F2A8F20>, <__main__.County object at 0x000001908F2ABA40>, <__main__.County object at 0x000001908F2AA3C0>, <__main__.County object at 0x000001908F2AB500>, <__main__.County object at 0x000001908F2AA450>, <__main__.County object at 0x000001908F2ABAA0>, <__main__.County object at 0x000001908F2ABDA0>, <__main__.County object at 0x000001908F2AAED0>, <__main__.County object at 0x000001908F2A9310>, <__main__.County object at 0x000001908F2ABCB0>, <__main__.County object at 0x000001908F2ABE90>], [<__main__.County object at 0x00000190939F7CE0>, <__main__.County object at 0x00000190939F5BB0>, <__main__.County object at 0x00000190939F79B0>, <__main__.County object at 0x00000190939F5E50>, <__main__.County object at 0x00000190939F5910>, <__main__.County object at 0x00000190939F7F50>, <__main__.County object at 0x00000190939F5550>, <__main__.County object at 0x00000190939F4950>, <__main__.County object at 0x00000190939F6930>, <__main__.County object at 0x00000190939F6FF0>, <__main__.County object at 0x00000190939F5670>, <__main__.County object at 0x00000190939F5B20>], [<__main__.County object at 0x00000190939F5AC0>, <__main__.County object at 0x00000190939F5310>, <__main__.County object at 0x00000190939F5130>, <__main__.County object at 0x00000190939F6900>, <__main__.County object at 0x00000190939F4DA0>, <__main__.County object at 0x00000190939F7260>, <__main__.County object at 0x00000190939F6960>, <__main__.County object at 0x00000190939F43B0>, <__main__.County object at 0x00000190939F7D70>, <__main__.County object at 0x00000190939F7FE0>, <__main__.County object at 0x00000190939F6EA0>, <__main__.County object at 0x00000190939F5D90>], [<__main__.County object at 0x000001908F2ABEF0>, <__main__.County object at 0x00000190988E9490>, <__main__.County object at 0x000001908F2A8D40>, <__main__.County object at 0x000001908F2A9640>, <__main__.County object at 0x000001908F2ABFE0>, <__main__.County object at 0x000001908F2A9A30>, <__main__.County object at 0x00000190939F4AA0>, <__main__.County object at 0x00000190939F60F0>, <__main__.County object at 0x00000190939F4C50>, <__main__.County object at 0x00000190939F4B90>, <__main__.County object at 0x00000190939F7770>, <__main__.County object at 0x00000190939F6690>], [<__main__.County object at 0x00000190939F7F20>, <__main__.County object at 0x00000190939F45C0>, <__main__.County object at 0x00000190939F7530>, <__main__.County object at 0x00000190939F6600>, <__main__.County object at 0x00000190939F6150>, <__main__.County object at 0x00000190939F4080>, <__main__.County object at 0x00000190939F4050>, <__main__.County object at 0x00000190939F6B40>, <__main__.County object at 0x00000190939F7500>, <__main__.County object at 0x000001908F2AA2A0>, <__main__.County object at 0x000001908F2AABD0>, <__main__.County object at 0x000001908F2A9610>], [<__main__.County object at 0x000001908F2AA930>, <__main__.County object at 0x000001908F2AA0F0>, <__main__.County object at 0x000001908F2AA690>, <__main__.County object at 0x00000190939F4710>, <__main__.County object at 0x00000190939F7110>, <__main__.County object at 0x00000190939F5640>, <__main__.County object at 0x00000190939F6240>, <__main__.County object at 0x00000190939F6A80>, <__main__.County object at 0x00000190939F5100>, <__main__.County object at 0x00000190939F53D0>, <__main__.County object at 0x00000190939F6E10>, <__main__.County object at 0x00000190939F4140>], [<__main__.County object at 0x000001908F2ABBC0>, <__main__.County object at 0x000001908F2ABE30>, <__main__.County object at 0x000001908F2ABDD0>, <__main__.County object at 0x000001908F2AA4B0>, <__main__.County object at 0x000001908F2AB230>, <__main__.County object at 0x00000190939F5AF0>, <__main__.County object at 0x00000190939F7380>, <__main__.County object at 0x00000190939F4D10>, <__main__.County object at 0x00000190939F64B0>, <__main__.County object at 0x00000190939F47A0>, <__main__.County object at 0x00000190939F7D10>, <__main__.County object at 0x000001908F2A99D0>]], [[<__main__.County object at 0x00000190904D07D0>, <__main__.County object at 0x00000190904D0B60>, <__main__.County object at 0x00000190904D0FB0>, <__main__.County object at 0x00000190904D31D0>, <__main__.County object at 0x00000190904D0380>, <__main__.County object at 0x00000190904D2900>, <__main__.County object at 0x00000190939F56A0>, <__main__.County object at 0x00000190904D2B40>, <__main__.County object at 0x00000190904D3590>, <__main__.County object at 0x00000190904D0B00>, <__main__.County object at 0x00000190904D3350>, <__main__.County object at 0x00000190904D0080>], [<__main__.County object at 0x00000190904D0800>, <__main__.County object at 0x00000190904D0350>, <__main__.County object at 0x00000190939F7740>, <__main__.County object at 0x00000190939F48C0>, <__main__.County object at 0x00000190939F4A70>, <__main__.County object at 0x00000190904D0290>, <__main__.County object at 0x00000190904D0530>, <__main__.County object at 0x000001908F2ABF50>, <__main__.County object at 0x00000190904D0050>, <__main__.County object at 0x00000190904D04A0>, <__main__.County object at 0x00000190939F52B0>, <__main__.County object at 0x00000190904D05F0>], [<__main__.County object at 0x00000190939F4E60>, <__main__.County object at 0x00000190939F77D0>, <__main__.County object at 0x00000190904D26C0>, <__main__.County object at 0x00000190904D32F0>, <__main__.County object at 0x00000190904D0650>, <__main__.County object at 0x00000190904D2F60>, <__main__.County object at 0x00000190904D34A0>, <__main__.County object at 0x00000190904D2210>, <__main__.County object at 0x00000190904D2F90>, <__main__.County object at 0x00000190904D0CE0>, <__main__.County object at 0x00000190904D2030>, <__main__.County object at 0x00000190939F7200>], [<__main__.County object at 0x00000190904D0F20>, <__main__.County object at 0x00000190904D08C0>, <__main__.County object at 0x00000190904D0D70>, <__main__.County object at 0x00000190904D3230>, <__main__.County object at 0x00000190904D00E0>, <__main__.County object at 0x00000190904D04D0>, <__main__.County object at 0x00000190904D0170>, <__main__.County object at 0x00000190904D0DA0>, <__main__.County object at 0x00000190904D1A30>, <__main__.County object at 0x00000190904D2DE0>, <__main__.County object at 0x00000190904D0230>, <__main__.County object at 0x00000190904D0B30>], [<__main__.County object at 0x00000190904D0830>, <__main__.County object at 0x00000190904D2B70>, <__main__.County object at 0x00000190904D05C0>, <__main__.County object at 0x00000190904D02C0>, <__main__.County object at 0x00000190904D0260>, <__main__.County object at 0x00000190904D3200>, <__main__.County object at 0x00000190904D0860>, <__main__.County object at 0x00000190904D0DD0>, <__main__.County object at 0x00000190904D09B0>, <__main__.County object at 0x00000190904D0F50>, <__main__.County object at 0x00000190904D0980>, <__main__.County object at 0x00000190904D0EF0>], [<__main__.County object at 0x00000190904D06E0>, <__main__.County object at 0x00000190904D1760>, <__main__.County object at 0x00000190904D2B10>, <__main__.County object at 0x00000190904D38C0>, <__main__.County object at 0x00000190904D2CF0>, <__main__.County object at 0x00000190904D2480>, <__main__.County object at 0x00000190904D0500>, <__main__.County object at 0x00000190904D0BF0>, <__main__.County object at 0x00000190904D37D0>, <__main__.County object at 0x00000190904D0470>, <__main__.County object at 0x00000190904D0620>, <__main__.County object at 0x00000190904D39E0>], [<__main__.County object at 0x00000190904D2DB0>, <__main__.County object at 0x00000190904D3050>, <__main__.County object at 0x00000190904D28A0>, <__main__.County object at 0x00000190904D3800>, <__main__.County object at 0x00000190904D0950>, <__main__.County object at 0x00000190904D0680>, <__main__.County object at 0x00000190904D06B0>, <__main__.County object at 0x00000190904D08F0>, <__main__.County object at 0x00000190904D3080>, <__main__.County object at 0x00000190904D30E0>, <__main__.County object at 0x00000190904D3320>, <__main__.County object at 0x00000190904D32C0>], [<__main__.County object at 0x00000190904D0560>, <__main__.County object at 0x00000190904D3CB0>, <__main__.County object at 0x00000190904D0110>, <__main__.County object at 0x00000190904D0320>, <__main__.County object at 0x00000190904D0E00>, <__main__.County object at 0x00000190904D0590>, <__main__.County object at 0x00000190904D0D40>, <__main__.County object at 0x00000190904D0AD0>, <__main__.County object at 0x00000190904D3380>, <__main__.County object at 0x00000190904D03B0>, <__main__.County object at 0x00000190904D0C80>, <__main__.County object at 0x000001908F2A9850>], [<__main__.County object at 0x00000190904D0AA0>, <__main__.County object at 0x00000190904D0E30>, <__main__.County object at 0x00000190904D1A00>, <__main__.County object at 0x00000190904D3470>, <__main__.County object at 0x00000190904D0A40>, <__main__.County object at 0x00000190904D2180>, <__main__.County object at 0x00000190904D3500>, <__main__.County object at 0x00000190904D0F80>, <__main__.County object at 0x00000190904D0E60>, <__main__.County object at 0x00000190904D3560>, <__main__.County object at 0x00000190904D0E90>, <__main__.County object at 0x00000190904D3260>], [<__main__.County object at 0x00000190904D0CB0>, <__main__.County object at 0x00000190904D0440>, <__main__.County object at 0x00000190904D0B90>, <__main__.County object at 0x00000190904D0410>, <__main__.County object at 0x00000190904D0A70>, <__main__.County object at 0x00000190904D0C50>, <__main__.County object at 0x00000190904D02F0>, <__main__.County object at 0x00000190904D0140>, <__main__.County object at 0x00000190904D0890>, <__main__.County object at 0x00000190904D30B0>, <__main__.County object at 0x00000190904D0EC0>, <__main__.County object at 0x00000190904D0C20>], [<__main__.County object at 0x00000190939F4AD0>, <__main__.County object at 0x000001908A7BDAC0>, <__main__.County object at 0x00000190904D0200>, <__main__.County object at 0x00000190904D3A40>, <__main__.County object at 0x00000190904D1F70>, <__main__.County object at 0x00000190904D0D10>, <__main__.County object at 0x00000190904D3740>, <__main__.County object at 0x00000190904D2E40>, <__main__.County object at 0x00000190904D03E0>, <__main__.County object at 0x00000190904D0920>, <__main__.County object at 0x00000190904D0770>, <__main__.County object at 0x00000190904D09E0>], [<__main__.County object at 0x00000190939F7800>, <__main__.County object at 0x00000190939F61B0>, <__main__.County object at 0x00000190904D01A0>, <__main__.County object at 0x00000190904D0710>, <__main__.County object at 0x00000190904D2E10>, <__main__.County object at 0x00000190904D3020>, <__main__.County object at 0x00000190904D0BC0>, <__main__.County object at 0x00000190904D0740>, <__main__.County object at 0x00000190904D3C50>, <__main__.County object at 0x00000190904D3710>, <__main__.County object at 0x00000190904D0A10>, <__main__.County object at 0x00000190904D21E0>]], [[<__main__.County object at 0x00000190904D1790>, <__main__.County object at 0x00000190904D1C40>, <__main__.County object at 0x00000190904D1700>, <__main__.County object at 0x00000190904D3F20>, <__main__.County object at 0x00000190904D2330>, <__main__.County object at 0x00000190904D23F0>, <__main__.County object at 0x00000190904D14C0>, <__main__.County object at 0x00000190904D1670>, <__main__.County object at 0x00000190904D1340>, <__main__.County object at 0x00000190904D24E0>, <__main__.County object at 0x00000190904D2A50>, <__main__.County object at 0x00000190904D1A90>], [<__main__.County object at 0x00000190904D27E0>, <__main__.County object at 0x00000190904D17F0>, <__main__.County object at 0x00000190904D13D0>, <__main__.County object at 0x00000190904D2F00>, <__main__.County object at 0x00000190904D23C0>, <__main__.County object at 0x00000190904D1E50>, <__main__.County object at 0x00000190904D2F30>, <__main__.County object at 0x00000190904D28D0>, <__main__.County object at 0x00000190904D1B80>, <__main__.County object at 0x00000190904D1010>, <__main__.County object at 0x00000190904D2BD0>, <__main__.County object at 0x00000190904D1070>], [<__main__.County object at 0x00000190904D2D80>, <__main__.County object at 0x00000190904D1B50>, <__main__.County object at 0x00000190904D18B0>, <__main__.County object at 0x00000190904D3E90>, <__main__.County object at 0x00000190904D2840>, <__main__.County object at 0x00000190904D2780>, <__main__.County object at 0x00000190904D29C0>, <__main__.County object at 0x00000190904D1EB0>, <__main__.County object at 0x00000190904D1EE0>, <__main__.County object at 0x00000190904D24B0>, <__main__.County object at 0x00000190904D14F0>, <__main__.County object at 0x00000190904D2750>], [<__main__.County object at 0x000001909564BF80>, <__main__.County object at 0x00000190904D3530>, <__main__.County object at 0x00000190904D1CD0>, <__main__.County object at 0x00000190904D1CA0>, <__main__.County object at 0x00000190904D33B0>, <__main__.County object at 0x00000190904D1610>, <__main__.County object at 0x00000190904D1460>, <__main__.County object at 0x00000190904D13A0>, <__main__.County object at 0x00000190904D1D90>, <__main__.County object at 0x00000190904D2D20>, <__main__.County object at 0x00000190904D21B0>, <__main__.County object at 0x00000190904D2A80>], [<__main__.County object at 0x00000190904D1DF0>, <__main__.County object at 0x00000190904D2390>, <__main__.County object at 0x00000190904D20F0>, <__main__.County object at 0x00000190904D2C90>, <__main__.County object at 0x00000190904D1160>, <__main__.County object at 0x00000190904D12E0>, <__main__.County object at 0x00000190904D1730>, <__main__.County object at 0x00000190904D1580>, <__main__.County object at 0x00000190904D18E0>, <__main__.County object at 0x00000190904D0FE0>, <__main__.County object at 0x00000190904D19D0>, <__main__.County object at 0x00000190904D1520>], [<__main__.County object at 0x00000190904D2870>, <__main__.County object at 0x00000190904D10D0>, <__main__.County object at 0x00000190904D38F0>, <__main__.County object at 0x00000190904D17C0>, <__main__.County object at 0x00000190904D11F0>, <__main__.County object at 0x00000190904D2270>, <__main__.County object at 0x00000190904D1430>, <__main__.County object at 0x00000190904D1490>, <__main__.County object at 0x00000190904D2930>, <__main__.County object at 0x00000190904D3140>, <__main__.County object at 0x00000190904D1220>, <__main__.County object at 0x00000190904D3FE0>], [<__main__.County object at 0x00000190904D3AD0>, <__main__.County object at 0x00000190904D3D40>, <__main__.County object at 0x00000190904D12B0>, <__main__.County object at 0x00000190904D2540>, <__main__.County object at 0x00000190904D2300>, <__main__.County object at 0x00000190904D2060>, <__main__.County object at 0x00000190904D1F40>, <__main__.County object at 0x00000190904D25A0>, <__main__.County object at 0x00000190904D22A0>, <__main__.County object at 0x00000190904D2690>, <__main__.County object at 0x00000190904D2810>, <__main__.County object at 0x00000190904D2600>], [<__main__.County object at 0x00000190904D2510>, <__main__.County object at 0x00000190904D1BB0>, <__main__.County object at 0x00000190904D22D0>, <__main__.County object at 0x00000190904D1040>, <__main__.County object at 0x00000190904D1E20>, <__main__.County object at 0x00000190904D2660>, <__main__.County object at 0x00000190904D1640>, <__main__.County object at 0x00000190904D2D50>, <__main__.County object at 0x00000190904D1A60>, <__main__.County object at 0x00000190904D31A0>, <__main__.County object at 0x00000190904D1FD0>, <__main__.County object at 0x00000190904D27B0>], [<__main__.County object at 0x00000190904D2C30>, <__main__.County object at 0x00000190904D1190>, <__main__.County object at 0x00000190904D16A0>, <__main__.County object at 0x00000190904D1130>, <__main__.County object at 0x00000190904D1970>, <__main__.County object at 0x00000190904D2150>, <__main__.County object at 0x00000190904D20C0>, <__main__.County object at 0x00000190904D2AE0>, <__main__.County object at 0x00000190904D1F10>, <__main__.County object at 0x00000190904D16D0>, <__main__.County object at 0x00000190904D2990>, <__main__.County object at 0x00000190904D1D30>], [<__main__.County object at 0x00000190904D1100>, <__main__.County object at 0x00000190904D2CC0>, <__main__.County object at 0x00000190904D1C10>, <__main__.County object at 0x00000190904D2EA0>, <__main__.County object at 0x00000190904D3920>, <__main__.County object at 0x00000190904D3110>, <__main__.County object at 0x00000190904D1E80>, <__main__.County object at 0x00000190904D2ED0>, <__main__.County object at 0x00000190904D15E0>, <__main__.County object at 0x00000190904D1940>, <__main__.County object at 0x00000190904D3440>, <__main__.County object at 0x00000190904D2120>], [<__main__.County object at 0x00000190904D2360>, <__main__.County object at 0x00000190904D1880>, <__main__.County object at 0x00000190904D1DC0>, <__main__.County object at 0x00000190904D2FF0>, <__main__.County object at 0x00000190904D1D00>, <__main__.County object at 0x00000190904D1820>, <__main__.County object at 0x00000190904D2570>, <__main__.County object at 0x00000190904D2AB0>, <__main__.County object at 0x00000190904D1310>, <__main__.County object at 0x00000190904D2720>, <__main__.County object at 0x00000190904D2C60>, <__main__.County object at 0x00000190904D1B20>], [<__main__.County object at 0x00000190904D3FB0>, <__main__.County object at 0x00000190904D1400>, <__main__.County object at 0x00000190904D1910>, <__main__.County object at 0x00000190904D29F0>, <__main__.County object at 0x00000190904D2E70>, <__main__.County object at 0x00000190904D25D0>, <__main__.County object at 0x00000190904D2630>, <__main__.County object at 0x00000190904D3170>, <__main__.County object at 0x00000190904D1550>, <__main__.County object at 0x00000190904D1370>, <__main__.County object at 0x00000190904D2960>, <__main__.County object at 0x00000190904D2A20>]]], [[[<__main__.County object at 0x00000190972FAA50>, <__main__.County object at 0x00000190972FA5D0>, <__main__.County object at 0x0000019095A83C80>, <__main__.County object at 0x0000019095A82CF0>, <__main__.County object at 0x0000019095A83530>, <__main__.County object at 0x00000190972FB260>, <__main__.County object at 0x00000190972F9DF0>, <__main__.County object at 0x000001909055C230>, <__main__.County object at 0x0000019095CE0860>, <__main__.County object at 0x000001909055C2F0>, <__main__.County object at 0x0000019095A825A0>, <__main__.County object at 0x0000019095A83E90>, <__main__.County object at 0x00000190972FBB60>], [<__main__.County object at 0x00000190904D3860>, <__main__.County object at 0x00000190904D3620>, <__main__.County object at 0x00000190904D3B90>, <__main__.County object at 0x00000190904D3BF0>, <__main__.County object at 0x00000190904D3C20>, <__main__.County object at 0x00000190904D3770>, <__main__.County object at 0x00000190904D3DD0>, <__main__.County object at 0x00000190904D3D10>, <__main__.County object at 0x00000190904D2FC0>, <__main__.County object at 0x0000019095A80E30>, <__main__.County object at 0x0000019095A824B0>, <__main__.County object at 0x0000019090F0A510>, <__main__.County object at 0x0000019095A82F90>], [<__main__.County object at 0x00000190904D3680>, <__main__.County object at 0x00000190904D36E0>, <__main__.County object at 0x00000190904D1850>, <__main__.County object at 0x00000190904D39B0>, <__main__.County object at 0x00000190904D33E0>, <__main__.County object at 0x00000190904D3B60>, <__main__.County object at 0x00000190904D15B0>, <__main__.County object at 0x00000190904D2240>, <__main__.County object at 0x00000190904D3650>, <__main__.County object at 0x00000190904D3F50>, <__main__.County object at 0x0000019095A83050>, <__main__.County object at 0x0000019090F0A330>, <__main__.County object at 0x0000019095A81D00>], [<__main__.County object at 0x0000019095CE33B0>, <__main__.County object at 0x0000019095CE2930>, <__main__.County object at 0x0000019095CE2F30>, <__main__.County object at 0x0000019095CE2840>, <__main__.County object at 0x0000019095CE2DB0>, <__main__.County object at 0x0000019095CE2C90>, <__main__.County object at 0x0000019095CE1EE0>, <__main__.County object at 0x0000019095CE2D80>, <__main__.County object at 0x0000019095CE3020>, <__main__.County object at 0x0000019095CE2EA0>, <__main__.County object at 0x0000019095CE2AE0>, <__main__.County object at 0x0000019095CE2090>, <__main__.County object at 0x0000019095CE1520>], [<__main__.County object at 0x00000190904D3AA0>, <__main__.County object at 0x00000190904D3B00>, <__main__.County object at 0x0000019095A82660>, <__main__.County object at 0x0000019095A82BD0>, <__main__.County object at 0x00000190904D1AC0>, <__main__.County object at 0x00000190904D3410>, <__main__.County object at 0x0000019095A83EF0>, <__main__.County object at 0x0000019095A81A30>, <__main__.County object at 0x00000190904D11C0>, <__main__.County object at 0x00000190904D3A70>, <__main__.County object at 0x00000190904D10A0>, <__main__.County object at 0x00000190904D1AF0>, <__main__.County object at 0x0000019095A80500>], [<__main__.County object at 0x00000190972FB140>, <__main__.County object at 0x00000190972FBA10>, <__main__.County object at 0x00000190972F8C20>, <__main__.County object at 0x00000190972F81D0>, <__main__.County object at 0x00000190972F9EE0>, <__main__.County object at 0x00000190972F99D0>, <__main__.County object at 0x0000019095CE1400>, <__main__.County object at 0x0000019095CE22D0>, <__main__.County object at 0x0000019095CE0830>, <__main__.County object at 0x0000019095CE0B00>, <__main__.County object at 0x0000019095CE2A80>, <__main__.County object at 0x00000190E860A030>, <__main__.County object at 0x000001909459FC80>], [<__main__.County object at 0x00000190972FBF20>, <__main__.County object at 0x00000190972FB350>, <__main__.County object at 0x000001909055C170>, <__main__.County object at 0x0000019095CE0A70>, <__main__.County object at 0x0000019095CE1250>, <__main__.County object at 0x0000019095CE3680>, <__main__.County object at 0x0000019095CE0D40>, <__main__.County object at 0x0000019095CE0CE0>, <__main__.County object at 0x00000190904D2420>, <__main__.County object at 0x0000019095CE0D70>, <__main__.County object at 0x0000019095CE2D20>, <__main__.County object at 0x00000190972FBE90>, <__main__.County object at 0x0000019095CE1550>], [<__main__.County object at 0x0000019095A82600>, <__main__.County object at 0x00000190904D3830>, <__main__.County object at 0x0000019095A83350>, <__main__.County object at 0x00000190972FAAB0>, <__main__.County object at 0x00000190972F8DA0>, <__main__.County object at 0x000001908FD7A570>, <__main__.County object at 0x000001909055C380>, <__main__.County object at 0x0000019095CE0D10>, <__main__.County object at 0x0000019095CE27B0>, <__main__.County object at 0x0000019095CE0AA0>, <__main__.County object at 0x0000019095CE39B0>, <__main__.County object at 0x0000019095CE21B0>, <__main__.County object at 0x0000019095CE0FE0>], [<__main__.County object at 0x0000019095CE1040>, <__main__.County object at 0x0000019095CE2A50>, <__main__.County object at 0x00000190972F98E0>, <__main__.County object at 0x00000190972F9B80>, <__main__.County object at 0x00000190972F8B90>, <__main__.County object at 0x00000190972F8560>, <__main__.County object at 0x00000190972FB980>, <__main__.County object at 0x0000019095CE2510>, <__main__.County object at 0x0000019095CE35C0>, <__main__.County object at 0x0000019095CE2810>, <__main__.County object at 0x0000019095CE2690>, <__main__.County object at 0x0000019095CE2ED0>, <__main__.County object at 0x0000019095CE0F80>], [<__main__.County object at 0x000001909549CA70>, <__main__.County object at 0x00000190904D19A0>, <__main__.County object at 0x000001909842C3E0>, <__main__.County object at 0x00000190904D3E00>, <__main__.County object at 0x0000019095A83FB0>, <__main__.County object at 0x0000019095A83E30>, <__main__.County object at 0x0000019095A810A0>, <__main__.County object at 0x0000019095CE2B10>, <__main__.County object at 0x0000019095CE28A0>, <__main__.County object at 0x0000019095CE2B40>, <__main__.County object at 0x0000019095CE2000>, <__main__.County object at 0x0000019095CE25A0>, <__main__.County object at 0x0000019095CE2E40>], [<__main__.County object at 0x00000190904D2450>, <__main__.County object at 0x00000190904D36B0>, <__main__.County object at 0x0000019095CE2BD0>, <__main__.County object at 0x00000190904D2000>, <__main__.County object at 0x00000190972FBCB0>, <__main__.County object at 0x00000190972FA510>, <__main__.County object at 0x00000190972FAF90>, <__main__.County object at 0x00000190972F8AA0>, <__main__.County object at 0x00000190972FB950>, <__main__.County object at 0x00000190972F8DD0>, <__main__.County object at 0x000001909459C2C0>, <__main__.County object at 0x0000019095CE0F50>, <__main__.County object at 0x000001909055C0E0>], [<__main__.County object at 0x00000190972F8290>, <__main__.County object at 0x0000019090F0A600>, <__main__.County object at 0x000001908C1D8260>, <__main__.County object at 0x0000019095A81DC0>, <__main__.County object at 0x0000019095CE0AD0>, <__main__.County object at 0x0000019095CE0DA0>, <__main__.County object at 0x0000019095CE0320>, <__main__.County object at 0x0000019095CE1DC0>, <__main__.County object at 0x0000019095CE3260>, <__main__.County object at 0x0000019095CE3440>, <__main__.County object at 0x0000019095CE2870>, <__main__.County object at 0x0000019095CE3110>, <__main__.County object at 0x0000019095CE3080>], [<__main__.County object at 0x00000190904D1FA0>, <__main__.County object at 0x0000019095CE3350>, <__main__.County object at 0x0000019095CE3B00>, <__main__.County object at 0x0000019095CE30B0>, <__main__.County object at 0x0000019095CE31A0>, <__main__.County object at 0x0000019095CE2D50>, <__main__.County object at 0x0000019095CE15B0>, <__main__.County object at 0x0000019095CE2450>, <__main__.County object at 0x0000019095CE2F00>, <__main__.County object at 0x0000019095CE2540>, <__main__.County object at 0x0000019095CE3140>, <__main__.County object at 0x0000019095CE2AB0>, <__main__.County object at 0x00000190972F8980>]], [[<__main__.County object at 0x00000190904D26F0>, <__main__.County object at 0x00000190904D35C0>, <__main__.County object at 0x0000019095CE23C0>, <__main__.County object at 0x0000019095CE33E0>, <__main__.County object at 0x000001908FD7BE60>, <__main__.County object at 0x0000019095CE0B30>, <__main__.County object at 0x0000019095CE26F0>, <__main__.County object at 0x0000019095CE2030>, <__main__.County object at 0x0000019095CE2360>, <__main__.County object at 0x0000019095CE11F0>, <__main__.County object at 0x0000019095CE3590>, <__main__.County object at 0x0000019095CE0DD0>, <__main__.County object at 0x0000019095CE3470>], [<__main__.County object at 0x0000019095CE12B0>, <__main__.County object at 0x0000019095CE09B0>, <__main__.County object at 0x0000019095CE06B0>, <__main__.County object at 0x0000019095CE2FF0>, <__main__.County object at 0x0000019095CE0260>, <__main__.County object at 0x0000019095CE1130>, <__main__.County object at 0x0000019095CE0C80>, <__main__.County object at 0x0000019095CE0680>, <__main__.County object at 0x0000019095CE0E60>, <__main__.County object at 0x0000019095CE0980>, <__main__.County object at 0x0000019095CE3500>, <__main__.County object at 0x0000019095CE0740>, <__main__.County object at 0x0000019095CE0BC0>], [<__main__.County object at 0x0000019095CE16D0>, <__main__.County object at 0x0000019095CE2180>, <__main__.County object at 0x0000019095CE3A10>, <__main__.County object at 0x0000019095CE1340>, <__main__.County object at 0x0000019095CE19D0>, <__main__.County object at 0x0000019095CE00E0>, <__main__.County object at 0x0000019095CE3740>, <__main__.County object at 0x0000019095CE1D30>, <__main__.County object at 0x0000019095CE20F0>, <__main__.County object at 0x0000019095CE19A0>, <__main__.County object at 0x0000019095CE3DD0>, <__main__.County object at 0x0000019095CE0890>, <__main__.County object at 0x0000019095CE0380>], [<__main__.County object at 0x0000019095CE2C60>, <__main__.County object at 0x0000019095CE1F10>, <__main__.County object at 0x0000019095CE0140>, <__main__.County object at 0x0000019095CE2F90>, <__main__.County object at 0x0000019095CE07A0>, <__main__.County object at 0x0000019095CE0470>, <__main__.County object at 0x0000019095CE0EC0>, <__main__.County object at 0x0000019095CE0E90>, <__main__.County object at 0x0000019095CE0F20>, <__main__.County object at 0x0000019095CE0530>, <__main__.County object at 0x0000019095CE0290>, <__main__.County object at 0x0000019095CE02C0>, <__main__.County object at 0x0000019095CE09E0>], [<__main__.County object at 0x0000019095CE3170>, <__main__.County object at 0x0000019095CE26C0>, <__main__.County object at 0x0000019095CE1160>, <__main__.County object at 0x0000019095CE32C0>, <__main__.County object at 0x0000019095CE0E00>, <__main__.County object at 0x0000019095CE11C0>, <__main__.County object at 0x0000019095CE1C70>, <__main__.County object at 0x0000019095CE3320>, <__main__.County object at 0x0000019095CE34A0>, <__main__.County object at 0x0000019095CE0110>, <__main__.County object at 0x0000019095CE0200>, <__main__.County object at 0x0000019095CE3230>, <__main__.County object at 0x0000019095CE31D0>], [<__main__.County object at 0x0000019095CE3FE0>, <__main__.County object at 0x0000019095CE3830>, <__main__.County object at 0x0000019095CE3E00>, <__main__.County object at 0x0000019095CE0A40>, <__main__.County object at 0x0000019095CE04D0>, <__main__.County object at 0x0000019095CE3D10>, <__main__.County object at 0x0000019095CE14C0>, <__main__.County object at 0x0000019095CE39E0>, <__main__.County object at 0x0000019095CE2C00>, <__main__.County object at 0x0000019095CE0800>, <__main__.County object at 0x0000019095CE1100>, <__main__.County object at 0x0000019095CE3F80>, <__main__.County object at 0x0000019095CE0C20>], [<__main__.County object at 0x0000019095CE3620>, <__main__.County object at 0x0000019095CE2FC0>, <__main__.County object at 0x0000019095CE0770>, <__main__.County object at 0x0000019095CE2960>, <__main__.County object at 0x0000019095CE0920>, <__main__.County object at 0x0000019095CE0BF0>, <__main__.County object at 0x0000019095CE0650>, <__main__.County object at 0x0000019095CE2420>, <__main__.County object at 0x0000019095CE0710>, <__main__.County object at 0x0000019095CE01D0>, <__main__.County object at 0x0000019095CE3380>, <__main__.County object at 0x0000019095CE02F0>, <__main__.County object at 0x0000019095CE3FB0>], [<__main__.County object at 0x0000019095CE2DE0>, <__main__.County object at 0x0000019095CE2F60>, <__main__.County object at 0x0000019095CE3290>, <__main__.County object at 0x0000019095CE3050>, <__main__.County object at 0x0000019095CE2900>, <__main__.County object at 0x0000019095CE0A10>, <__main__.County object at 0x0000019095CE0080>, <__main__.County object at 0x0000019095CE0410>, <__main__.County object at 0x0000019095CE06E0>, <__main__.County object at 0x0000019095CE2150>, <__main__.County object at 0x0000019095CE3C80>, <__main__.County object at 0x0000019095CE1DF0>, <__main__.County object at 0x0000019095CE3770>], [<__main__.County object at 0x0000019095CE2B70>, <__main__.County object at 0x0000019095CE03E0>, <__main__.County object at 0x0000019095CE0B90>, <__main__.County object at 0x0000019095CE2630>, <__main__.County object at 0x0000019095CE04A0>, <__main__.County object at 0x0000019095CE0CB0>, <__main__.County object at 0x0000019095CE0B60>, <__main__.County object at 0x0000019095CE07D0>, <__main__.County object at 0x0000019095CE0560>, <__main__.County object at 0x0000019095CE0350>, <__main__.County object at 0x0000019095CE36B0>, <__main__.County object at 0x0000019095CE3530>, <__main__.County object at 0x0000019095CE0230>], [<__main__.County object at 0x0000019095CE0440>, <__main__.County object at 0x0000019095CE3410>, <__main__.County object at 0x0000019095CE05F0>, <__main__.County object at 0x0000019095CE1F40>, <__main__.County object at 0x0000019095CE2390>, <__main__.County object at 0x0000019095CE1490>, <__main__.County object at 0x0000019095CE1B80>, <__main__.County object at 0x0000019095CE1E50>, <__main__.County object at 0x0000019095CE1BB0>, <__main__.County object at 0x0000019095CE1E20>, <__main__.County object at 0x0000019095CE1640>, <__main__.County object at 0x0000019095CE3EF0>, <__main__.County object at 0x0000019095CE3DA0>], [<__main__.County object at 0x000001908FD7BB30>, <__main__.County object at 0x0000019095CE3200>, <__main__.County object at 0x0000019095CE08F0>, <__main__.County object at 0x0000019095CE25D0>, <__main__.County object at 0x0000019095CE2330>, <__main__.County object at 0x0000019095CE00B0>, <__main__.County object at 0x0000019095CE01A0>, <__main__.County object at 0x0000019095CE1730>, <__main__.County object at 0x0000019095CE03B0>, <__main__.County object at 0x0000019095CE30E0>, <__main__.County object at 0x0000019095CE32F0>, <__main__.County object at 0x0000019095CE0EF0>, <__main__.County object at 0x0000019095CE2C30>], [<__main__.County object at 0x0000019095CE35F0>, <__main__.County object at 0x0000019095CE1940>, <__main__.County object at 0x0000019095CE1A00>, <__main__.County object at 0x0000019095CE3C50>, <__main__.County object at 0x0000019095CE1B20>, <__main__.County object at 0x0000019095CE18E0>, <__main__.County object at 0x0000019095CE0050>, <__main__.County object at 0x0000019095CE3650>, <__main__.County object at 0x0000019095CE0500>, <__main__.County object at 0x0000019095CE24E0>, <__main__.County object at 0x0000019095CE0E30>, <__main__.County object at 0x0000019095CE34D0>, <__main__.County object at 0x0000019095CE2240>], [<__main__.County object at 0x0000019095CE2BA0>, <__main__.County object at 0x0000019095CE3560>, <__main__.County object at 0x0000019095CE2E10>, <__main__.County object at 0x0000019095CE1190>, <__main__.County object at 0x0000019095CE2660>, <__main__.County object at 0x0000019095CE0590>, <__main__.County object at 0x0000019095CE23F0>, <__main__.County object at 0x0000019095CE0620>, <__main__.County object at 0x0000019095CE2270>, <__main__.County object at 0x0000019095CE0950>, <__main__.County object at 0x0000019095CE0170>, <__main__.County object at 0x0000019095CE0C50>, <__main__.County object at 0x0000019095CE08C0>]], [[<__main__.County object at 0x0000019095CE1670>, <__main__.County object at 0x0000019095CE3D40>, <__main__.County object at 0x0000019095CE1910>, <__main__.County object at 0x0000019095CE1C40>, <__main__.County object at 0x0000019095CE3800>, <__main__.County object at 0x00000190911078F0>, <__main__.County object at 0x0000019095CE2E70>, <__main__.County object at 0x0000019095CE1370>, <__main__.County object at 0x0000019095CE3AA0>, <__main__.County object at 0x0000019095CE1BE0>, <__main__.County object at 0x0000019095CE13A0>, <__main__.County object at 0x0000019095CE3710>, <__main__.County object at 0x0000019095CE16A0>], [<__main__.County object at 0x0000019095CE1A30>, <__main__.County object at 0x0000019095CE10D0>, <__main__.County object at 0x0000019095CE3BF0>, <__main__.County object at 0x0000019095CE1EB0>, <__main__.County object at 0x0000019095CE1D60>, <__main__.County object at 0x0000019095CE12E0>, <__main__.County object at 0x0000019095CE1430>, <__main__.County object at 0x0000019095CE14F0>, <__main__.County object at 0x0000019095CE3A70>, <__main__.County object at 0x0000019095CE37D0>, <__main__.County object at 0x0000019095CE1820>, <__main__.County object at 0x0000019095CE1F70>, <__main__.County object at 0x0000019095CE3950>], [<__main__.County object at 0x0000019095ED5BE0>, <__main__.County object at 0x0000019095ED53A0>, <__main__.County object at 0x0000019095ED5C40>, <__main__.County object at 0x0000019095ED5A90>, <__main__.County object at 0x0000019095F07AD0>, <__main__.County object at 0x0000019095F07B90>, <__main__.County object at 0x0000019095F07AA0>, <__main__.County object at 0x0000019095F07C80>, <__main__.County object at 0x0000019095F07710>, <__main__.County object at 0x0000019095F07F20>, <__main__.County object at 0x0000019095F07B60>, <__main__.County object at 0x0000019095F04DA0>, <__main__.County object at 0x0000019095CE1010>], [<__main__.County object at 0x0000019095CE1580>, <__main__.County object at 0x0000019095CE3E30>, <__main__.County object at 0x0000019095CE1280>, <__main__.County object at 0x0000019095CE37A0>, <__main__.County object at 0x0000019095CE1970>, <__main__.County object at 0x0000019095CE1220>, <__main__.County object at 0x0000019095CE3E90>, <__main__.County object at 0x0000019095CE3D70>, <__main__.County object at 0x0000019095CE1460>, <__main__.County object at 0x0000019095CE1D90>, <__main__.County object at 0x0000019095CE1AC0>, <__main__.County object at 0x0000019095CE10A0>, <__main__.County object at 0x0000019095CE3860>], [<__main__.County object at 0x0000019095CE1310>, <__main__.County object at 0x0000019095CE2480>, <__main__.County object at 0x0000019095ED55E0>, <__main__.County object at 0x0000019095CE20C0>, <__main__.County object at 0x0000019095CE1A90>, <__main__.County object at 0x0000019095CE17F0>, <__main__.County object at 0x0000019095CE21E0>, <__main__.County object at 0x0000019095CE1FD0>, <__main__.County object at 0x0000019095ED4FE0>, <__main__.County object at 0x0000019095ED4E60>, <__main__.County object at 0x0000019095ED55B0>, <__main__.County object at 0x0000019095ED4CE0>, <__main__.County object at 0x0000019095ED5640>], [<__main__.County object at 0x0000019095F07E30>, <__main__.County object at 0x0000019095F07950>, <__main__.County object at 0x0000019095F07D10>, <__main__.County object at 0x0000019095F077D0>, <__main__.County object at 0x0000019095F07DD0>, <__main__.County object at 0x0000019095F07BF0>, <__main__.County object at 0x0000019095F07FE0>, <__main__.County object at 0x0000019095F07DA0>, <__main__.County object at 0x0000019095F078F0>, <__main__.County object at 0x0000019095F07A40>, <__main__.County object at 0x0000019095F077A0>, <__main__.County object at 0x0000019095F07920>, <__main__.County object at 0x0000019095F079E0>], [<__main__.County object at 0x0000019095CE3A40>, <__main__.County object at 0x0000019095CE3CB0>, <__main__.County object at 0x0000019095CE3920>, <__main__.County object at 0x0000019095CE38F0>, <__main__.County object at 0x0000019095CE3BC0>, <__main__.County object at 0x0000019095CE1850>, <__main__.County object at 0x0000019095CE38C0>, <__main__.County object at 0x0000019095CE17C0>, <__main__.County object at 0x0000019095CE1CA0>, <__main__.County object at 0x0000019095CE1B50>, <__main__.County object at 0x0000019095CE3890>, <__main__.County object at 0x0000019095CE2720>, <__main__.County object at 0x0000019095ED5E20>], [<__main__.County object at 0x0000019095ED4140>, <__main__.County object at 0x0000019095ED4080>, <__main__.County object at 0x0000019095ED5430>, <__main__.County object at 0x0000019095ED72C0>, <__main__.County object at 0x0000019095F04A40>, <__main__.County object at 0x0000019095F04AA0>, <__main__.County object at 0x0000019095ED4290>, <__main__.County object at 0x0000019095ED5DF0>, <__main__.County object at 0x0000019095F07A10>, <__main__.County object at 0x0000019095ED4830>, <__main__.County object at 0x0000019095ED4560>, <__main__.County object at 0x0000019095ED42F0>, <__main__.County object at 0x0000019095F079B0>], [<__main__.County object at 0x0000019095CE1760>, <__main__.County object at 0x0000019095CE36E0>, <__main__.County object at 0x0000019095CE1790>, <__main__.County object at 0x0000019095F07D70>, <__main__.County object at 0x0000019095F07F80>, <__main__.County object at 0x0000019095F07740>, <__main__.County object at 0x0000019095F04CE0>, <__main__.County object at 0x0000019095F06450>, <__main__.County object at 0x0000019095F07A70>, <__main__.County object at 0x0000019095ED5550>, <__main__.County object at 0x0000019095ED4890>, <__main__.County object at 0x0000019095F07C20>, <__main__.County object at 0x0000019095F07800>], [<__main__.County object at 0x0000019095CE18B0>, <__main__.County object at 0x0000019095CE2210>, <__main__.County object at 0x0000019095F07D40>, <__main__.County object at 0x0000019095F07F50>, <__main__.County object at 0x0000019095F07CE0>, <__main__.County object at 0x0000019095F06300>, <__main__.County object at 0x0000019095F07890>, <__main__.County object at 0x0000019095F07E90>, <__main__.County object at 0x0000019095F07EC0>, <__main__.County object at 0x0000019095F07E60>, <__main__.County object at 0x0000019095F07860>, <__main__.County object at 0x0000019095F07EF0>, <__main__.County object at 0x0000019095F07CB0>], [<__main__.County object at 0x00000190904D35F0>, <__main__.County object at 0x000001909143BF50>, <__main__.County object at 0x0000019095CE1070>, <__main__.County object at 0x0000019095ED4DA0>, <__main__.County object at 0x0000019095CE1E80>, <__main__.County object at 0x0000019095CE1880>, <__main__.County object at 0x0000019095CE1C10>, <__main__.County object at 0x0000019095CE1D00>, <__main__.County object at 0x0000019095ED4FB0>, <__main__.County object at 0x0000019095CE2750>, <__main__.County object at 0x0000019095ED44D0>, <__main__.County object at 0x0000019095ED4500>, <__main__.County object at 0x0000019095CE24B0>], [<__main__.County object at 0x0000019095F078C0>, <__main__.County object at 0x0000019095ED4E90>, <__main__.County object at 0x0000019095ED5310>, <__main__.County object at 0x0000019095CE15E0>, <__main__.County object at 0x0000019095ED4F50>, <__main__.County object at 0x0000019095CE13D0>, <__main__.County object at 0x0000019095CE1AF0>, <__main__.County object at 0x0000019095ED4530>, <__main__.County object at 0x0000019095CE1700>, <__main__.County object at 0x0000019095ED4680>, <__main__.County object at 0x0000019095CE29C0>, <__main__.County object at 0x0000019095CE3C20>, <__main__.County object at 0x0000019095F07770>], [<__main__.County object at 0x0000019095CE1A60>, <__main__.County object at 0x0000019095CE1CD0>, <__main__.County object at 0x0000019095CE2120>, <__main__.County object at 0x0000019095F07BC0>, <__main__.County object at 0x0000019095F07980>, <__main__.County object at 0x0000019095F07E00>, <__main__.County object at 0x0000019095F07FB0>, <__main__.County object at 0x0000019095F07C50>, <__main__.County object at 0x0000019095F06480>, <__main__.County object at 0x0000019095ED5A00>, <__main__.County object at 0x0000019095F063F0>, <__main__.County object at 0x0000019095F07830>, <__main__.County object at 0x0000019095ED4170>]], [[<__main__.County object at 0x0000019092C5C8C0>, <__main__.County object at 0x0000019093920B00>, <__main__.County object at 0x0000019093923170>, <__main__.County object at 0x00000190939233B0>, <__main__.County object at 0x0000019092C5CFE0>, <__main__.County object at 0x0000019092C5C260>, <__main__.County object at 0x0000019092C5C3B0>, <__main__.County object at 0x0000019092C5FBC0>, <__main__.County object at 0x0000019092C5D280>, <__main__.County object at 0x0000019092C5D4C0>, <__main__.County object at 0x0000019092C5D070>, <__main__.County object at 0x0000019092C5C200>, <__main__.County object at 0x0000019092C5D190>], [<__main__.County object at 0x0000019092C5C680>, <__main__.County object at 0x0000019092C5C5F0>, <__main__.County object at 0x0000019092C5C320>, <__main__.County object at 0x0000019092C5F950>, <__main__.County object at 0x0000019092C5D250>, <__main__.County object at 0x000001908C1D9FA0>, <__main__.County object at 0x0000019092C5CDA0>, <__main__.County object at 0x0000019092C5CC80>, <__main__.County object at 0x0000019092C5D340>, <__main__.County object at 0x0000019092C5C110>, <__main__.County object at 0x0000019092C5C920>, <__main__.County object at 0x0000019092C5CB00>, <__main__.County object at 0x0000019092C5D1C0>], [<__main__.County object at 0x0000019092C5CAD0>, <__main__.County object at 0x0000019092C5CB90>, <__main__.County object at 0x0000019092C5CCB0>, <__main__.County object at 0x0000019092C5F9E0>, <__main__.County object at 0x0000019092C5D0A0>, <__main__.County object at 0x0000019092C5D130>, <__main__.County object at 0x0000019092C5CD40>, <__main__.County object at 0x0000019092C5DF10>, <__main__.County object at 0x0000019092C5F4D0>, <__main__.County object at 0x0000019092C5CD10>, <__main__.County object at 0x0000019092C5FC20>, <__main__.County object at 0x0000019092C5CDD0>, <__main__.County object at 0x0000019092C5C950>], [<__main__.County object at 0x0000019092C5D160>, <__main__.County object at 0x0000019092C5C380>, <__main__.County object at 0x0000019092C5C6E0>, <__main__.County object at 0x0000019092C5C890>, <__main__.County object at 0x0000019092C5D2E0>, <__main__.County object at 0x0000019093923890>, <__main__.County object at 0x00000190939238C0>, <__main__.County object at 0x00000190939217F0>, <__main__.County object at 0x000001908FE12CC0>, <__main__.County object at 0x0000019092C5C410>, <__main__.County object at 0x0000019092C5CFB0>, <__main__.County object at 0x0000019092C5C770>, <__main__.County object at 0x0000019092C5C710>], [<__main__.County object at 0x0000019092C5CC20>, <__main__.County object at 0x0000019092C5CE00>, <__main__.County object at 0x0000019092C5D100>, <__main__.County object at 0x0000019092C5D3A0>, <__main__.County object at 0x0000019092C5F770>, <__main__.County object at 0x0000019092C5F2C0>, <__main__.County object at 0x0000019092C5C7A0>, <__main__.County object at 0x0000019092C5CBF0>, <__main__.County object at 0x0000019092C5D2B0>, <__main__.County object at 0x0000019092C5D4F0>, <__main__.County object at 0x0000019092C5C0B0>, <__main__.County object at 0x0000019092C5F170>, <__main__.County object at 0x0000019092C5D220>], [<__main__.County object at 0x0000019092C5D520>, <__main__.County object at 0x0000019092C5DDC0>, <__main__.County object at 0x0000019092C5DCA0>, <__main__.County object at 0x0000019092C5CF50>, <__main__.County object at 0x0000019092C5C620>, <__main__.County object at 0x0000019092C5D5E0>, <__main__.County object at 0x0000019092C5F260>, <__main__.County object at 0x0000019092C5D6D0>, <__main__.County object at 0x0000019092C5EAB0>, <__main__.County object at 0x0000019092C5E060>, <__main__.County object at 0x0000019092C5D9D0>, <__main__.County object at 0x0000019092C5E4B0>, <__main__.County object at 0x0000019092C5E5A0>], [<__main__.County object at 0x0000019092C5D3D0>, <__main__.County object at 0x0000019092C5CBC0>, <__main__.County object at 0x0000019092C5D1F0>, <__main__.County object at 0x0000019092C5C9B0>, <__main__.County object at 0x0000019092C5E150>, <__main__.County object at 0x0000019092C5D460>, <__main__.County object at 0x0000019092C5D400>, <__main__.County object at 0x0000019092C5FE90>, <__main__.County object at 0x0000019092C5FC50>, <__main__.County object at 0x0000019092C5D490>, <__main__.County object at 0x0000019092C5F140>, <__main__.County object at 0x0000019092C5F470>, <__main__.County object at 0x0000019092C5F080>], [<__main__.County object at 0x0000019092C5DE80>, <__main__.County object at 0x0000019092C5F4A0>, <__main__.County object at 0x0000019092C5E330>, <__main__.County object at 0x0000019092C5E3F0>, <__main__.County object at 0x0000019092C5D550>, <__main__.County object at 0x0000019092C5E210>, <__main__.County object at 0x0000019092C5D790>, <__main__.County object at 0x0000019092C5DD00>, <__main__.County object at 0x0000019092C5DBB0>, <__main__.County object at 0x0000019092C5D730>, <__main__.County object at 0x0000019092C5DEE0>, <__main__.County object at 0x0000019092C5D760>, <__main__.County object at 0x0000019092C5DA00>], [<__main__.County object at 0x0000019092C5E9C0>, <__main__.County object at 0x0000019092C5DDF0>, <__main__.County object at 0x0000019092C5DB80>, <__main__.County object at 0x0000019092C5E120>, <__main__.County object at 0x0000019092C5ECC0>, <__main__.County object at 0x0000019092C5D010>, <__main__.County object at 0x0000019092C5DE50>, <__main__.County object at 0x0000019092C5D580>, <__main__.County object at 0x0000019092C5E000>, <__main__.County object at 0x0000019092C5DFA0>, <__main__.County object at 0x0000019092C5D5B0>, <__main__.County object at 0x0000019092C5D700>, <__main__.County object at 0x0000019092C5D910>], [<__main__.County object at 0x0000019092C5C4A0>, <__main__.County object at 0x0000019092C5CCE0>, <__main__.County object at 0x0000019092C5DA60>, <__main__.County object at 0x0000019092C5FEC0>, <__main__.County object at 0x0000019092C5C860>, <__main__.County object at 0x0000019092C5FE30>, <__main__.County object at 0x0000019092C5F200>, <__main__.County object at 0x0000019092C5CB30>, <__main__.County object at 0x0000019092C5E030>, <__main__.County object at 0x0000019092C5C6B0>, <__main__.County object at 0x0000019092C5CB60>, <__main__.County object at 0x0000019092C5CD70>, <__main__.County object at 0x0000019092C5DA30>], [<__main__.County object at 0x0000019092C5F7A0>, <__main__.County object at 0x0000019092C5D430>, <__main__.County object at 0x0000019092C5C5C0>, <__main__.County object at 0x0000019092C5F380>, <__main__.County object at 0x0000019092C5D8E0>, <__main__.County object at 0x0000019092C5E0C0>, <__main__.County object at 0x0000019092C5DC10>, <__main__.County object at 0x0000019092C5E2A0>, <__main__.County object at 0x0000019092C5D610>, <__main__.County object at 0x0000019092C5EF00>, <__main__.County object at 0x0000019092C5DB50>, <__main__.County object at 0x0000019092C5E780>, <__main__.County object at 0x0000019092C5EC30>], [<__main__.County object at 0x00000190939223C0>, <__main__.County object at 0x0000019093923350>, <__main__.County object at 0x0000019093923380>, <__main__.County object at 0x0000019092C5D040>, <__main__.County object at 0x0000019092C5F590>, <__main__.County object at 0x0000019092C5C830>, <__main__.County object at 0x0000019092C5C050>, <__main__.County object at 0x0000019092C5C0E0>, <__main__.County object at 0x0000019092C5CEF0>, <__main__.County object at 0x0000019092C5C650>, <__main__.County object at 0x0000019092C5CF80>, <__main__.County object at 0x0000019092C5CE30>, <__main__.County object at 0x0000019092C5C8F0>], [<__main__.County object at 0x0000019092C5E240>, <__main__.County object at 0x0000019092C5DA90>, <__main__.County object at 0x0000019092C5E6F0>, <__main__.County object at 0x0000019092C5DF40>, <__main__.County object at 0x0000019092C5DD90>, <__main__.County object at 0x0000019092C5E750>, <__main__.County object at 0x0000019092C5E660>, <__main__.County object at 0x0000019092C5E570>, <__main__.County object at 0x0000019092C5D820>, <__main__.County object at 0x0000019092C5F980>, <__main__.County object at 0x0000019092C5FE60>, <__main__.County object at 0x0000019092C5CAA0>, <__main__.County object at 0x0000019092C5DC40>]], [[<__main__.County object at 0x0000019092C5E0F0>, <__main__.County object at 0x0000019092C5ECF0>, <__main__.County object at 0x0000019092C5D880>, <__main__.County object at 0x0000019092C5E1E0>, <__main__.County object at 0x0000019092C5EED0>, <__main__.County object at 0x0000019092C5D670>, <__main__.County object at 0x0000019092C5D970>, <__main__.County object at 0x0000019092C5E960>, <__main__.County object at 0x0000019092C5DD60>, <__main__.County object at 0x0000019092C5F2F0>, <__main__.County object at 0x0000019092C5EAE0>, <__main__.County object at 0x0000019092C5D7C0>, <__main__.County object at 0x000001908F2ABF20>], [<__main__.County object at 0x0000019092C5EB10>, <__main__.County object at 0x0000019092C5D640>, <__main__.County object at 0x0000019092C5EF60>, <__main__.County object at 0x0000019092C5E930>, <__main__.County object at 0x0000019092C5FAD0>, <__main__.County object at 0x0000019092C5F5F0>, <__main__.County object at 0x0000019092C5D0D0>, <__main__.County object at 0x0000019092C5E5D0>, <__main__.County object at 0x0000019092C5DF70>, <__main__.County object at 0x0000019092C5EB40>, <__main__.County object at 0x0000019092C5EFF0>, <__main__.County object at 0x0000019092C5EFC0>, <__main__.County object at 0x0000019092C5C2C0>], [<__main__.County object at 0x0000019092C5E900>, <__main__.County object at 0x0000019092C5EDE0>, <__main__.County object at 0x0000019092C5EBA0>, <__main__.County object at 0x0000019092C5DB20>, <__main__.County object at 0x0000019092C5E7E0>, <__main__.County object at 0x0000019092C5F710>, <__main__.County object at 0x0000019092C5CA70>, <__main__.County object at 0x0000019092C5C2F0>, <__main__.County object at 0x0000019092C5FE00>, <__main__.County object at 0x0000019092C5CA10>, <__main__.County object at 0x0000019092C5ED20>, <__main__.County object at 0x0000019092C5DEB0>, <__main__.County object at 0x0000019092C5E690>], [<__main__.County object at 0x00000190939217C0>, <__main__.County object at 0x0000019092C5CF20>, <__main__.County object at 0x0000019092C5EA80>, <__main__.County object at 0x000001908EC86630>, <__main__.County object at 0x0000019092C5E300>, <__main__.County object at 0x0000019092C5EA20>, <__main__.County object at 0x0000019092C5E840>, <__main__.County object at 0x0000019092C5E180>, <__main__.County object at 0x0000019092C5E480>, <__main__.County object at 0x000001908F2ABA70>, <__main__.County object at 0x0000019092C5EEA0>, <__main__.County object at 0x0000019092C5E420>, <__main__.County object at 0x0000019092C5E720>], [<__main__.County object at 0x0000019092C5E810>, <__main__.County object at 0x0000019092C5E8A0>, <__main__.County object at 0x0000019092C5D7F0>, <__main__.County object at 0x0000019092C5EE70>, <__main__.County object at 0x0000019092C5EBD0>, <__main__.County object at 0x0000019092C5E7B0>, <__main__.County object at 0x0000019092C5DE20>, <__main__.County object at 0x0000019092C5F830>, <__main__.County object at 0x0000019092C5F8F0>, <__main__.County object at 0x0000019092C5F920>, <__main__.County object at 0x0000019092C5F050>, <__main__.County object at 0x0000019092C5F890>, <__main__.County object at 0x0000019092C5E4E0>], [<__main__.County object at 0x0000019092C5E990>, <__main__.County object at 0x0000019092C5E9F0>, <__main__.County object at 0x0000019092C5E600>, <__main__.County object at 0x0000019092C5F650>, <__main__.County object at 0x0000019092C5ED80>, <__main__.County object at 0x0000019092C5EB70>, <__main__.County object at 0x0000019092C5E510>, <__main__.County object at 0x0000019092C5ED50>, <__main__.County object at 0x0000019092C5FD10>, <__main__.County object at 0x0000019092C5EDB0>, <__main__.County object at 0x0000019092C5F560>, <__main__.County object at 0x0000019092C5FCB0>, <__main__.County object at 0x0000019092C5F860>], [<__main__.County object at 0x0000019092C5D6A0>, <__main__.County object at 0x0000019092C5EA50>, <__main__.County object at 0x0000019092C5FB00>, <__main__.County object at 0x0000019092C5DFD0>, <__main__.County object at 0x0000019092C5F8C0>, <__main__.County object at 0x0000019092C5FF20>, <__main__.County object at 0x0000019092C5D310>, <__main__.County object at 0x0000019092C5C4D0>, <__main__.County object at 0x0000019092C5CE60>, <__main__.County object at 0x0000019092C5C080>, <__main__.County object at 0x0000019092C5D370>, <__main__.County object at 0x0000019092C5C7D0>, <__main__.County object at 0x0000019092C5F500>], [<__main__.County object at 0x0000019092C5DAC0>, <__main__.County object at 0x0000019092C5F020>, <__main__.County object at 0x0000019092C5FFE0>, <__main__.County object at 0x0000019092C5C1A0>, <__main__.County object at 0x0000019092C5FC80>, <__main__.County object at 0x0000019092C5C470>, <__main__.County object at 0x0000019092C5CC50>, <__main__.County object at 0x0000019092C5F0B0>, <__main__.County object at 0x0000019092C5C3E0>, <__main__.County object at 0x0000019092C5FBF0>, <__main__.County object at 0x0000019092C5F1A0>, <__main__.County object at 0x0000019092C5F3E0>, <__main__.County object at 0x0000019092C5C230>], [<__main__.County object at 0x0000019092C5E540>, <__main__.County object at 0x0000019092C5EC60>, <__main__.County object at 0x0000019092C5F6B0>, <__main__.County object at 0x0000019092C5F680>, <__main__.County object at 0x0000019092C5E090>, <__main__.County object at 0x0000019092C5EC00>, <__main__.County object at 0x0000019092C5E1B0>, <__main__.County object at 0x0000019092C5E6C0>, <__main__.County object at 0x0000019092C5EC90>, <__main__.County object at 0x0000019092C5FCE0>, <__main__.County object at 0x0000019092C5EE40>, <__main__.County object at 0x0000019092C5F7D0>, <__main__.County object at 0x0000019092C5FF50>], [<__main__.County object at 0x0000019092C5DD30>, <__main__.County object at 0x0000019092C5FAA0>, <__main__.County object at 0x0000019092C5F9B0>, <__main__.County object at 0x0000019092C5D940>, <__main__.County object at 0x0000019092C5C140>, <__main__.County object at 0x0000019092C5CEC0>, <__main__.County object at 0x0000019092C5C980>, <__main__.County object at 0x0000019092C5C530>, <__main__.County object at 0x0000019092C5FDA0>, <__main__.County object at 0x0000019092C5FDD0>, <__main__.County object at 0x0000019092C5F5C0>, <__main__.County object at 0x0000019092C5F0E0>, <__main__.County object at 0x0000019092C5FF80>], [<__main__.County object at 0x0000019092C5E8D0>, <__main__.County object at 0x0000019092C5EE10>, <__main__.County object at 0x0000019092C5C500>, <__main__.County object at 0x0000019092C5C740>, <__main__.County object at 0x0000019092C5C1D0>, <__main__.County object at 0x0000019092C5DC70>, <__main__.County object at 0x0000019092C5F3B0>, <__main__.County object at 0x0000019092C5F290>, <__main__.County object at 0x0000019092C5F440>, <__main__.County object at 0x0000019092C5CE90>, <__main__.County object at 0x0000019092C5FB90>, <__main__.County object at 0x0000019092C5C800>, <__main__.County object at 0x0000019092C5FB30>], [<__main__.County object at 0x0000019092C5DBE0>, <__main__.County object at 0x0000019092C5DAF0>, <__main__.County object at 0x0000019092C5F620>, <__main__.County object at 0x0000019092C5F800>, <__main__.County object at 0x0000019092C5FA10>, <__main__.County object at 0x0000019092C5F320>, <__main__.County object at 0x0000019092C5F1D0>, <__main__.County object at 0x0000019092C5C440>, <__main__.County object at 0x0000019092C5C590>, <__main__.County object at 0x0000019092C5FB60>, <__main__.County object at 0x0000019092C5C350>, <__main__.County object at 0x0000019092C5F6E0>, <__main__.County object at 0x0000019092C5FA70>], [<__main__.County object at 0x0000019092C5E3C0>, <__main__.County object at 0x0000019092C5EF90>, <__main__.County object at 0x0000019092C5F740>, <__main__.County object at 0x0000019092C5C560>, <__main__.County object at 0x0000019092C5F110>, <__main__.County object at 0x0000019092C5C9E0>, <__main__.County object at 0x0000019092C5C290>, <__main__.County object at 0x0000019092C5C170>, <__main__.County object at 0x0000019092C5FD40>, <__main__.County object at 0x0000019092C5E870>, <__main__.County object at 0x0000019092C5CA40>, <__main__.County object at 0x0000019092C5FEF0>, <__main__.County object at 0x0000019092C5E450>]], [[<__main__.County object at 0x0000019094B27080>, <__main__.County object at 0x0000019094B25AC0>, <__main__.County object at 0x0000019094B27470>, <__main__.County object at 0x0000019094B27F20>, <__main__.County object at 0x0000019094B25AF0>, <__main__.County object at 0x0000019094B25130>, <__main__.County object at 0x0000019094B265D0>, <__main__.County object at 0x0000019094B240B0>, <__main__.County object at 0x0000019094B24800>, <__main__.County object at 0x0000019094B241A0>, <__main__.County object at 0x0000019094B25820>, <__main__.County object at 0x0000019094B24830>, <__main__.County object at 0x0000019094B27EC0>], [<__main__.County object at 0x0000019090336F30>, <__main__.County object at 0x0000019094B27FB0>, <__main__.County object at 0x0000019094B27290>, <__main__.County object at 0x0000019094B27F80>, <__main__.County object at 0x0000019094B275F0>, <__main__.County object at 0x0000019094B27AA0>, <__main__.County object at 0x0000019094B27AD0>, <__main__.County object at 0x0000019094B27B00>, <__main__.County object at 0x0000019094B27890>, <__main__.County object at 0x0000019094B27200>, <__main__.County object at 0x0000019094B27CE0>, <__main__.County object at 0x0000019094B248C0>, <__main__.County object at 0x0000019094B24740>], [<__main__.County object at 0x0000019094B27560>, <__main__.County object at 0x0000019094B27140>, <__main__.County object at 0x0000019094B270B0>, <__main__.County object at 0x0000019094B277D0>, <__main__.County object at 0x0000019094B27F50>, <__main__.County object at 0x0000019094B25760>, <__main__.County object at 0x0000019094B253D0>, <__main__.County object at 0x0000019094B24860>, <__main__.County object at 0x0000019094B26E40>, <__main__.County object at 0x0000019094B27230>, <__main__.County object at 0x0000019094B24BC0>, <__main__.County object at 0x0000019094B24770>, <__main__.County object at 0x0000019094B26F00>], [<__main__.County object at 0x0000019094B27D10>, <__main__.County object at 0x0000019094B274D0>, <__main__.County object at 0x0000019094B27830>, <__main__.County object at 0x0000019094B27EF0>, <__main__.County object at 0x0000019094B24710>, <__main__.County object at 0x0000019094B27E90>, <__main__.County object at 0x0000019094B27410>, <__main__.County object at 0x0000019094B24AD0>, <__main__.County object at 0x0000019094B27800>, <__main__.County object at 0x0000019094B27C50>, <__main__.County object at 0x0000019094B27020>, <__main__.County object at 0x0000019094B27FE0>, <__main__.County object at 0x0000019094B27170>], [<__main__.County object at 0x0000019094B256D0>, <__main__.County object at 0x0000019094B24D70>, <__main__.County object at 0x0000019094B25CD0>, <__main__.County object at 0x0000019094B25400>, <__main__.County object at 0x0000019094B265A0>, <__main__.County object at 0x0000019094B25700>, <__main__.County object at 0x0000019094B26300>, <__main__.County object at 0x0000019094B25460>, <__main__.County object at 0x0000019094B26A20>, <__main__.County object at 0x0000019094B24EF0>, <__main__.County object at 0x0000019094B25BB0>, <__main__.County object at 0x0000019094B25160>, <__main__.County object at 0x0000019094B26570>], [<__main__.County object at 0x0000019094B25010>, <__main__.County object at 0x0000019094B25190>, <__main__.County object at 0x0000019094B25D90>, <__main__.County object at 0x0000019094B252B0>, <__main__.County object at 0x0000019094B251F0>, <__main__.County object at 0x0000019094B24920>, <__main__.County object at 0x0000019094B25940>, <__main__.County object at 0x0000019094B251C0>, <__main__.County object at 0x0000019094B24E30>, <__main__.County object at 0x0000019094B262D0>, <__main__.County object at 0x0000019094B25280>, <__main__.County object at 0x0000019094B25F70>, <__main__.County object at 0x0000019094B248F0>], [<__main__.County object at 0x0000019094B27710>, <__main__.County object at 0x0000019094B26DE0>, <__main__.County object at 0x0000019094B24110>, <__main__.County object at 0x0000019094B26FF0>, <__main__.County object at 0x0000019094B245C0>, <__main__.County object at 0x0000019094B24560>, <__main__.County object at 0x0000019094B272C0>, <__main__.County object at 0x0000019094B246E0>, <__main__.County object at 0x0000019094B26000>, <__main__.County object at 0x0000019094B242F0>, <__main__.County object at 0x0000019094B270E0>, <__main__.County object at 0x0000019094B25B20>, <__main__.County object at 0x0000019094B26030>], [<__main__.County object at 0x0000019094B25D00>, <__main__.County object at 0x0000019094B27500>, <__main__.County object at 0x0000019094B241D0>, <__main__.County object at 0x0000019094B271D0>, <__main__.County object at 0x0000019094B27C20>, <__main__.County object at 0x0000019094B27050>, <__main__.County object at 0x0000019094B27860>, <__main__.County object at 0x0000019092C5E270>, <__main__.County object at 0x0000019092C5F350>, <__main__.County object at 0x0000019092C5FA40>, <__main__.County object at 0x0000019092C5E390>, <__main__.County object at 0x0000019092C5FFB0>, <__main__.County object at 0x0000019094B26FC0>], [<__main__.County object at 0x00000190904D3CE0>, <__main__.County object at 0x0000019094B246B0>, <__main__.County object at 0x0000019094B27DA0>, <__main__.County object at 0x000001908C3DF8C0>, <__main__.County object at 0x0000019094B257F0>, <__main__.County object at 0x0000019094B24FE0>, <__main__.County object at 0x0000019094B261B0>, <__main__.County object at 0x0000019094B25970>, <__main__.County object at 0x0000019094B26090>, <__main__.County object at 0x0000019094B25250>, <__main__.County object at 0x0000019094B26630>, <__main__.County object at 0x0000019094B26270>, <__main__.County object at 0x0000019094B25C40>], [<__main__.County object at 0x0000019094B24F50>, <__main__.County object at 0x0000019094B25DF0>, <__main__.County object at 0x0000019094B25B80>, <__main__.County object at 0x0000019094B259D0>, <__main__.County object at 0x0000019094B25E20>, <__main__.County object at 0x0000019094B26C90>, <__main__.County object at 0x0000019094B24E90>, <__main__.County object at 0x0000019094B24B30>, <__main__.County object at 0x0000019094B25A90>, <__main__.County object at 0x0000019094B26B70>, <__main__.County object at 0x0000019094B26060>, <__main__.County object at 0x0000019094B25D60>, <__main__.County object at 0x0000019094B24F80>], [<__main__.County object at 0x0000019094B26F60>, <__main__.County object at 0x0000019094B27CB0>, <__main__.County object at 0x0000019094B27530>, <__main__.County object at 0x0000019094B26F90>, <__main__.County object at 0x0000019094B27A70>, <__main__.County object at 0x0000019094B27680>, <__main__.County object at 0x0000019094B24530>, <__main__.County object at 0x0000019094B27C80>, <__main__.County object at 0x0000019094B24F20>, <__main__.County object at 0x0000019094B256A0>, <__main__.County object at 0x0000019094B25430>, <__main__.County object at 0x0000019094B24EC0>, <__main__.County object at 0x0000019094B26F30>], [<__main__.County object at 0x0000019094B24C80>, <__main__.County object at 0x0000019094B254F0>, <__main__.County object at 0x0000019094B25730>, <__main__.County object at 0x0000019094B25520>, <__main__.County object at 0x0000019094B26210>, <__main__.County object at 0x0000019094B25A30>, <__main__.County object at 0x0000019094B25490>, <__main__.County object at 0x0000019094B259A0>, <__main__.County object at 0x0000019094B25670>, <__main__.County object at 0x0000019094B26B40>, <__main__.County object at 0x0000019094B25220>, <__main__.County object at 0x0000019094B268D0>, <__main__.County object at 0x0000019094B24FB0>], [<__main__.County object at 0x0000019094B27D70>, <__main__.County object at 0x0000019094B27D40>, <__main__.County object at 0x0000019094B24080>, <__main__.County object at 0x0000019094B24590>, <__main__.County object at 0x0000019094B27A40>, <__main__.County object at 0x0000019094B24200>, <__main__.County object at 0x0000019094B25550>, <__main__.County object at 0x0000019094B26E10>, <__main__.County object at 0x0000019094B257C0>, <__main__.County object at 0x0000019094B25C10>, <__main__.County object at 0x0000019094B254C0>, <__main__.County object at 0x0000019094B260F0>, <__main__.County object at 0x0000019094B24500>]], [[<__main__.County object at 0x0000019094B25A00>, <__main__.County object at 0x0000019094B26810>, <__main__.County object at 0x0000019094B26330>, <__main__.County object at 0x0000019094B268A0>, <__main__.County object at 0x0000019094B25070>, <__main__.County object at 0x0000019094B26870>, <__main__.County object at 0x0000019094B25E50>, <__main__.County object at 0x0000019094B25910>, <__main__.County object at 0x000001908EC86600>, <__main__.County object at 0x0000019094B25100>, <__main__.County object at 0x000001909459D2E0>, <__main__.County object at 0x0000019094B260C0>, <__main__.County object at 0x0000019094B26AE0>], [<__main__.County object at 0x0000019094B24CE0>, <__main__.County object at 0x0000019094B24470>, <__main__.County object at 0x0000019094B24320>, <__main__.County object at 0x0000019094B24890>, <__main__.County object at 0x0000019094B278F0>, <__main__.County object at 0x0000019094B276E0>, <__main__.County object at 0x0000019094B278C0>, <__main__.County object at 0x0000019094B27920>, <__main__.County object at 0x0000019094B264B0>, <__main__.County object at 0x0000019094B244D0>, <__main__.County object at 0x0000019094B26690>, <__main__.County object at 0x0000019094B24680>, <__main__.County object at 0x0000019094B272F0>], [<__main__.County object at 0x0000019094B26AB0>, <__main__.County object at 0x0000019094B26D80>, <__main__.County object at 0x0000019094B26D50>, <__main__.County object at 0x0000019094B26DB0>, <__main__.County object at 0x0000019094B24DD0>, <__main__.County object at 0x0000019094B26A80>, <__main__.County object at 0x0000019094B24BF0>, <__main__.County object at 0x0000019094B26CF0>, <__main__.County object at 0x0000019094B25B50>, <__main__.County object at 0x0000019094B25C70>, <__main__.County object at 0x0000019094B26180>, <__main__.County object at 0x0000019094B26D20>, <__main__.County object at 0x0000019094B24E00>], [<__main__.County object at 0x0000019094B273E0>, <__main__.County object at 0x0000019094B277A0>, <__main__.County object at 0x0000019094B263C0>, <__main__.County object at 0x0000019094B263F0>, <__main__.County object at 0x0000019094B25BE0>, <__main__.County object at 0x0000019094B24E60>, <__main__.County object at 0x0000019094B24260>, <__main__.County object at 0x0000019094B24290>, <__main__.County object at 0x0000019094B24380>, <__main__.County object at 0x0000019094B27350>, <__main__.County object at 0x0000019094B27BF0>, <__main__.County object at 0x0000019094B27DD0>, <__main__.County object at 0x0000019094B25D30>], [<__main__.County object at 0x0000019094B267E0>, <__main__.County object at 0x0000019094B258B0>, <__main__.County object at 0x0000019094B24D40>, <__main__.County object at 0x0000019094B267B0>, <__main__.County object at 0x0000019094B249E0>, <__main__.County object at 0x0000019094B24DA0>, <__main__.County object at 0x0000019094B25880>, <__main__.County object at 0x0000019094B261E0>, <__main__.County object at 0x0000019094B26150>, <__main__.County object at 0x0000019094B25310>, <__main__.County object at 0x0000019094B26780>, <__main__.County object at 0x0000019094B25850>, <__main__.County object at 0x0000019094B25340>], [<__main__.County object at 0x0000019094B250A0>, <__main__.County object at 0x0000019094B255B0>, <__main__.County object at 0x0000019094B26510>, <__main__.County object at 0x0000019094B255E0>, <__main__.County object at 0x0000019094B25E80>, <__main__.County object at 0x0000019094B24C50>, <__main__.County object at 0x0000019094B26120>, <__main__.County object at 0x0000019094B26C30>, <__main__.County object at 0x0000019094B24B90>, <__main__.County object at 0x0000019094B26CC0>, <__main__.County object at 0x0000019094B25FD0>, <__main__.County object at 0x0000019094B24B00>, <__main__.County object at 0x0000019094B266F0>], [<__main__.County object at 0x0000019094B26990>, <__main__.County object at 0x0000019094B26C00>, <__main__.County object at 0x0000019094B26420>, <__main__.County object at 0x0000019094B27740>, <__main__.County object at 0x0000019094B27A10>, <__main__.County object at 0x0000019094B26EA0>, <__main__.County object at 0x0000019094B245F0>, <__main__.County object at 0x0000019094B27440>, <__main__.County object at 0x0000019094B27110>, <__main__.County object at 0x0000019094B240E0>, <__main__.County object at 0x0000019094B27B30>, <__main__.County object at 0x0000019094B26E70>, <__main__.County object at 0x0000019094B25EB0>], [<__main__.County object at 0x0000019094B262A0>, <__main__.County object at 0x0000019094B25640>, <__main__.County object at 0x0000019094B24AA0>, <__main__.County object at 0x0000019094B26B10>, <__main__.County object at 0x0000019094B25FA0>, <__main__.County object at 0x0000019094B264E0>, <__main__.County object at 0x0000019094B24A70>, <__main__.County object at 0x0000019094B25EE0>, <__main__.County object at 0x0000019094B26A50>, <__main__.County object at 0x0000019094B26660>, <__main__.County object at 0x0000019094B25370>, <__main__.County object at 0x0000019094B26BD0>, <__main__.County object at 0x0000019094B266C0>], [<__main__.County object at 0x0000019094B249B0>, <__main__.County object at 0x0000019094B25A60>, <__main__.County object at 0x0000019094B24CB0>, <__main__.County object at 0x0000019094B24980>, <__main__.County object at 0x0000019094B24C20>, <__main__.County object at 0x0000019094B273B0>, <__main__.County object at 0x0000019094B27650>, <__main__.County object at 0x0000019094B27590>, <__main__.County object at 0x0000019094B247A0>, <__main__.County object at 0x0000019094B24410>, <__main__.County object at 0x0000019094B27980>, <__main__.County object at 0x0000019094B243E0>, <__main__.County object at 0x0000019094B27BC0>], [<__main__.County object at 0x0000019094B25F40>, <__main__.County object at 0x0000019094B25040>, <__main__.County object at 0x0000019094B26480>, <__main__.County object at 0x0000019094B24950>, <__main__.County object at 0x0000019094B26540>, <__main__.County object at 0x0000019094B25580>, <__main__.County object at 0x0000019094B24A10>, <__main__.County object at 0x0000019094B26BA0>, <__main__.County object at 0x0000019094B26720>, <__main__.County object at 0x0000019094B279E0>, <__main__.County object at 0x0000019094B242C0>, <__main__.County object at 0x0000019094B27770>, <__main__.County object at 0x0000019094B24D10>], [<__main__.County object at 0x0000019094B26960>, <__main__.County object at 0x0000019094B26450>, <__main__.County object at 0x0000019094B276B0>, <__main__.County object at 0x0000019094B26900>, <__main__.County object at 0x0000019094B27950>, <__main__.County object at 0x0000019094B275C0>, <__main__.County object at 0x0000019094B27E30>, <__main__.County object at 0x0000019094B243B0>, <__main__.County object at 0x0000019094B24050>, <__main__.County object at 0x0000019094B247D0>, <__main__.County object at 0x0000019094B271A0>, <__main__.County object at 0x0000019094B27380>, <__main__.County object at 0x0000019094B27B90>], [<__main__.County object at 0x0000019094B279B0>, <__main__.County object at 0x0000019094B27B60>, <__main__.County object at 0x0000019094B27260>, <__main__.County object at 0x0000019094B26ED0>, <__main__.County object at 0x0000019094B24650>, <__main__.County object at 0x0000019094B26240>, <__main__.County object at 0x0000019094B27320>, <__main__.County object at 0x0000019094B24140>, <__main__.County object at 0x0000019094B244A0>, <__main__.County object at 0x0000019094B24350>, <__main__.County object at 0x0000019094B274A0>, <__main__.County object at 0x0000019094B27E60>, <__main__.County object at 0x0000019094B25610>], [<__main__.County object at 0x0000019094B258E0>, <__main__.County object at 0x0000019094B26750>, <__main__.County object at 0x0000019094B269F0>, <__main__.County object at 0x0000019094B24B60>, <__main__.County object at 0x0000019094B252E0>, <__main__.County object at 0x0000019094B26C60>, <__main__.County object at 0x0000019094B250D0>, <__main__.County object at 0x0000019094B269C0>, <__main__.County object at 0x0000019094B26930>, <__main__.County object at 0x0000019094B26390>, <__main__.County object at 0x0000019094B26360>, <__main__.County object at 0x0000019094B25F10>, <__main__.County object at 0x0000019094B24A40>]], [[<__main__.County object at 0x000001909027E780>, <__main__.County object at 0x000001909027CB30>, <__main__.County object at 0x000001909027D550>, <__main__.County object at 0x000001909027D2B0>, <__main__.County object at 0x000001909027EC00>, <__main__.County object at 0x000001909027CF50>, <__main__.County object at 0x000001909027DD60>, <__main__.County object at 0x000001909027C110>, <__main__.County object at 0x000001909027C980>, <__main__.County object at 0x000001909027CD40>, <__main__.County object at 0x000001909027D310>, <__main__.County object at 0x000001909027E240>, <__main__.County object at 0x000001909027CA70>], [<__main__.County object at 0x00000190937BC380>, <__main__.County object at 0x00000190937BDD90>, <__main__.County object at 0x00000190957FD790>, <__main__.County object at 0x0000019094944440>, <__main__.County object at 0x000001909027C140>, <__main__.County object at 0x000001909027C3B0>, <__main__.County object at 0x00000190937BD8E0>, <__main__.County object at 0x000001909027CC80>, <__main__.County object at 0x000001909027F080>, <__main__.County object at 0x000001909027D160>, <__main__.County object at 0x00000190957FD190>, <__main__.County object at 0x0000019094944830>, <__main__.County object at 0x00000190957FDC40>], [<__main__.County object at 0x000001909027CAA0>, <__main__.County object at 0x000001909027DD90>, <__main__.County object at 0x000001909027C1D0>, <__main__.County object at 0x000001909027C860>, <__main__.County object at 0x000001909027DC70>, <__main__.County object at 0x00000190937BDF70>, <__main__.County object at 0x000001909027C6E0>, <__main__.County object at 0x000001909027C950>, <__main__.County object at 0x000001909027D4C0>, <__main__.County object at 0x000001909027CA10>, <__main__.County object at 0x0000019092CE6810>, <__main__.County object at 0x0000019094947BF0>, <__main__.County object at 0x00000190949447D0>], [<__main__.County object at 0x00000190957FFA70>, <__main__.County object at 0x0000019094947E00>, <__main__.County object at 0x0000019094947BC0>, <__main__.County object at 0x0000019094944860>, <__main__.County object at 0x00000190949446E0>, <__main__.County object at 0x0000019094947DD0>, <__main__.County object at 0x0000019094944680>, <__main__.County object at 0x0000019094944C50>, <__main__.County object at 0x0000019094944A40>, <__main__.County object at 0x0000019094944E00>, <__main__.County object at 0x0000019094947F80>, <__main__.County object at 0x0000019094947A40>, <__main__.County object at 0x00000190957FF830>], [<__main__.County object at 0x0000019094947C50>, <__main__.County object at 0x0000019092153EC0>, <__main__.County object at 0x00000190957FD610>, <__main__.County object at 0x0000019094947D10>, <__main__.County object at 0x00000190957FDA00>, <__main__.County object at 0x0000019094947F50>, <__main__.County object at 0x0000019094B24620>, <__main__.County object at 0x0000019094B27E00>, <__main__.County object at 0x0000019094947B90>, <__main__.County object at 0x0000019094947AA0>, <__main__.County object at 0x00000190C7992600>, <__main__.County object at 0x000001909027DBB0>, <__main__.County object at 0x000001909027DC40>], [<__main__.County object at 0x00000190957FD9D0>, <__main__.County object at 0x000001909027CDD0>, <__main__.County object at 0x000001909027CB60>, <__main__.County object at 0x000001909027CFE0>, <__main__.County object at 0x000001909027C1A0>, <__main__.County object at 0x000001909027CB00>, <__main__.County object at 0x000001909027D0A0>, <__main__.County object at 0x000001909027C3E0>, <__main__.County object at 0x000001909027C290>, <__main__.County object at 0x000001909027D910>, <__main__.County object at 0x000001909027C770>, <__main__.County object at 0x000001909027CF20>, <__main__.County object at 0x000001909027DDC0>], [<__main__.County object at 0x000001909027CD70>, <__main__.County object at 0x000001909027E3F0>, <__main__.County object at 0x000001909027E660>, <__main__.County object at 0x000001909027DF40>, <__main__.County object at 0x000001909027D8B0>, <__main__.County object at 0x000001909027CF80>, <__main__.County object at 0x000001909027E990>, <__main__.County object at 0x000001909027EB70>, <__main__.County object at 0x000001909027CC50>, <__main__.County object at 0x000001909027D700>, <__main__.County object at 0x000001909027CE90>, <__main__.County object at 0x000001909027D1C0>, <__main__.County object at 0x000001909027CE00>], [<__main__.County object at 0x000001909027D250>, <__main__.County object at 0x000001909027E570>, <__main__.County object at 0x000001909027D490>, <__main__.County object at 0x000001909027CCB0>, <__main__.County object at 0x000001909027D3A0>, <__main__.County object at 0x000001909027D5B0>, <__main__.County object at 0x000001909027EA50>, <__main__.County object at 0x000001909027E750>, <__main__.County object at 0x000001909027EBD0>, <__main__.County object at 0x000001909027D430>, <__main__.County object at 0x000001909027D280>, <__main__.County object at 0x000001909027DF10>, <__main__.County object at 0x000001909027D4F0>], [<__main__.County object at 0x000001909027CD10>, <__main__.County object at 0x000001909027E3C0>, <__main__.County object at 0x000001909027CEF0>, <__main__.County object at 0x000001909027E9F0>, <__main__.County object at 0x000001909027C200>, <__main__.County object at 0x000001909027D820>, <__main__.County object at 0x000001909027E060>, <__main__.County object at 0x000001909027D760>, <__main__.County object at 0x000001909027DCD0>, <__main__.County object at 0x000001909027CB90>, <__main__.County object at 0x000001909027D880>, <__main__.County object at 0x000001909027E900>, <__main__.County object at 0x000001909027C740>], [<__main__.County object at 0x000001909027C710>, <__main__.County object at 0x000001909027E5D0>, <__main__.County object at 0x000001909027E600>, <__main__.County object at 0x000001909027EBA0>, <__main__.County object at 0x000001909027D9D0>, <__main__.County object at 0x000001909027D010>, <__main__.County object at 0x000001909027DBE0>, <__main__.County object at 0x000001909027E960>, <__main__.County object at 0x000001909027EA20>, <__main__.County object at 0x000001909027E1B0>, <__main__.County object at 0x000001909027E000>, <__main__.County object at 0x000001909027EC30>, <__main__.County object at 0x000001909027D580>], [<__main__.County object at 0x000001909027CAD0>, <__main__.County object at 0x000001909027DC10>, <__main__.County object at 0x000001909027C920>, <__main__.County object at 0x000001909027DFA0>, <__main__.County object at 0x000001909027D220>, <__main__.County object at 0x000001909027D460>, <__main__.County object at 0x000001909027C320>, <__main__.County object at 0x000001909027E390>, <__main__.County object at 0x000001909027DDF0>, <__main__.County object at 0x000001909027CCE0>, <__main__.County object at 0x000001909027D3D0>, <__main__.County object at 0x000001909027E540>, <__main__.County object at 0x000001909027D520>], [<__main__.County object at 0x00000190957FE960>, <__main__.County object at 0x0000019094946060>, <__main__.County object at 0x000001909027D190>, <__main__.County object at 0x000001909027D640>, <__main__.County object at 0x00000190937BDDC0>, <__main__.County object at 0x000001909027D340>, <__main__.County object at 0x000001909027C0E0>, <__main__.County object at 0x000001909027C8F0>, <__main__.County object at 0x000001909027D2E0>, <__main__.County object at 0x000001909027DA30>, <__main__.County object at 0x000001909027D130>, <__main__.County object at 0x0000019094944500>, <__main__.County object at 0x0000019094944B90>], [<__main__.County object at 0x000001909027CE30>, <__main__.County object at 0x000001909027C500>, <__main__.County object at 0x000001909027C620>, <__main__.County object at 0x0000019094944A70>, <__main__.County object at 0x00000190937BC800>, <__main__.County object at 0x000001909027EAB0>, <__main__.County object at 0x000001909027DFD0>, <__main__.County object at 0x000001909027DAC0>, <__main__.County object at 0x000001909027E420>, <__main__.County object at 0x000001909027E930>, <__main__.County object at 0x000001909027D5E0>, <__main__.County object at 0x000001909027E1E0>, <__main__.County object at 0x000001909027C440>]], [[<__main__.County object at 0x0000019090EDF9E0>, <__main__.County object at 0x000001909027F4D0>, <__main__.County object at 0x000001909027F950>, <__main__.County object at 0x0000019090EDF620>, <__main__.County object at 0x0000019090EDEEA0>, <__main__.County object at 0x000001909027E6F0>, <__main__.County object at 0x000001909027F7D0>, <__main__.County object at 0x000001909027FDA0>, <__main__.County object at 0x000001909027CBC0>, <__main__.County object at 0x000001909027E870>, <__main__.County object at 0x000001909027FF80>, <__main__.County object at 0x000001909027E150>, <__main__.County object at 0x000001909027F5F0>], [<__main__.County object at 0x000001909027DB50>, <__main__.County object at 0x000001909027C8C0>, <__main__.County object at 0x000001909027D790>, <__main__.County object at 0x000001909027F020>, <__main__.County object at 0x000001909027E2D0>, <__main__.County object at 0x000001909027E480>, <__main__.County object at 0x0000019090EDD820>, <__main__.County object at 0x0000019090EDCDD0>, <__main__.County object at 0x0000019090EDE7B0>, <__main__.County object at 0x0000019090EDDFD0>, <__main__.County object at 0x0000019090EDFB30>, <__main__.County object at 0x0000019090EDE9C0>, <__main__.County object at 0x0000019090EDF5F0>], [<__main__.County object at 0x000001909027C260>, <__main__.County object at 0x000001909027DD00>, <__main__.County object at 0x000001909027C4D0>, <__main__.County object at 0x000001909027C4A0>, <__main__.County object at 0x000001909027E810>, <__main__.County object at 0x000001909027C800>, <__main__.County object at 0x000001909027CA40>, <__main__.County object at 0x000001909027E5A0>, <__main__.County object at 0x000001909027E8A0>, <__main__.County object at 0x000001909027C410>, <__main__.County object at 0x000001909027C890>, <__main__.County object at 0x000001909027D6A0>, <__main__.County object at 0x000001909027C530>], [<__main__.County object at 0x000001909027D850>, <__main__.County object at 0x000001909027E180>, <__main__.County object at 0x000001909027D8E0>, <__main__.County object at 0x000001909027E7B0>, <__main__.County object at 0x000001909027C2F0>, <__main__.County object at 0x000001909027CFB0>, <__main__.County object at 0x000001909027EAE0>, <__main__.County object at 0x000001909027DB20>, <__main__.County object at 0x000001909027D730>, <__main__.County object at 0x000001909027E030>, <__main__.County object at 0x000001909027C470>, <__main__.County object at 0x000001909027D7F0>, <__main__.County object at 0x000001909027E2A0>], [<__main__.County object at 0x000001909027C9B0>, <__main__.County object at 0x000001909027C590>, <__main__.County object at 0x000001909027C650>, <__main__.County object at 0x000001909027C2C0>, <__main__.County object at 0x000001909027C0B0>, <__main__.County object at 0x000001909027E0F0>, <__main__.County object at 0x000001909027DA00>, <__main__.County object at 0x000001909027FE60>, <__main__.County object at 0x000001909027D6D0>, <__main__.County object at 0x000001909027D940>, <__main__.County object at 0x000001909027C6B0>, <__main__.County object at 0x000001909027CDA0>, <__main__.County object at 0x000001909027DE20>], [<__main__.County object at 0x000001909027DD30>, <__main__.County object at 0x000001909027EA80>, <__main__.County object at 0x000001909027F5C0>, <__main__.County object at 0x000001909027C080>, <__main__.County object at 0x000001909027DAF0>, <__main__.County object at 0x000001909027E0C0>, <__main__.County object at 0x000001909027E330>, <__main__.County object at 0x000001909027E090>, <__main__.County object at 0x000001909027E360>, <__main__.County object at 0x000001909027E690>, <__main__.County object at 0x000001909027C230>, <__main__.County object at 0x000001909027F1A0>, <__main__.County object at 0x000001909027E4E0>], [<__main__.County object at 0x000001909027EED0>, <__main__.County object at 0x000001909027F920>, <__main__.County object at 0x000001909027C5F0>, <__main__.County object at 0x000001909027EB40>, <__main__.County object at 0x000001909027ED20>, <__main__.County object at 0x000001909027E9C0>, <__main__.County object at 0x000001909027EB10>, <__main__.County object at 0x000001909027FF50>, <__main__.County object at 0x000001909027DE80>, <__main__.County object at 0x000001909027DEB0>, <__main__.County object at 0x000001909027FE30>, <__main__.County object at 0x0000019090EDFCB0>, <__main__.County object at 0x0000019090EDC410>], [<__main__.County object at 0x0000019090EDF0E0>, <__main__.County object at 0x0000019090EDF8C0>, <__main__.County object at 0x0000019090EDC290>, <__main__.County object at 0x0000019090EDFE30>, <__main__.County object at 0x0000019090EDC6B0>, <__main__.County object at 0x0000019090EDD6A0>, <__main__.County object at 0x000001909027DEE0>, <__main__.County object at 0x000001909027E4B0>, <__main__.County object at 0x0000019090EDD7F0>, <__main__.County object at 0x0000019090EDF200>, <__main__.County object at 0x0000019090EDEA80>, <__main__.County object at 0x0000019090EDF530>, <__main__.County object at 0x000001909027DB80>], [<__main__.County object at 0x000001909027F830>, <__main__.County object at 0x000001909027FC50>, <__main__.County object at 0x000001909027FB30>, <__main__.County object at 0x000001909027E7E0>, <__main__.County object at 0x000001909027C350>, <__main__.County object at 0x000001909027D370>, <__main__.County object at 0x000001909027E300>, <__main__.County object at 0x000001909027DCA0>, <__main__.County object at 0x000001909027D7C0>, <__main__.County object at 0x000001909027F3E0>, <__main__.County object at 0x0000019090EDDCD0>, <__main__.County object at 0x0000019090EDFA10>, <__main__.County object at 0x0000019090EDF980>], [<__main__.County object at 0x000001909027C7D0>, <__main__.County object at 0x0000019090EDF3B0>, <__main__.County object at 0x000001909027C9E0>, <__main__.County object at 0x0000019090EDF7A0>, <__main__.County object at 0x0000019090EDC080>, <__main__.County object at 0x0000019090EDE780>, <__main__.County object at 0x000001909027CBF0>, <__main__.County object at 0x0000019090EDFBF0>, <__main__.County object at 0x0000019090EDF920>, <__main__.County object at 0x0000019090EDF2F0>, <__main__.County object at 0x0000019090EDFEF0>, <__main__.County object at 0x0000019090EDE150>, <__main__.County object at 0x0000019090EDF4D0>], [<__main__.County object at 0x000001909027DF70>, <__main__.County object at 0x000001909027DA90>, <__main__.County object at 0x000001909027EFC0>, <__main__.County object at 0x000001909027D9A0>, <__main__.County object at 0x000001909027E270>, <__main__.County object at 0x000001909027E6C0>, <__main__.County object at 0x000001909027D610>, <__main__.County object at 0x000001909027D670>, <__main__.County object at 0x000001909027E840>, <__main__.County object at 0x000001909027C830>, <__main__.County object at 0x0000019090EDDF70>, <__main__.County object at 0x0000019090EDF740>, <__main__.County object at 0x0000019090EDFF80>], [<__main__.County object at 0x000001909027E510>, <__main__.County object at 0x000001909027E720>, <__main__.County object at 0x0000019090EDFE60>, <__main__.County object at 0x0000019090EDF770>, <__main__.County object at 0x0000019090EDFC20>, <__main__.County object at 0x0000019090EDF680>, <__main__.County object at 0x0000019090EDF860>, <__main__.County object at 0x0000019090EDFD10>, <__main__.County object at 0x0000019090EDDAF0>, <__main__.County object at 0x0000019090EDFCE0>, <__main__.County object at 0x0000019090EDCD40>, <__main__.County object at 0x0000019090EDF140>, <__main__.County object at 0x000001909027DE50>], [<__main__.County object at 0x000001909027C560>, <__main__.County object at 0x000001909027C5C0>, <__main__.County object at 0x000001909027D400>, <__main__.County object at 0x000001909027E8D0>, <__main__.County object at 0x000001909027C170>, <__main__.County object at 0x000001908EF7FCB0>, <__main__.County object at 0x0000019091DDE840>, <__main__.County object at 0x000001909027E120>, <__main__.County object at 0x0000019090EDF710>, <__main__.County object at 0x0000019090EDD4C0>, <__main__.County object at 0x0000019090EDC230>, <__main__.County object at 0x000001909027F740>, <__main__.County object at 0x000001909027F140>]], [[<__main__.County object at 0x0000019094B419D0>, <__main__.County object at 0x0000019094B41640>, <__main__.County object at 0x0000019094B41C10>, <__main__.County object at 0x0000019094B40620>, <__main__.County object at 0x0000019094B426F0>, <__main__.County object at 0x0000019094B40410>, <__main__.County object at 0x0000019094B41460>, <__main__.County object at 0x0000019094B40500>, <__main__.County object at 0x0000019094B40110>, <__main__.County object at 0x0000019094B414F0>, <__main__.County object at 0x0000019094B403B0>, <__main__.County object at 0x0000019094B407A0>, <__main__.County object at 0x0000019094B42F30>], [<__main__.County object at 0x0000019090EDFFB0>, <__main__.County object at 0x0000019090EDC470>, <__main__.County object at 0x0000019090EDD010>, <__main__.County object at 0x0000019090EDF950>, <__main__.County object at 0x0000019090EDD4F0>, <__main__.County object at 0x0000019090EDFF50>, <__main__.County object at 0x0000019090EDD220>, <__main__.County object at 0x0000019090EDF290>, <__main__.County object at 0x0000019090EDF380>, <__main__.County object at 0x0000019090EDF440>, <__main__.County object at 0x0000019090EDD3D0>, <__main__.County object at 0x0000019090EDC3B0>, <__main__.County object at 0x0000019090EDCAA0>], [<__main__.County object at 0x0000019090EDE390>, <__main__.County object at 0x0000019090EDEB70>, <__main__.County object at 0x0000019090EDCF80>, <__main__.County object at 0x0000019090EDFE90>, <__main__.County object at 0x0000019090EDF800>, <__main__.County object at 0x0000019090EDF3E0>, <__main__.County object at 0x0000019090EDF560>, <__main__.County object at 0x0000019090EDF1D0>, <__main__.County object at 0x0000019090EDCCE0>, <__main__.County object at 0x0000019090EDC8F0>, <__main__.County object at 0x0000019090EDC800>, <__main__.County object at 0x0000019090EDFDA0>, <__main__.County object at 0x0000019090EDDB20>], [<__main__.County object at 0x0000019090EDF650>, <__main__.County object at 0x0000019090EDC9E0>, <__main__.County object at 0x0000019090EDD0D0>, <__main__.County object at 0x0000019090EDF830>, <__main__.County object at 0x0000019090EDFA40>, <__main__.County object at 0x0000019090EDCE90>, <__main__.County object at 0x0000019090EDFC80>, <__main__.County object at 0x0000019090EDF5C0>, <__main__.County object at 0x0000019090EDC2C0>, <__main__.County object at 0x0000019090EDFFE0>, <__main__.County object at 0x0000019090EDF410>, <__main__.County object at 0x0000019090EDC8C0>, <__main__.County object at 0x0000019090EDC7A0>], [<__main__.County object at 0x0000019090EDE4B0>, <__main__.County object at 0x0000019090EDF500>, <__main__.County object at 0x0000019090EDDA00>, <__main__.County object at 0x0000019090EDD130>, <__main__.County object at 0x0000019090EDEA50>, <__main__.County object at 0x0000019090EDF350>, <__main__.County object at 0x0000019090EDF110>, <__main__.County object at 0x0000019094B42840>, <__main__.County object at 0x0000019090EDD1C0>, <__main__.County object at 0x0000019090EDC740>, <__main__.County object at 0x0000019090EDC7D0>, <__main__.County object at 0x0000019090EDF320>, <__main__.County object at 0x0000019094B41B50>], [<__main__.County object at 0x0000019094B40E60>, <__main__.County object at 0x0000019094B43020>, <__main__.County object at 0x0000019094B40230>, <__main__.County object at 0x0000019094B40440>, <__main__.County object at 0x0000019094B402C0>, <__main__.County object at 0x0000019094B40290>, <__main__.County object at 0x0000019094B40950>, <__main__.County object at 0x0000019094B42420>, <__main__.County object at 0x0000019094B43080>, <__main__.County object at 0x0000019094B40710>, <__main__.County object at 0x0000019094B40380>, <__main__.County object at 0x0000019094B42720>, <__main__.County object at 0x0000019094B40B90>], [<__main__.County object at 0x000001908FE11550>, <__main__.County object at 0x0000019095CE3980>, <__main__.County object at 0x0000019090EDCA10>, <__main__.County object at 0x0000019090EDFC50>, <__main__.County object at 0x0000019090EDCBC0>, <__main__.County object at 0x0000019090EDF2C0>, <__main__.County object at 0x0000019090EDE3C0>, <__main__.County object at 0x0000019090EDC1A0>, <__main__.County object at 0x0000019090EDC590>, <__main__.County object at 0x0000019090EDD0A0>, <__main__.County object at 0x0000019090EDFF20>, <__main__.County object at 0x0000019090EDDCA0>, <__main__.County object at 0x0000019090EDFB00>], [<__main__.County object at 0x0000019090EDFD40>, <__main__.County object at 0x0000019090EDC110>, <__main__.County object at 0x0000019090EDF470>, <__main__.County object at 0x0000019090EDC9B0>, <__main__.County object at 0x0000019090EDD6D0>, <__main__.County object at 0x0000019090EDCD70>, <__main__.County object at 0x0000019090EDFB90>, <__main__.County object at 0x0000019090EDF080>, <__main__.County object at 0x0000019090EDCA40>, <__main__.County object at 0x0000019090EDFA70>, <__main__.County object at 0x0000019090EDDB80>, <__main__.County object at 0x0000019090EDF170>, <__main__.County object at 0x0000019090EDCD10>], [<__main__.County object at 0x0000019094B416D0>, <__main__.County object at 0x0000019094B414C0>, <__main__.County object at 0x0000019094B401D0>, <__main__.County object at 0x0000019094B40C20>, <__main__.County object at 0x0000019094B41430>, <__main__.County object at 0x0000019094B417C0>, <__main__.County object at 0x0000019094B40530>, <__main__.County object at 0x0000019094B41AF0>, <__main__.County object at 0x0000019094B41A00>, <__main__.County object at 0x0000019094B40DA0>, <__main__.County object at 0x0000019094B40770>, <__main__.County object at 0x0000019094B41280>, <__main__.County object at 0x0000019094B40FB0>], [<__main__.County object at 0x0000019094B40260>, <__main__.County object at 0x0000019094B422D0>, <__main__.County object at 0x0000019094B418B0>, <__main__.County object at 0x0000019094B40D70>, <__main__.County object at 0x0000019094B40860>, <__main__.County object at 0x0000019094B402F0>, <__main__.County object at 0x0000019094B42360>, <__main__.County object at 0x0000019094B40080>, <__main__.County object at 0x0000019094B406B0>, <__main__.County object at 0x0000019094B41610>, <__main__.County object at 0x0000019094B41730>, <__main__.County object at 0x0000019094B40680>, <__main__.County object at 0x0000019094B41700>], [<__main__.County object at 0x0000019094B407D0>, <__main__.County object at 0x0000019094B401A0>, <__main__.County object at 0x0000019094B41FD0>, <__main__.County object at 0x0000019094B43CB0>, <__main__.County object at 0x0000019094B42540>, <__main__.County object at 0x0000019094B40200>, <__main__.County object at 0x0000019090EDC950>, <__main__.County object at 0x0000019090EDC260>, <__main__.County object at 0x0000019090EDF6B0>, <__main__.County object at 0x0000019094B40AD0>, <__main__.County object at 0x0000019094B40320>, <__main__.County object at 0x0000019094B42960>, <__main__.County object at 0x0000019094B40E30>], [<__main__.County object at 0x0000019090EDF890>, <__main__.County object at 0x0000019094B40140>, <__main__.County object at 0x0000019094B400E0>, <__main__.County object at 0x0000019094B40170>, <__main__.County object at 0x0000019094B40800>, <__main__.County object at 0x0000019094B40050>, <__main__.County object at 0x0000019094B40350>, <__main__.County object at 0x0000019094B41340>, <__main__.County object at 0x0000019094B415E0>, <__main__.County object at 0x0000019094B415B0>, <__main__.County object at 0x0000019094B40740>, <__main__.County object at 0x0000019094B41400>, <__main__.County object at 0x0000019094B41550>], [<__main__.County object at 0x0000019090EDFEC0>, <__main__.County object at 0x0000019090EDC890>, <__main__.County object at 0x0000019090EDC0E0>, <__main__.County object at 0x0000019090EDDC40>, <__main__.County object at 0x0000019090EDC500>, <__main__.County object at 0x0000019094B433B0>, <__main__.County object at 0x0000019090EDCB60>, <__main__.County object at 0x0000019090EDF9B0>, <__main__.County object at 0x0000019094B410D0>, <__main__.County object at 0x0000019090EDF260>, <__main__.County object at 0x0000019094B41370>, <__main__.County object at 0x0000019094B41BB0>, <__main__.County object at 0x0000019094B400B0>]]], [[[<__main__.County object at 0x0000019094B40FE0>, <__main__.County object at 0x0000019094B41490>, <__main__.County object at 0x0000019094B429F0>, <__main__.County object at 0x0000019094B43AD0>, <__main__.County object at 0x0000019094B409E0>, <__main__.County object at 0x0000019094B42690>, <__main__.County object at 0x0000019094B41520>, <__main__.County object at 0x0000019094B41B80>, <__main__.County object at 0x0000019094B41EB0>, <__main__.County object at 0x0000019094B40AA0>, <__main__.County object at 0x0000019094B41790>, <__main__.County object at 0x0000019094B41880>, <__main__.County object at 0x0000019094B43C20>, <__main__.County object at 0x0000019094B410A0>], [<__main__.County object at 0x0000019094B432C0>, <__main__.County object at 0x0000019094B42660>, <__main__.County object at 0x0000019094B41F70>, <__main__.County object at 0x0000019094B42B40>, <__main__.County object at 0x0000019094B426C0>, <__main__.County object at 0x0000019094B40470>, <__main__.County object at 0x0000019094B40650>, <__main__.County object at 0x0000019094B41F10>, <__main__.County object at 0x0000019094B41C40>, <__main__.County object at 0x0000019094B42030>, <__main__.County object at 0x0000019094B432F0>, <__main__.County object at 0x0000019094B423C0>, <__main__.County object at 0x0000019094B41040>, <__main__.County object at 0x0000019094B408F0>], [<__main__.County object at 0x0000019094B42C30>, <__main__.County object at 0x0000019094B42BD0>, <__main__.County object at 0x0000019094B42C90>, <__main__.County object at 0x0000019094B41D90>, <__main__.County object at 0x0000019094B41220>, <__main__.County object at 0x0000019094B43C50>, <__main__.County object at 0x0000019094B42A50>, <__main__.County object at 0x0000019094B42090>, <__main__.County object at 0x0000019094B43170>, <__main__.County object at 0x0000019094B42390>, <__main__.County object at 0x0000019094B422A0>, <__main__.County object at 0x0000019094B43F50>, <__main__.County object at 0x0000019094B42DB0>, <__main__.County object at 0x0000019094B428A0>], [<__main__.County object at 0x0000019094B43AA0>, <__main__.County object at 0x0000019094B40590>, <__main__.County object at 0x0000019094B42510>, <__main__.County object at 0x0000019094B405C0>, <__main__.County object at 0x0000019094B419A0>, <__main__.County object at 0x0000019094B43410>, <__main__.County object at 0x0000019094B411F0>, <__main__.County object at 0x0000019094B436B0>, <__main__.County object at 0x0000019094B43FB0>, <__main__.County object at 0x0000019094B42FF0>, <__main__.County object at 0x0000019094B434A0>, <__main__.County object at 0x0000019094B413A0>, <__main__.County object at 0x0000019094B433E0>, <__main__.County object at 0x0000019094B43710>], [<__main__.County object at 0x0000019094B40C50>, <__main__.County object at 0x0000019094B41970>, <__main__.County object at 0x0000019094B40B00>, <__main__.County object at 0x0000019094B40F20>, <__main__.County object at 0x0000019094B42B10>, <__main__.County object at 0x0000019094B430E0>, <__main__.County object at 0x0000019094B409B0>, <__main__.County object at 0x0000019094B40F80>, <__main__.County object at 0x0000019094B40F50>, <__main__.County object at 0x0000019094B42990>, <__main__.County object at 0x0000019094B42F90>, <__main__.County object at 0x0000019094B42EA0>, <__main__.County object at 0x0000019094B41910>, <__main__.County object at 0x0000019094B42210>], [<__main__.County object at 0x0000019093C3C680>, <__main__.County object at 0x000001909027CEC0>, <__main__.County object at 0x0000019094B43920>, <__main__.County object at 0x0000019094B43EC0>, <__main__.County object at 0x0000019094B41FA0>, <__main__.County object at 0x0000019094B420F0>, <__main__.County object at 0x0000019094B42180>, <__main__.County object at 0x0000019094B42E40>, <__main__.County object at 0x0000019094B40B30>, <__main__.County object at 0x0000019094B42AB0>, <__main__.County object at 0x0000019094B43470>, <__main__.County object at 0x0000019094B420C0>, <__main__.County object at 0x0000019094B43140>, <__main__.County object at 0x0000019094B43260>], [<__main__.County object at 0x0000019094B40560>, <__main__.County object at 0x0000019094B43B30>, <__main__.County object at 0x0000019094B43440>, <__main__.County object at 0x0000019094B412E0>, <__main__.County object at 0x0000019094B43110>, <__main__.County object at 0x0000019094B43050>, <__main__.County object at 0x0000019094B42D20>, <__main__.County object at 0x0000019094B43380>, <__main__.County object at 0x0000019094B437D0>, <__main__.County object at 0x0000019094B40EF0>, <__main__.County object at 0x0000019094B41580>, <__main__.County object at 0x0000019094B41B20>, <__main__.County object at 0x0000019094B42FC0>, <__main__.County object at 0x0000019094B42300>], [<__main__.County object at 0x0000019094B40920>, <__main__.County object at 0x0000019094B43FE0>, <__main__.County object at 0x0000019094B43DD0>, <__main__.County object at 0x0000019094B41DF0>, <__main__.County object at 0x0000019094B40BF0>, <__main__.County object at 0x0000019094B40D40>, <__main__.County object at 0x0000019094B42F60>, <__main__.County object at 0x0000019094B40890>, <__main__.County object at 0x0000019094B42F00>, <__main__.County object at 0x0000019094B439B0>, <__main__.County object at 0x0000019094B43B90>, <__main__.County object at 0x0000019094B42630>, <__main__.County object at 0x0000019094B43DA0>, <__main__.County object at 0x0000019094B405F0>], [<__main__.County object at 0x0000019094B41670>, <__main__.County object at 0x0000019094B42E70>, <__main__.County object at 0x0000019094B42000>, <__main__.County object at 0x0000019094B41D30>, <__main__.County object at 0x0000019094B40D10>, <__main__.County object at 0x0000019094B403E0>, <__main__.County object at 0x0000019094B43230>, <__main__.County object at 0x0000019094B42ED0>, <__main__.County object at 0x0000019094B43290>, <__main__.County object at 0x0000019094B43770>, <__main__.County object at 0x0000019094B41BE0>, <__main__.County object at 0x0000019094B43E60>, <__main__.County object at 0x0000019094B435F0>, <__main__.County object at 0x0000019094B42A80>], [<__main__.County object at 0x0000019094B41F40>, <__main__.County object at 0x0000019094B41D00>, <__main__.County object at 0x0000019094B40A10>, <__main__.County object at 0x0000019094B42060>, <__main__.County object at 0x0000019094B43980>, <__main__.County object at 0x0000019094B42570>, <__main__.County object at 0x0000019094B418E0>, <__main__.County object at 0x0000019094B43E30>, <__main__.County object at 0x0000019094B42AE0>, <__main__.County object at 0x0000019094B43F20>, <__main__.County object at 0x0000019094B42DE0>, <__main__.County object at 0x0000019094B40C80>, <__main__.County object at 0x0000019094B43320>, <__main__.County object at 0x0000019094B43C80>], [<__main__.County object at 0x0000019094B41190>, <__main__.County object at 0x0000019094B427E0>, <__main__.County object at 0x0000019094B430B0>, <__main__.County object at 0x0000019094B42150>, <__main__.County object at 0x0000019094B43A70>, <__main__.County object at 0x0000019094B431A0>, <__main__.County object at 0x0000019094B41070>, <__main__.County object at 0x0000019094B42C60>, <__main__.County object at 0x0000019094B43350>, <__main__.County object at 0x0000019094B42B70>, <__main__.County object at 0x0000019094B425D0>, <__main__.County object at 0x0000019094B41E80>, <__main__.County object at 0x0000019094B43650>, <__main__.County object at 0x0000019094B40DD0>], [<__main__.County object at 0x0000019094B421E0>, <__main__.County object at 0x0000019094B413D0>, <__main__.County object at 0x0000019094B404A0>, <__main__.County object at 0x0000019094B40BC0>, <__main__.County object at 0x0000019094B43A10>, <__main__.County object at 0x0000019094B41010>, <__main__.County object at 0x0000019094B43F80>, <__main__.County object at 0x0000019094B40E00>, <__main__.County object at 0x0000019094B42D50>, <__main__.County object at 0x0000019094B40980>, <__main__.County object at 0x0000019094B43200>, <__main__.County object at 0x0000019094B411C0>, <__main__.County object at 0x0000019094B41160>, <__main__.County object at 0x0000019094B40EC0>], [<__main__.County object at 0x0000019094B41E50>, <__main__.County object at 0x0000019094B43E90>, <__main__.County object at 0x0000019094B412B0>, <__main__.County object at 0x0000019094B41310>, <__main__.County object at 0x0000019094B42930>, <__main__.County object at 0x0000019094B438F0>, <__main__.County object at 0x0000019094B41A60>, <__main__.County object at 0x0000019094B424B0>, <__main__.County object at 0x0000019094B41250>, <__main__.County object at 0x0000019094B42900>, <__main__.County object at 0x0000019094B43500>, <__main__.County object at 0x0000019094B42A20>, <__main__.County object at 0x0000019094B40CE0>, <__main__.County object at 0x0000019094B40830>], [<__main__.County object at 0x0000019094B425A0>, <__main__.County object at 0x0000019094B41850>, <__main__.County object at 0x0000019094B43620>, <__main__.County object at 0x0000019094B43890>, <__main__.County object at 0x0000019094B435C0>, <__main__.County object at 0x0000019094B416A0>, <__main__.County object at 0x0000019094B43860>, <__main__.County object at 0x0000019094B43CE0>, <__main__.County object at 0x0000019094B41CA0>, <__main__.County object at 0x0000019094B43B00>, <__main__.County object at 0x0000019094B42330>, <__main__.County object at 0x0000019094B42240>, <__main__.County object at 0x0000019094B41E20>, <__main__.County object at 0x0000019094B41EE0>]], [[<__main__.County object at 0x0000019096833E90>, <__main__.County object at 0x0000019096833D70>, <__main__.County object at 0x0000019096833EC0>, <__main__.County object at 0x0000019096833E30>, <__main__.County object at 0x0000019096833C50>, <__main__.County object at 0x0000019096833A40>, <__main__.County object at 0x0000019096833950>, <__main__.County object at 0x0000019096833F20>, <__main__.County object at 0x0000019096833BF0>, <__main__.County object at 0x0000019096833860>, <__main__.County object at 0x0000019096833B60>, <__main__.County object at 0x0000019096833530>, <__main__.County object at 0x0000019096833D10>, <__main__.County object at 0x000001909208FEC0>], [<__main__.County object at 0x0000019094B41130>, <__main__.County object at 0x000001909736F3B0>, <__main__.County object at 0x0000019094B436E0>, <__main__.County object at 0x00000190968689E0>, <__main__.County object at 0x000001909686A450>, <__main__.County object at 0x0000019096833710>, <__main__.County object at 0x00000190968687A0>, <__main__.County object at 0x00000190968336E0>, <__main__.County object at 0x0000019094B40A40>, <__main__.County object at 0x0000019094B43EF0>, <__main__.County object at 0x0000019094B42BA0>, <__main__.County object at 0x0000019094B438C0>, <__main__.County object at 0x0000019096831BB0>, <__main__.County object at 0x0000019094B41820>], [<__main__.County object at 0x0000019096833EF0>, <__main__.County object at 0x0000019096833DA0>, <__main__.County object at 0x0000019096833CE0>, <__main__.County object at 0x00000190968333E0>, <__main__.County object at 0x0000019096833F80>, <__main__.County object at 0x0000019096833E00>, <__main__.County object at 0x0000019096833D40>, <__main__.County object at 0x00000190968339E0>, <__main__.County object at 0x0000019096833440>, <__main__.County object at 0x000001909208F4A0>, <__main__.County object at 0x0000019096833FB0>, <__main__.County object at 0x0000019096833350>, <__main__.County object at 0x0000019096833AD0>, <__main__.County object at 0x0000019096833800>], [<__main__.County object at 0x000001909208EB70>, <__main__.County object at 0x000001909208F560>, <__main__.County object at 0x000001909208CEF0>, <__main__.County object at 0x000001909208C770>, <__main__.County object at 0x000001909208C4D0>, <__main__.County object at 0x000001909208D400>, <__main__.County object at 0x000001909208F740>, <__main__.County object at 0x000001909208D2E0>, <__main__.County object at 0x000001909208D5B0>, <__main__.County object at 0x000001909208D970>, <__main__.County object at 0x000001909208E7E0>, <__main__.County object at 0x000001909208C710>, <__main__.County object at 0x000001909208CCB0>, <__main__.County object at 0x000001909208FCE0>], [<__main__.County object at 0x0000019094B429C0>, <__main__.County object at 0x0000019094B41CD0>, <__main__.County object at 0x0000019094B42870>, <__main__.County object at 0x000001909686A480>, <__main__.County object at 0x0000019094B423F0>, <__main__.County object at 0x0000019094B43560>, <__main__.County object at 0x0000019094B417F0>, <__main__.County object at 0x00000190968300B0>, <__main__.County object at 0x0000019096833C20>, <__main__.County object at 0x0000019096833380>, <__main__.County object at 0x0000019096833DD0>, <__main__.County object at 0x0000019096833A70>, <__main__.County object at 0x00000190968334D0>, <__main__.County object at 0x0000019096833560>], [<__main__.County object at 0x0000019094B42450>, <__main__.County object at 0x0000019094B43BC0>, <__main__.County object at 0x0000019094B42CC0>, <__main__.County object at 0x000001909686A660>, <__main__.County object at 0x0000019094B437A0>, <__main__.County object at 0x0000019094B40E90>, <__main__.County object at 0x0000019094B41760>, <__main__.County object at 0x0000019094B43A40>, <__main__.County object at 0x0000019094B43740>, <__main__.County object at 0x0000019094B41AC0>, <__main__.County object at 0x0000019094B43BF0>, <__main__.County object at 0x0000019094B404D0>, <__main__.County object at 0x0000019094B40A70>, <__main__.County object at 0x0000019094B408C0>], [<__main__.County object at 0x000001909208F6B0>, <__main__.County object at 0x000001909208E840>, <__main__.County object at 0x0000019096833B30>, <__main__.County object at 0x000001909208D490>, <__main__.County object at 0x0000019096833410>, <__main__.County object at 0x000001909208D730>, <__main__.County object at 0x000001909208CD10>, <__main__.County object at 0x000001909208FD70>, <__main__.County object at 0x000001909208D190>, <__main__.County object at 0x000001909208CF50>, <__main__.County object at 0x000001909208E030>, <__main__.County object at 0x000001909208F8F0>, <__main__.County object at 0x000001909208DAC0>, <__main__.County object at 0x000001909208E720>], [<__main__.County object at 0x000001909208C0B0>, <__main__.County object at 0x000001909208C470>, <__main__.County object at 0x000001909208CCE0>, <__main__.County object at 0x000001909208DDC0>, <__main__.County object at 0x000001909208CA40>, <__main__.County object at 0x000001909208D340>, <__main__.County object at 0x000001909208EEA0>, <__main__.County object at 0x000001909208D9A0>, <__main__.County object at 0x000001909208C890>, <__main__.County object at 0x000001909208D1F0>, <__main__.County object at 0x000001909208F140>, <__main__.County object at 0x000001909208DBE0>, <__main__.County object at 0x000001909208F5C0>, <__main__.County object at 0x000001909208EC00>], [<__main__.County object at 0x0000019096833740>, <__main__.County object at 0x00000190968335C0>, <__main__.County object at 0x000001909686BE00>, <__main__.County object at 0x00000190968335F0>, <__main__.County object at 0x0000019096833A10>, <__main__.County object at 0x0000019096833500>, <__main__.County object at 0x00000190968334A0>, <__main__.County object at 0x0000019096833830>, <__main__.County object at 0x00000190968339B0>, <__main__.County object at 0x0000019096833320>, <__main__.County object at 0x0000019096833590>, <__main__.County object at 0x0000019094B43B60>, <__main__.County object at 0x0000019094B42480>, <__main__.County object at 0x0000019096833980>], [<__main__.County object at 0x0000019094B40CB0>, <__main__.County object at 0x0000019096833E60>, <__main__.County object at 0x0000019096833620>, <__main__.County object at 0x0000019096833BC0>, <__main__.County object at 0x0000019096833C80>, <__main__.County object at 0x00000190968332C0>, <__main__.County object at 0x00000190968337D0>, <__main__.County object at 0x00000190968333B0>, <__main__.County object at 0x000001909686A4B0>, <__main__.County object at 0x00000190968338C0>, <__main__.County object at 0x000001909208F5F0>, <__main__.County object at 0x000001909208E960>, <__main__.County object at 0x000001909208F050>, <__main__.County object at 0x000001909208C5C0>], [<__main__.County object at 0x000001909027CC20>, <__main__.County object at 0x0000019094B43950>, <__main__.County object at 0x0000019094B41DC0>, <__main__.County object at 0x0000019094B41940>, <__main__.County object at 0x0000019090EDF4A0>, <__main__.County object at 0x00000190988EA1B0>, <__main__.County object at 0x0000019094B253A0>, <__main__.County object at 0x0000019096833B00>, <__main__.County object at 0x0000019094B43590>, <__main__.County object at 0x0000019096833AA0>, <__main__.County object at 0x0000019096833890>, <__main__.County object at 0x00000190968332F0>, <__main__.County object at 0x0000019096833680>, <__main__.County object at 0x00000190968338F0>], [<__main__.County object at 0x0000019094B43D10>, <__main__.County object at 0x0000019094B41A30>, <__main__.County object at 0x000001909208EC30>, <__main__.County object at 0x000001909208F620>, <__main__.County object at 0x000001909208D5E0>, <__main__.County object at 0x000001909208CDD0>, <__main__.County object at 0x000001909208D370>, <__main__.County object at 0x000001909208DD90>, <__main__.County object at 0x000001909208DE80>, <__main__.County object at 0x000001909208DB50>, <__main__.County object at 0x000001909208CB60>, <__main__.County object at 0x000001909208E780>, <__main__.County object at 0x000001909208C080>, <__main__.County object at 0x000001909208C3B0>], [<__main__.County object at 0x0000019094B42C00>, <__main__.County object at 0x0000019096833FE0>, <__main__.County object at 0x000001909208FAA0>, <__main__.County object at 0x0000019096833F50>, <__main__.County object at 0x000001909208E510>, <__main__.County object at 0x000001909208E900>, <__main__.County object at 0x000001909208C050>, <__main__.County object at 0x000001909208C4A0>, <__main__.County object at 0x000001909686BE60>, <__main__.County object at 0x0000019096831940>, <__main__.County object at 0x0000019096833B90>, <__main__.County object at 0x0000019096833CB0>, <__main__.County object at 0x00000190968337A0>, <__main__.County object at 0x000001909208D4C0>], [<__main__.County object at 0x0000019094B42D80>, <__main__.County object at 0x0000019094B41C70>, <__main__.County object at 0x000001909686A510>, <__main__.County object at 0x0000019096833650>, <__main__.County object at 0x000001909686A540>, <__main__.County object at 0x000001909208D220>, <__main__.County object at 0x000001909208C9E0>, <__main__.County object at 0x000001909208D460>, <__main__.County object at 0x000001909208D0A0>, <__main__.County object at 0x0000019096868980>, <__main__.County object at 0x0000019096833770>, <__main__.County object at 0x0000019094B43D40>, <__main__.County object at 0x000001909208C320>, <__main__.County object at 0x000001909208DAF0>]], [[<__main__.County object at 0x000001909208CF80>, <__main__.County object at 0x000001909208EC60>, <__main__.County object at 0x000001909208F260>, <__main__.County object at 0x000001909208C9B0>, <__main__.County object at 0x000001909208F350>, <__main__.County object at 0x000001909208EF00>, <__main__.County object at 0x000001909208C3E0>, <__main__.County object at 0x000001909208C1A0>, <__main__.County object at 0x000001909208C8C0>, <__main__.County object at 0x000001909208FDD0>, <__main__.County object at 0x000001909208FB00>, <__main__.County object at 0x000001909208F8C0>, <__main__.County object at 0x000001909208D1C0>, <__main__.County object at 0x000001909208EED0>], [<__main__.County object at 0x000001909208F470>, <__main__.County object at 0x000001909208F9B0>, <__main__.County object at 0x000001909208F500>, <__main__.County object at 0x000001909208EE40>, <__main__.County object at 0x000001909208C740>, <__main__.County object at 0x000001909208FA40>, <__main__.County object at 0x000001909208E450>, <__main__.County object at 0x000001909208EA80>, <__main__.County object at 0x000001909208E9C0>, <__main__.County object at 0x000001909208F650>, <__main__.County object at 0x000001909208F3E0>, <__main__.County object at 0x000001909208E060>, <__main__.County object at 0x000001909208F680>, <__main__.County object at 0x000001909208FE60>], [<__main__.County object at 0x000001909208D640>, <__main__.County object at 0x000001909208CDA0>, <__main__.County object at 0x000001909208C350>, <__main__.County object at 0x000001909208C7D0>, <__main__.County object at 0x000001909208C500>, <__main__.County object at 0x000001909208C5F0>, <__main__.County object at 0x000001909208FCB0>, <__main__.County object at 0x000001909208CEC0>, <__main__.County object at 0x000001909208CF20>, <__main__.County object at 0x000001909208CC80>, <__main__.County object at 0x000001909208FE30>, <__main__.County object at 0x000001909208F320>, <__main__.County object at 0x000001909208D850>, <__main__.County object at 0x000001909208EFF0>], [<__main__.County object at 0x000001909208FB30>, <__main__.County object at 0x0000019094B42270>, <__main__.County object at 0x0000019094B41D60>, <__main__.County object at 0x000001909208FAD0>, <__main__.County object at 0x000001909208FE00>, <__main__.County object at 0x000001909208D070>, <__main__.County object at 0x000001909208FC80>, <__main__.County object at 0x000001909208D610>, <__main__.County object at 0x0000019093C3EBD0>, <__main__.County object at 0x000001909208FD40>, <__main__.County object at 0x000001909208C7A0>, <__main__.County object at 0x000001909208D310>, <__main__.County object at 0x000001909208F380>, <__main__.County object at 0x000001909208F770>], [<__main__.County object at 0x000001909208EB10>, <__main__.County object at 0x000001909208F4D0>, <__main__.County object at 0x000001909208C620>, <__main__.County object at 0x000001909208EDB0>, <__main__.County object at 0x000001909208FA10>, <__main__.County object at 0x000001909208E630>, <__main__.County object at 0x000001909208E9F0>, <__main__.County object at 0x000001909208F230>, <__main__.County object at 0x000001909208F710>, <__main__.County object at 0x000001909208F1A0>, <__main__.County object at 0x000001909208D430>, <__main__.County object at 0x000001909208CE00>, <__main__.County object at 0x000001909208EA50>, <__main__.County object at 0x000001909208EAE0>], [<__main__.County object at 0x000001909208E3F0>, <__main__.County object at 0x000001909208E8A0>, <__main__.County object at 0x000001909208D760>, <__main__.County object at 0x000001909208E1E0>, <__main__.County object at 0x000001909208D0D0>, <__main__.County object at 0x000001909208D3A0>, <__main__.County object at 0x000001909208D7F0>, <__main__.County object at 0x000001909208DFD0>, <__main__.County object at 0x000001909208DEE0>, <__main__.County object at 0x000001909208E390>, <__main__.County object at 0x000001909208DA30>, <__main__.County object at 0x000001909208D7C0>, <__main__.County object at 0x000001909208E000>, <__main__.County object at 0x000001909208E090>], [<__main__.County object at 0x000001909208E4E0>, <__main__.County object at 0x000001909208EF60>, <__main__.County object at 0x000001909208E4B0>, <__main__.County object at 0x000001909208ECF0>, <__main__.County object at 0x000001909208FE90>, <__main__.County object at 0x000001909208EDE0>, <__main__.County object at 0x000001909208E870>, <__main__.County object at 0x000001909208F800>, <__main__.County object at 0x000001909208E5A0>, <__main__.County object at 0x000001909208E540>, <__main__.County object at 0x000001909208E7B0>, <__main__.County object at 0x000001909208E750>, <__main__.County object at 0x000001909208E6F0>, <__main__.County object at 0x000001909208E5D0>], [<__main__.County object at 0x000001909208F200>, <__main__.County object at 0x000001909208FDA0>, <__main__.County object at 0x000001909208CC50>, <__main__.County object at 0x000001909208D940>, <__main__.County object at 0x000001909208FD10>, <__main__.County object at 0x000001909208CB30>, <__main__.County object at 0x000001909208C980>, <__main__.County object at 0x000001909208F290>, <__main__.County object at 0x000001909208FF20>, <__main__.County object at 0x000001909208F2F0>, <__main__.County object at 0x000001909208CC20>, <__main__.County object at 0x000001909208C530>, <__main__.County object at 0x000001909208F3B0>, <__main__.County object at 0x000001909208C380>], [<__main__.County object at 0x000001909208FBF0>, <__main__.County object at 0x000001909208F950>, <__main__.County object at 0x000001909208FC50>, <__main__.County object at 0x000001909208F410>, <__main__.County object at 0x000001909208E6C0>, <__main__.County object at 0x000001909208EFC0>, <__main__.County object at 0x000001909208F980>, <__main__.County object at 0x000001909208E810>, <__main__.County object at 0x000001909208FC20>, <__main__.County object at 0x000001909208F530>, <__main__.County object at 0x000001909208EAB0>, <__main__.County object at 0x000001909208F7D0>, <__main__.County object at 0x000001909208EB40>, <__main__.County object at 0x000001909208E600>], [<__main__.County object at 0x000001909208F890>, <__main__.County object at 0x000001909208C0E0>, <__main__.County object at 0x000001909208C6E0>, <__main__.County object at 0x000001909208FF80>, <__main__.County object at 0x000001909208C440>, <__main__.County object at 0x000001909208D880>, <__main__.County object at 0x000001909208EC90>, <__main__.County object at 0x000001909208DB20>, <__main__.County object at 0x000001909208F080>, <__main__.County object at 0x000001909208DC40>, <__main__.County object at 0x000001909208CB90>, <__main__.County object at 0x000001909208C680>, <__main__.County object at 0x000001909208CE30>, <__main__.County object at 0x000001909208E0F0>], [<__main__.County object at 0x000001909208EF30>, <__main__.County object at 0x000001909208C590>, <__main__.County object at 0x000001909208CB00>, <__main__.County object at 0x000001909208C830>, <__main__.County object at 0x000001909208F0E0>, <__main__.County object at 0x000001909208EF90>, <__main__.County object at 0x000001909208EA20>, <__main__.County object at 0x000001909208DA90>, <__main__.County object at 0x000001909208E990>, <__main__.County object at 0x000001909208CBC0>, <__main__.County object at 0x000001909208DD60>, <__main__.County object at 0x000001909208F6E0>, <__main__.County object at 0x000001909208DDF0>, <__main__.County object at 0x000001909208D790>], [<__main__.County object at 0x000001908F2ABB90>, <__main__.County object at 0x000001909208D6D0>, <__main__.County object at 0x000001909208D160>, <__main__.County object at 0x000001909208F9E0>, <__main__.County object at 0x000001909208ECC0>, <__main__.County object at 0x000001909208C260>, <__main__.County object at 0x000001909208C290>, <__main__.County object at 0x000001909208FBC0>, <__main__.County object at 0x000001909208ED50>, <__main__.County object at 0x000001909208E420>, <__main__.County object at 0x000001909208C560>, <__main__.County object at 0x000001909208E210>, <__main__.County object at 0x000001909208D520>, <__main__.County object at 0x000001909208E570>], [<__main__.County object at 0x000001909208F830>, <__main__.County object at 0x000001909208F0B0>, <__main__.County object at 0x000001909208F7A0>, <__main__.County object at 0x000001909208FA70>, <__main__.County object at 0x000001909208D8B0>, <__main__.County object at 0x000001909208C200>, <__main__.County object at 0x000001909208C2F0>, <__main__.County object at 0x000001909208E480>, <__main__.County object at 0x000001909208E8D0>, <__main__.County object at 0x000001909208ED20>, <__main__.County object at 0x000001909208E240>, <__main__.County object at 0x000001909208FB90>, <__main__.County object at 0x000001909208D130>, <__main__.County object at 0x000001909208E3C0>], [<__main__.County object at 0x000001909208EBA0>, <__main__.County object at 0x000001909208F920>, <__main__.County object at 0x000001909208D3D0>, <__main__.County object at 0x000001909208E120>, <__main__.County object at 0x000001909208CAA0>, <__main__.County object at 0x000001909208D100>, <__main__.County object at 0x000001909208EE10>, <__main__.County object at 0x000001909208D250>, <__main__.County object at 0x000001909208DCA0>, <__main__.County object at 0x000001909208F440>, <__main__.County object at 0x000001909208C860>, <__main__.County object at 0x000001909208E660>, <__main__.County object at 0x000001909208ED80>, <__main__.County object at 0x000001909208F020>]], [[<__main__.County object at 0x0000019093D2E870>, <__main__.County object at 0x0000019093D2E990>, <__main__.County object at 0x000001908C30F7A0>, <__main__.County object at 0x000001908C30CE60>, <__main__.County object at 0x000001909208C8F0>, <__main__.County object at 0x000001908C30C950>, <__main__.County object at 0x000001908C30CFE0>, <__main__.County object at 0x000001908C30ECC0>, <__main__.County object at 0x0000019093D2E840>, <__main__.County object at 0x0000019093D2E600>, <__main__.County object at 0x000001908C30DD60>, <__main__.County object at 0x000001908C30E9C0>, <__main__.County object at 0x000001908C30E180>, <__main__.County object at 0x000001908C30DC70>], [<__main__.County object at 0x000001909208E1B0>, <__main__.County object at 0x000001909208D280>, <__main__.County object at 0x000001909208DD30>, <__main__.County object at 0x000001909208C110>, <__main__.County object at 0x000001909208CFB0>, <__main__.County object at 0x000001909208DE20>, <__main__.County object at 0x000001909208D670>, <__main__.County object at 0x000001909208DF70>, <__main__.County object at 0x000001909208D4F0>, <__main__.County object at 0x000001909208C1D0>, <__main__.County object at 0x000001909208CE60>, <__main__.County object at 0x000001909208FF50>, <__main__.County object at 0x000001909208D910>, <__main__.County object at 0x000001909208CD40>], [<__main__.County object at 0x00000190929E93A0>, <__main__.County object at 0x000001908C30F800>, <__main__.County object at 0x000001908C30F860>, <__main__.County object at 0x000001908C30E660>, <__main__.County object at 0x00000190929E8BF0>, <__main__.County object at 0x00000190929E8710>, <__main__.County object at 0x00000190929EBBF0>, <__main__.County object at 0x00000190929E98E0>, <__main__.County object at 0x00000190929EA360>, <__main__.County object at 0x00000190929EBDD0>, <__main__.County object at 0x00000190929EBC20>, <__main__.County object at 0x00000190929E9280>, <__main__.County object at 0x000001908C30F260>, <__main__.County object at 0x00000190929E9910>], [<__main__.County object at 0x000001909208CAD0>, <__main__.County object at 0x000001909208DA00>, <__main__.County object at 0x000001909208DEB0>, <__main__.County object at 0x000001909208D8E0>, <__main__.County object at 0x000001909208C950>, <__main__.County object at 0x000001909208DF40>, <__main__.County object at 0x000001909208DA60>, <__main__.County object at 0x000001909208E2A0>, <__main__.County object at 0x000001909208E150>, <__main__.County object at 0x000001909208C140>, <__main__.County object at 0x000001909208F1D0>, <__main__.County object at 0x000001909208E270>, <__main__.County object at 0x000001909208CFE0>, <__main__.County object at 0x000001908C30CBF0>], [<__main__.County object at 0x00000190929E9A90>, <__main__.County object at 0x00000190929E9400>, <__main__.County object at 0x00000190929E9AC0>, <__main__.County object at 0x00000190929E8470>, <__main__.County object at 0x00000190929E8080>, <__main__.County object at 0x00000190929EAA80>, <__main__.County object at 0x00000190929E8350>, <__main__.County object at 0x00000190929EA8D0>, <__main__.County object at 0x00000190929E8B60>, <__main__.County object at 0x00000190929E89B0>, <__main__.County object at 0x00000190929E8680>, <__main__.County object at 0x00000190929E9C40>, <__main__.County object at 0x00000190929EA1E0>, <__main__.County object at 0x00000190929E9AF0>], [<__main__.County object at 0x000001909208FFE0>, <__main__.County object at 0x000001909208DBB0>, <__main__.County object at 0x000001909208E330>, <__main__.County object at 0x000001909208C650>, <__main__.County object at 0x000001909208D820>, <__main__.County object at 0x0000019093D2E5D0>, <__main__.County object at 0x000001909208DF10>, <__main__.County object at 0x00000190904D3E60>, <__main__.County object at 0x000001909208F2C0>, <__main__.County object at 0x000001909208E360>, <__main__.County object at 0x000001909208D580>, <__main__.County object at 0x000001909208D040>, <__main__.County object at 0x000001908C30E090>, <__main__.County object at 0x000001908C30E6F0>], [<__main__.County object at 0x000001908C30D280>, <__main__.County object at 0x000001908C30F9B0>, <__main__.County object at 0x000001908C30CDD0>, <__main__.County object at 0x000001908C30F380>, <__main__.County object at 0x000001908C30F560>, <__main__.County object at 0x000001908C30F8C0>, <__main__.County object at 0x000001908C30D550>, <__main__.County object at 0x000001908C30C6E0>, <__main__.County object at 0x000001908C30E8A0>, <__main__.County object at 0x00000190929E8AD0>, <__main__.County object at 0x000001908C30E750>, <__main__.County object at 0x00000190929EBB00>, <__main__.County object at 0x00000190929E8A70>, <__main__.County object at 0x000001908C30FC20>], [<__main__.County object at 0x000001909208DE50>, <__main__.County object at 0x000001909208DD00>, <__main__.County object at 0x000001909208E300>, <__main__.County object at 0x000001909208E2D0>, <__main__.County object at 0x000001909208DB80>, <__main__.County object at 0x000001909208CA70>, <__main__.County object at 0x000001908C30D250>, <__main__.County object at 0x000001908C30F3B0>, <__main__.County object at 0x000001908C30DA00>, <__main__.County object at 0x000001909208D2B0>, <__main__.County object at 0x000001909208FEF0>, <__main__.County object at 0x000001909208C6B0>, <__main__.County object at 0x000001909208DC70>, <__main__.County object at 0x000001909208DCD0>], [<__main__.County object at 0x00000190929E92B0>, <__main__.County object at 0x00000190929EAFC0>, <__main__.County object at 0x00000190929EBDA0>, <__main__.County object at 0x00000190929E83E0>, <__main__.County object at 0x00000190929E8530>, <__main__.County object at 0x00000190929E8770>, <__main__.County object at 0x000001908C30C890>, <__main__.County object at 0x00000190929E8D40>, <__main__.County object at 0x000001908C30F1A0>, <__main__.County object at 0x000001908C30DD30>, <__main__.County object at 0x000001908C30D1C0>, <__main__.County object at 0x00000190929E99D0>, <__main__.County object at 0x00000190929EBAA0>, <__main__.County object at 0x00000190929EBF80>], [<__main__.County object at 0x000001909208E180>, <__main__.County object at 0x00000190929E83B0>, <__main__.County object at 0x00000190929E9340>, <__main__.County object at 0x00000190929E85F0>, <__main__.County object at 0x00000190929EB380>, <__main__.County object at 0x00000190929EBCE0>, <__main__.County object at 0x00000190929EB890>, <__main__.County object at 0x00000190929EACF0>, <__main__.County object at 0x00000190929EB440>, <__main__.County object at 0x00000190929EA0C0>, <__main__.County object at 0x00000190929E85C0>, <__main__.County object at 0x00000190929E8050>, <__main__.County object at 0x00000190929E8830>, <__main__.County object at 0x000001908C30FE60>], [<__main__.County object at 0x00000190929E81D0>, <__main__.County object at 0x00000190929EAA20>, <__main__.County object at 0x00000190929E9E80>, <__main__.County object at 0x00000190929E9E50>, <__main__.County object at 0x00000190929E8440>, <__main__.County object at 0x00000190929EACC0>, <__main__.County object at 0x00000190929E8170>, <__main__.County object at 0x00000190929EA900>, <__main__.County object at 0x00000190929EAA50>, <__main__.County object at 0x00000190929EB650>, <__main__.County object at 0x00000190929EA600>, <__main__.County object at 0x00000190929EA630>, <__main__.County object at 0x00000190929E9EB0>, <__main__.County object at 0x00000190929EBFE0>], [<__main__.County object at 0x00000190929E93D0>, <__main__.County object at 0x00000190929E9010>, <__main__.County object at 0x00000190929E8C80>, <__main__.County object at 0x00000190929E9370>, <__main__.County object at 0x00000190929E9DC0>, <__main__.County object at 0x00000190929E8E90>, <__main__.County object at 0x00000190929EA4B0>, <__main__.County object at 0x00000190929EAF30>, <__main__.County object at 0x00000190929E9D90>, <__main__.County object at 0x00000190929E8CB0>, <__main__.County object at 0x00000190929EB8C0>, <__main__.County object at 0x00000190929E9220>, <__main__.County object at 0x00000190929EBF20>, <__main__.County object at 0x00000190929E8F80>], [<__main__.County object at 0x000001908C30E990>, <__main__.County object at 0x000001908C30ECF0>, <__main__.County object at 0x000001908C30C500>, <__main__.County object at 0x000001908C30DCD0>, <__main__.County object at 0x000001908C30F200>, <__main__.County object at 0x000001908C30E690>, <__main__.County object at 0x000001908C30D0D0>, <__main__.County object at 0x000001908C30F680>, <__main__.County object at 0x000001908C30D5B0>, <__main__.County object at 0x000001908C30D310>, <__main__.County object at 0x000001908C30EB40>, <__main__.County object at 0x000001908C30E870>, <__main__.County object at 0x000001909208F590>, <__main__.County object at 0x000001909208CBF0>], [<__main__.County object at 0x000001909208D9D0>, <__main__.County object at 0x000001908C30D2B0>, <__main__.County object at 0x000001908C30E7B0>, <__main__.County object at 0x000001908C30E780>, <__main__.County object at 0x000001908C30DB80>, <__main__.County object at 0x000001908C30C980>, <__main__.County object at 0x000001908C30C650>, <__main__.County object at 0x00000190929E86B0>, <__main__.County object at 0x00000190929EB470>, <__main__.County object at 0x000001909208C230>, <__main__.County object at 0x00000190929E8BC0>, <__main__.County object at 0x000001909208E0C0>, <__main__.County object at 0x00000190929E9310>, <__main__.County object at 0x00000190929EA7B0>]], [[<__main__.County object at 0x00000190929E87D0>, <__main__.County object at 0x00000190929E8FB0>, <__main__.County object at 0x00000190929E9520>, <__main__.County object at 0x00000190929EB860>, <__main__.County object at 0x00000190929E84D0>, <__main__.County object at 0x00000190929E9190>, <__main__.County object at 0x00000190929EBE30>, <__main__.County object at 0x00000190929EB7D0>, <__main__.County object at 0x00000190929EB4A0>, <__main__.County object at 0x00000190929E8B90>, <__main__.County object at 0x00000190929E9130>, <__main__.County object at 0x00000190929E9820>, <__main__.County object at 0x00000190929EB740>, <__main__.County object at 0x00000190929E90D0>], [<__main__.County object at 0x00000190929EA000>, <__main__.County object at 0x00000190929E86E0>, <__main__.County object at 0x0000019092B22780>, <__main__.County object at 0x0000019092B23E90>, <__main__.County object at 0x0000019092B21DC0>, <__main__.County object at 0x0000019090F84C20>, <__main__.County object at 0x0000019090F84FE0>, <__main__.County object at 0x0000019090F86030>, <__main__.County object at 0x0000019090F87620>, <__main__.County object at 0x0000019090A39AF0>, <__main__.County object at 0x0000019090A39220>, <__main__.County object at 0x0000019090A396D0>, <__main__.County object at 0x0000019090A39430>, <__main__.County object at 0x0000019090A39D60>], [<__main__.County object at 0x00000190929EB950>, <__main__.County object at 0x00000190929EBFB0>, <__main__.County object at 0x00000190929EB350>, <__main__.County object at 0x00000190929EB500>, <__main__.County object at 0x00000190929E8110>, <__main__.County object at 0x00000190929EBA70>, <__main__.County object at 0x00000190929EBD10>, <__main__.County object at 0x00000190929E9640>, <__main__.County object at 0x00000190929EBE60>, <__main__.County object at 0x00000190929EB980>, <__main__.County object at 0x00000190929EA5A0>, <__main__.County object at 0x00000190929EBBC0>, <__main__.County object at 0x00000190929EAD20>, <__main__.County object at 0x00000190929EB290>], [<__main__.County object at 0x00000190929E8890>, <__main__.County object at 0x0000019092B225A0>, <__main__.County object at 0x0000019090F841A0>, <__main__.County object at 0x00000190929EA5D0>, <__main__.County object at 0x00000190929EAD50>, <__main__.County object at 0x00000190929EB320>, <__main__.County object at 0x00000190929EB2F0>, <__main__.County object at 0x00000190929EAFF0>, <__main__.County object at 0x000001908C18C9E0>, <__main__.County object at 0x000001908C279EB0>, <__main__.County object at 0x0000019090A3AA80>, <__main__.County object at 0x0000019090A39970>, <__main__.County object at 0x00000190929EB710>, <__main__.County object at 0x00000190929EB9B0>], [<__main__.County object at 0x00000190929EB200>, <__main__.County object at 0x00000190929EB260>, <__main__.County object at 0x00000190929EBCB0>, <__main__.County object at 0x00000190929EBF50>, <__main__.County object at 0x00000190929E91F0>, <__main__.County object at 0x00000190929EB7A0>, <__main__.County object at 0x00000190929EB2C0>, <__main__.County object at 0x00000190929EB020>, <__main__.County object at 0x00000190929EB560>, <__main__.County object at 0x00000190929EB5F0>, <__main__.County object at 0x00000190929E8EC0>, <__main__.County object at 0x00000190929E8140>, <__main__.County object at 0x00000190929EB4D0>, <__main__.County object at 0x00000190929E9C10>], [<__main__.County object at 0x00000190929EB590>, <__main__.County object at 0x00000190929EAB10>, <__main__.County object at 0x00000190929EBE90>, <__main__.County object at 0x00000190929EA300>, <__main__.County object at 0x00000190929E9D60>, <__main__.County object at 0x00000190929EB530>, <__main__.County object at 0x00000190929EBD40>, <__main__.County object at 0x00000190929EB9E0>, <__main__.County object at 0x00000190929EA570>, <__main__.County object at 0x00000190929EAAE0>, <__main__.County object at 0x00000190929EB6E0>, <__main__.County object at 0x00000190929EA060>, <__main__.County object at 0x00000190929EB0B0>, <__main__.County object at 0x00000190929EA7E0>], [<__main__.County object at 0x00000190929EAAB0>, <__main__.County object at 0x00000190929EAB70>, <__main__.County object at 0x00000190929EAB40>, <__main__.County object at 0x00000190929EAE10>, <__main__.County object at 0x00000190929EB080>, <__main__.County object at 0x00000190929EB230>, <__main__.County object at 0x00000190929EA810>, <__main__.County object at 0x00000190929EBEC0>, <__main__.County object at 0x00000190929EB770>, <__main__.County object at 0x00000190929EBEF0>, <__main__.County object at 0x00000190929EA840>, <__main__.County object at 0x00000190929EB5C0>, <__main__.County object at 0x00000190929E9040>, <__main__.County object at 0x00000190929EAD80>], [<__main__.County object at 0x00000190929EA0F0>, <__main__.County object at 0x0000019092B22120>, <__main__.County object at 0x00000190929EA3C0>, <__main__.County object at 0x0000019092B22090>, <__main__.County object at 0x00000190929EADE0>, <__main__.County object at 0x00000190929EA390>, <__main__.County object at 0x00000190929E9B50>, <__main__.County object at 0x0000019092B21F40>, <__main__.County object at 0x0000019092B21D90>, <__main__.County object at 0x00000190929EA870>, <__main__.County object at 0x00000190929EAE40>, <__main__.County object at 0x0000019090F87710>, <__main__.County object at 0x00000190929EA330>, <__main__.County object at 0x0000019090F87650>], [<__main__.County object at 0x00000190929EBA10>, <__main__.County object at 0x0000019094B439E0>, <__main__.County object at 0x0000019090A396A0>, <__main__.County object at 0x0000019090A38E60>, <__main__.County object at 0x0000019090A38EC0>, <__main__.County object at 0x0000019090A39670>, <__main__.County object at 0x0000019090A38140>, <__main__.County object at 0x0000019090A3B410>, <__main__.County object at 0x0000019090A3B830>, <__main__.County object at 0x0000019090A39700>, <__main__.County object at 0x0000019090A3AD80>, <__main__.County object at 0x0000019090A3A930>, <__main__.County object at 0x0000019090A3BB00>, <__main__.County object at 0x0000019090A3BAA0>], [<__main__.County object at 0x00000190929E9C70>, <__main__.County object at 0x00000190929E8230>, <__main__.County object at 0x00000190929E8320>, <__main__.County object at 0x00000190929E9250>, <__main__.County object at 0x00000190929E8C50>, <__main__.County object at 0x00000190929E8950>, <__main__.County object at 0x00000190929E91C0>, <__main__.County object at 0x00000190929EB8F0>, <__main__.County object at 0x00000190929EB920>, <__main__.County object at 0x00000190929EB3E0>, <__main__.County object at 0x00000190929EADB0>, <__main__.County object at 0x00000190929E9FA0>, <__main__.County object at 0x00000190929EABA0>, <__main__.County object at 0x00000190929EA8A0>], [<__main__.County object at 0x00000190929E87A0>, <__main__.County object at 0x00000190929EB0E0>, <__main__.County object at 0x0000019090A39010>, <__main__.County object at 0x0000019090A39490>, <__main__.County object at 0x0000019090A39910>, <__main__.County object at 0x0000019090A39940>, <__main__.County object at 0x0000019090A39640>, <__main__.County object at 0x0000019090A395E0>, <__main__.County object at 0x0000019090A39B20>, <__main__.County object at 0x0000019090F845C0>, <__main__.County object at 0x0000019090F84380>, <__main__.County object at 0x0000019090A398B0>, <__main__.County object at 0x0000019090A39BB0>, <__main__.County object at 0x0000019090F84CE0>], [<__main__.County object at 0x0000019090A39280>, <__main__.County object at 0x0000019090F85220>, <__main__.County object at 0x0000019090F879E0>, <__main__.County object at 0x0000019090A391F0>, <__main__.County object at 0x0000019090F847A0>, <__main__.County object at 0x0000019090A398E0>, <__main__.County object at 0x0000019090A39DC0>, <__main__.County object at 0x0000019090A3ACF0>, <__main__.County object at 0x0000019090F84D70>, <__main__.County object at 0x0000019092B22360>, <__main__.County object at 0x0000019090A394C0>, <__main__.County object at 0x0000019090A3B6B0>, <__main__.County object at 0x0000019090A3A990>, <__main__.County object at 0x0000019090A39460>], [<__main__.County object at 0x00000190929EBB60>, <__main__.County object at 0x00000190929EBC80>, <__main__.County object at 0x00000190929EB050>, <__main__.County object at 0x00000190929E9F40>, <__main__.County object at 0x00000190929EAF90>, <__main__.County object at 0x00000190929EB800>, <__main__.County object at 0x00000190929EBB90>, <__main__.County object at 0x0000019090A38F80>, <__main__.County object at 0x0000019090A3A9F0>, <__main__.County object at 0x0000019090F87AD0>, <__main__.County object at 0x0000019090A3B020>, <__main__.County object at 0x0000019090A39B80>, <__main__.County object at 0x0000019090F845F0>, <__main__.County object at 0x0000019092B23D70>], [<__main__.County object at 0x00000190929EA660>, <__main__.County object at 0x0000019090F84CB0>, <__main__.County object at 0x0000019092B22390>, <__main__.County object at 0x0000019090A39250>, <__main__.County object at 0x0000019090A3BD10>, <__main__.County object at 0x0000019090A3A8D0>, <__main__.County object at 0x0000019090A39B50>, <__main__.County object at 0x0000019090A38260>, <__main__.County object at 0x0000019090A394F0>, <__main__.County object at 0x0000019090F86570>, <__main__.County object at 0x0000019090F85010>, <__main__.County object at 0x0000019090F84800>, <__main__.County object at 0x0000019090F87410>, <__main__.County object at 0x0000019090A3BEF0>]], [[<__main__.County object at 0x0000019090A3AB70>, <__main__.County object at 0x0000019090A39EE0>, <__main__.County object at 0x0000019090A39550>, <__main__.County object at 0x0000019090A390A0>, <__main__.County object at 0x0000019090A3A120>, <__main__.County object at 0x0000019090A3ABA0>, <__main__.County object at 0x0000019090A391C0>, <__main__.County object at 0x0000019090A39580>, <__main__.County object at 0x0000019090A3A6F0>, <__main__.County object at 0x0000019090A3B470>, <__main__.County object at 0x0000019090A3B650>, <__main__.County object at 0x0000019090A3ABD0>, <__main__.County object at 0x0000019090A3BCB0>, <__main__.County object at 0x0000019090A3BF80>], [<__main__.County object at 0x0000019090A382F0>, <__main__.County object at 0x0000019090A3B7A0>, <__main__.County object at 0x0000019090A3B860>, <__main__.County object at 0x0000019090A3BF20>, <__main__.County object at 0x0000019090A3BAD0>, <__main__.County object at 0x0000019090A3ADB0>, <__main__.County object at 0x0000019090A3A630>, <__main__.County object at 0x0000019090A39340>, <__main__.County object at 0x0000019090A38860>, <__main__.County object at 0x0000019090A3B2C0>, <__main__.County object at 0x0000019090A3B740>, <__main__.County object at 0x0000019090A3A690>, <__main__.County object at 0x0000019090A3A5A0>, <__main__.County object at 0x0000019090A3B350>], [<__main__.County object at 0x0000019090A3B200>, <__main__.County object at 0x0000019090A3B620>, <__main__.County object at 0x0000019090A3A210>, <__main__.County object at 0x0000019090A38EF0>, <__main__.County object at 0x0000019090A38AA0>, <__main__.County object at 0x0000019090A3A0C0>, <__main__.County object at 0x0000019090A39FD0>, <__main__.County object at 0x0000019090A38AD0>, <__main__.County object at 0x0000019090A38B60>, <__main__.County object at 0x0000019090A3A900>, <__main__.County object at 0x0000019090A3A9C0>, <__main__.County object at 0x0000019090A3A570>, <__main__.County object at 0x0000019090A38F50>, <__main__.County object at 0x0000019090A3A0F0>], [<__main__.County object at 0x0000019090A38D10>, <__main__.County object at 0x0000019090A3A5D0>, <__main__.County object at 0x0000019090A3BB30>, <__main__.County object at 0x0000019090A380B0>, <__main__.County object at 0x0000019090A385C0>, <__main__.County object at 0x0000019090A3BF50>, <__main__.County object at 0x000001909208D700>, <__main__.County object at 0x0000019090A387D0>, <__main__.County object at 0x0000019090A3B8F0>, <__main__.County object at 0x000001908A7BCA10>, <__main__.County object at 0x0000019090A3B890>, <__main__.County object at 0x0000019090A3B1A0>, <__main__.County object at 0x0000019090A38710>, <__main__.County object at 0x0000019090A39400>], [<__main__.County object at 0x0000019090A3A1E0>, <__main__.County object at 0x0000019090A393D0>, <__main__.County object at 0x0000019090A38CE0>, <__main__.County object at 0x0000019090A38D70>, <__main__.County object at 0x0000019090A3A330>, <__main__.County object at 0x0000019090A3A420>, <__main__.County object at 0x0000019090A38BC0>, <__main__.County object at 0x0000019090A3A720>, <__main__.County object at 0x0000019090A39730>, <__main__.County object at 0x0000019090A3A030>, <__main__.County object at 0x0000019090A3A1B0>, <__main__.County object at 0x0000019090A3A450>, <__main__.County object at 0x0000019090A3B290>, <__main__.County object at 0x0000019090A38E00>], [<__main__.County object at 0x0000019090A39D90>, <__main__.County object at 0x0000019090A39D30>, <__main__.County object at 0x0000019090A3A4E0>, <__main__.County object at 0x0000019090A38BF0>, <__main__.County object at 0x0000019090A395B0>, <__main__.County object at 0x0000019090A393A0>, <__main__.County object at 0x0000019090A3A060>, <__main__.County object at 0x0000019090A3A150>, <__main__.County object at 0x0000019090A38B00>, <__main__.County object at 0x0000019090A39FA0>, <__main__.County object at 0x0000019090A3AB10>, <__main__.County object at 0x0000019090A3AE40>, <__main__.County object at 0x0000019090A3B230>, <__main__.County object at 0x0000019090A38B90>], [<__main__.County object at 0x0000019090A3A390>, <__main__.County object at 0x0000019090A38DA0>, <__main__.County object at 0x0000019090A3A8A0>, <__main__.County object at 0x0000019090A39E50>, <__main__.County object at 0x0000019090A39E20>, <__main__.County object at 0x0000019090A3A4B0>, <__main__.County object at 0x0000019090A3A2D0>, <__main__.County object at 0x0000019090A3B6E0>, <__main__.County object at 0x0000019090A3AF90>, <__main__.County object at 0x0000019090A397F0>, <__main__.County object at 0x0000019090A39850>, <__main__.County object at 0x0000019090A39880>, <__main__.County object at 0x0000019090A39F10>, <__main__.County object at 0x0000019090A39C40>], [<__main__.County object at 0x0000019090A3BD40>, <__main__.County object at 0x0000019090A3AE10>, <__main__.County object at 0x0000019090A3AD50>, <__main__.County object at 0x0000019090A3B440>, <__main__.County object at 0x0000019090A3B5F0>, <__main__.County object at 0x0000019090A39A90>, <__main__.County object at 0x0000019090A3B170>, <__main__.County object at 0x0000019090A3A360>, <__main__.County object at 0x0000019090A39100>, <__main__.County object at 0x0000019090A3AA50>, <__main__.County object at 0x0000019090A3A540>, <__main__.County object at 0x0000019090A3A480>, <__main__.County object at 0x0000019090A399D0>, <__main__.County object at 0x0000019090A3AC30>], [<__main__.County object at 0x0000019090A39760>, <__main__.County object at 0x0000019090A39310>, <__main__.County object at 0x0000019090A39370>, <__main__.County object at 0x0000019090A38C50>, <__main__.County object at 0x0000019090A399A0>, <__main__.County object at 0x0000019090A39790>, <__main__.County object at 0x0000019090A3B920>, <__main__.County object at 0x0000019090A38F20>, <__main__.County object at 0x0000019090A3A780>, <__main__.County object at 0x0000019090A38CB0>, <__main__.County object at 0x0000019090A3BCE0>, <__main__.County object at 0x0000019090A3B8C0>, <__main__.County object at 0x0000019090A3A600>, <__main__.County object at 0x0000019090A3A960>], [<__main__.County object at 0x0000019090A39BE0>, <__main__.County object at 0x0000019090A38FB0>, <__main__.County object at 0x0000019090A3AC00>, <__main__.County object at 0x0000019090A3A000>, <__main__.County object at 0x0000019090A3A660>, <__main__.County object at 0x0000019090A39CA0>, <__main__.County object at 0x0000019090A39040>, <__main__.County object at 0x0000019090A3AF30>, <__main__.County object at 0x0000019090A3B050>, <__main__.County object at 0x0000019090A3A3C0>, <__main__.County object at 0x0000019090A3AA20>, <__main__.County object at 0x0000019090A397C0>, <__main__.County object at 0x0000019090A3A3F0>, <__main__.County object at 0x0000019090A3A240>], [<__main__.County object at 0x0000019090A385F0>, <__main__.County object at 0x0000019090A38320>, <__main__.County object at 0x0000019090A3AED0>, <__main__.County object at 0x0000019090A3AFF0>, <__main__.County object at 0x0000019090A3A810>, <__main__.County object at 0x0000019090A3A7B0>, <__main__.County object at 0x0000019090A3B1D0>, <__main__.County object at 0x0000019090A3AF60>, <__main__.County object at 0x0000019090A3AD20>, <__main__.County object at 0x0000019090A3AAB0>, <__main__.County object at 0x0000019090A3ADE0>, <__main__.County object at 0x0000019090A3B950>, <__main__.County object at 0x0000019090A3B680>, <__main__.County object at 0x0000019090A39160>], [<__main__.County object at 0x0000019090A3BA70>, <__main__.County object at 0x0000019090A3AAE0>, <__main__.County object at 0x0000019090A39CD0>, <__main__.County object at 0x0000019090A38D40>, <__main__.County object at 0x0000019090A39520>, <__main__.County object at 0x0000019090A38A70>, <__main__.County object at 0x0000019090A38E90>, <__main__.County object at 0x0000019090A39A00>, <__main__.County object at 0x0000019090A39F70>, <__main__.County object at 0x0000019090A39D00>, <__main__.County object at 0x0000019090A3A270>, <__main__.County object at 0x0000019090A3A870>, <__main__.County object at 0x0000019090A39A30>, <__main__.County object at 0x0000019090A39070>], [<__main__.County object at 0x0000019090A38FE0>, <__main__.County object at 0x0000019090A392B0>, <__main__.County object at 0x0000019090A39820>, <__main__.County object at 0x0000019090A39AC0>, <__main__.County object at 0x0000019090A38B30>, <__main__.County object at 0x0000019090A3B3B0>, <__main__.County object at 0x0000019090A3BB60>, <__main__.County object at 0x0000019090A3AFC0>, <__main__.County object at 0x0000019090A3A840>, <__main__.County object at 0x0000019090A39C10>, <__main__.County object at 0x0000019090A38E30>, <__main__.County object at 0x0000019090A3A300>, <__main__.County object at 0x0000019090A392E0>, <__main__.County object at 0x0000019090A39190>], [<__main__.County object at 0x0000019090A390D0>, <__main__.County object at 0x0000019090A3B3E0>, <__main__.County object at 0x0000019090A3BE90>, <__main__.County object at 0x0000019090A3B770>, <__main__.County object at 0x0000019090A3B500>, <__main__.County object at 0x0000019090A3B080>, <__main__.County object at 0x0000019090A39DF0>, <__main__.County object at 0x0000019090A3AB40>, <__main__.County object at 0x0000019090A39EB0>, <__main__.County object at 0x0000019090A39610>, <__main__.County object at 0x0000019090A38080>, <__main__.County object at 0x0000019090A3B530>, <__main__.County object at 0x0000019090A3A180>, <__main__.County object at 0x0000019090A38590>]], [[<__main__.County object at 0x0000019090A388F0>, <__main__.County object at 0x0000019090A381D0>, <__main__.County object at 0x0000019090A38A40>, <__main__.County object at 0x0000019090A3BE60>, <__main__.County object at 0x0000019090A383E0>, <__main__.County object at 0x0000019090A3B0B0>, <__main__.County object at 0x0000019095DEEE10>, <__main__.County object at 0x0000019090A3BBF0>, <__main__.County object at 0x0000019090A38830>, <__main__.County object at 0x0000019095DEE7B0>, <__main__.County object at 0x0000019090A38950>, <__main__.County object at 0x0000019090A38980>, <__main__.County object at 0x0000019090A3B7D0>, <__main__.County object at 0x0000019090A384A0>], [<__main__.County object at 0x0000019090A3A510>, <__main__.County object at 0x0000019090A39F40>, <__main__.County object at 0x0000019090A38050>, <__main__.County object at 0x0000019090A3B980>, <__main__.County object at 0x0000019090A38170>, <__main__.County object at 0x0000019090A3B9E0>, <__main__.County object at 0x0000019090A388C0>, <__main__.County object at 0x0000019090A38800>, <__main__.County object at 0x0000019090A3BFE0>, <__main__.County object at 0x0000019090A3AE70>, <__main__.County object at 0x0000019090A3A2A0>, <__main__.County object at 0x0000019090A3AEA0>, <__main__.County object at 0x0000019090A386B0>, <__main__.County object at 0x0000019090A38290>], [<__main__.County object at 0x0000019090A38200>, <__main__.County object at 0x0000019090A3A7E0>, <__main__.County object at 0x0000019095DECB90>, <__main__.County object at 0x0000019090A38650>, <__main__.County object at 0x0000019090A3BC20>, <__main__.County object at 0x0000019095DEEB10>, <__main__.County object at 0x0000019095DEEB70>, <__main__.County object at 0x0000019095DEDC40>, <__main__.County object at 0x0000019090A3BC80>, <__main__.County object at 0x0000019095DEF800>, <__main__.County object at 0x0000019090A38530>, <__main__.County object at 0x0000019090A38920>, <__main__.County object at 0x0000019090A380E0>, <__main__.County object at 0x0000019090A3B5C0>], [<__main__.County object at 0x0000019090A3BB90>, <__main__.County object at 0x0000019090A38680>, <__main__.County object at 0x0000019090A3B710>, <__main__.County object at 0x0000019090A38470>, <__main__.County object at 0x0000019095DEF1A0>, <__main__.County object at 0x0000019095DEF980>, <__main__.County object at 0x0000019095DEFBF0>, <__main__.County object at 0x0000019095DEF950>, <__main__.County object at 0x0000019095DEF3E0>, <__main__.County object at 0x0000019095DEEF60>, <__main__.County object at 0x0000019095DEF8C0>, <__main__.County object at 0x0000019095DEF6E0>, <__main__.County object at 0x0000019095DEEA50>, <__main__.County object at 0x0000019095DEF0B0>], [<__main__.County object at 0x0000019095DED4F0>, <__main__.County object at 0x0000019095DEF5C0>, <__main__.County object at 0x0000019090A38410>, <__main__.County object at 0x0000019090A3BD70>, <__main__.County object at 0x0000019090A3AC60>, <__main__.County object at 0x0000019090A38620>, <__main__.County object at 0x0000019090A38890>, <__main__.County object at 0x0000019090A383B0>, <__main__.County object at 0x0000019090A3B560>, <__main__.County object at 0x0000019090A387A0>, <__main__.County object at 0x0000019090A38770>, <__main__.County object at 0x0000019090A3AC90>, <__main__.County object at 0x0000019090A38110>, <__main__.County object at 0x0000019090A38230>], [<__main__.County object at 0x0000019090A3B110>, <__main__.County object at 0x0000019090A3B4A0>, <__main__.County object at 0x0000019090A3A6C0>, <__main__.County object at 0x0000019090A39130>, <__main__.County object at 0x0000019090A38350>, <__main__.County object at 0x0000019090A39E80>, <__main__.County object at 0x0000019090A3ACC0>, <__main__.County object at 0x0000019090A3A090>, <__main__.County object at 0x0000019090A38C80>, <__main__.County object at 0x0000019090A38440>, <__main__.County object at 0x0000019090A382C0>, <__main__.County object at 0x0000019090A3BDA0>, <__main__.County object at 0x0000019090A381A0>, <__main__.County object at 0x0000019090A3BE30>], [<__main__.County object at 0x0000019095DD6EA0>, <__main__.County object at 0x0000019095DD7380>, <__main__.County object at 0x0000019095DD6810>, <__main__.County object at 0x0000019095DD6AE0>, <__main__.County object at 0x0000019095DD6CC0>, <__main__.County object at 0x0000019095D03D40>, <__main__.County object at 0x0000019095DD6AB0>, <__main__.County object at 0x0000019095DD6870>, <__main__.County object at 0x0000019095DD7530>, <__main__.County object at 0x0000019095DD71D0>, <__main__.County object at 0x0000019095DD77A0>, <__main__.County object at 0x0000019095DD7470>, <__main__.County object at 0x0000019095DD6FC0>, <__main__.County object at 0x0000019095DD7230>], [<__main__.County object at 0x0000019095DEE930>, <__main__.County object at 0x0000019095DEF6B0>, <__main__.County object at 0x0000019095DEF380>, <__main__.County object at 0x0000019095DEECF0>, <__main__.County object at 0x0000019090A389B0>, <__main__.County object at 0x0000019095DEEAB0>, <__main__.County object at 0x0000019095DEF140>, <__main__.County object at 0x0000019095DEF1D0>, <__main__.County object at 0x0000019095DEFBC0>, <__main__.County object at 0x0000019095DEF9E0>, <__main__.County object at 0x0000019095DEEED0>, <__main__.County object at 0x0000019095DEF8F0>, <__main__.County object at 0x0000019095DEEC30>, <__main__.County object at 0x0000019095DEEC90>], [<__main__.County object at 0x000001908C3DF050>, <__main__.County object at 0x0000019095DED280>, <__main__.County object at 0x0000019095DED7C0>, <__main__.County object at 0x0000019090A3B590>, <__main__.County object at 0x0000019090A3BBC0>, <__main__.County object at 0x0000019095DECBF0>, <__main__.County object at 0x0000019095DEDAC0>, <__main__.County object at 0x0000019095DEF0E0>, <__main__.County object at 0x0000019095DD6E70>, <__main__.County object at 0x0000019095DD6C00>, <__main__.County object at 0x0000019095DD6840>, <__main__.County object at 0x0000019095DD7680>, <__main__.County object at 0x0000019095DD4B60>, <__main__.County object at 0x0000019095DD68A0>], [<__main__.County object at 0x0000019090A3BC50>, <__main__.County object at 0x0000019090A3B320>, <__main__.County object at 0x0000019090A3B4D0>, <__main__.County object at 0x0000019090A38560>, <__main__.County object at 0x0000019095DEEF00>, <__main__.County object at 0x0000019095DEEEA0>, <__main__.County object at 0x0000019095DEF920>, <__main__.County object at 0x0000019095DEF110>, <__main__.County object at 0x0000019095DEEC60>, <__main__.County object at 0x0000019095DEF560>, <__main__.County object at 0x0000019095DEF890>, <__main__.County object at 0x0000019095DEF3B0>, <__main__.County object at 0x0000019095DEEF30>, <__main__.County object at 0x0000019095DEF350>], [<__main__.County object at 0x0000019095DEF680>, <__main__.County object at 0x0000019095DEECC0>, <__main__.County object at 0x0000019095DEF170>, <__main__.County object at 0x0000019095D03830>, <__main__.County object at 0x0000019095DEEF90>, <__main__.County object at 0x0000019095DEFB60>, <__main__.County object at 0x0000019095DEEAE0>, <__main__.County object at 0x0000019090A3B9B0>, <__main__.County object at 0x0000019095DEE8D0>, <__main__.County object at 0x0000019095DEFB30>, <__main__.County object at 0x0000019095DED790>, <__main__.County object at 0x0000019095D03AD0>, <__main__.County object at 0x0000019095D00680>, <__main__.County object at 0x0000019095DD7500>], [<__main__.County object at 0x0000019090A3AF00>, <__main__.County object at 0x0000019090A386E0>, <__main__.County object at 0x0000019090A3BEC0>, <__main__.County object at 0x0000019090A38500>, <__main__.County object at 0x0000019090A389E0>, <__main__.County object at 0x0000019090A38A10>, <__main__.County object at 0x0000019090A38740>, <__main__.County object at 0x0000019090A384D0>, <__main__.County object at 0x0000019090A3BFB0>, <__main__.County object at 0x0000019090A3BA40>, <__main__.County object at 0x0000019095DD6A20>, <__main__.County object at 0x0000019095DD7950>, <__main__.County object at 0x0000019095DD6C30>, <__main__.County object at 0x0000019095DD7B30>], [<__main__.County object at 0x0000019090A3BA10>, <__main__.County object at 0x0000019095DED9D0>, <__main__.County object at 0x0000019095DEE9F0>, <__main__.County object at 0x0000019095DEF650>, <__main__.County object at 0x0000019095DEE780>, <__main__.County object at 0x0000019095DD6930>, <__main__.County object at 0x0000019095DD69C0>, <__main__.County object at 0x0000019095DD7E30>, <__main__.County object at 0x0000019095DEFB90>, <__main__.County object at 0x0000019095DEF620>, <__main__.County object at 0x0000019095DD70E0>, <__main__.County object at 0x0000019095DD6A50>, <__main__.County object at 0x0000019095DD7110>, <__main__.County object at 0x0000019095DEEE70>], [<__main__.County object at 0x0000019095D01A60>, <__main__.County object at 0x0000019095DD7BC0>, <__main__.County object at 0x0000019095DD6E40>, <__main__.County object at 0x0000019095DD6C60>, <__main__.County object at 0x0000019095DEE9C0>, <__main__.County object at 0x0000019095DEF710>, <__main__.County object at 0x0000019095DEF5F0>, <__main__.County object at 0x0000019095DD7980>, <__main__.County object at 0x0000019095DD7770>, <__main__.County object at 0x0000019095DD78C0>, <__main__.County object at 0x0000019095DD7650>, <__main__.County object at 0x0000019095DEDA00>, <__main__.County object at 0x0000019090A3B2F0>, <__main__.County object at 0x0000019090A39C70>]], [[<__main__.County object at 0x0000019095DD6B70>, <__main__.County object at 0x0000019095DD7B90>, <__main__.County object at 0x0000019095DD7080>, <__main__.County object at 0x0000019095DD7860>, <__main__.County object at 0x0000019095DD7C50>, <__main__.County object at 0x00000190949DC530>, <__main__.County object at 0x00000190949DC290>, <__main__.County object at 0x0000019095DD7A10>, <__main__.County object at 0x0000019095DD6CF0>, <__main__.County object at 0x0000019095DD7560>, <__main__.County object at 0x00000190949DC4A0>, <__main__.County object at 0x0000019095DD78F0>, <__main__.County object at 0x0000019095DD7F20>, <__main__.County object at 0x0000019095DD6F00>], [<__main__.County object at 0x00000190949DC200>, <__main__.County object at 0x00000190949DC710>, <__main__.County object at 0x00000190949DC170>, <__main__.County object at 0x00000190949DC1A0>, <__main__.County object at 0x0000019095DD76B0>, <__main__.County object at 0x0000019095DD6D50>, <__main__.County object at 0x00000190949DC5F0>, <__main__.County object at 0x00000190949DC380>, <__main__.County object at 0x0000019094172960>, <__main__.County object at 0x0000019094171490>, <__main__.County object at 0x00000190941731D0>, <__main__.County object at 0x0000019095DD4C20>, <__main__.County object at 0x0000019094172840>, <__main__.County object at 0x0000019094173CE0>], [<__main__.County object at 0x0000019095DD6A80>, <__main__.County object at 0x0000019095DD7320>, <__main__.County object at 0x0000019095DD7DD0>, <__main__.County object at 0x0000019095DD7830>, <__main__.County object at 0x0000019095DD7620>, <__main__.County object at 0x0000019095DD7A40>, <__main__.County object at 0x0000019095DD7590>, <__main__.County object at 0x0000019095DD7B00>, <__main__.County object at 0x0000019095DD7C80>, <__main__.County object at 0x0000019095DD72C0>, <__main__.County object at 0x0000019095DD71A0>, <__main__.County object at 0x0000019095DD7E00>, <__main__.County object at 0x0000019095DD7920>, <__main__.County object at 0x0000019095DD7B60>], [<__main__.County object at 0x00000190941707A0>, <__main__.County object at 0x0000019094172150>, <__main__.County object at 0x0000019094170440>, <__main__.County object at 0x00000190941711C0>, <__main__.County object at 0x0000019094172F00>, <__main__.County object at 0x0000019094170680>, <__main__.County object at 0x0000019094170770>, <__main__.County object at 0x0000019094172C60>, <__main__.County object at 0x0000019094170E30>, <__main__.County object at 0x0000019094172390>, <__main__.County object at 0x0000019094173AA0>, <__main__.County object at 0x0000019094173230>, <__main__.County object at 0x00000190941712B0>, <__main__.County object at 0x0000019094173950>], [<__main__.County object at 0x00000190949DC0E0>, <__main__.County object at 0x00000190949DC230>, <__main__.County object at 0x00000190949DC770>, <__main__.County object at 0x00000190949DC2F0>, <__main__.County object at 0x00000190949DC560>, <__main__.County object at 0x0000019096954B00>, <__main__.County object at 0x00000190949DC680>, <__main__.County object at 0x00000190949DC410>, <__main__.County object at 0x00000190949DC0B0>, <__main__.County object at 0x0000019094172D20>, <__main__.County object at 0x00000190941721B0>, <__main__.County object at 0x0000019092EEFD10>, <__main__.County object at 0x00000190949DC6B0>, <__main__.County object at 0x00000190941714C0>], [<__main__.County object at 0x0000019094172240>, <__main__.County object at 0x0000019094170E90>, <__main__.County object at 0x0000019094170EC0>, <__main__.County object at 0x0000019094170CE0>, <__main__.County object at 0x0000019094171B20>, <__main__.County object at 0x0000019094173EC0>, <__main__.County object at 0x00000190949DC3B0>, <__main__.County object at 0x00000190941738F0>, <__main__.County object at 0x0000019094171970>, <__main__.County object at 0x0000019094171550>, <__main__.County object at 0x0000019094173E60>, <__main__.County object at 0x0000019094173890>, <__main__.County object at 0x0000019094171430>, <__main__.County object at 0x00000190941720F0>], [<__main__.County object at 0x0000019094173290>, <__main__.County object at 0x00000190949DC5C0>, <__main__.County object at 0x00000190949DC6E0>, <__main__.County object at 0x00000190949DC350>, <__main__.County object at 0x00000190949DC320>, <__main__.County object at 0x00000190949DC440>, <__main__.County object at 0x00000190949DC110>, <__main__.County object at 0x0000019094172E70>, <__main__.County object at 0x0000019094173C20>, <__main__.County object at 0x0000019094173050>, <__main__.County object at 0x0000019094171BE0>, <__main__.County object at 0x00000190941725A0>, <__main__.County object at 0x0000019095DD6C90>, <__main__.County object at 0x00000190941705F0>], [<__main__.County object at 0x00000190949DC500>, <__main__.County object at 0x00000190949DC080>, <__main__.County object at 0x00000190949DCBC0>, <__main__.County object at 0x00000190949DC590>, <__main__.County object at 0x0000019094171310>, <__main__.County object at 0x00000190949DC620>, <__main__.County object at 0x00000190949DC7A0>, <__main__.County object at 0x00000190941701D0>, <__main__.County object at 0x0000019094170380>, <__main__.County object at 0x00000190941713A0>, <__main__.County object at 0x0000019094171010>, <__main__.County object at 0x0000019094170A10>, <__main__.County object at 0x0000019094170DD0>, <__main__.County object at 0x0000019094170890>], [<__main__.County object at 0x000001909208D550>, <__main__.County object at 0x0000019095DD6DE0>, <__main__.County object at 0x0000019095DD7CB0>, <__main__.County object at 0x0000019095DD7D10>, <__main__.County object at 0x00000190988E9670>, <__main__.County object at 0x0000019095DD6B40>, <__main__.County object at 0x0000019095DD6B10>, <__main__.County object at 0x0000019095DD7FB0>, <__main__.County object at 0x0000019095DD7A70>, <__main__.County object at 0x0000019095DD6E10>, <__main__.County object at 0x0000019095DD72F0>, <__main__.County object at 0x0000019095DD6D80>, <__main__.County object at 0x0000019095DD6ED0>, <__main__.County object at 0x0000019095DD6F90>], [<__main__.County object at 0x0000019095DD6990>, <__main__.County object at 0x0000019095DD7D70>, <__main__.County object at 0x0000019095DD7AD0>, <__main__.County object at 0x0000019095DD4BF0>, <__main__.County object at 0x00000190949DC260>, <__main__.County object at 0x0000019095DD6BA0>, <__main__.County object at 0x00000190949DC4D0>, <__main__.County object at 0x00000190949DC740>, <__main__.County object at 0x00000190949DC050>, <__main__.County object at 0x00000190949DC2C0>, <__main__.County object at 0x00000190949DC3E0>, <__main__.County object at 0x00000190949DC470>, <__main__.County object at 0x0000019095DD75F0>, <__main__.County object at 0x0000019095DD7FE0>], [<__main__.County object at 0x0000019095DD7C20>, <__main__.County object at 0x0000019095DD7EC0>, <__main__.County object at 0x00000190949DC140>, <__main__.County object at 0x0000019095DD7E90>, <__main__.County object at 0x0000019095DD73B0>, <__main__.County object at 0x0000019095DD7F50>, <__main__.County object at 0x0000019095DD75C0>, <__main__.County object at 0x0000019095DD7EF0>, <__main__.County object at 0x00000190941710D0>, <__main__.County object at 0x0000019094170C20>, <__main__.County object at 0x0000019094170FB0>, <__main__.County object at 0x0000019094172060>, <__main__.County object at 0x0000019094170AD0>, <__main__.County object at 0x0000019095DD7140>], [<__main__.County object at 0x0000019095DD7DA0>, <__main__.County object at 0x0000019095DD7200>, <__main__.County object at 0x00000190941716D0>, <__main__.County object at 0x0000019094170EF0>, <__main__.County object at 0x00000190941733E0>, <__main__.County object at 0x0000019094173770>, <__main__.County object at 0x00000190949DEFF0>, <__main__.County object at 0x0000019094173BC0>, <__main__.County object at 0x0000019094173DA0>, <__main__.County object at 0x00000190941709B0>, <__main__.County object at 0x0000019094172690>, <__main__.County object at 0x00000190941702C0>, <__main__.County object at 0x0000019094170560>, <__main__.County object at 0x00000190941727B0>], [<__main__.County object at 0x0000019095DD70B0>, <__main__.County object at 0x0000019095DD7D40>, <__main__.County object at 0x0000019095DD7AA0>, <__main__.County object at 0x0000019095DD7CE0>, <__main__.County object at 0x0000019095DD6F60>, <__main__.County object at 0x0000019095DD7F80>, <__main__.County object at 0x0000019095DD7800>, <__main__.County object at 0x00000190949DCC50>, <__main__.County object at 0x00000190949DC1D0>, <__main__.County object at 0x00000190949DC650>, <__main__.County object at 0x0000019095DD7890>, <__main__.County object at 0x00000190941722A0>, <__main__.County object at 0x00000190941712E0>, <__main__.County object at 0x00000190941737A0>], [<__main__.County object at 0x0000019094172C90>, <__main__.County object at 0x0000019094173410>, <__main__.County object at 0x0000019094172EA0>, <__main__.County object at 0x0000019094171370>, <__main__.County object at 0x0000019094170530>, <__main__.County object at 0x0000019094171100>, <__main__.County object at 0x00000190941724E0>, <__main__.County object at 0x0000019094172270>, <__main__.County object at 0x00000190941718B0>, <__main__.County object at 0x0000019094173860>, <__main__.County object at 0x0000019094170500>, <__main__.County object at 0x0000019094170620>, <__main__.County object at 0x0000019094172660>, <__main__.County object at 0x0000019095DD67E0>]], [[<__main__.County object at 0x0000019094170740>, <__main__.County object at 0x0000019094173680>, <__main__.County object at 0x0000019094173E90>, <__main__.County object at 0x0000019094170590>, <__main__.County object at 0x0000019094170080>, <__main__.County object at 0x0000019094170050>, <__main__.County object at 0x0000019094170170>, <__main__.County object at 0x0000019094170D40>, <__main__.County object at 0x00000190941713D0>, <__main__.County object at 0x0000019094172180>, <__main__.County object at 0x0000019094170E00>, <__main__.County object at 0x0000019094171AF0>, <__main__.County object at 0x0000019094170BF0>, <__main__.County object at 0x0000019094170290>], [<__main__.County object at 0x0000019093F8B020>, <__main__.County object at 0x0000019093F8A630>, <__main__.County object at 0x0000019093F8BA70>, <__main__.County object at 0x0000019093F8B590>, <__main__.County object at 0x0000019093F8B0B0>, <__main__.County object at 0x0000019093F8B890>, <__main__.County object at 0x0000019093F8B4D0>, <__main__.County object at 0x0000019093F8A990>, <__main__.County object at 0x0000019093F8BA10>, <__main__.County object at 0x0000019093F8B440>, <__main__.County object at 0x0000019093F8B470>, <__main__.County object at 0x0000019093F8B4A0>, <__main__.County object at 0x0000019093F8B5F0>, <__main__.County object at 0x0000019093F89850>], [<__main__.County object at 0x000001908A79E120>, <__main__.County object at 0x00000190941718E0>, <__main__.County object at 0x0000019094172DB0>, <__main__.County object at 0x00000190941703B0>, <__main__.County object at 0x0000019094173CB0>, <__main__.County object at 0x000001908A79F290>, <__main__.County object at 0x0000019094173110>, <__main__.County object at 0x00000190941704A0>, <__main__.County object at 0x0000019093F897F0>, <__main__.County object at 0x0000019093F89C70>, <__main__.County object at 0x0000019093F8AEA0>, <__main__.County object at 0x0000019094173980>, <__main__.County object at 0x0000019094170920>, <__main__.County object at 0x00000190941738C0>], [<__main__.County object at 0x0000019094173350>, <__main__.County object at 0x0000019094171340>, <__main__.County object at 0x0000019094170B60>, <__main__.County object at 0x000001908A79DD60>, <__main__.County object at 0x0000019095096C00>, <__main__.County object at 0x0000019094172810>, <__main__.County object at 0x0000019094170DA0>, <__main__.County object at 0x00000190941715E0>, <__main__.County object at 0x0000019094173B60>, <__main__.County object at 0x0000019094172CC0>, <__main__.County object at 0x0000019094173E30>, <__main__.County object at 0x0000019094172210>, <__main__.County object at 0x0000019094173740>, <__main__.County object at 0x0000019094173A40>], [<__main__.County object at 0x0000019093F89A60>, <__main__.County object at 0x0000019093F8BB00>, <__main__.County object at 0x0000019093F8B8C0>, <__main__.County object at 0x0000019093F8AFC0>, <__main__.County object at 0x0000019093F8A9F0>, <__main__.County object at 0x0000019093F89A90>, <__main__.County object at 0x0000019093F8AF90>, <__main__.County object at 0x0000019093F8B7D0>, <__main__.County object at 0x0000019093F8B050>, <__main__.County object at 0x0000019093F8A1B0>, <__main__.County object at 0x0000019093F89640>, <__main__.County object at 0x0000019093F8AE70>, <__main__.County object at 0x0000019093F8B380>, <__main__.County object at 0x0000019095096A80>], [<__main__.County object at 0x0000019094171070>, <__main__.County object at 0x0000019094170230>, <__main__.County object at 0x0000019094172030>, <__main__.County object at 0x0000019094172480>, <__main__.County object at 0x00000190929E8E00>, <__main__.County object at 0x0000019094170CB0>, <__main__.County object at 0x0000019094171880>, <__main__.County object at 0x0000019094172870>, <__main__.County object at 0x0000019093F8ADB0>, <__main__.County object at 0x0000019093F8B830>, <__main__.County object at 0x0000019093F896D0>, <__main__.County object at 0x0000019093F8BF80>, <__main__.County object at 0x0000019093F89C40>, <__main__.County object at 0x0000019093F8BD70>], [<__main__.County object at 0x0000019095096AB0>, <__main__.County object at 0x0000019095096B70>, <__main__.County object at 0x00000190941736E0>, <__main__.County object at 0x00000190941709E0>, <__main__.County object at 0x0000019093F8A570>, <__main__.County object at 0x0000019094172B70>, <__main__.County object at 0x00000190941700E0>, <__main__.County object at 0x0000019094173D70>, <__main__.County object at 0x0000019094171400>, <__main__.County object at 0x0000019094173DD0>, <__main__.County object at 0x0000019094170950>, <__main__.County object at 0x0000019094170350>, <__main__.County object at 0x0000019094171760>, <__main__.County object at 0x0000019094173590>], [<__main__.County object at 0x00000190941703E0>, <__main__.County object at 0x00000190941734A0>, <__main__.County object at 0x0000019094170AA0>, <__main__.County object at 0x0000019094173260>, <__main__.County object at 0x000001908A79C320>, <__main__.County object at 0x0000019093F89700>, <__main__.County object at 0x0000019093F8B0E0>, <__main__.County object at 0x0000019093F8ABD0>, <__main__.County object at 0x0000019093F89F40>, <__main__.County object at 0x0000019093F8AED0>, <__main__.County object at 0x0000019093F8AC30>, <__main__.County object at 0x0000019093F8A090>, <__main__.County object at 0x0000019093F8BC80>, <__main__.County object at 0x0000019093F8A030>], [<__main__.County object at 0x0000019094172C30>, <__main__.County object at 0x0000019094170B30>, <__main__.County object at 0x0000019094171280>, <__main__.County object at 0x0000019094171460>, <__main__.County object at 0x0000019094171820>, <__main__.County object at 0x0000019093F8BCB0>, <__main__.County object at 0x0000019093F8B110>, <__main__.County object at 0x0000019093F8ACC0>, <__main__.County object at 0x0000019093F8A720>, <__main__.County object at 0x0000019093F8AFF0>, <__main__.County object at 0x0000019093F8A960>, <__main__.County object at 0x0000019093F8BF20>, <__main__.County object at 0x0000019093F89E50>, <__main__.County object at 0x0000019093F8BD10>], [<__main__.County object at 0x0000019094170650>, <__main__.County object at 0x0000019094173C50>, <__main__.County object at 0x0000019094172ED0>, <__main__.County object at 0x00000190941702F0>, <__main__.County object at 0x0000019093F8AC60>, <__main__.County object at 0x0000019093F8BE60>, <__main__.County object at 0x0000019093F8B650>, <__main__.County object at 0x0000019093F8BEF0>, <__main__.County object at 0x0000019093F8ABA0>, <__main__.County object at 0x0000019093F899A0>, <__main__.County object at 0x0000019093F8A2D0>, <__main__.County object at 0x0000019093F8BF50>, <__main__.County object at 0x0000019093F8A0C0>, <__main__.County object at 0x0000019093F8BE90>], [<__main__.County object at 0x0000019093F8B3B0>, <__main__.County object at 0x0000019093F8B1D0>, <__main__.County object at 0x0000019093F8B8F0>, <__main__.County object at 0x0000019093F8A510>, <__main__.County object at 0x0000019093F8ADE0>, <__main__.County object at 0x0000019093F8B3E0>, <__main__.County object at 0x0000019093F8B800>, <__main__.County object at 0x0000019093F89940>, <__main__.County object at 0x0000019093F89F70>, <__main__.County object at 0x0000019094170710>, <__main__.County object at 0x00000190941707D0>, <__main__.County object at 0x0000019093F8B710>, <__main__.County object at 0x0000019093F8BC20>, <__main__.County object at 0x0000019093F8A300>], [<__main__.County object at 0x00000190941710A0>, <__main__.County object at 0x0000019094171130>, <__main__.County object at 0x0000019094170860>, <__main__.County object at 0x0000019094170800>, <__main__.County object at 0x0000019094172AE0>, <__main__.County object at 0x0000019094172780>, <__main__.County object at 0x0000019094172E10>, <__main__.County object at 0x0000019093F8B350>, <__main__.County object at 0x0000019093F8A540>, <__main__.County object at 0x0000019093F8B080>, <__main__.County object at 0x0000019093F8BA40>, <__main__.County object at 0x0000019093F8BEC0>, <__main__.County object at 0x0000019093F8AF60>, <__main__.County object at 0x0000019093F8AF00>], [<__main__.County object at 0x0000019093F8AC00>, <__main__.County object at 0x0000019093F8AA80>, <__main__.County object at 0x0000019093F8A780>, <__main__.County object at 0x0000019093F89E20>, <__main__.County object at 0x0000019093F8B290>, <__main__.County object at 0x0000019093F89C10>, <__main__.County object at 0x0000019093F8B5C0>, <__main__.County object at 0x0000019093F8A330>, <__main__.County object at 0x0000019093F8A9C0>, <__main__.County object at 0x0000019093F8B860>, <__main__.County object at 0x0000019093F89610>, <__main__.County object at 0x0000019093F8A2A0>, <__main__.County object at 0x0000019093F8AE10>, <__main__.County object at 0x0000019093F8B140>], [<__main__.County object at 0x00000190941708C0>, <__main__.County object at 0x0000019094171790>, <__main__.County object at 0x0000019093F8B320>, <__main__.County object at 0x000001908A79C170>, <__main__.County object at 0x0000019093F8AE40>, <__main__.County object at 0x0000019095096BA0>, <__main__.County object at 0x0000019093F8B260>, <__main__.County object at 0x0000019093F88D10>, <__main__.County object at 0x0000019093F8A060>, <__main__.County object at 0x0000019093F8A750>, <__main__.County object at 0x0000019093F895E0>, <__main__.County object at 0x0000019093F88890>, <__main__.County object at 0x0000019093F8BC50>, <__main__.County object at 0x0000019093F89760>]], [[<__main__.County object at 0x0000019093F8B410>, <__main__.County object at 0x0000019093F88FB0>, <__main__.County object at 0x0000019093F88D70>, <__main__.County object at 0x0000019093F8B530>, <__main__.County object at 0x00000190929E8650>, <__main__.County object at 0x0000019090F095E0>, <__main__.County object at 0x0000019097EE9B80>, <__main__.County object at 0x000001909842D670>, <__main__.County object at 0x000001908EF7FBF0>, <__main__.County object at 0x0000019093F88230>, <__main__.County object at 0x0000019093F8B1A0>, <__main__.County object at 0x0000019093F884D0>, <__main__.County object at 0x0000019093F88FE0>, <__main__.County object at 0x0000019093F88290>], [<__main__.County object at 0x0000019093F88DD0>, <__main__.County object at 0x0000019093F883E0>, <__main__.County object at 0x0000019093F884A0>, <__main__.County object at 0x0000019093F886E0>, <__main__.County object at 0x0000019093F881A0>, <__main__.County object at 0x0000019093F89220>, <__main__.County object at 0x0000019093F8B740>, <__main__.County object at 0x0000019093F8B9B0>, <__main__.County object at 0x0000019093F882C0>, <__main__.County object at 0x0000019093F88440>, <__main__.County object at 0x0000019093F88140>, <__main__.County object at 0x0000019093F88AD0>, <__main__.County object at 0x0000019093F8B2C0>, <__main__.County object at 0x0000019093F891F0>], [<__main__.County object at 0x0000019093F89FA0>, <__main__.County object at 0x0000019093F8AAB0>, <__main__.County object at 0x0000019093F89F10>, <__main__.County object at 0x0000019093F899D0>, <__main__.County object at 0x0000019093F89100>, <__main__.County object at 0x0000019093F88EC0>, <__main__.County object at 0x0000019093F89520>, <__main__.County object at 0x0000019093F88C80>, <__main__.County object at 0x0000019093F88320>, <__main__.County object at 0x0000019093F88E90>, <__main__.County object at 0x0000019093F89400>, <__main__.County object at 0x0000019093F88CE0>, <__main__.County object at 0x0000019093F88B90>, <__main__.County object at 0x0000019093F8A360>], [<__main__.County object at 0x0000019093F880B0>, <__main__.County object at 0x0000019093F88CB0>, <__main__.County object at 0x0000019093F88410>, <__main__.County object at 0x0000019093F88830>, <__main__.County object at 0x0000019093F88E30>, <__main__.County object at 0x0000019093F88A10>, <__main__.County object at 0x0000019093F88590>, <__main__.County object at 0x0000019093F88860>, <__main__.County object at 0x0000019093F89190>, <__main__.County object at 0x0000019093F880E0>, <__main__.County object at 0x0000019093F88A40>, <__main__.County object at 0x0000019093F88710>, <__main__.County object at 0x0000019093F885C0>, <__main__.County object at 0x0000019093F88200>], [<__main__.County object at 0x0000019093F89BE0>, <__main__.County object at 0x0000019093F8AA20>, <__main__.County object at 0x0000019093F89D90>, <__main__.County object at 0x0000019093F8AB40>, <__main__.County object at 0x0000019093F89D30>, <__main__.County object at 0x0000019093F8AC90>, <__main__.County object at 0x0000019093F8A690>, <__main__.County object at 0x0000019093F893D0>, <__main__.County object at 0x0000019093F889E0>, <__main__.County object at 0x0000019093F88F80>, <__main__.County object at 0x0000019093F892E0>, <__main__.County object at 0x0000019093F88770>, <__main__.County object at 0x0000019093F8A600>, <__main__.County object at 0x0000019093F89FD0>], [<__main__.County object at 0x0000019093F88080>, <__main__.County object at 0x0000019093F8B6B0>, <__main__.County object at 0x0000019093F882F0>, <__main__.County object at 0x0000019093F88530>, <__main__.County object at 0x0000019093F88AA0>, <__main__.County object at 0x0000019093F888F0>, <__main__.County object at 0x0000019093F88470>, <__main__.County object at 0x0000019093F89460>, <__main__.County object at 0x0000019093F88350>, <__main__.County object at 0x0000019093F88500>, <__main__.County object at 0x0000019093F88560>, <__main__.County object at 0x0000019093F881D0>, <__main__.County object at 0x0000019093F88380>, <__main__.County object at 0x0000019093F88EF0>], [<__main__.County object at 0x0000019093F8B170>, <__main__.County object at 0x0000019093F88B60>, <__main__.County object at 0x0000019093F88DA0>, <__main__.County object at 0x0000019093F89430>, <__main__.County object at 0x0000019093F88920>, <__main__.County object at 0x0000019093F886B0>, <__main__.County object at 0x0000019093F88B00>, <__main__.County object at 0x0000019093F88D40>, <__main__.County object at 0x0000019093F89280>, <__main__.County object at 0x0000019093F89490>, <__main__.County object at 0x0000019093F88800>, <__main__.County object at 0x0000019093F89130>, <__main__.County object at 0x0000019093F88680>, <__main__.County object at 0x0000019093F890A0>], [<__main__.County object at 0x0000019093F8AA50>, <__main__.County object at 0x0000019093F8A840>, <__main__.County object at 0x0000019093F89880>, <__main__.County object at 0x0000019093F8A7E0>, <__main__.County object at 0x0000019093F89CA0>, <__main__.County object at 0x0000019093F89B80>, <__main__.County object at 0x0000019093F8A480>, <__main__.County object at 0x0000019093F8AB10>, <__main__.County object at 0x0000019093F8A240>, <__main__.County object at 0x0000019093F8A120>, <__main__.County object at 0x0000019093F89970>, <__main__.County object at 0x0000019093F89A30>, <__main__.County object at 0x0000019093F89B20>, <__main__.County object at 0x0000019093F8ACF0>], [<__main__.County object at 0x0000019093F88110>, <__main__.County object at 0x0000019093F88650>, <__main__.County object at 0x0000019093F8A930>, <__main__.County object at 0x0000019093F897C0>, <__main__.County object at 0x0000019093F89790>, <__main__.County object at 0x0000019093F8A8A0>, <__main__.County object at 0x0000019093F893A0>, <__main__.County object at 0x0000019093F8AD20>, <__main__.County object at 0x0000019093F8A8D0>, <__main__.County object at 0x0000019093F8A450>, <__main__.County object at 0x0000019093F8A000>, <__main__.County object at 0x0000019093F89AF0>, <__main__.County object at 0x0000019093F898B0>, <__main__.County object at 0x0000019093F88E60>], [<__main__.County object at 0x0000019093F89160>, <__main__.County object at 0x0000019093F8B6E0>, <__main__.County object at 0x0000019093F895B0>, <__main__.County object at 0x0000019093F89D00>, <__main__.County object at 0x0000019093F8A4E0>, <__main__.County object at 0x0000019093F89E80>, <__main__.County object at 0x0000019093F8A3C0>, <__main__.County object at 0x0000019093F883B0>, <__main__.County object at 0x0000019093F885F0>, <__main__.County object at 0x0000019093F89820>, <__main__.County object at 0x0000019093F8A150>, <__main__.County object at 0x0000019093F8A660>, <__main__.County object at 0x0000019093F89EE0>, <__main__.County object at 0x0000019093F8A870>], [<__main__.County object at 0x0000019093F88F50>, <__main__.County object at 0x0000019093F88C50>, <__main__.County object at 0x0000019093F887D0>, <__main__.County object at 0x0000019093F8B9E0>, <__main__.County object at 0x0000019093F8A900>, <__main__.County object at 0x0000019093F8A1E0>, <__main__.County object at 0x0000019093F89B50>, <__main__.County object at 0x0000019093F890D0>, <__main__.County object at 0x0000019093F8A6F0>, <__main__.County object at 0x0000019093F89BB0>, <__main__.County object at 0x0000019093F8AD50>, <__main__.County object at 0x0000019093F8A4B0>, <__main__.County object at 0x0000019093F8AAE0>, <__main__.County object at 0x0000019093F89670>], [<__main__.County object at 0x0000019093F88260>, <__main__.County object at 0x0000019093F88F20>, <__main__.County object at 0x0000019093F8BB30>, <__main__.County object at 0x0000019093F8A3F0>, <__main__.County object at 0x0000019093F8AD80>, <__main__.County object at 0x0000019093F89DC0>, <__main__.County object at 0x0000019093F8A5D0>, <__main__.County object at 0x0000019093F8A420>, <__main__.County object at 0x0000019093F89AC0>, <__main__.County object at 0x0000019093F89CD0>, <__main__.County object at 0x0000019093F89EB0>, <__main__.County object at 0x0000019093F8A5A0>, <__main__.County object at 0x0000019093F8A0F0>, <__main__.County object at 0x0000019093F8A810>], [<__main__.County object at 0x0000019093F89070>, <__main__.County object at 0x0000019093F88A70>, <__main__.County object at 0x0000019093F89910>, <__main__.County object at 0x0000019093F8A270>, <__main__.County object at 0x0000019093F8A210>, <__main__.County object at 0x0000019093F88C20>, <__main__.County object at 0x0000019093F89010>, <__main__.County object at 0x0000019093F89A00>, <__main__.County object at 0x0000019093F89D60>, <__main__.County object at 0x0000019093F8A390>, <__main__.County object at 0x0000019093F8AF30>, <__main__.County object at 0x0000019093F8A7B0>, <__main__.County object at 0x0000019093F8AB70>, <__main__.County object at 0x0000019093F8A6C0>], [<__main__.County object at 0x0000019093F88B30>, <__main__.County object at 0x0000019093F891C0>, <__main__.County object at 0x0000019093F887A0>, <__main__.County object at 0x0000019093F88620>, <__main__.County object at 0x0000019093F8A180>, <__main__.County object at 0x0000019093F898E0>, <__main__.County object at 0x0000019093F88170>, <__main__.County object at 0x0000019093F89DF0>, <__main__.County object at 0x0000019093F88740>, <__main__.County object at 0x0000019093F888C0>, <__main__.County object at 0x0000019093F8B620>, <__main__.County object at 0x0000019093F8BFB0>, <__main__.County object at 0x0000019093F896A0>, <__main__.County object at 0x0000019093F8B200>]]]]\n",
      "The solution does not contain 5 districts.\n"
     ]
    },
    {
     "ename": "InvalidSolution",
     "evalue": "Invalid solution, verify your code.",
     "output_type": "error",
     "traceback": [
      "\u001b[1;31m---------------------------------------------------------------------------\u001b[0m",
      "\u001b[1;31mInvalidSolution\u001b[0m                           Traceback (most recent call last)",
      "Cell \u001b[1;32mIn[96], line 3\u001b[0m\n\u001b[0;32m      1\u001b[0m \u001b[38;5;28mprint\u001b[39m(resultats_initials[\u001b[38;5;124m\"\u001b[39m\u001b[38;5;124mgroupes\u001b[39m\u001b[38;5;124m\"\u001b[39m])\n\u001b[1;32m----> 3\u001b[0m resultats_am_locale \u001b[38;5;241m=\u001b[39m \u001b[43mmeasure\u001b[49m\u001b[43m(\u001b[49m\u001b[38;5;28;43;01mlambda\u001b[39;49;00m\u001b[43m \u001b[49m\u001b[43mx\u001b[49m\u001b[43m:\u001b[49m\u001b[43m \u001b[49m\u001b[43mamelioration_locale\u001b[49m\u001b[43m(\u001b[49m\u001b[43mx\u001b[49m\u001b[43m[\u001b[49m\u001b[38;5;124;43m\"\u001b[39;49m\u001b[38;5;124;43mgroupes\u001b[39;49m\u001b[38;5;124;43m\"\u001b[39;49m\u001b[43m]\u001b[49m\u001b[43m[\u001b[49m\u001b[38;5;241;43m0\u001b[39;49m\u001b[43m]\u001b[49m\u001b[43m[\u001b[49m\u001b[38;5;241;43m0\u001b[39;49m\u001b[43m]\u001b[49m\u001b[43m,\u001b[49m\u001b[43m \u001b[49m\u001b[43mx\u001b[49m\u001b[43m[\u001b[49m\u001b[38;5;124;43m\"\u001b[39;49m\u001b[38;5;124;43mtargets\u001b[39;49m\u001b[38;5;124;43m\"\u001b[39;49m\u001b[43m]\u001b[49m\u001b[43m[\u001b[49m\u001b[38;5;241;43m0\u001b[39;49m\u001b[43m]\u001b[49m\u001b[43m[\u001b[49m\u001b[38;5;241;43m0\u001b[39;49m\u001b[43m]\u001b[49m\u001b[43m,\u001b[49m\u001b[43m \u001b[49m\u001b[43mx\u001b[49m\u001b[43m[\u001b[49m\u001b[38;5;124;43m\"\u001b[39;49m\u001b[38;5;124;43mns\u001b[39;49m\u001b[38;5;124;43m\"\u001b[39;49m\u001b[43m]\u001b[49m\u001b[43m[\u001b[49m\u001b[38;5;241;43m0\u001b[39;49m\u001b[43m]\u001b[49m\u001b[43m[\u001b[49m\u001b[38;5;241;43m0\u001b[39;49m\u001b[43m]\u001b[49m\u001b[43m,\u001b[49m\u001b[43m \u001b[49m\u001b[43mx\u001b[49m\u001b[43m[\u001b[49m\u001b[38;5;124;43m\"\u001b[39;49m\u001b[38;5;124;43msamples\u001b[39;49m\u001b[38;5;124;43m\"\u001b[39;49m\u001b[43m]\u001b[49m\u001b[43m[\u001b[49m\u001b[38;5;241;43m0\u001b[39;49m\u001b[43m]\u001b[49m\u001b[43m[\u001b[49m\u001b[38;5;241;43m0\u001b[39;49m\u001b[43m]\u001b[49m\u001b[43m,\u001b[49m\u001b[43m \u001b[49m\u001b[43mx\u001b[49m\u001b[43m[\u001b[49m\u001b[38;5;124;43m\"\u001b[39;49m\u001b[38;5;124;43msolutions_initiales\u001b[39;49m\u001b[38;5;124;43m\"\u001b[39;49m\u001b[43m]\u001b[49m\u001b[43m[\u001b[49m\u001b[38;5;241;43m0\u001b[39;49m\u001b[43m]\u001b[49m\u001b[43m[\u001b[49m\u001b[38;5;241;43m0\u001b[39;49m\u001b[43m]\u001b[49m\u001b[43m)\u001b[49m\u001b[43m,\u001b[49m\u001b[43m \u001b[49m\u001b[43mresultats_initials\u001b[49m\u001b[43m)\u001b[49m\n\u001b[0;32m      5\u001b[0m display_data_as_table(resultats_graphs)\n",
      "Cell \u001b[1;32mIn[84], line 110\u001b[0m, in \u001b[0;36mmeasure\u001b[1;34m(procedure, sample, time_scale)\u001b[0m\n\u001b[0;32m    108\u001b[0m end: \u001b[38;5;28mint\u001b[39m \u001b[38;5;241m=\u001b[39m time\u001b[38;5;241m.\u001b[39mtime() \u001b[38;5;241m*\u001b[39m time_scale\n\u001b[0;32m    109\u001b[0m \u001b[38;5;28;01mif\u001b[39;00m \u001b[38;5;129;01mnot\u001b[39;00m is_valid_solution(sample, solution):\n\u001b[1;32m--> 110\u001b[0m     \u001b[38;5;28;01mraise\u001b[39;00m InvalidSolution()\n\u001b[0;32m    111\u001b[0m \u001b[38;5;28;01mreturn\u001b[39;00m (\u001b[38;5;28mround\u001b[39m(end \u001b[38;5;241m-\u001b[39m start), score_solution(sample, solution))\n",
      "\u001b[1;31mInvalidSolution\u001b[0m: Invalid solution, verify your code."
     ]
    }
   ],
   "source": [
    "print(resultats_initials[\"groupes\"])\n",
    "\n",
    "resultats_am_locale = measure(lambda x: amelioration_locale(x[\"groupes\"][0][0], x[\"targets\"][0][0], x[\"ns\"][0][0], x[\"samples\"][0][0], x[\"solutions_initiales\"][0][0]), resultats_initials)\n",
    "\n",
    "display_data_as_table(resultats_graphs)"
   ]
  },
  {
   "cell_type": "markdown",
   "metadata": {
    "id": "AB43Z14ssDna"
   },
   "source": [
    "# Analyse code carbon (2 pts)\n",
    "\n",
    "Effectuer une anlayse code carbon en sélectionnant différent pays pour l'analyse. Commenter vos résultats."
   ]
  },
  {
   "cell_type": "code",
   "execution_count": null,
   "metadata": {},
   "outputs": [],
   "source": [
    "from codecarbon import EmissionsTracker\n",
    "try:\n",
    "    tracker = EmissionsTracker(measure_power_secs=5, tracking_mode=\"process\")\n",
    "\n",
    "    tracker.start_task(\"main\")\n",
    "    # TODO Appel glouton\n",
    "    results = measure_range(main, make_problems([x for x in range(11, 61)], [5]))\n",
    "    tracker.stop_task()\n",
    "\n",
    "finally:\n",
    "    _ = tracker.stop()"
   ]
  },
  {
   "cell_type": "markdown",
   "metadata": {
    "id": "Y4Xx4XnglnII"
   },
   "source": [
    "# Conclusion (6 pts)\n",
    "\n",
    "# Étapes d'amélioration pour arriver à notre version actuelle\n",
    "Nous avons commencé par un algorithme glouton qui n'avait aucune gestion du temps et aucune amélioration après le passage initial. Cet algorithme était en theta(n³) au lieu de theta(n⁴) comme notre algorithme actuel, car nous faisions une selection  du premier élément d'un groupe de manière complètment aléatoire. De plus, lorsqu'il n'y avait pas de voisins disponibles pour choisir le prochain élément, l'élément choisi dans le groupe était aléatoire ce qui donnait de mauvais scores de distance. De plus, nous n'avions pas encore l'objet County pour nous aider à clarifier le code. Du fait, nos heuristiques de choix de prochain élément étaient très rudimentaires et inefficace. Les score pour n=100 étaient autour de 700 000.\n",
    "\n",
    "Nous avons par la suite ajouté une section d'amélioration locale. Pour choisir le groupe auquel nous voulions faire une amélioration, nous avons commencé par prendre celui qui a un nombre de vote le plus près d'une majorité et prendre le meilleur des échanges. Par contre, nous avons réalisé que certains des échanges étaient considérés comme sous optimaux et pris quand même. De plus, seulement un groupe recevait des modifications constantes jusqu'à atteindre un nombre de vote majoritaire puis un prochain. Nous avons donc changé notre algorithme pour prendre un groupe aléatoire parmis tous et vérifier que le meilleur échange améliore la situation et sinon ne pas faire d'échange. Ceci nous a permis de ne pas rester pris dans un minimum et presque toujours faire des améliorations avec chaque passage et arrêter seuelement lorsque le score obtenu est excellent.\n",
    "\n",
    "# Points forts de notre algorithme\n",
    "Notre algorithme trouve une solution initiale qui est souvent vraiment bonne et satisfaisante, même sans la mise en place d'une amélioration locale. Bref, bien que la complexité soit grande, notre passage initial donne une solution d'environ 25 000 pour n=100.\n",
    "\n",
    "L'autre force de notre algorithme est que l'amélioration locale améliore rellement le score même après une grande quantité d'améliorations. En effet, le groupe qui reçoit une amélioration est choisi aléatoirement ce qui nous permet de tout améliorer. De plus, si jamais la quantité d'amélioration maximale pour la solution actuelle est atteinte, notre algorithme va préférer ne prendre aucune action plutôt qu'une action sous optimale.\n",
    "\n",
    "# Points faibles de notre algorithme\n",
    "Notre algorithme est vraiment lent pour trouver une solution initiale. Bien que la solution soit bonne, elle demande un trop grand temps de calcul pour de grandes valeurs de n. Un autre point faible de notre algorithme est de ne pas prendre avantage du débalancement possible dans les grandeurs des groupes de County. Nous pourrions surement aller chercher des scores plus élevés avec un débalancement faible dans le nombre de County inclus par groupe.\n",
    "\n",
    "# Amélioration possibles\n",
    "Pour améliorer notre algorithme, 2 avenues sont à explorer. La première est de fournir une version encore plus rapide de solution initiale pour être correct dans des situations ou le n prend une très très grande valeur. Ainsi je crois qu'il faudrait un système de thread pour faire des interruptions pour s'assurer de ne pas dépasser les temps prévus peu import la technique utilisée. Bien sur, l'utilisation de thread serait aussi très utile pour accélérer les performances et non seulement faire un meilleur timer.\n",
    "\n",
    "La deuxième amélioration que nous aurions aimé explorer avec plus de temps est d'introduire un débalancement dans le nombre de County par groupe de vote. Ainsi, nous aurions pu réduire le score de groupes gagnés qui devient important avec des grandes valeurs par sa nature quadratique. Pour faire ce débalancement, l'algorithme d'amélioration locale pourrait avoir la capacité de prendre un County au lieu de simplement faire des échanges."
   ]
  },
  {
   "cell_type": "markdown",
   "metadata": {
    "id": "nCj6aXxQlnII"
   },
   "source": [
    " ## Autres critères (2 pts)\n",
    " Qualité du code / 1 pt\n",
    "\n",
    "Présentation générale / 1 pt\n",
    "\n",
    "- Concision\n",
    "- Qualité du français\n",
    "\n",
    "Pénalité retard\n",
    "- -2 pt / journée de retard, arrondi vers le haut. Les TPs ne sont plus acceptés après 3 jours."
   ]
  }
 ],
 "metadata": {
  "colab": {
   "provenance": []
  },
  "kernelspec": {
   "display_name": "INF8775",
   "language": "python",
   "name": "python3"
  },
  "language_info": {
   "codemirror_mode": {
    "name": "ipython",
    "version": 3
   },
   "file_extension": ".py",
   "mimetype": "text/x-python",
   "name": "python",
   "nbconvert_exporter": "python",
   "pygments_lexer": "ipython3",
   "version": "3.12.5"
  }
 },
 "nbformat": 4,
 "nbformat_minor": 0
}
